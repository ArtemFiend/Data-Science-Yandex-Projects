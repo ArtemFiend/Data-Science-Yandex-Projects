{
 "cells": [
  {
   "cell_type": "markdown",
   "metadata": {},
   "source": [
    "# Рекомендация тарифов"
   ]
  },
  {
   "cell_type": "markdown",
   "metadata": {},
   "source": [
    "В вашем распоряжении данные о поведении клиентов, которые уже перешли на эти тарифы (из проекта курса «Статистический анализ данных»). Нужно построить модель для задачи классификации, которая выберет подходящий тариф. Предобработка данных не понадобится — вы её уже сделали.\n",
    "\n",
    "Постройте модель с максимально большим значением *accuracy*. Чтобы сдать проект успешно, нужно довести долю правильных ответов по крайней мере до 0.75. Проверьте *accuracy* на тестовой выборке самостоятельно."
   ]
  },
  {
   "cell_type": "markdown",
   "metadata": {},
   "source": [
    "# Описание данных:\n",
    "Каждый объект в наборе данных — это информация о поведении одного пользователя за месяц. Известно:\n",
    "* сalls — количество звонков,\n",
    "* minutes — суммарная длительность звонков в минутах,\n",
    "* messages — количество sms-сообщений,\n",
    "* mb_used — израсходованный интернет-трафик в Мб,\n",
    "* is_ultra — каким тарифом пользовался в течение месяца («Ультра» — 1, «Смарт» — 0)."
   ]
  },
  {
   "cell_type": "markdown",
   "metadata": {},
   "source": [
    "# Шаги:\n",
    "* Открыть файл с данными и изучить его.\n",
    "* Разделить исходные данные на обучающую, валидационную и тестовую выборки.\n",
    "* Исследовать качество разных моделей, меняя гиперпараметры. Кратко написать выводы исследования.\n",
    "* Проверить качество модели на тестовой выборке.\n",
    "* Дополнительное задание: проверить модель на вменяемость."
   ]
  },
  {
   "cell_type": "markdown",
   "metadata": {},
   "source": [
    "## Откройте и изучите файл"
   ]
  },
  {
   "cell_type": "markdown",
   "metadata": {},
   "source": [
    "Для начала импортируем нужные библиотеки и функции и рассмотрим файл в общих чертах. Проверим, всё ли в порядке с данными. "
   ]
  },
  {
   "cell_type": "code",
   "execution_count": 1,
   "metadata": {},
   "outputs": [],
   "source": [
    "import pandas as pd\n",
    "import sklearn\n",
    "from sklearn.metrics import accuracy_score\n",
    "from sklearn.model_selection import train_test_split\n",
    "from sklearn.metrics import mean_squared_error\n",
    "from sklearn.tree import DecisionTreeClassifier\n",
    "from sklearn.ensemble import RandomForestClassifier\n",
    "from sklearn.linear_model import LogisticRegression"
   ]
  },
  {
   "cell_type": "code",
   "execution_count": 2,
   "metadata": {},
   "outputs": [],
   "source": [
    "df = pd.read_csv('/datasets/users_behavior.csv')"
   ]
  },
  {
   "cell_type": "code",
   "execution_count": 3,
   "metadata": {},
   "outputs": [
    {
     "name": "stdout",
     "output_type": "stream",
     "text": [
      "<class 'pandas.core.frame.DataFrame'>\n",
      "RangeIndex: 3214 entries, 0 to 3213\n",
      "Data columns (total 5 columns):\n",
      " #   Column    Non-Null Count  Dtype  \n",
      "---  ------    --------------  -----  \n",
      " 0   calls     3214 non-null   float64\n",
      " 1   minutes   3214 non-null   float64\n",
      " 2   messages  3214 non-null   float64\n",
      " 3   mb_used   3214 non-null   float64\n",
      " 4   is_ultra  3214 non-null   int64  \n",
      "dtypes: float64(4), int64(1)\n",
      "memory usage: 125.7 KB\n"
     ]
    }
   ],
   "source": [
    "df.info()"
   ]
  },
  {
   "cell_type": "code",
   "execution_count": 4,
   "metadata": {},
   "outputs": [
    {
     "data": {
      "text/html": [
       "<div>\n",
       "<style scoped>\n",
       "    .dataframe tbody tr th:only-of-type {\n",
       "        vertical-align: middle;\n",
       "    }\n",
       "\n",
       "    .dataframe tbody tr th {\n",
       "        vertical-align: top;\n",
       "    }\n",
       "\n",
       "    .dataframe thead th {\n",
       "        text-align: right;\n",
       "    }\n",
       "</style>\n",
       "<table border=\"1\" class=\"dataframe\">\n",
       "  <thead>\n",
       "    <tr style=\"text-align: right;\">\n",
       "      <th></th>\n",
       "      <th>calls</th>\n",
       "      <th>minutes</th>\n",
       "      <th>messages</th>\n",
       "      <th>mb_used</th>\n",
       "      <th>is_ultra</th>\n",
       "    </tr>\n",
       "  </thead>\n",
       "  <tbody>\n",
       "    <tr>\n",
       "      <th>count</th>\n",
       "      <td>3214.000000</td>\n",
       "      <td>3214.000000</td>\n",
       "      <td>3214.000000</td>\n",
       "      <td>3214.000000</td>\n",
       "      <td>3214.000000</td>\n",
       "    </tr>\n",
       "    <tr>\n",
       "      <th>mean</th>\n",
       "      <td>63.038892</td>\n",
       "      <td>438.208787</td>\n",
       "      <td>38.281269</td>\n",
       "      <td>17207.673836</td>\n",
       "      <td>0.306472</td>\n",
       "    </tr>\n",
       "    <tr>\n",
       "      <th>std</th>\n",
       "      <td>33.236368</td>\n",
       "      <td>234.569872</td>\n",
       "      <td>36.148326</td>\n",
       "      <td>7570.968246</td>\n",
       "      <td>0.461100</td>\n",
       "    </tr>\n",
       "    <tr>\n",
       "      <th>min</th>\n",
       "      <td>0.000000</td>\n",
       "      <td>0.000000</td>\n",
       "      <td>0.000000</td>\n",
       "      <td>0.000000</td>\n",
       "      <td>0.000000</td>\n",
       "    </tr>\n",
       "    <tr>\n",
       "      <th>25%</th>\n",
       "      <td>40.000000</td>\n",
       "      <td>274.575000</td>\n",
       "      <td>9.000000</td>\n",
       "      <td>12491.902500</td>\n",
       "      <td>0.000000</td>\n",
       "    </tr>\n",
       "    <tr>\n",
       "      <th>50%</th>\n",
       "      <td>62.000000</td>\n",
       "      <td>430.600000</td>\n",
       "      <td>30.000000</td>\n",
       "      <td>16943.235000</td>\n",
       "      <td>0.000000</td>\n",
       "    </tr>\n",
       "    <tr>\n",
       "      <th>75%</th>\n",
       "      <td>82.000000</td>\n",
       "      <td>571.927500</td>\n",
       "      <td>57.000000</td>\n",
       "      <td>21424.700000</td>\n",
       "      <td>1.000000</td>\n",
       "    </tr>\n",
       "    <tr>\n",
       "      <th>max</th>\n",
       "      <td>244.000000</td>\n",
       "      <td>1632.060000</td>\n",
       "      <td>224.000000</td>\n",
       "      <td>49745.730000</td>\n",
       "      <td>1.000000</td>\n",
       "    </tr>\n",
       "  </tbody>\n",
       "</table>\n",
       "</div>"
      ],
      "text/plain": [
       "             calls      minutes     messages       mb_used     is_ultra\n",
       "count  3214.000000  3214.000000  3214.000000   3214.000000  3214.000000\n",
       "mean     63.038892   438.208787    38.281269  17207.673836     0.306472\n",
       "std      33.236368   234.569872    36.148326   7570.968246     0.461100\n",
       "min       0.000000     0.000000     0.000000      0.000000     0.000000\n",
       "25%      40.000000   274.575000     9.000000  12491.902500     0.000000\n",
       "50%      62.000000   430.600000    30.000000  16943.235000     0.000000\n",
       "75%      82.000000   571.927500    57.000000  21424.700000     1.000000\n",
       "max     244.000000  1632.060000   224.000000  49745.730000     1.000000"
      ]
     },
     "execution_count": 4,
     "metadata": {},
     "output_type": "execute_result"
    }
   ],
   "source": [
    "df.describe()"
   ]
  },
  {
   "cell_type": "code",
   "execution_count": 5,
   "metadata": {},
   "outputs": [
    {
     "data": {
      "text/plain": [
       "calls       0\n",
       "minutes     0\n",
       "messages    0\n",
       "mb_used     0\n",
       "is_ultra    0\n",
       "dtype: int64"
      ]
     },
     "execution_count": 5,
     "metadata": {},
     "output_type": "execute_result"
    }
   ],
   "source": [
    "df.isna().sum()"
   ]
  },
  {
   "cell_type": "markdown",
   "metadata": {},
   "source": [
    "Пропусков нет, форматы данных корректны, идём дальше. "
   ]
  },
  {
   "cell_type": "markdown",
   "metadata": {},
   "source": [
    "## Разбейте данные на выборки"
   ]
  },
  {
   "cell_type": "markdown",
   "metadata": {},
   "source": [
    "Разобьём данные на 3 выборки: обучающую, валидационную и тестовую. "
   ]
  },
  {
   "cell_type": "code",
   "execution_count": 6,
   "metadata": {},
   "outputs": [],
   "source": [
    "features = df.drop('is_ultra', axis=1)\n",
    "target = df['is_ultra']"
   ]
  },
  {
   "cell_type": "code",
   "execution_count": 7,
   "metadata": {},
   "outputs": [],
   "source": [
    "df_train, df_valid = train_test_split(df, test_size=0.4, random_state=12345)\n",
    "df_valid, df_test = train_test_split(df_valid,test_size = 0.5, \n",
    "                                     random_state=12345)"
   ]
  },
  {
   "cell_type": "markdown",
   "metadata": {},
   "source": [
    "<div style=\"background: #B0E0E6; padding: 5px; border: 1px solid SteelBlue; border-radius: 5px;\">\n",
    "<font color='4682B4'>\n",
    "Соотношение обучающей, тестовой и валидационной выборок составляет 3:1:1.\n",
    " Обучающая(60%) и валидационная(40%) выборки образуются в результате деления общей, далее валидационная ещё делится на 2, и в итоге получаются 3 выборки:\n",
    "    обучающая(60%), валидационная(20%) и тестовая(20%).</font>\n",
    "</div>"
   ]
  },
  {
   "cell_type": "code",
   "execution_count": 8,
   "metadata": {},
   "outputs": [
    {
     "name": "stdout",
     "output_type": "stream",
     "text": [
      "Размер обучающей выборки: 1928 объектов\n",
      "Размер валидационной выборки: 643 объекта\n",
      "Размер тестовой выборки: 643 объекта\n"
     ]
    }
   ],
   "source": [
    "print('Размер обучающей выборки:', df_train.shape[0],'объектов')\n",
    "print('Размер валидационной выборки:', df_valid.shape[0],'объекта')\n",
    "print('Размер тестовой выборки:',df_test.shape[0],'объекта')"
   ]
  },
  {
   "cell_type": "code",
   "execution_count": 9,
   "metadata": {},
   "outputs": [],
   "source": [
    "# Набор данных обучающей выборки:\n",
    "features_train = df_train.drop('is_ultra', axis=1)\n",
    "target_train = df_train['is_ultra']\n",
    "# Набор данных тестовой выборки:\n",
    "features_test = df_test.drop('is_ultra', axis=1)\n",
    "target_test = df_test['is_ultra']\n",
    "# Набор данных валидационной выборки:\n",
    "features_valid = df_valid.drop('is_ultra', axis=1)\n",
    "target_valid = df_valid['is_ultra']"
   ]
  },
  {
   "cell_type": "markdown",
   "metadata": {},
   "source": [
    "## Исследуйте модели"
   ]
  },
  {
   "cell_type": "code",
   "execution_count": 10,
   "metadata": {},
   "outputs": [],
   "source": [
    "names = []\n",
    "results = []"
   ]
  },
  {
   "cell_type": "markdown",
   "metadata": {},
   "source": [
    "Обучим модель 'Дерево Решений' и найдём лучшую глубину"
   ]
  },
  {
   "cell_type": "code",
   "execution_count": 11,
   "metadata": {},
   "outputs": [
    {
     "name": "stdout",
     "output_type": "stream",
     "text": [
      "глубина: 3, результат: 0.7853810264385692\n"
     ]
    }
   ],
   "source": [
    "best_result = 0\n",
    "best_depth = 0\n",
    "best_model = None\n",
    "for depth in range(1,11):\n",
    "    model = DecisionTreeClassifier(random_state=12345, max_depth=depth)\n",
    "    model.fit(features_train, target_train)\n",
    "    predictions = model.predict(features_valid)\n",
    "    result = model.score(features_valid, target_valid)\n",
    "    if result > best_result:\n",
    "        best_depth = depth\n",
    "        best_model = model\n",
    "        best_result = result\n",
    "print(f'глубина: {best_depth}, результат: {best_result}')\n",
    "names.append('DecisionTreeClassifier')\n",
    "results.append(best_result)"
   ]
  },
  {
   "cell_type": "markdown",
   "metadata": {},
   "source": [
    "Обучим модель 'Cлучайный лес' и найдём лучшее количество деревьев и глубину."
   ]
  },
  {
   "cell_type": "code",
   "execution_count": 12,
   "metadata": {},
   "outputs": [
    {
     "name": "stdout",
     "output_type": "stream",
     "text": [
      "количество деревьев: 26, глубина: 7,результат: 0.807153965785381\n"
     ]
    }
   ],
   "source": [
    "for est in range(15,35):\n",
    "    for depth in range(1,15):\n",
    "        model = RandomForestClassifier(random_state=12345, max_depth=depth, \n",
    "                                       n_estimators=est)\n",
    "        model.fit(features_train, target_train)\n",
    "        predictions = model.predict(features_valid)\n",
    "        result = model.score(features_valid, target_valid)\n",
    "        if result > best_result:\n",
    "            best_depth = depth\n",
    "            best_model = model\n",
    "            best_result = result\n",
    "            best_est = est\n",
    "print(f'количество деревьев: {best_est}, глубина: {best_depth},\\\n",
    "результат: {best_result}')\n",
    "names.append('RandomForestClassifier')\n",
    "results.append(best_result)"
   ]
  },
  {
   "cell_type": "markdown",
   "metadata": {},
   "source": [
    "Обучим модель 'Логистическая регрессия'"
   ]
  },
  {
   "cell_type": "code",
   "execution_count": 13,
   "metadata": {},
   "outputs": [
    {
     "name": "stdout",
     "output_type": "stream",
     "text": [
      "0.7107309486780715\n"
     ]
    }
   ],
   "source": [
    "model = LogisticRegression(random_state=12345)\n",
    "model.fit(features_train, target_train)\n",
    "predictions = model.predict(features_valid)\n",
    "result = model.score(features_valid, target_valid)\n",
    "print(result)\n",
    "names.append('LogisticRegression')\n",
    "results.append(result)"
   ]
  },
  {
   "cell_type": "code",
   "execution_count": 14,
   "metadata": {},
   "outputs": [
    {
     "data": {
      "text/html": [
       "<div>\n",
       "<style scoped>\n",
       "    .dataframe tbody tr th:only-of-type {\n",
       "        vertical-align: middle;\n",
       "    }\n",
       "\n",
       "    .dataframe tbody tr th {\n",
       "        vertical-align: top;\n",
       "    }\n",
       "\n",
       "    .dataframe thead th {\n",
       "        text-align: right;\n",
       "    }\n",
       "</style>\n",
       "<table border=\"1\" class=\"dataframe\">\n",
       "  <thead>\n",
       "    <tr style=\"text-align: right;\">\n",
       "      <th></th>\n",
       "      <th>0</th>\n",
       "    </tr>\n",
       "  </thead>\n",
       "  <tbody>\n",
       "    <tr>\n",
       "      <th>DecisionTreeClassifier</th>\n",
       "      <td>0.785381</td>\n",
       "    </tr>\n",
       "    <tr>\n",
       "      <th>RandomForestClassifier</th>\n",
       "      <td>0.807154</td>\n",
       "    </tr>\n",
       "    <tr>\n",
       "      <th>LogisticRegression</th>\n",
       "      <td>0.710731</td>\n",
       "    </tr>\n",
       "  </tbody>\n",
       "</table>\n",
       "</div>"
      ],
      "text/plain": [
       "                               0\n",
       "DecisionTreeClassifier  0.785381\n",
       "RandomForestClassifier  0.807154\n",
       "LogisticRegression      0.710731"
      ]
     },
     "execution_count": 14,
     "metadata": {},
     "output_type": "execute_result"
    }
   ],
   "source": [
    "pd.DataFrame(results, names)"
   ]
  },
  {
   "cell_type": "markdown",
   "metadata": {},
   "source": [
    "* Точность модели 'Случайный лес' при 26 деревьях и глубиной 7 - 0.8. Именно её мы и проверим на тестовой выборке. \n",
    "* За ней идёт модель 'Дерево решений' с глубиной 3 - 0.785\n",
    "* На последнем месте располагается модель 'Логистическая регрессия' - 0.71"
   ]
  },
  {
   "cell_type": "markdown",
   "metadata": {},
   "source": [
    "## Проверьте модель на тестовой выборке"
   ]
  },
  {
   "cell_type": "markdown",
   "metadata": {},
   "source": [
    "Проверим модель 'Случайный лес' на тестовой выборке при 26 деревьях и глубине 7"
   ]
  },
  {
   "cell_type": "code",
   "execution_count": 15,
   "metadata": {},
   "outputs": [
    {
     "name": "stdout",
     "output_type": "stream",
     "text": [
      "Accuracy: 0.80248833592535\n"
     ]
    }
   ],
   "source": [
    "model = RandomForestClassifier(random_state=12345, max_depth=7, n_estimators=26)\n",
    "model.fit(features_train, target_train)\n",
    "predictions = model.predict(features_test)\n",
    "score = accuracy_score(target_test, predictions)\n",
    "print('Accuracy:', score)"
   ]
  },
  {
   "cell_type": "markdown",
   "metadata": {},
   "source": [
    "Модель показала accuracy = 0.8, что больше 0.75"
   ]
  },
  {
   "cell_type": "markdown",
   "metadata": {},
   "source": [
    "## (бонус) Проверьте модели на адекватность"
   ]
  },
  {
   "cell_type": "markdown",
   "metadata": {},
   "source": [
    "Чтобы проверить нашу модель на адекватность, посмотрим не предсказывает ли она только 0 или 1. Для этого взглянем на доли двух тарифов."
   ]
  },
  {
   "cell_type": "code",
   "execution_count": 16,
   "metadata": {},
   "outputs": [
    {
     "data": {
      "text/plain": [
       "0    0.693528\n",
       "1    0.306472\n",
       "Name: is_ultra, dtype: float64"
      ]
     },
     "execution_count": 16,
     "metadata": {},
     "output_type": "execute_result"
    }
   ],
   "source": [
    "df['is_ultra'].value_counts(normalize=True)"
   ]
  },
  {
   "cell_type": "markdown",
   "metadata": {},
   "source": [
    "Проверка модели на адекватность пройдена. "
   ]
  },
  {
   "cell_type": "markdown",
   "metadata": {},
   "source": [
    "## Чек-лист готовности проекта"
   ]
  },
  {
   "cell_type": "markdown",
   "metadata": {},
   "source": [
    "Поставьте 'x' в выполненных пунктах. Далее нажмите Shift+Enter."
   ]
  },
  {
   "cell_type": "markdown",
   "metadata": {},
   "source": [
    "- [x] Jupyter Notebook открыт\n",
    "- [x] Весь код исполняется без ошибок\n",
    "- [x] Ячейки с кодом расположены в порядке исполнения\n",
    "- [x] Выполнено задание 1: данные загружены и изучены\n",
    "- [x] Выполнено задание 2: данные разбиты на три выборки\n",
    "- [x] Выполнено задание 3: проведено исследование моделей\n",
    "    - [x] Рассмотрено больше одной модели\n",
    "    - [x] Рассмотрено хотя бы 3 значения гипепараметров для какой-нибудь модели\n",
    "    - [x] Написаны выводы по результатам исследования\n",
    "- [x] Выполнено задание 3: Проведено тестирование\n",
    "- [x] Удалось достичь accuracy не меньше 0.75\n"
   ]
  },
  {
   "cell_type": "markdown",
   "metadata": {},
   "source": [
    "# Общий вывод:\n",
    "* Наша модель с вероятностью 80% подобирает подходящий тарифный план.\n",
    "* Наилучшей оказалась модель 'Случайный лес', которая показала точность тестовой модели = 0.8, а так же прошла проверку на вменяемость.\n",
    "* Точность модели 'Случайный лес' при 26 деревьях и глубиной 7 - 0.8. Именно её мы и проверили на тестовой выборке. \n",
    "* За ней идёт модель 'Дерево решений' с глубиной 3 - 0.785\n",
    "* На последнем месте располагается модель 'Логистическая регрессия' - 0.71"
   ]
  }
 ],
 "metadata": {
  "ExecuteTimeLog": [
   {
    "duration": 1089,
    "start_time": "2023-03-12T14:22:55.868Z"
   },
   {
    "duration": 118,
    "start_time": "2023-03-12T14:23:24.341Z"
   },
   {
    "duration": 4,
    "start_time": "2023-03-12T14:28:59.573Z"
   },
   {
    "duration": 28,
    "start_time": "2023-03-12T14:31:40.704Z"
   },
   {
    "duration": 4,
    "start_time": "2023-03-12T14:31:43.610Z"
   },
   {
    "duration": 5,
    "start_time": "2023-03-12T14:31:44.104Z"
   },
   {
    "duration": 4,
    "start_time": "2023-03-12T14:54:23.657Z"
   },
   {
    "duration": 5,
    "start_time": "2023-03-12T15:03:22.576Z"
   },
   {
    "duration": 5,
    "start_time": "2023-03-12T15:03:22.743Z"
   },
   {
    "duration": 5,
    "start_time": "2023-03-12T15:03:23.123Z"
   },
   {
    "duration": 8,
    "start_time": "2023-03-12T15:03:23.664Z"
   },
   {
    "duration": 7,
    "start_time": "2023-03-12T15:06:26.493Z"
   },
   {
    "duration": 7,
    "start_time": "2023-03-12T15:06:26.979Z"
   },
   {
    "duration": 4,
    "start_time": "2023-03-12T15:09:48.182Z"
   },
   {
    "duration": 67,
    "start_time": "2023-03-12T15:09:52.306Z"
   },
   {
    "duration": 77,
    "start_time": "2023-03-12T15:09:56.515Z"
   },
   {
    "duration": 76,
    "start_time": "2023-03-12T15:10:02.317Z"
   },
   {
    "duration": 127,
    "start_time": "2023-03-12T15:12:44.727Z"
   },
   {
    "duration": 141,
    "start_time": "2023-03-12T15:13:14.508Z"
   },
   {
    "duration": 128,
    "start_time": "2023-03-12T15:13:29.885Z"
   },
   {
    "duration": 126,
    "start_time": "2023-03-12T15:13:31.758Z"
   },
   {
    "duration": 9,
    "start_time": "2023-03-12T15:13:37.178Z"
   },
   {
    "duration": 9,
    "start_time": "2023-03-12T15:14:27.973Z"
   },
   {
    "duration": 94,
    "start_time": "2023-03-12T15:14:34.267Z"
   },
   {
    "duration": 81,
    "start_time": "2023-03-12T15:16:13.597Z"
   },
   {
    "duration": 90,
    "start_time": "2023-03-12T15:16:16.010Z"
   },
   {
    "duration": 82,
    "start_time": "2023-03-12T15:16:19.746Z"
   },
   {
    "duration": 90,
    "start_time": "2023-03-12T15:16:22.676Z"
   },
   {
    "duration": 83,
    "start_time": "2023-03-12T15:16:25.643Z"
   },
   {
    "duration": 84,
    "start_time": "2023-03-12T15:16:28.869Z"
   },
   {
    "duration": 9,
    "start_time": "2023-03-12T15:19:10.402Z"
   },
   {
    "duration": 10,
    "start_time": "2023-03-12T15:19:48.232Z"
   },
   {
    "duration": 5,
    "start_time": "2023-03-12T15:20:06.583Z"
   },
   {
    "duration": 28,
    "start_time": "2023-03-12T15:20:07.171Z"
   },
   {
    "duration": 21,
    "start_time": "2023-03-12T15:20:07.331Z"
   },
   {
    "duration": 4,
    "start_time": "2023-03-12T15:20:07.861Z"
   },
   {
    "duration": 5,
    "start_time": "2023-03-12T15:20:08.172Z"
   },
   {
    "duration": 6,
    "start_time": "2023-03-12T15:20:08.439Z"
   },
   {
    "duration": 83,
    "start_time": "2023-03-12T15:20:09.333Z"
   },
   {
    "duration": 9,
    "start_time": "2023-03-12T15:20:10.311Z"
   },
   {
    "duration": 9,
    "start_time": "2023-03-12T15:20:15.798Z"
   },
   {
    "duration": 3546,
    "start_time": "2023-03-12T15:20:19.103Z"
   },
   {
    "duration": 3538,
    "start_time": "2023-03-12T15:20:34.177Z"
   },
   {
    "duration": 13,
    "start_time": "2023-03-12T15:22:44.190Z"
   },
   {
    "duration": 22,
    "start_time": "2023-03-12T15:22:54.072Z"
   },
   {
    "duration": 19278,
    "start_time": "2023-03-12T15:23:03.115Z"
   },
   {
    "duration": 17077,
    "start_time": "2023-03-12T15:23:27.638Z"
   },
   {
    "duration": 16937,
    "start_time": "2023-03-12T15:24:53.943Z"
   },
   {
    "duration": 3,
    "start_time": "2023-03-12T15:26:14.425Z"
   },
   {
    "duration": 9,
    "start_time": "2023-03-12T15:29:29.495Z"
   },
   {
    "duration": 278,
    "start_time": "2023-03-12T15:29:35.456Z"
   },
   {
    "duration": 380,
    "start_time": "2023-03-12T15:30:08.154Z"
   },
   {
    "duration": 3,
    "start_time": "2023-03-12T15:31:37.961Z"
   },
   {
    "duration": 27,
    "start_time": "2023-03-12T15:31:39.223Z"
   },
   {
    "duration": 23,
    "start_time": "2023-03-12T15:31:39.431Z"
   },
   {
    "duration": 3,
    "start_time": "2023-03-12T15:31:40.284Z"
   },
   {
    "duration": 6,
    "start_time": "2023-03-12T15:31:40.485Z"
   },
   {
    "duration": 5,
    "start_time": "2023-03-12T15:31:40.667Z"
   },
   {
    "duration": 92,
    "start_time": "2023-03-12T15:31:41.045Z"
   },
   {
    "duration": 17350,
    "start_time": "2023-03-12T15:31:41.410Z"
   },
   {
    "duration": 181,
    "start_time": "2023-03-12T15:31:58.762Z"
   },
   {
    "duration": 3,
    "start_time": "2023-03-12T15:32:57.046Z"
   },
   {
    "duration": 77,
    "start_time": "2023-03-12T15:34:06.166Z"
   },
   {
    "duration": 17156,
    "start_time": "2023-03-12T15:34:15.867Z"
   },
   {
    "duration": 21982,
    "start_time": "2023-03-12T15:34:51.794Z"
   },
   {
    "duration": 2,
    "start_time": "2023-03-12T15:35:13.778Z"
   },
   {
    "duration": 87,
    "start_time": "2023-03-12T15:35:16.741Z"
   },
   {
    "duration": 22229,
    "start_time": "2023-03-12T15:35:21.725Z"
   },
   {
    "duration": 177,
    "start_time": "2023-03-12T15:35:43.956Z"
   },
   {
    "duration": 12,
    "start_time": "2023-03-12T15:37:20.973Z"
   },
   {
    "duration": 9,
    "start_time": "2023-03-12T15:38:24.307Z"
   },
   {
    "duration": 8,
    "start_time": "2023-03-12T15:39:19.120Z"
   },
   {
    "duration": 1285,
    "start_time": "2023-03-12T17:24:10.030Z"
   },
   {
    "duration": 132,
    "start_time": "2023-03-12T17:24:14.146Z"
   },
   {
    "duration": 46,
    "start_time": "2023-03-12T17:24:14.909Z"
   },
   {
    "duration": 4,
    "start_time": "2023-03-12T17:24:15.493Z"
   },
   {
    "duration": 7,
    "start_time": "2023-03-12T17:24:15.594Z"
   },
   {
    "duration": 7,
    "start_time": "2023-03-12T17:24:15.650Z"
   },
   {
    "duration": 3,
    "start_time": "2023-03-12T17:24:15.816Z"
   },
   {
    "duration": 96,
    "start_time": "2023-03-12T17:24:15.900Z"
   },
   {
    "duration": 26297,
    "start_time": "2023-03-12T17:24:15.999Z"
   },
   {
    "duration": 274,
    "start_time": "2023-03-12T17:24:42.298Z"
   },
   {
    "duration": 211,
    "start_time": "2023-03-12T17:24:42.575Z"
   },
   {
    "duration": 12,
    "start_time": "2023-03-12T17:26:12.207Z"
   },
   {
    "duration": 7,
    "start_time": "2023-03-12T17:26:17.954Z"
   },
   {
    "duration": 8,
    "start_time": "2023-03-12T17:26:29.793Z"
   },
   {
    "duration": 9,
    "start_time": "2023-03-12T17:26:40.313Z"
   },
   {
    "duration": 104,
    "start_time": "2023-03-12T17:30:15.509Z"
   },
   {
    "duration": 9,
    "start_time": "2023-03-12T17:32:45.211Z"
   },
   {
    "duration": 15,
    "start_time": "2023-03-12T17:35:26.301Z"
   },
   {
    "duration": 8,
    "start_time": "2023-03-12T17:37:04.527Z"
   },
   {
    "duration": 3,
    "start_time": "2023-03-12T17:38:46.400Z"
   },
   {
    "duration": 4,
    "start_time": "2023-03-12T17:39:09.621Z"
   },
   {
    "duration": 8,
    "start_time": "2023-03-12T17:40:00.554Z"
   },
   {
    "duration": 7,
    "start_time": "2023-03-12T17:40:00.742Z"
   },
   {
    "duration": 5,
    "start_time": "2023-03-12T17:40:01.323Z"
   },
   {
    "duration": 7,
    "start_time": "2023-03-12T17:40:08.099Z"
   },
   {
    "duration": 8,
    "start_time": "2023-03-12T17:40:08.299Z"
   },
   {
    "duration": 6,
    "start_time": "2023-03-12T17:40:08.436Z"
   },
   {
    "duration": 7,
    "start_time": "2023-03-12T17:41:26.756Z"
   },
   {
    "duration": 6,
    "start_time": "2023-03-12T17:41:26.902Z"
   },
   {
    "duration": 6,
    "start_time": "2023-03-12T17:41:27.303Z"
   },
   {
    "duration": 6,
    "start_time": "2023-03-12T17:41:35.546Z"
   },
   {
    "duration": 7,
    "start_time": "2023-03-12T17:41:35.698Z"
   },
   {
    "duration": 6,
    "start_time": "2023-03-12T17:41:35.886Z"
   },
   {
    "duration": 3,
    "start_time": "2023-03-12T17:58:40.895Z"
   },
   {
    "duration": 30,
    "start_time": "2023-03-12T17:58:41.909Z"
   },
   {
    "duration": 13,
    "start_time": "2023-03-12T17:58:42.484Z"
   },
   {
    "duration": 26,
    "start_time": "2023-03-12T17:58:43.535Z"
   },
   {
    "duration": 7,
    "start_time": "2023-03-12T17:58:44.305Z"
   },
   {
    "duration": 6,
    "start_time": "2023-03-12T17:58:48.208Z"
   },
   {
    "duration": 8,
    "start_time": "2023-03-12T17:58:48.806Z"
   },
   {
    "duration": 7,
    "start_time": "2023-03-12T17:58:49.688Z"
   },
   {
    "duration": 3,
    "start_time": "2023-03-12T17:58:50.847Z"
   },
   {
    "duration": 106,
    "start_time": "2023-03-12T17:58:51.700Z"
   },
   {
    "duration": 28150,
    "start_time": "2023-03-12T17:58:52.798Z"
   },
   {
    "duration": 1025,
    "start_time": "2023-03-12T17:59:20.950Z"
   },
   {
    "duration": 7,
    "start_time": "2023-03-12T17:59:25.133Z"
   },
   {
    "duration": 139,
    "start_time": "2023-03-12T17:59:39.094Z"
   },
   {
    "duration": 7,
    "start_time": "2023-03-12T17:59:41.608Z"
   },
   {
    "duration": 19,
    "start_time": "2023-03-12T18:06:39.491Z"
   },
   {
    "duration": 85,
    "start_time": "2023-03-12T18:06:53.145Z"
   },
   {
    "duration": 7,
    "start_time": "2023-03-12T18:07:46.367Z"
   },
   {
    "duration": 3,
    "start_time": "2023-03-12T18:07:51.543Z"
   },
   {
    "duration": 30,
    "start_time": "2023-03-12T18:07:51.771Z"
   },
   {
    "duration": 13,
    "start_time": "2023-03-12T18:07:51.951Z"
   },
   {
    "duration": 25,
    "start_time": "2023-03-12T18:07:52.442Z"
   },
   {
    "duration": 7,
    "start_time": "2023-03-12T18:07:52.916Z"
   },
   {
    "duration": 4,
    "start_time": "2023-03-12T18:07:54.719Z"
   },
   {
    "duration": 6,
    "start_time": "2023-03-12T18:07:56.167Z"
   },
   {
    "duration": 6,
    "start_time": "2023-03-12T18:07:58.639Z"
   },
   {
    "duration": 3,
    "start_time": "2023-03-12T18:08:00.439Z"
   },
   {
    "duration": 105,
    "start_time": "2023-03-12T18:08:01.752Z"
   },
   {
    "duration": 30168,
    "start_time": "2023-03-12T18:08:09.637Z"
   },
   {
    "duration": 3,
    "start_time": "2023-03-12T18:10:06.704Z"
   },
   {
    "duration": 31,
    "start_time": "2023-03-12T18:10:06.887Z"
   },
   {
    "duration": 13,
    "start_time": "2023-03-12T18:10:07.297Z"
   },
   {
    "duration": 25,
    "start_time": "2023-03-12T18:10:07.529Z"
   },
   {
    "duration": 7,
    "start_time": "2023-03-12T18:10:08.020Z"
   },
   {
    "duration": 4,
    "start_time": "2023-03-12T18:10:09.650Z"
   },
   {
    "duration": 7,
    "start_time": "2023-03-12T18:10:14.014Z"
   },
   {
    "duration": 11,
    "start_time": "2023-03-12T18:10:18.282Z"
   },
   {
    "duration": 2,
    "start_time": "2023-03-12T18:10:19.322Z"
   },
   {
    "duration": 100,
    "start_time": "2023-03-12T18:10:21.782Z"
   },
   {
    "duration": 28406,
    "start_time": "2023-03-12T18:10:23.592Z"
   },
   {
    "duration": 1286,
    "start_time": "2023-03-12T18:10:52.000Z"
   },
   {
    "duration": 91,
    "start_time": "2023-03-12T18:10:53.289Z"
   },
   {
    "duration": 80,
    "start_time": "2023-03-12T18:11:03.424Z"
   },
   {
    "duration": 6,
    "start_time": "2023-03-12T18:11:06.119Z"
   },
   {
    "duration": 2437,
    "start_time": "2023-03-12T18:36:34.919Z"
   },
   {
    "duration": 76,
    "start_time": "2023-03-12T18:36:37.358Z"
   },
   {
    "duration": 46,
    "start_time": "2023-03-12T18:36:37.437Z"
   },
   {
    "duration": 33,
    "start_time": "2023-03-12T18:36:37.485Z"
   },
   {
    "duration": 20,
    "start_time": "2023-03-12T18:36:37.522Z"
   },
   {
    "duration": 8,
    "start_time": "2023-03-12T18:36:37.544Z"
   },
   {
    "duration": 13,
    "start_time": "2023-03-12T18:36:37.555Z"
   },
   {
    "duration": 29,
    "start_time": "2023-03-12T18:36:37.571Z"
   },
   {
    "duration": 28,
    "start_time": "2023-03-12T18:36:37.602Z"
   },
   {
    "duration": 128,
    "start_time": "2023-03-12T18:36:37.633Z"
   },
   {
    "duration": 26753,
    "start_time": "2023-03-12T18:36:37.763Z"
   },
   {
    "duration": 506,
    "start_time": "2023-03-12T18:37:04.524Z"
   },
   {
    "duration": 18,
    "start_time": "2023-03-12T18:37:05.037Z"
   },
   {
    "duration": 113,
    "start_time": "2023-03-12T18:37:05.127Z"
   },
   {
    "duration": 11,
    "start_time": "2023-03-12T18:37:05.242Z"
   },
   {
    "duration": 4,
    "start_time": "2023-03-12T18:52:40.475Z"
   },
   {
    "duration": 28,
    "start_time": "2023-03-12T18:52:41.194Z"
   },
   {
    "duration": 11,
    "start_time": "2023-03-12T18:52:41.509Z"
   },
   {
    "duration": 24,
    "start_time": "2023-03-12T18:52:41.670Z"
   },
   {
    "duration": 7,
    "start_time": "2023-03-12T18:52:42.105Z"
   },
   {
    "duration": 5,
    "start_time": "2023-03-12T18:52:44.589Z"
   },
   {
    "duration": 9,
    "start_time": "2023-03-12T18:52:44.912Z"
   },
   {
    "duration": 6,
    "start_time": "2023-03-12T18:52:46.742Z"
   },
   {
    "duration": 2,
    "start_time": "2023-03-12T18:52:48.205Z"
   },
   {
    "duration": 97,
    "start_time": "2023-03-12T18:52:48.801Z"
   },
   {
    "duration": 26671,
    "start_time": "2023-03-12T18:52:54.075Z"
   },
   {
    "duration": 1518,
    "start_time": "2023-03-12T18:54:00.971Z"
   },
   {
    "duration": 13,
    "start_time": "2023-03-12T18:54:05.777Z"
   },
   {
    "duration": 85,
    "start_time": "2023-03-12T18:54:10.206Z"
   },
   {
    "duration": 18,
    "start_time": "2023-03-12T19:07:29.691Z"
   },
   {
    "duration": 10,
    "start_time": "2023-03-12T19:07:47.977Z"
   },
   {
    "duration": 18,
    "start_time": "2023-03-12T19:07:56.714Z"
   },
   {
    "duration": 9,
    "start_time": "2023-03-12T19:08:00.308Z"
   },
   {
    "duration": 19,
    "start_time": "2023-03-12T19:08:28.083Z"
   },
   {
    "duration": 28,
    "start_time": "2023-03-12T19:08:51.176Z"
   },
   {
    "duration": 17,
    "start_time": "2023-03-12T19:08:59.093Z"
   },
   {
    "duration": 17,
    "start_time": "2023-03-12T19:09:35.047Z"
   },
   {
    "duration": 9,
    "start_time": "2023-03-12T19:09:52.001Z"
   },
   {
    "duration": 16,
    "start_time": "2023-03-12T19:11:14.428Z"
   },
   {
    "duration": 19,
    "start_time": "2023-03-12T19:12:02.329Z"
   },
   {
    "duration": 19,
    "start_time": "2023-03-12T19:12:27.386Z"
   },
   {
    "duration": 5,
    "start_time": "2023-03-12T19:12:32.147Z"
   },
   {
    "duration": 18,
    "start_time": "2023-03-12T19:12:32.587Z"
   },
   {
    "duration": 16,
    "start_time": "2023-03-12T19:12:46.052Z"
   },
   {
    "duration": 8,
    "start_time": "2023-03-12T19:13:27.119Z"
   },
   {
    "duration": 21,
    "start_time": "2023-03-12T19:13:30.383Z"
   },
   {
    "duration": 10,
    "start_time": "2023-03-12T19:19:38.874Z"
   },
   {
    "duration": 10,
    "start_time": "2023-03-12T19:19:58.873Z"
   },
   {
    "duration": 18,
    "start_time": "2023-03-12T19:20:02.268Z"
   },
   {
    "duration": 6,
    "start_time": "2023-03-12T19:20:42.594Z"
   },
   {
    "duration": 3,
    "start_time": "2023-03-12T19:20:51.799Z"
   },
   {
    "duration": 29,
    "start_time": "2023-03-12T19:20:52.337Z"
   },
   {
    "duration": 11,
    "start_time": "2023-03-12T19:20:52.982Z"
   },
   {
    "duration": 26,
    "start_time": "2023-03-12T19:20:53.494Z"
   },
   {
    "duration": 7,
    "start_time": "2023-03-12T19:20:53.978Z"
   },
   {
    "duration": 4,
    "start_time": "2023-03-12T19:20:56.141Z"
   },
   {
    "duration": 10,
    "start_time": "2023-03-12T19:20:56.571Z"
   },
   {
    "duration": 5,
    "start_time": "2023-03-12T19:20:56.988Z"
   },
   {
    "duration": 8,
    "start_time": "2023-03-12T19:21:30.505Z"
   },
   {
    "duration": 5,
    "start_time": "2023-03-12T19:21:30.853Z"
   },
   {
    "duration": 6,
    "start_time": "2023-03-12T19:22:32.897Z"
   },
   {
    "duration": 5,
    "start_time": "2023-03-12T19:22:33.093Z"
   },
   {
    "duration": 6,
    "start_time": "2023-03-12T19:22:49.671Z"
   },
   {
    "duration": 5,
    "start_time": "2023-03-12T19:22:50.729Z"
   },
   {
    "duration": 6,
    "start_time": "2023-03-12T19:22:53.741Z"
   },
   {
    "duration": 5,
    "start_time": "2023-03-12T19:22:53.869Z"
   },
   {
    "duration": 6,
    "start_time": "2023-03-12T19:22:58.919Z"
   },
   {
    "duration": 6,
    "start_time": "2023-03-12T19:23:02.969Z"
   },
   {
    "duration": 4,
    "start_time": "2023-03-12T19:23:03.293Z"
   },
   {
    "duration": 6,
    "start_time": "2023-03-12T19:23:06.683Z"
   },
   {
    "duration": 5,
    "start_time": "2023-03-12T19:23:08.069Z"
   },
   {
    "duration": 6,
    "start_time": "2023-03-12T19:23:12.110Z"
   },
   {
    "duration": 4,
    "start_time": "2023-03-12T19:23:12.281Z"
   },
   {
    "duration": 7,
    "start_time": "2023-03-12T19:23:25.660Z"
   },
   {
    "duration": 5,
    "start_time": "2023-03-12T19:23:25.805Z"
   },
   {
    "duration": 7,
    "start_time": "2023-03-12T19:23:30.569Z"
   },
   {
    "duration": 5,
    "start_time": "2023-03-12T19:23:30.713Z"
   },
   {
    "duration": 8,
    "start_time": "2023-03-12T19:29:23.413Z"
   },
   {
    "duration": 5,
    "start_time": "2023-03-12T19:29:23.536Z"
   },
   {
    "duration": 7,
    "start_time": "2023-03-12T19:36:51.919Z"
   },
   {
    "duration": 3,
    "start_time": "2023-03-12T19:36:52.682Z"
   },
   {
    "duration": 85,
    "start_time": "2023-03-12T19:36:53.428Z"
   },
   {
    "duration": 22506,
    "start_time": "2023-03-12T19:36:58.080Z"
   },
   {
    "duration": 28,
    "start_time": "2023-03-12T19:37:20.588Z"
   },
   {
    "duration": 6,
    "start_time": "2023-03-12T19:37:20.619Z"
   },
   {
    "duration": 82,
    "start_time": "2023-03-12T19:38:30.566Z"
   },
   {
    "duration": 6,
    "start_time": "2023-03-12T19:38:34.454Z"
   },
   {
    "duration": 6,
    "start_time": "2023-03-12T19:48:48.696Z"
   },
   {
    "duration": 3,
    "start_time": "2023-03-12T19:48:53.638Z"
   },
   {
    "duration": 96,
    "start_time": "2023-03-12T19:48:54.190Z"
   },
   {
    "duration": 22642,
    "start_time": "2023-03-12T19:48:55.242Z"
   },
   {
    "duration": 26,
    "start_time": "2023-03-12T19:49:17.886Z"
   },
   {
    "duration": 7,
    "start_time": "2023-03-12T19:49:17.914Z"
   },
   {
    "duration": 81,
    "start_time": "2023-03-12T19:49:41.491Z"
   },
   {
    "duration": 8,
    "start_time": "2023-03-12T19:49:52.592Z"
   },
   {
    "duration": 4,
    "start_time": "2023-03-12T20:00:25.980Z"
   },
   {
    "duration": 28,
    "start_time": "2023-03-12T20:00:26.202Z"
   },
   {
    "duration": 12,
    "start_time": "2023-03-12T20:00:26.817Z"
   },
   {
    "duration": 26,
    "start_time": "2023-03-12T20:00:27.020Z"
   },
   {
    "duration": 9,
    "start_time": "2023-03-12T20:00:27.417Z"
   },
   {
    "duration": 5,
    "start_time": "2023-03-12T20:00:29.590Z"
   },
   {
    "duration": 7,
    "start_time": "2023-03-12T20:00:29.955Z"
   },
   {
    "duration": 5,
    "start_time": "2023-03-12T20:00:30.398Z"
   },
   {
    "duration": 7,
    "start_time": "2023-03-12T20:00:32.069Z"
   },
   {
    "duration": 4,
    "start_time": "2023-03-12T20:00:32.984Z"
   },
   {
    "duration": 113,
    "start_time": "2023-03-12T20:00:33.555Z"
   },
   {
    "duration": 89,
    "start_time": "2023-03-12T20:00:34.383Z"
   },
   {
    "duration": 81,
    "start_time": "2023-03-12T20:01:10.443Z"
   },
   {
    "duration": 91,
    "start_time": "2023-03-12T20:01:21.138Z"
   },
   {
    "duration": 71,
    "start_time": "2023-03-12T20:02:17.369Z"
   },
   {
    "duration": 7,
    "start_time": "2023-03-12T20:03:05.108Z"
   },
   {
    "duration": 5,
    "start_time": "2023-03-12T20:03:05.609Z"
   },
   {
    "duration": 7,
    "start_time": "2023-03-12T20:03:06.021Z"
   },
   {
    "duration": 3,
    "start_time": "2023-03-12T20:03:06.577Z"
   },
   {
    "duration": 90,
    "start_time": "2023-03-12T20:03:07.141Z"
   },
   {
    "duration": 72,
    "start_time": "2023-03-12T20:03:08.071Z"
   },
   {
    "duration": 7,
    "start_time": "2023-03-12T20:03:15.479Z"
   },
   {
    "duration": 6,
    "start_time": "2023-03-12T20:03:15.827Z"
   },
   {
    "duration": 7,
    "start_time": "2023-03-12T20:03:16.313Z"
   },
   {
    "duration": 3,
    "start_time": "2023-03-12T20:03:16.922Z"
   },
   {
    "duration": 5,
    "start_time": "2023-03-12T20:03:20.592Z"
   },
   {
    "duration": 28,
    "start_time": "2023-03-12T20:03:20.893Z"
   },
   {
    "duration": 13,
    "start_time": "2023-03-12T20:03:21.668Z"
   },
   {
    "duration": 27,
    "start_time": "2023-03-12T20:03:22.271Z"
   },
   {
    "duration": 8,
    "start_time": "2023-03-12T20:03:22.701Z"
   },
   {
    "duration": 3,
    "start_time": "2023-03-12T20:03:24.971Z"
   },
   {
    "duration": 10,
    "start_time": "2023-03-12T20:03:25.379Z"
   },
   {
    "duration": 5,
    "start_time": "2023-03-12T20:03:29.276Z"
   },
   {
    "duration": 6,
    "start_time": "2023-03-12T20:03:31.513Z"
   },
   {
    "duration": 3,
    "start_time": "2023-03-12T20:03:41.484Z"
   },
   {
    "duration": 87,
    "start_time": "2023-03-12T20:03:42.344Z"
   },
   {
    "duration": 72,
    "start_time": "2023-03-12T20:03:44.241Z"
   },
   {
    "duration": 75,
    "start_time": "2023-03-12T20:04:55.069Z"
   },
   {
    "duration": 72,
    "start_time": "2023-03-12T20:05:13.292Z"
   },
   {
    "duration": 71,
    "start_time": "2023-03-12T20:05:56.673Z"
   },
   {
    "duration": 72,
    "start_time": "2023-03-12T20:05:59.809Z"
   },
   {
    "duration": 22515,
    "start_time": "2023-03-12T20:06:04.674Z"
   },
   {
    "duration": 73,
    "start_time": "2023-03-12T20:06:44.772Z"
   },
   {
    "duration": 23175,
    "start_time": "2023-03-12T20:06:49.127Z"
   },
   {
    "duration": 3,
    "start_time": "2023-03-12T20:07:29.573Z"
   },
   {
    "duration": 28,
    "start_time": "2023-03-12T20:07:29.806Z"
   },
   {
    "duration": 15,
    "start_time": "2023-03-12T20:07:30.625Z"
   },
   {
    "duration": 24,
    "start_time": "2023-03-12T20:07:30.897Z"
   },
   {
    "duration": 6,
    "start_time": "2023-03-12T20:07:31.402Z"
   },
   {
    "duration": 4,
    "start_time": "2023-03-12T20:07:33.448Z"
   },
   {
    "duration": 6,
    "start_time": "2023-03-12T20:07:33.692Z"
   },
   {
    "duration": 5,
    "start_time": "2023-03-12T20:07:33.925Z"
   },
   {
    "duration": 6,
    "start_time": "2023-03-12T20:07:35.537Z"
   },
   {
    "duration": 5,
    "start_time": "2023-03-12T20:07:36.571Z"
   },
   {
    "duration": 83,
    "start_time": "2023-03-12T20:07:37.203Z"
   },
   {
    "duration": 23038,
    "start_time": "2023-03-12T20:07:38.242Z"
   },
   {
    "duration": 29,
    "start_time": "2023-03-12T20:08:07.567Z"
   },
   {
    "duration": 7,
    "start_time": "2023-03-12T20:08:09.002Z"
   },
   {
    "duration": 92,
    "start_time": "2023-03-12T20:08:17.179Z"
   },
   {
    "duration": 7,
    "start_time": "2023-03-12T20:08:19.804Z"
   },
   {
    "duration": 1472,
    "start_time": "2023-03-13T06:35:19.474Z"
   },
   {
    "duration": 122,
    "start_time": "2023-03-13T06:35:21.926Z"
   },
   {
    "duration": 12,
    "start_time": "2023-03-13T06:35:22.951Z"
   },
   {
    "duration": 34,
    "start_time": "2023-03-13T06:35:23.689Z"
   },
   {
    "duration": 7,
    "start_time": "2023-03-13T06:35:24.254Z"
   },
   {
    "duration": 5,
    "start_time": "2023-03-13T06:35:26.352Z"
   },
   {
    "duration": 8,
    "start_time": "2023-03-13T06:35:26.773Z"
   },
   {
    "duration": 6,
    "start_time": "2023-03-13T06:35:28.193Z"
   },
   {
    "duration": 7,
    "start_time": "2023-03-13T06:35:29.155Z"
   },
   {
    "duration": 4,
    "start_time": "2023-03-13T06:35:30.602Z"
   },
   {
    "duration": 90,
    "start_time": "2023-03-13T06:35:31.415Z"
   },
   {
    "duration": 23281,
    "start_time": "2023-03-13T06:35:33.015Z"
   },
   {
    "duration": 30,
    "start_time": "2023-03-13T06:36:00.160Z"
   },
   {
    "duration": 11,
    "start_time": "2023-03-13T06:36:01.487Z"
   },
   {
    "duration": 89,
    "start_time": "2023-03-13T06:36:02.911Z"
   },
   {
    "duration": 8,
    "start_time": "2023-03-13T06:36:05.480Z"
   }
  ],
  "kernelspec": {
   "display_name": "Python 3 (ipykernel)",
   "language": "python",
   "name": "python3"
  },
  "language_info": {
   "codemirror_mode": {
    "name": "ipython",
    "version": 3
   },
   "file_extension": ".py",
   "mimetype": "text/x-python",
   "name": "python",
   "nbconvert_exporter": "python",
   "pygments_lexer": "ipython3",
   "version": "3.9.12"
  },
  "toc": {
   "base_numbering": 1,
   "nav_menu": {},
   "number_sections": true,
   "sideBar": true,
   "skip_h1_title": true,
   "title_cell": "Table of Contents",
   "title_sidebar": "Contents",
   "toc_cell": false,
   "toc_position": {},
   "toc_section_display": true,
   "toc_window_display": true
  }
 },
 "nbformat": 4,
 "nbformat_minor": 2
}
