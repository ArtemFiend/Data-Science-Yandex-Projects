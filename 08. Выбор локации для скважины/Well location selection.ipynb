{
 "cells": [
  {
   "cell_type": "markdown",
   "metadata": {},
   "source": [
    "# Выбор локации для скважины"
   ]
  },
  {
   "cell_type": "markdown",
   "metadata": {},
   "source": [
    "Допустим, вы работаете в добывающей компании «ГлавРосГосНефть». Нужно решить, где бурить новую скважину.\n",
    "\n",
    "Вам предоставлены пробы нефти в трёх регионах: в каждом 10 000 месторождений, где измерили качество нефти и объём её запасов. Постройте модель машинного обучения, которая поможет определить регион, где добыча принесёт наибольшую прибыль. Проанализируйте возможную прибыль и риски техникой *Bootstrap.*\n",
    "\n",
    "Шаги для выбора локации:\n",
    "\n",
    "- В избранном регионе ищут месторождения, для каждого определяют значения признаков;\n",
    "- Строят модель и оценивают объём запасов;\n",
    "- Выбирают месторождения с самым высокими оценками значений. Количество месторождений зависит от бюджета компании и стоимости разработки одной скважины;\n",
    "- Прибыль равна суммарной прибыли отобранных месторождений."
   ]
  },
  {
   "cell_type": "markdown",
   "metadata": {},
   "source": [
    "## Загрузка и подготовка данных"
   ]
  },
  {
   "cell_type": "markdown",
   "metadata": {},
   "source": [
    "* Импортируем необходимые библиотеки и их функции\n",
    "* Просмотрим все файлы"
   ]
  },
  {
   "cell_type": "code",
   "execution_count": 1,
   "metadata": {},
   "outputs": [],
   "source": [
    "import pandas as pd\n",
    "import numpy as np\n",
    "from sklearn.model_selection import train_test_split\n",
    "from scipy import stats as st\n",
    "from sklearn.preprocessing import StandardScaler\n",
    "from sklearn.linear_model import LinearRegression\n",
    "from sklearn.metrics import mean_squared_error"
   ]
  },
  {
   "cell_type": "code",
   "execution_count": 2,
   "metadata": {},
   "outputs": [],
   "source": [
    "data0 = pd.read_csv('/datasets/geo_data_0.csv')\n",
    "data1 = pd.read_csv('/datasets/geo_data_1.csv')\n",
    "data2 = pd.read_csv('/datasets/geo_data_2.csv')"
   ]
  },
  {
   "cell_type": "markdown",
   "metadata": {},
   "source": [
    "Проверим данные на дубликаты и пропуски"
   ]
  },
  {
   "cell_type": "code",
   "execution_count": 3,
   "metadata": {},
   "outputs": [
    {
     "name": "stdout",
     "output_type": "stream",
     "text": [
      "0\n",
      "0\n",
      "0\n"
     ]
    }
   ],
   "source": [
    "print(data0.duplicated().sum())\n",
    "print(data1.duplicated().sum())\n",
    "print(data2.duplicated().sum())"
   ]
  },
  {
   "cell_type": "code",
   "execution_count": 4,
   "metadata": {},
   "outputs": [
    {
     "name": "stdout",
     "output_type": "stream",
     "text": [
      "id         0\n",
      "f0         0\n",
      "f1         0\n",
      "f2         0\n",
      "product    0\n",
      "dtype: int64\n",
      "id         0\n",
      "f0         0\n",
      "f1         0\n",
      "f2         0\n",
      "product    0\n",
      "dtype: int64\n",
      "id         0\n",
      "f0         0\n",
      "f1         0\n",
      "f2         0\n",
      "product    0\n",
      "dtype: int64\n"
     ]
    }
   ],
   "source": [
    "print(data0.isna().sum())\n",
    "print(data1.isna().sum())\n",
    "print(data2.isna().sum())"
   ]
  },
  {
   "cell_type": "markdown",
   "metadata": {},
   "source": [
    "Дубликатов и пропусков не обнаружено"
   ]
  },
  {
   "cell_type": "code",
   "execution_count": 5,
   "metadata": {},
   "outputs": [
    {
     "name": "stdout",
     "output_type": "stream",
     "text": [
      "Регион 0:       id        f0        f1        f2     product\n",
      "0  txEyH  0.705745 -0.497823  1.221170  105.280062\n",
      "1  2acmU  1.334711 -0.340164  4.365080   73.037750\n",
      "2  409Wp  1.022732  0.151990  1.419926   85.265647\n",
      "3  iJLyR -0.032172  0.139033  2.978566  168.620776\n",
      "4  Xdl7t  1.988431  0.155413  4.751769  154.036647 \n",
      "\n",
      "Регион 1:       id         f0         f1        f2     product\n",
      "0  kBEdx -15.001348  -8.276000 -0.005876    3.179103\n",
      "1  62mP7  14.272088  -3.475083  0.999183   26.953261\n",
      "2  vyE1P   6.263187  -5.948386  5.001160  134.766305\n",
      "3  KcrkZ -13.081196 -11.506057  4.999415  137.945408\n",
      "4  AHL4O  12.702195  -8.147433  5.004363  134.766305 \n",
      "\n",
      "Регион 2:       id        f0        f1        f2     product\n",
      "0  fwXo0 -1.146987  0.963328 -0.828965   27.758673\n",
      "1  WJtFt  0.262778  0.269839 -2.530187   56.069697\n",
      "2  ovLUW  0.194587  0.289035 -5.586433   62.871910\n",
      "3  q6cA6  2.236060 -0.553760  0.930038  114.572842\n",
      "4  WPMUX -0.515993  1.716266  5.899011  149.600746\n"
     ]
    }
   ],
   "source": [
    "print('Регион 0:', data0.head(), '\\n')\n",
    "print('Регион 1:', data1.head(), '\\n')\n",
    "print('Регион 2:', data2.head())"
   ]
  },
  {
   "cell_type": "markdown",
   "metadata": {},
   "source": [
    "Уберём столбец 'id', так как он не понадобится для дальнейшей работы"
   ]
  },
  {
   "cell_type": "code",
   "execution_count": 6,
   "metadata": {},
   "outputs": [],
   "source": [
    "data0 = data0.drop(columns=['id'], axis=0)\n",
    "data1 = data1.drop(columns=['id'], axis=0)\n",
    "data2 = data2.drop(columns=['id'], axis=0)"
   ]
  },
  {
   "cell_type": "markdown",
   "metadata": {},
   "source": [
    "Разделим данные на тренировочные и валидационные выборки и отделим целевой признак"
   ]
  },
  {
   "cell_type": "code",
   "execution_count": 7,
   "metadata": {},
   "outputs": [],
   "source": [
    "def data_split(data):\n",
    "    train, valid = train_test_split(data, test_size=0.25, random_state=42)\n",
    "    features_train = train.drop(columns=['product'], axis=0)\n",
    "    target_train = train['product']\n",
    "    features_valid = valid.drop(columns=['product'], axis=0)\n",
    "    target_valid = valid['product']\n",
    "    return features_train, target_train, features_valid, target_valid"
   ]
  },
  {
   "cell_type": "code",
   "execution_count": 8,
   "metadata": {},
   "outputs": [],
   "source": [
    "features_train_0, target_train_0, features_valid_0, target_valid_0 = data_split(data0)\n",
    "features_train_1, target_train_1, features_valid_1, target_valid_1 = data_split(data1)\n",
    "features_train_2, target_train_2, features_valid_2, target_valid_2 = data_split(data2)"
   ]
  },
  {
   "cell_type": "markdown",
   "metadata": {},
   "source": [
    "Масштабируем признаки методом стандартизации данных"
   ]
  },
  {
   "cell_type": "code",
   "execution_count": 9,
   "metadata": {},
   "outputs": [],
   "source": [
    "scaler = StandardScaler()\n",
    "scaler.fit(features_train_0)\n",
    "features_train_0 = scaler.transform(features_train_0)\n",
    "features_valid_0 = scaler.transform(features_valid_0)\n",
    "\n",
    "scaler.fit(features_train_1)\n",
    "features_train_1 = scaler.transform(features_train_1)\n",
    "features_valid_1 = scaler.transform(features_valid_1)\n",
    "\n",
    "scaler.fit(features_train_2)\n",
    "features_train_2 = scaler.transform(features_train_2)\n",
    "features_valid_2 = scaler.transform(features_valid_2)"
   ]
  },
  {
   "cell_type": "markdown",
   "metadata": {},
   "source": [
    "## Обучение и проверка модели"
   ]
  },
  {
   "cell_type": "markdown",
   "metadata": {},
   "source": [
    "Для нашей задачи подходит модель Линейной Регрессии, так что будем использовать именно её"
   ]
  },
  {
   "cell_type": "code",
   "execution_count": 10,
   "metadata": {},
   "outputs": [],
   "source": [
    "model = LinearRegression()"
   ]
  },
  {
   "cell_type": "markdown",
   "metadata": {},
   "source": [
    "* Разделим данные на выборки и обучим модель\n",
    "* Сохраним предсказания в переменные predict"
   ]
  },
  {
   "cell_type": "code",
   "execution_count": 11,
   "metadata": {},
   "outputs": [],
   "source": [
    "def prediction(features_train, target_train, features_valid, target_valid):\n",
    "    model.fit(features_train, target_train)\n",
    "    predict = pd.Series(model.predict(features_valid), target_valid.index)\n",
    "    return predict"
   ]
  },
  {
   "cell_type": "code",
   "execution_count": 12,
   "metadata": {},
   "outputs": [],
   "source": [
    "predict0 = prediction(features_train_0, target_train_0, features_valid_0, target_valid_0)\n",
    "predict1 = prediction(features_train_1, target_train_1, features_valid_1, target_valid_1)\n",
    "predict2 = prediction(features_train_2, target_train_2, features_valid_2, target_valid_2)"
   ]
  },
  {
   "cell_type": "code",
   "execution_count": 13,
   "metadata": {},
   "outputs": [],
   "source": [
    "predictions = [predict0, predict1, predict2]\n",
    "target_valids = [target_valid_0, target_valid_1, target_valid_2]"
   ]
  },
  {
   "cell_type": "markdown",
   "metadata": {},
   "source": [
    "Посчитаем средние запасы нефти в каждом регионе и RMSE"
   ]
  },
  {
   "cell_type": "code",
   "execution_count": 14,
   "metadata": {},
   "outputs": [
    {
     "name": "stdout",
     "output_type": "stream",
     "text": [
      "Регион 0\n",
      "Средний запас: 92.40\n",
      "RMSE: 37.76 \n",
      "\n",
      "Регион 1\n",
      "Средний запас: 68.71\n",
      "RMSE: 0.89 \n",
      "\n",
      "Регион 2\n",
      "Средний запас: 94.77\n",
      "RMSE: 40.15 \n",
      "\n"
     ]
    }
   ],
   "source": [
    "for i in range(len(predictions)):\n",
    "    print('Регион', i)\n",
    "    mse = mean_squared_error(predictions[i], target_valids[i])\n",
    "    print('Средний запас: {:.2f}'.format(predictions[i].mean()))\n",
    "    rmse = mse ** 0.5\n",
    "    print('RMSE: {:.2f}'.format(rmse), '\\n')"
   ]
  },
  {
   "cell_type": "markdown",
   "metadata": {},
   "source": [
    "* Как видим, для Региона 1 разница между прогнозируемыми и наблюдаемыми значениями наименьшая. \n",
    "* В Регионах 0 и 2 модель сильно ошибается. "
   ]
  },
  {
   "cell_type": "markdown",
   "metadata": {},
   "source": [
    "## Подготовка к расчёту прибыли"
   ]
  },
  {
   "cell_type": "markdown",
   "metadata": {},
   "source": [
    "* Создадим новые переменные для дальнейшей работы с необходимыми данными\n",
    "* Посчитаем стоимость 1 скважины и объём окупаемости"
   ]
  },
  {
   "cell_type": "code",
   "execution_count": 15,
   "metadata": {},
   "outputs": [
    {
     "name": "stdout",
     "output_type": "stream",
     "text": [
      "Стоимость 1 скважины: 50000000.0 рублей\n",
      "Объём окупаемости: 111.11 баррелей\n"
     ]
    }
   ],
   "source": [
    "BUDGET = 10 ** 10 #бюджет\n",
    "WELLS = 200 #количество нефтяных вышек\n",
    "BARREL_PRICE = 450000 #стоимоть 1000 баррелей нефти\n",
    "RISK = 0.025 \n",
    "WELL_PRICE = BUDGET / WELLS #стоимость 1 скважины\n",
    "PAYBACK_VOLUME = WELL_PRICE / BARREL_PRICE #объём окупаемости\n",
    "print('Стоимость 1 скважины:', WELL_PRICE, 'рублей')\n",
    "print('Объём окупаемости: {:.2f}'.format(PAYBACK_VOLUME), 'баррелей')"
   ]
  },
  {
   "cell_type": "markdown",
   "metadata": {},
   "source": [
    "Делаем вывод, что:\n",
    "* 1 скважина стоит 50.000.000 рублей\n",
    "* Объём окупаемости составляет 111 баррелей"
   ]
  },
  {
   "cell_type": "markdown",
   "metadata": {},
   "source": [
    "## Расчёт прибыли и рисков "
   ]
  },
  {
   "cell_type": "code",
   "execution_count": 16,
   "metadata": {},
   "outputs": [],
   "source": [
    "def profits(target, probabilities, count):\n",
    "    probs_sorted = probabilities.sort_values(ascending=False)\n",
    "    selected = target[probs_sorted.index][:count]\n",
    "    return selected.sum() * BARREL_PRICE - BUDGET"
   ]
  },
  {
   "cell_type": "code",
   "execution_count": 17,
   "metadata": {},
   "outputs": [
    {
     "name": "stdout",
     "output_type": "stream",
     "text": [
      "Регион: 0\n",
      "Средняя выручка: 427847560462.52\n",
      "95% доверительный интервал: -97249829.57, 954215192.71\n",
      "Риск убытков: 5.50% \n",
      "\n",
      "Регион: 1\n",
      "Средняя выручка: 511530218148.52\n",
      "95% доверительный интервал: 91700564.14, 921455668.33\n",
      "Риск убытков: 0.60% \n",
      "\n",
      "Регион: 2\n",
      "Средняя выручка: 408545681214.94\n",
      "95% доверительный интервал: -120624872.94, 960859440.73\n",
      "Риск убытков: 7.50% \n",
      "\n"
     ]
    }
   ],
   "source": [
    "state = np.random.RandomState(42)\n",
    "for i in range(len(target_valids)):\n",
    "    values = []\n",
    "    \n",
    "    for _ in range(1000):\n",
    "        target_subsample = target_valids[i].sample(n=500, replace=True, random_state=state)\n",
    "        probs_subsample = predictions[i][target_subsample.index] \n",
    "        profit = profits(target_subsample, probs_subsample, WELLS)\n",
    "        values.append(profit)\n",
    "        \n",
    "    name = 'Регион: ' + str(i)\n",
    "    values = pd.Series(values)\n",
    "    lower = values.quantile(0.025)\n",
    "    upper = values.quantile(0.975)\n",
    "    mean = values.mean()\n",
    "    \n",
    "    print(name)\n",
    "    print('Средняя выручка: {:.2f}'.format(mean * 1000))\n",
    "    print ('95% доверительный интервал: {:.2f}, {:.2f}'.format(lower, upper))\n",
    "    print('Риск убытков: {:.2%}'.format((values < 0).mean()), '\\n')"
   ]
  },
  {
   "cell_type": "markdown",
   "metadata": {},
   "source": [
    "# Вывод:\n",
    "* Условиям подходит только 1 регион - 'Регион 1'\n",
    "* Средняя выручка составляет - 511 530 218 148.52 (более 500 миллиардов) рублей \n",
    "* 95% доверительный интервал составляет: \n",
    "* Нижняя граница - 91 700 564.14 \n",
    "* Верхняя граница - 921 455 668.33\n",
    "* Риск убытков составляет - 0.6%"
   ]
  },
  {
   "cell_type": "markdown",
   "metadata": {},
   "source": [
    "## Чек-лист готовности проекта"
   ]
  },
  {
   "cell_type": "markdown",
   "metadata": {},
   "source": [
    "Поставьте 'x' в выполненных пунктах. Далее нажмите Shift+Enter."
   ]
  },
  {
   "cell_type": "markdown",
   "metadata": {},
   "source": [
    "- [x]  Jupyter Notebook открыт\n",
    "- [x]  Весь код выполняется без ошибок\n",
    "- [x]  Ячейки с кодом расположены в порядке исполнения\n",
    "- [x]  Выполнен шаг 1: данные подготовлены\n",
    "- [x]  Выполнен шаг 2: модели обучены и проверены\n",
    "    - [x]  Данные корректно разбиты на обучающую и валидационную выборки\n",
    "    - [x]  Модели обучены, предсказания сделаны\n",
    "    - [x]  Предсказания и правильные ответы на валидационной выборке сохранены\n",
    "    - [x]  На экране напечатаны результаты\n",
    "    - [x]  Сделаны выводы\n",
    "- [x]  Выполнен шаг 3: проведена подготовка к расчёту прибыли\n",
    "    - [x]  Для всех ключевых значений созданы константы Python\n",
    "    - [x]  Посчитано минимальное среднее количество продукта в месторождениях региона, достаточное для разработки\n",
    "    - [x]  По предыдущему пункту сделаны выводы\n",
    "    - [x]  Написана функция расчёта прибыли\n",
    "- [x]  Выполнен шаг 4: посчитаны риски и прибыль\n",
    "    - [x]  Проведена процедура *Bootstrap*\n",
    "    - [x]  Все параметры бутстрепа соответствуют условию\n",
    "    - [x]  Найдены все нужные величины\n",
    "    - [x]  Предложен регион для разработки месторождения\n",
    "    - [x]  Выбор региона обоснован"
   ]
  }
 ],
 "metadata": {
  "ExecuteTimeLog": [
   {
    "duration": 1030,
    "start_time": "2023-04-08T05:16:49.794Z"
   },
   {
    "duration": 1455,
    "start_time": "2023-04-08T05:18:09.608Z"
   },
   {
    "duration": 360,
    "start_time": "2023-04-08T05:22:25.023Z"
   },
   {
    "duration": 4,
    "start_time": "2023-04-08T05:32:05.902Z"
   },
   {
    "duration": 65,
    "start_time": "2023-04-08T05:32:06.897Z"
   },
   {
    "duration": 96,
    "start_time": "2023-04-08T05:46:32.236Z"
   },
   {
    "duration": 2,
    "start_time": "2023-04-08T05:46:47.217Z"
   },
   {
    "duration": 353,
    "start_time": "2023-04-08T05:46:47.794Z"
   },
   {
    "duration": 4,
    "start_time": "2023-04-08T05:46:48.148Z"
   },
   {
    "duration": 87,
    "start_time": "2023-04-08T05:46:48.153Z"
   },
   {
    "duration": 32,
    "start_time": "2023-04-08T05:46:48.403Z"
   },
   {
    "duration": 3,
    "start_time": "2023-04-08T06:01:39.956Z"
   },
   {
    "duration": 361,
    "start_time": "2023-04-08T06:01:40.265Z"
   },
   {
    "duration": 4,
    "start_time": "2023-04-08T06:01:40.664Z"
   },
   {
    "duration": 67,
    "start_time": "2023-04-08T06:01:41.064Z"
   },
   {
    "duration": 33,
    "start_time": "2023-04-08T06:01:41.643Z"
   },
   {
    "duration": 21,
    "start_time": "2023-04-08T06:03:03.105Z"
   },
   {
    "duration": 7,
    "start_time": "2023-04-08T06:03:09.221Z"
   },
   {
    "duration": 14,
    "start_time": "2023-04-08T06:03:22.188Z"
   },
   {
    "duration": 12,
    "start_time": "2023-04-08T06:03:37.859Z"
   },
   {
    "duration": 13,
    "start_time": "2023-04-08T06:03:51.322Z"
   },
   {
    "duration": 12,
    "start_time": "2023-04-08T06:03:56.795Z"
   },
   {
    "duration": 12,
    "start_time": "2023-04-08T06:03:59.335Z"
   },
   {
    "duration": 2,
    "start_time": "2023-04-08T06:04:03.221Z"
   },
   {
    "duration": 341,
    "start_time": "2023-04-08T06:04:03.545Z"
   },
   {
    "duration": 11,
    "start_time": "2023-04-08T06:04:03.953Z"
   },
   {
    "duration": 3,
    "start_time": "2023-04-08T06:04:13.256Z"
   },
   {
    "duration": 353,
    "start_time": "2023-04-08T06:04:13.565Z"
   },
   {
    "duration": 13,
    "start_time": "2023-04-08T06:04:14.001Z"
   },
   {
    "duration": 3,
    "start_time": "2023-04-08T06:04:14.969Z"
   },
   {
    "duration": 34,
    "start_time": "2023-04-08T06:04:15.354Z"
   },
   {
    "duration": 24,
    "start_time": "2023-04-08T06:04:16.245Z"
   },
   {
    "duration": 22,
    "start_time": "2023-04-08T06:07:33.107Z"
   },
   {
    "duration": 364,
    "start_time": "2023-04-08T06:07:33.484Z"
   },
   {
    "duration": 15,
    "start_time": "2023-04-08T06:07:33.849Z"
   },
   {
    "duration": 4,
    "start_time": "2023-04-08T06:07:33.946Z"
   },
   {
    "duration": 25,
    "start_time": "2023-04-08T06:07:34.253Z"
   },
   {
    "duration": 25,
    "start_time": "2023-04-08T06:07:34.660Z"
   },
   {
    "duration": 3,
    "start_time": "2023-04-08T06:07:35.446Z"
   },
   {
    "duration": 2,
    "start_time": "2023-04-08T06:07:49.963Z"
   },
   {
    "duration": 10,
    "start_time": "2023-04-08T06:08:25.044Z"
   },
   {
    "duration": 8,
    "start_time": "2023-04-08T06:08:36.980Z"
   },
   {
    "duration": 3,
    "start_time": "2023-04-08T06:11:02.412Z"
   },
   {
    "duration": 76,
    "start_time": "2023-04-08T06:12:26.410Z"
   },
   {
    "duration": 2,
    "start_time": "2023-04-08T06:12:56.012Z"
   },
   {
    "duration": 3,
    "start_time": "2023-04-08T06:12:56.296Z"
   },
   {
    "duration": 61,
    "start_time": "2023-04-08T06:12:56.628Z"
   },
   {
    "duration": 2,
    "start_time": "2023-04-08T06:13:15.604Z"
   },
   {
    "duration": 3,
    "start_time": "2023-04-08T06:14:15.962Z"
   },
   {
    "duration": 3,
    "start_time": "2023-04-08T06:17:22.041Z"
   },
   {
    "duration": 354,
    "start_time": "2023-04-08T06:17:22.475Z"
   },
   {
    "duration": 17,
    "start_time": "2023-04-08T06:17:22.832Z"
   },
   {
    "duration": 3,
    "start_time": "2023-04-08T06:17:22.938Z"
   },
   {
    "duration": 24,
    "start_time": "2023-04-08T06:17:23.076Z"
   },
   {
    "duration": 24,
    "start_time": "2023-04-08T06:17:24.085Z"
   },
   {
    "duration": 2,
    "start_time": "2023-04-08T06:17:24.425Z"
   },
   {
    "duration": 3,
    "start_time": "2023-04-08T06:17:24.588Z"
   },
   {
    "duration": 31,
    "start_time": "2023-04-08T06:17:25.055Z"
   },
   {
    "duration": 2,
    "start_time": "2023-04-08T06:17:25.545Z"
   },
   {
    "duration": 12,
    "start_time": "2023-04-08T06:19:44.913Z"
   },
   {
    "duration": 10,
    "start_time": "2023-04-08T06:20:35.759Z"
   },
   {
    "duration": 11,
    "start_time": "2023-04-08T06:21:09.917Z"
   },
   {
    "duration": 10,
    "start_time": "2023-04-08T06:21:34.382Z"
   },
   {
    "duration": 8,
    "start_time": "2023-04-08T06:21:45.320Z"
   },
   {
    "duration": 8,
    "start_time": "2023-04-08T06:21:51.632Z"
   },
   {
    "duration": 10,
    "start_time": "2023-04-08T06:22:07.353Z"
   },
   {
    "duration": 9,
    "start_time": "2023-04-08T06:22:12.125Z"
   },
   {
    "duration": 10,
    "start_time": "2023-04-08T06:31:49.546Z"
   },
   {
    "duration": 4,
    "start_time": "2023-04-08T06:31:59.647Z"
   },
   {
    "duration": 5,
    "start_time": "2023-04-08T06:32:42.920Z"
   },
   {
    "duration": 1138,
    "start_time": "2023-04-08T10:45:07.469Z"
   },
   {
    "duration": 1531,
    "start_time": "2023-04-08T10:45:08.612Z"
   },
   {
    "duration": 16,
    "start_time": "2023-04-08T10:45:10.144Z"
   },
   {
    "duration": 13,
    "start_time": "2023-04-08T10:45:10.163Z"
   },
   {
    "duration": 40,
    "start_time": "2023-04-08T10:45:10.177Z"
   },
   {
    "duration": 30,
    "start_time": "2023-04-08T10:45:10.219Z"
   },
   {
    "duration": 4,
    "start_time": "2023-04-08T10:45:10.250Z"
   },
   {
    "duration": 7,
    "start_time": "2023-04-08T10:45:10.255Z"
   },
   {
    "duration": 79,
    "start_time": "2023-04-08T10:45:10.264Z"
   },
   {
    "duration": 3,
    "start_time": "2023-04-08T10:45:10.437Z"
   },
   {
    "duration": 109,
    "start_time": "2023-04-08T10:45:10.442Z"
   },
   {
    "duration": 7,
    "start_time": "2023-04-08T10:45:10.554Z"
   },
   {
    "duration": 2,
    "start_time": "2023-04-08T10:56:49.417Z"
   },
   {
    "duration": 3,
    "start_time": "2023-04-08T10:56:54.759Z"
   },
   {
    "duration": 4255,
    "start_time": "2023-04-08T10:59:11.499Z"
   },
   {
    "duration": 3565,
    "start_time": "2023-04-08T10:59:47.177Z"
   },
   {
    "duration": 3546,
    "start_time": "2023-04-08T11:00:02.194Z"
   },
   {
    "duration": 4011,
    "start_time": "2023-04-08T11:00:12.307Z"
   },
   {
    "duration": 3821,
    "start_time": "2023-04-08T11:00:35.886Z"
   },
   {
    "duration": 160,
    "start_time": "2023-04-08T11:00:43.843Z"
   },
   {
    "duration": 3561,
    "start_time": "2023-04-08T11:00:47.435Z"
   },
   {
    "duration": 3687,
    "start_time": "2023-04-08T11:00:55.562Z"
   },
   {
    "duration": 3962,
    "start_time": "2023-04-08T11:01:03.738Z"
   },
   {
    "duration": 3634,
    "start_time": "2023-04-08T11:01:17.622Z"
   },
   {
    "duration": 3567,
    "start_time": "2023-04-08T11:01:48.602Z"
   },
   {
    "duration": 3550,
    "start_time": "2023-04-08T11:01:55.762Z"
   },
   {
    "duration": 135,
    "start_time": "2023-04-08T11:02:22.521Z"
   },
   {
    "duration": 1557,
    "start_time": "2023-04-08T11:02:45.020Z"
   },
   {
    "duration": 356,
    "start_time": "2023-04-08T11:02:46.579Z"
   },
   {
    "duration": 17,
    "start_time": "2023-04-08T11:02:46.937Z"
   },
   {
    "duration": 10,
    "start_time": "2023-04-08T11:02:46.956Z"
   },
   {
    "duration": 40,
    "start_time": "2023-04-08T11:02:46.968Z"
   },
   {
    "duration": 37,
    "start_time": "2023-04-08T11:02:47.010Z"
   },
   {
    "duration": 5,
    "start_time": "2023-04-08T11:02:47.050Z"
   },
   {
    "duration": 21,
    "start_time": "2023-04-08T11:02:47.056Z"
   },
   {
    "duration": 167,
    "start_time": "2023-04-08T11:02:47.078Z"
   },
   {
    "duration": 88,
    "start_time": "2023-04-08T11:02:47.248Z"
   },
   {
    "duration": 12,
    "start_time": "2023-04-08T11:02:47.337Z"
   },
   {
    "duration": 82,
    "start_time": "2023-04-08T11:02:47.352Z"
   },
   {
    "duration": 3,
    "start_time": "2023-04-08T11:02:47.435Z"
   },
   {
    "duration": 3525,
    "start_time": "2023-04-08T11:02:47.440Z"
   },
   {
    "duration": 66,
    "start_time": "2023-04-08T11:02:50.967Z"
   },
   {
    "duration": 1013,
    "start_time": "2023-04-08T11:03:58.075Z"
   },
   {
    "duration": 358,
    "start_time": "2023-04-08T11:03:59.090Z"
   },
   {
    "duration": 16,
    "start_time": "2023-04-08T11:03:59.449Z"
   },
   {
    "duration": 25,
    "start_time": "2023-04-08T11:03:59.466Z"
   },
   {
    "duration": 58,
    "start_time": "2023-04-08T11:03:59.492Z"
   },
   {
    "duration": 31,
    "start_time": "2023-04-08T11:03:59.551Z"
   },
   {
    "duration": 3,
    "start_time": "2023-04-08T11:03:59.584Z"
   },
   {
    "duration": 20,
    "start_time": "2023-04-08T11:03:59.589Z"
   },
   {
    "duration": 124,
    "start_time": "2023-04-08T11:03:59.610Z"
   },
   {
    "duration": 94,
    "start_time": "2023-04-08T11:03:59.740Z"
   },
   {
    "duration": 29,
    "start_time": "2023-04-08T11:03:59.836Z"
   },
   {
    "duration": 16,
    "start_time": "2023-04-08T11:03:59.866Z"
   },
   {
    "duration": 16,
    "start_time": "2023-04-08T11:03:59.884Z"
   },
   {
    "duration": 3633,
    "start_time": "2023-04-08T11:03:59.901Z"
   },
   {
    "duration": 113,
    "start_time": "2023-04-08T11:06:39.918Z"
   },
   {
    "duration": 3556,
    "start_time": "2023-04-08T11:06:52.696Z"
   },
   {
    "duration": 3704,
    "start_time": "2023-04-08T11:07:28.303Z"
   },
   {
    "duration": 4004,
    "start_time": "2023-04-08T11:07:33.859Z"
   },
   {
    "duration": 12,
    "start_time": "2023-04-08T11:09:40.238Z"
   },
   {
    "duration": 3,
    "start_time": "2023-04-08T11:09:42.633Z"
   },
   {
    "duration": 4273,
    "start_time": "2023-04-08T11:09:43.292Z"
   },
   {
    "duration": 3,
    "start_time": "2023-04-08T11:10:26.524Z"
   },
   {
    "duration": 3634,
    "start_time": "2023-04-08T11:10:26.874Z"
   },
   {
    "duration": 3809,
    "start_time": "2023-04-08T11:11:04.083Z"
   },
   {
    "duration": 4184,
    "start_time": "2023-04-08T11:11:09.549Z"
   },
   {
    "duration": 1376,
    "start_time": "2023-04-08T11:13:18.810Z"
   },
   {
    "duration": 3718,
    "start_time": "2023-04-08T11:13:24.081Z"
   },
   {
    "duration": 5,
    "start_time": "2023-04-08T11:13:50.452Z"
   },
   {
    "duration": 4,
    "start_time": "2023-04-08T11:13:53.246Z"
   },
   {
    "duration": 4,
    "start_time": "2023-04-08T11:14:17.351Z"
   },
   {
    "duration": 8,
    "start_time": "2023-04-08T11:15:00.979Z"
   },
   {
    "duration": 5118,
    "start_time": "2023-04-08T11:15:47.431Z"
   },
   {
    "duration": 3651,
    "start_time": "2023-04-08T11:15:58.336Z"
   },
   {
    "duration": 1400,
    "start_time": "2023-04-08T11:16:20.327Z"
   },
   {
    "duration": 3812,
    "start_time": "2023-04-08T11:16:32.178Z"
   },
   {
    "duration": 1236,
    "start_time": "2023-04-08T11:17:51.712Z"
   },
   {
    "duration": 365,
    "start_time": "2023-04-08T11:17:52.950Z"
   },
   {
    "duration": 15,
    "start_time": "2023-04-08T11:17:53.317Z"
   },
   {
    "duration": 6,
    "start_time": "2023-04-08T11:17:53.334Z"
   },
   {
    "duration": 38,
    "start_time": "2023-04-08T11:17:53.342Z"
   },
   {
    "duration": 27,
    "start_time": "2023-04-08T11:17:53.381Z"
   },
   {
    "duration": 2,
    "start_time": "2023-04-08T11:17:53.409Z"
   },
   {
    "duration": 8,
    "start_time": "2023-04-08T11:17:53.413Z"
   },
   {
    "duration": 106,
    "start_time": "2023-04-08T11:17:53.434Z"
   },
   {
    "duration": 99,
    "start_time": "2023-04-08T11:17:53.542Z"
   },
   {
    "duration": 99,
    "start_time": "2023-04-08T11:17:53.643Z"
   },
   {
    "duration": 18,
    "start_time": "2023-04-08T11:17:53.743Z"
   },
   {
    "duration": 9,
    "start_time": "2023-04-08T11:17:53.763Z"
   },
   {
    "duration": 3711,
    "start_time": "2023-04-08T11:17:53.774Z"
   },
   {
    "duration": 4014,
    "start_time": "2023-04-08T11:18:39.513Z"
   },
   {
    "duration": 3,
    "start_time": "2023-04-08T11:19:34.765Z"
   },
   {
    "duration": 397,
    "start_time": "2023-04-08T11:19:35.223Z"
   },
   {
    "duration": 19,
    "start_time": "2023-04-08T11:19:36.491Z"
   },
   {
    "duration": 10,
    "start_time": "2023-04-08T11:19:44.879Z"
   },
   {
    "duration": 10,
    "start_time": "2023-04-08T11:19:58.576Z"
   },
   {
    "duration": 12,
    "start_time": "2023-04-08T11:20:16.006Z"
   },
   {
    "duration": 11,
    "start_time": "2023-04-08T11:20:31.093Z"
   },
   {
    "duration": 10,
    "start_time": "2023-04-08T11:20:37.477Z"
   },
   {
    "duration": 92,
    "start_time": "2023-04-08T11:21:15.684Z"
   },
   {
    "duration": 11,
    "start_time": "2023-04-08T11:21:26.297Z"
   },
   {
    "duration": 3,
    "start_time": "2023-04-08T11:21:34.290Z"
   },
   {
    "duration": 358,
    "start_time": "2023-04-08T11:21:34.534Z"
   },
   {
    "duration": 11,
    "start_time": "2023-04-08T11:21:34.893Z"
   },
   {
    "duration": 14,
    "start_time": "2023-04-08T11:21:40.458Z"
   },
   {
    "duration": 3,
    "start_time": "2023-04-08T11:21:44.586Z"
   },
   {
    "duration": 28,
    "start_time": "2023-04-08T11:21:45.322Z"
   },
   {
    "duration": 25,
    "start_time": "2023-04-08T11:21:46.964Z"
   },
   {
    "duration": 3,
    "start_time": "2023-04-08T11:29:51.962Z"
   },
   {
    "duration": 3709,
    "start_time": "2023-04-08T11:30:14.897Z"
   },
   {
    "duration": 3788,
    "start_time": "2023-04-08T11:30:30.809Z"
   },
   {
    "duration": 4,
    "start_time": "2023-04-08T11:31:20.841Z"
   },
   {
    "duration": 6,
    "start_time": "2023-04-08T11:32:06.883Z"
   },
   {
    "duration": 6,
    "start_time": "2023-04-08T11:32:11.553Z"
   },
   {
    "duration": 5,
    "start_time": "2023-04-08T11:32:14.805Z"
   },
   {
    "duration": 5,
    "start_time": "2023-04-08T11:32:17.629Z"
   },
   {
    "duration": 4,
    "start_time": "2023-04-08T11:32:20.460Z"
   },
   {
    "duration": 4,
    "start_time": "2023-04-08T11:32:39.715Z"
   },
   {
    "duration": 4118,
    "start_time": "2023-04-08T11:37:24.457Z"
   },
   {
    "duration": 3676,
    "start_time": "2023-04-08T11:37:29.970Z"
   },
   {
    "duration": 3674,
    "start_time": "2023-04-08T11:37:44.977Z"
   },
   {
    "duration": 3723,
    "start_time": "2023-04-08T11:38:10.378Z"
   },
   {
    "duration": 3602,
    "start_time": "2023-04-08T11:38:48.652Z"
   },
   {
    "duration": 3629,
    "start_time": "2023-04-08T11:40:59.714Z"
   },
   {
    "duration": 115,
    "start_time": "2023-04-08T11:47:15.969Z"
   },
   {
    "duration": 29,
    "start_time": "2023-04-08T11:47:32.684Z"
   },
   {
    "duration": 62,
    "start_time": "2023-04-08T11:47:50.582Z"
   },
   {
    "duration": 10,
    "start_time": "2023-04-08T11:48:31.526Z"
   },
   {
    "duration": 1038,
    "start_time": "2023-04-08T11:52:40.387Z"
   },
   {
    "duration": 408,
    "start_time": "2023-04-08T11:52:41.427Z"
   },
   {
    "duration": 135,
    "start_time": "2023-04-08T11:52:41.837Z"
   },
   {
    "duration": 23,
    "start_time": "2023-04-08T11:52:41.974Z"
   },
   {
    "duration": 14,
    "start_time": "2023-04-08T11:52:41.999Z"
   },
   {
    "duration": 21,
    "start_time": "2023-04-08T11:52:42.033Z"
   },
   {
    "duration": 8,
    "start_time": "2023-04-08T11:52:42.056Z"
   },
   {
    "duration": 49,
    "start_time": "2023-04-08T11:52:42.066Z"
   },
   {
    "duration": 35,
    "start_time": "2023-04-08T11:52:42.117Z"
   },
   {
    "duration": 3,
    "start_time": "2023-04-08T11:52:42.154Z"
   },
   {
    "duration": 12,
    "start_time": "2023-04-08T11:52:42.159Z"
   },
   {
    "duration": 161,
    "start_time": "2023-04-08T11:52:42.173Z"
   },
   {
    "duration": 3,
    "start_time": "2023-04-08T11:52:42.337Z"
   },
   {
    "duration": 105,
    "start_time": "2023-04-08T11:52:42.343Z"
   },
   {
    "duration": 8,
    "start_time": "2023-04-08T11:52:42.449Z"
   },
   {
    "duration": 6,
    "start_time": "2023-04-08T11:52:42.459Z"
   },
   {
    "duration": 4269,
    "start_time": "2023-04-08T11:52:42.467Z"
   },
   {
    "duration": 1139,
    "start_time": "2023-04-09T09:11:53.616Z"
   },
   {
    "duration": 1311,
    "start_time": "2023-04-09T09:11:54.757Z"
   },
   {
    "duration": 115,
    "start_time": "2023-04-09T09:11:56.069Z"
   },
   {
    "duration": 19,
    "start_time": "2023-04-09T09:11:56.185Z"
   },
   {
    "duration": 12,
    "start_time": "2023-04-09T09:11:56.205Z"
   },
   {
    "duration": 53,
    "start_time": "2023-04-09T09:11:56.219Z"
   },
   {
    "duration": 25,
    "start_time": "2023-04-09T09:11:56.274Z"
   },
   {
    "duration": 41,
    "start_time": "2023-04-09T09:11:56.300Z"
   },
   {
    "duration": 25,
    "start_time": "2023-04-09T09:11:56.343Z"
   },
   {
    "duration": 2,
    "start_time": "2023-04-09T09:11:56.370Z"
   },
   {
    "duration": 17,
    "start_time": "2023-04-09T09:11:56.374Z"
   },
   {
    "duration": 63,
    "start_time": "2023-04-09T09:11:56.392Z"
   },
   {
    "duration": 108,
    "start_time": "2023-04-09T09:11:56.457Z"
   },
   {
    "duration": 19,
    "start_time": "2023-04-09T09:11:56.650Z"
   },
   {
    "duration": 8,
    "start_time": "2023-04-09T09:11:56.671Z"
   },
   {
    "duration": 15,
    "start_time": "2023-04-09T09:11:56.680Z"
   },
   {
    "duration": 3446,
    "start_time": "2023-04-09T09:11:56.696Z"
   },
   {
    "duration": 3334,
    "start_time": "2023-04-09T09:12:21.177Z"
   },
   {
    "duration": 3278,
    "start_time": "2023-04-09T09:14:36.904Z"
   },
   {
    "duration": 3306,
    "start_time": "2023-04-09T09:14:59.609Z"
   },
   {
    "duration": 3367,
    "start_time": "2023-04-09T09:15:11.884Z"
   },
   {
    "duration": 3357,
    "start_time": "2023-04-09T09:15:23.774Z"
   },
   {
    "duration": 3284,
    "start_time": "2023-04-09T09:15:40.938Z"
   },
   {
    "duration": 3285,
    "start_time": "2023-04-09T09:15:55.674Z"
   },
   {
    "duration": 1060,
    "start_time": "2023-04-09T09:16:47.068Z"
   },
   {
    "duration": 333,
    "start_time": "2023-04-09T09:16:48.130Z"
   },
   {
    "duration": 121,
    "start_time": "2023-04-09T09:16:48.465Z"
   },
   {
    "duration": 20,
    "start_time": "2023-04-09T09:16:48.588Z"
   },
   {
    "duration": 12,
    "start_time": "2023-04-09T09:16:48.609Z"
   },
   {
    "duration": 31,
    "start_time": "2023-04-09T09:16:48.622Z"
   },
   {
    "duration": 7,
    "start_time": "2023-04-09T09:16:48.654Z"
   },
   {
    "duration": 32,
    "start_time": "2023-04-09T09:16:48.663Z"
   },
   {
    "duration": 26,
    "start_time": "2023-04-09T09:16:48.696Z"
   },
   {
    "duration": 3,
    "start_time": "2023-04-09T09:16:48.724Z"
   },
   {
    "duration": 22,
    "start_time": "2023-04-09T09:16:48.728Z"
   },
   {
    "duration": 99,
    "start_time": "2023-04-09T09:16:48.751Z"
   },
   {
    "duration": 98,
    "start_time": "2023-04-09T09:16:48.852Z"
   },
   {
    "duration": 100,
    "start_time": "2023-04-09T09:16:48.952Z"
   },
   {
    "duration": 4,
    "start_time": "2023-04-09T09:16:49.054Z"
   },
   {
    "duration": 7,
    "start_time": "2023-04-09T09:16:49.059Z"
   },
   {
    "duration": 3392,
    "start_time": "2023-04-09T09:16:49.068Z"
   },
   {
    "duration": 5,
    "start_time": "2023-04-09T09:23:30.614Z"
   },
   {
    "duration": 1130,
    "start_time": "2023-04-09T09:24:34.342Z"
   },
   {
    "duration": 346,
    "start_time": "2023-04-09T09:24:35.473Z"
   },
   {
    "duration": 117,
    "start_time": "2023-04-09T09:24:35.820Z"
   },
   {
    "duration": 22,
    "start_time": "2023-04-09T09:24:35.939Z"
   },
   {
    "duration": 16,
    "start_time": "2023-04-09T09:24:35.963Z"
   },
   {
    "duration": 13,
    "start_time": "2023-04-09T09:24:35.981Z"
   },
   {
    "duration": 13,
    "start_time": "2023-04-09T09:24:35.995Z"
   },
   {
    "duration": 40,
    "start_time": "2023-04-09T09:24:36.010Z"
   },
   {
    "duration": 25,
    "start_time": "2023-04-09T09:24:36.051Z"
   },
   {
    "duration": 2,
    "start_time": "2023-04-09T09:24:36.078Z"
   },
   {
    "duration": 8,
    "start_time": "2023-04-09T09:24:36.081Z"
   },
   {
    "duration": 159,
    "start_time": "2023-04-09T09:24:36.090Z"
   },
   {
    "duration": 4,
    "start_time": "2023-04-09T09:24:36.250Z"
   },
   {
    "duration": 100,
    "start_time": "2023-04-09T09:24:36.255Z"
   },
   {
    "duration": 13,
    "start_time": "2023-04-09T09:24:36.357Z"
   },
   {
    "duration": 6,
    "start_time": "2023-04-09T09:24:36.371Z"
   },
   {
    "duration": 113,
    "start_time": "2023-04-09T09:24:36.379Z"
   },
   {
    "duration": 3391,
    "start_time": "2023-04-09T09:24:52.138Z"
   },
   {
    "duration": 1067,
    "start_time": "2023-04-09T09:25:09.358Z"
   },
   {
    "duration": 341,
    "start_time": "2023-04-09T09:25:10.427Z"
   },
   {
    "duration": 116,
    "start_time": "2023-04-09T09:25:10.770Z"
   },
   {
    "duration": 18,
    "start_time": "2023-04-09T09:25:10.888Z"
   },
   {
    "duration": 12,
    "start_time": "2023-04-09T09:25:10.907Z"
   },
   {
    "duration": 29,
    "start_time": "2023-04-09T09:25:10.920Z"
   },
   {
    "duration": 8,
    "start_time": "2023-04-09T09:25:10.950Z"
   },
   {
    "duration": 52,
    "start_time": "2023-04-09T09:25:10.959Z"
   },
   {
    "duration": 24,
    "start_time": "2023-04-09T09:25:11.013Z"
   },
   {
    "duration": 2,
    "start_time": "2023-04-09T09:25:11.040Z"
   },
   {
    "duration": 15,
    "start_time": "2023-04-09T09:25:11.044Z"
   },
   {
    "duration": 90,
    "start_time": "2023-04-09T09:25:11.060Z"
   },
   {
    "duration": 2,
    "start_time": "2023-04-09T09:25:11.152Z"
   },
   {
    "duration": 105,
    "start_time": "2023-04-09T09:25:11.156Z"
   },
   {
    "duration": 88,
    "start_time": "2023-04-09T09:25:11.263Z"
   },
   {
    "duration": 20,
    "start_time": "2023-04-09T09:25:11.352Z"
   },
   {
    "duration": 3337,
    "start_time": "2023-04-09T09:25:11.374Z"
   },
   {
    "duration": 109,
    "start_time": "2023-04-09T09:32:41.581Z"
   }
  ],
  "kernelspec": {
   "display_name": "Python 3 (ipykernel)",
   "language": "python",
   "name": "python3"
  },
  "language_info": {
   "codemirror_mode": {
    "name": "ipython",
    "version": 3
   },
   "file_extension": ".py",
   "mimetype": "text/x-python",
   "name": "python",
   "nbconvert_exporter": "python",
   "pygments_lexer": "ipython3",
   "version": "3.9.12"
  },
  "toc": {
   "base_numbering": 1,
   "nav_menu": {},
   "number_sections": true,
   "sideBar": true,
   "skip_h1_title": true,
   "title_cell": "Table of Contents",
   "title_sidebar": "Contents",
   "toc_cell": false,
   "toc_position": {},
   "toc_section_display": true,
   "toc_window_display": false
  }
 },
 "nbformat": 4,
 "nbformat_minor": 2
}
