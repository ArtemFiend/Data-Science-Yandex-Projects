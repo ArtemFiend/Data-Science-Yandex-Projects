{
 "cells": [
  {
   "cell_type": "markdown",
   "metadata": {
    "toc": true
   },
   "source": [
    "<h1>Содержание<span class=\"tocSkip\"></span></h1>\n",
    "<div class=\"toc\"><ul class=\"toc-item\"><li><span><a href=\"#Подготовка-данных\" data-toc-modified-id=\"Подготовка-данных-1\"><span class=\"toc-item-num\">1&nbsp;&nbsp;</span>Подготовка данных</a></span></li><li><span><a href=\"#Исследование-задачи\" data-toc-modified-id=\"Исследование-задачи-2\"><span class=\"toc-item-num\">2&nbsp;&nbsp;</span>Исследование задачи</a></span></li><li><span><a href=\"#Борьба-с-дисбалансом\" data-toc-modified-id=\"Борьба-с-дисбалансом-3\"><span class=\"toc-item-num\">3&nbsp;&nbsp;</span>Борьба с дисбалансом</a></span></li><li><span><a href=\"#Тестирование-модели\" data-toc-modified-id=\"Тестирование-модели-4\"><span class=\"toc-item-num\">4&nbsp;&nbsp;</span>Тестирование модели</a></span></li><li><span><a href=\"#Чек-лист-готовности-проекта\" data-toc-modified-id=\"Чек-лист-готовности-проекта-5\"><span class=\"toc-item-num\">5&nbsp;&nbsp;</span>Чек-лист готовности проекта</a></span></li></ul></div>"
   ]
  },
  {
   "cell_type": "markdown",
   "metadata": {},
   "source": [
    "# Отток клиентов"
   ]
  },
  {
   "cell_type": "markdown",
   "metadata": {},
   "source": [
    "Из «Бета-Банка» стали уходить клиенты. Каждый месяц. Немного, но заметно. Банковские маркетологи посчитали: сохранять текущих клиентов дешевле, чем привлекать новых.\n",
    "\n",
    "Нужно спрогнозировать, уйдёт клиент из банка в ближайшее время или нет. Вам предоставлены исторические данные о поведении клиентов и расторжении договоров с банком. \n",
    "\n",
    "Постройте модель с предельно большим значением *F1*-меры. Чтобы сдать проект успешно, нужно довести метрику до 0.59. Проверьте *F1*-меру на тестовой выборке самостоятельно.\n",
    "\n",
    "Дополнительно измеряйте *AUC-ROC*, сравнивайте её значение с *F1*-мерой.\n",
    "\n",
    "Источник данных: [https://www.kaggle.com/barelydedicated/bank-customer-churn-modeling](https://www.kaggle.com/barelydedicated/bank-customer-churn-modeling)"
   ]
  },
  {
   "cell_type": "markdown",
   "metadata": {},
   "source": [
    "## Подготовка данных"
   ]
  },
  {
   "cell_type": "markdown",
   "metadata": {},
   "source": [
    "* Импортируем нужные библиотеки и их функции\n",
    "* Откроем файл, посмотрим его данные\n",
    "* Проверим данные на дупликаты и пропуски"
   ]
  },
  {
   "cell_type": "code",
   "execution_count": 1,
   "metadata": {},
   "outputs": [],
   "source": [
    "import pandas as pd\n",
    "import numpy as np\n",
    "from sklearn.model_selection import train_test_split\n",
    "from sklearn.preprocessing import StandardScaler\n",
    "pd.options.mode.chained_assignment = None\n",
    "import numpy as np\n",
    "from sklearn.tree import DecisionTreeClassifier\n",
    "from sklearn.ensemble import RandomForestClassifier\n",
    "from sklearn.utils import shuffle\n",
    "from sklearn.metrics import (\n",
    "    accuracy_score, confusion_matrix, f1_score, roc_auc_score, \n",
    "    recall_score, precision_score\n",
    ")"
   ]
  },
  {
   "cell_type": "code",
   "execution_count": 2,
   "metadata": {},
   "outputs": [],
   "source": [
    "try:\n",
    "    data = pd.read_csv('/datasets/Churn.csv')\n",
    "except:\n",
    "    data = pd.read_csv('https://code.s3.yandex.net/datasets/Churn.csv')"
   ]
  },
  {
   "cell_type": "code",
   "execution_count": 3,
   "metadata": {},
   "outputs": [
    {
     "name": "stdout",
     "output_type": "stream",
     "text": [
      "<class 'pandas.core.frame.DataFrame'>\n",
      "RangeIndex: 10000 entries, 0 to 9999\n",
      "Data columns (total 14 columns):\n",
      " #   Column           Non-Null Count  Dtype  \n",
      "---  ------           --------------  -----  \n",
      " 0   RowNumber        10000 non-null  int64  \n",
      " 1   CustomerId       10000 non-null  int64  \n",
      " 2   Surname          10000 non-null  object \n",
      " 3   CreditScore      10000 non-null  int64  \n",
      " 4   Geography        10000 non-null  object \n",
      " 5   Gender           10000 non-null  object \n",
      " 6   Age              10000 non-null  int64  \n",
      " 7   Tenure           9091 non-null   float64\n",
      " 8   Balance          10000 non-null  float64\n",
      " 9   NumOfProducts    10000 non-null  int64  \n",
      " 10  HasCrCard        10000 non-null  int64  \n",
      " 11  IsActiveMember   10000 non-null  int64  \n",
      " 12  EstimatedSalary  10000 non-null  float64\n",
      " 13  Exited           10000 non-null  int64  \n",
      "dtypes: float64(3), int64(8), object(3)\n",
      "memory usage: 1.1+ MB\n"
     ]
    }
   ],
   "source": [
    "data.info()"
   ]
  },
  {
   "cell_type": "markdown",
   "metadata": {},
   "source": [
    "Удалим первые 3 столбца, так как они нам не понадобятся"
   ]
  },
  {
   "cell_type": "code",
   "execution_count": 4,
   "metadata": {},
   "outputs": [],
   "source": [
    "data = data.iloc[:,3:]"
   ]
  },
  {
   "cell_type": "code",
   "execution_count": 5,
   "metadata": {},
   "outputs": [
    {
     "data": {
      "text/plain": [
       "0"
      ]
     },
     "execution_count": 5,
     "metadata": {},
     "output_type": "execute_result"
    }
   ],
   "source": [
    "data.duplicated().sum()"
   ]
  },
  {
   "cell_type": "markdown",
   "metadata": {},
   "source": [
    "Дубликатов не обнаружено"
   ]
  },
  {
   "cell_type": "code",
   "execution_count": 6,
   "metadata": {},
   "outputs": [
    {
     "data": {
      "text/plain": [
       "CreditScore          0\n",
       "Geography            0\n",
       "Gender               0\n",
       "Age                  0\n",
       "Tenure             909\n",
       "Balance              0\n",
       "NumOfProducts        0\n",
       "HasCrCard            0\n",
       "IsActiveMember       0\n",
       "EstimatedSalary      0\n",
       "Exited               0\n",
       "dtype: int64"
      ]
     },
     "execution_count": 6,
     "metadata": {},
     "output_type": "execute_result"
    }
   ],
   "source": [
    "data.isna().sum()"
   ]
  },
  {
   "cell_type": "markdown",
   "metadata": {},
   "source": [
    "* Замечаем пропуски в столбце 'Tenture'\n",
    "* Заменим их рандомными значениями "
   ]
  },
  {
   "cell_type": "code",
   "execution_count": 7,
   "metadata": {},
   "outputs": [
    {
     "data": {
      "text/plain": [
       "count    9091.000000\n",
       "mean        4.997690\n",
       "std         2.894723\n",
       "min         0.000000\n",
       "25%         2.000000\n",
       "50%         5.000000\n",
       "75%         7.000000\n",
       "max        10.000000\n",
       "Name: Tenure, dtype: float64"
      ]
     },
     "execution_count": 7,
     "metadata": {},
     "output_type": "execute_result"
    }
   ],
   "source": [
    "data['Tenure'].describe()"
   ]
  },
  {
   "cell_type": "code",
   "execution_count": 8,
   "metadata": {},
   "outputs": [],
   "source": [
    "data['Tenure'] = data['Tenure'].mask(data['Tenure'].isna(), \n",
    "                                   np.random.uniform(1, 10, size=len(data)))"
   ]
  },
  {
   "cell_type": "code",
   "execution_count": 9,
   "metadata": {},
   "outputs": [
    {
     "data": {
      "text/plain": [
       "count    10000.000000\n",
       "mean         5.043074\n",
       "std          2.873750\n",
       "min          0.000000\n",
       "25%          3.000000\n",
       "50%          5.000000\n",
       "75%          7.471693\n",
       "max         10.000000\n",
       "Name: Tenure, dtype: float64"
      ]
     },
     "execution_count": 9,
     "metadata": {},
     "output_type": "execute_result"
    }
   ],
   "source": [
    "data['Tenure'].describe()"
   ]
  },
  {
   "cell_type": "markdown",
   "metadata": {},
   "source": [
    "Посмотрим какие данные встречаются в столбцах 'Gender' и 'Geography'"
   ]
  },
  {
   "cell_type": "code",
   "execution_count": 10,
   "metadata": {},
   "outputs": [
    {
     "data": {
      "text/plain": [
       "Male      5457\n",
       "Female    4543\n",
       "Name: Gender, dtype: int64"
      ]
     },
     "execution_count": 10,
     "metadata": {},
     "output_type": "execute_result"
    }
   ],
   "source": [
    "data['Gender'].value_counts()"
   ]
  },
  {
   "cell_type": "code",
   "execution_count": 11,
   "metadata": {},
   "outputs": [
    {
     "data": {
      "text/plain": [
       "France     5014\n",
       "Germany    2509\n",
       "Spain      2477\n",
       "Name: Geography, dtype: int64"
      ]
     },
     "execution_count": 11,
     "metadata": {},
     "output_type": "execute_result"
    }
   ],
   "source": [
    "data['Geography'].value_counts()"
   ]
  },
  {
   "cell_type": "markdown",
   "metadata": {},
   "source": [
    "Перекодируем категориальные признаки с помощью OHE"
   ]
  },
  {
   "cell_type": "code",
   "execution_count": 12,
   "metadata": {},
   "outputs": [],
   "source": [
    "data_ohe = pd.get_dummies(data, columns = ['Gender', 'Geography'], drop_first=True)"
   ]
  },
  {
   "cell_type": "markdown",
   "metadata": {},
   "source": [
    "Разделим данные на обучающую, валидационную и тестовую выборки в соотношении 3:1:1"
   ]
  },
  {
   "cell_type": "code",
   "execution_count": 13,
   "metadata": {},
   "outputs": [],
   "source": [
    "features = data_ohe.drop('Exited', axis=1)\n",
    "target = data_ohe['Exited']"
   ]
  },
  {
   "cell_type": "code",
   "execution_count": 14,
   "metadata": {},
   "outputs": [],
   "source": [
    "features_train, features_valid, target_train, target_valid = train_test_split(\n",
    "    features, target, test_size=0.4, random_state=12345)\n",
    "\n",
    "features_valid, features_test, target_valid, target_test = train_test_split(\n",
    "    features_valid, target_valid, test_size=0.5, random_state=12345)"
   ]
  },
  {
   "cell_type": "code",
   "execution_count": 15,
   "metadata": {},
   "outputs": [
    {
     "name": "stdout",
     "output_type": "stream",
     "text": [
      "(6000, 11)\n",
      "(2000, 11)\n",
      "(2000, 11)\n"
     ]
    }
   ],
   "source": [
    "print(features_train.shape)\n",
    "print(features_valid.shape)\n",
    "print(features_test.shape)"
   ]
  },
  {
   "cell_type": "markdown",
   "metadata": {},
   "source": [
    "Проведем масштабирование количественных признаков"
   ]
  },
  {
   "cell_type": "code",
   "execution_count": 16,
   "metadata": {},
   "outputs": [],
   "source": [
    "numeric = ['CreditScore', 'Age', 'Tenure', 'Balance', 'EstimatedSalary', \n",
    "           'NumOfProducts']\n",
    "\n",
    "scaler = StandardScaler()\n",
    "scaler.fit(features_train[numeric]) \n",
    "\n",
    "features_train[numeric] = scaler.transform(features_train[numeric])\n",
    "features_valid[numeric] = scaler.transform(features_valid[numeric])\n",
    "features_test[numeric] = scaler.transform(features_test[numeric])"
   ]
  },
  {
   "cell_type": "markdown",
   "metadata": {},
   "source": [
    "## Исследование задачи"
   ]
  },
  {
   "cell_type": "markdown",
   "metadata": {},
   "source": [
    "* Выберем лучшую модель\n",
    "* Подберем оптимальные гиперпараметры"
   ]
  },
  {
   "cell_type": "code",
   "execution_count": 17,
   "metadata": {},
   "outputs": [
    {
     "name": "stdout",
     "output_type": "stream",
     "text": [
      "DecisionTreeClassifier\n",
      "best_depth: 6\n",
      "f1_score: 0.5722983257229833\n",
      "auc_roc: 0.8175406335629903\n"
     ]
    }
   ],
   "source": [
    "best_model = None\n",
    "best_result = 0\n",
    "best_depth = 0\n",
    "best_auc_roc = 0\n",
    "for depth in range(1, 11):\n",
    "    model = DecisionTreeClassifier(random_state=12345, max_depth=depth) \n",
    "    model.fit(features_train, target_train) \n",
    "    predictions = model.predict(features_valid)\n",
    "    result = f1_score(target_valid, predictions) \n",
    "    if result > best_result:\n",
    "        best_model = model\n",
    "        best_result = result\n",
    "        best_depth = depth\n",
    "        probabilities_valid = model.predict_proba(features_valid)\n",
    "        probabilities_one_valid = probabilities_valid[:, 1]\n",
    "        best_auc_roc = roc_auc_score(target_valid, probabilities_one_valid)\n",
    "print('DecisionTreeClassifier')\n",
    "print('best_depth:', best_depth)\n",
    "print('f1_score:', best_result)\n",
    "print('auc_roc:', best_auc_roc)"
   ]
  },
  {
   "cell_type": "code",
   "execution_count": 18,
   "metadata": {},
   "outputs": [
    {
     "name": "stdout",
     "output_type": "stream",
     "text": [
      "RandomForestClassifier\n",
      "best depth: 22\n",
      "best n_estimators: 170\n",
      "f1_score: 0.5794947994056464\n",
      "auc_roc: 0.8364744826668442\n"
     ]
    }
   ],
   "source": [
    "best_f1 = 0\n",
    "best_depth = 0\n",
    "best_auc_roc = 0\n",
    "best_estimators = 0\n",
    "\n",
    "for estimators in range(150, 171, 10):    \n",
    "    for depth in range(12, 30, 10):    \n",
    "        model = RandomForestClassifier(random_state=12345, max_depth=depth, \n",
    "                                       n_estimators=estimators)\n",
    "        model.fit(features_train, target_train)\n",
    "        predicted = model.predict(features_valid)\n",
    "        f1 = f1_score(target_valid, predicted) \n",
    "        if f1 > best_f1:\n",
    "            best_f1 = f1\n",
    "            best_depth = depth\n",
    "            best_estimators = estimators\n",
    "        \n",
    "probabilities = model.predict_proba(features_valid)\n",
    "probabilities_one = probabilities[:,1]\n",
    "best_auc_roc = roc_auc_score(target_valid, probabilities_one) \n",
    "            \n",
    "print('RandomForestClassifier')\n",
    "print('best depth:', best_depth)\n",
    "print('best n_estimators:', best_estimators)\n",
    "print('f1_score:', best_f1)\n",
    "print('auc_roc:', best_auc_roc)"
   ]
  },
  {
   "cell_type": "markdown",
   "metadata": {},
   "source": [
    "По результатам исследования лучшей моделью оказалась RandomForestClassifier"
   ]
  },
  {
   "cell_type": "markdown",
   "metadata": {},
   "source": [
    "## Борьба с дисбалансом"
   ]
  },
  {
   "cell_type": "markdown",
   "metadata": {},
   "source": [
    "Сначала попробуем убрать дисбаланс с помощью аргумента class_weight='balanced'"
   ]
  },
  {
   "cell_type": "code",
   "execution_count": 19,
   "metadata": {},
   "outputs": [
    {
     "name": "stdout",
     "output_type": "stream",
     "text": [
      "DecisionTreeClassifier\n",
      "best_depth: 5\n",
      "f1_score: 0.5957446808510639\n",
      "auc_roc: 0.8317918690531638\n"
     ]
    }
   ],
   "source": [
    "best_model = None\n",
    "best_result = 0\n",
    "best_depth = 0\n",
    "for depth in range(1, 11):\n",
    "    model = DecisionTreeClassifier(random_state=12345, max_depth=depth, \n",
    "                                   class_weight='balanced') \n",
    "    model.fit(features_train, target_train) \n",
    "    predictions = model.predict(features_valid)\n",
    "    result = f1_score(target_valid, predictions) \n",
    "    if result > best_result:\n",
    "        best_model = model\n",
    "        best_result = result\n",
    "        best_depth = depth\n",
    "\n",
    "        probabilities_valid = model.predict_proba(features_valid)\n",
    "        probabilities_one_valid = probabilities_valid[:, 1]\n",
    "\n",
    "        best_auc_roc = roc_auc_score(target_valid, probabilities_one_valid)\n",
    "\n",
    "print('DecisionTreeClassifier')\n",
    "print('best_depth:', best_depth)\n",
    "print('f1_score:', best_result)\n",
    "print('auc_roc:', best_auc_roc)"
   ]
  },
  {
   "cell_type": "code",
   "execution_count": 20,
   "metadata": {},
   "outputs": [
    {
     "name": "stdout",
     "output_type": "stream",
     "text": [
      "RandomForestClassifier\n",
      "f1_score: 0.6119205298013245\n",
      "auc_roc: 0.8487923348193491\n"
     ]
    }
   ],
   "source": [
    "model = RandomForestClassifier(\n",
    "    random_state=12345, max_depth = 12, n_estimators = 170, \n",
    "    class_weight='balanced')\n",
    "\n",
    "model.fit(features_train, target_train) \n",
    "predictions = model.predict(features_valid)\n",
    "result = f1_score(target_valid, predictions)\n",
    "\n",
    "probabilities_valid = model.predict_proba(features_valid)\n",
    "probabilities_one_valid = probabilities_valid[:, 1]\n",
    "\n",
    "auc_roc = roc_auc_score(target_valid, probabilities_one_valid)\n",
    "\n",
    "print('RandomForestClassifier')\n",
    "print('f1_score:', result)\n",
    "print('auc_roc:', auc_roc)"
   ]
  },
  {
   "cell_type": "markdown",
   "metadata": {},
   "source": [
    "Увеличим количество редких признаков в 4 раза"
   ]
  },
  {
   "cell_type": "code",
   "execution_count": 21,
   "metadata": {},
   "outputs": [
    {
     "name": "stdout",
     "output_type": "stream",
     "text": [
      "f1_score: 0.5957446808510639\n",
      "auc_roc: 0.8317918690531638\n"
     ]
    }
   ],
   "source": [
    "def upsample(features, target, repeat):\n",
    "    features_zeros = features[target == 0]\n",
    "    features_ones = features[target == 1]\n",
    "    target_zeros = target[target == 0]\n",
    "    target_ones = target[target == 1]\n",
    "\n",
    "    features_upsampled = pd.concat([features_zeros] + [features_ones] * repeat)\n",
    "    target_upsampled = pd.concat([target_zeros] + [target_ones] * repeat)\n",
    "    \n",
    "    features_upsampled, target_upsampled = shuffle(\n",
    "        features_upsampled, target_upsampled, random_state=12345)\n",
    "    \n",
    "    return features_upsampled, target_upsampled\n",
    "\n",
    "features_upsampled, target_upsampled = upsample(features_train, target_train, 4)\n",
    "\n",
    "model = DecisionTreeClassifier(random_state=12345, max_depth=5)\n",
    "model.fit(features_upsampled, target_upsampled)\n",
    "predicted_valid = model.predict(features_valid) \n",
    "\n",
    "probabilities_valid = model.predict_proba(features_valid)\n",
    "probabilities_one_valid = probabilities_valid[:, 1]\n",
    "\n",
    "auc_roc = roc_auc_score(target_valid, probabilities_one_valid)\n",
    "\n",
    "print('f1_score:', f1_score(target_valid, predicted_valid))\n",
    "print('auc_roc:', auc_roc)"
   ]
  },
  {
   "cell_type": "code",
   "execution_count": 22,
   "metadata": {},
   "outputs": [
    {
     "name": "stdout",
     "output_type": "stream",
     "text": [
      "f1_score: 0.6157407407407407\n",
      "auc_roc: 0.8472559112987619\n"
     ]
    }
   ],
   "source": [
    "def upsample(features, target, repeat):\n",
    "    features_zeros = features[target == 0]\n",
    "    features_ones = features[target == 1]\n",
    "    target_zeros = target[target == 0]\n",
    "    target_ones = target[target == 1]\n",
    "\n",
    "    features_upsampled = pd.concat([features_zeros] + [features_ones] * repeat)\n",
    "    target_upsampled = pd.concat([target_zeros] + [target_ones] * repeat)\n",
    "    \n",
    "    features_upsampled, target_upsampled = shuffle(\n",
    "        features_upsampled, target_upsampled, random_state=12345)\n",
    "    \n",
    "    return features_upsampled, target_upsampled\n",
    "\n",
    "features_upsampled, target_upsampled = upsample(features_train, target_train, 4)\n",
    "\n",
    "model = RandomForestClassifier(\n",
    "    random_state=12345, max_depth = 12, n_estimators = 170, \n",
    "    class_weight='balanced')\n",
    "model.fit(features_upsampled, target_upsampled)\n",
    "predicted_valid = model.predict(features_valid) \n",
    "\n",
    "probabilities_valid = model.predict_proba(features_valid)\n",
    "probabilities_one_valid = probabilities_valid[:, 1]\n",
    "\n",
    "auc_roc = roc_auc_score(target_valid, probabilities_one_valid)\n",
    "\n",
    "print('f1_score:', f1_score(target_valid, predicted_valid))\n",
    "print('auc_roc:', auc_roc)"
   ]
  },
  {
   "cell_type": "markdown",
   "metadata": {},
   "source": [
    "Уменьшим количество частых признаков до 30%"
   ]
  },
  {
   "cell_type": "code",
   "execution_count": 23,
   "metadata": {},
   "outputs": [
    {
     "name": "stdout",
     "output_type": "stream",
     "text": [
      "f1_score: 0.579212916246216\n",
      "auc_roc: 0.8141109007434112\n"
     ]
    }
   ],
   "source": [
    "def downsample(features, target, fraction):\n",
    "    features_zeros = features[target == 0]\n",
    "    features_ones = features[target == 1]\n",
    "    target_zeros = target[target == 0]\n",
    "    target_ones = target[target == 1]\n",
    "\n",
    "    features_downsampled = pd.concat(\n",
    "        [features_zeros.sample(frac=fraction, random_state=12345)] + \n",
    "        [features_ones])\n",
    "    target_downsampled = pd.concat(\n",
    "        [target_zeros.sample(frac=fraction, random_state=12345)] + \n",
    "        [target_ones])\n",
    "    \n",
    "    features_downsampled, target_downsampled = shuffle(\n",
    "        features_downsampled, target_downsampled, random_state=12345)\n",
    "    \n",
    "    return features_downsampled, target_downsampled\n",
    "\n",
    "features_downsampled, target_downsampled = downsample(features_train, \n",
    "                                                      target_train, 0.3)\n",
    "\n",
    "model = DecisionTreeClassifier(random_state=12345, max_depth=5)\n",
    "model.fit(features_downsampled, target_downsampled)\n",
    "predicted_valid = model.predict(features_valid) \n",
    "\n",
    "probabilities_valid = model.predict_proba(features_valid)\n",
    "probabilities_one_valid = probabilities_valid[:, 1]\n",
    "\n",
    "auc_roc = roc_auc_score(target_valid, probabilities_one_valid)\n",
    "\n",
    "print('f1_score:', f1_score(target_valid, predicted_valid))\n",
    "print('auc_roc:', auc_roc)"
   ]
  },
  {
   "cell_type": "code",
   "execution_count": 24,
   "metadata": {},
   "outputs": [
    {
     "name": "stdout",
     "output_type": "stream",
     "text": [
      "f1_score: 0.5978152929493545\n",
      "auc_roc: 0.8438866675941664\n"
     ]
    }
   ],
   "source": [
    "def downsample(features, target, fraction):\n",
    "    features_zeros = features[target == 0]\n",
    "    features_ones = features[target == 1]\n",
    "    target_zeros = target[target == 0]\n",
    "    target_ones = target[target == 1]\n",
    "\n",
    "    features_downsampled = pd.concat(\n",
    "        [features_zeros.sample(frac=fraction, random_state=12345)] + \n",
    "        [features_ones])\n",
    "    target_downsampled = pd.concat(\n",
    "        [target_zeros.sample(frac=fraction, random_state=12345)] + \n",
    "        [target_ones])\n",
    "    \n",
    "    features_downsampled, target_downsampled = shuffle(\n",
    "        features_downsampled, target_downsampled, random_state=12345)\n",
    "    \n",
    "    return features_downsampled, target_downsampled\n",
    "\n",
    "features_downsampled, target_downsampled = downsample(features_train, \n",
    "                                                      target_train, 0.3)\n",
    "\n",
    "model = RandomForestClassifier(\n",
    "    random_state=12345, max_depth = 12, n_estimators = 170, \n",
    "    class_weight='balanced')\n",
    "model.fit(features_downsampled, target_downsampled)\n",
    "predicted_valid = model.predict(features_valid) \n",
    "\n",
    "probabilities_valid = model.predict_proba(features_valid)\n",
    "probabilities_one_valid = probabilities_valid[:, 1]\n",
    "\n",
    "auc_roc = roc_auc_score(target_valid, probabilities_one_valid)\n",
    "\n",
    "print('f1_score:', f1_score(target_valid, predicted_valid))\n",
    "print('auc_roc:', auc_roc)"
   ]
  },
  {
   "cell_type": "markdown",
   "metadata": {},
   "source": [
    "Наилучший результат достигается с помощью  'взвешивания классов'"
   ]
  },
  {
   "cell_type": "markdown",
   "metadata": {},
   "source": [
    "## Тестирование модели"
   ]
  },
  {
   "cell_type": "markdown",
   "metadata": {},
   "source": [
    "Лучшей моделью является RandomForestClassifier cо следующими гиперпараметрами: глубина - 12, количество деревьев - 170, наилучший результат f1 модель достигла при помощи взвешивания классов, так что будем тестировать её."
   ]
  },
  {
   "cell_type": "code",
   "execution_count": 25,
   "metadata": {},
   "outputs": [
    {
     "name": "stdout",
     "output_type": "stream",
     "text": [
      "f1_score: 0.6119205298013245\n",
      "auc_roc: 0.8558099512645579\n",
      "recall_score: 0.5526315789473685\n",
      "precision_score: 0.685459940652819\n",
      "accuracy_score: 0.8535\n"
     ]
    }
   ],
   "source": [
    "model = RandomForestClassifier(\n",
    "    random_state=12345, max_depth = 12, n_estimators = 170, class_weight='balanced')\n",
    "\n",
    "model.fit(features_train, target_train) \n",
    "predictions = model.predict(features_valid)\n",
    "result = f1_score(target_valid, predictions)\n",
    "\n",
    "probabilities_test = model.predict_proba(features_test)\n",
    "probabilities_one_test = probabilities_test[:, 1]\n",
    "\n",
    "auc_roc = roc_auc_score(target_test, probabilities_one_test) \n",
    "\n",
    "print('f1_score:', result)\n",
    "print('auc_roc:', auc_roc)\n",
    "print('recall_score:', recall_score(target_valid, predictions))\n",
    "print('precision_score:', precision_score(target_valid, predictions))\n",
    "print('accuracy_score:', accuracy_score(target_valid, predictions))"
   ]
  },
  {
   "cell_type": "markdown",
   "metadata": {},
   "source": [
    "Сравним результаты с константной моделью"
   ]
  },
  {
   "cell_type": "code",
   "execution_count": 26,
   "metadata": {},
   "outputs": [
    {
     "data": {
      "text/plain": [
       "0.3491539413949649"
      ]
     },
     "execution_count": 26,
     "metadata": {},
     "output_type": "execute_result"
    }
   ],
   "source": [
    "from sklearn.dummy import DummyClassifier\n",
    "dummy_model = DummyClassifier(strategy='constant', constant=1)\n",
    "dummy_model.fit(features_train, target_train)\n",
    "dummy_pred = dummy_model.predict(features_test)\n",
    "f1_score(target_test, dummy_pred)"
   ]
  },
  {
   "cell_type": "markdown",
   "metadata": {},
   "source": [
    "* Лучшая модель - RandomForestClassifier cо следующими гиперпараметрами: глубина - 12, количество деревьев - 170, наилучший результат f1 модель достигла при помощи взвешивания классов. \n",
    "* F1-мера 0,6, больше, чем у константной модели.  \n",
    "* AUC-ROC на тестовой выборке 0,85\n",
    "* Полнота модели (recall) составляет 0.55, что говорит о том, что модель детектирует на отток 55% клиентов с точностью в 67%. \n",
    "* Точность модели (precision) составляет 0.68\n",
    "* Доля правильных ответов (accuracy) составляет 0.85. "
   ]
  },
  {
   "cell_type": "markdown",
   "metadata": {},
   "source": [
    "## Чек-лист готовности проекта"
   ]
  },
  {
   "cell_type": "markdown",
   "metadata": {},
   "source": [
    "Поставьте 'x' в выполненных пунктах. Далее нажмите Shift+Enter."
   ]
  },
  {
   "cell_type": "markdown",
   "metadata": {},
   "source": [
    "- [x]  Jupyter Notebook открыт\n",
    "- [x]  Весь код выполняется без ошибок\n",
    "- [x]  Ячейки с кодом расположены в порядке исполнения\n",
    "- [x]  Выполнен шаг 1: данные подготовлены\n",
    "- [x]  Выполнен шаг 2: задача исследована\n",
    "    - [x]  Исследован баланс классов\n",
    "    - [x]  Изучены модели без учёта дисбаланса\n",
    "    - [x]  Написаны выводы по результатам исследования\n",
    "- [x]  Выполнен шаг 3: учтён дисбаланс\n",
    "    - [x]  Применено несколько способов борьбы с дисбалансом\n",
    "    - [x]  Написаны выводы по результатам исследования\n",
    "- [x]  Выполнен шаг 4: проведено тестирование\n",
    "- [x]  Удалось достичь *F1*-меры не менее 0.59\n",
    "- [x]  Исследована метрика *AUC-ROC*"
   ]
  }
 ],
 "metadata": {
  "ExecuteTimeLog": [
   {
    "duration": 411,
    "start_time": "2023-03-28T11:37:58.655Z"
   },
   {
    "duration": 108,
    "start_time": "2023-03-28T11:38:12.381Z"
   },
   {
    "duration": 43,
    "start_time": "2023-03-28T11:38:21.325Z"
   },
   {
    "duration": 2,
    "start_time": "2023-03-28T11:38:44.747Z"
   },
   {
    "duration": 67,
    "start_time": "2023-03-28T11:38:45.322Z"
   },
   {
    "duration": 67,
    "start_time": "2023-03-28T11:38:49.297Z"
   },
   {
    "duration": 48,
    "start_time": "2023-03-28T11:38:51.947Z"
   },
   {
    "duration": 52,
    "start_time": "2023-03-28T11:38:54.168Z"
   },
   {
    "duration": 70,
    "start_time": "2023-03-28T11:38:57.208Z"
   },
   {
    "duration": 170,
    "start_time": "2023-03-28T11:39:02.522Z"
   },
   {
    "duration": 15,
    "start_time": "2023-03-28T11:39:10.536Z"
   },
   {
    "duration": 49,
    "start_time": "2023-03-28T11:39:21.167Z"
   },
   {
    "duration": 3,
    "start_time": "2023-03-28T11:39:31.347Z"
   },
   {
    "duration": 10,
    "start_time": "2023-03-28T11:39:50.158Z"
   },
   {
    "duration": 11,
    "start_time": "2023-03-28T11:42:54.019Z"
   },
   {
    "duration": 8,
    "start_time": "2023-03-28T11:45:05.600Z"
   },
   {
    "duration": 3,
    "start_time": "2023-03-28T11:45:25.950Z"
   },
   {
    "duration": 42,
    "start_time": "2023-03-28T11:45:26.459Z"
   },
   {
    "duration": 12,
    "start_time": "2023-03-28T11:45:26.600Z"
   },
   {
    "duration": 7,
    "start_time": "2023-03-28T11:45:26.745Z"
   },
   {
    "duration": 8,
    "start_time": "2023-03-28T11:45:26.885Z"
   },
   {
    "duration": 6,
    "start_time": "2023-03-28T11:45:27.959Z"
   },
   {
    "duration": 8,
    "start_time": "2023-03-28T11:45:35.386Z"
   },
   {
    "duration": 4,
    "start_time": "2023-03-28T11:49:12.774Z"
   },
   {
    "duration": 684,
    "start_time": "2023-03-28T11:53:56.869Z"
   },
   {
    "duration": 8,
    "start_time": "2023-03-28T11:54:01.766Z"
   },
   {
    "duration": 10,
    "start_time": "2023-03-28T11:55:23.444Z"
   },
   {
    "duration": 3,
    "start_time": "2023-03-28T11:56:07.617Z"
   },
   {
    "duration": 118,
    "start_time": "2023-03-28T11:56:25.214Z"
   },
   {
    "duration": 8,
    "start_time": "2023-03-28T12:00:40.264Z"
   },
   {
    "duration": 1204,
    "start_time": "2023-03-28T12:00:53.185Z"
   },
   {
    "duration": 8,
    "start_time": "2023-03-28T12:01:04.801Z"
   },
   {
    "duration": 8,
    "start_time": "2023-03-28T12:01:31.596Z"
   },
   {
    "duration": 10,
    "start_time": "2023-03-28T12:01:35.658Z"
   },
   {
    "duration": 22,
    "start_time": "2023-03-28T12:01:40.452Z"
   },
   {
    "duration": 11,
    "start_time": "2023-03-28T12:06:31.009Z"
   },
   {
    "duration": 2,
    "start_time": "2023-03-28T12:10:51.496Z"
   },
   {
    "duration": 39,
    "start_time": "2023-03-28T12:10:51.918Z"
   },
   {
    "duration": 12,
    "start_time": "2023-03-28T12:10:52.096Z"
   },
   {
    "duration": 11,
    "start_time": "2023-03-28T12:10:52.258Z"
   },
   {
    "duration": 8,
    "start_time": "2023-03-28T12:10:52.479Z"
   },
   {
    "duration": 9,
    "start_time": "2023-03-28T12:10:52.822Z"
   },
   {
    "duration": 5,
    "start_time": "2023-03-28T12:10:53.199Z"
   },
   {
    "duration": 9,
    "start_time": "2023-03-28T12:10:53.559Z"
   },
   {
    "duration": 6,
    "start_time": "2023-03-28T12:10:53.790Z"
   },
   {
    "duration": 7,
    "start_time": "2023-03-28T12:10:53.990Z"
   },
   {
    "duration": 8,
    "start_time": "2023-03-28T12:10:54.389Z"
   },
   {
    "duration": 6,
    "start_time": "2023-03-28T12:10:54.757Z"
   },
   {
    "duration": 9,
    "start_time": "2023-03-28T12:10:54.982Z"
   },
   {
    "duration": 3,
    "start_time": "2023-03-28T12:10:55.159Z"
   },
   {
    "duration": 11,
    "start_time": "2023-03-28T12:11:44.173Z"
   },
   {
    "duration": 9,
    "start_time": "2023-03-28T12:11:48.761Z"
   },
   {
    "duration": 8,
    "start_time": "2023-03-28T12:11:52.271Z"
   },
   {
    "duration": 3,
    "start_time": "2023-03-28T12:11:56.160Z"
   },
   {
    "duration": 3,
    "start_time": "2023-03-28T12:11:57.797Z"
   },
   {
    "duration": 8,
    "start_time": "2023-03-28T12:11:58.035Z"
   },
   {
    "duration": 9,
    "start_time": "2023-03-28T12:12:09.552Z"
   },
   {
    "duration": 3,
    "start_time": "2023-03-28T12:12:16.079Z"
   },
   {
    "duration": 39,
    "start_time": "2023-03-28T12:12:16.348Z"
   },
   {
    "duration": 11,
    "start_time": "2023-03-28T12:12:16.708Z"
   },
   {
    "duration": 11,
    "start_time": "2023-03-28T12:12:17.620Z"
   },
   {
    "duration": 9,
    "start_time": "2023-03-28T12:12:18.056Z"
   },
   {
    "duration": 8,
    "start_time": "2023-03-28T12:12:18.231Z"
   },
   {
    "duration": 5,
    "start_time": "2023-03-28T12:12:18.379Z"
   },
   {
    "duration": 9,
    "start_time": "2023-03-28T12:12:18.551Z"
   },
   {
    "duration": 6,
    "start_time": "2023-03-28T12:12:23.490Z"
   },
   {
    "duration": 7,
    "start_time": "2023-03-28T12:12:23.670Z"
   },
   {
    "duration": 12,
    "start_time": "2023-03-28T12:12:23.838Z"
   },
   {
    "duration": 5,
    "start_time": "2023-03-28T12:12:24.143Z"
   },
   {
    "duration": 9,
    "start_time": "2023-03-28T12:12:24.327Z"
   },
   {
    "duration": 3,
    "start_time": "2023-03-28T12:12:24.802Z"
   },
   {
    "duration": 10,
    "start_time": "2023-03-28T12:12:53.643Z"
   },
   {
    "duration": 10,
    "start_time": "2023-03-28T12:13:14.380Z"
   },
   {
    "duration": 3,
    "start_time": "2023-03-28T12:13:34.708Z"
   },
   {
    "duration": 40,
    "start_time": "2023-03-28T12:13:35.611Z"
   },
   {
    "duration": 12,
    "start_time": "2023-03-28T12:13:35.729Z"
   },
   {
    "duration": 10,
    "start_time": "2023-03-28T12:13:35.867Z"
   },
   {
    "duration": 7,
    "start_time": "2023-03-28T12:13:36.107Z"
   },
   {
    "duration": 9,
    "start_time": "2023-03-28T12:13:36.244Z"
   },
   {
    "duration": 6,
    "start_time": "2023-03-28T12:13:36.382Z"
   },
   {
    "duration": 9,
    "start_time": "2023-03-28T12:13:36.716Z"
   },
   {
    "duration": 6,
    "start_time": "2023-03-28T12:13:37.002Z"
   },
   {
    "duration": 6,
    "start_time": "2023-03-28T12:13:37.171Z"
   },
   {
    "duration": 10,
    "start_time": "2023-03-28T12:13:37.575Z"
   },
   {
    "duration": 7,
    "start_time": "2023-03-28T12:13:38.063Z"
   },
   {
    "duration": 9,
    "start_time": "2023-03-28T12:13:38.222Z"
   },
   {
    "duration": 2,
    "start_time": "2023-03-28T12:13:38.373Z"
   },
   {
    "duration": 29,
    "start_time": "2023-03-28T12:13:39.332Z"
   },
   {
    "duration": 3,
    "start_time": "2023-03-28T12:14:07.502Z"
   },
   {
    "duration": 41,
    "start_time": "2023-03-28T12:14:07.956Z"
   },
   {
    "duration": 12,
    "start_time": "2023-03-28T12:14:08.112Z"
   },
   {
    "duration": 10,
    "start_time": "2023-03-28T12:14:08.261Z"
   },
   {
    "duration": 7,
    "start_time": "2023-03-28T12:14:08.413Z"
   },
   {
    "duration": 8,
    "start_time": "2023-03-28T12:14:08.564Z"
   },
   {
    "duration": 4,
    "start_time": "2023-03-28T12:14:08.719Z"
   },
   {
    "duration": 8,
    "start_time": "2023-03-28T12:14:08.893Z"
   },
   {
    "duration": 6,
    "start_time": "2023-03-28T12:14:09.214Z"
   },
   {
    "duration": 6,
    "start_time": "2023-03-28T12:14:09.400Z"
   },
   {
    "duration": 9,
    "start_time": "2023-03-28T12:14:09.628Z"
   },
   {
    "duration": 5,
    "start_time": "2023-03-28T12:14:09.953Z"
   },
   {
    "duration": 9,
    "start_time": "2023-03-28T12:14:10.164Z"
   },
   {
    "duration": 4,
    "start_time": "2023-03-28T12:14:10.344Z"
   },
   {
    "duration": 36,
    "start_time": "2023-03-28T12:14:11.081Z"
   },
   {
    "duration": 1102,
    "start_time": "2023-03-28T15:31:31.115Z"
   },
   {
    "duration": 79,
    "start_time": "2023-03-28T15:31:32.876Z"
   },
   {
    "duration": 14,
    "start_time": "2023-03-28T15:31:33.649Z"
   },
   {
    "duration": 19,
    "start_time": "2023-03-28T15:31:34.124Z"
   },
   {
    "duration": 8,
    "start_time": "2023-03-28T15:31:34.500Z"
   },
   {
    "duration": 11,
    "start_time": "2023-03-28T15:31:34.876Z"
   },
   {
    "duration": 8,
    "start_time": "2023-03-28T15:31:35.142Z"
   },
   {
    "duration": 8,
    "start_time": "2023-03-28T15:31:35.477Z"
   },
   {
    "duration": 7,
    "start_time": "2023-03-28T15:31:36.076Z"
   },
   {
    "duration": 6,
    "start_time": "2023-03-28T15:31:36.247Z"
   },
   {
    "duration": 10,
    "start_time": "2023-03-28T15:31:36.432Z"
   },
   {
    "duration": 7,
    "start_time": "2023-03-28T15:31:36.594Z"
   },
   {
    "duration": 9,
    "start_time": "2023-03-28T15:31:37.003Z"
   },
   {
    "duration": 4,
    "start_time": "2023-03-28T15:31:37.192Z"
   },
   {
    "duration": 42,
    "start_time": "2023-03-28T15:31:37.857Z"
   },
   {
    "duration": 113,
    "start_time": "2023-03-28T15:41:58.120Z"
   },
   {
    "duration": 24,
    "start_time": "2023-03-28T15:43:02.180Z"
   },
   {
    "duration": 3,
    "start_time": "2023-03-28T15:47:06.264Z"
   },
   {
    "duration": 37,
    "start_time": "2023-03-28T15:47:06.430Z"
   },
   {
    "duration": 13,
    "start_time": "2023-03-28T15:47:06.587Z"
   },
   {
    "duration": 11,
    "start_time": "2023-03-28T15:47:06.953Z"
   },
   {
    "duration": 7,
    "start_time": "2023-03-28T15:47:07.255Z"
   },
   {
    "duration": 8,
    "start_time": "2023-03-28T15:47:07.576Z"
   },
   {
    "duration": 4,
    "start_time": "2023-03-28T15:47:07.930Z"
   },
   {
    "duration": 9,
    "start_time": "2023-03-28T15:47:08.424Z"
   },
   {
    "duration": 6,
    "start_time": "2023-03-28T15:47:08.876Z"
   },
   {
    "duration": 7,
    "start_time": "2023-03-28T15:47:09.343Z"
   },
   {
    "duration": 10,
    "start_time": "2023-03-28T15:47:09.728Z"
   },
   {
    "duration": 6,
    "start_time": "2023-03-28T15:47:10.133Z"
   },
   {
    "duration": 9,
    "start_time": "2023-03-28T15:47:10.400Z"
   },
   {
    "duration": 4,
    "start_time": "2023-03-28T15:47:10.691Z"
   },
   {
    "duration": 33,
    "start_time": "2023-03-28T15:47:11.581Z"
   },
   {
    "duration": 26,
    "start_time": "2023-03-28T15:47:12.658Z"
   },
   {
    "duration": 13,
    "start_time": "2023-03-28T15:48:08.722Z"
   },
   {
    "duration": 6,
    "start_time": "2023-03-28T15:48:08.879Z"
   },
   {
    "duration": 6,
    "start_time": "2023-03-28T15:48:15.544Z"
   },
   {
    "duration": 36,
    "start_time": "2023-03-28T15:48:15.689Z"
   },
   {
    "duration": 12,
    "start_time": "2023-03-28T15:48:15.892Z"
   },
   {
    "duration": 13,
    "start_time": "2023-03-28T15:48:16.012Z"
   },
   {
    "duration": 9,
    "start_time": "2023-03-28T15:48:16.280Z"
   },
   {
    "duration": 8,
    "start_time": "2023-03-28T15:48:16.474Z"
   },
   {
    "duration": 5,
    "start_time": "2023-03-28T15:48:16.577Z"
   },
   {
    "duration": 9,
    "start_time": "2023-03-28T15:48:16.777Z"
   },
   {
    "duration": 8,
    "start_time": "2023-03-28T15:48:16.951Z"
   },
   {
    "duration": 8,
    "start_time": "2023-03-28T15:48:17.194Z"
   },
   {
    "duration": 12,
    "start_time": "2023-03-28T15:48:17.584Z"
   },
   {
    "duration": 6,
    "start_time": "2023-03-28T15:48:17.728Z"
   },
   {
    "duration": 10,
    "start_time": "2023-03-28T15:48:17.936Z"
   },
   {
    "duration": 3,
    "start_time": "2023-03-28T15:48:18.178Z"
   },
   {
    "duration": 34,
    "start_time": "2023-03-28T15:48:18.957Z"
   },
   {
    "duration": 22,
    "start_time": "2023-03-28T15:48:19.487Z"
   },
   {
    "duration": 4,
    "start_time": "2023-03-28T15:50:24.252Z"
   },
   {
    "duration": 34,
    "start_time": "2023-03-28T15:50:24.573Z"
   },
   {
    "duration": 18,
    "start_time": "2023-03-28T15:50:24.888Z"
   },
   {
    "duration": 5,
    "start_time": "2023-03-28T15:50:25.358Z"
   },
   {
    "duration": 11,
    "start_time": "2023-03-28T15:50:25.755Z"
   },
   {
    "duration": 8,
    "start_time": "2023-03-28T15:50:25.912Z"
   },
   {
    "duration": 9,
    "start_time": "2023-03-28T15:50:26.089Z"
   },
   {
    "duration": 4,
    "start_time": "2023-03-28T15:50:26.233Z"
   },
   {
    "duration": 9,
    "start_time": "2023-03-28T15:50:26.428Z"
   },
   {
    "duration": 9,
    "start_time": "2023-03-28T15:50:26.666Z"
   },
   {
    "duration": 7,
    "start_time": "2023-03-28T15:50:26.884Z"
   },
   {
    "duration": 9,
    "start_time": "2023-03-28T15:50:27.113Z"
   },
   {
    "duration": 6,
    "start_time": "2023-03-28T15:50:27.320Z"
   },
   {
    "duration": 8,
    "start_time": "2023-03-28T15:50:27.531Z"
   },
   {
    "duration": 5,
    "start_time": "2023-03-28T15:50:27.879Z"
   },
   {
    "duration": 31,
    "start_time": "2023-03-28T15:50:28.542Z"
   },
   {
    "duration": 90,
    "start_time": "2023-03-28T15:50:29.373Z"
   },
   {
    "duration": 110,
    "start_time": "2023-03-28T15:51:58.439Z"
   },
   {
    "duration": 114,
    "start_time": "2023-03-28T15:52:40.450Z"
   },
   {
    "duration": 112,
    "start_time": "2023-03-28T15:55:16.359Z"
   },
   {
    "duration": 96,
    "start_time": "2023-03-28T15:55:38.312Z"
   },
   {
    "duration": 103,
    "start_time": "2023-03-28T15:57:33.614Z"
   },
   {
    "duration": 11,
    "start_time": "2023-03-28T16:02:14.153Z"
   },
   {
    "duration": 12,
    "start_time": "2023-03-28T16:02:26.482Z"
   },
   {
    "duration": 11903,
    "start_time": "2023-03-28T16:02:56.284Z"
   },
   {
    "duration": 92,
    "start_time": "2023-03-28T16:04:10.168Z"
   },
   {
    "duration": 124576,
    "start_time": "2023-03-28T16:04:24.090Z"
   },
   {
    "duration": 255,
    "start_time": "2023-03-28T16:07:55.738Z"
   },
   {
    "duration": 74310,
    "start_time": "2023-03-28T16:08:05.591Z"
   },
   {
    "duration": 266,
    "start_time": "2023-03-28T16:09:22.815Z"
   },
   {
    "duration": 259,
    "start_time": "2023-03-28T16:09:30.985Z"
   },
   {
    "duration": 160661,
    "start_time": "2023-03-28T16:09:42.446Z"
   },
   {
    "duration": 280,
    "start_time": "2023-03-28T16:13:04.938Z"
   },
   {
    "duration": 1541,
    "start_time": "2023-03-28T16:14:33.652Z"
   },
   {
    "duration": 1511,
    "start_time": "2023-03-28T16:14:50.352Z"
   },
   {
    "duration": 1509,
    "start_time": "2023-03-28T16:17:51.035Z"
   },
   {
    "duration": 4,
    "start_time": "2023-03-28T16:19:51.134Z"
   },
   {
    "duration": 63,
    "start_time": "2023-03-28T16:19:58.239Z"
   },
   {
    "duration": 39,
    "start_time": "2023-03-28T16:20:08.091Z"
   },
   {
    "duration": 56,
    "start_time": "2023-03-29T12:00:17.389Z"
   },
   {
    "duration": 1080,
    "start_time": "2023-03-29T12:00:21.324Z"
   },
   {
    "duration": 76,
    "start_time": "2023-03-29T12:00:22.406Z"
   },
   {
    "duration": 12,
    "start_time": "2023-03-29T12:00:22.483Z"
   },
   {
    "duration": 3,
    "start_time": "2023-03-29T12:00:22.497Z"
   },
   {
    "duration": 14,
    "start_time": "2023-03-29T12:00:23.225Z"
   },
   {
    "duration": 8,
    "start_time": "2023-03-29T12:00:23.357Z"
   },
   {
    "duration": 8,
    "start_time": "2023-03-29T12:00:23.523Z"
   },
   {
    "duration": 5,
    "start_time": "2023-03-29T12:00:23.694Z"
   },
   {
    "duration": 7,
    "start_time": "2023-03-29T12:00:23.853Z"
   },
   {
    "duration": 7,
    "start_time": "2023-03-29T12:00:24.019Z"
   },
   {
    "duration": 6,
    "start_time": "2023-03-29T12:00:24.193Z"
   },
   {
    "duration": 9,
    "start_time": "2023-03-29T12:00:24.386Z"
   },
   {
    "duration": 4,
    "start_time": "2023-03-29T12:00:25.122Z"
   },
   {
    "duration": 8,
    "start_time": "2023-03-29T12:00:25.458Z"
   },
   {
    "duration": 3,
    "start_time": "2023-03-29T12:00:26.065Z"
   },
   {
    "duration": 34,
    "start_time": "2023-03-29T12:00:28.549Z"
   },
   {
    "duration": 247,
    "start_time": "2023-03-29T12:00:32.073Z"
   },
   {
    "duration": 114536,
    "start_time": "2023-03-29T12:00:35.070Z"
   },
   {
    "duration": 79675,
    "start_time": "2023-03-29T12:02:45.726Z"
   },
   {
    "duration": 269,
    "start_time": "2023-03-29T12:04:14.927Z"
   },
   {
    "duration": 1501,
    "start_time": "2023-03-29T12:04:16.815Z"
   },
   {
    "duration": 48,
    "start_time": "2023-03-29T12:04:18.318Z"
   },
   {
    "duration": 43,
    "start_time": "2023-03-29T12:04:18.367Z"
   },
   {
    "duration": 1422,
    "start_time": "2023-03-29T12:04:20.358Z"
   },
   {
    "duration": 1361,
    "start_time": "2023-03-29T12:05:30.432Z"
   },
   {
    "duration": 1409,
    "start_time": "2023-03-29T12:05:51.422Z"
   },
   {
    "duration": 142,
    "start_time": "2023-03-29T12:12:03.812Z"
   },
   {
    "duration": 1465,
    "start_time": "2023-03-29T12:12:26.893Z"
   },
   {
    "duration": 1287,
    "start_time": "2023-03-29T12:14:06.683Z"
   },
   {
    "duration": 1308,
    "start_time": "2023-03-29T12:14:33.302Z"
   },
   {
    "duration": 1335,
    "start_time": "2023-03-29T12:15:10.267Z"
   },
   {
    "duration": 1317,
    "start_time": "2023-03-29T12:15:24.729Z"
   },
   {
    "duration": 1241,
    "start_time": "2023-03-29T12:15:30.339Z"
   },
   {
    "duration": 1194,
    "start_time": "2023-03-29T12:15:38.564Z"
   },
   {
    "duration": 40282,
    "start_time": "2023-03-29T12:16:07.590Z"
   },
   {
    "duration": 39030,
    "start_time": "2023-03-29T12:17:03.536Z"
   },
   {
    "duration": 1367,
    "start_time": "2023-03-29T12:18:16.016Z"
   },
   {
    "duration": 214,
    "start_time": "2023-03-29T12:18:35.890Z"
   },
   {
    "duration": 250,
    "start_time": "2023-03-29T12:18:41.594Z"
   },
   {
    "duration": 1380,
    "start_time": "2023-03-29T12:18:45.999Z"
   },
   {
    "duration": 11861,
    "start_time": "2023-03-29T12:19:30.847Z"
   },
   {
    "duration": 53,
    "start_time": "2023-03-29T12:29:42.965Z"
   },
   {
    "duration": 111067,
    "start_time": "2023-03-29T12:31:19.327Z"
   },
   {
    "duration": 261484,
    "start_time": "2023-03-29T12:33:30.867Z"
   },
   {
    "duration": 179144,
    "start_time": "2023-03-29T12:38:22.243Z"
   },
   {
    "duration": 68827,
    "start_time": "2023-03-29T12:41:47.212Z"
   },
   {
    "duration": 69440,
    "start_time": "2023-03-29T12:43:07.867Z"
   },
   {
    "duration": 72539,
    "start_time": "2023-03-29T12:44:30.374Z"
   },
   {
    "duration": 420430,
    "start_time": "2023-03-29T12:45:58.041Z"
   },
   {
    "duration": 184252,
    "start_time": "2023-03-29T12:53:23.628Z"
   },
   {
    "duration": 203838,
    "start_time": "2023-03-29T12:56:53.630Z"
   },
   {
    "duration": 6973,
    "start_time": "2023-03-29T13:00:59.638Z"
   },
   {
    "duration": 93131,
    "start_time": "2023-03-29T13:01:08.151Z"
   },
   {
    "duration": 1450,
    "start_time": "2023-03-29T13:03:01.499Z"
   },
   {
    "duration": 31597,
    "start_time": "2023-03-29T13:03:16.496Z"
   },
   {
    "duration": 1261,
    "start_time": "2023-03-29T13:04:02.841Z"
   },
   {
    "duration": 261,
    "start_time": "2023-03-29T13:04:10.208Z"
   },
   {
    "duration": 1314,
    "start_time": "2023-03-29T13:04:12.050Z"
   },
   {
    "duration": 45,
    "start_time": "2023-03-29T13:04:13.420Z"
   },
   {
    "duration": 32,
    "start_time": "2023-03-29T13:04:19.374Z"
   },
   {
    "duration": 1264,
    "start_time": "2023-03-29T13:06:10.468Z"
   },
   {
    "duration": 148,
    "start_time": "2023-03-29T13:06:28.831Z"
   },
   {
    "duration": 1254,
    "start_time": "2023-03-29T13:06:35.622Z"
   },
   {
    "duration": 44,
    "start_time": "2023-03-29T13:08:26.995Z"
   },
   {
    "duration": 10,
    "start_time": "2023-03-29T13:15:50.825Z"
   },
   {
    "duration": 4,
    "start_time": "2023-03-29T13:15:51.505Z"
   },
   {
    "duration": 4,
    "start_time": "2023-03-29T13:15:53.184Z"
   },
   {
    "duration": 11,
    "start_time": "2023-03-29T13:15:53.327Z"
   },
   {
    "duration": 5,
    "start_time": "2023-03-29T13:15:53.483Z"
   },
   {
    "duration": 5,
    "start_time": "2023-03-29T13:15:56.387Z"
   },
   {
    "duration": 9,
    "start_time": "2023-03-29T13:15:56.519Z"
   },
   {
    "duration": 3,
    "start_time": "2023-03-29T13:15:56.911Z"
   },
   {
    "duration": 33,
    "start_time": "2023-03-29T13:15:58.455Z"
   },
   {
    "duration": 271,
    "start_time": "2023-03-29T13:15:59.169Z"
   },
   {
    "duration": 30140,
    "start_time": "2023-03-29T13:15:59.550Z"
   },
   {
    "duration": 276,
    "start_time": "2023-03-29T13:16:29.692Z"
   },
   {
    "duration": 1342,
    "start_time": "2023-03-29T13:16:29.970Z"
   },
   {
    "duration": 47,
    "start_time": "2023-03-29T13:18:40.432Z"
   },
   {
    "duration": 28,
    "start_time": "2023-03-29T13:18:41.308Z"
   },
   {
    "duration": 1241,
    "start_time": "2023-03-29T13:18:42.761Z"
   },
   {
    "duration": 17,
    "start_time": "2023-03-29T13:20:58.567Z"
   },
   {
    "duration": 15,
    "start_time": "2023-03-29T13:21:08.583Z"
   },
   {
    "duration": 13,
    "start_time": "2023-03-29T13:21:31.047Z"
   },
   {
    "duration": 4,
    "start_time": "2023-03-29T13:21:41.717Z"
   },
   {
    "duration": 34,
    "start_time": "2023-03-29T13:21:41.886Z"
   },
   {
    "duration": 13,
    "start_time": "2023-03-29T13:21:42.038Z"
   },
   {
    "duration": 4,
    "start_time": "2023-03-29T13:21:42.756Z"
   },
   {
    "duration": 11,
    "start_time": "2023-03-29T13:21:43.032Z"
   },
   {
    "duration": 10,
    "start_time": "2023-03-29T13:21:43.806Z"
   },
   {
    "duration": 13,
    "start_time": "2023-03-29T13:21:44.503Z"
   },
   {
    "duration": 6,
    "start_time": "2023-03-29T13:21:44.912Z"
   },
   {
    "duration": 9,
    "start_time": "2023-03-29T13:21:45.336Z"
   },
   {
    "duration": 10,
    "start_time": "2023-03-29T13:21:46.188Z"
   },
   {
    "duration": 7,
    "start_time": "2023-03-29T13:21:46.444Z"
   },
   {
    "duration": 11,
    "start_time": "2023-03-29T13:21:47.248Z"
   },
   {
    "duration": 12,
    "start_time": "2023-03-29T13:21:51.168Z"
   },
   {
    "duration": 4,
    "start_time": "2023-03-29T13:21:54.939Z"
   },
   {
    "duration": 34,
    "start_time": "2023-03-29T13:21:55.082Z"
   },
   {
    "duration": 13,
    "start_time": "2023-03-29T13:21:55.238Z"
   },
   {
    "duration": 4,
    "start_time": "2023-03-29T13:21:55.666Z"
   },
   {
    "duration": 15,
    "start_time": "2023-03-29T13:21:55.826Z"
   },
   {
    "duration": 7,
    "start_time": "2023-03-29T13:21:56.167Z"
   },
   {
    "duration": 10,
    "start_time": "2023-03-29T13:21:56.788Z"
   },
   {
    "duration": 5,
    "start_time": "2023-03-29T13:21:57.381Z"
   },
   {
    "duration": 12,
    "start_time": "2023-03-29T13:21:57.748Z"
   },
   {
    "duration": 8,
    "start_time": "2023-03-29T13:21:58.531Z"
   },
   {
    "duration": 9,
    "start_time": "2023-03-29T13:21:58.751Z"
   },
   {
    "duration": 9,
    "start_time": "2023-03-29T13:21:59.642Z"
   },
   {
    "duration": 8,
    "start_time": "2023-03-29T13:22:22.493Z"
   },
   {
    "duration": 8,
    "start_time": "2023-03-29T13:22:23.072Z"
   },
   {
    "duration": 7,
    "start_time": "2023-03-29T13:22:23.502Z"
   },
   {
    "duration": 36,
    "start_time": "2023-03-29T13:22:24.433Z"
   },
   {
    "duration": 246,
    "start_time": "2023-03-29T13:22:26.359Z"
   },
   {
    "duration": 30596,
    "start_time": "2023-03-29T13:22:26.764Z"
   },
   {
    "duration": 271,
    "start_time": "2023-03-29T13:22:57.362Z"
   },
   {
    "duration": 17969,
    "start_time": "2023-03-29T13:23:14.956Z"
   },
   {
    "duration": 259,
    "start_time": "2023-03-29T13:23:47.232Z"
   },
   {
    "duration": 117,
    "start_time": "2023-03-29T13:23:51.275Z"
   },
   {
    "duration": 46,
    "start_time": "2023-03-29T13:23:54.498Z"
   },
   {
    "duration": 32,
    "start_time": "2023-03-29T13:23:59.381Z"
   },
   {
    "duration": 1320,
    "start_time": "2023-03-29T13:24:00.930Z"
   },
   {
    "duration": 126,
    "start_time": "2023-03-29T13:24:08.889Z"
   },
   {
    "duration": 144,
    "start_time": "2023-03-29T13:25:06.677Z"
   },
   {
    "duration": 139,
    "start_time": "2023-03-29T13:25:19.104Z"
   },
   {
    "duration": 138,
    "start_time": "2023-03-29T13:25:30.885Z"
   },
   {
    "duration": 140,
    "start_time": "2023-03-29T13:25:35.831Z"
   },
   {
    "duration": 103,
    "start_time": "2023-03-29T13:25:40.242Z"
   },
   {
    "duration": 147,
    "start_time": "2023-03-29T13:25:44.125Z"
   },
   {
    "duration": 5765,
    "start_time": "2023-03-29T13:26:08.041Z"
   },
   {
    "duration": 263,
    "start_time": "2023-03-29T13:26:32.870Z"
   },
   {
    "duration": 141,
    "start_time": "2023-03-29T13:26:34.657Z"
   },
   {
    "duration": 45,
    "start_time": "2023-03-29T13:26:36.475Z"
   },
   {
    "duration": 152,
    "start_time": "2023-03-29T13:26:47.630Z"
   },
   {
    "duration": 49,
    "start_time": "2023-03-29T13:26:48.987Z"
   },
   {
    "duration": 28,
    "start_time": "2023-03-29T13:26:53.935Z"
   },
   {
    "duration": 114,
    "start_time": "2023-03-29T13:27:01.316Z"
   },
   {
    "duration": 160085,
    "start_time": "2023-03-29T13:27:40.809Z"
   },
   {
    "duration": 104319,
    "start_time": "2023-03-29T13:30:36.422Z"
   },
   {
    "duration": 1371,
    "start_time": "2023-03-29T13:32:20.743Z"
   },
   {
    "duration": 123196,
    "start_time": "2023-03-29T13:33:32.519Z"
   },
   {
    "duration": 1702,
    "start_time": "2023-03-29T13:35:35.717Z"
   },
   {
    "duration": 1755,
    "start_time": "2023-03-29T13:36:35.700Z"
   },
   {
    "duration": 1918,
    "start_time": "2023-03-29T13:36:48.279Z"
   },
   {
    "duration": 53,
    "start_time": "2023-03-29T13:36:52.011Z"
   },
   {
    "duration": 28,
    "start_time": "2023-03-29T13:36:53.603Z"
   },
   {
    "duration": 1828,
    "start_time": "2023-03-29T13:36:55.028Z"
   },
   {
    "duration": 1292,
    "start_time": "2023-03-29T13:38:06.278Z"
   },
   {
    "duration": 33182,
    "start_time": "2023-03-29T13:38:31.075Z"
   },
   {
    "duration": 1377,
    "start_time": "2023-03-29T13:39:04.259Z"
   },
   {
    "duration": 1351,
    "start_time": "2023-03-29T13:47:25.089Z"
   },
   {
    "duration": 1588,
    "start_time": "2023-03-29T13:47:44.534Z"
   },
   {
    "duration": 1472,
    "start_time": "2023-03-29T13:47:51.218Z"
   },
   {
    "duration": 1394,
    "start_time": "2023-03-29T13:47:56.737Z"
   },
   {
    "duration": 12,
    "start_time": "2023-03-29T13:49:53.538Z"
   },
   {
    "duration": 3,
    "start_time": "2023-03-29T13:50:26.568Z"
   },
   {
    "duration": 7327,
    "start_time": "2023-03-29T13:50:34.767Z"
   },
   {
    "duration": 14381,
    "start_time": "2023-03-29T13:50:43.995Z"
   },
   {
    "duration": 147,
    "start_time": "2023-03-29T13:51:50.586Z"
   },
   {
    "duration": 61658,
    "start_time": "2023-03-29T13:52:30.769Z"
   },
   {
    "duration": 145,
    "start_time": "2023-03-29T13:53:43.374Z"
   },
   {
    "duration": 276,
    "start_time": "2023-03-29T13:54:28.317Z"
   },
   {
    "duration": 147,
    "start_time": "2023-03-29T13:54:35.118Z"
   },
   {
    "duration": 42,
    "start_time": "2023-03-29T13:54:44.021Z"
   },
   {
    "duration": 41,
    "start_time": "2023-03-29T13:54:48.553Z"
   },
   {
    "duration": 1149,
    "start_time": "2023-03-29T13:54:51.272Z"
   },
   {
    "duration": 141,
    "start_time": "2023-03-29T13:54:59.432Z"
   },
   {
    "duration": 1156,
    "start_time": "2023-03-29T13:55:13.993Z"
   },
   {
    "duration": 1002,
    "start_time": "2023-03-29T13:56:02.640Z"
   },
   {
    "duration": 1213,
    "start_time": "2023-03-29T13:56:12.769Z"
   },
   {
    "duration": 1295,
    "start_time": "2023-03-29T13:56:34.734Z"
   },
   {
    "duration": 4,
    "start_time": "2023-03-29T13:57:29.658Z"
   },
   {
    "duration": 33,
    "start_time": "2023-03-29T13:57:29.717Z"
   },
   {
    "duration": 12,
    "start_time": "2023-03-29T13:57:29.797Z"
   },
   {
    "duration": 4,
    "start_time": "2023-03-29T13:57:29.968Z"
   },
   {
    "duration": 11,
    "start_time": "2023-03-29T13:57:30.049Z"
   },
   {
    "duration": 7,
    "start_time": "2023-03-29T13:57:30.215Z"
   },
   {
    "duration": 9,
    "start_time": "2023-03-29T13:57:30.384Z"
   },
   {
    "duration": 4,
    "start_time": "2023-03-29T13:57:30.469Z"
   },
   {
    "duration": 8,
    "start_time": "2023-03-29T13:57:30.550Z"
   },
   {
    "duration": 7,
    "start_time": "2023-03-29T13:57:30.718Z"
   },
   {
    "duration": 7,
    "start_time": "2023-03-29T13:57:30.801Z"
   },
   {
    "duration": 9,
    "start_time": "2023-03-29T13:57:30.969Z"
   },
   {
    "duration": 5,
    "start_time": "2023-03-29T13:57:31.138Z"
   },
   {
    "duration": 7,
    "start_time": "2023-03-29T13:57:31.224Z"
   },
   {
    "duration": 4,
    "start_time": "2023-03-29T13:57:31.306Z"
   },
   {
    "duration": 30,
    "start_time": "2023-03-29T13:57:31.474Z"
   },
   {
    "duration": 267,
    "start_time": "2023-03-29T13:57:31.723Z"
   },
   {
    "duration": 30625,
    "start_time": "2023-03-29T13:57:31.992Z"
   },
   {
    "duration": 281,
    "start_time": "2023-03-29T13:58:02.619Z"
   },
   {
    "duration": 1293,
    "start_time": "2023-03-29T13:58:02.902Z"
   },
   {
    "duration": 44,
    "start_time": "2023-03-29T13:58:04.197Z"
   },
   {
    "duration": 48,
    "start_time": "2023-03-29T13:58:04.243Z"
   },
   {
    "duration": 1264,
    "start_time": "2023-03-29T13:58:04.293Z"
   },
   {
    "duration": 1307,
    "start_time": "2023-03-29T13:59:27.729Z"
   },
   {
    "duration": 1369,
    "start_time": "2023-03-29T14:01:04.880Z"
   },
   {
    "duration": 4,
    "start_time": "2023-03-29T14:01:44.141Z"
   },
   {
    "duration": 34,
    "start_time": "2023-03-29T14:01:44.485Z"
   },
   {
    "duration": 12,
    "start_time": "2023-03-29T14:01:44.668Z"
   },
   {
    "duration": 5,
    "start_time": "2023-03-29T14:01:45.038Z"
   },
   {
    "duration": 10,
    "start_time": "2023-03-29T14:01:45.424Z"
   },
   {
    "duration": 7,
    "start_time": "2023-03-29T14:01:46.062Z"
   },
   {
    "duration": 8,
    "start_time": "2023-03-29T14:01:46.814Z"
   },
   {
    "duration": 6,
    "start_time": "2023-03-29T14:01:47.325Z"
   },
   {
    "duration": 9,
    "start_time": "2023-03-29T14:01:47.931Z"
   },
   {
    "duration": 6,
    "start_time": "2023-03-29T14:01:48.666Z"
   },
   {
    "duration": 8,
    "start_time": "2023-03-29T14:01:49.085Z"
   },
   {
    "duration": 12,
    "start_time": "2023-03-29T14:01:57.860Z"
   },
   {
    "duration": 5,
    "start_time": "2023-03-29T14:01:58.364Z"
   },
   {
    "duration": 10,
    "start_time": "2023-03-29T14:01:58.623Z"
   },
   {
    "duration": 3,
    "start_time": "2023-03-29T14:01:59.039Z"
   },
   {
    "duration": 31,
    "start_time": "2023-03-29T14:01:59.462Z"
   },
   {
    "duration": 201,
    "start_time": "2023-03-29T14:02:00.589Z"
   },
   {
    "duration": 26505,
    "start_time": "2023-03-29T14:02:06.014Z"
   },
   {
    "duration": 200,
    "start_time": "2023-03-29T14:02:39.029Z"
   },
   {
    "duration": 1159,
    "start_time": "2023-03-29T14:02:43.055Z"
   },
   {
    "duration": 37,
    "start_time": "2023-03-29T14:02:55.241Z"
   },
   {
    "duration": 30,
    "start_time": "2023-03-29T14:02:56.165Z"
   },
   {
    "duration": 1176,
    "start_time": "2023-03-29T14:03:00.196Z"
   },
   {
    "duration": 3,
    "start_time": "2023-03-29T14:03:32.503Z"
   },
   {
    "duration": 34,
    "start_time": "2023-03-29T14:03:34.366Z"
   },
   {
    "duration": 12,
    "start_time": "2023-03-29T14:03:34.939Z"
   },
   {
    "duration": 3,
    "start_time": "2023-03-29T14:03:36.047Z"
   },
   {
    "duration": 11,
    "start_time": "2023-03-29T14:03:36.498Z"
   },
   {
    "duration": 7,
    "start_time": "2023-03-29T14:03:46.330Z"
   },
   {
    "duration": 11,
    "start_time": "2023-03-29T14:03:52.265Z"
   },
   {
    "duration": 4,
    "start_time": "2023-03-29T14:05:17.049Z"
   },
   {
    "duration": 10,
    "start_time": "2023-03-29T14:05:18.151Z"
   },
   {
    "duration": 7,
    "start_time": "2023-03-29T14:05:24.229Z"
   },
   {
    "duration": 6,
    "start_time": "2023-03-29T14:05:24.862Z"
   },
   {
    "duration": 8,
    "start_time": "2023-03-29T14:05:25.369Z"
   },
   {
    "duration": 5,
    "start_time": "2023-03-29T14:05:25.696Z"
   },
   {
    "duration": 7,
    "start_time": "2023-03-29T14:05:25.847Z"
   },
   {
    "duration": 3,
    "start_time": "2023-03-29T14:05:26.005Z"
   },
   {
    "duration": 28,
    "start_time": "2023-03-29T14:05:26.337Z"
   },
   {
    "duration": 219,
    "start_time": "2023-03-29T14:05:27.285Z"
   },
   {
    "duration": 25070,
    "start_time": "2023-03-29T14:05:27.507Z"
   },
   {
    "duration": 206,
    "start_time": "2023-03-29T14:05:52.579Z"
   },
   {
    "duration": 1100,
    "start_time": "2023-03-29T14:05:52.789Z"
   },
   {
    "duration": 38,
    "start_time": "2023-03-29T14:05:58.951Z"
   },
   {
    "duration": 38,
    "start_time": "2023-03-29T14:05:59.940Z"
   },
   {
    "duration": 1132,
    "start_time": "2023-03-29T14:06:00.678Z"
   },
   {
    "duration": 1045,
    "start_time": "2023-03-29T14:06:05.366Z"
   },
   {
    "duration": 1048,
    "start_time": "2023-03-29T14:06:09.888Z"
   },
   {
    "duration": 6,
    "start_time": "2023-03-29T14:06:24.506Z"
   },
   {
    "duration": 4,
    "start_time": "2023-03-29T14:06:29.860Z"
   },
   {
    "duration": 34,
    "start_time": "2023-03-29T14:06:30.421Z"
   },
   {
    "duration": 12,
    "start_time": "2023-03-29T14:06:30.575Z"
   },
   {
    "duration": 5,
    "start_time": "2023-03-29T14:06:31.061Z"
   },
   {
    "duration": 11,
    "start_time": "2023-03-29T14:06:31.458Z"
   },
   {
    "duration": 7,
    "start_time": "2023-03-29T14:06:31.783Z"
   },
   {
    "duration": 9,
    "start_time": "2023-03-29T14:06:32.224Z"
   },
   {
    "duration": 6,
    "start_time": "2023-03-29T14:06:32.564Z"
   },
   {
    "duration": 9,
    "start_time": "2023-03-29T14:06:32.750Z"
   },
   {
    "duration": 6,
    "start_time": "2023-03-29T14:06:33.092Z"
   },
   {
    "duration": 9,
    "start_time": "2023-03-29T14:06:33.349Z"
   },
   {
    "duration": 11,
    "start_time": "2023-03-29T14:06:33.750Z"
   },
   {
    "duration": 6,
    "start_time": "2023-03-29T14:06:34.134Z"
   },
   {
    "duration": 8,
    "start_time": "2023-03-29T14:06:34.305Z"
   },
   {
    "duration": 3,
    "start_time": "2023-03-29T14:06:34.496Z"
   },
   {
    "duration": 29,
    "start_time": "2023-03-29T14:06:34.818Z"
   },
   {
    "duration": 179,
    "start_time": "2023-03-29T14:06:35.328Z"
   },
   {
    "duration": 25592,
    "start_time": "2023-03-29T14:06:35.520Z"
   },
   {
    "duration": 217,
    "start_time": "2023-03-29T14:07:01.114Z"
   },
   {
    "duration": 1209,
    "start_time": "2023-03-29T14:07:01.333Z"
   },
   {
    "duration": 57,
    "start_time": "2023-03-29T14:07:02.544Z"
   },
   {
    "duration": 28,
    "start_time": "2023-03-29T14:07:02.603Z"
   },
   {
    "duration": 1142,
    "start_time": "2023-03-29T14:07:02.634Z"
   },
   {
    "duration": 3,
    "start_time": "2023-03-29T14:08:16.244Z"
   },
   {
    "duration": 32,
    "start_time": "2023-03-29T14:08:16.339Z"
   },
   {
    "duration": 11,
    "start_time": "2023-03-29T14:08:16.485Z"
   },
   {
    "duration": 4,
    "start_time": "2023-03-29T14:08:17.204Z"
   },
   {
    "duration": 10,
    "start_time": "2023-03-29T14:08:17.210Z"
   },
   {
    "duration": 8,
    "start_time": "2023-03-29T14:08:17.299Z"
   },
   {
    "duration": 11,
    "start_time": "2023-03-29T14:08:18.104Z"
   },
   {
    "duration": 5,
    "start_time": "2023-03-29T14:08:21.016Z"
   },
   {
    "duration": 10,
    "start_time": "2023-03-29T14:08:21.841Z"
   },
   {
    "duration": 7,
    "start_time": "2023-03-29T14:08:23.088Z"
   },
   {
    "duration": 6,
    "start_time": "2023-03-29T14:08:23.385Z"
   },
   {
    "duration": 9,
    "start_time": "2023-03-29T14:08:24.153Z"
   },
   {
    "duration": 5,
    "start_time": "2023-03-29T14:08:24.900Z"
   },
   {
    "duration": 11,
    "start_time": "2023-03-29T14:08:25.197Z"
   },
   {
    "duration": 4,
    "start_time": "2023-03-29T14:08:25.513Z"
   },
   {
    "duration": 44,
    "start_time": "2023-03-29T14:08:26.228Z"
   },
   {
    "duration": 193,
    "start_time": "2023-03-29T14:08:27.817Z"
   },
   {
    "duration": 25029,
    "start_time": "2023-03-29T14:08:31.255Z"
   },
   {
    "duration": 6276,
    "start_time": "2023-03-29T14:09:14.062Z"
   },
   {
    "duration": 6542,
    "start_time": "2023-03-29T14:10:26.526Z"
   },
   {
    "duration": 6389,
    "start_time": "2023-03-29T14:10:34.387Z"
   },
   {
    "duration": 6660,
    "start_time": "2023-03-29T14:10:55.473Z"
   },
   {
    "duration": 188,
    "start_time": "2023-03-29T14:11:02.135Z"
   },
   {
    "duration": 1187,
    "start_time": "2023-03-29T14:11:09.157Z"
   },
   {
    "duration": 1085,
    "start_time": "2023-03-29T14:11:15.357Z"
   },
   {
    "duration": 38,
    "start_time": "2023-03-29T14:11:20.262Z"
   },
   {
    "duration": 26,
    "start_time": "2023-03-29T14:11:21.190Z"
   },
   {
    "duration": 1163,
    "start_time": "2023-03-29T14:11:27.358Z"
   },
   {
    "duration": 1073,
    "start_time": "2023-03-29T14:11:35.660Z"
   },
   {
    "duration": 1064,
    "start_time": "2023-03-29T14:11:41.347Z"
   },
   {
    "duration": 4,
    "start_time": "2023-03-29T14:12:50.409Z"
   },
   {
    "duration": 33,
    "start_time": "2023-03-29T14:12:50.899Z"
   },
   {
    "duration": 12,
    "start_time": "2023-03-29T14:12:50.979Z"
   },
   {
    "duration": 4,
    "start_time": "2023-03-29T14:12:51.148Z"
   },
   {
    "duration": 10,
    "start_time": "2023-03-29T14:12:51.231Z"
   },
   {
    "duration": 7,
    "start_time": "2023-03-29T14:12:51.399Z"
   },
   {
    "duration": 9,
    "start_time": "2023-03-29T14:12:51.568Z"
   },
   {
    "duration": 6,
    "start_time": "2023-03-29T14:12:51.655Z"
   },
   {
    "duration": 8,
    "start_time": "2023-03-29T14:12:51.734Z"
   },
   {
    "duration": 6,
    "start_time": "2023-03-29T14:12:51.903Z"
   },
   {
    "duration": 7,
    "start_time": "2023-03-29T14:12:51.989Z"
   },
   {
    "duration": 10,
    "start_time": "2023-03-29T14:12:52.155Z"
   },
   {
    "duration": 5,
    "start_time": "2023-03-29T14:12:52.323Z"
   },
   {
    "duration": 8,
    "start_time": "2023-03-29T14:12:52.410Z"
   },
   {
    "duration": 4,
    "start_time": "2023-03-29T14:12:52.492Z"
   },
   {
    "duration": 41,
    "start_time": "2023-03-29T14:12:52.660Z"
   },
   {
    "duration": 192,
    "start_time": "2023-03-29T14:12:52.957Z"
   },
   {
    "duration": 6579,
    "start_time": "2023-03-29T14:12:53.152Z"
   },
   {
    "duration": 202,
    "start_time": "2023-03-29T14:12:59.733Z"
   },
   {
    "duration": 1104,
    "start_time": "2023-03-29T14:12:59.937Z"
   },
   {
    "duration": 46,
    "start_time": "2023-03-29T14:13:01.043Z"
   },
   {
    "duration": 26,
    "start_time": "2023-03-29T14:13:01.091Z"
   },
   {
    "duration": 1099,
    "start_time": "2023-03-29T14:13:01.118Z"
   },
   {
    "duration": 40,
    "start_time": "2023-03-29T14:19:35.958Z"
   },
   {
    "duration": 26,
    "start_time": "2023-03-29T14:19:41.110Z"
   },
   {
    "duration": 11,
    "start_time": "2023-03-29T14:19:51.987Z"
   },
   {
    "duration": 33,
    "start_time": "2023-03-29T14:19:52.027Z"
   },
   {
    "duration": 12,
    "start_time": "2023-03-29T14:19:52.111Z"
   },
   {
    "duration": 4,
    "start_time": "2023-03-29T14:19:52.283Z"
   },
   {
    "duration": 10,
    "start_time": "2023-03-29T14:19:52.362Z"
   },
   {
    "duration": 8,
    "start_time": "2023-03-29T14:19:52.530Z"
   },
   {
    "duration": 9,
    "start_time": "2023-03-29T14:19:52.704Z"
   },
   {
    "duration": 8,
    "start_time": "2023-03-29T14:19:52.792Z"
   },
   {
    "duration": 11,
    "start_time": "2023-03-29T14:19:52.865Z"
   },
   {
    "duration": 8,
    "start_time": "2023-03-29T14:19:53.033Z"
   },
   {
    "duration": 8,
    "start_time": "2023-03-29T14:19:53.116Z"
   },
   {
    "duration": 11,
    "start_time": "2023-03-29T14:19:53.288Z"
   },
   {
    "duration": 5,
    "start_time": "2023-03-29T14:19:53.452Z"
   },
   {
    "duration": 6,
    "start_time": "2023-03-29T14:19:53.541Z"
   },
   {
    "duration": 3,
    "start_time": "2023-03-29T14:19:53.622Z"
   },
   {
    "duration": 33,
    "start_time": "2023-03-29T14:19:53.789Z"
   },
   {
    "duration": 197,
    "start_time": "2023-03-29T14:19:54.044Z"
   },
   {
    "duration": 6920,
    "start_time": "2023-03-29T14:19:54.243Z"
   },
   {
    "duration": 197,
    "start_time": "2023-03-29T14:20:13.360Z"
   },
   {
    "duration": 1106,
    "start_time": "2023-03-29T14:20:22.502Z"
   },
   {
    "duration": 42,
    "start_time": "2023-03-29T14:20:30.287Z"
   },
   {
    "duration": 28,
    "start_time": "2023-03-29T14:20:35.319Z"
   },
   {
    "duration": 1064,
    "start_time": "2023-03-29T14:20:39.687Z"
   },
   {
    "duration": 1089,
    "start_time": "2023-03-30T12:04:11.132Z"
   },
   {
    "duration": 104,
    "start_time": "2023-03-30T12:08:25.601Z"
   },
   {
    "duration": 6738,
    "start_time": "2023-03-30T12:08:35.192Z"
   },
   {
    "duration": 1949,
    "start_time": "2023-03-30T12:10:05.207Z"
   },
   {
    "duration": 926,
    "start_time": "2023-03-30T12:10:07.160Z"
   },
   {
    "duration": 78,
    "start_time": "2023-03-30T12:10:08.088Z"
   },
   {
    "duration": 12,
    "start_time": "2023-03-30T12:10:08.168Z"
   },
   {
    "duration": 4,
    "start_time": "2023-03-30T12:10:08.182Z"
   },
   {
    "duration": 14,
    "start_time": "2023-03-30T12:10:08.187Z"
   },
   {
    "duration": 7,
    "start_time": "2023-03-30T12:10:08.202Z"
   },
   {
    "duration": 9,
    "start_time": "2023-03-30T12:10:08.210Z"
   },
   {
    "duration": 5,
    "start_time": "2023-03-30T12:10:08.221Z"
   },
   {
    "duration": 47,
    "start_time": "2023-03-30T12:10:08.229Z"
   },
   {
    "duration": 6,
    "start_time": "2023-03-30T12:10:08.278Z"
   },
   {
    "duration": 5,
    "start_time": "2023-03-30T12:10:08.286Z"
   },
   {
    "duration": 9,
    "start_time": "2023-03-30T12:10:08.292Z"
   },
   {
    "duration": 7,
    "start_time": "2023-03-30T12:10:08.303Z"
   },
   {
    "duration": 29,
    "start_time": "2023-03-30T12:10:08.312Z"
   },
   {
    "duration": 8,
    "start_time": "2023-03-30T12:10:08.343Z"
   },
   {
    "duration": 34,
    "start_time": "2023-03-30T12:10:08.368Z"
   },
   {
    "duration": 202,
    "start_time": "2023-03-30T12:10:08.404Z"
   },
   {
    "duration": 5889,
    "start_time": "2023-03-30T12:10:08.608Z"
   },
   {
    "duration": 171,
    "start_time": "2023-03-30T12:10:14.499Z"
   },
   {
    "duration": 940,
    "start_time": "2023-03-30T12:10:14.671Z"
   },
   {
    "duration": 34,
    "start_time": "2023-03-30T12:10:15.613Z"
   },
   {
    "duration": 34,
    "start_time": "2023-03-30T12:10:15.649Z"
   },
   {
    "duration": 972,
    "start_time": "2023-03-30T12:10:15.684Z"
   },
   {
    "duration": 27,
    "start_time": "2023-03-30T12:59:40.461Z"
   },
   {
    "duration": 1414,
    "start_time": "2023-03-30T13:01:06.454Z"
   },
   {
    "duration": 609,
    "start_time": "2023-03-30T13:02:02.055Z"
   },
   {
    "duration": 1009,
    "start_time": "2023-03-30T13:04:58.118Z"
   },
   {
    "duration": 919,
    "start_time": "2023-03-30T13:05:02.796Z"
   },
   {
    "duration": 27285,
    "start_time": "2023-03-30T13:08:33.605Z"
   },
   {
    "duration": 727,
    "start_time": "2023-03-30T13:10:10.796Z"
   },
   {
    "duration": 856,
    "start_time": "2023-03-30T13:10:26.656Z"
   },
   {
    "duration": 524,
    "start_time": "2023-03-30T13:10:42.136Z"
   },
   {
    "duration": 707,
    "start_time": "2023-03-30T13:10:49.664Z"
   },
   {
    "duration": 32620,
    "start_time": "2023-03-30T13:11:49.413Z"
   },
   {
    "duration": 36359,
    "start_time": "2023-03-30T13:16:21.842Z"
   },
   {
    "duration": 19274,
    "start_time": "2023-03-30T13:19:43.340Z"
   },
   {
    "duration": 19630,
    "start_time": "2023-03-30T13:20:41.739Z"
   },
   {
    "duration": 138379,
    "start_time": "2023-03-30T13:22:01.523Z"
   },
   {
    "duration": 1723,
    "start_time": "2023-03-30T13:52:49.743Z"
   },
   {
    "duration": 885,
    "start_time": "2023-03-30T13:52:51.468Z"
   },
   {
    "duration": 40,
    "start_time": "2023-03-30T13:52:52.355Z"
   },
   {
    "duration": 16,
    "start_time": "2023-03-30T13:52:52.398Z"
   },
   {
    "duration": 4,
    "start_time": "2023-03-30T13:52:52.416Z"
   },
   {
    "duration": 18,
    "start_time": "2023-03-30T13:52:52.421Z"
   },
   {
    "duration": 7,
    "start_time": "2023-03-30T13:52:52.441Z"
   },
   {
    "duration": 26,
    "start_time": "2023-03-30T13:52:52.450Z"
   },
   {
    "duration": 6,
    "start_time": "2023-03-30T13:52:52.478Z"
   },
   {
    "duration": 16,
    "start_time": "2023-03-30T13:52:52.487Z"
   },
   {
    "duration": 7,
    "start_time": "2023-03-30T13:52:52.504Z"
   },
   {
    "duration": 6,
    "start_time": "2023-03-30T13:52:52.513Z"
   },
   {
    "duration": 10,
    "start_time": "2023-03-30T13:52:52.521Z"
   },
   {
    "duration": 35,
    "start_time": "2023-03-30T13:52:52.533Z"
   },
   {
    "duration": 24,
    "start_time": "2023-03-30T13:52:52.571Z"
   },
   {
    "duration": 21,
    "start_time": "2023-03-30T13:52:52.597Z"
   },
   {
    "duration": 47,
    "start_time": "2023-03-30T13:52:52.619Z"
   },
   {
    "duration": 174,
    "start_time": "2023-03-30T13:52:52.668Z"
   },
   {
    "duration": 37913,
    "start_time": "2023-03-30T13:52:52.843Z"
   },
   {
    "duration": 181,
    "start_time": "2023-03-30T13:53:30.758Z"
   },
   {
    "duration": 946,
    "start_time": "2023-03-30T13:53:30.941Z"
   },
   {
    "duration": 34,
    "start_time": "2023-03-30T13:53:31.889Z"
   },
   {
    "duration": 1332,
    "start_time": "2023-03-30T13:53:31.925Z"
   },
   {
    "duration": 28,
    "start_time": "2023-03-30T13:53:33.259Z"
   },
   {
    "duration": 589,
    "start_time": "2023-03-30T13:53:33.289Z"
   },
   {
    "duration": 941,
    "start_time": "2023-03-30T13:53:33.880Z"
   },
   {
    "duration": 1066,
    "start_time": "2023-03-30T13:53:48.814Z"
   },
   {
    "duration": 1469,
    "start_time": "2023-03-30T13:54:07.757Z"
   },
   {
    "duration": 613,
    "start_time": "2023-03-30T13:54:33.622Z"
   },
   {
    "duration": 1212,
    "start_time": "2023-03-30T13:54:42.097Z"
   },
   {
    "duration": 18716,
    "start_time": "2023-03-30T13:55:15.215Z"
   },
   {
    "duration": 9351,
    "start_time": "2023-03-30T13:55:41.824Z"
   },
   {
    "duration": 4858,
    "start_time": "2023-03-30T13:56:00.720Z"
   },
   {
    "duration": 1749,
    "start_time": "2023-03-30T13:56:27.617Z"
   },
   {
    "duration": 891,
    "start_time": "2023-03-30T13:56:29.369Z"
   },
   {
    "duration": 35,
    "start_time": "2023-03-30T13:56:30.262Z"
   },
   {
    "duration": 37,
    "start_time": "2023-03-30T13:56:30.299Z"
   },
   {
    "duration": 22,
    "start_time": "2023-03-30T13:56:30.338Z"
   },
   {
    "duration": 42,
    "start_time": "2023-03-30T13:56:30.362Z"
   },
   {
    "duration": 43,
    "start_time": "2023-03-30T13:56:30.406Z"
   },
   {
    "duration": 42,
    "start_time": "2023-03-30T13:56:30.450Z"
   },
   {
    "duration": 41,
    "start_time": "2023-03-30T13:56:30.494Z"
   },
   {
    "duration": 44,
    "start_time": "2023-03-30T13:56:30.537Z"
   },
   {
    "duration": 21,
    "start_time": "2023-03-30T13:56:30.583Z"
   },
   {
    "duration": 49,
    "start_time": "2023-03-30T13:56:30.605Z"
   },
   {
    "duration": 47,
    "start_time": "2023-03-30T13:56:30.655Z"
   },
   {
    "duration": 32,
    "start_time": "2023-03-30T13:56:30.704Z"
   },
   {
    "duration": 33,
    "start_time": "2023-03-30T13:56:30.737Z"
   },
   {
    "duration": 49,
    "start_time": "2023-03-30T13:56:30.771Z"
   },
   {
    "duration": 62,
    "start_time": "2023-03-30T13:56:30.822Z"
   },
   {
    "duration": 182,
    "start_time": "2023-03-30T13:56:30.886Z"
   },
   {
    "duration": 4515,
    "start_time": "2023-03-30T13:56:31.070Z"
   },
   {
    "duration": 165,
    "start_time": "2023-03-30T13:56:35.587Z"
   },
   {
    "duration": 1009,
    "start_time": "2023-03-30T13:56:35.753Z"
   },
   {
    "duration": 34,
    "start_time": "2023-03-30T13:56:36.768Z"
   },
   {
    "duration": 1377,
    "start_time": "2023-03-30T13:56:36.804Z"
   },
   {
    "duration": 24,
    "start_time": "2023-03-30T13:56:38.182Z"
   },
   {
    "duration": 620,
    "start_time": "2023-03-30T13:56:38.207Z"
   },
   {
    "duration": 1027,
    "start_time": "2023-03-30T13:56:38.829Z"
   },
   {
    "duration": 34777,
    "start_time": "2023-03-30T13:57:18.578Z"
   },
   {
    "duration": 1239,
    "start_time": "2023-03-30T13:58:07.326Z"
   },
   {
    "duration": 1677,
    "start_time": "2023-03-30T13:58:38.087Z"
   },
   {
    "duration": 732,
    "start_time": "2023-03-30T13:58:53.250Z"
   },
   {
    "duration": 1225,
    "start_time": "2023-03-30T13:59:46.640Z"
   },
   {
    "duration": 905,
    "start_time": "2023-03-30T14:00:40.278Z"
   },
   {
    "duration": 37,
    "start_time": "2023-03-30T14:00:41.185Z"
   },
   {
    "duration": 14,
    "start_time": "2023-03-30T14:00:41.224Z"
   },
   {
    "duration": 3,
    "start_time": "2023-03-30T14:00:41.240Z"
   },
   {
    "duration": 18,
    "start_time": "2023-03-30T14:00:41.245Z"
   },
   {
    "duration": 8,
    "start_time": "2023-03-30T14:00:41.264Z"
   },
   {
    "duration": 9,
    "start_time": "2023-03-30T14:00:41.274Z"
   },
   {
    "duration": 6,
    "start_time": "2023-03-30T14:00:41.285Z"
   },
   {
    "duration": 7,
    "start_time": "2023-03-30T14:00:41.292Z"
   },
   {
    "duration": 6,
    "start_time": "2023-03-30T14:00:41.301Z"
   },
   {
    "duration": 9,
    "start_time": "2023-03-30T14:00:41.308Z"
   },
   {
    "duration": 12,
    "start_time": "2023-03-30T14:00:41.319Z"
   },
   {
    "duration": 39,
    "start_time": "2023-03-30T14:00:41.333Z"
   },
   {
    "duration": 7,
    "start_time": "2023-03-30T14:00:41.375Z"
   },
   {
    "duration": 6,
    "start_time": "2023-03-30T14:00:41.383Z"
   },
   {
    "duration": 25,
    "start_time": "2023-03-30T14:00:41.390Z"
   },
   {
    "duration": 189,
    "start_time": "2023-03-30T14:00:41.417Z"
   },
   {
    "duration": 35686,
    "start_time": "2023-03-30T14:00:41.607Z"
   },
   {
    "duration": 177,
    "start_time": "2023-03-30T14:01:17.295Z"
   },
   {
    "duration": 1252,
    "start_time": "2023-03-30T14:01:17.474Z"
   },
   {
    "duration": 40,
    "start_time": "2023-03-30T14:01:18.728Z"
   },
   {
    "duration": 1701,
    "start_time": "2023-03-30T14:01:18.770Z"
   },
   {
    "duration": 24,
    "start_time": "2023-03-30T14:01:20.472Z"
   },
   {
    "duration": 809,
    "start_time": "2023-03-30T14:01:20.498Z"
   },
   {
    "duration": 1176,
    "start_time": "2023-03-30T14:01:21.309Z"
   },
   {
    "duration": 646,
    "start_time": "2023-03-30T14:01:31.389Z"
   },
   {
    "duration": 4,
    "start_time": "2023-03-30T14:01:39.830Z"
   },
   {
    "duration": 37,
    "start_time": "2023-03-30T14:01:40.584Z"
   },
   {
    "duration": 12,
    "start_time": "2023-03-30T14:01:40.849Z"
   },
   {
    "duration": 4,
    "start_time": "2023-03-30T14:01:41.526Z"
   },
   {
    "duration": 11,
    "start_time": "2023-03-30T14:01:42.098Z"
   },
   {
    "duration": 8,
    "start_time": "2023-03-30T14:01:42.812Z"
   },
   {
    "duration": 8,
    "start_time": "2023-03-30T14:01:43.546Z"
   },
   {
    "duration": 5,
    "start_time": "2023-03-30T14:01:43.893Z"
   },
   {
    "duration": 9,
    "start_time": "2023-03-30T14:01:44.449Z"
   },
   {
    "duration": 6,
    "start_time": "2023-03-30T14:01:44.983Z"
   },
   {
    "duration": 6,
    "start_time": "2023-03-30T14:01:45.218Z"
   },
   {
    "duration": 9,
    "start_time": "2023-03-30T14:01:45.569Z"
   },
   {
    "duration": 6,
    "start_time": "2023-03-30T14:01:47.146Z"
   },
   {
    "duration": 8,
    "start_time": "2023-03-30T14:01:47.313Z"
   },
   {
    "duration": 4,
    "start_time": "2023-03-30T14:01:48.503Z"
   },
   {
    "duration": 25,
    "start_time": "2023-03-30T14:01:50.503Z"
   },
   {
    "duration": 159,
    "start_time": "2023-03-30T14:01:54.106Z"
   },
   {
    "duration": 34543,
    "start_time": "2023-03-30T14:01:55.950Z"
   },
   {
    "duration": 222,
    "start_time": "2023-03-30T14:02:42.376Z"
   },
   {
    "duration": 643,
    "start_time": "2023-03-30T14:02:44.170Z"
   },
   {
    "duration": 34,
    "start_time": "2023-03-30T14:02:48.960Z"
   },
   {
    "duration": 892,
    "start_time": "2023-03-30T14:02:57.436Z"
   },
   {
    "duration": 883,
    "start_time": "2023-03-30T14:03:34.565Z"
   },
   {
    "duration": 36,
    "start_time": "2023-03-30T14:03:35.450Z"
   },
   {
    "duration": 12,
    "start_time": "2023-03-30T14:03:35.487Z"
   },
   {
    "duration": 6,
    "start_time": "2023-03-30T14:03:35.501Z"
   },
   {
    "duration": 13,
    "start_time": "2023-03-30T14:03:35.508Z"
   },
   {
    "duration": 5,
    "start_time": "2023-03-30T14:03:35.523Z"
   },
   {
    "duration": 7,
    "start_time": "2023-03-30T14:03:35.529Z"
   },
   {
    "duration": 5,
    "start_time": "2023-03-30T14:03:35.537Z"
   },
   {
    "duration": 31,
    "start_time": "2023-03-30T14:03:35.543Z"
   },
   {
    "duration": 5,
    "start_time": "2023-03-30T14:03:35.576Z"
   },
   {
    "duration": 7,
    "start_time": "2023-03-30T14:03:35.583Z"
   },
   {
    "duration": 10,
    "start_time": "2023-03-30T14:03:35.591Z"
   },
   {
    "duration": 5,
    "start_time": "2023-03-30T14:03:35.602Z"
   },
   {
    "duration": 6,
    "start_time": "2023-03-30T14:03:35.608Z"
   },
   {
    "duration": 3,
    "start_time": "2023-03-30T14:03:35.615Z"
   },
   {
    "duration": 41,
    "start_time": "2023-03-30T14:03:35.619Z"
   },
   {
    "duration": 163,
    "start_time": "2023-03-30T14:03:35.668Z"
   },
   {
    "duration": 36033,
    "start_time": "2023-03-30T14:03:35.833Z"
   },
   {
    "duration": 175,
    "start_time": "2023-03-30T14:04:11.869Z"
   },
   {
    "duration": 723,
    "start_time": "2023-03-30T14:04:12.045Z"
   },
   {
    "duration": 35,
    "start_time": "2023-03-30T14:04:12.769Z"
   },
   {
    "duration": 1044,
    "start_time": "2023-03-30T14:04:12.805Z"
   },
   {
    "duration": 34,
    "start_time": "2023-03-30T14:04:13.850Z"
   },
   {
    "duration": 826,
    "start_time": "2023-03-30T14:04:13.885Z"
   },
   {
    "duration": 1143,
    "start_time": "2023-03-30T14:04:14.713Z"
   },
   {
    "duration": 1031,
    "start_time": "2023-03-30T14:04:44.643Z"
   },
   {
    "duration": 3465,
    "start_time": "2023-03-30T14:05:05.118Z"
   },
   {
    "duration": 203,
    "start_time": "2023-03-30T14:05:10.689Z"
   },
   {
    "duration": 1137,
    "start_time": "2023-03-30T14:05:10.935Z"
   },
   {
    "duration": 36,
    "start_time": "2023-03-30T14:05:12.074Z"
   },
   {
    "duration": 1126,
    "start_time": "2023-03-30T14:05:12.112Z"
   },
   {
    "duration": 33,
    "start_time": "2023-03-30T14:05:13.240Z"
   },
   {
    "duration": 820,
    "start_time": "2023-03-30T14:05:13.275Z"
   },
   {
    "duration": 1137,
    "start_time": "2023-03-30T14:05:14.096Z"
   },
   {
    "duration": 4,
    "start_time": "2023-03-30T14:05:21.792Z"
   },
   {
    "duration": 39,
    "start_time": "2023-03-30T14:05:22.430Z"
   },
   {
    "duration": 18,
    "start_time": "2023-03-30T14:05:22.704Z"
   },
   {
    "duration": 4,
    "start_time": "2023-03-30T14:05:23.411Z"
   },
   {
    "duration": 12,
    "start_time": "2023-03-30T14:05:23.846Z"
   },
   {
    "duration": 9,
    "start_time": "2023-03-30T14:05:24.200Z"
   },
   {
    "duration": 9,
    "start_time": "2023-03-30T14:05:24.677Z"
   },
   {
    "duration": 5,
    "start_time": "2023-03-30T14:05:25.000Z"
   },
   {
    "duration": 11,
    "start_time": "2023-03-30T14:05:25.522Z"
   },
   {
    "duration": 7,
    "start_time": "2023-03-30T14:05:25.910Z"
   },
   {
    "duration": 6,
    "start_time": "2023-03-30T14:05:26.211Z"
   },
   {
    "duration": 9,
    "start_time": "2023-03-30T14:05:26.779Z"
   },
   {
    "duration": 8,
    "start_time": "2023-03-30T14:05:28.418Z"
   },
   {
    "duration": 7,
    "start_time": "2023-03-30T14:05:28.597Z"
   },
   {
    "duration": 4,
    "start_time": "2023-03-30T14:05:28.744Z"
   },
   {
    "duration": 27,
    "start_time": "2023-03-30T14:05:29.926Z"
   },
   {
    "duration": 168,
    "start_time": "2023-03-30T14:05:31.115Z"
   },
   {
    "duration": 37387,
    "start_time": "2023-03-30T14:05:33.393Z"
   },
   {
    "duration": 17546,
    "start_time": "2023-03-30T14:06:22.286Z"
   },
   {
    "duration": 28482,
    "start_time": "2023-03-30T14:06:50.126Z"
   },
   {
    "duration": 994,
    "start_time": "2023-03-30T14:07:33.934Z"
   },
   {
    "duration": 1683,
    "start_time": "2023-03-30T14:07:51.043Z"
   },
   {
    "duration": 628,
    "start_time": "2023-03-30T14:08:13.740Z"
   },
   {
    "duration": 996,
    "start_time": "2023-03-30T14:08:24.060Z"
   },
   {
    "duration": 4,
    "start_time": "2023-03-30T14:10:02.507Z"
   },
   {
    "duration": 6,
    "start_time": "2023-03-30T14:10:42.164Z"
   },
   {
    "duration": 1189,
    "start_time": "2023-03-30T14:10:49.272Z"
   },
   {
    "duration": 4,
    "start_time": "2023-03-30T14:12:16.310Z"
   },
   {
    "duration": 1175,
    "start_time": "2023-03-30T14:12:21.909Z"
   },
   {
    "duration": 1063,
    "start_time": "2023-03-30T14:13:28.911Z"
   },
   {
    "duration": 1029,
    "start_time": "2023-03-30T14:13:53.711Z"
   },
   {
    "duration": 7,
    "start_time": "2023-03-30T14:16:16.222Z"
   },
   {
    "duration": 6,
    "start_time": "2023-03-30T14:19:26.949Z"
   },
   {
    "duration": 18,
    "start_time": "2023-03-30T14:19:39.608Z"
   },
   {
    "duration": 11,
    "start_time": "2023-03-30T14:19:56.904Z"
   },
   {
    "duration": 12,
    "start_time": "2023-03-30T14:20:00.127Z"
   },
   {
    "duration": 9,
    "start_time": "2023-03-30T14:20:17.339Z"
   },
   {
    "duration": 9,
    "start_time": "2023-03-30T14:20:23.778Z"
   },
   {
    "duration": 1099,
    "start_time": "2023-03-30T14:20:55.014Z"
   },
   {
    "duration": 1171,
    "start_time": "2023-03-30T14:22:44.017Z"
   },
   {
    "duration": 10,
    "start_time": "2023-03-30T14:25:40.405Z"
   },
   {
    "duration": 6,
    "start_time": "2023-03-30T14:25:47.553Z"
   },
   {
    "duration": 44,
    "start_time": "2023-03-30T14:32:34.485Z"
   },
   {
    "duration": 1087,
    "start_time": "2023-03-30T14:35:19.690Z"
   },
   {
    "duration": 1233,
    "start_time": "2023-03-30T14:35:28.780Z"
   },
   {
    "duration": 1186,
    "start_time": "2023-03-30T14:37:22.459Z"
   },
   {
    "duration": 1216,
    "start_time": "2023-03-30T14:37:33.493Z"
   },
   {
    "duration": 1051,
    "start_time": "2023-03-30T14:40:13.911Z"
   },
   {
    "duration": 1050,
    "start_time": "2023-03-30T14:40:25.738Z"
   },
   {
    "duration": 6,
    "start_time": "2023-03-30T14:48:53.030Z"
   },
   {
    "duration": 8,
    "start_time": "2023-03-30T14:57:06.720Z"
   },
   {
    "duration": 3,
    "start_time": "2023-03-30T14:58:12.633Z"
   },
   {
    "duration": 6,
    "start_time": "2023-03-30T14:58:13.155Z"
   },
   {
    "duration": 1032,
    "start_time": "2023-03-30T15:03:01.250Z"
   },
   {
    "duration": 1156,
    "start_time": "2023-03-30T15:03:08.839Z"
   },
   {
    "duration": 1042,
    "start_time": "2023-03-30T15:03:50.090Z"
   },
   {
    "duration": 1067,
    "start_time": "2023-03-30T15:03:55.178Z"
   },
   {
    "duration": 6,
    "start_time": "2023-03-30T15:07:35.327Z"
   },
   {
    "duration": 14,
    "start_time": "2023-03-30T15:08:31.402Z"
   },
   {
    "duration": 6,
    "start_time": "2023-03-30T15:09:26.313Z"
   },
   {
    "duration": 7,
    "start_time": "2023-03-30T15:09:39.888Z"
   },
   {
    "duration": 5,
    "start_time": "2023-03-30T15:12:24.183Z"
   },
   {
    "duration": 24,
    "start_time": "2023-03-30T15:15:07.133Z"
   },
   {
    "duration": 61,
    "start_time": "2023-03-30T15:15:53.376Z"
   },
   {
    "duration": 5,
    "start_time": "2023-03-30T15:17:37.791Z"
   },
   {
    "duration": 35,
    "start_time": "2023-03-30T15:17:38.386Z"
   },
   {
    "duration": 12,
    "start_time": "2023-03-30T15:17:38.709Z"
   },
   {
    "duration": 4,
    "start_time": "2023-03-30T15:17:39.513Z"
   },
   {
    "duration": 10,
    "start_time": "2023-03-30T15:17:40.146Z"
   },
   {
    "duration": 10,
    "start_time": "2023-03-30T15:17:41.084Z"
   },
   {
    "duration": 13,
    "start_time": "2023-03-30T15:17:42.629Z"
   },
   {
    "duration": 7,
    "start_time": "2023-03-30T15:17:43.131Z"
   },
   {
    "duration": 11,
    "start_time": "2023-03-30T15:17:44.197Z"
   },
   {
    "duration": 8,
    "start_time": "2023-03-30T15:17:45.189Z"
   },
   {
    "duration": 9,
    "start_time": "2023-03-30T15:17:45.605Z"
   },
   {
    "duration": 13,
    "start_time": "2023-03-30T15:17:46.537Z"
   },
   {
    "duration": 6,
    "start_time": "2023-03-30T15:17:50.421Z"
   },
   {
    "duration": 14,
    "start_time": "2023-03-30T15:17:50.884Z"
   },
   {
    "duration": 5,
    "start_time": "2023-03-30T15:17:52.546Z"
   },
   {
    "duration": 37,
    "start_time": "2023-03-30T15:17:55.410Z"
   },
   {
    "duration": 193,
    "start_time": "2023-03-30T15:17:58.609Z"
   },
   {
    "duration": 30340,
    "start_time": "2023-03-30T15:18:03.894Z"
   },
   {
    "duration": 6620,
    "start_time": "2023-03-30T15:19:05.778Z"
   },
   {
    "duration": 196,
    "start_time": "2023-03-30T15:19:20.627Z"
   },
   {
    "duration": 1199,
    "start_time": "2023-03-30T15:19:22.612Z"
   },
   {
    "duration": 35,
    "start_time": "2023-03-30T15:19:24.126Z"
   },
   {
    "duration": 1414,
    "start_time": "2023-03-30T15:19:26.501Z"
   },
   {
    "duration": 23,
    "start_time": "2023-03-30T15:19:27.917Z"
   },
   {
    "duration": 666,
    "start_time": "2023-03-30T15:19:28.363Z"
   },
   {
    "duration": 1044,
    "start_time": "2023-03-30T15:19:44.023Z"
   },
   {
    "duration": 7,
    "start_time": "2023-03-30T15:19:50.896Z"
   }
  ],
  "kernelspec": {
   "display_name": "Python 3 (ipykernel)",
   "language": "python",
   "name": "python3"
  },
  "language_info": {
   "codemirror_mode": {
    "name": "ipython",
    "version": 3
   },
   "file_extension": ".py",
   "mimetype": "text/x-python",
   "name": "python",
   "nbconvert_exporter": "python",
   "pygments_lexer": "ipython3",
   "version": "3.9.12"
  },
  "toc": {
   "base_numbering": 1,
   "nav_menu": {},
   "number_sections": true,
   "sideBar": true,
   "skip_h1_title": true,
   "title_cell": "Содержание",
   "title_sidebar": "Contents",
   "toc_cell": true,
   "toc_position": {},
   "toc_section_display": true,
   "toc_window_display": false
  }
 },
 "nbformat": 4,
 "nbformat_minor": 2
}
