{
 "cells": [
  {
   "cell_type": "markdown",
   "metadata": {
    "toc": true
   },
   "source": [
    "<h1>Содержание<span class=\"tocSkip\"></span></h1>\n",
    "<div class=\"toc\"><ul class=\"toc-item\"><li><span><a href=\"#Подготовка-данных\" data-toc-modified-id=\"Подготовка-данных-1\"><span class=\"toc-item-num\">1&nbsp;&nbsp;</span>Подготовка данных</a></span><ul class=\"toc-item\"><li><span><a href=\"#Вывод:\" data-toc-modified-id=\"Вывод:-1.1\"><span class=\"toc-item-num\">1.1&nbsp;&nbsp;</span>Вывод:</a></span></li></ul></li><li><span><a href=\"#Анализ-данных\" data-toc-modified-id=\"Анализ-данных-2\"><span class=\"toc-item-num\">2&nbsp;&nbsp;</span>Анализ данных</a></span></li><li><span><a href=\"#Модель\" data-toc-modified-id=\"Модель-3\"><span class=\"toc-item-num\">3&nbsp;&nbsp;</span>Модель</a></span></li></ul></div>"
   ]
  },
  {
   "cell_type": "markdown",
   "metadata": {},
   "source": [
    "# Восстановление золота из руды"
   ]
  },
  {
   "cell_type": "markdown",
   "metadata": {},
   "source": [
    "Подготовьте прототип модели машинного обучения для «Цифры». Компания разрабатывает решения для эффективной работы промышленных предприятий.\n",
    "\n",
    "Модель должна предсказать коэффициент восстановления золота из золотосодержащей руды. Используйте данные с параметрами добычи и очистки. \n",
    "\n",
    "Модель поможет оптимизировать производство, чтобы не запускать предприятие с убыточными характеристиками.\n",
    "\n",
    "Вам нужно:\n",
    "\n",
    "1. Подготовить данные;\n",
    "2. Провести исследовательский анализ данных;\n",
    "3. Построить и обучить модель.\n",
    "\n",
    "Чтобы выполнить проект, обращайтесь к библиотекам *pandas*, *matplotlib* и *sklearn.* Вам поможет их документация."
   ]
  },
  {
   "cell_type": "markdown",
   "metadata": {},
   "source": [
    "## Подготовка данных"
   ]
  },
  {
   "cell_type": "markdown",
   "metadata": {},
   "source": [
    "* Импортируем библиотеки\n",
    "* Прочитаем файлы\n",
    "* Посмотрим общую информацию, проверим файлы на наличие пропусков и дубликатов"
   ]
  },
  {
   "cell_type": "code",
   "execution_count": 1,
   "metadata": {},
   "outputs": [],
   "source": [
    "import pandas as pd\n",
    "import numpy as np\n",
    "import seaborn as sns\n",
    "import matplotlib.pyplot as plt\n",
    "from sklearn.metrics import mean_absolute_error, make_scorer\n",
    "from sklearn.model_selection import cross_val_score\n",
    "from sklearn.preprocessing import StandardScaler\n",
    "from sklearn.pipeline import Pipeline\n",
    "from sklearn.ensemble import RandomForestRegressor\n",
    "from sklearn.linear_model import LinearRegression\n",
    "from sklearn.tree import DecisionTreeRegressor\n",
    "from sklearn.model_selection import RandomizedSearchCV\n",
    "from scipy.stats import randint as sp_randint\n",
    "from sklearn.dummy import DummyRegressor\n",
    "\n",
    "import warnings\n",
    "warnings.filterwarnings(\"ignore\")"
   ]
  },
  {
   "cell_type": "code",
   "execution_count": 2,
   "metadata": {},
   "outputs": [],
   "source": [
    "gold_recovery_train = pd.read_csv('/datasets/gold_recovery_train_new.csv' , index_col='date')\n",
    "gold_recovery_test = pd.read_csv('/datasets/gold_recovery_test_new.csv', index_col='date')\n",
    "gold_recovery_full = pd.read_csv('/datasets/gold_recovery_full_new.csv', index_col='date')"
   ]
  },
  {
   "cell_type": "code",
   "execution_count": 3,
   "metadata": {},
   "outputs": [],
   "source": [
    "def show(data):\n",
    "    display('Информация')\n",
    "    display(data.info())\n",
    "    print()\n",
    "    display('Пропуски')\n",
    "    display(data.isna().sum())\n",
    "    print()\n",
    "    display('Дубликаты')\n",
    "    display(data.duplicated().sum())"
   ]
  },
  {
   "cell_type": "code",
   "execution_count": 4,
   "metadata": {},
   "outputs": [
    {
     "data": {
      "text/plain": [
       "'Информация'"
      ]
     },
     "metadata": {},
     "output_type": "display_data"
    },
    {
     "name": "stdout",
     "output_type": "stream",
     "text": [
      "<class 'pandas.core.frame.DataFrame'>\n",
      "Index: 14149 entries, 2016-01-15 00:00:00 to 2018-08-18 10:59:59\n",
      "Data columns (total 86 columns):\n",
      " #   Column                                              Non-Null Count  Dtype  \n",
      "---  ------                                              --------------  -----  \n",
      " 0   final.output.concentrate_ag                         14148 non-null  float64\n",
      " 1   final.output.concentrate_pb                         14148 non-null  float64\n",
      " 2   final.output.concentrate_sol                        13938 non-null  float64\n",
      " 3   final.output.concentrate_au                         14149 non-null  float64\n",
      " 4   final.output.recovery                               14149 non-null  float64\n",
      " 5   final.output.tail_ag                                14149 non-null  float64\n",
      " 6   final.output.tail_pb                                14049 non-null  float64\n",
      " 7   final.output.tail_sol                               14144 non-null  float64\n",
      " 8   final.output.tail_au                                14149 non-null  float64\n",
      " 9   primary_cleaner.input.sulfate                       14129 non-null  float64\n",
      " 10  primary_cleaner.input.depressant                    14117 non-null  float64\n",
      " 11  primary_cleaner.input.feed_size                     14149 non-null  float64\n",
      " 12  primary_cleaner.input.xanthate                      14049 non-null  float64\n",
      " 13  primary_cleaner.output.concentrate_ag               14149 non-null  float64\n",
      " 14  primary_cleaner.output.concentrate_pb               14063 non-null  float64\n",
      " 15  primary_cleaner.output.concentrate_sol              13863 non-null  float64\n",
      " 16  primary_cleaner.output.concentrate_au               14149 non-null  float64\n",
      " 17  primary_cleaner.output.tail_ag                      14148 non-null  float64\n",
      " 18  primary_cleaner.output.tail_pb                      14134 non-null  float64\n",
      " 19  primary_cleaner.output.tail_sol                     14103 non-null  float64\n",
      " 20  primary_cleaner.output.tail_au                      14149 non-null  float64\n",
      " 21  primary_cleaner.state.floatbank8_a_air              14145 non-null  float64\n",
      " 22  primary_cleaner.state.floatbank8_a_level            14148 non-null  float64\n",
      " 23  primary_cleaner.state.floatbank8_b_air              14145 non-null  float64\n",
      " 24  primary_cleaner.state.floatbank8_b_level            14148 non-null  float64\n",
      " 25  primary_cleaner.state.floatbank8_c_air              14147 non-null  float64\n",
      " 26  primary_cleaner.state.floatbank8_c_level            14148 non-null  float64\n",
      " 27  primary_cleaner.state.floatbank8_d_air              14146 non-null  float64\n",
      " 28  primary_cleaner.state.floatbank8_d_level            14148 non-null  float64\n",
      " 29  rougher.calculation.sulfate_to_au_concentrate       14148 non-null  float64\n",
      " 30  rougher.calculation.floatbank10_sulfate_to_au_feed  14148 non-null  float64\n",
      " 31  rougher.calculation.floatbank11_sulfate_to_au_feed  14148 non-null  float64\n",
      " 32  rougher.calculation.au_pb_ratio                     14149 non-null  float64\n",
      " 33  rougher.input.feed_ag                               14149 non-null  float64\n",
      " 34  rougher.input.feed_pb                               14049 non-null  float64\n",
      " 35  rougher.input.feed_rate                             14141 non-null  float64\n",
      " 36  rougher.input.feed_size                             14005 non-null  float64\n",
      " 37  rougher.input.feed_sol                              14071 non-null  float64\n",
      " 38  rougher.input.feed_au                               14149 non-null  float64\n",
      " 39  rougher.input.floatbank10_sulfate                   14120 non-null  float64\n",
      " 40  rougher.input.floatbank10_xanthate                  14141 non-null  float64\n",
      " 41  rougher.input.floatbank11_sulfate                   14113 non-null  float64\n",
      " 42  rougher.input.floatbank11_xanthate                  13721 non-null  float64\n",
      " 43  rougher.output.concentrate_ag                       14149 non-null  float64\n",
      " 44  rougher.output.concentrate_pb                       14149 non-null  float64\n",
      " 45  rougher.output.concentrate_sol                      14127 non-null  float64\n",
      " 46  rougher.output.concentrate_au                       14149 non-null  float64\n",
      " 47  rougher.output.recovery                             14149 non-null  float64\n",
      " 48  rougher.output.tail_ag                              14148 non-null  float64\n",
      " 49  rougher.output.tail_pb                              14149 non-null  float64\n",
      " 50  rougher.output.tail_sol                             14149 non-null  float64\n",
      " 51  rougher.output.tail_au                              14149 non-null  float64\n",
      " 52  rougher.state.floatbank10_a_air                     14148 non-null  float64\n",
      " 53  rougher.state.floatbank10_a_level                   14148 non-null  float64\n",
      " 54  rougher.state.floatbank10_b_air                     14148 non-null  float64\n",
      " 55  rougher.state.floatbank10_b_level                   14148 non-null  float64\n",
      " 56  rougher.state.floatbank10_c_air                     14148 non-null  float64\n",
      " 57  rougher.state.floatbank10_c_level                   14148 non-null  float64\n",
      " 58  rougher.state.floatbank10_d_air                     14149 non-null  float64\n",
      " 59  rougher.state.floatbank10_d_level                   14149 non-null  float64\n",
      " 60  rougher.state.floatbank10_e_air                     13713 non-null  float64\n",
      " 61  rougher.state.floatbank10_e_level                   14149 non-null  float64\n",
      " 62  rougher.state.floatbank10_f_air                     14149 non-null  float64\n",
      " 63  rougher.state.floatbank10_f_level                   14149 non-null  float64\n",
      " 64  secondary_cleaner.output.tail_ag                    14147 non-null  float64\n",
      " 65  secondary_cleaner.output.tail_pb                    14139 non-null  float64\n",
      " 66  secondary_cleaner.output.tail_sol                   12544 non-null  float64\n",
      " 67  secondary_cleaner.output.tail_au                    14149 non-null  float64\n",
      " 68  secondary_cleaner.state.floatbank2_a_air            13932 non-null  float64\n",
      " 69  secondary_cleaner.state.floatbank2_a_level          14148 non-null  float64\n",
      " 70  secondary_cleaner.state.floatbank2_b_air            14128 non-null  float64\n",
      " 71  secondary_cleaner.state.floatbank2_b_level          14148 non-null  float64\n",
      " 72  secondary_cleaner.state.floatbank3_a_air            14145 non-null  float64\n",
      " 73  secondary_cleaner.state.floatbank3_a_level          14148 non-null  float64\n",
      " 74  secondary_cleaner.state.floatbank3_b_air            14148 non-null  float64\n",
      " 75  secondary_cleaner.state.floatbank3_b_level          14148 non-null  float64\n",
      " 76  secondary_cleaner.state.floatbank4_a_air            14143 non-null  float64\n",
      " 77  secondary_cleaner.state.floatbank4_a_level          14148 non-null  float64\n",
      " 78  secondary_cleaner.state.floatbank4_b_air            14148 non-null  float64\n",
      " 79  secondary_cleaner.state.floatbank4_b_level          14148 non-null  float64\n",
      " 80  secondary_cleaner.state.floatbank5_a_air            14148 non-null  float64\n",
      " 81  secondary_cleaner.state.floatbank5_a_level          14148 non-null  float64\n",
      " 82  secondary_cleaner.state.floatbank5_b_air            14148 non-null  float64\n",
      " 83  secondary_cleaner.state.floatbank5_b_level          14148 non-null  float64\n",
      " 84  secondary_cleaner.state.floatbank6_a_air            14147 non-null  float64\n",
      " 85  secondary_cleaner.state.floatbank6_a_level          14148 non-null  float64\n",
      "dtypes: float64(86)\n",
      "memory usage: 9.4+ MB\n"
     ]
    },
    {
     "data": {
      "text/plain": [
       "None"
      ]
     },
     "metadata": {},
     "output_type": "display_data"
    },
    {
     "name": "stdout",
     "output_type": "stream",
     "text": [
      "\n"
     ]
    },
    {
     "data": {
      "text/plain": [
       "'Пропуски'"
      ]
     },
     "metadata": {},
     "output_type": "display_data"
    },
    {
     "data": {
      "text/plain": [
       "final.output.concentrate_ag                     1\n",
       "final.output.concentrate_pb                     1\n",
       "final.output.concentrate_sol                  211\n",
       "final.output.concentrate_au                     0\n",
       "final.output.recovery                           0\n",
       "                                             ... \n",
       "secondary_cleaner.state.floatbank5_a_level      1\n",
       "secondary_cleaner.state.floatbank5_b_air        1\n",
       "secondary_cleaner.state.floatbank5_b_level      1\n",
       "secondary_cleaner.state.floatbank6_a_air        2\n",
       "secondary_cleaner.state.floatbank6_a_level      1\n",
       "Length: 86, dtype: int64"
      ]
     },
     "metadata": {},
     "output_type": "display_data"
    },
    {
     "name": "stdout",
     "output_type": "stream",
     "text": [
      "\n"
     ]
    },
    {
     "data": {
      "text/plain": [
       "'Дубликаты'"
      ]
     },
     "metadata": {},
     "output_type": "display_data"
    },
    {
     "data": {
      "text/plain": [
       "0"
      ]
     },
     "metadata": {},
     "output_type": "display_data"
    },
    {
     "data": {
      "text/plain": [
       "'Информация'"
      ]
     },
     "metadata": {},
     "output_type": "display_data"
    },
    {
     "name": "stdout",
     "output_type": "stream",
     "text": [
      "<class 'pandas.core.frame.DataFrame'>\n",
      "Index: 5290 entries, 2016-09-01 00:59:59 to 2017-12-31 23:59:59\n",
      "Data columns (total 52 columns):\n",
      " #   Column                                      Non-Null Count  Dtype  \n",
      "---  ------                                      --------------  -----  \n",
      " 0   primary_cleaner.input.sulfate               5286 non-null   float64\n",
      " 1   primary_cleaner.input.depressant            5285 non-null   float64\n",
      " 2   primary_cleaner.input.feed_size             5290 non-null   float64\n",
      " 3   primary_cleaner.input.xanthate              5286 non-null   float64\n",
      " 4   primary_cleaner.state.floatbank8_a_air      5290 non-null   float64\n",
      " 5   primary_cleaner.state.floatbank8_a_level    5290 non-null   float64\n",
      " 6   primary_cleaner.state.floatbank8_b_air      5290 non-null   float64\n",
      " 7   primary_cleaner.state.floatbank8_b_level    5290 non-null   float64\n",
      " 8   primary_cleaner.state.floatbank8_c_air      5290 non-null   float64\n",
      " 9   primary_cleaner.state.floatbank8_c_level    5290 non-null   float64\n",
      " 10  primary_cleaner.state.floatbank8_d_air      5290 non-null   float64\n",
      " 11  primary_cleaner.state.floatbank8_d_level    5290 non-null   float64\n",
      " 12  rougher.input.feed_ag                       5290 non-null   float64\n",
      " 13  rougher.input.feed_pb                       5290 non-null   float64\n",
      " 14  rougher.input.feed_rate                     5287 non-null   float64\n",
      " 15  rougher.input.feed_size                     5289 non-null   float64\n",
      " 16  rougher.input.feed_sol                      5269 non-null   float64\n",
      " 17  rougher.input.feed_au                       5290 non-null   float64\n",
      " 18  rougher.input.floatbank10_sulfate           5285 non-null   float64\n",
      " 19  rougher.input.floatbank10_xanthate          5290 non-null   float64\n",
      " 20  rougher.input.floatbank11_sulfate           5282 non-null   float64\n",
      " 21  rougher.input.floatbank11_xanthate          5265 non-null   float64\n",
      " 22  rougher.state.floatbank10_a_air             5290 non-null   float64\n",
      " 23  rougher.state.floatbank10_a_level           5290 non-null   float64\n",
      " 24  rougher.state.floatbank10_b_air             5290 non-null   float64\n",
      " 25  rougher.state.floatbank10_b_level           5290 non-null   float64\n",
      " 26  rougher.state.floatbank10_c_air             5290 non-null   float64\n",
      " 27  rougher.state.floatbank10_c_level           5290 non-null   float64\n",
      " 28  rougher.state.floatbank10_d_air             5290 non-null   float64\n",
      " 29  rougher.state.floatbank10_d_level           5290 non-null   float64\n",
      " 30  rougher.state.floatbank10_e_air             5290 non-null   float64\n",
      " 31  rougher.state.floatbank10_e_level           5290 non-null   float64\n",
      " 32  rougher.state.floatbank10_f_air             5290 non-null   float64\n",
      " 33  rougher.state.floatbank10_f_level           5290 non-null   float64\n",
      " 34  secondary_cleaner.state.floatbank2_a_air    5287 non-null   float64\n",
      " 35  secondary_cleaner.state.floatbank2_a_level  5290 non-null   float64\n",
      " 36  secondary_cleaner.state.floatbank2_b_air    5288 non-null   float64\n",
      " 37  secondary_cleaner.state.floatbank2_b_level  5290 non-null   float64\n",
      " 38  secondary_cleaner.state.floatbank3_a_air    5281 non-null   float64\n",
      " 39  secondary_cleaner.state.floatbank3_a_level  5290 non-null   float64\n",
      " 40  secondary_cleaner.state.floatbank3_b_air    5290 non-null   float64\n",
      " 41  secondary_cleaner.state.floatbank3_b_level  5290 non-null   float64\n",
      " 42  secondary_cleaner.state.floatbank4_a_air    5290 non-null   float64\n",
      " 43  secondary_cleaner.state.floatbank4_a_level  5290 non-null   float64\n",
      " 44  secondary_cleaner.state.floatbank4_b_air    5290 non-null   float64\n",
      " 45  secondary_cleaner.state.floatbank4_b_level  5290 non-null   float64\n",
      " 46  secondary_cleaner.state.floatbank5_a_air    5290 non-null   float64\n",
      " 47  secondary_cleaner.state.floatbank5_a_level  5290 non-null   float64\n",
      " 48  secondary_cleaner.state.floatbank5_b_air    5290 non-null   float64\n",
      " 49  secondary_cleaner.state.floatbank5_b_level  5290 non-null   float64\n",
      " 50  secondary_cleaner.state.floatbank6_a_air    5290 non-null   float64\n",
      " 51  secondary_cleaner.state.floatbank6_a_level  5290 non-null   float64\n",
      "dtypes: float64(52)\n",
      "memory usage: 2.1+ MB\n"
     ]
    },
    {
     "data": {
      "text/plain": [
       "None"
      ]
     },
     "metadata": {},
     "output_type": "display_data"
    },
    {
     "name": "stdout",
     "output_type": "stream",
     "text": [
      "\n"
     ]
    },
    {
     "data": {
      "text/plain": [
       "'Пропуски'"
      ]
     },
     "metadata": {},
     "output_type": "display_data"
    },
    {
     "data": {
      "text/plain": [
       "primary_cleaner.input.sulfate                  4\n",
       "primary_cleaner.input.depressant               5\n",
       "primary_cleaner.input.feed_size                0\n",
       "primary_cleaner.input.xanthate                 4\n",
       "primary_cleaner.state.floatbank8_a_air         0\n",
       "primary_cleaner.state.floatbank8_a_level       0\n",
       "primary_cleaner.state.floatbank8_b_air         0\n",
       "primary_cleaner.state.floatbank8_b_level       0\n",
       "primary_cleaner.state.floatbank8_c_air         0\n",
       "primary_cleaner.state.floatbank8_c_level       0\n",
       "primary_cleaner.state.floatbank8_d_air         0\n",
       "primary_cleaner.state.floatbank8_d_level       0\n",
       "rougher.input.feed_ag                          0\n",
       "rougher.input.feed_pb                          0\n",
       "rougher.input.feed_rate                        3\n",
       "rougher.input.feed_size                        1\n",
       "rougher.input.feed_sol                        21\n",
       "rougher.input.feed_au                          0\n",
       "rougher.input.floatbank10_sulfate              5\n",
       "rougher.input.floatbank10_xanthate             0\n",
       "rougher.input.floatbank11_sulfate              8\n",
       "rougher.input.floatbank11_xanthate            25\n",
       "rougher.state.floatbank10_a_air                0\n",
       "rougher.state.floatbank10_a_level              0\n",
       "rougher.state.floatbank10_b_air                0\n",
       "rougher.state.floatbank10_b_level              0\n",
       "rougher.state.floatbank10_c_air                0\n",
       "rougher.state.floatbank10_c_level              0\n",
       "rougher.state.floatbank10_d_air                0\n",
       "rougher.state.floatbank10_d_level              0\n",
       "rougher.state.floatbank10_e_air                0\n",
       "rougher.state.floatbank10_e_level              0\n",
       "rougher.state.floatbank10_f_air                0\n",
       "rougher.state.floatbank10_f_level              0\n",
       "secondary_cleaner.state.floatbank2_a_air       3\n",
       "secondary_cleaner.state.floatbank2_a_level     0\n",
       "secondary_cleaner.state.floatbank2_b_air       2\n",
       "secondary_cleaner.state.floatbank2_b_level     0\n",
       "secondary_cleaner.state.floatbank3_a_air       9\n",
       "secondary_cleaner.state.floatbank3_a_level     0\n",
       "secondary_cleaner.state.floatbank3_b_air       0\n",
       "secondary_cleaner.state.floatbank3_b_level     0\n",
       "secondary_cleaner.state.floatbank4_a_air       0\n",
       "secondary_cleaner.state.floatbank4_a_level     0\n",
       "secondary_cleaner.state.floatbank4_b_air       0\n",
       "secondary_cleaner.state.floatbank4_b_level     0\n",
       "secondary_cleaner.state.floatbank5_a_air       0\n",
       "secondary_cleaner.state.floatbank5_a_level     0\n",
       "secondary_cleaner.state.floatbank5_b_air       0\n",
       "secondary_cleaner.state.floatbank5_b_level     0\n",
       "secondary_cleaner.state.floatbank6_a_air       0\n",
       "secondary_cleaner.state.floatbank6_a_level     0\n",
       "dtype: int64"
      ]
     },
     "metadata": {},
     "output_type": "display_data"
    },
    {
     "name": "stdout",
     "output_type": "stream",
     "text": [
      "\n"
     ]
    },
    {
     "data": {
      "text/plain": [
       "'Дубликаты'"
      ]
     },
     "metadata": {},
     "output_type": "display_data"
    },
    {
     "data": {
      "text/plain": [
       "0"
      ]
     },
     "metadata": {},
     "output_type": "display_data"
    },
    {
     "data": {
      "text/plain": [
       "'Информация'"
      ]
     },
     "metadata": {},
     "output_type": "display_data"
    },
    {
     "name": "stdout",
     "output_type": "stream",
     "text": [
      "<class 'pandas.core.frame.DataFrame'>\n",
      "Index: 19439 entries, 2016-01-15 00:00:00 to 2018-08-18 10:59:59\n",
      "Data columns (total 86 columns):\n",
      " #   Column                                              Non-Null Count  Dtype  \n",
      "---  ------                                              --------------  -----  \n",
      " 0   final.output.concentrate_ag                         19438 non-null  float64\n",
      " 1   final.output.concentrate_pb                         19438 non-null  float64\n",
      " 2   final.output.concentrate_sol                        19228 non-null  float64\n",
      " 3   final.output.concentrate_au                         19439 non-null  float64\n",
      " 4   final.output.recovery                               19439 non-null  float64\n",
      " 5   final.output.tail_ag                                19438 non-null  float64\n",
      " 6   final.output.tail_pb                                19338 non-null  float64\n",
      " 7   final.output.tail_sol                               19433 non-null  float64\n",
      " 8   final.output.tail_au                                19439 non-null  float64\n",
      " 9   primary_cleaner.input.sulfate                       19415 non-null  float64\n",
      " 10  primary_cleaner.input.depressant                    19402 non-null  float64\n",
      " 11  primary_cleaner.input.feed_size                     19439 non-null  float64\n",
      " 12  primary_cleaner.input.xanthate                      19335 non-null  float64\n",
      " 13  primary_cleaner.output.concentrate_ag               19439 non-null  float64\n",
      " 14  primary_cleaner.output.concentrate_pb               19323 non-null  float64\n",
      " 15  primary_cleaner.output.concentrate_sol              19069 non-null  float64\n",
      " 16  primary_cleaner.output.concentrate_au               19439 non-null  float64\n",
      " 17  primary_cleaner.output.tail_ag                      19435 non-null  float64\n",
      " 18  primary_cleaner.output.tail_pb                      19418 non-null  float64\n",
      " 19  primary_cleaner.output.tail_sol                     19377 non-null  float64\n",
      " 20  primary_cleaner.output.tail_au                      19439 non-null  float64\n",
      " 21  primary_cleaner.state.floatbank8_a_air              19435 non-null  float64\n",
      " 22  primary_cleaner.state.floatbank8_a_level            19438 non-null  float64\n",
      " 23  primary_cleaner.state.floatbank8_b_air              19435 non-null  float64\n",
      " 24  primary_cleaner.state.floatbank8_b_level            19438 non-null  float64\n",
      " 25  primary_cleaner.state.floatbank8_c_air              19437 non-null  float64\n",
      " 26  primary_cleaner.state.floatbank8_c_level            19438 non-null  float64\n",
      " 27  primary_cleaner.state.floatbank8_d_air              19436 non-null  float64\n",
      " 28  primary_cleaner.state.floatbank8_d_level            19438 non-null  float64\n",
      " 29  rougher.calculation.sulfate_to_au_concentrate       19437 non-null  float64\n",
      " 30  rougher.calculation.floatbank10_sulfate_to_au_feed  19437 non-null  float64\n",
      " 31  rougher.calculation.floatbank11_sulfate_to_au_feed  19437 non-null  float64\n",
      " 32  rougher.calculation.au_pb_ratio                     19439 non-null  float64\n",
      " 33  rougher.input.feed_ag                               19439 non-null  float64\n",
      " 34  rougher.input.feed_pb                               19339 non-null  float64\n",
      " 35  rougher.input.feed_rate                             19428 non-null  float64\n",
      " 36  rougher.input.feed_size                             19294 non-null  float64\n",
      " 37  rougher.input.feed_sol                              19340 non-null  float64\n",
      " 38  rougher.input.feed_au                               19439 non-null  float64\n",
      " 39  rougher.input.floatbank10_sulfate                   19405 non-null  float64\n",
      " 40  rougher.input.floatbank10_xanthate                  19431 non-null  float64\n",
      " 41  rougher.input.floatbank11_sulfate                   19395 non-null  float64\n",
      " 42  rougher.input.floatbank11_xanthate                  18986 non-null  float64\n",
      " 43  rougher.output.concentrate_ag                       19439 non-null  float64\n",
      " 44  rougher.output.concentrate_pb                       19439 non-null  float64\n",
      " 45  rougher.output.concentrate_sol                      19416 non-null  float64\n",
      " 46  rougher.output.concentrate_au                       19439 non-null  float64\n",
      " 47  rougher.output.recovery                             19439 non-null  float64\n",
      " 48  rougher.output.tail_ag                              19438 non-null  float64\n",
      " 49  rougher.output.tail_pb                              19439 non-null  float64\n",
      " 50  rougher.output.tail_sol                             19439 non-null  float64\n",
      " 51  rougher.output.tail_au                              19439 non-null  float64\n",
      " 52  rougher.state.floatbank10_a_air                     19438 non-null  float64\n",
      " 53  rougher.state.floatbank10_a_level                   19438 non-null  float64\n",
      " 54  rougher.state.floatbank10_b_air                     19438 non-null  float64\n",
      " 55  rougher.state.floatbank10_b_level                   19438 non-null  float64\n",
      " 56  rougher.state.floatbank10_c_air                     19438 non-null  float64\n",
      " 57  rougher.state.floatbank10_c_level                   19438 non-null  float64\n",
      " 58  rougher.state.floatbank10_d_air                     19439 non-null  float64\n",
      " 59  rougher.state.floatbank10_d_level                   19439 non-null  float64\n",
      " 60  rougher.state.floatbank10_e_air                     19003 non-null  float64\n",
      " 61  rougher.state.floatbank10_e_level                   19439 non-null  float64\n",
      " 62  rougher.state.floatbank10_f_air                     19439 non-null  float64\n",
      " 63  rougher.state.floatbank10_f_level                   19439 non-null  float64\n",
      " 64  secondary_cleaner.output.tail_ag                    19437 non-null  float64\n",
      " 65  secondary_cleaner.output.tail_pb                    19427 non-null  float64\n",
      " 66  secondary_cleaner.output.tail_sol                   17691 non-null  float64\n",
      " 67  secondary_cleaner.output.tail_au                    19439 non-null  float64\n",
      " 68  secondary_cleaner.state.floatbank2_a_air            19219 non-null  float64\n",
      " 69  secondary_cleaner.state.floatbank2_a_level          19438 non-null  float64\n",
      " 70  secondary_cleaner.state.floatbank2_b_air            19416 non-null  float64\n",
      " 71  secondary_cleaner.state.floatbank2_b_level          19438 non-null  float64\n",
      " 72  secondary_cleaner.state.floatbank3_a_air            19426 non-null  float64\n",
      " 73  secondary_cleaner.state.floatbank3_a_level          19438 non-null  float64\n",
      " 74  secondary_cleaner.state.floatbank3_b_air            19438 non-null  float64\n",
      " 75  secondary_cleaner.state.floatbank3_b_level          19438 non-null  float64\n",
      " 76  secondary_cleaner.state.floatbank4_a_air            19433 non-null  float64\n",
      " 77  secondary_cleaner.state.floatbank4_a_level          19438 non-null  float64\n",
      " 78  secondary_cleaner.state.floatbank4_b_air            19438 non-null  float64\n",
      " 79  secondary_cleaner.state.floatbank4_b_level          19438 non-null  float64\n",
      " 80  secondary_cleaner.state.floatbank5_a_air            19438 non-null  float64\n",
      " 81  secondary_cleaner.state.floatbank5_a_level          19438 non-null  float64\n",
      " 82  secondary_cleaner.state.floatbank5_b_air            19438 non-null  float64\n",
      " 83  secondary_cleaner.state.floatbank5_b_level          19438 non-null  float64\n",
      " 84  secondary_cleaner.state.floatbank6_a_air            19437 non-null  float64\n",
      " 85  secondary_cleaner.state.floatbank6_a_level          19438 non-null  float64\n",
      "dtypes: float64(86)\n",
      "memory usage: 12.9+ MB\n"
     ]
    },
    {
     "data": {
      "text/plain": [
       "None"
      ]
     },
     "metadata": {},
     "output_type": "display_data"
    },
    {
     "name": "stdout",
     "output_type": "stream",
     "text": [
      "\n"
     ]
    },
    {
     "data": {
      "text/plain": [
       "'Пропуски'"
      ]
     },
     "metadata": {},
     "output_type": "display_data"
    },
    {
     "data": {
      "text/plain": [
       "final.output.concentrate_ag                     1\n",
       "final.output.concentrate_pb                     1\n",
       "final.output.concentrate_sol                  211\n",
       "final.output.concentrate_au                     0\n",
       "final.output.recovery                           0\n",
       "                                             ... \n",
       "secondary_cleaner.state.floatbank5_a_level      1\n",
       "secondary_cleaner.state.floatbank5_b_air        1\n",
       "secondary_cleaner.state.floatbank5_b_level      1\n",
       "secondary_cleaner.state.floatbank6_a_air        2\n",
       "secondary_cleaner.state.floatbank6_a_level      1\n",
       "Length: 86, dtype: int64"
      ]
     },
     "metadata": {},
     "output_type": "display_data"
    },
    {
     "name": "stdout",
     "output_type": "stream",
     "text": [
      "\n"
     ]
    },
    {
     "data": {
      "text/plain": [
       "'Дубликаты'"
      ]
     },
     "metadata": {},
     "output_type": "display_data"
    },
    {
     "data": {
      "text/plain": [
       "0"
      ]
     },
     "metadata": {},
     "output_type": "display_data"
    }
   ],
   "source": [
    "for data in [gold_recovery_train, gold_recovery_test, gold_recovery_full]:\n",
    "    show(data)"
   ]
  },
  {
   "cell_type": "markdown",
   "metadata": {},
   "source": [
    "* Создадим функцию, которая будет считать эффективность обогащения металлов\n",
    "* Подсчитаем MAE"
   ]
  },
  {
   "cell_type": "code",
   "execution_count": 5,
   "metadata": {},
   "outputs": [],
   "source": [
    "def recovery(data, C, F, T): # эффективность обогащения\n",
    "    C = data[C] # доля золота в концентрате после флотации/очистки\n",
    "    F = data[F] # доля золота в сырье/концентрате до флотации/очистки\n",
    "    T = data[T] # доля золота в отвальных хвостах после флотации/очистки\n",
    "    return ((C * (F - T)) / (F * (C - T))) * 100"
   ]
  },
  {
   "cell_type": "code",
   "execution_count": 6,
   "metadata": {},
   "outputs": [],
   "source": [
    "recovery_train = recovery(gold_recovery_train, 'rougher.output.concentrate_au',\n",
    "                          'rougher.input.feed_au', 'rougher.output.tail_au')"
   ]
  },
  {
   "cell_type": "code",
   "execution_count": 7,
   "metadata": {},
   "outputs": [
    {
     "name": "stdout",
     "output_type": "stream",
     "text": [
      "MAE:  9.73512347450521e-15\n"
     ]
    }
   ],
   "source": [
    "print('MAE: ', (gold_recovery_train['rougher.output.recovery'] - recovery_train).abs().mean())"
   ]
  },
  {
   "cell_type": "markdown",
   "metadata": {},
   "source": [
    "<span style='color:Purple'> MAE составляет 9,7%, так то можно считать данные recovery верными <span>"
   ]
  },
  {
   "cell_type": "markdown",
   "metadata": {},
   "source": [
    "Посмотрим, какие признаки недоступны в тестовой выборке"
   ]
  },
  {
   "cell_type": "code",
   "execution_count": 8,
   "metadata": {},
   "outputs": [
    {
     "data": {
      "text/plain": [
       "{'final.output.concentrate_ag',\n",
       " 'final.output.concentrate_au',\n",
       " 'final.output.concentrate_pb',\n",
       " 'final.output.concentrate_sol',\n",
       " 'final.output.recovery',\n",
       " 'final.output.tail_ag',\n",
       " 'final.output.tail_au',\n",
       " 'final.output.tail_pb',\n",
       " 'final.output.tail_sol',\n",
       " 'primary_cleaner.output.concentrate_ag',\n",
       " 'primary_cleaner.output.concentrate_au',\n",
       " 'primary_cleaner.output.concentrate_pb',\n",
       " 'primary_cleaner.output.concentrate_sol',\n",
       " 'primary_cleaner.output.tail_ag',\n",
       " 'primary_cleaner.output.tail_au',\n",
       " 'primary_cleaner.output.tail_pb',\n",
       " 'primary_cleaner.output.tail_sol',\n",
       " 'rougher.calculation.au_pb_ratio',\n",
       " 'rougher.calculation.floatbank10_sulfate_to_au_feed',\n",
       " 'rougher.calculation.floatbank11_sulfate_to_au_feed',\n",
       " 'rougher.calculation.sulfate_to_au_concentrate',\n",
       " 'rougher.output.concentrate_ag',\n",
       " 'rougher.output.concentrate_au',\n",
       " 'rougher.output.concentrate_pb',\n",
       " 'rougher.output.concentrate_sol',\n",
       " 'rougher.output.recovery',\n",
       " 'rougher.output.tail_ag',\n",
       " 'rougher.output.tail_au',\n",
       " 'rougher.output.tail_pb',\n",
       " 'rougher.output.tail_sol',\n",
       " 'secondary_cleaner.output.tail_ag',\n",
       " 'secondary_cleaner.output.tail_au',\n",
       " 'secondary_cleaner.output.tail_pb',\n",
       " 'secondary_cleaner.output.tail_sol'}"
      ]
     },
     "execution_count": 8,
     "metadata": {},
     "output_type": "execute_result"
    }
   ],
   "source": [
    "set(gold_recovery_train.columns) - set(gold_recovery_test.columns)"
   ]
  },
  {
   "cell_type": "markdown",
   "metadata": {},
   "source": [
    "### Вывод: \n",
    "В тестовой выборке недоступны:\n",
    "* данные о флотации\n",
    "* параметры продуктов\n",
    "* расчётные характеристики\n",
    "* данные вторичной очистки"
   ]
  },
  {
   "cell_type": "markdown",
   "metadata": {},
   "source": [
    "Создадим функцию для удаления целевого признака из датасета и заполним прощенные значения соседними"
   ]
  },
  {
   "cell_type": "code",
   "execution_count": 9,
   "metadata": {},
   "outputs": [],
   "source": [
    "def preprocessing(data):\n",
    "    data = data.dropna(subset=['rougher.output.recovery', 'final.output.recovery'])\n",
    "    data = data.ffill()\n",
    "    return data"
   ]
  },
  {
   "cell_type": "code",
   "execution_count": 10,
   "metadata": {},
   "outputs": [],
   "source": [
    "gold_recovery_train = preprocessing(gold_recovery_train)"
   ]
  },
  {
   "cell_type": "code",
   "execution_count": 11,
   "metadata": {},
   "outputs": [
    {
     "data": {
      "text/plain": [
       "final.output.concentrate_ag                   0\n",
       "final.output.concentrate_pb                   0\n",
       "final.output.concentrate_sol                  0\n",
       "final.output.concentrate_au                   0\n",
       "final.output.recovery                         0\n",
       "                                             ..\n",
       "secondary_cleaner.state.floatbank5_a_level    0\n",
       "secondary_cleaner.state.floatbank5_b_air      0\n",
       "secondary_cleaner.state.floatbank5_b_level    0\n",
       "secondary_cleaner.state.floatbank6_a_air      0\n",
       "secondary_cleaner.state.floatbank6_a_level    0\n",
       "Length: 86, dtype: int64"
      ]
     },
     "execution_count": 11,
     "metadata": {},
     "output_type": "execute_result"
    }
   ],
   "source": [
    "gold_recovery_train.isna().sum()"
   ]
  },
  {
   "cell_type": "markdown",
   "metadata": {},
   "source": [
    "Заменим пропуски в данных на соседние значения"
   ]
  },
  {
   "cell_type": "code",
   "execution_count": 12,
   "metadata": {},
   "outputs": [],
   "source": [
    "gold_recovery_test = gold_recovery_test.ffill()\n",
    "gold_recovery_full = gold_recovery_full.ffill()"
   ]
  },
  {
   "cell_type": "markdown",
   "metadata": {},
   "source": [
    "## Анализ данных"
   ]
  },
  {
   "cell_type": "markdown",
   "metadata": {},
   "source": [
    "Посмотрим, как изменяются концентрации металлов после каждой стадии очистки"
   ]
  },
  {
   "cell_type": "code",
   "execution_count": 13,
   "metadata": {},
   "outputs": [],
   "source": [
    "def conc(data, stage_1, stage_2, stage_3, stage_4):\n",
    "    metals = ['au', 'ag', 'pb']\n",
    "    result = []\n",
    "    for metal in metals:\n",
    "        values = [round(data[stage_1 + metal].mean(), 2), \n",
    "                  round(data[stage_2 + metal].mean(), 2),\n",
    "                  round(data[stage_3 + metal].mean(), 2),\n",
    "                  round(data[stage_4 + metal].mean(), 2)]\n",
    "        result.append((metal, values))\n",
    "    return result"
   ]
  },
  {
   "cell_type": "code",
   "execution_count": 14,
   "metadata": {},
   "outputs": [
    {
     "name": "stdout",
     "output_type": "stream",
     "text": [
      "Изменение концентрации au по стадиям:\n",
      "Начальная: 8.27\n",
      "После флотации: 19.77\n",
      "После первичной отчистки: 32.12\n",
      "Финальная: 44.08 \n",
      "\n",
      "Изменение концентрации ag по стадиям:\n",
      "Начальная: 8.79\n",
      "После флотации: 11.99\n",
      "После первичной отчистки: 8.44\n",
      "Финальная: 5.17 \n",
      "\n",
      "Изменение концентрации pb по стадиям:\n",
      "Начальная: 3.59\n",
      "После флотации: 7.61\n",
      "После первичной отчистки: 9.81\n",
      "Финальная: 9.98 \n",
      "\n"
     ]
    }
   ],
   "source": [
    "result = conc(gold_recovery_full, 'rougher.input.feed_', 'rougher.output.concentrate_',\n",
    "              'primary_cleaner.output.concentrate_', 'final.output.concentrate_')\n",
    "for metal, values in result:\n",
    "    print('Изменение концентрации', metal, 'по стадиям:')\n",
    "    print('Начальная:', values[0])\n",
    "    print('После флотации:', values[1])\n",
    "    print('После первичной отчистки:', values[2])\n",
    "    print('Финальная:', values[3], '\\n')"
   ]
  },
  {
   "cell_type": "markdown",
   "metadata": {},
   "source": [
    "Отобразим это на графиках"
   ]
  },
  {
   "cell_type": "code",
   "execution_count": 15,
   "metadata": {},
   "outputs": [],
   "source": [
    "def concentration(data, stage_1, stage_2, stage_3, stage_4):\n",
    "    metals = ['au', 'ag', 'pb']\n",
    "    for metal in metals:\n",
    "        plt.figure(figsize=(12, 6), dpi=80)\n",
    "        sns.kdeplot(data[stage_1 + metal], shade=True, color='blue', \n",
    "                    label='начальная', alpha=0.5)\n",
    "        sns.kdeplot(data[stage_2 + metal], shade=True, color='green', \n",
    "                    label='после флотации', alpha=0.5)\n",
    "        sns.kdeplot(data[stage_3 + metal], shade=True, color='red', \n",
    "                    label='после первичной отчистки', alpha=0.5)\n",
    "        sns.kdeplot(data[stage_4 + metal], shade=True, color='yellow', \n",
    "                    label='финальная', alpha=0.5)\n",
    "        plt.title('Изменение концентрации ' + metal + ' по стадиям:')\n",
    "        plt.legend()\n",
    "        plt.show()"
   ]
  },
  {
   "cell_type": "code",
   "execution_count": 16,
   "metadata": {
    "scrolled": true
   },
   "outputs": [
    {
     "data": {
      "image/png": "[encoded data removed]",
      "text/plain": [
       "<Figure size 960x480 with 1 Axes>"
      ]
     },
     "metadata": {
      "needs_background": "light"
     },
     "output_type": "display_data"
    },
    {
     "data": {
      "image/png": "[encoded data removed]",
      "text/plain": [
       "<Figure size 960x480 with 1 Axes>"
      ]
     },
     "metadata": {
      "needs_background": "light"
     },
     "output_type": "display_data"
    },
    {
     "data": {
      "image/png": "[encoded data removed]",
      "text/plain": [
       "<Figure size 960x480 with 1 Axes>"
      ]
     },
     "metadata": {
      "needs_background": "light"
     },
     "output_type": "display_data"
    }
   ],
   "source": [
    "concentration(gold_recovery_full, 'rougher.input.feed_', 'rougher.output.concentrate_',\n",
    "              'primary_cleaner.output.concentrate_', 'final.output.concentrate_')"
   ]
  },
  {
   "cell_type": "markdown",
   "metadata": {},
   "source": [
    "* Видим, что после флотации повышается концентрация всех металлов.   \n",
    "* Далее идут процессы первичной и вторичной очистки, после чего золото, серебро и свинец отделяются друг от друга   "
   ]
  },
  {
   "cell_type": "markdown",
   "metadata": {},
   "source": [
    "Посмотрим на изменения гранул сырья"
   ]
  },
  {
   "cell_type": "code",
   "execution_count": 17,
   "metadata": {},
   "outputs": [
    {
     "name": "stdout",
     "output_type": "stream",
     "text": [
      "Train: 60.23985599255732\n",
      "Test: 55.952754028895136\n"
     ]
    }
   ],
   "source": [
    "print('Train:', gold_recovery_train['rougher.input.feed_size'].mean()), \n",
    "print('Test:', gold_recovery_test['rougher.input.feed_size'].mean())"
   ]
  },
  {
   "cell_type": "code",
   "execution_count": 18,
   "metadata": {},
   "outputs": [],
   "source": [
    "def grains(train, test):\n",
    "    plt.figure(figsize=(12, 6), dpi=80)\n",
    "    sns.kdeplot(train, shade=True, label='Train', alpha=0.3)\n",
    "    sns.kdeplot(test, shade=True, label='Test', alpha=0.3)\n",
    "    plt.xlim(0, 200)\n",
    "    plt.title('Размеры гранул сырья')\n",
    "    plt.legend()\n",
    "    plt.show()"
   ]
  },
  {
   "cell_type": "code",
   "execution_count": 19,
   "metadata": {
    "scrolled": true
   },
   "outputs": [
    {
     "data": {
      "image/png": "[encoded data removed]",
      "text/plain": [
       "<Figure size 960x480 with 1 Axes>"
      ]
     },
     "metadata": {
      "needs_background": "light"
     },
     "output_type": "display_data"
    }
   ],
   "source": [
    "grains(gold_recovery_train['rougher.input.feed_size'],\n",
    "     gold_recovery_test['rougher.input.feed_size'])"
   ]
  },
  {
   "cell_type": "markdown",
   "metadata": {},
   "source": [
    "* Распределения гранул на графике схожи. \n",
    "* На тренировочной выборке наблюдается небольшое положительное смещение. "
   ]
  },
  {
   "cell_type": "markdown",
   "metadata": {},
   "source": [
    "Создадим функцию для подсчёта концентрации всех металлов на этапах очистки"
   ]
  },
  {
   "cell_type": "code",
   "execution_count": 20,
   "metadata": {},
   "outputs": [],
   "source": [
    "def concentrations(data):\n",
    "    data['rougher_input_feed_all_metal'] = (data['rougher.input.feed_au'] + \n",
    "                                 data['rougher.input.feed_ag'] + \n",
    "                                 data['rougher.input.feed_pb'])\n",
    "\n",
    "    data['rougher_output_concentrate_all_metal'] = (data['rougher.output.concentrate_au'] + \n",
    "                                 data['rougher.output.concentrate_ag'] + \n",
    "                                 data['rougher.output.concentrate_pb'])\n",
    "\n",
    "    data['primary_output_concentrate_all_metal'] = (\n",
    "        data['primary_cleaner.output.concentrate_au'] + \n",
    "        data['primary_cleaner.output.concentrate_ag'] + \n",
    "        data['primary_cleaner.output.concentrate_pb']\n",
    "    )\n",
    "\n",
    "    data['final_output_concentrate_all_metal'] = (data['final.output.concentrate_au'] + \n",
    "                                 data['final.output.concentrate_ag'] + \n",
    "                                 data['final.output.concentrate_pb'])\n",
    "\n",
    "    return data"
   ]
  },
  {
   "cell_type": "code",
   "execution_count": 21,
   "metadata": {},
   "outputs": [],
   "source": [
    "def show_concentrations(data):\n",
    "    plt.figure(figsize=(16,10), dpi= 80)\n",
    "    sns.kdeplot(data['rougher_input_feed_all_metal'], shade=True, color=\"blue\", \n",
    "                label=\"начальная\", alpha=0.5)\n",
    "    sns.kdeplot(data['rougher_output_concentrate_all_metal'], shade=True, color=\"green\", \n",
    "                label=\"после флотации\", alpha=0.5)\n",
    "    sns.kdeplot(data['primary_output_concentrate_all_metal'], shade=True, color=\"red\", \n",
    "                label=\"после первичной отчистки\", alpha=0.5)\n",
    "    sns.kdeplot(data['final_output_concentrate_all_metal'], shade=True, color=\"yellow\", \n",
    "                label=\"финальная\", alpha=0.5)\n",
    "\n",
    "    plt.title('Концентрация всех металлов, на этапах отчистки')\n",
    "    plt.legend()\n",
    "    plt.show()"
   ]
  },
  {
   "cell_type": "code",
   "execution_count": 22,
   "metadata": {},
   "outputs": [
    {
     "data": {
      "image/png": "[encoded data removed]",
      "text/plain": [
       "<Figure size 1280x800 with 1 Axes>"
      ]
     },
     "metadata": {
      "needs_background": "light"
     },
     "output_type": "display_data"
    }
   ],
   "source": [
    "gold_recovery_train = concentrations(gold_recovery_train)\n",
    "show_concentrations(gold_recovery_train)"
   ]
  },
  {
   "cell_type": "markdown",
   "metadata": {},
   "source": [
    "Уберём выбросы"
   ]
  },
  {
   "cell_type": "code",
   "execution_count": 23,
   "metadata": {},
   "outputs": [],
   "source": [
    "def cleaning(data):\n",
    "    \n",
    "    data = data.query('1 < rougher_input_feed_all_metal')\n",
    "    data = data.query('1 < rougher_output_concentrate_all_metal')\n",
    "    data = data.query('1 < primary_output_concentrate_all_metal')\n",
    "    data = data.query('1 < final_output_concentrate_all_metal')\n",
    "    \n",
    "    rougher_input_feed_all_metal_low = data['rougher_input_feed_all_metal'].quantile(.025)\n",
    "    rougher_input_feed_all_metal_up = data['rougher_input_feed_all_metal'].quantile(.975)\n",
    "    rougher_output_concentrate_all_metal_low = data['rougher_output_concentrate_all_metal'].quantile(.025)\n",
    "    rougher_output_concentrate_all_metal_up = data['rougher_output_concentrate_all_metal'].quantile(.975)    \n",
    "    primary_output_concentrate_all_metal_low = data['primary_output_concentrate_all_metal'].quantile(.025)\n",
    "    primary_output_concentrate_all_metal_up = data['primary_output_concentrate_all_metal'].quantile(.975)    \n",
    "    final_output_concentrate_all_metal_low = data['final_output_concentrate_all_metal'].quantile(.025)\n",
    "    final_output_concentrate_all_metal_up = data['final_output_concentrate_all_metal'].quantile(.975)\n",
    "    \n",
    "    data = data.query('@rougher_input_feed_all_metal_low < rougher_input_feed_all_metal < @rougher_input_feed_all_metal_up')\n",
    "    data = data.query('@rougher_output_concentrate_all_metal_low < rougher_output_concentrate_all_metal < @rougher_output_concentrate_all_metal_up')\n",
    "    data = data.query('@primary_output_concentrate_all_metal_low < rougher_output_concentrate_all_metal < @primary_output_concentrate_all_metal_up')\n",
    "    data = data.query('@final_output_concentrate_all_metal_low < final_output_concentrate_all_metal < @final_output_concentrate_all_metal_up')\n",
    "    \n",
    "    return data"
   ]
  },
  {
   "cell_type": "code",
   "execution_count": 24,
   "metadata": {},
   "outputs": [
    {
     "data": {
      "image/png": "[encoded data removed]",
      "text/plain": [
       "<Figure size 1280x800 with 1 Axes>"
      ]
     },
     "metadata": {
      "needs_background": "light"
     },
     "output_type": "display_data"
    }
   ],
   "source": [
    "gold_recovery_train = cleaning(gold_recovery_train)\n",
    "show_concentrations(gold_recovery_train)"
   ]
  },
  {
   "cell_type": "markdown",
   "metadata": {},
   "source": [
    "Как видим концентрации всех металлов значительно повышаются на каждом этапе"
   ]
  },
  {
   "cell_type": "markdown",
   "metadata": {},
   "source": [
    "## Модель"
   ]
  },
  {
   "cell_type": "markdown",
   "metadata": {},
   "source": [
    "Создадим функции для подсчёта итоговой sMAPE"
   ]
  },
  {
   "cell_type": "code",
   "execution_count": 25,
   "metadata": {},
   "outputs": [],
   "source": [
    "def total_smape(y_true,y_pred):\n",
    "        numerator = np.abs(y_true - y_pred)\n",
    "        denominator = (np.abs(y_true) + np.abs(y_pred))/2\n",
    "        smape = ((numerator/denominator)*100).sum() / len(y_pred)\n",
    "        return 0.25*smape[0] + 0.75*smape[1]"
   ]
  },
  {
   "cell_type": "markdown",
   "metadata": {},
   "source": [
    "Создадим scorer для подсчёта sMAPE в дальнейшем"
   ]
  },
  {
   "cell_type": "code",
   "execution_count": 26,
   "metadata": {},
   "outputs": [],
   "source": [
    "scorer = make_scorer(total_smape, greater_is_better=False)"
   ]
  },
  {
   "cell_type": "markdown",
   "metadata": {},
   "source": [
    "Уберём выбросы"
   ]
  },
  {
   "cell_type": "code",
   "execution_count": 27,
   "metadata": {},
   "outputs": [],
   "source": [
    "def sizing_test(data):\n",
    "    data = data.merge(gold_recovery_full[['rougher.output.recovery', 'final.output.recovery']],\n",
    "                     how='left', on='date')\n",
    "    preprocessing(data)\n",
    "    data['rougher_input_feed_all_metal'] = (data['rougher.input.feed_au'] + \n",
    "                                 data['rougher.input.feed_ag'] + \n",
    "                                 data['rougher.input.feed_pb'])\n",
    "    data = data.query('rougher_input_feed_all_metal > 1')\n",
    "    rougher_input_feed_all_metal_low = data['rougher_input_feed_all_metal'].quantile(0.25)\n",
    "    rougher_input_feed_all_metal_up = data['rougher_input_feed_all_metal'].quantile(0.975)\n",
    "    data = data.query('@rougher_input_feed_all_metal_low < rougher_input_feed_all_metal < @rougher_input_feed_all_metal_up')\n",
    "    return data"
   ]
  },
  {
   "cell_type": "code",
   "execution_count": 28,
   "metadata": {},
   "outputs": [],
   "source": [
    "gold_recovery_test = sizing_test(gold_recovery_test)"
   ]
  },
  {
   "cell_type": "markdown",
   "metadata": {},
   "source": [
    "Уберём из тренировочной выборки данные, недоступные в тестовой"
   ]
  },
  {
   "cell_type": "code",
   "execution_count": 29,
   "metadata": {},
   "outputs": [],
   "source": [
    "gold_recovery_train = gold_recovery_train[gold_recovery_test.columns]"
   ]
  },
  {
   "cell_type": "markdown",
   "metadata": {},
   "source": [
    "Разделим данные на обучающие и тестовые выборки, отделим целевые признаки"
   ]
  },
  {
   "cell_type": "code",
   "execution_count": 30,
   "metadata": {},
   "outputs": [],
   "source": [
    "features_train = gold_recovery_train.drop(columns=['rougher.output.recovery', \n",
    "                                                   'final.output.recovery'], axis=1)\n",
    "target_train = gold_recovery_train[['rougher.output.recovery', 'final.output.recovery']]"
   ]
  },
  {
   "cell_type": "code",
   "execution_count": 31,
   "metadata": {},
   "outputs": [],
   "source": [
    "features_test = gold_recovery_test.drop(columns=['rougher.output.recovery', \n",
    "                                                   'final.output.recovery'], axis=1)\n",
    "target_test = gold_recovery_test[['rougher.output.recovery', 'final.output.recovery']]"
   ]
  },
  {
   "cell_type": "markdown",
   "metadata": {},
   "source": [
    "Выберем лучшую необученную модель"
   ]
  },
  {
   "cell_type": "code",
   "execution_count": 32,
   "metadata": {},
   "outputs": [
    {
     "name": "stdout",
     "output_type": "stream",
     "text": [
      "10.027117319549646\n"
     ]
    }
   ],
   "source": [
    "best_score = 100\n",
    "rfr_model = RandomForestRegressor(random_state=42)\n",
    "\n",
    "score = cross_val_score(rfr_model, features_train, target_train, cv=3, scoring=scorer)\n",
    "score = abs(score.mean())\n",
    "\n",
    "print(score)"
   ]
  },
  {
   "cell_type": "code",
   "execution_count": 33,
   "metadata": {},
   "outputs": [
    {
     "name": "stdout",
     "output_type": "stream",
     "text": [
      "13.128004726612138\n"
     ]
    }
   ],
   "source": [
    "best_score = 100\n",
    "dtr_model = DecisionTreeRegressor(random_state=42)\n",
    "\n",
    "score = cross_val_score(dtr_model, features_train, target_train, cv=3, scoring=scorer)\n",
    "score = abs(score.mean())\n",
    "\n",
    "print(score)"
   ]
  },
  {
   "cell_type": "code",
   "execution_count": 34,
   "metadata": {},
   "outputs": [
    {
     "name": "stdout",
     "output_type": "stream",
     "text": [
      "12.135025134356129\n"
     ]
    }
   ],
   "source": [
    "best_score = 100\n",
    "lr_model = LinearRegression()\n",
    "\n",
    "score = cross_val_score(lr_model, features_train, target_train, cv=3, scoring=scorer)\n",
    "score = abs(score.mean())\n",
    "\n",
    "print(score)"
   ]
  },
  {
   "cell_type": "markdown",
   "metadata": {},
   "source": [
    "На основе кросс-валидации выбираем модель 'Случайный лес'"
   ]
  },
  {
   "cell_type": "markdown",
   "metadata": {},
   "source": [
    "Подберём оптимальные гиперпараметры для модели"
   ]
  },
  {
   "cell_type": "code",
   "execution_count": 35,
   "metadata": {
    "scrolled": true
   },
   "outputs": [
    {
     "name": "stdout",
     "output_type": "stream",
     "text": [
      " sMAPE: 8.809986120148158, глубина: 3, количество деревьев: 70\n"
     ]
    }
   ],
   "source": [
    "# Определение гиперпараметров для случайного леса\n",
    "param_dist = {\"max_depth\": [3, None],\n",
    "              \"n_estimators\": sp_randint(10, 100),\n",
    "              \"max_features\": sp_randint(1, len(features_train.columns))}\n",
    "\n",
    "# Создание экземпляра модели случайного леса\n",
    "rfr_model = RandomForestRegressor(random_state=42)\n",
    "\n",
    "# Создание экземпляра класса RandomizedSearchCV\n",
    "random_search = RandomizedSearchCV(rfr_model, param_distributions=param_dist, \n",
    "                                   n_iter=10, cv=3, random_state=42, \n",
    "                                   scoring=scorer, n_jobs=-1)\n",
    "\n",
    "# Подгонка модели на тренировочных данных\n",
    "random_search.fit(features_train, target_train)\n",
    "\n",
    "# Вывод наилучших гиперпараметров\n",
    "print(f' sMAPE: {abs(random_search.best_score_)}, глубина: {random_search.best_estimator_.max_depth}, количество деревьев: {random_search.best_estimator_.n_estimators}')\n"
   ]
  },
  {
   "cell_type": "code",
   "execution_count": 36,
   "metadata": {},
   "outputs": [
    {
     "name": "stdout",
     "output_type": "stream",
     "text": [
      "sMAPE: 8.073096905137701\n"
     ]
    }
   ],
   "source": [
    "model = RandomForestRegressor(random_state=42, max_depth=3, n_estimators=70)\n",
    "model.fit(features_train, target_train)\n",
    "smape = scorer(model, features_test, target_test)\n",
    "\n",
    "print(f'sMAPE: {abs(smape)}')"
   ]
  },
  {
   "cell_type": "code",
   "execution_count": 37,
   "metadata": {},
   "outputs": [
    {
     "name": "stdout",
     "output_type": "stream",
     "text": [
      "sMAPE простой модели: 8.621381905584926\n",
      "sMAPE нашей модели: 8.073096905137701\n",
      "Модель адекватна\n"
     ]
    }
   ],
   "source": [
    "# Создаем простую модель\n",
    "dummy_model = DummyRegressor(strategy='mean')\n",
    "dummy_model.fit(features_train, target_train)\n",
    "\n",
    "# Оцениваем качество простой модели\n",
    "smape_dummy = scorer(dummy_model, features_test, target_test)\n",
    "print(f'sMAPE простой модели: {abs(smape_dummy)}')\n",
    "\n",
    "# Оцениваем качество нашей модели\n",
    "model = RandomForestRegressor(random_state=42, max_depth=3, n_estimators=70)\n",
    "model.fit(features_train, target_train)\n",
    "smape = scorer(model, features_test, target_test)\n",
    "print(f'sMAPE нашей модели: {abs(smape)}')\n",
    "\n",
    "# Сравниваем качество моделей\n",
    "if abs(smape) < abs(smape_dummy):\n",
    "    print('Модель адекватна')\n",
    "else:\n",
    "    print('Модель не адекватна')\n"
   ]
  },
  {
   "cell_type": "markdown",
   "metadata": {},
   "source": [
    "# Вывод:\n",
    "* Модель имеет sMAPE = 8, значит, ошибается только в 8% случаев\n",
    "* Модель прошла проверку на адекватность"
   ]
  },
  {
   "cell_type": "markdown",
   "metadata": {},
   "source": [
    "- [x]  Jupyter Notebook открыт\n",
    "- [x]  Весь код выполняется без ошибок\n",
    "- [x]  Ячейки с кодом расположены в порядке выполнения\n",
    "- [x]  Выполнен шаг 1: данные подготовлены\n",
    "    - [x]  Проверена формула вычисления эффективности обогащения\n",
    "    - [x]  Проанализированы признаки, недоступные в тестовой выборке\n",
    "    - [x]  Проведена предобработка данных\n",
    "- [x]  Выполнен шаг 2: данные проанализированы\n",
    "    - [x]  Исследовано изменение концентрации элементов на каждом этапе\n",
    "    - [x]  Проанализированы распределения размеров гранул на обучающей и тестовой выборках\n",
    "    - [x]  Исследованы суммарные концентрации\n",
    "- [x]  Выполнен шаг 3: построена модель прогнозирования\n",
    "    - [x]  Написана функция для вычисления итогового *sMAPE*\n",
    "    - [x]  Обучено и проверено несколько моделей\n",
    "    - [x]  Выбрана лучшая модель, её качество проверено на тестовой выборке"
   ]
  }
 ],
 "metadata": {
  "ExecuteTimeLog": [
   {
    "duration": 419,
    "start_time": "2023-04-10T16:59:31.521Z"
   },
   {
    "duration": 139,
    "start_time": "2023-04-10T17:02:16.731Z"
   },
   {
    "duration": 4377,
    "start_time": "2023-04-10T17:02:51.620Z"
   },
   {
    "duration": 871,
    "start_time": "2023-04-10T17:03:35.659Z"
   },
   {
    "duration": 7,
    "start_time": "2023-04-10T17:03:50.412Z"
   },
   {
    "duration": 888,
    "start_time": "2023-04-10T17:03:50.830Z"
   },
   {
    "duration": 3144,
    "start_time": "2023-04-10T17:04:05.485Z"
   },
   {
    "duration": 835,
    "start_time": "2023-04-10T17:04:12.486Z"
   },
   {
    "duration": 2687,
    "start_time": "2023-04-10T17:04:28.621Z"
   },
   {
    "duration": 800,
    "start_time": "2023-04-10T17:04:38.221Z"
   },
   {
    "duration": 8,
    "start_time": "2023-04-10T17:09:39.486Z"
   },
   {
    "duration": 45,
    "start_time": "2023-04-10T17:11:02.840Z"
   },
   {
    "duration": 6,
    "start_time": "2023-04-10T17:11:12.431Z"
   },
   {
    "duration": 367,
    "start_time": "2023-04-10T17:11:12.911Z"
   },
   {
    "duration": 18,
    "start_time": "2023-04-10T17:12:34.514Z"
   },
   {
    "duration": 339,
    "start_time": "2023-04-10T17:12:34.908Z"
   },
   {
    "duration": 4,
    "start_time": "2023-04-10T17:14:01.866Z"
   },
   {
    "duration": 457,
    "start_time": "2023-04-10T17:14:02.556Z"
   },
   {
    "duration": 9,
    "start_time": "2023-04-10T17:26:51.886Z"
   },
   {
    "duration": 3,
    "start_time": "2023-04-10T17:28:58.238Z"
   },
   {
    "duration": 6,
    "start_time": "2023-04-10T17:31:36.475Z"
   },
   {
    "duration": 7,
    "start_time": "2023-04-10T17:33:49.111Z"
   },
   {
    "duration": 9,
    "start_time": "2023-04-10T17:33:53.883Z"
   },
   {
    "duration": 3,
    "start_time": "2023-04-10T17:34:04.025Z"
   },
   {
    "duration": 810,
    "start_time": "2023-04-10T17:34:04.389Z"
   },
   {
    "duration": 12,
    "start_time": "2023-04-10T17:34:05.203Z"
   },
   {
    "duration": 361,
    "start_time": "2023-04-10T17:34:05.909Z"
   },
   {
    "duration": 4,
    "start_time": "2023-04-10T17:34:06.825Z"
   },
   {
    "duration": 4,
    "start_time": "2023-04-10T17:34:07.465Z"
   },
   {
    "duration": 9,
    "start_time": "2023-04-10T17:34:08.015Z"
   },
   {
    "duration": 10,
    "start_time": "2023-04-10T17:34:13.484Z"
   },
   {
    "duration": 10,
    "start_time": "2023-04-10T17:34:46.214Z"
   },
   {
    "duration": 12,
    "start_time": "2023-04-10T17:34:55.709Z"
   },
   {
    "duration": 6,
    "start_time": "2023-04-10T17:37:03.348Z"
   },
   {
    "duration": 9,
    "start_time": "2023-04-10T17:37:03.838Z"
   },
   {
    "duration": 4,
    "start_time": "2023-04-10T17:37:05.921Z"
   },
   {
    "duration": 7,
    "start_time": "2023-04-10T17:37:06.186Z"
   },
   {
    "duration": 10,
    "start_time": "2023-04-10T17:37:06.483Z"
   },
   {
    "duration": 8,
    "start_time": "2023-04-10T17:38:02.009Z"
   },
   {
    "duration": 5,
    "start_time": "2023-04-10T17:39:12.741Z"
   },
   {
    "duration": 425,
    "start_time": "2023-04-11T06:01:26.587Z"
   },
   {
    "duration": 3044,
    "start_time": "2023-04-11T06:01:27.014Z"
   },
   {
    "duration": 4,
    "start_time": "2023-04-11T06:01:30.059Z"
   },
   {
    "duration": 388,
    "start_time": "2023-04-11T06:01:30.064Z"
   },
   {
    "duration": 5,
    "start_time": "2023-04-11T06:01:30.454Z"
   },
   {
    "duration": 26,
    "start_time": "2023-04-11T06:01:30.461Z"
   },
   {
    "duration": 34,
    "start_time": "2023-04-11T06:01:30.489Z"
   },
   {
    "duration": 28,
    "start_time": "2023-04-11T06:01:30.525Z"
   },
   {
    "duration": 30,
    "start_time": "2023-04-11T06:12:30.986Z"
   },
   {
    "duration": 88,
    "start_time": "2023-04-11T06:14:19.272Z"
   },
   {
    "duration": 21,
    "start_time": "2023-04-11T06:14:50.108Z"
   },
   {
    "duration": 18,
    "start_time": "2023-04-11T06:14:57.829Z"
   },
   {
    "duration": 2,
    "start_time": "2023-04-11T06:15:47.208Z"
   },
   {
    "duration": 8,
    "start_time": "2023-04-11T06:17:19.332Z"
   },
   {
    "duration": 9,
    "start_time": "2023-04-11T06:17:40.322Z"
   },
   {
    "duration": 3,
    "start_time": "2023-04-11T06:18:46.730Z"
   },
   {
    "duration": 9,
    "start_time": "2023-04-11T06:18:47.024Z"
   },
   {
    "duration": 11,
    "start_time": "2023-04-11T06:18:47.276Z"
   },
   {
    "duration": 3,
    "start_time": "2023-04-11T06:20:58.564Z"
   },
   {
    "duration": 17,
    "start_time": "2023-04-11T06:20:58.849Z"
   },
   {
    "duration": 8,
    "start_time": "2023-04-11T06:20:59.130Z"
   },
   {
    "duration": 3,
    "start_time": "2023-04-11T06:21:15.009Z"
   },
   {
    "duration": 8,
    "start_time": "2023-04-11T06:21:15.256Z"
   },
   {
    "duration": 8,
    "start_time": "2023-04-11T06:21:15.648Z"
   },
   {
    "duration": 450,
    "start_time": "2023-04-11T06:21:23.079Z"
   },
   {
    "duration": 769,
    "start_time": "2023-04-11T06:21:23.531Z"
   },
   {
    "duration": 5,
    "start_time": "2023-04-11T06:21:24.302Z"
   },
   {
    "duration": 380,
    "start_time": "2023-04-11T06:21:24.309Z"
   },
   {
    "duration": 4,
    "start_time": "2023-04-11T06:21:24.701Z"
   },
   {
    "duration": 12,
    "start_time": "2023-04-11T06:21:24.706Z"
   },
   {
    "duration": 11,
    "start_time": "2023-04-11T06:21:24.720Z"
   },
   {
    "duration": 11,
    "start_time": "2023-04-11T06:21:24.732Z"
   },
   {
    "duration": 6,
    "start_time": "2023-04-11T06:21:24.745Z"
   },
   {
    "duration": 24,
    "start_time": "2023-04-11T06:21:24.754Z"
   },
   {
    "duration": 15,
    "start_time": "2023-04-11T06:21:24.780Z"
   },
   {
    "duration": 3,
    "start_time": "2023-04-11T06:21:41.513Z"
   },
   {
    "duration": 3,
    "start_time": "2023-04-11T06:21:41.775Z"
   },
   {
    "duration": 9,
    "start_time": "2023-04-11T06:21:42.106Z"
   },
   {
    "duration": 474,
    "start_time": "2023-04-11T06:21:47.860Z"
   },
   {
    "duration": 770,
    "start_time": "2023-04-11T06:21:48.336Z"
   },
   {
    "duration": 4,
    "start_time": "2023-04-11T06:21:49.108Z"
   },
   {
    "duration": 389,
    "start_time": "2023-04-11T06:21:49.114Z"
   },
   {
    "duration": 6,
    "start_time": "2023-04-11T06:21:49.505Z"
   },
   {
    "duration": 12,
    "start_time": "2023-04-11T06:21:49.513Z"
   },
   {
    "duration": 10,
    "start_time": "2023-04-11T06:21:49.526Z"
   },
   {
    "duration": 20,
    "start_time": "2023-04-11T06:21:49.538Z"
   },
   {
    "duration": 7,
    "start_time": "2023-04-11T06:21:49.559Z"
   },
   {
    "duration": 7,
    "start_time": "2023-04-11T06:21:49.568Z"
   },
   {
    "duration": 19,
    "start_time": "2023-04-11T06:21:49.577Z"
   },
   {
    "duration": 12,
    "start_time": "2023-04-11T06:21:53.911Z"
   },
   {
    "duration": 9,
    "start_time": "2023-04-11T06:21:54.158Z"
   },
   {
    "duration": 1098,
    "start_time": "2023-04-11T06:27:09.585Z"
   },
   {
    "duration": 4,
    "start_time": "2023-04-11T06:50:55.571Z"
   },
   {
    "duration": 137,
    "start_time": "2023-04-11T06:51:08.370Z"
   },
   {
    "duration": 4,
    "start_time": "2023-04-11T06:51:18.065Z"
   },
   {
    "duration": 12,
    "start_time": "2023-04-11T06:51:19.422Z"
   },
   {
    "duration": 3,
    "start_time": "2023-04-11T06:52:05.602Z"
   },
   {
    "duration": 4,
    "start_time": "2023-04-11T06:52:09.749Z"
   },
   {
    "duration": 2126,
    "start_time": "2023-04-11T06:52:10.103Z"
   },
   {
    "duration": 4,
    "start_time": "2023-04-11T06:52:27.106Z"
   },
   {
    "duration": 1954,
    "start_time": "2023-04-11T06:52:28.379Z"
   },
   {
    "duration": 4,
    "start_time": "2023-04-11T06:52:38.039Z"
   },
   {
    "duration": 2012,
    "start_time": "2023-04-11T06:52:38.189Z"
   },
   {
    "duration": 5,
    "start_time": "2023-04-11T06:59:10.875Z"
   },
   {
    "duration": 39334,
    "start_time": "2023-04-11T06:59:12.387Z"
   },
   {
    "duration": 6,
    "start_time": "2023-04-11T06:59:54.434Z"
   },
   {
    "duration": 2517,
    "start_time": "2023-04-11T06:59:54.609Z"
   },
   {
    "duration": 6,
    "start_time": "2023-04-11T07:01:27.442Z"
   },
   {
    "duration": 24,
    "start_time": "2023-04-11T07:01:29.455Z"
   },
   {
    "duration": 9,
    "start_time": "2023-04-11T07:01:58.356Z"
   },
   {
    "duration": 9,
    "start_time": "2023-04-11T07:02:00.080Z"
   },
   {
    "duration": 3515,
    "start_time": "2023-04-11T07:02:00.779Z"
   },
   {
    "duration": 6,
    "start_time": "2023-04-11T07:05:53.028Z"
   },
   {
    "duration": 3409,
    "start_time": "2023-04-11T07:05:55.066Z"
   },
   {
    "duration": 6,
    "start_time": "2023-04-11T07:07:30.976Z"
   },
   {
    "duration": 3467,
    "start_time": "2023-04-11T07:07:33.808Z"
   },
   {
    "duration": 9,
    "start_time": "2023-04-11T07:07:52.970Z"
   },
   {
    "duration": 3586,
    "start_time": "2023-04-11T07:07:53.295Z"
   },
   {
    "duration": 10,
    "start_time": "2023-04-11T07:08:04.791Z"
   },
   {
    "duration": 3128,
    "start_time": "2023-04-11T07:08:05.213Z"
   },
   {
    "duration": 6,
    "start_time": "2023-04-11T07:09:18.431Z"
   },
   {
    "duration": 2834,
    "start_time": "2023-04-11T07:09:18.439Z"
   },
   {
    "duration": 6,
    "start_time": "2023-04-11T07:12:26.255Z"
   },
   {
    "duration": 4212,
    "start_time": "2023-04-11T07:12:26.737Z"
   },
   {
    "duration": 6,
    "start_time": "2023-04-11T07:12:47.681Z"
   },
   {
    "duration": 3650,
    "start_time": "2023-04-11T07:12:47.834Z"
   },
   {
    "duration": 97,
    "start_time": "2023-04-11T07:14:27.282Z"
   },
   {
    "duration": 6,
    "start_time": "2023-04-11T07:14:34.741Z"
   },
   {
    "duration": 1173,
    "start_time": "2023-04-11T07:14:35.491Z"
   },
   {
    "duration": 6,
    "start_time": "2023-04-11T07:14:49.772Z"
   },
   {
    "duration": 2980,
    "start_time": "2023-04-11T07:14:49.955Z"
   },
   {
    "duration": 1312,
    "start_time": "2023-04-11T17:00:43.396Z"
   },
   {
    "duration": 3000,
    "start_time": "2023-04-11T17:00:44.711Z"
   },
   {
    "duration": 3,
    "start_time": "2023-04-11T17:00:47.713Z"
   },
   {
    "duration": 321,
    "start_time": "2023-04-11T17:00:47.718Z"
   },
   {
    "duration": 3,
    "start_time": "2023-04-11T17:00:48.040Z"
   },
   {
    "duration": 8,
    "start_time": "2023-04-11T17:00:48.044Z"
   },
   {
    "duration": 5,
    "start_time": "2023-04-11T17:00:48.054Z"
   },
   {
    "duration": 7,
    "start_time": "2023-04-11T17:00:48.060Z"
   },
   {
    "duration": 5,
    "start_time": "2023-04-11T17:00:48.069Z"
   },
   {
    "duration": 13,
    "start_time": "2023-04-11T17:00:48.076Z"
   },
   {
    "duration": 7,
    "start_time": "2023-04-11T17:00:48.090Z"
   },
   {
    "duration": 3,
    "start_time": "2023-04-11T17:00:48.099Z"
   },
   {
    "duration": 1767,
    "start_time": "2023-04-11T17:00:48.104Z"
   },
   {
    "duration": 132,
    "start_time": "2023-04-11T17:01:36.933Z"
   },
   {
    "duration": 75,
    "start_time": "2023-04-11T17:02:26.010Z"
   },
   {
    "duration": 157,
    "start_time": "2023-04-11T17:02:40.192Z"
   },
   {
    "duration": 1706,
    "start_time": "2023-04-11T17:02:40.587Z"
   },
   {
    "duration": 215,
    "start_time": "2023-04-11T17:03:04.989Z"
   },
   {
    "duration": 4,
    "start_time": "2023-04-11T17:04:30.008Z"
   },
   {
    "duration": 1762,
    "start_time": "2023-04-11T17:04:32.295Z"
   },
   {
    "duration": 5,
    "start_time": "2023-04-11T17:06:14.586Z"
   },
   {
    "duration": 1851,
    "start_time": "2023-04-11T17:06:15.091Z"
   },
   {
    "duration": 5,
    "start_time": "2023-04-11T17:06:32.569Z"
   },
   {
    "duration": 1939,
    "start_time": "2023-04-11T17:06:32.948Z"
   },
   {
    "duration": 119,
    "start_time": "2023-04-11T17:06:54.629Z"
   },
   {
    "duration": 5,
    "start_time": "2023-04-11T17:06:59.925Z"
   },
   {
    "duration": 1788,
    "start_time": "2023-04-11T17:07:00.483Z"
   },
   {
    "duration": 4,
    "start_time": "2023-04-11T17:07:16.924Z"
   },
   {
    "duration": 1818,
    "start_time": "2023-04-11T17:07:17.267Z"
   },
   {
    "duration": 4,
    "start_time": "2023-04-11T17:07:31.671Z"
   },
   {
    "duration": 413,
    "start_time": "2023-04-11T17:07:32.010Z"
   },
   {
    "duration": 4,
    "start_time": "2023-04-11T17:07:36.517Z"
   },
   {
    "duration": 1612,
    "start_time": "2023-04-11T17:07:36.885Z"
   },
   {
    "duration": 120,
    "start_time": "2023-04-11T17:07:49.331Z"
   },
   {
    "duration": 4,
    "start_time": "2023-04-11T17:07:53.947Z"
   },
   {
    "duration": 1957,
    "start_time": "2023-04-11T17:07:54.816Z"
   },
   {
    "duration": 4,
    "start_time": "2023-04-11T17:08:26.713Z"
   },
   {
    "duration": 1882,
    "start_time": "2023-04-11T17:08:27.126Z"
   },
   {
    "duration": 4,
    "start_time": "2023-04-11T17:09:14.065Z"
   },
   {
    "duration": 1863,
    "start_time": "2023-04-11T17:09:14.485Z"
   },
   {
    "duration": 6,
    "start_time": "2023-04-11T17:10:05.293Z"
   },
   {
    "duration": 13,
    "start_time": "2023-04-11T17:10:05.706Z"
   },
   {
    "duration": 4,
    "start_time": "2023-04-11T17:10:41.569Z"
   },
   {
    "duration": 3085,
    "start_time": "2023-04-11T17:10:41.638Z"
   },
   {
    "duration": 6,
    "start_time": "2023-04-11T17:10:56.221Z"
   },
   {
    "duration": 3424,
    "start_time": "2023-04-11T17:10:56.229Z"
   },
   {
    "duration": 1093,
    "start_time": "2023-04-11T17:13:10.547Z"
   },
   {
    "duration": 674,
    "start_time": "2023-04-11T17:13:11.642Z"
   },
   {
    "duration": 3,
    "start_time": "2023-04-11T17:13:12.318Z"
   },
   {
    "duration": 318,
    "start_time": "2023-04-11T17:13:12.334Z"
   },
   {
    "duration": 4,
    "start_time": "2023-04-11T17:13:12.654Z"
   },
   {
    "duration": 12,
    "start_time": "2023-04-11T17:13:12.659Z"
   },
   {
    "duration": 7,
    "start_time": "2023-04-11T17:13:12.673Z"
   },
   {
    "duration": 5,
    "start_time": "2023-04-11T17:13:12.682Z"
   },
   {
    "duration": 11,
    "start_time": "2023-04-11T17:13:12.688Z"
   },
   {
    "duration": 27,
    "start_time": "2023-04-11T17:13:12.700Z"
   },
   {
    "duration": 8,
    "start_time": "2023-04-11T17:13:12.729Z"
   },
   {
    "duration": 5,
    "start_time": "2023-04-11T17:13:12.738Z"
   },
   {
    "duration": 3199,
    "start_time": "2023-04-11T17:13:12.744Z"
   },
   {
    "duration": 5,
    "start_time": "2023-04-11T17:13:52.228Z"
   },
   {
    "duration": 3243,
    "start_time": "2023-04-11T17:13:52.513Z"
   },
   {
    "duration": 4,
    "start_time": "2023-04-11T17:16:10.548Z"
   },
   {
    "duration": 3090,
    "start_time": "2023-04-11T17:16:11.140Z"
   },
   {
    "duration": 4,
    "start_time": "2023-04-11T17:17:27.187Z"
   },
   {
    "duration": 468,
    "start_time": "2023-04-11T17:17:27.194Z"
   },
   {
    "duration": 5,
    "start_time": "2023-04-11T17:17:36.395Z"
   },
   {
    "duration": 3066,
    "start_time": "2023-04-11T17:17:36.665Z"
   },
   {
    "duration": 2059,
    "start_time": "2023-04-11T17:24:52.608Z"
   },
   {
    "duration": 3037,
    "start_time": "2023-04-11T17:25:14.588Z"
   },
   {
    "duration": 3,
    "start_time": "2023-04-11T17:28:08.721Z"
   },
   {
    "duration": 114,
    "start_time": "2023-04-11T17:28:57.220Z"
   },
   {
    "duration": 3,
    "start_time": "2023-04-11T17:29:04.156Z"
   },
   {
    "duration": 103,
    "start_time": "2023-04-11T17:29:42.187Z"
   },
   {
    "duration": 16,
    "start_time": "2023-04-11T17:30:36.051Z"
   },
   {
    "duration": 3,
    "start_time": "2023-04-11T17:34:54.809Z"
   },
   {
    "duration": 7,
    "start_time": "2023-04-11T17:34:56.710Z"
   },
   {
    "duration": 5,
    "start_time": "2023-04-11T17:35:31.528Z"
   },
   {
    "duration": 3382,
    "start_time": "2023-04-11T17:35:31.781Z"
   },
   {
    "duration": 1608,
    "start_time": "2023-04-12T14:56:36.483Z"
   },
   {
    "duration": 3443,
    "start_time": "2023-04-12T14:56:38.094Z"
   },
   {
    "duration": 8,
    "start_time": "2023-04-12T14:56:41.539Z"
   },
   {
    "duration": 382,
    "start_time": "2023-04-12T14:56:41.549Z"
   },
   {
    "duration": 9,
    "start_time": "2023-04-12T14:56:41.933Z"
   },
   {
    "duration": 26,
    "start_time": "2023-04-12T14:56:41.946Z"
   },
   {
    "duration": 15,
    "start_time": "2023-04-12T14:56:41.975Z"
   },
   {
    "duration": 27,
    "start_time": "2023-04-12T14:56:41.992Z"
   },
   {
    "duration": 15,
    "start_time": "2023-04-12T14:56:42.021Z"
   },
   {
    "duration": 38,
    "start_time": "2023-04-12T14:56:42.039Z"
   },
   {
    "duration": 9,
    "start_time": "2023-04-12T14:56:42.081Z"
   },
   {
    "duration": 5,
    "start_time": "2023-04-12T14:56:42.092Z"
   },
   {
    "duration": 3498,
    "start_time": "2023-04-12T14:56:42.099Z"
   },
   {
    "duration": 24,
    "start_time": "2023-04-12T14:57:17.237Z"
   },
   {
    "duration": 5,
    "start_time": "2023-04-12T14:57:32.912Z"
   },
   {
    "duration": 6,
    "start_time": "2023-04-12T14:58:00.164Z"
   },
   {
    "duration": 3,
    "start_time": "2023-04-12T14:59:47.219Z"
   },
   {
    "duration": 4,
    "start_time": "2023-04-12T14:59:50.087Z"
   },
   {
    "duration": 4,
    "start_time": "2023-04-12T15:01:26.816Z"
   },
   {
    "duration": 3437,
    "start_time": "2023-04-12T15:01:34.840Z"
   },
   {
    "duration": 110,
    "start_time": "2023-04-12T15:01:49.322Z"
   },
   {
    "duration": 5,
    "start_time": "2023-04-12T15:02:23.366Z"
   },
   {
    "duration": 2709,
    "start_time": "2023-04-12T15:02:24.117Z"
   },
   {
    "duration": 4,
    "start_time": "2023-04-12T15:02:51.424Z"
   },
   {
    "duration": 6,
    "start_time": "2023-04-12T15:02:51.950Z"
   },
   {
    "duration": 5,
    "start_time": "2023-04-12T15:02:56.077Z"
   },
   {
    "duration": 7,
    "start_time": "2023-04-12T15:02:56.478Z"
   },
   {
    "duration": 4,
    "start_time": "2023-04-12T15:06:34.943Z"
   },
   {
    "duration": 7,
    "start_time": "2023-04-12T15:06:35.375Z"
   },
   {
    "duration": 5,
    "start_time": "2023-04-12T15:09:01.804Z"
   },
   {
    "duration": 7,
    "start_time": "2023-04-12T15:09:02.012Z"
   },
   {
    "duration": 4,
    "start_time": "2023-04-12T15:09:14.622Z"
   },
   {
    "duration": 7,
    "start_time": "2023-04-12T15:09:14.911Z"
   },
   {
    "duration": 5,
    "start_time": "2023-04-12T15:14:56.061Z"
   },
   {
    "duration": 4,
    "start_time": "2023-04-12T15:14:56.460Z"
   },
   {
    "duration": 4,
    "start_time": "2023-04-12T15:15:10.173Z"
   },
   {
    "duration": 14,
    "start_time": "2023-04-12T15:15:11.334Z"
   },
   {
    "duration": 4,
    "start_time": "2023-04-12T15:15:26.328Z"
   },
   {
    "duration": 7,
    "start_time": "2023-04-12T15:15:26.998Z"
   },
   {
    "duration": 360,
    "start_time": "2023-04-12T15:16:56.823Z"
   },
   {
    "duration": 354,
    "start_time": "2023-04-12T15:16:57.243Z"
   },
   {
    "duration": 242,
    "start_time": "2023-04-12T15:17:13.333Z"
   },
   {
    "duration": 207,
    "start_time": "2023-04-12T15:17:13.774Z"
   },
   {
    "duration": 5,
    "start_time": "2023-04-12T15:17:27.482Z"
   },
   {
    "duration": 197,
    "start_time": "2023-04-12T15:17:28.719Z"
   },
   {
    "duration": 4,
    "start_time": "2023-04-12T15:18:06.093Z"
   },
   {
    "duration": 8,
    "start_time": "2023-04-12T15:18:06.513Z"
   },
   {
    "duration": 5,
    "start_time": "2023-04-12T15:19:36.631Z"
   },
   {
    "duration": 10,
    "start_time": "2023-04-12T15:19:37.111Z"
   },
   {
    "duration": 6,
    "start_time": "2023-04-12T15:20:06.176Z"
   },
   {
    "duration": 8,
    "start_time": "2023-04-12T15:20:06.576Z"
   },
   {
    "duration": 4,
    "start_time": "2023-04-12T15:20:34.477Z"
   },
   {
    "duration": 10,
    "start_time": "2023-04-12T15:20:35.277Z"
   },
   {
    "duration": 5,
    "start_time": "2023-04-12T15:20:47.754Z"
   },
   {
    "duration": 7,
    "start_time": "2023-04-12T15:20:48.021Z"
   },
   {
    "duration": 14,
    "start_time": "2023-04-12T15:21:06.447Z"
   },
   {
    "duration": 3,
    "start_time": "2023-04-12T15:22:05.653Z"
   },
   {
    "duration": 7,
    "start_time": "2023-04-12T15:22:05.815Z"
   },
   {
    "duration": 5,
    "start_time": "2023-04-12T15:23:58.891Z"
   },
   {
    "duration": 10,
    "start_time": "2023-04-12T15:23:59.309Z"
   },
   {
    "duration": 9,
    "start_time": "2023-04-12T15:26:14.586Z"
   },
   {
    "duration": 5,
    "start_time": "2023-04-12T15:26:16.971Z"
   },
   {
    "duration": 8,
    "start_time": "2023-04-12T15:26:17.201Z"
   },
   {
    "duration": 15,
    "start_time": "2023-04-12T15:27:23.261Z"
   },
   {
    "duration": 6,
    "start_time": "2023-04-12T15:27:25.521Z"
   },
   {
    "duration": 14,
    "start_time": "2023-04-12T15:27:26.633Z"
   },
   {
    "duration": 94,
    "start_time": "2023-04-12T15:27:47.299Z"
   },
   {
    "duration": 5,
    "start_time": "2023-04-12T15:27:52.773Z"
   },
   {
    "duration": 9,
    "start_time": "2023-04-12T15:27:52.985Z"
   },
   {
    "duration": 8,
    "start_time": "2023-04-12T15:28:02.241Z"
   },
   {
    "duration": 5,
    "start_time": "2023-04-12T15:28:04.487Z"
   },
   {
    "duration": 8,
    "start_time": "2023-04-12T15:28:04.887Z"
   },
   {
    "duration": 11,
    "start_time": "2023-04-12T15:28:35.530Z"
   },
   {
    "duration": 11,
    "start_time": "2023-04-12T15:28:49.614Z"
   },
   {
    "duration": 10,
    "start_time": "2023-04-12T15:28:59.051Z"
   },
   {
    "duration": 9,
    "start_time": "2023-04-12T15:29:01.812Z"
   },
   {
    "duration": 4,
    "start_time": "2023-04-12T15:29:03.855Z"
   },
   {
    "duration": 9,
    "start_time": "2023-04-12T15:29:04.060Z"
   },
   {
    "duration": 8,
    "start_time": "2023-04-12T15:29:09.591Z"
   },
   {
    "duration": 10,
    "start_time": "2023-04-12T15:29:20.067Z"
   },
   {
    "duration": 16,
    "start_time": "2023-04-12T15:29:36.352Z"
   },
   {
    "duration": 15,
    "start_time": "2023-04-12T15:33:46.026Z"
   },
   {
    "duration": 15,
    "start_time": "2023-04-12T15:33:56.500Z"
   },
   {
    "duration": 15,
    "start_time": "2023-04-12T15:34:04.224Z"
   },
   {
    "duration": 15,
    "start_time": "2023-04-12T15:34:08.086Z"
   },
   {
    "duration": 16,
    "start_time": "2023-04-12T15:34:25.448Z"
   },
   {
    "duration": 10,
    "start_time": "2023-04-12T15:35:02.131Z"
   },
   {
    "duration": 9,
    "start_time": "2023-04-12T15:35:53.101Z"
   },
   {
    "duration": 4,
    "start_time": "2023-04-12T15:37:39.079Z"
   },
   {
    "duration": 10,
    "start_time": "2023-04-12T15:37:39.713Z"
   },
   {
    "duration": 11,
    "start_time": "2023-04-12T15:40:02.853Z"
   },
   {
    "duration": 10,
    "start_time": "2023-04-12T15:40:28.981Z"
   },
   {
    "duration": 9,
    "start_time": "2023-04-12T15:40:47.766Z"
   },
   {
    "duration": 5,
    "start_time": "2023-04-12T15:42:13.484Z"
   },
   {
    "duration": 3327,
    "start_time": "2023-04-12T15:42:14.043Z"
   },
   {
    "duration": 1420,
    "start_time": "2023-04-13T04:25:19.132Z"
   },
   {
    "duration": 3133,
    "start_time": "2023-04-13T04:25:20.554Z"
   },
   {
    "duration": 4,
    "start_time": "2023-04-13T04:25:23.690Z"
   },
   {
    "duration": 333,
    "start_time": "2023-04-13T04:25:23.696Z"
   },
   {
    "duration": 11,
    "start_time": "2023-04-13T04:25:24.031Z"
   },
   {
    "duration": 11,
    "start_time": "2023-04-13T04:25:24.043Z"
   },
   {
    "duration": 6,
    "start_time": "2023-04-13T04:25:24.056Z"
   },
   {
    "duration": 10,
    "start_time": "2023-04-13T04:25:24.063Z"
   },
   {
    "duration": 9,
    "start_time": "2023-04-13T04:25:24.074Z"
   },
   {
    "duration": 25,
    "start_time": "2023-04-13T04:25:24.084Z"
   },
   {
    "duration": 12,
    "start_time": "2023-04-13T04:25:24.111Z"
   },
   {
    "duration": 4,
    "start_time": "2023-04-13T04:25:24.125Z"
   },
   {
    "duration": 39,
    "start_time": "2023-04-13T04:25:24.131Z"
   },
   {
    "duration": 14,
    "start_time": "2023-04-13T04:25:24.172Z"
   },
   {
    "duration": 3186,
    "start_time": "2023-04-13T04:25:24.188Z"
   },
   {
    "duration": 5,
    "start_time": "2023-04-13T04:26:36.993Z"
   },
   {
    "duration": 1312,
    "start_time": "2023-04-13T04:26:37.599Z"
   },
   {
    "duration": 6,
    "start_time": "2023-04-13T04:26:52.815Z"
   },
   {
    "duration": 1141,
    "start_time": "2023-04-13T04:26:53.309Z"
   },
   {
    "duration": 5,
    "start_time": "2023-04-13T04:27:16.741Z"
   },
   {
    "duration": 3250,
    "start_time": "2023-04-13T04:27:17.005Z"
   },
   {
    "duration": 5,
    "start_time": "2023-04-13T04:27:44.816Z"
   },
   {
    "duration": 3489,
    "start_time": "2023-04-13T04:27:45.394Z"
   },
   {
    "duration": 5,
    "start_time": "2023-04-13T04:27:55.919Z"
   },
   {
    "duration": 3194,
    "start_time": "2023-04-13T04:27:56.266Z"
   },
   {
    "duration": 8,
    "start_time": "2023-04-13T04:31:12.559Z"
   },
   {
    "duration": 7,
    "start_time": "2023-04-13T04:31:19.253Z"
   },
   {
    "duration": 6,
    "start_time": "2023-04-13T04:31:26.630Z"
   },
   {
    "duration": 5,
    "start_time": "2023-04-13T04:31:39.199Z"
   },
   {
    "duration": 4,
    "start_time": "2023-04-13T04:34:31.994Z"
   },
   {
    "duration": 379,
    "start_time": "2023-04-13T04:35:16.558Z"
   },
   {
    "duration": 3,
    "start_time": "2023-04-13T04:35:18.255Z"
   },
   {
    "duration": 414,
    "start_time": "2023-04-13T04:35:18.608Z"
   },
   {
    "duration": 4,
    "start_time": "2023-04-13T04:35:52.925Z"
   },
   {
    "duration": 441,
    "start_time": "2023-04-13T04:35:53.200Z"
   },
   {
    "duration": 4,
    "start_time": "2023-04-13T04:36:24.408Z"
   },
   {
    "duration": 412,
    "start_time": "2023-04-13T04:36:24.622Z"
   },
   {
    "duration": 4,
    "start_time": "2023-04-13T04:36:29.936Z"
   },
   {
    "duration": 436,
    "start_time": "2023-04-13T04:36:30.093Z"
   },
   {
    "duration": 6,
    "start_time": "2023-04-13T04:37:34.947Z"
   },
   {
    "duration": 424,
    "start_time": "2023-04-13T04:37:35.336Z"
   },
   {
    "duration": 3,
    "start_time": "2023-04-13T04:37:45.395Z"
   },
   {
    "duration": 504,
    "start_time": "2023-04-13T04:37:45.653Z"
   },
   {
    "duration": 76,
    "start_time": "2023-04-13T04:38:07.658Z"
   },
   {
    "duration": 416,
    "start_time": "2023-04-13T04:38:07.894Z"
   },
   {
    "duration": 4,
    "start_time": "2023-04-13T04:38:11.834Z"
   },
   {
    "duration": 418,
    "start_time": "2023-04-13T04:38:12.035Z"
   },
   {
    "duration": 5,
    "start_time": "2023-04-13T04:38:19.417Z"
   },
   {
    "duration": 503,
    "start_time": "2023-04-13T04:38:19.887Z"
   },
   {
    "duration": 487,
    "start_time": "2023-04-13T04:38:34.777Z"
   },
   {
    "duration": 439,
    "start_time": "2023-04-13T04:38:40.715Z"
   },
   {
    "duration": 5,
    "start_time": "2023-04-13T04:39:21.634Z"
   },
   {
    "duration": 4,
    "start_time": "2023-04-13T04:39:23.789Z"
   },
   {
    "duration": 441,
    "start_time": "2023-04-13T04:39:23.993Z"
   },
   {
    "duration": 4,
    "start_time": "2023-04-13T04:43:48.626Z"
   },
   {
    "duration": 4,
    "start_time": "2023-04-13T04:44:29.695Z"
   },
   {
    "duration": 8,
    "start_time": "2023-04-13T04:45:47.226Z"
   },
   {
    "duration": 42,
    "start_time": "2023-04-13T04:45:51.809Z"
   },
   {
    "duration": 24,
    "start_time": "2023-04-13T04:46:11.023Z"
   },
   {
    "duration": 5,
    "start_time": "2023-04-13T04:48:10.685Z"
   },
   {
    "duration": 1147,
    "start_time": "2023-04-13T04:48:55.196Z"
   },
   {
    "duration": 3,
    "start_time": "2023-04-13T05:00:31.957Z"
   },
   {
    "duration": 4,
    "start_time": "2023-04-13T05:06:23.363Z"
   },
   {
    "duration": 13,
    "start_time": "2023-04-13T07:52:28.040Z"
   },
   {
    "duration": 22,
    "start_time": "2023-04-13T07:53:07.519Z"
   },
   {
    "duration": 17,
    "start_time": "2023-04-13T07:56:07.028Z"
   },
   {
    "duration": 4,
    "start_time": "2023-04-13T07:56:28.023Z"
   },
   {
    "duration": 30,
    "start_time": "2023-04-13T07:56:28.462Z"
   },
   {
    "duration": 11,
    "start_time": "2023-04-13T07:57:06.538Z"
   },
   {
    "duration": 60,
    "start_time": "2023-04-13T07:57:06.959Z"
   },
   {
    "duration": 15,
    "start_time": "2023-04-13T08:00:01.319Z"
   },
   {
    "duration": 1338,
    "start_time": "2023-04-13T12:49:04.491Z"
   },
   {
    "duration": 2283,
    "start_time": "2023-04-13T12:49:05.832Z"
   },
   {
    "duration": 5,
    "start_time": "2023-04-13T12:49:08.117Z"
   },
   {
    "duration": 341,
    "start_time": "2023-04-13T12:49:08.124Z"
   },
   {
    "duration": 5,
    "start_time": "2023-04-13T12:49:08.467Z"
   },
   {
    "duration": 21,
    "start_time": "2023-04-13T12:49:08.474Z"
   },
   {
    "duration": 6,
    "start_time": "2023-04-13T12:49:08.497Z"
   },
   {
    "duration": 5,
    "start_time": "2023-04-13T12:49:08.505Z"
   },
   {
    "duration": 3,
    "start_time": "2023-04-13T12:49:08.512Z"
   },
   {
    "duration": 10,
    "start_time": "2023-04-13T12:49:08.519Z"
   },
   {
    "duration": 9,
    "start_time": "2023-04-13T12:49:08.531Z"
   },
   {
    "duration": 5,
    "start_time": "2023-04-13T12:49:08.543Z"
   },
   {
    "duration": 50,
    "start_time": "2023-04-13T12:49:08.550Z"
   },
   {
    "duration": 5,
    "start_time": "2023-04-13T12:49:08.603Z"
   },
   {
    "duration": 3631,
    "start_time": "2023-04-13T12:49:08.610Z"
   },
   {
    "duration": 6,
    "start_time": "2023-04-13T12:49:12.242Z"
   },
   {
    "duration": 21,
    "start_time": "2023-04-13T12:49:12.249Z"
   },
   {
    "duration": 435,
    "start_time": "2023-04-13T12:49:12.272Z"
   },
   {
    "duration": 4,
    "start_time": "2023-04-13T12:49:12.709Z"
   },
   {
    "duration": 16,
    "start_time": "2023-04-13T12:49:12.714Z"
   },
   {
    "duration": 1145,
    "start_time": "2023-04-13T12:49:12.732Z"
   },
   {
    "duration": 3,
    "start_time": "2023-04-13T12:49:13.879Z"
   },
   {
    "duration": 7,
    "start_time": "2023-04-13T12:49:13.884Z"
   },
   {
    "duration": 8,
    "start_time": "2023-04-13T12:49:13.893Z"
   },
   {
    "duration": 42,
    "start_time": "2023-04-13T12:49:13.902Z"
   },
   {
    "duration": 15,
    "start_time": "2023-04-13T12:49:13.946Z"
   },
   {
    "duration": 1175,
    "start_time": "2023-04-13T13:17:27.398Z"
   },
   {
    "duration": 724,
    "start_time": "2023-04-13T13:17:28.575Z"
   },
   {
    "duration": 4,
    "start_time": "2023-04-13T13:17:29.300Z"
   },
   {
    "duration": 341,
    "start_time": "2023-04-13T13:17:29.305Z"
   },
   {
    "duration": 4,
    "start_time": "2023-04-13T13:17:29.648Z"
   },
   {
    "duration": 8,
    "start_time": "2023-04-13T13:17:29.654Z"
   },
   {
    "duration": 7,
    "start_time": "2023-04-13T13:17:29.663Z"
   },
   {
    "duration": 25,
    "start_time": "2023-04-13T13:17:29.671Z"
   },
   {
    "duration": 6,
    "start_time": "2023-04-13T13:17:29.697Z"
   },
   {
    "duration": 15,
    "start_time": "2023-04-13T13:17:29.704Z"
   },
   {
    "duration": 8,
    "start_time": "2023-04-13T13:17:29.721Z"
   },
   {
    "duration": 4,
    "start_time": "2023-04-13T13:17:29.731Z"
   },
   {
    "duration": 11,
    "start_time": "2023-04-13T13:17:29.736Z"
   },
   {
    "duration": 6,
    "start_time": "2023-04-13T13:17:29.749Z"
   },
   {
    "duration": 3671,
    "start_time": "2023-04-13T13:17:29.756Z"
   },
   {
    "duration": 5,
    "start_time": "2023-04-13T13:17:33.429Z"
   },
   {
    "duration": 9,
    "start_time": "2023-04-13T13:17:33.436Z"
   },
   {
    "duration": 471,
    "start_time": "2023-04-13T13:17:33.447Z"
   },
   {
    "duration": 4,
    "start_time": "2023-04-13T13:17:33.920Z"
   },
   {
    "duration": 9,
    "start_time": "2023-04-13T13:17:33.926Z"
   },
   {
    "duration": 1148,
    "start_time": "2023-04-13T13:17:33.937Z"
   },
   {
    "duration": 3,
    "start_time": "2023-04-13T13:17:35.087Z"
   },
   {
    "duration": 19,
    "start_time": "2023-04-13T13:17:35.092Z"
   },
   {
    "duration": 29,
    "start_time": "2023-04-13T13:17:35.113Z"
   },
   {
    "duration": 36,
    "start_time": "2023-04-13T13:17:35.144Z"
   },
   {
    "duration": 17,
    "start_time": "2023-04-13T13:17:35.182Z"
   },
   {
    "duration": 1225,
    "start_time": "2023-04-14T04:21:22.639Z"
   },
   {
    "duration": 2871,
    "start_time": "2023-04-14T04:21:23.866Z"
   },
   {
    "duration": 3,
    "start_time": "2023-04-14T04:21:26.739Z"
   },
   {
    "duration": 286,
    "start_time": "2023-04-14T04:21:26.744Z"
   },
   {
    "duration": 3,
    "start_time": "2023-04-14T04:21:27.031Z"
   },
   {
    "duration": 8,
    "start_time": "2023-04-14T04:21:27.035Z"
   },
   {
    "duration": 4,
    "start_time": "2023-04-14T04:21:27.044Z"
   },
   {
    "duration": 5,
    "start_time": "2023-04-14T04:21:27.050Z"
   },
   {
    "duration": 4,
    "start_time": "2023-04-14T04:21:27.057Z"
   },
   {
    "duration": 29,
    "start_time": "2023-04-14T04:21:27.063Z"
   },
   {
    "duration": 7,
    "start_time": "2023-04-14T04:21:27.093Z"
   },
   {
    "duration": 4,
    "start_time": "2023-04-14T04:21:27.101Z"
   },
   {
    "duration": 13,
    "start_time": "2023-04-14T04:21:27.106Z"
   },
   {
    "duration": 4,
    "start_time": "2023-04-14T04:21:27.120Z"
   },
   {
    "duration": 3051,
    "start_time": "2023-04-14T04:21:27.125Z"
   },
   {
    "duration": 5,
    "start_time": "2023-04-14T04:21:30.178Z"
   },
   {
    "duration": 28,
    "start_time": "2023-04-14T04:21:30.185Z"
   },
   {
    "duration": 425,
    "start_time": "2023-04-14T04:21:30.215Z"
   },
   {
    "duration": 3,
    "start_time": "2023-04-14T04:21:30.642Z"
   },
   {
    "duration": 15,
    "start_time": "2023-04-14T04:21:30.647Z"
   },
   {
    "duration": 1088,
    "start_time": "2023-04-14T04:21:30.664Z"
   },
   {
    "duration": 3,
    "start_time": "2023-04-14T04:21:31.753Z"
   },
   {
    "duration": 7,
    "start_time": "2023-04-14T04:21:31.758Z"
   },
   {
    "duration": 8,
    "start_time": "2023-04-14T04:21:31.766Z"
   },
   {
    "duration": 40,
    "start_time": "2023-04-14T04:21:31.775Z"
   },
   {
    "duration": 14,
    "start_time": "2023-04-14T04:21:31.816Z"
   },
   {
    "duration": 1223,
    "start_time": "2023-04-14T04:32:04.927Z"
   },
   {
    "duration": 7,
    "start_time": "2023-04-14T04:33:00.429Z"
   },
   {
    "duration": 9,
    "start_time": "2023-04-14T04:49:43.632Z"
   },
   {
    "duration": 346,
    "start_time": "2023-04-14T04:50:12.557Z"
   },
   {
    "duration": 1554,
    "start_time": "2023-04-14T04:50:21.591Z"
   },
   {
    "duration": 741,
    "start_time": "2023-04-14T04:50:23.147Z"
   },
   {
    "duration": 7,
    "start_time": "2023-04-14T04:50:23.890Z"
   },
   {
    "duration": 374,
    "start_time": "2023-04-14T04:50:23.900Z"
   },
   {
    "duration": 7,
    "start_time": "2023-04-14T04:50:24.276Z"
   },
   {
    "duration": 7,
    "start_time": "2023-04-14T04:50:24.285Z"
   },
   {
    "duration": 8,
    "start_time": "2023-04-14T04:50:24.294Z"
   },
   {
    "duration": 5,
    "start_time": "2023-04-14T04:50:24.304Z"
   },
   {
    "duration": 11,
    "start_time": "2023-04-14T04:50:24.311Z"
   },
   {
    "duration": 17,
    "start_time": "2023-04-14T04:50:24.325Z"
   },
   {
    "duration": 9,
    "start_time": "2023-04-14T04:50:24.344Z"
   },
   {
    "duration": 4,
    "start_time": "2023-04-14T04:50:24.355Z"
   },
   {
    "duration": 13,
    "start_time": "2023-04-14T04:50:24.383Z"
   },
   {
    "duration": 6,
    "start_time": "2023-04-14T04:50:24.397Z"
   },
   {
    "duration": 3292,
    "start_time": "2023-04-14T04:50:24.405Z"
   },
   {
    "duration": 5,
    "start_time": "2023-04-14T04:50:27.698Z"
   },
   {
    "duration": 64,
    "start_time": "2023-04-14T04:50:27.704Z"
   },
   {
    "duration": 404,
    "start_time": "2023-04-14T04:50:27.770Z"
   },
   {
    "duration": 8,
    "start_time": "2023-04-14T04:50:28.176Z"
   },
   {
    "duration": 28,
    "start_time": "2023-04-14T04:50:28.185Z"
   },
   {
    "duration": 1241,
    "start_time": "2023-04-14T04:50:28.215Z"
   },
   {
    "duration": 4,
    "start_time": "2023-04-14T04:50:29.458Z"
   },
   {
    "duration": 33,
    "start_time": "2023-04-14T04:50:29.464Z"
   },
   {
    "duration": 35,
    "start_time": "2023-04-14T04:50:29.499Z"
   },
   {
    "duration": 60,
    "start_time": "2023-04-14T04:50:29.536Z"
   },
   {
    "duration": 16,
    "start_time": "2023-04-14T04:50:29.598Z"
   },
   {
    "duration": 36,
    "start_time": "2023-04-14T04:50:29.616Z"
   },
   {
    "duration": 170,
    "start_time": "2023-04-14T04:50:29.656Z"
   },
   {
    "duration": 10,
    "start_time": "2023-04-14T04:50:43.552Z"
   },
   {
    "duration": 69863,
    "start_time": "2023-04-14T04:51:22.644Z"
   },
   {
    "duration": 3,
    "start_time": "2023-04-14T04:55:24.359Z"
   },
   {
    "duration": 1496,
    "start_time": "2023-04-14T04:55:29.407Z"
   },
   {
    "duration": 749,
    "start_time": "2023-04-14T04:55:30.906Z"
   },
   {
    "duration": 4,
    "start_time": "2023-04-14T04:55:31.656Z"
   },
   {
    "duration": 354,
    "start_time": "2023-04-14T04:55:31.663Z"
   },
   {
    "duration": 4,
    "start_time": "2023-04-14T04:55:32.019Z"
   },
   {
    "duration": 30,
    "start_time": "2023-04-14T04:55:32.025Z"
   },
   {
    "duration": 20,
    "start_time": "2023-04-14T04:55:32.057Z"
   },
   {
    "duration": 23,
    "start_time": "2023-04-14T04:55:32.079Z"
   },
   {
    "duration": 20,
    "start_time": "2023-04-14T04:55:32.105Z"
   },
   {
    "duration": 48,
    "start_time": "2023-04-14T04:55:32.128Z"
   },
   {
    "duration": 20,
    "start_time": "2023-04-14T04:55:32.178Z"
   },
   {
    "duration": 25,
    "start_time": "2023-04-14T04:55:32.200Z"
   },
   {
    "duration": 48,
    "start_time": "2023-04-14T04:55:32.227Z"
   },
   {
    "duration": 6,
    "start_time": "2023-04-14T04:55:32.277Z"
   },
   {
    "duration": 3420,
    "start_time": "2023-04-14T04:55:32.285Z"
   },
   {
    "duration": 5,
    "start_time": "2023-04-14T04:55:35.707Z"
   },
   {
    "duration": 12,
    "start_time": "2023-04-14T04:55:35.714Z"
   },
   {
    "duration": 481,
    "start_time": "2023-04-14T04:55:35.728Z"
   },
   {
    "duration": 4,
    "start_time": "2023-04-14T04:55:36.211Z"
   },
   {
    "duration": 17,
    "start_time": "2023-04-14T04:55:36.217Z"
   },
   {
    "duration": 1101,
    "start_time": "2023-04-14T04:55:36.235Z"
   },
   {
    "duration": 3,
    "start_time": "2023-04-14T04:55:37.338Z"
   },
   {
    "duration": 6,
    "start_time": "2023-04-14T04:55:37.342Z"
   },
   {
    "duration": 115,
    "start_time": "2023-04-14T04:55:37.350Z"
   },
   {
    "duration": 0,
    "start_time": "2023-04-14T04:55:37.467Z"
   },
   {
    "duration": 0,
    "start_time": "2023-04-14T04:55:37.468Z"
   },
   {
    "duration": 0,
    "start_time": "2023-04-14T04:55:37.470Z"
   },
   {
    "duration": 0,
    "start_time": "2023-04-14T04:55:37.471Z"
   },
   {
    "duration": 0,
    "start_time": "2023-04-14T04:55:37.483Z"
   },
   {
    "duration": 3,
    "start_time": "2023-04-14T04:55:55.821Z"
   },
   {
    "duration": 6,
    "start_time": "2023-04-14T04:55:59.834Z"
   },
   {
    "duration": 29,
    "start_time": "2023-04-14T04:56:02.311Z"
   },
   {
    "duration": 16,
    "start_time": "2023-04-14T04:56:02.836Z"
   },
   {
    "duration": 7,
    "start_time": "2023-04-14T04:56:03.346Z"
   },
   {
    "duration": 113741,
    "start_time": "2023-04-14T04:56:03.746Z"
   },
   {
    "duration": 11,
    "start_time": "2023-04-14T04:58:09.684Z"
   },
   {
    "duration": 1474,
    "start_time": "2023-04-14T04:58:39.240Z"
   },
   {
    "duration": 734,
    "start_time": "2023-04-14T04:58:40.716Z"
   },
   {
    "duration": 4,
    "start_time": "2023-04-14T04:58:41.451Z"
   },
   {
    "duration": 351,
    "start_time": "2023-04-14T04:58:41.456Z"
   },
   {
    "duration": 3,
    "start_time": "2023-04-14T04:58:41.808Z"
   },
   {
    "duration": 13,
    "start_time": "2023-04-14T04:58:41.812Z"
   },
   {
    "duration": 11,
    "start_time": "2023-04-14T04:58:41.826Z"
   },
   {
    "duration": 13,
    "start_time": "2023-04-14T04:58:41.839Z"
   },
   {
    "duration": 13,
    "start_time": "2023-04-14T04:58:41.853Z"
   },
   {
    "duration": 20,
    "start_time": "2023-04-14T04:58:41.868Z"
   },
   {
    "duration": 70,
    "start_time": "2023-04-14T04:58:41.890Z"
   },
   {
    "duration": 4,
    "start_time": "2023-04-14T04:58:41.962Z"
   },
   {
    "duration": 30,
    "start_time": "2023-04-14T04:58:41.967Z"
   },
   {
    "duration": 74,
    "start_time": "2023-04-14T04:58:41.999Z"
   },
   {
    "duration": 3340,
    "start_time": "2023-04-14T04:58:42.074Z"
   },
   {
    "duration": 5,
    "start_time": "2023-04-14T04:58:45.415Z"
   },
   {
    "duration": 9,
    "start_time": "2023-04-14T04:58:45.421Z"
   },
   {
    "duration": 443,
    "start_time": "2023-04-14T04:58:45.431Z"
   },
   {
    "duration": 3,
    "start_time": "2023-04-14T04:58:45.883Z"
   },
   {
    "duration": 10,
    "start_time": "2023-04-14T04:58:45.888Z"
   },
   {
    "duration": 1261,
    "start_time": "2023-04-14T04:58:45.899Z"
   },
   {
    "duration": 4,
    "start_time": "2023-04-14T04:58:47.161Z"
   },
   {
    "duration": 20,
    "start_time": "2023-04-14T04:58:47.166Z"
   },
   {
    "duration": 19,
    "start_time": "2023-04-14T04:58:47.188Z"
   },
   {
    "duration": 12,
    "start_time": "2023-04-14T04:58:47.209Z"
   },
   {
    "duration": 34,
    "start_time": "2023-04-14T04:58:47.222Z"
   },
   {
    "duration": 16,
    "start_time": "2023-04-14T04:58:47.258Z"
   },
   {
    "duration": 9,
    "start_time": "2023-04-14T04:58:47.277Z"
   },
   {
    "duration": 140,
    "start_time": "2023-04-14T04:58:47.288Z"
   },
   {
    "duration": 0,
    "start_time": "2023-04-14T04:58:47.430Z"
   },
   {
    "duration": 3,
    "start_time": "2023-04-14T04:59:31.836Z"
   },
   {
    "duration": 1426,
    "start_time": "2023-04-14T04:59:37.740Z"
   },
   {
    "duration": 702,
    "start_time": "2023-04-14T04:59:39.168Z"
   },
   {
    "duration": 3,
    "start_time": "2023-04-14T04:59:39.872Z"
   },
   {
    "duration": 360,
    "start_time": "2023-04-14T04:59:39.876Z"
   },
   {
    "duration": 4,
    "start_time": "2023-04-14T04:59:40.238Z"
   },
   {
    "duration": 14,
    "start_time": "2023-04-14T04:59:40.243Z"
   },
   {
    "duration": 5,
    "start_time": "2023-04-14T04:59:40.259Z"
   },
   {
    "duration": 24,
    "start_time": "2023-04-14T04:59:40.266Z"
   },
   {
    "duration": 15,
    "start_time": "2023-04-14T04:59:40.292Z"
   },
   {
    "duration": 23,
    "start_time": "2023-04-14T04:59:40.309Z"
   },
   {
    "duration": 10,
    "start_time": "2023-04-14T04:59:40.333Z"
   },
   {
    "duration": 5,
    "start_time": "2023-04-14T04:59:40.344Z"
   },
   {
    "duration": 16,
    "start_time": "2023-04-14T04:59:40.350Z"
   },
   {
    "duration": 8,
    "start_time": "2023-04-14T04:59:40.370Z"
   },
   {
    "duration": 3301,
    "start_time": "2023-04-14T04:59:40.383Z"
   },
   {
    "duration": 5,
    "start_time": "2023-04-14T04:59:43.685Z"
   },
   {
    "duration": 8,
    "start_time": "2023-04-14T04:59:43.691Z"
   },
   {
    "duration": 377,
    "start_time": "2023-04-14T04:59:43.700Z"
   },
   {
    "duration": 4,
    "start_time": "2023-04-14T04:59:44.079Z"
   },
   {
    "duration": 12,
    "start_time": "2023-04-14T04:59:44.084Z"
   },
   {
    "duration": 1175,
    "start_time": "2023-04-14T04:59:44.097Z"
   },
   {
    "duration": 3,
    "start_time": "2023-04-14T04:59:45.274Z"
   },
   {
    "duration": 18,
    "start_time": "2023-04-14T04:59:45.278Z"
   },
   {
    "duration": 21,
    "start_time": "2023-04-14T04:59:45.297Z"
   },
   {
    "duration": 21,
    "start_time": "2023-04-14T04:59:45.320Z"
   },
   {
    "duration": 39,
    "start_time": "2023-04-14T04:59:45.342Z"
   },
   {
    "duration": 17,
    "start_time": "2023-04-14T04:59:45.383Z"
   },
   {
    "duration": 10,
    "start_time": "2023-04-14T04:59:45.401Z"
   },
   {
    "duration": 775,
    "start_time": "2023-04-14T04:59:45.413Z"
   },
   {
    "duration": 6298,
    "start_time": "2023-04-14T04:59:46.192Z"
   },
   {
    "duration": 7,
    "start_time": "2023-04-14T05:03:21.296Z"
   },
   {
    "duration": 5,
    "start_time": "2023-04-14T05:14:58.076Z"
   },
   {
    "duration": 45,
    "start_time": "2023-04-14T05:15:46.301Z"
   },
   {
    "duration": 1378,
    "start_time": "2023-04-14T05:18:05.427Z"
   },
   {
    "duration": 754,
    "start_time": "2023-04-14T05:18:06.808Z"
   },
   {
    "duration": 4,
    "start_time": "2023-04-14T05:18:07.563Z"
   },
   {
    "duration": 375,
    "start_time": "2023-04-14T05:18:07.569Z"
   },
   {
    "duration": 3,
    "start_time": "2023-04-14T05:18:07.946Z"
   },
   {
    "duration": 34,
    "start_time": "2023-04-14T05:18:07.950Z"
   },
   {
    "duration": 27,
    "start_time": "2023-04-14T05:18:07.987Z"
   },
   {
    "duration": 35,
    "start_time": "2023-04-14T05:18:08.016Z"
   },
   {
    "duration": 44,
    "start_time": "2023-04-14T05:18:08.053Z"
   },
   {
    "duration": 26,
    "start_time": "2023-04-14T05:18:08.100Z"
   },
   {
    "duration": 36,
    "start_time": "2023-04-14T05:18:08.128Z"
   },
   {
    "duration": 60,
    "start_time": "2023-04-14T05:18:08.165Z"
   },
   {
    "duration": 43,
    "start_time": "2023-04-14T05:18:08.227Z"
   },
   {
    "duration": 6,
    "start_time": "2023-04-14T05:18:08.271Z"
   },
   {
    "duration": 3761,
    "start_time": "2023-04-14T05:18:08.278Z"
   },
   {
    "duration": 5,
    "start_time": "2023-04-14T05:18:12.040Z"
   },
   {
    "duration": 12,
    "start_time": "2023-04-14T05:18:12.047Z"
   },
   {
    "duration": 456,
    "start_time": "2023-04-14T05:18:12.060Z"
   },
   {
    "duration": 5,
    "start_time": "2023-04-14T05:18:12.518Z"
   },
   {
    "duration": 56,
    "start_time": "2023-04-14T05:18:12.524Z"
   },
   {
    "duration": 1158,
    "start_time": "2023-04-14T05:18:12.582Z"
   },
   {
    "duration": 7,
    "start_time": "2023-04-14T05:18:13.742Z"
   },
   {
    "duration": 201,
    "start_time": "2023-04-14T05:18:13.750Z"
   },
   {
    "duration": 0,
    "start_time": "2023-04-14T05:18:13.953Z"
   },
   {
    "duration": 0,
    "start_time": "2023-04-14T05:18:13.954Z"
   },
   {
    "duration": 0,
    "start_time": "2023-04-14T05:18:13.955Z"
   },
   {
    "duration": 0,
    "start_time": "2023-04-14T05:18:13.957Z"
   },
   {
    "duration": 0,
    "start_time": "2023-04-14T05:18:13.958Z"
   },
   {
    "duration": 0,
    "start_time": "2023-04-14T05:18:13.959Z"
   },
   {
    "duration": 0,
    "start_time": "2023-04-14T05:18:13.961Z"
   },
   {
    "duration": 0,
    "start_time": "2023-04-14T05:18:13.962Z"
   },
   {
    "duration": 0,
    "start_time": "2023-04-14T05:18:13.964Z"
   },
   {
    "duration": 7,
    "start_time": "2023-04-14T05:18:48.142Z"
   },
   {
    "duration": 1153,
    "start_time": "2023-04-14T05:18:50.102Z"
   },
   {
    "duration": 3,
    "start_time": "2023-04-14T05:19:00.401Z"
   },
   {
    "duration": 4,
    "start_time": "2023-04-14T05:19:00.900Z"
   },
   {
    "duration": 3,
    "start_time": "2023-04-14T05:19:01.209Z"
   },
   {
    "duration": 4,
    "start_time": "2023-04-14T05:19:01.552Z"
   },
   {
    "duration": 31,
    "start_time": "2023-04-14T05:19:01.910Z"
   },
   {
    "duration": 5,
    "start_time": "2023-04-14T05:19:02.300Z"
   },
   {
    "duration": 6,
    "start_time": "2023-04-14T05:19:02.641Z"
   },
   {
    "duration": 723,
    "start_time": "2023-04-14T05:19:02.979Z"
   },
   {
    "duration": 4301,
    "start_time": "2023-04-14T05:19:03.785Z"
   },
   {
    "duration": 8,
    "start_time": "2023-04-14T05:19:53.586Z"
   },
   {
    "duration": 49,
    "start_time": "2023-04-14T05:19:53.969Z"
   },
   {
    "duration": 5,
    "start_time": "2023-04-14T05:20:09.541Z"
   },
   {
    "duration": 46,
    "start_time": "2023-04-14T05:20:10.924Z"
   },
   {
    "duration": 1452,
    "start_time": "2023-04-14T05:20:24.175Z"
   },
   {
    "duration": 740,
    "start_time": "2023-04-14T05:20:25.628Z"
   },
   {
    "duration": 4,
    "start_time": "2023-04-14T05:20:26.369Z"
   },
   {
    "duration": 336,
    "start_time": "2023-04-14T05:20:26.375Z"
   },
   {
    "duration": 4,
    "start_time": "2023-04-14T05:20:26.712Z"
   },
   {
    "duration": 15,
    "start_time": "2023-04-14T05:20:26.717Z"
   },
   {
    "duration": 19,
    "start_time": "2023-04-14T05:20:26.733Z"
   },
   {
    "duration": 6,
    "start_time": "2023-04-14T05:20:26.753Z"
   },
   {
    "duration": 10,
    "start_time": "2023-04-14T05:20:26.760Z"
   },
   {
    "duration": 20,
    "start_time": "2023-04-14T05:20:26.772Z"
   },
   {
    "duration": 23,
    "start_time": "2023-04-14T05:20:26.793Z"
   },
   {
    "duration": 20,
    "start_time": "2023-04-14T05:20:26.817Z"
   },
   {
    "duration": 23,
    "start_time": "2023-04-14T05:20:26.839Z"
   },
   {
    "duration": 5,
    "start_time": "2023-04-14T05:20:26.863Z"
   },
   {
    "duration": 3442,
    "start_time": "2023-04-14T05:20:26.870Z"
   },
   {
    "duration": 5,
    "start_time": "2023-04-14T05:20:30.314Z"
   },
   {
    "duration": 88,
    "start_time": "2023-04-14T05:20:30.321Z"
   },
   {
    "duration": 447,
    "start_time": "2023-04-14T05:20:30.411Z"
   },
   {
    "duration": 4,
    "start_time": "2023-04-14T05:20:30.859Z"
   },
   {
    "duration": 135,
    "start_time": "2023-04-14T05:20:30.865Z"
   },
   {
    "duration": 1270,
    "start_time": "2023-04-14T05:20:31.002Z"
   },
   {
    "duration": 4,
    "start_time": "2023-04-14T05:20:32.274Z"
   },
   {
    "duration": 1263,
    "start_time": "2023-04-14T05:20:32.280Z"
   },
   {
    "duration": 3,
    "start_time": "2023-04-14T05:20:33.545Z"
   },
   {
    "duration": 32,
    "start_time": "2023-04-14T05:20:33.549Z"
   },
   {
    "duration": 22,
    "start_time": "2023-04-14T05:20:33.582Z"
   },
   {
    "duration": 15,
    "start_time": "2023-04-14T05:20:33.606Z"
   },
   {
    "duration": 58,
    "start_time": "2023-04-14T05:20:33.624Z"
   },
   {
    "duration": 17,
    "start_time": "2023-04-14T05:20:33.685Z"
   },
   {
    "duration": 17,
    "start_time": "2023-04-14T05:20:33.704Z"
   },
   {
    "duration": 860,
    "start_time": "2023-04-14T05:20:33.723Z"
   },
   {
    "duration": 1515,
    "start_time": "2023-04-14T05:22:00.964Z"
   },
   {
    "duration": 939,
    "start_time": "2023-04-14T05:22:02.481Z"
   },
   {
    "duration": 3,
    "start_time": "2023-04-14T05:22:03.422Z"
   },
   {
    "duration": 702,
    "start_time": "2023-04-14T05:22:03.426Z"
   },
   {
    "duration": 54,
    "start_time": "2023-04-14T05:22:04.130Z"
   },
   {
    "duration": 7,
    "start_time": "2023-04-14T05:22:04.187Z"
   },
   {
    "duration": 21,
    "start_time": "2023-04-14T05:22:04.196Z"
   },
   {
    "duration": 8,
    "start_time": "2023-04-14T05:22:04.219Z"
   },
   {
    "duration": 8,
    "start_time": "2023-04-14T05:22:04.228Z"
   },
   {
    "duration": 55,
    "start_time": "2023-04-14T05:22:04.237Z"
   },
   {
    "duration": 11,
    "start_time": "2023-04-14T05:22:04.295Z"
   },
   {
    "duration": 5,
    "start_time": "2023-04-14T05:22:04.308Z"
   },
   {
    "duration": 70,
    "start_time": "2023-04-14T05:22:04.314Z"
   },
   {
    "duration": 5,
    "start_time": "2023-04-14T05:22:04.399Z"
   },
   {
    "duration": 4137,
    "start_time": "2023-04-14T05:22:04.406Z"
   },
   {
    "duration": 5,
    "start_time": "2023-04-14T05:22:08.544Z"
   },
   {
    "duration": 15,
    "start_time": "2023-04-14T05:22:08.550Z"
   },
   {
    "duration": 431,
    "start_time": "2023-04-14T05:22:08.567Z"
   },
   {
    "duration": 4,
    "start_time": "2023-04-14T05:22:09.000Z"
   },
   {
    "duration": 12,
    "start_time": "2023-04-14T05:22:09.005Z"
   },
   {
    "duration": 1258,
    "start_time": "2023-04-14T05:22:09.018Z"
   },
   {
    "duration": 5,
    "start_time": "2023-04-14T05:22:10.278Z"
   },
   {
    "duration": 1150,
    "start_time": "2023-04-14T05:22:10.285Z"
   },
   {
    "duration": 4,
    "start_time": "2023-04-14T05:22:11.437Z"
   },
   {
    "duration": 7,
    "start_time": "2023-04-14T05:22:11.443Z"
   },
   {
    "duration": 4,
    "start_time": "2023-04-14T05:22:11.452Z"
   },
   {
    "duration": 13,
    "start_time": "2023-04-14T05:22:11.457Z"
   },
   {
    "duration": 46,
    "start_time": "2023-04-14T05:22:11.472Z"
   },
   {
    "duration": 4,
    "start_time": "2023-04-14T05:22:11.520Z"
   },
   {
    "duration": 11,
    "start_time": "2023-04-14T05:22:11.525Z"
   },
   {
    "duration": 852,
    "start_time": "2023-04-14T05:22:11.538Z"
   },
   {
    "duration": 10476,
    "start_time": "2023-04-14T05:22:12.392Z"
   },
   {
    "duration": 3,
    "start_time": "2023-04-14T05:24:18.303Z"
   },
   {
    "duration": 14,
    "start_time": "2023-04-14T05:24:19.105Z"
   },
   {
    "duration": 3,
    "start_time": "2023-04-14T05:24:25.129Z"
   },
   {
    "duration": 736,
    "start_time": "2023-04-14T05:24:25.752Z"
   },
   {
    "duration": 5,
    "start_time": "2023-04-14T05:24:26.490Z"
   },
   {
    "duration": 331,
    "start_time": "2023-04-14T05:24:29.503Z"
   },
   {
    "duration": 4,
    "start_time": "2023-04-14T05:24:31.734Z"
   },
   {
    "duration": 5,
    "start_time": "2023-04-14T05:24:32.225Z"
   },
   {
    "duration": 4,
    "start_time": "2023-04-14T05:24:35.828Z"
   },
   {
    "duration": 5,
    "start_time": "2023-04-14T05:24:36.820Z"
   },
   {
    "duration": 3,
    "start_time": "2023-04-14T05:24:38.418Z"
   },
   {
    "duration": 19,
    "start_time": "2023-04-14T05:24:38.942Z"
   },
   {
    "duration": 11,
    "start_time": "2023-04-14T05:24:42.195Z"
   },
   {
    "duration": 4,
    "start_time": "2023-04-14T05:25:14.060Z"
   },
   {
    "duration": 14,
    "start_time": "2023-04-14T05:25:14.994Z"
   },
   {
    "duration": 4,
    "start_time": "2023-04-14T05:25:20.963Z"
   },
   {
    "duration": 3551,
    "start_time": "2023-04-14T05:25:21.811Z"
   },
   {
    "duration": 5,
    "start_time": "2023-04-14T05:25:28.509Z"
   },
   {
    "duration": 3,
    "start_time": "2023-04-14T05:25:29.653Z"
   },
   {
    "duration": 471,
    "start_time": "2023-04-14T05:25:30.448Z"
   },
   {
    "duration": 3,
    "start_time": "2023-04-14T05:25:33.629Z"
   },
   {
    "duration": 5,
    "start_time": "2023-04-14T05:25:34.481Z"
   },
   {
    "duration": 1264,
    "start_time": "2023-04-14T05:25:38.204Z"
   },
   {
    "duration": 6,
    "start_time": "2023-04-14T05:25:41.547Z"
   },
   {
    "duration": 1162,
    "start_time": "2023-04-14T05:25:43.577Z"
   },
   {
    "duration": 3,
    "start_time": "2023-04-14T05:25:48.496Z"
   },
   {
    "duration": 4,
    "start_time": "2023-04-14T05:25:48.963Z"
   },
   {
    "duration": 3,
    "start_time": "2023-04-14T05:25:49.395Z"
   },
   {
    "duration": 5,
    "start_time": "2023-04-14T05:25:50.081Z"
   },
   {
    "duration": 34,
    "start_time": "2023-04-14T05:25:51.774Z"
   },
   {
    "duration": 4,
    "start_time": "2023-04-14T05:25:52.804Z"
   },
   {
    "duration": 6,
    "start_time": "2023-04-14T05:25:53.748Z"
   },
   {
    "duration": 702,
    "start_time": "2023-04-14T05:25:54.596Z"
   },
   {
    "duration": 6616,
    "start_time": "2023-04-14T05:26:06.099Z"
   },
   {
    "duration": 3,
    "start_time": "2023-04-14T05:27:20.601Z"
   },
   {
    "duration": 4,
    "start_time": "2023-04-14T05:27:21.051Z"
   },
   {
    "duration": 3,
    "start_time": "2023-04-14T05:27:21.803Z"
   },
   {
    "duration": 4,
    "start_time": "2023-04-14T05:28:57.202Z"
   },
   {
    "duration": 34,
    "start_time": "2023-04-14T05:28:58.005Z"
   },
   {
    "duration": 4,
    "start_time": "2023-04-14T05:29:26.945Z"
   },
   {
    "duration": 28,
    "start_time": "2023-04-14T05:29:27.461Z"
   },
   {
    "duration": 1506,
    "start_time": "2023-04-14T05:30:32.348Z"
   },
   {
    "duration": 1853,
    "start_time": "2023-04-14T05:30:33.857Z"
   },
   {
    "duration": 4,
    "start_time": "2023-04-14T05:30:35.712Z"
   },
   {
    "duration": 651,
    "start_time": "2023-04-14T05:30:35.719Z"
   },
   {
    "duration": 4,
    "start_time": "2023-04-14T05:30:36.371Z"
   },
   {
    "duration": 25,
    "start_time": "2023-04-14T05:30:36.384Z"
   },
   {
    "duration": 9,
    "start_time": "2023-04-14T05:30:36.412Z"
   },
   {
    "duration": 6,
    "start_time": "2023-04-14T05:30:36.423Z"
   },
   {
    "duration": 9,
    "start_time": "2023-04-14T05:30:36.431Z"
   },
   {
    "duration": 21,
    "start_time": "2023-04-14T05:30:36.442Z"
   },
   {
    "duration": 8,
    "start_time": "2023-04-14T05:30:36.465Z"
   },
   {
    "duration": 33,
    "start_time": "2023-04-14T05:30:36.484Z"
   },
   {
    "duration": 30,
    "start_time": "2023-04-14T05:30:36.519Z"
   },
   {
    "duration": 5,
    "start_time": "2023-04-14T05:30:36.551Z"
   },
   {
    "duration": 3761,
    "start_time": "2023-04-14T05:30:36.558Z"
   },
   {
    "duration": 5,
    "start_time": "2023-04-14T05:30:40.321Z"
   },
   {
    "duration": 7,
    "start_time": "2023-04-14T05:30:40.327Z"
   },
   {
    "duration": 488,
    "start_time": "2023-04-14T05:30:40.336Z"
   },
   {
    "duration": 4,
    "start_time": "2023-04-14T05:30:40.826Z"
   },
   {
    "duration": 15,
    "start_time": "2023-04-14T05:30:40.832Z"
   },
   {
    "duration": 1307,
    "start_time": "2023-04-14T05:30:40.849Z"
   },
   {
    "duration": 5,
    "start_time": "2023-04-14T05:30:42.158Z"
   },
   {
    "duration": 1173,
    "start_time": "2023-04-14T05:30:42.166Z"
   },
   {
    "duration": 4,
    "start_time": "2023-04-14T05:30:43.340Z"
   },
   {
    "duration": 33,
    "start_time": "2023-04-14T05:30:43.345Z"
   },
   {
    "duration": 120,
    "start_time": "2023-04-14T05:30:43.380Z"
   },
   {
    "duration": 49,
    "start_time": "2023-04-14T05:30:43.502Z"
   },
   {
    "duration": 70,
    "start_time": "2023-04-14T05:30:43.555Z"
   },
   {
    "duration": 21,
    "start_time": "2023-04-14T05:30:43.627Z"
   },
   {
    "duration": 23,
    "start_time": "2023-04-14T05:30:43.650Z"
   },
   {
    "duration": 1014,
    "start_time": "2023-04-14T05:30:43.675Z"
   },
   {
    "duration": 95855,
    "start_time": "2023-04-14T05:30:44.692Z"
   },
   {
    "duration": 755,
    "start_time": "2023-04-14T05:33:52.037Z"
   },
   {
    "duration": 759,
    "start_time": "2023-04-14T05:34:11.534Z"
   },
   {
    "duration": 3,
    "start_time": "2023-04-14T05:35:13.034Z"
   },
   {
    "duration": 3,
    "start_time": "2023-04-14T05:35:48.922Z"
   },
   {
    "duration": 5,
    "start_time": "2023-04-14T05:35:49.422Z"
   },
   {
    "duration": 763,
    "start_time": "2023-04-14T05:35:49.919Z"
   },
   {
    "duration": 1562,
    "start_time": "2023-04-14T05:35:59.322Z"
   },
   {
    "duration": 819,
    "start_time": "2023-04-14T05:36:00.887Z"
   },
   {
    "duration": 3,
    "start_time": "2023-04-14T05:36:01.708Z"
   },
   {
    "duration": 425,
    "start_time": "2023-04-14T05:36:01.713Z"
   },
   {
    "duration": 4,
    "start_time": "2023-04-14T05:36:02.140Z"
   },
   {
    "duration": 41,
    "start_time": "2023-04-14T05:36:02.145Z"
   },
   {
    "duration": 39,
    "start_time": "2023-04-14T05:36:02.188Z"
   },
   {
    "duration": 34,
    "start_time": "2023-04-14T05:36:02.229Z"
   },
   {
    "duration": 43,
    "start_time": "2023-04-14T05:36:02.265Z"
   },
   {
    "duration": 45,
    "start_time": "2023-04-14T05:36:02.310Z"
   },
   {
    "duration": 41,
    "start_time": "2023-04-14T05:36:02.357Z"
   },
   {
    "duration": 19,
    "start_time": "2023-04-14T05:36:02.400Z"
   },
   {
    "duration": 45,
    "start_time": "2023-04-14T05:36:02.420Z"
   },
   {
    "duration": 39,
    "start_time": "2023-04-14T05:36:02.468Z"
   },
   {
    "duration": 3721,
    "start_time": "2023-04-14T05:36:02.509Z"
   },
   {
    "duration": 4,
    "start_time": "2023-04-14T05:36:06.232Z"
   },
   {
    "duration": 35,
    "start_time": "2023-04-14T05:36:06.237Z"
   },
   {
    "duration": 440,
    "start_time": "2023-04-14T05:36:06.273Z"
   },
   {
    "duration": 5,
    "start_time": "2023-04-14T05:36:06.715Z"
   },
   {
    "duration": 20,
    "start_time": "2023-04-14T05:36:06.722Z"
   },
   {
    "duration": 1228,
    "start_time": "2023-04-14T05:36:06.744Z"
   },
   {
    "duration": 5,
    "start_time": "2023-04-14T05:36:07.974Z"
   },
   {
    "duration": 1253,
    "start_time": "2023-04-14T05:36:07.981Z"
   },
   {
    "duration": 3,
    "start_time": "2023-04-14T05:36:09.236Z"
   },
   {
    "duration": 16,
    "start_time": "2023-04-14T05:36:09.241Z"
   },
   {
    "duration": 57,
    "start_time": "2023-04-14T05:36:09.259Z"
   },
   {
    "duration": 11,
    "start_time": "2023-04-14T05:36:09.318Z"
   },
   {
    "duration": 46,
    "start_time": "2023-04-14T05:36:09.331Z"
   },
   {
    "duration": 5,
    "start_time": "2023-04-14T05:36:09.379Z"
   },
   {
    "duration": 42,
    "start_time": "2023-04-14T05:36:09.385Z"
   },
   {
    "duration": 34,
    "start_time": "2023-04-14T05:36:09.428Z"
   },
   {
    "duration": 16,
    "start_time": "2023-04-14T05:36:09.463Z"
   },
   {
    "duration": 905,
    "start_time": "2023-04-14T05:36:09.480Z"
   },
   {
    "duration": 8830,
    "start_time": "2023-04-14T05:36:10.387Z"
   },
   {
    "duration": 8,
    "start_time": "2023-04-14T05:36:30.998Z"
   },
   {
    "duration": 654,
    "start_time": "2023-04-14T05:36:31.630Z"
   },
   {
    "duration": 4178,
    "start_time": "2023-04-14T05:38:03.764Z"
   },
   {
    "duration": 1546,
    "start_time": "2023-04-14T05:38:21.815Z"
   },
   {
    "duration": 2533,
    "start_time": "2023-04-14T05:38:23.363Z"
   },
   {
    "duration": 871,
    "start_time": "2023-04-14T05:38:25.899Z"
   },
   {
    "duration": 4,
    "start_time": "2023-04-14T05:38:26.772Z"
   },
   {
    "duration": 458,
    "start_time": "2023-04-14T05:38:26.783Z"
   },
   {
    "duration": 3,
    "start_time": "2023-04-14T05:38:27.243Z"
   },
   {
    "duration": 63,
    "start_time": "2023-04-14T05:38:27.248Z"
   },
   {
    "duration": 16,
    "start_time": "2023-04-14T05:38:27.312Z"
   },
   {
    "duration": 21,
    "start_time": "2023-04-14T05:38:27.330Z"
   },
   {
    "duration": 7,
    "start_time": "2023-04-14T05:38:27.355Z"
   },
   {
    "duration": 25,
    "start_time": "2023-04-14T05:38:27.363Z"
   },
   {
    "duration": 18,
    "start_time": "2023-04-14T05:38:27.390Z"
   },
   {
    "duration": 6,
    "start_time": "2023-04-14T05:38:27.410Z"
   },
   {
    "duration": 34,
    "start_time": "2023-04-14T05:38:27.417Z"
   },
   {
    "duration": 13,
    "start_time": "2023-04-14T05:38:27.453Z"
   },
   {
    "duration": 4284,
    "start_time": "2023-04-14T05:38:27.468Z"
   },
   {
    "duration": 5,
    "start_time": "2023-04-14T05:38:31.754Z"
   },
   {
    "duration": 40,
    "start_time": "2023-04-14T05:38:31.761Z"
   },
   {
    "duration": 412,
    "start_time": "2023-04-14T05:38:31.803Z"
   },
   {
    "duration": 5,
    "start_time": "2023-04-14T05:38:32.217Z"
   },
   {
    "duration": 39,
    "start_time": "2023-04-14T05:38:32.224Z"
   },
   {
    "duration": 1424,
    "start_time": "2023-04-14T05:38:32.265Z"
   },
   {
    "duration": 7,
    "start_time": "2023-04-14T05:38:33.692Z"
   },
   {
    "duration": 1402,
    "start_time": "2023-04-14T05:38:33.701Z"
   },
   {
    "duration": 4,
    "start_time": "2023-04-14T05:38:35.106Z"
   },
   {
    "duration": 12,
    "start_time": "2023-04-14T05:38:35.112Z"
   },
   {
    "duration": 8,
    "start_time": "2023-04-14T05:38:35.126Z"
   },
   {
    "duration": 24,
    "start_time": "2023-04-14T05:38:35.138Z"
   },
   {
    "duration": 70,
    "start_time": "2023-04-14T05:38:35.164Z"
   },
   {
    "duration": 4,
    "start_time": "2023-04-14T05:38:35.236Z"
   },
   {
    "duration": 19,
    "start_time": "2023-04-14T05:38:35.242Z"
   },
   {
    "duration": 824,
    "start_time": "2023-04-14T05:38:35.263Z"
   },
   {
    "duration": 8377,
    "start_time": "2023-04-14T05:38:36.095Z"
   },
   {
    "duration": 2457,
    "start_time": "2023-04-14T05:38:50.957Z"
   },
   {
    "duration": 3308,
    "start_time": "2023-04-14T05:38:53.417Z"
   },
   {
    "duration": 811,
    "start_time": "2023-04-14T05:38:56.727Z"
   },
   {
    "duration": 4,
    "start_time": "2023-04-14T05:38:57.540Z"
   },
   {
    "duration": 364,
    "start_time": "2023-04-14T05:38:57.545Z"
   },
   {
    "duration": 8,
    "start_time": "2023-04-14T05:38:57.912Z"
   },
   {
    "duration": 24,
    "start_time": "2023-04-14T05:38:57.922Z"
   },
   {
    "duration": 16,
    "start_time": "2023-04-14T05:38:57.949Z"
   },
   {
    "duration": 26,
    "start_time": "2023-04-14T05:38:57.967Z"
   },
   {
    "duration": 40,
    "start_time": "2023-04-14T05:38:57.997Z"
   },
   {
    "duration": 37,
    "start_time": "2023-04-14T05:38:58.039Z"
   },
   {
    "duration": 8,
    "start_time": "2023-04-14T05:38:58.078Z"
   },
   {
    "duration": 34,
    "start_time": "2023-04-14T05:38:58.088Z"
   },
   {
    "duration": 12,
    "start_time": "2023-04-14T05:38:58.124Z"
   },
   {
    "duration": 5,
    "start_time": "2023-04-14T05:38:58.138Z"
   },
   {
    "duration": 3606,
    "start_time": "2023-04-14T05:38:58.145Z"
   },
   {
    "duration": 6,
    "start_time": "2023-04-14T05:39:01.753Z"
   },
   {
    "duration": 55,
    "start_time": "2023-04-14T05:39:01.761Z"
   },
   {
    "duration": 432,
    "start_time": "2023-04-14T05:39:01.818Z"
   },
   {
    "duration": 4,
    "start_time": "2023-04-14T05:39:02.252Z"
   },
   {
    "duration": 62,
    "start_time": "2023-04-14T05:39:02.257Z"
   },
   {
    "duration": 1258,
    "start_time": "2023-04-14T05:39:02.322Z"
   },
   {
    "duration": 12,
    "start_time": "2023-04-14T05:39:03.582Z"
   },
   {
    "duration": 1269,
    "start_time": "2023-04-14T05:39:03.596Z"
   },
   {
    "duration": 4,
    "start_time": "2023-04-14T05:39:04.867Z"
   },
   {
    "duration": 80,
    "start_time": "2023-04-14T05:39:04.873Z"
   },
   {
    "duration": 15,
    "start_time": "2023-04-14T05:39:04.955Z"
   },
   {
    "duration": 40,
    "start_time": "2023-04-14T05:39:04.974Z"
   },
   {
    "duration": 55,
    "start_time": "2023-04-14T05:39:05.016Z"
   },
   {
    "duration": 4,
    "start_time": "2023-04-14T05:39:05.073Z"
   },
   {
    "duration": 45,
    "start_time": "2023-04-14T05:39:05.078Z"
   },
   {
    "duration": 867,
    "start_time": "2023-04-14T05:39:05.124Z"
   },
   {
    "duration": 7084,
    "start_time": "2023-04-14T05:39:06.000Z"
   },
   {
    "duration": 9,
    "start_time": "2023-04-14T05:41:58.737Z"
   },
   {
    "duration": 3,
    "start_time": "2023-04-14T05:42:03.828Z"
   },
   {
    "duration": 96274,
    "start_time": "2023-04-14T05:42:09.947Z"
   },
   {
    "duration": 10,
    "start_time": "2023-04-14T05:45:18.809Z"
   },
   {
    "duration": 15,
    "start_time": "2023-04-14T05:45:26.817Z"
   },
   {
    "duration": 20,
    "start_time": "2023-04-14T05:45:48.528Z"
   },
   {
    "duration": 15,
    "start_time": "2023-04-14T05:48:58.114Z"
   },
   {
    "duration": 100163,
    "start_time": "2023-04-14T05:49:14.917Z"
   },
   {
    "duration": 96657,
    "start_time": "2023-04-14T05:53:41.659Z"
   },
   {
    "duration": 1661,
    "start_time": "2023-04-14T05:57:09.458Z"
   },
   {
    "duration": 836,
    "start_time": "2023-04-14T05:57:11.121Z"
   },
   {
    "duration": 4,
    "start_time": "2023-04-14T05:57:11.958Z"
   },
   {
    "duration": 398,
    "start_time": "2023-04-14T05:57:11.964Z"
   },
   {
    "duration": 3,
    "start_time": "2023-04-14T05:57:12.364Z"
   },
   {
    "duration": 27,
    "start_time": "2023-04-14T05:57:12.369Z"
   },
   {
    "duration": 28,
    "start_time": "2023-04-14T05:57:12.402Z"
   },
   {
    "duration": 26,
    "start_time": "2023-04-14T05:57:12.431Z"
   },
   {
    "duration": 21,
    "start_time": "2023-04-14T05:57:12.459Z"
   },
   {
    "duration": 50,
    "start_time": "2023-04-14T05:57:12.490Z"
   },
   {
    "duration": 9,
    "start_time": "2023-04-14T05:57:12.542Z"
   },
   {
    "duration": 17,
    "start_time": "2023-04-14T05:57:12.553Z"
   },
   {
    "duration": 48,
    "start_time": "2023-04-14T05:57:12.572Z"
   },
   {
    "duration": 107,
    "start_time": "2023-04-14T05:57:12.621Z"
   },
   {
    "duration": 3691,
    "start_time": "2023-04-14T05:57:12.729Z"
   },
   {
    "duration": 4,
    "start_time": "2023-04-14T05:57:16.422Z"
   },
   {
    "duration": 28,
    "start_time": "2023-04-14T05:57:16.427Z"
   },
   {
    "duration": 431,
    "start_time": "2023-04-14T05:57:16.456Z"
   },
   {
    "duration": 5,
    "start_time": "2023-04-14T05:57:16.893Z"
   },
   {
    "duration": 38,
    "start_time": "2023-04-14T05:57:16.902Z"
   },
   {
    "duration": 1279,
    "start_time": "2023-04-14T05:57:16.941Z"
   },
   {
    "duration": 5,
    "start_time": "2023-04-14T05:57:18.222Z"
   },
   {
    "duration": 1425,
    "start_time": "2023-04-14T05:57:18.228Z"
   },
   {
    "duration": 3,
    "start_time": "2023-04-14T05:57:19.655Z"
   },
   {
    "duration": 57,
    "start_time": "2023-04-14T05:57:19.659Z"
   },
   {
    "duration": 24,
    "start_time": "2023-04-14T05:57:19.717Z"
   },
   {
    "duration": 31,
    "start_time": "2023-04-14T05:57:19.744Z"
   },
   {
    "duration": 87,
    "start_time": "2023-04-14T05:57:19.779Z"
   },
   {
    "duration": 4,
    "start_time": "2023-04-14T05:57:19.869Z"
   },
   {
    "duration": 52,
    "start_time": "2023-04-14T05:57:19.875Z"
   },
   {
    "duration": 882,
    "start_time": "2023-04-14T05:57:19.929Z"
   },
   {
    "duration": 8629,
    "start_time": "2023-04-14T05:57:20.889Z"
   },
   {
    "duration": 1514,
    "start_time": "2023-04-14T05:57:35.510Z"
   },
   {
    "duration": 100411,
    "start_time": "2023-04-14T05:57:43.729Z"
   },
   {
    "duration": 20,
    "start_time": "2023-04-14T06:00:49.072Z"
   },
   {
    "duration": 3,
    "start_time": "2023-04-14T06:01:04.545Z"
   },
   {
    "duration": 22,
    "start_time": "2023-04-14T06:01:05.112Z"
   },
   {
    "duration": 23,
    "start_time": "2023-04-14T06:01:20.714Z"
   },
   {
    "duration": 55,
    "start_time": "2023-04-14T06:01:56.163Z"
   },
   {
    "duration": 3,
    "start_time": "2023-04-14T06:05:54.443Z"
   },
   {
    "duration": 1772,
    "start_time": "2023-04-14T06:06:09.199Z"
   },
   {
    "duration": 11,
    "start_time": "2023-04-14T06:07:04.512Z"
   },
   {
    "duration": 1634,
    "start_time": "2023-04-14T06:07:18.059Z"
   },
   {
    "duration": 98332,
    "start_time": "2023-04-14T06:08:10.020Z"
   },
   {
    "duration": 96363,
    "start_time": "2023-04-14T06:11:02.809Z"
   },
   {
    "duration": 101019,
    "start_time": "2023-04-14T06:13:03.299Z"
   },
   {
    "duration": 1678,
    "start_time": "2023-04-15T09:34:32.982Z"
   },
   {
    "duration": 3146,
    "start_time": "2023-04-15T09:34:34.662Z"
   },
   {
    "duration": 4,
    "start_time": "2023-04-15T09:34:37.810Z"
   },
   {
    "duration": 371,
    "start_time": "2023-04-15T09:34:37.817Z"
   },
   {
    "duration": 4,
    "start_time": "2023-04-15T09:34:38.191Z"
   },
   {
    "duration": 15,
    "start_time": "2023-04-15T09:34:38.196Z"
   },
   {
    "duration": 21,
    "start_time": "2023-04-15T09:34:38.213Z"
   },
   {
    "duration": 13,
    "start_time": "2023-04-15T09:34:38.236Z"
   },
   {
    "duration": 10,
    "start_time": "2023-04-15T09:34:38.251Z"
   },
   {
    "duration": 27,
    "start_time": "2023-04-15T09:34:38.264Z"
   },
   {
    "duration": 8,
    "start_time": "2023-04-15T09:34:38.293Z"
   },
   {
    "duration": 4,
    "start_time": "2023-04-15T09:34:38.303Z"
   },
   {
    "duration": 31,
    "start_time": "2023-04-15T09:34:38.308Z"
   },
   {
    "duration": 6,
    "start_time": "2023-04-15T09:34:38.341Z"
   },
   {
    "duration": 3520,
    "start_time": "2023-04-15T09:34:38.348Z"
   },
   {
    "duration": 5,
    "start_time": "2023-04-15T09:34:41.869Z"
   },
   {
    "duration": 22,
    "start_time": "2023-04-15T09:34:41.876Z"
   },
   {
    "duration": 451,
    "start_time": "2023-04-15T09:34:41.900Z"
   },
   {
    "duration": 5,
    "start_time": "2023-04-15T09:34:42.353Z"
   },
   {
    "duration": 39,
    "start_time": "2023-04-15T09:34:42.360Z"
   },
   {
    "duration": 1208,
    "start_time": "2023-04-15T09:34:42.401Z"
   },
   {
    "duration": 6,
    "start_time": "2023-04-15T09:34:43.611Z"
   },
   {
    "duration": 1171,
    "start_time": "2023-04-15T09:34:43.619Z"
   },
   {
    "duration": 4,
    "start_time": "2023-04-15T09:34:44.791Z"
   },
   {
    "duration": 14,
    "start_time": "2023-04-15T09:34:44.796Z"
   },
   {
    "duration": 6,
    "start_time": "2023-04-15T09:34:44.812Z"
   },
   {
    "duration": 14,
    "start_time": "2023-04-15T09:34:44.820Z"
   },
   {
    "duration": 38,
    "start_time": "2023-04-15T09:34:44.837Z"
   },
   {
    "duration": 4,
    "start_time": "2023-04-15T09:34:44.877Z"
   },
   {
    "duration": 10,
    "start_time": "2023-04-15T09:34:44.884Z"
   },
   {
    "duration": 94621,
    "start_time": "2023-04-15T09:34:44.897Z"
   },
   {
    "duration": 1564,
    "start_time": "2023-04-15T09:36:19.519Z"
   },
   {
    "duration": 855,
    "start_time": "2023-04-15T09:36:21.085Z"
   },
   {
    "duration": 13555,
    "start_time": "2023-04-15T09:50:52.172Z"
   },
   {
    "duration": 13347,
    "start_time": "2023-04-15T09:51:25.483Z"
   },
   {
    "duration": 6863,
    "start_time": "2023-04-15T09:53:32.217Z"
   },
   {
    "duration": 6892,
    "start_time": "2023-04-15T09:53:45.385Z"
   },
   {
    "duration": 32,
    "start_time": "2023-04-15T09:54:41.489Z"
   },
   {
    "duration": 6932,
    "start_time": "2023-04-15T09:55:04.295Z"
   },
   {
    "duration": 34,
    "start_time": "2023-04-15T09:59:02.612Z"
   },
   {
    "duration": 38,
    "start_time": "2023-04-15T09:59:20.785Z"
   },
   {
    "duration": 419658,
    "start_time": "2023-04-15T10:01:02.451Z"
   },
   {
    "duration": 14082,
    "start_time": "2023-04-15T10:08:11.072Z"
   },
   {
    "duration": 9,
    "start_time": "2023-04-15T10:20:23.771Z"
   },
   {
    "duration": 3,
    "start_time": "2023-04-15T10:20:28.577Z"
   },
   {
    "duration": 7270,
    "start_time": "2023-04-15T10:21:54.815Z"
   },
   {
    "duration": 6,
    "start_time": "2023-04-15T10:22:23.091Z"
   },
   {
    "duration": 7036,
    "start_time": "2023-04-15T10:22:30.330Z"
   },
   {
    "duration": 7,
    "start_time": "2023-04-15T10:27:13.094Z"
   },
   {
    "duration": 3,
    "start_time": "2023-04-15T10:27:28.977Z"
   },
   {
    "duration": 10,
    "start_time": "2023-04-15T10:27:34.056Z"
   },
   {
    "duration": 16,
    "start_time": "2023-04-15T10:28:04.358Z"
   },
   {
    "duration": 7774,
    "start_time": "2023-04-15T10:28:17.568Z"
   },
   {
    "duration": 1774,
    "start_time": "2023-04-15T10:28:42.221Z"
   },
   {
    "duration": 827,
    "start_time": "2023-04-15T10:28:43.998Z"
   },
   {
    "duration": 12,
    "start_time": "2023-04-15T10:28:44.827Z"
   },
   {
    "duration": 398,
    "start_time": "2023-04-15T10:28:44.844Z"
   },
   {
    "duration": 5,
    "start_time": "2023-04-15T10:28:45.248Z"
   },
   {
    "duration": 14,
    "start_time": "2023-04-15T10:28:45.256Z"
   },
   {
    "duration": 7,
    "start_time": "2023-04-15T10:28:45.272Z"
   },
   {
    "duration": 8,
    "start_time": "2023-04-15T10:28:45.280Z"
   },
   {
    "duration": 6,
    "start_time": "2023-04-15T10:28:45.290Z"
   },
   {
    "duration": 45,
    "start_time": "2023-04-15T10:28:45.299Z"
   },
   {
    "duration": 13,
    "start_time": "2023-04-15T10:28:45.345Z"
   },
   {
    "duration": 19,
    "start_time": "2023-04-15T10:28:45.360Z"
   },
   {
    "duration": 5,
    "start_time": "2023-04-15T10:28:45.381Z"
   },
   {
    "duration": 17,
    "start_time": "2023-04-15T10:28:45.388Z"
   },
   {
    "duration": 27,
    "start_time": "2023-04-15T10:28:45.407Z"
   },
   {
    "duration": 3778,
    "start_time": "2023-04-15T10:28:45.437Z"
   },
   {
    "duration": 6,
    "start_time": "2023-04-15T10:28:49.217Z"
   },
   {
    "duration": 6,
    "start_time": "2023-04-15T10:28:49.233Z"
   },
   {
    "duration": 455,
    "start_time": "2023-04-15T10:28:49.241Z"
   },
   {
    "duration": 4,
    "start_time": "2023-04-15T10:28:49.698Z"
   },
   {
    "duration": 11,
    "start_time": "2023-04-15T10:28:49.704Z"
   },
   {
    "duration": 1341,
    "start_time": "2023-04-15T10:28:49.717Z"
   },
   {
    "duration": 7,
    "start_time": "2023-04-15T10:28:51.059Z"
   },
   {
    "duration": 1259,
    "start_time": "2023-04-15T10:28:51.068Z"
   },
   {
    "duration": 3,
    "start_time": "2023-04-15T10:28:52.334Z"
   },
   {
    "duration": 23,
    "start_time": "2023-04-15T10:28:52.345Z"
   },
   {
    "duration": 17,
    "start_time": "2023-04-15T10:28:52.370Z"
   },
   {
    "duration": 44,
    "start_time": "2023-04-15T10:28:52.391Z"
   },
   {
    "duration": 6,
    "start_time": "2023-04-15T10:28:52.445Z"
   },
   {
    "duration": 14,
    "start_time": "2023-04-15T10:28:52.453Z"
   },
   {
    "duration": 14,
    "start_time": "2023-04-15T10:28:52.470Z"
   },
   {
    "duration": 107039,
    "start_time": "2023-04-15T10:28:52.487Z"
   },
   {
    "duration": 2028,
    "start_time": "2023-04-15T10:30:39.528Z"
   },
   {
    "duration": 3410,
    "start_time": "2023-04-15T10:30:41.558Z"
   },
   {
    "duration": 16155,
    "start_time": "2023-04-15T10:30:44.971Z"
   },
   {
    "duration": 14,
    "start_time": "2023-04-15T10:31:01.128Z"
   },
   {
    "duration": 8637,
    "start_time": "2023-04-15T10:31:01.153Z"
   },
   {
    "duration": 82,
    "start_time": "2023-04-15T14:02:48.755Z"
   },
   {
    "duration": 3275,
    "start_time": "2023-04-15T14:02:57.478Z"
   },
   {
    "duration": 9764,
    "start_time": "2023-04-15T14:03:00.759Z"
   },
   {
    "duration": 8,
    "start_time": "2023-04-15T14:03:10.528Z"
   },
   {
    "duration": 648,
    "start_time": "2023-04-15T14:03:10.545Z"
   },
   {
    "duration": 6,
    "start_time": "2023-04-15T14:03:11.199Z"
   },
   {
    "duration": 159,
    "start_time": "2023-04-15T14:03:11.210Z"
   },
   {
    "duration": 122,
    "start_time": "2023-04-15T14:03:11.377Z"
   },
   {
    "duration": 32,
    "start_time": "2023-04-15T14:03:11.505Z"
   },
   {
    "duration": 22,
    "start_time": "2023-04-15T14:03:11.543Z"
   },
   {
    "duration": 48,
    "start_time": "2023-04-15T14:03:11.572Z"
   },
   {
    "duration": 61,
    "start_time": "2023-04-15T14:03:11.626Z"
   },
   {
    "duration": 57,
    "start_time": "2023-04-15T14:03:11.693Z"
   },
   {
    "duration": 13,
    "start_time": "2023-04-15T14:03:11.755Z"
   },
   {
    "duration": 31,
    "start_time": "2023-04-15T14:03:11.776Z"
   },
   {
    "duration": 19,
    "start_time": "2023-04-15T14:03:11.814Z"
   },
   {
    "duration": 5101,
    "start_time": "2023-04-15T14:03:11.839Z"
   },
   {
    "duration": 9,
    "start_time": "2023-04-15T14:03:16.943Z"
   },
   {
    "duration": 122,
    "start_time": "2023-04-15T14:03:16.954Z"
   },
   {
    "duration": 963,
    "start_time": "2023-04-15T14:03:17.078Z"
   },
   {
    "duration": 9,
    "start_time": "2023-04-15T14:03:18.044Z"
   },
   {
    "duration": 45,
    "start_time": "2023-04-15T14:03:18.055Z"
   },
   {
    "duration": 2219,
    "start_time": "2023-04-15T14:03:18.104Z"
   },
   {
    "duration": 17,
    "start_time": "2023-04-15T14:03:20.333Z"
   },
   {
    "duration": 2231,
    "start_time": "2023-04-15T14:03:20.352Z"
   },
   {
    "duration": 4,
    "start_time": "2023-04-15T14:03:22.585Z"
   },
   {
    "duration": 32,
    "start_time": "2023-04-15T14:03:22.591Z"
   },
   {
    "duration": 231,
    "start_time": "2023-04-15T14:03:22.625Z"
   },
   {
    "duration": 0,
    "start_time": "2023-04-15T14:03:22.861Z"
   },
   {
    "duration": 0,
    "start_time": "2023-04-15T14:03:22.862Z"
   },
   {
    "duration": 0,
    "start_time": "2023-04-15T14:03:22.864Z"
   },
   {
    "duration": 0,
    "start_time": "2023-04-15T14:03:22.865Z"
   },
   {
    "duration": 0,
    "start_time": "2023-04-15T14:03:22.869Z"
   },
   {
    "duration": 0,
    "start_time": "2023-04-15T14:03:22.870Z"
   },
   {
    "duration": 0,
    "start_time": "2023-04-15T14:03:22.871Z"
   },
   {
    "duration": 0,
    "start_time": "2023-04-15T14:03:22.873Z"
   },
   {
    "duration": 0,
    "start_time": "2023-04-15T14:03:22.886Z"
   },
   {
    "duration": 0,
    "start_time": "2023-04-15T14:03:22.888Z"
   },
   {
    "duration": 0,
    "start_time": "2023-04-15T14:03:22.889Z"
   },
   {
    "duration": 13,
    "start_time": "2023-04-15T14:03:38.690Z"
   },
   {
    "duration": 6,
    "start_time": "2023-04-15T14:03:44.288Z"
   },
   {
    "duration": 46,
    "start_time": "2023-04-15T14:03:44.927Z"
   },
   {
    "duration": 5,
    "start_time": "2023-04-15T14:03:45.952Z"
   },
   {
    "duration": 7,
    "start_time": "2023-04-15T14:03:50.178Z"
   },
   {
    "duration": 14,
    "start_time": "2023-04-15T14:03:50.886Z"
   },
   {
    "duration": 13274,
    "start_time": "2023-04-15T14:03:51.378Z"
   },
   {
    "duration": 0,
    "start_time": "2023-04-15T14:04:04.655Z"
   },
   {
    "duration": 0,
    "start_time": "2023-04-15T14:04:04.657Z"
   },
   {
    "duration": 0,
    "start_time": "2023-04-15T14:04:04.658Z"
   },
   {
    "duration": 0,
    "start_time": "2023-04-15T14:04:04.659Z"
   },
   {
    "duration": 4,
    "start_time": "2023-04-15T14:12:33.474Z"
   },
   {
    "duration": 5,
    "start_time": "2023-04-15T14:12:34.047Z"
   },
   {
    "duration": 3,
    "start_time": "2023-04-15T14:12:34.978Z"
   },
   {
    "duration": 18,
    "start_time": "2023-04-15T14:13:03.914Z"
   },
   {
    "duration": 41,
    "start_time": "2023-04-15T14:13:05.634Z"
   },
   {
    "duration": 8,
    "start_time": "2023-04-15T14:13:06.031Z"
   },
   {
    "duration": 41,
    "start_time": "2023-04-15T14:13:12.349Z"
   },
   {
    "duration": 5,
    "start_time": "2023-04-15T14:13:13.827Z"
   },
   {
    "duration": 32,
    "start_time": "2023-04-15T14:13:14.322Z"
   },
   {
    "duration": 2000,
    "start_time": "2023-04-15T14:13:43.434Z"
   },
   {
    "duration": 940,
    "start_time": "2023-04-15T14:13:45.440Z"
   },
   {
    "duration": 17,
    "start_time": "2023-04-15T14:13:46.382Z"
   },
   {
    "duration": 558,
    "start_time": "2023-04-15T14:13:46.401Z"
   },
   {
    "duration": 5,
    "start_time": "2023-04-15T14:13:46.962Z"
   },
   {
    "duration": 27,
    "start_time": "2023-04-15T14:13:46.969Z"
   },
   {
    "duration": 13,
    "start_time": "2023-04-15T14:13:46.998Z"
   },
   {
    "duration": 40,
    "start_time": "2023-04-15T14:13:47.013Z"
   },
   {
    "duration": 76,
    "start_time": "2023-04-15T14:13:47.055Z"
   },
   {
    "duration": 31,
    "start_time": "2023-04-15T14:13:47.133Z"
   },
   {
    "duration": 9,
    "start_time": "2023-04-15T14:13:47.167Z"
   },
   {
    "duration": 23,
    "start_time": "2023-04-15T14:13:47.177Z"
   },
   {
    "duration": 38,
    "start_time": "2023-04-15T14:13:47.202Z"
   },
   {
    "duration": 18,
    "start_time": "2023-04-15T14:13:47.243Z"
   },
   {
    "duration": 15,
    "start_time": "2023-04-15T14:13:47.262Z"
   },
   {
    "duration": 2878,
    "start_time": "2023-04-15T14:13:47.279Z"
   },
   {
    "duration": 0,
    "start_time": "2023-04-15T14:13:50.159Z"
   },
   {
    "duration": 0,
    "start_time": "2023-04-15T14:13:50.166Z"
   },
   {
    "duration": 0,
    "start_time": "2023-04-15T14:13:50.167Z"
   },
   {
    "duration": 0,
    "start_time": "2023-04-15T14:13:50.168Z"
   },
   {
    "duration": 0,
    "start_time": "2023-04-15T14:13:50.171Z"
   },
   {
    "duration": 0,
    "start_time": "2023-04-15T14:13:50.173Z"
   },
   {
    "duration": 0,
    "start_time": "2023-04-15T14:13:50.174Z"
   },
   {
    "duration": 0,
    "start_time": "2023-04-15T14:13:50.175Z"
   },
   {
    "duration": 0,
    "start_time": "2023-04-15T14:13:50.177Z"
   },
   {
    "duration": 0,
    "start_time": "2023-04-15T14:13:50.178Z"
   },
   {
    "duration": 0,
    "start_time": "2023-04-15T14:13:50.179Z"
   },
   {
    "duration": 0,
    "start_time": "2023-04-15T14:13:50.181Z"
   },
   {
    "duration": 0,
    "start_time": "2023-04-15T14:13:50.184Z"
   },
   {
    "duration": 0,
    "start_time": "2023-04-15T14:13:50.188Z"
   },
   {
    "duration": 0,
    "start_time": "2023-04-15T14:13:50.193Z"
   },
   {
    "duration": 0,
    "start_time": "2023-04-15T14:13:50.197Z"
   },
   {
    "duration": 0,
    "start_time": "2023-04-15T14:13:50.204Z"
   },
   {
    "duration": 0,
    "start_time": "2023-04-15T14:13:50.207Z"
   },
   {
    "duration": 0,
    "start_time": "2023-04-15T14:13:50.208Z"
   },
   {
    "duration": 0,
    "start_time": "2023-04-15T14:13:50.210Z"
   },
   {
    "duration": 0,
    "start_time": "2023-04-15T14:13:50.212Z"
   },
   {
    "duration": 1941,
    "start_time": "2023-04-15T14:14:14.758Z"
   },
   {
    "duration": 2023,
    "start_time": "2023-04-15T14:14:16.707Z"
   },
   {
    "duration": 8,
    "start_time": "2023-04-15T14:14:18.734Z"
   },
   {
    "duration": 845,
    "start_time": "2023-04-15T14:14:18.791Z"
   },
   {
    "duration": 50,
    "start_time": "2023-04-15T14:14:19.639Z"
   },
   {
    "duration": 13,
    "start_time": "2023-04-15T14:14:19.692Z"
   },
   {
    "duration": 44,
    "start_time": "2023-04-15T14:14:19.707Z"
   },
   {
    "duration": 5,
    "start_time": "2023-04-15T14:14:19.753Z"
   },
   {
    "duration": 32,
    "start_time": "2023-04-15T14:14:19.760Z"
   },
   {
    "duration": 99,
    "start_time": "2023-04-15T14:14:19.799Z"
   },
   {
    "duration": 56,
    "start_time": "2023-04-15T14:14:19.900Z"
   },
   {
    "duration": 43,
    "start_time": "2023-04-15T14:14:19.959Z"
   },
   {
    "duration": 9,
    "start_time": "2023-04-15T14:14:20.004Z"
   },
   {
    "duration": 80,
    "start_time": "2023-04-15T14:14:20.015Z"
   },
   {
    "duration": 32,
    "start_time": "2023-04-15T14:14:20.096Z"
   },
   {
    "duration": 5043,
    "start_time": "2023-04-15T14:14:20.130Z"
   },
   {
    "duration": 6,
    "start_time": "2023-04-15T14:14:25.175Z"
   },
   {
    "duration": 9,
    "start_time": "2023-04-15T14:14:25.196Z"
   },
   {
    "duration": 551,
    "start_time": "2023-04-15T14:14:25.207Z"
   },
   {
    "duration": 7,
    "start_time": "2023-04-15T14:14:25.760Z"
   },
   {
    "duration": 51,
    "start_time": "2023-04-15T14:14:25.771Z"
   },
   {
    "duration": 1431,
    "start_time": "2023-04-15T14:14:25.828Z"
   },
   {
    "duration": 8,
    "start_time": "2023-04-15T14:14:27.261Z"
   },
   {
    "duration": 1477,
    "start_time": "2023-04-15T14:14:27.271Z"
   },
   {
    "duration": 6,
    "start_time": "2023-04-15T14:14:28.751Z"
   },
   {
    "duration": 6,
    "start_time": "2023-04-15T14:14:28.759Z"
   },
   {
    "duration": 16,
    "start_time": "2023-04-15T14:14:28.767Z"
   },
   {
    "duration": 63,
    "start_time": "2023-04-15T14:14:28.787Z"
   },
   {
    "duration": 62,
    "start_time": "2023-04-15T14:14:28.853Z"
   },
   {
    "duration": 7,
    "start_time": "2023-04-15T14:14:28.918Z"
   },
   {
    "duration": 26,
    "start_time": "2023-04-15T14:14:28.940Z"
   },
   {
    "duration": 8,
    "start_time": "2023-04-15T14:14:28.969Z"
   },
   {
    "duration": 113114,
    "start_time": "2023-04-15T14:14:28.979Z"
   },
   {
    "duration": 1883,
    "start_time": "2023-04-15T14:16:22.100Z"
   },
   {
    "duration": 1437,
    "start_time": "2023-04-15T14:16:23.986Z"
   },
   {
    "duration": 16524,
    "start_time": "2023-04-15T14:16:25.425Z"
   },
   {
    "duration": 8323,
    "start_time": "2023-04-15T14:16:41.954Z"
   },
   {
    "duration": 0,
    "start_time": "2023-04-15T14:16:50.279Z"
   },
   {
    "duration": 0,
    "start_time": "2023-04-15T14:16:50.280Z"
   },
   {
    "duration": 1909,
    "start_time": "2023-04-15T14:16:57.431Z"
   },
   {
    "duration": 1986,
    "start_time": "2023-04-15T14:17:01.421Z"
   },
   {
    "duration": 17195,
    "start_time": "2023-04-15T14:17:08.132Z"
   },
   {
    "duration": 16421,
    "start_time": "2023-04-15T14:17:28.732Z"
   },
   {
    "duration": 128,
    "start_time": "2023-04-15T14:38:21.114Z"
   },
   {
    "duration": 6,
    "start_time": "2023-04-15T14:38:26.240Z"
   },
   {
    "duration": 2393,
    "start_time": "2023-04-15T14:38:33.066Z"
   },
   {
    "duration": 1467,
    "start_time": "2023-04-15T14:38:35.461Z"
   },
   {
    "duration": 17,
    "start_time": "2023-04-15T14:38:36.930Z"
   },
   {
    "duration": 433,
    "start_time": "2023-04-15T14:38:36.951Z"
   },
   {
    "duration": 14,
    "start_time": "2023-04-15T14:38:37.386Z"
   },
   {
    "duration": 75,
    "start_time": "2023-04-15T14:38:37.405Z"
   },
   {
    "duration": 66,
    "start_time": "2023-04-15T14:38:37.481Z"
   },
   {
    "duration": 11,
    "start_time": "2023-04-15T14:38:37.549Z"
   },
   {
    "duration": 24,
    "start_time": "2023-04-15T14:38:37.562Z"
   },
   {
    "duration": 85,
    "start_time": "2023-04-15T14:38:37.593Z"
   },
   {
    "duration": 19,
    "start_time": "2023-04-15T14:38:37.680Z"
   },
   {
    "duration": 66,
    "start_time": "2023-04-15T14:38:37.701Z"
   },
   {
    "duration": 6,
    "start_time": "2023-04-15T14:38:37.769Z"
   },
   {
    "duration": 66,
    "start_time": "2023-04-15T14:38:37.777Z"
   },
   {
    "duration": 19,
    "start_time": "2023-04-15T14:38:37.846Z"
   },
   {
    "duration": 4237,
    "start_time": "2023-04-15T14:38:37.867Z"
   },
   {
    "duration": 10,
    "start_time": "2023-04-15T14:38:42.106Z"
   },
   {
    "duration": 49,
    "start_time": "2023-04-15T14:38:42.123Z"
   },
   {
    "duration": 601,
    "start_time": "2023-04-15T14:38:42.174Z"
   },
   {
    "duration": 4,
    "start_time": "2023-04-15T14:38:42.778Z"
   },
   {
    "duration": 83,
    "start_time": "2023-04-15T14:38:42.784Z"
   },
   {
    "duration": 1687,
    "start_time": "2023-04-15T14:38:42.869Z"
   },
   {
    "duration": 8,
    "start_time": "2023-04-15T14:38:44.558Z"
   },
   {
    "duration": 1500,
    "start_time": "2023-04-15T14:38:44.567Z"
   },
   {
    "duration": 4,
    "start_time": "2023-04-15T14:38:46.069Z"
   },
   {
    "duration": 50,
    "start_time": "2023-04-15T14:38:46.076Z"
   },
   {
    "duration": 33,
    "start_time": "2023-04-15T14:38:46.134Z"
   },
   {
    "duration": 8,
    "start_time": "2023-04-15T14:38:46.171Z"
   },
   {
    "duration": 94,
    "start_time": "2023-04-15T14:38:46.181Z"
   },
   {
    "duration": 5,
    "start_time": "2023-04-15T14:38:46.276Z"
   },
   {
    "duration": 79,
    "start_time": "2023-04-15T14:38:46.283Z"
   },
   {
    "duration": 21,
    "start_time": "2023-04-15T14:38:46.364Z"
   },
   {
    "duration": 124935,
    "start_time": "2023-04-15T14:38:46.389Z"
   },
   {
    "duration": 2195,
    "start_time": "2023-04-15T14:40:51.326Z"
   },
   {
    "duration": 1762,
    "start_time": "2023-04-15T14:40:53.526Z"
   },
   {
    "duration": 18782,
    "start_time": "2023-04-15T14:40:55.314Z"
   },
   {
    "duration": 9727,
    "start_time": "2023-04-15T14:41:14.105Z"
   },
   {
    "duration": 155446,
    "start_time": "2023-04-15T14:41:23.837Z"
   },
   {
    "duration": 9788,
    "start_time": "2023-04-15T14:45:31.675Z"
   },
   {
    "duration": 9367,
    "start_time": "2023-04-15T14:46:08.917Z"
   },
   {
    "duration": 137,
    "start_time": "2023-04-15T14:48:24.934Z"
   },
   {
    "duration": 4,
    "start_time": "2023-04-15T14:49:23.011Z"
   },
   {
    "duration": 21,
    "start_time": "2023-04-15T14:49:28.011Z"
   },
   {
    "duration": 1522,
    "start_time": "2023-04-15T14:49:41.490Z"
   },
   {
    "duration": 821,
    "start_time": "2023-04-15T14:49:43.018Z"
   },
   {
    "duration": 4,
    "start_time": "2023-04-15T14:49:43.840Z"
   },
   {
    "duration": 369,
    "start_time": "2023-04-15T14:49:43.845Z"
   },
   {
    "duration": 5,
    "start_time": "2023-04-15T14:49:44.217Z"
   },
   {
    "duration": 9,
    "start_time": "2023-04-15T14:49:44.224Z"
   },
   {
    "duration": 8,
    "start_time": "2023-04-15T14:49:44.235Z"
   },
   {
    "duration": 6,
    "start_time": "2023-04-15T14:49:44.245Z"
   },
   {
    "duration": 30,
    "start_time": "2023-04-15T14:49:44.253Z"
   },
   {
    "duration": 38,
    "start_time": "2023-04-15T14:49:44.287Z"
   },
   {
    "duration": 8,
    "start_time": "2023-04-15T14:49:44.328Z"
   },
   {
    "duration": 22,
    "start_time": "2023-04-15T14:49:44.338Z"
   },
   {
    "duration": 4,
    "start_time": "2023-04-15T14:49:44.362Z"
   },
   {
    "duration": 25,
    "start_time": "2023-04-15T14:49:44.370Z"
   },
   {
    "duration": 17,
    "start_time": "2023-04-15T14:49:44.398Z"
   },
   {
    "duration": 4169,
    "start_time": "2023-04-15T14:49:44.416Z"
   },
   {
    "duration": 11,
    "start_time": "2023-04-15T14:49:48.587Z"
   },
   {
    "duration": 28,
    "start_time": "2023-04-15T14:49:48.600Z"
   },
   {
    "duration": 489,
    "start_time": "2023-04-15T14:49:48.630Z"
   },
   {
    "duration": 5,
    "start_time": "2023-04-15T14:49:49.121Z"
   },
   {
    "duration": 8,
    "start_time": "2023-04-15T14:49:49.127Z"
   },
   {
    "duration": 1383,
    "start_time": "2023-04-15T14:49:49.136Z"
   },
   {
    "duration": 6,
    "start_time": "2023-04-15T14:49:50.522Z"
   },
   {
    "duration": 1328,
    "start_time": "2023-04-15T14:49:50.530Z"
   },
   {
    "duration": 3,
    "start_time": "2023-04-15T14:49:51.860Z"
   },
   {
    "duration": 26,
    "start_time": "2023-04-15T14:49:51.865Z"
   },
   {
    "duration": 29,
    "start_time": "2023-04-15T14:49:51.894Z"
   },
   {
    "duration": 16,
    "start_time": "2023-04-15T14:49:51.925Z"
   },
   {
    "duration": 59,
    "start_time": "2023-04-15T14:49:51.944Z"
   },
   {
    "duration": 7,
    "start_time": "2023-04-15T14:49:52.006Z"
   },
   {
    "duration": 11,
    "start_time": "2023-04-15T14:49:52.014Z"
   },
   {
    "duration": 8,
    "start_time": "2023-04-15T14:49:52.027Z"
   },
   {
    "duration": 111917,
    "start_time": "2023-04-15T14:49:52.036Z"
   },
   {
    "duration": 1958,
    "start_time": "2023-04-15T14:51:43.955Z"
   },
   {
    "duration": 3936,
    "start_time": "2023-04-15T14:51:45.915Z"
   },
   {
    "duration": 166829,
    "start_time": "2023-04-15T14:51:49.892Z"
   },
   {
    "duration": 11024,
    "start_time": "2023-04-15T14:54:36.723Z"
   },
   {
    "duration": 215,
    "start_time": "2023-04-15T14:54:47.757Z"
   },
   {
    "duration": 29,
    "start_time": "2023-04-15T14:57:29.002Z"
   },
   {
    "duration": 22,
    "start_time": "2023-04-15T14:58:07.885Z"
   },
   {
    "duration": 10533,
    "start_time": "2023-04-15T15:09:54.940Z"
   },
   {
    "duration": 6782,
    "start_time": "2023-04-15T15:10:05.483Z"
   },
   {
    "duration": 19,
    "start_time": "2023-04-15T15:10:12.278Z"
   },
   {
    "duration": 775,
    "start_time": "2023-04-15T15:10:12.303Z"
   },
   {
    "duration": 8,
    "start_time": "2023-04-15T15:10:13.084Z"
   },
   {
    "duration": 34,
    "start_time": "2023-04-15T15:10:13.097Z"
   },
   {
    "duration": 115,
    "start_time": "2023-04-15T15:10:13.138Z"
   },
   {
    "duration": 142,
    "start_time": "2023-04-15T15:10:13.259Z"
   },
   {
    "duration": 131,
    "start_time": "2023-04-15T15:10:13.407Z"
   },
   {
    "duration": 80,
    "start_time": "2023-04-15T15:10:13.548Z"
   },
   {
    "duration": 38,
    "start_time": "2023-04-15T15:10:13.637Z"
   },
   {
    "duration": 30,
    "start_time": "2023-04-15T15:10:13.679Z"
   },
   {
    "duration": 67,
    "start_time": "2023-04-15T15:10:13.715Z"
   },
   {
    "duration": 129,
    "start_time": "2023-04-15T15:10:13.786Z"
   },
   {
    "duration": 56,
    "start_time": "2023-04-15T15:10:13.926Z"
   },
   {
    "duration": 4855,
    "start_time": "2023-04-15T15:10:13.985Z"
   },
   {
    "duration": 20,
    "start_time": "2023-04-15T15:10:18.853Z"
   },
   {
    "duration": 147,
    "start_time": "2023-04-15T15:10:18.885Z"
   },
   {
    "duration": 754,
    "start_time": "2023-04-15T15:10:19.038Z"
   },
   {
    "duration": 7,
    "start_time": "2023-04-15T15:10:19.798Z"
   },
   {
    "duration": 134,
    "start_time": "2023-04-15T15:10:19.810Z"
   },
   {
    "duration": 1519,
    "start_time": "2023-04-15T15:10:19.960Z"
   },
   {
    "duration": 12,
    "start_time": "2023-04-15T15:10:21.481Z"
   },
   {
    "duration": 2729,
    "start_time": "2023-04-15T15:10:21.496Z"
   },
   {
    "duration": 19,
    "start_time": "2023-04-15T15:10:24.238Z"
   },
   {
    "duration": 155,
    "start_time": "2023-04-15T15:10:24.274Z"
   },
   {
    "duration": 244,
    "start_time": "2023-04-15T15:10:24.438Z"
   },
   {
    "duration": 93,
    "start_time": "2023-04-15T15:10:24.685Z"
   },
   {
    "duration": 234,
    "start_time": "2023-04-15T15:10:24.781Z"
   },
   {
    "duration": 60,
    "start_time": "2023-04-15T15:10:25.017Z"
   },
   {
    "duration": 105,
    "start_time": "2023-04-15T15:10:25.082Z"
   },
   {
    "duration": 101,
    "start_time": "2023-04-15T15:10:25.189Z"
   },
   {
    "duration": 139389,
    "start_time": "2023-04-15T15:10:25.303Z"
   },
   {
    "duration": 3889,
    "start_time": "2023-04-15T15:12:44.694Z"
   },
   {
    "duration": 3589,
    "start_time": "2023-04-15T15:12:48.585Z"
   },
   {
    "duration": 194699,
    "start_time": "2023-04-15T15:12:52.176Z"
   },
   {
    "duration": 11818,
    "start_time": "2023-04-15T15:16:06.879Z"
   },
   {
    "duration": 0,
    "start_time": "2023-04-15T15:16:18.703Z"
   },
   {
    "duration": 2359,
    "start_time": "2023-04-15T15:17:04.320Z"
   },
   {
    "duration": 5029,
    "start_time": "2023-04-15T15:17:06.682Z"
   },
   {
    "duration": 4,
    "start_time": "2023-04-15T15:17:11.715Z"
   },
   {
    "duration": 480,
    "start_time": "2023-04-15T15:17:11.722Z"
   },
   {
    "duration": 15,
    "start_time": "2023-04-15T15:17:12.205Z"
   },
   {
    "duration": 54,
    "start_time": "2023-04-15T15:17:12.226Z"
   },
   {
    "duration": 97,
    "start_time": "2023-04-15T15:17:12.282Z"
   },
   {
    "duration": 30,
    "start_time": "2023-04-15T15:17:12.382Z"
   },
   {
    "duration": 41,
    "start_time": "2023-04-15T15:17:12.422Z"
   },
   {
    "duration": 80,
    "start_time": "2023-04-15T15:17:12.466Z"
   },
   {
    "duration": 25,
    "start_time": "2023-04-15T15:17:12.559Z"
   },
   {
    "duration": 88,
    "start_time": "2023-04-15T15:17:12.586Z"
   },
   {
    "duration": 5,
    "start_time": "2023-04-15T15:17:12.676Z"
   },
   {
    "duration": 70,
    "start_time": "2023-04-15T15:17:12.684Z"
   },
   {
    "duration": 11,
    "start_time": "2023-04-15T15:17:12.757Z"
   },
   {
    "duration": 4497,
    "start_time": "2023-04-15T15:17:12.770Z"
   },
   {
    "duration": 7,
    "start_time": "2023-04-15T15:17:17.269Z"
   },
   {
    "duration": 46,
    "start_time": "2023-04-15T15:17:17.293Z"
   },
   {
    "duration": 706,
    "start_time": "2023-04-15T15:17:17.344Z"
   },
   {
    "duration": 8,
    "start_time": "2023-04-15T15:17:18.053Z"
   },
   {
    "duration": 74,
    "start_time": "2023-04-15T15:17:18.063Z"
   },
   {
    "duration": 1608,
    "start_time": "2023-04-15T15:17:18.139Z"
   },
   {
    "duration": 16,
    "start_time": "2023-04-15T15:17:19.749Z"
   },
   {
    "duration": 1650,
    "start_time": "2023-04-15T15:17:19.767Z"
   },
   {
    "duration": 11,
    "start_time": "2023-04-15T15:17:21.421Z"
   },
   {
    "duration": 79,
    "start_time": "2023-04-15T15:17:21.437Z"
   },
   {
    "duration": 105,
    "start_time": "2023-04-15T15:17:21.522Z"
   },
   {
    "duration": 116,
    "start_time": "2023-04-15T15:17:21.632Z"
   },
   {
    "duration": 148,
    "start_time": "2023-04-15T15:17:21.750Z"
   },
   {
    "duration": 18,
    "start_time": "2023-04-15T15:17:21.912Z"
   },
   {
    "duration": 61,
    "start_time": "2023-04-15T15:17:21.934Z"
   },
   {
    "duration": 57,
    "start_time": "2023-04-15T15:17:21.997Z"
   },
   {
    "duration": 121843,
    "start_time": "2023-04-15T15:17:22.056Z"
   },
   {
    "duration": 2116,
    "start_time": "2023-04-15T15:19:23.904Z"
   },
   {
    "duration": 1109,
    "start_time": "2023-04-15T15:19:26.026Z"
   },
   {
    "duration": 179130,
    "start_time": "2023-04-15T15:19:27.156Z"
   },
   {
    "duration": 10179,
    "start_time": "2023-04-15T15:22:26.288Z"
   },
   {
    "duration": 204,
    "start_time": "2023-04-15T15:22:36.471Z"
   },
   {
    "duration": 31,
    "start_time": "2023-04-15T15:25:15.917Z"
   },
   {
    "duration": 6,
    "start_time": "2023-04-15T15:31:09.178Z"
   },
   {
    "duration": 83,
    "start_time": "2023-04-15T15:38:14.814Z"
   },
   {
    "duration": 88,
    "start_time": "2023-04-15T15:38:56.025Z"
   },
   {
    "duration": 46,
    "start_time": "2023-04-15T15:39:22.315Z"
   },
   {
    "duration": 59,
    "start_time": "2023-04-15T15:40:59.598Z"
   },
   {
    "duration": 62,
    "start_time": "2023-04-15T15:43:23.031Z"
   },
   {
    "duration": 52,
    "start_time": "2023-04-15T15:43:26.497Z"
   },
   {
    "duration": 71,
    "start_time": "2023-04-15T15:43:42.210Z"
   },
   {
    "duration": 28,
    "start_time": "2023-04-15T15:45:24.719Z"
   },
   {
    "duration": 3466,
    "start_time": "2023-04-15T15:46:53.475Z"
   },
   {
    "duration": 3267,
    "start_time": "2023-04-15T15:47:15.283Z"
   },
   {
    "duration": 10103,
    "start_time": "2023-04-15T15:51:13.564Z"
   },
   {
    "duration": 12087,
    "start_time": "2023-04-15T15:51:25.026Z"
   },
   {
    "duration": 12483,
    "start_time": "2023-04-15T15:51:45.922Z"
   },
   {
    "duration": 2319,
    "start_time": "2023-04-15T16:02:13.310Z"
   },
   {
    "duration": 2433,
    "start_time": "2023-04-15T16:02:15.648Z"
   },
   {
    "duration": 14,
    "start_time": "2023-04-15T16:02:18.084Z"
   },
   {
    "duration": 580,
    "start_time": "2023-04-15T16:02:18.110Z"
   },
   {
    "duration": 7,
    "start_time": "2023-04-15T16:02:18.698Z"
   },
   {
    "duration": 173,
    "start_time": "2023-04-15T16:02:18.710Z"
   },
   {
    "duration": 103,
    "start_time": "2023-04-15T16:02:18.888Z"
   },
   {
    "duration": 80,
    "start_time": "2023-04-15T16:02:18.993Z"
   },
   {
    "duration": 11,
    "start_time": "2023-04-15T16:02:19.075Z"
   },
   {
    "duration": 89,
    "start_time": "2023-04-15T16:02:19.088Z"
   },
   {
    "duration": 95,
    "start_time": "2023-04-15T16:02:19.180Z"
   },
   {
    "duration": 27,
    "start_time": "2023-04-15T16:02:19.278Z"
   },
   {
    "duration": 103,
    "start_time": "2023-04-15T16:02:19.307Z"
   },
   {
    "duration": 89,
    "start_time": "2023-04-15T16:02:19.424Z"
   },
   {
    "duration": 37,
    "start_time": "2023-04-15T16:02:19.528Z"
   },
   {
    "duration": 5590,
    "start_time": "2023-04-15T16:02:19.575Z"
   },
   {
    "duration": 11,
    "start_time": "2023-04-15T16:02:25.167Z"
   },
   {
    "duration": 112,
    "start_time": "2023-04-15T16:02:25.180Z"
   },
   {
    "duration": 1141,
    "start_time": "2023-04-15T16:02:25.294Z"
   },
   {
    "duration": 5,
    "start_time": "2023-04-15T16:02:26.439Z"
   },
   {
    "duration": 8,
    "start_time": "2023-04-15T16:02:26.446Z"
   },
   {
    "duration": 2189,
    "start_time": "2023-04-15T16:02:26.456Z"
   },
   {
    "duration": 19,
    "start_time": "2023-04-15T16:02:28.662Z"
   },
   {
    "duration": 2180,
    "start_time": "2023-04-15T16:02:28.695Z"
   },
   {
    "duration": 22,
    "start_time": "2023-04-15T16:02:30.898Z"
   },
   {
    "duration": 230,
    "start_time": "2023-04-15T16:02:30.937Z"
   },
   {
    "duration": 247,
    "start_time": "2023-04-15T16:02:31.174Z"
   },
   {
    "duration": 167,
    "start_time": "2023-04-15T16:02:31.428Z"
   },
   {
    "duration": 187,
    "start_time": "2023-04-15T16:02:31.600Z"
   },
   {
    "duration": 35,
    "start_time": "2023-04-15T16:02:31.794Z"
   },
   {
    "duration": 91,
    "start_time": "2023-04-15T16:02:31.836Z"
   },
   {
    "duration": 50,
    "start_time": "2023-04-15T16:02:31.934Z"
   },
   {
    "duration": 128042,
    "start_time": "2023-04-15T16:02:32.000Z"
   },
   {
    "duration": 2434,
    "start_time": "2023-04-15T16:04:40.050Z"
   },
   {
    "duration": 1215,
    "start_time": "2023-04-15T16:04:42.486Z"
   },
   {
    "duration": 186865,
    "start_time": "2023-04-15T16:04:43.743Z"
   },
   {
    "duration": 11131,
    "start_time": "2023-04-15T16:07:50.613Z"
   },
   {
    "duration": 223,
    "start_time": "2023-04-15T16:08:01.757Z"
   },
   {
    "duration": 0,
    "start_time": "2023-04-15T16:08:01.983Z"
   },
   {
    "duration": 56,
    "start_time": "2023-04-15T16:08:18.918Z"
   },
   {
    "duration": 2171,
    "start_time": "2023-04-15T16:14:07.908Z"
   },
   {
    "duration": 1113,
    "start_time": "2023-04-15T16:14:10.082Z"
   },
   {
    "duration": 3,
    "start_time": "2023-04-15T16:14:11.202Z"
   },
   {
    "duration": 525,
    "start_time": "2023-04-15T16:14:11.207Z"
   },
   {
    "duration": 13,
    "start_time": "2023-04-15T16:14:11.739Z"
   },
   {
    "duration": 25,
    "start_time": "2023-04-15T16:14:11.759Z"
   },
   {
    "duration": 72,
    "start_time": "2023-04-15T16:14:11.791Z"
   },
   {
    "duration": 43,
    "start_time": "2023-04-15T16:14:11.866Z"
   },
   {
    "duration": 63,
    "start_time": "2023-04-15T16:14:11.911Z"
   },
   {
    "duration": 79,
    "start_time": "2023-04-15T16:14:11.976Z"
   },
   {
    "duration": 36,
    "start_time": "2023-04-15T16:14:12.061Z"
   },
   {
    "duration": 68,
    "start_time": "2023-04-15T16:14:12.107Z"
   },
   {
    "duration": 6,
    "start_time": "2023-04-15T16:14:12.177Z"
   },
   {
    "duration": 53,
    "start_time": "2023-04-15T16:14:12.187Z"
   },
   {
    "duration": 24,
    "start_time": "2023-04-15T16:14:12.243Z"
   },
   {
    "duration": 4405,
    "start_time": "2023-04-15T16:14:12.269Z"
   },
   {
    "duration": 7,
    "start_time": "2023-04-15T16:14:16.677Z"
   },
   {
    "duration": 50,
    "start_time": "2023-04-15T16:14:16.697Z"
   },
   {
    "duration": 601,
    "start_time": "2023-04-15T16:14:16.750Z"
   },
   {
    "duration": 5,
    "start_time": "2023-04-15T16:14:17.355Z"
   },
   {
    "duration": 11,
    "start_time": "2023-04-15T16:14:17.362Z"
   },
   {
    "duration": 1466,
    "start_time": "2023-04-15T16:14:17.375Z"
   },
   {
    "duration": 12,
    "start_time": "2023-04-15T16:14:18.843Z"
   },
   {
    "duration": 1462,
    "start_time": "2023-04-15T16:14:18.860Z"
   },
   {
    "duration": 10,
    "start_time": "2023-04-15T16:14:20.331Z"
   },
   {
    "duration": 11,
    "start_time": "2023-04-15T16:14:20.348Z"
   },
   {
    "duration": 103,
    "start_time": "2023-04-15T16:14:20.361Z"
   },
   {
    "duration": 176,
    "start_time": "2023-04-15T16:14:20.471Z"
   },
   {
    "duration": 88,
    "start_time": "2023-04-15T16:14:20.652Z"
   },
   {
    "duration": 35,
    "start_time": "2023-04-15T16:14:20.742Z"
   },
   {
    "duration": 90,
    "start_time": "2023-04-15T16:14:20.779Z"
   },
   {
    "duration": 50,
    "start_time": "2023-04-15T16:14:20.871Z"
   },
   {
    "duration": 125027,
    "start_time": "2023-04-15T16:14:20.928Z"
   },
   {
    "duration": 2057,
    "start_time": "2023-04-15T16:16:25.962Z"
   },
   {
    "duration": 1347,
    "start_time": "2023-04-15T16:16:28.032Z"
   },
   {
    "duration": 174365,
    "start_time": "2023-04-15T16:16:29.386Z"
   },
   {
    "duration": 10498,
    "start_time": "2023-04-15T16:19:23.753Z"
   },
   {
    "duration": 212,
    "start_time": "2023-04-15T16:19:34.254Z"
   },
   {
    "duration": 0,
    "start_time": "2023-04-15T16:19:34.468Z"
   },
   {
    "duration": 58,
    "start_time": "2023-04-16T07:23:48.832Z"
   },
   {
    "duration": 1788,
    "start_time": "2023-04-16T07:24:01.784Z"
   },
   {
    "duration": 3818,
    "start_time": "2023-04-16T07:24:03.577Z"
   },
   {
    "duration": 3,
    "start_time": "2023-04-16T07:24:07.397Z"
   },
   {
    "duration": 327,
    "start_time": "2023-04-16T07:24:07.401Z"
   },
   {
    "duration": 7,
    "start_time": "2023-04-16T07:24:07.734Z"
   },
   {
    "duration": 43,
    "start_time": "2023-04-16T07:24:07.742Z"
   },
   {
    "duration": 21,
    "start_time": "2023-04-16T07:24:07.787Z"
   },
   {
    "duration": 17,
    "start_time": "2023-04-16T07:24:07.810Z"
   },
   {
    "duration": 30,
    "start_time": "2023-04-16T07:24:07.828Z"
   },
   {
    "duration": 43,
    "start_time": "2023-04-16T07:24:07.860Z"
   },
   {
    "duration": 6,
    "start_time": "2023-04-16T07:24:07.905Z"
   },
   {
    "duration": 24,
    "start_time": "2023-04-16T07:24:07.913Z"
   },
   {
    "duration": 30,
    "start_time": "2023-04-16T07:24:07.940Z"
   },
   {
    "duration": 15,
    "start_time": "2023-04-16T07:24:07.971Z"
   },
   {
    "duration": 12,
    "start_time": "2023-04-16T07:24:07.987Z"
   },
   {
    "duration": 3477,
    "start_time": "2023-04-16T07:24:08.001Z"
   },
   {
    "duration": 4,
    "start_time": "2023-04-16T07:24:11.480Z"
   },
   {
    "duration": 7,
    "start_time": "2023-04-16T07:24:11.485Z"
   },
   {
    "duration": 450,
    "start_time": "2023-04-16T07:24:11.493Z"
   },
   {
    "duration": 6,
    "start_time": "2023-04-16T07:24:11.944Z"
   },
   {
    "duration": 19,
    "start_time": "2023-04-16T07:24:11.951Z"
   },
   {
    "duration": 1132,
    "start_time": "2023-04-16T07:24:11.971Z"
   },
   {
    "duration": 4,
    "start_time": "2023-04-16T07:24:13.105Z"
   },
   {
    "duration": 1261,
    "start_time": "2023-04-16T07:24:13.111Z"
   },
   {
    "duration": 4,
    "start_time": "2023-04-16T07:24:14.374Z"
   },
   {
    "duration": 33,
    "start_time": "2023-04-16T07:24:14.379Z"
   },
   {
    "duration": 52,
    "start_time": "2023-04-16T07:24:14.413Z"
   },
   {
    "duration": 14,
    "start_time": "2023-04-16T07:24:14.469Z"
   },
   {
    "duration": 48,
    "start_time": "2023-04-16T07:24:14.484Z"
   },
   {
    "duration": 13,
    "start_time": "2023-04-16T07:24:14.534Z"
   },
   {
    "duration": 26,
    "start_time": "2023-04-16T07:24:14.552Z"
   },
   {
    "duration": 16,
    "start_time": "2023-04-16T07:24:14.580Z"
   },
   {
    "duration": 92370,
    "start_time": "2023-04-16T07:24:14.597Z"
   },
   {
    "duration": 1587,
    "start_time": "2023-04-16T07:25:46.969Z"
   },
   {
    "duration": 1287,
    "start_time": "2023-04-16T07:25:48.558Z"
   },
   {
    "duration": 134061,
    "start_time": "2023-04-16T07:25:49.847Z"
   },
   {
    "duration": 8448,
    "start_time": "2023-04-16T07:28:03.910Z"
   },
   {
    "duration": 128,
    "start_time": "2023-04-16T07:28:12.359Z"
   },
   {
    "duration": 0,
    "start_time": "2023-04-16T07:28:12.489Z"
   },
   {
    "duration": 17,
    "start_time": "2023-04-16T07:28:30.216Z"
   },
   {
    "duration": 12,
    "start_time": "2023-04-16T07:31:25.864Z"
   },
   {
    "duration": 10,
    "start_time": "2023-04-16T07:31:35.603Z"
   },
   {
    "duration": 7624,
    "start_time": "2023-04-16T07:35:52.673Z"
   },
   {
    "duration": 1529,
    "start_time": "2023-04-16T07:36:24.081Z"
   },
   {
    "duration": 759,
    "start_time": "2023-04-16T07:36:25.612Z"
   },
   {
    "duration": 5,
    "start_time": "2023-04-16T07:36:26.373Z"
   },
   {
    "duration": 385,
    "start_time": "2023-04-16T07:36:26.380Z"
   },
   {
    "duration": 4,
    "start_time": "2023-04-16T07:36:26.774Z"
   },
   {
    "duration": 11,
    "start_time": "2023-04-16T07:36:26.780Z"
   },
   {
    "duration": 8,
    "start_time": "2023-04-16T07:36:26.792Z"
   },
   {
    "duration": 10,
    "start_time": "2023-04-16T07:36:26.802Z"
   },
   {
    "duration": 14,
    "start_time": "2023-04-16T07:36:26.814Z"
   },
   {
    "duration": 56,
    "start_time": "2023-04-16T07:36:26.831Z"
   },
   {
    "duration": 8,
    "start_time": "2023-04-16T07:36:26.888Z"
   },
   {
    "duration": 14,
    "start_time": "2023-04-16T07:36:26.897Z"
   },
   {
    "duration": 4,
    "start_time": "2023-04-16T07:36:26.913Z"
   },
   {
    "duration": 22,
    "start_time": "2023-04-16T07:36:26.919Z"
   },
   {
    "duration": 12,
    "start_time": "2023-04-16T07:36:26.952Z"
   },
   {
    "duration": 3843,
    "start_time": "2023-04-16T07:36:26.966Z"
   },
   {
    "duration": 7,
    "start_time": "2023-04-16T07:36:30.811Z"
   },
   {
    "duration": 80,
    "start_time": "2023-04-16T07:36:30.834Z"
   },
   {
    "duration": 664,
    "start_time": "2023-04-16T07:36:30.916Z"
   },
   {
    "duration": 5,
    "start_time": "2023-04-16T07:36:31.582Z"
   },
   {
    "duration": 82,
    "start_time": "2023-04-16T07:36:31.589Z"
   },
   {
    "duration": 1170,
    "start_time": "2023-04-16T07:36:31.673Z"
   },
   {
    "duration": 9,
    "start_time": "2023-04-16T07:36:32.845Z"
   },
   {
    "duration": 1434,
    "start_time": "2023-04-16T07:36:32.855Z"
   },
   {
    "duration": 3,
    "start_time": "2023-04-16T07:36:34.291Z"
   },
   {
    "duration": 13,
    "start_time": "2023-04-16T07:36:34.296Z"
   },
   {
    "duration": 9,
    "start_time": "2023-04-16T07:36:34.310Z"
   },
   {
    "duration": 29,
    "start_time": "2023-04-16T07:36:34.338Z"
   },
   {
    "duration": 40,
    "start_time": "2023-04-16T07:36:34.372Z"
   },
   {
    "duration": 5,
    "start_time": "2023-04-16T07:36:34.414Z"
   },
   {
    "duration": 11,
    "start_time": "2023-04-16T07:36:34.420Z"
   },
   {
    "duration": 45,
    "start_time": "2023-04-16T07:36:34.433Z"
   },
   {
    "duration": 105471,
    "start_time": "2023-04-16T07:36:34.480Z"
   },
   {
    "duration": 1617,
    "start_time": "2023-04-16T07:38:19.956Z"
   },
   {
    "duration": 2477,
    "start_time": "2023-04-16T07:38:21.575Z"
   },
   {
    "duration": 147005,
    "start_time": "2023-04-16T07:38:24.057Z"
   },
   {
    "duration": 8349,
    "start_time": "2023-04-16T07:40:51.065Z"
   },
   {
    "duration": 138,
    "start_time": "2023-04-16T07:40:59.416Z"
   },
   {
    "duration": 0,
    "start_time": "2023-04-16T07:40:59.557Z"
   },
   {
    "duration": 0,
    "start_time": "2023-04-16T07:40:59.558Z"
   },
   {
    "duration": 17,
    "start_time": "2023-04-16T07:41:37.108Z"
   },
   {
    "duration": 15,
    "start_time": "2023-04-16T07:46:58.860Z"
   },
   {
    "duration": 11,
    "start_time": "2023-04-16T07:49:29.882Z"
   },
   {
    "duration": 4,
    "start_time": "2023-04-16T07:51:03.727Z"
   },
   {
    "duration": 3524,
    "start_time": "2023-04-16T07:51:06.745Z"
   },
   {
    "duration": 6,
    "start_time": "2023-04-16T07:51:20.860Z"
   },
   {
    "duration": 3408,
    "start_time": "2023-04-16T07:51:21.408Z"
   },
   {
    "duration": 6,
    "start_time": "2023-04-16T07:51:45.324Z"
   },
   {
    "duration": 1483,
    "start_time": "2023-04-16T07:51:46.090Z"
   },
   {
    "duration": 1183,
    "start_time": "2023-04-16T07:52:16.599Z"
   },
   {
    "duration": 725,
    "start_time": "2023-04-16T07:52:17.784Z"
   },
   {
    "duration": 3,
    "start_time": "2023-04-16T07:52:18.511Z"
   },
   {
    "duration": 329,
    "start_time": "2023-04-16T07:52:18.515Z"
   },
   {
    "duration": 5,
    "start_time": "2023-04-16T07:52:18.849Z"
   },
   {
    "duration": 18,
    "start_time": "2023-04-16T07:52:18.855Z"
   },
   {
    "duration": 6,
    "start_time": "2023-04-16T07:52:18.874Z"
   },
   {
    "duration": 6,
    "start_time": "2023-04-16T07:52:18.882Z"
   },
   {
    "duration": 16,
    "start_time": "2023-04-16T07:52:18.890Z"
   },
   {
    "duration": 22,
    "start_time": "2023-04-16T07:52:18.908Z"
   },
   {
    "duration": 21,
    "start_time": "2023-04-16T07:52:18.932Z"
   },
   {
    "duration": 28,
    "start_time": "2023-04-16T07:52:18.955Z"
   },
   {
    "duration": 5,
    "start_time": "2023-04-16T07:52:18.984Z"
   },
   {
    "duration": 12,
    "start_time": "2023-04-16T07:52:18.990Z"
   },
   {
    "duration": 5,
    "start_time": "2023-04-16T07:52:19.003Z"
   },
   {
    "duration": 3446,
    "start_time": "2023-04-16T07:52:19.010Z"
   },
   {
    "duration": 7,
    "start_time": "2023-04-16T07:52:22.457Z"
   },
   {
    "duration": 11,
    "start_time": "2023-04-16T07:52:22.466Z"
   },
   {
    "duration": 473,
    "start_time": "2023-04-16T07:52:22.478Z"
   },
   {
    "duration": 7,
    "start_time": "2023-04-16T07:52:22.955Z"
   },
   {
    "duration": 4,
    "start_time": "2023-04-16T07:52:27.004Z"
   },
   {
    "duration": 1117,
    "start_time": "2023-04-16T07:52:28.090Z"
   },
   {
    "duration": 89,
    "start_time": "2023-04-16T07:52:29.210Z"
   },
   {
    "duration": 1186,
    "start_time": "2023-04-16T07:52:29.300Z"
   },
   {
    "duration": 3,
    "start_time": "2023-04-16T07:52:30.488Z"
   },
   {
    "duration": 38,
    "start_time": "2023-04-16T07:52:30.493Z"
   },
   {
    "duration": 77,
    "start_time": "2023-04-16T07:52:30.533Z"
   },
   {
    "duration": 19,
    "start_time": "2023-04-16T07:52:30.612Z"
   },
   {
    "duration": 75,
    "start_time": "2023-04-16T07:52:30.632Z"
   },
   {
    "duration": 8,
    "start_time": "2023-04-16T07:52:30.709Z"
   },
   {
    "duration": 77,
    "start_time": "2023-04-16T07:52:30.718Z"
   },
   {
    "duration": 40,
    "start_time": "2023-04-16T07:52:30.797Z"
   },
   {
    "duration": 107491,
    "start_time": "2023-04-16T07:52:30.844Z"
   },
   {
    "duration": 1699,
    "start_time": "2023-04-16T07:54:18.337Z"
   },
   {
    "duration": 1818,
    "start_time": "2023-04-16T07:54:20.039Z"
   },
   {
    "duration": 148176,
    "start_time": "2023-04-16T07:54:21.865Z"
   },
   {
    "duration": 8450,
    "start_time": "2023-04-16T07:56:50.047Z"
   },
   {
    "duration": 1278,
    "start_time": "2023-04-16T08:00:56.757Z"
   },
   {
    "duration": 729,
    "start_time": "2023-04-16T08:00:58.039Z"
   },
   {
    "duration": 4,
    "start_time": "2023-04-16T08:00:58.769Z"
   },
   {
    "duration": 339,
    "start_time": "2023-04-16T08:00:58.775Z"
   },
   {
    "duration": 3,
    "start_time": "2023-04-16T08:00:59.115Z"
   },
   {
    "duration": 7,
    "start_time": "2023-04-16T08:00:59.120Z"
   },
   {
    "duration": 11,
    "start_time": "2023-04-16T08:00:59.139Z"
   },
   {
    "duration": 12,
    "start_time": "2023-04-16T08:00:59.151Z"
   },
   {
    "duration": 10,
    "start_time": "2023-04-16T08:00:59.164Z"
   },
   {
    "duration": 21,
    "start_time": "2023-04-16T08:00:59.176Z"
   },
   {
    "duration": 8,
    "start_time": "2023-04-16T08:00:59.199Z"
   },
   {
    "duration": 15,
    "start_time": "2023-04-16T08:00:59.208Z"
   },
   {
    "duration": 3,
    "start_time": "2023-04-16T08:00:59.225Z"
   },
   {
    "duration": 13,
    "start_time": "2023-04-16T08:00:59.237Z"
   },
   {
    "duration": 5,
    "start_time": "2023-04-16T08:00:59.252Z"
   },
   {
    "duration": 3297,
    "start_time": "2023-04-16T08:00:59.258Z"
   },
   {
    "duration": 5,
    "start_time": "2023-04-16T08:01:02.556Z"
   },
   {
    "duration": 16,
    "start_time": "2023-04-16T08:01:02.562Z"
   },
   {
    "duration": 471,
    "start_time": "2023-04-16T08:01:02.579Z"
   },
   {
    "duration": 4,
    "start_time": "2023-04-16T08:01:03.052Z"
   },
   {
    "duration": 16,
    "start_time": "2023-04-16T08:01:03.057Z"
   },
   {
    "duration": 1340,
    "start_time": "2023-04-16T08:01:03.075Z"
   },
   {
    "duration": 80,
    "start_time": "2023-04-16T08:01:04.417Z"
   },
   {
    "duration": 1208,
    "start_time": "2023-04-16T08:01:04.499Z"
   },
   {
    "duration": 3,
    "start_time": "2023-04-16T08:01:05.709Z"
   },
   {
    "duration": 7,
    "start_time": "2023-04-16T08:01:05.714Z"
   },
   {
    "duration": 15,
    "start_time": "2023-04-16T08:01:05.723Z"
   },
   {
    "duration": 9,
    "start_time": "2023-04-16T08:01:05.744Z"
   },
   {
    "duration": 40,
    "start_time": "2023-04-16T08:01:05.755Z"
   },
   {
    "duration": 3,
    "start_time": "2023-04-16T08:01:05.796Z"
   },
   {
    "duration": 11,
    "start_time": "2023-04-16T08:01:05.801Z"
   },
   {
    "duration": 9,
    "start_time": "2023-04-16T08:01:05.814Z"
   },
   {
    "duration": 14,
    "start_time": "2023-04-16T08:01:05.824Z"
   },
   {
    "duration": 34,
    "start_time": "2023-04-16T08:01:05.840Z"
   },
   {
    "duration": 101362,
    "start_time": "2023-04-16T08:01:05.876Z"
   },
   {
    "duration": 1544,
    "start_time": "2023-04-16T08:02:47.247Z"
   },
   {
    "duration": 1045,
    "start_time": "2023-04-16T08:02:48.793Z"
   },
   {
    "duration": 138522,
    "start_time": "2023-04-16T08:02:49.840Z"
   },
   {
    "duration": 8014,
    "start_time": "2023-04-16T08:05:08.364Z"
   },
   {
    "duration": 128,
    "start_time": "2023-04-16T08:05:16.381Z"
   },
   {
    "duration": 1216,
    "start_time": "2023-04-16T08:10:13.405Z"
   },
   {
    "duration": 781,
    "start_time": "2023-04-16T08:10:14.624Z"
   },
   {
    "duration": 3,
    "start_time": "2023-04-16T08:10:15.407Z"
   },
   {
    "duration": 364,
    "start_time": "2023-04-16T08:10:15.413Z"
   },
   {
    "duration": 3,
    "start_time": "2023-04-16T08:10:15.779Z"
   },
   {
    "duration": 26,
    "start_time": "2023-04-16T08:10:15.784Z"
   },
   {
    "duration": 13,
    "start_time": "2023-04-16T08:10:15.811Z"
   },
   {
    "duration": 28,
    "start_time": "2023-04-16T08:10:15.825Z"
   },
   {
    "duration": 30,
    "start_time": "2023-04-16T08:10:15.855Z"
   },
   {
    "duration": 36,
    "start_time": "2023-04-16T08:10:15.889Z"
   },
   {
    "duration": 13,
    "start_time": "2023-04-16T08:10:15.928Z"
   },
   {
    "duration": 31,
    "start_time": "2023-04-16T08:10:15.943Z"
   },
   {
    "duration": 21,
    "start_time": "2023-04-16T08:10:15.975Z"
   },
   {
    "duration": 18,
    "start_time": "2023-04-16T08:10:15.997Z"
   },
   {
    "duration": 34,
    "start_time": "2023-04-16T08:10:16.017Z"
   },
   {
    "duration": 3302,
    "start_time": "2023-04-16T08:10:16.053Z"
   },
   {
    "duration": 5,
    "start_time": "2023-04-16T08:10:19.356Z"
   },
   {
    "duration": 24,
    "start_time": "2023-04-16T08:10:19.362Z"
   },
   {
    "duration": 452,
    "start_time": "2023-04-16T08:10:19.387Z"
   },
   {
    "duration": 7,
    "start_time": "2023-04-16T08:10:19.850Z"
   },
   {
    "duration": 22,
    "start_time": "2023-04-16T08:10:19.859Z"
   },
   {
    "duration": 1163,
    "start_time": "2023-04-16T08:10:19.883Z"
   },
   {
    "duration": 75,
    "start_time": "2023-04-16T08:10:21.047Z"
   },
   {
    "duration": 1248,
    "start_time": "2023-04-16T08:10:21.123Z"
   },
   {
    "duration": 3,
    "start_time": "2023-04-16T08:10:22.373Z"
   },
   {
    "duration": 15,
    "start_time": "2023-04-16T08:10:22.377Z"
   },
   {
    "duration": 7,
    "start_time": "2023-04-16T08:10:22.393Z"
   },
   {
    "duration": 4,
    "start_time": "2023-04-16T08:10:22.403Z"
   },
   {
    "duration": 46,
    "start_time": "2023-04-16T08:10:22.408Z"
   },
   {
    "duration": 4,
    "start_time": "2023-04-16T08:10:22.455Z"
   },
   {
    "duration": 13,
    "start_time": "2023-04-16T08:10:22.460Z"
   },
   {
    "duration": 10,
    "start_time": "2023-04-16T08:10:22.474Z"
   },
   {
    "duration": 98872,
    "start_time": "2023-04-16T08:10:22.485Z"
   },
   {
    "duration": 1710,
    "start_time": "2023-04-16T08:12:01.358Z"
   },
   {
    "duration": 1268,
    "start_time": "2023-04-16T08:12:03.070Z"
   },
   {
    "duration": 139026,
    "start_time": "2023-04-16T08:12:04.340Z"
   },
   {
    "duration": 8009,
    "start_time": "2023-04-16T08:14:23.368Z"
   },
   {
    "duration": 1255,
    "start_time": "2023-04-16T09:15:48.423Z"
   },
   {
    "duration": 688,
    "start_time": "2023-04-16T09:15:49.679Z"
   },
   {
    "duration": 3,
    "start_time": "2023-04-16T09:15:50.369Z"
   },
   {
    "duration": 307,
    "start_time": "2023-04-16T09:15:50.375Z"
   },
   {
    "duration": 4,
    "start_time": "2023-04-16T09:15:50.683Z"
   },
   {
    "duration": 8,
    "start_time": "2023-04-16T09:15:50.688Z"
   },
   {
    "duration": 5,
    "start_time": "2023-04-16T09:15:50.697Z"
   },
   {
    "duration": 7,
    "start_time": "2023-04-16T09:15:50.703Z"
   },
   {
    "duration": 7,
    "start_time": "2023-04-16T09:15:50.712Z"
   },
   {
    "duration": 20,
    "start_time": "2023-04-16T09:15:50.735Z"
   },
   {
    "duration": 7,
    "start_time": "2023-04-16T09:15:50.757Z"
   },
   {
    "duration": 14,
    "start_time": "2023-04-16T09:15:50.766Z"
   },
   {
    "duration": 4,
    "start_time": "2023-04-16T09:15:50.782Z"
   },
   {
    "duration": 13,
    "start_time": "2023-04-16T09:15:50.787Z"
   },
   {
    "duration": 34,
    "start_time": "2023-04-16T09:15:50.802Z"
   },
   {
    "duration": 3099,
    "start_time": "2023-04-16T09:15:50.838Z"
   },
   {
    "duration": 5,
    "start_time": "2023-04-16T09:15:53.939Z"
   },
   {
    "duration": 6,
    "start_time": "2023-04-16T09:15:53.945Z"
   },
   {
    "duration": 378,
    "start_time": "2023-04-16T09:15:53.952Z"
   },
   {
    "duration": 3,
    "start_time": "2023-04-16T09:15:54.334Z"
   },
   {
    "duration": 10,
    "start_time": "2023-04-16T09:15:54.339Z"
   },
   {
    "duration": 1176,
    "start_time": "2023-04-16T09:15:54.351Z"
   },
   {
    "duration": 81,
    "start_time": "2023-04-16T09:15:55.530Z"
   },
   {
    "duration": 1160,
    "start_time": "2023-04-16T09:15:55.613Z"
   },
   {
    "duration": 3,
    "start_time": "2023-04-16T09:15:56.775Z"
   },
   {
    "duration": 27,
    "start_time": "2023-04-16T09:15:56.780Z"
   },
   {
    "duration": 35,
    "start_time": "2023-04-16T09:15:56.809Z"
   },
   {
    "duration": 32,
    "start_time": "2023-04-16T09:15:56.849Z"
   },
   {
    "duration": 66,
    "start_time": "2023-04-16T09:15:56.882Z"
   },
   {
    "duration": 5,
    "start_time": "2023-04-16T09:15:56.949Z"
   },
   {
    "duration": 24,
    "start_time": "2023-04-16T09:15:56.956Z"
   },
   {
    "duration": 30,
    "start_time": "2023-04-16T09:15:56.982Z"
   },
   {
    "duration": 95520,
    "start_time": "2023-04-16T09:15:57.014Z"
   },
   {
    "duration": 1467,
    "start_time": "2023-04-16T09:17:32.536Z"
   },
   {
    "duration": 832,
    "start_time": "2023-04-16T09:17:34.005Z"
   },
   {
    "duration": 130654,
    "start_time": "2023-04-16T09:17:34.840Z"
   },
   {
    "duration": 7594,
    "start_time": "2023-04-16T09:19:45.496Z"
   },
   {
    "duration": 114,
    "start_time": "2023-04-16T09:19:53.092Z"
   },
   {
    "duration": 18,
    "start_time": "2023-04-16T09:22:10.572Z"
   },
   {
    "duration": 17,
    "start_time": "2023-04-16T09:22:16.817Z"
   },
   {
    "duration": 18,
    "start_time": "2023-04-16T09:22:24.237Z"
   },
   {
    "duration": 19,
    "start_time": "2023-04-16T09:22:36.321Z"
   },
   {
    "duration": 12,
    "start_time": "2023-04-16T09:22:39.971Z"
   },
   {
    "duration": 10,
    "start_time": "2023-04-16T09:22:46.507Z"
   },
   {
    "duration": 18,
    "start_time": "2023-04-16T09:22:51.221Z"
   },
   {
    "duration": 7871,
    "start_time": "2023-04-16T09:25:54.373Z"
   },
   {
    "duration": 7731,
    "start_time": "2023-04-16T09:26:09.209Z"
   },
   {
    "duration": 1345,
    "start_time": "2023-04-16T09:26:30.744Z"
   },
   {
    "duration": 716,
    "start_time": "2023-04-16T09:26:32.091Z"
   },
   {
    "duration": 4,
    "start_time": "2023-04-16T09:26:32.809Z"
   },
   {
    "duration": 332,
    "start_time": "2023-04-16T09:26:32.816Z"
   },
   {
    "duration": 4,
    "start_time": "2023-04-16T09:26:33.149Z"
   },
   {
    "duration": 11,
    "start_time": "2023-04-16T09:26:33.155Z"
   },
   {
    "duration": 5,
    "start_time": "2023-04-16T09:26:33.168Z"
   },
   {
    "duration": 10,
    "start_time": "2023-04-16T09:26:33.175Z"
   },
   {
    "duration": 8,
    "start_time": "2023-04-16T09:26:33.187Z"
   },
   {
    "duration": 38,
    "start_time": "2023-04-16T09:26:33.197Z"
   },
   {
    "duration": 8,
    "start_time": "2023-04-16T09:26:33.237Z"
   },
   {
    "duration": 19,
    "start_time": "2023-04-16T09:26:33.247Z"
   },
   {
    "duration": 4,
    "start_time": "2023-04-16T09:26:33.268Z"
   },
   {
    "duration": 29,
    "start_time": "2023-04-16T09:26:33.274Z"
   },
   {
    "duration": 5,
    "start_time": "2023-04-16T09:26:33.305Z"
   },
   {
    "duration": 3240,
    "start_time": "2023-04-16T09:26:33.312Z"
   },
   {
    "duration": 6,
    "start_time": "2023-04-16T09:26:36.554Z"
   },
   {
    "duration": 5,
    "start_time": "2023-04-16T09:26:36.562Z"
   },
   {
    "duration": 455,
    "start_time": "2023-04-16T09:26:36.569Z"
   },
   {
    "duration": 8,
    "start_time": "2023-04-16T09:26:37.026Z"
   },
   {
    "duration": 10,
    "start_time": "2023-04-16T09:26:37.036Z"
   },
   {
    "duration": 1101,
    "start_time": "2023-04-16T09:26:37.047Z"
   },
   {
    "duration": 77,
    "start_time": "2023-04-16T09:26:38.150Z"
   },
   {
    "duration": 1184,
    "start_time": "2023-04-16T09:26:38.229Z"
   },
   {
    "duration": 4,
    "start_time": "2023-04-16T09:26:39.414Z"
   },
   {
    "duration": 15,
    "start_time": "2023-04-16T09:26:39.419Z"
   },
   {
    "duration": 14,
    "start_time": "2023-04-16T09:26:39.436Z"
   },
   {
    "duration": 7,
    "start_time": "2023-04-16T09:26:39.452Z"
   },
   {
    "duration": 48,
    "start_time": "2023-04-16T09:26:39.460Z"
   },
   {
    "duration": 4,
    "start_time": "2023-04-16T09:26:39.510Z"
   },
   {
    "duration": 13,
    "start_time": "2023-04-16T09:26:39.516Z"
   },
   {
    "duration": 22,
    "start_time": "2023-04-16T09:26:39.531Z"
   },
   {
    "duration": 95398,
    "start_time": "2023-04-16T09:26:39.555Z"
   },
   {
    "duration": 1633,
    "start_time": "2023-04-16T09:28:14.955Z"
   },
   {
    "duration": 1052,
    "start_time": "2023-04-16T09:28:16.589Z"
   },
   {
    "duration": 140354,
    "start_time": "2023-04-16T09:28:17.646Z"
   },
   {
    "duration": 8318,
    "start_time": "2023-04-16T09:30:38.002Z"
   },
   {
    "duration": 133,
    "start_time": "2023-04-16T09:30:46.322Z"
   },
   {
    "duration": 1299,
    "start_time": "2023-04-16T09:47:02.903Z"
   },
   {
    "duration": 780,
    "start_time": "2023-04-16T09:47:04.203Z"
   },
   {
    "duration": 3,
    "start_time": "2023-04-16T09:47:04.985Z"
   },
   {
    "duration": 349,
    "start_time": "2023-04-16T09:47:04.990Z"
   },
   {
    "duration": 6,
    "start_time": "2023-04-16T09:47:05.344Z"
   },
   {
    "duration": 25,
    "start_time": "2023-04-16T09:47:05.355Z"
   },
   {
    "duration": 13,
    "start_time": "2023-04-16T09:47:05.381Z"
   },
   {
    "duration": 25,
    "start_time": "2023-04-16T09:47:05.396Z"
   },
   {
    "duration": 22,
    "start_time": "2023-04-16T09:47:05.423Z"
   },
   {
    "duration": 33,
    "start_time": "2023-04-16T09:47:05.452Z"
   },
   {
    "duration": 15,
    "start_time": "2023-04-16T09:47:05.487Z"
   },
   {
    "duration": 20,
    "start_time": "2023-04-16T09:47:05.503Z"
   },
   {
    "duration": 6,
    "start_time": "2023-04-16T09:47:05.524Z"
   },
   {
    "duration": 36,
    "start_time": "2023-04-16T09:47:05.531Z"
   },
   {
    "duration": 13,
    "start_time": "2023-04-16T09:47:05.569Z"
   },
   {
    "duration": 3563,
    "start_time": "2023-04-16T09:47:05.583Z"
   },
   {
    "duration": 5,
    "start_time": "2023-04-16T09:47:09.147Z"
   },
   {
    "duration": 13,
    "start_time": "2023-04-16T09:47:09.154Z"
   },
   {
    "duration": 380,
    "start_time": "2023-04-16T09:47:09.169Z"
   },
   {
    "duration": 5,
    "start_time": "2023-04-16T09:47:09.550Z"
   },
   {
    "duration": 8,
    "start_time": "2023-04-16T09:47:09.556Z"
   },
   {
    "duration": 1231,
    "start_time": "2023-04-16T09:47:09.566Z"
   },
   {
    "duration": 77,
    "start_time": "2023-04-16T09:47:10.800Z"
   },
   {
    "duration": 1186,
    "start_time": "2023-04-16T09:47:10.878Z"
   },
   {
    "duration": 1,
    "start_time": "2023-04-16T09:47:12.066Z"
   },
   {
    "duration": 5,
    "start_time": "2023-04-16T09:47:12.069Z"
   },
   {
    "duration": 10,
    "start_time": "2023-04-16T09:47:12.076Z"
   },
   {
    "duration": 4,
    "start_time": "2023-04-16T09:47:12.089Z"
   },
   {
    "duration": 5,
    "start_time": "2023-04-16T09:47:12.095Z"
   },
   {
    "duration": 51,
    "start_time": "2023-04-16T09:47:12.102Z"
   },
   {
    "duration": 4,
    "start_time": "2023-04-16T09:47:12.155Z"
   },
   {
    "duration": 10,
    "start_time": "2023-04-16T09:47:12.160Z"
   },
   {
    "duration": 12,
    "start_time": "2023-04-16T09:47:12.172Z"
   },
   {
    "duration": 99873,
    "start_time": "2023-04-16T09:47:12.186Z"
   },
   {
    "duration": 1539,
    "start_time": "2023-04-16T09:48:52.061Z"
   },
   {
    "duration": 941,
    "start_time": "2023-04-16T09:48:53.602Z"
   },
   {
    "duration": 138622,
    "start_time": "2023-04-16T09:48:54.545Z"
   },
   {
    "duration": 119,
    "start_time": "2023-04-16T09:51:13.168Z"
   },
   {
    "duration": 0,
    "start_time": "2023-04-16T09:51:13.288Z"
   },
   {
    "duration": 8183,
    "start_time": "2023-04-16T09:54:43.410Z"
   },
   {
    "duration": 7912,
    "start_time": "2023-04-16T09:56:09.605Z"
   },
   {
    "duration": 11,
    "start_time": "2023-04-16T09:56:53.282Z"
   },
   {
    "duration": 8184,
    "start_time": "2023-04-16T09:57:10.347Z"
   },
   {
    "duration": 8,
    "start_time": "2023-04-16T09:59:26.749Z"
   },
   {
    "duration": 9,
    "start_time": "2023-04-16T09:59:39.255Z"
   },
   {
    "duration": 8,
    "start_time": "2023-04-16T09:59:43.325Z"
   },
   {
    "duration": 37,
    "start_time": "2023-04-16T10:00:20.780Z"
   },
   {
    "duration": 8577,
    "start_time": "2023-04-16T10:01:31.146Z"
   },
   {
    "duration": 8306,
    "start_time": "2023-04-16T10:03:10.282Z"
   },
   {
    "duration": 7999,
    "start_time": "2023-04-16T10:03:50.699Z"
   },
   {
    "duration": 1286,
    "start_time": "2023-04-16T10:05:23.831Z"
   },
   {
    "duration": 727,
    "start_time": "2023-04-16T10:05:25.119Z"
   },
   {
    "duration": 4,
    "start_time": "2023-04-16T10:05:25.847Z"
   },
   {
    "duration": 312,
    "start_time": "2023-04-16T10:05:25.852Z"
   },
   {
    "duration": 3,
    "start_time": "2023-04-16T10:05:26.166Z"
   },
   {
    "duration": 9,
    "start_time": "2023-04-16T10:05:26.170Z"
   },
   {
    "duration": 5,
    "start_time": "2023-04-16T10:05:26.180Z"
   },
   {
    "duration": 9,
    "start_time": "2023-04-16T10:05:26.186Z"
   },
   {
    "duration": 10,
    "start_time": "2023-04-16T10:05:26.197Z"
   },
   {
    "duration": 29,
    "start_time": "2023-04-16T10:05:26.210Z"
   },
   {
    "duration": 11,
    "start_time": "2023-04-16T10:05:26.244Z"
   },
   {
    "duration": 9,
    "start_time": "2023-04-16T10:05:26.257Z"
   },
   {
    "duration": 21,
    "start_time": "2023-04-16T10:05:26.267Z"
   },
   {
    "duration": 11,
    "start_time": "2023-04-16T10:05:26.289Z"
   },
   {
    "duration": 4,
    "start_time": "2023-04-16T10:05:26.302Z"
   },
   {
    "duration": 3759,
    "start_time": "2023-04-16T10:05:26.307Z"
   },
   {
    "duration": 5,
    "start_time": "2023-04-16T10:05:30.068Z"
   },
   {
    "duration": 36,
    "start_time": "2023-04-16T10:05:30.075Z"
   },
   {
    "duration": 448,
    "start_time": "2023-04-16T10:05:30.113Z"
   },
   {
    "duration": 3,
    "start_time": "2023-04-16T10:05:30.563Z"
   },
   {
    "duration": 106,
    "start_time": "2023-04-16T10:05:30.568Z"
   },
   {
    "duration": 1335,
    "start_time": "2023-04-16T10:05:30.676Z"
   },
   {
    "duration": 84,
    "start_time": "2023-04-16T10:05:32.013Z"
   },
   {
    "duration": 1302,
    "start_time": "2023-04-16T10:05:32.099Z"
   },
   {
    "duration": 3,
    "start_time": "2023-04-16T10:05:33.403Z"
   },
   {
    "duration": 14,
    "start_time": "2023-04-16T10:05:33.407Z"
   },
   {
    "duration": 13,
    "start_time": "2023-04-16T10:05:33.422Z"
   },
   {
    "duration": 52,
    "start_time": "2023-04-16T10:05:33.440Z"
   },
   {
    "duration": 5,
    "start_time": "2023-04-16T10:05:33.493Z"
   },
   {
    "duration": 18,
    "start_time": "2023-04-16T10:05:33.499Z"
   },
   {
    "duration": 8,
    "start_time": "2023-04-16T10:05:33.519Z"
   },
   {
    "duration": 101038,
    "start_time": "2023-04-16T10:05:33.529Z"
   },
   {
    "duration": 1650,
    "start_time": "2023-04-16T10:07:14.569Z"
   },
   {
    "duration": 822,
    "start_time": "2023-04-16T10:07:16.222Z"
   },
   {
    "duration": 139681,
    "start_time": "2023-04-16T10:07:17.049Z"
   },
   {
    "duration": 8419,
    "start_time": "2023-04-16T10:09:36.733Z"
   },
   {
    "duration": 0,
    "start_time": "2023-04-16T10:09:45.154Z"
   },
   {
    "duration": 1289,
    "start_time": "2023-04-16T10:11:29.206Z"
   },
   {
    "duration": 856,
    "start_time": "2023-04-16T10:11:30.498Z"
   },
   {
    "duration": 4,
    "start_time": "2023-04-16T10:11:31.357Z"
   },
   {
    "duration": 520,
    "start_time": "2023-04-16T10:11:31.363Z"
   },
   {
    "duration": 5,
    "start_time": "2023-04-16T10:11:31.885Z"
   },
   {
    "duration": 81,
    "start_time": "2023-04-16T10:11:31.892Z"
   },
   {
    "duration": 44,
    "start_time": "2023-04-16T10:11:31.974Z"
   },
   {
    "duration": 36,
    "start_time": "2023-04-16T10:11:32.019Z"
   },
   {
    "duration": 92,
    "start_time": "2023-04-16T10:11:32.058Z"
   },
   {
    "duration": 28,
    "start_time": "2023-04-16T10:11:32.153Z"
   },
   {
    "duration": 10,
    "start_time": "2023-04-16T10:11:32.183Z"
   },
   {
    "duration": 19,
    "start_time": "2023-04-16T10:11:32.195Z"
   },
   {
    "duration": 17,
    "start_time": "2023-04-16T10:11:32.216Z"
   },
   {
    "duration": 23,
    "start_time": "2023-04-16T10:11:32.245Z"
   },
   {
    "duration": 6,
    "start_time": "2023-04-16T10:11:32.270Z"
   },
   {
    "duration": 3784,
    "start_time": "2023-04-16T10:11:32.277Z"
   },
   {
    "duration": 5,
    "start_time": "2023-04-16T10:11:36.063Z"
   },
   {
    "duration": 15,
    "start_time": "2023-04-16T10:11:36.070Z"
   },
   {
    "duration": 512,
    "start_time": "2023-04-16T10:11:36.086Z"
   },
   {
    "duration": 4,
    "start_time": "2023-04-16T10:11:36.600Z"
   },
   {
    "duration": 15,
    "start_time": "2023-04-16T10:11:36.605Z"
   },
   {
    "duration": 1239,
    "start_time": "2023-04-16T10:11:36.621Z"
   },
   {
    "duration": 6,
    "start_time": "2023-04-16T10:11:37.861Z"
   },
   {
    "duration": 1512,
    "start_time": "2023-04-16T10:11:37.869Z"
   },
   {
    "duration": 4,
    "start_time": "2023-04-16T10:11:39.383Z"
   },
   {
    "duration": 11,
    "start_time": "2023-04-16T10:11:39.389Z"
   },
   {
    "duration": 6,
    "start_time": "2023-04-16T10:11:39.402Z"
   },
   {
    "duration": 59,
    "start_time": "2023-04-16T10:11:39.410Z"
   },
   {
    "duration": 4,
    "start_time": "2023-04-16T10:11:39.471Z"
   },
   {
    "duration": 11,
    "start_time": "2023-04-16T10:11:39.478Z"
   },
   {
    "duration": 9,
    "start_time": "2023-04-16T10:11:39.491Z"
   },
   {
    "duration": 97819,
    "start_time": "2023-04-16T10:11:39.502Z"
   },
   {
    "duration": 1508,
    "start_time": "2023-04-16T10:13:17.323Z"
   },
   {
    "duration": 812,
    "start_time": "2023-04-16T10:13:18.838Z"
   },
   {
    "duration": 137230,
    "start_time": "2023-04-16T10:13:19.653Z"
   },
   {
    "duration": 8518,
    "start_time": "2023-04-16T10:15:36.884Z"
   },
   {
    "duration": 8123,
    "start_time": "2023-04-16T10:15:45.404Z"
   },
   {
    "duration": 1219,
    "start_time": "2023-04-16T10:25:19.852Z"
   },
   {
    "duration": 703,
    "start_time": "2023-04-16T10:25:21.073Z"
   },
   {
    "duration": 5,
    "start_time": "2023-04-16T10:25:21.777Z"
   },
   {
    "duration": 327,
    "start_time": "2023-04-16T10:25:21.783Z"
   },
   {
    "duration": 3,
    "start_time": "2023-04-16T10:25:22.112Z"
   },
   {
    "duration": 18,
    "start_time": "2023-04-16T10:25:22.116Z"
   },
   {
    "duration": 10,
    "start_time": "2023-04-16T10:25:22.136Z"
   },
   {
    "duration": 6,
    "start_time": "2023-04-16T10:25:22.148Z"
   },
   {
    "duration": 5,
    "start_time": "2023-04-16T10:25:22.155Z"
   },
   {
    "duration": 27,
    "start_time": "2023-04-16T10:25:22.161Z"
   },
   {
    "duration": 7,
    "start_time": "2023-04-16T10:25:22.190Z"
   },
   {
    "duration": 16,
    "start_time": "2023-04-16T10:25:22.199Z"
   },
   {
    "duration": 19,
    "start_time": "2023-04-16T10:25:22.216Z"
   },
   {
    "duration": 24,
    "start_time": "2023-04-16T10:25:22.238Z"
   },
   {
    "duration": 15,
    "start_time": "2023-04-16T10:25:22.264Z"
   },
   {
    "duration": 3201,
    "start_time": "2023-04-16T10:25:22.280Z"
   },
   {
    "duration": 5,
    "start_time": "2023-04-16T10:25:25.482Z"
   },
   {
    "duration": 6,
    "start_time": "2023-04-16T10:25:25.488Z"
   },
   {
    "duration": 444,
    "start_time": "2023-04-16T10:25:25.495Z"
   },
   {
    "duration": 4,
    "start_time": "2023-04-16T10:25:25.940Z"
   },
   {
    "duration": 10,
    "start_time": "2023-04-16T10:25:25.946Z"
   },
   {
    "duration": 1157,
    "start_time": "2023-04-16T10:25:25.958Z"
   },
   {
    "duration": 79,
    "start_time": "2023-04-16T10:25:27.117Z"
   },
   {
    "duration": 1250,
    "start_time": "2023-04-16T10:25:27.198Z"
   },
   {
    "duration": 3,
    "start_time": "2023-04-16T10:25:28.450Z"
   },
   {
    "duration": 28,
    "start_time": "2023-04-16T10:25:28.455Z"
   },
   {
    "duration": 29,
    "start_time": "2023-04-16T10:25:28.484Z"
   },
   {
    "duration": 43,
    "start_time": "2023-04-16T10:25:28.515Z"
   },
   {
    "duration": 4,
    "start_time": "2023-04-16T10:25:28.560Z"
   },
   {
    "duration": 16,
    "start_time": "2023-04-16T10:25:28.565Z"
   },
   {
    "duration": 17,
    "start_time": "2023-04-16T10:25:28.582Z"
   },
   {
    "duration": 100297,
    "start_time": "2023-04-16T10:25:28.601Z"
   },
   {
    "duration": 1555,
    "start_time": "2023-04-16T10:27:08.900Z"
   },
   {
    "duration": 980,
    "start_time": "2023-04-16T10:27:10.457Z"
   },
   {
    "duration": 140998,
    "start_time": "2023-04-16T10:27:11.440Z"
   },
   {
    "duration": 8572,
    "start_time": "2023-04-16T10:29:32.441Z"
   },
   {
    "duration": 8353,
    "start_time": "2023-04-16T10:29:41.015Z"
   },
   {
    "duration": 87,
    "start_time": "2023-04-17T05:56:17.641Z"
   },
   {
    "duration": 1644,
    "start_time": "2023-04-17T15:47:03.576Z"
   },
   {
    "duration": 1832,
    "start_time": "2023-04-17T15:47:05.959Z"
   },
   {
    "duration": 3,
    "start_time": "2023-04-17T15:47:07.793Z"
   },
   {
    "duration": 320,
    "start_time": "2023-04-17T15:47:07.797Z"
   },
   {
    "duration": 3,
    "start_time": "2023-04-17T15:47:08.119Z"
   },
   {
    "duration": 10,
    "start_time": "2023-04-17T15:47:08.123Z"
   },
   {
    "duration": 4,
    "start_time": "2023-04-17T15:47:08.955Z"
   },
   {
    "duration": 6,
    "start_time": "2023-04-17T15:47:11.404Z"
   },
   {
    "duration": 3,
    "start_time": "2023-04-17T15:47:12.954Z"
   },
   {
    "duration": 18,
    "start_time": "2023-04-17T15:47:13.359Z"
   },
   {
    "duration": 9,
    "start_time": "2023-04-17T15:47:13.904Z"
   },
   {
    "duration": 16,
    "start_time": "2023-04-17T15:47:14.796Z"
   },
   {
    "duration": 5,
    "start_time": "2023-04-17T15:47:16.717Z"
   },
   {
    "duration": 10,
    "start_time": "2023-04-17T15:47:17.257Z"
   },
   {
    "duration": 6,
    "start_time": "2023-04-17T15:47:18.278Z"
   },
   {
    "duration": 3564,
    "start_time": "2023-04-17T15:47:18.748Z"
   },
   {
    "duration": 5,
    "start_time": "2023-04-17T15:47:22.755Z"
   },
   {
    "duration": 4,
    "start_time": "2023-04-17T15:47:23.395Z"
   },
   {
    "duration": 384,
    "start_time": "2023-04-17T15:47:24.127Z"
   },
   {
    "duration": 5,
    "start_time": "2023-04-17T15:47:26.615Z"
   },
   {
    "duration": 5,
    "start_time": "2023-04-17T15:47:27.288Z"
   },
   {
    "duration": 1246,
    "start_time": "2023-04-17T15:47:28.115Z"
   },
   {
    "duration": 6,
    "start_time": "2023-04-17T15:47:30.393Z"
   },
   {
    "duration": 1148,
    "start_time": "2023-04-17T15:47:32.496Z"
   },
   {
    "duration": 4,
    "start_time": "2023-04-17T15:47:35.884Z"
   },
   {
    "duration": 3,
    "start_time": "2023-04-17T15:47:39.235Z"
   },
   {
    "duration": 4,
    "start_time": "2023-04-17T15:47:41.489Z"
   },
   {
    "duration": 35,
    "start_time": "2023-04-17T15:47:43.301Z"
   },
   {
    "duration": 4,
    "start_time": "2023-04-17T15:47:44.354Z"
   },
   {
    "duration": 6,
    "start_time": "2023-04-17T15:47:45.071Z"
   },
   {
    "duration": 5,
    "start_time": "2023-04-17T15:47:45.489Z"
   },
   {
    "duration": 89533,
    "start_time": "2023-04-17T15:47:46.496Z"
   },
   {
    "duration": 1564,
    "start_time": "2023-04-17T15:49:16.031Z"
   },
   {
    "duration": 596,
    "start_time": "2023-04-17T15:49:17.597Z"
   },
   {
    "duration": 123,
    "start_time": "2023-04-17T15:50:51.984Z"
   },
   {
    "duration": 14,
    "start_time": "2023-04-17T15:51:46.252Z"
   },
   {
    "duration": 13,
    "start_time": "2023-04-17T15:51:52.985Z"
   },
   {
    "duration": 13,
    "start_time": "2023-04-17T15:52:47.776Z"
   },
   {
    "duration": 779,
    "start_time": "2023-04-17T15:52:56.740Z"
   },
   {
    "duration": 572,
    "start_time": "2023-04-17T15:53:23.183Z"
   },
   {
    "duration": 591,
    "start_time": "2023-04-17T15:53:47.609Z"
   },
   {
    "duration": 607,
    "start_time": "2023-04-17T15:54:44.408Z"
   },
   {
    "duration": 617,
    "start_time": "2023-04-17T15:54:54.397Z"
   },
   {
    "duration": 11,
    "start_time": "2023-04-17T15:56:57.292Z"
   },
   {
    "duration": 614,
    "start_time": "2023-04-17T15:57:45.692Z"
   },
   {
    "duration": 623,
    "start_time": "2023-04-17T15:57:59.522Z"
   },
   {
    "duration": 602,
    "start_time": "2023-04-17T15:58:02.420Z"
   },
   {
    "duration": 575,
    "start_time": "2023-04-17T16:05:42.245Z"
   },
   {
    "duration": 579,
    "start_time": "2023-04-17T16:06:46.280Z"
   },
   {
    "duration": 15,
    "start_time": "2023-04-17T16:07:40.677Z"
   },
   {
    "duration": 11,
    "start_time": "2023-04-17T16:09:00.012Z"
   },
   {
    "duration": 20,
    "start_time": "2023-04-17T16:10:48.981Z"
   },
   {
    "duration": 19,
    "start_time": "2023-04-17T16:11:51.713Z"
   },
   {
    "duration": 27,
    "start_time": "2023-04-17T16:14:33.682Z"
   },
   {
    "duration": 908,
    "start_time": "2023-04-17T16:15:01.023Z"
   },
   {
    "duration": 1376,
    "start_time": "2023-04-17T16:15:29.145Z"
   },
   {
    "duration": 759,
    "start_time": "2023-04-17T16:15:30.523Z"
   },
   {
    "duration": 4,
    "start_time": "2023-04-17T16:15:31.284Z"
   },
   {
    "duration": 374,
    "start_time": "2023-04-17T16:15:31.289Z"
   },
   {
    "duration": 5,
    "start_time": "2023-04-17T16:15:31.665Z"
   },
   {
    "duration": 25,
    "start_time": "2023-04-17T16:15:31.671Z"
   },
   {
    "duration": 27,
    "start_time": "2023-04-17T16:15:31.698Z"
   },
   {
    "duration": 37,
    "start_time": "2023-04-17T16:15:31.727Z"
   },
   {
    "duration": 34,
    "start_time": "2023-04-17T16:15:31.766Z"
   },
   {
    "duration": 47,
    "start_time": "2023-04-17T16:15:31.803Z"
   },
   {
    "duration": 9,
    "start_time": "2023-04-17T16:15:31.853Z"
   },
   {
    "duration": 28,
    "start_time": "2023-04-17T16:15:31.864Z"
   },
   {
    "duration": 4,
    "start_time": "2023-04-17T16:15:31.894Z"
   },
   {
    "duration": 14,
    "start_time": "2023-04-17T16:15:31.901Z"
   },
   {
    "duration": 6,
    "start_time": "2023-04-17T16:15:31.917Z"
   },
   {
    "duration": 3423,
    "start_time": "2023-04-17T16:15:31.925Z"
   },
   {
    "duration": 5,
    "start_time": "2023-04-17T16:15:35.350Z"
   },
   {
    "duration": 29,
    "start_time": "2023-04-17T16:15:35.358Z"
   },
   {
    "duration": 437,
    "start_time": "2023-04-17T16:15:35.389Z"
   },
   {
    "duration": 4,
    "start_time": "2023-04-17T16:15:35.828Z"
   },
   {
    "duration": 13,
    "start_time": "2023-04-17T16:15:35.834Z"
   },
   {
    "duration": 1312,
    "start_time": "2023-04-17T16:15:35.849Z"
   },
   {
    "duration": 5,
    "start_time": "2023-04-17T16:15:37.163Z"
   },
   {
    "duration": 1197,
    "start_time": "2023-04-17T16:15:37.170Z"
   },
   {
    "duration": 4,
    "start_time": "2023-04-17T16:15:38.368Z"
   },
   {
    "duration": 12,
    "start_time": "2023-04-17T16:15:38.374Z"
   },
   {
    "duration": 5,
    "start_time": "2023-04-17T16:15:38.387Z"
   },
   {
    "duration": 37,
    "start_time": "2023-04-17T16:15:38.394Z"
   },
   {
    "duration": 5,
    "start_time": "2023-04-17T16:15:38.433Z"
   },
   {
    "duration": 7,
    "start_time": "2023-04-17T16:15:38.440Z"
   },
   {
    "duration": 37,
    "start_time": "2023-04-17T16:15:38.448Z"
   },
   {
    "duration": 91094,
    "start_time": "2023-04-17T16:15:38.487Z"
   },
   {
    "duration": 1578,
    "start_time": "2023-04-17T16:17:09.584Z"
   },
   {
    "duration": 725,
    "start_time": "2023-04-17T16:17:11.163Z"
   },
   {
    "duration": 178,
    "start_time": "2023-04-17T16:17:11.890Z"
   },
   {
    "duration": 0,
    "start_time": "2023-04-17T16:17:12.070Z"
   },
   {
    "duration": 0,
    "start_time": "2023-04-17T16:17:12.071Z"
   },
   {
    "duration": 0,
    "start_time": "2023-04-17T16:17:12.085Z"
   },
   {
    "duration": 614,
    "start_time": "2023-04-17T16:18:11.077Z"
   },
   {
    "duration": 580,
    "start_time": "2023-04-17T16:19:08.952Z"
   },
   {
    "duration": 654,
    "start_time": "2023-04-17T16:19:14.905Z"
   },
   {
    "duration": 603,
    "start_time": "2023-04-17T16:19:17.877Z"
   },
   {
    "duration": 632,
    "start_time": "2023-04-17T16:19:22.769Z"
   },
   {
    "duration": 649,
    "start_time": "2023-04-17T16:19:28.063Z"
   },
   {
    "duration": 1395,
    "start_time": "2023-04-17T16:28:30.401Z"
   },
   {
    "duration": 725,
    "start_time": "2023-04-17T16:28:31.798Z"
   },
   {
    "duration": 4,
    "start_time": "2023-04-17T16:28:32.524Z"
   },
   {
    "duration": 341,
    "start_time": "2023-04-17T16:28:32.529Z"
   },
   {
    "duration": 3,
    "start_time": "2023-04-17T16:28:32.872Z"
   },
   {
    "duration": 13,
    "start_time": "2023-04-17T16:28:32.876Z"
   },
   {
    "duration": 4,
    "start_time": "2023-04-17T16:28:32.891Z"
   },
   {
    "duration": 5,
    "start_time": "2023-04-17T16:28:32.896Z"
   },
   {
    "duration": 12,
    "start_time": "2023-04-17T16:28:32.902Z"
   },
   {
    "duration": 50,
    "start_time": "2023-04-17T16:28:32.916Z"
   },
   {
    "duration": 9,
    "start_time": "2023-04-17T16:28:32.968Z"
   },
   {
    "duration": 17,
    "start_time": "2023-04-17T16:28:32.978Z"
   },
   {
    "duration": 5,
    "start_time": "2023-04-17T16:28:32.997Z"
   },
   {
    "duration": 13,
    "start_time": "2023-04-17T16:28:33.005Z"
   },
   {
    "duration": 6,
    "start_time": "2023-04-17T16:28:33.020Z"
   },
   {
    "duration": 3703,
    "start_time": "2023-04-17T16:28:33.027Z"
   },
   {
    "duration": 5,
    "start_time": "2023-04-17T16:28:36.731Z"
   },
   {
    "duration": 4,
    "start_time": "2023-04-17T16:28:36.738Z"
   },
   {
    "duration": 470,
    "start_time": "2023-04-17T16:28:36.744Z"
   },
   {
    "duration": 4,
    "start_time": "2023-04-17T16:28:37.216Z"
   },
   {
    "duration": 7,
    "start_time": "2023-04-17T16:28:37.221Z"
   },
   {
    "duration": 1264,
    "start_time": "2023-04-17T16:28:37.229Z"
   },
   {
    "duration": 5,
    "start_time": "2023-04-17T16:28:38.495Z"
   },
   {
    "duration": 1131,
    "start_time": "2023-04-17T16:28:38.501Z"
   },
   {
    "duration": 4,
    "start_time": "2023-04-17T16:28:39.634Z"
   },
   {
    "duration": 8,
    "start_time": "2023-04-17T16:28:39.639Z"
   },
   {
    "duration": 5,
    "start_time": "2023-04-17T16:28:39.648Z"
   },
   {
    "duration": 43,
    "start_time": "2023-04-17T16:28:39.654Z"
   },
   {
    "duration": 5,
    "start_time": "2023-04-17T16:28:39.699Z"
   },
   {
    "duration": 8,
    "start_time": "2023-04-17T16:28:39.705Z"
   },
   {
    "duration": 8,
    "start_time": "2023-04-17T16:28:39.714Z"
   },
   {
    "duration": 90628,
    "start_time": "2023-04-17T16:28:39.723Z"
   },
   {
    "duration": 1585,
    "start_time": "2023-04-17T16:30:10.353Z"
   },
   {
    "duration": 1146,
    "start_time": "2023-04-17T16:30:11.940Z"
   },
   {
    "duration": 697,
    "start_time": "2023-04-17T16:30:13.090Z"
   },
   {
    "duration": 128214,
    "start_time": "2023-04-17T16:30:13.790Z"
   },
   {
    "duration": 7555,
    "start_time": "2023-04-17T16:32:22.006Z"
   },
   {
    "duration": 7824,
    "start_time": "2023-04-17T16:32:29.563Z"
   },
   {
    "duration": 118,
    "start_time": "2023-04-17T16:33:59.853Z"
   },
   {
    "duration": 10,
    "start_time": "2023-04-17T16:34:53.138Z"
   },
   {
    "duration": 680,
    "start_time": "2023-04-17T16:35:30.677Z"
   },
   {
    "duration": 1430,
    "start_time": "2023-04-17T16:35:56.717Z"
   },
   {
    "duration": 784,
    "start_time": "2023-04-17T16:35:58.149Z"
   },
   {
    "duration": 4,
    "start_time": "2023-04-17T16:35:58.934Z"
   },
   {
    "duration": 339,
    "start_time": "2023-04-17T16:35:58.939Z"
   },
   {
    "duration": 5,
    "start_time": "2023-04-17T16:35:59.280Z"
   },
   {
    "duration": 6,
    "start_time": "2023-04-17T16:35:59.286Z"
   },
   {
    "duration": 4,
    "start_time": "2023-04-17T16:35:59.294Z"
   },
   {
    "duration": 6,
    "start_time": "2023-04-17T16:35:59.299Z"
   },
   {
    "duration": 5,
    "start_time": "2023-04-17T16:35:59.307Z"
   },
   {
    "duration": 19,
    "start_time": "2023-04-17T16:35:59.314Z"
   },
   {
    "duration": 8,
    "start_time": "2023-04-17T16:35:59.335Z"
   },
   {
    "duration": 53,
    "start_time": "2023-04-17T16:35:59.344Z"
   },
   {
    "duration": 4,
    "start_time": "2023-04-17T16:35:59.398Z"
   },
   {
    "duration": 13,
    "start_time": "2023-04-17T16:35:59.405Z"
   },
   {
    "duration": 5,
    "start_time": "2023-04-17T16:35:59.420Z"
   },
   {
    "duration": 3592,
    "start_time": "2023-04-17T16:35:59.427Z"
   },
   {
    "duration": 5,
    "start_time": "2023-04-17T16:36:03.020Z"
   },
   {
    "duration": 10,
    "start_time": "2023-04-17T16:36:03.026Z"
   },
   {
    "duration": 471,
    "start_time": "2023-04-17T16:36:03.037Z"
   },
   {
    "duration": 5,
    "start_time": "2023-04-17T16:36:03.510Z"
   },
   {
    "duration": 8,
    "start_time": "2023-04-17T16:36:03.517Z"
   },
   {
    "duration": 1263,
    "start_time": "2023-04-17T16:36:03.526Z"
   },
   {
    "duration": 5,
    "start_time": "2023-04-17T16:36:04.791Z"
   },
   {
    "duration": 1133,
    "start_time": "2023-04-17T16:36:04.797Z"
   },
   {
    "duration": 4,
    "start_time": "2023-04-17T16:36:05.932Z"
   },
   {
    "duration": 9,
    "start_time": "2023-04-17T16:36:05.937Z"
   },
   {
    "duration": 4,
    "start_time": "2023-04-17T16:36:05.948Z"
   },
   {
    "duration": 47,
    "start_time": "2023-04-17T16:36:05.954Z"
   },
   {
    "duration": 5,
    "start_time": "2023-04-17T16:36:06.003Z"
   },
   {
    "duration": 8,
    "start_time": "2023-04-17T16:36:06.010Z"
   },
   {
    "duration": 8,
    "start_time": "2023-04-17T16:36:06.019Z"
   },
   {
    "duration": 92357,
    "start_time": "2023-04-17T16:36:06.029Z"
   },
   {
    "duration": 1555,
    "start_time": "2023-04-17T16:37:38.388Z"
   },
   {
    "duration": 651,
    "start_time": "2023-04-17T16:37:39.945Z"
   },
   {
    "duration": 788,
    "start_time": "2023-04-17T16:37:40.598Z"
   },
   {
    "duration": 128369,
    "start_time": "2023-04-17T16:37:41.388Z"
   },
   {
    "duration": 7814,
    "start_time": "2023-04-17T16:39:49.759Z"
   },
   {
    "duration": 7948,
    "start_time": "2023-04-17T16:39:57.575Z"
   },
   {
    "duration": 113,
    "start_time": "2023-04-17T16:40:11.045Z"
   },
   {
    "duration": 3,
    "start_time": "2023-04-17T16:42:40.614Z"
   },
   {
    "duration": 650,
    "start_time": "2023-04-17T16:43:56.611Z"
   },
   {
    "duration": 1388,
    "start_time": "2023-04-17T17:05:06.428Z"
   },
   {
    "duration": 830,
    "start_time": "2023-04-17T17:05:07.818Z"
   },
   {
    "duration": 3,
    "start_time": "2023-04-17T17:05:08.649Z"
   },
   {
    "duration": 326,
    "start_time": "2023-04-17T17:05:08.653Z"
   },
   {
    "duration": 3,
    "start_time": "2023-04-17T17:05:08.986Z"
   },
   {
    "duration": 9,
    "start_time": "2023-04-17T17:05:08.991Z"
   },
   {
    "duration": 10,
    "start_time": "2023-04-17T17:05:09.002Z"
   },
   {
    "duration": 9,
    "start_time": "2023-04-17T17:05:09.014Z"
   },
   {
    "duration": 7,
    "start_time": "2023-04-17T17:05:09.024Z"
   },
   {
    "duration": 31,
    "start_time": "2023-04-17T17:05:09.032Z"
   },
   {
    "duration": 8,
    "start_time": "2023-04-17T17:05:09.064Z"
   },
   {
    "duration": 24,
    "start_time": "2023-04-17T17:05:09.074Z"
   },
   {
    "duration": 4,
    "start_time": "2023-04-17T17:05:09.100Z"
   },
   {
    "duration": 11,
    "start_time": "2023-04-17T17:05:09.107Z"
   },
   {
    "duration": 6,
    "start_time": "2023-04-17T17:05:09.120Z"
   },
   {
    "duration": 3597,
    "start_time": "2023-04-17T17:05:09.127Z"
   },
   {
    "duration": 6,
    "start_time": "2023-04-17T17:05:12.725Z"
   },
   {
    "duration": 22,
    "start_time": "2023-04-17T17:05:12.732Z"
   },
   {
    "duration": 449,
    "start_time": "2023-04-17T17:05:12.755Z"
   },
   {
    "duration": 4,
    "start_time": "2023-04-17T17:05:13.206Z"
   },
   {
    "duration": 9,
    "start_time": "2023-04-17T17:05:13.212Z"
   },
   {
    "duration": 1155,
    "start_time": "2023-04-17T17:05:13.222Z"
   },
   {
    "duration": 4,
    "start_time": "2023-04-17T17:05:14.379Z"
   },
   {
    "duration": 1151,
    "start_time": "2023-04-17T17:05:14.385Z"
   },
   {
    "duration": 3,
    "start_time": "2023-04-17T17:05:15.538Z"
   },
   {
    "duration": 8,
    "start_time": "2023-04-17T17:05:15.543Z"
   },
   {
    "duration": 6,
    "start_time": "2023-04-17T17:05:15.552Z"
   },
   {
    "duration": 44,
    "start_time": "2023-04-17T17:05:15.560Z"
   },
   {
    "duration": 5,
    "start_time": "2023-04-17T17:05:15.606Z"
   },
   {
    "duration": 8,
    "start_time": "2023-04-17T17:05:15.612Z"
   },
   {
    "duration": 8,
    "start_time": "2023-04-17T17:05:15.622Z"
   },
   {
    "duration": 93889,
    "start_time": "2023-04-17T17:05:15.631Z"
   },
   {
    "duration": 1611,
    "start_time": "2023-04-17T17:06:49.522Z"
   },
   {
    "duration": 756,
    "start_time": "2023-04-17T17:06:51.135Z"
   },
   {
    "duration": 128744,
    "start_time": "2023-04-17T17:06:51.893Z"
   },
   {
    "duration": 8118,
    "start_time": "2023-04-17T17:09:00.639Z"
   },
   {
    "duration": 7884,
    "start_time": "2023-04-17T17:09:08.759Z"
   },
   {
    "duration": 1484,
    "start_time": "2023-04-17T17:11:56.299Z"
   },
   {
    "duration": 801,
    "start_time": "2023-04-17T17:11:57.786Z"
   },
   {
    "duration": 4,
    "start_time": "2023-04-17T17:11:58.588Z"
   },
   {
    "duration": 353,
    "start_time": "2023-04-17T17:11:58.593Z"
   },
   {
    "duration": 3,
    "start_time": "2023-04-17T17:11:58.949Z"
   },
   {
    "duration": 7,
    "start_time": "2023-04-17T17:11:58.953Z"
   },
   {
    "duration": 4,
    "start_time": "2023-04-17T17:11:58.962Z"
   },
   {
    "duration": 18,
    "start_time": "2023-04-17T17:11:58.968Z"
   },
   {
    "duration": 4,
    "start_time": "2023-04-17T17:11:58.988Z"
   },
   {
    "duration": 22,
    "start_time": "2023-04-17T17:11:58.994Z"
   },
   {
    "duration": 14,
    "start_time": "2023-04-17T17:11:59.018Z"
   },
   {
    "duration": 15,
    "start_time": "2023-04-17T17:11:59.034Z"
   },
   {
    "duration": 5,
    "start_time": "2023-04-17T17:11:59.050Z"
   },
   {
    "duration": 10,
    "start_time": "2023-04-17T17:11:59.085Z"
   },
   {
    "duration": 6,
    "start_time": "2023-04-17T17:11:59.097Z"
   },
   {
    "duration": 3826,
    "start_time": "2023-04-17T17:11:59.105Z"
   },
   {
    "duration": 6,
    "start_time": "2023-04-17T17:12:02.933Z"
   },
   {
    "duration": 8,
    "start_time": "2023-04-17T17:12:02.941Z"
   },
   {
    "duration": 458,
    "start_time": "2023-04-17T17:12:02.951Z"
   },
   {
    "duration": 5,
    "start_time": "2023-04-17T17:12:03.411Z"
   },
   {
    "duration": 5,
    "start_time": "2023-04-17T17:12:03.418Z"
   },
   {
    "duration": 1148,
    "start_time": "2023-04-17T17:12:03.425Z"
   },
   {
    "duration": 5,
    "start_time": "2023-04-17T17:12:04.575Z"
   },
   {
    "duration": 1154,
    "start_time": "2023-04-17T17:12:04.582Z"
   },
   {
    "duration": 4,
    "start_time": "2023-04-17T17:12:05.738Z"
   },
   {
    "duration": 7,
    "start_time": "2023-04-17T17:12:05.743Z"
   },
   {
    "duration": 6,
    "start_time": "2023-04-17T17:12:05.751Z"
   },
   {
    "duration": 53,
    "start_time": "2023-04-17T17:12:05.758Z"
   },
   {
    "duration": 4,
    "start_time": "2023-04-17T17:12:05.813Z"
   },
   {
    "duration": 19,
    "start_time": "2023-04-17T17:12:05.818Z"
   },
   {
    "duration": 9,
    "start_time": "2023-04-17T17:12:05.839Z"
   },
   {
    "duration": 91361,
    "start_time": "2023-04-17T17:12:05.849Z"
   },
   {
    "duration": 1615,
    "start_time": "2023-04-17T17:13:37.212Z"
   },
   {
    "duration": 857,
    "start_time": "2023-04-17T17:13:38.828Z"
   },
   {
    "duration": 131168,
    "start_time": "2023-04-17T17:13:39.687Z"
   },
   {
    "duration": 8125,
    "start_time": "2023-04-17T17:15:50.857Z"
   },
   {
    "duration": 7883,
    "start_time": "2023-04-17T17:15:58.985Z"
   }
  ],
  "kernelspec": {
   "display_name": "Python 3 (ipykernel)",
   "language": "python",
   "name": "python3"
  },
  "language_info": {
   "codemirror_mode": {
    "name": "ipython",
    "version": 3
   },
   "file_extension": ".py",
   "mimetype": "text/x-python",
   "name": "python",
   "nbconvert_exporter": "python",
   "pygments_lexer": "ipython3",
   "version": "3.9.12"
  },
  "toc": {
   "base_numbering": 1,
   "nav_menu": {},
   "number_sections": true,
   "sideBar": true,
   "skip_h1_title": true,
   "title_cell": "Содержание",
   "title_sidebar": "Contents",
   "toc_cell": true,
   "toc_position": {},
   "toc_section_display": true,
   "toc_window_display": true
  }
 },
 "nbformat": 4,
 "nbformat_minor": 2
}
