{
 "cells": [
  {
   "cell_type": "markdown",
   "id": "a89ad338",
   "metadata": {
    "deletable": false,
    "editable": false,
    "id": "c81daeeb"
   },
   "source": [
    "# Исследование надежности заемщиков\n"
   ]
  },
  {
   "cell_type": "markdown",
   "id": "84150b91",
   "metadata": {},
   "source": [
    "Заказчик — кредитный отдел банка. Нужно разобраться, влияет ли семейное положение и количество детей клиента на факт погашения кредита в срок. Входные данные от банка — статистика о платёжеспособности клиентов.\n",
    "Результаты исследования будут учтены при построении модели кредитного скоринга — специальной системы, которая оценивает способность потенциального заёмщика вернуть кредит банку."
   ]
  },
  {
   "cell_type": "markdown",
   "id": "1e019af7",
   "metadata": {
    "deletable": false,
    "editable": false,
    "id": "827c20bf"
   },
   "source": [
    "Во второй части проекта вы выполните шаги 3 и 4. Их вручную проверит ревьюер.\n",
    "Чтобы вам не пришлось писать код заново для шагов 1 и 2, мы добавили авторские решения в ячейки с кодом. \n",
    "\n"
   ]
  },
  {
   "cell_type": "markdown",
   "id": "d8ac6617",
   "metadata": {
    "deletable": false,
    "editable": false,
    "id": "744d7639"
   },
   "source": [
    "## Откройте таблицу и изучите общую информацию о данных"
   ]
  },
  {
   "cell_type": "markdown",
   "id": "0d9948e6",
   "metadata": {
    "deletable": false,
    "editable": false,
    "id": "e7a14c31"
   },
   "source": [
    "**Задание 1. Импортируйте библиотеку pandas. Считайте данные из csv-файла в датафрейм и сохраните в переменную `data`. Путь к файлу:**\n",
    "\n",
    "`/datasets/data.csv`"
   ]
  },
  {
   "cell_type": "code",
   "execution_count": 1,
   "id": "787a8cff",
   "metadata": {
    "deletable": false,
    "id": "7bcf75c9"
   },
   "outputs": [],
   "source": [
    "import pandas as pd\n",
    "\n",
    "try:\n",
    "    data = pd.read_csv('/datasets/data.csv')\n",
    "except:\n",
    "    data = pd.read_csv('https://code.s3.yandex.net/datasets/data.csv')"
   ]
  },
  {
   "cell_type": "markdown",
   "id": "15f24927",
   "metadata": {
    "deletable": false,
    "editable": false,
    "id": "b8038fe3"
   },
   "source": [
    "**Задание 2. Выведите первые 20 строчек датафрейма `data` на экран.**"
   ]
  },
  {
   "cell_type": "code",
   "execution_count": 2,
   "id": "ca35a4d2",
   "metadata": {
    "deletable": false,
    "id": "2a7cab99",
    "outputId": "1a8f3ef2-d323-4ec2-ddf7-89670b5944c4"
   },
   "outputs": [
    {
     "data": {
      "text/html": [
       "<div>\n",
       "<style scoped>\n",
       "    .dataframe tbody tr th:only-of-type {\n",
       "        vertical-align: middle;\n",
       "    }\n",
       "\n",
       "    .dataframe tbody tr th {\n",
       "        vertical-align: top;\n",
       "    }\n",
       "\n",
       "    .dataframe thead th {\n",
       "        text-align: right;\n",
       "    }\n",
       "</style>\n",
       "<table border=\"1\" class=\"dataframe\">\n",
       "  <thead>\n",
       "    <tr style=\"text-align: right;\">\n",
       "      <th></th>\n",
       "      <th>children</th>\n",
       "      <th>days_employed</th>\n",
       "      <th>dob_years</th>\n",
       "      <th>education</th>\n",
       "      <th>education_id</th>\n",
       "      <th>family_status</th>\n",
       "      <th>family_status_id</th>\n",
       "      <th>gender</th>\n",
       "      <th>income_type</th>\n",
       "      <th>debt</th>\n",
       "      <th>total_income</th>\n",
       "      <th>purpose</th>\n",
       "    </tr>\n",
       "  </thead>\n",
       "  <tbody>\n",
       "    <tr>\n",
       "      <th>0</th>\n",
       "      <td>1</td>\n",
       "      <td>-8437.673028</td>\n",
       "      <td>42</td>\n",
       "      <td>высшее</td>\n",
       "      <td>0</td>\n",
       "      <td>женат / замужем</td>\n",
       "      <td>0</td>\n",
       "      <td>F</td>\n",
       "      <td>сотрудник</td>\n",
       "      <td>0</td>\n",
       "      <td>253875.639453</td>\n",
       "      <td>покупка жилья</td>\n",
       "    </tr>\n",
       "    <tr>\n",
       "      <th>1</th>\n",
       "      <td>1</td>\n",
       "      <td>-4024.803754</td>\n",
       "      <td>36</td>\n",
       "      <td>среднее</td>\n",
       "      <td>1</td>\n",
       "      <td>женат / замужем</td>\n",
       "      <td>0</td>\n",
       "      <td>F</td>\n",
       "      <td>сотрудник</td>\n",
       "      <td>0</td>\n",
       "      <td>112080.014102</td>\n",
       "      <td>приобретение автомобиля</td>\n",
       "    </tr>\n",
       "    <tr>\n",
       "      <th>2</th>\n",
       "      <td>0</td>\n",
       "      <td>-5623.422610</td>\n",
       "      <td>33</td>\n",
       "      <td>Среднее</td>\n",
       "      <td>1</td>\n",
       "      <td>женат / замужем</td>\n",
       "      <td>0</td>\n",
       "      <td>M</td>\n",
       "      <td>сотрудник</td>\n",
       "      <td>0</td>\n",
       "      <td>145885.952297</td>\n",
       "      <td>покупка жилья</td>\n",
       "    </tr>\n",
       "    <tr>\n",
       "      <th>3</th>\n",
       "      <td>3</td>\n",
       "      <td>-4124.747207</td>\n",
       "      <td>32</td>\n",
       "      <td>среднее</td>\n",
       "      <td>1</td>\n",
       "      <td>женат / замужем</td>\n",
       "      <td>0</td>\n",
       "      <td>M</td>\n",
       "      <td>сотрудник</td>\n",
       "      <td>0</td>\n",
       "      <td>267628.550329</td>\n",
       "      <td>дополнительное образование</td>\n",
       "    </tr>\n",
       "    <tr>\n",
       "      <th>4</th>\n",
       "      <td>0</td>\n",
       "      <td>340266.072047</td>\n",
       "      <td>53</td>\n",
       "      <td>среднее</td>\n",
       "      <td>1</td>\n",
       "      <td>гражданский брак</td>\n",
       "      <td>1</td>\n",
       "      <td>F</td>\n",
       "      <td>пенсионер</td>\n",
       "      <td>0</td>\n",
       "      <td>158616.077870</td>\n",
       "      <td>сыграть свадьбу</td>\n",
       "    </tr>\n",
       "    <tr>\n",
       "      <th>5</th>\n",
       "      <td>0</td>\n",
       "      <td>-926.185831</td>\n",
       "      <td>27</td>\n",
       "      <td>высшее</td>\n",
       "      <td>0</td>\n",
       "      <td>гражданский брак</td>\n",
       "      <td>1</td>\n",
       "      <td>M</td>\n",
       "      <td>компаньон</td>\n",
       "      <td>0</td>\n",
       "      <td>255763.565419</td>\n",
       "      <td>покупка жилья</td>\n",
       "    </tr>\n",
       "    <tr>\n",
       "      <th>6</th>\n",
       "      <td>0</td>\n",
       "      <td>-2879.202052</td>\n",
       "      <td>43</td>\n",
       "      <td>высшее</td>\n",
       "      <td>0</td>\n",
       "      <td>женат / замужем</td>\n",
       "      <td>0</td>\n",
       "      <td>F</td>\n",
       "      <td>компаньон</td>\n",
       "      <td>0</td>\n",
       "      <td>240525.971920</td>\n",
       "      <td>операции с жильем</td>\n",
       "    </tr>\n",
       "    <tr>\n",
       "      <th>7</th>\n",
       "      <td>0</td>\n",
       "      <td>-152.779569</td>\n",
       "      <td>50</td>\n",
       "      <td>СРЕДНЕЕ</td>\n",
       "      <td>1</td>\n",
       "      <td>женат / замужем</td>\n",
       "      <td>0</td>\n",
       "      <td>M</td>\n",
       "      <td>сотрудник</td>\n",
       "      <td>0</td>\n",
       "      <td>135823.934197</td>\n",
       "      <td>образование</td>\n",
       "    </tr>\n",
       "    <tr>\n",
       "      <th>8</th>\n",
       "      <td>2</td>\n",
       "      <td>-6929.865299</td>\n",
       "      <td>35</td>\n",
       "      <td>ВЫСШЕЕ</td>\n",
       "      <td>0</td>\n",
       "      <td>гражданский брак</td>\n",
       "      <td>1</td>\n",
       "      <td>F</td>\n",
       "      <td>сотрудник</td>\n",
       "      <td>0</td>\n",
       "      <td>95856.832424</td>\n",
       "      <td>на проведение свадьбы</td>\n",
       "    </tr>\n",
       "    <tr>\n",
       "      <th>9</th>\n",
       "      <td>0</td>\n",
       "      <td>-2188.756445</td>\n",
       "      <td>41</td>\n",
       "      <td>среднее</td>\n",
       "      <td>1</td>\n",
       "      <td>женат / замужем</td>\n",
       "      <td>0</td>\n",
       "      <td>M</td>\n",
       "      <td>сотрудник</td>\n",
       "      <td>0</td>\n",
       "      <td>144425.938277</td>\n",
       "      <td>покупка жилья для семьи</td>\n",
       "    </tr>\n",
       "    <tr>\n",
       "      <th>10</th>\n",
       "      <td>2</td>\n",
       "      <td>-4171.483647</td>\n",
       "      <td>36</td>\n",
       "      <td>высшее</td>\n",
       "      <td>0</td>\n",
       "      <td>женат / замужем</td>\n",
       "      <td>0</td>\n",
       "      <td>M</td>\n",
       "      <td>компаньон</td>\n",
       "      <td>0</td>\n",
       "      <td>113943.491460</td>\n",
       "      <td>покупка недвижимости</td>\n",
       "    </tr>\n",
       "    <tr>\n",
       "      <th>11</th>\n",
       "      <td>0</td>\n",
       "      <td>-792.701887</td>\n",
       "      <td>40</td>\n",
       "      <td>среднее</td>\n",
       "      <td>1</td>\n",
       "      <td>женат / замужем</td>\n",
       "      <td>0</td>\n",
       "      <td>F</td>\n",
       "      <td>сотрудник</td>\n",
       "      <td>0</td>\n",
       "      <td>77069.234271</td>\n",
       "      <td>покупка коммерческой недвижимости</td>\n",
       "    </tr>\n",
       "    <tr>\n",
       "      <th>12</th>\n",
       "      <td>0</td>\n",
       "      <td>NaN</td>\n",
       "      <td>65</td>\n",
       "      <td>среднее</td>\n",
       "      <td>1</td>\n",
       "      <td>гражданский брак</td>\n",
       "      <td>1</td>\n",
       "      <td>M</td>\n",
       "      <td>пенсионер</td>\n",
       "      <td>0</td>\n",
       "      <td>NaN</td>\n",
       "      <td>сыграть свадьбу</td>\n",
       "    </tr>\n",
       "    <tr>\n",
       "      <th>13</th>\n",
       "      <td>0</td>\n",
       "      <td>-1846.641941</td>\n",
       "      <td>54</td>\n",
       "      <td>неоконченное высшее</td>\n",
       "      <td>2</td>\n",
       "      <td>женат / замужем</td>\n",
       "      <td>0</td>\n",
       "      <td>F</td>\n",
       "      <td>сотрудник</td>\n",
       "      <td>0</td>\n",
       "      <td>130458.228857</td>\n",
       "      <td>приобретение автомобиля</td>\n",
       "    </tr>\n",
       "    <tr>\n",
       "      <th>14</th>\n",
       "      <td>0</td>\n",
       "      <td>-1844.956182</td>\n",
       "      <td>56</td>\n",
       "      <td>высшее</td>\n",
       "      <td>0</td>\n",
       "      <td>гражданский брак</td>\n",
       "      <td>1</td>\n",
       "      <td>F</td>\n",
       "      <td>компаньон</td>\n",
       "      <td>1</td>\n",
       "      <td>165127.911772</td>\n",
       "      <td>покупка жилой недвижимости</td>\n",
       "    </tr>\n",
       "    <tr>\n",
       "      <th>15</th>\n",
       "      <td>1</td>\n",
       "      <td>-972.364419</td>\n",
       "      <td>26</td>\n",
       "      <td>среднее</td>\n",
       "      <td>1</td>\n",
       "      <td>женат / замужем</td>\n",
       "      <td>0</td>\n",
       "      <td>F</td>\n",
       "      <td>сотрудник</td>\n",
       "      <td>0</td>\n",
       "      <td>116820.904450</td>\n",
       "      <td>строительство собственной недвижимости</td>\n",
       "    </tr>\n",
       "    <tr>\n",
       "      <th>16</th>\n",
       "      <td>0</td>\n",
       "      <td>-1719.934226</td>\n",
       "      <td>35</td>\n",
       "      <td>среднее</td>\n",
       "      <td>1</td>\n",
       "      <td>женат / замужем</td>\n",
       "      <td>0</td>\n",
       "      <td>F</td>\n",
       "      <td>сотрудник</td>\n",
       "      <td>0</td>\n",
       "      <td>289202.704229</td>\n",
       "      <td>недвижимость</td>\n",
       "    </tr>\n",
       "    <tr>\n",
       "      <th>17</th>\n",
       "      <td>0</td>\n",
       "      <td>-2369.999720</td>\n",
       "      <td>33</td>\n",
       "      <td>высшее</td>\n",
       "      <td>0</td>\n",
       "      <td>гражданский брак</td>\n",
       "      <td>1</td>\n",
       "      <td>M</td>\n",
       "      <td>сотрудник</td>\n",
       "      <td>0</td>\n",
       "      <td>90410.586745</td>\n",
       "      <td>строительство недвижимости</td>\n",
       "    </tr>\n",
       "    <tr>\n",
       "      <th>18</th>\n",
       "      <td>0</td>\n",
       "      <td>400281.136913</td>\n",
       "      <td>53</td>\n",
       "      <td>среднее</td>\n",
       "      <td>1</td>\n",
       "      <td>вдовец / вдова</td>\n",
       "      <td>2</td>\n",
       "      <td>F</td>\n",
       "      <td>пенсионер</td>\n",
       "      <td>0</td>\n",
       "      <td>56823.777243</td>\n",
       "      <td>на покупку подержанного автомобиля</td>\n",
       "    </tr>\n",
       "    <tr>\n",
       "      <th>19</th>\n",
       "      <td>0</td>\n",
       "      <td>-10038.818549</td>\n",
       "      <td>48</td>\n",
       "      <td>СРЕДНЕЕ</td>\n",
       "      <td>1</td>\n",
       "      <td>в разводе</td>\n",
       "      <td>3</td>\n",
       "      <td>F</td>\n",
       "      <td>сотрудник</td>\n",
       "      <td>0</td>\n",
       "      <td>242831.107982</td>\n",
       "      <td>на покупку своего автомобиля</td>\n",
       "    </tr>\n",
       "  </tbody>\n",
       "</table>\n",
       "</div>"
      ],
      "text/plain": [
       "    children  days_employed  dob_years            education  education_id  \\\n",
       "0          1   -8437.673028         42               высшее             0   \n",
       "1          1   -4024.803754         36              среднее             1   \n",
       "2          0   -5623.422610         33              Среднее             1   \n",
       "3          3   -4124.747207         32              среднее             1   \n",
       "4          0  340266.072047         53              среднее             1   \n",
       "5          0    -926.185831         27               высшее             0   \n",
       "6          0   -2879.202052         43               высшее             0   \n",
       "7          0    -152.779569         50              СРЕДНЕЕ             1   \n",
       "8          2   -6929.865299         35               ВЫСШЕЕ             0   \n",
       "9          0   -2188.756445         41              среднее             1   \n",
       "10         2   -4171.483647         36               высшее             0   \n",
       "11         0    -792.701887         40              среднее             1   \n",
       "12         0            NaN         65              среднее             1   \n",
       "13         0   -1846.641941         54  неоконченное высшее             2   \n",
       "14         0   -1844.956182         56               высшее             0   \n",
       "15         1    -972.364419         26              среднее             1   \n",
       "16         0   -1719.934226         35              среднее             1   \n",
       "17         0   -2369.999720         33               высшее             0   \n",
       "18         0  400281.136913         53              среднее             1   \n",
       "19         0  -10038.818549         48              СРЕДНЕЕ             1   \n",
       "\n",
       "       family_status  family_status_id gender income_type  debt  \\\n",
       "0    женат / замужем                 0      F   сотрудник     0   \n",
       "1    женат / замужем                 0      F   сотрудник     0   \n",
       "2    женат / замужем                 0      M   сотрудник     0   \n",
       "3    женат / замужем                 0      M   сотрудник     0   \n",
       "4   гражданский брак                 1      F   пенсионер     0   \n",
       "5   гражданский брак                 1      M   компаньон     0   \n",
       "6    женат / замужем                 0      F   компаньон     0   \n",
       "7    женат / замужем                 0      M   сотрудник     0   \n",
       "8   гражданский брак                 1      F   сотрудник     0   \n",
       "9    женат / замужем                 0      M   сотрудник     0   \n",
       "10   женат / замужем                 0      M   компаньон     0   \n",
       "11   женат / замужем                 0      F   сотрудник     0   \n",
       "12  гражданский брак                 1      M   пенсионер     0   \n",
       "13   женат / замужем                 0      F   сотрудник     0   \n",
       "14  гражданский брак                 1      F   компаньон     1   \n",
       "15   женат / замужем                 0      F   сотрудник     0   \n",
       "16   женат / замужем                 0      F   сотрудник     0   \n",
       "17  гражданский брак                 1      M   сотрудник     0   \n",
       "18    вдовец / вдова                 2      F   пенсионер     0   \n",
       "19         в разводе                 3      F   сотрудник     0   \n",
       "\n",
       "     total_income                                 purpose  \n",
       "0   253875.639453                           покупка жилья  \n",
       "1   112080.014102                 приобретение автомобиля  \n",
       "2   145885.952297                           покупка жилья  \n",
       "3   267628.550329              дополнительное образование  \n",
       "4   158616.077870                         сыграть свадьбу  \n",
       "5   255763.565419                           покупка жилья  \n",
       "6   240525.971920                       операции с жильем  \n",
       "7   135823.934197                             образование  \n",
       "8    95856.832424                   на проведение свадьбы  \n",
       "9   144425.938277                 покупка жилья для семьи  \n",
       "10  113943.491460                    покупка недвижимости  \n",
       "11   77069.234271       покупка коммерческой недвижимости  \n",
       "12            NaN                         сыграть свадьбу  \n",
       "13  130458.228857                 приобретение автомобиля  \n",
       "14  165127.911772              покупка жилой недвижимости  \n",
       "15  116820.904450  строительство собственной недвижимости  \n",
       "16  289202.704229                            недвижимость  \n",
       "17   90410.586745              строительство недвижимости  \n",
       "18   56823.777243      на покупку подержанного автомобиля  \n",
       "19  242831.107982            на покупку своего автомобиля  "
      ]
     },
     "execution_count": 2,
     "metadata": {},
     "output_type": "execute_result"
    }
   ],
   "source": [
    "data.head(20)"
   ]
  },
  {
   "cell_type": "markdown",
   "id": "9f9811b4",
   "metadata": {
    "deletable": false,
    "editable": false,
    "id": "1c12e233"
   },
   "source": [
    "**Задание 3. Выведите основную информацию о датафрейме с помощью метода `info()`.**"
   ]
  },
  {
   "cell_type": "code",
   "execution_count": 3,
   "id": "64c8a9e3",
   "metadata": {
    "deletable": false,
    "id": "2b757bca",
    "outputId": "15376089-8dad-46c9-b520-c05248d43158"
   },
   "outputs": [
    {
     "name": "stdout",
     "output_type": "stream",
     "text": [
      "<class 'pandas.core.frame.DataFrame'>\n",
      "RangeIndex: 21525 entries, 0 to 21524\n",
      "Data columns (total 12 columns):\n",
      " #   Column            Non-Null Count  Dtype  \n",
      "---  ------            --------------  -----  \n",
      " 0   children          21525 non-null  int64  \n",
      " 1   days_employed     19351 non-null  float64\n",
      " 2   dob_years         21525 non-null  int64  \n",
      " 3   education         21525 non-null  object \n",
      " 4   education_id      21525 non-null  int64  \n",
      " 5   family_status     21525 non-null  object \n",
      " 6   family_status_id  21525 non-null  int64  \n",
      " 7   gender            21525 non-null  object \n",
      " 8   income_type       21525 non-null  object \n",
      " 9   debt              21525 non-null  int64  \n",
      " 10  total_income      19351 non-null  float64\n",
      " 11  purpose           21525 non-null  object \n",
      "dtypes: float64(2), int64(5), object(5)\n",
      "memory usage: 2.0+ MB\n"
     ]
    }
   ],
   "source": [
    "data.info()"
   ]
  },
  {
   "cell_type": "markdown",
   "id": "daf78952",
   "metadata": {
    "deletable": false,
    "editable": false,
    "id": "333ec665"
   },
   "source": [
    "## Предобработка данных"
   ]
  },
  {
   "cell_type": "markdown",
   "id": "f6d4bfb1",
   "metadata": {
    "deletable": false,
    "editable": false,
    "id": "02d92d53"
   },
   "source": [
    "### Удаление пропусков"
   ]
  },
  {
   "cell_type": "markdown",
   "id": "03ef1102",
   "metadata": {
    "deletable": false,
    "editable": false,
    "id": "cd84967c"
   },
   "source": [
    "**Задание 4. Выведите количество пропущенных значений для каждого столбца. Используйте комбинацию двух методов.**"
   ]
  },
  {
   "cell_type": "code",
   "execution_count": 4,
   "id": "b1ed8df4",
   "metadata": {
    "deletable": false,
    "id": "7f9b2309",
    "outputId": "81f4d817-781c-465c-ed15-91ce4446810d"
   },
   "outputs": [
    {
     "data": {
      "text/plain": [
       "children               0\n",
       "days_employed       2174\n",
       "dob_years              0\n",
       "education              0\n",
       "education_id           0\n",
       "family_status          0\n",
       "family_status_id       0\n",
       "gender                 0\n",
       "income_type            0\n",
       "debt                   0\n",
       "total_income        2174\n",
       "purpose                0\n",
       "dtype: int64"
      ]
     },
     "execution_count": 4,
     "metadata": {},
     "output_type": "execute_result"
    }
   ],
   "source": [
    "data.isna().sum()"
   ]
  },
  {
   "cell_type": "markdown",
   "id": "c1ac2cde",
   "metadata": {
    "deletable": false,
    "editable": false,
    "id": "db86e27b"
   },
   "source": [
    "**Задание 5. В двух столбцах есть пропущенные значения. Один из них — `days_employed`. Пропуски в этом столбце вы обработаете на следующем этапе. Другой столбец с пропущенными значениями — `total_income` — хранит данные о доходах. На сумму дохода сильнее всего влияет тип занятости, поэтому заполнить пропуски в этом столбце нужно медианным значением по каждому типу из столбца `income_type`. Например, у человека с типом занятости `сотрудник` пропуск в столбце `total_income` должен быть заполнен медианным доходом среди всех записей с тем же типом.**"
   ]
  },
  {
   "cell_type": "code",
   "execution_count": 5,
   "id": "938f2656",
   "metadata": {
    "deletable": false,
    "id": "42006a93"
   },
   "outputs": [],
   "source": [
    "for t in data['income_type'].unique():\n",
    "    data.loc[(data['income_type'] == t) & \n",
    "             (data['total_income'].isna()), 'total_income'] = \\\n",
    "    data.loc[(data['income_type'] == t), 'total_income'].median()"
   ]
  },
  {
   "cell_type": "markdown",
   "id": "f72cf6fd",
   "metadata": {
    "deletable": false,
    "editable": false,
    "id": "89da5ece"
   },
   "source": [
    "### Обработка аномальных значений"
   ]
  },
  {
   "cell_type": "markdown",
   "id": "7678ca25",
   "metadata": {
    "deletable": false,
    "editable": false,
    "id": "57964554"
   },
   "source": [
    "**Задание 6. В данных могут встречаться артефакты (аномалии) — значения, которые не отражают действительность и появились по какой-то ошибке. таким артефактом будет отрицательное количество дней трудового стажа в столбце `days_employed`. Для реальных данных это нормально. Обработайте значения в этом столбце: замените все отрицательные значения положительными с помощью метода `abs()`.**"
   ]
  },
  {
   "cell_type": "code",
   "execution_count": 6,
   "id": "5becd93d",
   "metadata": {
    "deletable": false,
    "id": "f6f055bf"
   },
   "outputs": [],
   "source": [
    "data['days_employed'] = data['days_employed'].abs()"
   ]
  },
  {
   "cell_type": "markdown",
   "id": "bc2f27e0",
   "metadata": {
    "deletable": false,
    "editable": false,
    "id": "6107dd2f"
   },
   "source": [
    "**Задание 7. Для каждого типа занятости выведите медианное значение трудового стажа `days_employed` в днях.**"
   ]
  },
  {
   "cell_type": "code",
   "execution_count": 7,
   "id": "7da3317a",
   "metadata": {
    "deletable": false,
    "id": "85a5faf6",
    "outputId": "801ef80e-522b-4668-f34e-565af7432bcf"
   },
   "outputs": [
    {
     "data": {
      "text/plain": [
       "income_type\n",
       "безработный        366413.652744\n",
       "в декрете            3296.759962\n",
       "госслужащий          2689.368353\n",
       "компаньон            1547.382223\n",
       "пенсионер          365213.306266\n",
       "предприниматель       520.848083\n",
       "сотрудник            1574.202821\n",
       "студент               578.751554\n",
       "Name: days_employed, dtype: float64"
      ]
     },
     "execution_count": 7,
     "metadata": {},
     "output_type": "execute_result"
    }
   ],
   "source": [
    "data.groupby('income_type')['days_employed'].agg('median')"
   ]
  },
  {
   "cell_type": "markdown",
   "id": "84077e13",
   "metadata": {
    "deletable": false,
    "editable": false,
    "id": "38d1a030"
   },
   "source": [
    "У двух типов (безработные и пенсионеры) получатся аномально большие значения. Исправить такие значения сложно, поэтому оставьте их как есть. Тем более этот столбец не понадобится вам для исследования."
   ]
  },
  {
   "cell_type": "markdown",
   "id": "17e977c3",
   "metadata": {
    "deletable": false,
    "editable": false,
    "id": "d8a9f147"
   },
   "source": [
    "**Задание 8. Выведите перечень уникальных значений столбца `children`.**"
   ]
  },
  {
   "cell_type": "code",
   "execution_count": 8,
   "id": "6841fd5d",
   "metadata": {
    "deletable": false,
    "id": "ef5056eb",
    "outputId": "6975b15c-7f95-4697-d16d-a0c79b657b03"
   },
   "outputs": [
    {
     "data": {
      "text/plain": [
       "array([ 1,  0,  3,  2, -1,  4, 20,  5])"
      ]
     },
     "execution_count": 8,
     "metadata": {},
     "output_type": "execute_result"
    }
   ],
   "source": [
    "data['children'].unique()"
   ]
  },
  {
   "cell_type": "markdown",
   "id": "66f4cda4",
   "metadata": {
    "deletable": false,
    "editable": false,
    "id": "40b9ebf2"
   },
   "source": [
    "**Задание 9. В столбце `children` есть два аномальных значения. Удалите строки, в которых встречаются такие аномальные значения из датафрейма `data`.**"
   ]
  },
  {
   "cell_type": "code",
   "execution_count": 9,
   "id": "66c9569f",
   "metadata": {
    "deletable": false,
    "id": "3ff9801d"
   },
   "outputs": [],
   "source": [
    "data = data[(data['children'] != -1) & (data['children'] != 20)]"
   ]
  },
  {
   "cell_type": "markdown",
   "id": "fdfa18d9",
   "metadata": {
    "deletable": false,
    "editable": false,
    "id": "bbc4d0ce"
   },
   "source": [
    "**Задание 10. Ещё раз выведите перечень уникальных значений столбца `children`, чтобы убедиться, что артефакты удалены.**"
   ]
  },
  {
   "cell_type": "code",
   "execution_count": 10,
   "id": "0b9fc95f",
   "metadata": {
    "deletable": false,
    "id": "ad4fa8b7",
    "outputId": "b2097101-d49d-44d9-901b-32a65c9463d1"
   },
   "outputs": [
    {
     "data": {
      "text/plain": [
       "array([1, 0, 3, 2, 4, 5])"
      ]
     },
     "execution_count": 10,
     "metadata": {},
     "output_type": "execute_result"
    }
   ],
   "source": [
    "data['children'].unique()"
   ]
  },
  {
   "cell_type": "markdown",
   "id": "eeafa3ce",
   "metadata": {
    "deletable": false,
    "editable": false,
    "id": "75440b63"
   },
   "source": [
    "### Удаление пропусков (продолжение)"
   ]
  },
  {
   "cell_type": "markdown",
   "id": "6cd9e676",
   "metadata": {
    "deletable": false,
    "editable": false,
    "id": "f4ea573f"
   },
   "source": [
    "**Задание 11. Заполните пропуски в столбце `days_employed` медианными значениями по каждого типа занятости `income_type`.**"
   ]
  },
  {
   "cell_type": "code",
   "execution_count": 11,
   "id": "a355caa3",
   "metadata": {
    "deletable": false,
    "id": "af6b1a7e"
   },
   "outputs": [],
   "source": [
    "for t in data['income_type'].unique():\n",
    "    data.loc[(data['income_type'] == t) & \n",
    "             (data['days_employed'].isna()), 'days_employed'] = \\\n",
    "    data.loc[(data['income_type'] == t), 'days_employed'].median()"
   ]
  },
  {
   "cell_type": "markdown",
   "id": "2c94f5ac",
   "metadata": {
    "deletable": false,
    "editable": false,
    "id": "2753f40d"
   },
   "source": [
    "**Задание 12. Убедитесь, что все пропуски заполнены. Проверьте себя и ещё раз выведите количество пропущенных значений для каждого столбца с помощью двух методов.**"
   ]
  },
  {
   "cell_type": "code",
   "execution_count": 12,
   "id": "a4219872",
   "metadata": {
    "deletable": false,
    "id": "55f78bc2",
    "outputId": "8da1e4e1-358e-4e87-98c9-f261bce0a7b2"
   },
   "outputs": [
    {
     "data": {
      "text/plain": [
       "children            0\n",
       "days_employed       0\n",
       "dob_years           0\n",
       "education           0\n",
       "education_id        0\n",
       "family_status       0\n",
       "family_status_id    0\n",
       "gender              0\n",
       "income_type         0\n",
       "debt                0\n",
       "total_income        0\n",
       "purpose             0\n",
       "dtype: int64"
      ]
     },
     "execution_count": 12,
     "metadata": {},
     "output_type": "execute_result"
    }
   ],
   "source": [
    "data.isna().sum()"
   ]
  },
  {
   "cell_type": "markdown",
   "id": "89177ae4",
   "metadata": {
    "deletable": false,
    "editable": false,
    "id": "ddc81e43"
   },
   "source": [
    "### Изменение типов данных"
   ]
  },
  {
   "cell_type": "markdown",
   "id": "14377335",
   "metadata": {
    "deletable": false,
    "editable": false,
    "id": "42d19d24"
   },
   "source": [
    "**Задание 13. Замените вещественный тип данных в столбце `total_income` на целочисленный с помощью метода `astype()`.**"
   ]
  },
  {
   "cell_type": "code",
   "execution_count": 13,
   "id": "05d40813",
   "metadata": {
    "deletable": false,
    "id": "920b65ad"
   },
   "outputs": [],
   "source": [
    "data['total_income'] = data['total_income'].astype(int)"
   ]
  },
  {
   "cell_type": "markdown",
   "id": "137ea1cd",
   "metadata": {
    "deletable": false,
    "editable": false,
    "id": "80c420ba"
   },
   "source": [
    "### Обработка дубликатов"
   ]
  },
  {
   "cell_type": "markdown",
   "id": "69a1e09c",
   "metadata": {
    "deletable": false,
    "editable": false
   },
   "source": [
    "**Задание 14. Обработайте неявные дубликаты в столбце `education`. В этом столбце есть одни и те же значения, но записанные по-разному: с использованием заглавных и строчных букв. Приведите их к нижнему регистру. Проверьте остальные столбцы.**"
   ]
  },
  {
   "cell_type": "code",
   "execution_count": 14,
   "id": "1ad277d6",
   "metadata": {
    "deletable": false
   },
   "outputs": [],
   "source": [
    "data['education'] = data['education'].str.lower()"
   ]
  },
  {
   "cell_type": "markdown",
   "id": "087f3e75",
   "metadata": {
    "deletable": false,
    "editable": false,
    "id": "dc587695"
   },
   "source": [
    "**Задание 15. Выведите на экран количество строк-дубликатов в данных. Если такие строки присутствуют, удалите их.**"
   ]
  },
  {
   "cell_type": "code",
   "execution_count": 15,
   "id": "05f1e2bd",
   "metadata": {
    "deletable": false,
    "id": "3ee445e4",
    "outputId": "9684deba-1934-42d1-99e1-cda61740f822"
   },
   "outputs": [
    {
     "data": {
      "text/plain": [
       "71"
      ]
     },
     "execution_count": 15,
     "metadata": {},
     "output_type": "execute_result"
    }
   ],
   "source": [
    "data.duplicated().sum()"
   ]
  },
  {
   "cell_type": "code",
   "execution_count": 16,
   "id": "9257446a",
   "metadata": {
    "deletable": false,
    "id": "8575fe05"
   },
   "outputs": [],
   "source": [
    "data = data.drop_duplicates()"
   ]
  },
  {
   "cell_type": "markdown",
   "id": "2db7245f",
   "metadata": {
    "deletable": false,
    "editable": false,
    "id": "9904cf55"
   },
   "source": [
    "### Категоризация данных"
   ]
  },
  {
   "cell_type": "markdown",
   "id": "cf691478",
   "metadata": {
    "deletable": false,
    "editable": false,
    "id": "72fcc8a2"
   },
   "source": [
    "**Задание 16. На основании диапазонов, указанных ниже, создайте в датафрейме `data` столбец `total_income_category` с категориями:**\n",
    "\n",
    "- 0–30000 — `'E'`;\n",
    "- 30001–50000 — `'D'`;\n",
    "- 50001–200000 — `'C'`;\n",
    "- 200001–1000000 — `'B'`;\n",
    "- 1000001 и выше — `'A'`.\n",
    "\n",
    "\n",
    "**Например, кредитополучателю с доходом 25000 нужно назначить категорию `'E'`, а клиенту, получающему 235000, — `'B'`. Используйте собственную функцию с именем `categorize_income()` и метод `apply()`.**"
   ]
  },
  {
   "cell_type": "code",
   "execution_count": 17,
   "id": "9be51255",
   "metadata": {
    "deletable": false,
    "id": "e1771346"
   },
   "outputs": [],
   "source": [
    "def categorize_income(income):\n",
    "    try:\n",
    "        if 0 <= income <= 30000:\n",
    "            return 'E'\n",
    "        elif 30001 <= income <= 50000:\n",
    "            return 'D'\n",
    "        elif 50001 <= income <= 200000:\n",
    "            return 'C'\n",
    "        elif 200001 <= income <= 1000000:\n",
    "            return 'B'\n",
    "        elif income >= 1000001:\n",
    "            return 'A'\n",
    "    except:\n",
    "        pass"
   ]
  },
  {
   "cell_type": "code",
   "execution_count": 18,
   "id": "879dcc4a",
   "metadata": {
    "deletable": false,
    "id": "d5f3586d"
   },
   "outputs": [],
   "source": [
    "data['total_income_category'] = data['total_income'].apply(categorize_income)"
   ]
  },
  {
   "cell_type": "markdown",
   "id": "0239a0d3",
   "metadata": {
    "deletable": false,
    "editable": false,
    "id": "dde49b5c"
   },
   "source": [
    "**Задание 17. Выведите на экран перечень уникальных целей взятия кредита из столбца `purpose`.**"
   ]
  },
  {
   "cell_type": "code",
   "execution_count": 19,
   "id": "70c6452d",
   "metadata": {
    "deletable": false,
    "id": "f67ce9b3",
    "outputId": "673c12d9-7d7e-4ae0-9812-c622c89dd244"
   },
   "outputs": [
    {
     "data": {
      "text/plain": [
       "array(['покупка жилья', 'приобретение автомобиля',\n",
       "       'дополнительное образование', 'сыграть свадьбу',\n",
       "       'операции с жильем', 'образование', 'на проведение свадьбы',\n",
       "       'покупка жилья для семьи', 'покупка недвижимости',\n",
       "       'покупка коммерческой недвижимости', 'покупка жилой недвижимости',\n",
       "       'строительство собственной недвижимости', 'недвижимость',\n",
       "       'строительство недвижимости', 'на покупку подержанного автомобиля',\n",
       "       'на покупку своего автомобиля',\n",
       "       'операции с коммерческой недвижимостью',\n",
       "       'строительство жилой недвижимости', 'жилье',\n",
       "       'операции со своей недвижимостью', 'автомобили',\n",
       "       'заняться образованием', 'сделка с подержанным автомобилем',\n",
       "       'получение образования', 'автомобиль', 'свадьба',\n",
       "       'получение дополнительного образования', 'покупка своего жилья',\n",
       "       'операции с недвижимостью', 'получение высшего образования',\n",
       "       'свой автомобиль', 'сделка с автомобилем',\n",
       "       'профильное образование', 'высшее образование',\n",
       "       'покупка жилья для сдачи', 'на покупку автомобиля', 'ремонт жилью',\n",
       "       'заняться высшим образованием'], dtype=object)"
      ]
     },
     "execution_count": 19,
     "metadata": {},
     "output_type": "execute_result"
    }
   ],
   "source": [
    "data['purpose'].unique()"
   ]
  },
  {
   "cell_type": "markdown",
   "id": "15c326e5",
   "metadata": {
    "deletable": false,
    "editable": false,
    "id": "85d0aef0"
   },
   "source": [
    "**Задание 18. Создайте функцию, которая на основании данных из столбца `purpose` сформирует новый столбец `purpose_category`, в который войдут следующие категории:**\n",
    "\n",
    "- `'операции с автомобилем'`,\n",
    "- `'операции с недвижимостью'`,\n",
    "- `'проведение свадьбы'`,\n",
    "- `'получение образования'`.\n",
    "\n",
    "**Например, если в столбце `purpose` находится подстрока `'на покупку автомобиля'`, то в столбце `purpose_category` должна появиться строка `'операции с автомобилем'`.**\n",
    "\n",
    "**Используйте собственную функцию с именем `categorize_purpose()` и метод `apply()`. Изучите данные в столбце `purpose` и определите, какие подстроки помогут вам правильно определить категорию.**"
   ]
  },
  {
   "cell_type": "code",
   "execution_count": 20,
   "id": "6388c2ab",
   "metadata": {
    "deletable": false,
    "id": "e149fab4"
   },
   "outputs": [],
   "source": [
    "def categorize_purpose(row):\n",
    "    try:\n",
    "        if 'автом' in row:\n",
    "            return 'операции с автомобилем'\n",
    "        elif 'жил' in row or 'недвиж' in row:\n",
    "            return 'операции с недвижимостью'\n",
    "        elif 'свад' in row:\n",
    "            return 'проведение свадьбы'\n",
    "        elif 'образов' in row:\n",
    "            return 'получение образования'\n",
    "    except:\n",
    "        return 'нет категории'"
   ]
  },
  {
   "cell_type": "code",
   "execution_count": 21,
   "id": "a775e085",
   "metadata": {
    "deletable": false,
    "id": "bf36e69b"
   },
   "outputs": [],
   "source": [
    "data['purpose_category'] = data['purpose'].apply(categorize_purpose)"
   ]
  },
  {
   "cell_type": "markdown",
   "id": "21d3a822",
   "metadata": {
    "deletable": false,
    "editable": false,
    "id": "09b242bf"
   },
   "source": [
    "### Шаг 3. Исследуйте данные и ответьте на вопросы"
   ]
  },
  {
   "cell_type": "markdown",
   "id": "c090facc",
   "metadata": {
    "deletable": false,
    "editable": false,
    "id": "c5d66278"
   },
   "source": [
    "#### 3.1 Есть ли зависимость между количеством детей и возвратом кредита в срок?"
   ]
  },
  {
   "cell_type": "code",
   "execution_count": 22,
   "id": "5b8a09fa",
   "metadata": {},
   "outputs": [
    {
     "data": {
      "text/plain": [
       "children  debt\n",
       "0         0       13028\n",
       "          1        1063\n",
       "1         0        4364\n",
       "          1         444\n",
       "2         0        1858\n",
       "          1         194\n",
       "3         0         303\n",
       "          1          27\n",
       "4         0          37\n",
       "          1           4\n",
       "5         0           9\n",
       "Name: debt, dtype: int64"
      ]
     },
     "execution_count": 22,
     "metadata": {},
     "output_type": "execute_result"
    }
   ],
   "source": [
    "data.groupby('children')['debt'].value_counts()"
   ]
  },
  {
   "cell_type": "code",
   "execution_count": 23,
   "id": "785758c6",
   "metadata": {},
   "outputs": [
    {
     "data": {
      "text/plain": [
       "children\n",
       "0    7.543822\n",
       "1    9.234609\n",
       "2    9.454191\n",
       "3    8.181818\n",
       "4    9.756098\n",
       "5    0.000000\n",
       "Name: debt, dtype: float64"
      ]
     },
     "execution_count": 23,
     "metadata": {},
     "output_type": "execute_result"
    }
   ],
   "source": [
    "data.groupby('children')['debt'].mean() * 100"
   ]
  },
  {
   "cell_type": "code",
   "execution_count": 24,
   "id": "87d4685e",
   "metadata": {},
   "outputs": [],
   "source": [
    "import seaborn as sb"
   ]
  },
  {
   "cell_type": "code",
   "execution_count": 25,
   "id": "b645cef9",
   "metadata": {
    "deletable": false,
    "id": "2cacfc4a",
    "scrolled": true
   },
   "outputs": [
    {
     "data": {
      "image/png": "[encoded data removed]",
      "text/plain": [
       "<Figure size 432x288 with 1 Axes>"
      ]
     },
     "metadata": {
      "needs_background": "light"
     },
     "output_type": "display_data"
    }
   ],
   "source": [
    "sb.barplot(x=data['children'], y=data['debt'], data=data, ci=None);"
   ]
  },
  {
   "cell_type": "code",
   "execution_count": 26,
   "id": "cf81e955",
   "metadata": {},
   "outputs": [
    {
     "data": {
      "text/html": [
       "<div>\n",
       "<style scoped>\n",
       "    .dataframe tbody tr th:only-of-type {\n",
       "        vertical-align: middle;\n",
       "    }\n",
       "\n",
       "    .dataframe tbody tr th {\n",
       "        vertical-align: top;\n",
       "    }\n",
       "\n",
       "    .dataframe thead tr th {\n",
       "        text-align: left;\n",
       "    }\n",
       "\n",
       "    .dataframe thead tr:last-of-type th {\n",
       "        text-align: right;\n",
       "    }\n",
       "</style>\n",
       "<table border=\"1\" class=\"dataframe\">\n",
       "  <thead>\n",
       "    <tr>\n",
       "      <th></th>\n",
       "      <th>mean</th>\n",
       "      <th>count</th>\n",
       "      <th>sum</th>\n",
       "    </tr>\n",
       "    <tr>\n",
       "      <th></th>\n",
       "      <th>debt</th>\n",
       "      <th>debt</th>\n",
       "      <th>debt</th>\n",
       "    </tr>\n",
       "    <tr>\n",
       "      <th>children</th>\n",
       "      <th></th>\n",
       "      <th></th>\n",
       "      <th></th>\n",
       "    </tr>\n",
       "  </thead>\n",
       "  <tbody>\n",
       "    <tr>\n",
       "      <th>0</th>\n",
       "      <td>0.075438</td>\n",
       "      <td>14091</td>\n",
       "      <td>1063</td>\n",
       "    </tr>\n",
       "    <tr>\n",
       "      <th>1</th>\n",
       "      <td>0.092346</td>\n",
       "      <td>4808</td>\n",
       "      <td>444</td>\n",
       "    </tr>\n",
       "    <tr>\n",
       "      <th>2</th>\n",
       "      <td>0.094542</td>\n",
       "      <td>2052</td>\n",
       "      <td>194</td>\n",
       "    </tr>\n",
       "    <tr>\n",
       "      <th>3</th>\n",
       "      <td>0.081818</td>\n",
       "      <td>330</td>\n",
       "      <td>27</td>\n",
       "    </tr>\n",
       "    <tr>\n",
       "      <th>4</th>\n",
       "      <td>0.097561</td>\n",
       "      <td>41</td>\n",
       "      <td>4</td>\n",
       "    </tr>\n",
       "    <tr>\n",
       "      <th>5</th>\n",
       "      <td>0.000000</td>\n",
       "      <td>9</td>\n",
       "      <td>0</td>\n",
       "    </tr>\n",
       "  </tbody>\n",
       "</table>\n",
       "</div>"
      ],
      "text/plain": [
       "              mean  count   sum\n",
       "              debt   debt  debt\n",
       "children                       \n",
       "0         0.075438  14091  1063\n",
       "1         0.092346   4808   444\n",
       "2         0.094542   2052   194\n",
       "3         0.081818    330    27\n",
       "4         0.097561     41     4\n",
       "5         0.000000      9     0"
      ]
     },
     "execution_count": 26,
     "metadata": {},
     "output_type": "execute_result"
    }
   ],
   "source": [
    "data.pivot_table(index='children', values='debt', \n",
    "                 aggfunc = ['mean', 'count', 'sum'])"
   ]
  },
  {
   "cell_type": "markdown",
   "id": "8eef2a16",
   "metadata": {
    "deletable": false,
    "id": "3a6b99ec"
   },
   "source": [
    "**Вывод:** Прямой зависимости между количеством детей и возвратом кредита в срок не наблюдается. \n",
    "Мы можем заметить, что семьи с 5 детьми всегда возвращают кредиты в срок, однако в выборе таких семей всего 9, так что полноценных выводов именно по их поводу мы сделать не можем. \n",
    "Далее идуют семьи, у которых детей нет. У них относительно низкий показатель задолжености, из-за чего можно предположить, что траты и расходы в данной группе семей более систематизированы, возникает меньше спонтанных трат, благодаря чему люди своевременно выплачивают кредиты. \n",
    "Самая высокая доля с невозвратом кредита в срок наблюдается у семей с 4 детьми, далее идут с 2, 3 и с 1 ребёнком в семье."
   ]
  },
  {
   "cell_type": "markdown",
   "id": "9cb71a44",
   "metadata": {},
   "source": [
    "#### Доля задолженностей по группам:\n",
    "* нет детей - 7.54%\n",
    "* 1 ребенок - 9.23%\n",
    "* 2 ребенка - 9.45%\n",
    "* 3 ребенка - 8.18%\n",
    "* 4 ребенка - 9.76%\n",
    "* 5 детей - 0%, малая выборка, рекомендуется продолжить исследование"
   ]
  },
  {
   "cell_type": "markdown",
   "id": "a391c085",
   "metadata": {},
   "source": [
    "##### Наблюдается следующая зависимость:\n",
    "* Наименьшая доля задолженность у семей без детей - 7,54%\n",
    "* У семей с детьми % задолженности выше - 9,23%, 9,45% и 9,76%, однако у семей с 3 детьми задолженность составляет 8,18%, однако это может свидетельствовать о недостаточной выборке. \n",
    "* Рекомендуется продолжить исследование по семьям с 3 и 5 детьми. "
   ]
  },
  {
   "cell_type": "markdown",
   "id": "57be45ec",
   "metadata": {
    "deletable": false,
    "editable": false,
    "id": "97be82ca"
   },
   "source": [
    "#### 3.2 Есть ли зависимость между семейным положением и возвратом кредита в срок?"
   ]
  },
  {
   "cell_type": "code",
   "execution_count": 27,
   "id": "b09fdfe0",
   "metadata": {},
   "outputs": [
    {
     "data": {
      "text/plain": [
       "family_status\n",
       "Не женат / не замужем    9.763948\n",
       "в разводе                7.064760\n",
       "вдовец / вдова           6.624606\n",
       "гражданский брак         9.313014\n",
       "женат / замужем          7.560558\n",
       "Name: debt, dtype: float64"
      ]
     },
     "execution_count": 27,
     "metadata": {},
     "output_type": "execute_result"
    }
   ],
   "source": [
    "data.groupby('family_status')['debt'].mean() * 100"
   ]
  },
  {
   "cell_type": "code",
   "execution_count": 28,
   "id": "5e73e6fd",
   "metadata": {
    "deletable": false,
    "id": "dc3f7ee8"
   },
   "outputs": [
    {
     "data": {
      "image/png": "[encoded data removed]",
      "text/plain": [
       "<Figure size 432x288 with 1 Axes>"
      ]
     },
     "metadata": {
      "needs_background": "light"
     },
     "output_type": "display_data"
    }
   ],
   "source": [
    "sb.barplot(x=data['debt'], y=data['family_status'], data=data, ci=None);"
   ]
  },
  {
   "cell_type": "code",
   "execution_count": 29,
   "id": "ac654842",
   "metadata": {},
   "outputs": [
    {
     "data": {
      "text/html": [
       "<div>\n",
       "<style scoped>\n",
       "    .dataframe tbody tr th:only-of-type {\n",
       "        vertical-align: middle;\n",
       "    }\n",
       "\n",
       "    .dataframe tbody tr th {\n",
       "        vertical-align: top;\n",
       "    }\n",
       "\n",
       "    .dataframe thead tr th {\n",
       "        text-align: left;\n",
       "    }\n",
       "\n",
       "    .dataframe thead tr:last-of-type th {\n",
       "        text-align: right;\n",
       "    }\n",
       "</style>\n",
       "<table border=\"1\" class=\"dataframe\">\n",
       "  <thead>\n",
       "    <tr>\n",
       "      <th></th>\n",
       "      <th>mean</th>\n",
       "      <th>count</th>\n",
       "      <th>sum</th>\n",
       "    </tr>\n",
       "    <tr>\n",
       "      <th></th>\n",
       "      <th>debt</th>\n",
       "      <th>debt</th>\n",
       "      <th>debt</th>\n",
       "    </tr>\n",
       "    <tr>\n",
       "      <th>family_status</th>\n",
       "      <th></th>\n",
       "      <th></th>\n",
       "      <th></th>\n",
       "    </tr>\n",
       "  </thead>\n",
       "  <tbody>\n",
       "    <tr>\n",
       "      <th>Не женат / не замужем</th>\n",
       "      <td>0.097639</td>\n",
       "      <td>2796</td>\n",
       "      <td>273</td>\n",
       "    </tr>\n",
       "    <tr>\n",
       "      <th>в разводе</th>\n",
       "      <td>0.070648</td>\n",
       "      <td>1189</td>\n",
       "      <td>84</td>\n",
       "    </tr>\n",
       "    <tr>\n",
       "      <th>вдовец / вдова</th>\n",
       "      <td>0.066246</td>\n",
       "      <td>951</td>\n",
       "      <td>63</td>\n",
       "    </tr>\n",
       "    <tr>\n",
       "      <th>гражданский брак</th>\n",
       "      <td>0.093130</td>\n",
       "      <td>4134</td>\n",
       "      <td>385</td>\n",
       "    </tr>\n",
       "    <tr>\n",
       "      <th>женат / замужем</th>\n",
       "      <td>0.075606</td>\n",
       "      <td>12261</td>\n",
       "      <td>927</td>\n",
       "    </tr>\n",
       "  </tbody>\n",
       "</table>\n",
       "</div>"
      ],
      "text/plain": [
       "                           mean  count  sum\n",
       "                           debt   debt debt\n",
       "family_status                              \n",
       "Не женат / не замужем  0.097639   2796  273\n",
       "в разводе              0.070648   1189   84\n",
       "вдовец / вдова         0.066246    951   63\n",
       "гражданский брак       0.093130   4134  385\n",
       "женат / замужем        0.075606  12261  927"
      ]
     },
     "execution_count": 29,
     "metadata": {},
     "output_type": "execute_result"
    }
   ],
   "source": [
    "data.pivot_table(index='family_status', values='debt', \n",
    "                 aggfunc = ['mean', 'count', 'sum'])"
   ]
  },
  {
   "cell_type": "markdown",
   "id": "ad73eeab",
   "metadata": {
    "deletable": false,
    "id": "1cef7837"
   },
   "source": [
    "**Вывод:** Зависимость между семейным положением и возвратом кредита в срок есть.\n",
    "Люди, не находящиеся замужем или не женатые (9,76%), а так же те, кто состоит в гражданском браке (9,31%) имеют больший процент задолженностей по кредитам.\n",
    "Женат/замужем - 7,56%\n",
    "Вдовец/вдова - 6,62%\n",
    "В разводе - 7,06%"
   ]
  },
  {
   "cell_type": "markdown",
   "id": "67577ef4",
   "metadata": {
    "deletable": false,
    "editable": false,
    "id": "1e8b2fca"
   },
   "source": [
    "#### 3.3 Есть ли зависимость между уровнем дохода и возвратом кредита в срок?"
   ]
  },
  {
   "cell_type": "code",
   "execution_count": 30,
   "id": "ce297107",
   "metadata": {},
   "outputs": [
    {
     "data": {
      "text/plain": [
       "total_income_category\n",
       "A    8.000000\n",
       "B    7.060231\n",
       "C    8.498210\n",
       "D    6.017192\n",
       "E    9.090909\n",
       "Name: debt, dtype: float64"
      ]
     },
     "execution_count": 30,
     "metadata": {},
     "output_type": "execute_result"
    }
   ],
   "source": [
    "data.groupby('total_income_category')['debt'].mean() * 100"
   ]
  },
  {
   "cell_type": "code",
   "execution_count": 31,
   "id": "beb4a30f",
   "metadata": {
    "deletable": false,
    "id": "cd7e3720"
   },
   "outputs": [
    {
     "data": {
      "image/png": "[encoded data removed]",
      "text/plain": [
       "<Figure size 432x288 with 1 Axes>"
      ]
     },
     "metadata": {
      "needs_background": "light"
     },
     "output_type": "display_data"
    }
   ],
   "source": [
    "sb.barplot(x=data['total_income_category'], y=data['debt'], data=data, ci=None);"
   ]
  },
  {
   "cell_type": "code",
   "execution_count": 32,
   "id": "55902706",
   "metadata": {},
   "outputs": [
    {
     "data": {
      "text/html": [
       "<div>\n",
       "<style scoped>\n",
       "    .dataframe tbody tr th:only-of-type {\n",
       "        vertical-align: middle;\n",
       "    }\n",
       "\n",
       "    .dataframe tbody tr th {\n",
       "        vertical-align: top;\n",
       "    }\n",
       "\n",
       "    .dataframe thead tr th {\n",
       "        text-align: left;\n",
       "    }\n",
       "\n",
       "    .dataframe thead tr:last-of-type th {\n",
       "        text-align: right;\n",
       "    }\n",
       "</style>\n",
       "<table border=\"1\" class=\"dataframe\">\n",
       "  <thead>\n",
       "    <tr>\n",
       "      <th></th>\n",
       "      <th>mean</th>\n",
       "      <th>count</th>\n",
       "      <th>sum</th>\n",
       "    </tr>\n",
       "    <tr>\n",
       "      <th></th>\n",
       "      <th>debt</th>\n",
       "      <th>debt</th>\n",
       "      <th>debt</th>\n",
       "    </tr>\n",
       "    <tr>\n",
       "      <th>total_income_category</th>\n",
       "      <th></th>\n",
       "      <th></th>\n",
       "      <th></th>\n",
       "    </tr>\n",
       "  </thead>\n",
       "  <tbody>\n",
       "    <tr>\n",
       "      <th>A</th>\n",
       "      <td>0.080000</td>\n",
       "      <td>25</td>\n",
       "      <td>2</td>\n",
       "    </tr>\n",
       "    <tr>\n",
       "      <th>B</th>\n",
       "      <td>0.070602</td>\n",
       "      <td>5014</td>\n",
       "      <td>354</td>\n",
       "    </tr>\n",
       "    <tr>\n",
       "      <th>C</th>\n",
       "      <td>0.084982</td>\n",
       "      <td>15921</td>\n",
       "      <td>1353</td>\n",
       "    </tr>\n",
       "    <tr>\n",
       "      <th>D</th>\n",
       "      <td>0.060172</td>\n",
       "      <td>349</td>\n",
       "      <td>21</td>\n",
       "    </tr>\n",
       "    <tr>\n",
       "      <th>E</th>\n",
       "      <td>0.090909</td>\n",
       "      <td>22</td>\n",
       "      <td>2</td>\n",
       "    </tr>\n",
       "  </tbody>\n",
       "</table>\n",
       "</div>"
      ],
      "text/plain": [
       "                           mean  count   sum\n",
       "                           debt   debt  debt\n",
       "total_income_category                       \n",
       "A                      0.080000     25     2\n",
       "B                      0.070602   5014   354\n",
       "C                      0.084982  15921  1353\n",
       "D                      0.060172    349    21\n",
       "E                      0.090909     22     2"
      ]
     },
     "execution_count": 32,
     "metadata": {},
     "output_type": "execute_result"
    }
   ],
   "source": [
    "data.pivot_table(index='total_income_category', values='debt', \n",
    "                 aggfunc = ['mean', 'count', 'sum'])"
   ]
  },
  {
   "cell_type": "markdown",
   "id": "d219887f",
   "metadata": {
    "deletable": false,
    "id": "e8593def"
   },
   "source": [
    "**Вывод:** Прямой зависимости между уровнем дохода и возвратом кредита в срок не наблюдается. \n",
    "Люди с заработком 30000-50000 (категория D) чаще выплачивают кредиты в срок - 6%. \n",
    "Лица с наименьшей заработной платой (категория E) чаще остальных имеют задолженности по кредитам - 9,09%. За ними идут лица категории C - 8,5%, A - 8% и B - 7,06%."
   ]
  },
  {
   "cell_type": "markdown",
   "id": "a0729507",
   "metadata": {
    "deletable": false,
    "editable": false,
    "id": "99ecbd1f"
   },
   "source": [
    "#### 3.4 Как разные цели кредита влияют на его возврат в срок?"
   ]
  },
  {
   "cell_type": "code",
   "execution_count": 33,
   "id": "1ab4ac8d",
   "metadata": {},
   "outputs": [
    {
     "data": {
      "text/plain": [
       "purpose_category\n",
       "операции с автомобилем      9.347978\n",
       "операции с недвижимостью    7.255139\n",
       "получение образования       9.252758\n",
       "проведение свадьбы          7.911803\n",
       "Name: debt, dtype: float64"
      ]
     },
     "execution_count": 33,
     "metadata": {},
     "output_type": "execute_result"
    }
   ],
   "source": [
    "data.groupby('purpose_category')['debt'].mean() * 100"
   ]
  },
  {
   "cell_type": "code",
   "execution_count": 34,
   "id": "35ad2d69",
   "metadata": {
    "deletable": false,
    "id": "2b687290"
   },
   "outputs": [
    {
     "data": {
      "image/png": "[encoded data removed]",
      "text/plain": [
       "<Figure size 432x288 with 1 Axes>"
      ]
     },
     "metadata": {
      "needs_background": "light"
     },
     "output_type": "display_data"
    }
   ],
   "source": [
    "sb.barplot(x=data['debt'], y=data['purpose_category'], data=data, ci=None);"
   ]
  },
  {
   "cell_type": "code",
   "execution_count": 35,
   "id": "c20335df",
   "metadata": {},
   "outputs": [
    {
     "data": {
      "text/html": [
       "<div>\n",
       "<style scoped>\n",
       "    .dataframe tbody tr th:only-of-type {\n",
       "        vertical-align: middle;\n",
       "    }\n",
       "\n",
       "    .dataframe tbody tr th {\n",
       "        vertical-align: top;\n",
       "    }\n",
       "\n",
       "    .dataframe thead tr th {\n",
       "        text-align: left;\n",
       "    }\n",
       "\n",
       "    .dataframe thead tr:last-of-type th {\n",
       "        text-align: right;\n",
       "    }\n",
       "</style>\n",
       "<table border=\"1\" class=\"dataframe\">\n",
       "  <thead>\n",
       "    <tr>\n",
       "      <th></th>\n",
       "      <th>mean</th>\n",
       "      <th>count</th>\n",
       "      <th>sum</th>\n",
       "    </tr>\n",
       "    <tr>\n",
       "      <th></th>\n",
       "      <th>debt</th>\n",
       "      <th>debt</th>\n",
       "      <th>debt</th>\n",
       "    </tr>\n",
       "    <tr>\n",
       "      <th>purpose_category</th>\n",
       "      <th></th>\n",
       "      <th></th>\n",
       "      <th></th>\n",
       "    </tr>\n",
       "  </thead>\n",
       "  <tbody>\n",
       "    <tr>\n",
       "      <th>операции с автомобилем</th>\n",
       "      <td>0.093480</td>\n",
       "      <td>4279</td>\n",
       "      <td>400</td>\n",
       "    </tr>\n",
       "    <tr>\n",
       "      <th>операции с недвижимостью</th>\n",
       "      <td>0.072551</td>\n",
       "      <td>10751</td>\n",
       "      <td>780</td>\n",
       "    </tr>\n",
       "    <tr>\n",
       "      <th>получение образования</th>\n",
       "      <td>0.092528</td>\n",
       "      <td>3988</td>\n",
       "      <td>369</td>\n",
       "    </tr>\n",
       "    <tr>\n",
       "      <th>проведение свадьбы</th>\n",
       "      <td>0.079118</td>\n",
       "      <td>2313</td>\n",
       "      <td>183</td>\n",
       "    </tr>\n",
       "  </tbody>\n",
       "</table>\n",
       "</div>"
      ],
      "text/plain": [
       "                              mean  count  sum\n",
       "                              debt   debt debt\n",
       "purpose_category                              \n",
       "операции с автомобилем    0.093480   4279  400\n",
       "операции с недвижимостью  0.072551  10751  780\n",
       "получение образования     0.092528   3988  369\n",
       "проведение свадьбы        0.079118   2313  183"
      ]
     },
     "execution_count": 35,
     "metadata": {},
     "output_type": "execute_result"
    }
   ],
   "source": [
    "data.pivot_table(index='purpose_category', values='debt', \n",
    "                 aggfunc = ['mean', 'count', 'sum'])"
   ]
  },
  {
   "cell_type": "markdown",
   "id": "8e1bb00e",
   "metadata": {
    "deletable": false,
    "id": "b4bb2ce6"
   },
   "source": [
    "**Вывод:** Процент людей с зажолженностями по кредитам на получение образования(9,25%) и операции с автомобилем(9,35%) выше остальных. Можно предположить, что люди с кредитом на получение образования рассчитывают на более высокооплачиваемую работу во время учёбы и после, чем та, на которую удаётся устроиться на самом деле. \n",
    "Проведение свадьбы - 7,91%\n",
    "Операции с недвижимостью - 7,25%"
   ]
  },
  {
   "cell_type": "code",
   "execution_count": 36,
   "id": "73bb5f39",
   "metadata": {},
   "outputs": [],
   "source": [
    "data_pivot = data.pivot_table(\n",
    "    index = ['children', 'total_income_category'],\n",
    "    columns = ['family_status', 'purpose_category'],\n",
    "    values = 'debt', aggfunc=['mean'])"
   ]
  },
  {
   "cell_type": "code",
   "execution_count": 37,
   "id": "4effcb79",
   "metadata": {},
   "outputs": [
    {
     "data": {
      "text/html": [
       "<div>\n",
       "<style scoped>\n",
       "    .dataframe tbody tr th:only-of-type {\n",
       "        vertical-align: middle;\n",
       "    }\n",
       "\n",
       "    .dataframe tbody tr th {\n",
       "        vertical-align: top;\n",
       "    }\n",
       "\n",
       "    .dataframe thead tr th {\n",
       "        text-align: left;\n",
       "    }\n",
       "\n",
       "    .dataframe thead tr:last-of-type th {\n",
       "        text-align: right;\n",
       "    }\n",
       "</style>\n",
       "<table border=\"1\" class=\"dataframe\">\n",
       "  <thead>\n",
       "    <tr>\n",
       "      <th></th>\n",
       "      <th></th>\n",
       "      <th colspan=\"16\" halign=\"left\">mean</th>\n",
       "    </tr>\n",
       "    <tr>\n",
       "      <th></th>\n",
       "      <th>family_status</th>\n",
       "      <th colspan=\"3\" halign=\"left\">Не женат / не замужем</th>\n",
       "      <th colspan=\"3\" halign=\"left\">в разводе</th>\n",
       "      <th colspan=\"3\" halign=\"left\">вдовец / вдова</th>\n",
       "      <th colspan=\"4\" halign=\"left\">гражданский брак</th>\n",
       "      <th colspan=\"3\" halign=\"left\">женат / замужем</th>\n",
       "    </tr>\n",
       "    <tr>\n",
       "      <th></th>\n",
       "      <th>purpose_category</th>\n",
       "      <th>операции с автомобилем</th>\n",
       "      <th>операции с недвижимостью</th>\n",
       "      <th>получение образования</th>\n",
       "      <th>операции с автомобилем</th>\n",
       "      <th>операции с недвижимостью</th>\n",
       "      <th>получение образования</th>\n",
       "      <th>операции с автомобилем</th>\n",
       "      <th>операции с недвижимостью</th>\n",
       "      <th>получение образования</th>\n",
       "      <th>операции с автомобилем</th>\n",
       "      <th>операции с недвижимостью</th>\n",
       "      <th>получение образования</th>\n",
       "      <th>проведение свадьбы</th>\n",
       "      <th>операции с автомобилем</th>\n",
       "      <th>операции с недвижимостью</th>\n",
       "      <th>получение образования</th>\n",
       "    </tr>\n",
       "    <tr>\n",
       "      <th>children</th>\n",
       "      <th>total_income_category</th>\n",
       "      <th></th>\n",
       "      <th></th>\n",
       "      <th></th>\n",
       "      <th></th>\n",
       "      <th></th>\n",
       "      <th></th>\n",
       "      <th></th>\n",
       "      <th></th>\n",
       "      <th></th>\n",
       "      <th></th>\n",
       "      <th></th>\n",
       "      <th></th>\n",
       "      <th></th>\n",
       "      <th></th>\n",
       "      <th></th>\n",
       "      <th></th>\n",
       "    </tr>\n",
       "  </thead>\n",
       "  <tbody>\n",
       "    <tr>\n",
       "      <th rowspan=\"5\" valign=\"top\">0</th>\n",
       "      <th>A</th>\n",
       "      <td>NaN</td>\n",
       "      <td>0.000000</td>\n",
       "      <td>NaN</td>\n",
       "      <td>NaN</td>\n",
       "      <td>0.000000</td>\n",
       "      <td>NaN</td>\n",
       "      <td>NaN</td>\n",
       "      <td>NaN</td>\n",
       "      <td>NaN</td>\n",
       "      <td>NaN</td>\n",
       "      <td>0.000000</td>\n",
       "      <td>1.000000</td>\n",
       "      <td>0.000000</td>\n",
       "      <td>NaN</td>\n",
       "      <td>0.000000</td>\n",
       "      <td>0.000000</td>\n",
       "    </tr>\n",
       "    <tr>\n",
       "      <th>B</th>\n",
       "      <td>0.117647</td>\n",
       "      <td>0.076677</td>\n",
       "      <td>0.104348</td>\n",
       "      <td>0.020408</td>\n",
       "      <td>0.063063</td>\n",
       "      <td>0.142857</td>\n",
       "      <td>0.071429</td>\n",
       "      <td>0.038961</td>\n",
       "      <td>0.080000</td>\n",
       "      <td>0.058824</td>\n",
       "      <td>0.054422</td>\n",
       "      <td>0.074627</td>\n",
       "      <td>0.062857</td>\n",
       "      <td>0.077320</td>\n",
       "      <td>0.062062</td>\n",
       "      <td>0.055249</td>\n",
       "    </tr>\n",
       "    <tr>\n",
       "      <th>C</th>\n",
       "      <td>0.123737</td>\n",
       "      <td>0.074346</td>\n",
       "      <td>0.112760</td>\n",
       "      <td>0.083916</td>\n",
       "      <td>0.070064</td>\n",
       "      <td>0.071429</td>\n",
       "      <td>0.101796</td>\n",
       "      <td>0.049738</td>\n",
       "      <td>0.067114</td>\n",
       "      <td>0.110048</td>\n",
       "      <td>0.085540</td>\n",
       "      <td>0.148718</td>\n",
       "      <td>0.079792</td>\n",
       "      <td>0.069862</td>\n",
       "      <td>0.067451</td>\n",
       "      <td>0.082064</td>\n",
       "    </tr>\n",
       "    <tr>\n",
       "      <th>D</th>\n",
       "      <td>0.333333</td>\n",
       "      <td>0.000000</td>\n",
       "      <td>0.200000</td>\n",
       "      <td>0.000000</td>\n",
       "      <td>0.000000</td>\n",
       "      <td>0.000000</td>\n",
       "      <td>0.000000</td>\n",
       "      <td>0.000000</td>\n",
       "      <td>0.000000</td>\n",
       "      <td>0.200000</td>\n",
       "      <td>0.100000</td>\n",
       "      <td>0.000000</td>\n",
       "      <td>0.043478</td>\n",
       "      <td>0.100000</td>\n",
       "      <td>0.037037</td>\n",
       "      <td>0.029412</td>\n",
       "    </tr>\n",
       "    <tr>\n",
       "      <th>E</th>\n",
       "      <td>NaN</td>\n",
       "      <td>0.000000</td>\n",
       "      <td>NaN</td>\n",
       "      <td>NaN</td>\n",
       "      <td>NaN</td>\n",
       "      <td>NaN</td>\n",
       "      <td>NaN</td>\n",
       "      <td>NaN</td>\n",
       "      <td>NaN</td>\n",
       "      <td>NaN</td>\n",
       "      <td>NaN</td>\n",
       "      <td>0.000000</td>\n",
       "      <td>0.000000</td>\n",
       "      <td>NaN</td>\n",
       "      <td>0.250000</td>\n",
       "      <td>0.000000</td>\n",
       "    </tr>\n",
       "    <tr>\n",
       "      <th rowspan=\"5\" valign=\"top\">1</th>\n",
       "      <th>A</th>\n",
       "      <td>0.000000</td>\n",
       "      <td>NaN</td>\n",
       "      <td>NaN</td>\n",
       "      <td>NaN</td>\n",
       "      <td>0.000000</td>\n",
       "      <td>NaN</td>\n",
       "      <td>NaN</td>\n",
       "      <td>NaN</td>\n",
       "      <td>NaN</td>\n",
       "      <td>NaN</td>\n",
       "      <td>0.000000</td>\n",
       "      <td>0.000000</td>\n",
       "      <td>0.000000</td>\n",
       "      <td>0.000000</td>\n",
       "      <td>0.500000</td>\n",
       "      <td>NaN</td>\n",
       "    </tr>\n",
       "    <tr>\n",
       "      <th>B</th>\n",
       "      <td>0.055556</td>\n",
       "      <td>0.121212</td>\n",
       "      <td>0.095238</td>\n",
       "      <td>0.100000</td>\n",
       "      <td>0.075000</td>\n",
       "      <td>0.000000</td>\n",
       "      <td>0.000000</td>\n",
       "      <td>0.083333</td>\n",
       "      <td>0.000000</td>\n",
       "      <td>0.137931</td>\n",
       "      <td>0.090909</td>\n",
       "      <td>0.222222</td>\n",
       "      <td>0.031496</td>\n",
       "      <td>0.071429</td>\n",
       "      <td>0.071942</td>\n",
       "      <td>0.075758</td>\n",
       "    </tr>\n",
       "    <tr>\n",
       "      <th>C</th>\n",
       "      <td>0.164384</td>\n",
       "      <td>0.111111</td>\n",
       "      <td>0.100000</td>\n",
       "      <td>0.085106</td>\n",
       "      <td>0.071942</td>\n",
       "      <td>0.041667</td>\n",
       "      <td>0.000000</td>\n",
       "      <td>0.083333</td>\n",
       "      <td>0.272727</td>\n",
       "      <td>0.171053</td>\n",
       "      <td>0.135417</td>\n",
       "      <td>0.191781</td>\n",
       "      <td>0.115869</td>\n",
       "      <td>0.104723</td>\n",
       "      <td>0.072510</td>\n",
       "      <td>0.104444</td>\n",
       "    </tr>\n",
       "    <tr>\n",
       "      <th>D</th>\n",
       "      <td>0.000000</td>\n",
       "      <td>NaN</td>\n",
       "      <td>NaN</td>\n",
       "      <td>0.000000</td>\n",
       "      <td>0.000000</td>\n",
       "      <td>NaN</td>\n",
       "      <td>0.000000</td>\n",
       "      <td>0.000000</td>\n",
       "      <td>0.000000</td>\n",
       "      <td>0.000000</td>\n",
       "      <td>0.000000</td>\n",
       "      <td>0.000000</td>\n",
       "      <td>0.142857</td>\n",
       "      <td>0.230769</td>\n",
       "      <td>0.000000</td>\n",
       "      <td>0.000000</td>\n",
       "    </tr>\n",
       "    <tr>\n",
       "      <th>E</th>\n",
       "      <td>NaN</td>\n",
       "      <td>NaN</td>\n",
       "      <td>NaN</td>\n",
       "      <td>NaN</td>\n",
       "      <td>NaN</td>\n",
       "      <td>NaN</td>\n",
       "      <td>NaN</td>\n",
       "      <td>NaN</td>\n",
       "      <td>NaN</td>\n",
       "      <td>NaN</td>\n",
       "      <td>NaN</td>\n",
       "      <td>0.000000</td>\n",
       "      <td>NaN</td>\n",
       "      <td>0.000000</td>\n",
       "      <td>0.000000</td>\n",
       "      <td>NaN</td>\n",
       "    </tr>\n",
       "    <tr>\n",
       "      <th rowspan=\"5\" valign=\"top\">2</th>\n",
       "      <th>A</th>\n",
       "      <td>NaN</td>\n",
       "      <td>NaN</td>\n",
       "      <td>NaN</td>\n",
       "      <td>NaN</td>\n",
       "      <td>NaN</td>\n",
       "      <td>NaN</td>\n",
       "      <td>NaN</td>\n",
       "      <td>NaN</td>\n",
       "      <td>NaN</td>\n",
       "      <td>NaN</td>\n",
       "      <td>NaN</td>\n",
       "      <td>NaN</td>\n",
       "      <td>NaN</td>\n",
       "      <td>NaN</td>\n",
       "      <td>0.000000</td>\n",
       "      <td>0.000000</td>\n",
       "    </tr>\n",
       "    <tr>\n",
       "      <th>B</th>\n",
       "      <td>0.250000</td>\n",
       "      <td>0.000000</td>\n",
       "      <td>0.000000</td>\n",
       "      <td>0.000000</td>\n",
       "      <td>0.000000</td>\n",
       "      <td>0.250000</td>\n",
       "      <td>0.000000</td>\n",
       "      <td>0.500000</td>\n",
       "      <td>NaN</td>\n",
       "      <td>0.000000</td>\n",
       "      <td>0.235294</td>\n",
       "      <td>0.000000</td>\n",
       "      <td>0.035714</td>\n",
       "      <td>0.117647</td>\n",
       "      <td>0.057522</td>\n",
       "      <td>0.126761</td>\n",
       "    </tr>\n",
       "    <tr>\n",
       "      <th>C</th>\n",
       "      <td>0.250000</td>\n",
       "      <td>0.090909</td>\n",
       "      <td>0.083333</td>\n",
       "      <td>0.100000</td>\n",
       "      <td>0.057143</td>\n",
       "      <td>0.066667</td>\n",
       "      <td>0.200000</td>\n",
       "      <td>0.100000</td>\n",
       "      <td>0.000000</td>\n",
       "      <td>0.137931</td>\n",
       "      <td>0.090909</td>\n",
       "      <td>0.230769</td>\n",
       "      <td>0.064516</td>\n",
       "      <td>0.106838</td>\n",
       "      <td>0.091627</td>\n",
       "      <td>0.110672</td>\n",
       "    </tr>\n",
       "    <tr>\n",
       "      <th>D</th>\n",
       "      <td>NaN</td>\n",
       "      <td>NaN</td>\n",
       "      <td>NaN</td>\n",
       "      <td>1.000000</td>\n",
       "      <td>1.000000</td>\n",
       "      <td>NaN</td>\n",
       "      <td>NaN</td>\n",
       "      <td>NaN</td>\n",
       "      <td>NaN</td>\n",
       "      <td>0.000000</td>\n",
       "      <td>NaN</td>\n",
       "      <td>NaN</td>\n",
       "      <td>0.000000</td>\n",
       "      <td>0.200000</td>\n",
       "      <td>0.083333</td>\n",
       "      <td>0.000000</td>\n",
       "    </tr>\n",
       "    <tr>\n",
       "      <th>E</th>\n",
       "      <td>NaN</td>\n",
       "      <td>NaN</td>\n",
       "      <td>NaN</td>\n",
       "      <td>NaN</td>\n",
       "      <td>NaN</td>\n",
       "      <td>NaN</td>\n",
       "      <td>NaN</td>\n",
       "      <td>NaN</td>\n",
       "      <td>NaN</td>\n",
       "      <td>NaN</td>\n",
       "      <td>NaN</td>\n",
       "      <td>NaN</td>\n",
       "      <td>0.000000</td>\n",
       "      <td>NaN</td>\n",
       "      <td>NaN</td>\n",
       "      <td>NaN</td>\n",
       "    </tr>\n",
       "    <tr>\n",
       "      <th rowspan=\"4\" valign=\"top\">3</th>\n",
       "      <th>A</th>\n",
       "      <td>NaN</td>\n",
       "      <td>NaN</td>\n",
       "      <td>NaN</td>\n",
       "      <td>NaN</td>\n",
       "      <td>NaN</td>\n",
       "      <td>NaN</td>\n",
       "      <td>NaN</td>\n",
       "      <td>NaN</td>\n",
       "      <td>NaN</td>\n",
       "      <td>NaN</td>\n",
       "      <td>NaN</td>\n",
       "      <td>NaN</td>\n",
       "      <td>NaN</td>\n",
       "      <td>NaN</td>\n",
       "      <td>0.000000</td>\n",
       "      <td>NaN</td>\n",
       "    </tr>\n",
       "    <tr>\n",
       "      <th>B</th>\n",
       "      <td>0.000000</td>\n",
       "      <td>NaN</td>\n",
       "      <td>NaN</td>\n",
       "      <td>NaN</td>\n",
       "      <td>0.000000</td>\n",
       "      <td>NaN</td>\n",
       "      <td>NaN</td>\n",
       "      <td>0.000000</td>\n",
       "      <td>0.000000</td>\n",
       "      <td>1.000000</td>\n",
       "      <td>0.000000</td>\n",
       "      <td>0.000000</td>\n",
       "      <td>0.000000</td>\n",
       "      <td>0.062500</td>\n",
       "      <td>0.058824</td>\n",
       "      <td>0.000000</td>\n",
       "    </tr>\n",
       "    <tr>\n",
       "      <th>C</th>\n",
       "      <td>0.000000</td>\n",
       "      <td>0.500000</td>\n",
       "      <td>0.000000</td>\n",
       "      <td>0.000000</td>\n",
       "      <td>0.111111</td>\n",
       "      <td>NaN</td>\n",
       "      <td>NaN</td>\n",
       "      <td>0.000000</td>\n",
       "      <td>0.000000</td>\n",
       "      <td>0.250000</td>\n",
       "      <td>0.000000</td>\n",
       "      <td>0.250000</td>\n",
       "      <td>0.190476</td>\n",
       "      <td>0.060606</td>\n",
       "      <td>0.086538</td>\n",
       "      <td>0.075000</td>\n",
       "    </tr>\n",
       "    <tr>\n",
       "      <th>D</th>\n",
       "      <td>NaN</td>\n",
       "      <td>NaN</td>\n",
       "      <td>NaN</td>\n",
       "      <td>NaN</td>\n",
       "      <td>NaN</td>\n",
       "      <td>NaN</td>\n",
       "      <td>NaN</td>\n",
       "      <td>NaN</td>\n",
       "      <td>NaN</td>\n",
       "      <td>NaN</td>\n",
       "      <td>NaN</td>\n",
       "      <td>0.000000</td>\n",
       "      <td>1.000000</td>\n",
       "      <td>0.000000</td>\n",
       "      <td>0.000000</td>\n",
       "      <td>NaN</td>\n",
       "    </tr>\n",
       "    <tr>\n",
       "      <th rowspan=\"2\" valign=\"top\">4</th>\n",
       "      <th>B</th>\n",
       "      <td>NaN</td>\n",
       "      <td>NaN</td>\n",
       "      <td>NaN</td>\n",
       "      <td>0.000000</td>\n",
       "      <td>NaN</td>\n",
       "      <td>NaN</td>\n",
       "      <td>NaN</td>\n",
       "      <td>NaN</td>\n",
       "      <td>NaN</td>\n",
       "      <td>NaN</td>\n",
       "      <td>0.000000</td>\n",
       "      <td>NaN</td>\n",
       "      <td>0.000000</td>\n",
       "      <td>0.333333</td>\n",
       "      <td>0.000000</td>\n",
       "      <td>NaN</td>\n",
       "    </tr>\n",
       "    <tr>\n",
       "      <th>C</th>\n",
       "      <td>NaN</td>\n",
       "      <td>1.000000</td>\n",
       "      <td>0.000000</td>\n",
       "      <td>NaN</td>\n",
       "      <td>NaN</td>\n",
       "      <td>NaN</td>\n",
       "      <td>NaN</td>\n",
       "      <td>0.000000</td>\n",
       "      <td>NaN</td>\n",
       "      <td>0.000000</td>\n",
       "      <td>0.000000</td>\n",
       "      <td>NaN</td>\n",
       "      <td>0.000000</td>\n",
       "      <td>0.000000</td>\n",
       "      <td>0.142857</td>\n",
       "      <td>0.000000</td>\n",
       "    </tr>\n",
       "    <tr>\n",
       "      <th rowspan=\"3\" valign=\"top\">5</th>\n",
       "      <th>B</th>\n",
       "      <td>NaN</td>\n",
       "      <td>NaN</td>\n",
       "      <td>NaN</td>\n",
       "      <td>NaN</td>\n",
       "      <td>NaN</td>\n",
       "      <td>NaN</td>\n",
       "      <td>NaN</td>\n",
       "      <td>NaN</td>\n",
       "      <td>NaN</td>\n",
       "      <td>NaN</td>\n",
       "      <td>NaN</td>\n",
       "      <td>NaN</td>\n",
       "      <td>NaN</td>\n",
       "      <td>NaN</td>\n",
       "      <td>0.000000</td>\n",
       "      <td>0.000000</td>\n",
       "    </tr>\n",
       "    <tr>\n",
       "      <th>C</th>\n",
       "      <td>NaN</td>\n",
       "      <td>NaN</td>\n",
       "      <td>NaN</td>\n",
       "      <td>NaN</td>\n",
       "      <td>NaN</td>\n",
       "      <td>NaN</td>\n",
       "      <td>NaN</td>\n",
       "      <td>NaN</td>\n",
       "      <td>NaN</td>\n",
       "      <td>0.000000</td>\n",
       "      <td>NaN</td>\n",
       "      <td>NaN</td>\n",
       "      <td>0.000000</td>\n",
       "      <td>0.000000</td>\n",
       "      <td>0.000000</td>\n",
       "      <td>NaN</td>\n",
       "    </tr>\n",
       "    <tr>\n",
       "      <th>D</th>\n",
       "      <td>NaN</td>\n",
       "      <td>NaN</td>\n",
       "      <td>NaN</td>\n",
       "      <td>NaN</td>\n",
       "      <td>NaN</td>\n",
       "      <td>NaN</td>\n",
       "      <td>NaN</td>\n",
       "      <td>NaN</td>\n",
       "      <td>NaN</td>\n",
       "      <td>NaN</td>\n",
       "      <td>NaN</td>\n",
       "      <td>NaN</td>\n",
       "      <td>NaN</td>\n",
       "      <td>NaN</td>\n",
       "      <td>0.000000</td>\n",
       "      <td>NaN</td>\n",
       "    </tr>\n",
       "  </tbody>\n",
       "</table>\n",
       "</div>"
      ],
      "text/plain": [
       "                                                 mean  \\\n",
       "family_status                   Не женат / не замужем   \n",
       "purpose_category               операции с автомобилем   \n",
       "children total_income_category                          \n",
       "0        A                                        NaN   \n",
       "         B                                   0.117647   \n",
       "         C                                   0.123737   \n",
       "         D                                   0.333333   \n",
       "         E                                        NaN   \n",
       "1        A                                   0.000000   \n",
       "         B                                   0.055556   \n",
       "         C                                   0.164384   \n",
       "         D                                   0.000000   \n",
       "         E                                        NaN   \n",
       "2        A                                        NaN   \n",
       "         B                                   0.250000   \n",
       "         C                                   0.250000   \n",
       "         D                                        NaN   \n",
       "         E                                        NaN   \n",
       "3        A                                        NaN   \n",
       "         B                                   0.000000   \n",
       "         C                                   0.000000   \n",
       "         D                                        NaN   \n",
       "4        B                                        NaN   \n",
       "         C                                        NaN   \n",
       "5        B                                        NaN   \n",
       "         C                                        NaN   \n",
       "         D                                        NaN   \n",
       "\n",
       "                                                                               \\\n",
       "family_status                                                                   \n",
       "purpose_category               операции с недвижимостью получение образования   \n",
       "children total_income_category                                                  \n",
       "0        A                                     0.000000                   NaN   \n",
       "         B                                     0.076677              0.104348   \n",
       "         C                                     0.074346              0.112760   \n",
       "         D                                     0.000000              0.200000   \n",
       "         E                                     0.000000                   NaN   \n",
       "1        A                                          NaN                   NaN   \n",
       "         B                                     0.121212              0.095238   \n",
       "         C                                     0.111111              0.100000   \n",
       "         D                                          NaN                   NaN   \n",
       "         E                                          NaN                   NaN   \n",
       "2        A                                          NaN                   NaN   \n",
       "         B                                     0.000000              0.000000   \n",
       "         C                                     0.090909              0.083333   \n",
       "         D                                          NaN                   NaN   \n",
       "         E                                          NaN                   NaN   \n",
       "3        A                                          NaN                   NaN   \n",
       "         B                                          NaN                   NaN   \n",
       "         C                                     0.500000              0.000000   \n",
       "         D                                          NaN                   NaN   \n",
       "4        B                                          NaN                   NaN   \n",
       "         C                                     1.000000              0.000000   \n",
       "5        B                                          NaN                   NaN   \n",
       "         C                                          NaN                   NaN   \n",
       "         D                                          NaN                   NaN   \n",
       "\n",
       "                                                       \\\n",
       "family_status                               в разводе   \n",
       "purpose_category               операции с автомобилем   \n",
       "children total_income_category                          \n",
       "0        A                                        NaN   \n",
       "         B                                   0.020408   \n",
       "         C                                   0.083916   \n",
       "         D                                   0.000000   \n",
       "         E                                        NaN   \n",
       "1        A                                        NaN   \n",
       "         B                                   0.100000   \n",
       "         C                                   0.085106   \n",
       "         D                                   0.000000   \n",
       "         E                                        NaN   \n",
       "2        A                                        NaN   \n",
       "         B                                   0.000000   \n",
       "         C                                   0.100000   \n",
       "         D                                   1.000000   \n",
       "         E                                        NaN   \n",
       "3        A                                        NaN   \n",
       "         B                                        NaN   \n",
       "         C                                   0.000000   \n",
       "         D                                        NaN   \n",
       "4        B                                   0.000000   \n",
       "         C                                        NaN   \n",
       "5        B                                        NaN   \n",
       "         C                                        NaN   \n",
       "         D                                        NaN   \n",
       "\n",
       "                                                                               \\\n",
       "family_status                                                                   \n",
       "purpose_category               операции с недвижимостью получение образования   \n",
       "children total_income_category                                                  \n",
       "0        A                                     0.000000                   NaN   \n",
       "         B                                     0.063063              0.142857   \n",
       "         C                                     0.070064              0.071429   \n",
       "         D                                     0.000000              0.000000   \n",
       "         E                                          NaN                   NaN   \n",
       "1        A                                     0.000000                   NaN   \n",
       "         B                                     0.075000              0.000000   \n",
       "         C                                     0.071942              0.041667   \n",
       "         D                                     0.000000                   NaN   \n",
       "         E                                          NaN                   NaN   \n",
       "2        A                                          NaN                   NaN   \n",
       "         B                                     0.000000              0.250000   \n",
       "         C                                     0.057143              0.066667   \n",
       "         D                                     1.000000                   NaN   \n",
       "         E                                          NaN                   NaN   \n",
       "3        A                                          NaN                   NaN   \n",
       "         B                                     0.000000                   NaN   \n",
       "         C                                     0.111111                   NaN   \n",
       "         D                                          NaN                   NaN   \n",
       "4        B                                          NaN                   NaN   \n",
       "         C                                          NaN                   NaN   \n",
       "5        B                                          NaN                   NaN   \n",
       "         C                                          NaN                   NaN   \n",
       "         D                                          NaN                   NaN   \n",
       "\n",
       "                                                       \\\n",
       "family_status                          вдовец / вдова   \n",
       "purpose_category               операции с автомобилем   \n",
       "children total_income_category                          \n",
       "0        A                                        NaN   \n",
       "         B                                   0.071429   \n",
       "         C                                   0.101796   \n",
       "         D                                   0.000000   \n",
       "         E                                        NaN   \n",
       "1        A                                        NaN   \n",
       "         B                                   0.000000   \n",
       "         C                                   0.000000   \n",
       "         D                                   0.000000   \n",
       "         E                                        NaN   \n",
       "2        A                                        NaN   \n",
       "         B                                   0.000000   \n",
       "         C                                   0.200000   \n",
       "         D                                        NaN   \n",
       "         E                                        NaN   \n",
       "3        A                                        NaN   \n",
       "         B                                        NaN   \n",
       "         C                                        NaN   \n",
       "         D                                        NaN   \n",
       "4        B                                        NaN   \n",
       "         C                                        NaN   \n",
       "5        B                                        NaN   \n",
       "         C                                        NaN   \n",
       "         D                                        NaN   \n",
       "\n",
       "                                                                               \\\n",
       "family_status                                                                   \n",
       "purpose_category               операции с недвижимостью получение образования   \n",
       "children total_income_category                                                  \n",
       "0        A                                          NaN                   NaN   \n",
       "         B                                     0.038961              0.080000   \n",
       "         C                                     0.049738              0.067114   \n",
       "         D                                     0.000000              0.000000   \n",
       "         E                                          NaN                   NaN   \n",
       "1        A                                          NaN                   NaN   \n",
       "         B                                     0.083333              0.000000   \n",
       "         C                                     0.083333              0.272727   \n",
       "         D                                     0.000000              0.000000   \n",
       "         E                                          NaN                   NaN   \n",
       "2        A                                          NaN                   NaN   \n",
       "         B                                     0.500000                   NaN   \n",
       "         C                                     0.100000              0.000000   \n",
       "         D                                          NaN                   NaN   \n",
       "         E                                          NaN                   NaN   \n",
       "3        A                                          NaN                   NaN   \n",
       "         B                                     0.000000              0.000000   \n",
       "         C                                     0.000000              0.000000   \n",
       "         D                                          NaN                   NaN   \n",
       "4        B                                          NaN                   NaN   \n",
       "         C                                     0.000000                   NaN   \n",
       "5        B                                          NaN                   NaN   \n",
       "         C                                          NaN                   NaN   \n",
       "         D                                          NaN                   NaN   \n",
       "\n",
       "                                                       \\\n",
       "family_status                        гражданский брак   \n",
       "purpose_category               операции с автомобилем   \n",
       "children total_income_category                          \n",
       "0        A                                        NaN   \n",
       "         B                                   0.058824   \n",
       "         C                                   0.110048   \n",
       "         D                                   0.200000   \n",
       "         E                                        NaN   \n",
       "1        A                                        NaN   \n",
       "         B                                   0.137931   \n",
       "         C                                   0.171053   \n",
       "         D                                   0.000000   \n",
       "         E                                        NaN   \n",
       "2        A                                        NaN   \n",
       "         B                                   0.000000   \n",
       "         C                                   0.137931   \n",
       "         D                                   0.000000   \n",
       "         E                                        NaN   \n",
       "3        A                                        NaN   \n",
       "         B                                   1.000000   \n",
       "         C                                   0.250000   \n",
       "         D                                        NaN   \n",
       "4        B                                        NaN   \n",
       "         C                                   0.000000   \n",
       "5        B                                        NaN   \n",
       "         C                                   0.000000   \n",
       "         D                                        NaN   \n",
       "\n",
       "                                                                               \\\n",
       "family_status                                                                   \n",
       "purpose_category               операции с недвижимостью получение образования   \n",
       "children total_income_category                                                  \n",
       "0        A                                     0.000000              1.000000   \n",
       "         B                                     0.054422              0.074627   \n",
       "         C                                     0.085540              0.148718   \n",
       "         D                                     0.100000              0.000000   \n",
       "         E                                          NaN              0.000000   \n",
       "1        A                                     0.000000              0.000000   \n",
       "         B                                     0.090909              0.222222   \n",
       "         C                                     0.135417              0.191781   \n",
       "         D                                     0.000000              0.000000   \n",
       "         E                                          NaN              0.000000   \n",
       "2        A                                          NaN                   NaN   \n",
       "         B                                     0.235294              0.000000   \n",
       "         C                                     0.090909              0.230769   \n",
       "         D                                          NaN                   NaN   \n",
       "         E                                          NaN                   NaN   \n",
       "3        A                                          NaN                   NaN   \n",
       "         B                                     0.000000              0.000000   \n",
       "         C                                     0.000000              0.250000   \n",
       "         D                                          NaN              0.000000   \n",
       "4        B                                     0.000000                   NaN   \n",
       "         C                                     0.000000                   NaN   \n",
       "5        B                                          NaN                   NaN   \n",
       "         C                                          NaN                   NaN   \n",
       "         D                                          NaN                   NaN   \n",
       "\n",
       "                                                                          \\\n",
       "family_status                                            женат / замужем   \n",
       "purpose_category               проведение свадьбы операции с автомобилем   \n",
       "children total_income_category                                             \n",
       "0        A                               0.000000                    NaN   \n",
       "         B                               0.062857               0.077320   \n",
       "         C                               0.079792               0.069862   \n",
       "         D                               0.043478               0.100000   \n",
       "         E                               0.000000                    NaN   \n",
       "1        A                               0.000000               0.000000   \n",
       "         B                               0.031496               0.071429   \n",
       "         C                               0.115869               0.104723   \n",
       "         D                               0.142857               0.230769   \n",
       "         E                                    NaN               0.000000   \n",
       "2        A                                    NaN                    NaN   \n",
       "         B                               0.035714               0.117647   \n",
       "         C                               0.064516               0.106838   \n",
       "         D                               0.000000               0.200000   \n",
       "         E                               0.000000                    NaN   \n",
       "3        A                                    NaN                    NaN   \n",
       "         B                               0.000000               0.062500   \n",
       "         C                               0.190476               0.060606   \n",
       "         D                               1.000000               0.000000   \n",
       "4        B                               0.000000               0.333333   \n",
       "         C                               0.000000               0.000000   \n",
       "5        B                                    NaN                    NaN   \n",
       "         C                               0.000000               0.000000   \n",
       "         D                                    NaN                    NaN   \n",
       "\n",
       "                                                                               \n",
       "family_status                                                                  \n",
       "purpose_category               операции с недвижимостью получение образования  \n",
       "children total_income_category                                                 \n",
       "0        A                                     0.000000              0.000000  \n",
       "         B                                     0.062062              0.055249  \n",
       "         C                                     0.067451              0.082064  \n",
       "         D                                     0.037037              0.029412  \n",
       "         E                                     0.250000              0.000000  \n",
       "1        A                                     0.500000                   NaN  \n",
       "         B                                     0.071942              0.075758  \n",
       "         C                                     0.072510              0.104444  \n",
       "         D                                     0.000000              0.000000  \n",
       "         E                                     0.000000                   NaN  \n",
       "2        A                                     0.000000              0.000000  \n",
       "         B                                     0.057522              0.126761  \n",
       "         C                                     0.091627              0.110672  \n",
       "         D                                     0.083333              0.000000  \n",
       "         E                                          NaN                   NaN  \n",
       "3        A                                     0.000000                   NaN  \n",
       "         B                                     0.058824              0.000000  \n",
       "         C                                     0.086538              0.075000  \n",
       "         D                                     0.000000                   NaN  \n",
       "4        B                                     0.000000                   NaN  \n",
       "         C                                     0.142857              0.000000  \n",
       "5        B                                     0.000000              0.000000  \n",
       "         C                                     0.000000                   NaN  \n",
       "         D                                     0.000000                   NaN  "
      ]
     },
     "execution_count": 37,
     "metadata": {},
     "output_type": "execute_result"
    }
   ],
   "source": [
    "data_pivot"
   ]
  },
  {
   "cell_type": "markdown",
   "id": "978aa6c2",
   "metadata": {
    "deletable": false,
    "editable": false,
    "id": "09c3ac4c"
   },
   "source": [
    "#### 3.5 Приведите возможные причины появления пропусков в исходных данных."
   ]
  },
  {
   "cell_type": "markdown",
   "id": "5d33af45",
   "metadata": {
    "deletable": false,
    "id": "9da2ceda"
   },
   "source": [
    "*Ответ:* \n",
    " * Одной из возможных причин появления пропусков в данных является технический сбой. \n",
    " * Также это может быть намеренное сокрытые информации, из-за чего человек ставит пропуск/пробел, либо случайный пропуск, если данный пункт не является обязательным в заполнении данных."
   ]
  },
  {
   "cell_type": "markdown",
   "id": "66574004",
   "metadata": {
    "deletable": false,
    "editable": false,
    "id": "7b0487d6"
   },
   "source": [
    "#### 3.6 Объясните, почему заполнить пропуски медианным значением — лучшее решение для количественных переменных."
   ]
  },
  {
   "cell_type": "markdown",
   "id": "6ea27db4",
   "metadata": {
    "deletable": false,
    "id": "7ecf2b8e"
   },
   "source": [
    "*Ответ:* \n",
    "* Медианные значения являются типичными для определённой выборки. Если пропуски будут заполняться другими значениями, вероятность сделать неправильные выводы занчительно увеличивается. \n",
    "* Медиана это число в середине. В отличие от среднего оно не подсчитывается сложением всех чисел, делённых на их количество. \n",
    "* Медиану лучше применять, когда в данных имеется сильный разброс. "
   ]
  },
  {
   "cell_type": "markdown",
   "id": "24748819",
   "metadata": {
    "deletable": false,
    "editable": false,
    "id": "6db5255a"
   },
   "source": [
    "### Шаг 4: общий вывод."
   ]
  },
  {
   "cell_type": "markdown",
   "id": "aa834224",
   "metadata": {
    "deletable": false,
    "id": "bad65432"
   },
   "source": [
    "В данном проекте было проведено исследование по поводу влияния различных факторов на погашение кредитов в срок. \n",
    "Заказчик — кредитный отдел банка. \n",
    "\n",
    "Нужно было ответить на следующие вопросы:\n",
    "Есть ли зависимость между количеством детей и возвратом кредита в срок?\n",
    "Есть ли зависимость между семейным положением и возвратом кредита в срок?\n",
    "Есть ли зависимость между уровнем дохода и возвратом кредита в срок?\n",
    "Как разные цели кредита влияют на его возврат в срок?\n",
    "\n",
    "В результате удалось сделать следующие выводы:\n",
    "\n",
    "1. Наблюдается следующая зависимость: \n",
    "Самая высокая доля с невозвратом кредита в срок наблюдается у семей с 4 детьми, далее идут с 2, 3 и с 1 ребёнком в семье. Выборка про семьи с 5 детьми недостаточная (всего 9 человек), рекомендуется продолжить исследование. Самая низкая доля по невозвратам у семей без детей.\n",
    "* нет детей - 7.54%\n",
    "* 1 ребенок - 9.23%\n",
    "* 2 ребенка - 9.45%\n",
    "* 3 ребенка - 8.18%\n",
    "* 4 ребенка - 9.76%\n",
    "* 5 детей - 0%, малая выборка\n",
    "* рекомендуется продолжить исследование по группам с 3 и 5 детьми\n",
    "\n",
    "\n",
    "2. Зависимость между семейным положением и возвратом кредита в срок наблюдается. \n",
    "Люди, не находящиеся замужем или не женатые (9,76%), а так же те, кто состоит в гражданском браке (9,31%), имеют больший процент задолженностей по кредитам.\n",
    "Лица женатые/замужем (7,56%), вдовы/вдовцы (6,62%) и разведённые (7,06%) имеют меньший процент невозвратов в срок. \n",
    "\n",
    "\n",
    "3. Прямой зависимости по заработной плате и выплатам в срок не выявлено. \n",
    "Люди с заработком 30000-50000 (категория D) чаще выплачивают кредиты в срок - 6%. \n",
    "Лица с наименьшей заработной платой (категория E) чаще остальных имеют задолженности по кредитам - 9,09%. За ними идут лица категории C - 8,5%, A - 8% и B - 7,06%.\n",
    "\n",
    "\n",
    "4. Зависимость между целями кредитов и выплатами в срок есть. \n",
    "Процент людей с зажолженностями по кредитам на получение образования(9,25%) и операции с автомобилем(9,35%) выше остальных. Можно предположить, что люди с кредитом на получение образования рассчитывают на более высокооплачиваемую работу во время учёбы и после, чем та, на которую удаётся устроиться на самом деле. \n",
    "Проведение свадьбы - 7,91%\n",
    "Операции с недвижимостью - 7,25%\n",
    "\n",
    "##### Рекомендации:\n",
    "* Следует собрать большую выборку среди многодетных семей (3 и 5 детей). \n",
    "* Следует объединять больше количество факторов для нахождения больших закономерностей, например, учитывать количество детей, их возраст и уровень дохода вместе. "
   ]
  }
 ],
 "metadata": {
  "ExecuteTimeLog": [
   {
    "duration": 56,
    "start_time": "2023-01-07T15:40:40.912Z"
   },
   {
    "duration": 452,
    "start_time": "2023-01-07T15:40:46.905Z"
   },
   {
    "duration": 25,
    "start_time": "2023-01-07T15:40:47.359Z"
   },
   {
    "duration": 18,
    "start_time": "2023-01-07T15:40:47.532Z"
   },
   {
    "duration": 15,
    "start_time": "2023-01-07T15:40:48.648Z"
   },
   {
    "duration": 43,
    "start_time": "2023-01-07T15:40:49.212Z"
   },
   {
    "duration": 4,
    "start_time": "2023-01-07T15:40:49.742Z"
   },
   {
    "duration": 8,
    "start_time": "2023-01-07T15:40:50.062Z"
   },
   {
    "duration": 6,
    "start_time": "2023-01-07T15:40:50.549Z"
   },
   {
    "duration": 8,
    "start_time": "2023-01-07T15:40:51.459Z"
   },
   {
    "duration": 5,
    "start_time": "2023-01-07T15:40:52.353Z"
   },
   {
    "duration": 35,
    "start_time": "2023-01-07T15:40:53.409Z"
   },
   {
    "duration": 11,
    "start_time": "2023-01-07T15:40:54.112Z"
   },
   {
    "duration": 4,
    "start_time": "2023-01-07T15:40:55.637Z"
   },
   {
    "duration": 12,
    "start_time": "2023-01-07T15:40:56.610Z"
   },
   {
    "duration": 22,
    "start_time": "2023-01-07T15:40:57.505Z"
   },
   {
    "duration": 19,
    "start_time": "2023-01-07T15:40:58.005Z"
   },
   {
    "duration": 4,
    "start_time": "2023-01-07T15:40:59.138Z"
   },
   {
    "duration": 12,
    "start_time": "2023-01-07T15:40:59.904Z"
   },
   {
    "duration": 6,
    "start_time": "2023-01-07T15:41:00.853Z"
   },
   {
    "duration": 3,
    "start_time": "2023-01-07T15:41:01.956Z"
   },
   {
    "duration": 9,
    "start_time": "2023-01-07T15:41:02.263Z"
   },
   {
    "duration": 4,
    "start_time": "2023-01-07T15:41:04.075Z"
   },
   {
    "duration": 17,
    "start_time": "2023-01-07T15:41:39.133Z"
   },
   {
    "duration": 20,
    "start_time": "2023-01-07T15:41:47.718Z"
   },
   {
    "duration": 13,
    "start_time": "2023-01-07T15:42:06.640Z"
   },
   {
    "duration": 8,
    "start_time": "2023-01-07T15:43:41.566Z"
   },
   {
    "duration": 29,
    "start_time": "2023-01-07T15:43:49.380Z"
   },
   {
    "duration": 4,
    "start_time": "2023-01-07T15:47:48.566Z"
   },
   {
    "duration": 1458,
    "start_time": "2023-01-07T15:48:47.345Z"
   },
   {
    "duration": 289,
    "start_time": "2023-01-07T15:49:14.936Z"
   },
   {
    "duration": 76,
    "start_time": "2023-01-07T15:49:57.614Z"
   },
   {
    "duration": 291,
    "start_time": "2023-01-07T15:50:03.382Z"
   },
   {
    "duration": 405,
    "start_time": "2023-01-07T15:50:11.712Z"
   },
   {
    "duration": 12,
    "start_time": "2023-01-07T15:50:47.330Z"
   },
   {
    "duration": 408,
    "start_time": "2023-01-07T15:50:51.205Z"
   },
   {
    "duration": 34,
    "start_time": "2023-01-07T15:51:17.857Z"
   },
   {
    "duration": 16,
    "start_time": "2023-01-07T15:51:24.606Z"
   },
   {
    "duration": 17,
    "start_time": "2023-01-07T15:51:33.205Z"
   },
   {
    "duration": 3,
    "start_time": "2023-01-07T15:51:39.908Z"
   },
   {
    "duration": 5,
    "start_time": "2023-01-07T15:51:44.578Z"
   },
   {
    "duration": 398,
    "start_time": "2023-01-07T15:51:52.833Z"
   },
   {
    "duration": 465,
    "start_time": "2023-01-07T15:54:26.970Z"
   },
   {
    "duration": 494,
    "start_time": "2023-01-07T15:55:35.206Z"
   },
   {
    "duration": 436,
    "start_time": "2023-01-07T15:55:40.310Z"
   },
   {
    "duration": 10,
    "start_time": "2023-01-07T15:56:25.258Z"
   },
   {
    "duration": 25,
    "start_time": "2023-01-07T15:57:40.510Z"
   },
   {
    "duration": 420,
    "start_time": "2023-01-07T15:58:03.565Z"
   },
   {
    "duration": 434,
    "start_time": "2023-01-07T15:58:39.839Z"
   },
   {
    "duration": 17,
    "start_time": "2023-01-07T15:58:48.267Z"
   },
   {
    "duration": 420,
    "start_time": "2023-01-07T15:58:54.739Z"
   },
   {
    "duration": 184,
    "start_time": "2023-01-07T15:59:10.104Z"
   },
   {
    "duration": 12,
    "start_time": "2023-01-07T15:59:50.777Z"
   },
   {
    "duration": 13,
    "start_time": "2023-01-07T15:59:52.972Z"
   },
   {
    "duration": 462,
    "start_time": "2023-01-07T15:59:57.904Z"
   },
   {
    "duration": 409,
    "start_time": "2023-01-07T16:00:16.233Z"
   },
   {
    "duration": 428,
    "start_time": "2023-01-07T16:01:30.348Z"
   },
   {
    "duration": 407,
    "start_time": "2023-01-07T16:02:16.920Z"
   },
   {
    "duration": 406,
    "start_time": "2023-01-07T16:02:23.573Z"
   },
   {
    "duration": 412,
    "start_time": "2023-01-07T16:02:37.165Z"
   },
   {
    "duration": 524,
    "start_time": "2023-01-07T16:02:43.965Z"
   },
   {
    "duration": 378,
    "start_time": "2023-01-07T16:02:51.564Z"
   },
   {
    "duration": 413,
    "start_time": "2023-01-07T16:02:55.180Z"
   },
   {
    "duration": 437,
    "start_time": "2023-01-07T16:03:02.633Z"
   },
   {
    "duration": 441,
    "start_time": "2023-01-07T16:03:06.102Z"
   },
   {
    "duration": 3,
    "start_time": "2023-01-07T16:04:06.046Z"
   },
   {
    "duration": 432,
    "start_time": "2023-01-07T16:04:06.473Z"
   },
   {
    "duration": 498,
    "start_time": "2023-01-07T16:04:38.556Z"
   },
   {
    "duration": 393,
    "start_time": "2023-01-07T16:04:44.061Z"
   },
   {
    "duration": 75,
    "start_time": "2023-01-07T16:38:08.665Z"
   },
   {
    "duration": 16,
    "start_time": "2023-01-07T16:38:10.386Z"
   },
   {
    "duration": 17,
    "start_time": "2023-01-07T16:38:11.822Z"
   },
   {
    "duration": 12,
    "start_time": "2023-01-07T16:38:13.395Z"
   },
   {
    "duration": 46,
    "start_time": "2023-01-07T16:38:14.190Z"
   },
   {
    "duration": 4,
    "start_time": "2023-01-07T16:38:15.734Z"
   },
   {
    "duration": 10,
    "start_time": "2023-01-07T16:38:16.773Z"
   },
   {
    "duration": 6,
    "start_time": "2023-01-07T16:38:18.002Z"
   },
   {
    "duration": 5,
    "start_time": "2023-01-07T16:38:18.640Z"
   },
   {
    "duration": 6,
    "start_time": "2023-01-07T16:38:19.461Z"
   },
   {
    "duration": 43,
    "start_time": "2023-01-07T16:38:20.535Z"
   },
   {
    "duration": 13,
    "start_time": "2023-01-07T16:38:21.400Z"
   },
   {
    "duration": 4,
    "start_time": "2023-01-07T16:38:22.427Z"
   },
   {
    "duration": 14,
    "start_time": "2023-01-07T16:38:23.519Z"
   },
   {
    "duration": 35,
    "start_time": "2023-01-07T16:38:24.644Z"
   },
   {
    "duration": 24,
    "start_time": "2023-01-07T16:38:25.218Z"
   },
   {
    "duration": 4,
    "start_time": "2023-01-07T16:38:26.419Z"
   },
   {
    "duration": 19,
    "start_time": "2023-01-07T16:38:26.947Z"
   },
   {
    "duration": 7,
    "start_time": "2023-01-07T16:38:27.865Z"
   },
   {
    "duration": 4,
    "start_time": "2023-01-07T16:38:29.263Z"
   },
   {
    "duration": 12,
    "start_time": "2023-01-07T16:38:29.633Z"
   },
   {
    "duration": 3,
    "start_time": "2023-01-07T16:38:32.692Z"
   },
   {
    "duration": 399,
    "start_time": "2023-01-07T16:39:01.237Z"
   },
   {
    "duration": 371,
    "start_time": "2023-01-07T16:39:44.597Z"
   },
   {
    "duration": 78176,
    "start_time": "2023-01-07T16:39:52.842Z"
   },
   {
    "duration": 135,
    "start_time": "2023-01-07T16:42:11.973Z"
   },
   {
    "duration": 153,
    "start_time": "2023-01-07T16:42:27.483Z"
   },
   {
    "duration": 87,
    "start_time": "2023-01-07T17:10:20.060Z"
   },
   {
    "duration": 23,
    "start_time": "2023-01-07T17:10:21.455Z"
   },
   {
    "duration": 18,
    "start_time": "2023-01-07T17:10:21.766Z"
   },
   {
    "duration": 11,
    "start_time": "2023-01-07T17:10:22.318Z"
   },
   {
    "duration": 38,
    "start_time": "2023-01-07T17:10:22.742Z"
   },
   {
    "duration": 4,
    "start_time": "2023-01-07T17:10:23.249Z"
   },
   {
    "duration": 8,
    "start_time": "2023-01-07T17:10:23.583Z"
   },
   {
    "duration": 5,
    "start_time": "2023-01-07T17:10:24.095Z"
   },
   {
    "duration": 7,
    "start_time": "2023-01-07T17:10:24.447Z"
   },
   {
    "duration": 6,
    "start_time": "2023-01-07T17:10:24.776Z"
   },
   {
    "duration": 37,
    "start_time": "2023-01-07T17:10:25.238Z"
   },
   {
    "duration": 11,
    "start_time": "2023-01-07T17:10:25.558Z"
   },
   {
    "duration": 5,
    "start_time": "2023-01-07T17:10:26.074Z"
   },
   {
    "duration": 15,
    "start_time": "2023-01-07T17:10:27.134Z"
   },
   {
    "duration": 24,
    "start_time": "2023-01-07T17:10:27.476Z"
   },
   {
    "duration": 23,
    "start_time": "2023-01-07T17:10:27.771Z"
   },
   {
    "duration": 3,
    "start_time": "2023-01-07T17:10:28.286Z"
   },
   {
    "duration": 11,
    "start_time": "2023-01-07T17:10:28.469Z"
   },
   {
    "duration": 7,
    "start_time": "2023-01-07T17:10:29.030Z"
   },
   {
    "duration": 4,
    "start_time": "2023-01-07T17:10:30.266Z"
   },
   {
    "duration": 10,
    "start_time": "2023-01-07T17:10:30.430Z"
   },
   {
    "duration": 2,
    "start_time": "2023-01-07T17:10:31.752Z"
   },
   {
    "duration": 132,
    "start_time": "2023-01-07T17:10:32.395Z"
   },
   {
    "duration": 146,
    "start_time": "2023-01-07T17:10:42.287Z"
   },
   {
    "duration": 353,
    "start_time": "2023-01-07T17:12:29.866Z"
   },
   {
    "duration": 127,
    "start_time": "2023-01-07T17:12:42.901Z"
   },
   {
    "duration": 334,
    "start_time": "2023-01-07T17:12:48.223Z"
   },
   {
    "duration": 131,
    "start_time": "2023-01-07T17:12:58.005Z"
   },
   {
    "duration": 194,
    "start_time": "2023-01-07T17:17:26.192Z"
   },
   {
    "duration": 5,
    "start_time": "2023-01-07T17:20:44.290Z"
   },
   {
    "duration": 1268,
    "start_time": "2023-01-07T17:20:51.745Z"
   },
   {
    "duration": 1163,
    "start_time": "2023-01-07T17:21:22.970Z"
   },
   {
    "duration": 5,
    "start_time": "2023-01-07T17:21:58.734Z"
   },
   {
    "duration": 9,
    "start_time": "2023-01-07T17:22:11.665Z"
   },
   {
    "duration": 38,
    "start_time": "2023-01-07T17:24:02.985Z"
   },
   {
    "duration": 39,
    "start_time": "2023-01-07T17:24:48.927Z"
   },
   {
    "duration": 14,
    "start_time": "2023-01-07T17:25:03.990Z"
   },
   {
    "duration": 17,
    "start_time": "2023-01-07T17:25:10.584Z"
   },
   {
    "duration": 18,
    "start_time": "2023-01-07T17:25:12.447Z"
   },
   {
    "duration": 32,
    "start_time": "2023-01-07T17:25:34.704Z"
   },
   {
    "duration": 16,
    "start_time": "2023-01-07T17:25:40.381Z"
   },
   {
    "duration": 8,
    "start_time": "2023-01-07T17:25:55.101Z"
   },
   {
    "duration": 14,
    "start_time": "2023-01-07T17:26:09.849Z"
   },
   {
    "duration": 13,
    "start_time": "2023-01-07T17:28:02.816Z"
   },
   {
    "duration": 10,
    "start_time": "2023-01-07T17:28:55.985Z"
   },
   {
    "duration": 97,
    "start_time": "2023-01-07T17:52:53.682Z"
   },
   {
    "duration": 85,
    "start_time": "2023-01-07T17:53:03.426Z"
   },
   {
    "duration": 237,
    "start_time": "2023-01-07T17:53:09.748Z"
   },
   {
    "duration": 20,
    "start_time": "2023-01-07T17:53:22.258Z"
   },
   {
    "duration": 16,
    "start_time": "2023-01-07T17:53:48.428Z"
   },
   {
    "duration": 18,
    "start_time": "2023-01-07T17:54:03.893Z"
   },
   {
    "duration": 248,
    "start_time": "2023-01-07T17:54:39.953Z"
   },
   {
    "duration": 14,
    "start_time": "2023-01-07T17:54:54.071Z"
   },
   {
    "duration": 17,
    "start_time": "2023-01-07T17:54:59.771Z"
   },
   {
    "duration": 12,
    "start_time": "2023-01-07T17:55:10.037Z"
   },
   {
    "duration": 174,
    "start_time": "2023-01-07T17:55:24.281Z"
   },
   {
    "duration": 155,
    "start_time": "2023-01-07T17:59:03.335Z"
   },
   {
    "duration": 362,
    "start_time": "2023-01-07T17:59:09.135Z"
   },
   {
    "duration": 126,
    "start_time": "2023-01-07T17:59:28.909Z"
   },
   {
    "duration": 143,
    "start_time": "2023-01-07T18:04:53.912Z"
   },
   {
    "duration": 145,
    "start_time": "2023-01-07T18:04:58.880Z"
   },
   {
    "duration": 141,
    "start_time": "2023-01-07T18:05:24.919Z"
   },
   {
    "duration": 483,
    "start_time": "2023-01-08T00:38:00.360Z"
   },
   {
    "duration": 24,
    "start_time": "2023-01-08T00:38:00.845Z"
   },
   {
    "duration": 29,
    "start_time": "2023-01-08T00:38:00.870Z"
   },
   {
    "duration": 20,
    "start_time": "2023-01-08T00:38:00.901Z"
   },
   {
    "duration": 57,
    "start_time": "2023-01-08T00:38:00.923Z"
   },
   {
    "duration": 4,
    "start_time": "2023-01-08T00:38:00.982Z"
   },
   {
    "duration": 22,
    "start_time": "2023-01-08T00:38:00.988Z"
   },
   {
    "duration": 11,
    "start_time": "2023-01-08T00:38:01.012Z"
   },
   {
    "duration": 28,
    "start_time": "2023-01-08T00:38:01.025Z"
   },
   {
    "duration": 9,
    "start_time": "2023-01-08T00:38:01.056Z"
   },
   {
    "duration": 43,
    "start_time": "2023-01-08T00:38:01.067Z"
   },
   {
    "duration": 10,
    "start_time": "2023-01-08T00:38:01.111Z"
   },
   {
    "duration": 18,
    "start_time": "2023-01-08T00:38:01.123Z"
   },
   {
    "duration": 16,
    "start_time": "2023-01-08T00:38:01.143Z"
   },
   {
    "duration": 32,
    "start_time": "2023-01-08T00:38:01.161Z"
   },
   {
    "duration": 19,
    "start_time": "2023-01-08T00:38:01.195Z"
   },
   {
    "duration": 4,
    "start_time": "2023-01-08T00:38:01.216Z"
   },
   {
    "duration": 46,
    "start_time": "2023-01-08T00:38:01.221Z"
   },
   {
    "duration": 45,
    "start_time": "2023-01-08T00:38:01.269Z"
   },
   {
    "duration": 12,
    "start_time": "2023-01-08T00:38:01.316Z"
   },
   {
    "duration": 55,
    "start_time": "2023-01-08T00:38:01.332Z"
   },
   {
    "duration": 36,
    "start_time": "2023-01-08T00:38:01.390Z"
   },
   {
    "duration": 960,
    "start_time": "2023-01-08T00:38:01.429Z"
   },
   {
    "duration": 189,
    "start_time": "2023-01-08T00:38:02.391Z"
   },
   {
    "duration": 155,
    "start_time": "2023-01-08T00:38:02.582Z"
   },
   {
    "duration": 140,
    "start_time": "2023-01-08T00:38:02.739Z"
   },
   {
    "duration": 154,
    "start_time": "2023-01-08T00:38:02.881Z"
   },
   {
    "duration": 44,
    "start_time": "2023-01-08T07:27:18.282Z"
   },
   {
    "duration": 439,
    "start_time": "2023-01-08T07:27:25.856Z"
   },
   {
    "duration": 20,
    "start_time": "2023-01-08T07:27:26.297Z"
   },
   {
    "duration": 19,
    "start_time": "2023-01-08T07:27:26.508Z"
   },
   {
    "duration": 10,
    "start_time": "2023-01-08T07:27:27.365Z"
   },
   {
    "duration": 32,
    "start_time": "2023-01-08T07:27:27.939Z"
   },
   {
    "duration": 3,
    "start_time": "2023-01-08T07:27:28.416Z"
   },
   {
    "duration": 8,
    "start_time": "2023-01-08T07:27:28.733Z"
   },
   {
    "duration": 4,
    "start_time": "2023-01-08T07:27:29.206Z"
   },
   {
    "duration": 6,
    "start_time": "2023-01-08T07:27:29.535Z"
   },
   {
    "duration": 5,
    "start_time": "2023-01-08T07:27:29.852Z"
   },
   {
    "duration": 33,
    "start_time": "2023-01-08T07:27:30.524Z"
   },
   {
    "duration": 9,
    "start_time": "2023-01-08T07:27:30.872Z"
   },
   {
    "duration": 4,
    "start_time": "2023-01-08T07:27:31.517Z"
   },
   {
    "duration": 10,
    "start_time": "2023-01-08T07:27:31.912Z"
   },
   {
    "duration": 19,
    "start_time": "2023-01-08T07:27:32.520Z"
   },
   {
    "duration": 18,
    "start_time": "2023-01-08T07:27:32.715Z"
   },
   {
    "duration": 4,
    "start_time": "2023-01-08T07:27:33.506Z"
   },
   {
    "duration": 9,
    "start_time": "2023-01-08T07:27:33.712Z"
   },
   {
    "duration": 6,
    "start_time": "2023-01-08T07:27:34.508Z"
   },
   {
    "duration": 4,
    "start_time": "2023-01-08T07:27:35.076Z"
   },
   {
    "duration": 10,
    "start_time": "2023-01-08T07:27:35.397Z"
   },
   {
    "duration": 9,
    "start_time": "2023-01-08T07:27:36.305Z"
   },
   {
    "duration": 6,
    "start_time": "2023-01-08T07:27:36.758Z"
   },
   {
    "duration": 8,
    "start_time": "2023-01-08T07:27:56.655Z"
   },
   {
    "duration": 5,
    "start_time": "2023-01-08T07:28:34.717Z"
   },
   {
    "duration": 6,
    "start_time": "2023-01-08T07:28:41.269Z"
   },
   {
    "duration": 25,
    "start_time": "2023-01-08T07:28:52.712Z"
   },
   {
    "duration": 7,
    "start_time": "2023-01-08T07:28:57.098Z"
   },
   {
    "duration": 666,
    "start_time": "2023-01-08T07:28:57.746Z"
   },
   {
    "duration": 127,
    "start_time": "2023-01-08T07:28:59.760Z"
   },
   {
    "duration": 120,
    "start_time": "2023-01-08T07:29:17.417Z"
   },
   {
    "duration": 7,
    "start_time": "2023-01-08T07:29:33.277Z"
   },
   {
    "duration": 33,
    "start_time": "2023-01-08T07:33:01.711Z"
   },
   {
    "duration": 39,
    "start_time": "2023-01-08T07:33:08.605Z"
   },
   {
    "duration": 33,
    "start_time": "2023-01-08T07:33:22.516Z"
   },
   {
    "duration": 16,
    "start_time": "2023-01-08T07:33:46.610Z"
   },
   {
    "duration": 34,
    "start_time": "2023-01-08T07:33:50.425Z"
   },
   {
    "duration": 30,
    "start_time": "2023-01-08T07:33:54.404Z"
   },
   {
    "duration": 11,
    "start_time": "2023-01-08T07:33:55.138Z"
   },
   {
    "duration": 34,
    "start_time": "2023-01-08T07:34:02.212Z"
   },
   {
    "duration": 4,
    "start_time": "2023-01-08T07:34:02.844Z"
   },
   {
    "duration": 8,
    "start_time": "2023-01-08T07:34:05.342Z"
   },
   {
    "duration": 4,
    "start_time": "2023-01-08T07:34:11.102Z"
   },
   {
    "duration": 11,
    "start_time": "2023-01-08T07:34:11.926Z"
   },
   {
    "duration": 5,
    "start_time": "2023-01-08T07:34:12.635Z"
   },
   {
    "duration": 16,
    "start_time": "2023-01-08T07:34:21.742Z"
   },
   {
    "duration": 16,
    "start_time": "2023-01-08T07:34:24.480Z"
   },
   {
    "duration": 13,
    "start_time": "2023-01-08T07:34:26.512Z"
   },
   {
    "duration": 31,
    "start_time": "2023-01-08T07:34:27.148Z"
   },
   {
    "duration": 3,
    "start_time": "2023-01-08T07:34:28.859Z"
   },
   {
    "duration": 7,
    "start_time": "2023-01-08T07:34:29.903Z"
   },
   {
    "duration": 5,
    "start_time": "2023-01-08T07:34:40.336Z"
   },
   {
    "duration": 7,
    "start_time": "2023-01-08T07:34:41.004Z"
   },
   {
    "duration": 4,
    "start_time": "2023-01-08T07:34:43.548Z"
   },
   {
    "duration": 31,
    "start_time": "2023-01-08T07:34:46.625Z"
   },
   {
    "duration": 11,
    "start_time": "2023-01-08T07:34:47.406Z"
   },
   {
    "duration": 124,
    "start_time": "2023-01-08T07:54:37.086Z"
   },
   {
    "duration": 134,
    "start_time": "2023-01-08T07:54:44.358Z"
   },
   {
    "duration": 118,
    "start_time": "2023-01-08T07:54:50.411Z"
   },
   {
    "duration": 119,
    "start_time": "2023-01-08T07:55:28.046Z"
   },
   {
    "duration": 9,
    "start_time": "2023-01-08T07:56:52.405Z"
   },
   {
    "duration": 12,
    "start_time": "2023-01-08T07:59:20.903Z"
   },
   {
    "duration": 9,
    "start_time": "2023-01-08T08:01:52.840Z"
   },
   {
    "duration": 89,
    "start_time": "2023-01-08T08:16:47.452Z"
   },
   {
    "duration": 17,
    "start_time": "2023-01-08T08:16:47.738Z"
   },
   {
    "duration": 14,
    "start_time": "2023-01-08T08:16:48.056Z"
   },
   {
    "duration": 10,
    "start_time": "2023-01-08T08:16:48.718Z"
   },
   {
    "duration": 42,
    "start_time": "2023-01-08T08:16:49.251Z"
   },
   {
    "duration": 4,
    "start_time": "2023-01-08T08:16:49.762Z"
   },
   {
    "duration": 8,
    "start_time": "2023-01-08T08:16:50.088Z"
   },
   {
    "duration": 4,
    "start_time": "2023-01-08T08:16:50.604Z"
   },
   {
    "duration": 5,
    "start_time": "2023-01-08T08:16:50.951Z"
   },
   {
    "duration": 5,
    "start_time": "2023-01-08T08:16:51.323Z"
   },
   {
    "duration": 37,
    "start_time": "2023-01-08T08:16:51.804Z"
   },
   {
    "duration": 10,
    "start_time": "2023-01-08T08:16:52.151Z"
   },
   {
    "duration": 5,
    "start_time": "2023-01-08T08:16:52.679Z"
   },
   {
    "duration": 17,
    "start_time": "2023-01-08T08:16:53.243Z"
   },
   {
    "duration": 28,
    "start_time": "2023-01-08T08:16:53.585Z"
   },
   {
    "duration": 29,
    "start_time": "2023-01-08T08:16:53.760Z"
   },
   {
    "duration": 4,
    "start_time": "2023-01-08T08:16:54.265Z"
   },
   {
    "duration": 9,
    "start_time": "2023-01-08T08:16:54.440Z"
   },
   {
    "duration": 8,
    "start_time": "2023-01-08T08:16:54.784Z"
   },
   {
    "duration": 4,
    "start_time": "2023-01-08T08:16:55.117Z"
   },
   {
    "duration": 12,
    "start_time": "2023-01-08T08:16:55.298Z"
   },
   {
    "duration": 9,
    "start_time": "2023-01-08T08:16:55.804Z"
   },
   {
    "duration": 7,
    "start_time": "2023-01-08T08:16:55.968Z"
   },
   {
    "duration": 2,
    "start_time": "2023-01-08T08:16:56.127Z"
   },
   {
    "duration": 176,
    "start_time": "2023-01-08T08:16:56.312Z"
   },
   {
    "duration": 11,
    "start_time": "2023-01-08T08:16:58.169Z"
   },
   {
    "duration": 139,
    "start_time": "2023-01-08T08:16:58.469Z"
   },
   {
    "duration": 8,
    "start_time": "2023-01-08T08:16:59.852Z"
   },
   {
    "duration": 132,
    "start_time": "2023-01-08T08:17:00.160Z"
   },
   {
    "duration": 11,
    "start_time": "2023-01-08T08:17:02.901Z"
   },
   {
    "duration": 213,
    "start_time": "2023-01-08T08:17:03.244Z"
   },
   {
    "duration": 57,
    "start_time": "2023-01-08T08:34:53.702Z"
   },
   {
    "duration": 85,
    "start_time": "2023-01-08T09:00:06.650Z"
   },
   {
    "duration": 15,
    "start_time": "2023-01-08T09:00:07.245Z"
   },
   {
    "duration": 20,
    "start_time": "2023-01-08T09:00:08.021Z"
   },
   {
    "duration": 9,
    "start_time": "2023-01-08T09:00:08.644Z"
   },
   {
    "duration": 33,
    "start_time": "2023-01-08T09:00:08.944Z"
   },
   {
    "duration": 4,
    "start_time": "2023-01-08T09:00:09.404Z"
   },
   {
    "duration": 9,
    "start_time": "2023-01-08T09:00:09.743Z"
   },
   {
    "duration": 9,
    "start_time": "2023-01-08T09:00:10.208Z"
   },
   {
    "duration": 8,
    "start_time": "2023-01-08T09:00:10.537Z"
   },
   {
    "duration": 5,
    "start_time": "2023-01-08T09:00:10.860Z"
   },
   {
    "duration": 34,
    "start_time": "2023-01-08T09:00:11.359Z"
   },
   {
    "duration": 14,
    "start_time": "2023-01-08T09:00:11.680Z"
   },
   {
    "duration": 5,
    "start_time": "2023-01-08T09:00:12.175Z"
   },
   {
    "duration": 19,
    "start_time": "2023-01-08T09:00:12.706Z"
   },
   {
    "duration": 18,
    "start_time": "2023-01-08T09:00:13.035Z"
   },
   {
    "duration": 23,
    "start_time": "2023-01-08T09:00:13.202Z"
   },
   {
    "duration": 4,
    "start_time": "2023-01-08T09:00:13.740Z"
   },
   {
    "duration": 13,
    "start_time": "2023-01-08T09:00:13.934Z"
   },
   {
    "duration": 7,
    "start_time": "2023-01-08T09:00:14.277Z"
   },
   {
    "duration": 4,
    "start_time": "2023-01-08T09:00:14.575Z"
   },
   {
    "duration": 13,
    "start_time": "2023-01-08T09:00:14.773Z"
   },
   {
    "duration": 10,
    "start_time": "2023-01-08T09:00:15.275Z"
   },
   {
    "duration": 8,
    "start_time": "2023-01-08T09:00:15.442Z"
   },
   {
    "duration": 3,
    "start_time": "2023-01-08T09:00:15.603Z"
   },
   {
    "duration": 135,
    "start_time": "2023-01-08T09:00:15.763Z"
   },
   {
    "duration": 9,
    "start_time": "2023-01-08T09:00:40.072Z"
   },
   {
    "duration": 168,
    "start_time": "2023-01-08T09:00:40.908Z"
   },
   {
    "duration": 8,
    "start_time": "2023-01-08T09:00:42.987Z"
   },
   {
    "duration": 140,
    "start_time": "2023-01-08T09:00:43.249Z"
   },
   {
    "duration": 11,
    "start_time": "2023-01-08T09:00:47.639Z"
   },
   {
    "duration": 149,
    "start_time": "2023-01-08T09:00:47.783Z"
   },
   {
    "duration": 39,
    "start_time": "2023-01-08T09:05:20.807Z"
   },
   {
    "duration": 44,
    "start_time": "2023-01-08T09:05:30.606Z"
   },
   {
    "duration": 42,
    "start_time": "2023-01-08T09:11:24.314Z"
   },
   {
    "duration": 42,
    "start_time": "2023-01-08T09:11:24.485Z"
   },
   {
    "duration": 39,
    "start_time": "2023-01-08T09:17:04.838Z"
   },
   {
    "duration": 26,
    "start_time": "2023-01-08T09:17:07.541Z"
   },
   {
    "duration": 49,
    "start_time": "2023-01-08T09:18:00.340Z"
   },
   {
    "duration": 20,
    "start_time": "2023-01-08T09:19:20.010Z"
   },
   {
    "duration": 20,
    "start_time": "2023-01-08T09:19:22.813Z"
   },
   {
    "duration": 10,
    "start_time": "2023-01-08T09:19:35.833Z"
   },
   {
    "duration": 12,
    "start_time": "2023-01-08T09:19:38.984Z"
   },
   {
    "duration": 23,
    "start_time": "2023-01-08T09:21:00.731Z"
   },
   {
    "duration": 5,
    "start_time": "2023-01-08T09:21:02.642Z"
   },
   {
    "duration": 20,
    "start_time": "2023-01-08T09:21:08.531Z"
   },
   {
    "duration": 11,
    "start_time": "2023-01-08T09:21:08.884Z"
   },
   {
    "duration": 23,
    "start_time": "2023-01-08T09:21:22.062Z"
   },
   {
    "duration": 19,
    "start_time": "2023-01-08T09:21:23.402Z"
   },
   {
    "duration": 20,
    "start_time": "2023-01-08T09:21:37.722Z"
   },
   {
    "duration": 11,
    "start_time": "2023-01-08T09:21:37.833Z"
   },
   {
    "duration": 51,
    "start_time": "2023-01-08T09:24:19.341Z"
   },
   {
    "duration": 52,
    "start_time": "2023-01-08T09:24:23.631Z"
   },
   {
    "duration": 15,
    "start_time": "2023-01-08T09:24:24.703Z"
   },
   {
    "duration": 19,
    "start_time": "2023-01-08T09:24:31.233Z"
   },
   {
    "duration": 43,
    "start_time": "2023-01-08T09:24:33.604Z"
   },
   {
    "duration": 75,
    "start_time": "2023-01-08T09:25:57.407Z"
   },
   {
    "duration": 41,
    "start_time": "2023-01-08T09:26:10.981Z"
   },
   {
    "duration": 39,
    "start_time": "2023-01-08T09:26:12.280Z"
   },
   {
    "duration": 18,
    "start_time": "2023-01-08T09:26:53.554Z"
   },
   {
    "duration": 11,
    "start_time": "2023-01-08T09:26:54.367Z"
   },
   {
    "duration": 24,
    "start_time": "2023-01-08T09:27:11.273Z"
   },
   {
    "duration": 39,
    "start_time": "2023-01-08T09:27:12.764Z"
   },
   {
    "duration": 29,
    "start_time": "2023-01-08T09:27:23.496Z"
   },
   {
    "duration": 12,
    "start_time": "2023-01-08T09:27:24.699Z"
   },
   {
    "duration": 13,
    "start_time": "2023-01-08T09:27:33.207Z"
   },
   {
    "duration": 24,
    "start_time": "2023-01-08T09:27:38.627Z"
   },
   {
    "duration": 24,
    "start_time": "2023-01-08T09:27:50.742Z"
   },
   {
    "duration": 27,
    "start_time": "2023-01-08T09:27:54.945Z"
   },
   {
    "duration": 33,
    "start_time": "2023-01-08T09:30:34.549Z"
   },
   {
    "duration": 29,
    "start_time": "2023-01-08T09:30:35.473Z"
   },
   {
    "duration": 20,
    "start_time": "2023-01-08T09:31:25.411Z"
   },
   {
    "duration": 20,
    "start_time": "2023-01-08T09:31:26.010Z"
   },
   {
    "duration": 90,
    "start_time": "2023-01-08T09:36:47.074Z"
   },
   {
    "duration": 19,
    "start_time": "2023-01-08T09:36:52.470Z"
   },
   {
    "duration": 42,
    "start_time": "2023-01-08T09:36:53.239Z"
   },
   {
    "duration": 42,
    "start_time": "2023-01-08T09:38:34.202Z"
   },
   {
    "duration": 47,
    "start_time": "2023-01-08T09:38:34.701Z"
   },
   {
    "duration": 23,
    "start_time": "2023-01-08T09:39:06.844Z"
   },
   {
    "duration": 23,
    "start_time": "2023-01-08T09:42:54.004Z"
   },
   {
    "duration": 18,
    "start_time": "2023-01-08T09:44:07.373Z"
   },
   {
    "duration": 42,
    "start_time": "2023-01-08T09:44:47.039Z"
   },
   {
    "duration": 33,
    "start_time": "2023-01-08T09:44:47.399Z"
   },
   {
    "duration": 37,
    "start_time": "2023-01-08T09:44:54.274Z"
   },
   {
    "duration": 17,
    "start_time": "2023-01-08T09:44:54.672Z"
   },
   {
    "duration": 25,
    "start_time": "2023-01-08T09:45:03.102Z"
   },
   {
    "duration": 11,
    "start_time": "2023-01-08T09:45:03.447Z"
   },
   {
    "duration": 23,
    "start_time": "2023-01-08T09:45:27.834Z"
   },
   {
    "duration": 15,
    "start_time": "2023-01-08T09:45:28.213Z"
   },
   {
    "duration": 12,
    "start_time": "2023-01-08T09:45:39.528Z"
   },
   {
    "duration": 11,
    "start_time": "2023-01-08T09:45:53.375Z"
   },
   {
    "duration": 18,
    "start_time": "2023-01-08T09:45:59.559Z"
   },
   {
    "duration": 20,
    "start_time": "2023-01-08T09:45:59.716Z"
   },
   {
    "duration": 18,
    "start_time": "2023-01-08T09:46:29.056Z"
   },
   {
    "duration": 33,
    "start_time": "2023-01-08T09:46:29.635Z"
   },
   {
    "duration": 25,
    "start_time": "2023-01-08T09:46:35.595Z"
   },
   {
    "duration": 13,
    "start_time": "2023-01-08T09:46:35.947Z"
   },
   {
    "duration": 19,
    "start_time": "2023-01-08T09:47:21.063Z"
   },
   {
    "duration": 20,
    "start_time": "2023-01-08T09:47:21.880Z"
   },
   {
    "duration": 23,
    "start_time": "2023-01-08T09:47:58.103Z"
   },
   {
    "duration": 29,
    "start_time": "2023-01-08T09:47:58.810Z"
   },
   {
    "duration": 23,
    "start_time": "2023-01-08T09:48:50.933Z"
   },
   {
    "duration": 21,
    "start_time": "2023-01-08T09:49:02.077Z"
   },
   {
    "duration": 21,
    "start_time": "2023-01-08T09:49:02.654Z"
   },
   {
    "duration": 17,
    "start_time": "2023-01-08T09:49:19.191Z"
   },
   {
    "duration": 32,
    "start_time": "2023-01-08T09:49:20.398Z"
   },
   {
    "duration": 31,
    "start_time": "2023-01-08T09:49:20.815Z"
   },
   {
    "duration": 12,
    "start_time": "2023-01-08T10:12:43.977Z"
   },
   {
    "duration": 28,
    "start_time": "2023-01-08T10:12:44.855Z"
   },
   {
    "duration": 23,
    "start_time": "2023-01-08T10:12:50.102Z"
   },
   {
    "duration": 10,
    "start_time": "2023-01-08T10:12:50.700Z"
   },
   {
    "duration": 4,
    "start_time": "2023-01-08T10:13:52.943Z"
   },
   {
    "duration": 43,
    "start_time": "2023-01-08T10:14:06.078Z"
   },
   {
    "duration": 21,
    "start_time": "2023-01-08T10:14:06.600Z"
   },
   {
    "duration": 27,
    "start_time": "2023-01-08T10:20:23.139Z"
   },
   {
    "duration": 9,
    "start_time": "2023-01-08T10:20:23.545Z"
   },
   {
    "duration": 18,
    "start_time": "2023-01-08T10:20:28.512Z"
   },
   {
    "duration": 11,
    "start_time": "2023-01-08T10:24:09.595Z"
   },
   {
    "duration": 10,
    "start_time": "2023-01-08T10:24:10.252Z"
   },
   {
    "duration": 16,
    "start_time": "2023-01-08T10:24:22.843Z"
   },
   {
    "duration": 9,
    "start_time": "2023-01-08T10:24:23.259Z"
   },
   {
    "duration": 23,
    "start_time": "2023-01-08T10:24:27.981Z"
   },
   {
    "duration": 33,
    "start_time": "2023-01-08T10:24:28.426Z"
   },
   {
    "duration": 12,
    "start_time": "2023-01-08T10:24:34.299Z"
   },
   {
    "duration": 11,
    "start_time": "2023-01-08T10:24:34.735Z"
   },
   {
    "duration": 47,
    "start_time": "2023-01-08T10:24:51.964Z"
   },
   {
    "duration": 24,
    "start_time": "2023-01-08T10:25:10.484Z"
   },
   {
    "duration": 18,
    "start_time": "2023-01-08T10:25:10.939Z"
   },
   {
    "duration": 485,
    "start_time": "2023-01-09T10:27:00.028Z"
   },
   {
    "duration": 23,
    "start_time": "2023-01-09T10:27:01.027Z"
   },
   {
    "duration": 16,
    "start_time": "2023-01-09T10:27:02.090Z"
   },
   {
    "duration": 10,
    "start_time": "2023-01-09T10:27:03.598Z"
   },
   {
    "duration": 33,
    "start_time": "2023-01-09T10:27:04.186Z"
   },
   {
    "duration": 4,
    "start_time": "2023-01-09T10:27:05.333Z"
   },
   {
    "duration": 7,
    "start_time": "2023-01-09T10:27:06.006Z"
   },
   {
    "duration": 4,
    "start_time": "2023-01-09T10:27:06.936Z"
   },
   {
    "duration": 6,
    "start_time": "2023-01-09T10:27:07.455Z"
   },
   {
    "duration": 4,
    "start_time": "2023-01-09T10:27:08.029Z"
   },
   {
    "duration": 31,
    "start_time": "2023-01-09T10:27:12.137Z"
   },
   {
    "duration": 11,
    "start_time": "2023-01-09T10:27:12.809Z"
   },
   {
    "duration": 4,
    "start_time": "2023-01-09T10:27:13.767Z"
   },
   {
    "duration": 11,
    "start_time": "2023-01-09T10:27:14.536Z"
   },
   {
    "duration": 29,
    "start_time": "2023-01-09T10:27:15.027Z"
   },
   {
    "duration": 19,
    "start_time": "2023-01-09T10:27:15.614Z"
   },
   {
    "duration": 4,
    "start_time": "2023-01-09T10:27:16.207Z"
   },
   {
    "duration": 12,
    "start_time": "2023-01-09T10:27:16.415Z"
   },
   {
    "duration": 6,
    "start_time": "2023-01-09T10:27:16.885Z"
   },
   {
    "duration": 4,
    "start_time": "2023-01-09T10:27:17.331Z"
   },
   {
    "duration": 10,
    "start_time": "2023-01-09T10:27:17.535Z"
   },
   {
    "duration": 9,
    "start_time": "2023-01-09T10:27:18.207Z"
   },
   {
    "duration": 7,
    "start_time": "2023-01-09T10:27:18.401Z"
   },
   {
    "duration": 962,
    "start_time": "2023-01-09T10:27:18.615Z"
   },
   {
    "duration": 140,
    "start_time": "2023-01-09T10:27:19.579Z"
   },
   {
    "duration": 9,
    "start_time": "2023-01-09T10:27:23.034Z"
   },
   {
    "duration": 134,
    "start_time": "2023-01-09T10:27:23.609Z"
   },
   {
    "duration": 11,
    "start_time": "2023-01-09T10:27:25.137Z"
   },
   {
    "duration": 109,
    "start_time": "2023-01-09T10:27:25.640Z"
   },
   {
    "duration": 9,
    "start_time": "2023-01-09T10:27:28.109Z"
   },
   {
    "duration": 119,
    "start_time": "2023-01-09T10:27:28.606Z"
   },
   {
    "duration": 23,
    "start_time": "2023-01-09T10:27:30.211Z"
   },
   {
    "duration": 17,
    "start_time": "2023-01-09T10:27:31.203Z"
   },
   {
    "duration": 29,
    "start_time": "2023-01-09T10:27:55.410Z"
   },
   {
    "duration": 19,
    "start_time": "2023-01-09T10:27:56.074Z"
   },
   {
    "duration": 18,
    "start_time": "2023-01-09T10:28:04.865Z"
   },
   {
    "duration": 15,
    "start_time": "2023-01-09T10:28:05.410Z"
   },
   {
    "duration": 17,
    "start_time": "2023-01-09T10:28:09.702Z"
   },
   {
    "duration": 15,
    "start_time": "2023-01-09T10:28:11.473Z"
   },
   {
    "duration": 62,
    "start_time": "2023-01-09T11:35:28.348Z"
   },
   {
    "duration": 24,
    "start_time": "2023-01-09T11:35:29.195Z"
   },
   {
    "duration": 14,
    "start_time": "2023-01-09T11:35:29.577Z"
   },
   {
    "duration": 10,
    "start_time": "2023-01-09T11:35:30.044Z"
   },
   {
    "duration": 34,
    "start_time": "2023-01-09T11:35:30.356Z"
   },
   {
    "duration": 4,
    "start_time": "2023-01-09T11:35:30.782Z"
   },
   {
    "duration": 9,
    "start_time": "2023-01-09T11:35:31.032Z"
   },
   {
    "duration": 5,
    "start_time": "2023-01-09T11:35:31.503Z"
   },
   {
    "duration": 5,
    "start_time": "2023-01-09T11:35:31.773Z"
   },
   {
    "duration": 5,
    "start_time": "2023-01-09T11:35:32.124Z"
   },
   {
    "duration": 33,
    "start_time": "2023-01-09T11:35:32.555Z"
   },
   {
    "duration": 10,
    "start_time": "2023-01-09T11:35:32.862Z"
   },
   {
    "duration": 3,
    "start_time": "2023-01-09T11:35:33.323Z"
   },
   {
    "duration": 11,
    "start_time": "2023-01-09T11:35:33.810Z"
   },
   {
    "duration": 20,
    "start_time": "2023-01-09T11:35:34.211Z"
   },
   {
    "duration": 19,
    "start_time": "2023-01-09T11:35:34.283Z"
   },
   {
    "duration": 4,
    "start_time": "2023-01-09T11:35:34.900Z"
   },
   {
    "duration": 10,
    "start_time": "2023-01-09T11:35:35.039Z"
   },
   {
    "duration": 5,
    "start_time": "2023-01-09T11:35:35.420Z"
   },
   {
    "duration": 3,
    "start_time": "2023-01-09T11:35:35.889Z"
   },
   {
    "duration": 12,
    "start_time": "2023-01-09T11:35:36.259Z"
   },
   {
    "duration": 8,
    "start_time": "2023-01-09T11:35:37.156Z"
   },
   {
    "duration": 7,
    "start_time": "2023-01-09T11:35:37.507Z"
   },
   {
    "duration": 2,
    "start_time": "2023-01-09T11:35:37.663Z"
   },
   {
    "duration": 140,
    "start_time": "2023-01-09T11:35:37.836Z"
   },
   {
    "duration": 8,
    "start_time": "2023-01-09T11:35:42.095Z"
   },
   {
    "duration": 130,
    "start_time": "2023-01-09T11:35:43.006Z"
   },
   {
    "duration": 8,
    "start_time": "2023-01-09T11:35:44.102Z"
   },
   {
    "duration": 114,
    "start_time": "2023-01-09T11:35:44.683Z"
   },
   {
    "duration": 9,
    "start_time": "2023-01-09T11:35:46.703Z"
   },
   {
    "duration": 129,
    "start_time": "2023-01-09T11:35:47.276Z"
   },
   {
    "duration": 20,
    "start_time": "2023-01-09T11:35:49.040Z"
   },
   {
    "duration": 22,
    "start_time": "2023-01-09T11:35:50.522Z"
   },
   {
    "duration": 16,
    "start_time": "2023-01-09T11:35:51.818Z"
   },
   {
    "duration": 525,
    "start_time": "2023-01-09T12:01:31.892Z"
   },
   {
    "duration": 24,
    "start_time": "2023-01-09T12:01:32.419Z"
   },
   {
    "duration": 16,
    "start_time": "2023-01-09T12:01:33.292Z"
   },
   {
    "duration": 11,
    "start_time": "2023-01-09T12:01:34.661Z"
   },
   {
    "duration": 34,
    "start_time": "2023-01-09T12:01:35.296Z"
   },
   {
    "duration": 4,
    "start_time": "2023-01-09T12:01:35.793Z"
   },
   {
    "duration": 9,
    "start_time": "2023-01-09T12:01:36.118Z"
   },
   {
    "duration": 4,
    "start_time": "2023-01-09T12:01:36.645Z"
   },
   {
    "duration": 9,
    "start_time": "2023-01-09T12:01:36.977Z"
   },
   {
    "duration": 5,
    "start_time": "2023-01-09T12:01:37.324Z"
   },
   {
    "duration": 36,
    "start_time": "2023-01-09T12:01:37.857Z"
   },
   {
    "duration": 10,
    "start_time": "2023-01-09T12:01:38.196Z"
   },
   {
    "duration": 4,
    "start_time": "2023-01-09T12:01:38.687Z"
   },
   {
    "duration": 13,
    "start_time": "2023-01-09T12:01:39.179Z"
   },
   {
    "duration": 29,
    "start_time": "2023-01-09T12:01:39.524Z"
   },
   {
    "duration": 19,
    "start_time": "2023-01-09T12:01:39.684Z"
   },
   {
    "duration": 4,
    "start_time": "2023-01-09T12:01:40.237Z"
   },
   {
    "duration": 11,
    "start_time": "2023-01-09T12:01:40.408Z"
   },
   {
    "duration": 8,
    "start_time": "2023-01-09T12:01:40.787Z"
   },
   {
    "duration": 5,
    "start_time": "2023-01-09T12:01:41.353Z"
   },
   {
    "duration": 10,
    "start_time": "2023-01-09T12:01:41.633Z"
   },
   {
    "duration": 10,
    "start_time": "2023-01-09T12:01:43.740Z"
   },
   {
    "duration": 9,
    "start_time": "2023-01-09T12:01:44.313Z"
   },
   {
    "duration": 1028,
    "start_time": "2023-01-09T12:01:46.168Z"
   },
   {
    "duration": 149,
    "start_time": "2023-01-09T12:01:47.269Z"
   },
   {
    "duration": 10,
    "start_time": "2023-01-09T12:01:52.682Z"
   },
   {
    "duration": 154,
    "start_time": "2023-01-09T12:01:53.888Z"
   },
   {
    "duration": 105,
    "start_time": "2023-01-09T12:03:44.047Z"
   },
   {
    "duration": 11,
    "start_time": "2023-01-09T12:03:48.515Z"
   },
   {
    "duration": 10,
    "start_time": "2023-01-09T12:03:53.893Z"
   },
   {
    "duration": 20,
    "start_time": "2023-01-09T12:04:04.091Z"
   },
   {
    "duration": 20,
    "start_time": "2023-01-09T12:04:39.889Z"
   },
   {
    "duration": 16,
    "start_time": "2023-01-09T12:04:43.963Z"
   },
   {
    "duration": 14,
    "start_time": "2023-01-09T12:04:54.749Z"
   },
   {
    "duration": 162,
    "start_time": "2023-01-09T12:05:03.504Z"
   },
   {
    "duration": 14,
    "start_time": "2023-01-09T12:05:10.764Z"
   },
   {
    "duration": 42,
    "start_time": "2023-01-09T12:05:28.851Z"
   },
   {
    "duration": 9,
    "start_time": "2023-01-09T12:05:37.982Z"
   },
   {
    "duration": 16,
    "start_time": "2023-01-09T12:05:42.034Z"
   },
   {
    "duration": 27,
    "start_time": "2023-01-09T12:05:54.796Z"
   },
   {
    "duration": 87,
    "start_time": "2023-01-09T12:06:44.145Z"
   },
   {
    "duration": 59,
    "start_time": "2023-01-09T12:06:49.017Z"
   },
   {
    "duration": 23,
    "start_time": "2023-01-09T12:06:53.299Z"
   },
   {
    "duration": 20,
    "start_time": "2023-01-09T12:08:02.945Z"
   },
   {
    "duration": 17,
    "start_time": "2023-01-09T12:08:08.729Z"
   },
   {
    "duration": 118,
    "start_time": "2023-01-09T12:12:11.262Z"
   },
   {
    "duration": 74,
    "start_time": "2023-01-09T12:12:14.819Z"
   },
   {
    "duration": 53,
    "start_time": "2023-01-09T12:12:22.107Z"
   },
   {
    "duration": 21,
    "start_time": "2023-01-09T12:12:25.353Z"
   },
   {
    "duration": 24,
    "start_time": "2023-01-09T12:13:16.399Z"
   },
   {
    "duration": 29,
    "start_time": "2023-01-09T12:13:23.036Z"
   },
   {
    "duration": 28,
    "start_time": "2023-01-09T12:13:37.276Z"
   },
   {
    "duration": 28,
    "start_time": "2023-01-09T12:15:04.662Z"
   },
   {
    "duration": 32,
    "start_time": "2023-01-09T12:15:42.118Z"
   },
   {
    "duration": 32,
    "start_time": "2023-01-09T12:21:49.336Z"
   },
   {
    "duration": 19,
    "start_time": "2023-01-09T12:22:00.943Z"
   },
   {
    "duration": 31,
    "start_time": "2023-01-09T12:22:10.687Z"
   },
   {
    "duration": 35,
    "start_time": "2023-01-09T12:28:56.608Z"
   },
   {
    "duration": 44,
    "start_time": "2023-01-09T12:32:23.439Z"
   },
   {
    "duration": 23,
    "start_time": "2023-01-09T12:32:26.576Z"
   },
   {
    "duration": 73,
    "start_time": "2023-01-09T12:36:41.973Z"
   },
   {
    "duration": 19,
    "start_time": "2023-01-09T12:36:51.266Z"
   },
   {
    "duration": 74,
    "start_time": "2023-01-09T12:36:56.855Z"
   },
   {
    "duration": 41,
    "start_time": "2023-01-09T12:36:59.141Z"
   },
   {
    "duration": 58,
    "start_time": "2023-01-09T12:37:28.876Z"
   },
   {
    "duration": 35,
    "start_time": "2023-01-09T12:37:29.549Z"
   },
   {
    "duration": 61,
    "start_time": "2023-01-09T12:38:39.845Z"
   },
   {
    "duration": 55,
    "start_time": "2023-01-09T12:38:40.482Z"
   },
   {
    "duration": 60,
    "start_time": "2023-01-09T12:39:33.561Z"
   },
   {
    "duration": 37,
    "start_time": "2023-01-09T12:39:34.185Z"
   },
   {
    "duration": 57,
    "start_time": "2023-01-09T12:39:42.557Z"
   },
   {
    "duration": 52,
    "start_time": "2023-01-09T12:39:42.685Z"
   },
   {
    "duration": 38,
    "start_time": "2023-01-09T12:39:47.338Z"
   },
   {
    "duration": 52,
    "start_time": "2023-01-09T12:39:51.461Z"
   },
   {
    "duration": 25,
    "start_time": "2023-01-09T12:40:44.397Z"
   },
   {
    "duration": 42,
    "start_time": "2023-01-09T12:40:44.938Z"
   },
   {
    "duration": 15,
    "start_time": "2023-01-09T12:43:23.669Z"
   },
   {
    "duration": 11,
    "start_time": "2023-01-09T12:43:24.272Z"
   },
   {
    "duration": 57,
    "start_time": "2023-01-09T12:44:02.145Z"
   },
   {
    "duration": 10,
    "start_time": "2023-01-09T12:44:02.730Z"
   },
   {
    "duration": 15,
    "start_time": "2023-01-09T12:44:14.721Z"
   },
   {
    "duration": 12,
    "start_time": "2023-01-09T12:44:15.595Z"
   },
   {
    "duration": 10,
    "start_time": "2023-01-09T12:45:26.274Z"
   },
   {
    "duration": 26,
    "start_time": "2023-01-09T12:45:39.665Z"
   },
   {
    "duration": 15,
    "start_time": "2023-01-09T12:45:40.260Z"
   },
   {
    "duration": 32,
    "start_time": "2023-01-09T12:46:39.469Z"
   },
   {
    "duration": 32,
    "start_time": "2023-01-09T12:46:40.553Z"
   },
   {
    "duration": 28,
    "start_time": "2023-01-09T12:52:31.290Z"
   },
   {
    "duration": 29,
    "start_time": "2023-01-09T12:52:38.926Z"
   }
  ],
  "colab": {
   "name": "dpp_template_part2.ipynb",
   "provenance": []
  },
  "kernelspec": {
   "display_name": "Python 3 (ipykernel)",
   "language": "python",
   "name": "python3"
  },
  "language_info": {
   "codemirror_mode": {
    "name": "ipython",
    "version": 3
   },
   "file_extension": ".py",
   "mimetype": "text/x-python",
   "name": "python",
   "nbconvert_exporter": "python",
   "pygments_lexer": "ipython3",
   "version": "3.9.12"
  },
  "toc": {
   "base_numbering": 1,
   "nav_menu": {},
   "number_sections": true,
   "sideBar": true,
   "skip_h1_title": true,
   "title_cell": "Table of Contents",
   "title_sidebar": "Contents",
   "toc_cell": false,
   "toc_position": {},
   "toc_section_display": true,
   "toc_window_display": true
  }
 },
 "nbformat": 4,
 "nbformat_minor": 5
}
