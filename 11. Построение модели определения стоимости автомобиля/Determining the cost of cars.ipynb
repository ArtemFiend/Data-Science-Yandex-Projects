{
 "cells": [
  {
   "cell_type": "markdown",
   "metadata": {},
   "source": [
    "# Определение стоимости автомобилей"
   ]
  },
  {
   "cell_type": "markdown",
   "metadata": {},
   "source": [
    "Сервис по продаже автомобилей с пробегом «Не бит, не крашен» разрабатывает приложение для привлечения новых клиентов. В нём можно быстро узнать рыночную стоимость своего автомобиля. В вашем распоряжении исторические данные: технические характеристики, комплектации и цены автомобилей. Вам нужно построить модель для определения стоимости. \n",
    "\n",
    "Заказчику важны:\n",
    "\n",
    "- качество предсказания;\n",
    "- скорость предсказания;\n",
    "- время обучения."
   ]
  },
  {
   "cell_type": "markdown",
   "metadata": {},
   "source": [
    "## Подготовка данных"
   ]
  },
  {
   "cell_type": "markdown",
   "metadata": {},
   "source": [
    "Импортируем библиотеки и просмотрим датасет"
   ]
  },
  {
   "cell_type": "code",
   "execution_count": 1,
   "metadata": {},
   "outputs": [
    {
     "name": "stdout",
     "output_type": "stream",
     "text": [
      "Collecting shap\n",
      "  Downloading shap-0.41.0-cp39-cp39-manylinux_2_12_x86_64.manylinux2010_x86_64.whl (572 kB)\n",
      "\u001b[K     |████████████████████████████████| 572 kB 1.2 MB/s eta 0:00:01\n",
      "\u001b[?25hRequirement already satisfied: packaging>20.9 in /opt/conda/lib/python3.9/site-packages (from shap) (21.3)\n",
      "Requirement already satisfied: scipy in /opt/conda/lib/python3.9/site-packages (from shap) (1.9.1)\n",
      "Collecting slicer==0.0.7\n",
      "  Downloading slicer-0.0.7-py3-none-any.whl (14 kB)\n",
      "Requirement already satisfied: numpy in /opt/conda/lib/python3.9/site-packages (from shap) (1.21.1)\n",
      "Collecting cloudpickle\n",
      "  Downloading cloudpickle-2.2.1-py3-none-any.whl (25 kB)\n",
      "Requirement already satisfied: tqdm>4.25.0 in /opt/conda/lib/python3.9/site-packages (from shap) (4.61.2)\n",
      "Requirement already satisfied: scikit-learn in /opt/conda/lib/python3.9/site-packages (from shap) (0.24.1)\n",
      "Requirement already satisfied: numba in /opt/conda/lib/python3.9/site-packages (from shap) (0.56.0)\n",
      "Requirement already satisfied: pandas in /opt/conda/lib/python3.9/site-packages (from shap) (1.2.4)\n",
      "Requirement already satisfied: pyparsing!=3.0.5,>=2.0.2 in /opt/conda/lib/python3.9/site-packages (from packaging>20.9->shap) (2.4.7)\n",
      "Requirement already satisfied: llvmlite<0.40,>=0.39.0dev0 in /opt/conda/lib/python3.9/site-packages (from numba->shap) (0.39.0)\n",
      "Requirement already satisfied: setuptools in /opt/conda/lib/python3.9/site-packages (from numba->shap) (49.6.0.post20210108)\n",
      "Requirement already satisfied: python-dateutil>=2.7.3 in /opt/conda/lib/python3.9/site-packages (from pandas->shap) (2.8.1)\n",
      "Requirement already satisfied: pytz>=2017.3 in /opt/conda/lib/python3.9/site-packages (from pandas->shap) (2021.1)\n",
      "Requirement already satisfied: six>=1.5 in /opt/conda/lib/python3.9/site-packages (from python-dateutil>=2.7.3->pandas->shap) (1.16.0)\n",
      "Requirement already satisfied: threadpoolctl>=2.0.0 in /opt/conda/lib/python3.9/site-packages (from scikit-learn->shap) (3.1.0)\n",
      "Requirement already satisfied: joblib>=0.11 in /opt/conda/lib/python3.9/site-packages (from scikit-learn->shap) (1.1.0)\n",
      "Installing collected packages: slicer, cloudpickle, shap\n",
      "Successfully installed cloudpickle-2.2.1 shap-0.41.0 slicer-0.0.7\n"
     ]
    }
   ],
   "source": [
    "!pip install shap"
   ]
  },
  {
   "cell_type": "code",
   "execution_count": 2,
   "metadata": {},
   "outputs": [],
   "source": [
    "import pandas as pd\n",
    "import numpy as np\n",
    "from sklearn.model_selection import train_test_split\n",
    "from sklearn.preprocessing import StandardScaler\n",
    "from sklearn.metrics import mean_squared_error\n",
    "import time\n",
    "from sklearn.preprocessing import OneHotEncoder\n",
    "from sklearn.preprocessing import OrdinalEncoder\n",
    "from sklearn.linear_model import LinearRegression\n",
    "from sklearn.model_selection import RandomizedSearchCV\n",
    "from sklearn.model_selection import cross_val_score\n",
    "from sklearn.dummy import DummyRegressor\n",
    "from lightgbm import LGBMRegressor\n",
    "from catboost import CatBoostRegressor\n",
    "import seaborn as sns\n",
    "import matplotlib.pyplot as plt\n",
    "import shap\n",
    "import warnings\n",
    "warnings.filterwarnings('ignore')"
   ]
  },
  {
   "cell_type": "code",
   "execution_count": 3,
   "metadata": {},
   "outputs": [],
   "source": [
    "data = pd.read_csv('/datasets/autos.csv')"
   ]
  },
  {
   "cell_type": "code",
   "execution_count": 4,
   "metadata": {},
   "outputs": [
    {
     "data": {
      "text/html": [
       "<div>\n",
       "<style scoped>\n",
       "    .dataframe tbody tr th:only-of-type {\n",
       "        vertical-align: middle;\n",
       "    }\n",
       "\n",
       "    .dataframe tbody tr th {\n",
       "        vertical-align: top;\n",
       "    }\n",
       "\n",
       "    .dataframe thead th {\n",
       "        text-align: right;\n",
       "    }\n",
       "</style>\n",
       "<table border=\"1\" class=\"dataframe\">\n",
       "  <thead>\n",
       "    <tr style=\"text-align: right;\">\n",
       "      <th></th>\n",
       "      <th>DateCrawled</th>\n",
       "      <th>Price</th>\n",
       "      <th>VehicleType</th>\n",
       "      <th>RegistrationYear</th>\n",
       "      <th>Gearbox</th>\n",
       "      <th>Power</th>\n",
       "      <th>Model</th>\n",
       "      <th>Kilometer</th>\n",
       "      <th>RegistrationMonth</th>\n",
       "      <th>FuelType</th>\n",
       "      <th>Brand</th>\n",
       "      <th>Repaired</th>\n",
       "      <th>DateCreated</th>\n",
       "      <th>NumberOfPictures</th>\n",
       "      <th>PostalCode</th>\n",
       "      <th>LastSeen</th>\n",
       "    </tr>\n",
       "  </thead>\n",
       "  <tbody>\n",
       "    <tr>\n",
       "      <th>0</th>\n",
       "      <td>2016-03-24 11:52:17</td>\n",
       "      <td>480</td>\n",
       "      <td>NaN</td>\n",
       "      <td>1993</td>\n",
       "      <td>manual</td>\n",
       "      <td>0</td>\n",
       "      <td>golf</td>\n",
       "      <td>150000</td>\n",
       "      <td>0</td>\n",
       "      <td>petrol</td>\n",
       "      <td>volkswagen</td>\n",
       "      <td>NaN</td>\n",
       "      <td>2016-03-24 00:00:00</td>\n",
       "      <td>0</td>\n",
       "      <td>70435</td>\n",
       "      <td>2016-04-07 03:16:57</td>\n",
       "    </tr>\n",
       "    <tr>\n",
       "      <th>1</th>\n",
       "      <td>2016-03-24 10:58:45</td>\n",
       "      <td>18300</td>\n",
       "      <td>coupe</td>\n",
       "      <td>2011</td>\n",
       "      <td>manual</td>\n",
       "      <td>190</td>\n",
       "      <td>NaN</td>\n",
       "      <td>125000</td>\n",
       "      <td>5</td>\n",
       "      <td>gasoline</td>\n",
       "      <td>audi</td>\n",
       "      <td>yes</td>\n",
       "      <td>2016-03-24 00:00:00</td>\n",
       "      <td>0</td>\n",
       "      <td>66954</td>\n",
       "      <td>2016-04-07 01:46:50</td>\n",
       "    </tr>\n",
       "    <tr>\n",
       "      <th>2</th>\n",
       "      <td>2016-03-14 12:52:21</td>\n",
       "      <td>9800</td>\n",
       "      <td>suv</td>\n",
       "      <td>2004</td>\n",
       "      <td>auto</td>\n",
       "      <td>163</td>\n",
       "      <td>grand</td>\n",
       "      <td>125000</td>\n",
       "      <td>8</td>\n",
       "      <td>gasoline</td>\n",
       "      <td>jeep</td>\n",
       "      <td>NaN</td>\n",
       "      <td>2016-03-14 00:00:00</td>\n",
       "      <td>0</td>\n",
       "      <td>90480</td>\n",
       "      <td>2016-04-05 12:47:46</td>\n",
       "    </tr>\n",
       "    <tr>\n",
       "      <th>3</th>\n",
       "      <td>2016-03-17 16:54:04</td>\n",
       "      <td>1500</td>\n",
       "      <td>small</td>\n",
       "      <td>2001</td>\n",
       "      <td>manual</td>\n",
       "      <td>75</td>\n",
       "      <td>golf</td>\n",
       "      <td>150000</td>\n",
       "      <td>6</td>\n",
       "      <td>petrol</td>\n",
       "      <td>volkswagen</td>\n",
       "      <td>no</td>\n",
       "      <td>2016-03-17 00:00:00</td>\n",
       "      <td>0</td>\n",
       "      <td>91074</td>\n",
       "      <td>2016-03-17 17:40:17</td>\n",
       "    </tr>\n",
       "    <tr>\n",
       "      <th>4</th>\n",
       "      <td>2016-03-31 17:25:20</td>\n",
       "      <td>3600</td>\n",
       "      <td>small</td>\n",
       "      <td>2008</td>\n",
       "      <td>manual</td>\n",
       "      <td>69</td>\n",
       "      <td>fabia</td>\n",
       "      <td>90000</td>\n",
       "      <td>7</td>\n",
       "      <td>gasoline</td>\n",
       "      <td>skoda</td>\n",
       "      <td>no</td>\n",
       "      <td>2016-03-31 00:00:00</td>\n",
       "      <td>0</td>\n",
       "      <td>60437</td>\n",
       "      <td>2016-04-06 10:17:21</td>\n",
       "    </tr>\n",
       "  </tbody>\n",
       "</table>\n",
       "</div>"
      ],
      "text/plain": [
       "           DateCrawled  Price VehicleType  RegistrationYear Gearbox  Power  \\\n",
       "0  2016-03-24 11:52:17    480         NaN              1993  manual      0   \n",
       "1  2016-03-24 10:58:45  18300       coupe              2011  manual    190   \n",
       "2  2016-03-14 12:52:21   9800         suv              2004    auto    163   \n",
       "3  2016-03-17 16:54:04   1500       small              2001  manual     75   \n",
       "4  2016-03-31 17:25:20   3600       small              2008  manual     69   \n",
       "\n",
       "   Model  Kilometer  RegistrationMonth  FuelType       Brand Repaired  \\\n",
       "0   golf     150000                  0    petrol  volkswagen      NaN   \n",
       "1    NaN     125000                  5  gasoline        audi      yes   \n",
       "2  grand     125000                  8  gasoline        jeep      NaN   \n",
       "3   golf     150000                  6    petrol  volkswagen       no   \n",
       "4  fabia      90000                  7  gasoline       skoda       no   \n",
       "\n",
       "           DateCreated  NumberOfPictures  PostalCode             LastSeen  \n",
       "0  2016-03-24 00:00:00                 0       70435  2016-04-07 03:16:57  \n",
       "1  2016-03-24 00:00:00                 0       66954  2016-04-07 01:46:50  \n",
       "2  2016-03-14 00:00:00                 0       90480  2016-04-05 12:47:46  \n",
       "3  2016-03-17 00:00:00                 0       91074  2016-03-17 17:40:17  \n",
       "4  2016-03-31 00:00:00                 0       60437  2016-04-06 10:17:21  "
      ]
     },
     "execution_count": 4,
     "metadata": {},
     "output_type": "execute_result"
    }
   ],
   "source": [
    "data.head()"
   ]
  },
  {
   "cell_type": "code",
   "execution_count": 5,
   "metadata": {},
   "outputs": [
    {
     "name": "stdout",
     "output_type": "stream",
     "text": [
      "<class 'pandas.core.frame.DataFrame'>\n",
      "RangeIndex: 354369 entries, 0 to 354368\n",
      "Data columns (total 16 columns):\n",
      " #   Column             Non-Null Count   Dtype \n",
      "---  ------             --------------   ----- \n",
      " 0   DateCrawled        354369 non-null  object\n",
      " 1   Price              354369 non-null  int64 \n",
      " 2   VehicleType        316879 non-null  object\n",
      " 3   RegistrationYear   354369 non-null  int64 \n",
      " 4   Gearbox            334536 non-null  object\n",
      " 5   Power              354369 non-null  int64 \n",
      " 6   Model              334664 non-null  object\n",
      " 7   Kilometer          354369 non-null  int64 \n",
      " 8   RegistrationMonth  354369 non-null  int64 \n",
      " 9   FuelType           321474 non-null  object\n",
      " 10  Brand              354369 non-null  object\n",
      " 11  Repaired           283215 non-null  object\n",
      " 12  DateCreated        354369 non-null  object\n",
      " 13  NumberOfPictures   354369 non-null  int64 \n",
      " 14  PostalCode         354369 non-null  int64 \n",
      " 15  LastSeen           354369 non-null  object\n",
      "dtypes: int64(7), object(9)\n",
      "memory usage: 43.3+ MB\n"
     ]
    }
   ],
   "source": [
    "data.info()"
   ]
  },
  {
   "cell_type": "code",
   "execution_count": 6,
   "metadata": {},
   "outputs": [
    {
     "data": {
      "text/html": [
       "<div>\n",
       "<style scoped>\n",
       "    .dataframe tbody tr th:only-of-type {\n",
       "        vertical-align: middle;\n",
       "    }\n",
       "\n",
       "    .dataframe tbody tr th {\n",
       "        vertical-align: top;\n",
       "    }\n",
       "\n",
       "    .dataframe thead th {\n",
       "        text-align: right;\n",
       "    }\n",
       "</style>\n",
       "<table border=\"1\" class=\"dataframe\">\n",
       "  <thead>\n",
       "    <tr style=\"text-align: right;\">\n",
       "      <th></th>\n",
       "      <th>Price</th>\n",
       "      <th>RegistrationYear</th>\n",
       "      <th>Power</th>\n",
       "      <th>Kilometer</th>\n",
       "      <th>RegistrationMonth</th>\n",
       "      <th>NumberOfPictures</th>\n",
       "      <th>PostalCode</th>\n",
       "    </tr>\n",
       "  </thead>\n",
       "  <tbody>\n",
       "    <tr>\n",
       "      <th>count</th>\n",
       "      <td>354369.000000</td>\n",
       "      <td>354369.000000</td>\n",
       "      <td>354369.000000</td>\n",
       "      <td>354369.000000</td>\n",
       "      <td>354369.000000</td>\n",
       "      <td>354369.0</td>\n",
       "      <td>354369.000000</td>\n",
       "    </tr>\n",
       "    <tr>\n",
       "      <th>mean</th>\n",
       "      <td>4416.656776</td>\n",
       "      <td>2004.234448</td>\n",
       "      <td>110.094337</td>\n",
       "      <td>128211.172535</td>\n",
       "      <td>5.714645</td>\n",
       "      <td>0.0</td>\n",
       "      <td>50508.689087</td>\n",
       "    </tr>\n",
       "    <tr>\n",
       "      <th>std</th>\n",
       "      <td>4514.158514</td>\n",
       "      <td>90.227958</td>\n",
       "      <td>189.850405</td>\n",
       "      <td>37905.341530</td>\n",
       "      <td>3.726421</td>\n",
       "      <td>0.0</td>\n",
       "      <td>25783.096248</td>\n",
       "    </tr>\n",
       "    <tr>\n",
       "      <th>min</th>\n",
       "      <td>0.000000</td>\n",
       "      <td>1000.000000</td>\n",
       "      <td>0.000000</td>\n",
       "      <td>5000.000000</td>\n",
       "      <td>0.000000</td>\n",
       "      <td>0.0</td>\n",
       "      <td>1067.000000</td>\n",
       "    </tr>\n",
       "    <tr>\n",
       "      <th>25%</th>\n",
       "      <td>1050.000000</td>\n",
       "      <td>1999.000000</td>\n",
       "      <td>69.000000</td>\n",
       "      <td>125000.000000</td>\n",
       "      <td>3.000000</td>\n",
       "      <td>0.0</td>\n",
       "      <td>30165.000000</td>\n",
       "    </tr>\n",
       "    <tr>\n",
       "      <th>50%</th>\n",
       "      <td>2700.000000</td>\n",
       "      <td>2003.000000</td>\n",
       "      <td>105.000000</td>\n",
       "      <td>150000.000000</td>\n",
       "      <td>6.000000</td>\n",
       "      <td>0.0</td>\n",
       "      <td>49413.000000</td>\n",
       "    </tr>\n",
       "    <tr>\n",
       "      <th>75%</th>\n",
       "      <td>6400.000000</td>\n",
       "      <td>2008.000000</td>\n",
       "      <td>143.000000</td>\n",
       "      <td>150000.000000</td>\n",
       "      <td>9.000000</td>\n",
       "      <td>0.0</td>\n",
       "      <td>71083.000000</td>\n",
       "    </tr>\n",
       "    <tr>\n",
       "      <th>max</th>\n",
       "      <td>20000.000000</td>\n",
       "      <td>9999.000000</td>\n",
       "      <td>20000.000000</td>\n",
       "      <td>150000.000000</td>\n",
       "      <td>12.000000</td>\n",
       "      <td>0.0</td>\n",
       "      <td>99998.000000</td>\n",
       "    </tr>\n",
       "  </tbody>\n",
       "</table>\n",
       "</div>"
      ],
      "text/plain": [
       "               Price  RegistrationYear          Power      Kilometer  \\\n",
       "count  354369.000000     354369.000000  354369.000000  354369.000000   \n",
       "mean     4416.656776       2004.234448     110.094337  128211.172535   \n",
       "std      4514.158514         90.227958     189.850405   37905.341530   \n",
       "min         0.000000       1000.000000       0.000000    5000.000000   \n",
       "25%      1050.000000       1999.000000      69.000000  125000.000000   \n",
       "50%      2700.000000       2003.000000     105.000000  150000.000000   \n",
       "75%      6400.000000       2008.000000     143.000000  150000.000000   \n",
       "max     20000.000000       9999.000000   20000.000000  150000.000000   \n",
       "\n",
       "       RegistrationMonth  NumberOfPictures     PostalCode  \n",
       "count      354369.000000          354369.0  354369.000000  \n",
       "mean            5.714645               0.0   50508.689087  \n",
       "std             3.726421               0.0   25783.096248  \n",
       "min             0.000000               0.0    1067.000000  \n",
       "25%             3.000000               0.0   30165.000000  \n",
       "50%             6.000000               0.0   49413.000000  \n",
       "75%             9.000000               0.0   71083.000000  \n",
       "max            12.000000               0.0   99998.000000  "
      ]
     },
     "execution_count": 6,
     "metadata": {},
     "output_type": "execute_result"
    }
   ],
   "source": [
    "data.describe()"
   ]
  },
  {
   "cell_type": "markdown",
   "metadata": {},
   "source": [
    "Проверим данные на явные дубликаты и удалим их"
   ]
  },
  {
   "cell_type": "code",
   "execution_count": 7,
   "metadata": {},
   "outputs": [
    {
     "data": {
      "text/plain": [
       "4"
      ]
     },
     "execution_count": 7,
     "metadata": {},
     "output_type": "execute_result"
    }
   ],
   "source": [
    "data.duplicated().sum()"
   ]
  },
  {
   "cell_type": "code",
   "execution_count": 8,
   "metadata": {},
   "outputs": [
    {
     "data": {
      "text/html": [
       "<div>\n",
       "<style scoped>\n",
       "    .dataframe tbody tr th:only-of-type {\n",
       "        vertical-align: middle;\n",
       "    }\n",
       "\n",
       "    .dataframe tbody tr th {\n",
       "        vertical-align: top;\n",
       "    }\n",
       "\n",
       "    .dataframe thead th {\n",
       "        text-align: right;\n",
       "    }\n",
       "</style>\n",
       "<table border=\"1\" class=\"dataframe\">\n",
       "  <thead>\n",
       "    <tr style=\"text-align: right;\">\n",
       "      <th></th>\n",
       "      <th>DateCrawled</th>\n",
       "      <th>Price</th>\n",
       "      <th>VehicleType</th>\n",
       "      <th>RegistrationYear</th>\n",
       "      <th>Gearbox</th>\n",
       "      <th>Power</th>\n",
       "      <th>Model</th>\n",
       "      <th>Kilometer</th>\n",
       "      <th>RegistrationMonth</th>\n",
       "      <th>FuelType</th>\n",
       "      <th>Brand</th>\n",
       "      <th>Repaired</th>\n",
       "      <th>DateCreated</th>\n",
       "      <th>NumberOfPictures</th>\n",
       "      <th>PostalCode</th>\n",
       "      <th>LastSeen</th>\n",
       "    </tr>\n",
       "  </thead>\n",
       "  <tbody>\n",
       "    <tr>\n",
       "      <th>41529</th>\n",
       "      <td>2016-03-18 18:46:15</td>\n",
       "      <td>1999</td>\n",
       "      <td>wagon</td>\n",
       "      <td>2001</td>\n",
       "      <td>manual</td>\n",
       "      <td>131</td>\n",
       "      <td>passat</td>\n",
       "      <td>150000</td>\n",
       "      <td>7</td>\n",
       "      <td>gasoline</td>\n",
       "      <td>volkswagen</td>\n",
       "      <td>no</td>\n",
       "      <td>2016-03-18 00:00:00</td>\n",
       "      <td>0</td>\n",
       "      <td>36391</td>\n",
       "      <td>2016-03-18 18:46:15</td>\n",
       "    </tr>\n",
       "    <tr>\n",
       "      <th>88087</th>\n",
       "      <td>2016-03-08 18:42:48</td>\n",
       "      <td>1799</td>\n",
       "      <td>coupe</td>\n",
       "      <td>1999</td>\n",
       "      <td>auto</td>\n",
       "      <td>193</td>\n",
       "      <td>clk</td>\n",
       "      <td>20000</td>\n",
       "      <td>7</td>\n",
       "      <td>petrol</td>\n",
       "      <td>mercedes_benz</td>\n",
       "      <td>no</td>\n",
       "      <td>2016-03-08 00:00:00</td>\n",
       "      <td>0</td>\n",
       "      <td>89518</td>\n",
       "      <td>2016-03-09 09:46:57</td>\n",
       "    </tr>\n",
       "    <tr>\n",
       "      <th>90964</th>\n",
       "      <td>2016-03-28 00:56:10</td>\n",
       "      <td>1000</td>\n",
       "      <td>small</td>\n",
       "      <td>2002</td>\n",
       "      <td>manual</td>\n",
       "      <td>83</td>\n",
       "      <td>other</td>\n",
       "      <td>150000</td>\n",
       "      <td>1</td>\n",
       "      <td>petrol</td>\n",
       "      <td>suzuki</td>\n",
       "      <td>no</td>\n",
       "      <td>2016-03-28 00:00:00</td>\n",
       "      <td>0</td>\n",
       "      <td>66589</td>\n",
       "      <td>2016-03-28 08:46:21</td>\n",
       "    </tr>\n",
       "    <tr>\n",
       "      <th>171088</th>\n",
       "      <td>2016-03-08 18:42:48</td>\n",
       "      <td>1799</td>\n",
       "      <td>coupe</td>\n",
       "      <td>1999</td>\n",
       "      <td>auto</td>\n",
       "      <td>193</td>\n",
       "      <td>clk</td>\n",
       "      <td>20000</td>\n",
       "      <td>7</td>\n",
       "      <td>petrol</td>\n",
       "      <td>mercedes_benz</td>\n",
       "      <td>no</td>\n",
       "      <td>2016-03-08 00:00:00</td>\n",
       "      <td>0</td>\n",
       "      <td>89518</td>\n",
       "      <td>2016-03-09 09:46:57</td>\n",
       "    </tr>\n",
       "    <tr>\n",
       "      <th>187735</th>\n",
       "      <td>2016-04-03 09:01:15</td>\n",
       "      <td>4699</td>\n",
       "      <td>coupe</td>\n",
       "      <td>2003</td>\n",
       "      <td>auto</td>\n",
       "      <td>218</td>\n",
       "      <td>clk</td>\n",
       "      <td>125000</td>\n",
       "      <td>6</td>\n",
       "      <td>petrol</td>\n",
       "      <td>mercedes_benz</td>\n",
       "      <td>yes</td>\n",
       "      <td>2016-04-03 00:00:00</td>\n",
       "      <td>0</td>\n",
       "      <td>75196</td>\n",
       "      <td>2016-04-07 09:44:54</td>\n",
       "    </tr>\n",
       "    <tr>\n",
       "      <th>231258</th>\n",
       "      <td>2016-03-28 00:56:10</td>\n",
       "      <td>1000</td>\n",
       "      <td>small</td>\n",
       "      <td>2002</td>\n",
       "      <td>manual</td>\n",
       "      <td>83</td>\n",
       "      <td>other</td>\n",
       "      <td>150000</td>\n",
       "      <td>1</td>\n",
       "      <td>petrol</td>\n",
       "      <td>suzuki</td>\n",
       "      <td>no</td>\n",
       "      <td>2016-03-28 00:00:00</td>\n",
       "      <td>0</td>\n",
       "      <td>66589</td>\n",
       "      <td>2016-03-28 08:46:21</td>\n",
       "    </tr>\n",
       "    <tr>\n",
       "      <th>258109</th>\n",
       "      <td>2016-04-03 09:01:15</td>\n",
       "      <td>4699</td>\n",
       "      <td>coupe</td>\n",
       "      <td>2003</td>\n",
       "      <td>auto</td>\n",
       "      <td>218</td>\n",
       "      <td>clk</td>\n",
       "      <td>125000</td>\n",
       "      <td>6</td>\n",
       "      <td>petrol</td>\n",
       "      <td>mercedes_benz</td>\n",
       "      <td>yes</td>\n",
       "      <td>2016-04-03 00:00:00</td>\n",
       "      <td>0</td>\n",
       "      <td>75196</td>\n",
       "      <td>2016-04-07 09:44:54</td>\n",
       "    </tr>\n",
       "    <tr>\n",
       "      <th>325651</th>\n",
       "      <td>2016-03-18 18:46:15</td>\n",
       "      <td>1999</td>\n",
       "      <td>wagon</td>\n",
       "      <td>2001</td>\n",
       "      <td>manual</td>\n",
       "      <td>131</td>\n",
       "      <td>passat</td>\n",
       "      <td>150000</td>\n",
       "      <td>7</td>\n",
       "      <td>gasoline</td>\n",
       "      <td>volkswagen</td>\n",
       "      <td>no</td>\n",
       "      <td>2016-03-18 00:00:00</td>\n",
       "      <td>0</td>\n",
       "      <td>36391</td>\n",
       "      <td>2016-03-18 18:46:15</td>\n",
       "    </tr>\n",
       "  </tbody>\n",
       "</table>\n",
       "</div>"
      ],
      "text/plain": [
       "                DateCrawled  Price VehicleType  RegistrationYear Gearbox  \\\n",
       "41529   2016-03-18 18:46:15   1999       wagon              2001  manual   \n",
       "88087   2016-03-08 18:42:48   1799       coupe              1999    auto   \n",
       "90964   2016-03-28 00:56:10   1000       small              2002  manual   \n",
       "171088  2016-03-08 18:42:48   1799       coupe              1999    auto   \n",
       "187735  2016-04-03 09:01:15   4699       coupe              2003    auto   \n",
       "231258  2016-03-28 00:56:10   1000       small              2002  manual   \n",
       "258109  2016-04-03 09:01:15   4699       coupe              2003    auto   \n",
       "325651  2016-03-18 18:46:15   1999       wagon              2001  manual   \n",
       "\n",
       "        Power   Model  Kilometer  RegistrationMonth  FuelType          Brand  \\\n",
       "41529     131  passat     150000                  7  gasoline     volkswagen   \n",
       "88087     193     clk      20000                  7    petrol  mercedes_benz   \n",
       "90964      83   other     150000                  1    petrol         suzuki   \n",
       "171088    193     clk      20000                  7    petrol  mercedes_benz   \n",
       "187735    218     clk     125000                  6    petrol  mercedes_benz   \n",
       "231258     83   other     150000                  1    petrol         suzuki   \n",
       "258109    218     clk     125000                  6    petrol  mercedes_benz   \n",
       "325651    131  passat     150000                  7  gasoline     volkswagen   \n",
       "\n",
       "       Repaired          DateCreated  NumberOfPictures  PostalCode  \\\n",
       "41529        no  2016-03-18 00:00:00                 0       36391   \n",
       "88087        no  2016-03-08 00:00:00                 0       89518   \n",
       "90964        no  2016-03-28 00:00:00                 0       66589   \n",
       "171088       no  2016-03-08 00:00:00                 0       89518   \n",
       "187735      yes  2016-04-03 00:00:00                 0       75196   \n",
       "231258       no  2016-03-28 00:00:00                 0       66589   \n",
       "258109      yes  2016-04-03 00:00:00                 0       75196   \n",
       "325651       no  2016-03-18 00:00:00                 0       36391   \n",
       "\n",
       "                   LastSeen  \n",
       "41529   2016-03-18 18:46:15  \n",
       "88087   2016-03-09 09:46:57  \n",
       "90964   2016-03-28 08:46:21  \n",
       "171088  2016-03-09 09:46:57  \n",
       "187735  2016-04-07 09:44:54  \n",
       "231258  2016-03-28 08:46:21  \n",
       "258109  2016-04-07 09:44:54  \n",
       "325651  2016-03-18 18:46:15  "
      ]
     },
     "execution_count": 8,
     "metadata": {},
     "output_type": "execute_result"
    }
   ],
   "source": [
    "duplicates = data.duplicated(keep=False)\n",
    "duplicate_rows = data[duplicates]\n",
    "duplicate_rows"
   ]
  },
  {
   "cell_type": "code",
   "execution_count": 9,
   "metadata": {},
   "outputs": [],
   "source": [
    "data.drop_duplicates(inplace=True)"
   ]
  },
  {
   "cell_type": "markdown",
   "metadata": {},
   "source": [
    "Проверим данные на пропуски"
   ]
  },
  {
   "cell_type": "code",
   "execution_count": 10,
   "metadata": {},
   "outputs": [
    {
     "data": {
      "text/plain": [
       "DateCrawled              0\n",
       "Price                    0\n",
       "VehicleType          37490\n",
       "RegistrationYear         0\n",
       "Gearbox              19833\n",
       "Power                    0\n",
       "Model                19705\n",
       "Kilometer                0\n",
       "RegistrationMonth        0\n",
       "FuelType             32895\n",
       "Brand                    0\n",
       "Repaired             71154\n",
       "DateCreated              0\n",
       "NumberOfPictures         0\n",
       "PostalCode               0\n",
       "LastSeen                 0\n",
       "dtype: int64"
      ]
     },
     "execution_count": 10,
     "metadata": {},
     "output_type": "execute_result"
    }
   ],
   "source": [
    "data.isna().sum()"
   ]
  },
  {
   "cell_type": "markdown",
   "metadata": {},
   "source": [
    "Скорее всего пропущенные значения в столбце ремонт говорят о том, что машина ремонту не подлежала, заменим пропуски на 'no'"
   ]
  },
  {
   "cell_type": "code",
   "execution_count": 11,
   "metadata": {},
   "outputs": [],
   "source": [
    "data['Repaired'] = data['Repaired'].fillna('no')"
   ]
  },
  {
   "cell_type": "code",
   "execution_count": 12,
   "metadata": {},
   "outputs": [],
   "source": [
    "# Замена пропущенных значений в 'VehicleType' модой с группировкой\n",
    "data['VehicleType'] = data.groupby(['Model', 'RegistrationYear'])['VehicleType'].apply(lambda x: x.fillna(x.mode().iat[0]) if x.notnull().any() else x)\n",
    "\n",
    "# Замена пропущенных значений в 'FuelType' модой с группировкой\n",
    "data['FuelType'] = data.groupby(['Model', 'RegistrationYear'])['FuelType'].apply(lambda x: x.fillna(x.mode().iat[0]) if x.notnull().any() else x)\n",
    "\n",
    "# Замена пропущенных значений в 'Gearbox' модой с группировкой\n",
    "data['Gearbox'] = data.groupby(['Model', 'RegistrationYear'])['Gearbox'].apply(lambda x: x.fillna(x.mode().iat[0]) if x.notnull().any() else x)\n",
    "\n",
    "# Замена пропущенных значений в 'Model' модой с группировкой\n",
    "data['Model'] = data.groupby(['Brand', 'RegistrationYear', 'Power'])['Model'].apply(lambda x: x.fillna(x.mode().iat[0]) if x.notnull().any() else x)\n"
   ]
  },
  {
   "cell_type": "markdown",
   "metadata": {},
   "source": [
    "Избавимся от ненужных для машинного обучения столбцов"
   ]
  },
  {
   "cell_type": "code",
   "execution_count": 13,
   "metadata": {},
   "outputs": [],
   "source": [
    "data = data.drop(['DateCrawled', 'RegistrationMonth', 'DateCreated', 'NumberOfPictures', 'PostalCode', 'LastSeen'], axis=1)\n"
   ]
  },
  {
   "cell_type": "markdown",
   "metadata": {},
   "source": [
    "* Количество фотографий, почтовый индекс и последний раз, когда пользователь был онлайн, не имеют прямого влияния на цену. \n",
    "* Месяц регистрации автомобиля может говорить о некой сезонности продаж, но так же может ухудшить качество предсказаний модели. \n",
    "* Даты создания и скачивания анкет могут говорить о том, что некоторые автомобили простаиваются, вероятнее всего из-за завышенной цены отностельно рынка. \n",
    "* Для обучения модели эти признаки не особо важны. "
   ]
  },
  {
   "cell_type": "code",
   "execution_count": 14,
   "metadata": {},
   "outputs": [
    {
     "data": {
      "text/plain": [
       "Price                   0\n",
       "VehicleType         32268\n",
       "RegistrationYear        0\n",
       "Gearbox             19958\n",
       "Power                   0\n",
       "Model                4643\n",
       "Kilometer               0\n",
       "FuelType            20036\n",
       "Brand                   0\n",
       "Repaired                0\n",
       "dtype: int64"
      ]
     },
     "execution_count": 14,
     "metadata": {},
     "output_type": "execute_result"
    }
   ],
   "source": [
    "data.isna().sum()"
   ]
  },
  {
   "cell_type": "markdown",
   "metadata": {},
   "source": [
    "Количество пропусков уменьшилось, заполним оставшиеся"
   ]
  },
  {
   "cell_type": "code",
   "execution_count": 15,
   "metadata": {},
   "outputs": [],
   "source": [
    "data['VehicleType'].fillna(data['VehicleType'].mode().iat[0], inplace=True)\n",
    "data['FuelType'].fillna(data['FuelType'].mode().iat[0], inplace=True)\n",
    "data['Gearbox'].fillna(data['Gearbox'].mode().iat[0], inplace=True)\n",
    "data['Model'].fillna(data['Model'].mode().iat[0], inplace=True)"
   ]
  },
  {
   "cell_type": "code",
   "execution_count": 16,
   "metadata": {},
   "outputs": [
    {
     "data": {
      "text/plain": [
       "Price               0\n",
       "VehicleType         0\n",
       "RegistrationYear    0\n",
       "Gearbox             0\n",
       "Power               0\n",
       "Model               0\n",
       "Kilometer           0\n",
       "FuelType            0\n",
       "Brand               0\n",
       "Repaired            0\n",
       "dtype: int64"
      ]
     },
     "execution_count": 16,
     "metadata": {},
     "output_type": "execute_result"
    }
   ],
   "source": [
    "data.isna().sum()"
   ]
  },
  {
   "cell_type": "code",
   "execution_count": 17,
   "metadata": {},
   "outputs": [
    {
     "data": {
      "text/plain": [
       "2000    24490\n",
       "1999    22727\n",
       "2005    22109\n",
       "2001    20123\n",
       "2006    19900\n",
       "        ...  \n",
       "4100        1\n",
       "1200        1\n",
       "5300        1\n",
       "8888        1\n",
       "2290        1\n",
       "Name: RegistrationYear, Length: 151, dtype: int64"
      ]
     },
     "execution_count": 17,
     "metadata": {},
     "output_type": "execute_result"
    }
   ],
   "source": [
    "data['RegistrationYear'].value_counts()"
   ]
  },
  {
   "cell_type": "markdown",
   "metadata": {},
   "source": [
    "Ограними значения дат регистрации, уберём выбросы"
   ]
  },
  {
   "cell_type": "code",
   "execution_count": 18,
   "metadata": {},
   "outputs": [
    {
     "data": {
      "text/plain": [
       "1957.0"
      ]
     },
     "execution_count": 18,
     "metadata": {},
     "output_type": "execute_result"
    }
   ],
   "source": [
    "lowest_year = data['RegistrationYear'].quantile(0.001)\n",
    "lowest_year"
   ]
  },
  {
   "cell_type": "code",
   "execution_count": 19,
   "metadata": {},
   "outputs": [
    {
     "data": {
      "text/plain": [
       "2017.0"
      ]
     },
     "execution_count": 19,
     "metadata": {},
     "output_type": "execute_result"
    }
   ],
   "source": [
    "highest_year = data['RegistrationYear'].quantile(0.98)\n",
    "highest_year"
   ]
  },
  {
   "cell_type": "code",
   "execution_count": 20,
   "metadata": {},
   "outputs": [],
   "source": [
    "def registration(data):\n",
    "    data = data.loc[(data['RegistrationYear'] < highest_year) & (data['RegistrationYear'] > lowest_year)]\n",
    "    return data"
   ]
  },
  {
   "cell_type": "code",
   "execution_count": 21,
   "metadata": {},
   "outputs": [],
   "source": [
    "data = registration(data)"
   ]
  },
  {
   "cell_type": "code",
   "execution_count": 22,
   "metadata": {},
   "outputs": [
    {
     "data": {
      "text/plain": [
       "0        36277\n",
       "75       22803\n",
       "60       15164\n",
       "150      14148\n",
       "101      12732\n",
       "         ...  \n",
       "671          1\n",
       "15001        1\n",
       "1360         1\n",
       "6226         1\n",
       "1548         1\n",
       "Name: Power, Length: 699, dtype: int64"
      ]
     },
     "execution_count": 22,
     "metadata": {},
     "output_type": "execute_result"
    }
   ],
   "source": [
    "data['Power'].value_counts()"
   ]
  },
  {
   "cell_type": "markdown",
   "metadata": {},
   "source": [
    "ограничим мощность автомобилей 1000 л.с."
   ]
  },
  {
   "cell_type": "code",
   "execution_count": 23,
   "metadata": {},
   "outputs": [],
   "source": [
    "data = data[(data['Power'] < 1000) & (data['Power'] > 0)]"
   ]
  },
  {
   "cell_type": "code",
   "execution_count": 24,
   "metadata": {},
   "outputs": [
    {
     "data": {
      "text/plain": [
       "75     22803\n",
       "60     15164\n",
       "150    14148\n",
       "101    12732\n",
       "140    12473\n",
       "       ...  \n",
       "525        1\n",
       "475        1\n",
       "604        1\n",
       "960        1\n",
       "998        1\n",
       "Name: Power, Length: 483, dtype: int64"
      ]
     },
     "execution_count": 24,
     "metadata": {},
     "output_type": "execute_result"
    }
   ],
   "source": [
    "data['Power'].value_counts()"
   ]
  },
  {
   "cell_type": "code",
   "execution_count": 25,
   "metadata": {},
   "outputs": [
    {
     "data": {
      "text/plain": [
       "0        6397\n",
       "500      4473\n",
       "1500     4430\n",
       "1200     3737\n",
       "2500     3706\n",
       "         ... \n",
       "19870       1\n",
       "11410       1\n",
       "10898       1\n",
       "3991        1\n",
       "8188        1\n",
       "Name: Price, Length: 3592, dtype: int64"
      ]
     },
     "execution_count": 25,
     "metadata": {},
     "output_type": "execute_result"
    }
   ],
   "source": [
    "data['Price'].value_counts()"
   ]
  },
  {
   "cell_type": "markdown",
   "metadata": {},
   "source": [
    "Автомобили не могут продаваться за 0 евро, уберём выбросы. "
   ]
  },
  {
   "cell_type": "code",
   "execution_count": 26,
   "metadata": {},
   "outputs": [],
   "source": [
    "data = data.loc[data['Price']>0]"
   ]
  },
  {
   "cell_type": "markdown",
   "metadata": {},
   "source": [
    "Преобразуем данные по ремонту в числовые"
   ]
  },
  {
   "cell_type": "code",
   "execution_count": 27,
   "metadata": {},
   "outputs": [],
   "source": [
    "data['Repaired'] = data['Repaired'].replace({'yes': 1, 'no': 0}).astype('int64')"
   ]
  },
  {
   "cell_type": "code",
   "execution_count": 28,
   "metadata": {},
   "outputs": [
    {
     "name": "stdout",
     "output_type": "stream",
     "text": [
      "<class 'pandas.core.frame.DataFrame'>\n",
      "Int64Index: 296516 entries, 1 to 354368\n",
      "Data columns (total 10 columns):\n",
      " #   Column            Non-Null Count   Dtype \n",
      "---  ------            --------------   ----- \n",
      " 0   Price             296516 non-null  int64 \n",
      " 1   VehicleType       296516 non-null  object\n",
      " 2   RegistrationYear  296516 non-null  int64 \n",
      " 3   Gearbox           296516 non-null  object\n",
      " 4   Power             296516 non-null  int64 \n",
      " 5   Model             296516 non-null  object\n",
      " 6   Kilometer         296516 non-null  int64 \n",
      " 7   FuelType          296516 non-null  object\n",
      " 8   Brand             296516 non-null  object\n",
      " 9   Repaired          296516 non-null  int64 \n",
      "dtypes: int64(5), object(5)\n",
      "memory usage: 24.9+ MB\n"
     ]
    }
   ],
   "source": [
    "data.info()"
   ]
  },
  {
   "cell_type": "markdown",
   "metadata": {},
   "source": [
    "Поменяем тип данных на категориальные"
   ]
  },
  {
   "cell_type": "code",
   "execution_count": 29,
   "metadata": {},
   "outputs": [],
   "source": [
    "def changing_type(data,categorical_columns):\n",
    "    data[categorical_columns] = data[categorical_columns].astype('category')\n",
    "    return data\n",
    "\n",
    "categorical_columns = ['VehicleType', 'Gearbox', 'Model', 'FuelType', 'Brand']\n",
    "numeric_columns = ['Power', 'Kilometer', 'RegistrationYear']"
   ]
  },
  {
   "cell_type": "code",
   "execution_count": 30,
   "metadata": {},
   "outputs": [],
   "source": [
    "data = changing_type(data, categorical_columns)"
   ]
  },
  {
   "cell_type": "code",
   "execution_count": 31,
   "metadata": {},
   "outputs": [
    {
     "name": "stdout",
     "output_type": "stream",
     "text": [
      "<class 'pandas.core.frame.DataFrame'>\n",
      "Int64Index: 296516 entries, 1 to 354368\n",
      "Data columns (total 10 columns):\n",
      " #   Column            Non-Null Count   Dtype   \n",
      "---  ------            --------------   -----   \n",
      " 0   Price             296516 non-null  int64   \n",
      " 1   VehicleType       296516 non-null  category\n",
      " 2   RegistrationYear  296516 non-null  int64   \n",
      " 3   Gearbox           296516 non-null  category\n",
      " 4   Power             296516 non-null  int64   \n",
      " 5   Model             296516 non-null  category\n",
      " 6   Kilometer         296516 non-null  int64   \n",
      " 7   FuelType          296516 non-null  category\n",
      " 8   Brand             296516 non-null  category\n",
      " 9   Repaired          296516 non-null  int64   \n",
      "dtypes: category(5), int64(5)\n",
      "memory usage: 15.3 MB\n"
     ]
    }
   ],
   "source": [
    "data.info()"
   ]
  },
  {
   "cell_type": "code",
   "execution_count": 32,
   "metadata": {},
   "outputs": [
    {
     "data": {
      "text/plain": [
       "array(['VehicleType', 'Gearbox', 'Model', 'FuelType', 'Brand'],\n",
       "      dtype='<U11')"
      ]
     },
     "execution_count": 32,
     "metadata": {},
     "output_type": "execute_result"
    }
   ],
   "source": [
    "categorical_columns = np.array(['VehicleType', 'Gearbox', 'Model', 'FuelType', 'Brand'])\n",
    "categorical_columns"
   ]
  },
  {
   "cell_type": "code",
   "execution_count": 33,
   "metadata": {},
   "outputs": [
    {
     "name": "stdout",
     "output_type": "stream",
     "text": [
      "<class 'pandas.core.frame.DataFrame'>\n",
      "Int64Index: 296516 entries, 1 to 354368\n",
      "Data columns (total 10 columns):\n",
      " #   Column            Non-Null Count   Dtype   \n",
      "---  ------            --------------   -----   \n",
      " 0   Price             296516 non-null  int64   \n",
      " 1   VehicleType       296516 non-null  category\n",
      " 2   RegistrationYear  296516 non-null  int64   \n",
      " 3   Gearbox           296516 non-null  category\n",
      " 4   Power             296516 non-null  int64   \n",
      " 5   Model             296516 non-null  category\n",
      " 6   Kilometer         296516 non-null  int64   \n",
      " 7   FuelType          296516 non-null  category\n",
      " 8   Brand             296516 non-null  category\n",
      " 9   Repaired          296516 non-null  int64   \n",
      "dtypes: category(5), int64(5)\n",
      "memory usage: 15.3 MB\n"
     ]
    }
   ],
   "source": [
    "data.info()"
   ]
  },
  {
   "cell_type": "markdown",
   "metadata": {},
   "source": [
    "# Вывод:\n",
    "* Предобработка данных выполнена\n",
    "* Данные проверены на дубликаты\n",
    "* Пропущенные значения заполнены модой\n",
    "* Удалены признаки, напрямую не влияющие на ценообразование автомобилей\n",
    "* Преобразованы категориальные признаки\n",
    "* Удалены выбросы"
   ]
  },
  {
   "cell_type": "markdown",
   "metadata": {},
   "source": [
    "## Обучение моделей"
   ]
  },
  {
   "cell_type": "markdown",
   "metadata": {},
   "source": [
    "Отделим целевой признак и обучащие"
   ]
  },
  {
   "cell_type": "code",
   "execution_count": 34,
   "metadata": {},
   "outputs": [],
   "source": [
    "features = data.drop('Price', axis=1)\n",
    "target = data['Price']"
   ]
  },
  {
   "cell_type": "code",
   "execution_count": 35,
   "metadata": {},
   "outputs": [],
   "source": [
    "features_train, features_valid, target_train, target_valid = train_test_split(features, target, test_size=0.4, \n",
    "                                                                             random_state=12345)\n",
    "features_valid, features_test, target_valid, target_test = train_test_split(features_valid, target_valid, \n",
    "                                                                            test_size=0.5, random_state=12345)"
   ]
  },
  {
   "cell_type": "markdown",
   "metadata": {},
   "source": [
    "Стандартизируем обучающие признаки"
   ]
  },
  {
   "cell_type": "code",
   "execution_count": 36,
   "metadata": {},
   "outputs": [],
   "source": [
    "scaler = StandardScaler()\n",
    "scaler.fit(features_train[numeric_columns])\n",
    "features_train[numeric_columns] = scaler.transform(features_train[numeric_columns])\n",
    "features_valid[numeric_columns] = scaler.transform(features_valid[numeric_columns])\n",
    "features_test[numeric_columns] = scaler.transform(features_test[numeric_columns])"
   ]
  },
  {
   "cell_type": "markdown",
   "metadata": {},
   "source": [
    "Создадим список для дальнейшего анализа"
   ]
  },
  {
   "cell_type": "code",
   "execution_count": 37,
   "metadata": {},
   "outputs": [],
   "source": [
    "models_scores = pd.DataFrame(columns = ['Model', 'RMSE', 'Training Time', 'Prediction Time'])"
   ]
  },
  {
   "cell_type": "markdown",
   "metadata": {},
   "source": [
    "Сравним 3 модели по RMSE, времени обучения и времени предсказаний:\n",
    "* LinearRegression\n",
    "* CatBoostRegressor\n",
    "* LightGBMRegressor"
   ]
  },
  {
   "cell_type": "markdown",
   "metadata": {},
   "source": [
    "Закодируем категориальные признаки для вычисления cross_val_csore и обучения модели Линейной Регрессии"
   ]
  },
  {
   "cell_type": "code",
   "execution_count": 38,
   "metadata": {},
   "outputs": [],
   "source": [
    "# Кодирование категориальных признаков\n",
    "encoder = OrdinalEncoder()\n",
    "encoder.fit(features_train[categorical_columns])\n",
    "features_encoded = features.copy()\n",
    "features_train_encoded = features_train.copy()\n",
    "features_valid_encoded = features_valid.copy()\n",
    "features_test_encoded = features_test.copy()\n",
    "features_encoded[categorical_columns] = encoder.transform(features[categorical_columns])\n",
    "features_train_encoded[categorical_columns] = encoder.transform(features_train[categorical_columns])\n",
    "features_valid_encoded[categorical_columns] = encoder.transform(features_valid[categorical_columns])\n",
    "features_test_encoded[categorical_columns] = encoder.transform(features_test[categorical_columns])\n"
   ]
  },
  {
   "cell_type": "code",
   "execution_count": 39,
   "metadata": {},
   "outputs": [],
   "source": [
    "# Создание экземпляра класса OneHotEncoder\n",
    "encoder = OneHotEncoder(categories='auto', sparse=False, drop='first')\n",
    "\n",
    "# Применение кодирования категориальных признаков на тренировочном наборе\n",
    "ohe_features_train = encoder.fit_transform(features_train[categorical_columns])\n",
    "\n",
    "# Применение кодирования категориальных признаков на валидационном наборе\n",
    "ohe_features_valid = encoder.transform(features_valid[categorical_columns])\n",
    "\n",
    "# Применение кодирования категориальных признаков на тестовом наборе\n",
    "ohe_features_test = encoder.transform(features_test[categorical_columns])\n",
    "\n",
    "# Объединение закодированных категориальных признаков с числовыми признаками\n",
    "features_train_ohe = np.concatenate([ohe_features_train, features_train[numeric_columns]], axis=1)\n",
    "features_valid_ohe = np.concatenate([ohe_features_valid, features_valid[numeric_columns]], axis=1)\n",
    "features_test_ohe = np.concatenate([ohe_features_test, features_test[numeric_columns]], axis=1)\n"
   ]
  },
  {
   "cell_type": "code",
   "execution_count": 40,
   "metadata": {},
   "outputs": [
    {
     "name": "stdout",
     "output_type": "stream",
     "text": [
      "Средний RMSE на кросс-валидации: 2686.3994032643545\n"
     ]
    }
   ],
   "source": [
    "model = LinearRegression()\n",
    "\n",
    "# Вычисление RMSE на кросс-валидации\n",
    "scores = np.sqrt(-cross_val_score(model, features_train_ohe, target_train, cv=5, \n",
    "                                  scoring='neg_mean_squared_error'))\n",
    "mean_rmse = np.mean(scores)\n",
    "\n",
    "print('Средний RMSE на кросс-валидации:', mean_rmse)"
   ]
  },
  {
   "cell_type": "code",
   "execution_count": 41,
   "metadata": {},
   "outputs": [
    {
     "name": "stdout",
     "output_type": "stream",
     "text": [
      "Training Time: 15.707596063613892\n",
      "Prediction Time: 0.10525822639465332\n",
      "RMSE: 2654.7431388690707\n",
      "CPU times: user 11.5 s, sys: 4.41 s, total: 15.9 s\n",
      "Wall time: 15.9 s\n"
     ]
    }
   ],
   "source": [
    "%%time\n",
    "\n",
    "start_time = time.time()\n",
    "\n",
    "model = LinearRegression()\n",
    "model.fit(features_train_ohe, target_train)\n",
    "\n",
    "training_time = time.time() - start_time\n",
    "start_time = time.time()\n",
    "\n",
    "predictions = model.predict(features_valid_ohe)\n",
    "prediction_time = time.time() - start_time\n",
    "\n",
    "rmse = mean_squared_error(target_valid, predictions, squared=False)\n",
    "print('Training Time:', training_time)\n",
    "print('Prediction Time:', prediction_time)\n",
    "print('RMSE:', rmse)\n",
    "\n",
    "models_scores = models_scores.append({'Model': 'Linear Regression', 'RMSE': rmse,\n",
    "                    'Training Time': training_time, 'Prediction Time': prediction_time}, \n",
    "                                     ignore_index=True)"
   ]
  },
  {
   "cell_type": "code",
   "execution_count": 42,
   "metadata": {},
   "outputs": [
    {
     "name": "stdout",
     "output_type": "stream",
     "text": [
      "Лучшие гиперпараметры: {'learning_rate': 0.3, 'iterations': 100, 'depth': 9}\n",
      "RMSE модели на валидационном наборе: 1624.532639016589\n",
      "Время обучения: 8.358935832977295\n",
      "Время предсказания: 0.04324817657470703\n",
      "CPU times: user 1min 14s, sys: 1.1 s, total: 1min 15s\n",
      "Wall time: 1min 31s\n"
     ]
    }
   ],
   "source": [
    "%%time\n",
    "# Создание модели CatBoostRegressor\n",
    "model = CatBoostRegressor(verbose=False)\n",
    "\n",
    "# Задание сетки параметров для подбора\n",
    "param_grid = {\n",
    "    'iterations': np.arange(50, 101, 50),\n",
    "    'depth': np.arange(6, 10, 3),\n",
    "    'learning_rate': [0.1, 0.3]\n",
    "}\n",
    "\n",
    "# Создание объекта RandomizedSearchCV для подбора гиперпараметров\n",
    "random_search = RandomizedSearchCV(estimator=model, param_distributions=param_grid, cv=3, \n",
    "                                   scoring='neg_mean_squared_error', n_iter=6, n_jobs=-1)\n",
    "\n",
    "# Подгонка модели на данных с использованием кросс-валидации и подбора гиперпараметров\n",
    "random_search.fit(features_train, target_train, cat_features=categorical_columns)\n",
    "\n",
    "# Оценка производительности модели на валидационном наборе\n",
    "predictions_valid = random_search.best_estimator_.predict(features_valid)\n",
    "rmse_valid = np.sqrt(mean_squared_error(target_valid, predictions_valid))\n",
    "\n",
    "# Обучение модели на тренировочных данных и замер времени\n",
    "start_time = time.time()\n",
    "random_search.best_estimator_.fit(features_train, target_train, cat_features=categorical_columns)\n",
    "training_time = time.time() - start_time\n",
    "\n",
    "# Предсказание на валидационном наборе и замер времени\n",
    "start_time = time.time()\n",
    "predictions_valid = random_search.best_estimator_.predict(features_valid)\n",
    "prediction_time = time.time() - start_time\n",
    "\n",
    "# Вычисление RMSE модели на валидационном наборе\n",
    "rmse_valid = np.sqrt(mean_squared_error(target_valid, predictions_valid))\n",
    "\n",
    "# Вывод результатов\n",
    "print('Лучшие гиперпараметры:', random_search.best_params_)\n",
    "print('RMSE модели на валидационном наборе:', rmse_valid)\n",
    "print('Время обучения:', training_time)\n",
    "print('Время предсказания:', prediction_time)\n"
   ]
  },
  {
   "cell_type": "code",
   "execution_count": 43,
   "metadata": {},
   "outputs": [
    {
     "name": "stdout",
     "output_type": "stream",
     "text": [
      "0:\tlearn: 3684.2046657\ttotal: 80.4ms\tremaining: 7.96s\n",
      "50:\tlearn: 1622.0486479\ttotal: 3.68s\tremaining: 3.54s\n",
      "99:\tlearn: 1545.6132491\ttotal: 7s\tremaining: 0us\n",
      "Training Time: 7.964730739593506\n",
      "Prediction Time: 0.04388260841369629\n",
      "RMSE: 1624.532639016589\n",
      "CPU times: user 6.96 s, sys: 83.1 ms, total: 7.04 s\n",
      "Wall time: 8.01 s\n"
     ]
    }
   ],
   "source": [
    "%%time\n",
    "start_time = time.time()\n",
    "\n",
    "model = CatBoostRegressor(loss_function='RMSE', iterations=100, depth=9, learning_rate=0.3, \n",
    "                          thread_count=-1)\n",
    "model.fit(features_train, target_train, cat_features=categorical_columns, verbose=50)\n",
    "\n",
    "training_time = time.time() - start_time\n",
    "start_time = time.time()\n",
    "\n",
    "predictions = model.predict(features_valid)\n",
    "prediction_time = time.time() - start_time\n",
    "\n",
    "rmse = mean_squared_error(target_valid, predictions, squared=False)\n",
    "print('Training Time:', training_time)\n",
    "print('Prediction Time:', prediction_time)\n",
    "print('RMSE:', rmse)\n",
    "\n",
    "models_scores = models_scores.append({'Model': 'CatBoostRegressor', 'RMSE': rmse,\n",
    "                    'Training Time': training_time, 'Prediction Time': prediction_time}, \n",
    "                                     ignore_index=True)"
   ]
  },
  {
   "cell_type": "markdown",
   "metadata": {},
   "source": [
    "Подбор гиперпараметров для модели LGBMRegressor занимает очень много времени, поэтому я подобрал гиперпараметры эмпирическим путём  "
   ]
  },
  {
   "cell_type": "code",
   "execution_count": 44,
   "metadata": {},
   "outputs": [
    {
     "name": "stdout",
     "output_type": "stream",
     "text": [
      "Training Time: 2.8837180137634277\n",
      "Prediction Time: 0.2084970474243164\n",
      "RMSE: 1617.778672543513\n",
      "CPU times: user 3.17 s, sys: 0 ns, total: 3.17 s\n",
      "Wall time: 3.1 s\n"
     ]
    }
   ],
   "source": [
    "%%time\n",
    "start_time = time.time()\n",
    "\n",
    "model = LGBMRegressor(boosting_type='gbdt', num_leaves=31, learning_rate=0.3, \n",
    "                      n_estimators=50, n_jobs=-1)\n",
    "model.fit(features_train, target_train)\n",
    "\n",
    "training_time = time.time() - start_time\n",
    "start_time = time.time()\n",
    "\n",
    "predictions = model.predict(features_valid)\n",
    "prediction_time = time.time() - start_time\n",
    "\n",
    "rmse = mean_squared_error(target_valid, predictions, squared=False)\n",
    "print('Training Time:', training_time)\n",
    "print('Prediction Time:', prediction_time)\n",
    "print('RMSE:', rmse)\n",
    "\n",
    "models_scores = models_scores.append({'Model': 'LGBMRegressor', 'RMSE': rmse,\n",
    "                    'Training Time': training_time, 'Prediction Time': prediction_time}, \n",
    "                                     ignore_index=True)\n"
   ]
  },
  {
   "cell_type": "markdown",
   "metadata": {},
   "source": [
    "# Вывод:\n",
    "* Целевой признак и обучающие разделены\n",
    "* Разделены обучающая, валидационная и тестовая выборки в соотношении 3:1:1\n",
    "* Стандартизированы обучающие признаки\n",
    "* Обучены 3 модели: LinearRegression, LightGBMRegressor, CatBosstRegressor\n",
    "* К модели CatBosstRegressor подобраны гиперпараметры методом RandomizedSearchCV\n",
    "* К модели LightGBMRegressor гиперпараметры подобраны эмпирическим путём из-за слишком большого количества времени подбора методом RandomizedSearchCV"
   ]
  },
  {
   "cell_type": "markdown",
   "metadata": {},
   "source": [
    "## Анализ моделей"
   ]
  },
  {
   "cell_type": "code",
   "execution_count": 45,
   "metadata": {},
   "outputs": [
    {
     "data": {
      "text/html": [
       "<div>\n",
       "<style scoped>\n",
       "    .dataframe tbody tr th:only-of-type {\n",
       "        vertical-align: middle;\n",
       "    }\n",
       "\n",
       "    .dataframe tbody tr th {\n",
       "        vertical-align: top;\n",
       "    }\n",
       "\n",
       "    .dataframe thead th {\n",
       "        text-align: right;\n",
       "    }\n",
       "</style>\n",
       "<table border=\"1\" class=\"dataframe\">\n",
       "  <thead>\n",
       "    <tr style=\"text-align: right;\">\n",
       "      <th></th>\n",
       "      <th>Model</th>\n",
       "      <th>RMSE</th>\n",
       "      <th>Training Time</th>\n",
       "      <th>Prediction Time</th>\n",
       "    </tr>\n",
       "  </thead>\n",
       "  <tbody>\n",
       "    <tr>\n",
       "      <th>0</th>\n",
       "      <td>Linear Regression</td>\n",
       "      <td>2654.743139</td>\n",
       "      <td>15.707596</td>\n",
       "      <td>0.105258</td>\n",
       "    </tr>\n",
       "    <tr>\n",
       "      <th>1</th>\n",
       "      <td>CatBoostRegressor</td>\n",
       "      <td>1624.532639</td>\n",
       "      <td>7.964731</td>\n",
       "      <td>0.043883</td>\n",
       "    </tr>\n",
       "    <tr>\n",
       "      <th>2</th>\n",
       "      <td>LGBMRegressor</td>\n",
       "      <td>1617.778673</td>\n",
       "      <td>2.883718</td>\n",
       "      <td>0.208497</td>\n",
       "    </tr>\n",
       "  </tbody>\n",
       "</table>\n",
       "</div>"
      ],
      "text/plain": [
       "               Model         RMSE  Training Time  Prediction Time\n",
       "0  Linear Regression  2654.743139      15.707596         0.105258\n",
       "1  CatBoostRegressor  1624.532639       7.964731         0.043883\n",
       "2      LGBMRegressor  1617.778673       2.883718         0.208497"
      ]
     },
     "execution_count": 45,
     "metadata": {},
     "output_type": "execute_result"
    }
   ],
   "source": [
    "models_scores"
   ]
  },
  {
   "cell_type": "code",
   "execution_count": 46,
   "metadata": {},
   "outputs": [
    {
     "data": {
      "image/png": "[encoded data removed]",
      "text/plain": [
       "<Figure size 864x432 with 3 Axes>"
      ]
     },
     "metadata": {},
     "output_type": "display_data"
    }
   ],
   "source": [
    "# Создание графика\n",
    "sns.set(style='whitegrid')\n",
    "plt.figure(figsize=(12, 6))\n",
    "\n",
    "# Построение графика RMSE\n",
    "plt.subplot(1, 3, 1)\n",
    "sns.barplot(x='Model', y='RMSE', data=models_scores, palette='mako')\n",
    "plt.title('RMSE Comparison')\n",
    "plt.ylabel('RMSE')\n",
    "\n",
    "# Поворот меток по оси X для лучшей читаемости\n",
    "plt.xticks(rotation=45)\n",
    "\n",
    "# Построение графика времени обучения\n",
    "plt.subplot(1, 3, 2)\n",
    "sns.barplot(x='Model', y='Training Time', data=models_scores, palette='mako')\n",
    "plt.title('Training Time Comparison')\n",
    "plt.ylabel('Training Time')\n",
    "plt.xticks(rotation=45)\n",
    "\n",
    "# Построение графика времени предсказания\n",
    "plt.subplot(1, 3, 3)\n",
    "sns.barplot(x='Model', y='Prediction Time', data=models_scores, palette='mako')\n",
    "plt.title('Prediction Time Comparison')\n",
    "plt.ylabel('Prediction Time')\n",
    "plt.xticks(rotation=45)\n",
    "\n",
    "# Отображение графика\n",
    "plt.tight_layout()\n",
    "plt.show()"
   ]
  },
  {
   "cell_type": "markdown",
   "metadata": {},
   "source": [
    "# Вывод:\n",
    "* Простая модель, LinearRegressor, имеет слишком высокий показатель RMSE (2654), так что не подходит для решения нашей задачи;\n",
    "* Моделям CatBoostRegressor и LGBTRegressor удалось достичь RMSE менее 2500;\n",
    "* По времени обучения CatBoostRegressor значительно (на 30 секунд) превосходит LGBMRegressor;\n",
    "* По времени предсказаний CatBoostRegressor также превосходит LGBTRegressor;\n",
    "* У модели CatBoostRegressor показатель RMSE = 1624, у LGBTRegressor RMSE = 1617;\n",
    "* По  показателю RMSE LGBTRegressor немного превосходит CatBoostRegressor, однако время обучения у CatBoostRegressor намного меньше, поэтому будем использовать её."
   ]
  },
  {
   "cell_type": "markdown",
   "metadata": {},
   "source": [
    "Протестируем лучшую модель на выборке test"
   ]
  },
  {
   "cell_type": "code",
   "execution_count": 47,
   "metadata": {},
   "outputs": [
    {
     "name": "stdout",
     "output_type": "stream",
     "text": [
      "0:\tlearn: 3684.2046657\ttotal: 72.9ms\tremaining: 7.22s\n",
      "25:\tlearn: 1717.3995637\ttotal: 1.72s\tremaining: 4.9s\n",
      "50:\tlearn: 1622.0486479\ttotal: 3.37s\tremaining: 3.24s\n",
      "75:\tlearn: 1575.8569684\ttotal: 5s\tremaining: 1.58s\n",
      "99:\tlearn: 1545.6132491\ttotal: 6.64s\tremaining: 0us\n",
      "Training Time: 7.592319011688232\n",
      "Prediction Time: 0.06499767303466797\n",
      "RMSE: 1637.806139400135\n",
      "CPU times: user 6.86 s, sys: 55.9 ms, total: 6.92 s\n",
      "Wall time: 7.66 s\n"
     ]
    }
   ],
   "source": [
    "%%time\n",
    "start_time = time.time()\n",
    "\n",
    "model = CatBoostRegressor(loss_function='RMSE', iterations=100, depth=9, learning_rate=0.3, \n",
    "                          thread_count=-1)\n",
    "model.fit(features_train, target_train, cat_features=categorical_columns, verbose=25)\n",
    "\n",
    "training_time = time.time() - start_time\n",
    "start_time = time.time()\n",
    "\n",
    "predictions = model.predict(features_test)\n",
    "prediction_time = time.time() - start_time\n",
    "\n",
    "rmse = mean_squared_error(target_test, predictions, squared=False)\n",
    "print('Training Time:', training_time)\n",
    "print('Prediction Time:', prediction_time)\n",
    "print('RMSE:', rmse)"
   ]
  },
  {
   "cell_type": "code",
   "execution_count": 48,
   "metadata": {},
   "outputs": [
    {
     "data": {
      "image/png": "[encoded data removed]",
      "text/plain": [
       "<Figure size 576x367.2 with 1 Axes>"
      ]
     },
     "metadata": {},
     "output_type": "display_data"
    }
   ],
   "source": [
    "# Инициализация объекта Explainer\n",
    "explainer = shap.Explainer(model)\n",
    "\n",
    "# Получение SHAP значений для тестовых данных\n",
    "shap_values = explainer.shap_values(features_test)\n",
    "\n",
    "# Визуализация SHAP значений\n",
    "shap.summary_plot(shap_values, features_test, plot_type='bar')"
   ]
  },
  {
   "cell_type": "markdown",
   "metadata": {},
   "source": [
    "# Вывод:\n",
    "* Качество модели CatBoostRegressor соответствует критериям задачи.\n",
    "* RMSE = 1637\n",
    "* Время обучения = 8 секунд\n",
    "* Время предсказаний = 0.05 секунды\n",
    "* Важнейшими признаками для модели CatBoostRegressor являются:\n",
    "* Год регистрации автомобиля\n",
    "* Мощность\n",
    "* Пробег"
   ]
  },
  {
   "cell_type": "markdown",
   "metadata": {},
   "source": [
    "# Общий вывод:\n",
    "* Модель CatBoostRegressor является лучшей для данной задачи;\n",
    "* Обучение и предсказание Модели CatBoostRegressor не занимает много времени;\n",
    "* Качество Модели CatBoostRegressor ялвяется практически лучшим среди других моделей;\n",
    "* Модель CatBoostRegressor прошла проверку качества на тестовой выборке;\n",
    "* Важнейшими признаками для предсказаний для модели CatBoostRegressor являются: год регистрации автомобиля, мощность и пробег."
   ]
  },
  {
   "cell_type": "markdown",
   "metadata": {},
   "source": [
    "## Чек-лист проверки"
   ]
  },
  {
   "cell_type": "markdown",
   "metadata": {},
   "source": [
    "Поставьте 'x' в выполненных пунктах. Далее нажмите Shift+Enter."
   ]
  },
  {
   "cell_type": "markdown",
   "metadata": {},
   "source": [
    "- [x]  Jupyter Notebook открыт\n",
    "- [x]  Весь код выполняется без ошибок\n",
    "- [x]  Ячейки с кодом расположены в порядке исполнения\n",
    "- [x]  Выполнена загрузка и подготовка данных\n",
    "- [x]  Выполнено обучение моделей\n",
    "- [x]  Есть анализ скорости работы и качества моделей"
   ]
  }
 ],
 "metadata": {
  "ExecuteTimeLog": [
   {
    "duration": 369,
    "start_time": "2023-05-14T16:05:44.012Z"
   },
   {
    "duration": 1107,
    "start_time": "2023-05-14T16:06:05.550Z"
   },
   {
    "duration": 18,
    "start_time": "2023-05-14T16:06:18.507Z"
   },
   {
    "duration": 142,
    "start_time": "2023-05-14T16:06:28.828Z"
   },
   {
    "duration": 423,
    "start_time": "2023-05-14T16:06:55.935Z"
   },
   {
    "duration": 422,
    "start_time": "2023-05-14T16:07:06.109Z"
   },
   {
    "duration": 60,
    "start_time": "2023-05-14T16:10:21.146Z"
   },
   {
    "duration": 478,
    "start_time": "2023-05-14T16:10:27.578Z"
   },
   {
    "duration": 460,
    "start_time": "2023-05-14T16:11:39.698Z"
   },
   {
    "duration": 6,
    "start_time": "2023-05-14T16:11:45.828Z"
   },
   {
    "duration": 428,
    "start_time": "2023-05-14T16:11:56.602Z"
   },
   {
    "duration": 5,
    "start_time": "2023-05-14T16:11:58.893Z"
   },
   {
    "duration": 24,
    "start_time": "2023-05-14T16:13:20.310Z"
   },
   {
    "duration": 435,
    "start_time": "2023-05-14T16:13:59.598Z"
   },
   {
    "duration": 440,
    "start_time": "2023-05-14T16:14:09.036Z"
   },
   {
    "duration": 451,
    "start_time": "2023-05-14T16:15:11.132Z"
   },
   {
    "duration": 5,
    "start_time": "2023-05-14T16:15:15.425Z"
   },
   {
    "duration": 626,
    "start_time": "2023-05-14T16:15:24.336Z"
   },
   {
    "duration": 0,
    "start_time": "2023-05-14T16:15:24.963Z"
   },
   {
    "duration": 627,
    "start_time": "2023-05-14T16:15:27.137Z"
   },
   {
    "duration": 6,
    "start_time": "2023-05-14T16:15:27.838Z"
   },
   {
    "duration": 445,
    "start_time": "2023-05-14T16:15:46.760Z"
   },
   {
    "duration": 5,
    "start_time": "2023-05-14T16:15:49.428Z"
   },
   {
    "duration": 439,
    "start_time": "2023-05-14T16:15:54.760Z"
   },
   {
    "duration": 828,
    "start_time": "2023-05-14T16:15:55.201Z"
   },
   {
    "duration": 19,
    "start_time": "2023-05-14T16:15:56.030Z"
   },
   {
    "duration": 156,
    "start_time": "2023-05-14T16:15:56.051Z"
   },
   {
    "duration": 467,
    "start_time": "2023-05-14T16:15:56.209Z"
   },
   {
    "duration": 479,
    "start_time": "2023-05-14T16:15:56.678Z"
   },
   {
    "duration": 6,
    "start_time": "2023-05-14T16:15:57.159Z"
   },
   {
    "duration": 521,
    "start_time": "2023-05-14T16:17:20.464Z"
   },
   {
    "duration": 516,
    "start_time": "2023-05-14T16:17:52.654Z"
   },
   {
    "duration": 495,
    "start_time": "2023-05-14T16:18:00.810Z"
   },
   {
    "duration": 447,
    "start_time": "2023-05-14T16:18:09.255Z"
   },
   {
    "duration": 120,
    "start_time": "2023-05-14T16:18:24.444Z"
   },
   {
    "duration": 24,
    "start_time": "2023-05-14T16:23:39.793Z"
   },
   {
    "duration": 2,
    "start_time": "2023-05-14T16:24:49.052Z"
   },
   {
    "duration": 193,
    "start_time": "2023-05-17T11:28:41.820Z"
   },
   {
    "duration": 0,
    "start_time": "2023-05-17T11:28:42.018Z"
   },
   {
    "duration": 0,
    "start_time": "2023-05-17T11:28:42.019Z"
   },
   {
    "duration": 0,
    "start_time": "2023-05-17T11:28:42.019Z"
   },
   {
    "duration": 0,
    "start_time": "2023-05-17T11:28:42.020Z"
   },
   {
    "duration": 0,
    "start_time": "2023-05-17T11:28:42.021Z"
   },
   {
    "duration": 0,
    "start_time": "2023-05-17T11:28:42.023Z"
   },
   {
    "duration": 0,
    "start_time": "2023-05-17T11:28:42.026Z"
   },
   {
    "duration": 0,
    "start_time": "2023-05-17T11:28:42.030Z"
   },
   {
    "duration": 0,
    "start_time": "2023-05-17T11:28:42.031Z"
   },
   {
    "duration": 1064,
    "start_time": "2023-05-17T11:31:12.849Z"
   },
   {
    "duration": 76,
    "start_time": "2023-05-17T11:31:39.120Z"
   },
   {
    "duration": 1239,
    "start_time": "2023-05-17T11:31:39.685Z"
   },
   {
    "duration": 26,
    "start_time": "2023-05-17T11:31:40.926Z"
   },
   {
    "duration": 125,
    "start_time": "2023-05-17T11:31:40.954Z"
   },
   {
    "duration": 448,
    "start_time": "2023-05-17T11:31:41.083Z"
   },
   {
    "duration": 544,
    "start_time": "2023-05-17T11:31:41.533Z"
   },
   {
    "duration": 502,
    "start_time": "2023-05-17T11:31:42.078Z"
   },
   {
    "duration": 132,
    "start_time": "2023-05-17T11:31:44.519Z"
   },
   {
    "duration": 32,
    "start_time": "2023-05-17T11:31:44.978Z"
   },
   {
    "duration": 2,
    "start_time": "2023-05-17T11:31:45.578Z"
   },
   {
    "duration": 33,
    "start_time": "2023-05-17T11:31:51.411Z"
   },
   {
    "duration": 3,
    "start_time": "2023-05-17T11:34:50.427Z"
   },
   {
    "duration": 1138,
    "start_time": "2023-05-17T11:34:50.997Z"
   },
   {
    "duration": 19,
    "start_time": "2023-05-17T11:34:52.137Z"
   },
   {
    "duration": 235,
    "start_time": "2023-05-17T11:34:52.157Z"
   },
   {
    "duration": 675,
    "start_time": "2023-05-17T11:34:52.395Z"
   },
   {
    "duration": 709,
    "start_time": "2023-05-17T11:34:53.072Z"
   },
   {
    "duration": 589,
    "start_time": "2023-05-17T11:34:53.784Z"
   },
   {
    "duration": 218,
    "start_time": "2023-05-17T11:34:54.375Z"
   },
   {
    "duration": 38,
    "start_time": "2023-05-17T11:34:54.595Z"
   },
   {
    "duration": 91,
    "start_time": "2023-05-17T11:34:54.636Z"
   },
   {
    "duration": 245,
    "start_time": "2023-05-17T11:36:20.582Z"
   },
   {
    "duration": 5189,
    "start_time": "2023-05-17T11:38:23.839Z"
   },
   {
    "duration": 56,
    "start_time": "2023-05-17T11:38:36.507Z"
   },
   {
    "duration": 59,
    "start_time": "2023-05-17T11:39:04.026Z"
   },
   {
    "duration": 7,
    "start_time": "2023-05-17T11:48:34.922Z"
   },
   {
    "duration": 30,
    "start_time": "2023-05-17T11:52:22.107Z"
   },
   {
    "duration": 1178,
    "start_time": "2023-05-17T12:11:10.431Z"
   },
   {
    "duration": 782,
    "start_time": "2023-05-17T12:11:11.612Z"
   },
   {
    "duration": 23,
    "start_time": "2023-05-17T12:11:12.395Z"
   },
   {
    "duration": 196,
    "start_time": "2023-05-17T12:11:12.420Z"
   },
   {
    "duration": 421,
    "start_time": "2023-05-17T12:11:12.627Z"
   },
   {
    "duration": 453,
    "start_time": "2023-05-17T12:11:13.049Z"
   },
   {
    "duration": 437,
    "start_time": "2023-05-17T12:11:13.503Z"
   },
   {
    "duration": 171,
    "start_time": "2023-05-17T12:11:13.942Z"
   },
   {
    "duration": 28,
    "start_time": "2023-05-17T12:11:14.114Z"
   },
   {
    "duration": 76,
    "start_time": "2023-05-17T12:11:14.144Z"
   },
   {
    "duration": 41,
    "start_time": "2023-05-17T12:11:14.221Z"
   },
   {
    "duration": 159,
    "start_time": "2023-05-17T12:11:14.263Z"
   },
   {
    "duration": 0,
    "start_time": "2023-05-17T12:11:14.427Z"
   },
   {
    "duration": 55,
    "start_time": "2023-05-17T12:11:47.276Z"
   },
   {
    "duration": 31,
    "start_time": "2023-05-17T12:11:59.708Z"
   },
   {
    "duration": 46,
    "start_time": "2023-05-17T12:12:06.715Z"
   },
   {
    "duration": 116,
    "start_time": "2023-05-17T12:12:26.683Z"
   },
   {
    "duration": 203,
    "start_time": "2023-05-17T12:12:38.236Z"
   },
   {
    "duration": 163,
    "start_time": "2023-05-17T12:13:02.319Z"
   },
   {
    "duration": 87,
    "start_time": "2023-05-17T12:13:11.315Z"
   },
   {
    "duration": 4801,
    "start_time": "2023-05-17T12:14:56.582Z"
   },
   {
    "duration": 182,
    "start_time": "2023-05-17T12:15:03.881Z"
   },
   {
    "duration": 7,
    "start_time": "2023-05-17T12:15:07.273Z"
   },
   {
    "duration": 200,
    "start_time": "2023-05-17T12:15:16.173Z"
   },
   {
    "duration": 142,
    "start_time": "2023-05-17T12:15:30.857Z"
   },
   {
    "duration": 9,
    "start_time": "2023-05-17T12:15:32.215Z"
   },
   {
    "duration": 5,
    "start_time": "2023-05-17T12:16:54.820Z"
   },
   {
    "duration": 135,
    "start_time": "2023-05-17T12:19:25.912Z"
   },
   {
    "duration": 14,
    "start_time": "2023-05-17T12:20:10.115Z"
   },
   {
    "duration": 340,
    "start_time": "2023-05-17T12:21:06.225Z"
   },
   {
    "duration": 286,
    "start_time": "2023-05-17T12:21:14.983Z"
   },
   {
    "duration": 364,
    "start_time": "2023-05-17T12:21:25.283Z"
   },
   {
    "duration": 865,
    "start_time": "2023-05-17T12:21:26.271Z"
   },
   {
    "duration": 0,
    "start_time": "2023-05-17T12:21:27.137Z"
   },
   {
    "duration": 1220,
    "start_time": "2023-05-17T12:21:35.182Z"
   },
   {
    "duration": 819,
    "start_time": "2023-05-17T12:21:36.411Z"
   },
   {
    "duration": 18,
    "start_time": "2023-05-17T12:21:37.232Z"
   },
   {
    "duration": 159,
    "start_time": "2023-05-17T12:21:37.251Z"
   },
   {
    "duration": 140,
    "start_time": "2023-05-17T12:21:37.419Z"
   },
   {
    "duration": 7,
    "start_time": "2023-05-17T12:21:37.560Z"
   },
   {
    "duration": 340,
    "start_time": "2023-05-17T12:21:37.568Z"
   },
   {
    "duration": 263,
    "start_time": "2023-05-17T12:21:37.916Z"
   },
   {
    "duration": 563,
    "start_time": "2023-05-17T12:21:38.181Z"
   },
   {
    "duration": 669,
    "start_time": "2023-05-17T12:21:38.745Z"
   },
   {
    "duration": 467,
    "start_time": "2023-05-17T12:21:39.415Z"
   },
   {
    "duration": 146,
    "start_time": "2023-05-17T12:21:39.888Z"
   },
   {
    "duration": 178,
    "start_time": "2023-05-17T12:21:40.036Z"
   },
   {
    "duration": 5,
    "start_time": "2023-05-17T12:21:40.228Z"
   },
   {
    "duration": 20,
    "start_time": "2023-05-17T12:21:40.234Z"
   },
   {
    "duration": 91,
    "start_time": "2023-05-17T12:21:40.255Z"
   },
   {
    "duration": 91,
    "start_time": "2023-05-17T12:21:40.347Z"
   },
   {
    "duration": 122,
    "start_time": "2023-05-17T12:21:40.440Z"
   },
   {
    "duration": 0,
    "start_time": "2023-05-17T12:21:40.564Z"
   },
   {
    "duration": 1354,
    "start_time": "2023-05-17T12:21:53.226Z"
   },
   {
    "duration": 845,
    "start_time": "2023-05-17T12:21:54.581Z"
   },
   {
    "duration": 20,
    "start_time": "2023-05-17T12:21:55.435Z"
   },
   {
    "duration": 181,
    "start_time": "2023-05-17T12:21:55.457Z"
   },
   {
    "duration": 122,
    "start_time": "2023-05-17T12:21:55.643Z"
   },
   {
    "duration": 11,
    "start_time": "2023-05-17T12:21:55.766Z"
   },
   {
    "duration": 148,
    "start_time": "2023-05-17T12:21:55.778Z"
   },
   {
    "duration": 0,
    "start_time": "2023-05-17T12:21:55.928Z"
   },
   {
    "duration": 0,
    "start_time": "2023-05-17T12:21:55.935Z"
   },
   {
    "duration": 0,
    "start_time": "2023-05-17T12:21:55.936Z"
   },
   {
    "duration": 0,
    "start_time": "2023-05-17T12:21:55.937Z"
   },
   {
    "duration": 0,
    "start_time": "2023-05-17T12:21:55.938Z"
   },
   {
    "duration": 0,
    "start_time": "2023-05-17T12:21:55.939Z"
   },
   {
    "duration": 0,
    "start_time": "2023-05-17T12:21:55.940Z"
   },
   {
    "duration": 0,
    "start_time": "2023-05-17T12:21:55.941Z"
   },
   {
    "duration": 0,
    "start_time": "2023-05-17T12:21:55.946Z"
   },
   {
    "duration": 0,
    "start_time": "2023-05-17T12:21:55.951Z"
   },
   {
    "duration": 0,
    "start_time": "2023-05-17T12:21:55.952Z"
   },
   {
    "duration": 0,
    "start_time": "2023-05-17T12:21:55.953Z"
   },
   {
    "duration": 138,
    "start_time": "2023-05-17T12:22:35.136Z"
   },
   {
    "duration": 52,
    "start_time": "2023-05-17T12:22:39.467Z"
   },
   {
    "duration": 13,
    "start_time": "2023-05-17T12:22:40.607Z"
   },
   {
    "duration": 75,
    "start_time": "2023-05-17T12:22:56.173Z"
   },
   {
    "duration": 19,
    "start_time": "2023-05-17T12:22:56.328Z"
   },
   {
    "duration": 18,
    "start_time": "2023-05-17T12:22:58.610Z"
   },
   {
    "duration": 50,
    "start_time": "2023-05-17T12:22:59.124Z"
   },
   {
    "duration": 12,
    "start_time": "2023-05-17T12:22:59.431Z"
   },
   {
    "duration": 1332,
    "start_time": "2023-05-17T12:23:05.586Z"
   },
   {
    "duration": 934,
    "start_time": "2023-05-17T12:23:06.920Z"
   },
   {
    "duration": 20,
    "start_time": "2023-05-17T12:23:07.855Z"
   },
   {
    "duration": 202,
    "start_time": "2023-05-17T12:23:07.877Z"
   },
   {
    "duration": 142,
    "start_time": "2023-05-17T12:23:08.080Z"
   },
   {
    "duration": 10,
    "start_time": "2023-05-17T12:23:08.229Z"
   },
   {
    "duration": 121,
    "start_time": "2023-05-17T12:23:08.240Z"
   },
   {
    "duration": 9,
    "start_time": "2023-05-17T12:23:08.362Z"
   },
   {
    "duration": 492,
    "start_time": "2023-05-17T12:23:08.374Z"
   },
   {
    "duration": 513,
    "start_time": "2023-05-17T12:23:08.868Z"
   },
   {
    "duration": 444,
    "start_time": "2023-05-17T12:23:09.383Z"
   },
   {
    "duration": 138,
    "start_time": "2023-05-17T12:23:09.828Z"
   },
   {
    "duration": 157,
    "start_time": "2023-05-17T12:23:09.968Z"
   },
   {
    "duration": 8,
    "start_time": "2023-05-17T12:23:10.128Z"
   },
   {
    "duration": 39,
    "start_time": "2023-05-17T12:23:10.137Z"
   },
   {
    "duration": 99,
    "start_time": "2023-05-17T12:23:10.177Z"
   },
   {
    "duration": 153,
    "start_time": "2023-05-17T12:23:10.277Z"
   },
   {
    "duration": 143,
    "start_time": "2023-05-17T12:23:10.432Z"
   },
   {
    "duration": 0,
    "start_time": "2023-05-17T12:23:10.577Z"
   },
   {
    "duration": 55,
    "start_time": "2023-05-17T12:23:15.621Z"
   },
   {
    "duration": 36,
    "start_time": "2023-05-17T12:23:15.678Z"
   },
   {
    "duration": 63,
    "start_time": "2023-05-17T12:25:51.403Z"
   },
   {
    "duration": 72,
    "start_time": "2023-05-17T12:35:06.407Z"
   },
   {
    "duration": 109,
    "start_time": "2023-05-17T12:35:14.012Z"
   },
   {
    "duration": 18,
    "start_time": "2023-05-17T12:35:20.718Z"
   },
   {
    "duration": 81,
    "start_time": "2023-05-17T12:35:21.378Z"
   },
   {
    "duration": 13,
    "start_time": "2023-05-17T12:36:45.579Z"
   },
   {
    "duration": 11,
    "start_time": "2023-05-17T12:36:50.815Z"
   },
   {
    "duration": 18,
    "start_time": "2023-05-17T12:36:57.101Z"
   },
   {
    "duration": 13,
    "start_time": "2023-05-17T12:37:01.513Z"
   },
   {
    "duration": 7,
    "start_time": "2023-05-17T12:37:04.134Z"
   },
   {
    "duration": 10,
    "start_time": "2023-05-17T12:37:31.039Z"
   },
   {
    "duration": 9,
    "start_time": "2023-05-17T12:37:35.831Z"
   },
   {
    "duration": 19,
    "start_time": "2023-05-17T12:37:42.389Z"
   },
   {
    "duration": 16,
    "start_time": "2023-05-17T12:37:47.600Z"
   },
   {
    "duration": 21,
    "start_time": "2023-05-17T12:37:50.185Z"
   },
   {
    "duration": 16,
    "start_time": "2023-05-17T12:37:52.218Z"
   },
   {
    "duration": 17,
    "start_time": "2023-05-17T12:37:55.412Z"
   },
   {
    "duration": 16,
    "start_time": "2023-05-17T12:37:58.406Z"
   },
   {
    "duration": 9,
    "start_time": "2023-05-17T12:38:01.632Z"
   },
   {
    "duration": 18,
    "start_time": "2023-05-17T12:38:04.584Z"
   },
   {
    "duration": 9,
    "start_time": "2023-05-17T12:38:07.130Z"
   },
   {
    "duration": 17,
    "start_time": "2023-05-17T12:38:13.777Z"
   },
   {
    "duration": 45,
    "start_time": "2023-05-17T12:38:47.781Z"
   },
   {
    "duration": 2,
    "start_time": "2023-05-17T12:42:10.038Z"
   },
   {
    "duration": 10,
    "start_time": "2023-05-17T12:43:07.228Z"
   },
   {
    "duration": 76,
    "start_time": "2023-05-17T12:43:24.238Z"
   },
   {
    "duration": 15,
    "start_time": "2023-05-17T12:43:28.579Z"
   },
   {
    "duration": 1146,
    "start_time": "2023-05-17T12:43:57.374Z"
   },
   {
    "duration": 791,
    "start_time": "2023-05-17T12:43:58.527Z"
   },
   {
    "duration": 22,
    "start_time": "2023-05-17T12:43:59.319Z"
   },
   {
    "duration": 140,
    "start_time": "2023-05-17T12:43:59.342Z"
   },
   {
    "duration": 111,
    "start_time": "2023-05-17T12:43:59.484Z"
   },
   {
    "duration": 468,
    "start_time": "2023-05-17T12:43:59.597Z"
   },
   {
    "duration": 505,
    "start_time": "2023-05-17T12:44:00.066Z"
   },
   {
    "duration": 128,
    "start_time": "2023-05-17T12:44:00.572Z"
   },
   {
    "duration": 197,
    "start_time": "2023-05-17T12:44:00.702Z"
   },
   {
    "duration": 16,
    "start_time": "2023-05-17T12:44:00.912Z"
   },
   {
    "duration": 118,
    "start_time": "2023-05-17T12:44:00.931Z"
   },
   {
    "duration": 132,
    "start_time": "2023-05-17T12:44:01.051Z"
   },
   {
    "duration": 63,
    "start_time": "2023-05-17T12:44:01.186Z"
   },
   {
    "duration": 32,
    "start_time": "2023-05-17T12:44:01.251Z"
   },
   {
    "duration": 52,
    "start_time": "2023-05-17T12:44:01.284Z"
   },
   {
    "duration": 73,
    "start_time": "2023-05-17T12:44:01.337Z"
   },
   {
    "duration": 93,
    "start_time": "2023-05-17T12:44:01.421Z"
   },
   {
    "duration": 81,
    "start_time": "2023-05-17T12:44:01.529Z"
   },
   {
    "duration": 659,
    "start_time": "2023-05-17T12:44:01.618Z"
   },
   {
    "duration": 250,
    "start_time": "2023-05-17T12:44:02.278Z"
   },
   {
    "duration": 9,
    "start_time": "2023-05-17T12:44:28.909Z"
   },
   {
    "duration": 8,
    "start_time": "2023-05-17T12:44:29.441Z"
   },
   {
    "duration": 41,
    "start_time": "2023-05-17T12:44:32.428Z"
   },
   {
    "duration": 1206,
    "start_time": "2023-05-17T12:44:50.320Z"
   },
   {
    "duration": 905,
    "start_time": "2023-05-17T12:44:51.529Z"
   },
   {
    "duration": 24,
    "start_time": "2023-05-17T12:44:52.439Z"
   },
   {
    "duration": 207,
    "start_time": "2023-05-17T12:44:52.464Z"
   },
   {
    "duration": 102,
    "start_time": "2023-05-17T12:44:52.673Z"
   },
   {
    "duration": 503,
    "start_time": "2023-05-17T12:44:52.777Z"
   },
   {
    "duration": 548,
    "start_time": "2023-05-17T12:44:53.281Z"
   },
   {
    "duration": 129,
    "start_time": "2023-05-17T12:44:53.831Z"
   },
   {
    "duration": 176,
    "start_time": "2023-05-17T12:44:53.962Z"
   },
   {
    "duration": 6,
    "start_time": "2023-05-17T12:44:54.140Z"
   },
   {
    "duration": 93,
    "start_time": "2023-05-17T12:44:54.147Z"
   },
   {
    "duration": 189,
    "start_time": "2023-05-17T12:44:54.242Z"
   },
   {
    "duration": 43,
    "start_time": "2023-05-17T12:44:54.433Z"
   },
   {
    "duration": 35,
    "start_time": "2023-05-17T12:44:54.479Z"
   },
   {
    "duration": 49,
    "start_time": "2023-05-17T12:44:54.515Z"
   },
   {
    "duration": 36,
    "start_time": "2023-05-17T12:44:54.566Z"
   },
   {
    "duration": 127,
    "start_time": "2023-05-17T12:44:54.603Z"
   },
   {
    "duration": 85,
    "start_time": "2023-05-17T12:44:54.733Z"
   },
   {
    "duration": 643,
    "start_time": "2023-05-17T12:44:54.827Z"
   },
   {
    "duration": 203,
    "start_time": "2023-05-17T12:44:55.472Z"
   },
   {
    "duration": 121,
    "start_time": "2023-05-17T12:51:47.819Z"
   },
   {
    "duration": 5,
    "start_time": "2023-05-17T12:52:12.024Z"
   },
   {
    "duration": 111,
    "start_time": "2023-05-17T12:52:19.324Z"
   },
   {
    "duration": 67,
    "start_time": "2023-05-17T12:52:22.239Z"
   },
   {
    "duration": 629,
    "start_time": "2023-05-17T12:52:22.652Z"
   },
   {
    "duration": 103,
    "start_time": "2023-05-17T12:52:24.937Z"
   },
   {
    "duration": 1223,
    "start_time": "2023-05-17T12:53:44.634Z"
   },
   {
    "duration": 909,
    "start_time": "2023-05-17T12:53:45.860Z"
   },
   {
    "duration": 39,
    "start_time": "2023-05-17T12:53:46.771Z"
   },
   {
    "duration": 240,
    "start_time": "2023-05-17T12:53:46.816Z"
   },
   {
    "duration": 112,
    "start_time": "2023-05-17T12:53:47.061Z"
   },
   {
    "duration": 579,
    "start_time": "2023-05-17T12:53:47.175Z"
   },
   {
    "duration": 519,
    "start_time": "2023-05-17T12:53:47.756Z"
   },
   {
    "duration": 189,
    "start_time": "2023-05-17T12:53:48.276Z"
   },
   {
    "duration": 293,
    "start_time": "2023-05-17T12:53:48.469Z"
   },
   {
    "duration": 0,
    "start_time": "2023-05-17T12:53:48.764Z"
   },
   {
    "duration": 0,
    "start_time": "2023-05-17T12:53:48.767Z"
   },
   {
    "duration": 0,
    "start_time": "2023-05-17T12:53:48.768Z"
   },
   {
    "duration": 0,
    "start_time": "2023-05-17T12:53:48.769Z"
   },
   {
    "duration": 0,
    "start_time": "2023-05-17T12:53:48.771Z"
   },
   {
    "duration": 0,
    "start_time": "2023-05-17T12:53:48.772Z"
   },
   {
    "duration": 0,
    "start_time": "2023-05-17T12:53:48.774Z"
   },
   {
    "duration": 0,
    "start_time": "2023-05-17T12:53:48.790Z"
   },
   {
    "duration": 0,
    "start_time": "2023-05-17T12:53:48.791Z"
   },
   {
    "duration": 0,
    "start_time": "2023-05-17T12:53:48.792Z"
   },
   {
    "duration": 0,
    "start_time": "2023-05-17T12:53:48.793Z"
   },
   {
    "duration": 1,
    "start_time": "2023-05-17T12:53:48.793Z"
   },
   {
    "duration": 1328,
    "start_time": "2023-05-17T12:54:16.019Z"
   },
   {
    "duration": 792,
    "start_time": "2023-05-17T12:54:17.349Z"
   },
   {
    "duration": 18,
    "start_time": "2023-05-17T12:54:18.142Z"
   },
   {
    "duration": 224,
    "start_time": "2023-05-17T12:54:18.162Z"
   },
   {
    "duration": 154,
    "start_time": "2023-05-17T12:54:18.399Z"
   },
   {
    "duration": 421,
    "start_time": "2023-05-17T12:54:18.554Z"
   },
   {
    "duration": 464,
    "start_time": "2023-05-17T12:54:18.976Z"
   },
   {
    "duration": 120,
    "start_time": "2023-05-17T12:54:19.442Z"
   },
   {
    "duration": 39,
    "start_time": "2023-05-17T12:54:19.563Z"
   },
   {
    "duration": 115,
    "start_time": "2023-05-17T12:54:19.603Z"
   },
   {
    "duration": 127,
    "start_time": "2023-05-17T12:54:19.719Z"
   },
   {
    "duration": 17,
    "start_time": "2023-05-17T12:54:19.848Z"
   },
   {
    "duration": 16,
    "start_time": "2023-05-17T12:54:19.867Z"
   },
   {
    "duration": 48,
    "start_time": "2023-05-17T12:54:19.899Z"
   },
   {
    "duration": 23,
    "start_time": "2023-05-17T12:54:19.948Z"
   },
   {
    "duration": 76,
    "start_time": "2023-05-17T12:54:19.973Z"
   },
   {
    "duration": 163,
    "start_time": "2023-05-17T12:54:20.051Z"
   },
   {
    "duration": 129,
    "start_time": "2023-05-17T12:54:20.215Z"
   },
   {
    "duration": 96,
    "start_time": "2023-05-17T12:54:20.346Z"
   },
   {
    "duration": 4,
    "start_time": "2023-05-17T12:54:20.454Z"
   },
   {
    "duration": 268,
    "start_time": "2023-05-17T12:54:20.460Z"
   },
   {
    "duration": 1338,
    "start_time": "2023-05-17T12:55:03.811Z"
   },
   {
    "duration": 863,
    "start_time": "2023-05-17T12:55:05.151Z"
   },
   {
    "duration": 26,
    "start_time": "2023-05-17T12:55:06.015Z"
   },
   {
    "duration": 158,
    "start_time": "2023-05-17T12:55:06.043Z"
   },
   {
    "duration": 258,
    "start_time": "2023-05-17T12:55:06.203Z"
   },
   {
    "duration": 574,
    "start_time": "2023-05-17T12:55:06.465Z"
   },
   {
    "duration": 493,
    "start_time": "2023-05-17T12:55:07.041Z"
   },
   {
    "duration": 130,
    "start_time": "2023-05-17T12:55:07.535Z"
   },
   {
    "duration": 43,
    "start_time": "2023-05-17T12:55:07.667Z"
   },
   {
    "duration": 94,
    "start_time": "2023-05-17T12:55:07.711Z"
   },
   {
    "duration": 131,
    "start_time": "2023-05-17T12:55:07.806Z"
   },
   {
    "duration": 30,
    "start_time": "2023-05-17T12:55:07.938Z"
   },
   {
    "duration": 8,
    "start_time": "2023-05-17T12:55:07.970Z"
   },
   {
    "duration": 46,
    "start_time": "2023-05-17T12:55:07.980Z"
   },
   {
    "duration": 52,
    "start_time": "2023-05-17T12:55:08.031Z"
   },
   {
    "duration": 151,
    "start_time": "2023-05-17T12:55:08.102Z"
   },
   {
    "duration": 119,
    "start_time": "2023-05-17T12:55:08.254Z"
   },
   {
    "duration": 72,
    "start_time": "2023-05-17T12:55:08.374Z"
   },
   {
    "duration": 92,
    "start_time": "2023-05-17T12:55:08.448Z"
   },
   {
    "duration": 3,
    "start_time": "2023-05-17T12:55:08.549Z"
   },
   {
    "duration": 287,
    "start_time": "2023-05-17T12:55:08.555Z"
   },
   {
    "duration": 4,
    "start_time": "2023-05-17T13:07:25.366Z"
   },
   {
    "duration": 4,
    "start_time": "2023-05-17T13:07:50.079Z"
   },
   {
    "duration": 5,
    "start_time": "2023-05-17T13:07:53.107Z"
   },
   {
    "duration": 230,
    "start_time": "2023-05-17T13:08:27.821Z"
   },
   {
    "duration": 58,
    "start_time": "2023-05-17T13:08:32.422Z"
   },
   {
    "duration": 8,
    "start_time": "2023-05-17T13:08:43.226Z"
   },
   {
    "duration": 37,
    "start_time": "2023-05-17T13:08:44.227Z"
   },
   {
    "duration": 65,
    "start_time": "2023-05-17T13:08:47.649Z"
   },
   {
    "duration": 62,
    "start_time": "2023-05-17T13:09:18.011Z"
   },
   {
    "duration": 9,
    "start_time": "2023-05-17T13:10:15.119Z"
   },
   {
    "duration": 57,
    "start_time": "2023-05-17T13:10:15.603Z"
   },
   {
    "duration": 3,
    "start_time": "2023-05-17T13:10:16.959Z"
   },
   {
    "duration": 99,
    "start_time": "2023-05-17T13:10:17.915Z"
   },
   {
    "duration": 1005,
    "start_time": "2023-05-17T13:12:36.513Z"
   },
   {
    "duration": 719,
    "start_time": "2023-05-17T13:12:37.520Z"
   },
   {
    "duration": 17,
    "start_time": "2023-05-17T13:12:38.242Z"
   },
   {
    "duration": 141,
    "start_time": "2023-05-17T13:12:38.261Z"
   },
   {
    "duration": 97,
    "start_time": "2023-05-17T13:12:38.405Z"
   },
   {
    "duration": 398,
    "start_time": "2023-05-17T13:12:38.504Z"
   },
   {
    "duration": 443,
    "start_time": "2023-05-17T13:12:38.903Z"
   },
   {
    "duration": 109,
    "start_time": "2023-05-17T13:12:39.348Z"
   },
   {
    "duration": 22,
    "start_time": "2023-05-17T13:12:39.459Z"
   },
   {
    "duration": 79,
    "start_time": "2023-05-17T13:12:39.482Z"
   },
   {
    "duration": 113,
    "start_time": "2023-05-17T13:12:39.562Z"
   },
   {
    "duration": 12,
    "start_time": "2023-05-17T13:12:39.676Z"
   },
   {
    "duration": 5,
    "start_time": "2023-05-17T13:12:39.704Z"
   },
   {
    "duration": 9,
    "start_time": "2023-05-17T13:12:39.711Z"
   },
   {
    "duration": 53,
    "start_time": "2023-05-17T13:12:39.721Z"
   },
   {
    "duration": 132,
    "start_time": "2023-05-17T13:12:39.775Z"
   },
   {
    "duration": 106,
    "start_time": "2023-05-17T13:12:39.909Z"
   },
   {
    "duration": 15,
    "start_time": "2023-05-17T13:12:40.017Z"
   },
   {
    "duration": 264,
    "start_time": "2023-05-17T13:12:40.034Z"
   },
   {
    "duration": 51,
    "start_time": "2023-05-17T13:12:40.299Z"
   },
   {
    "duration": 5,
    "start_time": "2023-05-17T13:12:40.351Z"
   },
   {
    "duration": 30,
    "start_time": "2023-05-17T13:12:40.357Z"
   },
   {
    "duration": 2,
    "start_time": "2023-05-17T13:12:40.388Z"
   },
   {
    "duration": 151,
    "start_time": "2023-05-17T13:12:40.391Z"
   },
   {
    "duration": 18,
    "start_time": "2023-05-17T13:18:10.741Z"
   },
   {
    "duration": 1040,
    "start_time": "2023-05-17T16:11:28.602Z"
   },
   {
    "duration": 690,
    "start_time": "2023-05-17T16:11:29.644Z"
   },
   {
    "duration": 16,
    "start_time": "2023-05-17T16:11:30.335Z"
   },
   {
    "duration": 171,
    "start_time": "2023-05-17T16:11:30.353Z"
   },
   {
    "duration": 83,
    "start_time": "2023-05-17T16:11:30.526Z"
   },
   {
    "duration": 368,
    "start_time": "2023-05-17T16:11:30.611Z"
   },
   {
    "duration": 388,
    "start_time": "2023-05-17T16:11:30.981Z"
   },
   {
    "duration": 96,
    "start_time": "2023-05-17T16:11:31.370Z"
   },
   {
    "duration": 69,
    "start_time": "2023-05-17T16:11:31.468Z"
   },
   {
    "duration": 144,
    "start_time": "2023-05-17T16:11:31.539Z"
   },
   {
    "duration": 141,
    "start_time": "2023-05-17T16:11:31.684Z"
   },
   {
    "duration": 9,
    "start_time": "2023-05-17T16:11:31.826Z"
   },
   {
    "duration": 42,
    "start_time": "2023-05-17T16:11:31.837Z"
   },
   {
    "duration": 45,
    "start_time": "2023-05-17T16:11:31.882Z"
   },
   {
    "duration": 72,
    "start_time": "2023-05-17T16:11:31.929Z"
   },
   {
    "duration": 122,
    "start_time": "2023-05-17T16:11:32.003Z"
   },
   {
    "duration": 89,
    "start_time": "2023-05-17T16:11:32.127Z"
   },
   {
    "duration": 3,
    "start_time": "2023-05-17T16:11:32.218Z"
   },
   {
    "duration": 236,
    "start_time": "2023-05-17T16:11:32.222Z"
   },
   {
    "duration": 64,
    "start_time": "2023-05-17T16:11:32.459Z"
   },
   {
    "duration": 5,
    "start_time": "2023-05-17T16:11:32.525Z"
   },
   {
    "duration": 58,
    "start_time": "2023-05-17T16:11:32.531Z"
   },
   {
    "duration": 22,
    "start_time": "2023-05-17T16:11:32.592Z"
   },
   {
    "duration": 2,
    "start_time": "2023-05-17T16:11:32.615Z"
   },
   {
    "duration": 162,
    "start_time": "2023-05-17T16:11:32.619Z"
   },
   {
    "duration": 16,
    "start_time": "2023-05-17T16:15:07.847Z"
   },
   {
    "duration": 114,
    "start_time": "2023-05-17T16:15:16.658Z"
   },
   {
    "duration": 19,
    "start_time": "2023-05-17T16:15:39.366Z"
   },
   {
    "duration": 1070,
    "start_time": "2023-05-17T16:16:04.476Z"
   },
   {
    "duration": 729,
    "start_time": "2023-05-17T16:16:05.548Z"
   },
   {
    "duration": 20,
    "start_time": "2023-05-17T16:16:06.278Z"
   },
   {
    "duration": 112,
    "start_time": "2023-05-17T16:16:06.299Z"
   },
   {
    "duration": 94,
    "start_time": "2023-05-17T16:16:06.412Z"
   },
   {
    "duration": 364,
    "start_time": "2023-05-17T16:16:06.507Z"
   },
   {
    "duration": 421,
    "start_time": "2023-05-17T16:16:06.872Z"
   },
   {
    "duration": 97,
    "start_time": "2023-05-17T16:16:07.295Z"
   },
   {
    "duration": 17,
    "start_time": "2023-05-17T16:16:07.394Z"
   },
   {
    "duration": 57,
    "start_time": "2023-05-17T16:16:07.413Z"
   },
   {
    "duration": 91,
    "start_time": "2023-05-17T16:16:07.485Z"
   },
   {
    "duration": 8,
    "start_time": "2023-05-17T16:16:07.585Z"
   },
   {
    "duration": 3,
    "start_time": "2023-05-17T16:16:07.594Z"
   },
   {
    "duration": 10,
    "start_time": "2023-05-17T16:16:07.599Z"
   },
   {
    "duration": 54,
    "start_time": "2023-05-17T16:16:07.610Z"
   },
   {
    "duration": 145,
    "start_time": "2023-05-17T16:16:07.666Z"
   },
   {
    "duration": 88,
    "start_time": "2023-05-17T16:16:07.812Z"
   },
   {
    "duration": 3,
    "start_time": "2023-05-17T16:16:07.901Z"
   },
   {
    "duration": 15,
    "start_time": "2023-05-17T16:16:07.906Z"
   },
   {
    "duration": 89,
    "start_time": "2023-05-17T16:16:07.923Z"
   },
   {
    "duration": 19,
    "start_time": "2023-05-17T16:16:08.014Z"
   },
   {
    "duration": 18,
    "start_time": "2023-05-17T16:16:08.035Z"
   },
   {
    "duration": 139,
    "start_time": "2023-05-17T16:16:08.054Z"
   },
   {
    "duration": 44,
    "start_time": "2023-05-17T16:16:08.194Z"
   },
   {
    "duration": 68,
    "start_time": "2023-05-17T16:16:08.240Z"
   },
   {
    "duration": 2,
    "start_time": "2023-05-17T16:16:08.310Z"
   },
   {
    "duration": 180,
    "start_time": "2023-05-17T16:16:08.313Z"
   },
   {
    "duration": 1022,
    "start_time": "2023-05-17T16:16:51.006Z"
   },
   {
    "duration": 690,
    "start_time": "2023-05-17T16:16:52.030Z"
   },
   {
    "duration": 16,
    "start_time": "2023-05-17T16:16:52.722Z"
   },
   {
    "duration": 111,
    "start_time": "2023-05-17T16:16:52.739Z"
   },
   {
    "duration": 87,
    "start_time": "2023-05-17T16:16:52.852Z"
   },
   {
    "duration": 362,
    "start_time": "2023-05-17T16:16:52.941Z"
   },
   {
    "duration": 396,
    "start_time": "2023-05-17T16:16:53.304Z"
   },
   {
    "duration": 98,
    "start_time": "2023-05-17T16:16:53.701Z"
   },
   {
    "duration": 19,
    "start_time": "2023-05-17T16:16:53.800Z"
   },
   {
    "duration": 65,
    "start_time": "2023-05-17T16:16:53.820Z"
   },
   {
    "duration": 99,
    "start_time": "2023-05-17T16:16:53.886Z"
   },
   {
    "duration": 8,
    "start_time": "2023-05-17T16:16:53.986Z"
   },
   {
    "duration": 3,
    "start_time": "2023-05-17T16:16:53.995Z"
   },
   {
    "duration": 12,
    "start_time": "2023-05-17T16:16:54.000Z"
   },
   {
    "duration": 52,
    "start_time": "2023-05-17T16:16:54.014Z"
   },
   {
    "duration": 143,
    "start_time": "2023-05-17T16:16:54.067Z"
   },
   {
    "duration": 92,
    "start_time": "2023-05-17T16:16:54.212Z"
   },
   {
    "duration": 5,
    "start_time": "2023-05-17T16:16:54.306Z"
   },
   {
    "duration": 228,
    "start_time": "2023-05-17T16:16:54.312Z"
   },
   {
    "duration": 58,
    "start_time": "2023-05-17T16:16:54.541Z"
   },
   {
    "duration": 2,
    "start_time": "2023-05-17T16:16:54.601Z"
   },
   {
    "duration": 26,
    "start_time": "2023-05-17T16:16:54.605Z"
   },
   {
    "duration": 5,
    "start_time": "2023-05-17T16:16:54.632Z"
   },
   {
    "duration": 47,
    "start_time": "2023-05-17T16:16:54.639Z"
   },
   {
    "duration": 18,
    "start_time": "2023-05-17T16:16:54.688Z"
   },
   {
    "duration": 2,
    "start_time": "2023-05-17T16:16:54.708Z"
   },
   {
    "duration": 152,
    "start_time": "2023-05-17T16:16:54.712Z"
   },
   {
    "duration": 3,
    "start_time": "2023-05-17T16:20:49.485Z"
   },
   {
    "duration": 7,
    "start_time": "2023-05-17T16:20:58.528Z"
   },
   {
    "duration": 12,
    "start_time": "2023-05-17T16:21:07.363Z"
   },
   {
    "duration": 1063,
    "start_time": "2023-05-17T16:21:14.708Z"
   },
   {
    "duration": 809,
    "start_time": "2023-05-17T16:21:15.773Z"
   },
   {
    "duration": 21,
    "start_time": "2023-05-17T16:21:16.584Z"
   },
   {
    "duration": 131,
    "start_time": "2023-05-17T16:21:16.607Z"
   },
   {
    "duration": 88,
    "start_time": "2023-05-17T16:21:16.740Z"
   },
   {
    "duration": 414,
    "start_time": "2023-05-17T16:21:16.829Z"
   },
   {
    "duration": 447,
    "start_time": "2023-05-17T16:21:17.244Z"
   },
   {
    "duration": 128,
    "start_time": "2023-05-17T16:21:17.693Z"
   },
   {
    "duration": 19,
    "start_time": "2023-05-17T16:21:17.823Z"
   },
   {
    "duration": 77,
    "start_time": "2023-05-17T16:21:17.843Z"
   },
   {
    "duration": 107,
    "start_time": "2023-05-17T16:21:17.922Z"
   },
   {
    "duration": 9,
    "start_time": "2023-05-17T16:21:18.031Z"
   },
   {
    "duration": 8,
    "start_time": "2023-05-17T16:21:18.041Z"
   },
   {
    "duration": 15,
    "start_time": "2023-05-17T16:21:18.051Z"
   },
   {
    "duration": 79,
    "start_time": "2023-05-17T16:21:18.068Z"
   },
   {
    "duration": 140,
    "start_time": "2023-05-17T16:21:18.149Z"
   },
   {
    "duration": 97,
    "start_time": "2023-05-17T16:21:18.290Z"
   },
   {
    "duration": 21,
    "start_time": "2023-05-17T16:21:18.389Z"
   },
   {
    "duration": 226,
    "start_time": "2023-05-17T16:21:18.412Z"
   },
   {
    "duration": 90,
    "start_time": "2023-05-17T16:21:18.640Z"
   },
   {
    "duration": 7,
    "start_time": "2023-05-17T16:21:18.732Z"
   },
   {
    "duration": 133,
    "start_time": "2023-05-17T16:21:18.740Z"
   },
   {
    "duration": 0,
    "start_time": "2023-05-17T16:21:18.875Z"
   },
   {
    "duration": 0,
    "start_time": "2023-05-17T16:21:18.876Z"
   },
   {
    "duration": 0,
    "start_time": "2023-05-17T16:21:18.877Z"
   },
   {
    "duration": 0,
    "start_time": "2023-05-17T16:21:18.878Z"
   },
   {
    "duration": 0,
    "start_time": "2023-05-17T16:21:18.885Z"
   },
   {
    "duration": 30,
    "start_time": "2023-05-17T16:21:39.773Z"
   },
   {
    "duration": 4,
    "start_time": "2023-05-17T16:22:21.201Z"
   },
   {
    "duration": 6,
    "start_time": "2023-05-17T16:25:43.170Z"
   },
   {
    "duration": 7,
    "start_time": "2023-05-17T16:25:49.758Z"
   },
   {
    "duration": 8,
    "start_time": "2023-05-17T16:25:55.306Z"
   },
   {
    "duration": 8,
    "start_time": "2023-05-17T16:26:03.204Z"
   },
   {
    "duration": 1074,
    "start_time": "2023-05-17T16:29:03.172Z"
   },
   {
    "duration": 724,
    "start_time": "2023-05-17T16:29:04.248Z"
   },
   {
    "duration": 18,
    "start_time": "2023-05-17T16:29:04.974Z"
   },
   {
    "duration": 124,
    "start_time": "2023-05-17T16:29:04.994Z"
   },
   {
    "duration": 100,
    "start_time": "2023-05-17T16:29:05.119Z"
   },
   {
    "duration": 33,
    "start_time": "2023-05-17T16:29:05.221Z"
   },
   {
    "duration": 379,
    "start_time": "2023-05-17T16:29:05.256Z"
   },
   {
    "duration": 387,
    "start_time": "2023-05-17T16:29:05.636Z"
   },
   {
    "duration": 169,
    "start_time": "2023-05-17T16:29:06.025Z"
   },
   {
    "duration": 47,
    "start_time": "2023-05-17T16:29:06.197Z"
   },
   {
    "duration": 85,
    "start_time": "2023-05-17T16:29:06.246Z"
   },
   {
    "duration": 109,
    "start_time": "2023-05-17T16:29:06.332Z"
   },
   {
    "duration": 9,
    "start_time": "2023-05-17T16:29:06.442Z"
   },
   {
    "duration": 2,
    "start_time": "2023-05-17T16:29:06.453Z"
   },
   {
    "duration": 29,
    "start_time": "2023-05-17T16:29:06.457Z"
   },
   {
    "duration": 60,
    "start_time": "2023-05-17T16:29:06.488Z"
   },
   {
    "duration": 136,
    "start_time": "2023-05-17T16:29:06.549Z"
   },
   {
    "duration": 88,
    "start_time": "2023-05-17T16:29:06.687Z"
   },
   {
    "duration": 3,
    "start_time": "2023-05-17T16:29:06.785Z"
   },
   {
    "duration": 221,
    "start_time": "2023-05-17T16:29:06.789Z"
   },
   {
    "duration": 78,
    "start_time": "2023-05-17T16:29:07.012Z"
   },
   {
    "duration": 16,
    "start_time": "2023-05-17T16:29:07.092Z"
   },
   {
    "duration": 78,
    "start_time": "2023-05-17T16:29:07.109Z"
   },
   {
    "duration": 50,
    "start_time": "2023-05-17T16:29:07.189Z"
   },
   {
    "duration": 3,
    "start_time": "2023-05-17T16:29:07.240Z"
   },
   {
    "duration": 215,
    "start_time": "2023-05-17T16:29:07.244Z"
   },
   {
    "duration": 1126,
    "start_time": "2023-05-17T16:29:44.654Z"
   },
   {
    "duration": 764,
    "start_time": "2023-05-17T16:29:45.783Z"
   },
   {
    "duration": 17,
    "start_time": "2023-05-17T16:29:46.549Z"
   },
   {
    "duration": 117,
    "start_time": "2023-05-17T16:29:46.568Z"
   },
   {
    "duration": 112,
    "start_time": "2023-05-17T16:29:46.687Z"
   },
   {
    "duration": 24,
    "start_time": "2023-05-17T16:29:46.801Z"
   },
   {
    "duration": 180,
    "start_time": "2023-05-17T16:29:46.827Z"
   },
   {
    "duration": 254,
    "start_time": "2023-05-17T16:29:47.010Z"
   },
   {
    "duration": 56,
    "start_time": "2023-05-17T16:29:47.266Z"
   },
   {
    "duration": 16,
    "start_time": "2023-05-17T16:29:47.324Z"
   },
   {
    "duration": 64,
    "start_time": "2023-05-17T16:29:47.341Z"
   },
   {
    "duration": 79,
    "start_time": "2023-05-17T16:29:47.407Z"
   },
   {
    "duration": 6,
    "start_time": "2023-05-17T16:29:47.488Z"
   },
   {
    "duration": 3,
    "start_time": "2023-05-17T16:29:47.496Z"
   },
   {
    "duration": 9,
    "start_time": "2023-05-17T16:29:47.500Z"
   },
   {
    "duration": 20,
    "start_time": "2023-05-17T16:29:47.511Z"
   },
   {
    "duration": 107,
    "start_time": "2023-05-17T16:29:47.532Z"
   },
   {
    "duration": 58,
    "start_time": "2023-05-17T16:29:47.640Z"
   },
   {
    "duration": 3,
    "start_time": "2023-05-17T16:29:47.700Z"
   },
   {
    "duration": 129,
    "start_time": "2023-05-17T16:29:47.704Z"
   },
   {
    "duration": 27,
    "start_time": "2023-05-17T16:29:47.834Z"
   },
   {
    "duration": 4,
    "start_time": "2023-05-17T16:29:47.863Z"
   },
   {
    "duration": 38,
    "start_time": "2023-05-17T16:29:47.869Z"
   },
   {
    "duration": 20,
    "start_time": "2023-05-17T16:29:47.908Z"
   },
   {
    "duration": 2,
    "start_time": "2023-05-17T16:29:47.929Z"
   },
   {
    "duration": 164,
    "start_time": "2023-05-17T16:29:47.932Z"
   },
   {
    "duration": 1093,
    "start_time": "2023-05-17T16:30:23.667Z"
   },
   {
    "duration": 700,
    "start_time": "2023-05-17T16:30:24.762Z"
   },
   {
    "duration": 23,
    "start_time": "2023-05-17T16:30:25.463Z"
   },
   {
    "duration": 106,
    "start_time": "2023-05-17T16:30:25.487Z"
   },
   {
    "duration": 101,
    "start_time": "2023-05-17T16:30:25.595Z"
   },
   {
    "duration": 20,
    "start_time": "2023-05-17T16:30:25.698Z"
   },
   {
    "duration": 173,
    "start_time": "2023-05-17T16:30:25.720Z"
   },
   {
    "duration": 2,
    "start_time": "2023-05-17T16:30:25.895Z"
   },
   {
    "duration": 76,
    "start_time": "2023-05-17T16:30:25.898Z"
   },
   {
    "duration": 36,
    "start_time": "2023-05-17T16:30:25.986Z"
   },
   {
    "duration": 80,
    "start_time": "2023-05-17T16:30:26.024Z"
   },
   {
    "duration": 129,
    "start_time": "2023-05-17T16:30:26.106Z"
   },
   {
    "duration": 8,
    "start_time": "2023-05-17T16:30:26.236Z"
   },
   {
    "duration": 6,
    "start_time": "2023-05-17T16:30:26.247Z"
   },
   {
    "duration": 12,
    "start_time": "2023-05-17T16:30:26.254Z"
   },
   {
    "duration": 31,
    "start_time": "2023-05-17T16:30:26.284Z"
   },
   {
    "duration": 98,
    "start_time": "2023-05-17T16:30:26.317Z"
   },
   {
    "duration": 58,
    "start_time": "2023-05-17T16:30:26.417Z"
   },
   {
    "duration": 3,
    "start_time": "2023-05-17T16:30:26.485Z"
   },
   {
    "duration": 144,
    "start_time": "2023-05-17T16:30:26.489Z"
   },
   {
    "duration": 19,
    "start_time": "2023-05-17T16:30:26.635Z"
   },
   {
    "duration": 4,
    "start_time": "2023-05-17T16:30:26.656Z"
   },
   {
    "duration": 40,
    "start_time": "2023-05-17T16:30:26.662Z"
   },
   {
    "duration": 17,
    "start_time": "2023-05-17T16:30:26.704Z"
   },
   {
    "duration": 2,
    "start_time": "2023-05-17T16:30:26.723Z"
   },
   {
    "duration": 194,
    "start_time": "2023-05-17T16:30:26.726Z"
   },
   {
    "duration": 1110,
    "start_time": "2023-05-17T16:30:55.103Z"
   },
   {
    "duration": 686,
    "start_time": "2023-05-17T16:30:56.215Z"
   },
   {
    "duration": 17,
    "start_time": "2023-05-17T16:30:56.902Z"
   },
   {
    "duration": 116,
    "start_time": "2023-05-17T16:30:56.920Z"
   },
   {
    "duration": 110,
    "start_time": "2023-05-17T16:30:57.038Z"
   },
   {
    "duration": 348,
    "start_time": "2023-05-17T16:30:57.150Z"
   },
   {
    "duration": 375,
    "start_time": "2023-05-17T16:30:57.499Z"
   },
   {
    "duration": 100,
    "start_time": "2023-05-17T16:30:57.876Z"
   },
   {
    "duration": 32,
    "start_time": "2023-05-17T16:30:57.984Z"
   },
   {
    "duration": 82,
    "start_time": "2023-05-17T16:30:58.017Z"
   },
   {
    "duration": 102,
    "start_time": "2023-05-17T16:30:58.101Z"
   },
   {
    "duration": 8,
    "start_time": "2023-05-17T16:30:58.205Z"
   },
   {
    "duration": 3,
    "start_time": "2023-05-17T16:30:58.214Z"
   },
   {
    "duration": 18,
    "start_time": "2023-05-17T16:30:58.219Z"
   },
   {
    "duration": 66,
    "start_time": "2023-05-17T16:30:58.239Z"
   },
   {
    "duration": 137,
    "start_time": "2023-05-17T16:30:58.306Z"
   },
   {
    "duration": 90,
    "start_time": "2023-05-17T16:30:58.444Z"
   },
   {
    "duration": 3,
    "start_time": "2023-05-17T16:30:58.535Z"
   },
   {
    "duration": 230,
    "start_time": "2023-05-17T16:30:58.539Z"
   },
   {
    "duration": 53,
    "start_time": "2023-05-17T16:30:58.771Z"
   },
   {
    "duration": 18,
    "start_time": "2023-05-17T16:30:58.825Z"
   },
   {
    "duration": 87,
    "start_time": "2023-05-17T16:30:58.844Z"
   },
   {
    "duration": 61,
    "start_time": "2023-05-17T16:30:58.932Z"
   },
   {
    "duration": 2,
    "start_time": "2023-05-17T16:30:58.994Z"
   },
   {
    "duration": 218,
    "start_time": "2023-05-17T16:30:58.998Z"
   },
   {
    "duration": 1066,
    "start_time": "2023-05-17T16:31:19.588Z"
   },
   {
    "duration": 689,
    "start_time": "2023-05-17T16:31:20.655Z"
   },
   {
    "duration": 23,
    "start_time": "2023-05-17T16:31:21.346Z"
   },
   {
    "duration": 197,
    "start_time": "2023-05-17T16:31:21.371Z"
   },
   {
    "duration": 127,
    "start_time": "2023-05-17T16:31:21.572Z"
   },
   {
    "duration": 437,
    "start_time": "2023-05-17T16:31:21.700Z"
   },
   {
    "duration": 461,
    "start_time": "2023-05-17T16:31:22.138Z"
   },
   {
    "duration": 115,
    "start_time": "2023-05-17T16:31:22.601Z"
   },
   {
    "duration": 36,
    "start_time": "2023-05-17T16:31:22.717Z"
   },
   {
    "duration": 96,
    "start_time": "2023-05-17T16:31:22.755Z"
   },
   {
    "duration": 40,
    "start_time": "2023-05-17T16:31:22.853Z"
   },
   {
    "duration": 75,
    "start_time": "2023-05-17T16:31:22.895Z"
   },
   {
    "duration": 16,
    "start_time": "2023-05-17T16:31:22.971Z"
   },
   {
    "duration": 3,
    "start_time": "2023-05-17T16:31:22.990Z"
   },
   {
    "duration": 36,
    "start_time": "2023-05-17T16:31:22.995Z"
   },
   {
    "duration": 37,
    "start_time": "2023-05-17T16:31:23.033Z"
   },
   {
    "duration": 98,
    "start_time": "2023-05-17T16:31:23.072Z"
   },
   {
    "duration": 67,
    "start_time": "2023-05-17T16:31:23.171Z"
   },
   {
    "duration": 4,
    "start_time": "2023-05-17T16:31:23.239Z"
   },
   {
    "duration": 168,
    "start_time": "2023-05-17T16:31:23.244Z"
   },
   {
    "duration": 24,
    "start_time": "2023-05-17T16:31:23.413Z"
   },
   {
    "duration": 15,
    "start_time": "2023-05-17T16:31:23.438Z"
   },
   {
    "duration": 70,
    "start_time": "2023-05-17T16:31:23.455Z"
   },
   {
    "duration": 21,
    "start_time": "2023-05-17T16:31:23.527Z"
   },
   {
    "duration": 2,
    "start_time": "2023-05-17T16:31:23.550Z"
   },
   {
    "duration": 214,
    "start_time": "2023-05-17T16:31:23.554Z"
   },
   {
    "duration": 1067,
    "start_time": "2023-05-17T16:32:23.274Z"
   },
   {
    "duration": 693,
    "start_time": "2023-05-17T16:32:24.343Z"
   },
   {
    "duration": 20,
    "start_time": "2023-05-17T16:32:25.037Z"
   },
   {
    "duration": 158,
    "start_time": "2023-05-17T16:32:25.060Z"
   },
   {
    "duration": 99,
    "start_time": "2023-05-17T16:32:25.220Z"
   },
   {
    "duration": 424,
    "start_time": "2023-05-17T16:32:25.321Z"
   },
   {
    "duration": 445,
    "start_time": "2023-05-17T16:32:25.746Z"
   },
   {
    "duration": 133,
    "start_time": "2023-05-17T16:32:26.193Z"
   },
   {
    "duration": 66,
    "start_time": "2023-05-17T16:32:26.328Z"
   },
   {
    "duration": 115,
    "start_time": "2023-05-17T16:32:26.398Z"
   },
   {
    "duration": 44,
    "start_time": "2023-05-17T16:32:26.515Z"
   },
   {
    "duration": 86,
    "start_time": "2023-05-17T16:32:26.561Z"
   },
   {
    "duration": 10,
    "start_time": "2023-05-17T16:32:26.649Z"
   },
   {
    "duration": 6,
    "start_time": "2023-05-17T16:32:26.660Z"
   },
   {
    "duration": 25,
    "start_time": "2023-05-17T16:32:26.667Z"
   },
   {
    "duration": 30,
    "start_time": "2023-05-17T16:32:26.694Z"
   },
   {
    "duration": 118,
    "start_time": "2023-05-17T16:32:26.726Z"
   },
   {
    "duration": 67,
    "start_time": "2023-05-17T16:32:26.846Z"
   },
   {
    "duration": 7,
    "start_time": "2023-05-17T16:32:26.914Z"
   },
   {
    "duration": 178,
    "start_time": "2023-05-17T16:32:26.923Z"
   },
   {
    "duration": 20,
    "start_time": "2023-05-17T16:32:27.103Z"
   },
   {
    "duration": 7,
    "start_time": "2023-05-17T16:32:27.125Z"
   },
   {
    "duration": 70,
    "start_time": "2023-05-17T16:32:27.133Z"
   },
   {
    "duration": 20,
    "start_time": "2023-05-17T16:32:27.205Z"
   },
   {
    "duration": 3,
    "start_time": "2023-05-17T16:32:27.226Z"
   },
   {
    "duration": 166,
    "start_time": "2023-05-17T16:32:27.230Z"
   },
   {
    "duration": 1151,
    "start_time": "2023-05-25T13:08:09.618Z"
   },
   {
    "duration": 3010,
    "start_time": "2023-05-25T13:08:10.771Z"
   },
   {
    "duration": 18,
    "start_time": "2023-05-25T13:08:13.782Z"
   },
   {
    "duration": 108,
    "start_time": "2023-05-25T13:08:13.801Z"
   },
   {
    "duration": 107,
    "start_time": "2023-05-25T13:08:13.911Z"
   },
   {
    "duration": 478,
    "start_time": "2023-05-25T13:08:14.020Z"
   },
   {
    "duration": 455,
    "start_time": "2023-05-25T13:08:14.499Z"
   },
   {
    "duration": 106,
    "start_time": "2023-05-25T13:08:14.956Z"
   },
   {
    "duration": 39,
    "start_time": "2023-05-25T13:08:15.064Z"
   },
   {
    "duration": 67,
    "start_time": "2023-05-25T13:08:15.106Z"
   },
   {
    "duration": 35,
    "start_time": "2023-05-25T13:08:15.175Z"
   },
   {
    "duration": 72,
    "start_time": "2023-05-25T13:08:15.212Z"
   },
   {
    "duration": 9,
    "start_time": "2023-05-25T13:08:15.286Z"
   },
   {
    "duration": 7,
    "start_time": "2023-05-25T13:08:15.296Z"
   },
   {
    "duration": 24,
    "start_time": "2023-05-25T13:08:15.304Z"
   },
   {
    "duration": 28,
    "start_time": "2023-05-25T13:08:15.329Z"
   },
   {
    "duration": 104,
    "start_time": "2023-05-25T13:08:15.359Z"
   },
   {
    "duration": 81,
    "start_time": "2023-05-25T13:08:15.465Z"
   },
   {
    "duration": 4,
    "start_time": "2023-05-25T13:08:15.548Z"
   },
   {
    "duration": 170,
    "start_time": "2023-05-25T13:08:15.554Z"
   },
   {
    "duration": 30,
    "start_time": "2023-05-25T13:08:15.726Z"
   },
   {
    "duration": 3,
    "start_time": "2023-05-25T13:08:15.757Z"
   },
   {
    "duration": 24,
    "start_time": "2023-05-25T13:08:15.761Z"
   },
   {
    "duration": 77,
    "start_time": "2023-05-25T13:08:15.787Z"
   },
   {
    "duration": 12,
    "start_time": "2023-05-25T13:08:15.866Z"
   },
   {
    "duration": 186,
    "start_time": "2023-05-25T13:08:15.881Z"
   },
   {
    "duration": 4,
    "start_time": "2023-05-25T13:11:50.423Z"
   },
   {
    "duration": 10,
    "start_time": "2023-05-25T13:12:25.508Z"
   },
   {
    "duration": 814,
    "start_time": "2023-05-25T13:12:34.760Z"
   },
   {
    "duration": 6,
    "start_time": "2023-05-25T13:13:12.120Z"
   },
   {
    "duration": 42,
    "start_time": "2023-05-25T13:13:12.723Z"
   },
   {
    "duration": 84,
    "start_time": "2023-05-25T13:13:15.774Z"
   },
   {
    "duration": 1176,
    "start_time": "2023-05-25T13:13:26.943Z"
   },
   {
    "duration": 773,
    "start_time": "2023-05-25T13:13:28.121Z"
   },
   {
    "duration": 19,
    "start_time": "2023-05-25T13:13:28.896Z"
   },
   {
    "duration": 116,
    "start_time": "2023-05-25T13:13:28.917Z"
   },
   {
    "duration": 102,
    "start_time": "2023-05-25T13:13:29.035Z"
   },
   {
    "duration": 442,
    "start_time": "2023-05-25T13:13:29.139Z"
   },
   {
    "duration": 474,
    "start_time": "2023-05-25T13:13:29.583Z"
   },
   {
    "duration": 127,
    "start_time": "2023-05-25T13:13:30.060Z"
   },
   {
    "duration": 21,
    "start_time": "2023-05-25T13:13:30.189Z"
   },
   {
    "duration": 118,
    "start_time": "2023-05-25T13:13:30.213Z"
   },
   {
    "duration": 34,
    "start_time": "2023-05-25T13:13:30.332Z"
   },
   {
    "duration": 78,
    "start_time": "2023-05-25T13:13:30.378Z"
   },
   {
    "duration": 20,
    "start_time": "2023-05-25T13:13:30.457Z"
   },
   {
    "duration": 13,
    "start_time": "2023-05-25T13:13:30.479Z"
   },
   {
    "duration": 35,
    "start_time": "2023-05-25T13:13:30.495Z"
   },
   {
    "duration": 90,
    "start_time": "2023-05-25T13:13:30.533Z"
   },
   {
    "duration": 99,
    "start_time": "2023-05-25T13:13:30.625Z"
   },
   {
    "duration": 78,
    "start_time": "2023-05-25T13:13:30.726Z"
   },
   {
    "duration": 14,
    "start_time": "2023-05-25T13:13:30.806Z"
   },
   {
    "duration": 164,
    "start_time": "2023-05-25T13:13:30.822Z"
   },
   {
    "duration": 23,
    "start_time": "2023-05-25T13:13:30.988Z"
   },
   {
    "duration": 17,
    "start_time": "2023-05-25T13:13:31.012Z"
   },
   {
    "duration": 925,
    "start_time": "2023-05-25T13:13:31.030Z"
   },
   {
    "duration": 3,
    "start_time": "2023-05-25T13:13:31.957Z"
   },
   {
    "duration": 45,
    "start_time": "2023-05-25T13:13:31.962Z"
   },
   {
    "duration": 69,
    "start_time": "2023-05-25T13:13:32.010Z"
   },
   {
    "duration": 2,
    "start_time": "2023-05-25T13:13:32.081Z"
   },
   {
    "duration": 202,
    "start_time": "2023-05-25T13:13:32.087Z"
   },
   {
    "duration": 3,
    "start_time": "2023-05-25T13:21:10.232Z"
   },
   {
    "duration": 34,
    "start_time": "2023-05-25T13:21:17.028Z"
   },
   {
    "duration": 11,
    "start_time": "2023-05-25T13:21:42.497Z"
   },
   {
    "duration": 919,
    "start_time": "2023-05-25T13:21:49.111Z"
   },
   {
    "duration": 56,
    "start_time": "2023-05-25T13:21:50.033Z"
   },
   {
    "duration": 3,
    "start_time": "2023-05-25T13:25:38.232Z"
   },
   {
    "duration": 4,
    "start_time": "2023-05-25T13:26:01.247Z"
   },
   {
    "duration": 130,
    "start_time": "2023-05-25T13:26:26.004Z"
   },
   {
    "duration": 1125,
    "start_time": "2023-05-25T13:29:24.420Z"
   },
   {
    "duration": 877,
    "start_time": "2023-05-25T13:29:25.547Z"
   },
   {
    "duration": 21,
    "start_time": "2023-05-25T13:29:26.426Z"
   },
   {
    "duration": 131,
    "start_time": "2023-05-25T13:29:26.449Z"
   },
   {
    "duration": 115,
    "start_time": "2023-05-25T13:29:26.582Z"
   },
   {
    "duration": 499,
    "start_time": "2023-05-25T13:29:26.699Z"
   },
   {
    "duration": 585,
    "start_time": "2023-05-25T13:29:27.201Z"
   },
   {
    "duration": 123,
    "start_time": "2023-05-25T13:29:27.790Z"
   },
   {
    "duration": 20,
    "start_time": "2023-05-25T13:29:27.914Z"
   },
   {
    "duration": 84,
    "start_time": "2023-05-25T13:29:27.935Z"
   },
   {
    "duration": 36,
    "start_time": "2023-05-25T13:29:28.021Z"
   },
   {
    "duration": 75,
    "start_time": "2023-05-25T13:29:28.059Z"
   },
   {
    "duration": 20,
    "start_time": "2023-05-25T13:29:28.136Z"
   },
   {
    "duration": 4,
    "start_time": "2023-05-25T13:29:28.159Z"
   },
   {
    "duration": 19,
    "start_time": "2023-05-25T13:29:28.164Z"
   },
   {
    "duration": 29,
    "start_time": "2023-05-25T13:29:28.185Z"
   },
   {
    "duration": 130,
    "start_time": "2023-05-25T13:29:28.215Z"
   },
   {
    "duration": 61,
    "start_time": "2023-05-25T13:29:28.347Z"
   },
   {
    "duration": 5,
    "start_time": "2023-05-25T13:29:28.410Z"
   },
   {
    "duration": 161,
    "start_time": "2023-05-25T13:29:28.417Z"
   },
   {
    "duration": 25,
    "start_time": "2023-05-25T13:29:28.580Z"
   },
   {
    "duration": 5,
    "start_time": "2023-05-25T13:29:28.607Z"
   },
   {
    "duration": 6,
    "start_time": "2023-05-25T13:29:28.613Z"
   },
   {
    "duration": 227,
    "start_time": "2023-05-25T13:29:28.620Z"
   },
   {
    "duration": 0,
    "start_time": "2023-05-25T13:29:28.849Z"
   },
   {
    "duration": 0,
    "start_time": "2023-05-25T13:29:28.850Z"
   },
   {
    "duration": 0,
    "start_time": "2023-05-25T13:29:28.851Z"
   },
   {
    "duration": 0,
    "start_time": "2023-05-25T13:29:28.853Z"
   },
   {
    "duration": 1325,
    "start_time": "2023-05-25T13:31:22.955Z"
   },
   {
    "duration": 930,
    "start_time": "2023-05-25T13:31:24.283Z"
   },
   {
    "duration": 25,
    "start_time": "2023-05-25T13:31:25.215Z"
   },
   {
    "duration": 148,
    "start_time": "2023-05-25T13:31:25.242Z"
   },
   {
    "duration": 134,
    "start_time": "2023-05-25T13:31:25.393Z"
   },
   {
    "duration": 524,
    "start_time": "2023-05-25T13:31:25.528Z"
   },
   {
    "duration": 629,
    "start_time": "2023-05-25T13:31:26.054Z"
   },
   {
    "duration": 112,
    "start_time": "2023-05-25T13:31:26.684Z"
   },
   {
    "duration": 31,
    "start_time": "2023-05-25T13:31:26.798Z"
   },
   {
    "duration": 81,
    "start_time": "2023-05-25T13:31:26.831Z"
   },
   {
    "duration": 36,
    "start_time": "2023-05-25T13:31:26.914Z"
   },
   {
    "duration": 82,
    "start_time": "2023-05-25T13:31:26.952Z"
   },
   {
    "duration": 12,
    "start_time": "2023-05-25T13:31:27.036Z"
   },
   {
    "duration": 19,
    "start_time": "2023-05-25T13:31:27.051Z"
   },
   {
    "duration": 35,
    "start_time": "2023-05-25T13:31:27.072Z"
   },
   {
    "duration": 66,
    "start_time": "2023-05-25T13:31:27.108Z"
   },
   {
    "duration": 124,
    "start_time": "2023-05-25T13:31:27.177Z"
   },
   {
    "duration": 88,
    "start_time": "2023-05-25T13:31:27.303Z"
   },
   {
    "duration": 5,
    "start_time": "2023-05-25T13:31:27.393Z"
   },
   {
    "duration": 185,
    "start_time": "2023-05-25T13:31:27.399Z"
   },
   {
    "duration": 26,
    "start_time": "2023-05-25T13:31:27.586Z"
   },
   {
    "duration": 5,
    "start_time": "2023-05-25T13:31:27.614Z"
   },
   {
    "duration": 13,
    "start_time": "2023-05-25T13:31:27.621Z"
   },
   {
    "duration": 243,
    "start_time": "2023-05-25T13:31:27.636Z"
   },
   {
    "duration": 0,
    "start_time": "2023-05-25T13:31:27.880Z"
   },
   {
    "duration": 0,
    "start_time": "2023-05-25T13:31:27.881Z"
   },
   {
    "duration": 0,
    "start_time": "2023-05-25T13:31:27.882Z"
   },
   {
    "duration": 0,
    "start_time": "2023-05-25T13:31:27.884Z"
   },
   {
    "duration": 807,
    "start_time": "2023-05-25T13:32:39.498Z"
   },
   {
    "duration": 7,
    "start_time": "2023-05-25T13:32:52.335Z"
   },
   {
    "duration": 33,
    "start_time": "2023-05-25T13:33:00.802Z"
   },
   {
    "duration": 25,
    "start_time": "2023-05-25T13:33:21.190Z"
   },
   {
    "duration": 23,
    "start_time": "2023-05-25T13:33:37.246Z"
   },
   {
    "duration": 18,
    "start_time": "2023-05-25T13:34:40.820Z"
   },
   {
    "duration": 13,
    "start_time": "2023-05-25T13:34:53.042Z"
   },
   {
    "duration": 19,
    "start_time": "2023-05-25T13:35:01.964Z"
   },
   {
    "duration": 6,
    "start_time": "2023-05-25T13:35:22.158Z"
   },
   {
    "duration": 5,
    "start_time": "2023-05-25T13:35:28.294Z"
   },
   {
    "duration": 6,
    "start_time": "2023-05-25T13:36:05.197Z"
   },
   {
    "duration": 1081,
    "start_time": "2023-05-25T13:36:10.624Z"
   },
   {
    "duration": 852,
    "start_time": "2023-05-25T13:36:11.707Z"
   },
   {
    "duration": 25,
    "start_time": "2023-05-25T13:36:12.560Z"
   },
   {
    "duration": 122,
    "start_time": "2023-05-25T13:36:12.587Z"
   },
   {
    "duration": 115,
    "start_time": "2023-05-25T13:36:12.711Z"
   },
   {
    "duration": 481,
    "start_time": "2023-05-25T13:36:12.828Z"
   },
   {
    "duration": 529,
    "start_time": "2023-05-25T13:36:13.310Z"
   },
   {
    "duration": 108,
    "start_time": "2023-05-25T13:36:13.840Z"
   },
   {
    "duration": 31,
    "start_time": "2023-05-25T13:36:13.950Z"
   },
   {
    "duration": 64,
    "start_time": "2023-05-25T13:36:13.984Z"
   },
   {
    "duration": 58,
    "start_time": "2023-05-25T13:36:14.050Z"
   },
   {
    "duration": 89,
    "start_time": "2023-05-25T13:36:14.110Z"
   },
   {
    "duration": 10,
    "start_time": "2023-05-25T13:36:14.200Z"
   },
   {
    "duration": 5,
    "start_time": "2023-05-25T13:36:14.212Z"
   },
   {
    "duration": 14,
    "start_time": "2023-05-25T13:36:14.218Z"
   },
   {
    "duration": 54,
    "start_time": "2023-05-25T13:36:14.234Z"
   },
   {
    "duration": 113,
    "start_time": "2023-05-25T13:36:14.289Z"
   },
   {
    "duration": 6,
    "start_time": "2023-05-25T13:36:14.404Z"
   },
   {
    "duration": 77,
    "start_time": "2023-05-25T13:36:14.412Z"
   },
   {
    "duration": 3,
    "start_time": "2023-05-25T13:36:14.491Z"
   },
   {
    "duration": 141,
    "start_time": "2023-05-25T13:36:14.495Z"
   },
   {
    "duration": 22,
    "start_time": "2023-05-25T13:36:14.638Z"
   },
   {
    "duration": 18,
    "start_time": "2023-05-25T13:36:14.661Z"
   },
   {
    "duration": 6,
    "start_time": "2023-05-25T13:36:14.681Z"
   },
   {
    "duration": 763,
    "start_time": "2023-05-25T13:36:14.689Z"
   },
   {
    "duration": 26,
    "start_time": "2023-05-25T13:36:15.454Z"
   },
   {
    "duration": 14,
    "start_time": "2023-05-25T13:36:15.482Z"
   },
   {
    "duration": 5,
    "start_time": "2023-05-25T13:36:15.499Z"
   },
   {
    "duration": 49,
    "start_time": "2023-05-25T13:36:15.506Z"
   },
   {
    "duration": 86,
    "start_time": "2023-05-25T13:36:15.558Z"
   },
   {
    "duration": 2,
    "start_time": "2023-05-25T13:36:15.646Z"
   },
   {
    "duration": 123,
    "start_time": "2023-05-25T13:36:44.259Z"
   },
   {
    "duration": 99,
    "start_time": "2023-05-25T13:37:30.519Z"
   },
   {
    "duration": 4,
    "start_time": "2023-05-25T13:37:47.453Z"
   },
   {
    "duration": 58,
    "start_time": "2023-05-25T13:41:51.154Z"
   },
   {
    "duration": 146,
    "start_time": "2023-05-25T13:42:34.838Z"
   },
   {
    "duration": 4,
    "start_time": "2023-05-25T13:42:59.920Z"
   },
   {
    "duration": 94,
    "start_time": "2023-05-25T13:43:03.697Z"
   },
   {
    "duration": 163,
    "start_time": "2023-05-25T13:43:11.414Z"
   },
   {
    "duration": 14,
    "start_time": "2023-05-25T13:44:02.939Z"
   },
   {
    "duration": 1226,
    "start_time": "2023-05-25T13:45:24.641Z"
   },
   {
    "duration": 909,
    "start_time": "2023-05-25T13:45:25.869Z"
   },
   {
    "duration": 23,
    "start_time": "2023-05-25T13:45:26.780Z"
   },
   {
    "duration": 137,
    "start_time": "2023-05-25T13:45:26.804Z"
   },
   {
    "duration": 141,
    "start_time": "2023-05-25T13:45:26.945Z"
   },
   {
    "duration": 531,
    "start_time": "2023-05-25T13:45:27.089Z"
   },
   {
    "duration": 583,
    "start_time": "2023-05-25T13:45:27.622Z"
   },
   {
    "duration": 108,
    "start_time": "2023-05-25T13:45:28.206Z"
   },
   {
    "duration": 20,
    "start_time": "2023-05-25T13:45:28.316Z"
   },
   {
    "duration": 87,
    "start_time": "2023-05-25T13:45:28.338Z"
   },
   {
    "duration": 32,
    "start_time": "2023-05-25T13:45:28.427Z"
   },
   {
    "duration": 78,
    "start_time": "2023-05-25T13:45:28.461Z"
   },
   {
    "duration": 10,
    "start_time": "2023-05-25T13:45:28.541Z"
   },
   {
    "duration": 3,
    "start_time": "2023-05-25T13:45:28.554Z"
   },
   {
    "duration": 10,
    "start_time": "2023-05-25T13:45:28.579Z"
   },
   {
    "duration": 31,
    "start_time": "2023-05-25T13:45:28.591Z"
   },
   {
    "duration": 118,
    "start_time": "2023-05-25T13:45:28.623Z"
   },
   {
    "duration": 64,
    "start_time": "2023-05-25T13:45:28.743Z"
   },
   {
    "duration": 4,
    "start_time": "2023-05-25T13:45:28.809Z"
   },
   {
    "duration": 159,
    "start_time": "2023-05-25T13:45:28.815Z"
   },
   {
    "duration": 30,
    "start_time": "2023-05-25T13:45:28.977Z"
   },
   {
    "duration": 4,
    "start_time": "2023-05-25T13:45:29.009Z"
   },
   {
    "duration": 12,
    "start_time": "2023-05-25T13:45:29.015Z"
   },
   {
    "duration": 782,
    "start_time": "2023-05-25T13:45:29.028Z"
   },
   {
    "duration": 14,
    "start_time": "2023-05-25T13:45:29.812Z"
   },
   {
    "duration": 16,
    "start_time": "2023-05-25T13:45:29.828Z"
   },
   {
    "duration": 62,
    "start_time": "2023-05-25T13:45:29.846Z"
   },
   {
    "duration": 75,
    "start_time": "2023-05-25T13:45:29.910Z"
   },
   {
    "duration": 192,
    "start_time": "2023-05-25T13:45:29.987Z"
   },
   {
    "duration": 1238,
    "start_time": "2023-05-25T13:45:57.216Z"
   },
   {
    "duration": 880,
    "start_time": "2023-05-25T13:45:58.456Z"
   },
   {
    "duration": 21,
    "start_time": "2023-05-25T13:45:59.339Z"
   },
   {
    "duration": 173,
    "start_time": "2023-05-25T13:45:59.362Z"
   },
   {
    "duration": 127,
    "start_time": "2023-05-25T13:45:59.537Z"
   },
   {
    "duration": 544,
    "start_time": "2023-05-25T13:45:59.665Z"
   },
   {
    "duration": 578,
    "start_time": "2023-05-25T13:46:00.211Z"
   },
   {
    "duration": 115,
    "start_time": "2023-05-25T13:46:00.791Z"
   },
   {
    "duration": 24,
    "start_time": "2023-05-25T13:46:00.908Z"
   },
   {
    "duration": 75,
    "start_time": "2023-05-25T13:46:00.935Z"
   },
   {
    "duration": 37,
    "start_time": "2023-05-25T13:46:01.011Z"
   },
   {
    "duration": 97,
    "start_time": "2023-05-25T13:46:01.050Z"
   },
   {
    "duration": 22,
    "start_time": "2023-05-25T13:46:01.150Z"
   },
   {
    "duration": 6,
    "start_time": "2023-05-25T13:46:01.174Z"
   },
   {
    "duration": 39,
    "start_time": "2023-05-25T13:46:01.182Z"
   },
   {
    "duration": 44,
    "start_time": "2023-05-25T13:46:01.223Z"
   },
   {
    "duration": 123,
    "start_time": "2023-05-25T13:46:01.269Z"
   },
   {
    "duration": 66,
    "start_time": "2023-05-25T13:46:01.395Z"
   },
   {
    "duration": 47,
    "start_time": "2023-05-25T13:46:01.463Z"
   },
   {
    "duration": 204,
    "start_time": "2023-05-25T13:46:01.513Z"
   },
   {
    "duration": 20,
    "start_time": "2023-05-25T13:46:01.719Z"
   },
   {
    "duration": 17,
    "start_time": "2023-05-25T13:46:01.741Z"
   },
   {
    "duration": 797,
    "start_time": "2023-05-25T13:46:01.760Z"
   },
   {
    "duration": 25,
    "start_time": "2023-05-25T13:46:02.559Z"
   },
   {
    "duration": 30,
    "start_time": "2023-05-25T13:46:02.586Z"
   },
   {
    "duration": 45,
    "start_time": "2023-05-25T13:46:02.618Z"
   },
   {
    "duration": 82,
    "start_time": "2023-05-25T13:46:02.665Z"
   },
   {
    "duration": 131,
    "start_time": "2023-05-25T13:46:02.751Z"
   },
   {
    "duration": 97,
    "start_time": "2023-05-25T13:49:10.436Z"
   },
   {
    "duration": 195,
    "start_time": "2023-05-25T13:50:10.987Z"
   },
   {
    "duration": 28,
    "start_time": "2023-05-25T13:50:17.914Z"
   },
   {
    "duration": 221,
    "start_time": "2023-05-25T13:51:27.936Z"
   },
   {
    "duration": 1381,
    "start_time": "2023-05-25T13:51:35.156Z"
   },
   {
    "duration": 850,
    "start_time": "2023-05-25T13:51:36.539Z"
   },
   {
    "duration": 22,
    "start_time": "2023-05-25T13:51:37.391Z"
   },
   {
    "duration": 292,
    "start_time": "2023-05-25T13:51:37.416Z"
   },
   {
    "duration": 117,
    "start_time": "2023-05-25T13:51:37.710Z"
   },
   {
    "duration": 467,
    "start_time": "2023-05-25T13:51:37.829Z"
   },
   {
    "duration": 539,
    "start_time": "2023-05-25T13:51:38.298Z"
   },
   {
    "duration": 154,
    "start_time": "2023-05-25T13:51:38.839Z"
   },
   {
    "duration": 34,
    "start_time": "2023-05-25T13:51:38.995Z"
   },
   {
    "duration": 78,
    "start_time": "2023-05-25T13:51:39.032Z"
   },
   {
    "duration": 190,
    "start_time": "2023-05-25T13:51:39.112Z"
   },
   {
    "duration": 119,
    "start_time": "2023-05-25T13:51:39.304Z"
   },
   {
    "duration": 33,
    "start_time": "2023-05-25T13:51:39.424Z"
   },
   {
    "duration": 28,
    "start_time": "2023-05-25T13:51:39.459Z"
   },
   {
    "duration": 19,
    "start_time": "2023-05-25T13:51:39.489Z"
   },
   {
    "duration": 60,
    "start_time": "2023-05-25T13:51:39.510Z"
   },
   {
    "duration": 112,
    "start_time": "2023-05-25T13:51:39.572Z"
   },
   {
    "duration": 59,
    "start_time": "2023-05-25T13:51:39.686Z"
   },
   {
    "duration": 26,
    "start_time": "2023-05-25T13:51:39.747Z"
   },
   {
    "duration": 153,
    "start_time": "2023-05-25T13:51:39.775Z"
   },
   {
    "duration": 22,
    "start_time": "2023-05-25T13:51:39.930Z"
   },
   {
    "duration": 8,
    "start_time": "2023-05-25T13:51:39.954Z"
   },
   {
    "duration": 759,
    "start_time": "2023-05-25T13:51:39.964Z"
   },
   {
    "duration": 13,
    "start_time": "2023-05-25T13:51:40.725Z"
   },
   {
    "duration": 33,
    "start_time": "2023-05-25T13:51:40.740Z"
   },
   {
    "duration": 296,
    "start_time": "2023-05-25T13:51:40.779Z"
   },
   {
    "duration": 15,
    "start_time": "2023-05-25T13:51:41.077Z"
   },
   {
    "duration": 77,
    "start_time": "2023-05-25T13:51:41.096Z"
   },
   {
    "duration": 203,
    "start_time": "2023-05-25T13:51:41.179Z"
   },
   {
    "duration": 1284,
    "start_time": "2023-05-25T13:52:50.484Z"
   },
   {
    "duration": 839,
    "start_time": "2023-05-25T13:52:51.771Z"
   },
   {
    "duration": 23,
    "start_time": "2023-05-25T13:52:52.613Z"
   },
   {
    "duration": 187,
    "start_time": "2023-05-25T13:52:52.639Z"
   },
   {
    "duration": 145,
    "start_time": "2023-05-25T13:52:52.828Z"
   },
   {
    "duration": 581,
    "start_time": "2023-05-25T13:52:52.979Z"
   },
   {
    "duration": 497,
    "start_time": "2023-05-25T13:52:53.562Z"
   },
   {
    "duration": 106,
    "start_time": "2023-05-25T13:52:54.061Z"
   },
   {
    "duration": 40,
    "start_time": "2023-05-25T13:52:54.168Z"
   },
   {
    "duration": 93,
    "start_time": "2023-05-25T13:52:54.211Z"
   },
   {
    "duration": 34,
    "start_time": "2023-05-25T13:52:54.307Z"
   },
   {
    "duration": 103,
    "start_time": "2023-05-25T13:52:54.343Z"
   },
   {
    "duration": 10,
    "start_time": "2023-05-25T13:52:54.448Z"
   },
   {
    "duration": 19,
    "start_time": "2023-05-25T13:52:54.459Z"
   },
   {
    "duration": 14,
    "start_time": "2023-05-25T13:52:54.480Z"
   },
   {
    "duration": 43,
    "start_time": "2023-05-25T13:52:54.496Z"
   },
   {
    "duration": 122,
    "start_time": "2023-05-25T13:52:54.541Z"
   },
   {
    "duration": 68,
    "start_time": "2023-05-25T13:52:54.665Z"
   },
   {
    "duration": 15,
    "start_time": "2023-05-25T13:52:54.735Z"
   },
   {
    "duration": 163,
    "start_time": "2023-05-25T13:52:54.752Z"
   },
   {
    "duration": 20,
    "start_time": "2023-05-25T13:52:54.916Z"
   },
   {
    "duration": 5,
    "start_time": "2023-05-25T13:52:54.938Z"
   },
   {
    "duration": 843,
    "start_time": "2023-05-25T13:52:54.945Z"
   },
   {
    "duration": 13,
    "start_time": "2023-05-25T13:52:55.799Z"
   },
   {
    "duration": 29,
    "start_time": "2023-05-25T13:52:55.816Z"
   },
   {
    "duration": 39,
    "start_time": "2023-05-25T13:52:55.848Z"
   },
   {
    "duration": 73,
    "start_time": "2023-05-25T13:52:55.888Z"
   },
   {
    "duration": 123,
    "start_time": "2023-05-25T13:52:55.965Z"
   },
   {
    "duration": 0,
    "start_time": "2023-05-25T13:52:56.089Z"
   },
   {
    "duration": 1247,
    "start_time": "2023-05-25T13:53:57.312Z"
   },
   {
    "duration": 851,
    "start_time": "2023-05-25T13:53:58.562Z"
   },
   {
    "duration": 24,
    "start_time": "2023-05-25T13:53:59.415Z"
   },
   {
    "duration": 295,
    "start_time": "2023-05-25T13:53:59.444Z"
   },
   {
    "duration": 201,
    "start_time": "2023-05-25T13:53:59.741Z"
   },
   {
    "duration": 539,
    "start_time": "2023-05-25T13:53:59.977Z"
   },
   {
    "duration": 531,
    "start_time": "2023-05-25T13:54:00.518Z"
   },
   {
    "duration": 143,
    "start_time": "2023-05-25T13:54:01.052Z"
   },
   {
    "duration": 28,
    "start_time": "2023-05-25T13:54:01.197Z"
   },
   {
    "duration": 80,
    "start_time": "2023-05-25T13:54:01.227Z"
   },
   {
    "duration": 49,
    "start_time": "2023-05-25T13:54:01.309Z"
   },
   {
    "duration": 102,
    "start_time": "2023-05-25T13:54:01.361Z"
   },
   {
    "duration": 26,
    "start_time": "2023-05-25T13:54:01.465Z"
   },
   {
    "duration": 30,
    "start_time": "2023-05-25T13:54:01.494Z"
   },
   {
    "duration": 32,
    "start_time": "2023-05-25T13:54:01.526Z"
   },
   {
    "duration": 50,
    "start_time": "2023-05-25T13:54:01.560Z"
   },
   {
    "duration": 147,
    "start_time": "2023-05-25T13:54:01.612Z"
   },
   {
    "duration": 70,
    "start_time": "2023-05-25T13:54:01.761Z"
   },
   {
    "duration": 14,
    "start_time": "2023-05-25T13:54:01.833Z"
   },
   {
    "duration": 168,
    "start_time": "2023-05-25T13:54:01.849Z"
   },
   {
    "duration": 22,
    "start_time": "2023-05-25T13:54:02.018Z"
   },
   {
    "duration": 81,
    "start_time": "2023-05-25T13:54:02.042Z"
   },
   {
    "duration": 768,
    "start_time": "2023-05-25T13:54:02.125Z"
   },
   {
    "duration": 13,
    "start_time": "2023-05-25T13:54:02.897Z"
   },
   {
    "duration": 19,
    "start_time": "2023-05-25T13:54:02.914Z"
   },
   {
    "duration": 59,
    "start_time": "2023-05-25T13:54:02.935Z"
   },
   {
    "duration": 88,
    "start_time": "2023-05-25T13:54:02.996Z"
   },
   {
    "duration": 204,
    "start_time": "2023-05-25T13:54:03.086Z"
   },
   {
    "duration": 106,
    "start_time": "2023-05-25T13:54:03.292Z"
   },
   {
    "duration": 6,
    "start_time": "2023-05-25T13:54:35.535Z"
   },
   {
    "duration": 179,
    "start_time": "2023-05-25T13:54:39.387Z"
   },
   {
    "duration": 80,
    "start_time": "2023-05-25T13:54:40.628Z"
   },
   {
    "duration": 4,
    "start_time": "2023-05-25T14:02:46.017Z"
   },
   {
    "duration": 104,
    "start_time": "2023-05-25T14:02:53.851Z"
   },
   {
    "duration": 10,
    "start_time": "2023-05-25T14:02:57.098Z"
   },
   {
    "duration": 10,
    "start_time": "2023-05-25T14:02:59.108Z"
   },
   {
    "duration": 23,
    "start_time": "2023-05-25T14:03:09.834Z"
   },
   {
    "duration": 30,
    "start_time": "2023-05-25T14:04:03.142Z"
   },
   {
    "duration": 33,
    "start_time": "2023-05-25T14:04:30.649Z"
   },
   {
    "duration": 12,
    "start_time": "2023-05-25T14:04:41.108Z"
   },
   {
    "duration": 647,
    "start_time": "2023-05-25T14:04:49.515Z"
   },
   {
    "duration": 10,
    "start_time": "2023-05-25T14:04:55.948Z"
   },
   {
    "duration": 1241,
    "start_time": "2023-05-25T14:08:33.224Z"
   },
   {
    "duration": 2942,
    "start_time": "2023-05-25T14:08:34.467Z"
   },
   {
    "duration": 21,
    "start_time": "2023-05-25T14:08:37.411Z"
   },
   {
    "duration": 194,
    "start_time": "2023-05-25T14:08:37.434Z"
   },
   {
    "duration": 122,
    "start_time": "2023-05-25T14:08:37.630Z"
   },
   {
    "duration": 471,
    "start_time": "2023-05-25T14:08:37.754Z"
   },
   {
    "duration": 483,
    "start_time": "2023-05-25T14:08:38.226Z"
   },
   {
    "duration": 98,
    "start_time": "2023-05-25T14:08:38.711Z"
   },
   {
    "duration": 18,
    "start_time": "2023-05-25T14:08:38.811Z"
   },
   {
    "duration": 69,
    "start_time": "2023-05-25T14:08:38.832Z"
   },
   {
    "duration": 46,
    "start_time": "2023-05-25T14:08:38.902Z"
   },
   {
    "duration": 110,
    "start_time": "2023-05-25T14:08:38.952Z"
   },
   {
    "duration": 18,
    "start_time": "2023-05-25T14:08:39.063Z"
   },
   {
    "duration": 3,
    "start_time": "2023-05-25T14:08:39.083Z"
   },
   {
    "duration": 13,
    "start_time": "2023-05-25T14:08:39.088Z"
   },
   {
    "duration": 39,
    "start_time": "2023-05-25T14:08:39.103Z"
   },
   {
    "duration": 118,
    "start_time": "2023-05-25T14:08:39.144Z"
   },
   {
    "duration": 59,
    "start_time": "2023-05-25T14:08:39.264Z"
   },
   {
    "duration": 3,
    "start_time": "2023-05-25T14:08:39.325Z"
   },
   {
    "duration": 154,
    "start_time": "2023-05-25T14:08:39.330Z"
   },
   {
    "duration": 20,
    "start_time": "2023-05-25T14:08:39.487Z"
   },
   {
    "duration": 5,
    "start_time": "2023-05-25T14:08:39.511Z"
   },
   {
    "duration": 941,
    "start_time": "2023-05-25T14:08:39.518Z"
   },
   {
    "duration": 22,
    "start_time": "2023-05-25T14:08:40.460Z"
   },
   {
    "duration": 16,
    "start_time": "2023-05-25T14:08:40.484Z"
   },
   {
    "duration": 43,
    "start_time": "2023-05-25T14:08:40.502Z"
   },
   {
    "duration": 78,
    "start_time": "2023-05-25T14:08:40.546Z"
   },
   {
    "duration": 201,
    "start_time": "2023-05-25T14:08:40.628Z"
   },
   {
    "duration": 247,
    "start_time": "2023-05-25T14:08:40.831Z"
   },
   {
    "duration": 1203,
    "start_time": "2023-05-25T14:10:02.500Z"
   },
   {
    "duration": 2923,
    "start_time": "2023-05-25T14:10:03.705Z"
   },
   {
    "duration": 21,
    "start_time": "2023-05-25T14:10:06.630Z"
   },
   {
    "duration": 182,
    "start_time": "2023-05-25T14:10:06.653Z"
   },
   {
    "duration": 106,
    "start_time": "2023-05-25T14:10:06.837Z"
   },
   {
    "duration": 460,
    "start_time": "2023-05-25T14:10:06.945Z"
   },
   {
    "duration": 523,
    "start_time": "2023-05-25T14:10:07.406Z"
   },
   {
    "duration": 122,
    "start_time": "2023-05-25T14:10:07.931Z"
   },
   {
    "duration": 33,
    "start_time": "2023-05-25T14:10:08.054Z"
   },
   {
    "duration": 74,
    "start_time": "2023-05-25T14:10:08.090Z"
   },
   {
    "duration": 34,
    "start_time": "2023-05-25T14:10:08.166Z"
   },
   {
    "duration": 79,
    "start_time": "2023-05-25T14:10:08.203Z"
   },
   {
    "duration": 11,
    "start_time": "2023-05-25T14:10:08.284Z"
   },
   {
    "duration": 6,
    "start_time": "2023-05-25T14:10:08.297Z"
   },
   {
    "duration": 14,
    "start_time": "2023-05-25T14:10:08.306Z"
   },
   {
    "duration": 57,
    "start_time": "2023-05-25T14:10:08.322Z"
   },
   {
    "duration": 102,
    "start_time": "2023-05-25T14:10:08.381Z"
   },
   {
    "duration": 58,
    "start_time": "2023-05-25T14:10:08.484Z"
   },
   {
    "duration": 3,
    "start_time": "2023-05-25T14:10:08.544Z"
   },
   {
    "duration": 152,
    "start_time": "2023-05-25T14:10:08.548Z"
   },
   {
    "duration": 21,
    "start_time": "2023-05-25T14:10:08.702Z"
   },
   {
    "duration": 4,
    "start_time": "2023-05-25T14:10:08.725Z"
   },
   {
    "duration": 47,
    "start_time": "2023-05-25T14:10:08.731Z"
   },
   {
    "duration": 7,
    "start_time": "2023-05-25T14:10:08.780Z"
   },
   {
    "duration": 54,
    "start_time": "2023-05-25T14:10:08.788Z"
   },
   {
    "duration": 178,
    "start_time": "2023-05-25T14:10:08.844Z"
   },
   {
    "duration": 69,
    "start_time": "2023-05-25T14:10:44.089Z"
   },
   {
    "duration": 1200,
    "start_time": "2023-05-25T14:10:52.879Z"
   },
   {
    "duration": 3014,
    "start_time": "2023-05-25T14:10:55.326Z"
   },
   {
    "duration": 21,
    "start_time": "2023-05-25T14:10:59.405Z"
   },
   {
    "duration": 121,
    "start_time": "2023-05-25T14:10:59.614Z"
   },
   {
    "duration": 100,
    "start_time": "2023-05-25T14:10:59.806Z"
   },
   {
    "duration": 472,
    "start_time": "2023-05-25T14:10:59.977Z"
   },
   {
    "duration": 568,
    "start_time": "2023-05-25T14:11:00.452Z"
   },
   {
    "duration": 102,
    "start_time": "2023-05-25T14:11:02.231Z"
   },
   {
    "duration": 19,
    "start_time": "2023-05-25T14:11:02.423Z"
   },
   {
    "duration": 60,
    "start_time": "2023-05-25T14:11:02.678Z"
   },
   {
    "duration": 34,
    "start_time": "2023-05-25T14:11:02.882Z"
   },
   {
    "duration": 67,
    "start_time": "2023-05-25T14:11:03.076Z"
   },
   {
    "duration": 12,
    "start_time": "2023-05-25T14:11:03.246Z"
   },
   {
    "duration": 4,
    "start_time": "2023-05-25T14:11:03.407Z"
   },
   {
    "duration": 8,
    "start_time": "2023-05-25T14:11:03.578Z"
   },
   {
    "duration": 34,
    "start_time": "2023-05-25T14:11:03.742Z"
   },
   {
    "duration": 92,
    "start_time": "2023-05-25T14:11:04.357Z"
   },
   {
    "duration": 122,
    "start_time": "2023-05-25T14:11:04.533Z"
   },
   {
    "duration": 5,
    "start_time": "2023-05-25T14:11:05.176Z"
   },
   {
    "duration": 143,
    "start_time": "2023-05-25T14:11:05.635Z"
   },
   {
    "duration": 21,
    "start_time": "2023-05-25T14:11:06.148Z"
   },
   {
    "duration": 5,
    "start_time": "2023-05-25T14:11:06.708Z"
   },
   {
    "duration": 18,
    "start_time": "2023-05-25T14:11:07.177Z"
   },
   {
    "duration": 9,
    "start_time": "2023-05-25T14:11:09.567Z"
   },
   {
    "duration": 42,
    "start_time": "2023-05-25T14:11:10.095Z"
   },
   {
    "duration": 160,
    "start_time": "2023-05-25T14:11:10.518Z"
   },
   {
    "duration": 819,
    "start_time": "2023-05-25T14:11:12.341Z"
   },
   {
    "duration": 51,
    "start_time": "2023-05-25T14:12:28.603Z"
   },
   {
    "duration": 1244,
    "start_time": "2023-05-25T14:12:34.976Z"
   },
   {
    "duration": 2919,
    "start_time": "2023-05-25T14:12:36.222Z"
   },
   {
    "duration": 28,
    "start_time": "2023-05-25T14:12:39.143Z"
   },
   {
    "duration": 175,
    "start_time": "2023-05-25T14:12:39.174Z"
   },
   {
    "duration": 122,
    "start_time": "2023-05-25T14:12:39.351Z"
   },
   {
    "duration": 491,
    "start_time": "2023-05-25T14:12:39.478Z"
   },
   {
    "duration": 589,
    "start_time": "2023-05-25T14:12:39.971Z"
   },
   {
    "duration": 106,
    "start_time": "2023-05-25T14:12:40.562Z"
   },
   {
    "duration": 22,
    "start_time": "2023-05-25T14:12:40.677Z"
   },
   {
    "duration": 80,
    "start_time": "2023-05-25T14:12:40.702Z"
   },
   {
    "duration": 33,
    "start_time": "2023-05-25T14:12:40.784Z"
   },
   {
    "duration": 86,
    "start_time": "2023-05-25T14:12:40.818Z"
   },
   {
    "duration": 11,
    "start_time": "2023-05-25T14:12:40.907Z"
   },
   {
    "duration": 13,
    "start_time": "2023-05-25T14:12:40.920Z"
   },
   {
    "duration": 36,
    "start_time": "2023-05-25T14:12:40.935Z"
   },
   {
    "duration": 46,
    "start_time": "2023-05-25T14:12:40.973Z"
   },
   {
    "duration": 185,
    "start_time": "2023-05-25T14:12:41.021Z"
   },
   {
    "duration": 60,
    "start_time": "2023-05-25T14:12:41.207Z"
   },
   {
    "duration": 9,
    "start_time": "2023-05-25T14:12:41.277Z"
   },
   {
    "duration": 183,
    "start_time": "2023-05-25T14:12:41.289Z"
   },
   {
    "duration": 18,
    "start_time": "2023-05-25T14:12:41.477Z"
   },
   {
    "duration": 5,
    "start_time": "2023-05-25T14:12:41.498Z"
   },
   {
    "duration": 47,
    "start_time": "2023-05-25T14:12:41.504Z"
   },
   {
    "duration": 7,
    "start_time": "2023-05-25T14:12:41.553Z"
   },
   {
    "duration": 54,
    "start_time": "2023-05-25T14:12:41.562Z"
   },
   {
    "duration": 188,
    "start_time": "2023-05-25T14:12:41.618Z"
   },
   {
    "duration": 874,
    "start_time": "2023-05-25T14:12:41.809Z"
   },
   {
    "duration": 0,
    "start_time": "2023-05-25T14:12:42.685Z"
   },
   {
    "duration": 0,
    "start_time": "2023-05-25T14:12:42.687Z"
   },
   {
    "duration": 0,
    "start_time": "2023-05-25T14:12:42.688Z"
   },
   {
    "duration": 783,
    "start_time": "2023-05-25T14:15:28.595Z"
   },
   {
    "duration": 7,
    "start_time": "2023-05-25T14:17:26.241Z"
   },
   {
    "duration": 851,
    "start_time": "2023-05-25T14:17:27.541Z"
   },
   {
    "duration": 13,
    "start_time": "2023-05-25T14:17:28.394Z"
   },
   {
    "duration": 126,
    "start_time": "2023-05-25T14:17:28.409Z"
   },
   {
    "duration": 101,
    "start_time": "2023-05-25T14:17:28.537Z"
   },
   {
    "duration": 422,
    "start_time": "2023-05-25T14:17:28.640Z"
   },
   {
    "duration": 465,
    "start_time": "2023-05-25T14:17:29.063Z"
   },
   {
    "duration": 110,
    "start_time": "2023-05-25T14:17:29.531Z"
   },
   {
    "duration": 19,
    "start_time": "2023-05-25T14:17:29.643Z"
   },
   {
    "duration": 60,
    "start_time": "2023-05-25T14:17:29.677Z"
   },
   {
    "duration": 42,
    "start_time": "2023-05-25T14:17:29.739Z"
   },
   {
    "duration": 105,
    "start_time": "2023-05-25T14:17:29.784Z"
   },
   {
    "duration": 12,
    "start_time": "2023-05-25T14:17:29.891Z"
   },
   {
    "duration": 6,
    "start_time": "2023-05-25T14:17:29.904Z"
   },
   {
    "duration": 21,
    "start_time": "2023-05-25T14:17:29.912Z"
   },
   {
    "duration": 59,
    "start_time": "2023-05-25T14:17:29.935Z"
   },
   {
    "duration": 170,
    "start_time": "2023-05-25T14:17:29.997Z"
   },
   {
    "duration": 113,
    "start_time": "2023-05-25T14:17:30.169Z"
   },
   {
    "duration": 9,
    "start_time": "2023-05-25T14:17:30.284Z"
   },
   {
    "duration": 229,
    "start_time": "2023-05-25T14:17:30.296Z"
   },
   {
    "duration": 29,
    "start_time": "2023-05-25T14:17:30.528Z"
   },
   {
    "duration": 20,
    "start_time": "2023-05-25T14:17:30.559Z"
   },
   {
    "duration": 41,
    "start_time": "2023-05-25T14:17:30.582Z"
   },
   {
    "duration": 7,
    "start_time": "2023-05-25T14:17:30.880Z"
   },
   {
    "duration": 40,
    "start_time": "2023-05-25T14:17:31.344Z"
   },
   {
    "duration": 142,
    "start_time": "2023-05-25T14:17:33.054Z"
   },
   {
    "duration": 6133,
    "start_time": "2023-05-25T14:18:50.216Z"
   },
   {
    "duration": 10689,
    "start_time": "2023-05-25T14:19:39.791Z"
   },
   {
    "duration": 9707,
    "start_time": "2023-05-25T14:20:41.736Z"
   },
   {
    "duration": 14347,
    "start_time": "2023-05-25T14:21:13.644Z"
   },
   {
    "duration": 5121,
    "start_time": "2023-05-25T14:21:37.711Z"
   },
   {
    "duration": 5217,
    "start_time": "2023-05-25T14:21:47.354Z"
   },
   {
    "duration": 4702,
    "start_time": "2023-05-25T14:23:47.337Z"
   },
   {
    "duration": 3652,
    "start_time": "2023-05-25T14:24:03.892Z"
   },
   {
    "duration": 5791,
    "start_time": "2023-05-25T14:24:10.930Z"
   },
   {
    "duration": 7626,
    "start_time": "2023-05-25T14:24:19.627Z"
   },
   {
    "duration": 5192,
    "start_time": "2023-05-25T14:24:42.123Z"
   },
   {
    "duration": 5752,
    "start_time": "2023-05-25T14:24:51.714Z"
   },
   {
    "duration": 5504,
    "start_time": "2023-05-25T14:25:01.640Z"
   },
   {
    "duration": 5062,
    "start_time": "2023-05-25T14:25:12.352Z"
   },
   {
    "duration": 5113,
    "start_time": "2023-05-25T14:25:21.149Z"
   },
   {
    "duration": 4149,
    "start_time": "2023-05-25T14:25:31.705Z"
   },
   {
    "duration": 4653,
    "start_time": "2023-05-25T14:25:36.686Z"
   },
   {
    "duration": 5227,
    "start_time": "2023-05-25T14:25:45.828Z"
   },
   {
    "duration": 9434,
    "start_time": "2023-05-25T14:25:55.523Z"
   },
   {
    "duration": 5020,
    "start_time": "2023-05-25T14:26:10.230Z"
   },
   {
    "duration": 5361,
    "start_time": "2023-05-25T14:28:44.772Z"
   },
   {
    "duration": 36995,
    "start_time": "2023-05-25T14:28:53.116Z"
   },
   {
    "duration": 24806,
    "start_time": "2023-05-25T14:29:40.293Z"
   },
   {
    "duration": 5029,
    "start_time": "2023-05-25T14:31:23.412Z"
   },
   {
    "duration": 31680,
    "start_time": "2023-05-25T14:31:33.126Z"
   },
   {
    "duration": 33559,
    "start_time": "2023-05-25T14:33:05.321Z"
   },
   {
    "duration": 5125,
    "start_time": "2023-05-25T14:33:38.882Z"
   },
   {
    "duration": 5138,
    "start_time": "2023-05-25T14:33:53.947Z"
   },
   {
    "duration": 4971,
    "start_time": "2023-05-25T14:34:05.018Z"
   },
   {
    "duration": 5095,
    "start_time": "2023-05-25T14:34:13.826Z"
   },
   {
    "duration": 5023,
    "start_time": "2023-05-25T14:34:22.908Z"
   },
   {
    "duration": 4949,
    "start_time": "2023-05-25T14:34:33.445Z"
   },
   {
    "duration": 4958,
    "start_time": "2023-05-25T14:34:42.999Z"
   },
   {
    "duration": 27213,
    "start_time": "2023-05-25T14:35:23.270Z"
   },
   {
    "duration": 66,
    "start_time": "2023-05-25T14:36:01.532Z"
   },
   {
    "duration": 683,
    "start_time": "2023-05-25T14:36:08.353Z"
   },
   {
    "duration": 12,
    "start_time": "2023-05-25T14:36:09.038Z"
   },
   {
    "duration": 65,
    "start_time": "2023-05-25T14:36:09.104Z"
   },
   {
    "duration": 568,
    "start_time": "2023-05-25T14:36:19.177Z"
   },
   {
    "duration": 10,
    "start_time": "2023-05-25T14:36:19.747Z"
   },
   {
    "duration": 74,
    "start_time": "2023-05-25T14:36:25.539Z"
   },
   {
    "duration": 3,
    "start_time": "2023-05-25T14:40:47.495Z"
   },
   {
    "duration": 6,
    "start_time": "2023-05-25T14:40:56.302Z"
   },
   {
    "duration": 8,
    "start_time": "2023-05-25T14:41:23.663Z"
   },
   {
    "duration": 6,
    "start_time": "2023-05-25T14:41:28.322Z"
   },
   {
    "duration": 1148,
    "start_time": "2023-05-25T14:41:58.155Z"
   },
   {
    "duration": 894,
    "start_time": "2023-05-25T14:41:59.305Z"
   },
   {
    "duration": 20,
    "start_time": "2023-05-25T14:42:00.201Z"
   },
   {
    "duration": 131,
    "start_time": "2023-05-25T14:42:00.222Z"
   },
   {
    "duration": 111,
    "start_time": "2023-05-25T14:42:00.355Z"
   },
   {
    "duration": 506,
    "start_time": "2023-05-25T14:42:00.468Z"
   },
   {
    "duration": 463,
    "start_time": "2023-05-25T14:42:00.979Z"
   },
   {
    "duration": 115,
    "start_time": "2023-05-25T14:42:01.444Z"
   },
   {
    "duration": 53,
    "start_time": "2023-05-25T14:42:01.561Z"
   },
   {
    "duration": 115,
    "start_time": "2023-05-25T14:42:01.615Z"
   },
   {
    "duration": 37,
    "start_time": "2023-05-25T14:42:01.732Z"
   },
   {
    "duration": 103,
    "start_time": "2023-05-25T14:42:01.771Z"
   },
   {
    "duration": 44,
    "start_time": "2023-05-25T14:42:01.876Z"
   },
   {
    "duration": 24,
    "start_time": "2023-05-25T14:42:01.923Z"
   },
   {
    "duration": 60,
    "start_time": "2023-05-25T14:42:01.949Z"
   },
   {
    "duration": 80,
    "start_time": "2023-05-25T14:42:02.011Z"
   },
   {
    "duration": 97,
    "start_time": "2023-05-25T14:42:02.094Z"
   },
   {
    "duration": 57,
    "start_time": "2023-05-25T14:42:02.193Z"
   },
   {
    "duration": 47,
    "start_time": "2023-05-25T14:42:02.252Z"
   },
   {
    "duration": 228,
    "start_time": "2023-05-25T14:42:02.302Z"
   },
   {
    "duration": 24,
    "start_time": "2023-05-25T14:42:02.532Z"
   },
   {
    "duration": 5,
    "start_time": "2023-05-25T14:42:02.558Z"
   },
   {
    "duration": 22,
    "start_time": "2023-05-25T14:42:02.578Z"
   },
   {
    "duration": 6,
    "start_time": "2023-05-25T14:42:02.602Z"
   },
   {
    "duration": 46,
    "start_time": "2023-05-25T14:42:02.609Z"
   },
   {
    "duration": 188,
    "start_time": "2023-05-25T14:42:02.657Z"
   },
   {
    "duration": 5,
    "start_time": "2023-05-25T14:42:02.847Z"
   },
   {
    "duration": 5358,
    "start_time": "2023-05-25T14:42:02.853Z"
   },
   {
    "duration": 78876,
    "start_time": "2023-05-25T14:42:08.214Z"
   },
   {
    "duration": 100,
    "start_time": "2023-05-25T14:45:22.891Z"
   },
   {
    "duration": 4,
    "start_time": "2023-05-25T14:45:27.014Z"
   },
   {
    "duration": 6,
    "start_time": "2023-05-25T14:45:32.210Z"
   },
   {
    "duration": 8,
    "start_time": "2023-05-25T14:45:42.353Z"
   },
   {
    "duration": 5013,
    "start_time": "2023-05-25T14:46:14.658Z"
   },
   {
    "duration": 4997,
    "start_time": "2023-05-25T14:46:25.903Z"
   },
   {
    "duration": 23911,
    "start_time": "2023-05-25T14:47:13.086Z"
   },
   {
    "duration": 30021,
    "start_time": "2023-05-25T14:47:49.967Z"
   },
   {
    "duration": 12,
    "start_time": "2023-05-25T14:52:42.695Z"
   },
   {
    "duration": 3,
    "start_time": "2023-05-25T14:53:00.904Z"
   },
   {
    "duration": 14,
    "start_time": "2023-05-25T14:53:01.523Z"
   },
   {
    "duration": 5,
    "start_time": "2023-05-25T14:54:01.055Z"
   },
   {
    "duration": 13,
    "start_time": "2023-05-25T14:54:03.260Z"
   },
   {
    "duration": 5,
    "start_time": "2023-05-25T14:54:16.163Z"
   },
   {
    "duration": 23,
    "start_time": "2023-05-25T14:54:16.767Z"
   },
   {
    "duration": 4995,
    "start_time": "2023-05-25T14:54:46.671Z"
   },
   {
    "duration": 24966,
    "start_time": "2023-05-25T14:55:09.633Z"
   },
   {
    "duration": 9,
    "start_time": "2023-05-25T14:55:37.236Z"
   },
   {
    "duration": 15,
    "start_time": "2023-05-25T14:56:38.227Z"
   },
   {
    "duration": 5292,
    "start_time": "2023-05-25T14:56:38.748Z"
   },
   {
    "duration": 78665,
    "start_time": "2023-05-25T14:56:44.042Z"
   },
   {
    "duration": 85,
    "start_time": "2023-05-25T14:58:02.709Z"
   },
   {
    "duration": 16,
    "start_time": "2023-05-25T14:59:40.840Z"
   },
   {
    "duration": 10,
    "start_time": "2023-05-25T14:59:51.761Z"
   },
   {
    "duration": 13,
    "start_time": "2023-05-25T15:00:06.873Z"
   },
   {
    "duration": 5,
    "start_time": "2023-05-25T15:00:10.492Z"
   },
   {
    "duration": 7,
    "start_time": "2023-05-25T15:00:15.391Z"
   },
   {
    "duration": 1204,
    "start_time": "2023-05-25T15:00:30.260Z"
   },
   {
    "duration": 864,
    "start_time": "2023-05-25T15:00:31.466Z"
   },
   {
    "duration": 19,
    "start_time": "2023-05-25T15:00:32.332Z"
   },
   {
    "duration": 140,
    "start_time": "2023-05-25T15:00:32.352Z"
   },
   {
    "duration": 102,
    "start_time": "2023-05-25T15:00:32.494Z"
   },
   {
    "duration": 477,
    "start_time": "2023-05-25T15:00:32.598Z"
   },
   {
    "duration": 543,
    "start_time": "2023-05-25T15:00:33.076Z"
   },
   {
    "duration": 108,
    "start_time": "2023-05-25T15:00:33.620Z"
   },
   {
    "duration": 28,
    "start_time": "2023-05-25T15:00:33.730Z"
   },
   {
    "duration": 80,
    "start_time": "2023-05-25T15:00:33.760Z"
   },
   {
    "duration": 52,
    "start_time": "2023-05-25T15:00:33.842Z"
   },
   {
    "duration": 70,
    "start_time": "2023-05-25T15:00:33.896Z"
   },
   {
    "duration": 15,
    "start_time": "2023-05-25T15:00:33.967Z"
   },
   {
    "duration": 12,
    "start_time": "2023-05-25T15:00:33.991Z"
   },
   {
    "duration": 10,
    "start_time": "2023-05-25T15:00:34.005Z"
   },
   {
    "duration": 30,
    "start_time": "2023-05-25T15:00:34.016Z"
   },
   {
    "duration": 108,
    "start_time": "2023-05-25T15:00:34.048Z"
   },
   {
    "duration": 67,
    "start_time": "2023-05-25T15:00:34.158Z"
   },
   {
    "duration": 4,
    "start_time": "2023-05-25T15:00:34.227Z"
   },
   {
    "duration": 158,
    "start_time": "2023-05-25T15:00:34.233Z"
   },
   {
    "duration": 21,
    "start_time": "2023-05-25T15:00:34.394Z"
   },
   {
    "duration": 5,
    "start_time": "2023-05-25T15:00:34.416Z"
   },
   {
    "duration": 29,
    "start_time": "2023-05-25T15:00:34.423Z"
   },
   {
    "duration": 6,
    "start_time": "2023-05-25T15:00:34.454Z"
   },
   {
    "duration": 64,
    "start_time": "2023-05-25T15:00:34.480Z"
   },
   {
    "duration": 206,
    "start_time": "2023-05-25T15:00:34.546Z"
   },
   {
    "duration": 4,
    "start_time": "2023-05-25T15:00:34.754Z"
   },
   {
    "duration": 21,
    "start_time": "2023-05-25T15:00:34.760Z"
   },
   {
    "duration": 5560,
    "start_time": "2023-05-25T15:00:34.787Z"
   },
   {
    "duration": 133265,
    "start_time": "2023-05-25T15:00:40.349Z"
   },
   {
    "duration": 71,
    "start_time": "2023-05-25T15:02:53.616Z"
   },
   {
    "duration": 1297,
    "start_time": "2023-05-26T04:57:25.375Z"
   },
   {
    "duration": 3095,
    "start_time": "2023-05-26T04:57:26.674Z"
   },
   {
    "duration": 31,
    "start_time": "2023-05-26T04:57:29.771Z"
   },
   {
    "duration": 129,
    "start_time": "2023-05-26T04:57:29.804Z"
   },
   {
    "duration": 113,
    "start_time": "2023-05-26T04:57:29.935Z"
   },
   {
    "duration": 551,
    "start_time": "2023-05-26T04:57:30.061Z"
   },
   {
    "duration": 550,
    "start_time": "2023-05-26T04:57:30.613Z"
   },
   {
    "duration": 128,
    "start_time": "2023-05-26T04:57:31.173Z"
   },
   {
    "duration": 28,
    "start_time": "2023-05-26T04:57:31.303Z"
   },
   {
    "duration": 78,
    "start_time": "2023-05-26T04:57:31.334Z"
   },
   {
    "duration": 50,
    "start_time": "2023-05-26T04:57:31.414Z"
   },
   {
    "duration": 65,
    "start_time": "2023-05-26T04:57:31.469Z"
   },
   {
    "duration": 32,
    "start_time": "2023-05-26T04:57:31.535Z"
   },
   {
    "duration": 8,
    "start_time": "2023-05-26T04:57:31.572Z"
   },
   {
    "duration": 35,
    "start_time": "2023-05-26T04:57:31.582Z"
   },
   {
    "duration": 47,
    "start_time": "2023-05-26T04:57:31.619Z"
   },
   {
    "duration": 114,
    "start_time": "2023-05-26T04:57:31.668Z"
   },
   {
    "duration": 83,
    "start_time": "2023-05-26T04:57:31.784Z"
   },
   {
    "duration": 44,
    "start_time": "2023-05-26T04:57:31.869Z"
   },
   {
    "duration": 183,
    "start_time": "2023-05-26T04:57:31.915Z"
   },
   {
    "duration": 20,
    "start_time": "2023-05-26T04:57:32.100Z"
   },
   {
    "duration": 7,
    "start_time": "2023-05-26T04:57:32.121Z"
   },
   {
    "duration": 33,
    "start_time": "2023-05-26T04:57:32.129Z"
   },
   {
    "duration": 6,
    "start_time": "2023-05-26T04:57:32.164Z"
   },
   {
    "duration": 61,
    "start_time": "2023-05-26T04:57:32.171Z"
   },
   {
    "duration": 182,
    "start_time": "2023-05-26T04:57:32.234Z"
   },
   {
    "duration": 6,
    "start_time": "2023-05-26T04:57:32.417Z"
   },
   {
    "duration": 18,
    "start_time": "2023-05-26T04:57:32.426Z"
   },
   {
    "duration": 5823,
    "start_time": "2023-05-26T04:57:32.446Z"
   },
   {
    "duration": 179800,
    "start_time": "2023-05-26T04:57:38.271Z"
   },
   {
    "duration": 10,
    "start_time": "2023-05-26T05:00:38.078Z"
   },
   {
    "duration": 947,
    "start_time": "2023-05-26T05:02:10.373Z"
   },
   {
    "duration": 299,
    "start_time": "2023-05-26T05:05:42.676Z"
   },
   {
    "duration": 617,
    "start_time": "2023-05-26T05:07:05.077Z"
   },
   {
    "duration": 707,
    "start_time": "2023-05-26T05:08:09.133Z"
   },
   {
    "duration": 547,
    "start_time": "2023-05-26T05:08:35.582Z"
   },
   {
    "duration": 575,
    "start_time": "2023-05-26T05:09:17.009Z"
   },
   {
    "duration": 598,
    "start_time": "2023-05-26T05:09:28.586Z"
   },
   {
    "duration": 654,
    "start_time": "2023-05-26T05:10:33.326Z"
   },
   {
    "duration": 851,
    "start_time": "2023-05-26T05:10:42.945Z"
   },
   {
    "duration": 755,
    "start_time": "2023-05-26T05:10:50.820Z"
   },
   {
    "duration": 564,
    "start_time": "2023-05-26T05:11:57.228Z"
   },
   {
    "duration": 10997,
    "start_time": "2023-05-26T05:12:28.353Z"
   },
   {
    "duration": 13,
    "start_time": "2023-05-26T05:12:46.006Z"
   },
   {
    "duration": 627,
    "start_time": "2023-05-26T05:12:46.447Z"
   },
   {
    "duration": 11929,
    "start_time": "2023-05-26T05:13:13.038Z"
   },
   {
    "duration": 17455,
    "start_time": "2023-05-26T05:13:31.951Z"
   },
   {
    "duration": 16,
    "start_time": "2023-05-26T05:14:20.826Z"
   },
   {
    "duration": 807,
    "start_time": "2023-05-26T05:14:21.437Z"
   },
   {
    "duration": 25599,
    "start_time": "2023-05-26T05:15:10.190Z"
   },
   {
    "duration": 11,
    "start_time": "2023-05-26T05:15:55.888Z"
   },
   {
    "duration": 1296,
    "start_time": "2023-05-26T05:16:16.537Z"
   },
   {
    "duration": 973,
    "start_time": "2023-05-26T05:16:17.835Z"
   },
   {
    "duration": 27,
    "start_time": "2023-05-26T05:16:18.811Z"
   },
   {
    "duration": 176,
    "start_time": "2023-05-26T05:16:18.840Z"
   },
   {
    "duration": 157,
    "start_time": "2023-05-26T05:16:19.019Z"
   },
   {
    "duration": 596,
    "start_time": "2023-05-26T05:16:19.178Z"
   },
   {
    "duration": 551,
    "start_time": "2023-05-26T05:16:19.777Z"
   },
   {
    "duration": 149,
    "start_time": "2023-05-26T05:16:20.329Z"
   },
   {
    "duration": 31,
    "start_time": "2023-05-26T05:16:20.486Z"
   },
   {
    "duration": 81,
    "start_time": "2023-05-26T05:16:20.519Z"
   },
   {
    "duration": 33,
    "start_time": "2023-05-26T05:16:20.602Z"
   },
   {
    "duration": 92,
    "start_time": "2023-05-26T05:16:20.637Z"
   },
   {
    "duration": 10,
    "start_time": "2023-05-26T05:16:20.731Z"
   },
   {
    "duration": 7,
    "start_time": "2023-05-26T05:16:20.759Z"
   },
   {
    "duration": 26,
    "start_time": "2023-05-26T05:16:20.767Z"
   },
   {
    "duration": 38,
    "start_time": "2023-05-26T05:16:20.795Z"
   },
   {
    "duration": 114,
    "start_time": "2023-05-26T05:16:20.835Z"
   },
   {
    "duration": 85,
    "start_time": "2023-05-26T05:16:20.951Z"
   },
   {
    "duration": 28,
    "start_time": "2023-05-26T05:16:21.038Z"
   },
   {
    "duration": 200,
    "start_time": "2023-05-26T05:16:21.079Z"
   },
   {
    "duration": 32,
    "start_time": "2023-05-26T05:16:21.285Z"
   },
   {
    "duration": 4,
    "start_time": "2023-05-26T05:16:21.319Z"
   },
   {
    "duration": 40,
    "start_time": "2023-05-26T05:16:21.324Z"
   },
   {
    "duration": 14,
    "start_time": "2023-05-26T05:16:21.375Z"
   },
   {
    "duration": 47,
    "start_time": "2023-05-26T05:16:21.398Z"
   },
   {
    "duration": 246,
    "start_time": "2023-05-26T05:16:21.448Z"
   },
   {
    "duration": 7,
    "start_time": "2023-05-26T05:16:21.697Z"
   },
   {
    "duration": 19,
    "start_time": "2023-05-26T05:16:21.706Z"
   },
   {
    "duration": 23798,
    "start_time": "2023-05-26T05:16:21.727Z"
   },
   {
    "duration": 197465,
    "start_time": "2023-05-26T05:16:45.527Z"
   },
   {
    "duration": 19,
    "start_time": "2023-05-26T05:20:02.996Z"
   },
   {
    "duration": 932,
    "start_time": "2023-05-26T05:20:03.016Z"
   },
   {
    "duration": 638,
    "start_time": "2023-05-26T05:20:52.986Z"
   },
   {
    "duration": 708,
    "start_time": "2023-05-26T05:21:02.817Z"
   },
   {
    "duration": 676,
    "start_time": "2023-05-26T05:21:14.647Z"
   },
   {
    "duration": 598,
    "start_time": "2023-05-26T05:21:21.396Z"
   },
   {
    "duration": 697,
    "start_time": "2023-05-26T05:21:29.050Z"
   },
   {
    "duration": 644,
    "start_time": "2023-05-26T05:21:33.045Z"
   },
   {
    "duration": 606,
    "start_time": "2023-05-26T05:21:36.015Z"
   },
   {
    "duration": 666,
    "start_time": "2023-05-26T05:21:39.006Z"
   },
   {
    "duration": 622,
    "start_time": "2023-05-26T05:21:44.733Z"
   },
   {
    "duration": 622,
    "start_time": "2023-05-26T05:21:49.159Z"
   },
   {
    "duration": 664,
    "start_time": "2023-05-26T05:21:56.848Z"
   },
   {
    "duration": 672,
    "start_time": "2023-05-26T05:22:06.877Z"
   },
   {
    "duration": 455,
    "start_time": "2023-05-26T05:22:11.560Z"
   },
   {
    "duration": 628,
    "start_time": "2023-05-26T05:22:14.922Z"
   },
   {
    "duration": 593,
    "start_time": "2023-05-26T05:25:47.950Z"
   },
   {
    "duration": 192,
    "start_time": "2023-05-26T05:25:54.858Z"
   },
   {
    "duration": 203,
    "start_time": "2023-05-26T05:25:58.183Z"
   },
   {
    "duration": 675,
    "start_time": "2023-05-26T05:26:03.738Z"
   },
   {
    "duration": 546,
    "start_time": "2023-05-26T05:26:13.090Z"
   },
   {
    "duration": 733,
    "start_time": "2023-05-26T05:27:03.605Z"
   },
   {
    "duration": 294,
    "start_time": "2023-05-26T05:27:08.983Z"
   },
   {
    "duration": 717,
    "start_time": "2023-05-26T05:27:17.039Z"
   },
   {
    "duration": 632,
    "start_time": "2023-05-26T05:27:21.310Z"
   },
   {
    "duration": 595,
    "start_time": "2023-05-26T05:27:40.417Z"
   },
   {
    "duration": 625,
    "start_time": "2023-05-26T05:28:01.425Z"
   },
   {
    "duration": 754,
    "start_time": "2023-05-26T05:28:06.691Z"
   },
   {
    "duration": 582,
    "start_time": "2023-05-26T05:28:30.787Z"
   },
   {
    "duration": 640,
    "start_time": "2023-05-26T05:28:42.285Z"
   },
   {
    "duration": 627,
    "start_time": "2023-05-26T05:28:59.302Z"
   },
   {
    "duration": 659,
    "start_time": "2023-05-26T05:29:07.538Z"
   },
   {
    "duration": 761,
    "start_time": "2023-05-26T05:29:27.979Z"
   },
   {
    "duration": 711,
    "start_time": "2023-05-26T05:29:36.928Z"
   },
   {
    "duration": 709,
    "start_time": "2023-05-26T05:29:55.817Z"
   },
   {
    "duration": 646,
    "start_time": "2023-05-26T05:30:25.795Z"
   },
   {
    "duration": 597,
    "start_time": "2023-05-26T05:30:32.246Z"
   },
   {
    "duration": 715,
    "start_time": "2023-05-26T05:30:55.346Z"
   },
   {
    "duration": 801,
    "start_time": "2023-05-26T05:31:03.726Z"
   },
   {
    "duration": 1166,
    "start_time": "2023-05-26T11:52:12.512Z"
   },
   {
    "duration": 1027,
    "start_time": "2023-05-26T11:52:13.679Z"
   },
   {
    "duration": 15,
    "start_time": "2023-05-26T11:52:14.707Z"
   },
   {
    "duration": 98,
    "start_time": "2023-05-26T11:52:14.724Z"
   },
   {
    "duration": 114,
    "start_time": "2023-05-26T11:52:14.823Z"
   },
   {
    "duration": 387,
    "start_time": "2023-05-26T11:52:14.938Z"
   },
   {
    "duration": 405,
    "start_time": "2023-05-26T11:52:15.327Z"
   },
   {
    "duration": 94,
    "start_time": "2023-05-26T11:52:15.733Z"
   },
   {
    "duration": 20,
    "start_time": "2023-05-26T11:52:15.828Z"
   },
   {
    "duration": 85,
    "start_time": "2023-05-26T11:52:15.851Z"
   },
   {
    "duration": 28,
    "start_time": "2023-05-26T11:52:15.937Z"
   },
   {
    "duration": 69,
    "start_time": "2023-05-26T11:52:15.966Z"
   },
   {
    "duration": 22,
    "start_time": "2023-05-26T11:52:16.036Z"
   },
   {
    "duration": 19,
    "start_time": "2023-05-26T11:52:16.059Z"
   },
   {
    "duration": 12,
    "start_time": "2023-05-26T11:52:16.079Z"
   },
   {
    "duration": 32,
    "start_time": "2023-05-26T11:52:16.092Z"
   },
   {
    "duration": 94,
    "start_time": "2023-05-26T11:52:16.126Z"
   },
   {
    "duration": 54,
    "start_time": "2023-05-26T11:52:16.222Z"
   },
   {
    "duration": 14,
    "start_time": "2023-05-26T11:52:16.277Z"
   },
   {
    "duration": 130,
    "start_time": "2023-05-26T11:52:16.292Z"
   },
   {
    "duration": 17,
    "start_time": "2023-05-26T11:52:16.423Z"
   },
   {
    "duration": 4,
    "start_time": "2023-05-26T11:52:16.441Z"
   },
   {
    "duration": 18,
    "start_time": "2023-05-26T11:52:16.446Z"
   },
   {
    "duration": 5,
    "start_time": "2023-05-26T11:52:16.465Z"
   },
   {
    "duration": 55,
    "start_time": "2023-05-26T11:52:16.471Z"
   },
   {
    "duration": 148,
    "start_time": "2023-05-26T11:52:16.527Z"
   },
   {
    "duration": 4,
    "start_time": "2023-05-26T11:52:16.677Z"
   },
   {
    "duration": 11,
    "start_time": "2023-05-26T11:52:16.683Z"
   },
   {
    "duration": 18694,
    "start_time": "2023-05-26T11:52:16.695Z"
   },
   {
    "duration": 15328,
    "start_time": "2023-05-26T11:52:35.390Z"
   },
   {
    "duration": 13,
    "start_time": "2023-05-26T11:52:50.720Z"
   },
   {
    "duration": 914,
    "start_time": "2023-05-26T11:52:50.735Z"
   },
   {
    "duration": 85,
    "start_time": "2023-05-26T11:53:38.309Z"
   },
   {
    "duration": 93,
    "start_time": "2023-05-26T11:56:44.451Z"
   },
   {
    "duration": 64,
    "start_time": "2023-05-26T11:59:16.206Z"
   },
   {
    "duration": 1309,
    "start_time": "2023-05-26T12:06:24.141Z"
   },
   {
    "duration": 678,
    "start_time": "2023-05-26T12:06:25.452Z"
   },
   {
    "duration": 14,
    "start_time": "2023-05-26T12:06:26.132Z"
   },
   {
    "duration": 112,
    "start_time": "2023-05-26T12:06:26.148Z"
   },
   {
    "duration": 91,
    "start_time": "2023-05-26T12:06:26.261Z"
   },
   {
    "duration": 355,
    "start_time": "2023-05-26T12:06:26.353Z"
   },
   {
    "duration": 410,
    "start_time": "2023-05-26T12:06:26.709Z"
   },
   {
    "duration": 95,
    "start_time": "2023-05-26T12:06:27.121Z"
   },
   {
    "duration": 19,
    "start_time": "2023-05-26T12:06:27.217Z"
   },
   {
    "duration": 58,
    "start_time": "2023-05-26T12:06:27.238Z"
   },
   {
    "duration": 39,
    "start_time": "2023-05-26T12:06:27.297Z"
   },
   {
    "duration": 60,
    "start_time": "2023-05-26T12:06:27.337Z"
   },
   {
    "duration": 23,
    "start_time": "2023-05-26T12:06:27.399Z"
   },
   {
    "duration": 10,
    "start_time": "2023-05-26T12:06:27.424Z"
   },
   {
    "duration": 18,
    "start_time": "2023-05-26T12:06:27.436Z"
   },
   {
    "duration": 19,
    "start_time": "2023-05-26T12:06:27.455Z"
   },
   {
    "duration": 30,
    "start_time": "2023-05-26T12:06:27.476Z"
   },
   {
    "duration": 87,
    "start_time": "2023-05-26T12:06:27.507Z"
   },
   {
    "duration": 61,
    "start_time": "2023-05-26T12:06:27.596Z"
   },
   {
    "duration": 21,
    "start_time": "2023-05-26T12:06:27.658Z"
   },
   {
    "duration": 139,
    "start_time": "2023-05-26T12:06:27.681Z"
   },
   {
    "duration": 18,
    "start_time": "2023-05-26T12:06:27.822Z"
   },
   {
    "duration": 30,
    "start_time": "2023-05-26T12:06:27.841Z"
   },
   {
    "duration": 36,
    "start_time": "2023-05-26T12:06:27.872Z"
   },
   {
    "duration": 9,
    "start_time": "2023-05-26T12:06:27.910Z"
   },
   {
    "duration": 66,
    "start_time": "2023-05-26T12:06:27.921Z"
   },
   {
    "duration": 140,
    "start_time": "2023-05-26T12:06:27.989Z"
   },
   {
    "duration": 5,
    "start_time": "2023-05-26T12:06:28.132Z"
   },
   {
    "duration": 25,
    "start_time": "2023-05-26T12:06:28.139Z"
   },
   {
    "duration": 17767,
    "start_time": "2023-05-26T12:06:28.166Z"
   },
   {
    "duration": 3381,
    "start_time": "2023-05-26T12:06:45.935Z"
   },
   {
    "duration": 7,
    "start_time": "2023-05-26T12:06:49.317Z"
   },
   {
    "duration": 468,
    "start_time": "2023-05-26T12:06:49.326Z"
   },
   {
    "duration": 1355,
    "start_time": "2023-05-26T12:08:29.222Z"
   },
   {
    "duration": 672,
    "start_time": "2023-05-26T12:08:30.578Z"
   },
   {
    "duration": 17,
    "start_time": "2023-05-26T12:08:31.251Z"
   },
   {
    "duration": 143,
    "start_time": "2023-05-26T12:08:31.270Z"
   },
   {
    "duration": 87,
    "start_time": "2023-05-26T12:08:31.416Z"
   },
   {
    "duration": 388,
    "start_time": "2023-05-26T12:08:31.504Z"
   },
   {
    "duration": 394,
    "start_time": "2023-05-26T12:08:31.894Z"
   },
   {
    "duration": 93,
    "start_time": "2023-05-26T12:08:32.289Z"
   },
   {
    "duration": 71,
    "start_time": "2023-05-26T12:08:32.384Z"
   },
   {
    "duration": 81,
    "start_time": "2023-05-26T12:08:32.457Z"
   },
   {
    "duration": 29,
    "start_time": "2023-05-26T12:08:32.540Z"
   },
   {
    "duration": 63,
    "start_time": "2023-05-26T12:08:32.571Z"
   },
   {
    "duration": 32,
    "start_time": "2023-05-26T12:08:32.636Z"
   },
   {
    "duration": 30,
    "start_time": "2023-05-26T12:08:32.669Z"
   },
   {
    "duration": 4,
    "start_time": "2023-05-26T12:08:32.701Z"
   },
   {
    "duration": 39,
    "start_time": "2023-05-26T12:08:32.707Z"
   },
   {
    "duration": 26,
    "start_time": "2023-05-26T12:08:32.748Z"
   },
   {
    "duration": 91,
    "start_time": "2023-05-26T12:08:32.775Z"
   },
   {
    "duration": 57,
    "start_time": "2023-05-26T12:08:32.868Z"
   },
   {
    "duration": 3,
    "start_time": "2023-05-26T12:08:32.926Z"
   },
   {
    "duration": 141,
    "start_time": "2023-05-26T12:08:32.931Z"
   },
   {
    "duration": 18,
    "start_time": "2023-05-26T12:08:33.074Z"
   },
   {
    "duration": 3,
    "start_time": "2023-05-26T12:08:33.094Z"
   },
   {
    "duration": 31,
    "start_time": "2023-05-26T12:08:33.099Z"
   },
   {
    "duration": 5,
    "start_time": "2023-05-26T12:08:33.132Z"
   },
   {
    "duration": 57,
    "start_time": "2023-05-26T12:08:33.139Z"
   },
   {
    "duration": 126,
    "start_time": "2023-05-26T12:08:33.197Z"
   },
   {
    "duration": 4,
    "start_time": "2023-05-26T12:08:33.326Z"
   },
   {
    "duration": 26,
    "start_time": "2023-05-26T12:08:33.332Z"
   },
   {
    "duration": 17710,
    "start_time": "2023-05-26T12:08:33.360Z"
   },
   {
    "duration": 7,
    "start_time": "2023-05-26T12:08:51.071Z"
   },
   {
    "duration": 406,
    "start_time": "2023-05-26T12:08:51.079Z"
   },
   {
    "duration": 1362,
    "start_time": "2023-05-26T12:09:21.813Z"
   },
   {
    "duration": 682,
    "start_time": "2023-05-26T12:09:23.176Z"
   },
   {
    "duration": 15,
    "start_time": "2023-05-26T12:09:23.861Z"
   },
   {
    "duration": 114,
    "start_time": "2023-05-26T12:09:23.878Z"
   },
   {
    "duration": 96,
    "start_time": "2023-05-26T12:09:23.993Z"
   },
   {
    "duration": 336,
    "start_time": "2023-05-26T12:09:24.090Z"
   },
   {
    "duration": 353,
    "start_time": "2023-05-26T12:09:24.427Z"
   },
   {
    "duration": 94,
    "start_time": "2023-05-26T12:09:24.782Z"
   },
   {
    "duration": 22,
    "start_time": "2023-05-26T12:09:24.878Z"
   },
   {
    "duration": 92,
    "start_time": "2023-05-26T12:09:24.902Z"
   },
   {
    "duration": 28,
    "start_time": "2023-05-26T12:09:24.996Z"
   },
   {
    "duration": 62,
    "start_time": "2023-05-26T12:09:25.025Z"
   },
   {
    "duration": 17,
    "start_time": "2023-05-26T12:09:25.089Z"
   },
   {
    "duration": 15,
    "start_time": "2023-05-26T12:09:25.108Z"
   },
   {
    "duration": 13,
    "start_time": "2023-05-26T12:09:25.124Z"
   },
   {
    "duration": 14,
    "start_time": "2023-05-26T12:09:25.138Z"
   },
   {
    "duration": 39,
    "start_time": "2023-05-26T12:09:25.153Z"
   },
   {
    "duration": 87,
    "start_time": "2023-05-26T12:09:25.193Z"
   },
   {
    "duration": 58,
    "start_time": "2023-05-26T12:09:25.282Z"
   },
   {
    "duration": 4,
    "start_time": "2023-05-26T12:09:25.341Z"
   },
   {
    "duration": 144,
    "start_time": "2023-05-26T12:09:25.347Z"
   },
   {
    "duration": 24,
    "start_time": "2023-05-26T12:09:25.492Z"
   },
   {
    "duration": 4,
    "start_time": "2023-05-26T12:09:25.517Z"
   },
   {
    "duration": 50,
    "start_time": "2023-05-26T12:09:25.522Z"
   },
   {
    "duration": 5,
    "start_time": "2023-05-26T12:09:25.573Z"
   },
   {
    "duration": 60,
    "start_time": "2023-05-26T12:09:25.580Z"
   },
   {
    "duration": 149,
    "start_time": "2023-05-26T12:09:25.641Z"
   },
   {
    "duration": 4,
    "start_time": "2023-05-26T12:09:25.794Z"
   },
   {
    "duration": 24,
    "start_time": "2023-05-26T12:09:25.800Z"
   },
   {
    "duration": 18279,
    "start_time": "2023-05-26T12:09:25.826Z"
   },
   {
    "duration": 21313,
    "start_time": "2023-05-26T12:09:44.106Z"
   },
   {
    "duration": 9,
    "start_time": "2023-05-26T12:10:05.420Z"
   },
   {
    "duration": 484,
    "start_time": "2023-05-26T12:10:05.431Z"
   },
   {
    "duration": 1517,
    "start_time": "2023-05-26T13:52:01.815Z"
   },
   {
    "duration": 819,
    "start_time": "2023-05-26T13:52:03.334Z"
   },
   {
    "duration": 24,
    "start_time": "2023-05-26T13:52:04.155Z"
   },
   {
    "duration": 126,
    "start_time": "2023-05-26T13:52:04.181Z"
   },
   {
    "duration": 113,
    "start_time": "2023-05-26T13:52:04.309Z"
   },
   {
    "duration": 484,
    "start_time": "2023-05-26T13:52:04.423Z"
   },
   {
    "duration": 470,
    "start_time": "2023-05-26T13:52:04.908Z"
   },
   {
    "duration": 107,
    "start_time": "2023-05-26T13:52:05.380Z"
   },
   {
    "duration": 21,
    "start_time": "2023-05-26T13:52:05.488Z"
   },
   {
    "duration": 80,
    "start_time": "2023-05-26T13:52:05.511Z"
   },
   {
    "duration": 35,
    "start_time": "2023-05-26T13:52:05.593Z"
   },
   {
    "duration": 74,
    "start_time": "2023-05-26T13:52:05.629Z"
   },
   {
    "duration": 12,
    "start_time": "2023-05-26T13:52:05.705Z"
   },
   {
    "duration": 18,
    "start_time": "2023-05-26T13:52:05.721Z"
   },
   {
    "duration": 19,
    "start_time": "2023-05-26T13:52:05.741Z"
   },
   {
    "duration": 13,
    "start_time": "2023-05-26T13:52:05.762Z"
   },
   {
    "duration": 29,
    "start_time": "2023-05-26T13:52:05.777Z"
   },
   {
    "duration": 111,
    "start_time": "2023-05-26T13:52:05.808Z"
   },
   {
    "duration": 65,
    "start_time": "2023-05-26T13:52:05.921Z"
   },
   {
    "duration": 34,
    "start_time": "2023-05-26T13:52:05.988Z"
   },
   {
    "duration": 188,
    "start_time": "2023-05-26T13:52:06.024Z"
   },
   {
    "duration": 20,
    "start_time": "2023-05-26T13:52:06.214Z"
   },
   {
    "duration": 4,
    "start_time": "2023-05-26T13:52:06.236Z"
   },
   {
    "duration": 36,
    "start_time": "2023-05-26T13:52:06.241Z"
   },
   {
    "duration": 6,
    "start_time": "2023-05-26T13:52:06.278Z"
   },
   {
    "duration": 47,
    "start_time": "2023-05-26T13:52:06.286Z"
   },
   {
    "duration": 182,
    "start_time": "2023-05-26T13:52:06.335Z"
   },
   {
    "duration": 5,
    "start_time": "2023-05-26T13:52:06.518Z"
   },
   {
    "duration": 11,
    "start_time": "2023-05-26T13:52:06.525Z"
   },
   {
    "duration": 20446,
    "start_time": "2023-05-26T13:52:06.538Z"
   },
   {
    "duration": 20572,
    "start_time": "2023-05-26T13:52:26.986Z"
   },
   {
    "duration": 13,
    "start_time": "2023-05-26T13:52:47.560Z"
   },
   {
    "duration": 536,
    "start_time": "2023-05-26T13:52:47.575Z"
   },
   {
    "duration": 1566,
    "start_time": "2023-05-26T15:15:51.346Z"
   },
   {
    "duration": 3317,
    "start_time": "2023-05-26T15:15:52.914Z"
   },
   {
    "duration": 18,
    "start_time": "2023-05-26T15:15:56.233Z"
   },
   {
    "duration": 133,
    "start_time": "2023-05-26T15:15:56.252Z"
   },
   {
    "duration": 108,
    "start_time": "2023-05-26T15:15:56.387Z"
   },
   {
    "duration": 489,
    "start_time": "2023-05-26T15:15:57.206Z"
   },
   {
    "duration": 427,
    "start_time": "2023-05-26T15:16:12.099Z"
   },
   {
    "duration": 85,
    "start_time": "2023-05-26T15:17:16.842Z"
   },
   {
    "duration": 20,
    "start_time": "2023-05-26T15:17:48.295Z"
   },
   {
    "duration": 46,
    "start_time": "2023-05-26T15:17:57.711Z"
   },
   {
    "duration": 2,
    "start_time": "2023-05-26T15:19:31.584Z"
   },
   {
    "duration": 220,
    "start_time": "2023-05-26T15:20:25.494Z"
   },
   {
    "duration": 4,
    "start_time": "2023-05-26T15:20:48.950Z"
   },
   {
    "duration": 762,
    "start_time": "2023-05-26T15:20:50.742Z"
   },
   {
    "duration": 14,
    "start_time": "2023-05-26T15:20:52.300Z"
   },
   {
    "duration": 114,
    "start_time": "2023-05-26T15:20:53.259Z"
   },
   {
    "duration": 85,
    "start_time": "2023-05-26T15:20:54.300Z"
   },
   {
    "duration": 452,
    "start_time": "2023-05-26T15:20:57.501Z"
   },
   {
    "duration": 414,
    "start_time": "2023-05-26T15:20:58.449Z"
   },
   {
    "duration": 107,
    "start_time": "2023-05-26T15:21:01.693Z"
   },
   {
    "duration": 20,
    "start_time": "2023-05-26T15:21:04.246Z"
   },
   {
    "duration": 2,
    "start_time": "2023-05-26T15:21:06.663Z"
   },
   {
    "duration": 97,
    "start_time": "2023-05-26T15:21:07.873Z"
   },
   {
    "duration": 1620,
    "start_time": "2023-05-26T15:23:09.654Z"
   },
   {
    "duration": 2741,
    "start_time": "2023-05-26T15:24:11.236Z"
   },
   {
    "duration": 3240,
    "start_time": "2023-05-26T15:27:15.364Z"
   },
   {
    "duration": 9953,
    "start_time": "2023-05-26T15:29:33.452Z"
   },
   {
    "duration": 132,
    "start_time": "2023-05-26T15:30:19.459Z"
   },
   {
    "duration": 7,
    "start_time": "2023-05-26T15:30:42.976Z"
   },
   {
    "duration": 717,
    "start_time": "2023-05-26T15:30:43.815Z"
   },
   {
    "duration": 12,
    "start_time": "2023-05-26T15:30:44.639Z"
   },
   {
    "duration": 111,
    "start_time": "2023-05-26T15:30:45.371Z"
   },
   {
    "duration": 81,
    "start_time": "2023-05-26T15:30:47.515Z"
   },
   {
    "duration": 412,
    "start_time": "2023-05-26T15:30:49.140Z"
   },
   {
    "duration": 436,
    "start_time": "2023-05-26T15:30:49.554Z"
   },
   {
    "duration": 98,
    "start_time": "2023-05-26T15:30:52.687Z"
   },
   {
    "duration": 18,
    "start_time": "2023-05-26T15:30:55.915Z"
   },
   {
    "duration": 2,
    "start_time": "2023-05-26T15:30:57.607Z"
   },
   {
    "duration": 11194,
    "start_time": "2023-05-26T15:30:57.975Z"
   },
   {
    "duration": 20,
    "start_time": "2023-05-26T15:31:10.787Z"
   },
   {
    "duration": 56,
    "start_time": "2023-05-26T15:31:11.790Z"
   },
   {
    "duration": 1436,
    "start_time": "2023-05-26T15:37:10.272Z"
   },
   {
    "duration": 64,
    "start_time": "2023-05-26T15:37:15.062Z"
   },
   {
    "duration": 6,
    "start_time": "2023-05-26T15:37:34.184Z"
   },
   {
    "duration": 820,
    "start_time": "2023-05-26T15:37:34.952Z"
   },
   {
    "duration": 25,
    "start_time": "2023-05-26T15:37:35.774Z"
   },
   {
    "duration": 141,
    "start_time": "2023-05-26T15:37:35.801Z"
   },
   {
    "duration": 96,
    "start_time": "2023-05-26T15:37:35.943Z"
   },
   {
    "duration": 415,
    "start_time": "2023-05-26T15:37:36.454Z"
   },
   {
    "duration": 404,
    "start_time": "2023-05-26T15:37:36.871Z"
   },
   {
    "duration": 112,
    "start_time": "2023-05-26T15:37:38.823Z"
   },
   {
    "duration": 18,
    "start_time": "2023-05-26T15:37:39.804Z"
   },
   {
    "duration": 2,
    "start_time": "2023-05-26T15:37:41.856Z"
   },
   {
    "duration": 2483,
    "start_time": "2023-05-26T15:37:43.003Z"
   },
   {
    "duration": 100,
    "start_time": "2023-05-26T15:37:48.791Z"
   },
   {
    "duration": 999,
    "start_time": "2023-05-26T15:39:54.916Z"
   },
   {
    "duration": 1074,
    "start_time": "2023-05-26T15:40:05.645Z"
   },
   {
    "duration": 9,
    "start_time": "2023-05-26T15:41:07.860Z"
   },
   {
    "duration": 3,
    "start_time": "2023-05-26T15:41:20.198Z"
   },
   {
    "duration": 987,
    "start_time": "2023-05-26T15:43:36.746Z"
   },
   {
    "duration": 12311,
    "start_time": "2023-05-26T15:45:13.850Z"
   },
   {
    "duration": 3,
    "start_time": "2023-05-26T15:45:29.332Z"
   },
   {
    "duration": 118,
    "start_time": "2023-05-26T15:45:36.565Z"
   },
   {
    "duration": 2141,
    "start_time": "2023-05-26T15:56:25.107Z"
   },
   {
    "duration": 1526,
    "start_time": "2023-05-26T15:57:17.991Z"
   },
   {
    "duration": 2136,
    "start_time": "2023-05-26T15:58:16.453Z"
   },
   {
    "duration": 22563,
    "start_time": "2023-05-26T15:59:09.445Z"
   },
   {
    "duration": 102,
    "start_time": "2023-05-26T15:59:35.942Z"
   },
   {
    "duration": 107,
    "start_time": "2023-05-26T16:12:27.109Z"
   },
   {
    "duration": 115,
    "start_time": "2023-05-26T16:12:35.582Z"
   },
   {
    "duration": 714,
    "start_time": "2023-05-26T16:14:28.549Z"
   },
   {
    "duration": 754,
    "start_time": "2023-05-26T16:14:42.250Z"
   },
   {
    "duration": 37,
    "start_time": "2023-05-26T16:15:08.156Z"
   },
   {
    "duration": 9,
    "start_time": "2023-05-26T16:15:17.670Z"
   },
   {
    "duration": 1785,
    "start_time": "2023-05-27T13:31:38.177Z"
   },
   {
    "duration": 3315,
    "start_time": "2023-05-27T13:31:39.965Z"
   },
   {
    "duration": 22,
    "start_time": "2023-05-27T13:31:43.283Z"
   },
   {
    "duration": 113,
    "start_time": "2023-05-27T13:31:43.307Z"
   },
   {
    "duration": 129,
    "start_time": "2023-05-27T13:31:46.694Z"
   },
   {
    "duration": 545,
    "start_time": "2023-05-27T13:31:49.036Z"
   },
   {
    "duration": 499,
    "start_time": "2023-05-27T13:31:50.234Z"
   },
   {
    "duration": 99,
    "start_time": "2023-05-27T13:31:53.604Z"
   },
   {
    "duration": 20,
    "start_time": "2023-05-27T13:31:56.291Z"
   },
   {
    "duration": 3,
    "start_time": "2023-05-27T13:31:57.939Z"
   },
   {
    "duration": 26512,
    "start_time": "2023-05-27T13:32:00.083Z"
   },
   {
    "duration": 112,
    "start_time": "2023-05-27T13:32:36.899Z"
   },
   {
    "duration": 164,
    "start_time": "2023-05-27T13:32:39.896Z"
   },
   {
    "duration": 107,
    "start_time": "2023-05-27T13:32:40.782Z"
   },
   {
    "duration": 9,
    "start_time": "2023-05-27T13:32:43.424Z"
   },
   {
    "duration": 454,
    "start_time": "2023-05-27T13:33:39.052Z"
   },
   {
    "duration": 702,
    "start_time": "2023-05-27T13:34:01.347Z"
   },
   {
    "duration": 262,
    "start_time": "2023-05-27T13:34:14.280Z"
   },
   {
    "duration": 23,
    "start_time": "2023-05-27T13:45:06.337Z"
   },
   {
    "duration": 45,
    "start_time": "2023-05-27T13:45:15.958Z"
   },
   {
    "duration": 8,
    "start_time": "2023-05-27T13:45:16.846Z"
   },
   {
    "duration": 97,
    "start_time": "2023-05-27T13:45:22.502Z"
   },
   {
    "duration": 59,
    "start_time": "2023-05-27T13:45:24.876Z"
   },
   {
    "duration": 4,
    "start_time": "2023-05-27T13:45:27.263Z"
   },
   {
    "duration": 133,
    "start_time": "2023-05-27T13:45:30.165Z"
   },
   {
    "duration": 22,
    "start_time": "2023-05-27T13:45:30.597Z"
   },
   {
    "duration": 4,
    "start_time": "2023-05-27T13:45:32.945Z"
   },
   {
    "duration": 24,
    "start_time": "2023-05-27T13:45:39.220Z"
   },
   {
    "duration": 6,
    "start_time": "2023-05-27T13:46:03.485Z"
   },
   {
    "duration": 55,
    "start_time": "2023-05-27T13:46:04.430Z"
   },
   {
    "duration": 147,
    "start_time": "2023-05-27T13:46:19.538Z"
   },
   {
    "duration": 6,
    "start_time": "2023-05-27T13:46:22.882Z"
   },
   {
    "duration": 10,
    "start_time": "2023-05-27T13:46:24.957Z"
   },
   {
    "duration": 16274,
    "start_time": "2023-05-27T13:46:28.229Z"
   },
   {
    "duration": 4,
    "start_time": "2023-05-27T13:51:01.003Z"
   },
   {
    "duration": 5,
    "start_time": "2023-05-27T13:53:57.066Z"
   },
   {
    "duration": 0,
    "start_time": "2023-05-27T13:58:38.008Z"
   },
   {
    "duration": 196887,
    "start_time": "2023-05-27T13:58:49.920Z"
   },
   {
    "duration": 302276,
    "start_time": "2023-05-27T14:02:25.222Z"
   },
   {
    "duration": 4,
    "start_time": "2023-05-27T17:10:17.739Z"
   },
   {
    "duration": 88912,
    "start_time": "2023-05-27T17:12:08.391Z"
   },
   {
    "duration": 308173,
    "start_time": "2023-05-27T17:13:45.532Z"
   },
   {
    "duration": 5,
    "start_time": "2023-05-27T17:21:30.197Z"
   },
   {
    "duration": 918,
    "start_time": "2023-05-27T17:21:30.905Z"
   },
   {
    "duration": 16,
    "start_time": "2023-05-27T17:21:31.825Z"
   },
   {
    "duration": 155,
    "start_time": "2023-05-27T17:21:31.842Z"
   },
   {
    "duration": 108,
    "start_time": "2023-05-27T17:21:31.999Z"
   },
   {
    "duration": 508,
    "start_time": "2023-05-27T17:21:32.109Z"
   },
   {
    "duration": 487,
    "start_time": "2023-05-27T17:21:32.620Z"
   },
   {
    "duration": 127,
    "start_time": "2023-05-27T17:21:33.109Z"
   },
   {
    "duration": 25,
    "start_time": "2023-05-27T17:21:33.237Z"
   },
   {
    "duration": 2,
    "start_time": "2023-05-27T17:21:33.334Z"
   },
   {
    "duration": 28021,
    "start_time": "2023-05-27T17:21:33.494Z"
   },
   {
    "duration": 17,
    "start_time": "2023-05-27T17:22:01.517Z"
   },
   {
    "duration": 131,
    "start_time": "2023-05-27T17:22:01.536Z"
   },
   {
    "duration": 276,
    "start_time": "2023-05-27T17:22:01.673Z"
   },
   {
    "duration": 90,
    "start_time": "2023-05-27T17:22:01.950Z"
   },
   {
    "duration": 80,
    "start_time": "2023-05-27T17:22:02.042Z"
   },
   {
    "duration": 63,
    "start_time": "2023-05-27T17:22:02.124Z"
   },
   {
    "duration": 8,
    "start_time": "2023-05-27T17:22:02.191Z"
   },
   {
    "duration": 71,
    "start_time": "2023-05-27T17:22:02.200Z"
   },
   {
    "duration": 29,
    "start_time": "2023-05-27T17:22:02.281Z"
   },
   {
    "duration": 10,
    "start_time": "2023-05-27T17:22:02.312Z"
   },
   {
    "duration": 139,
    "start_time": "2023-05-27T17:22:02.324Z"
   },
   {
    "duration": 65,
    "start_time": "2023-05-27T17:22:02.472Z"
   },
   {
    "duration": 4,
    "start_time": "2023-05-27T17:22:02.539Z"
   },
   {
    "duration": 150,
    "start_time": "2023-05-27T17:22:02.544Z"
   },
   {
    "duration": 24,
    "start_time": "2023-05-27T17:22:02.696Z"
   },
   {
    "duration": 9,
    "start_time": "2023-05-27T17:22:02.722Z"
   },
   {
    "duration": 41,
    "start_time": "2023-05-27T17:22:02.733Z"
   },
   {
    "duration": 13,
    "start_time": "2023-05-27T17:22:02.781Z"
   },
   {
    "duration": 54,
    "start_time": "2023-05-27T17:22:02.800Z"
   },
   {
    "duration": 164,
    "start_time": "2023-05-27T17:22:04.419Z"
   },
   {
    "duration": 5,
    "start_time": "2023-05-27T17:22:08.111Z"
   },
   {
    "duration": 172512,
    "start_time": "2023-05-27T17:22:29.716Z"
   },
   {
    "duration": 24,
    "start_time": "2023-05-27T17:27:36.590Z"
   },
   {
    "duration": 17,
    "start_time": "2023-05-27T17:30:45.213Z"
   },
   {
    "duration": 4,
    "start_time": "2023-05-27T17:30:59.491Z"
   },
   {
    "duration": 10,
    "start_time": "2023-05-27T17:31:02.935Z"
   },
   {
    "duration": 26,
    "start_time": "2023-05-27T17:31:17.851Z"
   },
   {
    "duration": 12,
    "start_time": "2023-05-27T17:31:23.000Z"
   },
   {
    "duration": 924,
    "start_time": "2023-05-27T17:32:31.946Z"
   },
   {
    "duration": 18,
    "start_time": "2023-05-27T17:33:48.099Z"
   },
   {
    "duration": 1724,
    "start_time": "2023-05-27T17:34:47.726Z"
   },
   {
    "duration": 1247,
    "start_time": "2023-05-27T17:34:50.442Z"
   },
   {
    "duration": 69,
    "start_time": "2023-05-27T17:46:12.451Z"
   },
   {
    "duration": 11,
    "start_time": "2023-05-27T17:47:41.909Z"
   },
   {
    "duration": 4,
    "start_time": "2023-05-27T17:47:57.510Z"
   },
   {
    "duration": 1479,
    "start_time": "2023-05-27T17:48:01.556Z"
   },
   {
    "duration": 11137,
    "start_time": "2023-05-27T17:48:44.722Z"
   },
   {
    "duration": 301,
    "start_time": "2023-05-27T17:50:59.237Z"
   },
   {
    "duration": 261,
    "start_time": "2023-05-27T17:51:30.426Z"
   },
   {
    "duration": 5,
    "start_time": "2023-05-27T17:54:11.586Z"
   },
   {
    "duration": 233249,
    "start_time": "2023-05-27T17:54:49.746Z"
   },
   {
    "duration": 164008,
    "start_time": "2023-05-27T17:59:29.187Z"
   },
   {
    "duration": 12,
    "start_time": "2023-05-27T18:03:10.088Z"
   },
   {
    "duration": 967310,
    "start_time": "2023-05-27T18:04:53.790Z"
   },
   {
    "duration": 0,
    "start_time": "2023-05-27T18:21:01.111Z"
   },
   {
    "duration": 0,
    "start_time": "2023-05-27T18:21:01.118Z"
   },
   {
    "duration": 0,
    "start_time": "2023-05-27T18:21:01.120Z"
   },
   {
    "duration": 1722,
    "start_time": "2023-05-28T08:21:34.718Z"
   },
   {
    "duration": 3319,
    "start_time": "2023-05-28T08:21:37.398Z"
   },
   {
    "duration": 30,
    "start_time": "2023-05-28T08:21:41.808Z"
   },
   {
    "duration": 151,
    "start_time": "2023-05-28T08:21:42.310Z"
   },
   {
    "duration": 156,
    "start_time": "2023-05-28T08:21:42.475Z"
   },
   {
    "duration": 521,
    "start_time": "2023-05-28T08:21:42.632Z"
   },
   {
    "duration": 508,
    "start_time": "2023-05-28T08:21:43.155Z"
   },
   {
    "duration": 168,
    "start_time": "2023-05-28T08:21:43.665Z"
   },
   {
    "duration": 44,
    "start_time": "2023-05-28T08:21:43.835Z"
   },
   {
    "duration": 3,
    "start_time": "2023-05-28T08:21:45.518Z"
   },
   {
    "duration": 26626,
    "start_time": "2023-05-28T08:21:46.108Z"
   },
   {
    "duration": 31,
    "start_time": "2023-05-28T08:22:12.736Z"
   },
   {
    "duration": 153,
    "start_time": "2023-05-28T08:22:17.341Z"
   },
   {
    "duration": 179,
    "start_time": "2023-05-28T08:22:19.999Z"
   },
   {
    "duration": 84,
    "start_time": "2023-05-28T08:22:20.197Z"
   },
   {
    "duration": 12,
    "start_time": "2023-05-28T08:22:20.398Z"
   },
   {
    "duration": 10,
    "start_time": "2023-05-28T08:22:23.006Z"
   },
   {
    "duration": 4,
    "start_time": "2023-05-28T08:22:23.199Z"
   },
   {
    "duration": 11,
    "start_time": "2023-05-28T08:22:26.708Z"
   },
   {
    "duration": 43,
    "start_time": "2023-05-28T08:22:28.958Z"
   },
   {
    "duration": 14,
    "start_time": "2023-05-28T08:22:29.143Z"
   },
   {
    "duration": 119,
    "start_time": "2023-05-28T08:22:31.408Z"
   },
   {
    "duration": 116,
    "start_time": "2023-05-28T08:22:31.794Z"
   },
   {
    "duration": 4,
    "start_time": "2023-05-28T08:22:34.416Z"
   },
   {
    "duration": 156,
    "start_time": "2023-05-28T08:22:34.751Z"
   },
   {
    "duration": 21,
    "start_time": "2023-05-28T08:22:36.398Z"
   },
   {
    "duration": 4,
    "start_time": "2023-05-28T08:22:36.503Z"
   },
   {
    "duration": 21,
    "start_time": "2023-05-28T08:22:38.625Z"
   },
   {
    "duration": 6,
    "start_time": "2023-05-28T08:22:41.803Z"
   },
   {
    "duration": 60,
    "start_time": "2023-05-28T08:22:42.119Z"
   },
   {
    "duration": 197,
    "start_time": "2023-05-28T08:22:44.951Z"
   },
   {
    "duration": 5,
    "start_time": "2023-05-28T08:22:47.698Z"
   },
   {
    "duration": 1342,
    "start_time": "2023-05-28T08:22:49.246Z"
   },
   {
    "duration": 1194,
    "start_time": "2023-05-28T08:22:51.902Z"
   },
   {
    "duration": 183,
    "start_time": "2023-05-28T08:22:57.607Z"
   },
   {
    "duration": 204,
    "start_time": "2023-05-28T08:26:04.200Z"
   },
   {
    "duration": 48,
    "start_time": "2023-05-28T08:29:47.043Z"
   },
   {
    "duration": 139,
    "start_time": "2023-05-28T08:29:50.349Z"
   },
   {
    "duration": 5,
    "start_time": "2023-05-28T08:29:52.060Z"
   },
   {
    "duration": 1206,
    "start_time": "2023-05-28T08:29:52.950Z"
   },
   {
    "duration": 1135,
    "start_time": "2023-05-28T08:29:55.345Z"
   },
   {
    "duration": 116,
    "start_time": "2023-05-28T08:29:59.261Z"
   },
   {
    "duration": 15,
    "start_time": "2023-05-28T08:30:13.180Z"
   },
   {
    "duration": 228021,
    "start_time": "2023-05-28T08:31:47.678Z"
   },
   {
    "duration": 374023,
    "start_time": "2023-05-28T08:36:18.289Z"
   },
   {
    "duration": 13,
    "start_time": "2023-05-28T08:42:55.897Z"
   },
   {
    "duration": 12,
    "start_time": "2023-05-28T08:43:09.898Z"
   },
   {
    "duration": 10801,
    "start_time": "2023-05-28T08:43:53.702Z"
   },
   {
    "duration": 109,
    "start_time": "2023-05-28T08:44:31.496Z"
   },
   {
    "duration": 104,
    "start_time": "2023-05-28T08:45:15.644Z"
   },
   {
    "duration": 131,
    "start_time": "2023-05-28T08:45:26.414Z"
   },
   {
    "duration": 81,
    "start_time": "2023-05-28T08:46:08.109Z"
   },
   {
    "duration": 66170,
    "start_time": "2023-05-28T08:47:10.641Z"
   },
   {
    "duration": 1118988,
    "start_time": "2023-05-28T08:48:31.740Z"
   },
   {
    "duration": 4589,
    "start_time": "2023-05-28T09:08:24.111Z"
   },
   {
    "duration": 48,
    "start_time": "2023-05-28T09:08:45.323Z"
   },
   {
    "duration": 960503,
    "start_time": "2023-05-28T09:09:40.612Z"
   },
   {
    "duration": 857800,
    "start_time": "2023-05-28T09:25:49.721Z"
   },
   {
    "duration": 177168,
    "start_time": "2023-05-28T09:43:20.439Z"
   },
   {
    "duration": 9867,
    "start_time": "2023-05-28T09:49:23.022Z"
   },
   {
    "duration": 10896,
    "start_time": "2023-05-28T09:49:38.375Z"
   },
   {
    "duration": 21,
    "start_time": "2023-05-28T09:52:33.228Z"
   },
   {
    "duration": 292771,
    "start_time": "2023-05-28T09:52:42.823Z"
   },
   {
    "duration": 961671,
    "start_time": "2023-05-28T09:57:38.292Z"
   },
   {
    "duration": 16799,
    "start_time": "2023-05-28T10:16:45.613Z"
   },
   {
    "duration": 18273,
    "start_time": "2023-05-28T10:17:10.540Z"
   },
   {
    "duration": 307921,
    "start_time": "2023-05-28T10:20:31.771Z"
   },
   {
    "duration": 229642,
    "start_time": "2023-05-28T10:27:11.931Z"
   },
   {
    "duration": 24720,
    "start_time": "2023-05-28T10:32:48.923Z"
   },
   {
    "duration": 191170,
    "start_time": "2023-05-28T10:33:47.844Z"
   },
   {
    "duration": 27313,
    "start_time": "2023-05-28T10:39:03.705Z"
   },
   {
    "duration": 17599,
    "start_time": "2023-05-28T10:39:39.859Z"
   },
   {
    "duration": 95673,
    "start_time": "2023-05-28T10:40:29.005Z"
   },
   {
    "duration": 5753,
    "start_time": "2023-05-28T10:45:14.811Z"
   },
   {
    "duration": 104,
    "start_time": "2023-05-28T10:48:19.414Z"
   },
   {
    "duration": 113666,
    "start_time": "2023-05-28T10:50:43.553Z"
   },
   {
    "duration": 32,
    "start_time": "2023-05-28T10:52:49.226Z"
   },
   {
    "duration": 41,
    "start_time": "2023-05-28T10:53:30.598Z"
   },
   {
    "duration": 20,
    "start_time": "2023-05-28T10:55:38.755Z"
   },
   {
    "duration": 0,
    "start_time": "2023-05-28T11:07:03.310Z"
   },
   {
    "duration": 1726,
    "start_time": "2023-05-28T11:07:17.214Z"
   },
   {
    "duration": 1106,
    "start_time": "2023-05-28T11:07:18.942Z"
   },
   {
    "duration": 29,
    "start_time": "2023-05-28T11:07:20.051Z"
   },
   {
    "duration": 218,
    "start_time": "2023-05-28T11:07:20.084Z"
   },
   {
    "duration": 145,
    "start_time": "2023-05-28T11:07:20.307Z"
   },
   {
    "duration": 610,
    "start_time": "2023-05-28T11:07:20.454Z"
   },
   {
    "duration": 586,
    "start_time": "2023-05-28T11:07:21.066Z"
   },
   {
    "duration": 178,
    "start_time": "2023-05-28T11:07:21.654Z"
   },
   {
    "duration": 46,
    "start_time": "2023-05-28T11:07:21.834Z"
   },
   {
    "duration": 5,
    "start_time": "2023-05-28T11:07:21.885Z"
   },
   {
    "duration": 30010,
    "start_time": "2023-05-28T11:07:21.892Z"
   },
   {
    "duration": 22,
    "start_time": "2023-05-28T11:07:51.904Z"
   },
   {
    "duration": 142,
    "start_time": "2023-05-28T11:07:51.928Z"
   },
   {
    "duration": 227,
    "start_time": "2023-05-28T11:07:52.078Z"
   },
   {
    "duration": 126,
    "start_time": "2023-05-28T11:07:52.308Z"
   },
   {
    "duration": 11,
    "start_time": "2023-05-28T11:07:52.436Z"
   },
   {
    "duration": 27,
    "start_time": "2023-05-28T11:07:52.450Z"
   },
   {
    "duration": 7,
    "start_time": "2023-05-28T11:07:52.479Z"
   },
   {
    "duration": 14,
    "start_time": "2023-05-28T11:07:52.497Z"
   },
   {
    "duration": 29,
    "start_time": "2023-05-28T11:07:52.514Z"
   },
   {
    "duration": 8,
    "start_time": "2023-05-28T11:07:52.545Z"
   },
   {
    "duration": 127,
    "start_time": "2023-05-28T11:07:52.555Z"
   },
   {
    "duration": 95,
    "start_time": "2023-05-28T11:07:52.685Z"
   },
   {
    "duration": 6,
    "start_time": "2023-05-28T11:07:52.783Z"
   },
   {
    "duration": 155,
    "start_time": "2023-05-28T11:07:52.795Z"
   },
   {
    "duration": 46,
    "start_time": "2023-05-28T11:07:52.952Z"
   },
   {
    "duration": 6,
    "start_time": "2023-05-28T11:07:53.000Z"
   },
   {
    "duration": 24,
    "start_time": "2023-05-28T11:07:53.008Z"
   },
   {
    "duration": 6,
    "start_time": "2023-05-28T11:07:53.034Z"
   },
   {
    "duration": 80,
    "start_time": "2023-05-28T11:07:53.042Z"
   },
   {
    "duration": 135,
    "start_time": "2023-05-28T11:07:53.124Z"
   },
   {
    "duration": 6,
    "start_time": "2023-05-28T11:07:53.261Z"
   },
   {
    "duration": 1525,
    "start_time": "2023-05-28T11:07:53.274Z"
   },
   {
    "duration": 1076,
    "start_time": "2023-05-28T11:07:54.806Z"
   },
   {
    "duration": 204,
    "start_time": "2023-05-28T11:07:55.884Z"
   },
   {
    "duration": 25458,
    "start_time": "2023-05-28T11:07:56.091Z"
   },
   {
    "duration": 0,
    "start_time": "2023-05-28T11:08:21.552Z"
   },
   {
    "duration": 0,
    "start_time": "2023-05-28T11:08:21.553Z"
   },
   {
    "duration": 0,
    "start_time": "2023-05-28T11:08:21.554Z"
   },
   {
    "duration": 0,
    "start_time": "2023-05-28T11:08:21.556Z"
   },
   {
    "duration": 0,
    "start_time": "2023-05-28T11:08:21.557Z"
   },
   {
    "duration": 0,
    "start_time": "2023-05-28T11:08:21.559Z"
   },
   {
    "duration": 0,
    "start_time": "2023-05-28T11:08:21.560Z"
   },
   {
    "duration": 20906,
    "start_time": "2023-05-28T11:08:46.353Z"
   },
   {
    "duration": 197318,
    "start_time": "2023-05-28T11:09:10.925Z"
   },
   {
    "duration": 1516,
    "start_time": "2023-05-28T11:14:19.010Z"
   },
   {
    "duration": 936,
    "start_time": "2023-05-28T11:14:20.528Z"
   },
   {
    "duration": 32,
    "start_time": "2023-05-28T11:14:21.465Z"
   },
   {
    "duration": 151,
    "start_time": "2023-05-28T11:14:21.499Z"
   },
   {
    "duration": 117,
    "start_time": "2023-05-28T11:14:21.652Z"
   },
   {
    "duration": 546,
    "start_time": "2023-05-28T11:14:21.771Z"
   },
   {
    "duration": 510,
    "start_time": "2023-05-28T11:14:22.320Z"
   },
   {
    "duration": 161,
    "start_time": "2023-05-28T11:14:22.832Z"
   },
   {
    "duration": 22,
    "start_time": "2023-05-28T11:14:22.995Z"
   },
   {
    "duration": 2,
    "start_time": "2023-05-28T11:14:23.019Z"
   },
   {
    "duration": 27656,
    "start_time": "2023-05-28T11:14:23.023Z"
   },
   {
    "duration": 19,
    "start_time": "2023-05-28T11:14:50.680Z"
   },
   {
    "duration": 98,
    "start_time": "2023-05-28T11:14:50.701Z"
   },
   {
    "duration": 146,
    "start_time": "2023-05-28T11:14:50.803Z"
   },
   {
    "duration": 101,
    "start_time": "2023-05-28T11:14:50.951Z"
   },
   {
    "duration": 22,
    "start_time": "2023-05-28T11:14:51.054Z"
   },
   {
    "duration": 13,
    "start_time": "2023-05-28T11:14:51.082Z"
   },
   {
    "duration": 3,
    "start_time": "2023-05-28T11:14:51.097Z"
   },
   {
    "duration": 12,
    "start_time": "2023-05-28T11:14:51.101Z"
   },
   {
    "duration": 62,
    "start_time": "2023-05-28T11:14:51.116Z"
   },
   {
    "duration": 16,
    "start_time": "2023-05-28T11:14:51.181Z"
   },
   {
    "duration": 116,
    "start_time": "2023-05-28T11:14:51.199Z"
   },
   {
    "duration": 84,
    "start_time": "2023-05-28T11:14:51.317Z"
   },
   {
    "duration": 4,
    "start_time": "2023-05-28T11:14:51.403Z"
   },
   {
    "duration": 192,
    "start_time": "2023-05-28T11:14:51.409Z"
   },
   {
    "duration": 22,
    "start_time": "2023-05-28T11:14:51.604Z"
   },
   {
    "duration": 5,
    "start_time": "2023-05-28T11:14:51.628Z"
   },
   {
    "duration": 61,
    "start_time": "2023-05-28T11:14:51.635Z"
   },
   {
    "duration": 8,
    "start_time": "2023-05-28T11:14:51.700Z"
   },
   {
    "duration": 69,
    "start_time": "2023-05-28T11:14:51.710Z"
   },
   {
    "duration": 145,
    "start_time": "2023-05-28T11:14:51.783Z"
   },
   {
    "duration": 5,
    "start_time": "2023-05-28T11:14:51.930Z"
   },
   {
    "duration": 1280,
    "start_time": "2023-05-28T11:14:51.936Z"
   },
   {
    "duration": 965,
    "start_time": "2023-05-28T11:14:53.217Z"
   },
   {
    "duration": 212,
    "start_time": "2023-05-28T11:14:54.184Z"
   },
   {
    "duration": 96412,
    "start_time": "2023-05-28T11:14:54.397Z"
   },
   {
    "duration": 10254,
    "start_time": "2023-05-28T11:16:30.812Z"
   },
   {
    "duration": 193,
    "start_time": "2023-05-28T11:16:41.068Z"
   },
   {
    "duration": 0,
    "start_time": "2023-05-28T11:16:41.264Z"
   },
   {
    "duration": 0,
    "start_time": "2023-05-28T11:16:41.266Z"
   },
   {
    "duration": 0,
    "start_time": "2023-05-28T11:16:41.275Z"
   },
   {
    "duration": 12,
    "start_time": "2023-05-28T11:16:59.347Z"
   },
   {
    "duration": 20,
    "start_time": "2023-05-28T11:17:16.394Z"
   },
   {
    "duration": 7520,
    "start_time": "2023-05-28T11:17:48.450Z"
   },
   {
    "duration": 66943,
    "start_time": "2023-05-28T11:19:37.194Z"
   },
   {
    "duration": 215,
    "start_time": "2023-05-28T11:21:22.649Z"
   },
   {
    "duration": 239613,
    "start_time": "2023-05-28T11:22:16.208Z"
   },
   {
    "duration": 10463,
    "start_time": "2023-05-28T11:26:51.301Z"
   },
   {
    "duration": 93856,
    "start_time": "2023-05-28T11:27:24.361Z"
   },
   {
    "duration": 9,
    "start_time": "2023-05-28T11:29:36.239Z"
   },
   {
    "duration": 610,
    "start_time": "2023-05-28T11:29:42.117Z"
   },
   {
    "duration": 10275,
    "start_time": "2023-05-28T11:30:45.326Z"
   },
   {
    "duration": 10650,
    "start_time": "2023-05-28T11:31:27.555Z"
   },
   {
    "duration": 10553,
    "start_time": "2023-05-28T11:32:02.303Z"
   },
   {
    "duration": 10482,
    "start_time": "2023-05-28T11:32:47.758Z"
   },
   {
    "duration": 135,
    "start_time": "2023-05-28T11:33:56.607Z"
   },
   {
    "duration": 9338,
    "start_time": "2023-05-28T11:34:00.955Z"
   },
   {
    "duration": 1492,
    "start_time": "2023-05-28T11:36:02.909Z"
   },
   {
    "duration": 933,
    "start_time": "2023-05-28T11:36:04.404Z"
   },
   {
    "duration": 24,
    "start_time": "2023-05-28T11:36:05.338Z"
   },
   {
    "duration": 174,
    "start_time": "2023-05-28T11:36:05.364Z"
   },
   {
    "duration": 110,
    "start_time": "2023-05-28T11:36:05.540Z"
   },
   {
    "duration": 543,
    "start_time": "2023-05-28T11:36:05.652Z"
   },
   {
    "duration": 488,
    "start_time": "2023-05-28T11:36:06.196Z"
   },
   {
    "duration": 143,
    "start_time": "2023-05-28T11:36:06.685Z"
   },
   {
    "duration": 40,
    "start_time": "2023-05-28T11:36:06.830Z"
   },
   {
    "duration": 9,
    "start_time": "2023-05-28T11:36:06.872Z"
   },
   {
    "duration": 27058,
    "start_time": "2023-05-28T11:36:06.884Z"
   },
   {
    "duration": 20,
    "start_time": "2023-05-28T11:36:33.945Z"
   },
   {
    "duration": 140,
    "start_time": "2023-05-28T11:36:33.978Z"
   },
   {
    "duration": 197,
    "start_time": "2023-05-28T11:36:34.123Z"
   },
   {
    "duration": 126,
    "start_time": "2023-05-28T11:36:34.324Z"
   },
   {
    "duration": 24,
    "start_time": "2023-05-28T11:36:34.452Z"
   },
   {
    "duration": 17,
    "start_time": "2023-05-28T11:36:34.479Z"
   },
   {
    "duration": 3,
    "start_time": "2023-05-28T11:36:34.498Z"
   },
   {
    "duration": 15,
    "start_time": "2023-05-28T11:36:34.503Z"
   },
   {
    "duration": 34,
    "start_time": "2023-05-28T11:36:34.520Z"
   },
   {
    "duration": 35,
    "start_time": "2023-05-28T11:36:34.556Z"
   },
   {
    "duration": 151,
    "start_time": "2023-05-28T11:36:34.593Z"
   },
   {
    "duration": 91,
    "start_time": "2023-05-28T11:36:34.746Z"
   },
   {
    "duration": 6,
    "start_time": "2023-05-28T11:36:34.840Z"
   },
   {
    "duration": 179,
    "start_time": "2023-05-28T11:36:34.848Z"
   },
   {
    "duration": 22,
    "start_time": "2023-05-28T11:36:35.029Z"
   },
   {
    "duration": 4,
    "start_time": "2023-05-28T11:36:35.053Z"
   },
   {
    "duration": 29,
    "start_time": "2023-05-28T11:36:35.075Z"
   },
   {
    "duration": 7,
    "start_time": "2023-05-28T11:36:35.108Z"
   },
   {
    "duration": 98,
    "start_time": "2023-05-28T11:36:35.117Z"
   },
   {
    "duration": 168,
    "start_time": "2023-05-28T11:36:35.218Z"
   },
   {
    "duration": 11,
    "start_time": "2023-05-28T11:36:35.390Z"
   },
   {
    "duration": 1307,
    "start_time": "2023-05-28T11:36:35.403Z"
   },
   {
    "duration": 976,
    "start_time": "2023-05-28T11:36:36.713Z"
   },
   {
    "duration": 303,
    "start_time": "2023-05-28T11:36:37.691Z"
   },
   {
    "duration": 73351,
    "start_time": "2023-05-28T11:36:37.997Z"
   },
   {
    "duration": 9148,
    "start_time": "2023-05-28T11:37:51.350Z"
   },
   {
    "duration": 168799,
    "start_time": "2023-05-28T11:38:00.500Z"
   },
   {
    "duration": 8,
    "start_time": "2023-05-28T11:40:49.301Z"
   },
   {
    "duration": 571,
    "start_time": "2023-05-28T11:40:49.311Z"
   },
   {
    "duration": 9296,
    "start_time": "2023-05-28T11:40:49.886Z"
   },
   {
    "duration": 132042,
    "start_time": "2023-05-28T11:42:48.149Z"
   },
   {
    "duration": 1535,
    "start_time": "2023-05-28T12:01:40.162Z"
   },
   {
    "duration": 1108,
    "start_time": "2023-05-28T12:01:41.702Z"
   },
   {
    "duration": 19,
    "start_time": "2023-05-28T12:01:42.812Z"
   },
   {
    "duration": 171,
    "start_time": "2023-05-28T12:01:42.834Z"
   },
   {
    "duration": 135,
    "start_time": "2023-05-28T12:01:43.007Z"
   },
   {
    "duration": 556,
    "start_time": "2023-05-28T12:01:43.144Z"
   },
   {
    "duration": 747,
    "start_time": "2023-05-28T12:01:43.703Z"
   },
   {
    "duration": 190,
    "start_time": "2023-05-28T12:01:44.453Z"
   },
   {
    "duration": 47,
    "start_time": "2023-05-28T12:01:44.645Z"
   },
   {
    "duration": 4,
    "start_time": "2023-05-28T12:01:44.696Z"
   },
   {
    "duration": 28532,
    "start_time": "2023-05-28T12:01:44.702Z"
   },
   {
    "duration": 16,
    "start_time": "2023-05-28T12:02:13.236Z"
   },
   {
    "duration": 143,
    "start_time": "2023-05-28T12:02:13.254Z"
   },
   {
    "duration": 180,
    "start_time": "2023-05-28T12:02:13.399Z"
   },
   {
    "duration": 108,
    "start_time": "2023-05-28T12:02:13.582Z"
   },
   {
    "duration": 14,
    "start_time": "2023-05-28T12:02:13.694Z"
   },
   {
    "duration": 12,
    "start_time": "2023-05-28T12:02:13.710Z"
   },
   {
    "duration": 4,
    "start_time": "2023-05-28T12:02:13.724Z"
   },
   {
    "duration": 24,
    "start_time": "2023-05-28T12:02:13.730Z"
   },
   {
    "duration": 46,
    "start_time": "2023-05-28T12:02:13.756Z"
   },
   {
    "duration": 10,
    "start_time": "2023-05-28T12:02:13.805Z"
   },
   {
    "duration": 129,
    "start_time": "2023-05-28T12:02:13.817Z"
   },
   {
    "duration": 115,
    "start_time": "2023-05-28T12:02:13.948Z"
   },
   {
    "duration": 11,
    "start_time": "2023-05-28T12:02:14.066Z"
   },
   {
    "duration": 219,
    "start_time": "2023-05-28T12:02:14.079Z"
   },
   {
    "duration": 30,
    "start_time": "2023-05-28T12:02:14.302Z"
   },
   {
    "duration": 6,
    "start_time": "2023-05-28T12:02:14.334Z"
   },
   {
    "duration": 42,
    "start_time": "2023-05-28T12:02:14.344Z"
   },
   {
    "duration": 12,
    "start_time": "2023-05-28T12:02:14.389Z"
   },
   {
    "duration": 88,
    "start_time": "2023-05-28T12:02:14.405Z"
   },
   {
    "duration": 213,
    "start_time": "2023-05-28T12:02:14.495Z"
   },
   {
    "duration": 5,
    "start_time": "2023-05-28T12:02:14.711Z"
   },
   {
    "duration": 1382,
    "start_time": "2023-05-28T12:02:14.718Z"
   },
   {
    "duration": 1196,
    "start_time": "2023-05-28T12:02:16.102Z"
   },
   {
    "duration": 217,
    "start_time": "2023-05-28T12:02:17.300Z"
   },
   {
    "duration": 109019,
    "start_time": "2023-05-28T12:02:17.584Z"
   },
   {
    "duration": 10508,
    "start_time": "2023-05-28T12:04:06.605Z"
   },
   {
    "duration": 185000,
    "start_time": "2023-05-28T12:04:17.114Z"
   },
   {
    "duration": 79,
    "start_time": "2023-05-28T12:07:22.116Z"
   },
   {
    "duration": 549,
    "start_time": "2023-05-28T12:07:22.198Z"
   },
   {
    "duration": 10352,
    "start_time": "2023-05-28T12:07:22.749Z"
   },
   {
    "duration": 44,
    "start_time": "2023-05-28T12:09:17.292Z"
   },
   {
    "duration": 49,
    "start_time": "2023-05-28T12:33:10.221Z"
   },
   {
    "duration": 221,
    "start_time": "2023-05-28T12:35:31.320Z"
   },
   {
    "duration": 167,
    "start_time": "2023-05-28T12:36:09.566Z"
   },
   {
    "duration": 4277,
    "start_time": "2023-05-28T12:36:59.543Z"
   },
   {
    "duration": 11983,
    "start_time": "2023-05-28T12:37:12.101Z"
   },
   {
    "duration": 10818,
    "start_time": "2023-05-28T12:44:22.404Z"
   },
   {
    "duration": 48,
    "start_time": "2023-05-28T12:47:26.558Z"
   },
   {
    "duration": 2624,
    "start_time": "2023-05-28T13:52:46.359Z"
   },
   {
    "duration": 891,
    "start_time": "2023-05-28T13:52:48.986Z"
   },
   {
    "duration": 27,
    "start_time": "2023-05-28T13:52:49.879Z"
   },
   {
    "duration": 166,
    "start_time": "2023-05-28T13:52:49.908Z"
   },
   {
    "duration": 108,
    "start_time": "2023-05-28T13:52:50.076Z"
   },
   {
    "duration": 509,
    "start_time": "2023-05-28T13:52:50.186Z"
   },
   {
    "duration": 510,
    "start_time": "2023-05-28T13:52:50.696Z"
   },
   {
    "duration": 154,
    "start_time": "2023-05-28T13:52:51.208Z"
   },
   {
    "duration": 45,
    "start_time": "2023-05-28T13:52:51.364Z"
   },
   {
    "duration": 27961,
    "start_time": "2023-05-28T13:52:51.412Z"
   },
   {
    "duration": 24,
    "start_time": "2023-05-28T13:53:19.377Z"
   },
   {
    "duration": 101,
    "start_time": "2023-05-28T13:53:19.405Z"
   },
   {
    "duration": 143,
    "start_time": "2023-05-28T13:53:19.508Z"
   },
   {
    "duration": 106,
    "start_time": "2023-05-28T13:53:19.654Z"
   },
   {
    "duration": 17,
    "start_time": "2023-05-28T13:53:19.762Z"
   },
   {
    "duration": 10,
    "start_time": "2023-05-28T13:53:19.781Z"
   },
   {
    "duration": 4,
    "start_time": "2023-05-28T13:53:19.794Z"
   },
   {
    "duration": 14,
    "start_time": "2023-05-28T13:53:19.800Z"
   },
   {
    "duration": 77,
    "start_time": "2023-05-28T13:53:19.815Z"
   },
   {
    "duration": 11,
    "start_time": "2023-05-28T13:53:19.894Z"
   },
   {
    "duration": 121,
    "start_time": "2023-05-28T13:53:19.907Z"
   },
   {
    "duration": 90,
    "start_time": "2023-05-28T13:53:20.030Z"
   },
   {
    "duration": 3,
    "start_time": "2023-05-28T13:53:20.122Z"
   },
   {
    "duration": 187,
    "start_time": "2023-05-28T13:53:20.126Z"
   },
   {
    "duration": 27,
    "start_time": "2023-05-28T13:53:20.315Z"
   },
   {
    "duration": 5,
    "start_time": "2023-05-28T13:53:20.345Z"
   },
   {
    "duration": 36,
    "start_time": "2023-05-28T13:53:20.352Z"
   },
   {
    "duration": 6,
    "start_time": "2023-05-28T13:53:20.392Z"
   },
   {
    "duration": 101,
    "start_time": "2023-05-28T13:53:20.401Z"
   },
   {
    "duration": 156,
    "start_time": "2023-05-28T13:53:20.504Z"
   },
   {
    "duration": 14,
    "start_time": "2023-05-28T13:53:20.661Z"
   },
   {
    "duration": 1331,
    "start_time": "2023-05-28T13:53:20.676Z"
   },
   {
    "duration": 1189,
    "start_time": "2023-05-28T13:53:22.009Z"
   },
   {
    "duration": 135,
    "start_time": "2023-05-28T13:53:23.276Z"
   },
   {
    "duration": 120469,
    "start_time": "2023-05-28T13:53:23.478Z"
   },
   {
    "duration": 9272,
    "start_time": "2023-05-28T13:55:23.949Z"
   },
   {
    "duration": 42166,
    "start_time": "2023-05-28T13:55:33.223Z"
   },
   {
    "duration": 12,
    "start_time": "2023-05-28T13:56:15.391Z"
   },
   {
    "duration": 486,
    "start_time": "2023-05-28T13:56:15.404Z"
   },
   {
    "duration": 9023,
    "start_time": "2023-05-28T13:56:15.891Z"
   },
   {
    "duration": 10926,
    "start_time": "2023-05-28T13:56:24.916Z"
   },
   {
    "duration": 90,
    "start_time": "2023-05-28T13:56:35.848Z"
   },
   {
    "duration": 8453,
    "start_time": "2023-05-28T16:00:42.094Z"
   },
   {
    "duration": 2252,
    "start_time": "2023-05-28T16:00:50.549Z"
   },
   {
    "duration": 25,
    "start_time": "2023-05-28T16:00:52.803Z"
   },
   {
    "duration": 181,
    "start_time": "2023-05-28T16:00:52.830Z"
   },
   {
    "duration": 102,
    "start_time": "2023-05-28T16:00:53.013Z"
   },
   {
    "duration": 511,
    "start_time": "2023-05-28T16:00:53.116Z"
   },
   {
    "duration": 578,
    "start_time": "2023-05-28T16:00:53.630Z"
   },
   {
    "duration": 203,
    "start_time": "2023-05-28T16:00:54.211Z"
   },
   {
    "duration": 30,
    "start_time": "2023-05-28T16:00:54.416Z"
   },
   {
    "duration": 28023,
    "start_time": "2023-05-28T16:00:54.451Z"
   },
   {
    "duration": 28,
    "start_time": "2023-05-28T16:01:22.476Z"
   },
   {
    "duration": 104,
    "start_time": "2023-05-28T16:01:22.505Z"
   },
   {
    "duration": 142,
    "start_time": "2023-05-28T16:01:22.611Z"
   },
   {
    "duration": 91,
    "start_time": "2023-05-28T16:01:22.756Z"
   },
   {
    "duration": 8,
    "start_time": "2023-05-28T16:01:22.849Z"
   },
   {
    "duration": 37,
    "start_time": "2023-05-28T16:01:22.858Z"
   },
   {
    "duration": 4,
    "start_time": "2023-05-28T16:01:22.898Z"
   },
   {
    "duration": 12,
    "start_time": "2023-05-28T16:01:22.904Z"
   },
   {
    "duration": 38,
    "start_time": "2023-05-28T16:01:22.918Z"
   },
   {
    "duration": 15,
    "start_time": "2023-05-28T16:01:22.975Z"
   },
   {
    "duration": 141,
    "start_time": "2023-05-28T16:01:22.993Z"
   },
   {
    "duration": 80,
    "start_time": "2023-05-28T16:01:23.136Z"
   },
   {
    "duration": 4,
    "start_time": "2023-05-28T16:01:23.218Z"
   },
   {
    "duration": 176,
    "start_time": "2023-05-28T16:01:23.223Z"
   },
   {
    "duration": 21,
    "start_time": "2023-05-28T16:01:23.401Z"
   },
   {
    "duration": 5,
    "start_time": "2023-05-28T16:01:23.424Z"
   },
   {
    "duration": 54,
    "start_time": "2023-05-28T16:01:23.431Z"
   },
   {
    "duration": 9,
    "start_time": "2023-05-28T16:01:23.489Z"
   },
   {
    "duration": 71,
    "start_time": "2023-05-28T16:01:23.500Z"
   },
   {
    "duration": 156,
    "start_time": "2023-05-28T16:01:23.577Z"
   },
   {
    "duration": 4,
    "start_time": "2023-05-28T16:01:23.735Z"
   },
   {
    "duration": 1440,
    "start_time": "2023-05-28T16:01:23.741Z"
   },
   {
    "duration": 1006,
    "start_time": "2023-05-28T16:01:25.183Z"
   },
   {
    "duration": 207,
    "start_time": "2023-05-28T16:01:26.191Z"
   },
   {
    "duration": 116953,
    "start_time": "2023-05-28T16:01:26.400Z"
   },
   {
    "duration": 9902,
    "start_time": "2023-05-28T16:03:23.356Z"
   },
   {
    "duration": 180644,
    "start_time": "2023-05-28T16:03:33.260Z"
   },
   {
    "duration": 16,
    "start_time": "2023-05-28T16:06:33.980Z"
   },
   {
    "duration": 772,
    "start_time": "2023-05-28T16:06:33.998Z"
   },
   {
    "duration": 10355,
    "start_time": "2023-05-28T16:06:34.772Z"
   },
   {
    "duration": 11502,
    "start_time": "2023-05-28T16:06:45.131Z"
   },
   {
    "duration": 50,
    "start_time": "2023-05-29T06:51:54.858Z"
   },
   {
    "duration": 1701,
    "start_time": "2023-05-29T06:51:58.193Z"
   },
   {
    "duration": 0,
    "start_time": "2023-05-29T06:51:59.896Z"
   },
   {
    "duration": 0,
    "start_time": "2023-05-29T06:51:59.897Z"
   },
   {
    "duration": 0,
    "start_time": "2023-05-29T06:51:59.898Z"
   },
   {
    "duration": 0,
    "start_time": "2023-05-29T06:51:59.899Z"
   },
   {
    "duration": 0,
    "start_time": "2023-05-29T06:51:59.901Z"
   },
   {
    "duration": 0,
    "start_time": "2023-05-29T06:51:59.901Z"
   },
   {
    "duration": 0,
    "start_time": "2023-05-29T06:51:59.902Z"
   },
   {
    "duration": 0,
    "start_time": "2023-05-29T06:51:59.903Z"
   },
   {
    "duration": 0,
    "start_time": "2023-05-29T06:51:59.905Z"
   },
   {
    "duration": 0,
    "start_time": "2023-05-29T06:51:59.906Z"
   },
   {
    "duration": 0,
    "start_time": "2023-05-29T06:51:59.907Z"
   },
   {
    "duration": 0,
    "start_time": "2023-05-29T06:51:59.908Z"
   },
   {
    "duration": 0,
    "start_time": "2023-05-29T06:51:59.911Z"
   },
   {
    "duration": 0,
    "start_time": "2023-05-29T06:51:59.912Z"
   },
   {
    "duration": 0,
    "start_time": "2023-05-29T06:51:59.913Z"
   },
   {
    "duration": 0,
    "start_time": "2023-05-29T06:51:59.913Z"
   },
   {
    "duration": 0,
    "start_time": "2023-05-29T06:51:59.915Z"
   },
   {
    "duration": 0,
    "start_time": "2023-05-29T06:51:59.915Z"
   },
   {
    "duration": 0,
    "start_time": "2023-05-29T06:51:59.917Z"
   },
   {
    "duration": 0,
    "start_time": "2023-05-29T06:51:59.917Z"
   },
   {
    "duration": 0,
    "start_time": "2023-05-29T06:51:59.918Z"
   },
   {
    "duration": 0,
    "start_time": "2023-05-29T06:51:59.919Z"
   },
   {
    "duration": 0,
    "start_time": "2023-05-29T06:51:59.920Z"
   },
   {
    "duration": 0,
    "start_time": "2023-05-29T06:51:59.921Z"
   },
   {
    "duration": 0,
    "start_time": "2023-05-29T06:51:59.922Z"
   },
   {
    "duration": 0,
    "start_time": "2023-05-29T06:51:59.923Z"
   },
   {
    "duration": 0,
    "start_time": "2023-05-29T06:51:59.924Z"
   },
   {
    "duration": 0,
    "start_time": "2023-05-29T06:51:59.924Z"
   },
   {
    "duration": 0,
    "start_time": "2023-05-29T06:51:59.925Z"
   },
   {
    "duration": 0,
    "start_time": "2023-05-29T06:51:59.926Z"
   },
   {
    "duration": 0,
    "start_time": "2023-05-29T06:51:59.927Z"
   },
   {
    "duration": 0,
    "start_time": "2023-05-29T06:51:59.928Z"
   },
   {
    "duration": 0,
    "start_time": "2023-05-29T06:51:59.929Z"
   },
   {
    "duration": 0,
    "start_time": "2023-05-29T06:51:59.930Z"
   },
   {
    "duration": 0,
    "start_time": "2023-05-29T06:51:59.931Z"
   },
   {
    "duration": 0,
    "start_time": "2023-05-29T06:51:59.932Z"
   },
   {
    "duration": 0,
    "start_time": "2023-05-29T06:51:59.933Z"
   },
   {
    "duration": 0,
    "start_time": "2023-05-29T06:51:59.985Z"
   },
   {
    "duration": 0,
    "start_time": "2023-05-29T06:51:59.986Z"
   },
   {
    "duration": 0,
    "start_time": "2023-05-29T06:51:59.987Z"
   },
   {
    "duration": 0,
    "start_time": "2023-05-29T06:51:59.987Z"
   },
   {
    "duration": 3714,
    "start_time": "2023-05-29T06:52:21.866Z"
   },
   {
    "duration": 974,
    "start_time": "2023-05-29T06:52:33.699Z"
   },
   {
    "duration": 3,
    "start_time": "2023-05-29T06:52:51.207Z"
   },
   {
    "duration": 837,
    "start_time": "2023-05-29T07:07:15.817Z"
   },
   {
    "duration": 34,
    "start_time": "2023-05-29T07:07:16.656Z"
   },
   {
    "duration": 107,
    "start_time": "2023-05-29T07:07:16.692Z"
   },
   {
    "duration": 102,
    "start_time": "2023-05-29T07:07:16.801Z"
   },
   {
    "duration": 429,
    "start_time": "2023-05-29T07:07:20.072Z"
   },
   {
    "duration": 425,
    "start_time": "2023-05-29T07:07:20.566Z"
   },
   {
    "duration": 431,
    "start_time": "2023-05-29T07:08:36.798Z"
   },
   {
    "duration": 409,
    "start_time": "2023-05-29T07:08:48.111Z"
   },
   {
    "duration": 417,
    "start_time": "2023-05-29T07:08:58.656Z"
   },
   {
    "duration": 443,
    "start_time": "2023-05-29T07:09:12.374Z"
   },
   {
    "duration": 4,
    "start_time": "2023-05-29T07:11:30.054Z"
   },
   {
    "duration": 3872,
    "start_time": "2023-05-29T07:11:30.060Z"
   },
   {
    "duration": 948,
    "start_time": "2023-05-29T07:11:33.978Z"
   },
   {
    "duration": 17,
    "start_time": "2023-05-29T07:11:34.927Z"
   },
   {
    "duration": 166,
    "start_time": "2023-05-29T07:11:34.946Z"
   },
   {
    "duration": 109,
    "start_time": "2023-05-29T07:11:35.114Z"
   },
   {
    "duration": 500,
    "start_time": "2023-05-29T07:11:35.224Z"
   },
   {
    "duration": 505,
    "start_time": "2023-05-29T07:11:35.726Z"
   },
   {
    "duration": 107,
    "start_time": "2023-05-29T07:11:36.232Z"
   },
   {
    "duration": 26,
    "start_time": "2023-05-29T07:11:36.341Z"
   },
   {
    "duration": 26865,
    "start_time": "2023-05-29T07:11:36.369Z"
   },
   {
    "duration": 20,
    "start_time": "2023-05-29T07:12:03.236Z"
   },
   {
    "duration": 105,
    "start_time": "2023-05-29T07:12:03.258Z"
   },
   {
    "duration": 161,
    "start_time": "2023-05-29T07:12:03.366Z"
   },
   {
    "duration": 88,
    "start_time": "2023-05-29T07:12:03.530Z"
   },
   {
    "duration": 7,
    "start_time": "2023-05-29T07:12:03.620Z"
   },
   {
    "duration": 9,
    "start_time": "2023-05-29T07:12:03.629Z"
   },
   {
    "duration": 3,
    "start_time": "2023-05-29T07:12:03.640Z"
   },
   {
    "duration": 37,
    "start_time": "2023-05-29T07:12:03.644Z"
   },
   {
    "duration": 42,
    "start_time": "2023-05-29T07:12:03.685Z"
   },
   {
    "duration": 9,
    "start_time": "2023-05-29T07:12:03.729Z"
   },
   {
    "duration": 113,
    "start_time": "2023-05-29T07:12:03.741Z"
   },
   {
    "duration": 75,
    "start_time": "2023-05-29T07:12:03.855Z"
   },
   {
    "duration": 3,
    "start_time": "2023-05-29T07:12:03.932Z"
   },
   {
    "duration": 182,
    "start_time": "2023-05-29T07:12:03.937Z"
   },
   {
    "duration": 22,
    "start_time": "2023-05-29T07:12:04.123Z"
   },
   {
    "duration": 4,
    "start_time": "2023-05-29T07:12:04.146Z"
   },
   {
    "duration": 33,
    "start_time": "2023-05-29T07:12:04.152Z"
   },
   {
    "duration": 7,
    "start_time": "2023-05-29T07:12:04.200Z"
   },
   {
    "duration": 51,
    "start_time": "2023-05-29T07:12:04.209Z"
   },
   {
    "duration": 147,
    "start_time": "2023-05-29T07:12:04.262Z"
   },
   {
    "duration": 5,
    "start_time": "2023-05-29T07:12:04.411Z"
   },
   {
    "duration": 1225,
    "start_time": "2023-05-29T07:12:04.418Z"
   },
   {
    "duration": 851,
    "start_time": "2023-05-29T07:12:05.645Z"
   },
   {
    "duration": 283,
    "start_time": "2023-05-29T07:12:06.499Z"
   },
   {
    "duration": 118469,
    "start_time": "2023-05-29T07:12:06.786Z"
   },
   {
    "duration": 9620,
    "start_time": "2023-05-29T07:14:05.257Z"
   },
   {
    "duration": 87637,
    "start_time": "2023-05-29T07:14:14.883Z"
   },
   {
    "duration": 8,
    "start_time": "2023-05-29T07:15:42.522Z"
   },
   {
    "duration": 664,
    "start_time": "2023-05-29T07:15:42.531Z"
   },
   {
    "duration": 9505,
    "start_time": "2023-05-29T07:15:43.197Z"
   },
   {
    "duration": 11218,
    "start_time": "2023-05-29T07:15:52.707Z"
   },
   {
    "duration": 4,
    "start_time": "2023-05-29T12:01:26.491Z"
   },
   {
    "duration": 1763,
    "start_time": "2023-05-29T12:01:26.497Z"
   },
   {
    "duration": 0,
    "start_time": "2023-05-29T12:01:28.263Z"
   },
   {
    "duration": 0,
    "start_time": "2023-05-29T12:01:28.264Z"
   },
   {
    "duration": 0,
    "start_time": "2023-05-29T12:01:28.265Z"
   },
   {
    "duration": 0,
    "start_time": "2023-05-29T12:01:28.267Z"
   },
   {
    "duration": 0,
    "start_time": "2023-05-29T12:01:28.277Z"
   },
   {
    "duration": 0,
    "start_time": "2023-05-29T12:01:28.278Z"
   },
   {
    "duration": 0,
    "start_time": "2023-05-29T12:01:28.279Z"
   },
   {
    "duration": 0,
    "start_time": "2023-05-29T12:01:28.280Z"
   },
   {
    "duration": 0,
    "start_time": "2023-05-29T12:01:28.281Z"
   },
   {
    "duration": 0,
    "start_time": "2023-05-29T12:01:28.283Z"
   },
   {
    "duration": 0,
    "start_time": "2023-05-29T12:01:28.284Z"
   },
   {
    "duration": 0,
    "start_time": "2023-05-29T12:01:28.285Z"
   },
   {
    "duration": 0,
    "start_time": "2023-05-29T12:01:28.286Z"
   },
   {
    "duration": 0,
    "start_time": "2023-05-29T12:01:28.287Z"
   },
   {
    "duration": 0,
    "start_time": "2023-05-29T12:01:28.288Z"
   },
   {
    "duration": 0,
    "start_time": "2023-05-29T12:01:28.289Z"
   },
   {
    "duration": 0,
    "start_time": "2023-05-29T12:01:28.290Z"
   },
   {
    "duration": 0,
    "start_time": "2023-05-29T12:01:28.291Z"
   },
   {
    "duration": 0,
    "start_time": "2023-05-29T12:01:28.292Z"
   },
   {
    "duration": 0,
    "start_time": "2023-05-29T12:01:28.293Z"
   },
   {
    "duration": 0,
    "start_time": "2023-05-29T12:01:28.294Z"
   },
   {
    "duration": 0,
    "start_time": "2023-05-29T12:01:28.295Z"
   },
   {
    "duration": 0,
    "start_time": "2023-05-29T12:01:28.296Z"
   },
   {
    "duration": 0,
    "start_time": "2023-05-29T12:01:28.297Z"
   },
   {
    "duration": 0,
    "start_time": "2023-05-29T12:01:28.298Z"
   },
   {
    "duration": 0,
    "start_time": "2023-05-29T12:01:28.299Z"
   },
   {
    "duration": 0,
    "start_time": "2023-05-29T12:01:28.300Z"
   },
   {
    "duration": 0,
    "start_time": "2023-05-29T12:01:28.301Z"
   },
   {
    "duration": 0,
    "start_time": "2023-05-29T12:01:28.302Z"
   },
   {
    "duration": 0,
    "start_time": "2023-05-29T12:01:28.303Z"
   },
   {
    "duration": 0,
    "start_time": "2023-05-29T12:01:28.304Z"
   },
   {
    "duration": 0,
    "start_time": "2023-05-29T12:01:28.305Z"
   },
   {
    "duration": 0,
    "start_time": "2023-05-29T12:01:28.306Z"
   },
   {
    "duration": 0,
    "start_time": "2023-05-29T12:01:28.307Z"
   },
   {
    "duration": 0,
    "start_time": "2023-05-29T12:01:28.308Z"
   },
   {
    "duration": 0,
    "start_time": "2023-05-29T12:01:28.309Z"
   },
   {
    "duration": 0,
    "start_time": "2023-05-29T12:01:28.310Z"
   },
   {
    "duration": 0,
    "start_time": "2023-05-29T12:01:28.311Z"
   },
   {
    "duration": 0,
    "start_time": "2023-05-29T12:01:28.312Z"
   },
   {
    "duration": 0,
    "start_time": "2023-05-29T12:01:28.313Z"
   },
   {
    "duration": 0,
    "start_time": "2023-05-29T12:01:28.314Z"
   },
   {
    "duration": 4440,
    "start_time": "2023-05-29T12:01:56.796Z"
   },
   {
    "duration": 2491,
    "start_time": "2023-05-29T12:02:01.238Z"
   },
   {
    "duration": 1056,
    "start_time": "2023-05-29T12:02:03.730Z"
   },
   {
    "duration": 17,
    "start_time": "2023-05-29T12:02:04.787Z"
   },
   {
    "duration": 130,
    "start_time": "2023-05-29T12:02:04.806Z"
   },
   {
    "duration": 93,
    "start_time": "2023-05-29T12:02:04.938Z"
   },
   {
    "duration": 446,
    "start_time": "2023-05-29T12:02:05.032Z"
   },
   {
    "duration": 460,
    "start_time": "2023-05-29T12:02:05.480Z"
   },
   {
    "duration": 142,
    "start_time": "2023-05-29T12:02:05.942Z"
   },
   {
    "duration": 94,
    "start_time": "2023-05-29T12:02:06.086Z"
   },
   {
    "duration": 25606,
    "start_time": "2023-05-29T12:02:06.182Z"
   },
   {
    "duration": 25,
    "start_time": "2023-05-29T12:02:31.790Z"
   },
   {
    "duration": 111,
    "start_time": "2023-05-29T12:02:31.817Z"
   },
   {
    "duration": 146,
    "start_time": "2023-05-29T12:02:31.931Z"
   },
   {
    "duration": 84,
    "start_time": "2023-05-29T12:02:32.079Z"
   },
   {
    "duration": 17,
    "start_time": "2023-05-29T12:02:32.165Z"
   },
   {
    "duration": 24,
    "start_time": "2023-05-29T12:02:32.184Z"
   },
   {
    "duration": 10,
    "start_time": "2023-05-29T12:02:32.210Z"
   },
   {
    "duration": 13,
    "start_time": "2023-05-29T12:02:32.221Z"
   },
   {
    "duration": 41,
    "start_time": "2023-05-29T12:02:32.236Z"
   },
   {
    "duration": 10,
    "start_time": "2023-05-29T12:02:32.279Z"
   },
   {
    "duration": 111,
    "start_time": "2023-05-29T12:02:32.291Z"
   },
   {
    "duration": 78,
    "start_time": "2023-05-29T12:02:32.404Z"
   },
   {
    "duration": 4,
    "start_time": "2023-05-29T12:02:32.484Z"
   },
   {
    "duration": 153,
    "start_time": "2023-05-29T12:02:32.490Z"
   },
   {
    "duration": 19,
    "start_time": "2023-05-29T12:02:32.645Z"
   },
   {
    "duration": 14,
    "start_time": "2023-05-29T12:02:32.666Z"
   },
   {
    "duration": 26,
    "start_time": "2023-05-29T12:02:32.682Z"
   },
   {
    "duration": 6,
    "start_time": "2023-05-29T12:02:32.710Z"
   },
   {
    "duration": 68,
    "start_time": "2023-05-29T12:02:32.718Z"
   },
   {
    "duration": 147,
    "start_time": "2023-05-29T12:02:32.788Z"
   },
   {
    "duration": 4,
    "start_time": "2023-05-29T12:02:32.937Z"
   },
   {
    "duration": 23,
    "start_time": "2023-05-29T12:02:32.943Z"
   },
   {
    "duration": 0,
    "start_time": "2023-05-29T12:02:32.968Z"
   },
   {
    "duration": 0,
    "start_time": "2023-05-29T12:02:32.969Z"
   },
   {
    "duration": 0,
    "start_time": "2023-05-29T12:02:32.970Z"
   },
   {
    "duration": 0,
    "start_time": "2023-05-29T12:02:32.971Z"
   },
   {
    "duration": 0,
    "start_time": "2023-05-29T12:02:32.976Z"
   },
   {
    "duration": 0,
    "start_time": "2023-05-29T12:02:32.977Z"
   },
   {
    "duration": 0,
    "start_time": "2023-05-29T12:02:32.978Z"
   },
   {
    "duration": 0,
    "start_time": "2023-05-29T12:02:32.980Z"
   },
   {
    "duration": 0,
    "start_time": "2023-05-29T12:02:32.981Z"
   },
   {
    "duration": 0,
    "start_time": "2023-05-29T12:02:32.982Z"
   },
   {
    "duration": 5,
    "start_time": "2023-05-29T12:05:16.938Z"
   },
   {
    "duration": 1364,
    "start_time": "2023-05-29T12:05:59.034Z"
   },
   {
    "duration": 1660,
    "start_time": "2023-05-29T12:06:02.591Z"
   },
   {
    "duration": 116838,
    "start_time": "2023-05-29T12:06:04.253Z"
   },
   {
    "duration": 320,
    "start_time": "2023-05-29T12:08:01.177Z"
   },
   {
    "duration": 117008,
    "start_time": "2023-05-29T12:08:01.499Z"
   },
   {
    "duration": 9503,
    "start_time": "2023-05-29T12:09:58.509Z"
   },
   {
    "duration": 31284,
    "start_time": "2023-05-29T12:10:08.014Z"
   },
   {
    "duration": 9,
    "start_time": "2023-05-29T12:10:39.300Z"
   },
   {
    "duration": 727,
    "start_time": "2023-05-29T12:10:39.310Z"
   },
   {
    "duration": 9818,
    "start_time": "2023-05-29T12:10:40.038Z"
   },
   {
    "duration": 11279,
    "start_time": "2023-05-29T12:10:49.862Z"
   },
   {
    "duration": 1666,
    "start_time": "2023-05-29T12:11:54.531Z"
   },
   {
    "duration": 75294,
    "start_time": "2023-05-29T12:12:44.484Z"
   },
   {
    "duration": 202,
    "start_time": "2023-05-29T12:13:59.781Z"
   },
   {
    "duration": 21268,
    "start_time": "2023-05-29T12:15:17.413Z"
   },
   {
    "duration": 79,
    "start_time": "2023-05-29T12:16:43.638Z"
   },
   {
    "duration": 5,
    "start_time": "2023-05-29T12:21:20.810Z"
   },
   {
    "duration": 765,
    "start_time": "2023-05-29T12:21:23.228Z"
   },
   {
    "duration": 14,
    "start_time": "2023-05-29T12:21:23.996Z"
   },
   {
    "duration": 137,
    "start_time": "2023-05-29T12:21:25.132Z"
   },
   {
    "duration": 98,
    "start_time": "2023-05-29T12:21:25.837Z"
   },
   {
    "duration": 460,
    "start_time": "2023-05-29T12:21:28.090Z"
   },
   {
    "duration": 442,
    "start_time": "2023-05-29T12:21:28.552Z"
   },
   {
    "duration": 450,
    "start_time": "2023-05-29T12:22:33.634Z"
   },
   {
    "duration": 19,
    "start_time": "2023-05-29T12:23:36.488Z"
   },
   {
    "duration": 15,
    "start_time": "2023-05-29T12:25:07.742Z"
   },
   {
    "duration": 458,
    "start_time": "2023-05-29T12:25:18.327Z"
   },
   {
    "duration": 156,
    "start_time": "2023-05-29T12:25:26.391Z"
   },
   {
    "duration": 22,
    "start_time": "2023-05-29T12:25:27.286Z"
   },
   {
    "duration": 15265,
    "start_time": "2023-05-29T12:25:36.149Z"
   },
   {
    "duration": 0,
    "start_time": "2023-05-29T12:25:51.416Z"
   },
   {
    "duration": 27116,
    "start_time": "2023-05-29T12:25:57.640Z"
   },
   {
    "duration": 132,
    "start_time": "2023-05-29T12:26:41.903Z"
   },
   {
    "duration": 131,
    "start_time": "2023-05-29T12:26:44.004Z"
   },
   {
    "duration": 129,
    "start_time": "2023-05-29T12:26:46.191Z"
   },
   {
    "duration": 8,
    "start_time": "2023-05-29T12:26:49.658Z"
   },
   {
    "duration": 8,
    "start_time": "2023-05-29T12:26:58.294Z"
   },
   {
    "duration": 9,
    "start_time": "2023-05-29T12:26:58.927Z"
   },
   {
    "duration": 36,
    "start_time": "2023-05-29T12:27:25.668Z"
   },
   {
    "duration": 120,
    "start_time": "2023-05-29T12:31:15.788Z"
   },
   {
    "duration": 4,
    "start_time": "2023-05-29T12:31:16.605Z"
   },
   {
    "duration": 91,
    "start_time": "2023-05-29T12:31:32.195Z"
   },
   {
    "duration": 10,
    "start_time": "2023-05-29T12:32:23.591Z"
   },
   {
    "duration": 7,
    "start_time": "2023-05-29T12:33:36.690Z"
   },
   {
    "duration": 10,
    "start_time": "2023-05-29T12:33:37.991Z"
   },
   {
    "duration": 10,
    "start_time": "2023-05-29T12:33:38.792Z"
   },
   {
    "duration": 46,
    "start_time": "2023-05-29T12:33:39.317Z"
   },
   {
    "duration": 3,
    "start_time": "2023-05-29T12:33:40.020Z"
   },
   {
    "duration": 8,
    "start_time": "2023-05-29T12:33:40.586Z"
   },
   {
    "duration": 3,
    "start_time": "2023-05-29T12:34:53.542Z"
   },
   {
    "duration": 8,
    "start_time": "2023-05-29T12:34:54.089Z"
   },
   {
    "duration": 3,
    "start_time": "2023-05-29T12:35:04.449Z"
   },
   {
    "duration": 7,
    "start_time": "2023-05-29T12:35:06.759Z"
   },
   {
    "duration": 9,
    "start_time": "2023-05-29T12:35:55.834Z"
   },
   {
    "duration": 10,
    "start_time": "2023-05-29T12:36:03.399Z"
   },
   {
    "duration": 10,
    "start_time": "2023-05-29T12:36:07.241Z"
   },
   {
    "duration": 4,
    "start_time": "2023-05-29T12:36:18.978Z"
   },
   {
    "duration": 7,
    "start_time": "2023-05-29T12:36:18.988Z"
   },
   {
    "duration": 5,
    "start_time": "2023-05-29T12:37:03.185Z"
   },
   {
    "duration": 756,
    "start_time": "2023-05-29T12:37:03.683Z"
   },
   {
    "duration": 13,
    "start_time": "2023-05-29T12:37:04.441Z"
   },
   {
    "duration": 192,
    "start_time": "2023-05-29T12:37:04.456Z"
   },
   {
    "duration": 87,
    "start_time": "2023-05-29T12:37:04.651Z"
   },
   {
    "duration": 398,
    "start_time": "2023-05-29T12:37:04.740Z"
   },
   {
    "duration": 416,
    "start_time": "2023-05-29T12:37:05.141Z"
   },
   {
    "duration": 430,
    "start_time": "2023-05-29T12:37:05.559Z"
   },
   {
    "duration": 130,
    "start_time": "2023-05-29T12:37:05.991Z"
   },
   {
    "duration": 21,
    "start_time": "2023-05-29T12:37:06.123Z"
   },
   {
    "duration": 25395,
    "start_time": "2023-05-29T12:37:06.591Z"
   },
   {
    "duration": 137,
    "start_time": "2023-05-29T12:37:31.988Z"
   },
   {
    "duration": 139,
    "start_time": "2023-05-29T12:37:32.126Z"
   },
   {
    "duration": 138,
    "start_time": "2023-05-29T12:37:32.267Z"
   },
   {
    "duration": 11,
    "start_time": "2023-05-29T12:37:32.406Z"
   },
   {
    "duration": 9,
    "start_time": "2023-05-29T12:37:32.418Z"
   },
   {
    "duration": 11,
    "start_time": "2023-05-29T12:37:32.428Z"
   },
   {
    "duration": 54,
    "start_time": "2023-05-29T12:37:32.441Z"
   },
   {
    "duration": 11,
    "start_time": "2023-05-29T12:37:32.496Z"
   },
   {
    "duration": 18,
    "start_time": "2023-05-29T12:37:32.509Z"
   },
   {
    "duration": 3,
    "start_time": "2023-05-29T12:39:36.955Z"
   },
   {
    "duration": 8,
    "start_time": "2023-05-29T12:39:37.414Z"
   },
   {
    "duration": 3,
    "start_time": "2023-05-29T12:39:39.749Z"
   },
   {
    "duration": 10,
    "start_time": "2023-05-29T12:39:39.921Z"
   },
   {
    "duration": 10,
    "start_time": "2023-05-29T12:39:45.830Z"
   },
   {
    "duration": 10,
    "start_time": "2023-05-29T12:39:46.051Z"
   },
   {
    "duration": 37,
    "start_time": "2023-05-29T12:39:46.212Z"
   },
   {
    "duration": 3,
    "start_time": "2023-05-29T12:39:46.401Z"
   },
   {
    "duration": 8,
    "start_time": "2023-05-29T12:39:46.987Z"
   },
   {
    "duration": 3,
    "start_time": "2023-05-29T12:40:02.618Z"
   },
   {
    "duration": 12,
    "start_time": "2023-05-29T12:40:02.989Z"
   },
   {
    "duration": 8,
    "start_time": "2023-05-29T12:40:10.592Z"
   },
   {
    "duration": 10,
    "start_time": "2023-05-29T12:40:11.015Z"
   },
   {
    "duration": 10,
    "start_time": "2023-05-29T12:40:11.629Z"
   },
   {
    "duration": 34,
    "start_time": "2023-05-29T12:40:12.993Z"
   },
   {
    "duration": 3,
    "start_time": "2023-05-29T12:40:13.758Z"
   },
   {
    "duration": 9,
    "start_time": "2023-05-29T12:40:14.290Z"
   },
   {
    "duration": 3,
    "start_time": "2023-05-29T12:40:44.530Z"
   },
   {
    "duration": 9,
    "start_time": "2023-05-29T12:40:44.690Z"
   },
   {
    "duration": 5,
    "start_time": "2023-05-29T12:41:03.244Z"
   },
   {
    "duration": 828,
    "start_time": "2023-05-29T12:41:05.687Z"
   },
   {
    "duration": 18,
    "start_time": "2023-05-29T12:41:06.518Z"
   },
   {
    "duration": 130,
    "start_time": "2023-05-29T12:41:07.186Z"
   },
   {
    "duration": 84,
    "start_time": "2023-05-29T12:41:09.978Z"
   },
   {
    "duration": 419,
    "start_time": "2023-05-29T12:41:10.293Z"
   },
   {
    "duration": 408,
    "start_time": "2023-05-29T12:41:10.952Z"
   },
   {
    "duration": 448,
    "start_time": "2023-05-29T12:41:12.337Z"
   },
   {
    "duration": 133,
    "start_time": "2023-05-29T12:41:16.080Z"
   },
   {
    "duration": 22,
    "start_time": "2023-05-29T12:41:18.532Z"
   },
   {
    "duration": 26506,
    "start_time": "2023-05-29T12:41:35.489Z"
   },
   {
    "duration": 134,
    "start_time": "2023-05-29T12:42:01.998Z"
   },
   {
    "duration": 147,
    "start_time": "2023-05-29T12:42:02.133Z"
   },
   {
    "duration": 132,
    "start_time": "2023-05-29T12:42:02.282Z"
   },
   {
    "duration": 14,
    "start_time": "2023-05-29T12:42:02.415Z"
   },
   {
    "duration": 18,
    "start_time": "2023-05-29T12:42:02.431Z"
   },
   {
    "duration": 19,
    "start_time": "2023-05-29T12:42:02.451Z"
   },
   {
    "duration": 46,
    "start_time": "2023-05-29T12:42:02.472Z"
   },
   {
    "duration": 6,
    "start_time": "2023-05-29T12:42:02.519Z"
   },
   {
    "duration": 14,
    "start_time": "2023-05-29T12:42:02.527Z"
   },
   {
    "duration": 40,
    "start_time": "2023-05-29T12:42:42.222Z"
   },
   {
    "duration": 7,
    "start_time": "2023-05-29T12:42:42.895Z"
   },
   {
    "duration": 3,
    "start_time": "2023-05-29T12:42:54.216Z"
   },
   {
    "duration": 7,
    "start_time": "2023-05-29T12:42:54.730Z"
   },
   {
    "duration": 777,
    "start_time": "2023-05-29T12:43:12.276Z"
   },
   {
    "duration": 12,
    "start_time": "2023-05-29T12:43:13.056Z"
   },
   {
    "duration": 145,
    "start_time": "2023-05-29T12:43:13.070Z"
   },
   {
    "duration": 89,
    "start_time": "2023-05-29T12:43:13.218Z"
   },
   {
    "duration": 430,
    "start_time": "2023-05-29T12:43:15.351Z"
   },
   {
    "duration": 416,
    "start_time": "2023-05-29T12:43:15.783Z"
   },
   {
    "duration": 409,
    "start_time": "2023-05-29T12:43:19.013Z"
   },
   {
    "duration": 126,
    "start_time": "2023-05-29T12:43:22.725Z"
   },
   {
    "duration": 22,
    "start_time": "2023-05-29T12:43:24.920Z"
   },
   {
    "duration": 26589,
    "start_time": "2023-05-29T12:43:27.808Z"
   },
   {
    "duration": 136,
    "start_time": "2023-05-29T12:43:54.399Z"
   },
   {
    "duration": 145,
    "start_time": "2023-05-29T12:43:54.536Z"
   },
   {
    "duration": 129,
    "start_time": "2023-05-29T12:43:54.683Z"
   },
   {
    "duration": 9,
    "start_time": "2023-05-29T12:43:54.814Z"
   },
   {
    "duration": 8,
    "start_time": "2023-05-29T12:43:54.825Z"
   },
   {
    "duration": 9,
    "start_time": "2023-05-29T12:43:54.835Z"
   },
   {
    "duration": 76,
    "start_time": "2023-05-29T12:43:54.845Z"
   },
   {
    "duration": 3,
    "start_time": "2023-05-29T12:44:03.316Z"
   },
   {
    "duration": 8,
    "start_time": "2023-05-29T12:44:03.901Z"
   },
   {
    "duration": 3,
    "start_time": "2023-05-29T12:44:46.117Z"
   },
   {
    "duration": 11,
    "start_time": "2023-05-29T12:44:46.599Z"
   },
   {
    "duration": 2,
    "start_time": "2023-05-29T12:44:48.596Z"
   },
   {
    "duration": 8,
    "start_time": "2023-05-29T12:44:48.779Z"
   },
   {
    "duration": 49,
    "start_time": "2023-05-29T12:45:09.316Z"
   },
   {
    "duration": 2640,
    "start_time": "2023-05-29T12:45:42.219Z"
   },
   {
    "duration": 1151,
    "start_time": "2023-05-29T12:45:44.861Z"
   },
   {
    "duration": 16,
    "start_time": "2023-05-29T12:45:46.014Z"
   },
   {
    "duration": 138,
    "start_time": "2023-05-29T12:45:46.032Z"
   },
   {
    "duration": 84,
    "start_time": "2023-05-29T12:45:46.171Z"
   },
   {
    "duration": 467,
    "start_time": "2023-05-29T12:45:46.258Z"
   },
   {
    "duration": 465,
    "start_time": "2023-05-29T12:45:46.727Z"
   },
   {
    "duration": 500,
    "start_time": "2023-05-29T12:45:47.194Z"
   },
   {
    "duration": 182,
    "start_time": "2023-05-29T12:45:47.696Z"
   },
   {
    "duration": 24,
    "start_time": "2023-05-29T12:45:47.881Z"
   },
   {
    "duration": 25832,
    "start_time": "2023-05-29T12:45:47.907Z"
   },
   {
    "duration": 40,
    "start_time": "2023-05-29T12:46:13.741Z"
   },
   {
    "duration": 118,
    "start_time": "2023-05-29T12:46:13.783Z"
   },
   {
    "duration": 144,
    "start_time": "2023-05-29T12:46:13.903Z"
   },
   {
    "duration": 85,
    "start_time": "2023-05-29T12:46:14.049Z"
   },
   {
    "duration": 15,
    "start_time": "2023-05-29T12:46:14.136Z"
   },
   {
    "duration": 25,
    "start_time": "2023-05-29T12:46:14.152Z"
   },
   {
    "duration": 12,
    "start_time": "2023-05-29T12:46:14.178Z"
   },
   {
    "duration": 1639,
    "start_time": "2023-05-29T12:46:14.192Z"
   },
   {
    "duration": 0,
    "start_time": "2023-05-29T12:46:15.833Z"
   },
   {
    "duration": 3,
    "start_time": "2023-05-29T12:46:24.594Z"
   },
   {
    "duration": 29,
    "start_time": "2023-05-29T12:46:26.002Z"
   },
   {
    "duration": 8,
    "start_time": "2023-05-29T12:46:28.086Z"
   },
   {
    "duration": 18,
    "start_time": "2023-05-29T12:46:40.787Z"
   },
   {
    "duration": 9,
    "start_time": "2023-05-29T12:47:01.229Z"
   },
   {
    "duration": 7,
    "start_time": "2023-05-29T12:47:09.494Z"
   },
   {
    "duration": 11,
    "start_time": "2023-05-29T12:48:08.395Z"
   },
   {
    "duration": 9,
    "start_time": "2023-05-29T12:50:06.792Z"
   },
   {
    "duration": 10,
    "start_time": "2023-05-29T12:51:08.670Z"
   },
   {
    "duration": 100,
    "start_time": "2023-05-29T12:51:51.719Z"
   },
   {
    "duration": 82,
    "start_time": "2023-05-29T12:52:03.859Z"
   },
   {
    "duration": 4,
    "start_time": "2023-05-29T12:52:09.900Z"
   },
   {
    "duration": 1027,
    "start_time": "2023-05-29T12:52:15.828Z"
   },
   {
    "duration": 950,
    "start_time": "2023-05-29T12:52:45.899Z"
   },
   {
    "duration": 0,
    "start_time": "2023-05-29T12:52:46.851Z"
   },
   {
    "duration": 2316,
    "start_time": "2023-05-29T12:53:12.229Z"
   },
   {
    "duration": 3960,
    "start_time": "2023-05-29T12:53:14.547Z"
   },
   {
    "duration": 1255,
    "start_time": "2023-05-29T12:53:18.509Z"
   },
   {
    "duration": 17,
    "start_time": "2023-05-29T12:53:19.766Z"
   },
   {
    "duration": 133,
    "start_time": "2023-05-29T12:53:19.785Z"
   },
   {
    "duration": 94,
    "start_time": "2023-05-29T12:53:19.919Z"
   },
   {
    "duration": 455,
    "start_time": "2023-05-29T12:53:20.015Z"
   },
   {
    "duration": 491,
    "start_time": "2023-05-29T12:53:20.472Z"
   },
   {
    "duration": 467,
    "start_time": "2023-05-29T12:53:20.965Z"
   },
   {
    "duration": 132,
    "start_time": "2023-05-29T12:53:21.435Z"
   },
   {
    "duration": 30,
    "start_time": "2023-05-29T12:53:21.569Z"
   },
   {
    "duration": 25775,
    "start_time": "2023-05-29T12:53:21.601Z"
   },
   {
    "duration": 32,
    "start_time": "2023-05-29T12:53:47.378Z"
   },
   {
    "duration": 97,
    "start_time": "2023-05-29T12:53:47.412Z"
   },
   {
    "duration": 136,
    "start_time": "2023-05-29T12:53:47.510Z"
   },
   {
    "duration": 93,
    "start_time": "2023-05-29T12:53:47.648Z"
   },
   {
    "duration": 30,
    "start_time": "2023-05-29T12:53:47.743Z"
   },
   {
    "duration": 20,
    "start_time": "2023-05-29T12:53:47.775Z"
   },
   {
    "duration": 9,
    "start_time": "2023-05-29T12:53:47.797Z"
   },
   {
    "duration": 3,
    "start_time": "2023-05-29T12:53:47.808Z"
   },
   {
    "duration": 43,
    "start_time": "2023-05-29T12:53:47.812Z"
   },
   {
    "duration": 22,
    "start_time": "2023-05-29T12:53:47.857Z"
   },
   {
    "duration": 27,
    "start_time": "2023-05-29T12:53:47.880Z"
   },
   {
    "duration": 8,
    "start_time": "2023-05-29T12:53:47.909Z"
   },
   {
    "duration": 15,
    "start_time": "2023-05-29T12:53:47.918Z"
   },
   {
    "duration": 5,
    "start_time": "2023-05-29T12:53:47.935Z"
   },
   {
    "duration": 1307,
    "start_time": "2023-05-29T12:53:47.941Z"
   },
   {
    "duration": 0,
    "start_time": "2023-05-29T12:53:49.251Z"
   },
   {
    "duration": 0,
    "start_time": "2023-05-29T12:53:49.255Z"
   },
   {
    "duration": 0,
    "start_time": "2023-05-29T12:53:49.256Z"
   },
   {
    "duration": 0,
    "start_time": "2023-05-29T12:53:49.257Z"
   },
   {
    "duration": 0,
    "start_time": "2023-05-29T12:53:49.259Z"
   },
   {
    "duration": 0,
    "start_time": "2023-05-29T12:53:49.260Z"
   },
   {
    "duration": 0,
    "start_time": "2023-05-29T12:53:49.261Z"
   },
   {
    "duration": 0,
    "start_time": "2023-05-29T12:53:49.262Z"
   },
   {
    "duration": 0,
    "start_time": "2023-05-29T12:53:49.262Z"
   },
   {
    "duration": 0,
    "start_time": "2023-05-29T12:53:49.264Z"
   },
   {
    "duration": 0,
    "start_time": "2023-05-29T12:53:49.264Z"
   },
   {
    "duration": 0,
    "start_time": "2023-05-29T12:53:49.265Z"
   },
   {
    "duration": 0,
    "start_time": "2023-05-29T12:53:49.267Z"
   },
   {
    "duration": 0,
    "start_time": "2023-05-29T12:53:49.268Z"
   },
   {
    "duration": 0,
    "start_time": "2023-05-29T12:53:49.269Z"
   },
   {
    "duration": 0,
    "start_time": "2023-05-29T12:53:49.270Z"
   },
   {
    "duration": 0,
    "start_time": "2023-05-29T12:53:49.272Z"
   },
   {
    "duration": 0,
    "start_time": "2023-05-29T12:53:49.273Z"
   },
   {
    "duration": 0,
    "start_time": "2023-05-29T12:53:49.274Z"
   },
   {
    "duration": 0,
    "start_time": "2023-05-29T12:53:49.276Z"
   },
   {
    "duration": 0,
    "start_time": "2023-05-29T12:53:49.277Z"
   },
   {
    "duration": 1,
    "start_time": "2023-05-29T12:53:49.277Z"
   },
   {
    "duration": 2272,
    "start_time": "2023-05-29T12:54:28.013Z"
   },
   {
    "duration": 2427,
    "start_time": "2023-05-29T12:54:30.287Z"
   },
   {
    "duration": 802,
    "start_time": "2023-05-29T12:54:32.715Z"
   },
   {
    "duration": 17,
    "start_time": "2023-05-29T12:54:33.520Z"
   },
   {
    "duration": 146,
    "start_time": "2023-05-29T12:54:33.539Z"
   },
   {
    "duration": 96,
    "start_time": "2023-05-29T12:54:33.687Z"
   },
   {
    "duration": 432,
    "start_time": "2023-05-29T12:54:33.785Z"
   },
   {
    "duration": 436,
    "start_time": "2023-05-29T12:54:34.219Z"
   },
   {
    "duration": 470,
    "start_time": "2023-05-29T12:54:34.657Z"
   },
   {
    "duration": 129,
    "start_time": "2023-05-29T12:54:35.130Z"
   },
   {
    "duration": 30,
    "start_time": "2023-05-29T12:54:35.261Z"
   },
   {
    "duration": 2912,
    "start_time": "2023-05-29T12:54:35.293Z"
   },
   {
    "duration": 0,
    "start_time": "2023-05-29T12:54:38.207Z"
   },
   {
    "duration": 0,
    "start_time": "2023-05-29T12:54:38.209Z"
   },
   {
    "duration": 0,
    "start_time": "2023-05-29T12:54:38.210Z"
   },
   {
    "duration": 0,
    "start_time": "2023-05-29T12:54:38.211Z"
   },
   {
    "duration": 0,
    "start_time": "2023-05-29T12:54:38.212Z"
   },
   {
    "duration": 0,
    "start_time": "2023-05-29T12:54:38.213Z"
   },
   {
    "duration": 0,
    "start_time": "2023-05-29T12:54:38.214Z"
   },
   {
    "duration": 0,
    "start_time": "2023-05-29T12:54:38.215Z"
   },
   {
    "duration": 0,
    "start_time": "2023-05-29T12:54:38.216Z"
   },
   {
    "duration": 0,
    "start_time": "2023-05-29T12:54:38.217Z"
   },
   {
    "duration": 0,
    "start_time": "2023-05-29T12:54:38.218Z"
   },
   {
    "duration": 0,
    "start_time": "2023-05-29T12:54:38.219Z"
   },
   {
    "duration": 0,
    "start_time": "2023-05-29T12:54:38.221Z"
   },
   {
    "duration": 0,
    "start_time": "2023-05-29T12:54:38.222Z"
   },
   {
    "duration": 0,
    "start_time": "2023-05-29T12:54:38.223Z"
   },
   {
    "duration": 0,
    "start_time": "2023-05-29T12:54:38.224Z"
   },
   {
    "duration": 0,
    "start_time": "2023-05-29T12:54:38.225Z"
   },
   {
    "duration": 0,
    "start_time": "2023-05-29T12:54:38.226Z"
   },
   {
    "duration": 0,
    "start_time": "2023-05-29T12:54:38.228Z"
   },
   {
    "duration": 0,
    "start_time": "2023-05-29T12:54:38.228Z"
   },
   {
    "duration": 0,
    "start_time": "2023-05-29T12:54:38.229Z"
   },
   {
    "duration": 0,
    "start_time": "2023-05-29T12:54:38.230Z"
   },
   {
    "duration": 0,
    "start_time": "2023-05-29T12:54:38.231Z"
   },
   {
    "duration": 0,
    "start_time": "2023-05-29T12:54:38.232Z"
   },
   {
    "duration": 0,
    "start_time": "2023-05-29T12:54:38.234Z"
   },
   {
    "duration": 0,
    "start_time": "2023-05-29T12:54:38.235Z"
   },
   {
    "duration": 0,
    "start_time": "2023-05-29T12:54:38.236Z"
   },
   {
    "duration": 0,
    "start_time": "2023-05-29T12:54:38.237Z"
   },
   {
    "duration": 0,
    "start_time": "2023-05-29T12:54:38.238Z"
   },
   {
    "duration": 0,
    "start_time": "2023-05-29T12:54:38.239Z"
   },
   {
    "duration": 0,
    "start_time": "2023-05-29T12:54:38.240Z"
   },
   {
    "duration": 0,
    "start_time": "2023-05-29T12:54:38.241Z"
   },
   {
    "duration": 0,
    "start_time": "2023-05-29T12:54:38.242Z"
   },
   {
    "duration": 0,
    "start_time": "2023-05-29T12:54:38.243Z"
   },
   {
    "duration": 0,
    "start_time": "2023-05-29T12:54:38.277Z"
   },
   {
    "duration": 26133,
    "start_time": "2023-05-29T12:54:39.915Z"
   },
   {
    "duration": 27,
    "start_time": "2023-05-29T12:55:06.050Z"
   },
   {
    "duration": 101,
    "start_time": "2023-05-29T12:55:06.079Z"
   },
   {
    "duration": 129,
    "start_time": "2023-05-29T12:55:06.182Z"
   },
   {
    "duration": 88,
    "start_time": "2023-05-29T12:55:06.312Z"
   },
   {
    "duration": 9,
    "start_time": "2023-05-29T12:55:06.402Z"
   },
   {
    "duration": 9,
    "start_time": "2023-05-29T12:55:06.413Z"
   },
   {
    "duration": 8,
    "start_time": "2023-05-29T12:55:06.424Z"
   },
   {
    "duration": 6,
    "start_time": "2023-05-29T12:55:06.434Z"
   },
   {
    "duration": 64,
    "start_time": "2023-05-29T12:55:06.442Z"
   },
   {
    "duration": 9,
    "start_time": "2023-05-29T12:55:06.508Z"
   },
   {
    "duration": 30,
    "start_time": "2023-05-29T12:55:06.519Z"
   },
   {
    "duration": 28,
    "start_time": "2023-05-29T12:55:06.551Z"
   },
   {
    "duration": 8,
    "start_time": "2023-05-29T12:55:06.581Z"
   },
   {
    "duration": 42,
    "start_time": "2023-05-29T12:55:24.103Z"
   },
   {
    "duration": 9,
    "start_time": "2023-05-29T12:56:34.198Z"
   },
   {
    "duration": 9,
    "start_time": "2023-05-29T12:56:36.934Z"
   },
   {
    "duration": 9,
    "start_time": "2023-05-29T12:56:39.091Z"
   },
   {
    "duration": 9,
    "start_time": "2023-05-29T12:56:45.422Z"
   },
   {
    "duration": 9,
    "start_time": "2023-05-29T12:56:58.841Z"
   },
   {
    "duration": 9,
    "start_time": "2023-05-29T12:57:02.379Z"
   },
   {
    "duration": 9,
    "start_time": "2023-05-29T12:57:06.822Z"
   },
   {
    "duration": 28,
    "start_time": "2023-05-29T12:58:40.238Z"
   },
   {
    "duration": 11,
    "start_time": "2023-05-29T12:58:48.436Z"
   },
   {
    "duration": 2424,
    "start_time": "2023-05-29T13:00:23.765Z"
   },
   {
    "duration": 2594,
    "start_time": "2023-05-29T13:00:26.191Z"
   },
   {
    "duration": 849,
    "start_time": "2023-05-29T13:00:28.786Z"
   },
   {
    "duration": 18,
    "start_time": "2023-05-29T13:00:29.637Z"
   },
   {
    "duration": 158,
    "start_time": "2023-05-29T13:00:29.656Z"
   },
   {
    "duration": 102,
    "start_time": "2023-05-29T13:00:29.816Z"
   },
   {
    "duration": 512,
    "start_time": "2023-05-29T13:00:29.920Z"
   },
   {
    "duration": 489,
    "start_time": "2023-05-29T13:00:30.434Z"
   },
   {
    "duration": 499,
    "start_time": "2023-05-29T13:00:30.925Z"
   },
   {
    "duration": 138,
    "start_time": "2023-05-29T13:00:31.427Z"
   },
   {
    "duration": 58,
    "start_time": "2023-05-29T13:00:31.567Z"
   },
   {
    "duration": 25678,
    "start_time": "2023-05-29T13:00:31.626Z"
   },
   {
    "duration": 37,
    "start_time": "2023-05-29T13:00:57.306Z"
   },
   {
    "duration": 97,
    "start_time": "2023-05-29T13:00:57.345Z"
   },
   {
    "duration": 145,
    "start_time": "2023-05-29T13:00:57.444Z"
   },
   {
    "duration": 93,
    "start_time": "2023-05-29T13:00:57.591Z"
   },
   {
    "duration": 57,
    "start_time": "2023-05-29T13:00:57.686Z"
   },
   {
    "duration": 14,
    "start_time": "2023-05-29T13:00:57.746Z"
   },
   {
    "duration": 16,
    "start_time": "2023-05-29T13:00:57.762Z"
   },
   {
    "duration": 10,
    "start_time": "2023-05-29T13:00:57.781Z"
   },
   {
    "duration": 48,
    "start_time": "2023-05-29T13:00:57.793Z"
   },
   {
    "duration": 9,
    "start_time": "2023-05-29T13:00:57.843Z"
   },
   {
    "duration": 49,
    "start_time": "2023-05-29T13:00:57.854Z"
   },
   {
    "duration": 9,
    "start_time": "2023-05-29T13:00:57.905Z"
   },
   {
    "duration": 13,
    "start_time": "2023-05-29T13:00:57.916Z"
   },
   {
    "duration": 21,
    "start_time": "2023-05-29T13:00:57.931Z"
   },
   {
    "duration": 123,
    "start_time": "2023-05-29T13:00:57.954Z"
   },
   {
    "duration": 81,
    "start_time": "2023-05-29T13:00:58.082Z"
   },
   {
    "duration": 11,
    "start_time": "2023-05-29T13:00:58.176Z"
   },
   {
    "duration": 142,
    "start_time": "2023-05-29T13:00:58.188Z"
   },
   {
    "duration": 20,
    "start_time": "2023-05-29T13:00:58.332Z"
   },
   {
    "duration": 4,
    "start_time": "2023-05-29T13:00:58.354Z"
   },
   {
    "duration": 33,
    "start_time": "2023-05-29T13:00:58.360Z"
   },
   {
    "duration": 6,
    "start_time": "2023-05-29T13:00:58.394Z"
   },
   {
    "duration": 59,
    "start_time": "2023-05-29T13:00:58.402Z"
   },
   {
    "duration": 156,
    "start_time": "2023-05-29T13:00:58.463Z"
   },
   {
    "duration": 4,
    "start_time": "2023-05-29T13:00:58.621Z"
   },
   {
    "duration": 1207,
    "start_time": "2023-05-29T13:00:58.627Z"
   },
   {
    "duration": 1560,
    "start_time": "2023-05-29T13:00:59.836Z"
   },
   {
    "duration": 90792,
    "start_time": "2023-05-29T13:01:01.398Z"
   },
   {
    "duration": 16208,
    "start_time": "2023-05-29T13:02:32.278Z"
   },
   {
    "duration": 92420,
    "start_time": "2023-05-29T13:02:48.488Z"
   },
   {
    "duration": 8905,
    "start_time": "2023-05-29T13:04:20.910Z"
   },
   {
    "duration": 16271,
    "start_time": "2023-05-29T13:04:29.816Z"
   },
   {
    "duration": 9,
    "start_time": "2023-05-29T13:04:46.089Z"
   },
   {
    "duration": 599,
    "start_time": "2023-05-29T13:04:46.100Z"
   },
   {
    "duration": 9009,
    "start_time": "2023-05-29T13:04:46.700Z"
   },
   {
    "duration": 11631,
    "start_time": "2023-05-29T13:04:55.711Z"
   },
   {
    "duration": 588211,
    "start_time": "2023-05-29T13:06:51.035Z"
   },
   {
    "duration": 88093,
    "start_time": "2023-05-29T13:20:45.150Z"
   },
   {
    "duration": 84548,
    "start_time": "2023-05-29T13:22:13.244Z"
   },
   {
    "duration": 2327,
    "start_time": "2023-05-29T13:24:17.095Z"
   },
   {
    "duration": 3484,
    "start_time": "2023-05-29T13:24:19.425Z"
   },
   {
    "duration": 872,
    "start_time": "2023-05-29T13:24:22.911Z"
   },
   {
    "duration": 20,
    "start_time": "2023-05-29T13:24:23.786Z"
   },
   {
    "duration": 178,
    "start_time": "2023-05-29T13:24:23.808Z"
   },
   {
    "duration": 109,
    "start_time": "2023-05-29T13:24:23.987Z"
   },
   {
    "duration": 521,
    "start_time": "2023-05-29T13:24:24.099Z"
   },
   {
    "duration": 521,
    "start_time": "2023-05-29T13:24:24.622Z"
   },
   {
    "duration": 528,
    "start_time": "2023-05-29T13:24:25.145Z"
   },
   {
    "duration": 186,
    "start_time": "2023-05-29T13:24:25.677Z"
   },
   {
    "duration": 31,
    "start_time": "2023-05-29T13:24:25.865Z"
   },
   {
    "duration": 25936,
    "start_time": "2023-05-29T13:24:25.898Z"
   },
   {
    "duration": 34,
    "start_time": "2023-05-29T13:24:51.836Z"
   },
   {
    "duration": 105,
    "start_time": "2023-05-29T13:24:51.876Z"
   },
   {
    "duration": 138,
    "start_time": "2023-05-29T13:24:51.983Z"
   },
   {
    "duration": 82,
    "start_time": "2023-05-29T13:24:52.123Z"
   },
   {
    "duration": 47,
    "start_time": "2023-05-29T13:24:52.207Z"
   },
   {
    "duration": 15,
    "start_time": "2023-05-29T13:24:52.256Z"
   },
   {
    "duration": 21,
    "start_time": "2023-05-29T13:24:52.272Z"
   },
   {
    "duration": 8,
    "start_time": "2023-05-29T13:24:52.294Z"
   },
   {
    "duration": 49,
    "start_time": "2023-05-29T13:24:52.304Z"
   },
   {
    "duration": 8,
    "start_time": "2023-05-29T13:24:52.355Z"
   },
   {
    "duration": 32,
    "start_time": "2023-05-29T13:24:52.364Z"
   },
   {
    "duration": 8,
    "start_time": "2023-05-29T13:24:52.398Z"
   },
   {
    "duration": 19,
    "start_time": "2023-05-29T13:24:52.408Z"
   },
   {
    "duration": 24,
    "start_time": "2023-05-29T13:24:52.428Z"
   },
   {
    "duration": 97,
    "start_time": "2023-05-29T13:24:52.454Z"
   },
   {
    "duration": 63,
    "start_time": "2023-05-29T13:24:52.555Z"
   },
   {
    "duration": 17,
    "start_time": "2023-05-29T13:24:52.620Z"
   },
   {
    "duration": 138,
    "start_time": "2023-05-29T13:24:52.638Z"
   },
   {
    "duration": 19,
    "start_time": "2023-05-29T13:24:52.778Z"
   },
   {
    "duration": 4,
    "start_time": "2023-05-29T13:24:52.799Z"
   },
   {
    "duration": 31,
    "start_time": "2023-05-29T13:24:52.805Z"
   },
   {
    "duration": 20,
    "start_time": "2023-05-29T13:24:52.838Z"
   },
   {
    "duration": 55,
    "start_time": "2023-05-29T13:24:52.860Z"
   },
   {
    "duration": 127,
    "start_time": "2023-05-29T13:24:52.917Z"
   },
   {
    "duration": 5,
    "start_time": "2023-05-29T13:24:53.046Z"
   },
   {
    "duration": 1178,
    "start_time": "2023-05-29T13:24:53.052Z"
   },
   {
    "duration": 1540,
    "start_time": "2023-05-29T13:24:54.231Z"
   },
   {
    "duration": 67505,
    "start_time": "2023-05-29T13:24:55.773Z"
   },
   {
    "duration": 19602,
    "start_time": "2023-05-29T13:26:03.280Z"
   },
   {
    "duration": 94113,
    "start_time": "2023-05-29T13:26:22.884Z"
   },
   {
    "duration": 8489,
    "start_time": "2023-05-29T13:27:56.998Z"
   },
   {
    "duration": 38800,
    "start_time": "2023-05-29T13:28:05.489Z"
   },
   {
    "duration": 9,
    "start_time": "2023-05-29T13:28:44.291Z"
   },
   {
    "duration": 525,
    "start_time": "2023-05-29T13:28:44.378Z"
   },
   {
    "duration": 8294,
    "start_time": "2023-05-29T13:28:44.905Z"
   },
   {
    "duration": 11135,
    "start_time": "2023-05-29T13:28:53.201Z"
   },
   {
    "duration": 100,
    "start_time": "2023-05-29T13:34:31.981Z"
   },
   {
    "duration": 3694,
    "start_time": "2023-05-30T09:33:45.233Z"
   },
   {
    "duration": 2450,
    "start_time": "2023-05-30T09:33:48.930Z"
   },
   {
    "duration": 722,
    "start_time": "2023-05-30T09:33:51.381Z"
   },
   {
    "duration": 22,
    "start_time": "2023-05-30T09:33:52.105Z"
   },
   {
    "duration": 173,
    "start_time": "2023-05-30T09:33:52.129Z"
   },
   {
    "duration": 97,
    "start_time": "2023-05-30T09:33:52.303Z"
   },
   {
    "duration": 412,
    "start_time": "2023-05-30T09:33:52.401Z"
   },
   {
    "duration": 433,
    "start_time": "2023-05-30T09:33:52.815Z"
   },
   {
    "duration": 441,
    "start_time": "2023-05-30T09:33:53.249Z"
   },
   {
    "duration": 139,
    "start_time": "2023-05-30T09:33:53.691Z"
   },
   {
    "duration": 26,
    "start_time": "2023-05-30T09:33:53.832Z"
   },
   {
    "duration": 23380,
    "start_time": "2023-05-30T09:33:53.859Z"
   },
   {
    "duration": 34,
    "start_time": "2023-05-30T09:34:17.241Z"
   },
   {
    "duration": 87,
    "start_time": "2023-05-30T09:34:17.278Z"
   },
   {
    "duration": 125,
    "start_time": "2023-05-30T09:34:17.366Z"
   },
   {
    "duration": 76,
    "start_time": "2023-05-30T09:34:17.492Z"
   },
   {
    "duration": 18,
    "start_time": "2023-05-30T09:34:17.569Z"
   },
   {
    "duration": 10,
    "start_time": "2023-05-30T09:34:17.588Z"
   },
   {
    "duration": 9,
    "start_time": "2023-05-30T09:34:17.599Z"
   },
   {
    "duration": 17,
    "start_time": "2023-05-30T09:34:17.609Z"
   },
   {
    "duration": 38,
    "start_time": "2023-05-30T09:34:17.628Z"
   },
   {
    "duration": 9,
    "start_time": "2023-05-30T09:34:17.667Z"
   },
   {
    "duration": 34,
    "start_time": "2023-05-30T09:34:17.678Z"
   },
   {
    "duration": 17,
    "start_time": "2023-05-30T09:34:17.714Z"
   },
   {
    "duration": 9,
    "start_time": "2023-05-30T09:34:17.732Z"
   },
   {
    "duration": 18,
    "start_time": "2023-05-30T09:34:17.742Z"
   },
   {
    "duration": 102,
    "start_time": "2023-05-30T09:34:17.761Z"
   },
   {
    "duration": 69,
    "start_time": "2023-05-30T09:34:17.864Z"
   },
   {
    "duration": 6,
    "start_time": "2023-05-30T09:34:17.935Z"
   },
   {
    "duration": 129,
    "start_time": "2023-05-30T09:34:17.942Z"
   },
   {
    "duration": 16,
    "start_time": "2023-05-30T09:34:18.073Z"
   },
   {
    "duration": 3,
    "start_time": "2023-05-30T09:34:18.090Z"
   },
   {
    "duration": 30,
    "start_time": "2023-05-30T09:34:18.095Z"
   },
   {
    "duration": 5,
    "start_time": "2023-05-30T09:34:18.126Z"
   },
   {
    "duration": 51,
    "start_time": "2023-05-30T09:34:18.132Z"
   },
   {
    "duration": 117,
    "start_time": "2023-05-30T09:34:18.185Z"
   },
   {
    "duration": 4,
    "start_time": "2023-05-30T09:34:18.303Z"
   },
   {
    "duration": 1049,
    "start_time": "2023-05-30T09:34:18.309Z"
   },
   {
    "duration": 1437,
    "start_time": "2023-05-30T09:34:19.360Z"
   },
   {
    "duration": 61430,
    "start_time": "2023-05-30T09:34:20.799Z"
   },
   {
    "duration": 15993,
    "start_time": "2023-05-30T09:35:22.236Z"
   },
   {
    "duration": 91193,
    "start_time": "2023-05-30T09:35:38.231Z"
   },
   {
    "duration": 8016,
    "start_time": "2023-05-30T09:37:09.426Z"
   },
   {
    "duration": 3182,
    "start_time": "2023-05-30T09:37:17.444Z"
   },
   {
    "duration": 8,
    "start_time": "2023-05-30T09:37:20.627Z"
   },
   {
    "duration": 597,
    "start_time": "2023-05-30T09:37:20.637Z"
   },
   {
    "duration": 7663,
    "start_time": "2023-05-30T09:37:21.236Z"
   },
   {
    "duration": 9796,
    "start_time": "2023-05-30T09:37:28.901Z"
   }
  ],
  "kernelspec": {
   "display_name": "Python 3 (ipykernel)",
   "language": "python",
   "name": "python3"
  },
  "language_info": {
   "codemirror_mode": {
    "name": "ipython",
    "version": 3
   },
   "file_extension": ".py",
   "mimetype": "text/x-python",
   "name": "python",
   "nbconvert_exporter": "python",
   "pygments_lexer": "ipython3",
   "version": "3.9.12"
  },
  "toc": {
   "base_numbering": 1,
   "nav_menu": {},
   "number_sections": true,
   "sideBar": true,
   "skip_h1_title": true,
   "title_cell": "Table of Contents",
   "title_sidebar": "Contents",
   "toc_cell": false,
   "toc_position": {
    "height": "calc(100% - 180px)",
    "left": "10px",
    "top": "150px",
    "width": "243px"
   },
   "toc_section_display": true,
   "toc_window_display": true
  }
 },
 "nbformat": 4,
 "nbformat_minor": 2
}
