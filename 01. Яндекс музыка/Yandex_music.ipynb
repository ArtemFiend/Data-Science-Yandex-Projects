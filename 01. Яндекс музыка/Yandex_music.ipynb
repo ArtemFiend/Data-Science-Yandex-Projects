{
 "cells": [
  {
   "cell_type": "markdown",
   "metadata": {
    "deletable": false,
    "editable": false,
    "id": "E0vqbgi9ay0H"
   },
   "source": [
    "# Яндекс Музыка"
   ]
  },
  {
   "cell_type": "markdown",
   "metadata": {
    "deletable": false,
    "editable": false,
    "id": "VUC88oWjTJw2"
   },
   "source": [
    "Сравнение Москвы и Петербурга окружено мифами. Например:\n",
    " * Москва — мегаполис, подчинённый жёсткому ритму рабочей недели;\n",
    " * Петербург — культурная столица, со своими вкусами.\n",
    "\n",
    "На данных Яндекс Музыки вы сравните поведение пользователей двух столиц.\n",
    "\n",
    "**Цель исследования** — проверьте три гипотезы:\n",
    "1. Активность пользователей зависит от дня недели. Причём в Москве и Петербурге это проявляется по-разному.\n",
    "2. В понедельник утром в Москве преобладают одни жанры, а в Петербурге — другие. Так же и вечером пятницы преобладают разные жанры — в зависимости от города. \n",
    "3. Москва и Петербург предпочитают разные жанры музыки. В Москве чаще слушают поп-музыку, в Петербурге — русский рэп.\n",
    "\n",
    "**Ход исследования**\n",
    "\n",
    "Данные о поведении пользователей вы получите из файла `yandex_music_project.csv`. О качестве данных ничего не известно. Поэтому перед проверкой гипотез понадобится обзор данных. \n",
    "\n",
    "Вы проверите данные на ошибки и оцените их влияние на исследование. Затем, на этапе предобработки вы поищете возможность исправить самые критичные ошибки данных.\n",
    " \n",
    "Таким образом, исследование пройдёт в три этапа:\n",
    " 1. Обзор данных.\n",
    " 2. Предобработка данных.\n",
    " 3. Проверка гипотез.\n",
    "\n"
   ]
  },
  {
   "cell_type": "markdown",
   "metadata": {
    "deletable": false,
    "editable": false,
    "id": "Ml1hmfXC_Zcs"
   },
   "source": [
    "## Обзор данных\n",
    "\n",
    "Составьте первое представление о данных Яндекс Музыки.\n",
    "\n",
    "\n"
   ]
  },
  {
   "cell_type": "markdown",
   "metadata": {
    "deletable": false,
    "editable": false,
    "id": "57eAOGIz_Zcs",
    "tags": [
     "start_task"
    ]
   },
   "source": [
    "**Задание 1**\n",
    "\n",
    "Основной инструмент аналитика — `pandas`. Импортируйте эту библиотеку."
   ]
  },
  {
   "cell_type": "code",
   "execution_count": 1,
   "metadata": {
    "deletable": false,
    "id": "AXN7PHPN_Zcs"
   },
   "outputs": [],
   "source": [
    "import pandas as pd"
   ]
  },
  {
   "cell_type": "markdown",
   "metadata": {
    "deletable": false,
    "editable": false,
    "id": "SG23P8tt_Zcs",
    "tags": [
     "start_task"
    ]
   },
   "source": [
    "**Задание 2**\n",
    "\n",
    "Прочитайте файл `yandex_music_project.csv` из папки `/datasets` и сохраните его в переменной `df`:"
   ]
  },
  {
   "cell_type": "code",
   "execution_count": 2,
   "metadata": {
    "deletable": false,
    "id": "fFVu7vqh_Zct"
   },
   "outputs": [],
   "source": [
    "try:\n",
    "    df = pd.read_csv('/datasets/yandex_music_project.csv')\n",
    "except:\n",
    "    df = pd.read_csv('https://code.s3.yandex.net/datasets/yandex_music_project.csv')"
   ]
  },
  {
   "cell_type": "markdown",
   "metadata": {
    "deletable": false,
    "editable": false,
    "id": "rDoOMd3uTqnZ",
    "tags": [
     "start_task"
    ]
   },
   "source": [
    "**Задание 3**\n",
    "\n",
    "\n",
    "Выведите на экран первые десять строк таблицы:"
   ]
  },
  {
   "cell_type": "code",
   "execution_count": 3,
   "metadata": {
    "deletable": false,
    "id": "oWTVX3gW_Zct"
   },
   "outputs": [
    {
     "data": {
      "text/html": [
       "<div>\n",
       "<style scoped>\n",
       "    .dataframe tbody tr th:only-of-type {\n",
       "        vertical-align: middle;\n",
       "    }\n",
       "\n",
       "    .dataframe tbody tr th {\n",
       "        vertical-align: top;\n",
       "    }\n",
       "\n",
       "    .dataframe thead th {\n",
       "        text-align: right;\n",
       "    }\n",
       "</style>\n",
       "<table border=\"1\" class=\"dataframe\">\n",
       "  <thead>\n",
       "    <tr style=\"text-align: right;\">\n",
       "      <th></th>\n",
       "      <th>userID</th>\n",
       "      <th>Track</th>\n",
       "      <th>artist</th>\n",
       "      <th>genre</th>\n",
       "      <th>City</th>\n",
       "      <th>time</th>\n",
       "      <th>Day</th>\n",
       "    </tr>\n",
       "  </thead>\n",
       "  <tbody>\n",
       "    <tr>\n",
       "      <th>0</th>\n",
       "      <td>FFB692EC</td>\n",
       "      <td>Kamigata To Boots</td>\n",
       "      <td>The Mass Missile</td>\n",
       "      <td>rock</td>\n",
       "      <td>Saint-Petersburg</td>\n",
       "      <td>20:28:33</td>\n",
       "      <td>Wednesday</td>\n",
       "    </tr>\n",
       "    <tr>\n",
       "      <th>1</th>\n",
       "      <td>55204538</td>\n",
       "      <td>Delayed Because of Accident</td>\n",
       "      <td>Andreas Rönnberg</td>\n",
       "      <td>rock</td>\n",
       "      <td>Moscow</td>\n",
       "      <td>14:07:09</td>\n",
       "      <td>Friday</td>\n",
       "    </tr>\n",
       "    <tr>\n",
       "      <th>2</th>\n",
       "      <td>20EC38</td>\n",
       "      <td>Funiculì funiculà</td>\n",
       "      <td>Mario Lanza</td>\n",
       "      <td>pop</td>\n",
       "      <td>Saint-Petersburg</td>\n",
       "      <td>20:58:07</td>\n",
       "      <td>Wednesday</td>\n",
       "    </tr>\n",
       "    <tr>\n",
       "      <th>3</th>\n",
       "      <td>A3DD03C9</td>\n",
       "      <td>Dragons in the Sunset</td>\n",
       "      <td>Fire + Ice</td>\n",
       "      <td>folk</td>\n",
       "      <td>Saint-Petersburg</td>\n",
       "      <td>08:37:09</td>\n",
       "      <td>Monday</td>\n",
       "    </tr>\n",
       "    <tr>\n",
       "      <th>4</th>\n",
       "      <td>E2DC1FAE</td>\n",
       "      <td>Soul People</td>\n",
       "      <td>Space Echo</td>\n",
       "      <td>dance</td>\n",
       "      <td>Moscow</td>\n",
       "      <td>08:34:34</td>\n",
       "      <td>Monday</td>\n",
       "    </tr>\n",
       "    <tr>\n",
       "      <th>5</th>\n",
       "      <td>842029A1</td>\n",
       "      <td>Преданная</td>\n",
       "      <td>IMPERVTOR</td>\n",
       "      <td>rusrap</td>\n",
       "      <td>Saint-Petersburg</td>\n",
       "      <td>13:09:41</td>\n",
       "      <td>Friday</td>\n",
       "    </tr>\n",
       "    <tr>\n",
       "      <th>6</th>\n",
       "      <td>4CB90AA5</td>\n",
       "      <td>True</td>\n",
       "      <td>Roman Messer</td>\n",
       "      <td>dance</td>\n",
       "      <td>Moscow</td>\n",
       "      <td>13:00:07</td>\n",
       "      <td>Wednesday</td>\n",
       "    </tr>\n",
       "    <tr>\n",
       "      <th>7</th>\n",
       "      <td>F03E1C1F</td>\n",
       "      <td>Feeling This Way</td>\n",
       "      <td>Polina Griffith</td>\n",
       "      <td>dance</td>\n",
       "      <td>Moscow</td>\n",
       "      <td>20:47:49</td>\n",
       "      <td>Wednesday</td>\n",
       "    </tr>\n",
       "    <tr>\n",
       "      <th>8</th>\n",
       "      <td>8FA1D3BE</td>\n",
       "      <td>И вновь продолжается бой</td>\n",
       "      <td>NaN</td>\n",
       "      <td>ruspop</td>\n",
       "      <td>Moscow</td>\n",
       "      <td>09:17:40</td>\n",
       "      <td>Friday</td>\n",
       "    </tr>\n",
       "    <tr>\n",
       "      <th>9</th>\n",
       "      <td>E772D5C0</td>\n",
       "      <td>Pessimist</td>\n",
       "      <td>NaN</td>\n",
       "      <td>dance</td>\n",
       "      <td>Saint-Petersburg</td>\n",
       "      <td>21:20:49</td>\n",
       "      <td>Wednesday</td>\n",
       "    </tr>\n",
       "  </tbody>\n",
       "</table>\n",
       "</div>"
      ],
      "text/plain": [
       "     userID                        Track            artist   genre  \\\n",
       "0  FFB692EC            Kamigata To Boots  The Mass Missile    rock   \n",
       "1  55204538  Delayed Because of Accident  Andreas Rönnberg    rock   \n",
       "2    20EC38            Funiculì funiculà       Mario Lanza     pop   \n",
       "3  A3DD03C9        Dragons in the Sunset        Fire + Ice    folk   \n",
       "4  E2DC1FAE                  Soul People        Space Echo   dance   \n",
       "5  842029A1                    Преданная         IMPERVTOR  rusrap   \n",
       "6  4CB90AA5                         True      Roman Messer   dance   \n",
       "7  F03E1C1F             Feeling This Way   Polina Griffith   dance   \n",
       "8  8FA1D3BE     И вновь продолжается бой               NaN  ruspop   \n",
       "9  E772D5C0                    Pessimist               NaN   dance   \n",
       "\n",
       "             City        time        Day  \n",
       "0  Saint-Petersburg  20:28:33  Wednesday  \n",
       "1            Moscow  14:07:09     Friday  \n",
       "2  Saint-Petersburg  20:58:07  Wednesday  \n",
       "3  Saint-Petersburg  08:37:09     Monday  \n",
       "4            Moscow  08:34:34     Monday  \n",
       "5  Saint-Petersburg  13:09:41     Friday  \n",
       "6            Moscow  13:00:07  Wednesday  \n",
       "7            Moscow  20:47:49  Wednesday  \n",
       "8            Moscow  09:17:40     Friday  \n",
       "9  Saint-Petersburg  21:20:49  Wednesday  "
      ]
     },
     "execution_count": 3,
     "metadata": {},
     "output_type": "execute_result"
    }
   ],
   "source": [
    "df.head(10)"
   ]
  },
  {
   "cell_type": "markdown",
   "metadata": {
    "deletable": false,
    "editable": false,
    "id": "EO73Kwic_Zct",
    "tags": [
     "start_task"
    ]
   },
   "source": [
    "**Задание 4**\n",
    "\n",
    "\n",
    "Одной командой получить общую информацию о таблице c помощью метода `info()`:"
   ]
  },
  {
   "cell_type": "code",
   "execution_count": 4,
   "metadata": {
    "deletable": false,
    "id": "DSf2kIb-_Zct"
   },
   "outputs": [
    {
     "name": "stdout",
     "output_type": "stream",
     "text": [
      "<class 'pandas.core.frame.DataFrame'>\n",
      "RangeIndex: 65079 entries, 0 to 65078\n",
      "Data columns (total 7 columns):\n",
      " #   Column    Non-Null Count  Dtype \n",
      "---  ------    --------------  ----- \n",
      " 0     userID  65079 non-null  object\n",
      " 1   Track     63848 non-null  object\n",
      " 2   artist    57876 non-null  object\n",
      " 3   genre     63881 non-null  object\n",
      " 4     City    65079 non-null  object\n",
      " 5   time      65079 non-null  object\n",
      " 6   Day       65079 non-null  object\n",
      "dtypes: object(7)\n",
      "memory usage: 3.5+ MB\n"
     ]
    }
   ],
   "source": [
    "df.info()"
   ]
  },
  {
   "cell_type": "markdown",
   "metadata": {
    "deletable": false,
    "editable": false,
    "id": "TaQ2Iwbr_Zct"
   },
   "source": [
    "Итак, в таблице семь столбцов. Тип данных во всех столбцах — `object`.\n",
    "\n",
    "Согласно документации к данным:\n",
    "* `userID` — идентификатор пользователя;\n",
    "* `Track` — название трека;  \n",
    "* `artist` — имя исполнителя;\n",
    "* `genre` — название жанра;\n",
    "* `City` — город пользователя;\n",
    "* `time` — время начала прослушивания;\n",
    "* `Day` — день недели.\n",
    "\n",
    "Количество значений в столбцах различается. Значит, в данных есть пропущенные значения."
   ]
  },
  {
   "cell_type": "markdown",
   "metadata": {
    "deletable": false,
    "editable": false,
    "id": "rAfziTBDmf2h",
    "tags": [
     "start_task"
    ]
   },
   "source": [
    "**Задание 5**\n",
    "\n",
    "**Вопрос со свободной формой ответа**\n",
    "\n",
    "В названиях колонок видны нарушения стиля:\n",
    "* Строчные буквы сочетаются с прописными.\n",
    "* Встречаются пробелы.\n",
    "\n",
    "Какое третье нарушение?"
   ]
  },
  {
   "cell_type": "code",
   "execution_count": 5,
   "metadata": {
    "id": "jD8EXEIvmf2h"
   },
   "outputs": [],
   "source": [
    "# сплошной тест, нет '_' "
   ]
  },
  {
   "cell_type": "markdown",
   "metadata": {
    "deletable": false,
    "editable": false,
    "id": "MCB6-dXG_Zct"
   },
   "source": [
    "**Выводы**\n",
    "\n",
    "В каждой строке таблицы — данные о прослушанном треке. Часть колонок описывает саму композицию: название, исполнителя и жанр. Остальные данные рассказывают о пользователе: из какого он города, когда он слушал музыку. \n",
    "\n",
    "Предварительно можно утверждать, что данных достаточно для проверки гипотез. Но встречаются пропуски в данных, а в названиях колонок — расхождения с хорошим стилем.\n",
    "\n",
    "Чтобы двигаться дальше, нужно устранить проблемы в данных."
   ]
  },
  {
   "cell_type": "markdown",
   "metadata": {
    "deletable": false,
    "editable": false,
    "id": "SjYF6Ub9_Zct"
   },
   "source": [
    "## Предобработка данных\n",
    "Исправьте стиль в заголовках столбцов, исключите пропуски. Затем проверьте данные на дубликаты."
   ]
  },
  {
   "cell_type": "markdown",
   "metadata": {
    "deletable": false,
    "editable": false,
    "id": "dIaKXr29_Zct",
    "tags": [
     "start_task"
    ]
   },
   "source": [
    "### Стиль заголовков\n",
    "\n",
    "**Задание 6**\n",
    "\n",
    "Выведите на экран названия столбцов:"
   ]
  },
  {
   "cell_type": "code",
   "execution_count": 6,
   "metadata": {
    "deletable": false,
    "id": "oKOTdF_Q_Zct"
   },
   "outputs": [
    {
     "data": {
      "text/plain": [
       "Index(['  userID', 'Track', 'artist', 'genre', '  City  ', 'time', 'Day'], dtype='object')"
      ]
     },
     "execution_count": 6,
     "metadata": {},
     "output_type": "execute_result"
    }
   ],
   "source": [
    "df.columns"
   ]
  },
  {
   "cell_type": "markdown",
   "metadata": {
    "deletable": false,
    "editable": false,
    "id": "zj5534cv_Zct",
    "tags": [
     "start_task"
    ]
   },
   "source": [
    "**Задание 7**\n",
    "\n",
    "\n",
    "Приведите названия в соответствие с хорошим стилем:\n",
    "* несколько слов в названии запишите в «змеином_регистре»,\n",
    "* все символы сделайте строчными,\n",
    "* устраните пробелы.\n",
    "\n",
    "Для этого переименуйте колонки так:\n",
    "* `'  userID'` → `'user_id'`;\n",
    "* `'Track'` → `'track'`;\n",
    "* `'  City  '` → `'city'`;\n",
    "* `'Day'` → `'day'`."
   ]
  },
  {
   "cell_type": "code",
   "execution_count": 7,
   "metadata": {
    "deletable": false,
    "id": "ISlFqs5y_Zct"
   },
   "outputs": [],
   "source": [
    "df = df.rename(\n",
    "    columns = {\n",
    "        '  userID': 'user_id',\n",
    "        'Track': 'track',\n",
    "        '  City  ': 'city',\n",
    "        'Day': 'day'\n",
    "    })"
   ]
  },
  {
   "cell_type": "markdown",
   "metadata": {
    "deletable": false,
    "editable": false,
    "id": "1dqbh00J_Zct",
    "tags": [
     "start_task"
    ]
   },
   "source": [
    "**Задание 8**\n",
    "\n",
    "\n",
    "Проверьте результат. Для этого ещё раз выведите на экран названия столбцов:"
   ]
  },
  {
   "cell_type": "code",
   "execution_count": 8,
   "metadata": {
    "deletable": false,
    "id": "d4NOAmTW_Zct"
   },
   "outputs": [
    {
     "data": {
      "text/plain": [
       "Index(['user_id', 'track', 'artist', 'genre', 'city', 'time', 'day'], dtype='object')"
      ]
     },
     "execution_count": 8,
     "metadata": {},
     "output_type": "execute_result"
    }
   ],
   "source": [
    "df.columns"
   ]
  },
  {
   "cell_type": "markdown",
   "metadata": {
    "deletable": false,
    "editable": false,
    "id": "5ISfbcfY_Zct",
    "tags": [
     "start_task"
    ]
   },
   "source": [
    "### Пропуски значений\n",
    "\n",
    "**Задание 9**\n",
    "\n",
    "Сначала посчитайте, сколько в таблице пропущенных значений. Для этого достаточно двух методов `pandas`:"
   ]
  },
  {
   "cell_type": "code",
   "execution_count": 9,
   "metadata": {
    "deletable": false,
    "id": "RskX29qr_Zct"
   },
   "outputs": [
    {
     "data": {
      "text/plain": [
       "user_id       0\n",
       "track      1231\n",
       "artist     7203\n",
       "genre      1198\n",
       "city          0\n",
       "time          0\n",
       "day           0\n",
       "dtype: int64"
      ]
     },
     "execution_count": 9,
     "metadata": {},
     "output_type": "execute_result"
    }
   ],
   "source": [
    "df.isna().sum()"
   ]
  },
  {
   "cell_type": "markdown",
   "metadata": {
    "deletable": false,
    "editable": false,
    "id": "qubhgnlO_Zct"
   },
   "source": [
    "Не все пропущенные значения влияют на исследование. Так в `track` и `artist` пропуски не важны для вашей работы. Достаточно заменить их явными обозначениями.\n",
    "\n",
    "Но пропуски в `genre` могут помешать сравнению музыкальных вкусов в Москве и Санкт-Петербурге. На практике было бы правильно установить причину пропусков и восстановить данные. Такой возможности нет в учебном проекте. Придётся:\n",
    "* заполнить и эти пропуски явными обозначениями;\n",
    "* оценить, насколько они повредят расчётам. "
   ]
  },
  {
   "cell_type": "markdown",
   "metadata": {
    "deletable": false,
    "editable": false,
    "id": "fSv2laPA_Zct",
    "tags": [
     "start_task"
    ]
   },
   "source": [
    "**Задание 10**\n",
    "\n",
    "Замените пропущенные значения в столбцах `track`, `artist` и `genre` на строку `'unknown'`. Для этого создайте список `columns_to_replace`, переберите его элементы циклом `for` и для каждого столбца выполните замену пропущенных значений:"
   ]
  },
  {
   "cell_type": "code",
   "execution_count": 10,
   "metadata": {
    "deletable": false,
    "id": "KplB5qWs_Zct"
   },
   "outputs": [],
   "source": [
    "columns_to_replace = ['track', 'artist', 'genre']\n",
    "for column in columns_to_replace:\n",
    "    df[column] = df[column].fillna('unknown')"
   ]
  },
  {
   "cell_type": "markdown",
   "metadata": {
    "deletable": false,
    "editable": false,
    "id": "Ilsm-MZo_Zct",
    "tags": [
     "start_task"
    ]
   },
   "source": [
    "**Задание 11**\n",
    "\n",
    "Убедитесь, что в таблице не осталось пропусков. Для этого ещё раз посчитайте пропущенные значения."
   ]
  },
  {
   "cell_type": "code",
   "execution_count": 11,
   "metadata": {
    "deletable": false,
    "id": "Tq4nYRX4_Zct"
   },
   "outputs": [
    {
     "data": {
      "text/plain": [
       "user_id    0\n",
       "track      0\n",
       "artist     0\n",
       "genre      0\n",
       "city       0\n",
       "time       0\n",
       "day        0\n",
       "dtype: int64"
      ]
     },
     "execution_count": 11,
     "metadata": {},
     "output_type": "execute_result"
    }
   ],
   "source": [
    "df.isna().sum()"
   ]
  },
  {
   "cell_type": "markdown",
   "metadata": {
    "deletable": false,
    "editable": false,
    "id": "BWKRtBJ3_Zct",
    "tags": [
     "start_task"
    ]
   },
   "source": [
    "### Дубликаты\n",
    "\n",
    "**Задание 12**\n",
    "\n",
    "Посчитайте явные дубликаты в таблице одной командой:"
   ]
  },
  {
   "cell_type": "code",
   "execution_count": 12,
   "metadata": {
    "deletable": false,
    "id": "36eES_S0_Zct"
   },
   "outputs": [
    {
     "data": {
      "text/plain": [
       "3826"
      ]
     },
     "execution_count": 12,
     "metadata": {},
     "output_type": "execute_result"
    }
   ],
   "source": [
    "df.duplicated().sum()"
   ]
  },
  {
   "cell_type": "markdown",
   "metadata": {
    "deletable": false,
    "editable": false,
    "id": "Ot25h6XR_Zct",
    "tags": [
     "start_task"
    ]
   },
   "source": [
    "**Задание 13**\n",
    "\n",
    "Вызовите специальный метод `pandas`, чтобы удалить явные дубликаты:"
   ]
  },
  {
   "cell_type": "code",
   "execution_count": 13,
   "metadata": {
    "deletable": false,
    "id": "exFHq6tt_Zct"
   },
   "outputs": [],
   "source": [
    "df = df.drop_duplicates().reset_index(drop=True)"
   ]
  },
  {
   "cell_type": "markdown",
   "metadata": {
    "deletable": false,
    "editable": false,
    "id": "Im2YwBEG_Zct",
    "tags": [
     "start_task"
    ]
   },
   "source": [
    "**Задание 14**\n",
    "\n",
    "Ещё раз посчитайте явные дубликаты в таблице — убедитесь, что полностью от них избавились:"
   ]
  },
  {
   "cell_type": "code",
   "execution_count": 14,
   "metadata": {
    "deletable": false,
    "id": "-8PuNWQ0_Zct"
   },
   "outputs": [
    {
     "data": {
      "text/plain": [
       "0"
      ]
     },
     "execution_count": 14,
     "metadata": {},
     "output_type": "execute_result"
    }
   ],
   "source": [
    "df.duplicated().sum()"
   ]
  },
  {
   "cell_type": "markdown",
   "metadata": {
    "deletable": false,
    "editable": false,
    "id": "QlFBsxAr_Zct"
   },
   "source": [
    "Теперь избавьтесь от неявных дубликатов в колонке `genre`. Например, название одного и того же жанра может быть записано немного по-разному. Такие ошибки тоже повлияют на результат исследования."
   ]
  },
  {
   "cell_type": "markdown",
   "metadata": {
    "deletable": false,
    "editable": false,
    "id": "eSjWwsOh_Zct",
    "tags": [
     "start_task"
    ]
   },
   "source": [
    "**Задание 15**\n",
    "\n",
    "Выведите на экран список уникальных названий жанров, отсортированный в алфавитном порядке. Для этого:\n",
    "1. извлеките нужный столбец датафрейма; \n",
    "2. примените к нему метод сортировки;\n",
    "3. для отсортированного столбца вызовите метод, который вернёт уникальные значения из столбца."
   ]
  },
  {
   "cell_type": "code",
   "execution_count": 15,
   "metadata": {
    "deletable": false,
    "id": "JIUcqzZN_Zct"
   },
   "outputs": [
    {
     "data": {
      "text/plain": [
       "array(['acid', 'acoustic', 'action', 'adult', 'africa', 'afrikaans',\n",
       "       'alternative', 'alternativepunk', 'ambient', 'americana',\n",
       "       'animated', 'anime', 'arabesk', 'arabic', 'arena',\n",
       "       'argentinetango', 'art', 'audiobook', 'author', 'avantgarde',\n",
       "       'axé', 'baile', 'balkan', 'beats', 'bigroom', 'black', 'bluegrass',\n",
       "       'blues', 'bollywood', 'bossa', 'brazilian', 'breakbeat', 'breaks',\n",
       "       'broadway', 'cantautori', 'cantopop', 'canzone', 'caribbean',\n",
       "       'caucasian', 'celtic', 'chamber', 'chanson', 'children', 'chill',\n",
       "       'chinese', 'choral', 'christian', 'christmas', 'classical',\n",
       "       'classicmetal', 'club', 'colombian', 'comedy', 'conjazz',\n",
       "       'contemporary', 'country', 'cuban', 'dance', 'dancehall',\n",
       "       'dancepop', 'dark', 'death', 'deep', 'deutschrock', 'deutschspr',\n",
       "       'dirty', 'disco', 'dnb', 'documentary', 'downbeat', 'downtempo',\n",
       "       'drum', 'dub', 'dubstep', 'eastern', 'easy', 'electronic',\n",
       "       'electropop', 'emo', 'entehno', 'epicmetal', 'estrada', 'ethnic',\n",
       "       'eurofolk', 'european', 'experimental', 'extrememetal', 'fado',\n",
       "       'fairytail', 'film', 'fitness', 'flamenco', 'folk', 'folklore',\n",
       "       'folkmetal', 'folkrock', 'folktronica', 'forró', 'frankreich',\n",
       "       'französisch', 'french', 'funk', 'future', 'gangsta', 'garage',\n",
       "       'german', 'ghazal', 'gitarre', 'glitch', 'gospel', 'gothic',\n",
       "       'grime', 'grunge', 'gypsy', 'handsup', \"hard'n'heavy\", 'hardcore',\n",
       "       'hardstyle', 'hardtechno', 'hip', 'hip-hop', 'hiphop',\n",
       "       'historisch', 'holiday', 'hop', 'horror', 'house', 'hymn', 'idm',\n",
       "       'independent', 'indian', 'indie', 'indipop', 'industrial',\n",
       "       'inspirational', 'instrumental', 'international', 'irish', 'jam',\n",
       "       'japanese', 'jazz', 'jewish', 'jpop', 'jungle', 'k-pop',\n",
       "       'karadeniz', 'karaoke', 'kayokyoku', 'korean', 'laiko', 'latin',\n",
       "       'latino', 'leftfield', 'local', 'lounge', 'loungeelectronic',\n",
       "       'lovers', 'malaysian', 'mandopop', 'marschmusik', 'meditative',\n",
       "       'mediterranean', 'melodic', 'metal', 'metalcore', 'mexican',\n",
       "       'middle', 'minimal', 'miscellaneous', 'modern', 'mood', 'mpb',\n",
       "       'muslim', 'native', 'neoklassik', 'neue', 'new', 'newage',\n",
       "       'newwave', 'nu', 'nujazz', 'numetal', 'oceania', 'old', 'opera',\n",
       "       'orchestral', 'other', 'piano', 'podcasts', 'pop', 'popdance',\n",
       "       'popelectronic', 'popeurodance', 'poprussian', 'post',\n",
       "       'posthardcore', 'postrock', 'power', 'progmetal', 'progressive',\n",
       "       'psychedelic', 'punjabi', 'punk', 'quebecois', 'ragga', 'ram',\n",
       "       'rancheras', 'rap', 'rave', 'reggae', 'reggaeton', 'regional',\n",
       "       'relax', 'religious', 'retro', 'rhythm', 'rnb', 'rnr', 'rock',\n",
       "       'rockabilly', 'rockalternative', 'rockindie', 'rockother',\n",
       "       'romance', 'roots', 'ruspop', 'rusrap', 'rusrock', 'russian',\n",
       "       'salsa', 'samba', 'scenic', 'schlager', 'self', 'sertanejo',\n",
       "       'shanson', 'shoegazing', 'showtunes', 'singer', 'ska', 'skarock',\n",
       "       'slow', 'smooth', 'soft', 'soul', 'soulful', 'sound', 'soundtrack',\n",
       "       'southern', 'specialty', 'speech', 'spiritual', 'sport',\n",
       "       'stonerrock', 'surf', 'swing', 'synthpop', 'synthrock',\n",
       "       'sängerportrait', 'tango', 'tanzorchester', 'taraftar', 'tatar',\n",
       "       'tech', 'techno', 'teen', 'thrash', 'top', 'traditional',\n",
       "       'tradjazz', 'trance', 'tribal', 'trip', 'triphop', 'tropical',\n",
       "       'türk', 'türkçe', 'ukrrock', 'unknown', 'urban', 'uzbek',\n",
       "       'variété', 'vi', 'videogame', 'vocal', 'western', 'world',\n",
       "       'worldbeat', 'ïîï', 'электроника'], dtype=object)"
      ]
     },
     "execution_count": 15,
     "metadata": {},
     "output_type": "execute_result"
    }
   ],
   "source": [
    "df['genre'].unique()\n",
    "sorted_genre = df['genre'].sort_values()\n",
    "sorted_genre = sorted_genre.unique()\n",
    "sorted_genre"
   ]
  },
  {
   "cell_type": "markdown",
   "metadata": {
    "deletable": false,
    "editable": false,
    "id": "qej-Qmuo_Zct",
    "tags": [
     "start_task"
    ]
   },
   "source": [
    "**Задание 16**\n",
    "\n",
    "Просмотрите список и найдите неявные дубликаты названия `hiphop`. Это могут быть названия с ошибками или альтернативные названия того же жанра.\n",
    "\n",
    "Вы увидите следующие неявные дубликаты:\n",
    "* *hip*,\n",
    "* *hop*,\n",
    "* *hip-hop*.\n",
    "\n",
    "Чтобы очистить от них таблицу используйте метод `replace()` с двумя аргументами: списком строк-дубликатов (включащий *hip*, *hop* и *hip-hop*) и строкой с правильным значением. Вам нужно исправить колонку `genre` в таблице `df`: заменить каждое значение из списка дубликатов на верное. Вместо `hip`, `hop` и `hip-hop` в таблице должно быть значение `hiphop`:"
   ]
  },
  {
   "cell_type": "code",
   "execution_count": 16,
   "metadata": {
    "deletable": false,
    "id": "ErNDkmns_Zct"
   },
   "outputs": [],
   "source": [
    "df['genre'] = df['genre'].replace(['hip', 'hop', 'hip-hop'], 'hiphop')"
   ]
  },
  {
   "cell_type": "markdown",
   "metadata": {
    "deletable": false,
    "editable": false,
    "id": "zQKF16_RG15m",
    "tags": [
     "start_task"
    ]
   },
   "source": [
    "**Задание 17**\n",
    "\n",
    "Проверьте, что заменили неправильные названия:\n",
    "\n",
    "*   hip,\n",
    "*   hop,\n",
    "*   hip-hop.\n",
    "\n",
    "Выведите отсортированный список уникальных значений столбца `genre`:"
   ]
  },
  {
   "cell_type": "code",
   "execution_count": 17,
   "metadata": {
    "deletable": false,
    "id": "wvixALnFG15m"
   },
   "outputs": [
    {
     "data": {
      "text/plain": [
       "array(['acid', 'acoustic', 'action', 'adult', 'africa', 'afrikaans',\n",
       "       'alternative', 'alternativepunk', 'ambient', 'americana',\n",
       "       'animated', 'anime', 'arabesk', 'arabic', 'arena',\n",
       "       'argentinetango', 'art', 'audiobook', 'author', 'avantgarde',\n",
       "       'axé', 'baile', 'balkan', 'beats', 'bigroom', 'black', 'bluegrass',\n",
       "       'blues', 'bollywood', 'bossa', 'brazilian', 'breakbeat', 'breaks',\n",
       "       'broadway', 'cantautori', 'cantopop', 'canzone', 'caribbean',\n",
       "       'caucasian', 'celtic', 'chamber', 'chanson', 'children', 'chill',\n",
       "       'chinese', 'choral', 'christian', 'christmas', 'classical',\n",
       "       'classicmetal', 'club', 'colombian', 'comedy', 'conjazz',\n",
       "       'contemporary', 'country', 'cuban', 'dance', 'dancehall',\n",
       "       'dancepop', 'dark', 'death', 'deep', 'deutschrock', 'deutschspr',\n",
       "       'dirty', 'disco', 'dnb', 'documentary', 'downbeat', 'downtempo',\n",
       "       'drum', 'dub', 'dubstep', 'eastern', 'easy', 'electronic',\n",
       "       'electropop', 'emo', 'entehno', 'epicmetal', 'estrada', 'ethnic',\n",
       "       'eurofolk', 'european', 'experimental', 'extrememetal', 'fado',\n",
       "       'fairytail', 'film', 'fitness', 'flamenco', 'folk', 'folklore',\n",
       "       'folkmetal', 'folkrock', 'folktronica', 'forró', 'frankreich',\n",
       "       'französisch', 'french', 'funk', 'future', 'gangsta', 'garage',\n",
       "       'german', 'ghazal', 'gitarre', 'glitch', 'gospel', 'gothic',\n",
       "       'grime', 'grunge', 'gypsy', 'handsup', \"hard'n'heavy\", 'hardcore',\n",
       "       'hardstyle', 'hardtechno', 'hiphop', 'historisch', 'holiday',\n",
       "       'horror', 'house', 'hymn', 'idm', 'independent', 'indian', 'indie',\n",
       "       'indipop', 'industrial', 'inspirational', 'instrumental',\n",
       "       'international', 'irish', 'jam', 'japanese', 'jazz', 'jewish',\n",
       "       'jpop', 'jungle', 'k-pop', 'karadeniz', 'karaoke', 'kayokyoku',\n",
       "       'korean', 'laiko', 'latin', 'latino', 'leftfield', 'local',\n",
       "       'lounge', 'loungeelectronic', 'lovers', 'malaysian', 'mandopop',\n",
       "       'marschmusik', 'meditative', 'mediterranean', 'melodic', 'metal',\n",
       "       'metalcore', 'mexican', 'middle', 'minimal', 'miscellaneous',\n",
       "       'modern', 'mood', 'mpb', 'muslim', 'native', 'neoklassik', 'neue',\n",
       "       'new', 'newage', 'newwave', 'nu', 'nujazz', 'numetal', 'oceania',\n",
       "       'old', 'opera', 'orchestral', 'other', 'piano', 'podcasts', 'pop',\n",
       "       'popdance', 'popelectronic', 'popeurodance', 'poprussian', 'post',\n",
       "       'posthardcore', 'postrock', 'power', 'progmetal', 'progressive',\n",
       "       'psychedelic', 'punjabi', 'punk', 'quebecois', 'ragga', 'ram',\n",
       "       'rancheras', 'rap', 'rave', 'reggae', 'reggaeton', 'regional',\n",
       "       'relax', 'religious', 'retro', 'rhythm', 'rnb', 'rnr', 'rock',\n",
       "       'rockabilly', 'rockalternative', 'rockindie', 'rockother',\n",
       "       'romance', 'roots', 'ruspop', 'rusrap', 'rusrock', 'russian',\n",
       "       'salsa', 'samba', 'scenic', 'schlager', 'self', 'sertanejo',\n",
       "       'shanson', 'shoegazing', 'showtunes', 'singer', 'ska', 'skarock',\n",
       "       'slow', 'smooth', 'soft', 'soul', 'soulful', 'sound', 'soundtrack',\n",
       "       'southern', 'specialty', 'speech', 'spiritual', 'sport',\n",
       "       'stonerrock', 'surf', 'swing', 'synthpop', 'synthrock',\n",
       "       'sängerportrait', 'tango', 'tanzorchester', 'taraftar', 'tatar',\n",
       "       'tech', 'techno', 'teen', 'thrash', 'top', 'traditional',\n",
       "       'tradjazz', 'trance', 'tribal', 'trip', 'triphop', 'tropical',\n",
       "       'türk', 'türkçe', 'ukrrock', 'unknown', 'urban', 'uzbek',\n",
       "       'variété', 'vi', 'videogame', 'vocal', 'western', 'world',\n",
       "       'worldbeat', 'ïîï', 'электроника'], dtype=object)"
      ]
     },
     "execution_count": 17,
     "metadata": {},
     "output_type": "execute_result"
    }
   ],
   "source": [
    "df['genre'].unique()\n",
    "sorted_genre = df['genre'].sort_values()\n",
    "sorted_genre = sorted_genre.unique()\n",
    "sorted_genre"
   ]
  },
  {
   "cell_type": "markdown",
   "metadata": {
    "deletable": false,
    "editable": false,
    "id": "jz6a9-7HQUDd"
   },
   "source": [
    "**Выводы**\n",
    "\n",
    "Предобработка обнаружила три проблемы в данных:\n",
    "\n",
    "- нарушения в стиле заголовков,\n",
    "- пропущенные значения,\n",
    "- дубликаты — явные и неявные.\n",
    "\n",
    "Вы исправили заголовки, чтобы упростить работу с таблицей. Без дубликатов исследование станет более точным.\n",
    "\n",
    "Пропущенные значения вы заменили на `'unknown'`. Ещё предстоит увидеть, не повредят ли исследованию пропуски в колонке `genre`.\n",
    "\n",
    "Теперь можно перейти к проверке гипотез. "
   ]
  },
  {
   "cell_type": "markdown",
   "metadata": {
    "deletable": false,
    "editable": false,
    "id": "WttZHXH0SqKk"
   },
   "source": [
    "# Проверка гипотез"
   ]
  },
  {
   "cell_type": "markdown",
   "metadata": {
    "deletable": false,
    "editable": false,
    "id": "Im936VVi_Zcu"
   },
   "source": [
    "### Сравнение поведения пользователей двух столиц"
   ]
  },
  {
   "cell_type": "markdown",
   "metadata": {
    "deletable": false,
    "editable": false,
    "id": "nwt_MuaL_Zcu"
   },
   "source": [
    "Первая гипотеза утверждает, что пользователи по-разному слушают музыку в Москве и Санкт-Петербурге. Проверьте это предположение по данным о трёх днях недели — понедельнике, среде и пятнице. Для этого:\n",
    "\n",
    "* Разделите пользователей Москвы и Санкт-Петербурга.\n",
    "* Сравните, сколько треков послушала каждая группа пользователей в понедельник, среду и пятницу.\n"
   ]
  },
  {
   "cell_type": "markdown",
   "metadata": {
    "deletable": false,
    "editable": false,
    "id": "8Dw_YMmT_Zcu",
    "tags": [
     "start_task"
    ]
   },
   "source": [
    "**Задание 18**\n",
    "\n",
    "Для тренировки сначала выполните каждый из расчётов по отдельности. \n",
    "\n",
    "Оцените активность пользователей в каждом городе. Сгруппируйте данные по городу и посчитайте прослушивания в каждой группе.\n",
    "\n"
   ]
  },
  {
   "cell_type": "code",
   "execution_count": 18,
   "metadata": {
    "deletable": false,
    "id": "0_Qs96oh_Zcu"
   },
   "outputs": [
    {
     "data": {
      "text/plain": [
       "city\n",
       "Moscow              42741\n",
       "Saint-Petersburg    18512\n",
       "Name: time, dtype: int64"
      ]
     },
     "execution_count": 18,
     "metadata": {},
     "output_type": "execute_result"
    }
   ],
   "source": [
    "df.groupby('city')['time'].count()"
   ]
  },
  {
   "cell_type": "markdown",
   "metadata": {
    "deletable": false,
    "editable": false,
    "id": "dzli3w8o_Zcu",
    "tags": [
     "start_task"
    ]
   },
   "source": [
    "В Москве прослушиваний больше, чем в Петербурге. Из этого не следует, что московские пользователи чаще слушают музыку. Просто самих пользователей в Москве больше.\n",
    "\n",
    "**Задание 19**\n",
    "\n",
    "Теперь сгруппируйте данные по дню недели и посчитайте прослушивания в понедельник, среду и пятницу. Учтите, что в данных есть информация о прослушиваниях только за эти дни.\n"
   ]
  },
  {
   "cell_type": "code",
   "execution_count": 19,
   "metadata": {
    "deletable": false,
    "id": "uZMKjiJz_Zcu"
   },
   "outputs": [
    {
     "data": {
      "text/plain": [
       "day\n",
       "Friday       21840\n",
       "Monday       21354\n",
       "Wednesday    18059\n",
       "Name: time, dtype: int64"
      ]
     },
     "execution_count": 19,
     "metadata": {},
     "output_type": "execute_result"
    }
   ],
   "source": [
    "df.groupby('day')['time'].count()"
   ]
  },
  {
   "cell_type": "markdown",
   "metadata": {
    "deletable": false,
    "editable": false,
    "id": "cC2tNrlL_Zcu"
   },
   "source": [
    "В среднем пользователи из двух городов менее активны по средам. Но картина может измениться, если рассмотреть каждый город в отдельности."
   ]
  },
  {
   "cell_type": "markdown",
   "metadata": {
    "deletable": false,
    "editable": false,
    "id": "POzs8bGa_Zcu",
    "tags": [
     "start_task"
    ]
   },
   "source": [
    "**Задание 20**\n",
    "\n",
    "\n",
    "Вы видели, как работает группировка по городу и по дням недели. Теперь напишите функцию, которая объединит два эти расчёта.\n",
    "\n",
    "Создайте функцию `number_tracks()`, которая посчитает прослушивания для заданного дня и города. Ей понадобятся два параметра:\n",
    "* день недели,\n",
    "* название города.\n",
    "\n",
    "В функции сохраните в переменную строки исходной таблицы, у которых значение:\n",
    "  * в колонке `day` равно параметру `day`,\n",
    "  * в колонке `city` равно параметру `city`.\n",
    "\n",
    "Для этого примените последовательную фильтрацию с логической индексацией (или сложные логические выражения в одну строку, если вы уже знакомы с ними).\n",
    "\n",
    "Затем посчитайте значения в столбце `user_id` получившейся таблицы. Результат сохраните в новую переменную. Верните эту переменную из функции."
   ]
  },
  {
   "cell_type": "code",
   "execution_count": 20,
   "metadata": {
    "deletable": false,
    "id": "Nz3GdQB1_Zcu"
   },
   "outputs": [],
   "source": [
    "# <создание функции number_tracks()>\n",
    "# Объявляется функция с двумя параметрами: day, city.\n",
    "def number_tracks(day, city):\n",
    "    track_list = df[(df['day'] == day)&(df['city'] == city)]\n",
    "    track_list_count = track_list['user_id'].count()\n",
    "    return track_list_count\n",
    "\n",
    "# В переменной track_list сохраняются те строки таблицы df, для которых \n",
    "# значение в столбце 'day' равно параметру day и одновременно значение\n",
    "# в столбце 'city' равно параметру city (используйте последовательную фильтрацию\n",
    "# с помощью логической индексации или сложные логические выражения в одну строку, если вы уже знакомы с ними).\n",
    "# В переменной track_list_count сохраняется число значений столбца 'user_id',\n",
    "# рассчитанное методом count() для таблицы track_list.\n",
    "# Функция возвращает число - значение track_list_count.\n",
    "\n",
    "# Функция для подсчёта прослушиваний для конкретного города и дня.\n",
    "# С помощью последовательной фильтрации с логической индексацией она \n",
    "# сначала получит из исходной таблицы строки с нужным днём,\n",
    "# затем из результата отфильтрует строки с нужным городом,\n",
    "# методом count() посчитает количество значений в колонке user_id. \n",
    "# Это количество функция вернёт в качестве результата"
   ]
  },
  {
   "cell_type": "markdown",
   "metadata": {
    "deletable": false,
    "editable": false,
    "id": "ytf7xFrFJQ2r",
    "tags": [
     "start_task"
    ]
   },
   "source": [
    "**Задание 21**\n",
    "\n",
    "Вызовите `number_tracks()` шесть раз, меняя значение параметров — так, чтобы получить данные для каждого города в каждый из трёх дней."
   ]
  },
  {
   "cell_type": "code",
   "execution_count": 21,
   "metadata": {
    "deletable": false,
    "id": "rJcRATNQ_Zcu"
   },
   "outputs": [
    {
     "data": {
      "text/plain": [
       "15740"
      ]
     },
     "execution_count": 21,
     "metadata": {},
     "output_type": "execute_result"
    }
   ],
   "source": [
    "number_tracks(city='Moscow', day='Monday')"
   ]
  },
  {
   "cell_type": "code",
   "execution_count": 22,
   "metadata": {
    "deletable": false,
    "id": "hq_ncZ5T_Zcu"
   },
   "outputs": [
    {
     "data": {
      "text/plain": [
       "5614"
      ]
     },
     "execution_count": 22,
     "metadata": {},
     "output_type": "execute_result"
    }
   ],
   "source": [
    "number_tracks(city='Saint-Petersburg', day='Monday')"
   ]
  },
  {
   "cell_type": "code",
   "execution_count": 23,
   "metadata": {
    "deletable": false,
    "id": "_NTy2VPU_Zcu"
   },
   "outputs": [
    {
     "data": {
      "text/plain": [
       "11056"
      ]
     },
     "execution_count": 23,
     "metadata": {},
     "output_type": "execute_result"
    }
   ],
   "source": [
    "number_tracks(city='Moscow', day='Wednesday')"
   ]
  },
  {
   "cell_type": "code",
   "execution_count": 24,
   "metadata": {
    "deletable": false,
    "id": "j2y3TAwo_Zcu"
   },
   "outputs": [
    {
     "data": {
      "text/plain": [
       "7003"
      ]
     },
     "execution_count": 24,
     "metadata": {},
     "output_type": "execute_result"
    }
   ],
   "source": [
    "number_tracks(city='Saint-Petersburg', day='Wednesday')"
   ]
  },
  {
   "cell_type": "code",
   "execution_count": 25,
   "metadata": {
    "deletable": false,
    "id": "vYDw5u_K_Zcu"
   },
   "outputs": [
    {
     "data": {
      "text/plain": [
       "15945"
      ]
     },
     "execution_count": 25,
     "metadata": {},
     "output_type": "execute_result"
    }
   ],
   "source": [
    "number_tracks(city='Moscow', day='Friday')"
   ]
  },
  {
   "cell_type": "code",
   "execution_count": 26,
   "metadata": {
    "deletable": false,
    "id": "8_yzFtW3_Zcu"
   },
   "outputs": [
    {
     "data": {
      "text/plain": [
       "5895"
      ]
     },
     "execution_count": 26,
     "metadata": {},
     "output_type": "execute_result"
    }
   ],
   "source": [
    "number_tracks(city='Saint-Petersburg', day='Friday')"
   ]
  },
  {
   "cell_type": "markdown",
   "metadata": {
    "deletable": false,
    "editable": false,
    "id": "7QXffbO-_Zcu",
    "tags": [
     "start_task"
    ]
   },
   "source": [
    "**Задание 22**\n",
    "\n",
    "Создайте c помощью конструктора `pd.DataFrame` таблицу, где\n",
    "* названия колонок — `['city', 'monday', 'wednesday', 'friday']`;\n",
    "* данные — результаты, которые вы получили с помощью `number_tracks`."
   ]
  },
  {
   "cell_type": "code",
   "execution_count": 27,
   "metadata": {
    "deletable": false,
    "id": "APAcLpOr_Zcu"
   },
   "outputs": [
    {
     "data": {
      "text/html": [
       "<div>\n",
       "<style scoped>\n",
       "    .dataframe tbody tr th:only-of-type {\n",
       "        vertical-align: middle;\n",
       "    }\n",
       "\n",
       "    .dataframe tbody tr th {\n",
       "        vertical-align: top;\n",
       "    }\n",
       "\n",
       "    .dataframe thead th {\n",
       "        text-align: right;\n",
       "    }\n",
       "</style>\n",
       "<table border=\"1\" class=\"dataframe\">\n",
       "  <thead>\n",
       "    <tr style=\"text-align: right;\">\n",
       "      <th></th>\n",
       "      <th>city</th>\n",
       "      <th>monday</th>\n",
       "      <th>wednesday</th>\n",
       "      <th>friday</th>\n",
       "    </tr>\n",
       "  </thead>\n",
       "  <tbody>\n",
       "    <tr>\n",
       "      <th>0</th>\n",
       "      <td>Москва</td>\n",
       "      <td>15740</td>\n",
       "      <td>11056</td>\n",
       "      <td>15945</td>\n",
       "    </tr>\n",
       "    <tr>\n",
       "      <th>1</th>\n",
       "      <td>Санкт-Петербург</td>\n",
       "      <td>5614</td>\n",
       "      <td>7003</td>\n",
       "      <td>5895</td>\n",
       "    </tr>\n",
       "  </tbody>\n",
       "</table>\n",
       "</div>"
      ],
      "text/plain": [
       "              city  monday  wednesday  friday\n",
       "0           Москва   15740      11056   15945\n",
       "1  Санкт-Петербург    5614       7003    5895"
      ]
     },
     "execution_count": 27,
     "metadata": {},
     "output_type": "execute_result"
    }
   ],
   "source": [
    "columns = ['city', 'monday', 'wednesday', 'friday']\n",
    "data = [['Москва', 15740, 11056, 15945],['Санкт-Петербург', 5614, 7003, 5895]]\n",
    "info = pd.DataFrame(data=data, columns=columns)\n",
    "info"
   ]
  },
  {
   "cell_type": "markdown",
   "metadata": {
    "deletable": false,
    "editable": false,
    "id": "-EgPIHYu_Zcu"
   },
   "source": [
    "**Выводы**\n",
    "\n",
    "Данные показывают разницу поведения пользователей:\n",
    "\n",
    "- В Москве пик прослушиваний приходится на понедельник и пятницу, а в среду заметен спад.\n",
    "- В Петербурге, наоборот, больше слушают музыку по средам. Активность в понедельник и пятницу здесь почти в равной мере уступает среде.\n",
    "\n",
    "Значит, данные говорят в пользу первой гипотезы."
   ]
  },
  {
   "cell_type": "markdown",
   "metadata": {
    "deletable": false,
    "editable": false,
    "id": "atZAxtq4_Zcu"
   },
   "source": [
    "### Музыка в начале и в конце недели"
   ]
  },
  {
   "cell_type": "markdown",
   "metadata": {
    "deletable": false,
    "editable": false,
    "id": "eXrQqXFH_Zcu"
   },
   "source": [
    "Согласно второй гипотезе, утром в понедельник в Москве преобладают одни жанры, а в Петербурге — другие. Так же и вечером пятницы преобладают разные жанры — в зависимости от города."
   ]
  },
  {
   "cell_type": "markdown",
   "metadata": {
    "deletable": false,
    "editable": false,
    "id": "S8UcW6Hw_Zcu",
    "tags": [
     "start_task"
    ]
   },
   "source": [
    "**Задание 23**\n",
    "\n",
    "Сохраните таблицы с данными в две переменные:\n",
    "* по Москве — в `moscow_general`;\n",
    "* по Санкт-Петербургу — в `spb_general`."
   ]
  },
  {
   "cell_type": "code",
   "execution_count": 28,
   "metadata": {
    "deletable": false,
    "id": "qeaFfM_P_Zcu"
   },
   "outputs": [],
   "source": [
    "# получение таблицы moscow_general из тех строк таблицы df, \n",
    "# для которых значение в столбце 'city' равно 'Moscow'\n",
    "moscow_general = df[df['city'] == 'Moscow']"
   ]
  },
  {
   "cell_type": "code",
   "execution_count": 29,
   "metadata": {
    "deletable": false,
    "id": "ORaVRKto_Zcu"
   },
   "outputs": [],
   "source": [
    "# получение таблицы spb_general из тех строк таблицы df,\n",
    "# для которых значение в столбце 'city' равно 'Saint-Petersburg'\n",
    "spb_general = df[df['city'] == 'Saint-Petersburg']"
   ]
  },
  {
   "cell_type": "markdown",
   "metadata": {
    "deletable": false,
    "editable": false,
    "id": "MEJV-CX2_Zcu",
    "tags": [
     "start_task"
    ]
   },
   "source": [
    "**Задание 24**\n",
    "\n",
    "Создайте функцию `genre_weekday()` с четырьмя параметрами:\n",
    "* таблица (датафрейм) с данными,\n",
    "* день недели,\n",
    "* начальная временная метка в формате 'hh:mm', \n",
    "* последняя временная метка в формате 'hh:mm'.\n",
    "\n",
    "Функция должна вернуть информацию о топ-10 жанров тех треков, которые прослушивали в указанный день, в промежутке между двумя отметками времени."
   ]
  },
  {
   "cell_type": "code",
   "execution_count": 30,
   "metadata": {
    "deletable": false,
    "id": "laJT9BYl_Zcu"
   },
   "outputs": [],
   "source": [
    "# Объявление функции genre_weekday() с параметрами table, day, time1, time2,\n",
    "# которая возвращает информацию о самых популярных жанрах в указанный день в\n",
    "# заданное время:\n",
    "# 1) в переменную genre_df сохраняются те строки переданного датафрейма table, для\n",
    "#    которых одновременно:\n",
    "#    - значение в столбце day равно значению аргумента day\n",
    "#    - значение в столбце time больше значения аргумента time1\n",
    "#    - значение в столбце time меньше значения аргумента time2\n",
    "#    Используйте последовательную фильтрацию с помощью логической индексации.\n",
    "# 2) сгруппировать датафрейм genre_df по столбцу genre, взять один из его\n",
    "#    столбцов и посчитать методом count() количество записей для каждого из\n",
    "#    присутствующих жанров, получившийся Series записать в переменную\n",
    "#    genre_df_count\n",
    "# 3) отсортировать genre_df_count по убыванию встречаемости и сохранить\n",
    "#    в переменную genre_df_sorted\n",
    "# 4) вернуть Series из 10 первых значений genre_df_sorted, это будут топ-10\n",
    "#    популярных жанров (в указанный день, в заданное время)\n",
    "\n",
    "def genre_weekday(df, day, time1, time2):\n",
    "    # последовательная фильтрация\n",
    "    # оставляем в genre_df только те строки df, у которых день равен day\n",
    "    genre_df = df[df['day']==day]\n",
    "    # оставляем в genre_df только те строки genre_df, у которых время меньше time2\n",
    "    genre_df = genre_df[genre_df['time']<time2]\n",
    "    # оставляем в genre_df только те строки genre_df, у которых время больше time1\n",
    "    genre_df = genre_df[genre_df['time']>time1]\n",
    "    # сгруппируем отфильтрованный датафрейм по столбцу с названиями жанров, возьмём столбец genre и посчитаем кол-во строк для каждого жанра методом count()\n",
    "    genre_df_grouped = genre_df.groupby('genre')['genre'].count()\n",
    "    # отсортируем результат по убыванию (чтобы в начале Series оказались самые популярные жанры)\n",
    "    genre_df_sorted = genre_df_grouped.sort_values(ascending=False)\n",
    "    # вернём Series с 10 самыми популярными жанрами в указанный отрезок времени заданного дня\n",
    "    return genre_df_sorted[:10]"
   ]
  },
  {
   "cell_type": "markdown",
   "metadata": {
    "deletable": false,
    "editable": false,
    "id": "la2s2_PF_Zcu",
    "tags": [
     "start_task"
    ]
   },
   "source": [
    "**Задание 25**\n",
    "\n",
    "\n",
    "Cравните результаты функции `genre_weekday()` для Москвы и Санкт-Петербурга в понедельник утром (с 7:00 до 11:00) и в пятницу вечером (с 17:00 до 23:00):"
   ]
  },
  {
   "cell_type": "code",
   "execution_count": 31,
   "metadata": {
    "deletable": false,
    "id": "yz7itPUQ_Zcu"
   },
   "outputs": [
    {
     "data": {
      "text/plain": [
       "genre\n",
       "pop            781\n",
       "dance          549\n",
       "electronic     480\n",
       "rock           474\n",
       "hiphop         286\n",
       "ruspop         186\n",
       "world          181\n",
       "rusrap         175\n",
       "alternative    164\n",
       "unknown        161\n",
       "Name: genre, dtype: int64"
      ]
     },
     "execution_count": 31,
     "metadata": {},
     "output_type": "execute_result"
    }
   ],
   "source": [
    "# вызов функции для утра понедельника в Москве (вместо df — таблица moscow_general)\n",
    "# объекты, хранящие время, являются строками и сравниваются как строки\n",
    "# пример вызова: \n",
    "genre_weekday(moscow_general, 'Monday', '07:00', '11:00')"
   ]
  },
  {
   "cell_type": "code",
   "execution_count": 32,
   "metadata": {
    "deletable": false,
    "id": "kwUcHPdy_Zcu"
   },
   "outputs": [
    {
     "data": {
      "text/plain": [
       "genre\n",
       "pop            218\n",
       "dance          182\n",
       "rock           162\n",
       "electronic     147\n",
       "hiphop          80\n",
       "ruspop          64\n",
       "alternative     58\n",
       "rusrap          55\n",
       "jazz            44\n",
       "classical       40\n",
       "Name: genre, dtype: int64"
      ]
     },
     "execution_count": 32,
     "metadata": {},
     "output_type": "execute_result"
    }
   ],
   "source": [
    "# вызов функции для утра понедельника в Петербурге (вместо df — таблица spb_general)\n",
    "genre_weekday(spb_general, 'Monday', '07:00', '11:00')"
   ]
  },
  {
   "cell_type": "code",
   "execution_count": 33,
   "metadata": {
    "deletable": false,
    "id": "EzXVRE1o_Zcu"
   },
   "outputs": [
    {
     "data": {
      "text/plain": [
       "genre\n",
       "pop            713\n",
       "rock           517\n",
       "dance          495\n",
       "electronic     482\n",
       "hiphop         273\n",
       "world          208\n",
       "ruspop         170\n",
       "alternative    163\n",
       "classical      163\n",
       "rusrap         142\n",
       "Name: genre, dtype: int64"
      ]
     },
     "execution_count": 33,
     "metadata": {},
     "output_type": "execute_result"
    }
   ],
   "source": [
    "# вызов функции для вечера пятницы в Москве\n",
    "genre_weekday(moscow_general, 'Friday', '17:00', '23:00')"
   ]
  },
  {
   "cell_type": "code",
   "execution_count": 34,
   "metadata": {
    "deletable": false,
    "id": "JZaEKu5v_Zcu"
   },
   "outputs": [
    {
     "data": {
      "text/plain": [
       "genre\n",
       "pop            256\n",
       "electronic     216\n",
       "rock           216\n",
       "dance          210\n",
       "hiphop          97\n",
       "alternative     63\n",
       "jazz            61\n",
       "classical       60\n",
       "rusrap          59\n",
       "world           54\n",
       "Name: genre, dtype: int64"
      ]
     },
     "execution_count": 34,
     "metadata": {},
     "output_type": "execute_result"
    }
   ],
   "source": [
    "genre_weekday(spb_general, 'Friday', '17:00', '23:00')"
   ]
  },
  {
   "cell_type": "markdown",
   "metadata": {
    "deletable": false,
    "editable": false,
    "id": "wrCe4MNX_Zcu"
   },
   "source": [
    "**Выводы**\n",
    "\n",
    "Если сравнить топ-10 жанров в понедельник утром, можно сделать такие выводы:\n",
    "\n",
    "1. В Москве и Петербурге слушают похожую музыку. Единственное отличие — в московский рейтинг вошёл жанр “world”, а в петербургский — джаз и классика.\n",
    "\n",
    "2. В Москве пропущенных значений оказалось так много, что значение `'unknown'` заняло десятое место среди самых популярных жанров. Значит, пропущенные значения занимают существенную долю в данных и угрожают достоверности исследования.\n",
    "\n",
    "Вечер пятницы не меняет эту картину. Некоторые жанры поднимаются немного выше, другие спускаются, но в целом топ-10 остаётся тем же самым.\n",
    "\n",
    "Таким образом, вторая гипотеза подтвердилась лишь частично:\n",
    "* Пользователи слушают похожую музыку в начале недели и в конце.\n",
    "* Разница между Москвой и Петербургом не слишком выражена. В Москве чаще слушают русскую популярную музыку, в Петербурге — джаз.\n",
    "\n",
    "Однако пропуски в данных ставят под сомнение этот результат. В Москве их так много, что рейтинг топ-10 мог бы выглядеть иначе, если бы не утерянные  данные о жанрах."
   ]
  },
  {
   "cell_type": "markdown",
   "metadata": {
    "deletable": false,
    "editable": false,
    "id": "JolODAqr_Zcu"
   },
   "source": [
    "### Жанровые предпочтения в Москве и Петербурге\n",
    "\n",
    "Гипотеза: Петербург — столица рэпа, музыку этого жанра там слушают чаще, чем в Москве.  А Москва — город контрастов, в котором, тем не менее, преобладает поп-музыка."
   ]
  },
  {
   "cell_type": "markdown",
   "metadata": {
    "deletable": false,
    "editable": false,
    "id": "DlegSvaT_Zcu",
    "tags": [
     "start_task"
    ]
   },
   "source": [
    "**Задание 26**\n",
    "\n",
    "Сгруппируйте таблицу `moscow_general` по жанру и посчитайте прослушивания треков каждого жанра методом `count()`. Затем отсортируйте результат в порядке убывания и сохраните его в таблице `moscow_genres`."
   ]
  },
  {
   "cell_type": "code",
   "execution_count": 35,
   "metadata": {
    "deletable": false,
    "id": "r19lIPke_Zcu"
   },
   "outputs": [
    {
     "data": {
      "text/plain": [
       "genre\n",
       "pop            5892\n",
       "dance          4435\n",
       "rock           3965\n",
       "electronic     3786\n",
       "hiphop         2096\n",
       "               ... \n",
       "neoklassik        1\n",
       "mood              1\n",
       "metalcore         1\n",
       "marschmusik       1\n",
       "ïîï               1\n",
       "Name: genre, Length: 267, dtype: int64"
      ]
     },
     "execution_count": 35,
     "metadata": {},
     "output_type": "execute_result"
    }
   ],
   "source": [
    "# одной строкой: группировка таблицы moscow_general по столбцу 'genre', \n",
    "# подсчёт числа значений 'genre' в этой группировке методом count(), \n",
    "# сортировка получившегося Series в порядке убывания и сохранение в moscow_genres\n",
    "moscow_genres = moscow_general.groupby('genre')['genre'].count()\n",
    "moscow_genres = moscow_genres.sort_values(ascending=False)\n",
    "moscow_genres"
   ]
  },
  {
   "cell_type": "markdown",
   "metadata": {
    "deletable": false,
    "editable": false,
    "id": "6kMuomxTiIr8",
    "tags": [
     "start_task"
    ]
   },
   "source": [
    "**Задание 27**\n",
    "\n",
    "Выведите на экран первые десять строк `moscow_genres`:"
   ]
  },
  {
   "cell_type": "code",
   "execution_count": 36,
   "metadata": {
    "deletable": false,
    "id": "WhCSooF8_Zcv",
    "scrolled": true
   },
   "outputs": [
    {
     "data": {
      "text/plain": [
       "genre\n",
       "pop            5892\n",
       "dance          4435\n",
       "rock           3965\n",
       "electronic     3786\n",
       "hiphop         2096\n",
       "classical      1616\n",
       "world          1432\n",
       "alternative    1379\n",
       "ruspop         1372\n",
       "rusrap         1161\n",
       "Name: genre, dtype: int64"
      ]
     },
     "execution_count": 36,
     "metadata": {},
     "output_type": "execute_result"
    }
   ],
   "source": [
    "moscow_genres.head(10)"
   ]
  },
  {
   "cell_type": "markdown",
   "metadata": {
    "deletable": false,
    "editable": false,
    "id": "cnPG2vnN_Zcv",
    "tags": [
     "start_task"
    ]
   },
   "source": [
    "**Задание 28**\n",
    "\n",
    "\n",
    "Теперь повторите то же и для Петербурга.\n",
    "\n",
    "Сгруппируйте таблицу `spb_general` по жанру. Посчитайте прослушивания треков каждого жанра. Результат отсортируйте в порядке убывания и сохраните в таблице `spb_genres`:\n"
   ]
  },
  {
   "cell_type": "code",
   "execution_count": 37,
   "metadata": {
    "deletable": false,
    "id": "gluLIpE7_Zcv"
   },
   "outputs": [
    {
     "data": {
      "text/plain": [
       "genre\n",
       "pop              2431\n",
       "dance            1932\n",
       "rock             1879\n",
       "electronic       1736\n",
       "hiphop            960\n",
       "                 ... \n",
       "international       1\n",
       "independent         1\n",
       "idm                 1\n",
       "gypsy               1\n",
       "электроника         1\n",
       "Name: genre, Length: 211, dtype: int64"
      ]
     },
     "execution_count": 37,
     "metadata": {},
     "output_type": "execute_result"
    }
   ],
   "source": [
    "# одной строкой: группировка таблицы spb_general по столбцу 'genre', \n",
    "# подсчёт числа значений 'genre' в этой группировке методом count(), \n",
    "# сортировка получившегося Series в порядке убывания и сохранение в spb_genres\n",
    "spb_genres = spb_general.groupby('genre')['genre'].count()\n",
    "spb_genres = spb_genres.sort_values(ascending=False)\n",
    "spb_genres"
   ]
  },
  {
   "cell_type": "markdown",
   "metadata": {
    "deletable": false,
    "editable": false,
    "id": "5Doha_ODgyQ8",
    "tags": [
     "start_task"
    ]
   },
   "source": [
    "**Задание 29**\n",
    "\n",
    "Выведите на экран первые десять строк `spb_genres`:"
   ]
  },
  {
   "cell_type": "code",
   "execution_count": 38,
   "metadata": {
    "deletable": false,
    "id": "uaGJHjVU_Zcv"
   },
   "outputs": [
    {
     "data": {
      "text/plain": [
       "genre\n",
       "pop            2431\n",
       "dance          1932\n",
       "rock           1879\n",
       "electronic     1736\n",
       "hiphop          960\n",
       "alternative     649\n",
       "classical       646\n",
       "rusrap          564\n",
       "ruspop          538\n",
       "world           515\n",
       "Name: genre, dtype: int64"
      ]
     },
     "execution_count": 38,
     "metadata": {},
     "output_type": "execute_result"
    }
   ],
   "source": [
    "spb_genres.head(10)"
   ]
  },
  {
   "cell_type": "markdown",
   "metadata": {
    "deletable": false,
    "editable": false,
    "id": "RY51YJYu_Zcv"
   },
   "source": [
    "**Выводы**"
   ]
  },
  {
   "cell_type": "markdown",
   "metadata": {
    "deletable": false,
    "editable": false,
    "id": "nVhnJEm__Zcv"
   },
   "source": [
    "Гипотеза частично подтвердилась:\n",
    "* Поп-музыка — самый популярный жанр в Москве, как и предполагала гипотеза. Более того, в топ-10 жанров встречается близкий жанр — русская популярная музыка.\n",
    "* Вопреки ожиданиям, рэп одинаково популярен в Москве и Петербурге. \n"
   ]
  },
  {
   "cell_type": "markdown",
   "metadata": {
    "deletable": false,
    "editable": false,
    "id": "ykKQ0N65_Zcv"
   },
   "source": [
    "## Итоги исследования"
   ]
  },
  {
   "cell_type": "markdown",
   "metadata": {
    "deletable": false,
    "editable": false,
    "id": "tjUwbHb3_Zcv"
   },
   "source": [
    "Вы проверили три гипотезы и установили:\n",
    "\n",
    "1. День недели по-разному влияет на активность пользователей в Москве и Петербурге. \n",
    "\n",
    "Первая гипотеза полностью подтвердилась.\n",
    "\n",
    "2. Музыкальные предпочтения не сильно меняются в течение недели — будь то Москва или Петербург. Небольшие различия заметны в начале недели, по понедельникам:\n",
    "* в Москве слушают музыку жанра “world”,\n",
    "* в Петербурге — джаз и классику.\n",
    "\n",
    "Таким образом, вторая гипотеза подтвердилась лишь отчасти. Этот результат мог оказаться иным, если бы не пропуски в данных.\n",
    "\n",
    "3. Во вкусах пользователей Москвы и Петербурга больше общего чем различий. Вопреки ожиданиям, предпочтения жанров в Петербурге напоминают московские.\n",
    "\n",
    "Третья гипотеза не подтвердилась. Если различия в предпочтениях и существуют, на основной массе пользователей они незаметны.\n",
    "\n",
    "**На практике исследования содержат проверки статистических гипотез.**\n",
    "Из данных одного сервиса не всегда можно сделать вывод о всех жителях города.\n",
    "Проверки статистических гипотез покажут, насколько они достоверны, исходя из имеющихся данных. \n",
    "С методами проверок гипотез вы ещё познакомитесь в следующих темах."
   ]
  }
 ],
 "metadata": {
  "ExecuteTimeLog": [
   {
    "duration": 55,
    "start_time": "2022-12-18T14:32:47.560Z"
   },
   {
    "duration": 8,
    "start_time": "2022-12-18T14:32:51.772Z"
   },
   {
    "duration": 7,
    "start_time": "2022-12-18T14:32:58.657Z"
   },
   {
    "duration": 9,
    "start_time": "2022-12-18T14:33:13.389Z"
   },
   {
    "duration": 8,
    "start_time": "2022-12-18T14:33:17.298Z"
   },
   {
    "duration": 8,
    "start_time": "2022-12-18T14:35:29.109Z"
   },
   {
    "duration": 7,
    "start_time": "2022-12-18T14:35:52.115Z"
   },
   {
    "duration": 8,
    "start_time": "2022-12-18T14:36:42.649Z"
   },
   {
    "duration": 44,
    "start_time": "2022-12-18T14:38:39.837Z"
   },
   {
    "duration": 55,
    "start_time": "2022-12-18T14:38:46.485Z"
   },
   {
    "duration": 7,
    "start_time": "2022-12-18T14:38:52.875Z"
   },
   {
    "duration": 7,
    "start_time": "2022-12-18T14:38:55.288Z"
   },
   {
    "duration": 8,
    "start_time": "2022-12-18T14:39:09.608Z"
   },
   {
    "duration": 394,
    "start_time": "2022-12-18T14:39:18.102Z"
   },
   {
    "duration": 278,
    "start_time": "2022-12-18T14:39:20.522Z"
   },
   {
    "duration": 3,
    "start_time": "2022-12-18T14:39:23.471Z"
   },
   {
    "duration": 18,
    "start_time": "2022-12-18T14:39:26.560Z"
   },
   {
    "duration": 203,
    "start_time": "2022-12-18T14:39:29.161Z"
   },
   {
    "duration": 35,
    "start_time": "2022-12-18T14:39:36.496Z"
   },
   {
    "duration": 3,
    "start_time": "2022-12-18T14:41:35.741Z"
   },
   {
    "duration": 45,
    "start_time": "2022-12-18T14:42:51.761Z"
   },
   {
    "duration": 6,
    "start_time": "2022-12-18T14:45:04.663Z"
   },
   {
    "duration": 31,
    "start_time": "2022-12-18T14:47:30.243Z"
   },
   {
    "duration": 9,
    "start_time": "2022-12-18T14:47:42.517Z"
   },
   {
    "duration": 13,
    "start_time": "2022-12-18T14:48:09.441Z"
   },
   {
    "duration": 4,
    "start_time": "2022-12-18T14:48:12.245Z"
   },
   {
    "duration": 16,
    "start_time": "2022-12-18T14:48:44.659Z"
   },
   {
    "duration": 15,
    "start_time": "2022-12-18T14:48:49.460Z"
   },
   {
    "duration": 37,
    "start_time": "2022-12-18T14:49:03.598Z"
   },
   {
    "duration": 51,
    "start_time": "2022-12-18T14:57:23.174Z"
   },
   {
    "duration": 25,
    "start_time": "2022-12-18T14:57:28.857Z"
   },
   {
    "duration": 63,
    "start_time": "2022-12-18T14:57:51.622Z"
   },
   {
    "duration": 29,
    "start_time": "2022-12-18T14:57:55.608Z"
   },
   {
    "duration": 107,
    "start_time": "2022-12-18T15:01:15.316Z"
   },
   {
    "duration": 124,
    "start_time": "2022-12-18T15:02:03.398Z"
   },
   {
    "duration": 13,
    "start_time": "2022-12-18T15:02:19.541Z"
   },
   {
    "duration": 67,
    "start_time": "2022-12-18T15:02:32.714Z"
   },
   {
    "duration": 9,
    "start_time": "2022-12-18T15:07:15.225Z"
   },
   {
    "duration": 12,
    "start_time": "2022-12-18T15:09:44.136Z"
   },
   {
    "duration": 16,
    "start_time": "2022-12-18T15:10:41.004Z"
   },
   {
    "duration": 12,
    "start_time": "2022-12-18T15:11:02.051Z"
   },
   {
    "duration": 9,
    "start_time": "2022-12-18T15:11:13.412Z"
   },
   {
    "duration": 13,
    "start_time": "2022-12-18T15:11:37.544Z"
   },
   {
    "duration": 12,
    "start_time": "2022-12-18T15:23:35.345Z"
   },
   {
    "duration": 10,
    "start_time": "2022-12-18T15:23:46.067Z"
   },
   {
    "duration": 16,
    "start_time": "2022-12-18T15:24:56.361Z"
   },
   {
    "duration": 12,
    "start_time": "2022-12-18T15:25:08.550Z"
   },
   {
    "duration": 18,
    "start_time": "2022-12-18T15:26:08.702Z"
   },
   {
    "duration": 60,
    "start_time": "2022-12-18T15:26:19.967Z"
   },
   {
    "duration": 66,
    "start_time": "2022-12-18T15:26:21.962Z"
   },
   {
    "duration": 52,
    "start_time": "2022-12-18T15:26:50.285Z"
   },
   {
    "duration": 8,
    "start_time": "2022-12-18T15:57:41.813Z"
   },
   {
    "duration": 10,
    "start_time": "2022-12-18T15:57:49.837Z"
   },
   {
    "duration": 9,
    "start_time": "2022-12-18T15:57:52.534Z"
   },
   {
    "duration": 11,
    "start_time": "2022-12-18T15:57:59.492Z"
   },
   {
    "duration": 780,
    "start_time": "2022-12-18T15:58:33.781Z"
   },
   {
    "duration": 721,
    "start_time": "2022-12-18T15:58:38.715Z"
   },
   {
    "duration": 763,
    "start_time": "2022-12-18T15:58:41.310Z"
   },
   {
    "duration": 47,
    "start_time": "2022-12-18T16:01:50.650Z"
   },
   {
    "duration": 14,
    "start_time": "2022-12-18T16:01:54.781Z"
   },
   {
    "duration": 13,
    "start_time": "2022-12-18T16:02:24.431Z"
   },
   {
    "duration": 11,
    "start_time": "2022-12-18T16:04:12.158Z"
   },
   {
    "duration": 11,
    "start_time": "2022-12-18T16:04:39.792Z"
   },
   {
    "duration": 20,
    "start_time": "2022-12-18T16:06:08.812Z"
   },
   {
    "duration": 9,
    "start_time": "2022-12-18T16:06:24.924Z"
   },
   {
    "duration": 11,
    "start_time": "2022-12-18T16:06:28.288Z"
   },
   {
    "duration": 11,
    "start_time": "2022-12-18T16:06:55.290Z"
   },
   {
    "duration": 10,
    "start_time": "2022-12-18T16:07:26.753Z"
   },
   {
    "duration": 11,
    "start_time": "2022-12-18T16:08:44.500Z"
   },
   {
    "duration": 10,
    "start_time": "2022-12-18T16:08:47.069Z"
   },
   {
    "duration": 11,
    "start_time": "2022-12-18T16:09:09.999Z"
   },
   {
    "duration": 16,
    "start_time": "2022-12-18T16:09:21.278Z"
   },
   {
    "duration": 11,
    "start_time": "2022-12-18T16:09:39.562Z"
   },
   {
    "duration": 8,
    "start_time": "2022-12-18T16:09:51.389Z"
   },
   {
    "duration": 7,
    "start_time": "2022-12-18T16:10:10.847Z"
   },
   {
    "duration": 513,
    "start_time": "2022-12-18T16:11:15.639Z"
   },
   {
    "duration": 651,
    "start_time": "2022-12-18T16:11:22.346Z"
   },
   {
    "duration": 564,
    "start_time": "2022-12-18T16:11:39.306Z"
   },
   {
    "duration": 556,
    "start_time": "2022-12-18T16:11:45.478Z"
   },
   {
    "duration": 603,
    "start_time": "2022-12-18T16:12:30.531Z"
   },
   {
    "duration": 568,
    "start_time": "2022-12-18T16:12:42.666Z"
   },
   {
    "duration": 566,
    "start_time": "2022-12-18T16:12:46.568Z"
   },
   {
    "duration": 611,
    "start_time": "2022-12-18T16:12:50.250Z"
   },
   {
    "duration": 614,
    "start_time": "2022-12-18T16:12:59.578Z"
   },
   {
    "duration": 525,
    "start_time": "2022-12-18T16:13:25.614Z"
   },
   {
    "duration": 566,
    "start_time": "2022-12-18T16:13:29.234Z"
   },
   {
    "duration": 555,
    "start_time": "2022-12-18T16:13:47.750Z"
   },
   {
    "duration": 47,
    "start_time": "2022-12-18T16:14:17.255Z"
   },
   {
    "duration": 557,
    "start_time": "2022-12-18T16:14:35.688Z"
   },
   {
    "duration": 609,
    "start_time": "2022-12-18T16:14:47.386Z"
   },
   {
    "duration": 625,
    "start_time": "2022-12-18T16:15:12.409Z"
   },
   {
    "duration": 550,
    "start_time": "2022-12-18T16:15:36.473Z"
   },
   {
    "duration": 607,
    "start_time": "2022-12-18T16:16:12.475Z"
   },
   {
    "duration": 525,
    "start_time": "2022-12-18T16:16:15.285Z"
   },
   {
    "duration": 574,
    "start_time": "2022-12-18T16:16:58.386Z"
   },
   {
    "duration": 11,
    "start_time": "2022-12-18T16:17:11.872Z"
   },
   {
    "duration": 567,
    "start_time": "2022-12-18T16:17:29.994Z"
   },
   {
    "duration": 6,
    "start_time": "2022-12-18T16:17:33.364Z"
   },
   {
    "duration": 5,
    "start_time": "2022-12-18T16:17:36.427Z"
   },
   {
    "duration": 5,
    "start_time": "2022-12-18T16:17:38.249Z"
   },
   {
    "duration": 553,
    "start_time": "2022-12-18T16:17:42.190Z"
   },
   {
    "duration": 3,
    "start_time": "2022-12-18T16:17:46.816Z"
   },
   {
    "duration": 176,
    "start_time": "2022-12-18T16:17:48.188Z"
   },
   {
    "duration": 15,
    "start_time": "2022-12-18T16:17:49.372Z"
   },
   {
    "duration": 44,
    "start_time": "2022-12-18T16:17:50.485Z"
   },
   {
    "duration": 4,
    "start_time": "2022-12-18T16:17:52.278Z"
   },
   {
    "duration": 5,
    "start_time": "2022-12-18T16:17:55.041Z"
   },
   {
    "duration": 10,
    "start_time": "2022-12-18T16:17:56.874Z"
   },
   {
    "duration": 4,
    "start_time": "2022-12-18T16:17:58.033Z"
   },
   {
    "duration": 31,
    "start_time": "2022-12-18T16:17:59.537Z"
   },
   {
    "duration": 30,
    "start_time": "2022-12-18T16:18:01.695Z"
   },
   {
    "duration": 41,
    "start_time": "2022-12-18T16:18:04.004Z"
   },
   {
    "duration": 105,
    "start_time": "2022-12-18T16:18:05.246Z"
   },
   {
    "duration": 128,
    "start_time": "2022-12-18T16:18:06.719Z"
   },
   {
    "duration": 70,
    "start_time": "2022-12-18T16:18:07.912Z"
   },
   {
    "duration": 64,
    "start_time": "2022-12-18T16:18:22.613Z"
   },
   {
    "duration": 21,
    "start_time": "2022-12-18T16:18:27.968Z"
   },
   {
    "duration": 8,
    "start_time": "2022-12-18T16:18:31.488Z"
   },
   {
    "duration": 8,
    "start_time": "2022-12-18T16:18:38.597Z"
   },
   {
    "duration": 5,
    "start_time": "2022-12-18T16:19:13.824Z"
   },
   {
    "duration": 6,
    "start_time": "2022-12-18T16:19:16.597Z"
   },
   {
    "duration": 15,
    "start_time": "2022-12-18T16:19:27.781Z"
   },
   {
    "duration": 12,
    "start_time": "2022-12-18T16:19:33.705Z"
   },
   {
    "duration": 13,
    "start_time": "2022-12-18T16:19:35.271Z"
   },
   {
    "duration": 16,
    "start_time": "2022-12-18T16:19:52.394Z"
   },
   {
    "duration": 14,
    "start_time": "2022-12-18T16:20:10.165Z"
   },
   {
    "duration": 11,
    "start_time": "2022-12-18T16:20:15.976Z"
   },
   {
    "duration": 839,
    "start_time": "2022-12-18T16:22:22.285Z"
   },
   {
    "duration": 525,
    "start_time": "2022-12-18T16:23:29.438Z"
   },
   {
    "duration": 7,
    "start_time": "2022-12-18T16:23:32.248Z"
   },
   {
    "duration": 2,
    "start_time": "2022-12-18T16:23:38.089Z"
   },
   {
    "duration": 193,
    "start_time": "2022-12-18T16:23:38.402Z"
   },
   {
    "duration": 12,
    "start_time": "2022-12-18T16:23:38.928Z"
   },
   {
    "duration": 37,
    "start_time": "2022-12-18T16:23:39.285Z"
   },
   {
    "duration": 3,
    "start_time": "2022-12-18T16:23:39.938Z"
   },
   {
    "duration": 4,
    "start_time": "2022-12-18T16:23:40.659Z"
   },
   {
    "duration": 11,
    "start_time": "2022-12-18T16:23:41.043Z"
   },
   {
    "duration": 5,
    "start_time": "2022-12-18T16:23:41.638Z"
   },
   {
    "duration": 47,
    "start_time": "2022-12-18T16:23:42.040Z"
   },
   {
    "duration": 31,
    "start_time": "2022-12-18T16:23:43.470Z"
   },
   {
    "duration": 28,
    "start_time": "2022-12-18T16:23:43.919Z"
   },
   {
    "duration": 96,
    "start_time": "2022-12-18T16:23:44.305Z"
   },
   {
    "duration": 78,
    "start_time": "2022-12-18T16:23:45.595Z"
   },
   {
    "duration": 67,
    "start_time": "2022-12-18T16:23:46.269Z"
   },
   {
    "duration": 75,
    "start_time": "2022-12-18T16:23:58.907Z"
   },
   {
    "duration": 11,
    "start_time": "2022-12-18T16:24:00.763Z"
   },
   {
    "duration": 7,
    "start_time": "2022-12-18T16:24:01.893Z"
   },
   {
    "duration": 14,
    "start_time": "2022-12-18T16:24:25.353Z"
   },
   {
    "duration": 11,
    "start_time": "2022-12-18T16:24:49.022Z"
   },
   {
    "duration": 13,
    "start_time": "2022-12-18T16:25:03.917Z"
   },
   {
    "duration": 6,
    "start_time": "2022-12-18T16:25:09.415Z"
   },
   {
    "duration": 8,
    "start_time": "2022-12-18T16:25:19.468Z"
   },
   {
    "duration": 14,
    "start_time": "2022-12-18T16:25:51.077Z"
   },
   {
    "duration": 57,
    "start_time": "2022-12-18T16:27:12.147Z"
   },
   {
    "duration": 5,
    "start_time": "2022-12-18T16:27:25.943Z"
   },
   {
    "duration": 25,
    "start_time": "2022-12-18T16:27:27.042Z"
   },
   {
    "duration": 17,
    "start_time": "2022-12-18T16:27:27.544Z"
   },
   {
    "duration": 25,
    "start_time": "2022-12-18T16:27:27.831Z"
   },
   {
    "duration": 56,
    "start_time": "2022-12-18T16:27:28.055Z"
   },
   {
    "duration": 60,
    "start_time": "2022-12-18T16:27:28.333Z"
   },
   {
    "duration": 65,
    "start_time": "2022-12-18T16:27:28.817Z"
   },
   {
    "duration": 44,
    "start_time": "2022-12-18T16:27:29.573Z"
   },
   {
    "duration": 11,
    "start_time": "2022-12-18T16:27:31.448Z"
   },
   {
    "duration": 42,
    "start_time": "2022-12-18T16:27:34.272Z"
   },
   {
    "duration": 14,
    "start_time": "2022-12-18T16:28:34.045Z"
   },
   {
    "duration": 13,
    "start_time": "2022-12-18T16:28:39.866Z"
   },
   {
    "duration": 8,
    "start_time": "2022-12-18T16:28:48.383Z"
   },
   {
    "duration": 20,
    "start_time": "2022-12-18T16:29:06.851Z"
   },
   {
    "duration": 21,
    "start_time": "2022-12-18T16:29:12.475Z"
   },
   {
    "duration": 9,
    "start_time": "2022-12-18T16:29:19.273Z"
   },
   {
    "duration": 44,
    "start_time": "2022-12-18T16:29:33.133Z"
   },
   {
    "duration": 48,
    "start_time": "2022-12-18T16:29:42.724Z"
   },
   {
    "duration": 28,
    "start_time": "2022-12-18T16:29:51.618Z"
   },
   {
    "duration": 18,
    "start_time": "2022-12-18T16:29:53.245Z"
   },
   {
    "duration": 27,
    "start_time": "2022-12-18T16:29:53.514Z"
   },
   {
    "duration": 61,
    "start_time": "2022-12-18T16:29:53.740Z"
   },
   {
    "duration": 67,
    "start_time": "2022-12-18T16:29:53.999Z"
   },
   {
    "duration": 59,
    "start_time": "2022-12-18T16:29:54.365Z"
   },
   {
    "duration": 46,
    "start_time": "2022-12-18T16:29:55.022Z"
   },
   {
    "duration": 13,
    "start_time": "2022-12-18T16:29:56.081Z"
   },
   {
    "duration": 44,
    "start_time": "2022-12-18T16:29:57.674Z"
   },
   {
    "duration": 42,
    "start_time": "2022-12-18T16:30:09.073Z"
   },
   {
    "duration": 41,
    "start_time": "2022-12-18T16:30:23.136Z"
   },
   {
    "duration": 8,
    "start_time": "2022-12-18T16:31:00.009Z"
   },
   {
    "duration": 10,
    "start_time": "2022-12-18T16:31:26.064Z"
   },
   {
    "duration": 7,
    "start_time": "2022-12-18T16:31:29.430Z"
   },
   {
    "duration": 8,
    "start_time": "2022-12-18T16:31:43.864Z"
   },
   {
    "duration": 8,
    "start_time": "2022-12-18T16:32:20.977Z"
   },
   {
    "duration": 9,
    "start_time": "2022-12-18T16:32:27.686Z"
   },
   {
    "duration": 14,
    "start_time": "2022-12-18T16:32:42.381Z"
   },
   {
    "duration": 7,
    "start_time": "2022-12-18T16:32:55.754Z"
   },
   {
    "duration": 8,
    "start_time": "2022-12-18T16:52:47.044Z"
   },
   {
    "duration": 26,
    "start_time": "2022-12-18T16:53:08.481Z"
   },
   {
    "duration": 63,
    "start_time": "2022-12-18T16:53:11.583Z"
   },
   {
    "duration": 50,
    "start_time": "2022-12-18T16:53:39.958Z"
   },
   {
    "duration": 47,
    "start_time": "2022-12-18T16:53:57.929Z"
   },
   {
    "duration": 44,
    "start_time": "2022-12-18T16:54:06.499Z"
   },
   {
    "duration": 59,
    "start_time": "2022-12-18T16:54:22.589Z"
   },
   {
    "duration": 47,
    "start_time": "2022-12-18T16:54:28.212Z"
   },
   {
    "duration": 9,
    "start_time": "2022-12-18T16:54:51.353Z"
   },
   {
    "duration": 16,
    "start_time": "2022-12-18T16:55:56.199Z"
   },
   {
    "duration": 8,
    "start_time": "2022-12-18T16:56:01.244Z"
   },
   {
    "duration": 41,
    "start_time": "2022-12-18T16:56:10.223Z"
   },
   {
    "duration": 5,
    "start_time": "2022-12-18T16:56:29.064Z"
   },
   {
    "duration": 8,
    "start_time": "2022-12-18T16:56:36.494Z"
   },
   {
    "duration": 44,
    "start_time": "2022-12-18T16:56:55.549Z"
   },
   {
    "duration": 48,
    "start_time": "2022-12-18T16:57:01.000Z"
   },
   {
    "duration": 59,
    "start_time": "2022-12-18T16:57:07.099Z"
   },
   {
    "duration": 16,
    "start_time": "2022-12-18T16:57:21.246Z"
   },
   {
    "duration": 12,
    "start_time": "2022-12-18T16:57:22.873Z"
   },
   {
    "duration": 15,
    "start_time": "2022-12-18T16:58:07.906Z"
   },
   {
    "duration": 43,
    "start_time": "2022-12-18T16:58:13.407Z"
   },
   {
    "duration": 8,
    "start_time": "2022-12-18T16:58:16.501Z"
   },
   {
    "duration": 44,
    "start_time": "2022-12-18T16:58:24.897Z"
   },
   {
    "duration": 9,
    "start_time": "2022-12-18T16:58:47.696Z"
   },
   {
    "duration": 9,
    "start_time": "2022-12-18T16:58:55.582Z"
   },
   {
    "duration": 39,
    "start_time": "2022-12-18T16:59:00.078Z"
   },
   {
    "duration": 63,
    "start_time": "2022-12-18T16:59:18.286Z"
   },
   {
    "duration": 7,
    "start_time": "2022-12-18T16:59:47.083Z"
   },
   {
    "duration": 57,
    "start_time": "2022-12-18T16:59:53.153Z"
   },
   {
    "duration": 7,
    "start_time": "2022-12-18T17:00:17.907Z"
   },
   {
    "duration": 42,
    "start_time": "2022-12-18T17:00:44.847Z"
   },
   {
    "duration": 47,
    "start_time": "2022-12-18T17:00:52.810Z"
   },
   {
    "duration": 8,
    "start_time": "2022-12-18T17:01:30.243Z"
   },
   {
    "duration": 11,
    "start_time": "2022-12-18T17:01:34.947Z"
   },
   {
    "duration": 4,
    "start_time": "2022-12-18T17:01:43.873Z"
   },
   {
    "duration": 7,
    "start_time": "2022-12-18T17:02:38.548Z"
   },
   {
    "duration": 46,
    "start_time": "2022-12-18T17:02:59.271Z"
   },
   {
    "duration": 42,
    "start_time": "2022-12-18T17:03:10.116Z"
   },
   {
    "duration": 52,
    "start_time": "2022-12-18T17:03:16.898Z"
   },
   {
    "duration": 47,
    "start_time": "2022-12-18T17:03:22.198Z"
   },
   {
    "duration": 41,
    "start_time": "2022-12-18T17:04:57.710Z"
   },
   {
    "duration": 415,
    "start_time": "2022-12-19T06:25:26.972Z"
   },
   {
    "duration": 475,
    "start_time": "2022-12-19T06:25:27.850Z"
   },
   {
    "duration": 17,
    "start_time": "2022-12-19T06:25:28.810Z"
   },
   {
    "duration": 27,
    "start_time": "2022-12-19T06:25:30.050Z"
   },
   {
    "duration": 2,
    "start_time": "2022-12-19T06:25:32.312Z"
   },
   {
    "duration": 3,
    "start_time": "2022-12-19T06:25:34.366Z"
   },
   {
    "duration": 10,
    "start_time": "2022-12-19T06:25:35.681Z"
   },
   {
    "duration": 5,
    "start_time": "2022-12-19T06:25:36.565Z"
   },
   {
    "duration": 27,
    "start_time": "2022-12-19T06:25:37.633Z"
   },
   {
    "duration": 21,
    "start_time": "2022-12-19T06:25:39.847Z"
   },
   {
    "duration": 25,
    "start_time": "2022-12-19T06:25:40.871Z"
   },
   {
    "duration": 76,
    "start_time": "2022-12-19T06:25:42.029Z"
   },
   {
    "duration": 68,
    "start_time": "2022-12-19T06:25:43.245Z"
   },
   {
    "duration": 57,
    "start_time": "2022-12-19T06:25:44.253Z"
   },
   {
    "duration": 49,
    "start_time": "2022-12-19T06:25:45.633Z"
   },
   {
    "duration": 12,
    "start_time": "2022-12-19T06:25:47.393Z"
   },
   {
    "duration": 36,
    "start_time": "2022-12-19T06:25:48.630Z"
   },
   {
    "duration": 57,
    "start_time": "2022-12-19T06:26:53.394Z"
   },
   {
    "duration": 4,
    "start_time": "2022-12-19T06:27:03.585Z"
   },
   {
    "duration": 31,
    "start_time": "2022-12-19T06:27:28.093Z"
   },
   {
    "duration": 4661,
    "start_time": "2022-12-19T06:27:55.475Z"
   },
   {
    "duration": 30,
    "start_time": "2022-12-19T06:28:15.247Z"
   },
   {
    "duration": 7,
    "start_time": "2022-12-19T06:28:25.362Z"
   },
   {
    "duration": 32,
    "start_time": "2022-12-19T06:28:28.988Z"
   },
   {
    "duration": 6,
    "start_time": "2022-12-19T06:29:24.144Z"
   },
   {
    "duration": 31,
    "start_time": "2022-12-19T06:29:27.316Z"
   },
   {
    "duration": 30,
    "start_time": "2022-12-19T06:30:37.332Z"
   },
   {
    "duration": 2,
    "start_time": "2022-12-19T06:30:55.031Z"
   },
   {
    "duration": 160,
    "start_time": "2022-12-19T06:30:55.310Z"
   },
   {
    "duration": 11,
    "start_time": "2022-12-19T06:30:55.673Z"
   },
   {
    "duration": 26,
    "start_time": "2022-12-19T06:30:55.915Z"
   },
   {
    "duration": 3,
    "start_time": "2022-12-19T06:30:56.355Z"
   },
   {
    "duration": 4,
    "start_time": "2022-12-19T06:30:56.947Z"
   },
   {
    "duration": 8,
    "start_time": "2022-12-19T06:30:57.262Z"
   },
   {
    "duration": 3,
    "start_time": "2022-12-19T06:30:57.593Z"
   },
   {
    "duration": 22,
    "start_time": "2022-12-19T06:30:57.934Z"
   },
   {
    "duration": 18,
    "start_time": "2022-12-19T06:30:58.431Z"
   },
   {
    "duration": 24,
    "start_time": "2022-12-19T06:30:58.786Z"
   },
   {
    "duration": 71,
    "start_time": "2022-12-19T06:30:59.147Z"
   },
   {
    "duration": 57,
    "start_time": "2022-12-19T06:31:01.712Z"
   },
   {
    "duration": 66,
    "start_time": "2022-12-19T06:31:06.234Z"
   },
   {
    "duration": 65,
    "start_time": "2022-12-19T06:31:07.158Z"
   },
   {
    "duration": 40,
    "start_time": "2022-12-19T06:31:08.470Z"
   },
   {
    "duration": 11,
    "start_time": "2022-12-19T06:31:09.023Z"
   },
   {
    "duration": 43,
    "start_time": "2022-12-19T06:31:09.459Z"
   },
   {
    "duration": 30,
    "start_time": "2022-12-19T06:31:16.363Z"
   },
   {
    "duration": 3,
    "start_time": "2022-12-19T06:31:52.986Z"
   },
   {
    "duration": 31,
    "start_time": "2022-12-19T06:32:11.741Z"
   },
   {
    "duration": 28,
    "start_time": "2022-12-19T06:32:56.225Z"
   },
   {
    "duration": 31,
    "start_time": "2022-12-19T06:33:03.411Z"
   },
   {
    "duration": 4,
    "start_time": "2022-12-19T06:33:17.602Z"
   },
   {
    "duration": 4,
    "start_time": "2022-12-19T06:33:19.991Z"
   },
   {
    "duration": 3,
    "start_time": "2022-12-19T06:33:27.730Z"
   },
   {
    "duration": 31,
    "start_time": "2022-12-19T06:33:32.753Z"
   },
   {
    "duration": 35,
    "start_time": "2022-12-19T06:33:38.858Z"
   },
   {
    "duration": 11,
    "start_time": "2022-12-19T06:34:16.140Z"
   },
   {
    "duration": 29,
    "start_time": "2022-12-19T06:35:27.389Z"
   },
   {
    "duration": 14,
    "start_time": "2022-12-19T06:35:34.139Z"
   },
   {
    "duration": 9,
    "start_time": "2022-12-19T06:35:36.653Z"
   },
   {
    "duration": 8,
    "start_time": "2022-12-19T06:35:56.032Z"
   },
   {
    "duration": 7,
    "start_time": "2022-12-19T06:36:03.754Z"
   },
   {
    "duration": 8,
    "start_time": "2022-12-19T06:36:07.169Z"
   },
   {
    "duration": 8,
    "start_time": "2022-12-19T06:36:12.789Z"
   },
   {
    "duration": 31,
    "start_time": "2022-12-19T06:36:27.740Z"
   },
   {
    "duration": 9,
    "start_time": "2022-12-19T06:37:49.271Z"
   },
   {
    "duration": 10,
    "start_time": "2022-12-19T06:37:54.807Z"
   },
   {
    "duration": 8,
    "start_time": "2022-12-19T06:37:58.111Z"
   },
   {
    "duration": 31,
    "start_time": "2022-12-19T06:38:02.430Z"
   },
   {
    "duration": 70,
    "start_time": "2022-12-19T06:38:12.883Z"
   },
   {
    "duration": 70,
    "start_time": "2022-12-19T06:38:46.708Z"
   },
   {
    "duration": 85,
    "start_time": "2022-12-19T06:39:15.018Z"
   },
   {
    "duration": 72,
    "start_time": "2022-12-19T06:39:19.981Z"
   },
   {
    "duration": 70,
    "start_time": "2022-12-19T06:39:22.316Z"
   },
   {
    "duration": 84,
    "start_time": "2022-12-19T06:39:24.644Z"
   },
   {
    "duration": 29,
    "start_time": "2022-12-19T06:39:29.268Z"
   },
   {
    "duration": 58,
    "start_time": "2022-12-19T06:39:41.567Z"
   },
   {
    "duration": 34,
    "start_time": "2022-12-19T06:39:45.301Z"
   },
   {
    "duration": 12,
    "start_time": "2022-12-19T06:40:25.869Z"
   },
   {
    "duration": 5,
    "start_time": "2022-12-19T06:41:29.277Z"
   },
   {
    "duration": 4,
    "start_time": "2022-12-19T06:41:33.471Z"
   },
   {
    "duration": 54,
    "start_time": "2022-12-19T06:41:36.920Z"
   },
   {
    "duration": 32,
    "start_time": "2022-12-19T06:41:42.641Z"
   },
   {
    "duration": 9,
    "start_time": "2022-12-19T06:42:27.038Z"
   },
   {
    "duration": 8,
    "start_time": "2022-12-19T06:42:36.117Z"
   },
   {
    "duration": 9,
    "start_time": "2022-12-19T06:43:10.265Z"
   },
   {
    "duration": 10,
    "start_time": "2022-12-19T06:43:43.072Z"
   },
   {
    "duration": 36,
    "start_time": "2022-12-19T06:43:49.048Z"
   },
   {
    "duration": 11,
    "start_time": "2022-12-19T06:44:11.342Z"
   },
   {
    "duration": 3,
    "start_time": "2022-12-19T06:48:15.144Z"
   },
   {
    "duration": 4,
    "start_time": "2022-12-19T06:49:29.334Z"
   },
   {
    "duration": 3,
    "start_time": "2022-12-19T06:49:33.495Z"
   },
   {
    "duration": 8,
    "start_time": "2022-12-19T06:50:00.578Z"
   },
   {
    "duration": 75,
    "start_time": "2022-12-19T06:53:16.823Z"
   },
   {
    "duration": 76,
    "start_time": "2022-12-19T06:53:30.379Z"
   },
   {
    "duration": 720,
    "start_time": "2022-12-19T06:53:35.288Z"
   },
   {
    "duration": 76,
    "start_time": "2022-12-19T06:53:43.696Z"
   },
   {
    "duration": 87,
    "start_time": "2022-12-19T06:56:14.468Z"
   },
   {
    "duration": 4,
    "start_time": "2022-12-19T06:56:19.273Z"
   },
   {
    "duration": 3,
    "start_time": "2022-12-19T06:58:26.234Z"
   },
   {
    "duration": 173,
    "start_time": "2022-12-19T06:58:26.571Z"
   },
   {
    "duration": 13,
    "start_time": "2022-12-19T06:58:26.869Z"
   },
   {
    "duration": 29,
    "start_time": "2022-12-19T06:58:27.177Z"
   },
   {
    "duration": 2,
    "start_time": "2022-12-19T06:58:27.688Z"
   },
   {
    "duration": 4,
    "start_time": "2022-12-19T06:58:28.678Z"
   },
   {
    "duration": 7,
    "start_time": "2022-12-19T06:58:30.040Z"
   },
   {
    "duration": 5,
    "start_time": "2022-12-19T06:58:30.902Z"
   },
   {
    "duration": 25,
    "start_time": "2022-12-19T06:58:32.540Z"
   },
   {
    "duration": 18,
    "start_time": "2022-12-19T06:58:34.291Z"
   },
   {
    "duration": 22,
    "start_time": "2022-12-19T06:58:35.483Z"
   },
   {
    "duration": 62,
    "start_time": "2022-12-19T06:58:36.990Z"
   },
   {
    "duration": 71,
    "start_time": "2022-12-19T06:58:37.828Z"
   },
   {
    "duration": 70,
    "start_time": "2022-12-19T06:58:40.995Z"
   },
   {
    "duration": 46,
    "start_time": "2022-12-19T06:58:41.885Z"
   },
   {
    "duration": 10,
    "start_time": "2022-12-19T06:58:42.239Z"
   },
   {
    "duration": 46,
    "start_time": "2022-12-19T06:58:42.865Z"
   },
   {
    "duration": 12,
    "start_time": "2022-12-19T06:58:45.379Z"
   },
   {
    "duration": 12,
    "start_time": "2022-12-19T06:58:46.145Z"
   },
   {
    "duration": 4,
    "start_time": "2022-12-19T06:58:48.197Z"
   },
   {
    "duration": 11,
    "start_time": "2022-12-19T06:59:00.889Z"
   },
   {
    "duration": 4,
    "start_time": "2022-12-19T06:59:22.549Z"
   },
   {
    "duration": 4,
    "start_time": "2022-12-19T07:05:04.505Z"
   },
   {
    "duration": 10,
    "start_time": "2022-12-19T07:05:31.494Z"
   },
   {
    "duration": 5,
    "start_time": "2022-12-19T07:05:45.050Z"
   },
   {
    "duration": 10,
    "start_time": "2022-12-19T07:06:28.473Z"
   },
   {
    "duration": 3,
    "start_time": "2022-12-19T07:10:31.130Z"
   },
   {
    "duration": 4,
    "start_time": "2022-12-19T07:10:48.138Z"
   },
   {
    "duration": 9,
    "start_time": "2022-12-19T07:10:59.236Z"
   },
   {
    "duration": 3,
    "start_time": "2022-12-19T07:11:09.894Z"
   },
   {
    "duration": 8,
    "start_time": "2022-12-19T07:11:17.835Z"
   },
   {
    "duration": 3,
    "start_time": "2022-12-19T07:12:23.042Z"
   },
   {
    "duration": 175,
    "start_time": "2022-12-19T07:12:23.358Z"
   },
   {
    "duration": 17,
    "start_time": "2022-12-19T07:12:23.628Z"
   },
   {
    "duration": 40,
    "start_time": "2022-12-19T07:12:23.869Z"
   },
   {
    "duration": 3,
    "start_time": "2022-12-19T07:12:24.210Z"
   },
   {
    "duration": 5,
    "start_time": "2022-12-19T07:12:24.707Z"
   },
   {
    "duration": 12,
    "start_time": "2022-12-19T07:12:24.971Z"
   },
   {
    "duration": 4,
    "start_time": "2022-12-19T07:12:25.194Z"
   },
   {
    "duration": 24,
    "start_time": "2022-12-19T07:12:25.487Z"
   },
   {
    "duration": 18,
    "start_time": "2022-12-19T07:12:26.028Z"
   },
   {
    "duration": 22,
    "start_time": "2022-12-19T07:12:26.490Z"
   },
   {
    "duration": 63,
    "start_time": "2022-12-19T07:12:27.644Z"
   },
   {
    "duration": 65,
    "start_time": "2022-12-19T07:12:28.244Z"
   },
   {
    "duration": 55,
    "start_time": "2022-12-19T07:12:29.153Z"
   },
   {
    "duration": 36,
    "start_time": "2022-12-19T07:12:30.018Z"
   },
   {
    "duration": 10,
    "start_time": "2022-12-19T07:12:30.288Z"
   },
   {
    "duration": 37,
    "start_time": "2022-12-19T07:12:30.897Z"
   },
   {
    "duration": 12,
    "start_time": "2022-12-19T07:12:32.548Z"
   },
   {
    "duration": 12,
    "start_time": "2022-12-19T07:12:33.082Z"
   },
   {
    "duration": 4,
    "start_time": "2022-12-19T07:12:34.570Z"
   },
   {
    "duration": 14,
    "start_time": "2022-12-19T07:14:43.186Z"
   },
   {
    "duration": 13,
    "start_time": "2022-12-19T07:15:10.175Z"
   },
   {
    "duration": 15,
    "start_time": "2022-12-19T07:15:28.302Z"
   },
   {
    "duration": 19,
    "start_time": "2022-12-19T07:15:51.740Z"
   },
   {
    "duration": 15,
    "start_time": "2022-12-19T07:16:11.816Z"
   },
   {
    "duration": 14,
    "start_time": "2022-12-19T07:16:20.368Z"
   },
   {
    "duration": 15,
    "start_time": "2022-12-19T07:18:20.058Z"
   },
   {
    "duration": 16,
    "start_time": "2022-12-19T07:19:11.358Z"
   },
   {
    "duration": 8,
    "start_time": "2022-12-19T07:20:28.925Z"
   },
   {
    "duration": 9,
    "start_time": "2022-12-19T07:20:33.403Z"
   },
   {
    "duration": 8,
    "start_time": "2022-12-19T07:20:53.670Z"
   },
   {
    "duration": 80,
    "start_time": "2022-12-19T07:21:13.486Z"
   },
   {
    "duration": 75,
    "start_time": "2022-12-19T07:21:16.540Z"
   },
   {
    "duration": 6,
    "start_time": "2022-12-19T07:22:13.051Z"
   },
   {
    "duration": 3,
    "start_time": "2022-12-19T07:22:24.932Z"
   },
   {
    "duration": 7,
    "start_time": "2022-12-19T07:22:33.198Z"
   },
   {
    "duration": 13,
    "start_time": "2022-12-19T07:22:53.038Z"
   },
   {
    "duration": 9,
    "start_time": "2022-12-19T07:27:26.279Z"
   },
   {
    "duration": 18,
    "start_time": "2022-12-19T07:27:30.977Z"
   },
   {
    "duration": 12,
    "start_time": "2022-12-19T07:27:35.121Z"
   },
   {
    "duration": 3,
    "start_time": "2022-12-19T07:27:53.409Z"
   },
   {
    "duration": 14,
    "start_time": "2022-12-19T07:30:38.784Z"
   },
   {
    "duration": 11,
    "start_time": "2022-12-19T07:32:45.437Z"
   },
   {
    "duration": 9,
    "start_time": "2022-12-19T07:33:15.768Z"
   },
   {
    "duration": 86,
    "start_time": "2022-12-19T07:38:00.457Z"
   },
   {
    "duration": 5,
    "start_time": "2022-12-19T07:40:40.304Z"
   },
   {
    "duration": 5,
    "start_time": "2022-12-19T07:41:31.083Z"
   },
   {
    "duration": 19,
    "start_time": "2022-12-19T08:20:44.492Z"
   },
   {
    "duration": 12,
    "start_time": "2022-12-19T08:21:21.657Z"
   },
   {
    "duration": 12,
    "start_time": "2022-12-19T08:22:07.411Z"
   },
   {
    "duration": 9,
    "start_time": "2022-12-19T08:22:23.773Z"
   },
   {
    "duration": 10,
    "start_time": "2022-12-19T08:22:40.043Z"
   },
   {
    "duration": 15,
    "start_time": "2022-12-19T08:22:42.411Z"
   },
   {
    "duration": 10,
    "start_time": "2022-12-19T08:22:47.003Z"
   },
   {
    "duration": 17,
    "start_time": "2022-12-19T08:23:02.009Z"
   },
   {
    "duration": 31,
    "start_time": "2022-12-19T08:26:23.393Z"
   },
   {
    "duration": 29,
    "start_time": "2022-12-19T08:26:29.503Z"
   },
   {
    "duration": 21,
    "start_time": "2022-12-19T08:26:39.677Z"
   },
   {
    "duration": 9,
    "start_time": "2022-12-19T08:27:12.947Z"
   },
   {
    "duration": 3,
    "start_time": "2022-12-19T08:28:09.148Z"
   },
   {
    "duration": 170,
    "start_time": "2022-12-19T08:28:09.418Z"
   },
   {
    "duration": 11,
    "start_time": "2022-12-19T08:28:09.618Z"
   },
   {
    "duration": 27,
    "start_time": "2022-12-19T08:28:09.881Z"
   },
   {
    "duration": 2,
    "start_time": "2022-12-19T08:28:10.395Z"
   },
   {
    "duration": 4,
    "start_time": "2022-12-19T08:28:10.932Z"
   },
   {
    "duration": 8,
    "start_time": "2022-12-19T08:28:11.184Z"
   },
   {
    "duration": 4,
    "start_time": "2022-12-19T08:28:11.469Z"
   },
   {
    "duration": 22,
    "start_time": "2022-12-19T08:28:11.763Z"
   },
   {
    "duration": 17,
    "start_time": "2022-12-19T08:28:12.253Z"
   },
   {
    "duration": 22,
    "start_time": "2022-12-19T08:28:12.561Z"
   },
   {
    "duration": 68,
    "start_time": "2022-12-19T08:28:12.853Z"
   },
   {
    "duration": 69,
    "start_time": "2022-12-19T08:28:13.197Z"
   },
   {
    "duration": 56,
    "start_time": "2022-12-19T08:28:13.544Z"
   },
   {
    "duration": 45,
    "start_time": "2022-12-19T08:28:14.084Z"
   },
   {
    "duration": 14,
    "start_time": "2022-12-19T08:28:14.431Z"
   },
   {
    "duration": 57,
    "start_time": "2022-12-19T08:28:14.790Z"
   },
   {
    "duration": 13,
    "start_time": "2022-12-19T08:28:15.799Z"
   },
   {
    "duration": 11,
    "start_time": "2022-12-19T08:28:16.583Z"
   },
   {
    "duration": 4,
    "start_time": "2022-12-19T08:28:17.056Z"
   },
   {
    "duration": 16,
    "start_time": "2022-12-19T08:28:17.390Z"
   },
   {
    "duration": 13,
    "start_time": "2022-12-19T08:28:17.569Z"
   },
   {
    "duration": 14,
    "start_time": "2022-12-19T08:28:17.744Z"
   },
   {
    "duration": 16,
    "start_time": "2022-12-19T08:28:17.934Z"
   },
   {
    "duration": 16,
    "start_time": "2022-12-19T08:28:18.277Z"
   },
   {
    "duration": 14,
    "start_time": "2022-12-19T08:28:18.536Z"
   },
   {
    "duration": 10,
    "start_time": "2022-12-19T08:28:19.156Z"
   },
   {
    "duration": 13,
    "start_time": "2022-12-19T08:28:20.506Z"
   },
   {
    "duration": 12,
    "start_time": "2022-12-19T08:28:20.832Z"
   },
   {
    "duration": 6,
    "start_time": "2022-12-19T08:28:21.479Z"
   },
   {
    "duration": 16,
    "start_time": "2022-12-19T08:28:22.725Z"
   },
   {
    "duration": 15,
    "start_time": "2022-12-19T08:28:24.117Z"
   },
   {
    "duration": 26,
    "start_time": "2022-12-19T08:28:24.489Z"
   },
   {
    "duration": 14,
    "start_time": "2022-12-19T08:28:25.170Z"
   },
   {
    "duration": 24,
    "start_time": "2022-12-19T08:28:26.973Z"
   },
   {
    "duration": 9,
    "start_time": "2022-12-19T08:28:28.506Z"
   },
   {
    "duration": 16,
    "start_time": "2022-12-19T08:29:01.893Z"
   },
   {
    "duration": 28,
    "start_time": "2022-12-19T08:29:06.982Z"
   },
   {
    "duration": 1152,
    "start_time": "2022-12-19T08:29:22.879Z"
   },
   {
    "duration": 8,
    "start_time": "2022-12-19T08:29:27.790Z"
   },
   {
    "duration": 27,
    "start_time": "2022-12-19T08:29:55.301Z"
   },
   {
    "duration": 20,
    "start_time": "2022-12-19T08:30:15.513Z"
   },
   {
    "duration": 31,
    "start_time": "2022-12-19T08:30:21.670Z"
   },
   {
    "duration": 32,
    "start_time": "2022-12-19T08:30:41.331Z"
   },
   {
    "duration": 38,
    "start_time": "2022-12-19T08:31:10.404Z"
   },
   {
    "duration": 28,
    "start_time": "2022-12-19T08:32:06.575Z"
   },
   {
    "duration": 26,
    "start_time": "2022-12-19T08:32:12.331Z"
   },
   {
    "duration": 26,
    "start_time": "2022-12-19T08:32:34.467Z"
   },
   {
    "duration": 26,
    "start_time": "2022-12-19T08:33:25.779Z"
   },
   {
    "duration": 26,
    "start_time": "2022-12-19T08:33:39.930Z"
   },
   {
    "duration": 32,
    "start_time": "2022-12-19T08:33:41.300Z"
   },
   {
    "duration": 27,
    "start_time": "2022-12-19T08:33:42.833Z"
   },
   {
    "duration": 22,
    "start_time": "2022-12-19T08:33:55.030Z"
   },
   {
    "duration": 27,
    "start_time": "2022-12-19T08:34:03.796Z"
   },
   {
    "duration": 8,
    "start_time": "2022-12-19T08:34:26.107Z"
   },
   {
    "duration": 3399,
    "start_time": "2022-12-19T08:35:18.584Z"
   },
   {
    "duration": 7,
    "start_time": "2022-12-19T08:35:29.175Z"
   },
   {
    "duration": 8,
    "start_time": "2022-12-19T08:35:39.639Z"
   },
   {
    "duration": 11,
    "start_time": "2022-12-19T08:35:45.447Z"
   },
   {
    "duration": 10,
    "start_time": "2022-12-19T08:36:01.172Z"
   },
   {
    "duration": 11,
    "start_time": "2022-12-19T08:36:46.294Z"
   },
   {
    "duration": 5,
    "start_time": "2022-12-19T08:36:52.647Z"
   },
   {
    "duration": 13,
    "start_time": "2022-12-19T08:37:13.966Z"
   },
   {
    "duration": 12,
    "start_time": "2022-12-19T08:37:27.140Z"
   },
   {
    "duration": 11,
    "start_time": "2022-12-19T08:37:34.695Z"
   },
   {
    "duration": 5,
    "start_time": "2022-12-19T08:37:38.271Z"
   },
   {
    "duration": 12,
    "start_time": "2022-12-19T08:37:40.823Z"
   },
   {
    "duration": 5,
    "start_time": "2022-12-19T08:37:42.189Z"
   },
   {
    "duration": 13,
    "start_time": "2022-12-19T08:37:50.900Z"
   },
   {
    "duration": 5,
    "start_time": "2022-12-19T08:37:53.282Z"
   },
   {
    "duration": 7,
    "start_time": "2022-12-19T08:39:30.168Z"
   },
   {
    "duration": 6,
    "start_time": "2022-12-19T08:39:52.223Z"
   },
   {
    "duration": 9,
    "start_time": "2022-12-19T08:39:59.895Z"
   },
   {
    "duration": 6,
    "start_time": "2022-12-19T08:40:07.114Z"
   }
  ],
  "colab": {
   "collapsed_sections": [
    "E0vqbgi9ay0H",
    "VUC88oWjTJw2"
   ],
   "name": "automatization_template_upd4.ipynb",
   "provenance": []
  },
  "kernelspec": {
   "display_name": "Python 3 (ipykernel)",
   "language": "python",
   "name": "python3"
  },
  "language_info": {
   "codemirror_mode": {
    "name": "ipython",
    "version": 3
   },
   "file_extension": ".py",
   "mimetype": "text/x-python",
   "name": "python",
   "nbconvert_exporter": "python",
   "pygments_lexer": "ipython3",
   "version": "3.9.12"
  },
  "toc": {
   "base_numbering": 1,
   "nav_menu": {
    "height": "215px",
    "width": "403px"
   },
   "number_sections": true,
   "sideBar": true,
   "skip_h1_title": true,
   "title_cell": "Table of Contents",
   "title_sidebar": "Contents",
   "toc_cell": false,
   "toc_position": {
    "height": "calc(100% - 180px)",
    "left": "10px",
    "top": "150px",
    "width": "285.825px"
   },
   "toc_section_display": true,
   "toc_window_display": false
  }
 },
 "nbformat": 4,
 "nbformat_minor": 1
}
