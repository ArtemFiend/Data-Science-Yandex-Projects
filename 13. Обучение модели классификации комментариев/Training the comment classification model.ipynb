{
 "cells": [
  {
   "cell_type": "markdown",
   "metadata": {
    "toc": true
   },
   "source": [
    "<h1>Содержание<span class=\"tocSkip\"></span></h1>\n",
    "<div class=\"toc\"><ul class=\"toc-item\"><li><span><a href=\"#Подготовка\" data-toc-modified-id=\"Подготовка-1\"><span class=\"toc-item-num\">1&nbsp;&nbsp;</span>Подготовка</a></span></li><li><span><a href=\"#Обучение\" data-toc-modified-id=\"Обучение-2\"><span class=\"toc-item-num\">2&nbsp;&nbsp;</span>Обучение</a></span></li><li><span><a href=\"#Выводы\" data-toc-modified-id=\"Выводы-3\"><span class=\"toc-item-num\">3&nbsp;&nbsp;</span>Выводы</a></span></li><li><span><a href=\"#Чек-лист-проверки\" data-toc-modified-id=\"Чек-лист-проверки-4\"><span class=\"toc-item-num\">4&nbsp;&nbsp;</span>Чек-лист проверки</a></span></li></ul></div>"
   ]
  },
  {
   "cell_type": "markdown",
   "metadata": {},
   "source": [
    "# Проект для «Викишоп»"
   ]
  },
  {
   "cell_type": "markdown",
   "metadata": {},
   "source": [
    "Интернет-магазин «Викишоп» запускает новый сервис. Теперь пользователи могут редактировать и дополнять описания товаров, как в вики-сообществах. То есть клиенты предлагают свои правки и комментируют изменения других. Магазину нужен инструмент, который будет искать токсичные комментарии и отправлять их на модерацию. \n",
    "\n",
    "Обучите модель классифицировать комментарии на позитивные и негативные. В вашем распоряжении набор данных с разметкой о токсичности правок.\n",
    "\n",
    "Постройте модель со значением метрики качества *F1* не меньше 0.75. \n",
    "\n",
    "**Инструкция по выполнению проекта**\n",
    "\n",
    "1. Загрузите и подготовьте данные.\n",
    "2. Обучите разные модели. \n",
    "3. Сделайте выводы.\n",
    "\n",
    "Для выполнения проекта применять *BERT* необязательно, но вы можете попробовать.\n",
    "\n",
    "**Описание данных**\n",
    "\n",
    "Данные находятся в файле `toxic_comments.csv`. Столбец *text* в нём содержит текст комментария, а *toxic* — целевой признак."
   ]
  },
  {
   "cell_type": "markdown",
   "metadata": {},
   "source": [
    "## Подготовка"
   ]
  },
  {
   "cell_type": "markdown",
   "metadata": {},
   "source": [
    "* Импортируем библиотеки\n",
    "* Посмотрим файл\n",
    "* Предобработаем данные\n",
    "* Выделим целевой признак и обучающие\n",
    "* Проведём лемматизацию, очистку и векторизацию данных"
   ]
  },
  {
   "cell_type": "code",
   "execution_count": 1,
   "metadata": {},
   "outputs": [],
   "source": [
    "import pandas as pd\n",
    "import numpy as np\n",
    "import nltk\n",
    "import re\n",
    "from tqdm import tqdm\n",
    "from nltk.corpus import stopwords as nltk_stopwords\n",
    "from nltk import pos_tag\n",
    "from nltk.stem import WordNetLemmatizer\n",
    "from nltk.tokenize import word_tokenize\n",
    "from sklearn.feature_extraction.text import TfidfVectorizer\n",
    "from sklearn.pipeline import Pipeline\n",
    "from sklearn.model_selection import train_test_split, GridSearchCV\n",
    "from sklearn.linear_model import LogisticRegression\n",
    "from sklearn.svm import LinearSVC\n",
    "from sklearn.metrics import f1_score\n",
    "import warnings\n",
    "warnings.filterwarnings('ignore')"
   ]
  },
  {
   "cell_type": "code",
   "execution_count": 2,
   "metadata": {},
   "outputs": [
    {
     "name": "stderr",
     "output_type": "stream",
     "text": [
      "[nltk_data] Downloading package punkt to /home/jovyan/nltk_data...\n",
      "[nltk_data]   Package punkt is already up-to-date!\n",
      "[nltk_data] Downloading package stopwords to /home/jovyan/nltk_data...\n",
      "[nltk_data]   Package stopwords is already up-to-date!\n",
      "[nltk_data] Downloading package averaged_perceptron_tagger to\n",
      "[nltk_data]     /home/jovyan/nltk_data...\n",
      "[nltk_data]   Unzipping taggers/averaged_perceptron_tagger.zip.\n"
     ]
    },
    {
     "data": {
      "text/plain": [
       "True"
      ]
     },
     "execution_count": 2,
     "metadata": {},
     "output_type": "execute_result"
    }
   ],
   "source": [
    "nltk.download('punkt')\n",
    "nltk.download('stopwords')\n",
    "nltk.download('averaged_perceptron_tagger')"
   ]
  },
  {
   "cell_type": "code",
   "execution_count": 3,
   "metadata": {},
   "outputs": [],
   "source": [
    "data = pd.read_csv('/datasets/toxic_comments.csv')"
   ]
  },
  {
   "cell_type": "code",
   "execution_count": 4,
   "metadata": {},
   "outputs": [
    {
     "name": "stdout",
     "output_type": "stream",
     "text": [
      "<class 'pandas.core.frame.DataFrame'>\n",
      "RangeIndex: 159292 entries, 0 to 159291\n",
      "Data columns (total 3 columns):\n",
      " #   Column      Non-Null Count   Dtype \n",
      "---  ------      --------------   ----- \n",
      " 0   Unnamed: 0  159292 non-null  int64 \n",
      " 1   text        159292 non-null  object\n",
      " 2   toxic       159292 non-null  int64 \n",
      "dtypes: int64(2), object(1)\n",
      "memory usage: 3.6+ MB\n"
     ]
    }
   ],
   "source": [
    "data.info()"
   ]
  },
  {
   "cell_type": "code",
   "execution_count": 5,
   "metadata": {},
   "outputs": [
    {
     "data": {
      "text/html": [
       "<div>\n",
       "<style scoped>\n",
       "    .dataframe tbody tr th:only-of-type {\n",
       "        vertical-align: middle;\n",
       "    }\n",
       "\n",
       "    .dataframe tbody tr th {\n",
       "        vertical-align: top;\n",
       "    }\n",
       "\n",
       "    .dataframe thead th {\n",
       "        text-align: right;\n",
       "    }\n",
       "</style>\n",
       "<table border=\"1\" class=\"dataframe\">\n",
       "  <thead>\n",
       "    <tr style=\"text-align: right;\">\n",
       "      <th></th>\n",
       "      <th>Unnamed: 0</th>\n",
       "      <th>text</th>\n",
       "      <th>toxic</th>\n",
       "    </tr>\n",
       "  </thead>\n",
       "  <tbody>\n",
       "    <tr>\n",
       "      <th>0</th>\n",
       "      <td>0</td>\n",
       "      <td>Explanation\\nWhy the edits made under my usern...</td>\n",
       "      <td>0</td>\n",
       "    </tr>\n",
       "    <tr>\n",
       "      <th>1</th>\n",
       "      <td>1</td>\n",
       "      <td>D'aww! He matches this background colour I'm s...</td>\n",
       "      <td>0</td>\n",
       "    </tr>\n",
       "    <tr>\n",
       "      <th>2</th>\n",
       "      <td>2</td>\n",
       "      <td>Hey man, I'm really not trying to edit war. It...</td>\n",
       "      <td>0</td>\n",
       "    </tr>\n",
       "    <tr>\n",
       "      <th>3</th>\n",
       "      <td>3</td>\n",
       "      <td>\"\\nMore\\nI can't make any real suggestions on ...</td>\n",
       "      <td>0</td>\n",
       "    </tr>\n",
       "    <tr>\n",
       "      <th>4</th>\n",
       "      <td>4</td>\n",
       "      <td>You, sir, are my hero. Any chance you remember...</td>\n",
       "      <td>0</td>\n",
       "    </tr>\n",
       "  </tbody>\n",
       "</table>\n",
       "</div>"
      ],
      "text/plain": [
       "   Unnamed: 0                                               text  toxic\n",
       "0           0  Explanation\\nWhy the edits made under my usern...      0\n",
       "1           1  D'aww! He matches this background colour I'm s...      0\n",
       "2           2  Hey man, I'm really not trying to edit war. It...      0\n",
       "3           3  \"\\nMore\\nI can't make any real suggestions on ...      0\n",
       "4           4  You, sir, are my hero. Any chance you remember...      0"
      ]
     },
     "execution_count": 5,
     "metadata": {},
     "output_type": "execute_result"
    }
   ],
   "source": [
    "data.head()"
   ]
  },
  {
   "cell_type": "code",
   "execution_count": 6,
   "metadata": {},
   "outputs": [],
   "source": [
    "lemmatizer = WordNetLemmatizer()"
   ]
  },
  {
   "cell_type": "code",
   "execution_count": 7,
   "metadata": {},
   "outputs": [],
   "source": [
    "def lemmatization(text):\n",
    "    word_list = nltk.word_tokenize(text)\n",
    "    pos_tags = pos_tag(word_list)\n",
    "    lemmatized_words = []\n",
    "    for word, pos in pos_tags:\n",
    "        # Применение лемматизации с учетом POS-тега\n",
    "        if pos.startswith('NN'):  # Существительное\n",
    "            lemma = lemmatizer.lemmatize(word, pos='n')\n",
    "        elif pos.startswith('VB'):  # Глагол\n",
    "            lemma = lemmatizer.lemmatize(word, pos='v')\n",
    "        elif pos.startswith('JJ'):  # Прилагательное\n",
    "            lemma = lemmatizer.lemmatize(word, pos='a')\n",
    "        elif pos.startswith('R'):  # Наречие\n",
    "            lemma = lemmatizer.lemmatize(word, pos='r')\n",
    "        else:\n",
    "            lemma = lemmatizer.lemmatize(word)  # По умолчанию\n",
    "        lemmatized_words.append(lemma)\n",
    "    return ' '.join(lemmatized_words)"
   ]
  },
  {
   "cell_type": "markdown",
   "metadata": {},
   "source": [
    "Напишем функцию, которая приводит текст к нижнему регистру, удаляет все знаки, разбивает тексты на отдельные слова и соединяет их обратно в строки. "
   ]
  },
  {
   "cell_type": "code",
   "execution_count": 8,
   "metadata": {},
   "outputs": [],
   "source": [
    "def clear_text(text):\n",
    "    return ' '.join(re.sub(r'[^a-z]', ' ', text.lower()).split())"
   ]
  },
  {
   "cell_type": "code",
   "execution_count": 9,
   "metadata": {},
   "outputs": [
    {
     "name": "stderr",
     "output_type": "stream",
     "text": [
      "100%|██████████| 159292/159292 [13:20<00:00, 198.94it/s]\n",
      "100%|██████████| 159292/159292 [00:07<00:00, 21725.72it/s]\n"
     ]
    }
   ],
   "source": [
    "tqdm.pandas()\n",
    "data = data[:5]\n",
    "data['text'] = data['text'].progress_apply(lemmatization)\n",
    "data['text'] = data['text'].progress_apply(clear_text)"
   ]
  },
  {
   "cell_type": "code",
   "execution_count": 10,
   "metadata": {},
   "outputs": [],
   "source": [
    "features = data['text']\n",
    "target = data['toxic']"
   ]
  },
  {
   "cell_type": "markdown",
   "metadata": {},
   "source": [
    "Разделим данные на обучающую и тестовую выборки в соотношении 50 : 50"
   ]
  },
  {
   "cell_type": "code",
   "execution_count": 11,
   "metadata": {},
   "outputs": [],
   "source": [
    "target_train, target_test, features_train, features_test = train_test_split(target, features, test_size=0.5,  \n",
    "                                                                            random_state=42)"
   ]
  },
  {
   "cell_type": "code",
   "execution_count": 12,
   "metadata": {
    "scrolled": true
   },
   "outputs": [
    {
     "data": {
      "text/plain": [
       "58623                           january fine then i ll stop\n",
       "147333    noteable under point of the academic notabilit...\n",
       "69872     here be the only thing i can find regarding us...\n",
       "1552      utc the npov tag have be restore because of re...\n",
       "29797     i dont however gun powder ma would you mind st...\n",
       "Name: text, dtype: object"
      ]
     },
     "execution_count": 12,
     "metadata": {},
     "output_type": "execute_result"
    }
   ],
   "source": [
    "features_train[:5]"
   ]
  },
  {
   "cell_type": "markdown",
   "metadata": {},
   "source": [
    "Проведём векторизацию для тренировочной выборки"
   ]
  },
  {
   "cell_type": "code",
   "execution_count": 13,
   "metadata": {},
   "outputs": [],
   "source": [
    "stop_words = set(nltk_stopwords.words('english'))\n",
    "tfidf_vectorizer = TfidfVectorizer(stop_words=stop_words, ngram_range=(1, 2))\n",
    "features_train = tfidf_vectorizer.fit_transform(features_train)"
   ]
  },
  {
   "cell_type": "markdown",
   "metadata": {},
   "source": [
    "Проведём векторизацию тестовой выборки"
   ]
  },
  {
   "cell_type": "code",
   "execution_count": 14,
   "metadata": {},
   "outputs": [],
   "source": [
    "features_test = tfidf_vectorizer.transform(features_test)"
   ]
  },
  {
   "cell_type": "markdown",
   "metadata": {},
   "source": [
    "Создадим переменную для удобства дальнейшего сравнения моделей. "
   ]
  },
  {
   "cell_type": "code",
   "execution_count": 15,
   "metadata": {},
   "outputs": [],
   "source": [
    "results = pd.DataFrame(columns=['Model', 'F1_score'])"
   ]
  },
  {
   "cell_type": "markdown",
   "metadata": {},
   "source": [
    "## Обучение"
   ]
  },
  {
   "cell_type": "markdown",
   "metadata": {},
   "source": [
    "Обучим и сравним модели: \n",
    "* LogisticRegression\n",
    "* LinearSVC"
   ]
  },
  {
   "cell_type": "code",
   "execution_count": 16,
   "metadata": {},
   "outputs": [
    {
     "name": "stdout",
     "output_type": "stream",
     "text": [
      "Fitting 3 folds for each of 3 candidates, totalling 9 fits\n",
      "Лучшие параметры для LogisticRegression:  {'C': 10}\n",
      "Оценка f1 на обучающем наборе: 0.7661\n",
      "CPU times: user 17.7 s, sys: 9.39 s, total: 27.1 s\n",
      "Wall time: 1min 38s\n"
     ]
    }
   ],
   "source": [
    "%%time\n",
    "model_LR = LogisticRegression(random_state=42, class_weight='balanced', solver='liblinear')\n",
    "parameters = [{'C': [1, 5, 10]}]\n",
    "\n",
    "LR_model_gscv = GridSearchCV(model_LR, param_grid=parameters, scoring='f1', cv=3, verbose=True, n_jobs=4)\n",
    "LR_model_gscv.fit(features_train, target_train)\n",
    "\n",
    "print(\"Лучшие параметры для LogisticRegression: \", LR_model_gscv.best_params_)\n",
    "print(\"Оценка f1 на обучающем наборе: {:.4f}\".format(LR_model_gscv.best_score_))\n",
    "results.loc[len(results)] = ['LogisticRegression train', '{:.4f}'.format(LR_model_gscv.best_score_)]"
   ]
  },
  {
   "cell_type": "code",
   "execution_count": 17,
   "metadata": {},
   "outputs": [
    {
     "name": "stdout",
     "output_type": "stream",
     "text": [
      "Fitting 5 folds for each of 3 candidates, totalling 15 fits\n",
      "Лучшие параметры для LinearSVC:  {'C': 0.3}\n",
      "Оценка f1 на обучающем наборе: 0.7704\n",
      "CPU times: user 3.35 s, sys: 85.4 ms, total: 3.43 s\n",
      "Wall time: 55.9 s\n"
     ]
    }
   ],
   "source": [
    "%%time\n",
    "model_LSVC = LinearSVC(random_state=42, class_weight='balanced')\n",
    "\n",
    "parameters = [{'C': [0.3, 0.4, 0.5]}]\n",
    "\n",
    "LSVC_model_gscv = GridSearchCV(model_LSVC, param_grid=parameters, scoring='f1', cv=5, verbose=True, n_jobs=4)\n",
    "LSVC_model_gscv.fit(features_train, target_train)\n",
    "\n",
    "print(\"Лучшие параметры для LinearSVC: \", LSVC_model_gscv.best_params_)\n",
    "print(\"Оценка f1 на обучающем наборе: {:.4f}\".format(LSVC_model_gscv.best_score_))\n",
    "results.loc[len(results)] = ['LinearSVC train', '{:.4f}'.format(LSVC_model_gscv.best_score_)]"
   ]
  },
  {
   "cell_type": "code",
   "execution_count": 18,
   "metadata": {
    "scrolled": false
   },
   "outputs": [
    {
     "data": {
      "text/html": [
       "<div>\n",
       "<style scoped>\n",
       "    .dataframe tbody tr th:only-of-type {\n",
       "        vertical-align: middle;\n",
       "    }\n",
       "\n",
       "    .dataframe tbody tr th {\n",
       "        vertical-align: top;\n",
       "    }\n",
       "\n",
       "    .dataframe thead th {\n",
       "        text-align: right;\n",
       "    }\n",
       "</style>\n",
       "<table border=\"1\" class=\"dataframe\">\n",
       "  <thead>\n",
       "    <tr style=\"text-align: right;\">\n",
       "      <th></th>\n",
       "      <th>Model</th>\n",
       "      <th>F1_score</th>\n",
       "    </tr>\n",
       "  </thead>\n",
       "  <tbody>\n",
       "    <tr>\n",
       "      <th>0</th>\n",
       "      <td>LogisticRegression train</td>\n",
       "      <td>0.7661</td>\n",
       "    </tr>\n",
       "    <tr>\n",
       "      <th>1</th>\n",
       "      <td>LinearSVC train</td>\n",
       "      <td>0.7704</td>\n",
       "    </tr>\n",
       "  </tbody>\n",
       "</table>\n",
       "</div>"
      ],
      "text/plain": [
       "                      Model F1_score\n",
       "0  LogisticRegression train   0.7661\n",
       "1           LinearSVC train   0.7704"
      ]
     },
     "execution_count": 18,
     "metadata": {},
     "output_type": "execute_result"
    }
   ],
   "source": [
    "results"
   ]
  },
  {
   "cell_type": "markdown",
   "metadata": {},
   "source": [
    "Как видим, с нашей задачей модель LinearSVC справляется несколько лучше, чем LogisticRegression. Будем использовать её на тестовой выборке."
   ]
  },
  {
   "cell_type": "markdown",
   "metadata": {},
   "source": [
    "## Выводы"
   ]
  },
  {
   "cell_type": "code",
   "execution_count": 20,
   "metadata": {},
   "outputs": [
    {
     "name": "stdout",
     "output_type": "stream",
     "text": [
      "Оценка f1 на тестовом наборе: 0.7668\n"
     ]
    }
   ],
   "source": [
    "# Оцениваем модель на тестовом наборе\n",
    "predict_LSVC = LSVC_model_gscv.predict(features_test)\n",
    "f1_LSVC = f1_score(target_test, predict_LSVC)\n",
    "print(\"Оценка f1 на тестовом наборе: {:.4f}\".format(f1_LSVC))"
   ]
  },
  {
   "cell_type": "markdown",
   "metadata": {},
   "source": [
    "# Вывод:\n",
    "* Анализ моделей проведён на тренировоной и тестовой выборках\n",
    "* F1 метрика на всех тестах составляет 0.75 +\n",
    "* Модель LinearSVC справляется с нашей задачей несколько лучше, чем LogisticRegression\n",
    "* На обучающей выборке метрика F1 составила: LinearSVC -\t0.7704, LogisticRegression - 0.7661\n",
    "* На тестовой выборке метрика F1 модели LinearSVC составила 0.7668"
   ]
  },
  {
   "cell_type": "markdown",
   "metadata": {},
   "source": [
    "## Чек-лист проверки"
   ]
  },
  {
   "cell_type": "markdown",
   "metadata": {},
   "source": [
    "- [x]  Jupyter Notebook открыт\n",
    "- [x]  Весь код выполняется без ошибок\n",
    "- [x]  Ячейки с кодом расположены в порядке исполнения\n",
    "- [x]  Данные загружены и подготовлены\n",
    "- [x]  Модели обучены\n",
    "- [x]  Значение метрики *F1* не меньше 0.75\n",
    "- [x]  Выводы написаны"
   ]
  }
 ],
 "metadata": {
  "ExecuteTimeLog": [
   {
    "duration": 3614,
    "start_time": "2023-06-14T07:40:47.361Z"
   },
   {
    "duration": 4894,
    "start_time": "2023-06-14T07:40:58.910Z"
   },
   {
    "duration": 4,
    "start_time": "2023-06-14T07:41:21.561Z"
   },
   {
    "duration": 27,
    "start_time": "2023-06-14T07:41:55.260Z"
   },
   {
    "duration": 9788,
    "start_time": "2023-06-14T07:42:30.971Z"
   },
   {
    "duration": 3110,
    "start_time": "2023-06-14T07:43:03.784Z"
   },
   {
    "duration": 2545,
    "start_time": "2023-06-14T07:43:10.304Z"
   },
   {
    "duration": 5,
    "start_time": "2023-06-14T07:43:14.182Z"
   },
   {
    "duration": 1142,
    "start_time": "2023-06-14T07:43:14.362Z"
   },
   {
    "duration": 48,
    "start_time": "2023-06-14T07:43:15.508Z"
   },
   {
    "duration": 54,
    "start_time": "2023-06-14T07:43:15.560Z"
   },
   {
    "duration": 3818,
    "start_time": "2023-06-14T07:43:15.619Z"
   },
   {
    "duration": 260865,
    "start_time": "2023-06-14T07:43:38.619Z"
   },
   {
    "duration": 2741,
    "start_time": "2023-06-14T08:13:38.372Z"
   },
   {
    "duration": 2627,
    "start_time": "2023-06-14T08:13:58.683Z"
   },
   {
    "duration": 2475,
    "start_time": "2023-06-14T08:14:01.313Z"
   },
   {
    "duration": 2699,
    "start_time": "2023-06-14T08:14:06.024Z"
   },
   {
    "duration": 941,
    "start_time": "2023-06-14T08:14:14.033Z"
   },
   {
    "duration": 5,
    "start_time": "2023-06-14T08:14:16.397Z"
   },
   {
    "duration": 26,
    "start_time": "2023-06-14T08:14:18.208Z"
   },
   {
    "duration": 5925,
    "start_time": "2023-06-14T08:14:21.996Z"
   },
   {
    "duration": 235066,
    "start_time": "2023-06-14T08:14:33.139Z"
   },
   {
    "duration": 2339,
    "start_time": "2023-06-14T12:11:22.940Z"
   },
   {
    "duration": 1910,
    "start_time": "2023-06-14T12:14:28.763Z"
   },
   {
    "duration": 4093,
    "start_time": "2023-06-14T12:14:30.676Z"
   },
   {
    "duration": 31,
    "start_time": "2023-06-14T12:14:34.771Z"
   },
   {
    "duration": 9,
    "start_time": "2023-06-14T12:14:34.803Z"
   },
   {
    "duration": 165,
    "start_time": "2023-06-14T12:14:34.814Z"
   },
   {
    "duration": 155,
    "start_time": "2023-06-14T12:14:34.981Z"
   },
   {
    "duration": 0,
    "start_time": "2023-06-14T12:14:35.138Z"
   },
   {
    "duration": 69,
    "start_time": "2023-06-14T12:15:32.228Z"
   },
   {
    "duration": 9,
    "start_time": "2023-06-14T12:15:40.072Z"
   },
   {
    "duration": 2,
    "start_time": "2023-06-14T12:16:53.099Z"
   },
   {
    "duration": 13,
    "start_time": "2023-06-14T12:16:54.004Z"
   },
   {
    "duration": 29,
    "start_time": "2023-06-14T12:17:02.024Z"
   },
   {
    "duration": 238,
    "start_time": "2023-06-14T12:17:07.172Z"
   },
   {
    "duration": 3,
    "start_time": "2023-06-14T12:30:38.082Z"
   },
   {
    "duration": 1013,
    "start_time": "2023-06-14T12:30:38.281Z"
   },
   {
    "duration": 0,
    "start_time": "2023-06-14T12:30:39.296Z"
   },
   {
    "duration": 0,
    "start_time": "2023-06-14T12:30:39.298Z"
   },
   {
    "duration": 9,
    "start_time": "2023-06-14T12:30:39.551Z"
   },
   {
    "duration": 3,
    "start_time": "2023-06-14T12:30:54.982Z"
   },
   {
    "duration": 3,
    "start_time": "2023-06-14T12:30:55.910Z"
   },
   {
    "duration": 17882,
    "start_time": "2023-06-14T12:30:56.507Z"
   },
   {
    "duration": 78032,
    "start_time": "2023-06-14T12:31:21.155Z"
   },
   {
    "duration": 892,
    "start_time": "2023-06-14T12:32:39.189Z"
   },
   {
    "duration": 0,
    "start_time": "2023-06-14T12:32:40.082Z"
   },
   {
    "duration": 0,
    "start_time": "2023-06-14T12:32:40.084Z"
   },
   {
    "duration": 15837,
    "start_time": "2023-06-14T12:32:47.083Z"
   },
   {
    "duration": 3,
    "start_time": "2023-06-14T12:33:15.415Z"
   },
   {
    "duration": 823,
    "start_time": "2023-06-14T12:33:16.022Z"
   },
   {
    "duration": 82249,
    "start_time": "2023-06-14T12:33:22.190Z"
   },
   {
    "duration": 5,
    "start_time": "2023-06-14T12:34:44.441Z"
   },
   {
    "duration": 0,
    "start_time": "2023-06-14T12:36:50.579Z"
   },
   {
    "duration": 0,
    "start_time": "2023-06-14T12:36:50.580Z"
   },
   {
    "duration": 255648,
    "start_time": "2023-06-14T12:37:52.856Z"
   },
   {
    "duration": 7,
    "start_time": "2023-06-14T12:42:08.506Z"
   },
   {
    "duration": 65,
    "start_time": "2023-06-14T12:42:48.454Z"
   },
   {
    "duration": 0,
    "start_time": "2023-06-14T12:54:30.831Z"
   },
   {
    "duration": 7445,
    "start_time": "2023-06-14T12:54:37.986Z"
   },
   {
    "duration": 2023,
    "start_time": "2023-06-14T12:56:47.083Z"
   },
   {
    "duration": 813,
    "start_time": "2023-06-14T12:56:49.109Z"
   },
   {
    "duration": 50,
    "start_time": "2023-06-14T12:56:49.924Z"
   },
   {
    "duration": 11,
    "start_time": "2023-06-14T12:56:49.980Z"
   },
   {
    "duration": 157,
    "start_time": "2023-06-14T12:56:49.993Z"
   },
   {
    "duration": 2,
    "start_time": "2023-06-14T12:56:52.288Z"
   },
   {
    "duration": 42,
    "start_time": "2023-06-14T12:56:52.476Z"
   },
   {
    "duration": 280,
    "start_time": "2023-06-14T12:56:52.626Z"
   },
   {
    "duration": 3,
    "start_time": "2023-06-14T12:56:55.186Z"
   },
   {
    "duration": 3,
    "start_time": "2023-06-14T12:56:55.352Z"
   },
   {
    "duration": 80384,
    "start_time": "2023-06-14T12:56:55.928Z"
   },
   {
    "duration": 15463,
    "start_time": "2023-06-14T12:58:16.314Z"
   },
   {
    "duration": 4,
    "start_time": "2023-06-14T12:58:31.782Z"
   },
   {
    "duration": 83001,
    "start_time": "2023-06-14T12:58:31.788Z"
   },
   {
    "duration": 5,
    "start_time": "2023-06-14T12:59:54.791Z"
   },
   {
    "duration": 302985,
    "start_time": "2023-06-14T13:01:53.838Z"
   },
   {
    "duration": 7,
    "start_time": "2023-06-14T13:07:02.345Z"
   },
   {
    "duration": 515797,
    "start_time": "2023-06-14T13:14:06.226Z"
   },
   {
    "duration": 2148,
    "start_time": "2023-06-14T13:22:44.943Z"
   },
   {
    "duration": 816,
    "start_time": "2023-06-14T13:22:47.094Z"
   },
   {
    "duration": 34,
    "start_time": "2023-06-14T13:22:47.911Z"
   },
   {
    "duration": 24,
    "start_time": "2023-06-14T13:22:47.947Z"
   },
   {
    "duration": 177,
    "start_time": "2023-06-14T13:22:47.974Z"
   },
   {
    "duration": 7,
    "start_time": "2023-06-14T13:22:48.152Z"
   },
   {
    "duration": 39,
    "start_time": "2023-06-14T13:22:48.161Z"
   },
   {
    "duration": 273,
    "start_time": "2023-06-14T13:22:48.202Z"
   },
   {
    "duration": 4,
    "start_time": "2023-06-14T13:22:48.476Z"
   },
   {
    "duration": 19,
    "start_time": "2023-06-14T13:22:48.483Z"
   },
   {
    "duration": 79631,
    "start_time": "2023-06-14T13:22:48.504Z"
   },
   {
    "duration": 14801,
    "start_time": "2023-06-14T13:24:08.137Z"
   },
   {
    "duration": 4,
    "start_time": "2023-06-14T13:24:22.940Z"
   },
   {
    "duration": 83269,
    "start_time": "2023-06-14T13:24:22.946Z"
   },
   {
    "duration": 5,
    "start_time": "2023-06-14T13:25:46.217Z"
   },
   {
    "duration": 420410,
    "start_time": "2023-06-14T13:25:46.223Z"
   },
   {
    "duration": 91,
    "start_time": "2023-06-14T13:32:46.635Z"
   },
   {
    "duration": 45809,
    "start_time": "2023-06-14T13:32:46.728Z"
   },
   {
    "duration": 85,
    "start_time": "2023-06-14T13:33:32.540Z"
   },
   {
    "duration": 2,
    "start_time": "2023-06-14T13:33:32.628Z"
   },
   {
    "duration": 70,
    "start_time": "2023-06-14T13:33:32.632Z"
   },
   {
    "duration": 2146,
    "start_time": "2023-06-14T13:33:32.704Z"
   },
   {
    "duration": 197,
    "start_time": "2023-06-14T13:33:34.853Z"
   },
   {
    "duration": 55,
    "start_time": "2023-06-14T13:33:35.051Z"
   },
   {
    "duration": 160,
    "start_time": "2023-06-14T13:33:35.108Z"
   },
   {
    "duration": 8,
    "start_time": "2023-06-14T13:44:27.600Z"
   },
   {
    "duration": 22,
    "start_time": "2023-06-14T13:46:42.884Z"
   },
   {
    "duration": 199,
    "start_time": "2023-06-14T13:46:53.418Z"
   },
   {
    "duration": 43262,
    "start_time": "2023-06-14T13:49:30.657Z"
   },
   {
    "duration": 10,
    "start_time": "2023-06-14T13:50:13.921Z"
   },
   {
    "duration": 1455,
    "start_time": "2023-06-14T13:51:32.594Z"
   },
   {
    "duration": 335,
    "start_time": "2023-06-14T13:51:34.052Z"
   },
   {
    "duration": 1978,
    "start_time": "2023-06-14T13:51:34.389Z"
   },
   {
    "duration": 39,
    "start_time": "2023-06-14T13:51:36.369Z"
   },
   {
    "duration": 14,
    "start_time": "2023-06-14T13:51:36.411Z"
   },
   {
    "duration": 4,
    "start_time": "2023-06-14T13:51:36.428Z"
   },
   {
    "duration": 68,
    "start_time": "2023-06-14T13:51:36.434Z"
   },
   {
    "duration": 4,
    "start_time": "2023-06-14T13:51:36.504Z"
   },
   {
    "duration": 6,
    "start_time": "2023-06-14T13:51:36.510Z"
   },
   {
    "duration": 144,
    "start_time": "2023-06-14T13:51:36.518Z"
   },
   {
    "duration": 0,
    "start_time": "2023-06-14T13:51:36.668Z"
   },
   {
    "duration": 0,
    "start_time": "2023-06-14T13:51:36.669Z"
   },
   {
    "duration": 0,
    "start_time": "2023-06-14T13:51:36.670Z"
   },
   {
    "duration": 0,
    "start_time": "2023-06-14T13:51:36.670Z"
   },
   {
    "duration": 0,
    "start_time": "2023-06-14T13:51:36.671Z"
   },
   {
    "duration": 0,
    "start_time": "2023-06-14T13:51:36.672Z"
   },
   {
    "duration": 0,
    "start_time": "2023-06-14T13:51:36.673Z"
   },
   {
    "duration": 0,
    "start_time": "2023-06-14T13:51:36.677Z"
   },
   {
    "duration": 0,
    "start_time": "2023-06-14T13:51:36.678Z"
   },
   {
    "duration": 1542,
    "start_time": "2023-06-14T13:53:35.677Z"
   },
   {
    "duration": 188,
    "start_time": "2023-06-14T13:53:37.221Z"
   },
   {
    "duration": 966,
    "start_time": "2023-06-14T13:53:37.411Z"
   },
   {
    "duration": 38,
    "start_time": "2023-06-14T13:53:38.379Z"
   },
   {
    "duration": 10,
    "start_time": "2023-06-14T13:53:38.419Z"
   },
   {
    "duration": 3,
    "start_time": "2023-06-14T13:53:38.432Z"
   },
   {
    "duration": 64,
    "start_time": "2023-06-14T13:53:38.457Z"
   },
   {
    "duration": 3,
    "start_time": "2023-06-14T13:53:38.524Z"
   },
   {
    "duration": 7,
    "start_time": "2023-06-14T13:53:38.530Z"
   },
   {
    "duration": 154,
    "start_time": "2023-06-14T13:53:38.556Z"
   },
   {
    "duration": 0,
    "start_time": "2023-06-14T13:53:38.711Z"
   },
   {
    "duration": 0,
    "start_time": "2023-06-14T13:53:38.713Z"
   },
   {
    "duration": 0,
    "start_time": "2023-06-14T13:53:38.714Z"
   },
   {
    "duration": 0,
    "start_time": "2023-06-14T13:53:38.715Z"
   },
   {
    "duration": 0,
    "start_time": "2023-06-14T13:53:38.716Z"
   },
   {
    "duration": 0,
    "start_time": "2023-06-14T13:53:38.718Z"
   },
   {
    "duration": 0,
    "start_time": "2023-06-14T13:53:38.719Z"
   },
   {
    "duration": 0,
    "start_time": "2023-06-14T13:53:38.720Z"
   },
   {
    "duration": 0,
    "start_time": "2023-06-14T13:53:38.721Z"
   },
   {
    "duration": 4,
    "start_time": "2023-06-14T13:54:04.581Z"
   },
   {
    "duration": 5,
    "start_time": "2023-06-14T13:54:05.533Z"
   },
   {
    "duration": 865,
    "start_time": "2023-06-14T13:54:05.767Z"
   },
   {
    "duration": 43,
    "start_time": "2023-06-14T13:54:06.634Z"
   },
   {
    "duration": 19,
    "start_time": "2023-06-14T13:54:06.684Z"
   },
   {
    "duration": 6,
    "start_time": "2023-06-14T13:54:06.705Z"
   },
   {
    "duration": 43,
    "start_time": "2023-06-14T13:54:07.047Z"
   },
   {
    "duration": 3,
    "start_time": "2023-06-14T13:54:07.627Z"
   },
   {
    "duration": 3,
    "start_time": "2023-06-14T13:54:07.794Z"
   },
   {
    "duration": 13,
    "start_time": "2023-06-14T13:54:08.213Z"
   },
   {
    "duration": 34,
    "start_time": "2023-06-14T13:54:54.653Z"
   },
   {
    "duration": 22,
    "start_time": "2023-06-14T13:54:58.337Z"
   },
   {
    "duration": 1456,
    "start_time": "2023-06-14T13:55:39.121Z"
   },
   {
    "duration": 295,
    "start_time": "2023-06-14T13:55:40.580Z"
   },
   {
    "duration": 889,
    "start_time": "2023-06-14T13:55:40.877Z"
   },
   {
    "duration": 38,
    "start_time": "2023-06-14T13:55:41.776Z"
   },
   {
    "duration": 160,
    "start_time": "2023-06-14T13:55:41.816Z"
   },
   {
    "duration": 6,
    "start_time": "2023-06-14T13:55:41.978Z"
   },
   {
    "duration": 53,
    "start_time": "2023-06-14T13:55:41.986Z"
   },
   {
    "duration": 4,
    "start_time": "2023-06-14T13:55:42.041Z"
   },
   {
    "duration": 21,
    "start_time": "2023-06-14T13:55:42.046Z"
   },
   {
    "duration": 79754,
    "start_time": "2023-06-14T13:55:42.070Z"
   },
   {
    "duration": 15845,
    "start_time": "2023-06-14T13:57:01.827Z"
   },
   {
    "duration": 5,
    "start_time": "2023-06-14T13:57:17.674Z"
   },
   {
    "duration": 81925,
    "start_time": "2023-06-14T13:57:17.680Z"
   },
   {
    "duration": 7,
    "start_time": "2023-06-14T13:58:39.607Z"
   },
   {
    "duration": 1318,
    "start_time": "2023-06-14T14:04:28.322Z"
   },
   {
    "duration": 210,
    "start_time": "2023-06-14T14:04:29.642Z"
   },
   {
    "duration": 3785,
    "start_time": "2023-06-14T14:04:29.853Z"
   },
   {
    "duration": 29,
    "start_time": "2023-06-14T14:04:33.640Z"
   },
   {
    "duration": 9,
    "start_time": "2023-06-14T14:04:33.671Z"
   },
   {
    "duration": 3,
    "start_time": "2023-06-14T14:04:33.681Z"
   },
   {
    "duration": 31,
    "start_time": "2023-06-14T14:04:33.686Z"
   },
   {
    "duration": 3,
    "start_time": "2023-06-14T14:04:33.718Z"
   },
   {
    "duration": 32,
    "start_time": "2023-06-14T14:04:33.723Z"
   },
   {
    "duration": 67607,
    "start_time": "2023-06-14T14:04:33.758Z"
   },
   {
    "duration": 12552,
    "start_time": "2023-06-14T14:05:41.367Z"
   },
   {
    "duration": 3,
    "start_time": "2023-06-14T14:05:53.921Z"
   },
   {
    "duration": 68947,
    "start_time": "2023-06-14T14:05:53.925Z"
   },
   {
    "duration": 5,
    "start_time": "2023-06-14T14:07:02.874Z"
   },
   {
    "duration": 378951,
    "start_time": "2023-06-14T14:07:02.880Z"
   },
   {
    "duration": 78,
    "start_time": "2023-06-14T14:13:21.833Z"
   },
   {
    "duration": 35987,
    "start_time": "2023-06-14T14:13:21.912Z"
   },
   {
    "duration": 70,
    "start_time": "2023-06-14T14:13:57.901Z"
   },
   {
    "duration": 7,
    "start_time": "2023-06-14T14:13:57.972Z"
   },
   {
    "duration": 1484,
    "start_time": "2023-06-14T16:33:01.943Z"
   },
   {
    "duration": 209,
    "start_time": "2023-06-14T16:33:03.429Z"
   },
   {
    "duration": 903,
    "start_time": "2023-06-14T16:33:03.640Z"
   },
   {
    "duration": 32,
    "start_time": "2023-06-14T16:33:04.545Z"
   },
   {
    "duration": 9,
    "start_time": "2023-06-14T16:33:04.580Z"
   },
   {
    "duration": 9,
    "start_time": "2023-06-14T16:33:04.591Z"
   },
   {
    "duration": 68,
    "start_time": "2023-06-14T16:33:04.601Z"
   },
   {
    "duration": 4,
    "start_time": "2023-06-14T16:33:04.671Z"
   },
   {
    "duration": 13,
    "start_time": "2023-06-14T16:33:04.677Z"
   },
   {
    "duration": 66220,
    "start_time": "2023-06-14T16:33:04.692Z"
   },
   {
    "duration": 13016,
    "start_time": "2023-06-14T16:34:10.914Z"
   },
   {
    "duration": 4,
    "start_time": "2023-06-14T16:34:23.932Z"
   },
   {
    "duration": 70622,
    "start_time": "2023-06-14T16:34:23.938Z"
   },
   {
    "duration": 5,
    "start_time": "2023-06-14T16:35:34.563Z"
   },
   {
    "duration": 311696,
    "start_time": "2023-06-14T16:35:34.569Z"
   },
   {
    "duration": 258,
    "start_time": "2023-06-14T16:40:46.267Z"
   },
   {
    "duration": 0,
    "start_time": "2023-06-14T16:40:46.528Z"
   },
   {
    "duration": 0,
    "start_time": "2023-06-14T16:40:46.529Z"
   },
   {
    "duration": 0,
    "start_time": "2023-06-14T16:40:46.530Z"
   },
   {
    "duration": 1316,
    "start_time": "2023-06-14T16:40:50.530Z"
   },
   {
    "duration": 197,
    "start_time": "2023-06-14T16:40:51.847Z"
   },
   {
    "duration": 880,
    "start_time": "2023-06-14T16:40:52.045Z"
   },
   {
    "duration": 34,
    "start_time": "2023-06-14T16:40:52.927Z"
   },
   {
    "duration": 25,
    "start_time": "2023-06-14T16:40:52.964Z"
   },
   {
    "duration": 25,
    "start_time": "2023-06-14T16:40:52.991Z"
   },
   {
    "duration": 38,
    "start_time": "2023-06-14T16:40:53.017Z"
   },
   {
    "duration": 3,
    "start_time": "2023-06-14T16:40:53.056Z"
   },
   {
    "duration": 8,
    "start_time": "2023-06-14T16:40:53.060Z"
   },
   {
    "duration": 65052,
    "start_time": "2023-06-14T16:40:53.069Z"
   },
   {
    "duration": 12687,
    "start_time": "2023-06-14T16:41:58.123Z"
   },
   {
    "duration": 3,
    "start_time": "2023-06-14T16:42:10.811Z"
   },
   {
    "duration": 68729,
    "start_time": "2023-06-14T16:42:10.816Z"
   },
   {
    "duration": 8,
    "start_time": "2023-06-14T16:43:19.547Z"
   },
   {
    "duration": 76192,
    "start_time": "2023-06-14T16:43:19.557Z"
   },
   {
    "duration": 71,
    "start_time": "2023-06-14T16:44:35.754Z"
   },
   {
    "duration": 46175,
    "start_time": "2023-06-14T16:44:35.827Z"
   },
   {
    "duration": 76,
    "start_time": "2023-06-14T16:45:22.004Z"
   },
   {
    "duration": 7,
    "start_time": "2023-06-14T16:45:22.082Z"
   },
   {
    "duration": 2479,
    "start_time": "2023-06-14T17:52:56.723Z"
   },
   {
    "duration": 268,
    "start_time": "2023-06-14T17:52:59.208Z"
   },
   {
    "duration": 995,
    "start_time": "2023-06-14T17:52:59.477Z"
   },
   {
    "duration": 37,
    "start_time": "2023-06-14T17:53:00.474Z"
   },
   {
    "duration": 130,
    "start_time": "2023-06-14T17:53:00.513Z"
   },
   {
    "duration": 39,
    "start_time": "2023-06-14T17:53:00.645Z"
   },
   {
    "duration": 193,
    "start_time": "2023-06-14T17:53:00.686Z"
   },
   {
    "duration": 2,
    "start_time": "2023-06-14T17:53:00.881Z"
   },
   {
    "duration": 84,
    "start_time": "2023-06-14T17:53:00.885Z"
   },
   {
    "duration": 108,
    "start_time": "2023-06-14T17:53:00.971Z"
   },
   {
    "duration": 1450,
    "start_time": "2023-06-14T17:53:13.488Z"
   },
   {
    "duration": 6,
    "start_time": "2023-06-14T17:53:22.220Z"
   },
   {
    "duration": 1412,
    "start_time": "2023-06-15T06:31:15.766Z"
   },
   {
    "duration": 407,
    "start_time": "2023-06-15T06:31:20.444Z"
   },
   {
    "duration": 3537,
    "start_time": "2023-06-15T06:31:22.567Z"
   },
   {
    "duration": 35,
    "start_time": "2023-06-15T06:31:26.106Z"
   },
   {
    "duration": 11,
    "start_time": "2023-06-15T06:31:26.219Z"
   },
   {
    "duration": 3,
    "start_time": "2023-06-15T06:31:33.139Z"
   },
   {
    "duration": 66,
    "start_time": "2023-06-15T06:31:36.723Z"
   },
   {
    "duration": 3,
    "start_time": "2023-06-15T06:31:45.552Z"
   },
   {
    "duration": 3,
    "start_time": "2023-06-15T06:31:50.963Z"
   },
   {
    "duration": 71439,
    "start_time": "2023-06-15T06:36:17.439Z"
   },
   {
    "duration": 20037,
    "start_time": "2023-06-15T06:37:30.479Z"
   },
   {
    "duration": 154188,
    "start_time": "2023-06-15T06:37:52.422Z"
   },
   {
    "duration": 12,
    "start_time": "2023-06-15T06:40:33.098Z"
   },
   {
    "duration": 4,
    "start_time": "2023-06-15T06:42:38.212Z"
   },
   {
    "duration": 6,
    "start_time": "2023-06-15T06:42:39.514Z"
   },
   {
    "duration": 893,
    "start_time": "2023-06-15T06:42:40.034Z"
   },
   {
    "duration": 25,
    "start_time": "2023-06-15T06:42:40.929Z"
   },
   {
    "duration": 18,
    "start_time": "2023-06-15T06:42:40.956Z"
   },
   {
    "duration": 3,
    "start_time": "2023-06-15T06:42:41.019Z"
   },
   {
    "duration": 32,
    "start_time": "2023-06-15T06:42:42.906Z"
   },
   {
    "duration": 5,
    "start_time": "2023-06-15T06:42:47.952Z"
   },
   {
    "duration": 3,
    "start_time": "2023-06-15T06:42:50.615Z"
   },
   {
    "duration": 358,
    "start_time": "2023-06-15T06:42:53.312Z"
   },
   {
    "duration": 4,
    "start_time": "2023-06-15T06:43:57.622Z"
   },
   {
    "duration": 812,
    "start_time": "2023-06-15T06:43:58.313Z"
   },
   {
    "duration": 939,
    "start_time": "2023-06-15T06:44:01.221Z"
   },
   {
    "duration": 42,
    "start_time": "2023-06-15T06:44:02.167Z"
   },
   {
    "duration": 41,
    "start_time": "2023-06-15T06:44:02.211Z"
   },
   {
    "duration": 52,
    "start_time": "2023-06-15T06:44:02.254Z"
   },
   {
    "duration": 61,
    "start_time": "2023-06-15T06:44:02.580Z"
   },
   {
    "duration": 5,
    "start_time": "2023-06-15T06:44:03.753Z"
   },
   {
    "duration": 3,
    "start_time": "2023-06-15T06:44:05.328Z"
   },
   {
    "duration": 769934,
    "start_time": "2023-06-15T06:44:06.244Z"
   },
   {
    "duration": 6,
    "start_time": "2023-06-15T06:57:02.618Z"
   },
   {
    "duration": 1381,
    "start_time": "2023-06-15T06:58:09.498Z"
   },
   {
    "duration": 288,
    "start_time": "2023-06-15T06:58:12.739Z"
   },
   {
    "duration": 1087,
    "start_time": "2023-06-15T06:58:14.484Z"
   },
   {
    "duration": 44,
    "start_time": "2023-06-15T06:58:15.579Z"
   },
   {
    "duration": 21,
    "start_time": "2023-06-15T06:58:15.624Z"
   },
   {
    "duration": 7,
    "start_time": "2023-06-15T06:58:21.297Z"
   },
   {
    "duration": 5,
    "start_time": "2023-06-15T06:58:21.984Z"
   },
   {
    "duration": 662,
    "start_time": "2023-06-15T06:58:24.390Z"
   },
   {
    "duration": 3,
    "start_time": "2023-06-15T07:00:22.389Z"
   },
   {
    "duration": 4,
    "start_time": "2023-06-15T07:00:23.156Z"
   },
   {
    "duration": 4,
    "start_time": "2023-06-15T07:00:23.951Z"
   },
   {
    "duration": 688290,
    "start_time": "2023-06-15T07:00:25.423Z"
   },
   {
    "duration": 3,
    "start_time": "2023-06-15T07:11:53.716Z"
   },
   {
    "duration": 47,
    "start_time": "2023-06-15T07:11:53.720Z"
   },
   {
    "duration": 11,
    "start_time": "2023-06-15T07:11:53.771Z"
   },
   {
    "duration": 14933,
    "start_time": "2023-06-15T07:11:53.784Z"
   },
   {
    "duration": 3,
    "start_time": "2023-06-15T07:12:08.718Z"
   },
   {
    "duration": 8206,
    "start_time": "2023-06-15T07:12:08.723Z"
   },
   {
    "duration": 5,
    "start_time": "2023-06-15T07:12:16.931Z"
   },
   {
    "duration": 18,
    "start_time": "2023-06-15T07:12:16.937Z"
   },
   {
    "duration": 6123,
    "start_time": "2023-06-15T07:12:16.957Z"
   },
   {
    "duration": 0,
    "start_time": "2023-06-15T07:12:23.092Z"
   },
   {
    "duration": 0,
    "start_time": "2023-06-15T07:12:23.093Z"
   },
   {
    "duration": 0,
    "start_time": "2023-06-15T07:12:23.097Z"
   },
   {
    "duration": 55,
    "start_time": "2023-06-15T07:18:10.291Z"
   },
   {
    "duration": 10,
    "start_time": "2023-06-15T07:18:24.339Z"
   },
   {
    "duration": 21,
    "start_time": "2023-06-15T07:18:35.874Z"
   },
   {
    "duration": 37,
    "start_time": "2023-06-15T07:18:41.492Z"
   },
   {
    "duration": 15,
    "start_time": "2023-06-15T07:19:59.997Z"
   },
   {
    "duration": 278,
    "start_time": "2023-06-15T07:20:07.536Z"
   },
   {
    "duration": 334,
    "start_time": "2023-06-15T07:20:27.999Z"
   },
   {
    "duration": 25,
    "start_time": "2023-06-15T07:20:57.107Z"
   },
   {
    "duration": 47,
    "start_time": "2023-06-15T07:21:04.909Z"
   },
   {
    "duration": 3373,
    "start_time": "2023-06-15T07:33:23.717Z"
   },
   {
    "duration": 2568,
    "start_time": "2023-06-15T07:36:10.733Z"
   },
   {
    "duration": 1340,
    "start_time": "2023-06-15T07:36:16.610Z"
   },
   {
    "duration": 222,
    "start_time": "2023-06-15T07:36:18.887Z"
   },
   {
    "duration": 903,
    "start_time": "2023-06-15T07:36:20.753Z"
   },
   {
    "duration": 34,
    "start_time": "2023-06-15T07:36:21.658Z"
   },
   {
    "duration": 10,
    "start_time": "2023-06-15T07:36:21.694Z"
   },
   {
    "duration": 2,
    "start_time": "2023-06-15T07:36:25.735Z"
   },
   {
    "duration": 4,
    "start_time": "2023-06-15T07:36:26.333Z"
   },
   {
    "duration": 3,
    "start_time": "2023-06-15T07:36:28.480Z"
   },
   {
    "duration": 799607,
    "start_time": "2023-06-15T07:36:31.180Z"
   },
   {
    "duration": 8,
    "start_time": "2023-06-15T07:49:50.789Z"
   },
   {
    "duration": 33,
    "start_time": "2023-06-15T07:49:50.804Z"
   },
   {
    "duration": 4,
    "start_time": "2023-06-15T07:49:50.839Z"
   },
   {
    "duration": 14732,
    "start_time": "2023-06-15T07:49:50.845Z"
   },
   {
    "duration": 5,
    "start_time": "2023-06-15T07:50:05.581Z"
   },
   {
    "duration": 8215,
    "start_time": "2023-06-15T07:50:05.587Z"
   },
   {
    "duration": 5,
    "start_time": "2023-06-15T07:50:13.808Z"
   },
   {
    "duration": 9,
    "start_time": "2023-06-15T07:50:13.815Z"
   },
   {
    "duration": 5705,
    "start_time": "2023-06-15T07:50:13.827Z"
   },
   {
    "duration": 0,
    "start_time": "2023-06-15T07:50:19.535Z"
   },
   {
    "duration": 0,
    "start_time": "2023-06-15T07:50:19.536Z"
   },
   {
    "duration": 0,
    "start_time": "2023-06-15T07:50:19.537Z"
   },
   {
    "duration": 86998,
    "start_time": "2023-06-15T07:53:22.299Z"
   },
   {
    "duration": 101,
    "start_time": "2023-06-15T07:55:31.864Z"
   },
   {
    "duration": 4239,
    "start_time": "2023-06-15T07:57:20.547Z"
   },
   {
    "duration": 84008,
    "start_time": "2023-06-15T07:59:37.217Z"
   },
   {
    "duration": 251,
    "start_time": "2023-06-15T08:02:21.953Z"
   },
   {
    "duration": 7,
    "start_time": "2023-06-15T08:02:22.206Z"
   },
   {
    "duration": 29422,
    "start_time": "2023-06-15T08:02:35.007Z"
   },
   {
    "duration": 72,
    "start_time": "2023-06-15T08:03:04.431Z"
   },
   {
    "duration": 1443,
    "start_time": "2023-06-15T08:11:39.253Z"
   },
   {
    "duration": 308,
    "start_time": "2023-06-15T08:11:40.705Z"
   },
   {
    "duration": 1037,
    "start_time": "2023-06-15T08:11:41.015Z"
   },
   {
    "duration": 55,
    "start_time": "2023-06-15T08:11:42.054Z"
   },
   {
    "duration": 10,
    "start_time": "2023-06-15T08:11:42.111Z"
   },
   {
    "duration": 2,
    "start_time": "2023-06-15T08:11:42.123Z"
   },
   {
    "duration": 6,
    "start_time": "2023-06-15T08:11:42.126Z"
   },
   {
    "duration": 7,
    "start_time": "2023-06-15T08:11:42.133Z"
   },
   {
    "duration": 808119,
    "start_time": "2023-06-15T08:11:42.141Z"
   },
   {
    "duration": 3,
    "start_time": "2023-06-15T08:25:10.262Z"
   },
   {
    "duration": 79,
    "start_time": "2023-06-15T08:25:10.266Z"
   },
   {
    "duration": 7,
    "start_time": "2023-06-15T08:25:10.347Z"
   },
   {
    "duration": 20175,
    "start_time": "2023-06-15T08:25:10.355Z"
   },
   {
    "duration": 11405,
    "start_time": "2023-06-15T08:25:30.533Z"
   },
   {
    "duration": 5,
    "start_time": "2023-06-15T08:25:41.940Z"
   },
   {
    "duration": 98309,
    "start_time": "2023-06-15T08:25:41.947Z"
   },
   {
    "duration": 55877,
    "start_time": "2023-06-15T08:27:20.261Z"
   },
   {
    "duration": 9,
    "start_time": "2023-06-15T08:28:16.141Z"
   },
   {
    "duration": 141,
    "start_time": "2023-06-15T08:28:16.153Z"
   },
   {
    "duration": 135,
    "start_time": "2023-06-15T08:29:04.563Z"
   },
   {
    "duration": 7069,
    "start_time": "2023-06-16T06:23:27.367Z"
   },
   {
    "duration": 2120,
    "start_time": "2023-06-16T06:23:34.439Z"
   },
   {
    "duration": 4664,
    "start_time": "2023-06-16T06:23:36.561Z"
   },
   {
    "duration": 60,
    "start_time": "2023-06-16T06:23:41.227Z"
   },
   {
    "duration": 30,
    "start_time": "2023-06-16T06:23:41.290Z"
   },
   {
    "duration": 12,
    "start_time": "2023-06-16T06:23:41.323Z"
   },
   {
    "duration": 9,
    "start_time": "2023-06-16T06:23:41.337Z"
   },
   {
    "duration": 67,
    "start_time": "2023-06-16T06:23:41.348Z"
   },
   {
    "duration": 2644,
    "start_time": "2023-06-16T06:23:41.417Z"
   },
   {
    "duration": 8,
    "start_time": "2023-06-16T06:23:44.063Z"
   }
  ],
  "kernelspec": {
   "display_name": "Python 3 (ipykernel)",
   "language": "python",
   "name": "python3"
  },
  "language_info": {
   "codemirror_mode": {
    "name": "ipython",
    "version": 3
   },
   "file_extension": ".py",
   "mimetype": "text/x-python",
   "name": "python",
   "nbconvert_exporter": "python",
   "pygments_lexer": "ipython3",
   "version": "3.9.12"
  },
  "toc": {
   "base_numbering": 1,
   "nav_menu": {},
   "number_sections": true,
   "sideBar": true,
   "skip_h1_title": true,
   "title_cell": "Содержание",
   "title_sidebar": "Contents",
   "toc_cell": true,
   "toc_position": {
    "height": "calc(100% - 180px)",
    "left": "10px",
    "top": "150px",
    "width": "302.391px"
   },
   "toc_section_display": true,
   "toc_window_display": false
  }
 },
 "nbformat": 4,
 "nbformat_minor": 2
}
