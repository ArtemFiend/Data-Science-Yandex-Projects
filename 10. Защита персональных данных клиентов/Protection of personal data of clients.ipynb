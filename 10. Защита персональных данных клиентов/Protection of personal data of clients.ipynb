{
 "cells": [
  {
   "cell_type": "markdown",
   "metadata": {
    "toc": true
   },
   "source": [
    "<h1>Содержание<span class=\"tocSkip\"></span></h1>\n",
    "<div class=\"toc\"><ul class=\"toc-item\"><li><span><a href=\"#Загрузка-данных\" data-toc-modified-id=\"Загрузка-данных-1\"><span class=\"toc-item-num\">1&nbsp;&nbsp;</span>Загрузка данных</a></span></li><li><span><a href=\"#Умножение-матриц\" data-toc-modified-id=\"Умножение-матриц-2\"><span class=\"toc-item-num\">2&nbsp;&nbsp;</span>Умножение матриц</a></span></li><li><span><a href=\"#Алгоритм-преобразования\" data-toc-modified-id=\"Алгоритм-преобразования-3\"><span class=\"toc-item-num\">3&nbsp;&nbsp;</span>Алгоритм преобразования</a></span></li><li><span><a href=\"#Проверка-алгоритма\" data-toc-modified-id=\"Проверка-алгоритма-4\"><span class=\"toc-item-num\">4&nbsp;&nbsp;</span>Проверка алгоритма</a></span></li><li><span><a href=\"#Чек-лист-проверки\" data-toc-modified-id=\"Чек-лист-проверки-5\"><span class=\"toc-item-num\">5&nbsp;&nbsp;</span>Чек-лист проверки</a></span></li></ul></div>"
   ]
  },
  {
   "cell_type": "markdown",
   "metadata": {},
   "source": [
    "# Защита персональных данных клиентов"
   ]
  },
  {
   "cell_type": "markdown",
   "metadata": {},
   "source": [
    "Вам нужно защитить данные клиентов страховой компании «Хоть потоп». Разработайте такой метод преобразования данных, чтобы по ним было сложно восстановить персональную информацию. Обоснуйте корректность его работы.\n",
    "\n",
    "Нужно защитить данные, чтобы при преобразовании качество моделей машинного обучения не ухудшилось. Подбирать наилучшую модель не требуется."
   ]
  },
  {
   "cell_type": "markdown",
   "metadata": {},
   "source": [
    "## Загрузка данных"
   ]
  },
  {
   "cell_type": "markdown",
   "metadata": {},
   "source": [
    "* Импортируем библиотеки\n",
    "* Проверим данные на пропуски\n",
    "* Посмотрим общую информацию данных"
   ]
  },
  {
   "cell_type": "code",
   "execution_count": 1,
   "metadata": {},
   "outputs": [],
   "source": [
    "import pandas as pd\n",
    "import numpy as np\n",
    "from sklearn.model_selection import train_test_split\n",
    "from sklearn.linear_model import LinearRegression\n",
    "from sklearn.metrics import r2_score, mean_squared_error"
   ]
  },
  {
   "cell_type": "code",
   "execution_count": 2,
   "metadata": {},
   "outputs": [],
   "source": [
    "data = pd.read_csv('/datasets/insurance.csv')"
   ]
  },
  {
   "cell_type": "code",
   "execution_count": 3,
   "metadata": {},
   "outputs": [
    {
     "data": {
      "text/plain": [
       "Пол                  0\n",
       "Возраст              0\n",
       "Зарплата             0\n",
       "Члены семьи          0\n",
       "Страховые выплаты    0\n",
       "dtype: int64"
      ]
     },
     "execution_count": 3,
     "metadata": {},
     "output_type": "execute_result"
    }
   ],
   "source": [
    "data.isna().sum()"
   ]
  },
  {
   "cell_type": "code",
   "execution_count": 4,
   "metadata": {},
   "outputs": [
    {
     "name": "stdout",
     "output_type": "stream",
     "text": [
      "<class 'pandas.core.frame.DataFrame'>\n",
      "RangeIndex: 5000 entries, 0 to 4999\n",
      "Data columns (total 5 columns):\n",
      " #   Column             Non-Null Count  Dtype  \n",
      "---  ------             --------------  -----  \n",
      " 0   Пол                5000 non-null   int64  \n",
      " 1   Возраст            5000 non-null   float64\n",
      " 2   Зарплата           5000 non-null   float64\n",
      " 3   Члены семьи        5000 non-null   int64  \n",
      " 4   Страховые выплаты  5000 non-null   int64  \n",
      "dtypes: float64(2), int64(3)\n",
      "memory usage: 195.4 KB\n"
     ]
    }
   ],
   "source": [
    "data.info()"
   ]
  },
  {
   "cell_type": "markdown",
   "metadata": {},
   "source": [
    "Вывод: данные не требуют предварительной обработки"
   ]
  },
  {
   "cell_type": "markdown",
   "metadata": {},
   "source": [
    "## Умножение матриц"
   ]
  },
  {
   "cell_type": "markdown",
   "metadata": {},
   "source": [
    "В этом задании вы можете записывать формулы в *Jupyter Notebook.*\n",
    "\n",
    "Чтобы записать формулу внутри текста, окружите её символами доллара \\\\$; если снаружи —  двойными символами \\\\$\\\\$. Эти формулы записываются на языке вёрстки *LaTeX.* \n",
    "\n",
    "Для примера мы записали формулы линейной регрессии. Можете их скопировать и отредактировать, чтобы решить задачу.\n",
    "\n",
    "Работать в *LaTeX* необязательно."
   ]
  },
  {
   "cell_type": "markdown",
   "metadata": {},
   "source": [
    "Обозначения:\n",
    "\n",
    "- $X$ — матрица признаков (нулевой столбец состоит из единиц)\n",
    "\n",
    "- $y$ — вектор целевого признака\n",
    "\n",
    "- $P$ — матрица, на которую умножаются признаки\n",
    "\n",
    "- $w$ — вектор весов линейной регрессии (нулевой элемент равен сдвигу)"
   ]
  },
  {
   "cell_type": "markdown",
   "metadata": {},
   "source": [
    "Предсказания:\n",
    "\n",
    "$$\n",
    "a = Xw\n",
    "$$\n",
    "\n",
    "Задача обучения:\n",
    "\n",
    "$$\n",
    "w = \\arg\\min_w MSE(Xw, y)\n",
    "$$\n",
    "\n",
    "Формула обучения:\n",
    "\n",
    "$$\n",
    "w = (X^T X)^{-1} X^T y\n",
    "$$"
   ]
  },
  {
   "cell_type": "markdown",
   "metadata": {},
   "source": [
    "**Ответ:** не изменится\n",
    "\n",
    "**Обоснование:** \n",
    "$$\n",
    "w = (X^T X)^{-1} X^T y\n",
    "$$\n",
    "\n",
    "Пусть $ P $ - обратимая матрица. Умножим признаки $ X $ на матрицу $ P $\n",
    "\n",
    "$$\n",
    "w1 = ((XP)^{T} XP)^{-1} (XP)^{T} y\n",
    "$$\n",
    "\n",
    "$$\n",
    "w1 = (X^T P^T)^{-1} X^{-1} P^{-1} X^T P^T y\n",
    "$$\n",
    "\n",
    "$$\n",
    "w1 = (X^T X)^{-1} X^T y P^{-1} (P^T)^{-1} P^T\n",
    "$$\n",
    "\n",
    "Получилась формула $ w = (X^T X)^{-1} X^T y $, а так же формула единичной матрицы: $ (P^T)^{-1} P^T = E $\n",
    "\n",
    "$$\n",
    "w1 = EP^{-1}w\n",
    "$$\n",
    "$ EP = PE = P $\n",
    "$$\n",
    "w1 = P^{-1}w\n",
    "$$\n",
    "\n",
    "Теперь вычислим, чему будет равно $ a1 $ через произведение признаков и обратимой матрицы $ XP $\n",
    "\n",
    "$$\n",
    "a = Xw\n",
    "$$\n",
    "\n",
    "$$\n",
    "a1 = XPw1\n",
    "$$\n",
    "\n",
    "$$\n",
    "a1 = XPP^{-1}w\n",
    "$$\n",
    "\n",
    "$$\n",
    "a1 = Xw\n",
    "$$\n",
    "\n",
    "$$\n",
    "a1 = a\n",
    "$$\n"
   ]
  },
  {
   "cell_type": "markdown",
   "metadata": {},
   "source": [
    "$$\n",
    "w1 = ((XP)^{T} XP)^{-1} (XP)^{T} y\n",
    "$$\n",
    "\n",
    "$$\n",
    "w1 = (P^T X^TX P)^{-1}P^T X^T y\n",
    "$$\n",
    "\n",
    "$$\n",
    "w1 = P^{-1} (X^TX)^{-1}(P^T)^{-1}P^T X^T y\n",
    "$$\n",
    "\n",
    "$$\n",
    "w1 = P^{-1} (X^T X)^{-1} X^T y\n",
    "$$\n",
    "\n",
    "$$\n",
    "w1 = P^{-1} w\n",
    "$$"
   ]
  },
  {
   "cell_type": "markdown",
   "metadata": {},
   "source": [
    "# Вывод: \n",
    "При умножении признаков на обратимую матрицу качество линейной регрессии не изменяется"
   ]
  },
  {
   "cell_type": "markdown",
   "metadata": {},
   "source": [
    "## Алгоритм преобразования"
   ]
  },
  {
   "cell_type": "markdown",
   "metadata": {},
   "source": [
    "**Алгоритм**\n",
    "* Создадим случайную матрицу P\n",
    "* Проверим её на обратимость\n",
    "* Умножим признаки первой матрицы на матрицу P"
   ]
  },
  {
   "cell_type": "markdown",
   "metadata": {},
   "source": [
    "**Обоснование**\n",
    "\n",
    "Таким образом мы можем защищать данные клиентов "
   ]
  },
  {
   "cell_type": "code",
   "execution_count": 5,
   "metadata": {},
   "outputs": [],
   "source": [
    "# создадим случайную квадратную матрицу\n",
    "matrix = np.random.randint(100, size=(4, 4))"
   ]
  },
  {
   "cell_type": "code",
   "execution_count": 6,
   "metadata": {},
   "outputs": [
    {
     "data": {
      "text/plain": [
       "array([[42, 85,  9, 30],\n",
       "       [51, 17, 37, 39],\n",
       "       [ 1, 12, 54, 43],\n",
       "       [ 5, 92, 20, 61]])"
      ]
     },
     "execution_count": 6,
     "metadata": {},
     "output_type": "execute_result"
    }
   ],
   "source": [
    "matrix"
   ]
  },
  {
   "cell_type": "code",
   "execution_count": 7,
   "metadata": {},
   "outputs": [],
   "source": [
    "# проверим матрицу на обратимость\n",
    "matrix_inv = np.linalg.inv(matrix)"
   ]
  },
  {
   "cell_type": "code",
   "execution_count": 8,
   "metadata": {},
   "outputs": [
    {
     "data": {
      "text/plain": [
       "array([[ 0.00425375,  0.01686477, -0.01014475, -0.00572318],\n",
       "       [ 0.02152908, -0.01723195,  0.01090779, -0.00726003],\n",
       "       [ 0.02878589, -0.02175785,  0.03886788, -0.02764491],\n",
       "       [-0.04225676,  0.03174053, -0.02836313,  0.03687601]])"
      ]
     },
     "execution_count": 8,
     "metadata": {},
     "output_type": "execute_result"
    }
   ],
   "source": [
    "matrix_inv"
   ]
  },
  {
   "cell_type": "code",
   "execution_count": 9,
   "metadata": {},
   "outputs": [],
   "source": [
    "# отделим целевой признак\n",
    "features = data.drop('Страховые выплаты', axis=1)\n",
    "target = data['Страховые выплаты']"
   ]
  },
  {
   "cell_type": "code",
   "execution_count": 10,
   "metadata": {},
   "outputs": [],
   "source": [
    "# создадим новую матрицу путём умножения старой на случайную обратимую\n",
    "features_p = features @ matrix"
   ]
  },
  {
   "cell_type": "code",
   "execution_count": 11,
   "metadata": {},
   "outputs": [],
   "source": [
    "# создадим функцию, разбивающую данные на обучающую и тестовую выборки\n",
    "def train_test_splitting(features, target):\n",
    "    features_train, features_test, target_train, target_test = train_test_split(features, \n",
    "                                                                                target, \n",
    "                                                                                test_size=0.25, \n",
    "                                                                                random_state=42)\n",
    "    \n",
    "    return features_train, features_test, target_train, target_test"
   ]
  },
  {
   "cell_type": "code",
   "execution_count": 12,
   "metadata": {},
   "outputs": [],
   "source": [
    "features_train, features_test, target_train, target_test = train_test_splitting(features, target)\n",
    "features_p_train, features_p_test, target_p_train, target_p_test = train_test_splitting(features_p, target)\n"
   ]
  },
  {
   "cell_type": "markdown",
   "metadata": {},
   "source": [
    "## Проверка алгоритма"
   ]
  },
  {
   "cell_type": "markdown",
   "metadata": {},
   "source": [
    "* Создадим 2 модели Линейной Регрессии: с исходными данными и умноженными на матрицу\n",
    "* Сравним значения MSE и R2"
   ]
  },
  {
   "cell_type": "code",
   "execution_count": 13,
   "metadata": {},
   "outputs": [
    {
     "name": "stdout",
     "output_type": "stream",
     "text": [
      "MSE: 0.1386299\n",
      "R2: 0.4254779\n"
     ]
    }
   ],
   "source": [
    "model = LinearRegression()\n",
    "model.fit(features_train, target_train)\n",
    "predictions = model.predict(features_test)\n",
    "mse = mean_squared_error(target_test, predictions)\n",
    "r2 = r2_score(target_test, predictions)\n",
    "print('MSE: {:.7f}'.format(mse))\n",
    "print('R2: {:.7f}'.format(r2))"
   ]
  },
  {
   "cell_type": "code",
   "execution_count": 14,
   "metadata": {},
   "outputs": [
    {
     "name": "stdout",
     "output_type": "stream",
     "text": [
      "MSE: 0.1386299\n",
      "R2: 0.4254779\n"
     ]
    }
   ],
   "source": [
    "model_p = LinearRegression()\n",
    "model_p.fit(features_p_train, target_p_train)\n",
    "predictions_p = model_p.predict(features_p_test)\n",
    "mse = mean_squared_error(target_p_test, predictions_p)\n",
    "r2 = r2_score(target_p_test, predictions_p)\n",
    "print('MSE: {:.7f}'.format(mse))\n",
    "print('R2: {:.7f}'.format(r2))"
   ]
  },
  {
   "cell_type": "markdown",
   "metadata": {},
   "source": [
    "# Вывод:\n",
    "* Значения MSE и R2 одинаковые, следовательно, при умножении признаков на обратимую матрицу качество линейной регрессии не изменяется.\n",
    "* При умножении данных на обратимую матрицу, мы можем их зашифровать."
   ]
  },
  {
   "cell_type": "markdown",
   "metadata": {},
   "source": [
    "## Чек-лист проверки"
   ]
  },
  {
   "cell_type": "markdown",
   "metadata": {},
   "source": [
    "Поставьте 'x' в выполненных пунктах. Далее нажмите Shift+Enter."
   ]
  },
  {
   "cell_type": "markdown",
   "metadata": {},
   "source": [
    "- [x]  Jupyter Notebook открыт\n",
    "- [x]  Весь код выполняется без ошибок\n",
    "- [x]  Ячейки с кодом расположены в порядке исполнения\n",
    "- [x]  Выполнен шаг 1: данные загружены\n",
    "- [x]  Выполнен шаг 2: получен ответ на вопрос об умножении матриц\n",
    "    - [x]  Указан правильный вариант ответа\n",
    "    - [x]  Вариант обоснован\n",
    "- [x]  Выполнен шаг 3: предложен алгоритм преобразования\n",
    "    - [x]  Алгоритм описан\n",
    "    - [x]  Алгоритм обоснован\n",
    "- [x]  Выполнен шаг 4: алгоритм проверен\n",
    "    - [x]  Алгоритм реализован\n",
    "    - [x]  Проведено сравнение качества моделей до и после преобразования"
   ]
  }
 ],
 "metadata": {
  "ExecuteTimeLog": [
   {
    "duration": 425,
    "start_time": "2023-04-30T08:26:35.972Z"
   },
   {
    "duration": 89,
    "start_time": "2023-04-30T08:27:13.813Z"
   },
   {
    "duration": 15,
    "start_time": "2023-04-30T08:27:21.921Z"
   },
   {
    "duration": 4,
    "start_time": "2023-04-30T08:27:56.508Z"
   },
   {
    "duration": 3,
    "start_time": "2023-04-30T08:28:06.666Z"
   },
   {
    "duration": 27,
    "start_time": "2023-04-30T08:28:07.010Z"
   },
   {
    "duration": 10,
    "start_time": "2023-04-30T08:28:22.411Z"
   },
   {
    "duration": 91,
    "start_time": "2023-04-30T08:28:34.503Z"
   },
   {
    "duration": 9,
    "start_time": "2023-04-30T08:28:39.628Z"
   },
   {
    "duration": 9,
    "start_time": "2023-04-30T08:28:41.722Z"
   },
   {
    "duration": 10,
    "start_time": "2023-04-30T08:28:44.112Z"
   },
   {
    "duration": 8,
    "start_time": "2023-04-30T08:28:47.756Z"
   },
   {
    "duration": 9,
    "start_time": "2023-04-30T08:29:11.214Z"
   },
   {
    "duration": 38,
    "start_time": "2023-04-30T08:29:39.373Z"
   },
   {
    "duration": 7,
    "start_time": "2023-04-30T08:29:53.740Z"
   },
   {
    "duration": 9,
    "start_time": "2023-04-30T08:30:11.011Z"
   },
   {
    "duration": 6,
    "start_time": "2023-04-30T08:30:14.710Z"
   },
   {
    "duration": 396,
    "start_time": "2023-05-01T09:01:51.911Z"
   },
   {
    "duration": 96,
    "start_time": "2023-05-01T09:01:52.309Z"
   },
   {
    "duration": 11,
    "start_time": "2023-05-01T09:01:52.407Z"
   },
   {
    "duration": 23,
    "start_time": "2023-05-01T09:01:52.420Z"
   },
   {
    "duration": 14,
    "start_time": "2023-05-01T09:01:52.445Z"
   },
   {
    "duration": 642,
    "start_time": "2023-05-01T09:05:05.202Z"
   },
   {
    "duration": 1027,
    "start_time": "2023-05-01T09:05:10.823Z"
   },
   {
    "duration": 28,
    "start_time": "2023-05-01T09:05:11.852Z"
   },
   {
    "duration": 10,
    "start_time": "2023-05-01T09:05:11.882Z"
   },
   {
    "duration": 12,
    "start_time": "2023-05-01T09:05:11.894Z"
   },
   {
    "duration": 4,
    "start_time": "2023-05-01T09:05:11.908Z"
   },
   {
    "duration": 2,
    "start_time": "2023-05-01T09:06:41.762Z"
   },
   {
    "duration": 3,
    "start_time": "2023-05-01T09:07:48.272Z"
   },
   {
    "duration": 5,
    "start_time": "2023-05-01T09:07:59.359Z"
   },
   {
    "duration": 4,
    "start_time": "2023-05-01T09:08:07.035Z"
   },
   {
    "duration": 4,
    "start_time": "2023-05-01T09:09:03.698Z"
   },
   {
    "duration": 96,
    "start_time": "2023-05-01T09:09:20.248Z"
   },
   {
    "duration": 9,
    "start_time": "2023-05-01T09:09:29.540Z"
   },
   {
    "duration": 2,
    "start_time": "2023-05-01T09:09:55.893Z"
   },
   {
    "duration": 3,
    "start_time": "2023-05-01T09:10:10.970Z"
   },
   {
    "duration": 8,
    "start_time": "2023-05-01T09:10:47.607Z"
   },
   {
    "duration": 6,
    "start_time": "2023-05-01T09:11:05.299Z"
   },
   {
    "duration": 5,
    "start_time": "2023-05-01T09:11:40.008Z"
   },
   {
    "duration": 5,
    "start_time": "2023-05-01T09:11:47.434Z"
   },
   {
    "duration": 4,
    "start_time": "2023-05-01T09:12:24.811Z"
   },
   {
    "duration": 5,
    "start_time": "2023-05-01T09:13:01.296Z"
   },
   {
    "duration": 4,
    "start_time": "2023-05-01T09:14:03.837Z"
   },
   {
    "duration": 12,
    "start_time": "2023-05-01T09:16:09.183Z"
   },
   {
    "duration": 5,
    "start_time": "2023-05-01T09:16:14.787Z"
   },
   {
    "duration": 12,
    "start_time": "2023-05-01T09:16:14.991Z"
   },
   {
    "duration": 1028,
    "start_time": "2023-05-01T09:16:27.525Z"
   },
   {
    "duration": 29,
    "start_time": "2023-05-01T09:16:28.555Z"
   },
   {
    "duration": 11,
    "start_time": "2023-05-01T09:16:28.585Z"
   },
   {
    "duration": 11,
    "start_time": "2023-05-01T09:16:28.597Z"
   },
   {
    "duration": 2,
    "start_time": "2023-05-01T09:16:28.610Z"
   },
   {
    "duration": 4,
    "start_time": "2023-05-01T09:16:28.614Z"
   },
   {
    "duration": 5,
    "start_time": "2023-05-01T09:16:28.620Z"
   },
   {
    "duration": 5,
    "start_time": "2023-05-01T09:16:28.627Z"
   },
   {
    "duration": 10,
    "start_time": "2023-05-01T09:16:28.691Z"
   },
   {
    "duration": 11,
    "start_time": "2023-05-01T09:16:28.703Z"
   },
   {
    "duration": 5,
    "start_time": "2023-05-01T09:16:28.792Z"
   },
   {
    "duration": 262,
    "start_time": "2023-05-01T09:16:28.798Z"
   },
   {
    "duration": 5,
    "start_time": "2023-05-01T09:16:44.225Z"
   },
   {
    "duration": 8,
    "start_time": "2023-05-01T09:16:44.592Z"
   },
   {
    "duration": 10,
    "start_time": "2023-05-01T09:23:39.950Z"
   },
   {
    "duration": 9,
    "start_time": "2023-05-01T09:24:46.527Z"
   },
   {
    "duration": 16,
    "start_time": "2023-05-01T09:25:26.108Z"
   },
   {
    "duration": 8,
    "start_time": "2023-05-01T09:25:36.162Z"
   },
   {
    "duration": 11,
    "start_time": "2023-05-01T09:26:08.688Z"
   },
   {
    "duration": 4,
    "start_time": "2023-05-01T09:29:35.415Z"
   },
   {
    "duration": 13,
    "start_time": "2023-05-01T09:30:22.212Z"
   },
   {
    "duration": 4,
    "start_time": "2023-05-01T09:30:48.453Z"
   },
   {
    "duration": 13,
    "start_time": "2023-05-01T09:30:48.723Z"
   },
   {
    "duration": 12,
    "start_time": "2023-05-01T09:31:42.001Z"
   },
   {
    "duration": 12,
    "start_time": "2023-05-01T09:31:47.885Z"
   },
   {
    "duration": 12,
    "start_time": "2023-05-01T09:31:55.926Z"
   },
   {
    "duration": 3,
    "start_time": "2023-05-01T09:32:36.206Z"
   },
   {
    "duration": 6,
    "start_time": "2023-05-01T09:32:49.519Z"
   },
   {
    "duration": 3,
    "start_time": "2023-05-01T09:32:50.003Z"
   },
   {
    "duration": 12,
    "start_time": "2023-05-01T09:32:50.604Z"
   },
   {
    "duration": 1124,
    "start_time": "2023-05-01T09:33:37.110Z"
   },
   {
    "duration": 29,
    "start_time": "2023-05-01T09:33:38.236Z"
   },
   {
    "duration": 12,
    "start_time": "2023-05-01T09:33:38.266Z"
   },
   {
    "duration": 23,
    "start_time": "2023-05-01T09:33:38.280Z"
   },
   {
    "duration": 3,
    "start_time": "2023-05-01T09:33:38.306Z"
   },
   {
    "duration": 17,
    "start_time": "2023-05-01T09:33:38.311Z"
   },
   {
    "duration": 15,
    "start_time": "2023-05-01T09:33:38.329Z"
   },
   {
    "duration": 47,
    "start_time": "2023-05-01T09:33:38.346Z"
   },
   {
    "duration": 8,
    "start_time": "2023-05-01T09:33:38.395Z"
   },
   {
    "duration": 87,
    "start_time": "2023-05-01T09:33:38.405Z"
   },
   {
    "duration": 107,
    "start_time": "2023-05-01T09:33:38.494Z"
   },
   {
    "duration": 0,
    "start_time": "2023-05-01T09:33:38.603Z"
   },
   {
    "duration": 0,
    "start_time": "2023-05-01T09:33:38.604Z"
   },
   {
    "duration": 0,
    "start_time": "2023-05-01T09:33:38.605Z"
   },
   {
    "duration": 0,
    "start_time": "2023-05-01T09:33:38.606Z"
   },
   {
    "duration": 10,
    "start_time": "2023-05-01T09:33:50.405Z"
   },
   {
    "duration": 10,
    "start_time": "2023-05-01T09:34:12.753Z"
   },
   {
    "duration": 9,
    "start_time": "2023-05-01T09:34:20.098Z"
   },
   {
    "duration": 3,
    "start_time": "2023-05-01T09:34:20.911Z"
   },
   {
    "duration": 17,
    "start_time": "2023-05-01T09:34:21.550Z"
   },
   {
    "duration": 3,
    "start_time": "2023-05-01T09:34:33.305Z"
   },
   {
    "duration": 7,
    "start_time": "2023-05-01T09:34:33.879Z"
   },
   {
    "duration": 3,
    "start_time": "2023-05-01T09:34:50.765Z"
   },
   {
    "duration": 8,
    "start_time": "2023-05-01T09:34:51.205Z"
   },
   {
    "duration": 11,
    "start_time": "2023-05-01T09:36:43.290Z"
   },
   {
    "duration": 10,
    "start_time": "2023-05-01T09:37:23.450Z"
   },
   {
    "duration": 10,
    "start_time": "2023-05-01T09:37:48.214Z"
   },
   {
    "duration": 11,
    "start_time": "2023-05-01T09:37:49.993Z"
   },
   {
    "duration": 9,
    "start_time": "2023-05-01T09:37:50.192Z"
   },
   {
    "duration": 10,
    "start_time": "2023-05-01T09:38:04.097Z"
   },
   {
    "duration": 10,
    "start_time": "2023-05-01T09:38:04.252Z"
   },
   {
    "duration": 11,
    "start_time": "2023-05-01T09:38:36.491Z"
   },
   {
    "duration": 1102,
    "start_time": "2023-05-01T10:12:23.901Z"
   },
   {
    "duration": 30,
    "start_time": "2023-05-01T10:12:25.005Z"
   },
   {
    "duration": 13,
    "start_time": "2023-05-01T10:12:25.036Z"
   },
   {
    "duration": 12,
    "start_time": "2023-05-01T10:12:25.051Z"
   },
   {
    "duration": 18,
    "start_time": "2023-05-01T10:12:25.065Z"
   },
   {
    "duration": 6,
    "start_time": "2023-05-01T10:12:25.085Z"
   },
   {
    "duration": 21,
    "start_time": "2023-05-01T10:12:25.092Z"
   },
   {
    "duration": 7,
    "start_time": "2023-05-01T10:12:25.115Z"
   },
   {
    "duration": 68,
    "start_time": "2023-05-01T10:12:25.124Z"
   },
   {
    "duration": 9,
    "start_time": "2023-05-01T10:12:25.194Z"
   },
   {
    "duration": 94,
    "start_time": "2023-05-01T10:12:25.206Z"
   },
   {
    "duration": 90,
    "start_time": "2023-05-01T10:12:25.303Z"
   },
   {
    "duration": 102,
    "start_time": "2023-05-01T10:12:25.395Z"
   },
   {
    "duration": 14,
    "start_time": "2023-05-01T10:12:25.499Z"
   },
   {
    "duration": 10,
    "start_time": "2023-05-01T10:12:25.515Z"
   },
   {
    "duration": 1053,
    "start_time": "2023-05-01T10:26:36.037Z"
   },
   {
    "duration": 30,
    "start_time": "2023-05-01T10:26:37.092Z"
   },
   {
    "duration": 17,
    "start_time": "2023-05-01T10:26:37.124Z"
   },
   {
    "duration": 11,
    "start_time": "2023-05-01T10:26:37.143Z"
   },
   {
    "duration": 4,
    "start_time": "2023-05-01T10:26:37.156Z"
   },
   {
    "duration": 8,
    "start_time": "2023-05-01T10:26:37.162Z"
   },
   {
    "duration": 22,
    "start_time": "2023-05-01T10:26:37.172Z"
   },
   {
    "duration": 7,
    "start_time": "2023-05-01T10:26:37.195Z"
   },
   {
    "duration": 9,
    "start_time": "2023-05-01T10:26:37.204Z"
   },
   {
    "duration": 7,
    "start_time": "2023-05-01T10:26:37.292Z"
   },
   {
    "duration": 91,
    "start_time": "2023-05-01T10:26:37.301Z"
   },
   {
    "duration": 10,
    "start_time": "2023-05-01T10:26:37.394Z"
   },
   {
    "duration": 11,
    "start_time": "2023-05-01T10:26:37.406Z"
   },
   {
    "duration": 10,
    "start_time": "2023-05-01T10:26:37.420Z"
   },
   {
    "duration": 3,
    "start_time": "2023-05-01T10:27:44.514Z"
   },
   {
    "duration": 1055,
    "start_time": "2023-05-01T10:27:51.324Z"
   },
   {
    "duration": 30,
    "start_time": "2023-05-01T10:27:52.381Z"
   },
   {
    "duration": 15,
    "start_time": "2023-05-01T10:27:52.412Z"
   },
   {
    "duration": 14,
    "start_time": "2023-05-01T10:27:52.430Z"
   },
   {
    "duration": 4,
    "start_time": "2023-05-01T10:27:52.446Z"
   },
   {
    "duration": 12,
    "start_time": "2023-05-01T10:27:52.451Z"
   },
   {
    "duration": 7,
    "start_time": "2023-05-01T10:27:52.465Z"
   },
   {
    "duration": 7,
    "start_time": "2023-05-01T10:27:52.494Z"
   },
   {
    "duration": 4,
    "start_time": "2023-05-01T10:27:52.504Z"
   },
   {
    "duration": 4,
    "start_time": "2023-05-01T10:27:52.512Z"
   },
   {
    "duration": 76,
    "start_time": "2023-05-01T10:27:52.518Z"
   },
   {
    "duration": 7,
    "start_time": "2023-05-01T10:27:52.596Z"
   },
   {
    "duration": 10,
    "start_time": "2023-05-01T10:27:52.605Z"
   },
   {
    "duration": 13,
    "start_time": "2023-05-01T10:27:52.617Z"
   },
   {
    "duration": 11,
    "start_time": "2023-05-01T10:35:25.246Z"
   },
   {
    "duration": 14,
    "start_time": "2023-05-01T10:36:04.608Z"
   },
   {
    "duration": 53,
    "start_time": "2023-05-01T10:37:34.314Z"
   },
   {
    "duration": 47,
    "start_time": "2023-05-01T10:37:38.356Z"
   },
   {
    "duration": 10,
    "start_time": "2023-05-01T10:38:02.916Z"
   },
   {
    "duration": 10,
    "start_time": "2023-05-01T10:38:06.414Z"
   },
   {
    "duration": 10,
    "start_time": "2023-05-01T10:38:27.851Z"
   },
   {
    "duration": 10,
    "start_time": "2023-05-01T10:38:38.758Z"
   },
   {
    "duration": 1026,
    "start_time": "2023-05-01T10:38:49.045Z"
   },
   {
    "duration": 29,
    "start_time": "2023-05-01T10:38:50.073Z"
   },
   {
    "duration": 11,
    "start_time": "2023-05-01T10:38:50.103Z"
   },
   {
    "duration": 47,
    "start_time": "2023-05-01T10:38:50.116Z"
   },
   {
    "duration": 4,
    "start_time": "2023-05-01T10:38:50.165Z"
   },
   {
    "duration": 11,
    "start_time": "2023-05-01T10:38:50.171Z"
   },
   {
    "duration": 7,
    "start_time": "2023-05-01T10:38:50.184Z"
   },
   {
    "duration": 5,
    "start_time": "2023-05-01T10:38:50.193Z"
   },
   {
    "duration": 4,
    "start_time": "2023-05-01T10:38:50.200Z"
   },
   {
    "duration": 87,
    "start_time": "2023-05-01T10:38:50.206Z"
   },
   {
    "duration": 3,
    "start_time": "2023-05-01T10:38:50.295Z"
   },
   {
    "duration": 92,
    "start_time": "2023-05-01T10:38:50.300Z"
   },
   {
    "duration": 11,
    "start_time": "2023-05-01T10:38:50.394Z"
   },
   {
    "duration": 32,
    "start_time": "2023-05-01T10:38:50.407Z"
   },
   {
    "duration": 1069,
    "start_time": "2023-05-02T13:53:54.233Z"
   },
   {
    "duration": 86,
    "start_time": "2023-05-02T13:53:55.305Z"
   },
   {
    "duration": 11,
    "start_time": "2023-05-02T13:53:55.393Z"
   },
   {
    "duration": 20,
    "start_time": "2023-05-02T13:53:55.406Z"
   },
   {
    "duration": 18,
    "start_time": "2023-05-02T13:53:55.430Z"
   },
   {
    "duration": 27,
    "start_time": "2023-05-02T13:53:55.449Z"
   },
   {
    "duration": 12,
    "start_time": "2023-05-02T13:53:55.478Z"
   },
   {
    "duration": 16,
    "start_time": "2023-05-02T13:53:55.495Z"
   },
   {
    "duration": 83,
    "start_time": "2023-05-02T13:53:55.513Z"
   },
   {
    "duration": 19,
    "start_time": "2023-05-02T13:53:55.598Z"
   },
   {
    "duration": 80,
    "start_time": "2023-05-02T13:53:55.619Z"
   },
   {
    "duration": 25,
    "start_time": "2023-05-02T13:53:55.701Z"
   },
   {
    "duration": 25,
    "start_time": "2023-05-02T13:53:55.728Z"
   },
   {
    "duration": 15,
    "start_time": "2023-05-02T13:53:55.756Z"
   }
  ],
  "kernelspec": {
   "display_name": "Python 3 (ipykernel)",
   "language": "python",
   "name": "python3"
  },
  "language_info": {
   "codemirror_mode": {
    "name": "ipython",
    "version": 3
   },
   "file_extension": ".py",
   "mimetype": "text/x-python",
   "name": "python",
   "nbconvert_exporter": "python",
   "pygments_lexer": "ipython3",
   "version": "3.9.12"
  },
  "toc": {
   "base_numbering": 1,
   "nav_menu": {},
   "number_sections": true,
   "sideBar": true,
   "skip_h1_title": true,
   "title_cell": "Содержание",
   "title_sidebar": "Contents",
   "toc_cell": true,
   "toc_position": {},
   "toc_section_display": true,
   "toc_window_display": true
  }
 },
 "nbformat": 4,
 "nbformat_minor": 2
}
