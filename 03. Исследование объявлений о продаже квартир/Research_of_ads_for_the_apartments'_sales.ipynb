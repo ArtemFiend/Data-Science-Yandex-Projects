{
 "cells": [
  {
   "cell_type": "markdown",
   "metadata": {},
   "source": [
    "# Исследование объявлений о продаже квартир\n",
    "\n",
    "В вашем распоряжении данные сервиса Яндекс.Недвижимость — архив объявлений о продаже квартир в Санкт-Петербурге и соседних населённых пунктов за несколько лет. Нужно научиться определять рыночную стоимость объектов недвижимости. Ваша задача — установить параметры. Это позволит построить автоматизированную систему: она отследит аномалии и мошенническую деятельность. \n",
    "\n",
    "По каждой квартире на продажу доступны два вида данных. Первые вписаны пользователем, вторые — получены автоматически на основе картографических данных. Например, расстояние до центра, аэропорта, ближайшего парка и водоёма. "
   ]
  },
  {
   "cell_type": "markdown",
   "metadata": {},
   "source": [
    "### Откройте файл с данными и изучите общую информацию. "
   ]
  },
  {
   "cell_type": "code",
   "execution_count": 1,
   "metadata": {},
   "outputs": [],
   "source": [
    "import pandas as pd\n",
    "import matplotlib.pyplot as plt\n",
    "import seaborn as sns"
   ]
  },
  {
   "cell_type": "code",
   "execution_count": 2,
   "metadata": {},
   "outputs": [],
   "source": [
    "try:\n",
    "    data = pd.read_csv('/datasets/real_estate_data.csv', sep='\\t')\n",
    "except:\n",
    "    data = pd.read_csv('https://code.s3.yandex.net/datasets/real_estate_data.csv', sep='\\t')"
   ]
  },
  {
   "cell_type": "code",
   "execution_count": 3,
   "metadata": {
    "scrolled": true
   },
   "outputs": [
    {
     "data": {
      "text/html": [
       "<div>\n",
       "<style scoped>\n",
       "    .dataframe tbody tr th:only-of-type {\n",
       "        vertical-align: middle;\n",
       "    }\n",
       "\n",
       "    .dataframe tbody tr th {\n",
       "        vertical-align: top;\n",
       "    }\n",
       "\n",
       "    .dataframe thead th {\n",
       "        text-align: right;\n",
       "    }\n",
       "</style>\n",
       "<table border=\"1\" class=\"dataframe\">\n",
       "  <thead>\n",
       "    <tr style=\"text-align: right;\">\n",
       "      <th></th>\n",
       "      <th>total_images</th>\n",
       "      <th>last_price</th>\n",
       "      <th>total_area</th>\n",
       "      <th>first_day_exposition</th>\n",
       "      <th>rooms</th>\n",
       "      <th>ceiling_height</th>\n",
       "      <th>floors_total</th>\n",
       "      <th>living_area</th>\n",
       "      <th>floor</th>\n",
       "      <th>is_apartment</th>\n",
       "      <th>...</th>\n",
       "      <th>kitchen_area</th>\n",
       "      <th>balcony</th>\n",
       "      <th>locality_name</th>\n",
       "      <th>airports_nearest</th>\n",
       "      <th>cityCenters_nearest</th>\n",
       "      <th>parks_around3000</th>\n",
       "      <th>parks_nearest</th>\n",
       "      <th>ponds_around3000</th>\n",
       "      <th>ponds_nearest</th>\n",
       "      <th>days_exposition</th>\n",
       "    </tr>\n",
       "  </thead>\n",
       "  <tbody>\n",
       "    <tr>\n",
       "      <th>0</th>\n",
       "      <td>20</td>\n",
       "      <td>13000000.0</td>\n",
       "      <td>108.00</td>\n",
       "      <td>2019-03-07T00:00:00</td>\n",
       "      <td>3</td>\n",
       "      <td>2.70</td>\n",
       "      <td>16.0</td>\n",
       "      <td>51.00</td>\n",
       "      <td>8</td>\n",
       "      <td>NaN</td>\n",
       "      <td>...</td>\n",
       "      <td>25.00</td>\n",
       "      <td>NaN</td>\n",
       "      <td>Санкт-Петербург</td>\n",
       "      <td>18863.0</td>\n",
       "      <td>16028.0</td>\n",
       "      <td>1.0</td>\n",
       "      <td>482.0</td>\n",
       "      <td>2.0</td>\n",
       "      <td>755.0</td>\n",
       "      <td>NaN</td>\n",
       "    </tr>\n",
       "    <tr>\n",
       "      <th>1</th>\n",
       "      <td>7</td>\n",
       "      <td>3350000.0</td>\n",
       "      <td>40.40</td>\n",
       "      <td>2018-12-04T00:00:00</td>\n",
       "      <td>1</td>\n",
       "      <td>NaN</td>\n",
       "      <td>11.0</td>\n",
       "      <td>18.60</td>\n",
       "      <td>1</td>\n",
       "      <td>NaN</td>\n",
       "      <td>...</td>\n",
       "      <td>11.00</td>\n",
       "      <td>2.0</td>\n",
       "      <td>посёлок Шушары</td>\n",
       "      <td>12817.0</td>\n",
       "      <td>18603.0</td>\n",
       "      <td>0.0</td>\n",
       "      <td>NaN</td>\n",
       "      <td>0.0</td>\n",
       "      <td>NaN</td>\n",
       "      <td>81.0</td>\n",
       "    </tr>\n",
       "    <tr>\n",
       "      <th>2</th>\n",
       "      <td>10</td>\n",
       "      <td>5196000.0</td>\n",
       "      <td>56.00</td>\n",
       "      <td>2015-08-20T00:00:00</td>\n",
       "      <td>2</td>\n",
       "      <td>NaN</td>\n",
       "      <td>5.0</td>\n",
       "      <td>34.30</td>\n",
       "      <td>4</td>\n",
       "      <td>NaN</td>\n",
       "      <td>...</td>\n",
       "      <td>8.30</td>\n",
       "      <td>0.0</td>\n",
       "      <td>Санкт-Петербург</td>\n",
       "      <td>21741.0</td>\n",
       "      <td>13933.0</td>\n",
       "      <td>1.0</td>\n",
       "      <td>90.0</td>\n",
       "      <td>2.0</td>\n",
       "      <td>574.0</td>\n",
       "      <td>558.0</td>\n",
       "    </tr>\n",
       "    <tr>\n",
       "      <th>3</th>\n",
       "      <td>0</td>\n",
       "      <td>64900000.0</td>\n",
       "      <td>159.00</td>\n",
       "      <td>2015-07-24T00:00:00</td>\n",
       "      <td>3</td>\n",
       "      <td>NaN</td>\n",
       "      <td>14.0</td>\n",
       "      <td>NaN</td>\n",
       "      <td>9</td>\n",
       "      <td>NaN</td>\n",
       "      <td>...</td>\n",
       "      <td>NaN</td>\n",
       "      <td>0.0</td>\n",
       "      <td>Санкт-Петербург</td>\n",
       "      <td>28098.0</td>\n",
       "      <td>6800.0</td>\n",
       "      <td>2.0</td>\n",
       "      <td>84.0</td>\n",
       "      <td>3.0</td>\n",
       "      <td>234.0</td>\n",
       "      <td>424.0</td>\n",
       "    </tr>\n",
       "    <tr>\n",
       "      <th>4</th>\n",
       "      <td>2</td>\n",
       "      <td>10000000.0</td>\n",
       "      <td>100.00</td>\n",
       "      <td>2018-06-19T00:00:00</td>\n",
       "      <td>2</td>\n",
       "      <td>3.03</td>\n",
       "      <td>14.0</td>\n",
       "      <td>32.00</td>\n",
       "      <td>13</td>\n",
       "      <td>NaN</td>\n",
       "      <td>...</td>\n",
       "      <td>41.00</td>\n",
       "      <td>NaN</td>\n",
       "      <td>Санкт-Петербург</td>\n",
       "      <td>31856.0</td>\n",
       "      <td>8098.0</td>\n",
       "      <td>2.0</td>\n",
       "      <td>112.0</td>\n",
       "      <td>1.0</td>\n",
       "      <td>48.0</td>\n",
       "      <td>121.0</td>\n",
       "    </tr>\n",
       "    <tr>\n",
       "      <th>5</th>\n",
       "      <td>10</td>\n",
       "      <td>2890000.0</td>\n",
       "      <td>30.40</td>\n",
       "      <td>2018-09-10T00:00:00</td>\n",
       "      <td>1</td>\n",
       "      <td>NaN</td>\n",
       "      <td>12.0</td>\n",
       "      <td>14.40</td>\n",
       "      <td>5</td>\n",
       "      <td>NaN</td>\n",
       "      <td>...</td>\n",
       "      <td>9.10</td>\n",
       "      <td>NaN</td>\n",
       "      <td>городской посёлок Янино-1</td>\n",
       "      <td>NaN</td>\n",
       "      <td>NaN</td>\n",
       "      <td>NaN</td>\n",
       "      <td>NaN</td>\n",
       "      <td>NaN</td>\n",
       "      <td>NaN</td>\n",
       "      <td>55.0</td>\n",
       "    </tr>\n",
       "    <tr>\n",
       "      <th>6</th>\n",
       "      <td>6</td>\n",
       "      <td>3700000.0</td>\n",
       "      <td>37.30</td>\n",
       "      <td>2017-11-02T00:00:00</td>\n",
       "      <td>1</td>\n",
       "      <td>NaN</td>\n",
       "      <td>26.0</td>\n",
       "      <td>10.60</td>\n",
       "      <td>6</td>\n",
       "      <td>NaN</td>\n",
       "      <td>...</td>\n",
       "      <td>14.40</td>\n",
       "      <td>1.0</td>\n",
       "      <td>посёлок Парголово</td>\n",
       "      <td>52996.0</td>\n",
       "      <td>19143.0</td>\n",
       "      <td>0.0</td>\n",
       "      <td>NaN</td>\n",
       "      <td>0.0</td>\n",
       "      <td>NaN</td>\n",
       "      <td>155.0</td>\n",
       "    </tr>\n",
       "    <tr>\n",
       "      <th>7</th>\n",
       "      <td>5</td>\n",
       "      <td>7915000.0</td>\n",
       "      <td>71.60</td>\n",
       "      <td>2019-04-18T00:00:00</td>\n",
       "      <td>2</td>\n",
       "      <td>NaN</td>\n",
       "      <td>24.0</td>\n",
       "      <td>NaN</td>\n",
       "      <td>22</td>\n",
       "      <td>NaN</td>\n",
       "      <td>...</td>\n",
       "      <td>18.90</td>\n",
       "      <td>2.0</td>\n",
       "      <td>Санкт-Петербург</td>\n",
       "      <td>23982.0</td>\n",
       "      <td>11634.0</td>\n",
       "      <td>0.0</td>\n",
       "      <td>NaN</td>\n",
       "      <td>0.0</td>\n",
       "      <td>NaN</td>\n",
       "      <td>NaN</td>\n",
       "    </tr>\n",
       "    <tr>\n",
       "      <th>8</th>\n",
       "      <td>20</td>\n",
       "      <td>2900000.0</td>\n",
       "      <td>33.16</td>\n",
       "      <td>2018-05-23T00:00:00</td>\n",
       "      <td>1</td>\n",
       "      <td>NaN</td>\n",
       "      <td>27.0</td>\n",
       "      <td>15.43</td>\n",
       "      <td>26</td>\n",
       "      <td>NaN</td>\n",
       "      <td>...</td>\n",
       "      <td>8.81</td>\n",
       "      <td>NaN</td>\n",
       "      <td>посёлок Мурино</td>\n",
       "      <td>NaN</td>\n",
       "      <td>NaN</td>\n",
       "      <td>NaN</td>\n",
       "      <td>NaN</td>\n",
       "      <td>NaN</td>\n",
       "      <td>NaN</td>\n",
       "      <td>189.0</td>\n",
       "    </tr>\n",
       "    <tr>\n",
       "      <th>9</th>\n",
       "      <td>18</td>\n",
       "      <td>5400000.0</td>\n",
       "      <td>61.00</td>\n",
       "      <td>2017-02-26T00:00:00</td>\n",
       "      <td>3</td>\n",
       "      <td>2.50</td>\n",
       "      <td>9.0</td>\n",
       "      <td>43.60</td>\n",
       "      <td>7</td>\n",
       "      <td>NaN</td>\n",
       "      <td>...</td>\n",
       "      <td>6.50</td>\n",
       "      <td>2.0</td>\n",
       "      <td>Санкт-Петербург</td>\n",
       "      <td>50898.0</td>\n",
       "      <td>15008.0</td>\n",
       "      <td>0.0</td>\n",
       "      <td>NaN</td>\n",
       "      <td>0.0</td>\n",
       "      <td>NaN</td>\n",
       "      <td>289.0</td>\n",
       "    </tr>\n",
       "  </tbody>\n",
       "</table>\n",
       "<p>10 rows × 22 columns</p>\n",
       "</div>"
      ],
      "text/plain": [
       "   total_images  last_price  total_area first_day_exposition  rooms  \\\n",
       "0            20  13000000.0      108.00  2019-03-07T00:00:00      3   \n",
       "1             7   3350000.0       40.40  2018-12-04T00:00:00      1   \n",
       "2            10   5196000.0       56.00  2015-08-20T00:00:00      2   \n",
       "3             0  64900000.0      159.00  2015-07-24T00:00:00      3   \n",
       "4             2  10000000.0      100.00  2018-06-19T00:00:00      2   \n",
       "5            10   2890000.0       30.40  2018-09-10T00:00:00      1   \n",
       "6             6   3700000.0       37.30  2017-11-02T00:00:00      1   \n",
       "7             5   7915000.0       71.60  2019-04-18T00:00:00      2   \n",
       "8            20   2900000.0       33.16  2018-05-23T00:00:00      1   \n",
       "9            18   5400000.0       61.00  2017-02-26T00:00:00      3   \n",
       "\n",
       "   ceiling_height  floors_total  living_area  floor is_apartment  ...  \\\n",
       "0            2.70          16.0        51.00      8          NaN  ...   \n",
       "1             NaN          11.0        18.60      1          NaN  ...   \n",
       "2             NaN           5.0        34.30      4          NaN  ...   \n",
       "3             NaN          14.0          NaN      9          NaN  ...   \n",
       "4            3.03          14.0        32.00     13          NaN  ...   \n",
       "5             NaN          12.0        14.40      5          NaN  ...   \n",
       "6             NaN          26.0        10.60      6          NaN  ...   \n",
       "7             NaN          24.0          NaN     22          NaN  ...   \n",
       "8             NaN          27.0        15.43     26          NaN  ...   \n",
       "9            2.50           9.0        43.60      7          NaN  ...   \n",
       "\n",
       "   kitchen_area  balcony              locality_name  airports_nearest  \\\n",
       "0         25.00      NaN            Санкт-Петербург           18863.0   \n",
       "1         11.00      2.0             посёлок Шушары           12817.0   \n",
       "2          8.30      0.0            Санкт-Петербург           21741.0   \n",
       "3           NaN      0.0            Санкт-Петербург           28098.0   \n",
       "4         41.00      NaN            Санкт-Петербург           31856.0   \n",
       "5          9.10      NaN  городской посёлок Янино-1               NaN   \n",
       "6         14.40      1.0          посёлок Парголово           52996.0   \n",
       "7         18.90      2.0            Санкт-Петербург           23982.0   \n",
       "8          8.81      NaN             посёлок Мурино               NaN   \n",
       "9          6.50      2.0            Санкт-Петербург           50898.0   \n",
       "\n",
       "  cityCenters_nearest  parks_around3000  parks_nearest  ponds_around3000  \\\n",
       "0             16028.0               1.0          482.0               2.0   \n",
       "1             18603.0               0.0            NaN               0.0   \n",
       "2             13933.0               1.0           90.0               2.0   \n",
       "3              6800.0               2.0           84.0               3.0   \n",
       "4              8098.0               2.0          112.0               1.0   \n",
       "5                 NaN               NaN            NaN               NaN   \n",
       "6             19143.0               0.0            NaN               0.0   \n",
       "7             11634.0               0.0            NaN               0.0   \n",
       "8                 NaN               NaN            NaN               NaN   \n",
       "9             15008.0               0.0            NaN               0.0   \n",
       "\n",
       "   ponds_nearest  days_exposition  \n",
       "0          755.0              NaN  \n",
       "1            NaN             81.0  \n",
       "2          574.0            558.0  \n",
       "3          234.0            424.0  \n",
       "4           48.0            121.0  \n",
       "5            NaN             55.0  \n",
       "6            NaN            155.0  \n",
       "7            NaN              NaN  \n",
       "8            NaN            189.0  \n",
       "9            NaN            289.0  \n",
       "\n",
       "[10 rows x 22 columns]"
      ]
     },
     "execution_count": 3,
     "metadata": {},
     "output_type": "execute_result"
    }
   ],
   "source": [
    "data.head(10)"
   ]
  },
  {
   "cell_type": "code",
   "execution_count": 4,
   "metadata": {},
   "outputs": [
    {
     "name": "stdout",
     "output_type": "stream",
     "text": [
      "<class 'pandas.core.frame.DataFrame'>\n",
      "RangeIndex: 23699 entries, 0 to 23698\n",
      "Data columns (total 22 columns):\n",
      " #   Column                Non-Null Count  Dtype  \n",
      "---  ------                --------------  -----  \n",
      " 0   total_images          23699 non-null  int64  \n",
      " 1   last_price            23699 non-null  float64\n",
      " 2   total_area            23699 non-null  float64\n",
      " 3   first_day_exposition  23699 non-null  object \n",
      " 4   rooms                 23699 non-null  int64  \n",
      " 5   ceiling_height        14504 non-null  float64\n",
      " 6   floors_total          23613 non-null  float64\n",
      " 7   living_area           21796 non-null  float64\n",
      " 8   floor                 23699 non-null  int64  \n",
      " 9   is_apartment          2775 non-null   object \n",
      " 10  studio                23699 non-null  bool   \n",
      " 11  open_plan             23699 non-null  bool   \n",
      " 12  kitchen_area          21421 non-null  float64\n",
      " 13  balcony               12180 non-null  float64\n",
      " 14  locality_name         23650 non-null  object \n",
      " 15  airports_nearest      18157 non-null  float64\n",
      " 16  cityCenters_nearest   18180 non-null  float64\n",
      " 17  parks_around3000      18181 non-null  float64\n",
      " 18  parks_nearest         8079 non-null   float64\n",
      " 19  ponds_around3000      18181 non-null  float64\n",
      " 20  ponds_nearest         9110 non-null   float64\n",
      " 21  days_exposition       20518 non-null  float64\n",
      "dtypes: bool(2), float64(14), int64(3), object(3)\n",
      "memory usage: 3.7+ MB\n"
     ]
    }
   ],
   "source": [
    "data.info()"
   ]
  },
  {
   "cell_type": "code",
   "execution_count": 5,
   "metadata": {},
   "outputs": [
    {
     "data": {
      "image/png": "[encoded data removed]",
      "text/plain": [
       "<Figure size 1080x1440 with 20 Axes>"
      ]
     },
     "metadata": {
      "needs_background": "light"
     },
     "output_type": "display_data"
    }
   ],
   "source": [
    "data.hist(figsize=(15, 20));"
   ]
  },
  {
   "cell_type": "code",
   "execution_count": 6,
   "metadata": {},
   "outputs": [
    {
     "data": {
      "text/html": [
       "<div>\n",
       "<style scoped>\n",
       "    .dataframe tbody tr th:only-of-type {\n",
       "        vertical-align: middle;\n",
       "    }\n",
       "\n",
       "    .dataframe tbody tr th {\n",
       "        vertical-align: top;\n",
       "    }\n",
       "\n",
       "    .dataframe thead th {\n",
       "        text-align: right;\n",
       "    }\n",
       "</style>\n",
       "<table border=\"1\" class=\"dataframe\">\n",
       "  <thead>\n",
       "    <tr style=\"text-align: right;\">\n",
       "      <th></th>\n",
       "      <th>total_images</th>\n",
       "      <th>last_price</th>\n",
       "      <th>total_area</th>\n",
       "      <th>rooms</th>\n",
       "      <th>ceiling_height</th>\n",
       "      <th>floors_total</th>\n",
       "      <th>living_area</th>\n",
       "      <th>floor</th>\n",
       "      <th>kitchen_area</th>\n",
       "      <th>balcony</th>\n",
       "      <th>airports_nearest</th>\n",
       "      <th>cityCenters_nearest</th>\n",
       "      <th>parks_around3000</th>\n",
       "      <th>parks_nearest</th>\n",
       "      <th>ponds_around3000</th>\n",
       "      <th>ponds_nearest</th>\n",
       "      <th>days_exposition</th>\n",
       "    </tr>\n",
       "  </thead>\n",
       "  <tbody>\n",
       "    <tr>\n",
       "      <th>count</th>\n",
       "      <td>23699.000000</td>\n",
       "      <td>2.369900e+04</td>\n",
       "      <td>23699.000000</td>\n",
       "      <td>23699.000000</td>\n",
       "      <td>14504.000000</td>\n",
       "      <td>23613.000000</td>\n",
       "      <td>21796.000000</td>\n",
       "      <td>23699.000000</td>\n",
       "      <td>21421.000000</td>\n",
       "      <td>12180.000000</td>\n",
       "      <td>18157.000000</td>\n",
       "      <td>18180.000000</td>\n",
       "      <td>18181.000000</td>\n",
       "      <td>8079.000000</td>\n",
       "      <td>18181.000000</td>\n",
       "      <td>9110.000000</td>\n",
       "      <td>20518.000000</td>\n",
       "    </tr>\n",
       "    <tr>\n",
       "      <th>mean</th>\n",
       "      <td>9.858475</td>\n",
       "      <td>6.541549e+06</td>\n",
       "      <td>60.348651</td>\n",
       "      <td>2.070636</td>\n",
       "      <td>2.771499</td>\n",
       "      <td>10.673824</td>\n",
       "      <td>34.457852</td>\n",
       "      <td>5.892358</td>\n",
       "      <td>10.569807</td>\n",
       "      <td>1.150082</td>\n",
       "      <td>28793.672193</td>\n",
       "      <td>14191.277833</td>\n",
       "      <td>0.611408</td>\n",
       "      <td>490.804555</td>\n",
       "      <td>0.770255</td>\n",
       "      <td>517.980900</td>\n",
       "      <td>180.888634</td>\n",
       "    </tr>\n",
       "    <tr>\n",
       "      <th>std</th>\n",
       "      <td>5.682529</td>\n",
       "      <td>1.088701e+07</td>\n",
       "      <td>35.654083</td>\n",
       "      <td>1.078405</td>\n",
       "      <td>1.261056</td>\n",
       "      <td>6.597173</td>\n",
       "      <td>22.030445</td>\n",
       "      <td>4.885249</td>\n",
       "      <td>5.905438</td>\n",
       "      <td>1.071300</td>\n",
       "      <td>12630.880622</td>\n",
       "      <td>8608.386210</td>\n",
       "      <td>0.802074</td>\n",
       "      <td>342.317995</td>\n",
       "      <td>0.938346</td>\n",
       "      <td>277.720643</td>\n",
       "      <td>219.727988</td>\n",
       "    </tr>\n",
       "    <tr>\n",
       "      <th>min</th>\n",
       "      <td>0.000000</td>\n",
       "      <td>1.219000e+04</td>\n",
       "      <td>12.000000</td>\n",
       "      <td>0.000000</td>\n",
       "      <td>1.000000</td>\n",
       "      <td>1.000000</td>\n",
       "      <td>2.000000</td>\n",
       "      <td>1.000000</td>\n",
       "      <td>1.300000</td>\n",
       "      <td>0.000000</td>\n",
       "      <td>0.000000</td>\n",
       "      <td>181.000000</td>\n",
       "      <td>0.000000</td>\n",
       "      <td>1.000000</td>\n",
       "      <td>0.000000</td>\n",
       "      <td>13.000000</td>\n",
       "      <td>1.000000</td>\n",
       "    </tr>\n",
       "    <tr>\n",
       "      <th>25%</th>\n",
       "      <td>6.000000</td>\n",
       "      <td>3.400000e+06</td>\n",
       "      <td>40.000000</td>\n",
       "      <td>1.000000</td>\n",
       "      <td>2.520000</td>\n",
       "      <td>5.000000</td>\n",
       "      <td>18.600000</td>\n",
       "      <td>2.000000</td>\n",
       "      <td>7.000000</td>\n",
       "      <td>0.000000</td>\n",
       "      <td>18585.000000</td>\n",
       "      <td>9238.000000</td>\n",
       "      <td>0.000000</td>\n",
       "      <td>288.000000</td>\n",
       "      <td>0.000000</td>\n",
       "      <td>294.000000</td>\n",
       "      <td>45.000000</td>\n",
       "    </tr>\n",
       "    <tr>\n",
       "      <th>50%</th>\n",
       "      <td>9.000000</td>\n",
       "      <td>4.650000e+06</td>\n",
       "      <td>52.000000</td>\n",
       "      <td>2.000000</td>\n",
       "      <td>2.650000</td>\n",
       "      <td>9.000000</td>\n",
       "      <td>30.000000</td>\n",
       "      <td>4.000000</td>\n",
       "      <td>9.100000</td>\n",
       "      <td>1.000000</td>\n",
       "      <td>26726.000000</td>\n",
       "      <td>13098.500000</td>\n",
       "      <td>0.000000</td>\n",
       "      <td>455.000000</td>\n",
       "      <td>1.000000</td>\n",
       "      <td>502.000000</td>\n",
       "      <td>95.000000</td>\n",
       "    </tr>\n",
       "    <tr>\n",
       "      <th>75%</th>\n",
       "      <td>14.000000</td>\n",
       "      <td>6.800000e+06</td>\n",
       "      <td>69.900000</td>\n",
       "      <td>3.000000</td>\n",
       "      <td>2.800000</td>\n",
       "      <td>16.000000</td>\n",
       "      <td>42.300000</td>\n",
       "      <td>8.000000</td>\n",
       "      <td>12.000000</td>\n",
       "      <td>2.000000</td>\n",
       "      <td>37273.000000</td>\n",
       "      <td>16293.000000</td>\n",
       "      <td>1.000000</td>\n",
       "      <td>612.000000</td>\n",
       "      <td>1.000000</td>\n",
       "      <td>729.000000</td>\n",
       "      <td>232.000000</td>\n",
       "    </tr>\n",
       "    <tr>\n",
       "      <th>max</th>\n",
       "      <td>50.000000</td>\n",
       "      <td>7.630000e+08</td>\n",
       "      <td>900.000000</td>\n",
       "      <td>19.000000</td>\n",
       "      <td>100.000000</td>\n",
       "      <td>60.000000</td>\n",
       "      <td>409.700000</td>\n",
       "      <td>33.000000</td>\n",
       "      <td>112.000000</td>\n",
       "      <td>5.000000</td>\n",
       "      <td>84869.000000</td>\n",
       "      <td>65968.000000</td>\n",
       "      <td>3.000000</td>\n",
       "      <td>3190.000000</td>\n",
       "      <td>3.000000</td>\n",
       "      <td>1344.000000</td>\n",
       "      <td>1580.000000</td>\n",
       "    </tr>\n",
       "  </tbody>\n",
       "</table>\n",
       "</div>"
      ],
      "text/plain": [
       "       total_images    last_price    total_area         rooms  ceiling_height  \\\n",
       "count  23699.000000  2.369900e+04  23699.000000  23699.000000    14504.000000   \n",
       "mean       9.858475  6.541549e+06     60.348651      2.070636        2.771499   \n",
       "std        5.682529  1.088701e+07     35.654083      1.078405        1.261056   \n",
       "min        0.000000  1.219000e+04     12.000000      0.000000        1.000000   \n",
       "25%        6.000000  3.400000e+06     40.000000      1.000000        2.520000   \n",
       "50%        9.000000  4.650000e+06     52.000000      2.000000        2.650000   \n",
       "75%       14.000000  6.800000e+06     69.900000      3.000000        2.800000   \n",
       "max       50.000000  7.630000e+08    900.000000     19.000000      100.000000   \n",
       "\n",
       "       floors_total   living_area         floor  kitchen_area       balcony  \\\n",
       "count  23613.000000  21796.000000  23699.000000  21421.000000  12180.000000   \n",
       "mean      10.673824     34.457852      5.892358     10.569807      1.150082   \n",
       "std        6.597173     22.030445      4.885249      5.905438      1.071300   \n",
       "min        1.000000      2.000000      1.000000      1.300000      0.000000   \n",
       "25%        5.000000     18.600000      2.000000      7.000000      0.000000   \n",
       "50%        9.000000     30.000000      4.000000      9.100000      1.000000   \n",
       "75%       16.000000     42.300000      8.000000     12.000000      2.000000   \n",
       "max       60.000000    409.700000     33.000000    112.000000      5.000000   \n",
       "\n",
       "       airports_nearest  cityCenters_nearest  parks_around3000  parks_nearest  \\\n",
       "count      18157.000000         18180.000000      18181.000000    8079.000000   \n",
       "mean       28793.672193         14191.277833          0.611408     490.804555   \n",
       "std        12630.880622          8608.386210          0.802074     342.317995   \n",
       "min            0.000000           181.000000          0.000000       1.000000   \n",
       "25%        18585.000000          9238.000000          0.000000     288.000000   \n",
       "50%        26726.000000         13098.500000          0.000000     455.000000   \n",
       "75%        37273.000000         16293.000000          1.000000     612.000000   \n",
       "max        84869.000000         65968.000000          3.000000    3190.000000   \n",
       "\n",
       "       ponds_around3000  ponds_nearest  days_exposition  \n",
       "count      18181.000000    9110.000000     20518.000000  \n",
       "mean           0.770255     517.980900       180.888634  \n",
       "std            0.938346     277.720643       219.727988  \n",
       "min            0.000000      13.000000         1.000000  \n",
       "25%            0.000000     294.000000        45.000000  \n",
       "50%            1.000000     502.000000        95.000000  \n",
       "75%            1.000000     729.000000       232.000000  \n",
       "max            3.000000    1344.000000      1580.000000  "
      ]
     },
     "execution_count": 6,
     "metadata": {},
     "output_type": "execute_result"
    }
   ],
   "source": [
    "data.describe()"
   ]
  },
  {
   "cell_type": "code",
   "execution_count": 7,
   "metadata": {},
   "outputs": [
    {
     "data": {
      "text/plain": [
       "0"
      ]
     },
     "execution_count": 7,
     "metadata": {},
     "output_type": "execute_result"
    }
   ],
   "source": [
    "data.duplicated().sum()"
   ]
  },
  {
   "cell_type": "code",
   "execution_count": 8,
   "metadata": {},
   "outputs": [
    {
     "data": {
      "text/plain": [
       "total_images                0\n",
       "last_price                  0\n",
       "total_area                  0\n",
       "first_day_exposition        0\n",
       "rooms                       0\n",
       "ceiling_height           9195\n",
       "floors_total               86\n",
       "living_area              1903\n",
       "floor                       0\n",
       "is_apartment            20924\n",
       "studio                      0\n",
       "open_plan                   0\n",
       "kitchen_area             2278\n",
       "balcony                 11519\n",
       "locality_name              49\n",
       "airports_nearest         5542\n",
       "cityCenters_nearest      5519\n",
       "parks_around3000         5518\n",
       "parks_nearest           15620\n",
       "ponds_around3000         5518\n",
       "ponds_nearest           14589\n",
       "days_exposition          3181\n",
       "dtype: int64"
      ]
     },
     "execution_count": 8,
     "metadata": {},
     "output_type": "execute_result"
    }
   ],
   "source": [
    "data.isna().sum()"
   ]
  },
  {
   "cell_type": "code",
   "execution_count": 9,
   "metadata": {},
   "outputs": [
    {
     "data": {
      "image/png": "[encoded data removed]",
      "text/plain": [
       "<Figure size 720x360 with 1 Axes>"
      ]
     },
     "metadata": {
      "needs_background": "light"
     },
     "output_type": "display_data"
    }
   ],
   "source": [
    "data.isna().sum().sort_values(ascending=False).plot(kind='bar', figsize=(10, 5));"
   ]
  },
  {
   "cell_type": "markdown",
   "metadata": {},
   "source": [
    "#### Вывод\n",
    "* Пропуски есть в половине столбцов\n",
    "* Наибольшее количество пропусков наблюдается в столбце 'is_apartment', > 20.000 пропущенных значений\n",
    "* Имеются выбросы"
   ]
  },
  {
   "cell_type": "markdown",
   "metadata": {},
   "source": [
    "### Предобработка данных"
   ]
  },
  {
   "cell_type": "markdown",
   "metadata": {},
   "source": [
    "Начнём обработку пропусков с наибольших значений по типам данных, добавленными пользователями"
   ]
  },
  {
   "cell_type": "code",
   "execution_count": 10,
   "metadata": {},
   "outputs": [
    {
     "data": {
      "text/plain": [
       "False    2725\n",
       "True       50\n",
       "Name: is_apartment, dtype: int64"
      ]
     },
     "execution_count": 10,
     "metadata": {},
     "output_type": "execute_result"
    }
   ],
   "source": [
    "data['is_apartment'].value_counts()"
   ]
  },
  {
   "cell_type": "markdown",
   "metadata": {},
   "source": [
    "* Предположим, что люди, у которых недвижимость представлена апартаментами, знают об этом и указывают в объявлении. \n",
    "* Остальные возможно не знакомы с данным типом недвижимости, поэтому пропускают данный пункт в описании. \n",
    "*  Предположим, что апартаменты не являются популярным типом недвижимости в Санкт-Петербурге, и заполним пропуски на False"
   ]
  },
  {
   "cell_type": "code",
   "execution_count": 11,
   "metadata": {},
   "outputs": [],
   "source": [
    "data['is_apartment'] = data['is_apartment'].fillna(False)"
   ]
  },
  {
   "cell_type": "code",
   "execution_count": 12,
   "metadata": {},
   "outputs": [
    {
     "data": {
      "text/plain": [
       "False    23649\n",
       "True        50\n",
       "Name: is_apartment, dtype: int64"
      ]
     },
     "execution_count": 12,
     "metadata": {},
     "output_type": "execute_result"
    }
   ],
   "source": [
    "data['is_apartment'].value_counts()"
   ]
  },
  {
   "cell_type": "code",
   "execution_count": 13,
   "metadata": {},
   "outputs": [
    {
     "data": {
      "text/plain": [
       "1.0    4195\n",
       "0.0    3758\n",
       "2.0    3659\n",
       "5.0     304\n",
       "4.0     183\n",
       "3.0      81\n",
       "Name: balcony, dtype: int64"
      ]
     },
     "execution_count": 13,
     "metadata": {},
     "output_type": "execute_result"
    }
   ],
   "source": [
    "data['balcony'].value_counts()"
   ]
  },
  {
   "cell_type": "code",
   "execution_count": 14,
   "metadata": {},
   "outputs": [
    {
     "data": {
      "text/plain": [
       "11519"
      ]
     },
     "execution_count": 14,
     "metadata": {},
     "output_type": "execute_result"
    }
   ],
   "source": [
    "data['balcony'].isna().sum()"
   ]
  },
  {
   "cell_type": "markdown",
   "metadata": {},
   "source": [
    "Пропущенные значение в пункте \"Балконы\" скорее всего свидетельствует о том, что в данных квартирах их нет, либо они являются лождиями, заменим значения на 0 и приведём данные к числовому типу."
   ]
  },
  {
   "cell_type": "code",
   "execution_count": 15,
   "metadata": {},
   "outputs": [],
   "source": [
    "data['balcony'] = data['balcony'].fillna(0)"
   ]
  },
  {
   "cell_type": "code",
   "execution_count": 16,
   "metadata": {},
   "outputs": [
    {
     "data": {
      "text/plain": [
       "0.0    15277\n",
       "1.0     4195\n",
       "2.0     3659\n",
       "5.0      304\n",
       "4.0      183\n",
       "3.0       81\n",
       "Name: balcony, dtype: int64"
      ]
     },
     "execution_count": 16,
     "metadata": {},
     "output_type": "execute_result"
    }
   ],
   "source": [
    "data['balcony'].value_counts()"
   ]
  },
  {
   "cell_type": "code",
   "execution_count": 17,
   "metadata": {},
   "outputs": [
    {
     "data": {
      "text/plain": [
       "count    14504.000000\n",
       "mean         2.771499\n",
       "std          1.261056\n",
       "min          1.000000\n",
       "25%          2.520000\n",
       "50%          2.650000\n",
       "75%          2.800000\n",
       "max        100.000000\n",
       "Name: ceiling_height, dtype: float64"
      ]
     },
     "execution_count": 17,
     "metadata": {},
     "output_type": "execute_result"
    }
   ],
   "source": [
    "data['ceiling_height'].describe()"
   ]
  },
  {
   "cell_type": "code",
   "execution_count": 18,
   "metadata": {
    "scrolled": true
   },
   "outputs": [
    {
     "data": {
      "text/plain": [
       "22869    100.0\n",
       "22336     32.0\n",
       "3148      32.0\n",
       "21377     27.5\n",
       "20478     27.0\n",
       "5246      27.0\n",
       "5807      27.0\n",
       "10773     27.0\n",
       "17857     27.0\n",
       "22938     27.0\n",
       "21824     27.0\n",
       "4876      27.0\n",
       "5669      26.0\n",
       "18545     25.0\n",
       "11285     25.0\n",
       "355       25.0\n",
       "6246      25.0\n",
       "14382     25.0\n",
       "4643      25.0\n",
       "9379      25.0\n",
       "5076      24.0\n",
       "20507     22.6\n",
       "17496     20.0\n",
       "15061     14.0\n",
       "22309     10.3\n",
       "5863       8.3\n",
       "15743      8.0\n",
       "3474       8.0\n",
       "17442      8.0\n",
       "20264      6.0\n",
       "Name: ceiling_height, dtype: float64"
      ]
     },
     "execution_count": 18,
     "metadata": {},
     "output_type": "execute_result"
    }
   ],
   "source": [
    "data['ceiling_height'].sort_values(ascending=False).head(30)"
   ]
  },
  {
   "cell_type": "code",
   "execution_count": 19,
   "metadata": {
    "scrolled": true
   },
   "outputs": [
    {
     "data": {
      "text/html": [
       "<div>\n",
       "<style scoped>\n",
       "    .dataframe tbody tr th:only-of-type {\n",
       "        vertical-align: middle;\n",
       "    }\n",
       "\n",
       "    .dataframe tbody tr th {\n",
       "        vertical-align: top;\n",
       "    }\n",
       "\n",
       "    .dataframe thead th {\n",
       "        text-align: right;\n",
       "    }\n",
       "</style>\n",
       "<table border=\"1\" class=\"dataframe\">\n",
       "  <thead>\n",
       "    <tr style=\"text-align: right;\">\n",
       "      <th></th>\n",
       "      <th>total_images</th>\n",
       "      <th>last_price</th>\n",
       "      <th>total_area</th>\n",
       "      <th>first_day_exposition</th>\n",
       "      <th>rooms</th>\n",
       "      <th>ceiling_height</th>\n",
       "      <th>floors_total</th>\n",
       "      <th>living_area</th>\n",
       "      <th>floor</th>\n",
       "      <th>is_apartment</th>\n",
       "      <th>...</th>\n",
       "      <th>kitchen_area</th>\n",
       "      <th>balcony</th>\n",
       "      <th>locality_name</th>\n",
       "      <th>airports_nearest</th>\n",
       "      <th>cityCenters_nearest</th>\n",
       "      <th>parks_around3000</th>\n",
       "      <th>parks_nearest</th>\n",
       "      <th>ponds_around3000</th>\n",
       "      <th>ponds_nearest</th>\n",
       "      <th>days_exposition</th>\n",
       "    </tr>\n",
       "  </thead>\n",
       "  <tbody>\n",
       "    <tr>\n",
       "      <th>355</th>\n",
       "      <td>17</td>\n",
       "      <td>3600000.0</td>\n",
       "      <td>55.2</td>\n",
       "      <td>2018-07-12T00:00:00</td>\n",
       "      <td>2</td>\n",
       "      <td>25.0</td>\n",
       "      <td>5.0</td>\n",
       "      <td>32.0</td>\n",
       "      <td>2</td>\n",
       "      <td>False</td>\n",
       "      <td>...</td>\n",
       "      <td>NaN</td>\n",
       "      <td>2.0</td>\n",
       "      <td>Гатчина</td>\n",
       "      <td>NaN</td>\n",
       "      <td>NaN</td>\n",
       "      <td>NaN</td>\n",
       "      <td>NaN</td>\n",
       "      <td>NaN</td>\n",
       "      <td>NaN</td>\n",
       "      <td>259.0</td>\n",
       "    </tr>\n",
       "    <tr>\n",
       "      <th>3148</th>\n",
       "      <td>14</td>\n",
       "      <td>2900000.0</td>\n",
       "      <td>75.0</td>\n",
       "      <td>2018-11-12T00:00:00</td>\n",
       "      <td>3</td>\n",
       "      <td>32.0</td>\n",
       "      <td>3.0</td>\n",
       "      <td>53.0</td>\n",
       "      <td>2</td>\n",
       "      <td>False</td>\n",
       "      <td>...</td>\n",
       "      <td>8.0</td>\n",
       "      <td>0.0</td>\n",
       "      <td>Волхов</td>\n",
       "      <td>NaN</td>\n",
       "      <td>NaN</td>\n",
       "      <td>NaN</td>\n",
       "      <td>NaN</td>\n",
       "      <td>NaN</td>\n",
       "      <td>NaN</td>\n",
       "      <td>NaN</td>\n",
       "    </tr>\n",
       "    <tr>\n",
       "      <th>3474</th>\n",
       "      <td>3</td>\n",
       "      <td>1400000.0</td>\n",
       "      <td>30.0</td>\n",
       "      <td>2018-03-16T00:00:00</td>\n",
       "      <td>1</td>\n",
       "      <td>8.0</td>\n",
       "      <td>5.0</td>\n",
       "      <td>15.3</td>\n",
       "      <td>2</td>\n",
       "      <td>False</td>\n",
       "      <td>...</td>\n",
       "      <td>7.3</td>\n",
       "      <td>0.0</td>\n",
       "      <td>деревня Нурма</td>\n",
       "      <td>NaN</td>\n",
       "      <td>NaN</td>\n",
       "      <td>NaN</td>\n",
       "      <td>NaN</td>\n",
       "      <td>NaN</td>\n",
       "      <td>NaN</td>\n",
       "      <td>125.0</td>\n",
       "    </tr>\n",
       "    <tr>\n",
       "      <th>4643</th>\n",
       "      <td>0</td>\n",
       "      <td>4300000.0</td>\n",
       "      <td>45.0</td>\n",
       "      <td>2018-02-01T00:00:00</td>\n",
       "      <td>2</td>\n",
       "      <td>25.0</td>\n",
       "      <td>9.0</td>\n",
       "      <td>30.0</td>\n",
       "      <td>2</td>\n",
       "      <td>False</td>\n",
       "      <td>...</td>\n",
       "      <td>7.0</td>\n",
       "      <td>1.0</td>\n",
       "      <td>Санкт-Петербург</td>\n",
       "      <td>12016.0</td>\n",
       "      <td>13256.0</td>\n",
       "      <td>1.0</td>\n",
       "      <td>658.0</td>\n",
       "      <td>1.0</td>\n",
       "      <td>331.0</td>\n",
       "      <td>181.0</td>\n",
       "    </tr>\n",
       "    <tr>\n",
       "      <th>4876</th>\n",
       "      <td>7</td>\n",
       "      <td>3000000.0</td>\n",
       "      <td>25.0</td>\n",
       "      <td>2017-09-27T00:00:00</td>\n",
       "      <td>0</td>\n",
       "      <td>27.0</td>\n",
       "      <td>25.0</td>\n",
       "      <td>17.0</td>\n",
       "      <td>17</td>\n",
       "      <td>False</td>\n",
       "      <td>...</td>\n",
       "      <td>NaN</td>\n",
       "      <td>2.0</td>\n",
       "      <td>посёлок Мурино</td>\n",
       "      <td>NaN</td>\n",
       "      <td>NaN</td>\n",
       "      <td>NaN</td>\n",
       "      <td>NaN</td>\n",
       "      <td>NaN</td>\n",
       "      <td>NaN</td>\n",
       "      <td>28.0</td>\n",
       "    </tr>\n",
       "    <tr>\n",
       "      <th>5076</th>\n",
       "      <td>0</td>\n",
       "      <td>3850000.0</td>\n",
       "      <td>30.5</td>\n",
       "      <td>2018-10-03T00:00:00</td>\n",
       "      <td>1</td>\n",
       "      <td>24.0</td>\n",
       "      <td>5.0</td>\n",
       "      <td>19.5</td>\n",
       "      <td>1</td>\n",
       "      <td>True</td>\n",
       "      <td>...</td>\n",
       "      <td>5.5</td>\n",
       "      <td>0.0</td>\n",
       "      <td>Санкт-Петербург</td>\n",
       "      <td>29686.0</td>\n",
       "      <td>8389.0</td>\n",
       "      <td>3.0</td>\n",
       "      <td>397.0</td>\n",
       "      <td>1.0</td>\n",
       "      <td>578.0</td>\n",
       "      <td>7.0</td>\n",
       "    </tr>\n",
       "    <tr>\n",
       "      <th>5246</th>\n",
       "      <td>0</td>\n",
       "      <td>2500000.0</td>\n",
       "      <td>54.0</td>\n",
       "      <td>2017-10-13T00:00:00</td>\n",
       "      <td>2</td>\n",
       "      <td>27.0</td>\n",
       "      <td>5.0</td>\n",
       "      <td>30.0</td>\n",
       "      <td>3</td>\n",
       "      <td>False</td>\n",
       "      <td>...</td>\n",
       "      <td>9.0</td>\n",
       "      <td>2.0</td>\n",
       "      <td>деревня Мины</td>\n",
       "      <td>NaN</td>\n",
       "      <td>NaN</td>\n",
       "      <td>NaN</td>\n",
       "      <td>NaN</td>\n",
       "      <td>NaN</td>\n",
       "      <td>NaN</td>\n",
       "      <td>540.0</td>\n",
       "    </tr>\n",
       "    <tr>\n",
       "      <th>5669</th>\n",
       "      <td>4</td>\n",
       "      <td>4400000.0</td>\n",
       "      <td>50.0</td>\n",
       "      <td>2017-08-08T00:00:00</td>\n",
       "      <td>2</td>\n",
       "      <td>26.0</td>\n",
       "      <td>9.0</td>\n",
       "      <td>21.3</td>\n",
       "      <td>3</td>\n",
       "      <td>False</td>\n",
       "      <td>...</td>\n",
       "      <td>7.0</td>\n",
       "      <td>2.0</td>\n",
       "      <td>Санкт-Петербург</td>\n",
       "      <td>28981.0</td>\n",
       "      <td>10912.0</td>\n",
       "      <td>1.0</td>\n",
       "      <td>305.0</td>\n",
       "      <td>0.0</td>\n",
       "      <td>NaN</td>\n",
       "      <td>267.0</td>\n",
       "    </tr>\n",
       "    <tr>\n",
       "      <th>5807</th>\n",
       "      <td>17</td>\n",
       "      <td>8150000.0</td>\n",
       "      <td>80.0</td>\n",
       "      <td>2019-01-09T00:00:00</td>\n",
       "      <td>2</td>\n",
       "      <td>27.0</td>\n",
       "      <td>36.0</td>\n",
       "      <td>41.0</td>\n",
       "      <td>13</td>\n",
       "      <td>False</td>\n",
       "      <td>...</td>\n",
       "      <td>12.0</td>\n",
       "      <td>5.0</td>\n",
       "      <td>Санкт-Петербург</td>\n",
       "      <td>18732.0</td>\n",
       "      <td>20444.0</td>\n",
       "      <td>0.0</td>\n",
       "      <td>NaN</td>\n",
       "      <td>3.0</td>\n",
       "      <td>80.0</td>\n",
       "      <td>38.0</td>\n",
       "    </tr>\n",
       "    <tr>\n",
       "      <th>5863</th>\n",
       "      <td>20</td>\n",
       "      <td>5650000.0</td>\n",
       "      <td>45.0</td>\n",
       "      <td>2018-08-15T00:00:00</td>\n",
       "      <td>1</td>\n",
       "      <td>8.3</td>\n",
       "      <td>16.0</td>\n",
       "      <td>19.3</td>\n",
       "      <td>14</td>\n",
       "      <td>False</td>\n",
       "      <td>...</td>\n",
       "      <td>8.3</td>\n",
       "      <td>1.0</td>\n",
       "      <td>Санкт-Петербург</td>\n",
       "      <td>13069.0</td>\n",
       "      <td>10763.0</td>\n",
       "      <td>0.0</td>\n",
       "      <td>NaN</td>\n",
       "      <td>1.0</td>\n",
       "      <td>613.0</td>\n",
       "      <td>14.0</td>\n",
       "    </tr>\n",
       "    <tr>\n",
       "      <th>6246</th>\n",
       "      <td>6</td>\n",
       "      <td>3300000.0</td>\n",
       "      <td>44.4</td>\n",
       "      <td>2019-03-25T00:00:00</td>\n",
       "      <td>2</td>\n",
       "      <td>25.0</td>\n",
       "      <td>5.0</td>\n",
       "      <td>31.3</td>\n",
       "      <td>5</td>\n",
       "      <td>False</td>\n",
       "      <td>...</td>\n",
       "      <td>5.7</td>\n",
       "      <td>0.0</td>\n",
       "      <td>Кронштадт</td>\n",
       "      <td>68923.0</td>\n",
       "      <td>50649.0</td>\n",
       "      <td>1.0</td>\n",
       "      <td>417.0</td>\n",
       "      <td>2.0</td>\n",
       "      <td>73.0</td>\n",
       "      <td>NaN</td>\n",
       "    </tr>\n",
       "    <tr>\n",
       "      <th>9379</th>\n",
       "      <td>5</td>\n",
       "      <td>3950000.0</td>\n",
       "      <td>42.0</td>\n",
       "      <td>2017-03-26T00:00:00</td>\n",
       "      <td>3</td>\n",
       "      <td>25.0</td>\n",
       "      <td>5.0</td>\n",
       "      <td>30.0</td>\n",
       "      <td>2</td>\n",
       "      <td>False</td>\n",
       "      <td>...</td>\n",
       "      <td>5.2</td>\n",
       "      <td>0.0</td>\n",
       "      <td>Санкт-Петербург</td>\n",
       "      <td>11647.0</td>\n",
       "      <td>13581.0</td>\n",
       "      <td>0.0</td>\n",
       "      <td>NaN</td>\n",
       "      <td>0.0</td>\n",
       "      <td>NaN</td>\n",
       "      <td>NaN</td>\n",
       "    </tr>\n",
       "    <tr>\n",
       "      <th>10773</th>\n",
       "      <td>8</td>\n",
       "      <td>3800000.0</td>\n",
       "      <td>58.0</td>\n",
       "      <td>2017-10-13T00:00:00</td>\n",
       "      <td>2</td>\n",
       "      <td>27.0</td>\n",
       "      <td>10.0</td>\n",
       "      <td>30.1</td>\n",
       "      <td>3</td>\n",
       "      <td>False</td>\n",
       "      <td>...</td>\n",
       "      <td>8.1</td>\n",
       "      <td>2.0</td>\n",
       "      <td>посёлок Мурино</td>\n",
       "      <td>NaN</td>\n",
       "      <td>NaN</td>\n",
       "      <td>NaN</td>\n",
       "      <td>NaN</td>\n",
       "      <td>NaN</td>\n",
       "      <td>NaN</td>\n",
       "      <td>71.0</td>\n",
       "    </tr>\n",
       "    <tr>\n",
       "      <th>11285</th>\n",
       "      <td>0</td>\n",
       "      <td>1950000.0</td>\n",
       "      <td>37.0</td>\n",
       "      <td>2019-03-20T00:00:00</td>\n",
       "      <td>1</td>\n",
       "      <td>25.0</td>\n",
       "      <td>5.0</td>\n",
       "      <td>17.0</td>\n",
       "      <td>4</td>\n",
       "      <td>False</td>\n",
       "      <td>...</td>\n",
       "      <td>9.0</td>\n",
       "      <td>2.0</td>\n",
       "      <td>Луга</td>\n",
       "      <td>NaN</td>\n",
       "      <td>NaN</td>\n",
       "      <td>NaN</td>\n",
       "      <td>NaN</td>\n",
       "      <td>NaN</td>\n",
       "      <td>NaN</td>\n",
       "      <td>18.0</td>\n",
       "    </tr>\n",
       "    <tr>\n",
       "      <th>14382</th>\n",
       "      <td>9</td>\n",
       "      <td>1700000.0</td>\n",
       "      <td>35.0</td>\n",
       "      <td>2015-12-04T00:00:00</td>\n",
       "      <td>1</td>\n",
       "      <td>25.0</td>\n",
       "      <td>5.0</td>\n",
       "      <td>20.0</td>\n",
       "      <td>2</td>\n",
       "      <td>False</td>\n",
       "      <td>...</td>\n",
       "      <td>8.0</td>\n",
       "      <td>1.0</td>\n",
       "      <td>поселок Новый Свет</td>\n",
       "      <td>NaN</td>\n",
       "      <td>NaN</td>\n",
       "      <td>NaN</td>\n",
       "      <td>NaN</td>\n",
       "      <td>NaN</td>\n",
       "      <td>NaN</td>\n",
       "      <td>206.0</td>\n",
       "    </tr>\n",
       "    <tr>\n",
       "      <th>15061</th>\n",
       "      <td>19</td>\n",
       "      <td>5600000.0</td>\n",
       "      <td>56.4</td>\n",
       "      <td>2018-05-11T00:00:00</td>\n",
       "      <td>2</td>\n",
       "      <td>14.0</td>\n",
       "      <td>14.0</td>\n",
       "      <td>32.4</td>\n",
       "      <td>5</td>\n",
       "      <td>False</td>\n",
       "      <td>...</td>\n",
       "      <td>9.1</td>\n",
       "      <td>2.0</td>\n",
       "      <td>Санкт-Петербург</td>\n",
       "      <td>14814.0</td>\n",
       "      <td>13610.0</td>\n",
       "      <td>0.0</td>\n",
       "      <td>NaN</td>\n",
       "      <td>0.0</td>\n",
       "      <td>NaN</td>\n",
       "      <td>315.0</td>\n",
       "    </tr>\n",
       "    <tr>\n",
       "      <th>15743</th>\n",
       "      <td>14</td>\n",
       "      <td>5600000.0</td>\n",
       "      <td>67.0</td>\n",
       "      <td>2016-11-11T00:00:00</td>\n",
       "      <td>3</td>\n",
       "      <td>8.0</td>\n",
       "      <td>16.0</td>\n",
       "      <td>41.0</td>\n",
       "      <td>1</td>\n",
       "      <td>False</td>\n",
       "      <td>...</td>\n",
       "      <td>8.0</td>\n",
       "      <td>0.0</td>\n",
       "      <td>Санкт-Петербург</td>\n",
       "      <td>32691.0</td>\n",
       "      <td>11035.0</td>\n",
       "      <td>1.0</td>\n",
       "      <td>723.0</td>\n",
       "      <td>0.0</td>\n",
       "      <td>NaN</td>\n",
       "      <td>474.0</td>\n",
       "    </tr>\n",
       "    <tr>\n",
       "      <th>17442</th>\n",
       "      <td>0</td>\n",
       "      <td>5350000.0</td>\n",
       "      <td>54.0</td>\n",
       "      <td>2015-06-16T00:00:00</td>\n",
       "      <td>2</td>\n",
       "      <td>8.0</td>\n",
       "      <td>5.0</td>\n",
       "      <td>29.0</td>\n",
       "      <td>2</td>\n",
       "      <td>False</td>\n",
       "      <td>...</td>\n",
       "      <td>NaN</td>\n",
       "      <td>1.0</td>\n",
       "      <td>Красное Село</td>\n",
       "      <td>24638.0</td>\n",
       "      <td>28062.0</td>\n",
       "      <td>0.0</td>\n",
       "      <td>NaN</td>\n",
       "      <td>0.0</td>\n",
       "      <td>NaN</td>\n",
       "      <td>469.0</td>\n",
       "    </tr>\n",
       "    <tr>\n",
       "      <th>17496</th>\n",
       "      <td>15</td>\n",
       "      <td>6700000.0</td>\n",
       "      <td>92.9</td>\n",
       "      <td>2019-02-19T00:00:00</td>\n",
       "      <td>3</td>\n",
       "      <td>20.0</td>\n",
       "      <td>17.0</td>\n",
       "      <td>53.2</td>\n",
       "      <td>14</td>\n",
       "      <td>False</td>\n",
       "      <td>...</td>\n",
       "      <td>12.0</td>\n",
       "      <td>5.0</td>\n",
       "      <td>Санкт-Петербург</td>\n",
       "      <td>16295.0</td>\n",
       "      <td>15092.0</td>\n",
       "      <td>1.0</td>\n",
       "      <td>967.0</td>\n",
       "      <td>0.0</td>\n",
       "      <td>NaN</td>\n",
       "      <td>NaN</td>\n",
       "    </tr>\n",
       "    <tr>\n",
       "      <th>17857</th>\n",
       "      <td>1</td>\n",
       "      <td>3900000.0</td>\n",
       "      <td>56.0</td>\n",
       "      <td>2017-12-22T00:00:00</td>\n",
       "      <td>3</td>\n",
       "      <td>27.0</td>\n",
       "      <td>5.0</td>\n",
       "      <td>33.0</td>\n",
       "      <td>4</td>\n",
       "      <td>False</td>\n",
       "      <td>...</td>\n",
       "      <td>NaN</td>\n",
       "      <td>0.0</td>\n",
       "      <td>Санкт-Петербург</td>\n",
       "      <td>41030.0</td>\n",
       "      <td>15543.0</td>\n",
       "      <td>0.0</td>\n",
       "      <td>NaN</td>\n",
       "      <td>0.0</td>\n",
       "      <td>NaN</td>\n",
       "      <td>73.0</td>\n",
       "    </tr>\n",
       "    <tr>\n",
       "      <th>18545</th>\n",
       "      <td>6</td>\n",
       "      <td>3750000.0</td>\n",
       "      <td>43.0</td>\n",
       "      <td>2019-03-18T00:00:00</td>\n",
       "      <td>2</td>\n",
       "      <td>25.0</td>\n",
       "      <td>5.0</td>\n",
       "      <td>29.0</td>\n",
       "      <td>3</td>\n",
       "      <td>False</td>\n",
       "      <td>...</td>\n",
       "      <td>NaN</td>\n",
       "      <td>0.0</td>\n",
       "      <td>Санкт-Петербург</td>\n",
       "      <td>27054.0</td>\n",
       "      <td>8033.0</td>\n",
       "      <td>1.0</td>\n",
       "      <td>540.0</td>\n",
       "      <td>0.0</td>\n",
       "      <td>NaN</td>\n",
       "      <td>12.0</td>\n",
       "    </tr>\n",
       "    <tr>\n",
       "      <th>20478</th>\n",
       "      <td>11</td>\n",
       "      <td>8000000.0</td>\n",
       "      <td>45.0</td>\n",
       "      <td>2017-07-18T00:00:00</td>\n",
       "      <td>1</td>\n",
       "      <td>27.0</td>\n",
       "      <td>4.0</td>\n",
       "      <td>22.0</td>\n",
       "      <td>2</td>\n",
       "      <td>False</td>\n",
       "      <td>...</td>\n",
       "      <td>10.0</td>\n",
       "      <td>1.0</td>\n",
       "      <td>Санкт-Петербург</td>\n",
       "      <td>18975.0</td>\n",
       "      <td>3246.0</td>\n",
       "      <td>0.0</td>\n",
       "      <td>NaN</td>\n",
       "      <td>3.0</td>\n",
       "      <td>449.0</td>\n",
       "      <td>429.0</td>\n",
       "    </tr>\n",
       "    <tr>\n",
       "      <th>20507</th>\n",
       "      <td>12</td>\n",
       "      <td>5950000.0</td>\n",
       "      <td>60.0</td>\n",
       "      <td>2018-02-19T00:00:00</td>\n",
       "      <td>2</td>\n",
       "      <td>22.6</td>\n",
       "      <td>14.0</td>\n",
       "      <td>35.0</td>\n",
       "      <td>11</td>\n",
       "      <td>False</td>\n",
       "      <td>...</td>\n",
       "      <td>13.0</td>\n",
       "      <td>1.0</td>\n",
       "      <td>Санкт-Петербург</td>\n",
       "      <td>27028.0</td>\n",
       "      <td>12570.0</td>\n",
       "      <td>0.0</td>\n",
       "      <td>NaN</td>\n",
       "      <td>0.0</td>\n",
       "      <td>NaN</td>\n",
       "      <td>40.0</td>\n",
       "    </tr>\n",
       "    <tr>\n",
       "      <th>21377</th>\n",
       "      <td>19</td>\n",
       "      <td>4900000.0</td>\n",
       "      <td>42.0</td>\n",
       "      <td>2017-04-18T00:00:00</td>\n",
       "      <td>1</td>\n",
       "      <td>27.5</td>\n",
       "      <td>24.0</td>\n",
       "      <td>37.7</td>\n",
       "      <td>19</td>\n",
       "      <td>False</td>\n",
       "      <td>...</td>\n",
       "      <td>11.0</td>\n",
       "      <td>2.0</td>\n",
       "      <td>Санкт-Петербург</td>\n",
       "      <td>42742.0</td>\n",
       "      <td>9760.0</td>\n",
       "      <td>0.0</td>\n",
       "      <td>NaN</td>\n",
       "      <td>0.0</td>\n",
       "      <td>NaN</td>\n",
       "      <td>61.0</td>\n",
       "    </tr>\n",
       "    <tr>\n",
       "      <th>21824</th>\n",
       "      <td>20</td>\n",
       "      <td>2450000.0</td>\n",
       "      <td>44.0</td>\n",
       "      <td>2019-02-12T00:00:00</td>\n",
       "      <td>2</td>\n",
       "      <td>27.0</td>\n",
       "      <td>2.0</td>\n",
       "      <td>38.0</td>\n",
       "      <td>2</td>\n",
       "      <td>False</td>\n",
       "      <td>...</td>\n",
       "      <td>8.6</td>\n",
       "      <td>2.0</td>\n",
       "      <td>городской поселок Большая Ижора</td>\n",
       "      <td>NaN</td>\n",
       "      <td>NaN</td>\n",
       "      <td>NaN</td>\n",
       "      <td>NaN</td>\n",
       "      <td>NaN</td>\n",
       "      <td>NaN</td>\n",
       "      <td>NaN</td>\n",
       "    </tr>\n",
       "    <tr>\n",
       "      <th>22309</th>\n",
       "      <td>20</td>\n",
       "      <td>5300000.0</td>\n",
       "      <td>45.0</td>\n",
       "      <td>2017-09-30T00:00:00</td>\n",
       "      <td>1</td>\n",
       "      <td>10.3</td>\n",
       "      <td>16.0</td>\n",
       "      <td>15.5</td>\n",
       "      <td>15</td>\n",
       "      <td>False</td>\n",
       "      <td>...</td>\n",
       "      <td>NaN</td>\n",
       "      <td>0.0</td>\n",
       "      <td>Санкт-Петербург</td>\n",
       "      <td>36353.0</td>\n",
       "      <td>11936.0</td>\n",
       "      <td>2.0</td>\n",
       "      <td>440.0</td>\n",
       "      <td>2.0</td>\n",
       "      <td>450.0</td>\n",
       "      <td>136.0</td>\n",
       "    </tr>\n",
       "    <tr>\n",
       "      <th>22336</th>\n",
       "      <td>19</td>\n",
       "      <td>9999000.0</td>\n",
       "      <td>92.4</td>\n",
       "      <td>2019-04-05T00:00:00</td>\n",
       "      <td>2</td>\n",
       "      <td>32.0</td>\n",
       "      <td>6.0</td>\n",
       "      <td>55.5</td>\n",
       "      <td>5</td>\n",
       "      <td>False</td>\n",
       "      <td>...</td>\n",
       "      <td>16.5</td>\n",
       "      <td>4.0</td>\n",
       "      <td>Санкт-Петербург</td>\n",
       "      <td>18838.0</td>\n",
       "      <td>3506.0</td>\n",
       "      <td>0.0</td>\n",
       "      <td>NaN</td>\n",
       "      <td>3.0</td>\n",
       "      <td>511.0</td>\n",
       "      <td>NaN</td>\n",
       "    </tr>\n",
       "    <tr>\n",
       "      <th>22869</th>\n",
       "      <td>0</td>\n",
       "      <td>15000000.0</td>\n",
       "      <td>25.0</td>\n",
       "      <td>2018-07-25T00:00:00</td>\n",
       "      <td>1</td>\n",
       "      <td>100.0</td>\n",
       "      <td>5.0</td>\n",
       "      <td>14.0</td>\n",
       "      <td>5</td>\n",
       "      <td>True</td>\n",
       "      <td>...</td>\n",
       "      <td>11.0</td>\n",
       "      <td>5.0</td>\n",
       "      <td>Санкт-Петербург</td>\n",
       "      <td>34963.0</td>\n",
       "      <td>8283.0</td>\n",
       "      <td>1.0</td>\n",
       "      <td>223.0</td>\n",
       "      <td>3.0</td>\n",
       "      <td>30.0</td>\n",
       "      <td>19.0</td>\n",
       "    </tr>\n",
       "    <tr>\n",
       "      <th>22938</th>\n",
       "      <td>14</td>\n",
       "      <td>4000000.0</td>\n",
       "      <td>98.0</td>\n",
       "      <td>2018-03-15T00:00:00</td>\n",
       "      <td>4</td>\n",
       "      <td>27.0</td>\n",
       "      <td>2.0</td>\n",
       "      <td>73.0</td>\n",
       "      <td>2</td>\n",
       "      <td>True</td>\n",
       "      <td>...</td>\n",
       "      <td>9.0</td>\n",
       "      <td>1.0</td>\n",
       "      <td>деревня Нижняя</td>\n",
       "      <td>NaN</td>\n",
       "      <td>NaN</td>\n",
       "      <td>NaN</td>\n",
       "      <td>NaN</td>\n",
       "      <td>NaN</td>\n",
       "      <td>NaN</td>\n",
       "      <td>27.0</td>\n",
       "    </tr>\n",
       "  </tbody>\n",
       "</table>\n",
       "<p>29 rows × 22 columns</p>\n",
       "</div>"
      ],
      "text/plain": [
       "       total_images  last_price  total_area first_day_exposition  rooms  \\\n",
       "355              17   3600000.0        55.2  2018-07-12T00:00:00      2   \n",
       "3148             14   2900000.0        75.0  2018-11-12T00:00:00      3   \n",
       "3474              3   1400000.0        30.0  2018-03-16T00:00:00      1   \n",
       "4643              0   4300000.0        45.0  2018-02-01T00:00:00      2   \n",
       "4876              7   3000000.0        25.0  2017-09-27T00:00:00      0   \n",
       "5076              0   3850000.0        30.5  2018-10-03T00:00:00      1   \n",
       "5246              0   2500000.0        54.0  2017-10-13T00:00:00      2   \n",
       "5669              4   4400000.0        50.0  2017-08-08T00:00:00      2   \n",
       "5807             17   8150000.0        80.0  2019-01-09T00:00:00      2   \n",
       "5863             20   5650000.0        45.0  2018-08-15T00:00:00      1   \n",
       "6246              6   3300000.0        44.4  2019-03-25T00:00:00      2   \n",
       "9379              5   3950000.0        42.0  2017-03-26T00:00:00      3   \n",
       "10773             8   3800000.0        58.0  2017-10-13T00:00:00      2   \n",
       "11285             0   1950000.0        37.0  2019-03-20T00:00:00      1   \n",
       "14382             9   1700000.0        35.0  2015-12-04T00:00:00      1   \n",
       "15061            19   5600000.0        56.4  2018-05-11T00:00:00      2   \n",
       "15743            14   5600000.0        67.0  2016-11-11T00:00:00      3   \n",
       "17442             0   5350000.0        54.0  2015-06-16T00:00:00      2   \n",
       "17496            15   6700000.0        92.9  2019-02-19T00:00:00      3   \n",
       "17857             1   3900000.0        56.0  2017-12-22T00:00:00      3   \n",
       "18545             6   3750000.0        43.0  2019-03-18T00:00:00      2   \n",
       "20478            11   8000000.0        45.0  2017-07-18T00:00:00      1   \n",
       "20507            12   5950000.0        60.0  2018-02-19T00:00:00      2   \n",
       "21377            19   4900000.0        42.0  2017-04-18T00:00:00      1   \n",
       "21824            20   2450000.0        44.0  2019-02-12T00:00:00      2   \n",
       "22309            20   5300000.0        45.0  2017-09-30T00:00:00      1   \n",
       "22336            19   9999000.0        92.4  2019-04-05T00:00:00      2   \n",
       "22869             0  15000000.0        25.0  2018-07-25T00:00:00      1   \n",
       "22938            14   4000000.0        98.0  2018-03-15T00:00:00      4   \n",
       "\n",
       "       ceiling_height  floors_total  living_area  floor  is_apartment  ...  \\\n",
       "355              25.0           5.0         32.0      2         False  ...   \n",
       "3148             32.0           3.0         53.0      2         False  ...   \n",
       "3474              8.0           5.0         15.3      2         False  ...   \n",
       "4643             25.0           9.0         30.0      2         False  ...   \n",
       "4876             27.0          25.0         17.0     17         False  ...   \n",
       "5076             24.0           5.0         19.5      1          True  ...   \n",
       "5246             27.0           5.0         30.0      3         False  ...   \n",
       "5669             26.0           9.0         21.3      3         False  ...   \n",
       "5807             27.0          36.0         41.0     13         False  ...   \n",
       "5863              8.3          16.0         19.3     14         False  ...   \n",
       "6246             25.0           5.0         31.3      5         False  ...   \n",
       "9379             25.0           5.0         30.0      2         False  ...   \n",
       "10773            27.0          10.0         30.1      3         False  ...   \n",
       "11285            25.0           5.0         17.0      4         False  ...   \n",
       "14382            25.0           5.0         20.0      2         False  ...   \n",
       "15061            14.0          14.0         32.4      5         False  ...   \n",
       "15743             8.0          16.0         41.0      1         False  ...   \n",
       "17442             8.0           5.0         29.0      2         False  ...   \n",
       "17496            20.0          17.0         53.2     14         False  ...   \n",
       "17857            27.0           5.0         33.0      4         False  ...   \n",
       "18545            25.0           5.0         29.0      3         False  ...   \n",
       "20478            27.0           4.0         22.0      2         False  ...   \n",
       "20507            22.6          14.0         35.0     11         False  ...   \n",
       "21377            27.5          24.0         37.7     19         False  ...   \n",
       "21824            27.0           2.0         38.0      2         False  ...   \n",
       "22309            10.3          16.0         15.5     15         False  ...   \n",
       "22336            32.0           6.0         55.5      5         False  ...   \n",
       "22869           100.0           5.0         14.0      5          True  ...   \n",
       "22938            27.0           2.0         73.0      2          True  ...   \n",
       "\n",
       "       kitchen_area  balcony                    locality_name  \\\n",
       "355             NaN      2.0                          Гатчина   \n",
       "3148            8.0      0.0                           Волхов   \n",
       "3474            7.3      0.0                    деревня Нурма   \n",
       "4643            7.0      1.0                  Санкт-Петербург   \n",
       "4876            NaN      2.0                   посёлок Мурино   \n",
       "5076            5.5      0.0                  Санкт-Петербург   \n",
       "5246            9.0      2.0                     деревня Мины   \n",
       "5669            7.0      2.0                  Санкт-Петербург   \n",
       "5807           12.0      5.0                  Санкт-Петербург   \n",
       "5863            8.3      1.0                  Санкт-Петербург   \n",
       "6246            5.7      0.0                        Кронштадт   \n",
       "9379            5.2      0.0                  Санкт-Петербург   \n",
       "10773           8.1      2.0                   посёлок Мурино   \n",
       "11285           9.0      2.0                             Луга   \n",
       "14382           8.0      1.0               поселок Новый Свет   \n",
       "15061           9.1      2.0                  Санкт-Петербург   \n",
       "15743           8.0      0.0                  Санкт-Петербург   \n",
       "17442           NaN      1.0                     Красное Село   \n",
       "17496          12.0      5.0                  Санкт-Петербург   \n",
       "17857           NaN      0.0                  Санкт-Петербург   \n",
       "18545           NaN      0.0                  Санкт-Петербург   \n",
       "20478          10.0      1.0                  Санкт-Петербург   \n",
       "20507          13.0      1.0                  Санкт-Петербург   \n",
       "21377          11.0      2.0                  Санкт-Петербург   \n",
       "21824           8.6      2.0  городской поселок Большая Ижора   \n",
       "22309           NaN      0.0                  Санкт-Петербург   \n",
       "22336          16.5      4.0                  Санкт-Петербург   \n",
       "22869          11.0      5.0                  Санкт-Петербург   \n",
       "22938           9.0      1.0                   деревня Нижняя   \n",
       "\n",
       "       airports_nearest cityCenters_nearest  parks_around3000  parks_nearest  \\\n",
       "355                 NaN                 NaN               NaN            NaN   \n",
       "3148                NaN                 NaN               NaN            NaN   \n",
       "3474                NaN                 NaN               NaN            NaN   \n",
       "4643            12016.0             13256.0               1.0          658.0   \n",
       "4876                NaN                 NaN               NaN            NaN   \n",
       "5076            29686.0              8389.0               3.0          397.0   \n",
       "5246                NaN                 NaN               NaN            NaN   \n",
       "5669            28981.0             10912.0               1.0          305.0   \n",
       "5807            18732.0             20444.0               0.0            NaN   \n",
       "5863            13069.0             10763.0               0.0            NaN   \n",
       "6246            68923.0             50649.0               1.0          417.0   \n",
       "9379            11647.0             13581.0               0.0            NaN   \n",
       "10773               NaN                 NaN               NaN            NaN   \n",
       "11285               NaN                 NaN               NaN            NaN   \n",
       "14382               NaN                 NaN               NaN            NaN   \n",
       "15061           14814.0             13610.0               0.0            NaN   \n",
       "15743           32691.0             11035.0               1.0          723.0   \n",
       "17442           24638.0             28062.0               0.0            NaN   \n",
       "17496           16295.0             15092.0               1.0          967.0   \n",
       "17857           41030.0             15543.0               0.0            NaN   \n",
       "18545           27054.0              8033.0               1.0          540.0   \n",
       "20478           18975.0              3246.0               0.0            NaN   \n",
       "20507           27028.0             12570.0               0.0            NaN   \n",
       "21377           42742.0              9760.0               0.0            NaN   \n",
       "21824               NaN                 NaN               NaN            NaN   \n",
       "22309           36353.0             11936.0               2.0          440.0   \n",
       "22336           18838.0              3506.0               0.0            NaN   \n",
       "22869           34963.0              8283.0               1.0          223.0   \n",
       "22938               NaN                 NaN               NaN            NaN   \n",
       "\n",
       "       ponds_around3000  ponds_nearest  days_exposition  \n",
       "355                 NaN            NaN            259.0  \n",
       "3148                NaN            NaN              NaN  \n",
       "3474                NaN            NaN            125.0  \n",
       "4643                1.0          331.0            181.0  \n",
       "4876                NaN            NaN             28.0  \n",
       "5076                1.0          578.0              7.0  \n",
       "5246                NaN            NaN            540.0  \n",
       "5669                0.0            NaN            267.0  \n",
       "5807                3.0           80.0             38.0  \n",
       "5863                1.0          613.0             14.0  \n",
       "6246                2.0           73.0              NaN  \n",
       "9379                0.0            NaN              NaN  \n",
       "10773               NaN            NaN             71.0  \n",
       "11285               NaN            NaN             18.0  \n",
       "14382               NaN            NaN            206.0  \n",
       "15061               0.0            NaN            315.0  \n",
       "15743               0.0            NaN            474.0  \n",
       "17442               0.0            NaN            469.0  \n",
       "17496               0.0            NaN              NaN  \n",
       "17857               0.0            NaN             73.0  \n",
       "18545               0.0            NaN             12.0  \n",
       "20478               3.0          449.0            429.0  \n",
       "20507               0.0            NaN             40.0  \n",
       "21377               0.0            NaN             61.0  \n",
       "21824               NaN            NaN              NaN  \n",
       "22309               2.0          450.0            136.0  \n",
       "22336               3.0          511.0              NaN  \n",
       "22869               3.0           30.0             19.0  \n",
       "22938               NaN            NaN             27.0  \n",
       "\n",
       "[29 rows x 22 columns]"
      ]
     },
     "execution_count": 19,
     "metadata": {},
     "output_type": "execute_result"
    }
   ],
   "source": [
    "data[data['ceiling_height']>6]"
   ]
  },
  {
   "cell_type": "markdown",
   "metadata": {},
   "source": [
    "Предположим, что некоторые люди забыли разделить числа запятой, например высота потолка не 27 м, а 27. Посчитаем медианное значение и заполним им такие показатели, где высота потолка составляет более 10 м, а также пропущенные значения."
   ]
  },
  {
   "cell_type": "code",
   "execution_count": 20,
   "metadata": {},
   "outputs": [
    {
     "data": {
      "text/plain": [
       "2.65"
      ]
     },
     "execution_count": 20,
     "metadata": {},
     "output_type": "execute_result"
    }
   ],
   "source": [
    "data['ceiling_height'].median()"
   ]
  },
  {
   "cell_type": "code",
   "execution_count": 21,
   "metadata": {},
   "outputs": [],
   "source": [
    "data.loc[data['ceiling_height']>10, 'ceiling_height'] = 2.65"
   ]
  },
  {
   "cell_type": "code",
   "execution_count": 22,
   "metadata": {},
   "outputs": [],
   "source": [
    "data['ceiling_height'] = data['ceiling_height'].fillna(2.65)"
   ]
  },
  {
   "cell_type": "code",
   "execution_count": 23,
   "metadata": {},
   "outputs": [
    {
     "data": {
      "text/plain": [
       "0"
      ]
     },
     "execution_count": 23,
     "metadata": {},
     "output_type": "execute_result"
    }
   ],
   "source": [
    "data['ceiling_height'].isna().sum()"
   ]
  },
  {
   "cell_type": "code",
   "execution_count": 24,
   "metadata": {},
   "outputs": [
    {
     "data": {
      "text/plain": [
       "57.0"
      ]
     },
     "execution_count": 24,
     "metadata": {},
     "output_type": "execute_result"
    }
   ],
   "source": [
    "data['living_area'].median() * 100 // data['total_area'].median()"
   ]
  },
  {
   "cell_type": "code",
   "execution_count": 25,
   "metadata": {},
   "outputs": [
    {
     "data": {
      "text/plain": [
       "18"
      ]
     },
     "execution_count": 25,
     "metadata": {},
     "output_type": "execute_result"
    }
   ],
   "source": [
    "round(data['kitchen_area'].median() / data['total_area'].median() * 100)"
   ]
  },
  {
   "cell_type": "code",
   "execution_count": 26,
   "metadata": {
    "scrolled": true
   },
   "outputs": [
    {
     "data": {
      "text/plain": [
       "25"
      ]
     },
     "execution_count": 26,
     "metadata": {},
     "output_type": "execute_result"
    }
   ],
   "source": [
    "100 - round((data['living_area'].median() + data['kitchen_area'].median())/\n",
    "      data['total_area'].median() * 100)"
   ]
  },
  {
   "cell_type": "markdown",
   "metadata": {},
   "source": [
    "#### Вывод:\n",
    "* В среднем жилая площадь занимает 57% \n",
    "* В среднем площадь кухни заниамет 18%\n",
    "* В среднем нежилая площадь (гардероб, санитарные узлы, различные помещения) занимает 25%"
   ]
  },
  {
   "cell_type": "markdown",
   "metadata": {},
   "source": [
    "Заполним пропуски до данным категориям"
   ]
  },
  {
   "cell_type": "code",
   "execution_count": 27,
   "metadata": {},
   "outputs": [],
   "source": [
    "data['living_area'] = data['living_area'].fillna(data['total_area'] * 0.57)\n",
    "data['kitchen_area'] = data['kitchen_area'].fillna(data['total_area'] * 0.18)"
   ]
  },
  {
   "cell_type": "code",
   "execution_count": 28,
   "metadata": {},
   "outputs": [
    {
     "name": "stdout",
     "output_type": "stream",
     "text": [
      "0\n",
      "0\n"
     ]
    }
   ],
   "source": [
    "print(data['living_area'].isna().sum())\n",
    "print(data['kitchen_area'].isna().sum())"
   ]
  },
  {
   "cell_type": "markdown",
   "metadata": {},
   "source": [
    "Приведём столбец first_day_exposition к читабельному виду. Оставим только год, месяц и день, так как часы, минуты и секунды нам не важны."
   ]
  },
  {
   "cell_type": "code",
   "execution_count": 29,
   "metadata": {},
   "outputs": [],
   "source": [
    "data['first_day_exposition'] = pd.to_datetime(data['first_day_exposition'], format='%Y-%m-%dT')"
   ]
  },
  {
   "cell_type": "code",
   "execution_count": 30,
   "metadata": {},
   "outputs": [
    {
     "data": {
      "text/plain": [
       "0   2019-03-07\n",
       "1   2018-12-04\n",
       "2   2015-08-20\n",
       "3   2015-07-24\n",
       "4   2018-06-19\n",
       "Name: first_day_exposition, dtype: datetime64[ns]"
      ]
     },
     "execution_count": 30,
     "metadata": {},
     "output_type": "execute_result"
    }
   ],
   "source": [
    "data['first_day_exposition'].head()"
   ]
  },
  {
   "cell_type": "markdown",
   "metadata": {},
   "source": [
    " Предположим, что объявления с пропущенными значениями в столбце days_exposition являются актуальными и оставим их без именений. "
   ]
  },
  {
   "cell_type": "markdown",
   "metadata": {},
   "source": [
    "### Посчитайте и добавьте в таблицу новые столбцы"
   ]
  },
  {
   "cell_type": "markdown",
   "metadata": {},
   "source": [
    "* цена одного квадратного метра;\n",
    "* день недели публикации объявления (0 — понедельник, 1 — вторник и так далее);\n",
    "* месяц публикации объявления;\n",
    "* год публикации объявления;\n",
    "* тип этажа квартиры (значения — «первый», «последний», «другой»);\n",
    "* расстояние до центра города в километрах"
   ]
  },
  {
   "cell_type": "code",
   "execution_count": 31,
   "metadata": {},
   "outputs": [],
   "source": [
    "data['price_for_meter'] = data['last_price'] // data['total_area']"
   ]
  },
  {
   "cell_type": "code",
   "execution_count": 32,
   "metadata": {},
   "outputs": [
    {
     "data": {
      "text/html": [
       "<div>\n",
       "<style scoped>\n",
       "    .dataframe tbody tr th:only-of-type {\n",
       "        vertical-align: middle;\n",
       "    }\n",
       "\n",
       "    .dataframe tbody tr th {\n",
       "        vertical-align: top;\n",
       "    }\n",
       "\n",
       "    .dataframe thead th {\n",
       "        text-align: right;\n",
       "    }\n",
       "</style>\n",
       "<table border=\"1\" class=\"dataframe\">\n",
       "  <thead>\n",
       "    <tr style=\"text-align: right;\">\n",
       "      <th></th>\n",
       "      <th>total_images</th>\n",
       "      <th>last_price</th>\n",
       "      <th>total_area</th>\n",
       "      <th>first_day_exposition</th>\n",
       "      <th>rooms</th>\n",
       "      <th>ceiling_height</th>\n",
       "      <th>floors_total</th>\n",
       "      <th>living_area</th>\n",
       "      <th>floor</th>\n",
       "      <th>is_apartment</th>\n",
       "      <th>...</th>\n",
       "      <th>balcony</th>\n",
       "      <th>locality_name</th>\n",
       "      <th>airports_nearest</th>\n",
       "      <th>cityCenters_nearest</th>\n",
       "      <th>parks_around3000</th>\n",
       "      <th>parks_nearest</th>\n",
       "      <th>ponds_around3000</th>\n",
       "      <th>ponds_nearest</th>\n",
       "      <th>days_exposition</th>\n",
       "      <th>price_for_meter</th>\n",
       "    </tr>\n",
       "  </thead>\n",
       "  <tbody>\n",
       "    <tr>\n",
       "      <th>0</th>\n",
       "      <td>20</td>\n",
       "      <td>13000000.0</td>\n",
       "      <td>108.0</td>\n",
       "      <td>2019-03-07</td>\n",
       "      <td>3</td>\n",
       "      <td>2.70</td>\n",
       "      <td>16.0</td>\n",
       "      <td>51.00</td>\n",
       "      <td>8</td>\n",
       "      <td>False</td>\n",
       "      <td>...</td>\n",
       "      <td>0.0</td>\n",
       "      <td>Санкт-Петербург</td>\n",
       "      <td>18863.0</td>\n",
       "      <td>16028.0</td>\n",
       "      <td>1.0</td>\n",
       "      <td>482.0</td>\n",
       "      <td>2.0</td>\n",
       "      <td>755.0</td>\n",
       "      <td>NaN</td>\n",
       "      <td>120370.0</td>\n",
       "    </tr>\n",
       "    <tr>\n",
       "      <th>1</th>\n",
       "      <td>7</td>\n",
       "      <td>3350000.0</td>\n",
       "      <td>40.4</td>\n",
       "      <td>2018-12-04</td>\n",
       "      <td>1</td>\n",
       "      <td>2.65</td>\n",
       "      <td>11.0</td>\n",
       "      <td>18.60</td>\n",
       "      <td>1</td>\n",
       "      <td>False</td>\n",
       "      <td>...</td>\n",
       "      <td>2.0</td>\n",
       "      <td>посёлок Шушары</td>\n",
       "      <td>12817.0</td>\n",
       "      <td>18603.0</td>\n",
       "      <td>0.0</td>\n",
       "      <td>NaN</td>\n",
       "      <td>0.0</td>\n",
       "      <td>NaN</td>\n",
       "      <td>81.0</td>\n",
       "      <td>82920.0</td>\n",
       "    </tr>\n",
       "    <tr>\n",
       "      <th>2</th>\n",
       "      <td>10</td>\n",
       "      <td>5196000.0</td>\n",
       "      <td>56.0</td>\n",
       "      <td>2015-08-20</td>\n",
       "      <td>2</td>\n",
       "      <td>2.65</td>\n",
       "      <td>5.0</td>\n",
       "      <td>34.30</td>\n",
       "      <td>4</td>\n",
       "      <td>False</td>\n",
       "      <td>...</td>\n",
       "      <td>0.0</td>\n",
       "      <td>Санкт-Петербург</td>\n",
       "      <td>21741.0</td>\n",
       "      <td>13933.0</td>\n",
       "      <td>1.0</td>\n",
       "      <td>90.0</td>\n",
       "      <td>2.0</td>\n",
       "      <td>574.0</td>\n",
       "      <td>558.0</td>\n",
       "      <td>92785.0</td>\n",
       "    </tr>\n",
       "    <tr>\n",
       "      <th>3</th>\n",
       "      <td>0</td>\n",
       "      <td>64900000.0</td>\n",
       "      <td>159.0</td>\n",
       "      <td>2015-07-24</td>\n",
       "      <td>3</td>\n",
       "      <td>2.65</td>\n",
       "      <td>14.0</td>\n",
       "      <td>90.63</td>\n",
       "      <td>9</td>\n",
       "      <td>False</td>\n",
       "      <td>...</td>\n",
       "      <td>0.0</td>\n",
       "      <td>Санкт-Петербург</td>\n",
       "      <td>28098.0</td>\n",
       "      <td>6800.0</td>\n",
       "      <td>2.0</td>\n",
       "      <td>84.0</td>\n",
       "      <td>3.0</td>\n",
       "      <td>234.0</td>\n",
       "      <td>424.0</td>\n",
       "      <td>408176.0</td>\n",
       "    </tr>\n",
       "    <tr>\n",
       "      <th>4</th>\n",
       "      <td>2</td>\n",
       "      <td>10000000.0</td>\n",
       "      <td>100.0</td>\n",
       "      <td>2018-06-19</td>\n",
       "      <td>2</td>\n",
       "      <td>3.03</td>\n",
       "      <td>14.0</td>\n",
       "      <td>32.00</td>\n",
       "      <td>13</td>\n",
       "      <td>False</td>\n",
       "      <td>...</td>\n",
       "      <td>0.0</td>\n",
       "      <td>Санкт-Петербург</td>\n",
       "      <td>31856.0</td>\n",
       "      <td>8098.0</td>\n",
       "      <td>2.0</td>\n",
       "      <td>112.0</td>\n",
       "      <td>1.0</td>\n",
       "      <td>48.0</td>\n",
       "      <td>121.0</td>\n",
       "      <td>100000.0</td>\n",
       "    </tr>\n",
       "  </tbody>\n",
       "</table>\n",
       "<p>5 rows × 23 columns</p>\n",
       "</div>"
      ],
      "text/plain": [
       "   total_images  last_price  total_area first_day_exposition  rooms  \\\n",
       "0            20  13000000.0       108.0           2019-03-07      3   \n",
       "1             7   3350000.0        40.4           2018-12-04      1   \n",
       "2            10   5196000.0        56.0           2015-08-20      2   \n",
       "3             0  64900000.0       159.0           2015-07-24      3   \n",
       "4             2  10000000.0       100.0           2018-06-19      2   \n",
       "\n",
       "   ceiling_height  floors_total  living_area  floor  is_apartment  ...  \\\n",
       "0            2.70          16.0        51.00      8         False  ...   \n",
       "1            2.65          11.0        18.60      1         False  ...   \n",
       "2            2.65           5.0        34.30      4         False  ...   \n",
       "3            2.65          14.0        90.63      9         False  ...   \n",
       "4            3.03          14.0        32.00     13         False  ...   \n",
       "\n",
       "   balcony    locality_name  airports_nearest  cityCenters_nearest  \\\n",
       "0      0.0  Санкт-Петербург           18863.0              16028.0   \n",
       "1      2.0   посёлок Шушары           12817.0              18603.0   \n",
       "2      0.0  Санкт-Петербург           21741.0              13933.0   \n",
       "3      0.0  Санкт-Петербург           28098.0               6800.0   \n",
       "4      0.0  Санкт-Петербург           31856.0               8098.0   \n",
       "\n",
       "  parks_around3000  parks_nearest  ponds_around3000  ponds_nearest  \\\n",
       "0              1.0          482.0               2.0          755.0   \n",
       "1              0.0            NaN               0.0            NaN   \n",
       "2              1.0           90.0               2.0          574.0   \n",
       "3              2.0           84.0               3.0          234.0   \n",
       "4              2.0          112.0               1.0           48.0   \n",
       "\n",
       "   days_exposition  price_for_meter  \n",
       "0              NaN         120370.0  \n",
       "1             81.0          82920.0  \n",
       "2            558.0          92785.0  \n",
       "3            424.0         408176.0  \n",
       "4            121.0         100000.0  \n",
       "\n",
       "[5 rows x 23 columns]"
      ]
     },
     "execution_count": 32,
     "metadata": {},
     "output_type": "execute_result"
    }
   ],
   "source": [
    "data.head()"
   ]
  },
  {
   "cell_type": "code",
   "execution_count": 33,
   "metadata": {},
   "outputs": [],
   "source": [
    "data['pub_day'] = data['first_day_exposition'].dt.weekday\n",
    "data['pub_month'] = data['first_day_exposition'].dt.month\n",
    "data['pub_year'] = data['first_day_exposition'].dt.year"
   ]
  },
  {
   "cell_type": "code",
   "execution_count": 34,
   "metadata": {},
   "outputs": [
    {
     "data": {
      "text/html": [
       "<div>\n",
       "<style scoped>\n",
       "    .dataframe tbody tr th:only-of-type {\n",
       "        vertical-align: middle;\n",
       "    }\n",
       "\n",
       "    .dataframe tbody tr th {\n",
       "        vertical-align: top;\n",
       "    }\n",
       "\n",
       "    .dataframe thead th {\n",
       "        text-align: right;\n",
       "    }\n",
       "</style>\n",
       "<table border=\"1\" class=\"dataframe\">\n",
       "  <thead>\n",
       "    <tr style=\"text-align: right;\">\n",
       "      <th></th>\n",
       "      <th>total_images</th>\n",
       "      <th>last_price</th>\n",
       "      <th>total_area</th>\n",
       "      <th>first_day_exposition</th>\n",
       "      <th>rooms</th>\n",
       "      <th>ceiling_height</th>\n",
       "      <th>floors_total</th>\n",
       "      <th>living_area</th>\n",
       "      <th>floor</th>\n",
       "      <th>is_apartment</th>\n",
       "      <th>...</th>\n",
       "      <th>cityCenters_nearest</th>\n",
       "      <th>parks_around3000</th>\n",
       "      <th>parks_nearest</th>\n",
       "      <th>ponds_around3000</th>\n",
       "      <th>ponds_nearest</th>\n",
       "      <th>days_exposition</th>\n",
       "      <th>price_for_meter</th>\n",
       "      <th>pub_day</th>\n",
       "      <th>pub_month</th>\n",
       "      <th>pub_year</th>\n",
       "    </tr>\n",
       "  </thead>\n",
       "  <tbody>\n",
       "    <tr>\n",
       "      <th>0</th>\n",
       "      <td>20</td>\n",
       "      <td>13000000.0</td>\n",
       "      <td>108.0</td>\n",
       "      <td>2019-03-07</td>\n",
       "      <td>3</td>\n",
       "      <td>2.70</td>\n",
       "      <td>16.0</td>\n",
       "      <td>51.00</td>\n",
       "      <td>8</td>\n",
       "      <td>False</td>\n",
       "      <td>...</td>\n",
       "      <td>16028.0</td>\n",
       "      <td>1.0</td>\n",
       "      <td>482.0</td>\n",
       "      <td>2.0</td>\n",
       "      <td>755.0</td>\n",
       "      <td>NaN</td>\n",
       "      <td>120370.0</td>\n",
       "      <td>3</td>\n",
       "      <td>3</td>\n",
       "      <td>2019</td>\n",
       "    </tr>\n",
       "    <tr>\n",
       "      <th>1</th>\n",
       "      <td>7</td>\n",
       "      <td>3350000.0</td>\n",
       "      <td>40.4</td>\n",
       "      <td>2018-12-04</td>\n",
       "      <td>1</td>\n",
       "      <td>2.65</td>\n",
       "      <td>11.0</td>\n",
       "      <td>18.60</td>\n",
       "      <td>1</td>\n",
       "      <td>False</td>\n",
       "      <td>...</td>\n",
       "      <td>18603.0</td>\n",
       "      <td>0.0</td>\n",
       "      <td>NaN</td>\n",
       "      <td>0.0</td>\n",
       "      <td>NaN</td>\n",
       "      <td>81.0</td>\n",
       "      <td>82920.0</td>\n",
       "      <td>1</td>\n",
       "      <td>12</td>\n",
       "      <td>2018</td>\n",
       "    </tr>\n",
       "    <tr>\n",
       "      <th>2</th>\n",
       "      <td>10</td>\n",
       "      <td>5196000.0</td>\n",
       "      <td>56.0</td>\n",
       "      <td>2015-08-20</td>\n",
       "      <td>2</td>\n",
       "      <td>2.65</td>\n",
       "      <td>5.0</td>\n",
       "      <td>34.30</td>\n",
       "      <td>4</td>\n",
       "      <td>False</td>\n",
       "      <td>...</td>\n",
       "      <td>13933.0</td>\n",
       "      <td>1.0</td>\n",
       "      <td>90.0</td>\n",
       "      <td>2.0</td>\n",
       "      <td>574.0</td>\n",
       "      <td>558.0</td>\n",
       "      <td>92785.0</td>\n",
       "      <td>3</td>\n",
       "      <td>8</td>\n",
       "      <td>2015</td>\n",
       "    </tr>\n",
       "    <tr>\n",
       "      <th>3</th>\n",
       "      <td>0</td>\n",
       "      <td>64900000.0</td>\n",
       "      <td>159.0</td>\n",
       "      <td>2015-07-24</td>\n",
       "      <td>3</td>\n",
       "      <td>2.65</td>\n",
       "      <td>14.0</td>\n",
       "      <td>90.63</td>\n",
       "      <td>9</td>\n",
       "      <td>False</td>\n",
       "      <td>...</td>\n",
       "      <td>6800.0</td>\n",
       "      <td>2.0</td>\n",
       "      <td>84.0</td>\n",
       "      <td>3.0</td>\n",
       "      <td>234.0</td>\n",
       "      <td>424.0</td>\n",
       "      <td>408176.0</td>\n",
       "      <td>4</td>\n",
       "      <td>7</td>\n",
       "      <td>2015</td>\n",
       "    </tr>\n",
       "    <tr>\n",
       "      <th>4</th>\n",
       "      <td>2</td>\n",
       "      <td>10000000.0</td>\n",
       "      <td>100.0</td>\n",
       "      <td>2018-06-19</td>\n",
       "      <td>2</td>\n",
       "      <td>3.03</td>\n",
       "      <td>14.0</td>\n",
       "      <td>32.00</td>\n",
       "      <td>13</td>\n",
       "      <td>False</td>\n",
       "      <td>...</td>\n",
       "      <td>8098.0</td>\n",
       "      <td>2.0</td>\n",
       "      <td>112.0</td>\n",
       "      <td>1.0</td>\n",
       "      <td>48.0</td>\n",
       "      <td>121.0</td>\n",
       "      <td>100000.0</td>\n",
       "      <td>1</td>\n",
       "      <td>6</td>\n",
       "      <td>2018</td>\n",
       "    </tr>\n",
       "  </tbody>\n",
       "</table>\n",
       "<p>5 rows × 26 columns</p>\n",
       "</div>"
      ],
      "text/plain": [
       "   total_images  last_price  total_area first_day_exposition  rooms  \\\n",
       "0            20  13000000.0       108.0           2019-03-07      3   \n",
       "1             7   3350000.0        40.4           2018-12-04      1   \n",
       "2            10   5196000.0        56.0           2015-08-20      2   \n",
       "3             0  64900000.0       159.0           2015-07-24      3   \n",
       "4             2  10000000.0       100.0           2018-06-19      2   \n",
       "\n",
       "   ceiling_height  floors_total  living_area  floor  is_apartment  ...  \\\n",
       "0            2.70          16.0        51.00      8         False  ...   \n",
       "1            2.65          11.0        18.60      1         False  ...   \n",
       "2            2.65           5.0        34.30      4         False  ...   \n",
       "3            2.65          14.0        90.63      9         False  ...   \n",
       "4            3.03          14.0        32.00     13         False  ...   \n",
       "\n",
       "   cityCenters_nearest  parks_around3000  parks_nearest  ponds_around3000  \\\n",
       "0              16028.0               1.0          482.0               2.0   \n",
       "1              18603.0               0.0            NaN               0.0   \n",
       "2              13933.0               1.0           90.0               2.0   \n",
       "3               6800.0               2.0           84.0               3.0   \n",
       "4               8098.0               2.0          112.0               1.0   \n",
       "\n",
       "  ponds_nearest  days_exposition  price_for_meter  pub_day  pub_month  \\\n",
       "0         755.0              NaN         120370.0        3          3   \n",
       "1           NaN             81.0          82920.0        1         12   \n",
       "2         574.0            558.0          92785.0        3          8   \n",
       "3         234.0            424.0         408176.0        4          7   \n",
       "4          48.0            121.0         100000.0        1          6   \n",
       "\n",
       "   pub_year  \n",
       "0      2019  \n",
       "1      2018  \n",
       "2      2015  \n",
       "3      2015  \n",
       "4      2018  \n",
       "\n",
       "[5 rows x 26 columns]"
      ]
     },
     "execution_count": 34,
     "metadata": {},
     "output_type": "execute_result"
    }
   ],
   "source": [
    "data.head()"
   ]
  },
  {
   "cell_type": "code",
   "execution_count": 35,
   "metadata": {},
   "outputs": [],
   "source": [
    "data.loc[data['floor']==1, 'floor_type'] = 'первый'\n",
    "data.loc[data['floor']==data['floors_total'], 'floor_type'] = 'последний'\n",
    "data.loc[data['floor_type'].isna(), 'floor_type'] = 'другой'"
   ]
  },
  {
   "cell_type": "code",
   "execution_count": 36,
   "metadata": {},
   "outputs": [
    {
     "data": {
      "text/plain": [
       "другой       17446\n",
       "последний     3361\n",
       "первый        2892\n",
       "Name: floor_type, dtype: int64"
      ]
     },
     "execution_count": 36,
     "metadata": {},
     "output_type": "execute_result"
    }
   ],
   "source": [
    "data['floor_type'].value_counts()"
   ]
  },
  {
   "cell_type": "code",
   "execution_count": 37,
   "metadata": {},
   "outputs": [
    {
     "data": {
      "text/html": [
       "<div>\n",
       "<style scoped>\n",
       "    .dataframe tbody tr th:only-of-type {\n",
       "        vertical-align: middle;\n",
       "    }\n",
       "\n",
       "    .dataframe tbody tr th {\n",
       "        vertical-align: top;\n",
       "    }\n",
       "\n",
       "    .dataframe thead th {\n",
       "        text-align: right;\n",
       "    }\n",
       "</style>\n",
       "<table border=\"1\" class=\"dataframe\">\n",
       "  <thead>\n",
       "    <tr style=\"text-align: right;\">\n",
       "      <th></th>\n",
       "      <th>total_images</th>\n",
       "      <th>last_price</th>\n",
       "      <th>total_area</th>\n",
       "      <th>first_day_exposition</th>\n",
       "      <th>rooms</th>\n",
       "      <th>ceiling_height</th>\n",
       "      <th>floors_total</th>\n",
       "      <th>living_area</th>\n",
       "      <th>floor</th>\n",
       "      <th>is_apartment</th>\n",
       "      <th>...</th>\n",
       "      <th>parks_around3000</th>\n",
       "      <th>parks_nearest</th>\n",
       "      <th>ponds_around3000</th>\n",
       "      <th>ponds_nearest</th>\n",
       "      <th>days_exposition</th>\n",
       "      <th>price_for_meter</th>\n",
       "      <th>pub_day</th>\n",
       "      <th>pub_month</th>\n",
       "      <th>pub_year</th>\n",
       "      <th>floor_type</th>\n",
       "    </tr>\n",
       "  </thead>\n",
       "  <tbody>\n",
       "    <tr>\n",
       "      <th>0</th>\n",
       "      <td>20</td>\n",
       "      <td>13000000.0</td>\n",
       "      <td>108.0</td>\n",
       "      <td>2019-03-07</td>\n",
       "      <td>3</td>\n",
       "      <td>2.70</td>\n",
       "      <td>16.0</td>\n",
       "      <td>51.00</td>\n",
       "      <td>8</td>\n",
       "      <td>False</td>\n",
       "      <td>...</td>\n",
       "      <td>1.0</td>\n",
       "      <td>482.0</td>\n",
       "      <td>2.0</td>\n",
       "      <td>755.0</td>\n",
       "      <td>NaN</td>\n",
       "      <td>120370.0</td>\n",
       "      <td>3</td>\n",
       "      <td>3</td>\n",
       "      <td>2019</td>\n",
       "      <td>другой</td>\n",
       "    </tr>\n",
       "    <tr>\n",
       "      <th>1</th>\n",
       "      <td>7</td>\n",
       "      <td>3350000.0</td>\n",
       "      <td>40.4</td>\n",
       "      <td>2018-12-04</td>\n",
       "      <td>1</td>\n",
       "      <td>2.65</td>\n",
       "      <td>11.0</td>\n",
       "      <td>18.60</td>\n",
       "      <td>1</td>\n",
       "      <td>False</td>\n",
       "      <td>...</td>\n",
       "      <td>0.0</td>\n",
       "      <td>NaN</td>\n",
       "      <td>0.0</td>\n",
       "      <td>NaN</td>\n",
       "      <td>81.0</td>\n",
       "      <td>82920.0</td>\n",
       "      <td>1</td>\n",
       "      <td>12</td>\n",
       "      <td>2018</td>\n",
       "      <td>первый</td>\n",
       "    </tr>\n",
       "    <tr>\n",
       "      <th>2</th>\n",
       "      <td>10</td>\n",
       "      <td>5196000.0</td>\n",
       "      <td>56.0</td>\n",
       "      <td>2015-08-20</td>\n",
       "      <td>2</td>\n",
       "      <td>2.65</td>\n",
       "      <td>5.0</td>\n",
       "      <td>34.30</td>\n",
       "      <td>4</td>\n",
       "      <td>False</td>\n",
       "      <td>...</td>\n",
       "      <td>1.0</td>\n",
       "      <td>90.0</td>\n",
       "      <td>2.0</td>\n",
       "      <td>574.0</td>\n",
       "      <td>558.0</td>\n",
       "      <td>92785.0</td>\n",
       "      <td>3</td>\n",
       "      <td>8</td>\n",
       "      <td>2015</td>\n",
       "      <td>другой</td>\n",
       "    </tr>\n",
       "    <tr>\n",
       "      <th>3</th>\n",
       "      <td>0</td>\n",
       "      <td>64900000.0</td>\n",
       "      <td>159.0</td>\n",
       "      <td>2015-07-24</td>\n",
       "      <td>3</td>\n",
       "      <td>2.65</td>\n",
       "      <td>14.0</td>\n",
       "      <td>90.63</td>\n",
       "      <td>9</td>\n",
       "      <td>False</td>\n",
       "      <td>...</td>\n",
       "      <td>2.0</td>\n",
       "      <td>84.0</td>\n",
       "      <td>3.0</td>\n",
       "      <td>234.0</td>\n",
       "      <td>424.0</td>\n",
       "      <td>408176.0</td>\n",
       "      <td>4</td>\n",
       "      <td>7</td>\n",
       "      <td>2015</td>\n",
       "      <td>другой</td>\n",
       "    </tr>\n",
       "    <tr>\n",
       "      <th>4</th>\n",
       "      <td>2</td>\n",
       "      <td>10000000.0</td>\n",
       "      <td>100.0</td>\n",
       "      <td>2018-06-19</td>\n",
       "      <td>2</td>\n",
       "      <td>3.03</td>\n",
       "      <td>14.0</td>\n",
       "      <td>32.00</td>\n",
       "      <td>13</td>\n",
       "      <td>False</td>\n",
       "      <td>...</td>\n",
       "      <td>2.0</td>\n",
       "      <td>112.0</td>\n",
       "      <td>1.0</td>\n",
       "      <td>48.0</td>\n",
       "      <td>121.0</td>\n",
       "      <td>100000.0</td>\n",
       "      <td>1</td>\n",
       "      <td>6</td>\n",
       "      <td>2018</td>\n",
       "      <td>другой</td>\n",
       "    </tr>\n",
       "  </tbody>\n",
       "</table>\n",
       "<p>5 rows × 27 columns</p>\n",
       "</div>"
      ],
      "text/plain": [
       "   total_images  last_price  total_area first_day_exposition  rooms  \\\n",
       "0            20  13000000.0       108.0           2019-03-07      3   \n",
       "1             7   3350000.0        40.4           2018-12-04      1   \n",
       "2            10   5196000.0        56.0           2015-08-20      2   \n",
       "3             0  64900000.0       159.0           2015-07-24      3   \n",
       "4             2  10000000.0       100.0           2018-06-19      2   \n",
       "\n",
       "   ceiling_height  floors_total  living_area  floor  is_apartment  ...  \\\n",
       "0            2.70          16.0        51.00      8         False  ...   \n",
       "1            2.65          11.0        18.60      1         False  ...   \n",
       "2            2.65           5.0        34.30      4         False  ...   \n",
       "3            2.65          14.0        90.63      9         False  ...   \n",
       "4            3.03          14.0        32.00     13         False  ...   \n",
       "\n",
       "   parks_around3000  parks_nearest  ponds_around3000  ponds_nearest  \\\n",
       "0               1.0          482.0               2.0          755.0   \n",
       "1               0.0            NaN               0.0            NaN   \n",
       "2               1.0           90.0               2.0          574.0   \n",
       "3               2.0           84.0               3.0          234.0   \n",
       "4               2.0          112.0               1.0           48.0   \n",
       "\n",
       "  days_exposition  price_for_meter  pub_day  pub_month  pub_year  floor_type  \n",
       "0             NaN         120370.0        3          3      2019      другой  \n",
       "1            81.0          82920.0        1         12      2018      первый  \n",
       "2           558.0          92785.0        3          8      2015      другой  \n",
       "3           424.0         408176.0        4          7      2015      другой  \n",
       "4           121.0         100000.0        1          6      2018      другой  \n",
       "\n",
       "[5 rows x 27 columns]"
      ]
     },
     "execution_count": 37,
     "metadata": {},
     "output_type": "execute_result"
    }
   ],
   "source": [
    "data.head()"
   ]
  },
  {
   "cell_type": "code",
   "execution_count": 38,
   "metadata": {},
   "outputs": [
    {
     "data": {
      "text/plain": [
       "0    16028.0\n",
       "1    18603.0\n",
       "2    13933.0\n",
       "3     6800.0\n",
       "4     8098.0\n",
       "Name: cityCenters_nearest, dtype: float64"
      ]
     },
     "execution_count": 38,
     "metadata": {},
     "output_type": "execute_result"
    }
   ],
   "source": [
    "data['cityCenters_nearest'].head()"
   ]
  },
  {
   "cell_type": "code",
   "execution_count": 39,
   "metadata": {},
   "outputs": [],
   "source": [
    "data['km_to_center'] = data['cityCenters_nearest'] // 1000"
   ]
  },
  {
   "cell_type": "code",
   "execution_count": 40,
   "metadata": {},
   "outputs": [
    {
     "data": {
      "text/html": [
       "<div>\n",
       "<style scoped>\n",
       "    .dataframe tbody tr th:only-of-type {\n",
       "        vertical-align: middle;\n",
       "    }\n",
       "\n",
       "    .dataframe tbody tr th {\n",
       "        vertical-align: top;\n",
       "    }\n",
       "\n",
       "    .dataframe thead th {\n",
       "        text-align: right;\n",
       "    }\n",
       "</style>\n",
       "<table border=\"1\" class=\"dataframe\">\n",
       "  <thead>\n",
       "    <tr style=\"text-align: right;\">\n",
       "      <th></th>\n",
       "      <th>total_images</th>\n",
       "      <th>last_price</th>\n",
       "      <th>total_area</th>\n",
       "      <th>first_day_exposition</th>\n",
       "      <th>rooms</th>\n",
       "      <th>ceiling_height</th>\n",
       "      <th>floors_total</th>\n",
       "      <th>living_area</th>\n",
       "      <th>floor</th>\n",
       "      <th>is_apartment</th>\n",
       "      <th>...</th>\n",
       "      <th>parks_nearest</th>\n",
       "      <th>ponds_around3000</th>\n",
       "      <th>ponds_nearest</th>\n",
       "      <th>days_exposition</th>\n",
       "      <th>price_for_meter</th>\n",
       "      <th>pub_day</th>\n",
       "      <th>pub_month</th>\n",
       "      <th>pub_year</th>\n",
       "      <th>floor_type</th>\n",
       "      <th>km_to_center</th>\n",
       "    </tr>\n",
       "  </thead>\n",
       "  <tbody>\n",
       "    <tr>\n",
       "      <th>0</th>\n",
       "      <td>20</td>\n",
       "      <td>13000000.0</td>\n",
       "      <td>108.0</td>\n",
       "      <td>2019-03-07</td>\n",
       "      <td>3</td>\n",
       "      <td>2.70</td>\n",
       "      <td>16.0</td>\n",
       "      <td>51.00</td>\n",
       "      <td>8</td>\n",
       "      <td>False</td>\n",
       "      <td>...</td>\n",
       "      <td>482.0</td>\n",
       "      <td>2.0</td>\n",
       "      <td>755.0</td>\n",
       "      <td>NaN</td>\n",
       "      <td>120370.0</td>\n",
       "      <td>3</td>\n",
       "      <td>3</td>\n",
       "      <td>2019</td>\n",
       "      <td>другой</td>\n",
       "      <td>16.0</td>\n",
       "    </tr>\n",
       "    <tr>\n",
       "      <th>1</th>\n",
       "      <td>7</td>\n",
       "      <td>3350000.0</td>\n",
       "      <td>40.4</td>\n",
       "      <td>2018-12-04</td>\n",
       "      <td>1</td>\n",
       "      <td>2.65</td>\n",
       "      <td>11.0</td>\n",
       "      <td>18.60</td>\n",
       "      <td>1</td>\n",
       "      <td>False</td>\n",
       "      <td>...</td>\n",
       "      <td>NaN</td>\n",
       "      <td>0.0</td>\n",
       "      <td>NaN</td>\n",
       "      <td>81.0</td>\n",
       "      <td>82920.0</td>\n",
       "      <td>1</td>\n",
       "      <td>12</td>\n",
       "      <td>2018</td>\n",
       "      <td>первый</td>\n",
       "      <td>18.0</td>\n",
       "    </tr>\n",
       "    <tr>\n",
       "      <th>2</th>\n",
       "      <td>10</td>\n",
       "      <td>5196000.0</td>\n",
       "      <td>56.0</td>\n",
       "      <td>2015-08-20</td>\n",
       "      <td>2</td>\n",
       "      <td>2.65</td>\n",
       "      <td>5.0</td>\n",
       "      <td>34.30</td>\n",
       "      <td>4</td>\n",
       "      <td>False</td>\n",
       "      <td>...</td>\n",
       "      <td>90.0</td>\n",
       "      <td>2.0</td>\n",
       "      <td>574.0</td>\n",
       "      <td>558.0</td>\n",
       "      <td>92785.0</td>\n",
       "      <td>3</td>\n",
       "      <td>8</td>\n",
       "      <td>2015</td>\n",
       "      <td>другой</td>\n",
       "      <td>13.0</td>\n",
       "    </tr>\n",
       "    <tr>\n",
       "      <th>3</th>\n",
       "      <td>0</td>\n",
       "      <td>64900000.0</td>\n",
       "      <td>159.0</td>\n",
       "      <td>2015-07-24</td>\n",
       "      <td>3</td>\n",
       "      <td>2.65</td>\n",
       "      <td>14.0</td>\n",
       "      <td>90.63</td>\n",
       "      <td>9</td>\n",
       "      <td>False</td>\n",
       "      <td>...</td>\n",
       "      <td>84.0</td>\n",
       "      <td>3.0</td>\n",
       "      <td>234.0</td>\n",
       "      <td>424.0</td>\n",
       "      <td>408176.0</td>\n",
       "      <td>4</td>\n",
       "      <td>7</td>\n",
       "      <td>2015</td>\n",
       "      <td>другой</td>\n",
       "      <td>6.0</td>\n",
       "    </tr>\n",
       "    <tr>\n",
       "      <th>4</th>\n",
       "      <td>2</td>\n",
       "      <td>10000000.0</td>\n",
       "      <td>100.0</td>\n",
       "      <td>2018-06-19</td>\n",
       "      <td>2</td>\n",
       "      <td>3.03</td>\n",
       "      <td>14.0</td>\n",
       "      <td>32.00</td>\n",
       "      <td>13</td>\n",
       "      <td>False</td>\n",
       "      <td>...</td>\n",
       "      <td>112.0</td>\n",
       "      <td>1.0</td>\n",
       "      <td>48.0</td>\n",
       "      <td>121.0</td>\n",
       "      <td>100000.0</td>\n",
       "      <td>1</td>\n",
       "      <td>6</td>\n",
       "      <td>2018</td>\n",
       "      <td>другой</td>\n",
       "      <td>8.0</td>\n",
       "    </tr>\n",
       "  </tbody>\n",
       "</table>\n",
       "<p>5 rows × 28 columns</p>\n",
       "</div>"
      ],
      "text/plain": [
       "   total_images  last_price  total_area first_day_exposition  rooms  \\\n",
       "0            20  13000000.0       108.0           2019-03-07      3   \n",
       "1             7   3350000.0        40.4           2018-12-04      1   \n",
       "2            10   5196000.0        56.0           2015-08-20      2   \n",
       "3             0  64900000.0       159.0           2015-07-24      3   \n",
       "4             2  10000000.0       100.0           2018-06-19      2   \n",
       "\n",
       "   ceiling_height  floors_total  living_area  floor  is_apartment  ...  \\\n",
       "0            2.70          16.0        51.00      8         False  ...   \n",
       "1            2.65          11.0        18.60      1         False  ...   \n",
       "2            2.65           5.0        34.30      4         False  ...   \n",
       "3            2.65          14.0        90.63      9         False  ...   \n",
       "4            3.03          14.0        32.00     13         False  ...   \n",
       "\n",
       "   parks_nearest  ponds_around3000  ponds_nearest  days_exposition  \\\n",
       "0          482.0               2.0          755.0              NaN   \n",
       "1            NaN               0.0            NaN             81.0   \n",
       "2           90.0               2.0          574.0            558.0   \n",
       "3           84.0               3.0          234.0            424.0   \n",
       "4          112.0               1.0           48.0            121.0   \n",
       "\n",
       "  price_for_meter  pub_day  pub_month  pub_year  floor_type  km_to_center  \n",
       "0        120370.0        3          3      2019      другой          16.0  \n",
       "1         82920.0        1         12      2018      первый          18.0  \n",
       "2         92785.0        3          8      2015      другой          13.0  \n",
       "3        408176.0        4          7      2015      другой           6.0  \n",
       "4        100000.0        1          6      2018      другой           8.0  \n",
       "\n",
       "[5 rows x 28 columns]"
      ]
     },
     "execution_count": 40,
     "metadata": {},
     "output_type": "execute_result"
    }
   ],
   "source": [
    "data.head()"
   ]
  },
  {
   "cell_type": "markdown",
   "metadata": {},
   "source": [
    "### Проведите исследовательский анализ данных"
   ]
  },
  {
   "cell_type": "markdown",
   "metadata": {},
   "source": [
    "Построим гистограммы, чтобы изучить количество комнат, площадь квартир, высоту потолков и цены"
   ]
  },
  {
   "cell_type": "code",
   "execution_count": 41,
   "metadata": {},
   "outputs": [
    {
     "data": {
      "image/png": "[encoded data removed]",
      "text/plain": [
       "<Figure size 432x288 with 1 Axes>"
      ]
     },
     "metadata": {
      "needs_background": "light"
     },
     "output_type": "display_data"
    }
   ],
   "source": [
    "plt.title('Количество комнат')\n",
    "data['rooms'].hist(bins=10, range=(0, 10))\n",
    "plt.show()"
   ]
  },
  {
   "cell_type": "markdown",
   "metadata": {},
   "source": [
    "Делаем вывод, что больше всего объявлений квартир с 1-3 комнатами."
   ]
  },
  {
   "cell_type": "code",
   "execution_count": 42,
   "metadata": {},
   "outputs": [
    {
     "data": {
      "image/png": "[encoded data removed]",
      "text/plain": [
       "<Figure size 432x288 with 1 Axes>"
      ]
     },
     "metadata": {
      "needs_background": "light"
     },
     "output_type": "display_data"
    }
   ],
   "source": [
    "plt.title('Общая площадь')\n",
    "data['total_area'].hist(bins=20, range=(0, 400))\n",
    "plt.show()"
   ]
  },
  {
   "cell_type": "markdown",
   "metadata": {},
   "source": [
    "Наибольшее количество объвлений с общей площадью 50 кв.м."
   ]
  },
  {
   "cell_type": "code",
   "execution_count": 43,
   "metadata": {},
   "outputs": [
    {
     "data": {
      "image/png": "[encoded data removed]",
      "text/plain": [
       "<Figure size 432x288 with 1 Axes>"
      ]
     },
     "metadata": {
      "needs_background": "light"
     },
     "output_type": "display_data"
    }
   ],
   "source": [
    "plt.title('Высота потолков')\n",
    "data['ceiling_height'].hist()\n",
    "plt.show()"
   ]
  },
  {
   "cell_type": "markdown",
   "metadata": {},
   "source": [
    "Высота потолков в основном составляет 2.5 - 3.2 метра."
   ]
  },
  {
   "cell_type": "code",
   "execution_count": 44,
   "metadata": {},
   "outputs": [
    {
     "data": {
      "image/png": "[encoded data removed]",
      "text/plain": [
       "<Figure size 720x504 with 1 Axes>"
      ]
     },
     "metadata": {
      "needs_background": "light"
     },
     "output_type": "display_data"
    }
   ],
   "source": [
    "plt.title('Цена на момент снятия с публикации')\n",
    "data['last_price'].hist(bins=50, range=(0, 50000000), figsize=(10, 7))\n",
    "plt.show()"
   ]
  },
  {
   "cell_type": "markdown",
   "metadata": {},
   "source": [
    "Сделать однозначные выводы по такому графику будет нелучшим решением, разобьём цены квартир на категории. "
   ]
  },
  {
   "cell_type": "code",
   "execution_count": 45,
   "metadata": {},
   "outputs": [],
   "source": [
    "def category_price(row):\n",
    "    price = row['last_price']\n",
    "    if price < 1000000:\n",
    "        return 'до 1 млн'\n",
    "    if 1000000 <= price < 2000000:\n",
    "        return 'от 1 до 2 млн'\n",
    "    if 2000000 <= price < 3000000:\n",
    "        return 'от 2 до 3 млн'\n",
    "    if 3000000 <= price < 4000000:\n",
    "        return 'от 3 до 4 млн'\n",
    "    if 4000000 <= price < 5000000:\n",
    "        return 'от 4 до 5 млн'\n",
    "    if 5000000 <= price < 6000000:\n",
    "        return 'от 5 до 6 млн'\n",
    "    if 6000000 <= price < 7000000:\n",
    "        return 'от 6 до 7 млн'\n",
    "    if 7000000 <= price < 8000000:\n",
    "        return 'от 7 до 8 млн'\n",
    "    if 8000000 <= price < 9000000:\n",
    "        return 'от 8 до 9 млн'\n",
    "    if 9000000 <= price <= 10000000:\n",
    "        return 'от 9 до 10 млн'\n",
    "    if price > 10000000:\n",
    "        return 'больше 10 млн'"
   ]
  },
  {
   "cell_type": "code",
   "execution_count": 46,
   "metadata": {},
   "outputs": [],
   "source": [
    "data['category_price'] = data.apply(category_price, axis=1)"
   ]
  },
  {
   "cell_type": "code",
   "execution_count": 47,
   "metadata": {},
   "outputs": [
    {
     "data": {
      "text/plain": [
       "category_price\n",
       "от 3 до 4 млн     4850\n",
       "от 4 до 5 млн     4392\n",
       "от 5 до 6 млн     2993\n",
       "больше 10 млн     2721\n",
       "от 2 до 3 млн     2611\n",
       "от 6 до 7 млн     1933\n",
       "от 7 до 8 млн     1248\n",
       "от 1 до 2 млн     1149\n",
       "от 8 до 9 млн      886\n",
       "от 9 до 10 млн     691\n",
       "до 1 млн           225\n",
       "Name: last_price, dtype: int64"
      ]
     },
     "execution_count": 47,
     "metadata": {},
     "output_type": "execute_result"
    }
   ],
   "source": [
    "data.groupby('category_price')['last_price'].count().sort_values(ascending=False)"
   ]
  },
  {
   "cell_type": "code",
   "execution_count": 48,
   "metadata": {},
   "outputs": [
    {
     "data": {
      "text/html": [
       "<div>\n",
       "<style scoped>\n",
       "    .dataframe tbody tr th:only-of-type {\n",
       "        vertical-align: middle;\n",
       "    }\n",
       "\n",
       "    .dataframe tbody tr th {\n",
       "        vertical-align: top;\n",
       "    }\n",
       "\n",
       "    .dataframe thead th {\n",
       "        text-align: right;\n",
       "    }\n",
       "</style>\n",
       "<table border=\"1\" class=\"dataframe\">\n",
       "  <thead>\n",
       "    <tr style=\"text-align: right;\">\n",
       "      <th></th>\n",
       "      <th>last_price</th>\n",
       "    </tr>\n",
       "    <tr>\n",
       "      <th>category_price</th>\n",
       "      <th></th>\n",
       "    </tr>\n",
       "  </thead>\n",
       "  <tbody>\n",
       "    <tr>\n",
       "      <th>от 3 до 4 млн</th>\n",
       "      <td>4850</td>\n",
       "    </tr>\n",
       "    <tr>\n",
       "      <th>от 4 до 5 млн</th>\n",
       "      <td>4392</td>\n",
       "    </tr>\n",
       "    <tr>\n",
       "      <th>от 5 до 6 млн</th>\n",
       "      <td>2993</td>\n",
       "    </tr>\n",
       "    <tr>\n",
       "      <th>больше 10 млн</th>\n",
       "      <td>2721</td>\n",
       "    </tr>\n",
       "    <tr>\n",
       "      <th>от 2 до 3 млн</th>\n",
       "      <td>2611</td>\n",
       "    </tr>\n",
       "    <tr>\n",
       "      <th>от 6 до 7 млн</th>\n",
       "      <td>1933</td>\n",
       "    </tr>\n",
       "    <tr>\n",
       "      <th>от 7 до 8 млн</th>\n",
       "      <td>1248</td>\n",
       "    </tr>\n",
       "    <tr>\n",
       "      <th>от 1 до 2 млн</th>\n",
       "      <td>1149</td>\n",
       "    </tr>\n",
       "    <tr>\n",
       "      <th>от 8 до 9 млн</th>\n",
       "      <td>886</td>\n",
       "    </tr>\n",
       "    <tr>\n",
       "      <th>от 9 до 10 млн</th>\n",
       "      <td>691</td>\n",
       "    </tr>\n",
       "    <tr>\n",
       "      <th>до 1 млн</th>\n",
       "      <td>225</td>\n",
       "    </tr>\n",
       "  </tbody>\n",
       "</table>\n",
       "</div>"
      ],
      "text/plain": [
       "                last_price\n",
       "category_price            \n",
       "от 3 до 4 млн         4850\n",
       "от 4 до 5 млн         4392\n",
       "от 5 до 6 млн         2993\n",
       "больше 10 млн         2721\n",
       "от 2 до 3 млн         2611\n",
       "от 6 до 7 млн         1933\n",
       "от 7 до 8 млн         1248\n",
       "от 1 до 2 млн         1149\n",
       "от 8 до 9 млн          886\n",
       "от 9 до 10 млн         691\n",
       "до 1 млн               225"
      ]
     },
     "execution_count": 48,
     "metadata": {},
     "output_type": "execute_result"
    }
   ],
   "source": [
    "data.pivot_table(\n",
    "    index='category_price',\n",
    "    values='last_price', \n",
    "    aggfunc='count').sort_values(by='last_price', ascending=False)"
   ]
  },
  {
   "cell_type": "markdown",
   "metadata": {},
   "source": [
    "Делаем вывод, что самые популярные квартиры продаются от 3 до 4 млн рублей и от 4 до 5 млн. "
   ]
  },
  {
   "cell_type": "code",
   "execution_count": 49,
   "metadata": {},
   "outputs": [
    {
     "data": {
      "text/plain": [
       "30.0"
      ]
     },
     "execution_count": 49,
     "metadata": {},
     "output_type": "execute_result"
    }
   ],
   "source": [
    "data['living_area'].median()"
   ]
  },
  {
   "cell_type": "code",
   "execution_count": 50,
   "metadata": {},
   "outputs": [
    {
     "data": {
      "image/png": "[encoded data removed]",
      "text/plain": [
       "<Figure size 432x288 with 1 Axes>"
      ]
     },
     "metadata": {
      "needs_background": "light"
     },
     "output_type": "display_data"
    }
   ],
   "source": [
    "plt.title('Жилая площадь')\n",
    "data['living_area'].hist(bins=20, range=(0, 150))\n",
    "plt.show()"
   ]
  },
  {
   "cell_type": "markdown",
   "metadata": {},
   "source": [
    "Наибольшее количество объявлений с жилой площадью квартир от 15 до 50 кв.м."
   ]
  },
  {
   "cell_type": "code",
   "execution_count": 51,
   "metadata": {},
   "outputs": [
    {
     "data": {
      "image/png": "[encoded data removed]",
      "text/plain": [
       "<Figure size 432x288 with 1 Axes>"
      ]
     },
     "metadata": {
      "needs_background": "light"
     },
     "output_type": "display_data"
    }
   ],
   "source": [
    "plt.title('Площадь кухни')\n",
    "data['kitchen_area'].hist(bins=20, range=(0, 50))\n",
    "plt.show()"
   ]
  },
  {
   "cell_type": "markdown",
   "metadata": {},
   "source": [
    "Наибольшее количество объявлений с площадью кухни от 5 до 15 кв.м."
   ]
  },
  {
   "cell_type": "code",
   "execution_count": 52,
   "metadata": {},
   "outputs": [
    {
     "data": {
      "image/png": "[encoded data removed]",
      "text/plain": [
       "<Figure size 432x288 with 1 Axes>"
      ]
     },
     "metadata": {
      "needs_background": "light"
     },
     "output_type": "display_data"
    }
   ],
   "source": [
    "plt.title('Этаж квартиры')\n",
    "data['floor'].hist(bins=30, range=(0, 30))\n",
    "plt.show()"
   ]
  },
  {
   "cell_type": "markdown",
   "metadata": {},
   "source": [
    " Большинство квартир в объявлениях находятся в пределах 1-6 этажей"
   ]
  },
  {
   "cell_type": "code",
   "execution_count": 53,
   "metadata": {},
   "outputs": [
    {
     "data": {
      "image/png": "[encoded data removed]",
      "text/plain": [
       "<Figure size 432x288 with 1 Axes>"
      ]
     },
     "metadata": {
      "needs_background": "light"
     },
     "output_type": "display_data"
    }
   ],
   "source": [
    "plt.title('Тип этажа')\n",
    "data['floor_type'].hist(bins=5)\n",
    "plt.show()"
   ]
  },
  {
   "cell_type": "markdown",
   "metadata": {},
   "source": [
    "Как видим, этажи со 2 по 6 являются самыми популярными"
   ]
  },
  {
   "cell_type": "code",
   "execution_count": 54,
   "metadata": {},
   "outputs": [
    {
     "data": {
      "image/png": "[encoded data removed]",
      "text/plain": [
       "<Figure size 432x288 with 1 Axes>"
      ]
     },
     "metadata": {
      "needs_background": "light"
     },
     "output_type": "display_data"
    }
   ],
   "source": [
    "plt.title('Всего этажей в доме')\n",
    "data['floors_total'].hist(bins=40, range=(0, 40))\n",
    "plt.show()"
   ]
  },
  {
   "cell_type": "markdown",
   "metadata": {},
   "source": [
    "Большинство квартир находится в 5- и 9-этажных домах"
   ]
  },
  {
   "cell_type": "code",
   "execution_count": 55,
   "metadata": {},
   "outputs": [
    {
     "data": {
      "image/png": "[encoded data removed]",
      "text/plain": [
       "<Figure size 432x288 with 1 Axes>"
      ]
     },
     "metadata": {
      "needs_background": "light"
     },
     "output_type": "display_data"
    }
   ],
   "source": [
    "plt.title('Расстояние до центра города в километрах')\n",
    "data['km_to_center'].hist(bins=50, range=(0, 50))\n",
    "plt.show()"
   ]
  },
  {
   "cell_type": "markdown",
   "metadata": {},
   "source": [
    "Большинство квартир находится в пределах 10-18 км от центра города"
   ]
  },
  {
   "cell_type": "code",
   "execution_count": 56,
   "metadata": {},
   "outputs": [
    {
     "data": {
      "image/png": "[encoded data removed]",
      "text/plain": [
       "<Figure size 432x288 with 1 Axes>"
      ]
     },
     "metadata": {
      "needs_background": "light"
     },
     "output_type": "display_data"
    }
   ],
   "source": [
    "plt.title('Расстояние до ближайшего аэропорта в метрах')\n",
    "data['airports_nearest'].hist(bins=100, range=(0, 100000))\n",
    "plt.show()"
   ]
  },
  {
   "cell_type": "markdown",
   "metadata": {},
   "source": [
    "Большая часть квартир находится в 10-40 км от ближайшего аэропорта"
   ]
  },
  {
   "cell_type": "code",
   "execution_count": 57,
   "metadata": {},
   "outputs": [
    {
     "data": {
      "image/png": "[encoded data removed]",
      "text/plain": [
       "<Figure size 432x288 with 1 Axes>"
      ]
     },
     "metadata": {
      "needs_background": "light"
     },
     "output_type": "display_data"
    }
   ],
   "source": [
    "plt.title('Расстояние до ближайшего парка')\n",
    "data['parks_nearest'].hist(bins=50, range=(0, 3000))\n",
    "plt.show()"
   ]
  },
  {
   "cell_type": "markdown",
   "metadata": {},
   "source": [
    "Большинство квартир находится в пределах 200-700 метров от ближайшего парка"
   ]
  },
  {
   "cell_type": "code",
   "execution_count": 58,
   "metadata": {},
   "outputs": [
    {
     "data": {
      "image/png": "[encoded data removed]",
      "text/plain": [
       "<Figure size 432x288 with 1 Axes>"
      ]
     },
     "metadata": {
      "needs_background": "light"
     },
     "output_type": "display_data"
    }
   ],
   "source": [
    "plt.title('День публикации')\n",
    "data['pub_day'].hist(bins=7, range=(0, 7))\n",
    "plt.show()"
   ]
  },
  {
   "cell_type": "markdown",
   "metadata": {},
   "source": [
    "Большая часть людей выкладывает объявления в будние дни, а именно, в четверг, на выходных тенденция заметно уменьшается. "
   ]
  },
  {
   "cell_type": "code",
   "execution_count": 59,
   "metadata": {},
   "outputs": [
    {
     "data": {
      "image/png": "[encoded data removed]",
      "text/plain": [
       "<Figure size 432x288 with 1 Axes>"
      ]
     },
     "metadata": {
      "needs_background": "light"
     },
     "output_type": "display_data"
    }
   ],
   "source": [
    "plt.title('Месяц публикации')\n",
    "data['pub_month'].hist(bins=12, range=(0, 12))\n",
    "plt.show()"
   ]
  },
  {
   "cell_type": "markdown",
   "metadata": {},
   "source": [
    " Большая часть объявлений приходится на декабрь"
   ]
  },
  {
   "cell_type": "code",
   "execution_count": 60,
   "metadata": {},
   "outputs": [
    {
     "data": {
      "image/png": "[encoded data removed]",
      "text/plain": [
       "<Figure size 432x288 with 1 Axes>"
      ]
     },
     "metadata": {
      "needs_background": "light"
     },
     "output_type": "display_data"
    }
   ],
   "source": [
    "plt.title('Сколько дней было размещено объявление')\n",
    "data['days_exposition'].hist(bins=20)\n",
    "plt.show()"
   ]
  },
  {
   "cell_type": "markdown",
   "metadata": {},
   "source": [
    "* Большая часть квартир продаётся в пределах 100 дней\n",
    "* Рассмотрим взаимосвязь времени продажи и цены"
   ]
  },
  {
   "cell_type": "code",
   "execution_count": 61,
   "metadata": {},
   "outputs": [
    {
     "data": {
      "text/html": [
       "<div>\n",
       "<style scoped>\n",
       "    .dataframe tbody tr th:only-of-type {\n",
       "        vertical-align: middle;\n",
       "    }\n",
       "\n",
       "    .dataframe tbody tr th {\n",
       "        vertical-align: top;\n",
       "    }\n",
       "\n",
       "    .dataframe thead tr th {\n",
       "        text-align: left;\n",
       "    }\n",
       "\n",
       "    .dataframe thead tr:last-of-type th {\n",
       "        text-align: right;\n",
       "    }\n",
       "</style>\n",
       "<table border=\"1\" class=\"dataframe\">\n",
       "  <thead>\n",
       "    <tr>\n",
       "      <th></th>\n",
       "      <th>count</th>\n",
       "      <th>median</th>\n",
       "      <th>mean</th>\n",
       "    </tr>\n",
       "    <tr>\n",
       "      <th></th>\n",
       "      <th>days_exposition</th>\n",
       "      <th>days_exposition</th>\n",
       "      <th>days_exposition</th>\n",
       "    </tr>\n",
       "    <tr>\n",
       "      <th>category_price</th>\n",
       "      <th></th>\n",
       "      <th></th>\n",
       "      <th></th>\n",
       "    </tr>\n",
       "  </thead>\n",
       "  <tbody>\n",
       "    <tr>\n",
       "      <th>больше 10 млн</th>\n",
       "      <td>2042</td>\n",
       "      <td>156.0</td>\n",
       "      <td>271.621939</td>\n",
       "    </tr>\n",
       "    <tr>\n",
       "      <th>до 1 млн</th>\n",
       "      <td>180</td>\n",
       "      <td>82.0</td>\n",
       "      <td>155.888889</td>\n",
       "    </tr>\n",
       "    <tr>\n",
       "      <th>от 1 до 2 млн</th>\n",
       "      <td>946</td>\n",
       "      <td>96.5</td>\n",
       "      <td>175.702960</td>\n",
       "    </tr>\n",
       "    <tr>\n",
       "      <th>от 2 до 3 млн</th>\n",
       "      <td>2354</td>\n",
       "      <td>86.5</td>\n",
       "      <td>162.522940</td>\n",
       "    </tr>\n",
       "    <tr>\n",
       "      <th>от 3 до 4 млн</th>\n",
       "      <td>4489</td>\n",
       "      <td>80.0</td>\n",
       "      <td>158.291602</td>\n",
       "    </tr>\n",
       "    <tr>\n",
       "      <th>от 4 до 5 млн</th>\n",
       "      <td>3950</td>\n",
       "      <td>86.5</td>\n",
       "      <td>160.713924</td>\n",
       "    </tr>\n",
       "    <tr>\n",
       "      <th>от 5 до 6 млн</th>\n",
       "      <td>2573</td>\n",
       "      <td>95.0</td>\n",
       "      <td>182.912942</td>\n",
       "    </tr>\n",
       "    <tr>\n",
       "      <th>от 6 до 7 млн</th>\n",
       "      <td>1665</td>\n",
       "      <td>98.0</td>\n",
       "      <td>182.284084</td>\n",
       "    </tr>\n",
       "    <tr>\n",
       "      <th>от 7 до 8 млн</th>\n",
       "      <td>1035</td>\n",
       "      <td>100.0</td>\n",
       "      <td>179.621256</td>\n",
       "    </tr>\n",
       "    <tr>\n",
       "      <th>от 8 до 9 млн</th>\n",
       "      <td>716</td>\n",
       "      <td>112.5</td>\n",
       "      <td>206.114525</td>\n",
       "    </tr>\n",
       "    <tr>\n",
       "      <th>от 9 до 10 млн</th>\n",
       "      <td>568</td>\n",
       "      <td>121.0</td>\n",
       "      <td>223.507042</td>\n",
       "    </tr>\n",
       "  </tbody>\n",
       "</table>\n",
       "</div>"
      ],
      "text/plain": [
       "                         count          median            mean\n",
       "               days_exposition days_exposition days_exposition\n",
       "category_price                                                \n",
       "больше 10 млн             2042           156.0      271.621939\n",
       "до 1 млн                   180            82.0      155.888889\n",
       "от 1 до 2 млн              946            96.5      175.702960\n",
       "от 2 до 3 млн             2354            86.5      162.522940\n",
       "от 3 до 4 млн             4489            80.0      158.291602\n",
       "от 4 до 5 млн             3950            86.5      160.713924\n",
       "от 5 до 6 млн             2573            95.0      182.912942\n",
       "от 6 до 7 млн             1665            98.0      182.284084\n",
       "от 7 до 8 млн             1035           100.0      179.621256\n",
       "от 8 до 9 млн              716           112.5      206.114525\n",
       "от 9 до 10 млн             568           121.0      223.507042"
      ]
     },
     "execution_count": 61,
     "metadata": {},
     "output_type": "execute_result"
    }
   ],
   "source": [
    "data.pivot_table(index='category_price', \n",
    "                 values='days_exposition', \n",
    "                 aggfunc=['count','median','mean'])"
   ]
  },
  {
   "cell_type": "markdown",
   "metadata": {},
   "source": [
    "Наиболее быстро продаются квартиры стоимостью от 3 до 4 млн рублей. Однако среднее значение сильно отличается от медианного, значит, есть квартиры, которые долго простаиваются. "
   ]
  },
  {
   "cell_type": "code",
   "execution_count": 62,
   "metadata": {},
   "outputs": [
    {
     "data": {
      "text/plain": [
       "count    20518.000000\n",
       "mean       180.888634\n",
       "std        219.727988\n",
       "min          1.000000\n",
       "25%         45.000000\n",
       "50%         95.000000\n",
       "75%        232.000000\n",
       "max       1580.000000\n",
       "Name: days_exposition, dtype: float64"
      ]
     },
     "execution_count": 62,
     "metadata": {},
     "output_type": "execute_result"
    }
   ],
   "source": [
    "data['days_exposition'].describe()"
   ]
  },
  {
   "cell_type": "markdown",
   "metadata": {},
   "source": [
    "Быстрые продажи совершаются в пределах 45 дней, необычно долгие - свыше 230 дней"
   ]
  },
  {
   "cell_type": "markdown",
   "metadata": {},
   "source": [
    "###### Вывод:\n",
    "* Больше всего объявлений приходится на квартиры с 1-3 комнатами\n",
    "* Наибольшее количество объвлений с общей площадью 50 кв.м.\n",
    "* Высота потолков в основном составляет 2.5 - 3.2 метра.\n",
    "* Cамые популярные квартиры продаются от 3 до 4 млн рублей и от 4 до 5 млн.\n",
    "* Этажи со 2 по 6 являются самыми популярными\n",
    "* Большинство квартир находится в 5ти и 9тиэтажных домах\n",
    "* Большинство квартир находится в пределах 10-18 км от центра города\n",
    "* Большая часть квартир находится в 10-40 км от ближайшего аэропорта\n",
    "* Большинство квартир находится в пределах 200-700 метров от ближайшего парка\n",
    "* Большая часть людей выкладывает объявления в будние дни, а именно, в четверг, на выходных тенденция заметно уменьшается\n",
    "* Большая часть объявлений приходится на декабрь\n",
    "* Большая часть квартир продаётся в пределах 100 дней\n",
    "* Наиболее быстро продаются квартиры стоимостью от 3 до 4 млн рублей. Однако среднее значение сильно отличается от медианного, значит, есть квартиры, которые долго простаиваются.\n",
    "* Быстрые продажи совершаются в пределах 45 дней, необычно долгие - свыше 230 дней"
   ]
  },
  {
   "cell_type": "markdown",
   "metadata": {},
   "source": [
    "### Изучим, какие факторы больше всего влияют на общую (полную) стоимость объекта.\n",
    "#### Как зависит ли цена от:\n",
    "* общей площади;\n",
    "* жилой площади;\n",
    "* площади кухни;\n",
    "* количества комнат;\n",
    "* этажа, на котором расположена квартира (первый, последний, другой);\n",
    "* даты размещения (день недели, месяц, год)."
   ]
  },
  {
   "cell_type": "markdown",
   "metadata": {},
   "source": [
    " Для удобства создадим датафрейм только с нужными категориями. "
   ]
  },
  {
   "cell_type": "code",
   "execution_count": 63,
   "metadata": {},
   "outputs": [
    {
     "name": "stdout",
     "output_type": "stream",
     "text": [
      "<class 'pandas.core.frame.DataFrame'>\n",
      "RangeIndex: 23699 entries, 0 to 23698\n",
      "Data columns (total 29 columns):\n",
      " #   Column                Non-Null Count  Dtype         \n",
      "---  ------                --------------  -----         \n",
      " 0   total_images          23699 non-null  int64         \n",
      " 1   last_price            23699 non-null  float64       \n",
      " 2   total_area            23699 non-null  float64       \n",
      " 3   first_day_exposition  23699 non-null  datetime64[ns]\n",
      " 4   rooms                 23699 non-null  int64         \n",
      " 5   ceiling_height        23699 non-null  float64       \n",
      " 6   floors_total          23613 non-null  float64       \n",
      " 7   living_area           23699 non-null  float64       \n",
      " 8   floor                 23699 non-null  int64         \n",
      " 9   is_apartment          23699 non-null  bool          \n",
      " 10  studio                23699 non-null  bool          \n",
      " 11  open_plan             23699 non-null  bool          \n",
      " 12  kitchen_area          23699 non-null  float64       \n",
      " 13  balcony               23699 non-null  float64       \n",
      " 14  locality_name         23650 non-null  object        \n",
      " 15  airports_nearest      18157 non-null  float64       \n",
      " 16  cityCenters_nearest   18180 non-null  float64       \n",
      " 17  parks_around3000      18181 non-null  float64       \n",
      " 18  parks_nearest         8079 non-null   float64       \n",
      " 19  ponds_around3000      18181 non-null  float64       \n",
      " 20  ponds_nearest         9110 non-null   float64       \n",
      " 21  days_exposition       20518 non-null  float64       \n",
      " 22  price_for_meter       23699 non-null  float64       \n",
      " 23  pub_day               23699 non-null  int64         \n",
      " 24  pub_month             23699 non-null  int64         \n",
      " 25  pub_year              23699 non-null  int64         \n",
      " 26  floor_type            23699 non-null  object        \n",
      " 27  km_to_center          18180 non-null  float64       \n",
      " 28  category_price        23699 non-null  object        \n",
      "dtypes: bool(3), datetime64[ns](1), float64(16), int64(6), object(3)\n",
      "memory usage: 4.8+ MB\n"
     ]
    }
   ],
   "source": [
    "data.info()"
   ]
  },
  {
   "cell_type": "code",
   "execution_count": 64,
   "metadata": {},
   "outputs": [],
   "source": [
    "new_data = data[['total_area', 'living_area', 'kitchen_area', 'rooms', \n",
    "                 'floor', 'floor_type', 'pub_day', 'pub_month', 'pub_year',\n",
    "                'last_price', 'category_price']]"
   ]
  },
  {
   "cell_type": "code",
   "execution_count": 65,
   "metadata": {},
   "outputs": [
    {
     "data": {
      "text/html": [
       "<div>\n",
       "<style scoped>\n",
       "    .dataframe tbody tr th:only-of-type {\n",
       "        vertical-align: middle;\n",
       "    }\n",
       "\n",
       "    .dataframe tbody tr th {\n",
       "        vertical-align: top;\n",
       "    }\n",
       "\n",
       "    .dataframe thead th {\n",
       "        text-align: right;\n",
       "    }\n",
       "</style>\n",
       "<table border=\"1\" class=\"dataframe\">\n",
       "  <thead>\n",
       "    <tr style=\"text-align: right;\">\n",
       "      <th></th>\n",
       "      <th>total_area</th>\n",
       "      <th>living_area</th>\n",
       "      <th>kitchen_area</th>\n",
       "      <th>rooms</th>\n",
       "      <th>floor</th>\n",
       "      <th>floor_type</th>\n",
       "      <th>pub_day</th>\n",
       "      <th>pub_month</th>\n",
       "      <th>pub_year</th>\n",
       "      <th>last_price</th>\n",
       "      <th>category_price</th>\n",
       "    </tr>\n",
       "  </thead>\n",
       "  <tbody>\n",
       "    <tr>\n",
       "      <th>0</th>\n",
       "      <td>108.0</td>\n",
       "      <td>51.00</td>\n",
       "      <td>25.00</td>\n",
       "      <td>3</td>\n",
       "      <td>8</td>\n",
       "      <td>другой</td>\n",
       "      <td>3</td>\n",
       "      <td>3</td>\n",
       "      <td>2019</td>\n",
       "      <td>13000000.0</td>\n",
       "      <td>больше 10 млн</td>\n",
       "    </tr>\n",
       "    <tr>\n",
       "      <th>1</th>\n",
       "      <td>40.4</td>\n",
       "      <td>18.60</td>\n",
       "      <td>11.00</td>\n",
       "      <td>1</td>\n",
       "      <td>1</td>\n",
       "      <td>первый</td>\n",
       "      <td>1</td>\n",
       "      <td>12</td>\n",
       "      <td>2018</td>\n",
       "      <td>3350000.0</td>\n",
       "      <td>от 3 до 4 млн</td>\n",
       "    </tr>\n",
       "    <tr>\n",
       "      <th>2</th>\n",
       "      <td>56.0</td>\n",
       "      <td>34.30</td>\n",
       "      <td>8.30</td>\n",
       "      <td>2</td>\n",
       "      <td>4</td>\n",
       "      <td>другой</td>\n",
       "      <td>3</td>\n",
       "      <td>8</td>\n",
       "      <td>2015</td>\n",
       "      <td>5196000.0</td>\n",
       "      <td>от 5 до 6 млн</td>\n",
       "    </tr>\n",
       "    <tr>\n",
       "      <th>3</th>\n",
       "      <td>159.0</td>\n",
       "      <td>90.63</td>\n",
       "      <td>28.62</td>\n",
       "      <td>3</td>\n",
       "      <td>9</td>\n",
       "      <td>другой</td>\n",
       "      <td>4</td>\n",
       "      <td>7</td>\n",
       "      <td>2015</td>\n",
       "      <td>64900000.0</td>\n",
       "      <td>больше 10 млн</td>\n",
       "    </tr>\n",
       "    <tr>\n",
       "      <th>4</th>\n",
       "      <td>100.0</td>\n",
       "      <td>32.00</td>\n",
       "      <td>41.00</td>\n",
       "      <td>2</td>\n",
       "      <td>13</td>\n",
       "      <td>другой</td>\n",
       "      <td>1</td>\n",
       "      <td>6</td>\n",
       "      <td>2018</td>\n",
       "      <td>10000000.0</td>\n",
       "      <td>от 9 до 10 млн</td>\n",
       "    </tr>\n",
       "  </tbody>\n",
       "</table>\n",
       "</div>"
      ],
      "text/plain": [
       "   total_area  living_area  kitchen_area  rooms  floor floor_type  pub_day  \\\n",
       "0       108.0        51.00         25.00      3      8     другой        3   \n",
       "1        40.4        18.60         11.00      1      1     первый        1   \n",
       "2        56.0        34.30          8.30      2      4     другой        3   \n",
       "3       159.0        90.63         28.62      3      9     другой        4   \n",
       "4       100.0        32.00         41.00      2     13     другой        1   \n",
       "\n",
       "   pub_month  pub_year  last_price  category_price  \n",
       "0          3      2019  13000000.0   больше 10 млн  \n",
       "1         12      2018   3350000.0   от 3 до 4 млн  \n",
       "2          8      2015   5196000.0   от 5 до 6 млн  \n",
       "3          7      2015  64900000.0   больше 10 млн  \n",
       "4          6      2018  10000000.0  от 9 до 10 млн  "
      ]
     },
     "execution_count": 65,
     "metadata": {},
     "output_type": "execute_result"
    }
   ],
   "source": [
    "new_data.head()"
   ]
  },
  {
   "cell_type": "code",
   "execution_count": 66,
   "metadata": {
    "scrolled": true
   },
   "outputs": [
    {
     "data": {
      "text/html": [
       "<div>\n",
       "<style scoped>\n",
       "    .dataframe tbody tr th:only-of-type {\n",
       "        vertical-align: middle;\n",
       "    }\n",
       "\n",
       "    .dataframe tbody tr th {\n",
       "        vertical-align: top;\n",
       "    }\n",
       "\n",
       "    .dataframe thead th {\n",
       "        text-align: right;\n",
       "    }\n",
       "</style>\n",
       "<table border=\"1\" class=\"dataframe\">\n",
       "  <thead>\n",
       "    <tr style=\"text-align: right;\">\n",
       "      <th></th>\n",
       "      <th>total_area</th>\n",
       "      <th>living_area</th>\n",
       "      <th>kitchen_area</th>\n",
       "      <th>rooms</th>\n",
       "      <th>floor</th>\n",
       "      <th>pub_day</th>\n",
       "      <th>pub_month</th>\n",
       "      <th>pub_year</th>\n",
       "      <th>last_price</th>\n",
       "    </tr>\n",
       "  </thead>\n",
       "  <tbody>\n",
       "    <tr>\n",
       "      <th>last_price</th>\n",
       "      <td>0.653675</td>\n",
       "      <td>0.585768</td>\n",
       "      <td>0.515245</td>\n",
       "      <td>0.363343</td>\n",
       "      <td>0.026576</td>\n",
       "      <td>0.001550</td>\n",
       "      <td>0.002779</td>\n",
       "      <td>-0.043089</td>\n",
       "      <td>1.000000</td>\n",
       "    </tr>\n",
       "    <tr>\n",
       "      <th>total_area</th>\n",
       "      <td>1.000000</td>\n",
       "      <td>0.946045</td>\n",
       "      <td>0.661387</td>\n",
       "      <td>0.758344</td>\n",
       "      <td>-0.024754</td>\n",
       "      <td>-0.004695</td>\n",
       "      <td>0.004920</td>\n",
       "      <td>-0.079912</td>\n",
       "      <td>0.653675</td>\n",
       "    </tr>\n",
       "    <tr>\n",
       "      <th>living_area</th>\n",
       "      <td>0.946045</td>\n",
       "      <td>1.000000</td>\n",
       "      <td>0.504216</td>\n",
       "      <td>0.827270</td>\n",
       "      <td>-0.089422</td>\n",
       "      <td>-0.004000</td>\n",
       "      <td>-0.000436</td>\n",
       "      <td>-0.072256</td>\n",
       "      <td>0.585768</td>\n",
       "    </tr>\n",
       "    <tr>\n",
       "      <th>kitchen_area</th>\n",
       "      <td>0.661387</td>\n",
       "      <td>0.504216</td>\n",
       "      <td>1.000000</td>\n",
       "      <td>0.326828</td>\n",
       "      <td>0.106153</td>\n",
       "      <td>-0.004714</td>\n",
       "      <td>0.003198</td>\n",
       "      <td>-0.059601</td>\n",
       "      <td>0.515245</td>\n",
       "    </tr>\n",
       "    <tr>\n",
       "      <th>rooms</th>\n",
       "      <td>0.758344</td>\n",
       "      <td>0.827270</td>\n",
       "      <td>0.326828</td>\n",
       "      <td>1.000000</td>\n",
       "      <td>-0.150862</td>\n",
       "      <td>-0.004134</td>\n",
       "      <td>-0.004469</td>\n",
       "      <td>-0.055418</td>\n",
       "      <td>0.363343</td>\n",
       "    </tr>\n",
       "    <tr>\n",
       "      <th>floor</th>\n",
       "      <td>-0.024754</td>\n",
       "      <td>-0.089422</td>\n",
       "      <td>0.106153</td>\n",
       "      <td>-0.150862</td>\n",
       "      <td>1.000000</td>\n",
       "      <td>0.012347</td>\n",
       "      <td>0.019387</td>\n",
       "      <td>0.004915</td>\n",
       "      <td>0.026576</td>\n",
       "    </tr>\n",
       "    <tr>\n",
       "      <th>pub_month</th>\n",
       "      <td>0.004920</td>\n",
       "      <td>-0.000436</td>\n",
       "      <td>0.003198</td>\n",
       "      <td>-0.004469</td>\n",
       "      <td>0.019387</td>\n",
       "      <td>0.011496</td>\n",
       "      <td>1.000000</td>\n",
       "      <td>-0.269642</td>\n",
       "      <td>0.002779</td>\n",
       "    </tr>\n",
       "    <tr>\n",
       "      <th>pub_day</th>\n",
       "      <td>-0.004695</td>\n",
       "      <td>-0.004000</td>\n",
       "      <td>-0.004714</td>\n",
       "      <td>-0.004134</td>\n",
       "      <td>0.012347</td>\n",
       "      <td>1.000000</td>\n",
       "      <td>0.011496</td>\n",
       "      <td>-0.004799</td>\n",
       "      <td>0.001550</td>\n",
       "    </tr>\n",
       "    <tr>\n",
       "      <th>pub_year</th>\n",
       "      <td>-0.079912</td>\n",
       "      <td>-0.072256</td>\n",
       "      <td>-0.059601</td>\n",
       "      <td>-0.055418</td>\n",
       "      <td>0.004915</td>\n",
       "      <td>-0.004799</td>\n",
       "      <td>-0.269642</td>\n",
       "      <td>1.000000</td>\n",
       "      <td>-0.043089</td>\n",
       "    </tr>\n",
       "  </tbody>\n",
       "</table>\n",
       "</div>"
      ],
      "text/plain": [
       "              total_area  living_area  kitchen_area     rooms     floor  \\\n",
       "last_price      0.653675     0.585768      0.515245  0.363343  0.026576   \n",
       "total_area      1.000000     0.946045      0.661387  0.758344 -0.024754   \n",
       "living_area     0.946045     1.000000      0.504216  0.827270 -0.089422   \n",
       "kitchen_area    0.661387     0.504216      1.000000  0.326828  0.106153   \n",
       "rooms           0.758344     0.827270      0.326828  1.000000 -0.150862   \n",
       "floor          -0.024754    -0.089422      0.106153 -0.150862  1.000000   \n",
       "pub_month       0.004920    -0.000436      0.003198 -0.004469  0.019387   \n",
       "pub_day        -0.004695    -0.004000     -0.004714 -0.004134  0.012347   \n",
       "pub_year       -0.079912    -0.072256     -0.059601 -0.055418  0.004915   \n",
       "\n",
       "               pub_day  pub_month  pub_year  last_price  \n",
       "last_price    0.001550   0.002779 -0.043089    1.000000  \n",
       "total_area   -0.004695   0.004920 -0.079912    0.653675  \n",
       "living_area  -0.004000  -0.000436 -0.072256    0.585768  \n",
       "kitchen_area -0.004714   0.003198 -0.059601    0.515245  \n",
       "rooms        -0.004134  -0.004469 -0.055418    0.363343  \n",
       "floor         0.012347   0.019387  0.004915    0.026576  \n",
       "pub_month     0.011496   1.000000 -0.269642    0.002779  \n",
       "pub_day       1.000000   0.011496 -0.004799    0.001550  \n",
       "pub_year     -0.004799  -0.269642  1.000000   -0.043089  "
      ]
     },
     "execution_count": 66,
     "metadata": {},
     "output_type": "execute_result"
    }
   ],
   "source": [
    "new_data.corr().sort_values(by='last_price', ascending=False)"
   ]
  },
  {
   "cell_type": "markdown",
   "metadata": {},
   "source": [
    "###### Вывод:\n",
    "* Наибольшая зависимость наблюдается между ценой квартиры и её общей площадью - 65%\n",
    "* Далее идёт жилая площадь - 58%\n",
    "* Площадь кухни - 51%"
   ]
  },
  {
   "cell_type": "code",
   "execution_count": 67,
   "metadata": {},
   "outputs": [
    {
     "data": {
      "image/png": "[encoded data removed]",
      "text/plain": [
       "<Figure size 800x480 with 2 Axes>"
      ]
     },
     "metadata": {
      "needs_background": "light"
     },
     "output_type": "display_data"
    }
   ],
   "source": [
    "plt.figure(figsize=(10,6), dpi= 80)\n",
    "sns.heatmap(new_data.corr(), xticklabels=new_data.corr().columns,\n",
    "            yticklabels=new_data.corr().columns, cmap='RdYlGn', center=0, annot=True);"
   ]
  },
  {
   "cell_type": "code",
   "execution_count": 68,
   "metadata": {},
   "outputs": [
    {
     "data": {
      "image/png": "[encoded data removed]",
      "text/plain": [
       "<Figure size 432x288 with 1 Axes>"
      ]
     },
     "metadata": {
      "needs_background": "light"
     },
     "output_type": "display_data"
    }
   ],
   "source": [
    "data.plot(x='floor_type', y='last_price', kind='scatter');"
   ]
  },
  {
   "cell_type": "code",
   "execution_count": 69,
   "metadata": {},
   "outputs": [
    {
     "data": {
      "text/html": [
       "<div>\n",
       "<style scoped>\n",
       "    .dataframe tbody tr th:only-of-type {\n",
       "        vertical-align: middle;\n",
       "    }\n",
       "\n",
       "    .dataframe tbody tr th {\n",
       "        vertical-align: top;\n",
       "    }\n",
       "\n",
       "    .dataframe thead tr th {\n",
       "        text-align: left;\n",
       "    }\n",
       "\n",
       "    .dataframe thead tr:last-of-type th {\n",
       "        text-align: right;\n",
       "    }\n",
       "</style>\n",
       "<table border=\"1\" class=\"dataframe\">\n",
       "  <thead>\n",
       "    <tr>\n",
       "      <th></th>\n",
       "      <th>median</th>\n",
       "      <th>mean</th>\n",
       "    </tr>\n",
       "    <tr>\n",
       "      <th></th>\n",
       "      <th>last_price</th>\n",
       "      <th>last_price</th>\n",
       "    </tr>\n",
       "    <tr>\n",
       "      <th>floor_type</th>\n",
       "      <th></th>\n",
       "      <th></th>\n",
       "    </tr>\n",
       "  </thead>\n",
       "  <tbody>\n",
       "    <tr>\n",
       "      <th>другой</th>\n",
       "      <td>4850000.0</td>\n",
       "      <td>6.675444e+06</td>\n",
       "    </tr>\n",
       "    <tr>\n",
       "      <th>первый</th>\n",
       "      <td>3900000.0</td>\n",
       "      <td>4.820982e+06</td>\n",
       "    </tr>\n",
       "    <tr>\n",
       "      <th>последний</th>\n",
       "      <td>4300000.0</td>\n",
       "      <td>7.327011e+06</td>\n",
       "    </tr>\n",
       "  </tbody>\n",
       "</table>\n",
       "</div>"
      ],
      "text/plain": [
       "               median          mean\n",
       "           last_price    last_price\n",
       "floor_type                         \n",
       "другой      4850000.0  6.675444e+06\n",
       "первый      3900000.0  4.820982e+06\n",
       "последний   4300000.0  7.327011e+06"
      ]
     },
     "execution_count": 69,
     "metadata": {},
     "output_type": "execute_result"
    }
   ],
   "source": [
    "data.pivot_table(index='floor_type', values='last_price', aggfunc=['median', 'mean'])"
   ]
  },
  {
   "cell_type": "markdown",
   "metadata": {},
   "source": [
    "###### Вывод:\n",
    "В среднем квартиры на первом этаже стоят дешевле других. "
   ]
  },
  {
   "cell_type": "markdown",
   "metadata": {},
   "source": [
    "Посчитаем среднюю цену одного квадратного метра в 10 населённых пунктах с наибольшим числом объявлений"
   ]
  },
  {
   "cell_type": "markdown",
   "metadata": {},
   "source": [
    "Проверим наличие дубликатов и посмотрим на список уникальных значений"
   ]
  },
  {
   "cell_type": "code",
   "execution_count": 70,
   "metadata": {},
   "outputs": [
    {
     "data": {
      "text/plain": [
       "array(['Санкт-Петербург', 'посёлок Шушары', 'городской посёлок Янино-1',\n",
       "       'посёлок Парголово', 'посёлок Мурино', 'Ломоносов', 'Сертолово',\n",
       "       'Петергоф', 'Пушкин', 'деревня Кудрово', 'Коммунар', 'Колпино',\n",
       "       'поселок городского типа Красный Бор', 'Гатчина', 'поселок Мурино',\n",
       "       'деревня Фёдоровское', 'Выборг', 'Кронштадт', 'Кировск',\n",
       "       'деревня Новое Девяткино', 'посёлок Металлострой',\n",
       "       'посёлок городского типа Лебяжье',\n",
       "       'посёлок городского типа Сиверский', 'поселок Молодцово',\n",
       "       'поселок городского типа Кузьмоловский',\n",
       "       'садовое товарищество Новая Ропша', 'Павловск',\n",
       "       'деревня Пикколово', 'Всеволожск', 'Волхов', 'Кингисепп',\n",
       "       'Приозерск', 'Сестрорецк', 'деревня Куттузи', 'посёлок Аннино',\n",
       "       'поселок городского типа Ефимовский', 'посёлок Плодовое',\n",
       "       'деревня Заклинье', 'поселок Торковичи', 'поселок Первомайское',\n",
       "       'Красное Село', 'посёлок Понтонный', 'Сясьстрой', 'деревня Старая',\n",
       "       'деревня Лесколово', 'посёлок Новый Свет', 'Сланцы',\n",
       "       'село Путилово', 'Ивангород', 'Мурино', 'Шлиссельбург',\n",
       "       'Никольское', 'Зеленогорск', 'Сосновый Бор', 'поселок Новый Свет',\n",
       "       'деревня Оржицы', 'деревня Кальтино', 'Кудрово',\n",
       "       'поселок Романовка', 'посёлок Бугры', 'поселок Бугры',\n",
       "       'поселок городского типа Рощино', 'Кириши', 'Луга', 'Волосово',\n",
       "       'Отрадное', 'село Павлово', 'поселок Оредеж', 'село Копорье',\n",
       "       'посёлок городского типа Красный Бор', 'посёлок Молодёжное',\n",
       "       'Тихвин', 'посёлок Победа', 'деревня Нурма',\n",
       "       'поселок городского типа Синявино', 'Тосно',\n",
       "       'посёлок городского типа Кузьмоловский', 'посёлок Стрельна',\n",
       "       'Бокситогорск', 'посёлок Александровская', 'деревня Лопухинка',\n",
       "       'Пикалёво', 'поселок Терволово',\n",
       "       'поселок городского типа Советский', 'Подпорожье',\n",
       "       'посёлок Петровское', 'посёлок городского типа Токсово',\n",
       "       'поселок Сельцо', 'посёлок городского типа Вырица',\n",
       "       'деревня Кипень', 'деревня Келози', 'деревня Вартемяги',\n",
       "       'посёлок Тельмана', 'поселок Севастьяново',\n",
       "       'городской поселок Большая Ижора', nan,\n",
       "       'городской посёлок Павлово', 'деревня Агалатово',\n",
       "       'посёлок Новогорелово', 'городской посёлок Лесогорский',\n",
       "       'деревня Лаголово', 'поселок Цвелодубово',\n",
       "       'поселок городского типа Рахья', 'поселок городского типа Вырица',\n",
       "       'деревня Белогорка', 'поселок Заводской',\n",
       "       'городской посёлок Новоселье', 'деревня Большие Колпаны',\n",
       "       'деревня Горбунки', 'деревня Батово', 'деревня Заневка',\n",
       "       'деревня Иссад', 'Приморск', 'городской посёлок Фёдоровское',\n",
       "       'деревня Мистолово', 'Новая Ладога', 'поселок Зимитицы',\n",
       "       'поселок Барышево', 'деревня Разметелево',\n",
       "       'поселок городского типа имени Свердлова', 'деревня Пеники',\n",
       "       'поселок Рябово', 'деревня Пудомяги', 'поселок станции Корнево',\n",
       "       'деревня Низино', 'деревня Бегуницы', 'посёлок Поляны',\n",
       "       'городской посёлок Мга', 'поселок Елизаветино',\n",
       "       'посёлок городского типа Кузнечное', 'деревня Колтуши',\n",
       "       'поселок Запорожское', 'посёлок городского типа Рощино',\n",
       "       'деревня Гостилицы', 'деревня Малое Карлино',\n",
       "       'посёлок Мичуринское', 'посёлок городского типа имени Морозова',\n",
       "       'посёлок Песочный', 'посёлок Сосново', 'деревня Аро',\n",
       "       'поселок Ильичёво', 'посёлок городского типа Тайцы',\n",
       "       'деревня Малое Верево', 'деревня Извара', 'поселок станции Вещево',\n",
       "       'село Паша', 'деревня Калитино',\n",
       "       'посёлок городского типа Ульяновка', 'деревня Чудской Бор',\n",
       "       'поселок городского типа Дубровка', 'деревня Мины',\n",
       "       'поселок Войсковицы', 'посёлок городского типа имени Свердлова',\n",
       "       'деревня Коркино', 'посёлок Ропша',\n",
       "       'поселок городского типа Приладожский', 'посёлок Щеглово',\n",
       "       'посёлок Гаврилово', 'Лодейное Поле', 'деревня Рабитицы',\n",
       "       'поселок городского типа Никольский', 'деревня Кузьмолово',\n",
       "       'деревня Малые Колпаны', 'поселок Тельмана',\n",
       "       'посёлок Петро-Славянка', 'городской посёлок Назия',\n",
       "       'посёлок Репино', 'посёлок Ильичёво', 'поселок Углово',\n",
       "       'поселок Старая Малукса', 'садовое товарищество Рахья',\n",
       "       'поселок Аннино', 'поселок Победа', 'деревня Меньково',\n",
       "       'деревня Старые Бегуницы', 'посёлок Сапёрный', 'поселок Семрино',\n",
       "       'поселок Гаврилово', 'поселок Глажево', 'поселок Кобринское',\n",
       "       'деревня Гарболово', 'деревня Юкки',\n",
       "       'поселок станции Приветнинское', 'деревня Мануйлово',\n",
       "       'деревня Пчева', 'поселок Поляны', 'поселок Цвылёво',\n",
       "       'поселок Мельниково', 'посёлок Пудость', 'посёлок Усть-Луга',\n",
       "       'Светогорск', 'Любань', 'поселок Селезнёво',\n",
       "       'поселок городского типа Рябово', 'Каменногорск', 'деревня Кривко',\n",
       "       'поселок Глебычево', 'деревня Парицы', 'поселок Жилпосёлок',\n",
       "       'посёлок городского типа Мга', 'городской поселок Янино-1',\n",
       "       'посёлок Войскорово', 'село Никольское', 'посёлок Терволово',\n",
       "       'поселок Стеклянный', 'посёлок городского типа Важины',\n",
       "       'посёлок Мыза-Ивановка', 'село Русско-Высоцкое',\n",
       "       'поселок городского типа Лебяжье',\n",
       "       'поселок городского типа Форносово', 'село Старая Ладога',\n",
       "       'поселок Житково', 'городской посёлок Виллози', 'деревня Лампово',\n",
       "       'деревня Шпаньково', 'деревня Лаврики', 'посёлок Сумино',\n",
       "       'посёлок Возрождение', 'деревня Старосиверская',\n",
       "       'посёлок Кикерино', 'поселок Возрождение',\n",
       "       'деревня Старое Хинколово', 'посёлок Пригородный',\n",
       "       'посёлок Торфяное', 'городской посёлок Будогощь',\n",
       "       'поселок Суходолье', 'поселок Красная Долина', 'деревня Хапо-Ое',\n",
       "       'поселок городского типа Дружная Горка', 'поселок Лисий Нос',\n",
       "       'деревня Яльгелево', 'посёлок Стеклянный', 'село Рождествено',\n",
       "       'деревня Старополье', 'посёлок Левашово', 'деревня Сяськелево',\n",
       "       'деревня Камышовка',\n",
       "       'садоводческое некоммерческое товарищество Лесная Поляна',\n",
       "       'деревня Хязельки', 'поселок Жилгородок',\n",
       "       'посёлок городского типа Павлово', 'деревня Ялгино',\n",
       "       'поселок Новый Учхоз', 'городской посёлок Рощино',\n",
       "       'поселок Гончарово', 'поселок Почап', 'посёлок Сапёрное',\n",
       "       'посёлок Платформа 69-й километр', 'поселок Каложицы',\n",
       "       'деревня Фалилеево', 'деревня Пельгора',\n",
       "       'поселок городского типа Лесогорский', 'деревня Торошковичи',\n",
       "       'посёлок Белоостров', 'посёлок Алексеевка', 'поселок Серебрянский',\n",
       "       'поселок Лукаши', 'поселок Петровское', 'деревня Щеглово',\n",
       "       'поселок Мичуринское', 'деревня Тарасово', 'поселок Кингисеппский',\n",
       "       'посёлок при железнодорожной станции Вещево', 'поселок Ушаки',\n",
       "       'деревня Котлы', 'деревня Сижно', 'деревня Торосово',\n",
       "       'посёлок Форт Красная Горка', 'поселок городского типа Токсово',\n",
       "       'деревня Новолисино', 'посёлок станции Громово', 'деревня Глинка',\n",
       "       'посёлок Мельниково', 'поселок городского типа Назия',\n",
       "       'деревня Старая Пустошь', 'поселок Коммунары', 'поселок Починок',\n",
       "       'посёлок городского типа Вознесенье', 'деревня Разбегаево',\n",
       "       'посёлок городского типа Рябово', 'поселок Гладкое',\n",
       "       'посёлок при железнодорожной станции Приветнинское',\n",
       "       'поселок Тёсово-4', 'посёлок Жилгородок', 'деревня Бор',\n",
       "       'посёлок Коробицыно', 'деревня Большая Вруда', 'деревня Курковицы',\n",
       "       'посёлок Лисий Нос', 'городской посёлок Советский',\n",
       "       'посёлок Кобралово', 'деревня Суоранда', 'поселок Кобралово',\n",
       "       'поселок городского типа Кондратьево',\n",
       "       'коттеджный поселок Счастье', 'поселок Любань', 'деревня Реброво',\n",
       "       'деревня Зимитицы', 'деревня Тойворово', 'поселок Семиозерье',\n",
       "       'поселок Лесное', 'поселок Совхозный', 'поселок Усть-Луга',\n",
       "       'посёлок Ленинское', 'посёлок Суйда',\n",
       "       'посёлок городского типа Форносово', 'деревня Нижние Осельки',\n",
       "       'посёлок станции Свирь', 'поселок Перово', 'Высоцк',\n",
       "       'поселок Гарболово', 'село Шум', 'поселок Котельский',\n",
       "       'поселок станции Лужайка', 'деревня Большая Пустомержа',\n",
       "       'поселок Красносельское', 'деревня Вахнова Кара', 'деревня Пижма',\n",
       "       'коттеджный поселок Кивеннапа Север', 'поселок Коробицыно',\n",
       "       'поселок Ромашки', 'посёлок Перово', 'деревня Каськово',\n",
       "       'деревня Куровицы', 'посёлок Плоское', 'поселок Сумино',\n",
       "       'поселок городского типа Большая Ижора', 'поселок Кирпичное',\n",
       "       'деревня Ям-Тесово', 'деревня Раздолье', 'деревня Терпилицы',\n",
       "       'посёлок Шугозеро', 'деревня Ваганово', 'поселок Пушное',\n",
       "       'садовое товарищество Садко', 'посёлок Усть-Ижора',\n",
       "       'деревня Выскатка', 'городской посёлок Свирьстрой',\n",
       "       'поселок Громово', 'деревня Кисельня', 'посёлок Старая Малукса',\n",
       "       'деревня Трубников Бор', 'поселок Калитино',\n",
       "       'посёлок Высокоключевой', 'садовое товарищество Приладожский',\n",
       "       'посёлок Пансионат Зелёный Бор', 'деревня Ненимяки',\n",
       "       'поселок Пансионат Зелёный Бор', 'деревня Снегирёвка',\n",
       "       'деревня Рапполово', 'деревня Пустынка', 'поселок Рабитицы',\n",
       "       'деревня Большой Сабск', 'деревня Русско', 'деревня Лупполово',\n",
       "       'деревня Большое Рейзино', 'деревня Малая Романовка',\n",
       "       'поселок Дружноселье', 'поселок Пчевжа', 'поселок Володарское',\n",
       "       'деревня Нижняя', 'коттеджный посёлок Лесное', 'деревня Тихковицы',\n",
       "       'деревня Борисова Грива', 'посёлок Дзержинского'], dtype=object)"
      ]
     },
     "execution_count": 70,
     "metadata": {},
     "output_type": "execute_result"
    }
   ],
   "source": [
    "data['locality_name'].unique()"
   ]
  },
  {
   "cell_type": "code",
   "execution_count": 71,
   "metadata": {},
   "outputs": [
    {
     "data": {
      "text/plain": [
       "23334"
      ]
     },
     "execution_count": 71,
     "metadata": {},
     "output_type": "execute_result"
    }
   ],
   "source": [
    "data['locality_name'].duplicated().sum()"
   ]
  },
  {
   "cell_type": "markdown",
   "metadata": {},
   "source": [
    "Для удобства создадим отдельный список с нужными населёнными пунктами"
   ]
  },
  {
   "cell_type": "code",
   "execution_count": 72,
   "metadata": {},
   "outputs": [],
   "source": [
    "ten_locations = data.pivot_table(index='locality_name', values='price_for_meter', \n",
    "                 aggfunc=['count', 'median', 'mean'])\n",
    "ten_locations.columns = ('count', 'median', 'mean')\n",
    "ten_locations = ten_locations.sort_values(by='count', ascending=False).head(10)"
   ]
  },
  {
   "cell_type": "code",
   "execution_count": 73,
   "metadata": {},
   "outputs": [
    {
     "data": {
      "text/html": [
       "<div>\n",
       "<style scoped>\n",
       "    .dataframe tbody tr th:only-of-type {\n",
       "        vertical-align: middle;\n",
       "    }\n",
       "\n",
       "    .dataframe tbody tr th {\n",
       "        vertical-align: top;\n",
       "    }\n",
       "\n",
       "    .dataframe thead th {\n",
       "        text-align: right;\n",
       "    }\n",
       "</style>\n",
       "<table border=\"1\" class=\"dataframe\">\n",
       "  <thead>\n",
       "    <tr style=\"text-align: right;\">\n",
       "      <th></th>\n",
       "      <th>count</th>\n",
       "      <th>median</th>\n",
       "      <th>mean</th>\n",
       "    </tr>\n",
       "    <tr>\n",
       "      <th>locality_name</th>\n",
       "      <th></th>\n",
       "      <th></th>\n",
       "      <th></th>\n",
       "    </tr>\n",
       "  </thead>\n",
       "  <tbody>\n",
       "    <tr>\n",
       "      <th>Санкт-Петербург</th>\n",
       "      <td>15721</td>\n",
       "      <td>104761.0</td>\n",
       "      <td>114848.560015</td>\n",
       "    </tr>\n",
       "    <tr>\n",
       "      <th>посёлок Мурино</th>\n",
       "      <td>522</td>\n",
       "      <td>85878.0</td>\n",
       "      <td>85751.729885</td>\n",
       "    </tr>\n",
       "    <tr>\n",
       "      <th>посёлок Шушары</th>\n",
       "      <td>440</td>\n",
       "      <td>76876.0</td>\n",
       "      <td>78676.902273</td>\n",
       "    </tr>\n",
       "    <tr>\n",
       "      <th>Всеволожск</th>\n",
       "      <td>398</td>\n",
       "      <td>65789.0</td>\n",
       "      <td>68654.007538</td>\n",
       "    </tr>\n",
       "    <tr>\n",
       "      <th>Пушкин</th>\n",
       "      <td>369</td>\n",
       "      <td>100000.0</td>\n",
       "      <td>103125.368564</td>\n",
       "    </tr>\n",
       "    <tr>\n",
       "      <th>Колпино</th>\n",
       "      <td>338</td>\n",
       "      <td>74723.5</td>\n",
       "      <td>75424.147929</td>\n",
       "    </tr>\n",
       "    <tr>\n",
       "      <th>посёлок Парголово</th>\n",
       "      <td>327</td>\n",
       "      <td>91642.0</td>\n",
       "      <td>90175.486239</td>\n",
       "    </tr>\n",
       "    <tr>\n",
       "      <th>Гатчина</th>\n",
       "      <td>307</td>\n",
       "      <td>67796.0</td>\n",
       "      <td>68745.693811</td>\n",
       "    </tr>\n",
       "    <tr>\n",
       "      <th>деревня Кудрово</th>\n",
       "      <td>299</td>\n",
       "      <td>91860.0</td>\n",
       "      <td>92473.076923</td>\n",
       "    </tr>\n",
       "    <tr>\n",
       "      <th>Выборг</th>\n",
       "      <td>237</td>\n",
       "      <td>58158.0</td>\n",
       "      <td>58141.489451</td>\n",
       "    </tr>\n",
       "  </tbody>\n",
       "</table>\n",
       "</div>"
      ],
      "text/plain": [
       "                   count    median           mean\n",
       "locality_name                                    \n",
       "Санкт-Петербург    15721  104761.0  114848.560015\n",
       "посёлок Мурино       522   85878.0   85751.729885\n",
       "посёлок Шушары       440   76876.0   78676.902273\n",
       "Всеволожск           398   65789.0   68654.007538\n",
       "Пушкин               369  100000.0  103125.368564\n",
       "Колпино              338   74723.5   75424.147929\n",
       "посёлок Парголово    327   91642.0   90175.486239\n",
       "Гатчина              307   67796.0   68745.693811\n",
       "деревня Кудрово      299   91860.0   92473.076923\n",
       "Выборг               237   58158.0   58141.489451"
      ]
     },
     "execution_count": 73,
     "metadata": {},
     "output_type": "execute_result"
    }
   ],
   "source": [
    "ten_locations"
   ]
  },
  {
   "cell_type": "markdown",
   "metadata": {},
   "source": [
    "###### Вывод:\n",
    "* Наибольшее количество объявлений в Санкт-Петербурге\n",
    "* Наименьшее в Выборге"
   ]
  },
  {
   "cell_type": "code",
   "execution_count": 74,
   "metadata": {},
   "outputs": [
    {
     "data": {
      "image/png": "[encoded data removed]",
      "text/plain": [
       "<Figure size 720x720 with 1 Axes>"
      ]
     },
     "metadata": {},
     "output_type": "display_data"
    }
   ],
   "source": [
    "ten_locations.plot(y='count', kind='pie', figsize=(10, 10)).set_title(\n",
    "    'Количество объявлений в населённых пунктах');"
   ]
  },
  {
   "cell_type": "code",
   "execution_count": 75,
   "metadata": {},
   "outputs": [
    {
     "data": {
      "text/html": [
       "<div>\n",
       "<style scoped>\n",
       "    .dataframe tbody tr th:only-of-type {\n",
       "        vertical-align: middle;\n",
       "    }\n",
       "\n",
       "    .dataframe tbody tr th {\n",
       "        vertical-align: top;\n",
       "    }\n",
       "\n",
       "    .dataframe thead th {\n",
       "        text-align: right;\n",
       "    }\n",
       "</style>\n",
       "<table border=\"1\" class=\"dataframe\">\n",
       "  <thead>\n",
       "    <tr style=\"text-align: right;\">\n",
       "      <th></th>\n",
       "      <th>count</th>\n",
       "      <th>median</th>\n",
       "      <th>mean</th>\n",
       "    </tr>\n",
       "    <tr>\n",
       "      <th>locality_name</th>\n",
       "      <th></th>\n",
       "      <th></th>\n",
       "      <th></th>\n",
       "    </tr>\n",
       "  </thead>\n",
       "  <tbody>\n",
       "    <tr>\n",
       "      <th>Санкт-Петербург</th>\n",
       "      <td>15721</td>\n",
       "      <td>104761.0</td>\n",
       "      <td>114848.560015</td>\n",
       "    </tr>\n",
       "    <tr>\n",
       "      <th>Пушкин</th>\n",
       "      <td>369</td>\n",
       "      <td>100000.0</td>\n",
       "      <td>103125.368564</td>\n",
       "    </tr>\n",
       "    <tr>\n",
       "      <th>деревня Кудрово</th>\n",
       "      <td>299</td>\n",
       "      <td>91860.0</td>\n",
       "      <td>92473.076923</td>\n",
       "    </tr>\n",
       "    <tr>\n",
       "      <th>посёлок Парголово</th>\n",
       "      <td>327</td>\n",
       "      <td>91642.0</td>\n",
       "      <td>90175.486239</td>\n",
       "    </tr>\n",
       "    <tr>\n",
       "      <th>посёлок Мурино</th>\n",
       "      <td>522</td>\n",
       "      <td>85878.0</td>\n",
       "      <td>85751.729885</td>\n",
       "    </tr>\n",
       "    <tr>\n",
       "      <th>посёлок Шушары</th>\n",
       "      <td>440</td>\n",
       "      <td>76876.0</td>\n",
       "      <td>78676.902273</td>\n",
       "    </tr>\n",
       "    <tr>\n",
       "      <th>Колпино</th>\n",
       "      <td>338</td>\n",
       "      <td>74723.5</td>\n",
       "      <td>75424.147929</td>\n",
       "    </tr>\n",
       "    <tr>\n",
       "      <th>Гатчина</th>\n",
       "      <td>307</td>\n",
       "      <td>67796.0</td>\n",
       "      <td>68745.693811</td>\n",
       "    </tr>\n",
       "    <tr>\n",
       "      <th>Всеволожск</th>\n",
       "      <td>398</td>\n",
       "      <td>65789.0</td>\n",
       "      <td>68654.007538</td>\n",
       "    </tr>\n",
       "    <tr>\n",
       "      <th>Выборг</th>\n",
       "      <td>237</td>\n",
       "      <td>58158.0</td>\n",
       "      <td>58141.489451</td>\n",
       "    </tr>\n",
       "  </tbody>\n",
       "</table>\n",
       "</div>"
      ],
      "text/plain": [
       "                   count    median           mean\n",
       "locality_name                                    \n",
       "Санкт-Петербург    15721  104761.0  114848.560015\n",
       "Пушкин               369  100000.0  103125.368564\n",
       "деревня Кудрово      299   91860.0   92473.076923\n",
       "посёлок Парголово    327   91642.0   90175.486239\n",
       "посёлок Мурино       522   85878.0   85751.729885\n",
       "посёлок Шушары       440   76876.0   78676.902273\n",
       "Колпино              338   74723.5   75424.147929\n",
       "Гатчина              307   67796.0   68745.693811\n",
       "Всеволожск           398   65789.0   68654.007538\n",
       "Выборг               237   58158.0   58141.489451"
      ]
     },
     "execution_count": 75,
     "metadata": {},
     "output_type": "execute_result"
    }
   ],
   "source": [
    "ten_locations.sort_values(by='median', ascending=False)"
   ]
  },
  {
   "cell_type": "code",
   "execution_count": 76,
   "metadata": {},
   "outputs": [
    {
     "data": {
      "image/png": "[encoded data removed]",
      "text/plain": [
       "<Figure size 432x288 with 1 Axes>"
      ]
     },
     "metadata": {
      "needs_background": "light"
     },
     "output_type": "display_data"
    }
   ],
   "source": [
    "ten_locations.sort_values(by='median', ascending=False).plot(y='mean', kind='bar').set_title(\n",
    "    'Средняя цена квартир в населённых пунктах');"
   ]
  },
  {
   "cell_type": "markdown",
   "metadata": {},
   "source": [
    "* Самые дорогие квартиры по цене за квадратный метр так же находятся в Санкт-Петербурге\n",
    "* За ним с небольшой разницей идёт город Пушкин\n",
    "* На последнем месте так же находится Выборг"
   ]
  },
  {
   "cell_type": "code",
   "execution_count": 77,
   "metadata": {},
   "outputs": [],
   "source": [
    "st_peter = data.query('locality_name == \"Санкт-Петербург\"')"
   ]
  },
  {
   "cell_type": "code",
   "execution_count": 78,
   "metadata": {},
   "outputs": [
    {
     "data": {
      "image/png": "[encoded data removed]",
      "text/plain": [
       "<Figure size 720x360 with 1 Axes>"
      ]
     },
     "metadata": {
      "needs_background": "light"
     },
     "output_type": "display_data"
    }
   ],
   "source": [
    "st_peter.pivot_table(index='km_to_center', values='price_for_meter').plot(figsize=(10, 5), \n",
    "                                                                          grid=True);"
   ]
  },
  {
   "cell_type": "markdown",
   "metadata": {},
   "source": [
    "В среднем, чем дальше квартира находится от центра, тем ниже стоимость её квадратного метра, следовательно, ниже и цена самой квартиры. "
   ]
  },
  {
   "cell_type": "code",
   "execution_count": 79,
   "metadata": {},
   "outputs": [],
   "source": [
    "st_peter_2 = st_peter.query('km_to_center == 2')['price_for_meter'].mean()\n",
    "st_peter_1 = st_peter.query('km_to_center == 1')['price_for_meter'].mean()\n",
    "st_peter_0 = st_peter.query('km_to_center == 0')['price_for_meter'].mean()"
   ]
  },
  {
   "cell_type": "code",
   "execution_count": 80,
   "metadata": {},
   "outputs": [
    {
     "data": {
      "text/plain": [
       "30300.898819218244"
      ]
     },
     "execution_count": 80,
     "metadata": {},
     "output_type": "execute_result"
    }
   ],
   "source": [
    "(st_peter_1 - st_peter_2) + (st_peter_0 - st_peter_1) // 2"
   ]
  },
  {
   "cell_type": "code",
   "execution_count": 81,
   "metadata": {},
   "outputs": [],
   "source": [
    "st_peter_10 = st_peter.query('km_to_center == 10')['price_for_meter'].mean()\n",
    "st_peter_24 = st_peter.query('km_to_center == 24')['price_for_meter'].mean()"
   ]
  },
  {
   "cell_type": "code",
   "execution_count": 82,
   "metadata": {},
   "outputs": [
    {
     "data": {
      "text/plain": [
       "1946.0"
      ]
     },
     "execution_count": 82,
     "metadata": {},
     "output_type": "execute_result"
    }
   ],
   "source": [
    "(st_peter_10 - st_peter_24) // 15"
   ]
  },
  {
   "cell_type": "markdown",
   "metadata": {},
   "source": [
    "* В среднем от 0 до 2,5 и от 6 до 9 км от центра Санкт-Петербурга цена за 1 кв.м. по мере удаления от центра города на 1 км будет равна 30300 рублям. \n",
    "* В среднем от 10 до 24 км от центра Санкт-Петербурга цена за 1 кв.м. по мере удаления от центра города на 1 км будет равна 1946 рублям. "
   ]
  },
  {
   "cell_type": "markdown",
   "metadata": {},
   "source": [
    "###### Вывод:\n",
    "* Наибольшая зависимость наблюдается между ценой квартиры и её общей площадью - 65%\n",
    "* Далее идёт жилая площадь - 58%\n",
    "* Площадь кухни - 51%\n",
    "\n",
    "* В среднем квартиры на первом этаже стоят дешевле других\n",
    "\n",
    "* Наибольшее количество объявлений располагается в Санкт-Петербурге\n",
    "* Наименьшее - в Выборге\n",
    "\n",
    "* Самые дорогие квартиры по цене за квадратный метр так же находятся в Санкт-Петербурге\n",
    "* За ним с небольшой разницей идёт город Пушкин\n",
    "* На последнем месте так же находится Выборг\n",
    "\n",
    "* В среднем, чем дальше квартира находится от центра, тем ниже стоимость её квадратного метра, следовательно, ниже и цена самой квартиры\n",
    "\n",
    "* В среднем от 0 до 2,5 и от 6 до 9 км от центра Санкт-Петербурга цена за 1 кв.м. по мере удаления от центра города на 1 км будет равна 30300 рублям.\n",
    "* В среднем от 10 до 24 км от центра Санкт-Петербурга цена за 1 кв.м. по мере удаления от центра города на 1 км будет равна 1946 рублям."
   ]
  },
  {
   "cell_type": "markdown",
   "metadata": {},
   "source": [
    "### Общий вывод"
   ]
  },
  {
   "cell_type": "markdown",
   "metadata": {},
   "source": [
    "* В среднем жилая площадь занимает 57% от общей площади\n",
    "* В среднем площадь кухни заниамет 18% от общей площади\n",
    "* В среднем нежилая площадь (гардероб, санитарные узлы, различные помещения) занимает 25% от общей площади\n",
    "\n",
    "* Больше всего объявлений приходится на квартиры с 1-3 комнатами\n",
    "\n",
    "* Наибольшее количество объвлений с общей площадью 50 кв.м.\n",
    "\n",
    "* Высота потолков в основном составляет 2.5 - 3.2 метра.\n",
    "\n",
    "* Cамые популярные квартиры продаются от 3 до 4 млн рублей и от 4 до 5 млн.\n",
    "\n",
    "* Этажи со 2 по 6 являются самыми популярными\n",
    "\n",
    "* Большинство квартир находится в 5ти и 9тиэтажных домах\n",
    "\n",
    "* Большинство квартир находится в пределах 10-18 км от центра города\n",
    "\n",
    "* Большая часть квартир находится в 10-40 км от ближайшего аэропорта\n",
    "\n",
    "* Большинство квартир находится в пределах 200-700 метров от ближайшего парка\n",
    "\n",
    "* Большая часть людей выкладывает объявления в будние дни, а именно, в четверг, на выходных тенденция заметно уменьшается\n",
    "\n",
    "* Большая часть объявлений приходится на декабрь\n",
    "\n",
    "* Большая часть квартир продаётся в пределах 100 дней\n",
    "\n",
    "* Наиболее быстро продаются квартиры стоимостью от 3 до 4 млн рублей. Однако среднее значение сильно отличается от медианного, значит, есть квартиры, которые долго простаиваются.\n",
    "\n",
    "* Быстрые продажи совершаются в пределах 45 дней, необычно долгие - свыше 230 дней\n",
    "\n",
    "* Наибольшая зависимость наблюдается между ценой квартиры и её общей площадью - 65%\n",
    "* Далее идёт жилая площадь - 58%\n",
    "* Площадь кухни - 51%\n",
    "\n",
    "* В среднем квартиры на первом этаже стоят дешевле других\n",
    "\n",
    "* Наибольшее количество объявлений располагается в Санкт-Петербурге\n",
    "* Наименьшее - в Выборге\n",
    "\n",
    "* Самые дорогие квартиры по цене за квадратный метр так же находятся в Санкт-Петербурге\n",
    "* За ним с небольшой разницей идёт город Пушкин\n",
    "* На последнем месте так же находится Выборг\n",
    "\n",
    "* В среднем, чем дальше квартира находится от центра, тем ниже стоимость её квадратного метра, следовательно, ниже и цена самой квартиры\n",
    "\n",
    "* В среднем от 0 до 2,5 и от 6 до 9 км от центра Санкт-Петербурга цена за 1 кв.м. по мере удаления от центра города на 1 км будет равна 30300 рублям.\n",
    "* В среднем от 10 до 24 км от центра Санкт-Петербурга цена за 1 кв.м. по мере удаления от центра города на 1 км будет равна 1946 рублям."
   ]
  }
 ],
 "metadata": {
  "ExecuteTimeLog": [
   {
    "duration": 1051,
    "start_time": "2023-01-27T07:50:20.891Z"
   },
   {
    "duration": 12,
    "start_time": "2023-01-27T07:52:58.066Z"
   },
   {
    "duration": 30,
    "start_time": "2023-01-27T07:53:04.632Z"
   },
   {
    "duration": 5,
    "start_time": "2023-01-27T07:53:20.216Z"
   },
   {
    "duration": 377,
    "start_time": "2023-01-27T07:56:41.958Z"
   },
   {
    "duration": 6,
    "start_time": "2023-01-27T07:56:55.605Z"
   },
   {
    "duration": 6,
    "start_time": "2023-01-27T07:57:12.859Z"
   },
   {
    "duration": 9,
    "start_time": "2023-01-27T07:57:29.054Z"
   },
   {
    "duration": 11,
    "start_time": "2023-01-27T07:57:54.876Z"
   },
   {
    "duration": 106,
    "start_time": "2023-01-27T07:58:30.562Z"
   },
   {
    "duration": 31,
    "start_time": "2023-01-27T07:58:31.244Z"
   },
   {
    "duration": 2032,
    "start_time": "2023-01-27T07:58:33.864Z"
   },
   {
    "duration": 43,
    "start_time": "2023-01-27T08:03:29.736Z"
   },
   {
    "duration": 15,
    "start_time": "2023-01-27T08:03:41.301Z"
   },
   {
    "duration": 84,
    "start_time": "2023-01-27T08:04:36.109Z"
   },
   {
    "duration": 14,
    "start_time": "2023-01-27T08:07:34.212Z"
   },
   {
    "duration": 294,
    "start_time": "2023-01-27T08:08:57.441Z"
   },
   {
    "duration": 244,
    "start_time": "2023-01-27T08:09:09.944Z"
   },
   {
    "duration": 230,
    "start_time": "2023-01-27T08:09:31.809Z"
   },
   {
    "duration": 250,
    "start_time": "2023-01-27T08:09:52.759Z"
   },
   {
    "duration": 12,
    "start_time": "2023-01-27T08:09:57.120Z"
   },
   {
    "duration": 312,
    "start_time": "2023-01-27T08:09:57.877Z"
   },
   {
    "duration": 256,
    "start_time": "2023-01-27T08:13:46.962Z"
   },
   {
    "duration": 6,
    "start_time": "2023-01-27T08:24:07.746Z"
   },
   {
    "duration": 7,
    "start_time": "2023-01-27T08:28:34.462Z"
   },
   {
    "duration": 5,
    "start_time": "2023-01-27T08:28:57.014Z"
   },
   {
    "duration": 6,
    "start_time": "2023-01-27T08:29:06.928Z"
   },
   {
    "duration": 6,
    "start_time": "2023-01-27T08:31:38.075Z"
   },
   {
    "duration": 11,
    "start_time": "2023-01-27T08:33:30.538Z"
   },
   {
    "duration": 5,
    "start_time": "2023-01-27T08:33:34.532Z"
   },
   {
    "duration": 29,
    "start_time": "2023-01-27T08:34:14.048Z"
   },
   {
    "duration": 28,
    "start_time": "2023-01-27T08:34:25.078Z"
   },
   {
    "duration": 13,
    "start_time": "2023-01-27T08:34:34.502Z"
   },
   {
    "duration": 6,
    "start_time": "2023-01-27T08:35:15.972Z"
   },
   {
    "duration": 8,
    "start_time": "2023-01-27T08:36:49.085Z"
   },
   {
    "duration": 3,
    "start_time": "2023-01-27T08:36:59.128Z"
   },
   {
    "duration": 4,
    "start_time": "2023-01-27T08:37:08.546Z"
   },
   {
    "duration": 5,
    "start_time": "2023-01-27T08:37:12.877Z"
   },
   {
    "duration": 8,
    "start_time": "2023-01-27T08:37:31.300Z"
   },
   {
    "duration": 11,
    "start_time": "2023-01-27T08:40:44.172Z"
   },
   {
    "duration": 7,
    "start_time": "2023-01-27T08:41:23.328Z"
   },
   {
    "duration": 125,
    "start_time": "2023-01-27T08:41:33.961Z"
   },
   {
    "duration": 137,
    "start_time": "2023-01-27T08:41:48.080Z"
   },
   {
    "duration": 7,
    "start_time": "2023-01-27T08:42:40.018Z"
   },
   {
    "duration": 21,
    "start_time": "2023-01-27T08:42:54.887Z"
   },
   {
    "duration": 53,
    "start_time": "2023-01-27T08:43:33.509Z"
   },
   {
    "duration": 56,
    "start_time": "2023-01-27T08:43:42.566Z"
   },
   {
    "duration": 58,
    "start_time": "2023-01-27T08:43:48.410Z"
   },
   {
    "duration": 42,
    "start_time": "2023-01-27T08:43:59.679Z"
   },
   {
    "duration": 48,
    "start_time": "2023-01-27T08:44:04.382Z"
   },
   {
    "duration": 9,
    "start_time": "2023-01-27T08:44:23.842Z"
   },
   {
    "duration": 9,
    "start_time": "2023-01-27T08:44:31.728Z"
   },
   {
    "duration": 42,
    "start_time": "2023-01-27T08:44:36.788Z"
   },
   {
    "duration": 6,
    "start_time": "2023-01-27T08:45:27.332Z"
   },
   {
    "duration": 6,
    "start_time": "2023-01-27T08:45:35.518Z"
   },
   {
    "duration": 7,
    "start_time": "2023-01-27T08:45:41.660Z"
   },
   {
    "duration": 7,
    "start_time": "2023-01-27T08:45:50.066Z"
   },
   {
    "duration": 7,
    "start_time": "2023-01-27T08:45:53.681Z"
   },
   {
    "duration": 9,
    "start_time": "2023-01-27T08:46:20.261Z"
   },
   {
    "duration": 7,
    "start_time": "2023-01-27T08:46:31.918Z"
   },
   {
    "duration": 90,
    "start_time": "2023-01-27T09:14:23.476Z"
   },
   {
    "duration": 29,
    "start_time": "2023-01-27T09:14:23.691Z"
   },
   {
    "duration": 22,
    "start_time": "2023-01-27T09:14:23.850Z"
   },
   {
    "duration": 1873,
    "start_time": "2023-01-27T09:14:24.011Z"
   },
   {
    "duration": 82,
    "start_time": "2023-01-27T09:14:25.886Z"
   },
   {
    "duration": 9,
    "start_time": "2023-01-27T09:14:25.969Z"
   },
   {
    "duration": 293,
    "start_time": "2023-01-27T09:14:25.981Z"
   },
   {
    "duration": 7,
    "start_time": "2023-01-27T09:14:26.863Z"
   },
   {
    "duration": 6,
    "start_time": "2023-01-27T09:14:27.572Z"
   },
   {
    "duration": 6,
    "start_time": "2023-01-27T09:14:27.918Z"
   },
   {
    "duration": 6,
    "start_time": "2023-01-27T09:14:28.050Z"
   },
   {
    "duration": 4,
    "start_time": "2023-01-27T09:14:28.225Z"
   },
   {
    "duration": 3,
    "start_time": "2023-01-27T09:14:28.710Z"
   },
   {
    "duration": 7,
    "start_time": "2023-01-27T09:14:28.882Z"
   },
   {
    "duration": 11,
    "start_time": "2023-01-27T09:14:29.009Z"
   },
   {
    "duration": 8,
    "start_time": "2023-01-27T09:14:29.184Z"
   },
   {
    "duration": 45,
    "start_time": "2023-01-27T09:15:12.870Z"
   },
   {
    "duration": 6,
    "start_time": "2023-01-27T09:18:37.099Z"
   },
   {
    "duration": 7,
    "start_time": "2023-01-27T09:18:41.009Z"
   },
   {
    "duration": 770,
    "start_time": "2023-01-28T12:24:10.581Z"
   },
   {
    "duration": 39,
    "start_time": "2023-01-28T12:24:12.030Z"
   },
   {
    "duration": 16,
    "start_time": "2023-01-28T12:24:12.433Z"
   },
   {
    "duration": 2294,
    "start_time": "2023-01-28T12:24:12.703Z"
   },
   {
    "duration": 80,
    "start_time": "2023-01-28T12:24:15.000Z"
   },
   {
    "duration": 9,
    "start_time": "2023-01-28T12:24:15.081Z"
   },
   {
    "duration": 241,
    "start_time": "2023-01-28T12:24:15.092Z"
   },
   {
    "duration": 7,
    "start_time": "2023-01-28T12:24:15.334Z"
   },
   {
    "duration": 8,
    "start_time": "2023-01-28T12:24:15.344Z"
   },
   {
    "duration": 8,
    "start_time": "2023-01-28T12:24:16.470Z"
   },
   {
    "duration": 8,
    "start_time": "2023-01-28T12:24:17.206Z"
   },
   {
    "duration": 6,
    "start_time": "2023-01-28T12:24:23.403Z"
   },
   {
    "duration": 5,
    "start_time": "2023-01-28T12:24:24.308Z"
   },
   {
    "duration": 8,
    "start_time": "2023-01-28T12:24:24.484Z"
   },
   {
    "duration": 10,
    "start_time": "2023-01-28T12:24:25.984Z"
   },
   {
    "duration": 7,
    "start_time": "2023-01-28T12:24:26.644Z"
   },
   {
    "duration": 49,
    "start_time": "2023-01-28T12:24:28.143Z"
   },
   {
    "duration": 6,
    "start_time": "2023-01-28T12:24:31.245Z"
   },
   {
    "duration": 14,
    "start_time": "2023-01-28T12:31:14.454Z"
   },
   {
    "duration": 4,
    "start_time": "2023-01-28T12:31:35.841Z"
   },
   {
    "duration": 4,
    "start_time": "2023-01-28T13:02:17.318Z"
   },
   {
    "duration": 110,
    "start_time": "2023-01-28T13:02:19.598Z"
   },
   {
    "duration": 30,
    "start_time": "2023-01-28T13:02:19.786Z"
   },
   {
    "duration": 15,
    "start_time": "2023-01-28T13:02:20.003Z"
   },
   {
    "duration": 2180,
    "start_time": "2023-01-28T13:02:20.124Z"
   },
   {
    "duration": 92,
    "start_time": "2023-01-28T13:02:22.309Z"
   },
   {
    "duration": 9,
    "start_time": "2023-01-28T13:02:22.404Z"
   },
   {
    "duration": 294,
    "start_time": "2023-01-28T13:02:22.416Z"
   },
   {
    "duration": 8,
    "start_time": "2023-01-28T13:02:23.101Z"
   },
   {
    "duration": 7,
    "start_time": "2023-01-28T13:02:23.401Z"
   },
   {
    "duration": 6,
    "start_time": "2023-01-28T13:02:23.558Z"
   },
   {
    "duration": 7,
    "start_time": "2023-01-28T13:02:23.720Z"
   },
   {
    "duration": 5,
    "start_time": "2023-01-28T13:02:24.502Z"
   },
   {
    "duration": 4,
    "start_time": "2023-01-28T13:02:24.806Z"
   },
   {
    "duration": 6,
    "start_time": "2023-01-28T13:02:24.968Z"
   },
   {
    "duration": 10,
    "start_time": "2023-01-28T13:02:25.130Z"
   },
   {
    "duration": 10,
    "start_time": "2023-01-28T13:02:25.276Z"
   },
   {
    "duration": 48,
    "start_time": "2023-01-28T13:02:25.430Z"
   },
   {
    "duration": 6,
    "start_time": "2023-01-28T13:02:27.105Z"
   },
   {
    "duration": 5,
    "start_time": "2023-01-28T13:02:28.155Z"
   },
   {
    "duration": 4,
    "start_time": "2023-01-28T13:03:13.301Z"
   },
   {
    "duration": 7,
    "start_time": "2023-01-28T13:03:36.818Z"
   },
   {
    "duration": 5,
    "start_time": "2023-01-28T13:03:40.500Z"
   },
   {
    "duration": 5,
    "start_time": "2023-01-28T13:08:03.563Z"
   },
   {
    "duration": 70,
    "start_time": "2023-01-28T13:10:14.239Z"
   },
   {
    "duration": 6,
    "start_time": "2023-01-28T13:10:21.840Z"
   },
   {
    "duration": 5,
    "start_time": "2023-01-28T13:10:27.925Z"
   },
   {
    "duration": 5,
    "start_time": "2023-01-28T13:10:32.251Z"
   },
   {
    "duration": 9,
    "start_time": "2023-01-28T13:11:22.196Z"
   },
   {
    "duration": 5,
    "start_time": "2023-01-28T13:11:27.188Z"
   },
   {
    "duration": 6,
    "start_time": "2023-01-28T13:12:11.789Z"
   },
   {
    "duration": 7,
    "start_time": "2023-01-28T13:13:14.877Z"
   },
   {
    "duration": 7,
    "start_time": "2023-01-28T13:13:19.345Z"
   },
   {
    "duration": 8,
    "start_time": "2023-01-28T13:13:24.349Z"
   },
   {
    "duration": 7,
    "start_time": "2023-01-28T13:13:56.044Z"
   },
   {
    "duration": 7,
    "start_time": "2023-01-28T13:14:03.757Z"
   },
   {
    "duration": 9,
    "start_time": "2023-01-28T13:14:51.259Z"
   },
   {
    "duration": 8,
    "start_time": "2023-01-28T13:14:59.888Z"
   },
   {
    "duration": 104,
    "start_time": "2023-01-28T13:15:10.643Z"
   },
   {
    "duration": 6,
    "start_time": "2023-01-28T13:15:13.780Z"
   },
   {
    "duration": 6,
    "start_time": "2023-01-28T13:15:14.542Z"
   },
   {
    "duration": 6,
    "start_time": "2023-01-28T13:16:22.345Z"
   },
   {
    "duration": 8,
    "start_time": "2023-01-28T13:16:26.757Z"
   },
   {
    "duration": 5,
    "start_time": "2023-01-28T13:16:34.305Z"
   },
   {
    "duration": 7,
    "start_time": "2023-01-28T13:16:37.343Z"
   },
   {
    "duration": 6,
    "start_time": "2023-01-28T13:16:48.100Z"
   },
   {
    "duration": 6,
    "start_time": "2023-01-28T13:16:54.311Z"
   },
   {
    "duration": 7,
    "start_time": "2023-01-28T13:16:58.470Z"
   },
   {
    "duration": 6,
    "start_time": "2023-01-28T13:17:47.602Z"
   },
   {
    "duration": 7,
    "start_time": "2023-01-28T13:18:27.156Z"
   },
   {
    "duration": 7,
    "start_time": "2023-01-28T13:18:29.066Z"
   },
   {
    "duration": 9,
    "start_time": "2023-01-28T13:18:29.534Z"
   },
   {
    "duration": 8,
    "start_time": "2023-01-28T13:19:32.649Z"
   },
   {
    "duration": 7,
    "start_time": "2023-01-28T13:19:39.603Z"
   },
   {
    "duration": 7,
    "start_time": "2023-01-28T13:19:52.064Z"
   },
   {
    "duration": 7,
    "start_time": "2023-01-28T13:19:57.343Z"
   },
   {
    "duration": 7,
    "start_time": "2023-01-28T13:19:58.739Z"
   },
   {
    "duration": 7,
    "start_time": "2023-01-28T13:19:59.043Z"
   },
   {
    "duration": 8,
    "start_time": "2023-01-28T13:21:06.814Z"
   },
   {
    "duration": 10,
    "start_time": "2023-01-28T13:21:12.809Z"
   },
   {
    "duration": 9,
    "start_time": "2023-01-28T13:21:19.539Z"
   },
   {
    "duration": 82,
    "start_time": "2023-01-28T13:21:35.809Z"
   },
   {
    "duration": 7,
    "start_time": "2023-01-28T13:21:40.979Z"
   },
   {
    "duration": 7,
    "start_time": "2023-01-28T13:21:57.560Z"
   },
   {
    "duration": 7,
    "start_time": "2023-01-28T13:23:56.689Z"
   },
   {
    "duration": 7,
    "start_time": "2023-01-28T13:23:59.721Z"
   },
   {
    "duration": 7,
    "start_time": "2023-01-28T13:24:17.421Z"
   },
   {
    "duration": 6,
    "start_time": "2023-01-28T13:24:18.267Z"
   },
   {
    "duration": 9,
    "start_time": "2023-01-28T13:24:33.422Z"
   },
   {
    "duration": 6,
    "start_time": "2023-01-28T13:24:34.364Z"
   },
   {
    "duration": 14,
    "start_time": "2023-01-28T13:28:02.281Z"
   },
   {
    "duration": 11,
    "start_time": "2023-01-28T13:28:21.362Z"
   },
   {
    "duration": 11,
    "start_time": "2023-01-28T13:28:40.752Z"
   },
   {
    "duration": 7,
    "start_time": "2023-01-28T13:29:02.706Z"
   },
   {
    "duration": 9,
    "start_time": "2023-01-28T13:29:03.316Z"
   },
   {
    "duration": 10,
    "start_time": "2023-01-28T13:29:47.139Z"
   },
   {
    "duration": 96,
    "start_time": "2023-01-28T13:30:25.970Z"
   },
   {
    "duration": 38,
    "start_time": "2023-01-28T13:30:26.590Z"
   },
   {
    "duration": 15,
    "start_time": "2023-01-28T13:30:26.731Z"
   },
   {
    "duration": 2136,
    "start_time": "2023-01-28T13:30:27.223Z"
   },
   {
    "duration": 83,
    "start_time": "2023-01-28T13:30:29.361Z"
   },
   {
    "duration": 9,
    "start_time": "2023-01-28T13:30:29.446Z"
   },
   {
    "duration": 279,
    "start_time": "2023-01-28T13:30:30.330Z"
   },
   {
    "duration": 7,
    "start_time": "2023-01-28T13:30:32.095Z"
   },
   {
    "duration": 7,
    "start_time": "2023-01-28T13:30:32.868Z"
   },
   {
    "duration": 6,
    "start_time": "2023-01-28T13:30:33.066Z"
   },
   {
    "duration": 8,
    "start_time": "2023-01-28T13:30:33.270Z"
   },
   {
    "duration": 5,
    "start_time": "2023-01-28T13:30:33.462Z"
   },
   {
    "duration": 4,
    "start_time": "2023-01-28T13:30:33.802Z"
   },
   {
    "duration": 6,
    "start_time": "2023-01-28T13:30:33.939Z"
   },
   {
    "duration": 11,
    "start_time": "2023-01-28T13:30:34.103Z"
   },
   {
    "duration": 7,
    "start_time": "2023-01-28T13:30:34.241Z"
   },
   {
    "duration": 48,
    "start_time": "2023-01-28T13:30:34.402Z"
   },
   {
    "duration": 6,
    "start_time": "2023-01-28T13:30:35.049Z"
   },
   {
    "duration": 5,
    "start_time": "2023-01-28T13:30:35.405Z"
   },
   {
    "duration": 4,
    "start_time": "2023-01-28T13:30:35.625Z"
   },
   {
    "duration": 5,
    "start_time": "2023-01-28T13:30:35.801Z"
   },
   {
    "duration": 8,
    "start_time": "2023-01-28T13:30:35.963Z"
   },
   {
    "duration": 8,
    "start_time": "2023-01-28T13:30:36.448Z"
   },
   {
    "duration": 8,
    "start_time": "2023-01-28T13:30:37.110Z"
   },
   {
    "duration": 11,
    "start_time": "2023-01-28T13:30:38.753Z"
   },
   {
    "duration": 5,
    "start_time": "2023-01-28T13:31:22.023Z"
   },
   {
    "duration": 6,
    "start_time": "2023-01-28T13:31:36.261Z"
   },
   {
    "duration": 8,
    "start_time": "2023-01-28T13:31:56.104Z"
   },
   {
    "duration": 6,
    "start_time": "2023-01-28T13:32:06.673Z"
   },
   {
    "duration": 8,
    "start_time": "2023-01-28T13:32:11.084Z"
   },
   {
    "duration": 4,
    "start_time": "2023-01-28T13:32:21.950Z"
   },
   {
    "duration": 5,
    "start_time": "2023-01-28T13:32:43.144Z"
   },
   {
    "duration": 8,
    "start_time": "2023-01-28T13:33:30.390Z"
   },
   {
    "duration": 5,
    "start_time": "2023-01-28T13:33:48.160Z"
   },
   {
    "duration": 9,
    "start_time": "2023-01-28T13:39:42.030Z"
   },
   {
    "duration": 5,
    "start_time": "2023-01-28T13:40:06.067Z"
   },
   {
    "duration": 40,
    "start_time": "2023-01-28T13:41:56.291Z"
   },
   {
    "duration": 15,
    "start_time": "2023-01-28T13:42:01.973Z"
   },
   {
    "duration": 16,
    "start_time": "2023-01-28T13:42:33.304Z"
   },
   {
    "duration": 17,
    "start_time": "2023-01-28T13:42:51.884Z"
   },
   {
    "duration": 26,
    "start_time": "2023-01-28T13:43:21.569Z"
   },
   {
    "duration": 30,
    "start_time": "2023-01-28T13:43:53.216Z"
   },
   {
    "duration": 15,
    "start_time": "2023-01-28T13:44:01.125Z"
   },
   {
    "duration": 26,
    "start_time": "2023-01-28T13:44:07.915Z"
   },
   {
    "duration": 16,
    "start_time": "2023-01-28T13:44:28.218Z"
   },
   {
    "duration": 16,
    "start_time": "2023-01-28T13:44:32.532Z"
   },
   {
    "duration": 6,
    "start_time": "2023-01-28T13:44:56.166Z"
   },
   {
    "duration": 4,
    "start_time": "2023-01-28T13:45:11.758Z"
   },
   {
    "duration": 24,
    "start_time": "2023-01-28T13:45:18.881Z"
   },
   {
    "duration": 5,
    "start_time": "2023-01-28T13:45:42.663Z"
   },
   {
    "duration": 8,
    "start_time": "2023-01-28T13:45:55.586Z"
   },
   {
    "duration": 9,
    "start_time": "2023-01-28T13:46:01.162Z"
   },
   {
    "duration": 17,
    "start_time": "2023-01-28T13:46:05.279Z"
   },
   {
    "duration": 65,
    "start_time": "2023-01-28T13:46:09.221Z"
   },
   {
    "duration": 6,
    "start_time": "2023-01-28T13:46:12.296Z"
   },
   {
    "duration": 77,
    "start_time": "2023-01-28T13:48:21.827Z"
   },
   {
    "duration": 72,
    "start_time": "2023-01-28T13:48:26.767Z"
   },
   {
    "duration": 10,
    "start_time": "2023-01-28T13:48:30.752Z"
   },
   {
    "duration": 15,
    "start_time": "2023-01-28T13:48:37.026Z"
   },
   {
    "duration": 15,
    "start_time": "2023-01-28T13:48:55.220Z"
   },
   {
    "duration": 25,
    "start_time": "2023-01-28T13:49:17.898Z"
   },
   {
    "duration": 4,
    "start_time": "2023-01-28T13:55:28.667Z"
   },
   {
    "duration": 32,
    "start_time": "2023-01-28T13:55:52.849Z"
   },
   {
    "duration": 5,
    "start_time": "2023-01-28T13:56:07.935Z"
   },
   {
    "duration": 30,
    "start_time": "2023-01-28T13:56:08.310Z"
   },
   {
    "duration": 7,
    "start_time": "2023-01-28T13:59:56.140Z"
   },
   {
    "duration": 6,
    "start_time": "2023-01-28T14:00:03.761Z"
   },
   {
    "duration": 6,
    "start_time": "2023-01-28T14:00:12.850Z"
   },
   {
    "duration": 28,
    "start_time": "2023-01-28T14:00:22.688Z"
   },
   {
    "duration": 6,
    "start_time": "2023-01-28T14:00:34.307Z"
   },
   {
    "duration": 28,
    "start_time": "2023-01-28T14:00:34.801Z"
   },
   {
    "duration": 9,
    "start_time": "2023-01-28T14:01:10.736Z"
   },
   {
    "duration": 5,
    "start_time": "2023-01-28T14:01:14.118Z"
   },
   {
    "duration": 29,
    "start_time": "2023-01-28T14:01:14.558Z"
   },
   {
    "duration": 16,
    "start_time": "2023-01-28T14:02:31.391Z"
   },
   {
    "duration": 26,
    "start_time": "2023-01-28T14:02:32.035Z"
   },
   {
    "duration": 89,
    "start_time": "2023-01-28T14:08:34.610Z"
   },
   {
    "duration": 69,
    "start_time": "2023-01-28T14:08:42.319Z"
   },
   {
    "duration": 91,
    "start_time": "2023-01-28T14:08:47.942Z"
   },
   {
    "duration": 81,
    "start_time": "2023-01-28T14:09:02.499Z"
   },
   {
    "duration": 4,
    "start_time": "2023-01-28T14:09:21.585Z"
   },
   {
    "duration": 13,
    "start_time": "2023-01-28T14:09:30.684Z"
   },
   {
    "duration": 33,
    "start_time": "2023-01-28T14:09:41.487Z"
   },
   {
    "duration": 72,
    "start_time": "2023-01-28T14:09:48.563Z"
   },
   {
    "duration": 26,
    "start_time": "2023-01-28T14:09:55.979Z"
   },
   {
    "duration": 7,
    "start_time": "2023-01-28T14:10:25.152Z"
   },
   {
    "duration": 8,
    "start_time": "2023-01-28T14:15:54.101Z"
   },
   {
    "duration": 10,
    "start_time": "2023-01-28T14:16:03.025Z"
   },
   {
    "duration": 8,
    "start_time": "2023-01-28T14:16:49.237Z"
   },
   {
    "duration": 6,
    "start_time": "2023-01-28T14:18:14.060Z"
   },
   {
    "duration": 39,
    "start_time": "2023-01-28T14:18:23.072Z"
   },
   {
    "duration": 10,
    "start_time": "2023-01-28T14:18:44.044Z"
   },
   {
    "duration": 5,
    "start_time": "2023-01-28T14:18:49.171Z"
   },
   {
    "duration": 4,
    "start_time": "2023-01-28T14:18:54.957Z"
   },
   {
    "duration": 34,
    "start_time": "2023-01-28T14:18:55.365Z"
   },
   {
    "duration": 543,
    "start_time": "2023-01-29T09:53:50.638Z"
   },
   {
    "duration": 43,
    "start_time": "2023-01-29T09:53:51.660Z"
   },
   {
    "duration": 24,
    "start_time": "2023-01-29T09:53:52.595Z"
   },
   {
    "duration": 2615,
    "start_time": "2023-01-29T09:53:53.288Z"
   },
   {
    "duration": 87,
    "start_time": "2023-01-29T09:53:55.905Z"
   },
   {
    "duration": 24,
    "start_time": "2023-01-29T09:53:55.994Z"
   },
   {
    "duration": 263,
    "start_time": "2023-01-29T09:53:56.023Z"
   },
   {
    "duration": 91,
    "start_time": "2023-01-29T09:53:58.543Z"
   },
   {
    "duration": 33,
    "start_time": "2023-01-29T09:53:58.920Z"
   },
   {
    "duration": 22,
    "start_time": "2023-01-29T09:53:59.426Z"
   },
   {
    "duration": 2149,
    "start_time": "2023-01-29T09:53:59.923Z"
   },
   {
    "duration": 108,
    "start_time": "2023-01-29T09:54:02.074Z"
   },
   {
    "duration": 11,
    "start_time": "2023-01-29T09:54:04.950Z"
   },
   {
    "duration": 330,
    "start_time": "2023-01-29T09:54:06.229Z"
   },
   {
    "duration": 9,
    "start_time": "2023-01-29T09:54:08.695Z"
   },
   {
    "duration": 8,
    "start_time": "2023-01-29T09:54:09.440Z"
   },
   {
    "duration": 13,
    "start_time": "2023-01-29T09:54:09.596Z"
   },
   {
    "duration": 8,
    "start_time": "2023-01-29T09:54:10.030Z"
   },
   {
    "duration": 5,
    "start_time": "2023-01-29T09:54:10.383Z"
   },
   {
    "duration": 5,
    "start_time": "2023-01-29T09:54:11.148Z"
   },
   {
    "duration": 9,
    "start_time": "2023-01-29T09:54:11.430Z"
   },
   {
    "duration": 12,
    "start_time": "2023-01-29T09:54:11.721Z"
   },
   {
    "duration": 10,
    "start_time": "2023-01-29T09:54:11.935Z"
   },
   {
    "duration": 57,
    "start_time": "2023-01-29T09:54:12.137Z"
   },
   {
    "duration": 13,
    "start_time": "2023-01-29T09:54:12.510Z"
   },
   {
    "duration": 5,
    "start_time": "2023-01-29T09:54:12.744Z"
   },
   {
    "duration": 5,
    "start_time": "2023-01-29T09:54:12.837Z"
   },
   {
    "duration": 7,
    "start_time": "2023-01-29T09:54:13.019Z"
   },
   {
    "duration": 7,
    "start_time": "2023-01-29T09:54:13.222Z"
   },
   {
    "duration": 8,
    "start_time": "2023-01-29T09:54:13.726Z"
   },
   {
    "duration": 9,
    "start_time": "2023-01-29T09:54:13.936Z"
   },
   {
    "duration": 11,
    "start_time": "2023-01-29T09:54:16.408Z"
   },
   {
    "duration": 7,
    "start_time": "2023-01-29T09:54:17.026Z"
   },
   {
    "duration": 9,
    "start_time": "2023-01-29T09:54:17.554Z"
   },
   {
    "duration": 7,
    "start_time": "2023-01-29T09:54:17.785Z"
   },
   {
    "duration": 6,
    "start_time": "2023-01-29T09:54:18.722Z"
   },
   {
    "duration": 35,
    "start_time": "2023-01-29T09:54:18.923Z"
   },
   {
    "duration": 15,
    "start_time": "2023-01-29T09:54:19.170Z"
   },
   {
    "duration": 28,
    "start_time": "2023-01-29T09:54:19.326Z"
   },
   {
    "duration": 13,
    "start_time": "2023-01-29T09:54:19.526Z"
   },
   {
    "duration": 7,
    "start_time": "2023-01-29T09:54:19.730Z"
   },
   {
    "duration": 46,
    "start_time": "2023-01-29T09:54:19.879Z"
   },
   {
    "duration": 6,
    "start_time": "2023-01-29T09:54:20.224Z"
   },
   {
    "duration": 5,
    "start_time": "2023-01-29T09:54:20.422Z"
   },
   {
    "duration": 34,
    "start_time": "2023-01-29T09:54:20.792Z"
   },
   {
    "duration": 32131,
    "start_time": "2023-01-29T09:57:05.779Z"
   },
   {
    "duration": 224,
    "start_time": "2023-01-29T09:59:57.159Z"
   },
   {
    "duration": 228,
    "start_time": "2023-01-29T10:00:04.786Z"
   },
   {
    "duration": 197,
    "start_time": "2023-01-29T10:00:08.316Z"
   },
   {
    "duration": 188,
    "start_time": "2023-01-29T10:00:11.021Z"
   },
   {
    "duration": 218,
    "start_time": "2023-01-29T10:00:13.937Z"
   },
   {
    "duration": 717,
    "start_time": "2023-01-29T10:00:16.763Z"
   },
   {
    "duration": 224,
    "start_time": "2023-01-29T10:00:21.658Z"
   },
   {
    "duration": 238,
    "start_time": "2023-01-29T10:00:25.068Z"
   },
   {
    "duration": 176,
    "start_time": "2023-01-29T10:00:28.538Z"
   },
   {
    "duration": 280,
    "start_time": "2023-01-29T10:00:31.055Z"
   },
   {
    "duration": 172,
    "start_time": "2023-01-29T10:00:36.158Z"
   },
   {
    "duration": 268,
    "start_time": "2023-01-29T10:02:57.494Z"
   },
   {
    "duration": 264,
    "start_time": "2023-01-29T10:03:03.165Z"
   },
   {
    "duration": 238,
    "start_time": "2023-01-29T10:03:15.994Z"
   },
   {
    "duration": 179,
    "start_time": "2023-01-29T10:03:32.437Z"
   },
   {
    "duration": 194,
    "start_time": "2023-01-29T10:04:55.985Z"
   },
   {
    "duration": 221,
    "start_time": "2023-01-29T10:05:00.353Z"
   },
   {
    "duration": 254,
    "start_time": "2023-01-29T10:05:06.037Z"
   },
   {
    "duration": 162,
    "start_time": "2023-01-29T10:05:09.045Z"
   },
   {
    "duration": 174,
    "start_time": "2023-01-29T10:05:17.356Z"
   },
   {
    "duration": 168,
    "start_time": "2023-01-29T10:05:23.526Z"
   },
   {
    "duration": 231,
    "start_time": "2023-01-29T10:05:28.422Z"
   },
   {
    "duration": 267,
    "start_time": "2023-01-29T10:05:42.276Z"
   },
   {
    "duration": 264,
    "start_time": "2023-01-29T10:05:48.872Z"
   },
   {
    "duration": 47,
    "start_time": "2023-01-29T10:05:59.953Z"
   },
   {
    "duration": 251,
    "start_time": "2023-01-29T10:06:03.443Z"
   },
   {
    "duration": 202,
    "start_time": "2023-01-29T10:06:08.270Z"
   },
   {
    "duration": 195,
    "start_time": "2023-01-29T10:06:13.688Z"
   },
   {
    "duration": 212,
    "start_time": "2023-01-29T10:06:18.256Z"
   },
   {
    "duration": 218,
    "start_time": "2023-01-29T10:06:27.368Z"
   },
   {
    "duration": 201,
    "start_time": "2023-01-29T10:06:31.460Z"
   },
   {
    "duration": 178,
    "start_time": "2023-01-29T10:08:38.587Z"
   },
   {
    "duration": 190,
    "start_time": "2023-01-29T10:08:42.462Z"
   },
   {
    "duration": 201,
    "start_time": "2023-01-29T10:08:46.651Z"
   },
   {
    "duration": 195,
    "start_time": "2023-01-29T10:08:59.678Z"
   },
   {
    "duration": 223,
    "start_time": "2023-01-29T10:09:03.726Z"
   },
   {
    "duration": 232,
    "start_time": "2023-01-29T10:09:07.530Z"
   },
   {
    "duration": 242,
    "start_time": "2023-01-29T10:09:14.459Z"
   },
   {
    "duration": 257,
    "start_time": "2023-01-29T10:09:18.102Z"
   },
   {
    "duration": 225,
    "start_time": "2023-01-29T10:09:21.367Z"
   },
   {
    "duration": 270,
    "start_time": "2023-01-29T10:09:24.061Z"
   },
   {
    "duration": 232,
    "start_time": "2023-01-29T10:09:29.062Z"
   },
   {
    "duration": 203,
    "start_time": "2023-01-29T10:09:37.935Z"
   },
   {
    "duration": 189,
    "start_time": "2023-01-29T10:09:41.927Z"
   },
   {
    "duration": 212,
    "start_time": "2023-01-29T10:12:13.049Z"
   },
   {
    "duration": 225,
    "start_time": "2023-01-29T10:12:21.771Z"
   },
   {
    "duration": 249,
    "start_time": "2023-01-29T10:12:32.896Z"
   },
   {
    "duration": 245,
    "start_time": "2023-01-29T10:12:36.538Z"
   },
   {
    "duration": 184,
    "start_time": "2023-01-29T10:12:40.698Z"
   },
   {
    "duration": 194,
    "start_time": "2023-01-29T10:12:45.396Z"
   },
   {
    "duration": 230,
    "start_time": "2023-01-29T10:12:50.760Z"
   },
   {
    "duration": 185,
    "start_time": "2023-01-29T10:13:20.860Z"
   },
   {
    "duration": 243,
    "start_time": "2023-01-29T10:13:26.974Z"
   },
   {
    "duration": 190,
    "start_time": "2023-01-29T10:13:30.596Z"
   },
   {
    "duration": 196,
    "start_time": "2023-01-29T10:14:42.162Z"
   },
   {
    "duration": 172,
    "start_time": "2023-01-29T10:15:15.725Z"
   },
   {
    "duration": 200,
    "start_time": "2023-01-29T10:15:25.946Z"
   },
   {
    "duration": 209,
    "start_time": "2023-01-29T10:15:28.753Z"
   },
   {
    "duration": 161,
    "start_time": "2023-01-29T10:15:32.069Z"
   },
   {
    "duration": 278,
    "start_time": "2023-01-29T10:15:50.787Z"
   },
   {
    "duration": 208,
    "start_time": "2023-01-29T10:15:54.455Z"
   },
   {
    "duration": 213,
    "start_time": "2023-01-29T10:15:58.733Z"
   },
   {
    "duration": 218,
    "start_time": "2023-01-29T10:16:02.282Z"
   },
   {
    "duration": 236,
    "start_time": "2023-01-29T10:16:05.961Z"
   },
   {
    "duration": 198,
    "start_time": "2023-01-29T10:16:09.366Z"
   },
   {
    "duration": 169,
    "start_time": "2023-01-29T10:16:12.340Z"
   },
   {
    "duration": 294,
    "start_time": "2023-01-29T10:16:17.194Z"
   },
   {
    "duration": 266,
    "start_time": "2023-01-29T10:16:21.353Z"
   },
   {
    "duration": 329,
    "start_time": "2023-01-29T10:16:24.387Z"
   },
   {
    "duration": 253,
    "start_time": "2023-01-29T10:16:27.344Z"
   },
   {
    "duration": 224,
    "start_time": "2023-01-29T10:16:36.265Z"
   },
   {
    "duration": 206,
    "start_time": "2023-01-29T10:16:41.657Z"
   },
   {
    "duration": 271,
    "start_time": "2023-01-29T10:16:46.261Z"
   },
   {
    "duration": 143,
    "start_time": "2023-01-29T10:16:52.136Z"
   },
   {
    "duration": 188,
    "start_time": "2023-01-29T10:17:05.684Z"
   },
   {
    "duration": 237,
    "start_time": "2023-01-29T10:17:12.182Z"
   },
   {
    "duration": 6,
    "start_time": "2023-01-29T10:24:18.625Z"
   },
   {
    "duration": 5,
    "start_time": "2023-01-29T10:25:17.272Z"
   },
   {
    "duration": 1031,
    "start_time": "2023-01-29T10:26:04.580Z"
   },
   {
    "duration": 16,
    "start_time": "2023-01-29T10:26:48.953Z"
   },
   {
    "duration": 26,
    "start_time": "2023-01-29T10:27:31.948Z"
   },
   {
    "duration": 27,
    "start_time": "2023-01-29T10:28:56.366Z"
   },
   {
    "duration": 25,
    "start_time": "2023-01-29T10:29:12.683Z"
   },
   {
    "duration": 10,
    "start_time": "2023-01-29T10:30:00.733Z"
   },
   {
    "duration": 10,
    "start_time": "2023-01-29T10:30:26.292Z"
   },
   {
    "duration": 16,
    "start_time": "2023-01-29T10:30:40.289Z"
   },
   {
    "duration": 13,
    "start_time": "2023-01-29T10:30:49.292Z"
   },
   {
    "duration": 22,
    "start_time": "2023-01-29T10:31:03.342Z"
   },
   {
    "duration": 14,
    "start_time": "2023-01-29T10:31:05.732Z"
   },
   {
    "duration": 244,
    "start_time": "2023-01-29T10:34:31.391Z"
   },
   {
    "duration": 206,
    "start_time": "2023-01-29T10:34:37.951Z"
   },
   {
    "duration": 235,
    "start_time": "2023-01-29T10:34:44.168Z"
   },
   {
    "duration": 15,
    "start_time": "2023-01-29T10:35:29.472Z"
   },
   {
    "duration": 17,
    "start_time": "2023-01-29T10:35:36.642Z"
   },
   {
    "duration": 25,
    "start_time": "2023-01-29T10:35:46.860Z"
   },
   {
    "duration": 17,
    "start_time": "2023-01-29T10:35:50.166Z"
   },
   {
    "duration": 18,
    "start_time": "2023-01-29T10:35:54.246Z"
   },
   {
    "duration": 17,
    "start_time": "2023-01-29T10:35:56.646Z"
   },
   {
    "duration": 24,
    "start_time": "2023-01-29T10:36:13.583Z"
   },
   {
    "duration": 28,
    "start_time": "2023-01-29T10:36:18.661Z"
   },
   {
    "duration": 13,
    "start_time": "2023-01-29T10:37:35.365Z"
   },
   {
    "duration": 8,
    "start_time": "2023-01-29T10:37:37.935Z"
   },
   {
    "duration": 55,
    "start_time": "2023-01-29T10:38:31.228Z"
   },
   {
    "duration": 20,
    "start_time": "2023-01-29T10:38:35.388Z"
   },
   {
    "duration": 15,
    "start_time": "2023-01-29T10:39:01.757Z"
   },
   {
    "duration": 21,
    "start_time": "2023-01-29T10:39:14.143Z"
   },
   {
    "duration": 23,
    "start_time": "2023-01-29T10:39:34.238Z"
   },
   {
    "duration": 13,
    "start_time": "2023-01-29T10:40:01.847Z"
   },
   {
    "duration": 15,
    "start_time": "2023-01-29T10:40:39.828Z"
   },
   {
    "duration": 19,
    "start_time": "2023-01-29T10:40:44.037Z"
   },
   {
    "duration": 74,
    "start_time": "2023-01-29T10:41:16.945Z"
   },
   {
    "duration": 85,
    "start_time": "2023-01-29T10:41:23.608Z"
   },
   {
    "duration": 20,
    "start_time": "2023-01-29T10:41:27.935Z"
   },
   {
    "duration": 11,
    "start_time": "2023-01-29T10:42:47.747Z"
   },
   {
    "duration": 8,
    "start_time": "2023-01-29T10:42:51.602Z"
   },
   {
    "duration": 8,
    "start_time": "2023-01-29T10:42:55.155Z"
   },
   {
    "duration": 203,
    "start_time": "2023-01-29T13:14:30.845Z"
   },
   {
    "duration": 92,
    "start_time": "2023-01-29T13:14:35.945Z"
   },
   {
    "duration": 30,
    "start_time": "2023-01-29T13:14:36.941Z"
   },
   {
    "duration": 28,
    "start_time": "2023-01-29T13:14:37.731Z"
   },
   {
    "duration": 2296,
    "start_time": "2023-01-29T13:14:38.172Z"
   },
   {
    "duration": 92,
    "start_time": "2023-01-29T13:14:40.470Z"
   },
   {
    "duration": 9,
    "start_time": "2023-01-29T13:14:40.564Z"
   },
   {
    "duration": 308,
    "start_time": "2023-01-29T13:14:40.575Z"
   },
   {
    "duration": 7,
    "start_time": "2023-01-29T13:14:42.372Z"
   },
   {
    "duration": 10,
    "start_time": "2023-01-29T13:14:43.141Z"
   },
   {
    "duration": 7,
    "start_time": "2023-01-29T13:14:43.266Z"
   },
   {
    "duration": 8,
    "start_time": "2023-01-29T13:14:43.448Z"
   },
   {
    "duration": 5,
    "start_time": "2023-01-29T13:14:43.573Z"
   },
   {
    "duration": 6,
    "start_time": "2023-01-29T13:14:43.886Z"
   },
   {
    "duration": 8,
    "start_time": "2023-01-29T13:14:44.042Z"
   },
   {
    "duration": 11,
    "start_time": "2023-01-29T13:14:44.167Z"
   },
   {
    "duration": 9,
    "start_time": "2023-01-29T13:14:44.343Z"
   },
   {
    "duration": 68,
    "start_time": "2023-01-29T13:14:44.483Z"
   },
   {
    "duration": 6,
    "start_time": "2023-01-29T13:14:44.844Z"
   },
   {
    "duration": 4,
    "start_time": "2023-01-29T13:14:44.987Z"
   },
   {
    "duration": 4,
    "start_time": "2023-01-29T13:14:45.149Z"
   },
   {
    "duration": 11,
    "start_time": "2023-01-29T13:14:45.328Z"
   },
   {
    "duration": 7,
    "start_time": "2023-01-29T13:14:45.465Z"
   },
   {
    "duration": 6,
    "start_time": "2023-01-29T13:14:45.645Z"
   },
   {
    "duration": 8,
    "start_time": "2023-01-29T13:14:46.141Z"
   },
   {
    "duration": 9,
    "start_time": "2023-01-29T13:14:46.385Z"
   },
   {
    "duration": 6,
    "start_time": "2023-01-29T13:14:46.460Z"
   },
   {
    "duration": 8,
    "start_time": "2023-01-29T13:14:46.645Z"
   },
   {
    "duration": 6,
    "start_time": "2023-01-29T13:14:46.744Z"
   },
   {
    "duration": 6,
    "start_time": "2023-01-29T13:14:47.056Z"
   },
   {
    "duration": 39,
    "start_time": "2023-01-29T13:14:47.135Z"
   },
   {
    "duration": 16,
    "start_time": "2023-01-29T13:14:47.236Z"
   },
   {
    "duration": 34,
    "start_time": "2023-01-29T13:14:47.313Z"
   },
   {
    "duration": 10,
    "start_time": "2023-01-29T13:14:47.380Z"
   },
   {
    "duration": 7,
    "start_time": "2023-01-29T13:14:47.466Z"
   },
   {
    "duration": 23,
    "start_time": "2023-01-29T13:14:47.559Z"
   },
   {
    "duration": 9,
    "start_time": "2023-01-29T13:14:47.640Z"
   },
   {
    "duration": 5,
    "start_time": "2023-01-29T13:14:47.743Z"
   },
   {
    "duration": 39,
    "start_time": "2023-01-29T13:14:47.800Z"
   },
   {
    "duration": 167,
    "start_time": "2023-01-29T13:14:48.050Z"
   },
   {
    "duration": 163,
    "start_time": "2023-01-29T13:14:49.379Z"
   },
   {
    "duration": 137,
    "start_time": "2023-01-29T13:14:49.552Z"
   },
   {
    "duration": 197,
    "start_time": "2023-01-29T13:14:49.701Z"
   },
   {
    "duration": 9,
    "start_time": "2023-01-29T13:14:49.904Z"
   },
   {
    "duration": 260,
    "start_time": "2023-01-29T13:14:49.954Z"
   },
   {
    "duration": 12,
    "start_time": "2023-01-29T13:14:50.537Z"
   },
   {
    "duration": 21,
    "start_time": "2023-01-29T13:14:50.890Z"
   },
   {
    "duration": 193,
    "start_time": "2023-01-29T13:14:51.259Z"
   },
   {
    "duration": 206,
    "start_time": "2023-01-29T13:15:03.836Z"
   },
   {
    "duration": 171,
    "start_time": "2023-01-29T13:15:08.584Z"
   },
   {
    "duration": 186,
    "start_time": "2023-01-29T13:15:28.875Z"
   },
   {
    "duration": 157,
    "start_time": "2023-01-29T13:15:36.782Z"
   },
   {
    "duration": 190,
    "start_time": "2023-01-29T13:15:39.748Z"
   },
   {
    "duration": 228,
    "start_time": "2023-01-29T13:15:49.033Z"
   },
   {
    "duration": 178,
    "start_time": "2023-01-29T13:15:52.945Z"
   },
   {
    "duration": 627,
    "start_time": "2023-01-29T13:15:56.290Z"
   },
   {
    "duration": 185,
    "start_time": "2023-01-29T13:16:01.739Z"
   },
   {
    "duration": 7,
    "start_time": "2023-01-29T13:17:02.539Z"
   },
   {
    "duration": 8,
    "start_time": "2023-01-29T13:17:14.462Z"
   },
   {
    "duration": 10,
    "start_time": "2023-01-29T13:17:19.490Z"
   },
   {
    "duration": 168,
    "start_time": "2023-01-29T13:17:40.265Z"
   },
   {
    "duration": 201,
    "start_time": "2023-01-29T13:17:49.546Z"
   },
   {
    "duration": 648,
    "start_time": "2023-01-29T13:17:58.956Z"
   },
   {
    "duration": 219,
    "start_time": "2023-01-29T13:18:05.679Z"
   },
   {
    "duration": 147,
    "start_time": "2023-01-29T13:18:07.832Z"
   },
   {
    "duration": 194,
    "start_time": "2023-01-29T13:18:14.671Z"
   },
   {
    "duration": 4,
    "start_time": "2023-01-29T13:18:40.185Z"
   },
   {
    "duration": 48,
    "start_time": "2023-01-29T13:18:45.247Z"
   },
   {
    "duration": 54,
    "start_time": "2023-01-29T13:18:49.720Z"
   },
   {
    "duration": 5,
    "start_time": "2023-01-29T13:18:51.884Z"
   },
   {
    "duration": 15,
    "start_time": "2023-01-29T13:19:01.898Z"
   },
   {
    "duration": 8,
    "start_time": "2023-01-29T13:19:10.048Z"
   },
   {
    "duration": 7,
    "start_time": "2023-01-29T13:19:14.677Z"
   },
   {
    "duration": 5,
    "start_time": "2023-01-29T13:19:31.745Z"
   },
   {
    "duration": 192,
    "start_time": "2023-01-29T13:20:05.885Z"
   },
   {
    "duration": 202,
    "start_time": "2023-01-29T13:20:11.343Z"
   },
   {
    "duration": 5,
    "start_time": "2023-01-29T13:20:52.243Z"
   },
   {
    "duration": 6,
    "start_time": "2023-01-29T13:20:55.066Z"
   },
   {
    "duration": 267,
    "start_time": "2023-01-29T13:21:02.966Z"
   },
   {
    "duration": 219,
    "start_time": "2023-01-29T13:21:06.272Z"
   },
   {
    "duration": 192,
    "start_time": "2023-01-29T13:21:12.391Z"
   },
   {
    "duration": 220,
    "start_time": "2023-01-29T13:21:53.389Z"
   },
   {
    "duration": 175,
    "start_time": "2023-01-29T13:22:19.683Z"
   },
   {
    "duration": 403,
    "start_time": "2023-01-29T13:22:22.448Z"
   },
   {
    "duration": 210,
    "start_time": "2023-01-29T13:22:28.341Z"
   },
   {
    "duration": 202,
    "start_time": "2023-01-29T13:22:30.685Z"
   },
   {
    "duration": 204,
    "start_time": "2023-01-29T13:22:37.051Z"
   },
   {
    "duration": 185,
    "start_time": "2023-01-29T13:22:39.356Z"
   },
   {
    "duration": 206,
    "start_time": "2023-01-29T13:22:44.255Z"
   },
   {
    "duration": 245,
    "start_time": "2023-01-29T13:24:03.980Z"
   },
   {
    "duration": 167,
    "start_time": "2023-01-29T13:24:08.942Z"
   },
   {
    "duration": 147,
    "start_time": "2023-01-29T13:25:52.240Z"
   },
   {
    "duration": 212,
    "start_time": "2023-01-29T13:25:58.245Z"
   },
   {
    "duration": 193,
    "start_time": "2023-01-29T13:26:09.546Z"
   },
   {
    "duration": 145,
    "start_time": "2023-01-29T13:27:41.726Z"
   },
   {
    "duration": 149,
    "start_time": "2023-01-29T13:27:58.125Z"
   },
   {
    "duration": 158,
    "start_time": "2023-01-29T13:28:01.366Z"
   },
   {
    "duration": 151,
    "start_time": "2023-01-29T13:29:33.597Z"
   },
   {
    "duration": 196,
    "start_time": "2023-01-29T13:29:55.143Z"
   },
   {
    "duration": 228,
    "start_time": "2023-01-29T13:30:03.041Z"
   },
   {
    "duration": 1470,
    "start_time": "2023-01-29T13:30:07.664Z"
   },
   {
    "duration": 161,
    "start_time": "2023-01-29T13:31:21.446Z"
   },
   {
    "duration": 199,
    "start_time": "2023-01-29T13:31:41.549Z"
   },
   {
    "duration": 236,
    "start_time": "2023-01-29T13:31:46.633Z"
   },
   {
    "duration": 149,
    "start_time": "2023-01-29T13:33:05.152Z"
   },
   {
    "duration": 268,
    "start_time": "2023-01-29T13:33:20.351Z"
   },
   {
    "duration": 306,
    "start_time": "2023-01-29T13:33:31.146Z"
   },
   {
    "duration": 1516,
    "start_time": "2023-01-29T13:33:35.336Z"
   },
   {
    "duration": 290,
    "start_time": "2023-01-29T13:33:39.735Z"
   },
   {
    "duration": 165,
    "start_time": "2023-01-29T13:34:52.140Z"
   },
   {
    "duration": 391,
    "start_time": "2023-01-29T13:35:06.790Z"
   },
   {
    "duration": 347,
    "start_time": "2023-01-29T13:35:11.185Z"
   },
   {
    "duration": 258,
    "start_time": "2023-01-29T13:35:22.154Z"
   },
   {
    "duration": 135,
    "start_time": "2023-01-29T13:37:14.540Z"
   },
   {
    "duration": 186,
    "start_time": "2023-01-29T13:37:19.967Z"
   },
   {
    "duration": 157,
    "start_time": "2023-01-29T13:37:23.598Z"
   },
   {
    "duration": 156,
    "start_time": "2023-01-29T13:37:41.582Z"
   },
   {
    "duration": 573,
    "start_time": "2023-01-29T13:38:58.842Z"
   },
   {
    "duration": 141,
    "start_time": "2023-01-29T13:39:07.934Z"
   },
   {
    "duration": 172,
    "start_time": "2023-01-29T13:39:11.279Z"
   },
   {
    "duration": 163,
    "start_time": "2023-01-29T13:39:14.198Z"
   },
   {
    "duration": 182,
    "start_time": "2023-01-29T13:39:25.293Z"
   },
   {
    "duration": 784,
    "start_time": "2023-01-30T08:19:30.710Z"
   },
   {
    "duration": 43,
    "start_time": "2023-01-30T08:19:31.560Z"
   },
   {
    "duration": 26,
    "start_time": "2023-01-30T08:19:32.068Z"
   },
   {
    "duration": 2587,
    "start_time": "2023-01-30T08:19:32.318Z"
   },
   {
    "duration": 78,
    "start_time": "2023-01-30T08:19:34.907Z"
   },
   {
    "duration": 10,
    "start_time": "2023-01-30T08:19:34.987Z"
   },
   {
    "duration": 248,
    "start_time": "2023-01-30T08:19:44.163Z"
   },
   {
    "duration": 7,
    "start_time": "2023-01-30T08:19:45.558Z"
   },
   {
    "duration": 6,
    "start_time": "2023-01-30T08:19:46.166Z"
   },
   {
    "duration": 7,
    "start_time": "2023-01-30T08:19:46.322Z"
   },
   {
    "duration": 9,
    "start_time": "2023-01-30T08:19:46.492Z"
   },
   {
    "duration": 6,
    "start_time": "2023-01-30T08:19:46.647Z"
   },
   {
    "duration": 4,
    "start_time": "2023-01-30T08:19:46.979Z"
   },
   {
    "duration": 6,
    "start_time": "2023-01-30T08:19:47.140Z"
   },
   {
    "duration": 11,
    "start_time": "2023-01-30T08:19:47.297Z"
   },
   {
    "duration": 8,
    "start_time": "2023-01-30T08:19:47.486Z"
   },
   {
    "duration": 46,
    "start_time": "2023-01-30T08:19:47.652Z"
   },
   {
    "duration": 6,
    "start_time": "2023-01-30T08:19:47.987Z"
   },
   {
    "duration": 5,
    "start_time": "2023-01-30T08:19:48.169Z"
   },
   {
    "duration": 4,
    "start_time": "2023-01-30T08:19:48.353Z"
   },
   {
    "duration": 6,
    "start_time": "2023-01-30T08:19:48.515Z"
   },
   {
    "duration": 7,
    "start_time": "2023-01-30T08:19:48.674Z"
   },
   {
    "duration": 6,
    "start_time": "2023-01-30T08:19:48.847Z"
   },
   {
    "duration": 7,
    "start_time": "2023-01-30T08:19:49.026Z"
   },
   {
    "duration": 6,
    "start_time": "2023-01-30T08:19:49.567Z"
   },
   {
    "duration": 6,
    "start_time": "2023-01-30T08:19:49.747Z"
   },
   {
    "duration": 8,
    "start_time": "2023-01-30T08:19:50.118Z"
   },
   {
    "duration": 5,
    "start_time": "2023-01-30T08:19:50.292Z"
   },
   {
    "duration": 6,
    "start_time": "2023-01-30T08:19:50.974Z"
   },
   {
    "duration": 29,
    "start_time": "2023-01-30T08:19:51.159Z"
   },
   {
    "duration": 12,
    "start_time": "2023-01-30T08:19:51.322Z"
   },
   {
    "duration": 27,
    "start_time": "2023-01-30T08:19:51.483Z"
   },
   {
    "duration": 10,
    "start_time": "2023-01-30T08:19:51.656Z"
   },
   {
    "duration": 7,
    "start_time": "2023-01-30T08:19:51.819Z"
   },
   {
    "duration": 27,
    "start_time": "2023-01-30T08:19:51.987Z"
   },
   {
    "duration": 8,
    "start_time": "2023-01-30T08:19:52.156Z"
   },
   {
    "duration": 6,
    "start_time": "2023-01-30T08:19:52.339Z"
   },
   {
    "duration": 43,
    "start_time": "2023-01-30T08:19:52.498Z"
   },
   {
    "duration": 142,
    "start_time": "2023-01-30T08:19:53.014Z"
   },
   {
    "duration": 166,
    "start_time": "2023-01-30T08:19:53.386Z"
   },
   {
    "duration": 142,
    "start_time": "2023-01-30T08:19:53.739Z"
   },
   {
    "duration": 186,
    "start_time": "2023-01-30T08:19:54.338Z"
   },
   {
    "duration": 5,
    "start_time": "2023-01-30T08:19:54.760Z"
   },
   {
    "duration": 327,
    "start_time": "2023-01-30T08:19:54.994Z"
   },
   {
    "duration": 10,
    "start_time": "2023-01-30T08:19:55.404Z"
   },
   {
    "duration": 21,
    "start_time": "2023-01-30T08:19:56.189Z"
   },
   {
    "duration": 9,
    "start_time": "2023-01-30T08:19:56.868Z"
   },
   {
    "duration": 191,
    "start_time": "2023-01-30T08:19:57.068Z"
   },
   {
    "duration": 187,
    "start_time": "2023-01-30T08:19:57.957Z"
   },
   {
    "duration": 172,
    "start_time": "2023-01-30T08:19:58.658Z"
   },
   {
    "duration": 127,
    "start_time": "2023-01-30T08:19:59.312Z"
   },
   {
    "duration": 247,
    "start_time": "2023-01-30T08:19:59.819Z"
   },
   {
    "duration": 191,
    "start_time": "2023-01-30T08:20:00.207Z"
   },
   {
    "duration": 255,
    "start_time": "2023-01-30T08:20:00.571Z"
   },
   {
    "duration": 326,
    "start_time": "2023-01-30T08:20:01.298Z"
   },
   {
    "duration": 128,
    "start_time": "2023-01-30T08:20:01.830Z"
   },
   {
    "duration": 150,
    "start_time": "2023-01-30T08:20:02.582Z"
   },
   {
    "duration": 158,
    "start_time": "2023-01-30T08:24:26.560Z"
   },
   {
    "duration": 73,
    "start_time": "2023-01-30T08:24:44.031Z"
   },
   {
    "duration": 9,
    "start_time": "2023-01-30T08:24:56.893Z"
   },
   {
    "duration": 8,
    "start_time": "2023-01-30T08:27:15.767Z"
   },
   {
    "duration": 15,
    "start_time": "2023-01-30T08:27:39.098Z"
   },
   {
    "duration": 11,
    "start_time": "2023-01-30T08:27:45.640Z"
   },
   {
    "duration": 0,
    "start_time": "2023-01-30T08:28:17.440Z"
   },
   {
    "duration": 11,
    "start_time": "2023-01-30T08:28:24.323Z"
   },
   {
    "duration": 10,
    "start_time": "2023-01-30T08:28:48.353Z"
   },
   {
    "duration": 11,
    "start_time": "2023-01-30T08:30:12.677Z"
   },
   {
    "duration": 473,
    "start_time": "2023-01-30T08:30:43.189Z"
   },
   {
    "duration": 999,
    "start_time": "2023-01-30T08:30:55.468Z"
   },
   {
    "duration": 8,
    "start_time": "2023-01-30T08:32:58.665Z"
   },
   {
    "duration": 136,
    "start_time": "2023-01-30T08:33:13.618Z"
   },
   {
    "duration": 90,
    "start_time": "2023-01-30T08:34:05.863Z"
   },
   {
    "duration": 1196,
    "start_time": "2023-01-30T08:34:55.988Z"
   },
   {
    "duration": 7,
    "start_time": "2023-01-30T08:35:25.776Z"
   },
   {
    "duration": 475,
    "start_time": "2023-01-30T08:36:15.250Z"
   },
   {
    "duration": 8,
    "start_time": "2023-01-30T08:38:09.080Z"
   },
   {
    "duration": 31,
    "start_time": "2023-01-30T08:38:14.902Z"
   },
   {
    "duration": 1216,
    "start_time": "2023-01-30T08:41:46.339Z"
   },
   {
    "duration": 1366,
    "start_time": "2023-01-30T08:42:27.713Z"
   },
   {
    "duration": 16,
    "start_time": "2023-01-30T08:42:47.439Z"
   },
   {
    "duration": 223,
    "start_time": "2023-01-30T08:42:53.203Z"
   },
   {
    "duration": 14,
    "start_time": "2023-01-30T08:43:03.266Z"
   },
   {
    "duration": 15,
    "start_time": "2023-01-30T08:43:14.361Z"
   },
   {
    "duration": 21,
    "start_time": "2023-01-30T08:43:25.899Z"
   },
   {
    "duration": 29,
    "start_time": "2023-01-30T08:44:06.085Z"
   },
   {
    "duration": 228,
    "start_time": "2023-01-30T08:44:30.793Z"
   },
   {
    "duration": 147,
    "start_time": "2023-01-30T08:45:30.262Z"
   },
   {
    "duration": 142,
    "start_time": "2023-01-30T08:45:38.066Z"
   },
   {
    "duration": 153,
    "start_time": "2023-01-30T08:45:43.207Z"
   },
   {
    "duration": 147,
    "start_time": "2023-01-30T08:45:49.501Z"
   },
   {
    "duration": 161,
    "start_time": "2023-01-30T08:46:06.340Z"
   },
   {
    "duration": 1187,
    "start_time": "2023-01-30T08:47:45.427Z"
   },
   {
    "duration": 1180,
    "start_time": "2023-01-30T08:48:09.089Z"
   },
   {
    "duration": 8,
    "start_time": "2023-01-30T08:48:19.442Z"
   },
   {
    "duration": 464,
    "start_time": "2023-01-30T08:48:24.238Z"
   },
   {
    "duration": 449,
    "start_time": "2023-01-30T08:48:41.281Z"
   },
   {
    "duration": 9,
    "start_time": "2023-01-30T08:49:15.556Z"
   },
   {
    "duration": 6,
    "start_time": "2023-01-30T08:49:27.080Z"
   },
   {
    "duration": 9,
    "start_time": "2023-01-30T08:50:33.269Z"
   },
   {
    "duration": 9,
    "start_time": "2023-01-30T08:52:35.381Z"
   },
   {
    "duration": 9,
    "start_time": "2023-01-30T08:52:37.504Z"
   },
   {
    "duration": 86,
    "start_time": "2023-01-30T08:56:44.745Z"
   },
   {
    "duration": 83,
    "start_time": "2023-01-30T08:56:57.418Z"
   },
   {
    "duration": 30,
    "start_time": "2023-01-30T08:56:57.912Z"
   },
   {
    "duration": 16,
    "start_time": "2023-01-30T08:56:58.605Z"
   },
   {
    "duration": 2589,
    "start_time": "2023-01-30T08:56:59.116Z"
   },
   {
    "duration": 93,
    "start_time": "2023-01-30T08:57:01.708Z"
   },
   {
    "duration": 10,
    "start_time": "2023-01-30T08:57:03.175Z"
   },
   {
    "duration": 262,
    "start_time": "2023-01-30T08:57:03.354Z"
   },
   {
    "duration": 8,
    "start_time": "2023-01-30T08:57:03.955Z"
   },
   {
    "duration": 6,
    "start_time": "2023-01-30T08:57:04.251Z"
   },
   {
    "duration": 7,
    "start_time": "2023-01-30T08:57:04.396Z"
   },
   {
    "duration": 7,
    "start_time": "2023-01-30T08:57:04.546Z"
   },
   {
    "duration": 5,
    "start_time": "2023-01-30T08:57:04.695Z"
   },
   {
    "duration": 4,
    "start_time": "2023-01-30T08:57:05.281Z"
   },
   {
    "duration": 6,
    "start_time": "2023-01-30T08:57:05.364Z"
   },
   {
    "duration": 10,
    "start_time": "2023-01-30T08:57:05.449Z"
   },
   {
    "duration": 7,
    "start_time": "2023-01-30T08:57:05.540Z"
   },
   {
    "duration": 48,
    "start_time": "2023-01-30T08:57:05.624Z"
   },
   {
    "duration": 5,
    "start_time": "2023-01-30T08:57:05.784Z"
   },
   {
    "duration": 4,
    "start_time": "2023-01-30T08:57:05.872Z"
   },
   {
    "duration": 6,
    "start_time": "2023-01-30T08:57:05.991Z"
   },
   {
    "duration": 6,
    "start_time": "2023-01-30T08:57:06.044Z"
   },
   {
    "duration": 8,
    "start_time": "2023-01-30T08:57:06.122Z"
   },
   {
    "duration": 8,
    "start_time": "2023-01-30T08:57:06.210Z"
   },
   {
    "duration": 10,
    "start_time": "2023-01-30T08:57:06.287Z"
   },
   {
    "duration": 7,
    "start_time": "2023-01-30T08:57:06.542Z"
   },
   {
    "duration": 5,
    "start_time": "2023-01-30T08:57:06.632Z"
   },
   {
    "duration": 8,
    "start_time": "2023-01-30T08:57:06.789Z"
   },
   {
    "duration": 6,
    "start_time": "2023-01-30T08:57:06.875Z"
   },
   {
    "duration": 6,
    "start_time": "2023-01-30T08:57:07.208Z"
   },
   {
    "duration": 29,
    "start_time": "2023-01-30T08:57:07.295Z"
   },
   {
    "duration": 12,
    "start_time": "2023-01-30T08:57:07.379Z"
   },
   {
    "duration": 26,
    "start_time": "2023-01-30T08:57:07.479Z"
   },
   {
    "duration": 11,
    "start_time": "2023-01-30T08:57:07.543Z"
   },
   {
    "duration": 8,
    "start_time": "2023-01-30T08:57:07.626Z"
   },
   {
    "duration": 26,
    "start_time": "2023-01-30T08:57:07.712Z"
   },
   {
    "duration": 5,
    "start_time": "2023-01-30T08:57:07.800Z"
   },
   {
    "duration": 4,
    "start_time": "2023-01-30T08:57:07.886Z"
   },
   {
    "duration": 26,
    "start_time": "2023-01-30T08:57:07.959Z"
   },
   {
    "duration": 139,
    "start_time": "2023-01-30T08:57:08.215Z"
   },
   {
    "duration": 149,
    "start_time": "2023-01-30T08:57:08.380Z"
   },
   {
    "duration": 132,
    "start_time": "2023-01-30T08:57:08.550Z"
   },
   {
    "duration": 179,
    "start_time": "2023-01-30T08:57:08.721Z"
   },
   {
    "duration": 4,
    "start_time": "2023-01-30T08:57:10.277Z"
   },
   {
    "duration": 226,
    "start_time": "2023-01-30T08:57:10.778Z"
   },
   {
    "duration": 7,
    "start_time": "2023-01-30T08:57:11.007Z"
   },
   {
    "duration": 15,
    "start_time": "2023-01-30T08:57:11.016Z"
   },
   {
    "duration": 6,
    "start_time": "2023-01-30T08:57:11.124Z"
   },
   {
    "duration": 149,
    "start_time": "2023-01-30T08:57:11.211Z"
   },
   {
    "duration": 135,
    "start_time": "2023-01-30T08:57:11.364Z"
   },
   {
    "duration": 166,
    "start_time": "2023-01-30T08:57:11.532Z"
   },
   {
    "duration": 137,
    "start_time": "2023-01-30T08:57:11.702Z"
   },
   {
    "duration": 175,
    "start_time": "2023-01-30T08:57:11.870Z"
   },
   {
    "duration": 187,
    "start_time": "2023-01-30T08:57:12.804Z"
   },
   {
    "duration": 276,
    "start_time": "2023-01-30T08:57:13.385Z"
   },
   {
    "duration": 201,
    "start_time": "2023-01-30T08:57:13.664Z"
   },
   {
    "duration": 134,
    "start_time": "2023-01-30T08:57:13.867Z"
   },
   {
    "duration": 166,
    "start_time": "2023-01-30T08:57:14.003Z"
   },
   {
    "duration": 154,
    "start_time": "2023-01-30T08:57:14.172Z"
   },
   {
    "duration": 30,
    "start_time": "2023-01-30T08:57:15.367Z"
   },
   {
    "duration": 10,
    "start_time": "2023-01-30T08:57:15.532Z"
   },
   {
    "duration": 1181,
    "start_time": "2023-01-30T09:11:14.819Z"
   },
   {
    "duration": 1133,
    "start_time": "2023-01-30T09:13:09.296Z"
   },
   {
    "duration": 1319,
    "start_time": "2023-01-30T09:13:15.332Z"
   },
   {
    "duration": 1193,
    "start_time": "2023-01-30T09:14:06.685Z"
   },
   {
    "duration": 93,
    "start_time": "2023-01-30T09:14:19.971Z"
   },
   {
    "duration": 3,
    "start_time": "2023-01-30T09:15:49.813Z"
   },
   {
    "duration": 8,
    "start_time": "2023-01-30T09:16:03.557Z"
   },
   {
    "duration": 65,
    "start_time": "2023-01-30T09:16:10.813Z"
   },
   {
    "duration": 3,
    "start_time": "2023-01-30T09:16:28.709Z"
   },
   {
    "duration": 8,
    "start_time": "2023-01-30T09:16:30.372Z"
   },
   {
    "duration": 8,
    "start_time": "2023-01-30T09:16:35.259Z"
   },
   {
    "duration": 8,
    "start_time": "2023-01-30T09:16:39.949Z"
   },
   {
    "duration": 13,
    "start_time": "2023-01-30T09:21:01.430Z"
   },
   {
    "duration": 3,
    "start_time": "2023-01-30T09:21:04.915Z"
   },
   {
    "duration": 14,
    "start_time": "2023-01-30T09:21:06.741Z"
   },
   {
    "duration": 3,
    "start_time": "2023-01-30T09:22:34.364Z"
   },
   {
    "duration": 4,
    "start_time": "2023-01-30T09:24:06.720Z"
   },
   {
    "duration": 8,
    "start_time": "2023-01-30T09:24:18.367Z"
   },
   {
    "duration": 15,
    "start_time": "2023-01-30T09:25:29.060Z"
   },
   {
    "duration": 5,
    "start_time": "2023-01-30T09:27:19.133Z"
   },
   {
    "duration": 11,
    "start_time": "2023-01-30T09:27:20.460Z"
   },
   {
    "duration": 5,
    "start_time": "2023-01-30T09:27:31.368Z"
   },
   {
    "duration": 12,
    "start_time": "2023-01-30T09:27:31.773Z"
   },
   {
    "duration": 5,
    "start_time": "2023-01-30T09:28:15.471Z"
   },
   {
    "duration": 12,
    "start_time": "2023-01-30T09:28:15.877Z"
   },
   {
    "duration": 6,
    "start_time": "2023-01-30T09:28:52.369Z"
   },
   {
    "duration": 12,
    "start_time": "2023-01-30T09:28:53.097Z"
   },
   {
    "duration": 801,
    "start_time": "2023-01-30T13:13:01.396Z"
   },
   {
    "duration": 329,
    "start_time": "2023-01-30T13:13:03.160Z"
   },
   {
    "duration": 36,
    "start_time": "2023-01-30T13:13:03.669Z"
   },
   {
    "duration": 18,
    "start_time": "2023-01-30T13:13:03.752Z"
   },
   {
    "duration": 2007,
    "start_time": "2023-01-30T13:13:03.834Z"
   },
   {
    "duration": 79,
    "start_time": "2023-01-30T13:13:05.844Z"
   },
   {
    "duration": 9,
    "start_time": "2023-01-30T13:13:05.925Z"
   },
   {
    "duration": 284,
    "start_time": "2023-01-30T13:13:05.937Z"
   },
   {
    "duration": 10,
    "start_time": "2023-01-30T13:13:06.223Z"
   },
   {
    "duration": 30,
    "start_time": "2023-01-30T13:13:06.235Z"
   },
   {
    "duration": 10,
    "start_time": "2023-01-30T13:13:06.267Z"
   },
   {
    "duration": 8,
    "start_time": "2023-01-30T13:13:06.926Z"
   },
   {
    "duration": 5,
    "start_time": "2023-01-30T13:13:07.428Z"
   },
   {
    "duration": 4,
    "start_time": "2023-01-30T13:13:07.594Z"
   },
   {
    "duration": 6,
    "start_time": "2023-01-30T13:13:07.681Z"
   },
   {
    "duration": 10,
    "start_time": "2023-01-30T13:13:07.801Z"
   },
   {
    "duration": 8,
    "start_time": "2023-01-30T13:13:07.919Z"
   },
   {
    "duration": 55,
    "start_time": "2023-01-30T13:13:07.949Z"
   },
   {
    "duration": 6,
    "start_time": "2023-01-30T13:13:08.108Z"
   },
   {
    "duration": 5,
    "start_time": "2023-01-30T13:13:08.190Z"
   },
   {
    "duration": 3,
    "start_time": "2023-01-30T13:13:08.273Z"
   },
   {
    "duration": 5,
    "start_time": "2023-01-30T13:13:08.352Z"
   },
   {
    "duration": 6,
    "start_time": "2023-01-30T13:13:08.436Z"
   },
   {
    "duration": 6,
    "start_time": "2023-01-30T13:13:08.521Z"
   },
   {
    "duration": 6,
    "start_time": "2023-01-30T13:13:08.610Z"
   },
   {
    "duration": 7,
    "start_time": "2023-01-30T13:13:10.010Z"
   },
   {
    "duration": 6,
    "start_time": "2023-01-30T13:13:10.095Z"
   },
   {
    "duration": 9,
    "start_time": "2023-01-30T13:13:10.303Z"
   },
   {
    "duration": 6,
    "start_time": "2023-01-30T13:13:10.382Z"
   },
   {
    "duration": 6,
    "start_time": "2023-01-30T13:13:10.682Z"
   },
   {
    "duration": 24,
    "start_time": "2023-01-30T13:13:10.768Z"
   },
   {
    "duration": 12,
    "start_time": "2023-01-30T13:13:10.850Z"
   },
   {
    "duration": 26,
    "start_time": "2023-01-30T13:13:10.936Z"
   },
   {
    "duration": 11,
    "start_time": "2023-01-30T13:13:11.024Z"
   },
   {
    "duration": 8,
    "start_time": "2023-01-30T13:13:11.106Z"
   },
   {
    "duration": 24,
    "start_time": "2023-01-30T13:13:11.191Z"
   },
   {
    "duration": 5,
    "start_time": "2023-01-30T13:13:11.273Z"
   },
   {
    "duration": 4,
    "start_time": "2023-01-30T13:13:11.356Z"
   },
   {
    "duration": 29,
    "start_time": "2023-01-30T13:13:11.434Z"
   },
   {
    "duration": 161,
    "start_time": "2023-01-30T13:13:11.725Z"
   },
   {
    "duration": 167,
    "start_time": "2023-01-30T13:13:11.889Z"
   },
   {
    "duration": 137,
    "start_time": "2023-01-30T13:13:12.058Z"
   },
   {
    "duration": 187,
    "start_time": "2023-01-30T13:13:12.197Z"
   },
   {
    "duration": 4,
    "start_time": "2023-01-30T13:13:12.386Z"
   },
   {
    "duration": 303,
    "start_time": "2023-01-30T13:13:12.448Z"
   },
   {
    "duration": 8,
    "start_time": "2023-01-30T13:13:12.753Z"
   },
   {
    "duration": 22,
    "start_time": "2023-01-30T13:13:12.763Z"
   },
   {
    "duration": 5,
    "start_time": "2023-01-30T13:13:12.787Z"
   },
   {
    "duration": 147,
    "start_time": "2023-01-30T13:13:12.864Z"
   },
   {
    "duration": 137,
    "start_time": "2023-01-30T13:13:13.034Z"
   },
   {
    "duration": 158,
    "start_time": "2023-01-30T13:13:13.204Z"
   },
   {
    "duration": 125,
    "start_time": "2023-01-30T13:13:13.367Z"
   },
   {
    "duration": 204,
    "start_time": "2023-01-30T13:13:13.556Z"
   },
   {
    "duration": 191,
    "start_time": "2023-01-30T13:13:13.763Z"
   },
   {
    "duration": 266,
    "start_time": "2023-01-30T13:13:13.956Z"
   },
   {
    "duration": 179,
    "start_time": "2023-01-30T13:13:14.859Z"
   },
   {
    "duration": 232,
    "start_time": "2023-01-30T13:13:15.434Z"
   },
   {
    "duration": 164,
    "start_time": "2023-01-30T13:13:15.668Z"
   },
   {
    "duration": 158,
    "start_time": "2023-01-30T13:13:15.834Z"
   },
   {
    "duration": 32,
    "start_time": "2023-01-30T13:13:15.994Z"
   },
   {
    "duration": 10,
    "start_time": "2023-01-30T13:13:16.110Z"
   },
   {
    "duration": 14,
    "start_time": "2023-01-30T13:13:17.766Z"
   },
   {
    "duration": 5,
    "start_time": "2023-01-30T13:13:18.255Z"
   },
   {
    "duration": 15,
    "start_time": "2023-01-30T13:13:19.686Z"
   },
   {
    "duration": 8217,
    "start_time": "2023-01-30T13:14:27.861Z"
   },
   {
    "duration": 472,
    "start_time": "2023-01-30T13:17:30.976Z"
   },
   {
    "duration": 794,
    "start_time": "2023-01-30T13:17:38.722Z"
   },
   {
    "duration": 70,
    "start_time": "2023-01-30T13:20:21.581Z"
   },
   {
    "duration": 20,
    "start_time": "2023-01-30T13:20:31.062Z"
   },
   {
    "duration": 17,
    "start_time": "2023-01-30T13:21:09.867Z"
   },
   {
    "duration": 20,
    "start_time": "2023-01-30T13:21:24.031Z"
   },
   {
    "duration": 4,
    "start_time": "2023-01-30T13:22:36.048Z"
   },
   {
    "duration": 19,
    "start_time": "2023-01-30T13:22:36.504Z"
   },
   {
    "duration": 32,
    "start_time": "2023-01-30T13:22:37.079Z"
   },
   {
    "duration": 5,
    "start_time": "2023-01-30T13:23:10.422Z"
   },
   {
    "duration": 15,
    "start_time": "2023-01-30T13:23:13.562Z"
   },
   {
    "duration": 22,
    "start_time": "2023-01-30T13:23:14.046Z"
   },
   {
    "duration": 5,
    "start_time": "2023-01-30T13:24:00.153Z"
   },
   {
    "duration": 15,
    "start_time": "2023-01-30T13:24:00.525Z"
   },
   {
    "duration": 21,
    "start_time": "2023-01-30T13:24:00.947Z"
   },
   {
    "duration": 1376,
    "start_time": "2023-01-30T13:25:41.878Z"
   },
   {
    "duration": 812,
    "start_time": "2023-01-30T13:25:51.183Z"
   },
   {
    "duration": 1064,
    "start_time": "2023-01-30T13:25:59.961Z"
   },
   {
    "duration": 0,
    "start_time": "2023-01-30T13:27:26.348Z"
   },
   {
    "duration": 6395,
    "start_time": "2023-01-30T13:27:28.090Z"
   },
   {
    "duration": 5,
    "start_time": "2023-01-30T13:27:57.125Z"
   },
   {
    "duration": 6,
    "start_time": "2023-01-30T13:28:05.481Z"
   },
   {
    "duration": 14,
    "start_time": "2023-01-30T13:28:56.468Z"
   },
   {
    "duration": 5467,
    "start_time": "2023-01-30T13:29:10.936Z"
   },
   {
    "duration": 132,
    "start_time": "2023-01-30T13:31:11.401Z"
   },
   {
    "duration": 138,
    "start_time": "2023-01-30T13:31:20.880Z"
   },
   {
    "duration": 145,
    "start_time": "2023-01-30T13:31:29.469Z"
   },
   {
    "duration": 136,
    "start_time": "2023-01-30T13:31:38.278Z"
   },
   {
    "duration": 126,
    "start_time": "2023-01-30T13:31:42.401Z"
   },
   {
    "duration": 21,
    "start_time": "2023-01-30T13:31:55.903Z"
   },
   {
    "duration": 216,
    "start_time": "2023-01-30T13:32:57.206Z"
   },
   {
    "duration": 403,
    "start_time": "2023-01-30T13:33:02.355Z"
   },
   {
    "duration": 117,
    "start_time": "2023-01-30T13:33:05.956Z"
   },
   {
    "duration": 205,
    "start_time": "2023-01-30T13:33:11.275Z"
   },
   {
    "duration": 174,
    "start_time": "2023-01-30T13:33:28.986Z"
   },
   {
    "duration": 177,
    "start_time": "2023-01-30T13:34:41.678Z"
   },
   {
    "duration": 177,
    "start_time": "2023-01-30T13:34:45.037Z"
   },
   {
    "duration": 179,
    "start_time": "2023-01-30T13:34:48.225Z"
   },
   {
    "duration": 704,
    "start_time": "2023-01-30T13:35:20.962Z"
   },
   {
    "duration": 0,
    "start_time": "2023-01-30T13:36:31.184Z"
   },
   {
    "duration": 1072,
    "start_time": "2023-01-30T13:36:39.510Z"
   },
   {
    "duration": 0,
    "start_time": "2023-01-30T13:38:54.621Z"
   },
   {
    "duration": 3,
    "start_time": "2023-01-30T13:38:59.435Z"
   },
   {
    "duration": 97,
    "start_time": "2023-01-30T13:38:59.979Z"
   },
   {
    "duration": 31,
    "start_time": "2023-01-30T13:39:00.487Z"
   },
   {
    "duration": 16,
    "start_time": "2023-01-30T13:39:01.009Z"
   },
   {
    "duration": 1926,
    "start_time": "2023-01-30T13:39:01.409Z"
   },
   {
    "duration": 86,
    "start_time": "2023-01-30T13:39:03.338Z"
   },
   {
    "duration": 10,
    "start_time": "2023-01-30T13:39:14.954Z"
   },
   {
    "duration": 259,
    "start_time": "2023-01-30T13:39:15.455Z"
   },
   {
    "duration": 6,
    "start_time": "2023-01-30T13:39:15.794Z"
   },
   {
    "duration": 5,
    "start_time": "2023-01-30T13:39:15.957Z"
   },
   {
    "duration": 7,
    "start_time": "2023-01-30T13:39:16.042Z"
   },
   {
    "duration": 6,
    "start_time": "2023-01-30T13:39:16.142Z"
   },
   {
    "duration": 6,
    "start_time": "2023-01-30T13:39:16.228Z"
   },
   {
    "duration": 5,
    "start_time": "2023-01-30T13:39:16.376Z"
   },
   {
    "duration": 8,
    "start_time": "2023-01-30T13:39:16.463Z"
   },
   {
    "duration": 12,
    "start_time": "2023-01-30T13:39:16.550Z"
   },
   {
    "duration": 8,
    "start_time": "2023-01-30T13:39:16.644Z"
   },
   {
    "duration": 48,
    "start_time": "2023-01-30T13:39:16.723Z"
   },
   {
    "duration": 5,
    "start_time": "2023-01-30T13:39:16.902Z"
   },
   {
    "duration": 5,
    "start_time": "2023-01-30T13:39:17.004Z"
   },
   {
    "duration": 4,
    "start_time": "2023-01-30T13:39:17.078Z"
   },
   {
    "duration": 6,
    "start_time": "2023-01-30T13:39:17.139Z"
   },
   {
    "duration": 8,
    "start_time": "2023-01-30T13:39:17.220Z"
   },
   {
    "duration": 6,
    "start_time": "2023-01-30T13:39:17.308Z"
   },
   {
    "duration": 7,
    "start_time": "2023-01-30T13:39:17.381Z"
   },
   {
    "duration": 6,
    "start_time": "2023-01-30T13:39:17.634Z"
   },
   {
    "duration": 5,
    "start_time": "2023-01-30T13:39:17.723Z"
   },
   {
    "duration": 9,
    "start_time": "2023-01-30T13:39:17.883Z"
   },
   {
    "duration": 6,
    "start_time": "2023-01-30T13:39:17.970Z"
   },
   {
    "duration": 5,
    "start_time": "2023-01-30T13:39:18.305Z"
   },
   {
    "duration": 26,
    "start_time": "2023-01-30T13:39:18.430Z"
   },
   {
    "duration": 12,
    "start_time": "2023-01-30T13:39:18.514Z"
   },
   {
    "duration": 29,
    "start_time": "2023-01-30T13:39:18.567Z"
   },
   {
    "duration": 10,
    "start_time": "2023-01-30T13:39:18.646Z"
   },
   {
    "duration": 10,
    "start_time": "2023-01-30T13:39:18.737Z"
   },
   {
    "duration": 28,
    "start_time": "2023-01-30T13:39:18.813Z"
   },
   {
    "duration": 5,
    "start_time": "2023-01-30T13:39:18.892Z"
   },
   {
    "duration": 5,
    "start_time": "2023-01-30T13:39:18.981Z"
   },
   {
    "duration": 26,
    "start_time": "2023-01-30T13:39:19.058Z"
   },
   {
    "duration": 132,
    "start_time": "2023-01-30T13:39:19.308Z"
   },
   {
    "duration": 163,
    "start_time": "2023-01-30T13:39:19.477Z"
   },
   {
    "duration": 153,
    "start_time": "2023-01-30T13:39:19.646Z"
   },
   {
    "duration": 198,
    "start_time": "2023-01-30T13:39:19.811Z"
   },
   {
    "duration": 5,
    "start_time": "2023-01-30T13:39:20.011Z"
   },
   {
    "duration": 251,
    "start_time": "2023-01-30T13:39:20.058Z"
   },
   {
    "duration": 8,
    "start_time": "2023-01-30T13:39:20.311Z"
   },
   {
    "duration": 35,
    "start_time": "2023-01-30T13:39:20.322Z"
   },
   {
    "duration": 7,
    "start_time": "2023-01-30T13:39:20.393Z"
   },
   {
    "duration": 170,
    "start_time": "2023-01-30T13:39:20.487Z"
   },
   {
    "duration": 190,
    "start_time": "2023-01-30T13:39:20.660Z"
   },
   {
    "duration": 174,
    "start_time": "2023-01-30T13:39:21.631Z"
   },
   {
    "duration": 141,
    "start_time": "2023-01-30T13:39:21.807Z"
   },
   {
    "duration": 181,
    "start_time": "2023-01-30T13:39:22.435Z"
   },
   {
    "duration": 184,
    "start_time": "2023-01-30T13:39:22.734Z"
   },
   {
    "duration": 262,
    "start_time": "2023-01-30T13:39:23.045Z"
   },
   {
    "duration": 213,
    "start_time": "2023-01-30T13:39:23.372Z"
   },
   {
    "duration": 131,
    "start_time": "2023-01-30T13:39:23.725Z"
   },
   {
    "duration": 151,
    "start_time": "2023-01-30T13:39:24.344Z"
   },
   {
    "duration": 155,
    "start_time": "2023-01-30T13:39:25.194Z"
   },
   {
    "duration": 31,
    "start_time": "2023-01-30T13:39:26.012Z"
   },
   {
    "duration": 9,
    "start_time": "2023-01-30T13:39:26.973Z"
   },
   {
    "duration": 19,
    "start_time": "2023-01-30T13:39:29.184Z"
   },
   {
    "duration": 4,
    "start_time": "2023-01-30T13:39:29.618Z"
   },
   {
    "duration": 13,
    "start_time": "2023-01-30T13:39:30.117Z"
   },
   {
    "duration": 24,
    "start_time": "2023-01-30T13:39:30.648Z"
   },
   {
    "duration": 0,
    "start_time": "2023-01-30T13:42:12.415Z"
   },
   {
    "duration": 1279,
    "start_time": "2023-01-30T13:42:16.151Z"
   },
   {
    "duration": 196,
    "start_time": "2023-01-30T13:42:38.064Z"
   },
   {
    "duration": 767,
    "start_time": "2023-01-30T13:42:54.417Z"
   },
   {
    "duration": 1176,
    "start_time": "2023-01-30T13:43:22.210Z"
   },
   {
    "duration": 767,
    "start_time": "2023-01-30T13:43:31.473Z"
   },
   {
    "duration": 732,
    "start_time": "2023-01-30T13:43:54.390Z"
   },
   {
    "duration": 890,
    "start_time": "2023-01-30T13:44:36.095Z"
   },
   {
    "duration": 782,
    "start_time": "2023-01-30T13:44:48.430Z"
   },
   {
    "duration": 347,
    "start_time": "2023-01-30T13:44:52.081Z"
   },
   {
    "duration": 273,
    "start_time": "2023-01-30T13:44:56.387Z"
   },
   {
    "duration": 15449,
    "start_time": "2023-01-30T13:47:19.198Z"
   },
   {
    "duration": 2657,
    "start_time": "2023-01-30T13:47:56.653Z"
   },
   {
    "duration": 305,
    "start_time": "2023-01-30T13:48:14.609Z"
   },
   {
    "duration": 147,
    "start_time": "2023-01-30T13:48:27.913Z"
   },
   {
    "duration": 164,
    "start_time": "2023-01-30T13:48:30.647Z"
   },
   {
    "duration": 151,
    "start_time": "2023-01-30T13:48:33.494Z"
   },
   {
    "duration": 201,
    "start_time": "2023-01-30T13:48:36.088Z"
   },
   {
    "duration": 152,
    "start_time": "2023-01-30T13:48:41.057Z"
   },
   {
    "duration": 147,
    "start_time": "2023-01-30T13:48:43.867Z"
   },
   {
    "duration": 174,
    "start_time": "2023-01-30T13:48:46.123Z"
   },
   {
    "duration": 126,
    "start_time": "2023-01-30T13:48:49.596Z"
   },
   {
    "duration": 186,
    "start_time": "2023-01-30T13:48:52.109Z"
   },
   {
    "duration": 179,
    "start_time": "2023-01-30T13:48:55.269Z"
   },
   {
    "duration": 266,
    "start_time": "2023-01-30T13:48:58.029Z"
   },
   {
    "duration": 250,
    "start_time": "2023-01-30T13:49:00.109Z"
   },
   {
    "duration": 122,
    "start_time": "2023-01-30T13:49:02.943Z"
   },
   {
    "duration": 204,
    "start_time": "2023-01-30T13:49:06.342Z"
   },
   {
    "duration": 139,
    "start_time": "2023-01-30T13:49:10.861Z"
   },
   {
    "duration": 1505,
    "start_time": "2023-01-31T09:14:38.510Z"
   },
   {
    "duration": 346,
    "start_time": "2023-01-31T09:14:50.311Z"
   },
   {
    "duration": 37,
    "start_time": "2023-01-31T09:14:50.856Z"
   },
   {
    "duration": 17,
    "start_time": "2023-01-31T09:14:51.566Z"
   },
   {
    "duration": 2203,
    "start_time": "2023-01-31T09:14:52.073Z"
   },
   {
    "duration": 83,
    "start_time": "2023-01-31T09:14:55.536Z"
   },
   {
    "duration": 10,
    "start_time": "2023-01-31T09:14:56.037Z"
   },
   {
    "duration": 302,
    "start_time": "2023-01-31T09:14:56.135Z"
   },
   {
    "duration": 8,
    "start_time": "2023-01-31T09:14:56.456Z"
   },
   {
    "duration": 6,
    "start_time": "2023-01-31T09:14:56.630Z"
   },
   {
    "duration": 8,
    "start_time": "2023-01-31T09:14:56.705Z"
   },
   {
    "duration": 7,
    "start_time": "2023-01-31T09:14:56.792Z"
   },
   {
    "duration": 6,
    "start_time": "2023-01-31T09:14:57.877Z"
   },
   {
    "duration": 4,
    "start_time": "2023-01-31T09:14:58.468Z"
   },
   {
    "duration": 6,
    "start_time": "2023-01-31T09:14:58.545Z"
   },
   {
    "duration": 11,
    "start_time": "2023-01-31T09:14:58.631Z"
   },
   {
    "duration": 9,
    "start_time": "2023-01-31T09:14:58.730Z"
   },
   {
    "duration": 52,
    "start_time": "2023-01-31T09:14:58.802Z"
   },
   {
    "duration": 8,
    "start_time": "2023-01-31T09:14:58.985Z"
   },
   {
    "duration": 4,
    "start_time": "2023-01-31T09:14:59.052Z"
   },
   {
    "duration": 4,
    "start_time": "2023-01-31T09:14:59.168Z"
   },
   {
    "duration": 6,
    "start_time": "2023-01-31T09:14:59.247Z"
   },
   {
    "duration": 6,
    "start_time": "2023-01-31T09:14:59.306Z"
   },
   {
    "duration": 8,
    "start_time": "2023-01-31T09:14:59.395Z"
   },
   {
    "duration": 9,
    "start_time": "2023-01-31T09:14:59.472Z"
   },
   {
    "duration": 7,
    "start_time": "2023-01-31T09:14:59.717Z"
   },
   {
    "duration": 5,
    "start_time": "2023-01-31T09:14:59.801Z"
   },
   {
    "duration": 8,
    "start_time": "2023-01-31T09:14:59.968Z"
   },
   {
    "duration": 5,
    "start_time": "2023-01-31T09:15:00.055Z"
   },
   {
    "duration": 6,
    "start_time": "2023-01-31T09:15:00.389Z"
   },
   {
    "duration": 28,
    "start_time": "2023-01-31T09:15:00.472Z"
   },
   {
    "duration": 13,
    "start_time": "2023-01-31T09:15:00.557Z"
   },
   {
    "duration": 27,
    "start_time": "2023-01-31T09:15:00.644Z"
   },
   {
    "duration": 11,
    "start_time": "2023-01-31T09:15:00.725Z"
   },
   {
    "duration": 7,
    "start_time": "2023-01-31T09:15:00.811Z"
   },
   {
    "duration": 26,
    "start_time": "2023-01-31T09:15:00.895Z"
   },
   {
    "duration": 6,
    "start_time": "2023-01-31T09:15:00.980Z"
   },
   {
    "duration": 6,
    "start_time": "2023-01-31T09:15:01.073Z"
   },
   {
    "duration": 37,
    "start_time": "2023-01-31T09:15:01.152Z"
   },
   {
    "duration": 152,
    "start_time": "2023-01-31T09:15:01.394Z"
   },
   {
    "duration": 160,
    "start_time": "2023-01-31T09:15:01.562Z"
   },
   {
    "duration": 147,
    "start_time": "2023-01-31T09:15:01.729Z"
   },
   {
    "duration": 193,
    "start_time": "2023-01-31T09:15:01.896Z"
   },
   {
    "duration": 5,
    "start_time": "2023-01-31T09:15:02.091Z"
   },
   {
    "duration": 263,
    "start_time": "2023-01-31T09:15:02.154Z"
   },
   {
    "duration": 8,
    "start_time": "2023-01-31T09:15:02.419Z"
   },
   {
    "duration": 17,
    "start_time": "2023-01-31T09:15:02.429Z"
   },
   {
    "duration": 6,
    "start_time": "2023-01-31T09:15:02.489Z"
   },
   {
    "duration": 165,
    "start_time": "2023-01-31T09:15:02.570Z"
   },
   {
    "duration": 164,
    "start_time": "2023-01-31T09:15:02.737Z"
   },
   {
    "duration": 360,
    "start_time": "2023-01-31T09:15:02.904Z"
   },
   {
    "duration": 164,
    "start_time": "2023-01-31T09:15:03.266Z"
   },
   {
    "duration": 199,
    "start_time": "2023-01-31T09:15:03.432Z"
   },
   {
    "duration": 236,
    "start_time": "2023-01-31T09:15:04.270Z"
   },
   {
    "duration": 304,
    "start_time": "2023-01-31T09:15:04.857Z"
   },
   {
    "duration": 211,
    "start_time": "2023-01-31T09:15:05.163Z"
   },
   {
    "duration": 135,
    "start_time": "2023-01-31T09:15:05.377Z"
   },
   {
    "duration": 162,
    "start_time": "2023-01-31T09:15:05.514Z"
   },
   {
    "duration": 168,
    "start_time": "2023-01-31T09:15:05.678Z"
   },
   {
    "duration": 31,
    "start_time": "2023-01-31T09:15:05.848Z"
   },
   {
    "duration": 13,
    "start_time": "2023-01-31T09:15:05.881Z"
   },
   {
    "duration": 17,
    "start_time": "2023-01-31T09:15:06.199Z"
   },
   {
    "duration": 5,
    "start_time": "2023-01-31T09:15:06.284Z"
   },
   {
    "duration": 13,
    "start_time": "2023-01-31T09:15:06.367Z"
   },
   {
    "duration": 32,
    "start_time": "2023-01-31T09:15:07.251Z"
   },
   {
    "duration": 0,
    "start_time": "2023-01-31T09:16:17.267Z"
   },
   {
    "duration": 21,
    "start_time": "2023-01-31T09:16:51.858Z"
   },
   {
    "duration": 205,
    "start_time": "2023-01-31T09:17:20.550Z"
   },
   {
    "duration": 180,
    "start_time": "2023-01-31T09:17:39.440Z"
   },
   {
    "duration": 24,
    "start_time": "2023-01-31T09:18:07.452Z"
   },
   {
    "duration": 181,
    "start_time": "2023-01-31T09:18:18.009Z"
   },
   {
    "duration": 105,
    "start_time": "2023-01-31T09:19:14.039Z"
   },
   {
    "duration": 74,
    "start_time": "2023-01-31T09:19:26.984Z"
   },
   {
    "duration": 5,
    "start_time": "2023-01-31T09:19:29.414Z"
   },
   {
    "duration": 99,
    "start_time": "2023-01-31T09:20:08.856Z"
   },
   {
    "duration": 738,
    "start_time": "2023-01-31T09:21:07.998Z"
   },
   {
    "duration": 774,
    "start_time": "2023-01-31T09:21:20.893Z"
   },
   {
    "duration": 777,
    "start_time": "2023-01-31T09:21:27.116Z"
   },
   {
    "duration": 835,
    "start_time": "2023-01-31T09:21:33.982Z"
   },
   {
    "duration": 287,
    "start_time": "2023-01-31T09:21:55.242Z"
   },
   {
    "duration": 737,
    "start_time": "2023-01-31T09:21:58.427Z"
   },
   {
    "duration": 752,
    "start_time": "2023-01-31T09:22:02.508Z"
   },
   {
    "duration": 1433,
    "start_time": "2023-01-31T09:22:12.644Z"
   },
   {
    "duration": 107,
    "start_time": "2023-01-31T09:22:19.577Z"
   },
   {
    "duration": 1437,
    "start_time": "2023-01-31T09:22:22.659Z"
   },
   {
    "duration": 808,
    "start_time": "2023-01-31T09:22:29.342Z"
   },
   {
    "duration": 12,
    "start_time": "2023-01-31T09:23:53.571Z"
   },
   {
    "duration": 9,
    "start_time": "2023-01-31T09:24:03.664Z"
   },
   {
    "duration": 19,
    "start_time": "2023-01-31T09:24:09.933Z"
   },
   {
    "duration": 17,
    "start_time": "2023-01-31T09:24:17.672Z"
   },
   {
    "duration": 387,
    "start_time": "2023-01-31T09:26:21.640Z"
   },
   {
    "duration": 33,
    "start_time": "2023-01-31T09:28:35.167Z"
   },
   {
    "duration": 31618,
    "start_time": "2023-01-31T09:28:48.404Z"
   },
   {
    "duration": 19,
    "start_time": "2023-01-31T09:30:04.689Z"
   },
   {
    "duration": 18,
    "start_time": "2023-01-31T09:30:08.910Z"
   },
   {
    "duration": 193,
    "start_time": "2023-01-31T09:30:30.300Z"
   },
   {
    "duration": 202,
    "start_time": "2023-01-31T09:30:49.222Z"
   },
   {
    "duration": 220,
    "start_time": "2023-01-31T09:30:52.093Z"
   },
   {
    "duration": 195,
    "start_time": "2023-01-31T09:30:55.155Z"
   },
   {
    "duration": 18,
    "start_time": "2023-01-31T09:32:25.477Z"
   },
   {
    "duration": 18,
    "start_time": "2023-01-31T09:32:33.285Z"
   },
   {
    "duration": 20,
    "start_time": "2023-01-31T09:32:52.095Z"
   },
   {
    "duration": 18,
    "start_time": "2023-01-31T09:33:13.514Z"
   },
   {
    "duration": 12,
    "start_time": "2023-01-31T09:33:37.270Z"
   },
   {
    "duration": 25,
    "start_time": "2023-01-31T09:33:40.518Z"
   },
   {
    "duration": 15,
    "start_time": "2023-01-31T09:33:46.970Z"
   },
   {
    "duration": 15,
    "start_time": "2023-01-31T09:35:17.390Z"
   },
   {
    "duration": 25,
    "start_time": "2023-01-31T09:35:42.414Z"
   },
   {
    "duration": 28,
    "start_time": "2023-01-31T09:36:01.806Z"
   },
   {
    "duration": 29,
    "start_time": "2023-01-31T09:36:12.949Z"
   },
   {
    "duration": 29,
    "start_time": "2023-01-31T09:36:43.816Z"
   },
   {
    "duration": 26,
    "start_time": "2023-01-31T09:36:57.860Z"
   },
   {
    "duration": 15,
    "start_time": "2023-01-31T09:38:13.702Z"
   },
   {
    "duration": 9,
    "start_time": "2023-01-31T09:38:56.594Z"
   },
   {
    "duration": 144,
    "start_time": "2023-01-31T09:39:00.158Z"
   },
   {
    "duration": 15,
    "start_time": "2023-01-31T09:39:10.865Z"
   },
   {
    "duration": 24,
    "start_time": "2023-01-31T09:39:33.354Z"
   },
   {
    "duration": 19,
    "start_time": "2023-01-31T09:40:23.311Z"
   },
   {
    "duration": 12,
    "start_time": "2023-01-31T09:43:57.333Z"
   },
   {
    "duration": 7,
    "start_time": "2023-01-31T09:44:05.696Z"
   },
   {
    "duration": 11,
    "start_time": "2023-01-31T09:44:13.183Z"
   },
   {
    "duration": 11,
    "start_time": "2023-01-31T09:44:17.978Z"
   },
   {
    "duration": 7,
    "start_time": "2023-01-31T09:44:18.451Z"
   },
   {
    "duration": 19,
    "start_time": "2023-01-31T09:45:11.331Z"
   },
   {
    "duration": 11,
    "start_time": "2023-01-31T09:45:18.754Z"
   },
   {
    "duration": 9,
    "start_time": "2023-01-31T09:45:21.707Z"
   },
   {
    "duration": 84,
    "start_time": "2023-01-31T09:45:50.861Z"
   },
   {
    "duration": 32,
    "start_time": "2023-01-31T09:45:57.293Z"
   },
   {
    "duration": 7,
    "start_time": "2023-01-31T09:45:57.912Z"
   },
   {
    "duration": 32,
    "start_time": "2023-01-31T09:47:19.213Z"
   },
   {
    "duration": 32,
    "start_time": "2023-01-31T09:47:34.766Z"
   },
   {
    "duration": 16,
    "start_time": "2023-01-31T09:48:15.219Z"
   },
   {
    "duration": 33,
    "start_time": "2023-01-31T09:48:22.964Z"
   },
   {
    "duration": 33,
    "start_time": "2023-01-31T09:48:27.715Z"
   },
   {
    "duration": 35,
    "start_time": "2023-01-31T09:48:47.226Z"
   },
   {
    "duration": 50,
    "start_time": "2023-01-31T09:49:03.471Z"
   },
   {
    "duration": 39,
    "start_time": "2023-01-31T09:49:07.382Z"
   },
   {
    "duration": 45,
    "start_time": "2023-01-31T09:49:36.210Z"
   },
   {
    "duration": 15,
    "start_time": "2023-01-31T09:49:41.286Z"
   },
   {
    "duration": 17,
    "start_time": "2023-01-31T09:50:07.339Z"
   },
   {
    "duration": 7,
    "start_time": "2023-01-31T09:50:08.084Z"
   },
   {
    "duration": 26,
    "start_time": "2023-01-31T09:50:14.457Z"
   },
   {
    "duration": 7,
    "start_time": "2023-01-31T09:50:15.363Z"
   },
   {
    "duration": 11,
    "start_time": "2023-01-31T09:50:21.916Z"
   },
   {
    "duration": 7,
    "start_time": "2023-01-31T09:50:22.518Z"
   },
   {
    "duration": 35,
    "start_time": "2023-01-31T09:50:40.747Z"
   },
   {
    "duration": 9,
    "start_time": "2023-01-31T09:50:41.525Z"
   },
   {
    "duration": 26,
    "start_time": "2023-01-31T09:50:55.897Z"
   },
   {
    "duration": 16,
    "start_time": "2023-01-31T09:50:56.516Z"
   },
   {
    "duration": 26,
    "start_time": "2023-01-31T09:51:27.505Z"
   },
   {
    "duration": 13,
    "start_time": "2023-01-31T09:51:28.966Z"
   },
   {
    "duration": 34,
    "start_time": "2023-01-31T09:51:46.735Z"
   },
   {
    "duration": 36,
    "start_time": "2023-01-31T09:51:57.794Z"
   },
   {
    "duration": 34,
    "start_time": "2023-01-31T09:52:06.823Z"
   },
   {
    "duration": 13,
    "start_time": "2023-01-31T09:52:07.143Z"
   },
   {
    "duration": 27,
    "start_time": "2023-01-31T09:52:27.010Z"
   },
   {
    "duration": 8,
    "start_time": "2023-01-31T09:52:27.657Z"
   },
   {
    "duration": 15,
    "start_time": "2023-01-31T09:54:13.102Z"
   },
   {
    "duration": 10,
    "start_time": "2023-01-31T09:54:20.723Z"
   },
   {
    "duration": 25,
    "start_time": "2023-01-31T09:56:20.986Z"
   },
   {
    "duration": 11,
    "start_time": "2023-01-31T09:56:23.378Z"
   },
   {
    "duration": 11,
    "start_time": "2023-01-31T09:56:46.001Z"
   },
   {
    "duration": 13,
    "start_time": "2023-01-31T09:57:04.756Z"
   },
   {
    "duration": 10,
    "start_time": "2023-01-31T09:57:10.750Z"
   },
   {
    "duration": 28,
    "start_time": "2023-01-31T09:57:26.063Z"
   },
   {
    "duration": 9,
    "start_time": "2023-01-31T09:57:26.404Z"
   },
   {
    "duration": 10,
    "start_time": "2023-01-31T09:57:36.738Z"
   },
   {
    "duration": 38,
    "start_time": "2023-01-31T10:04:20.520Z"
   },
   {
    "duration": 9,
    "start_time": "2023-01-31T10:05:08.356Z"
   },
   {
    "duration": 16,
    "start_time": "2023-01-31T10:05:09.373Z"
   },
   {
    "duration": 22697,
    "start_time": "2023-01-31T10:06:32.610Z"
   },
   {
    "duration": 17,
    "start_time": "2023-01-31T10:09:21.911Z"
   },
   {
    "duration": 5,
    "start_time": "2023-01-31T10:09:49.479Z"
   },
   {
    "duration": 5,
    "start_time": "2023-01-31T10:09:58.343Z"
   },
   {
    "duration": 59,
    "start_time": "2023-01-31T10:10:14.945Z"
   },
   {
    "duration": 8,
    "start_time": "2023-01-31T10:10:27.239Z"
   },
   {
    "duration": 5,
    "start_time": "2023-01-31T10:10:41.132Z"
   },
   {
    "duration": 7,
    "start_time": "2023-01-31T10:10:44.922Z"
   },
   {
    "duration": 8,
    "start_time": "2023-01-31T10:11:27.219Z"
   },
   {
    "duration": 9,
    "start_time": "2023-01-31T10:11:31.156Z"
   },
   {
    "duration": 7,
    "start_time": "2023-01-31T10:11:33.770Z"
   },
   {
    "duration": 8,
    "start_time": "2023-01-31T10:11:36.287Z"
   },
   {
    "duration": 7,
    "start_time": "2023-01-31T10:11:48.223Z"
   },
   {
    "duration": 18,
    "start_time": "2023-01-31T10:11:58.205Z"
   },
   {
    "duration": 26,
    "start_time": "2023-01-31T10:12:14.781Z"
   },
   {
    "duration": 19,
    "start_time": "2023-01-31T10:12:40.160Z"
   },
   {
    "duration": 21,
    "start_time": "2023-01-31T10:12:52.323Z"
   },
   {
    "duration": 19,
    "start_time": "2023-01-31T10:13:01.073Z"
   },
   {
    "duration": 17,
    "start_time": "2023-01-31T10:13:18.557Z"
   },
   {
    "duration": 16,
    "start_time": "2023-01-31T10:13:43.597Z"
   },
   {
    "duration": 16,
    "start_time": "2023-01-31T10:13:50.384Z"
   },
   {
    "duration": 4,
    "start_time": "2023-01-31T10:14:47.478Z"
   },
   {
    "duration": 3,
    "start_time": "2023-01-31T10:14:53.109Z"
   },
   {
    "duration": 4,
    "start_time": "2023-01-31T10:14:58.083Z"
   },
   {
    "duration": 43,
    "start_time": "2023-01-31T10:15:02.172Z"
   },
   {
    "duration": 30,
    "start_time": "2023-01-31T10:15:22.216Z"
   },
   {
    "duration": 12,
    "start_time": "2023-01-31T10:15:38.305Z"
   },
   {
    "duration": 42,
    "start_time": "2023-01-31T10:15:43.106Z"
   },
   {
    "duration": 4,
    "start_time": "2023-01-31T10:15:50.015Z"
   },
   {
    "duration": 43,
    "start_time": "2023-01-31T10:16:09.752Z"
   },
   {
    "duration": 7,
    "start_time": "2023-01-31T10:16:23.444Z"
   },
   {
    "duration": 5,
    "start_time": "2023-01-31T10:18:39.424Z"
   },
   {
    "duration": 9,
    "start_time": "2023-01-31T10:18:44.714Z"
   },
   {
    "duration": 7,
    "start_time": "2023-01-31T10:18:52.859Z"
   },
   {
    "duration": 6,
    "start_time": "2023-01-31T10:19:20.517Z"
   },
   {
    "duration": 7,
    "start_time": "2023-01-31T10:19:23.497Z"
   },
   {
    "duration": 7,
    "start_time": "2023-01-31T10:19:35.389Z"
   },
   {
    "duration": 4,
    "start_time": "2023-01-31T10:19:52.998Z"
   },
   {
    "duration": 9,
    "start_time": "2023-01-31T10:20:00.469Z"
   },
   {
    "duration": 10,
    "start_time": "2023-01-31T10:20:20.467Z"
   },
   {
    "duration": 11,
    "start_time": "2023-01-31T10:20:30.322Z"
   },
   {
    "duration": 3,
    "start_time": "2023-01-31T10:20:40.444Z"
   },
   {
    "duration": 6,
    "start_time": "2023-01-31T10:20:41.320Z"
   },
   {
    "duration": 3,
    "start_time": "2023-01-31T10:20:57.451Z"
   },
   {
    "duration": 37,
    "start_time": "2023-01-31T10:20:57.817Z"
   },
   {
    "duration": 10,
    "start_time": "2023-01-31T10:21:24.328Z"
   },
   {
    "duration": 81,
    "start_time": "2023-01-31T10:21:31.032Z"
   },
   {
    "duration": 36,
    "start_time": "2023-01-31T10:27:20.159Z"
   },
   {
    "duration": 36,
    "start_time": "2023-01-31T10:27:24.262Z"
   },
   {
    "duration": 11,
    "start_time": "2023-01-31T10:28:18.807Z"
   },
   {
    "duration": 3,
    "start_time": "2023-01-31T10:28:33.326Z"
   },
   {
    "duration": 17,
    "start_time": "2023-01-31T10:28:33.907Z"
   },
   {
    "duration": 18,
    "start_time": "2023-01-31T10:29:01.388Z"
   },
   {
    "duration": 18,
    "start_time": "2023-01-31T10:29:18.799Z"
   },
   {
    "duration": 8,
    "start_time": "2023-01-31T10:30:10.603Z"
   },
   {
    "duration": 6,
    "start_time": "2023-01-31T10:30:23.835Z"
   },
   {
    "duration": 157,
    "start_time": "2023-01-31T10:31:46.479Z"
   },
   {
    "duration": 83,
    "start_time": "2023-01-31T10:33:48.479Z"
   },
   {
    "duration": 334,
    "start_time": "2023-01-31T10:33:56.204Z"
   },
   {
    "duration": 343,
    "start_time": "2023-01-31T10:34:11.572Z"
   },
   {
    "duration": 191,
    "start_time": "2023-01-31T10:35:14.491Z"
   },
   {
    "duration": 156,
    "start_time": "2023-01-31T10:35:25.965Z"
   },
   {
    "duration": 70,
    "start_time": "2023-01-31T10:36:07.661Z"
   },
   {
    "duration": 237,
    "start_time": "2023-01-31T10:36:11.396Z"
   },
   {
    "duration": 215,
    "start_time": "2023-01-31T10:36:21.585Z"
   },
   {
    "duration": 215,
    "start_time": "2023-01-31T10:36:25.621Z"
   },
   {
    "duration": 176,
    "start_time": "2023-01-31T10:36:31.427Z"
   },
   {
    "duration": 173,
    "start_time": "2023-01-31T10:36:36.813Z"
   },
   {
    "duration": 175,
    "start_time": "2023-01-31T10:36:41.736Z"
   },
   {
    "duration": 11,
    "start_time": "2023-01-31T10:40:49.389Z"
   },
   {
    "duration": 9,
    "start_time": "2023-01-31T10:41:06.408Z"
   },
   {
    "duration": 9,
    "start_time": "2023-01-31T10:41:24.010Z"
   },
   {
    "duration": 8,
    "start_time": "2023-01-31T10:45:23.376Z"
   },
   {
    "duration": 27,
    "start_time": "2023-01-31T10:45:33.996Z"
   },
   {
    "duration": 7,
    "start_time": "2023-01-31T10:46:03.975Z"
   },
   {
    "duration": 5,
    "start_time": "2023-01-31T10:46:44.195Z"
   },
   {
    "duration": 8,
    "start_time": "2023-01-31T10:46:51.473Z"
   },
   {
    "duration": 8,
    "start_time": "2023-01-31T10:47:03.936Z"
   },
   {
    "duration": 7,
    "start_time": "2023-01-31T10:47:07.719Z"
   },
   {
    "duration": 7,
    "start_time": "2023-01-31T10:47:37.122Z"
   },
   {
    "duration": 9,
    "start_time": "2023-01-31T10:47:43.366Z"
   },
   {
    "duration": 8,
    "start_time": "2023-01-31T10:48:02.965Z"
   },
   {
    "duration": 10,
    "start_time": "2023-01-31T10:49:13.678Z"
   },
   {
    "duration": 6,
    "start_time": "2023-01-31T10:49:57.504Z"
   },
   {
    "duration": 9,
    "start_time": "2023-01-31T10:49:57.952Z"
   },
   {
    "duration": 7,
    "start_time": "2023-01-31T10:50:04.242Z"
   },
   {
    "duration": 12,
    "start_time": "2023-01-31T10:50:04.693Z"
   },
   {
    "duration": 7,
    "start_time": "2023-01-31T10:50:07.892Z"
   },
   {
    "duration": 12,
    "start_time": "2023-01-31T10:50:08.096Z"
   },
   {
    "duration": 5,
    "start_time": "2023-01-31T10:51:10.127Z"
   },
   {
    "duration": 5,
    "start_time": "2023-01-31T10:51:26.079Z"
   },
   {
    "duration": 7,
    "start_time": "2023-01-31T10:51:27.651Z"
   },
   {
    "duration": 7,
    "start_time": "2023-01-31T10:51:28.042Z"
   },
   {
    "duration": 4,
    "start_time": "2023-01-31T10:51:43.155Z"
   },
   {
    "duration": 7,
    "start_time": "2023-01-31T10:52:07.435Z"
   },
   {
    "duration": 4,
    "start_time": "2023-01-31T10:52:07.960Z"
   },
   {
    "duration": 8,
    "start_time": "2023-01-31T10:52:25.813Z"
   },
   {
    "duration": 17,
    "start_time": "2023-01-31T10:52:49.944Z"
   },
   {
    "duration": 6,
    "start_time": "2023-01-31T10:53:03.129Z"
   },
   {
    "duration": 4,
    "start_time": "2023-01-31T10:53:09.484Z"
   },
   {
    "duration": 5,
    "start_time": "2023-01-31T10:54:40.840Z"
   },
   {
    "duration": 5,
    "start_time": "2023-01-31T10:55:33.713Z"
   },
   {
    "duration": 11,
    "start_time": "2023-01-31T11:00:12.956Z"
   },
   {
    "duration": 4,
    "start_time": "2023-01-31T11:00:39.800Z"
   },
   {
    "duration": 4,
    "start_time": "2023-01-31T11:00:52.903Z"
   },
   {
    "duration": 4,
    "start_time": "2023-01-31T11:00:55.639Z"
   },
   {
    "duration": 13,
    "start_time": "2023-01-31T11:01:57.830Z"
   },
   {
    "duration": 5,
    "start_time": "2023-01-31T11:01:58.200Z"
   },
   {
    "duration": 4,
    "start_time": "2023-01-31T11:05:13.011Z"
   },
   {
    "duration": 4,
    "start_time": "2023-01-31T11:12:55.297Z"
   },
   {
    "duration": 6,
    "start_time": "2023-01-31T11:12:55.825Z"
   },
   {
    "duration": 8,
    "start_time": "2023-01-31T11:12:57.727Z"
   },
   {
    "duration": 9,
    "start_time": "2023-01-31T11:13:10.218Z"
   },
   {
    "duration": 2,
    "start_time": "2023-01-31T11:13:10.741Z"
   },
   {
    "duration": 6,
    "start_time": "2023-01-31T11:13:11.244Z"
   },
   {
    "duration": 4,
    "start_time": "2023-01-31T11:13:16.305Z"
   },
   {
    "duration": 7,
    "start_time": "2023-01-31T11:13:18.250Z"
   },
   {
    "duration": 3,
    "start_time": "2023-01-31T11:13:25.425Z"
   },
   {
    "duration": 6,
    "start_time": "2023-01-31T11:13:27.083Z"
   },
   {
    "duration": 5,
    "start_time": "2023-01-31T11:13:30.582Z"
   },
   {
    "duration": 6,
    "start_time": "2023-01-31T11:13:30.962Z"
   },
   {
    "duration": 14,
    "start_time": "2023-01-31T11:13:32.012Z"
   },
   {
    "duration": 3,
    "start_time": "2023-01-31T13:19:13.567Z"
   },
   {
    "duration": 101,
    "start_time": "2023-01-31T13:19:14.067Z"
   },
   {
    "duration": 31,
    "start_time": "2023-01-31T13:19:14.170Z"
   },
   {
    "duration": 15,
    "start_time": "2023-01-31T13:19:14.244Z"
   },
   {
    "duration": 2169,
    "start_time": "2023-01-31T13:19:14.322Z"
   },
   {
    "duration": 88,
    "start_time": "2023-01-31T13:19:16.493Z"
   },
   {
    "duration": 9,
    "start_time": "2023-01-31T13:19:16.583Z"
   },
   {
    "duration": 285,
    "start_time": "2023-01-31T13:19:16.595Z"
   },
   {
    "duration": 8,
    "start_time": "2023-01-31T13:19:16.881Z"
   },
   {
    "duration": 9,
    "start_time": "2023-01-31T13:19:16.891Z"
   },
   {
    "duration": 21,
    "start_time": "2023-01-31T13:19:16.901Z"
   },
   {
    "duration": 7,
    "start_time": "2023-01-31T13:19:16.923Z"
   },
   {
    "duration": 7,
    "start_time": "2023-01-31T13:19:16.931Z"
   },
   {
    "duration": 4,
    "start_time": "2023-01-31T13:19:16.940Z"
   },
   {
    "duration": 6,
    "start_time": "2023-01-31T13:19:16.946Z"
   },
   {
    "duration": 6,
    "start_time": "2023-01-31T13:19:16.954Z"
   },
   {
    "duration": 11,
    "start_time": "2023-01-31T13:19:16.962Z"
   },
   {
    "duration": 48,
    "start_time": "2023-01-31T13:19:16.975Z"
   },
   {
    "duration": 49,
    "start_time": "2023-01-31T13:19:17.189Z"
   },
   {
    "duration": 6,
    "start_time": "2023-01-31T13:19:18.904Z"
   },
   {
    "duration": 6,
    "start_time": "2023-01-31T13:19:18.999Z"
   },
   {
    "duration": 4,
    "start_time": "2023-01-31T13:19:19.076Z"
   },
   {
    "duration": 5,
    "start_time": "2023-01-31T13:19:19.163Z"
   },
   {
    "duration": 7,
    "start_time": "2023-01-31T13:19:19.243Z"
   },
   {
    "duration": 7,
    "start_time": "2023-01-31T13:19:19.338Z"
   },
   {
    "duration": 7,
    "start_time": "2023-01-31T13:19:19.414Z"
   },
   {
    "duration": 7,
    "start_time": "2023-01-31T13:19:19.665Z"
   },
   {
    "duration": 5,
    "start_time": "2023-01-31T13:19:19.743Z"
   },
   {
    "duration": 9,
    "start_time": "2023-01-31T13:19:19.916Z"
   },
   {
    "duration": 5,
    "start_time": "2023-01-31T13:19:19.997Z"
   },
   {
    "duration": 6,
    "start_time": "2023-01-31T13:19:20.330Z"
   },
   {
    "duration": 28,
    "start_time": "2023-01-31T13:19:20.416Z"
   },
   {
    "duration": 14,
    "start_time": "2023-01-31T13:19:20.501Z"
   },
   {
    "duration": 27,
    "start_time": "2023-01-31T13:19:20.597Z"
   },
   {
    "duration": 11,
    "start_time": "2023-01-31T13:19:20.725Z"
   },
   {
    "duration": 8,
    "start_time": "2023-01-31T13:19:20.764Z"
   },
   {
    "duration": 26,
    "start_time": "2023-01-31T13:19:20.846Z"
   },
   {
    "duration": 6,
    "start_time": "2023-01-31T13:19:20.919Z"
   },
   {
    "duration": 5,
    "start_time": "2023-01-31T13:19:21.004Z"
   },
   {
    "duration": 28,
    "start_time": "2023-01-31T13:19:21.131Z"
   },
   {
    "duration": 138,
    "start_time": "2023-01-31T13:19:21.344Z"
   },
   {
    "duration": 152,
    "start_time": "2023-01-31T13:19:21.511Z"
   },
   {
    "duration": 129,
    "start_time": "2023-01-31T13:19:21.681Z"
   },
   {
    "duration": 180,
    "start_time": "2023-01-31T13:19:21.835Z"
   },
   {
    "duration": 5,
    "start_time": "2023-01-31T13:19:24.095Z"
   },
   {
    "duration": 1016,
    "start_time": "2023-01-31T13:19:24.178Z"
   },
   {
    "duration": 10,
    "start_time": "2023-01-31T13:19:25.196Z"
   },
   {
    "duration": 26,
    "start_time": "2023-01-31T13:19:25.208Z"
   },
   {
    "duration": 6,
    "start_time": "2023-01-31T13:19:25.237Z"
   },
   {
    "duration": 183,
    "start_time": "2023-01-31T13:19:25.244Z"
   },
   {
    "duration": 154,
    "start_time": "2023-01-31T13:19:25.429Z"
   },
   {
    "duration": 169,
    "start_time": "2023-01-31T13:19:26.893Z"
   },
   {
    "duration": 122,
    "start_time": "2023-01-31T13:19:27.064Z"
   },
   {
    "duration": 185,
    "start_time": "2023-01-31T13:19:27.239Z"
   },
   {
    "duration": 195,
    "start_time": "2023-01-31T13:19:27.426Z"
   },
   {
    "duration": 257,
    "start_time": "2023-01-31T13:19:27.622Z"
   },
   {
    "duration": 207,
    "start_time": "2023-01-31T13:19:27.881Z"
   },
   {
    "duration": 137,
    "start_time": "2023-01-31T13:19:28.090Z"
   },
   {
    "duration": 160,
    "start_time": "2023-01-31T13:19:28.228Z"
   },
   {
    "duration": 170,
    "start_time": "2023-01-31T13:19:28.390Z"
   },
   {
    "duration": 33,
    "start_time": "2023-01-31T13:19:29.191Z"
   },
   {
    "duration": 11,
    "start_time": "2023-01-31T13:19:29.360Z"
   },
   {
    "duration": 17,
    "start_time": "2023-01-31T13:19:29.694Z"
   },
   {
    "duration": 5,
    "start_time": "2023-01-31T13:19:29.789Z"
   },
   {
    "duration": 13,
    "start_time": "2023-01-31T13:19:29.866Z"
   },
   {
    "duration": 22,
    "start_time": "2023-01-31T13:19:29.953Z"
   },
   {
    "duration": 750,
    "start_time": "2023-01-31T13:19:30.122Z"
   },
   {
    "duration": 183,
    "start_time": "2023-01-31T13:19:32.429Z"
   },
   {
    "duration": 25,
    "start_time": "2023-01-31T13:19:32.900Z"
   },
   {
    "duration": 26,
    "start_time": "2023-01-31T13:19:33.919Z"
   },
   {
    "duration": 10,
    "start_time": "2023-01-31T13:19:34.092Z"
   },
   {
    "duration": 11,
    "start_time": "2023-01-31T13:19:34.794Z"
   },
   {
    "duration": 10,
    "start_time": "2023-01-31T13:19:35.317Z"
   },
   {
    "duration": 165,
    "start_time": "2023-01-31T13:19:35.494Z"
   },
   {
    "duration": 14,
    "start_time": "2023-01-31T13:19:35.881Z"
   },
   {
    "duration": 5,
    "start_time": "2023-01-31T13:19:36.404Z"
   },
   {
    "duration": 10,
    "start_time": "2023-01-31T13:19:36.633Z"
   },
   {
    "duration": 4,
    "start_time": "2023-01-31T13:19:36.811Z"
   },
   {
    "duration": 28,
    "start_time": "2023-01-31T13:20:35.833Z"
   },
   {
    "duration": 29,
    "start_time": "2023-01-31T13:20:43.575Z"
   },
   {
    "duration": 4,
    "start_time": "2023-01-31T13:21:22.797Z"
   },
   {
    "duration": 7,
    "start_time": "2023-01-31T13:21:23.097Z"
   },
   {
    "duration": 6,
    "start_time": "2023-01-31T13:21:24.287Z"
   },
   {
    "duration": 5,
    "start_time": "2023-01-31T13:21:28.741Z"
   },
   {
    "duration": 4,
    "start_time": "2023-01-31T13:21:32.180Z"
   },
   {
    "duration": 4,
    "start_time": "2023-01-31T13:21:32.614Z"
   },
   {
    "duration": 6,
    "start_time": "2023-01-31T13:21:33.190Z"
   },
   {
    "duration": 10,
    "start_time": "2023-01-31T13:21:35.002Z"
   },
   {
    "duration": 9,
    "start_time": "2023-01-31T13:21:38.986Z"
   },
   {
    "duration": 25,
    "start_time": "2023-01-31T13:21:40.049Z"
   },
   {
    "duration": 6,
    "start_time": "2023-01-31T13:21:42.183Z"
   },
   {
    "duration": 4,
    "start_time": "2023-01-31T13:21:42.753Z"
   },
   {
    "duration": 6,
    "start_time": "2023-01-31T13:21:43.217Z"
   },
   {
    "duration": 5,
    "start_time": "2023-01-31T13:21:43.789Z"
   },
   {
    "duration": 8,
    "start_time": "2023-01-31T13:21:44.467Z"
   },
   {
    "duration": 6,
    "start_time": "2023-01-31T13:21:51.501Z"
   },
   {
    "duration": 7,
    "start_time": "2023-01-31T13:21:51.663Z"
   },
   {
    "duration": 7,
    "start_time": "2023-01-31T13:22:00.322Z"
   },
   {
    "duration": 6,
    "start_time": "2023-01-31T13:22:00.519Z"
   },
   {
    "duration": 12,
    "start_time": "2023-01-31T13:22:01.311Z"
   },
   {
    "duration": 5,
    "start_time": "2023-01-31T13:22:02.001Z"
   },
   {
    "duration": 6,
    "start_time": "2023-01-31T13:22:03.871Z"
   },
   {
    "duration": 27,
    "start_time": "2023-01-31T13:22:04.439Z"
   },
   {
    "duration": 14,
    "start_time": "2023-01-31T13:22:04.945Z"
   },
   {
    "duration": 28,
    "start_time": "2023-01-31T13:22:05.936Z"
   },
   {
    "duration": 9,
    "start_time": "2023-01-31T13:22:06.819Z"
   },
   {
    "duration": 7,
    "start_time": "2023-01-31T13:26:12.037Z"
   },
   {
    "duration": 5,
    "start_time": "2023-01-31T13:28:13.076Z"
   },
   {
    "duration": 8,
    "start_time": "2023-01-31T13:29:25.101Z"
   },
   {
    "duration": 6,
    "start_time": "2023-01-31T13:29:39.127Z"
   },
   {
    "duration": 6,
    "start_time": "2023-01-31T13:29:48.840Z"
   },
   {
    "duration": 9,
    "start_time": "2023-01-31T13:29:51.157Z"
   },
   {
    "duration": 8,
    "start_time": "2023-01-31T13:31:15.719Z"
   },
   {
    "duration": 5,
    "start_time": "2023-01-31T13:31:16.950Z"
   },
   {
    "duration": 42,
    "start_time": "2023-01-31T13:32:07.517Z"
   },
   {
    "duration": 5,
    "start_time": "2023-01-31T13:32:09.894Z"
   },
   {
    "duration": 6,
    "start_time": "2023-01-31T13:32:13.554Z"
   },
   {
    "duration": 41,
    "start_time": "2023-01-31T13:32:13.861Z"
   },
   {
    "duration": 9,
    "start_time": "2023-01-31T13:32:14.988Z"
   },
   {
    "duration": 10,
    "start_time": "2023-01-31T13:33:01.464Z"
   },
   {
    "duration": 5,
    "start_time": "2023-01-31T13:36:14.545Z"
   },
   {
    "duration": 12,
    "start_time": "2023-01-31T13:36:14.808Z"
   },
   {
    "duration": 39,
    "start_time": "2023-01-31T13:36:15.427Z"
   },
   {
    "duration": 5,
    "start_time": "2023-01-31T13:36:16.467Z"
   },
   {
    "duration": 89,
    "start_time": "2023-01-31T13:36:55.726Z"
   },
   {
    "duration": 6,
    "start_time": "2023-01-31T13:36:56.901Z"
   },
   {
    "duration": 70,
    "start_time": "2023-01-31T13:36:59.908Z"
   },
   {
    "duration": 7,
    "start_time": "2023-01-31T13:37:00.152Z"
   },
   {
    "duration": 2,
    "start_time": "2023-01-31T13:37:03.277Z"
   },
   {
    "duration": 6,
    "start_time": "2023-01-31T13:37:03.600Z"
   },
   {
    "duration": 8,
    "start_time": "2023-01-31T13:37:05.371Z"
   },
   {
    "duration": 3,
    "start_time": "2023-01-31T13:37:05.629Z"
   },
   {
    "duration": 6,
    "start_time": "2023-01-31T13:37:06.458Z"
   },
   {
    "duration": 6,
    "start_time": "2023-01-31T13:37:10.398Z"
   },
   {
    "duration": 9,
    "start_time": "2023-01-31T13:37:14.582Z"
   },
   {
    "duration": 6,
    "start_time": "2023-01-31T13:37:19.972Z"
   },
   {
    "duration": 9,
    "start_time": "2023-01-31T13:37:28.364Z"
   },
   {
    "duration": 4,
    "start_time": "2023-01-31T13:37:28.572Z"
   },
   {
    "duration": 6,
    "start_time": "2023-01-31T13:37:29.433Z"
   },
   {
    "duration": 30,
    "start_time": "2023-01-31T13:37:30.317Z"
   },
   {
    "duration": 11,
    "start_time": "2023-01-31T13:37:30.904Z"
   },
   {
    "duration": 7,
    "start_time": "2023-01-31T13:37:45.134Z"
   },
   {
    "duration": 6,
    "start_time": "2023-01-31T13:38:12.794Z"
   },
   {
    "duration": 7,
    "start_time": "2023-01-31T13:38:24.922Z"
   },
   {
    "duration": 6,
    "start_time": "2023-01-31T13:39:06.581Z"
   },
   {
    "duration": 3,
    "start_time": "2023-01-31T13:39:12.265Z"
   },
   {
    "duration": 106,
    "start_time": "2023-01-31T13:39:12.873Z"
   },
   {
    "duration": 46,
    "start_time": "2023-01-31T13:39:13.654Z"
   },
   {
    "duration": 20,
    "start_time": "2023-01-31T13:39:14.458Z"
   },
   {
    "duration": 1979,
    "start_time": "2023-01-31T13:39:15.118Z"
   },
   {
    "duration": 85,
    "start_time": "2023-01-31T13:39:49.939Z"
   },
   {
    "duration": 27,
    "start_time": "2023-01-31T13:39:50.550Z"
   },
   {
    "duration": 11,
    "start_time": "2023-01-31T13:39:52.441Z"
   },
   {
    "duration": 293,
    "start_time": "2023-01-31T13:39:56.014Z"
   },
   {
    "duration": 8,
    "start_time": "2023-01-31T13:39:58.751Z"
   },
   {
    "duration": 6,
    "start_time": "2023-01-31T13:40:00.463Z"
   },
   {
    "duration": 8,
    "start_time": "2023-01-31T13:40:01.023Z"
   },
   {
    "duration": 7,
    "start_time": "2023-01-31T13:40:01.428Z"
   },
   {
    "duration": 5,
    "start_time": "2023-01-31T13:40:01.989Z"
   },
   {
    "duration": 4,
    "start_time": "2023-01-31T13:40:02.957Z"
   },
   {
    "duration": 5,
    "start_time": "2023-01-31T13:40:03.220Z"
   },
   {
    "duration": 6,
    "start_time": "2023-01-31T13:40:03.439Z"
   },
   {
    "duration": 11,
    "start_time": "2023-01-31T13:40:04.051Z"
   },
   {
    "duration": 8,
    "start_time": "2023-01-31T13:40:05.543Z"
   },
   {
    "duration": 51,
    "start_time": "2023-01-31T13:40:16.648Z"
   },
   {
    "duration": 6,
    "start_time": "2023-01-31T13:40:21.329Z"
   },
   {
    "duration": 5,
    "start_time": "2023-01-31T13:40:21.814Z"
   },
   {
    "duration": 4,
    "start_time": "2023-01-31T13:40:22.227Z"
   },
   {
    "duration": 6,
    "start_time": "2023-01-31T13:40:22.502Z"
   },
   {
    "duration": 9,
    "start_time": "2023-01-31T13:40:23.041Z"
   },
   {
    "duration": 8,
    "start_time": "2023-01-31T13:40:23.584Z"
   },
   {
    "duration": 9,
    "start_time": "2023-01-31T13:40:24.428Z"
   },
   {
    "duration": 7,
    "start_time": "2023-01-31T13:40:26.950Z"
   },
   {
    "duration": 5,
    "start_time": "2023-01-31T13:40:27.530Z"
   },
   {
    "duration": 10,
    "start_time": "2023-01-31T13:40:28.598Z"
   },
   {
    "duration": 6,
    "start_time": "2023-01-31T13:40:28.960Z"
   },
   {
    "duration": 7,
    "start_time": "2023-01-31T13:40:30.338Z"
   },
   {
    "duration": 30,
    "start_time": "2023-01-31T13:40:30.901Z"
   },
   {
    "duration": 13,
    "start_time": "2023-01-31T13:40:31.257Z"
   },
   {
    "duration": 26,
    "start_time": "2023-01-31T13:40:31.728Z"
   },
   {
    "duration": 11,
    "start_time": "2023-01-31T13:40:32.471Z"
   },
   {
    "duration": 9,
    "start_time": "2023-01-31T13:40:33.226Z"
   },
   {
    "duration": 31,
    "start_time": "2023-01-31T13:40:34.067Z"
   },
   {
    "duration": 6,
    "start_time": "2023-01-31T13:40:34.541Z"
   },
   {
    "duration": 6,
    "start_time": "2023-01-31T13:40:35.014Z"
   },
   {
    "duration": 42,
    "start_time": "2023-01-31T13:40:35.717Z"
   },
   {
    "duration": 178,
    "start_time": "2023-01-31T13:40:37.119Z"
   },
   {
    "duration": 176,
    "start_time": "2023-01-31T13:40:38.225Z"
   },
   {
    "duration": 146,
    "start_time": "2023-01-31T13:40:38.999Z"
   },
   {
    "duration": 221,
    "start_time": "2023-01-31T13:40:40.611Z"
   },
   {
    "duration": 5,
    "start_time": "2023-01-31T13:40:42.168Z"
   },
   {
    "duration": 253,
    "start_time": "2023-01-31T13:40:42.561Z"
   },
   {
    "duration": 9,
    "start_time": "2023-01-31T13:40:42.960Z"
   },
   {
    "duration": 18,
    "start_time": "2023-01-31T13:40:43.378Z"
   },
   {
    "duration": 6,
    "start_time": "2023-01-31T13:40:44.199Z"
   },
   {
    "duration": 235,
    "start_time": "2023-01-31T13:40:44.711Z"
   },
   {
    "duration": 152,
    "start_time": "2023-01-31T13:40:45.734Z"
   },
   {
    "duration": 173,
    "start_time": "2023-01-31T13:40:46.430Z"
   },
   {
    "duration": 116,
    "start_time": "2023-01-31T13:40:47.053Z"
   },
   {
    "duration": 184,
    "start_time": "2023-01-31T13:40:47.739Z"
   },
   {
    "duration": 191,
    "start_time": "2023-01-31T13:40:48.401Z"
   },
   {
    "duration": 276,
    "start_time": "2023-01-31T13:40:49.454Z"
   },
   {
    "duration": 251,
    "start_time": "2023-01-31T13:40:50.597Z"
   },
   {
    "duration": 153,
    "start_time": "2023-01-31T13:40:51.570Z"
   },
   {
    "duration": 157,
    "start_time": "2023-01-31T13:40:52.433Z"
   },
   {
    "duration": 168,
    "start_time": "2023-01-31T13:40:54.918Z"
   },
   {
    "duration": 33,
    "start_time": "2023-01-31T13:40:56.951Z"
   },
   {
    "duration": 13,
    "start_time": "2023-01-31T13:40:58.813Z"
   },
   {
    "duration": 18,
    "start_time": "2023-01-31T13:41:02.931Z"
   },
   {
    "duration": 6,
    "start_time": "2023-01-31T13:41:03.416Z"
   },
   {
    "duration": 18,
    "start_time": "2023-01-31T13:41:04.525Z"
   },
   {
    "duration": 28,
    "start_time": "2023-01-31T13:41:04.712Z"
   },
   {
    "duration": 743,
    "start_time": "2023-01-31T13:41:06.419Z"
   },
   {
    "duration": 197,
    "start_time": "2023-01-31T13:41:07.932Z"
   },
   {
    "duration": 26,
    "start_time": "2023-01-31T13:41:11.328Z"
   },
   {
    "duration": 7,
    "start_time": "2023-01-31T13:41:12.834Z"
   },
   {
    "duration": 9,
    "start_time": "2023-01-31T13:41:13.736Z"
   },
   {
    "duration": 10,
    "start_time": "2023-01-31T13:41:15.050Z"
   },
   {
    "duration": 3,
    "start_time": "2023-01-31T13:41:17.582Z"
   },
   {
    "duration": 6,
    "start_time": "2023-01-31T13:41:18.063Z"
   },
   {
    "duration": 27,
    "start_time": "2023-01-31T13:41:18.985Z"
   },
   {
    "duration": 10,
    "start_time": "2023-01-31T13:41:20.238Z"
   },
   {
    "duration": 10,
    "start_time": "2023-01-31T13:41:23.899Z"
   },
   {
    "duration": 13,
    "start_time": "2023-01-31T13:41:24.217Z"
   },
   {
    "duration": 183,
    "start_time": "2023-01-31T13:41:24.351Z"
   },
   {
    "duration": 16,
    "start_time": "2023-01-31T13:41:24.641Z"
   },
   {
    "duration": 5,
    "start_time": "2023-01-31T13:41:24.782Z"
   },
   {
    "duration": 16,
    "start_time": "2023-01-31T13:41:24.918Z"
   },
   {
    "duration": 6,
    "start_time": "2023-01-31T13:41:25.051Z"
   },
   {
    "duration": 96,
    "start_time": "2023-01-31T13:42:51.550Z"
   },
   {
    "duration": 9,
    "start_time": "2023-01-31T13:42:51.966Z"
   },
   {
    "duration": 8,
    "start_time": "2023-01-31T13:43:02.155Z"
   },
   {
    "duration": 3,
    "start_time": "2023-01-31T13:43:02.366Z"
   },
   {
    "duration": 6,
    "start_time": "2023-01-31T13:43:02.865Z"
   },
   {
    "duration": 27,
    "start_time": "2023-01-31T13:43:03.244Z"
   },
   {
    "duration": 10,
    "start_time": "2023-01-31T13:43:03.776Z"
   },
   {
    "duration": 202,
    "start_time": "2023-01-31T13:43:07.519Z"
   },
   {
    "duration": 27,
    "start_time": "2023-01-31T13:43:07.723Z"
   },
   {
    "duration": 7,
    "start_time": "2023-01-31T13:43:08.133Z"
   },
   {
    "duration": 6,
    "start_time": "2023-01-31T13:43:08.291Z"
   },
   {
    "duration": 10,
    "start_time": "2023-01-31T13:43:08.618Z"
   },
   {
    "duration": 3,
    "start_time": "2023-01-31T13:43:08.793Z"
   },
   {
    "duration": 8,
    "start_time": "2023-01-31T13:43:09.065Z"
   },
   {
    "duration": 37,
    "start_time": "2023-01-31T13:43:09.255Z"
   },
   {
    "duration": 10,
    "start_time": "2023-01-31T13:43:09.727Z"
   },
   {
    "duration": 12,
    "start_time": "2023-01-31T13:43:11.454Z"
   },
   {
    "duration": 3,
    "start_time": "2023-01-31T13:43:17.219Z"
   },
   {
    "duration": 148,
    "start_time": "2023-01-31T13:43:17.716Z"
   },
   {
    "duration": 42,
    "start_time": "2023-01-31T13:43:17.867Z"
   },
   {
    "duration": 17,
    "start_time": "2023-01-31T13:43:17.921Z"
   },
   {
    "duration": 2292,
    "start_time": "2023-01-31T13:43:17.971Z"
   },
   {
    "duration": 108,
    "start_time": "2023-01-31T13:43:20.265Z"
   },
   {
    "duration": 26,
    "start_time": "2023-01-31T13:43:20.376Z"
   },
   {
    "duration": 24,
    "start_time": "2023-01-31T13:43:20.405Z"
   },
   {
    "duration": 313,
    "start_time": "2023-01-31T13:43:20.430Z"
   },
   {
    "duration": 10,
    "start_time": "2023-01-31T13:43:20.745Z"
   },
   {
    "duration": 12,
    "start_time": "2023-01-31T13:43:20.757Z"
   },
   {
    "duration": 13,
    "start_time": "2023-01-31T13:43:20.771Z"
   },
   {
    "duration": 19,
    "start_time": "2023-01-31T13:43:20.786Z"
   },
   {
    "duration": 6,
    "start_time": "2023-01-31T13:43:20.820Z"
   },
   {
    "duration": 9,
    "start_time": "2023-01-31T13:43:20.828Z"
   },
   {
    "duration": 15,
    "start_time": "2023-01-31T13:43:20.839Z"
   },
   {
    "duration": 13,
    "start_time": "2023-01-31T13:43:20.856Z"
   },
   {
    "duration": 19,
    "start_time": "2023-01-31T13:43:20.871Z"
   },
   {
    "duration": 30,
    "start_time": "2023-01-31T13:43:20.892Z"
   },
   {
    "duration": 69,
    "start_time": "2023-01-31T13:43:20.925Z"
   },
   {
    "duration": 26,
    "start_time": "2023-01-31T13:43:20.996Z"
   },
   {
    "duration": 11,
    "start_time": "2023-01-31T13:43:21.025Z"
   },
   {
    "duration": 8,
    "start_time": "2023-01-31T13:43:21.039Z"
   },
   {
    "duration": 7,
    "start_time": "2023-01-31T13:43:21.625Z"
   },
   {
    "duration": 7,
    "start_time": "2023-01-31T13:43:22.128Z"
   },
   {
    "duration": 7,
    "start_time": "2023-01-31T13:43:22.221Z"
   },
   {
    "duration": 8,
    "start_time": "2023-01-31T13:43:22.317Z"
   },
   {
    "duration": 5,
    "start_time": "2023-01-31T13:43:22.545Z"
   },
   {
    "duration": 5,
    "start_time": "2023-01-31T13:43:22.631Z"
   },
   {
    "duration": 8,
    "start_time": "2023-01-31T13:43:22.798Z"
   },
   {
    "duration": 6,
    "start_time": "2023-01-31T13:43:22.890Z"
   },
   {
    "duration": 6,
    "start_time": "2023-01-31T13:43:23.213Z"
   },
   {
    "duration": 32,
    "start_time": "2023-01-31T13:43:23.294Z"
   },
   {
    "duration": 14,
    "start_time": "2023-01-31T13:43:23.389Z"
   },
   {
    "duration": 29,
    "start_time": "2023-01-31T13:43:23.469Z"
   },
   {
    "duration": 10,
    "start_time": "2023-01-31T13:43:23.553Z"
   },
   {
    "duration": 8,
    "start_time": "2023-01-31T13:43:23.629Z"
   },
   {
    "duration": 35,
    "start_time": "2023-01-31T13:43:23.722Z"
   },
   {
    "duration": 6,
    "start_time": "2023-01-31T13:43:23.801Z"
   },
   {
    "duration": 4,
    "start_time": "2023-01-31T13:43:23.885Z"
   },
   {
    "duration": 29,
    "start_time": "2023-01-31T13:43:23.970Z"
   },
   {
    "duration": 151,
    "start_time": "2023-01-31T13:43:24.221Z"
   },
   {
    "duration": 157,
    "start_time": "2023-01-31T13:43:24.379Z"
   },
   {
    "duration": 139,
    "start_time": "2023-01-31T13:43:24.550Z"
   },
   {
    "duration": 257,
    "start_time": "2023-01-31T13:43:24.714Z"
   },
   {
    "duration": 7,
    "start_time": "2023-01-31T13:43:24.973Z"
   },
   {
    "duration": 288,
    "start_time": "2023-01-31T13:43:24.999Z"
   },
   {
    "duration": 11,
    "start_time": "2023-01-31T13:43:25.290Z"
   },
   {
    "duration": 31,
    "start_time": "2023-01-31T13:43:25.303Z"
   },
   {
    "duration": 7,
    "start_time": "2023-01-31T13:43:25.337Z"
   },
   {
    "duration": 212,
    "start_time": "2023-01-31T13:43:25.394Z"
   },
   {
    "duration": 158,
    "start_time": "2023-01-31T13:43:25.608Z"
   },
   {
    "duration": 185,
    "start_time": "2023-01-31T13:43:25.768Z"
   },
   {
    "duration": 138,
    "start_time": "2023-01-31T13:43:25.955Z"
   },
   {
    "duration": 202,
    "start_time": "2023-01-31T13:43:26.096Z"
   },
   {
    "duration": 225,
    "start_time": "2023-01-31T13:43:26.300Z"
   },
   {
    "duration": 266,
    "start_time": "2023-01-31T13:43:26.527Z"
   },
   {
    "duration": 211,
    "start_time": "2023-01-31T13:43:26.795Z"
   },
   {
    "duration": 151,
    "start_time": "2023-01-31T13:43:27.008Z"
   },
   {
    "duration": 166,
    "start_time": "2023-01-31T13:43:27.162Z"
   },
   {
    "duration": 193,
    "start_time": "2023-01-31T13:43:27.330Z"
   },
   {
    "duration": 32,
    "start_time": "2023-01-31T13:43:27.525Z"
   },
   {
    "duration": 12,
    "start_time": "2023-01-31T13:43:27.559Z"
   },
   {
    "duration": 20,
    "start_time": "2023-01-31T13:43:27.738Z"
   },
   {
    "duration": 6,
    "start_time": "2023-01-31T13:43:27.873Z"
   },
   {
    "duration": 13,
    "start_time": "2023-01-31T13:43:27.947Z"
   },
   {
    "duration": 23,
    "start_time": "2023-01-31T13:43:27.996Z"
   },
   {
    "duration": 825,
    "start_time": "2023-01-31T13:43:28.155Z"
   },
   {
    "duration": 195,
    "start_time": "2023-01-31T13:43:29.402Z"
   },
   {
    "duration": 24,
    "start_time": "2023-01-31T13:43:29.901Z"
   },
   {
    "duration": 7,
    "start_time": "2023-01-31T13:43:30.735Z"
   },
   {
    "duration": 6,
    "start_time": "2023-01-31T13:43:31.230Z"
   },
   {
    "duration": 9,
    "start_time": "2023-01-31T13:43:31.805Z"
   },
   {
    "duration": 3,
    "start_time": "2023-01-31T13:43:32.196Z"
   },
   {
    "duration": 6,
    "start_time": "2023-01-31T13:43:32.345Z"
   },
   {
    "duration": 27,
    "start_time": "2023-01-31T13:43:32.488Z"
   },
   {
    "duration": 14,
    "start_time": "2023-01-31T13:43:32.629Z"
   },
   {
    "duration": 11,
    "start_time": "2023-01-31T13:43:32.992Z"
   },
   {
    "duration": 14,
    "start_time": "2023-01-31T13:43:33.280Z"
   },
   {
    "duration": 273,
    "start_time": "2023-01-31T13:43:33.417Z"
   },
   {
    "duration": 15,
    "start_time": "2023-01-31T13:43:33.716Z"
   },
   {
    "duration": 5,
    "start_time": "2023-01-31T13:43:36.518Z"
   },
   {
    "duration": 11,
    "start_time": "2023-01-31T13:43:36.671Z"
   },
   {
    "duration": 4,
    "start_time": "2023-01-31T13:43:36.814Z"
   },
   {
    "duration": 17,
    "start_time": "2023-01-31T13:53:16.485Z"
   },
   {
    "duration": 11,
    "start_time": "2023-01-31T13:53:34.878Z"
   },
   {
    "duration": 7,
    "start_time": "2023-01-31T13:53:44.182Z"
   },
   {
    "duration": 7,
    "start_time": "2023-01-31T13:55:16.539Z"
   },
   {
    "duration": 7,
    "start_time": "2023-01-31T13:55:47.926Z"
   },
   {
    "duration": 7,
    "start_time": "2023-01-31T13:56:20.346Z"
   },
   {
    "duration": 5,
    "start_time": "2023-01-31T13:59:50.284Z"
   },
   {
    "duration": 8,
    "start_time": "2023-01-31T13:59:52.013Z"
   },
   {
    "duration": 6,
    "start_time": "2023-01-31T13:59:52.694Z"
   },
   {
    "duration": 28,
    "start_time": "2023-01-31T13:59:57.683Z"
   },
   {
    "duration": 9,
    "start_time": "2023-01-31T13:59:58.051Z"
   },
   {
    "duration": 19,
    "start_time": "2023-01-31T14:06:04.986Z"
   },
   {
    "duration": 9,
    "start_time": "2023-01-31T14:08:07.817Z"
   },
   {
    "duration": 30,
    "start_time": "2023-01-31T14:08:26.245Z"
   },
   {
    "duration": 737,
    "start_time": "2023-01-31T14:08:26.602Z"
   },
   {
    "duration": 200,
    "start_time": "2023-01-31T14:08:27.341Z"
   },
   {
    "duration": 30,
    "start_time": "2023-01-31T14:08:27.543Z"
   },
   {
    "duration": 7,
    "start_time": "2023-01-31T14:08:29.222Z"
   },
   {
    "duration": 6,
    "start_time": "2023-01-31T14:08:30.223Z"
   },
   {
    "duration": 9,
    "start_time": "2023-01-31T14:08:31.094Z"
   },
   {
    "duration": 18,
    "start_time": "2023-01-31T14:08:31.720Z"
   },
   {
    "duration": 9,
    "start_time": "2023-01-31T14:08:32.525Z"
   },
   {
    "duration": 32,
    "start_time": "2023-01-31T14:09:01.892Z"
   },
   {
    "duration": 79,
    "start_time": "2023-01-31T14:13:13.653Z"
   },
   {
    "duration": 113,
    "start_time": "2023-01-31T14:15:34.914Z"
   },
   {
    "duration": 7,
    "start_time": "2023-01-31T14:29:52.821Z"
   },
   {
    "duration": 4,
    "start_time": "2023-01-31T14:36:18.673Z"
   },
   {
    "duration": 6,
    "start_time": "2023-01-31T14:36:19.208Z"
   },
   {
    "duration": 3,
    "start_time": "2023-01-31T14:36:22.198Z"
   },
   {
    "duration": 100,
    "start_time": "2023-01-31T14:36:22.357Z"
   },
   {
    "duration": 32,
    "start_time": "2023-01-31T14:36:22.471Z"
   },
   {
    "duration": 15,
    "start_time": "2023-01-31T14:36:22.653Z"
   },
   {
    "duration": 3945,
    "start_time": "2023-01-31T14:36:22.799Z"
   },
   {
    "duration": 91,
    "start_time": "2023-01-31T14:36:26.747Z"
   },
   {
    "duration": 24,
    "start_time": "2023-01-31T14:36:26.840Z"
   },
   {
    "duration": 11,
    "start_time": "2023-01-31T14:36:26.867Z"
   },
   {
    "duration": 304,
    "start_time": "2023-01-31T14:36:26.879Z"
   },
   {
    "duration": 8,
    "start_time": "2023-01-31T14:36:27.185Z"
   },
   {
    "duration": 26,
    "start_time": "2023-01-31T14:36:27.195Z"
   },
   {
    "duration": 8,
    "start_time": "2023-01-31T14:36:27.224Z"
   },
   {
    "duration": 12,
    "start_time": "2023-01-31T14:36:27.234Z"
   },
   {
    "duration": 10,
    "start_time": "2023-01-31T14:36:27.249Z"
   },
   {
    "duration": 4,
    "start_time": "2023-01-31T14:36:29.179Z"
   },
   {
    "duration": 9,
    "start_time": "2023-01-31T14:36:30.720Z"
   },
   {
    "duration": 14,
    "start_time": "2023-01-31T14:36:31.561Z"
   },
   {
    "duration": 8,
    "start_time": "2023-01-31T14:36:32.439Z"
   },
   {
    "duration": 53,
    "start_time": "2023-01-31T14:36:33.216Z"
   },
   {
    "duration": 8,
    "start_time": "2023-01-31T14:36:34.319Z"
   },
   {
    "duration": 5,
    "start_time": "2023-01-31T14:36:34.419Z"
   },
   {
    "duration": 7,
    "start_time": "2023-01-31T14:36:34.500Z"
   },
   {
    "duration": 6,
    "start_time": "2023-01-31T14:36:34.569Z"
   },
   {
    "duration": 11,
    "start_time": "2023-01-31T14:36:34.665Z"
   },
   {
    "duration": 9,
    "start_time": "2023-01-31T14:36:34.745Z"
   },
   {
    "duration": 10,
    "start_time": "2023-01-31T14:36:35.134Z"
   },
   {
    "duration": 7,
    "start_time": "2023-01-31T14:36:35.801Z"
   },
   {
    "duration": 5,
    "start_time": "2023-01-31T14:36:35.886Z"
   },
   {
    "duration": 9,
    "start_time": "2023-01-31T14:36:36.055Z"
   },
   {
    "duration": 6,
    "start_time": "2023-01-31T14:36:36.134Z"
   },
   {
    "duration": 9,
    "start_time": "2023-01-31T14:36:36.470Z"
   },
   {
    "duration": 30,
    "start_time": "2023-01-31T14:36:36.574Z"
   },
   {
    "duration": 15,
    "start_time": "2023-01-31T14:36:36.651Z"
   },
   {
    "duration": 26,
    "start_time": "2023-01-31T14:36:36.725Z"
   },
   {
    "duration": 12,
    "start_time": "2023-01-31T14:36:36.815Z"
   },
   {
    "duration": 8,
    "start_time": "2023-01-31T14:36:36.894Z"
   },
   {
    "duration": 28,
    "start_time": "2023-01-31T14:36:36.980Z"
   },
   {
    "duration": 6,
    "start_time": "2023-01-31T14:36:37.063Z"
   },
   {
    "duration": 5,
    "start_time": "2023-01-31T14:36:37.146Z"
   },
   {
    "duration": 29,
    "start_time": "2023-01-31T14:36:37.283Z"
   },
   {
    "duration": 158,
    "start_time": "2023-01-31T14:36:37.489Z"
   },
   {
    "duration": 164,
    "start_time": "2023-01-31T14:36:37.649Z"
   },
   {
    "duration": 133,
    "start_time": "2023-01-31T14:36:38.787Z"
   },
   {
    "duration": 186,
    "start_time": "2023-01-31T14:36:38.958Z"
   },
   {
    "duration": 5,
    "start_time": "2023-01-31T14:36:39.147Z"
   },
   {
    "duration": 244,
    "start_time": "2023-01-31T14:36:39.206Z"
   },
   {
    "duration": 9,
    "start_time": "2023-01-31T14:36:39.452Z"
   },
   {
    "duration": 40,
    "start_time": "2023-01-31T14:36:39.463Z"
   },
   {
    "duration": 6,
    "start_time": "2023-01-31T14:36:39.558Z"
   },
   {
    "duration": 338,
    "start_time": "2023-01-31T14:36:39.629Z"
   },
   {
    "duration": 156,
    "start_time": "2023-01-31T14:36:39.969Z"
   },
   {
    "duration": 189,
    "start_time": "2023-01-31T14:36:40.127Z"
   },
   {
    "duration": 147,
    "start_time": "2023-01-31T14:36:40.321Z"
   },
   {
    "duration": 204,
    "start_time": "2023-01-31T14:36:40.471Z"
   },
   {
    "duration": 197,
    "start_time": "2023-01-31T14:36:40.677Z"
   },
   {
    "duration": 261,
    "start_time": "2023-01-31T14:36:41.313Z"
   },
   {
    "duration": 215,
    "start_time": "2023-01-31T14:36:41.576Z"
   },
   {
    "duration": 143,
    "start_time": "2023-01-31T14:36:41.793Z"
   },
   {
    "duration": 166,
    "start_time": "2023-01-31T14:36:41.938Z"
   },
   {
    "duration": 300,
    "start_time": "2023-01-31T14:36:42.107Z"
   },
   {
    "duration": 38,
    "start_time": "2023-01-31T14:36:42.409Z"
   },
   {
    "duration": 11,
    "start_time": "2023-01-31T14:36:42.449Z"
   },
   {
    "duration": 17,
    "start_time": "2023-01-31T14:36:42.655Z"
   },
   {
    "duration": 5,
    "start_time": "2023-01-31T14:36:42.742Z"
   },
   {
    "duration": 13,
    "start_time": "2023-01-31T14:36:42.827Z"
   },
   {
    "duration": 33,
    "start_time": "2023-01-31T14:36:42.907Z"
   },
   {
    "duration": 769,
    "start_time": "2023-01-31T14:36:43.778Z"
   },
   {
    "duration": 226,
    "start_time": "2023-01-31T14:36:44.549Z"
   },
   {
    "duration": 44,
    "start_time": "2023-01-31T14:36:44.777Z"
   },
   {
    "duration": 11,
    "start_time": "2023-01-31T14:36:44.825Z"
   },
   {
    "duration": 17,
    "start_time": "2023-01-31T14:36:44.838Z"
   },
   {
    "duration": 43,
    "start_time": "2023-01-31T14:36:44.858Z"
   },
   {
    "duration": 24,
    "start_time": "2023-01-31T14:36:44.902Z"
   },
   {
    "duration": 14,
    "start_time": "2023-01-31T14:36:45.660Z"
   },
   {
    "duration": 10,
    "start_time": "2023-01-31T14:36:46.244Z"
   },
   {
    "duration": 169,
    "start_time": "2023-01-31T14:36:46.332Z"
   },
   {
    "duration": 16,
    "start_time": "2023-01-31T14:36:47.414Z"
   },
   {
    "duration": 5,
    "start_time": "2023-01-31T14:36:47.622Z"
   },
   {
    "duration": 11,
    "start_time": "2023-01-31T14:36:47.787Z"
   },
   {
    "duration": 5,
    "start_time": "2023-01-31T14:36:47.936Z"
   },
   {
    "duration": 18,
    "start_time": "2023-01-31T14:37:19.642Z"
   },
   {
    "duration": 1207,
    "start_time": "2023-01-31T17:45:03.135Z"
   },
   {
    "duration": 85,
    "start_time": "2023-01-31T17:45:04.345Z"
   },
   {
    "duration": 35,
    "start_time": "2023-01-31T17:45:04.431Z"
   },
   {
    "duration": 15,
    "start_time": "2023-01-31T17:45:04.468Z"
   },
   {
    "duration": 2000,
    "start_time": "2023-01-31T17:45:04.485Z"
   },
   {
    "duration": 84,
    "start_time": "2023-01-31T17:45:06.486Z"
   },
   {
    "duration": 24,
    "start_time": "2023-01-31T17:45:06.573Z"
   },
   {
    "duration": 33,
    "start_time": "2023-01-31T17:45:06.598Z"
   },
   {
    "duration": 263,
    "start_time": "2023-01-31T17:45:06.633Z"
   },
   {
    "duration": 7,
    "start_time": "2023-01-31T17:45:06.898Z"
   },
   {
    "duration": 8,
    "start_time": "2023-01-31T17:45:06.907Z"
   },
   {
    "duration": 24,
    "start_time": "2023-01-31T17:45:06.916Z"
   },
   {
    "duration": 7,
    "start_time": "2023-01-31T17:45:06.942Z"
   },
   {
    "duration": 5,
    "start_time": "2023-01-31T17:45:06.953Z"
   },
   {
    "duration": 23,
    "start_time": "2023-01-31T17:45:06.960Z"
   },
   {
    "duration": 9,
    "start_time": "2023-01-31T17:45:06.986Z"
   },
   {
    "duration": 10,
    "start_time": "2023-01-31T17:45:06.998Z"
   },
   {
    "duration": 31,
    "start_time": "2023-01-31T17:45:07.010Z"
   },
   {
    "duration": 48,
    "start_time": "2023-01-31T17:45:07.043Z"
   },
   {
    "duration": 6,
    "start_time": "2023-01-31T17:45:07.093Z"
   },
   {
    "duration": 10,
    "start_time": "2023-01-31T17:45:07.101Z"
   },
   {
    "duration": 10,
    "start_time": "2023-01-31T17:45:07.112Z"
   },
   {
    "duration": 6,
    "start_time": "2023-01-31T17:45:07.140Z"
   },
   {
    "duration": 9,
    "start_time": "2023-01-31T17:45:07.148Z"
   },
   {
    "duration": 13,
    "start_time": "2023-01-31T17:45:07.159Z"
   },
   {
    "duration": 13,
    "start_time": "2023-01-31T17:45:07.174Z"
   },
   {
    "duration": 5,
    "start_time": "2023-01-31T17:45:07.188Z"
   },
   {
    "duration": 5,
    "start_time": "2023-01-31T17:45:07.195Z"
   },
   {
    "duration": 12,
    "start_time": "2023-01-31T17:45:07.202Z"
   },
   {
    "duration": 31,
    "start_time": "2023-01-31T17:45:07.215Z"
   },
   {
    "duration": 10,
    "start_time": "2023-01-31T17:45:07.248Z"
   },
   {
    "duration": 30,
    "start_time": "2023-01-31T17:45:07.260Z"
   },
   {
    "duration": 14,
    "start_time": "2023-01-31T17:45:07.292Z"
   },
   {
    "duration": 55,
    "start_time": "2023-01-31T17:45:07.308Z"
   },
   {
    "duration": 10,
    "start_time": "2023-01-31T17:45:07.365Z"
   },
   {
    "duration": 10,
    "start_time": "2023-01-31T17:45:07.376Z"
   },
   {
    "duration": 40,
    "start_time": "2023-01-31T17:45:07.388Z"
   },
   {
    "duration": 7,
    "start_time": "2023-01-31T17:45:07.439Z"
   },
   {
    "duration": 25,
    "start_time": "2023-01-31T17:45:07.448Z"
   },
   {
    "duration": 28,
    "start_time": "2023-01-31T17:45:07.475Z"
   },
   {
    "duration": 142,
    "start_time": "2023-01-31T17:45:07.508Z"
   },
   {
    "duration": 148,
    "start_time": "2023-01-31T17:45:07.652Z"
   },
   {
    "duration": 184,
    "start_time": "2023-01-31T17:45:07.801Z"
   },
   {
    "duration": 453,
    "start_time": "2023-01-31T17:45:07.987Z"
   },
   {
    "duration": 5,
    "start_time": "2023-01-31T17:45:08.441Z"
   },
   {
    "duration": 436,
    "start_time": "2023-01-31T17:45:08.448Z"
   },
   {
    "duration": 60,
    "start_time": "2023-01-31T17:45:08.886Z"
   },
   {
    "duration": 22,
    "start_time": "2023-01-31T17:45:08.949Z"
   },
   {
    "duration": 5,
    "start_time": "2023-01-31T17:45:08.972Z"
   },
   {
    "duration": 395,
    "start_time": "2023-01-31T17:45:08.979Z"
   },
   {
    "duration": 292,
    "start_time": "2023-01-31T17:45:09.376Z"
   },
   {
    "duration": 458,
    "start_time": "2023-01-31T17:45:09.669Z"
   },
   {
    "duration": 136,
    "start_time": "2023-01-31T17:45:10.129Z"
   },
   {
    "duration": 189,
    "start_time": "2023-01-31T17:45:10.267Z"
   },
   {
    "duration": 207,
    "start_time": "2023-01-31T17:45:10.458Z"
   },
   {
    "duration": 243,
    "start_time": "2023-01-31T17:45:10.667Z"
   },
   {
    "duration": 191,
    "start_time": "2023-01-31T17:45:10.911Z"
   },
   {
    "duration": 131,
    "start_time": "2023-01-31T17:45:11.104Z"
   },
   {
    "duration": 143,
    "start_time": "2023-01-31T17:45:11.237Z"
   },
   {
    "duration": 144,
    "start_time": "2023-01-31T17:45:11.382Z"
   },
   {
    "duration": 37,
    "start_time": "2023-01-31T17:45:11.528Z"
   },
   {
    "duration": 9,
    "start_time": "2023-01-31T17:45:11.566Z"
   },
   {
    "duration": 16,
    "start_time": "2023-01-31T17:45:11.577Z"
   },
   {
    "duration": 5,
    "start_time": "2023-01-31T17:45:11.595Z"
   },
   {
    "duration": 43,
    "start_time": "2023-01-31T17:45:11.602Z"
   },
   {
    "duration": 119,
    "start_time": "2023-01-31T17:45:11.647Z"
   },
   {
    "duration": 725,
    "start_time": "2023-01-31T17:45:11.768Z"
   },
   {
    "duration": 170,
    "start_time": "2023-01-31T17:45:12.494Z"
   },
   {
    "duration": 22,
    "start_time": "2023-01-31T17:45:12.666Z"
   },
   {
    "duration": 7,
    "start_time": "2023-01-31T17:45:12.689Z"
   },
   {
    "duration": 7,
    "start_time": "2023-01-31T17:45:12.697Z"
   },
   {
    "duration": 46,
    "start_time": "2023-01-31T17:45:12.706Z"
   },
   {
    "duration": 8,
    "start_time": "2023-01-31T17:45:12.754Z"
   },
   {
    "duration": 12,
    "start_time": "2023-01-31T17:45:12.763Z"
   },
   {
    "duration": 10,
    "start_time": "2023-01-31T17:45:12.776Z"
   },
   {
    "duration": 196,
    "start_time": "2023-01-31T17:45:12.788Z"
   },
   {
    "duration": 15,
    "start_time": "2023-01-31T17:45:12.985Z"
   },
   {
    "duration": 5,
    "start_time": "2023-01-31T17:45:13.001Z"
   },
   {
    "duration": 10,
    "start_time": "2023-01-31T17:45:13.008Z"
   },
   {
    "duration": 22,
    "start_time": "2023-01-31T17:45:13.019Z"
   },
   {
    "duration": 45,
    "start_time": "2023-02-01T05:26:44.441Z"
   },
   {
    "duration": 1334,
    "start_time": "2023-02-01T05:26:57.469Z"
   },
   {
    "duration": 302,
    "start_time": "2023-02-01T05:26:58.805Z"
   },
   {
    "duration": 31,
    "start_time": "2023-02-01T05:27:00.695Z"
   },
   {
    "duration": 14,
    "start_time": "2023-02-01T05:27:00.901Z"
   },
   {
    "duration": 1872,
    "start_time": "2023-02-01T05:27:01.081Z"
   },
   {
    "duration": 69,
    "start_time": "2023-02-01T05:27:02.955Z"
   },
   {
    "duration": 21,
    "start_time": "2023-02-01T05:27:03.026Z"
   },
   {
    "duration": 9,
    "start_time": "2023-02-01T05:27:03.658Z"
   },
   {
    "duration": 228,
    "start_time": "2023-02-01T05:27:04.012Z"
   },
   {
    "duration": 8,
    "start_time": "2023-02-01T05:27:05.072Z"
   },
   {
    "duration": 5,
    "start_time": "2023-02-01T05:27:05.398Z"
   },
   {
    "duration": 5,
    "start_time": "2023-02-01T05:27:05.573Z"
   },
   {
    "duration": 6,
    "start_time": "2023-02-01T05:27:07.178Z"
   },
   {
    "duration": 5,
    "start_time": "2023-02-01T05:27:07.329Z"
   },
   {
    "duration": 3,
    "start_time": "2023-02-01T05:27:07.714Z"
   },
   {
    "duration": 6,
    "start_time": "2023-02-01T05:27:08.828Z"
   },
   {
    "duration": 10,
    "start_time": "2023-02-01T05:27:09.300Z"
   },
   {
    "duration": 7,
    "start_time": "2023-02-01T05:27:09.585Z"
   },
   {
    "duration": 50,
    "start_time": "2023-02-01T05:27:09.919Z"
   },
   {
    "duration": 7,
    "start_time": "2023-02-01T05:27:10.565Z"
   },
   {
    "duration": 6,
    "start_time": "2023-02-01T05:27:10.884Z"
   },
   {
    "duration": 4,
    "start_time": "2023-02-01T05:27:11.175Z"
   },
   {
    "duration": 5,
    "start_time": "2023-02-01T05:27:11.512Z"
   },
   {
    "duration": 8,
    "start_time": "2023-02-01T05:27:11.810Z"
   },
   {
    "duration": 7,
    "start_time": "2023-02-01T05:27:12.256Z"
   },
   {
    "duration": 7,
    "start_time": "2023-02-01T05:27:12.581Z"
   },
   {
    "duration": 6,
    "start_time": "2023-02-01T05:27:13.472Z"
   },
   {
    "duration": 4,
    "start_time": "2023-02-01T05:27:13.805Z"
   },
   {
    "duration": 7,
    "start_time": "2023-02-01T05:27:14.469Z"
   },
   {
    "duration": 5,
    "start_time": "2023-02-01T05:27:14.792Z"
   },
   {
    "duration": 6,
    "start_time": "2023-02-01T05:27:16.031Z"
   },
   {
    "duration": 33,
    "start_time": "2023-02-01T05:27:16.299Z"
   },
   {
    "duration": 12,
    "start_time": "2023-02-01T05:27:16.729Z"
   },
   {
    "duration": 24,
    "start_time": "2023-02-01T05:27:17.108Z"
   },
   {
    "duration": 10,
    "start_time": "2023-02-01T05:27:17.448Z"
   },
   {
    "duration": 9,
    "start_time": "2023-02-01T05:27:17.826Z"
   },
   {
    "duration": 22,
    "start_time": "2023-02-01T05:27:18.287Z"
   },
   {
    "duration": 5,
    "start_time": "2023-02-01T05:27:18.674Z"
   },
   {
    "duration": 4,
    "start_time": "2023-02-01T05:27:19.006Z"
   },
   {
    "duration": 24,
    "start_time": "2023-02-01T05:27:19.414Z"
   },
   {
    "duration": 132,
    "start_time": "2023-02-01T05:27:21.799Z"
   },
   {
    "duration": 129,
    "start_time": "2023-02-01T05:27:23.529Z"
   },
   {
    "duration": 134,
    "start_time": "2023-02-01T05:28:03.285Z"
   },
   {
    "duration": 128,
    "start_time": "2023-02-01T05:28:13.628Z"
   },
   {
    "duration": 129,
    "start_time": "2023-02-01T05:28:59.031Z"
   },
   {
    "duration": 169,
    "start_time": "2023-02-01T05:29:15.716Z"
   },
   {
    "duration": 198,
    "start_time": "2023-02-01T05:30:18.358Z"
   },
   {
    "duration": 136,
    "start_time": "2023-02-01T05:31:28.794Z"
   },
   {
    "duration": 125,
    "start_time": "2023-02-01T05:33:04.996Z"
   },
   {
    "duration": 280,
    "start_time": "2023-02-01T05:33:37.750Z"
   },
   {
    "duration": 107,
    "start_time": "2023-02-01T05:34:00.873Z"
   },
   {
    "duration": 186,
    "start_time": "2023-02-01T05:34:39.739Z"
   },
   {
    "duration": 167,
    "start_time": "2023-02-01T05:34:44.332Z"
   },
   {
    "duration": 172,
    "start_time": "2023-02-01T05:35:15.691Z"
   },
   {
    "duration": 214,
    "start_time": "2023-02-01T05:35:49.372Z"
   },
   {
    "duration": 187,
    "start_time": "2023-02-01T05:36:18.117Z"
   },
   {
    "duration": 116,
    "start_time": "2023-02-01T05:37:22.014Z"
   },
   {
    "duration": 126,
    "start_time": "2023-02-01T05:37:51.056Z"
   },
   {
    "duration": 138,
    "start_time": "2023-02-01T05:38:32.454Z"
   },
   {
    "duration": 243,
    "start_time": "2023-02-01T05:40:40.254Z"
   },
   {
    "duration": 25,
    "start_time": "2023-02-01T05:40:41.650Z"
   },
   {
    "duration": 6,
    "start_time": "2023-02-01T05:40:45.226Z"
   },
   {
    "duration": 5,
    "start_time": "2023-02-01T05:40:45.776Z"
   },
   {
    "duration": 21,
    "start_time": "2023-02-01T05:40:47.007Z"
   },
   {
    "duration": 8,
    "start_time": "2023-02-01T05:40:47.289Z"
   },
   {
    "duration": 170,
    "start_time": "2023-02-01T05:42:16.074Z"
   },
   {
    "duration": 253,
    "start_time": "2023-02-01T05:43:02.979Z"
   },
   {
    "duration": 257,
    "start_time": "2023-02-01T05:43:09.148Z"
   },
   {
    "duration": 245,
    "start_time": "2023-02-01T05:43:13.002Z"
   },
   {
    "duration": 258,
    "start_time": "2023-02-01T05:43:24.227Z"
   },
   {
    "duration": 164,
    "start_time": "2023-02-01T05:43:41.306Z"
   },
   {
    "duration": 166,
    "start_time": "2023-02-01T05:43:53.631Z"
   },
   {
    "duration": 160,
    "start_time": "2023-02-01T05:44:43.276Z"
   },
   {
    "duration": 157,
    "start_time": "2023-02-01T05:44:50.553Z"
   },
   {
    "duration": 166,
    "start_time": "2023-02-01T05:45:48.531Z"
   },
   {
    "duration": 94,
    "start_time": "2023-02-01T05:46:17.101Z"
   },
   {
    "duration": 248,
    "start_time": "2023-02-01T05:46:26.035Z"
   },
   {
    "duration": 170,
    "start_time": "2023-02-01T05:47:08.575Z"
   },
   {
    "duration": 10,
    "start_time": "2023-02-01T05:47:09.628Z"
   },
   {
    "duration": 165,
    "start_time": "2023-02-01T05:47:36.028Z"
   },
   {
    "duration": 170,
    "start_time": "2023-02-01T05:47:47.333Z"
   },
   {
    "duration": 9,
    "start_time": "2023-02-01T05:48:11.742Z"
   },
   {
    "duration": 159,
    "start_time": "2023-02-01T05:48:19.858Z"
   },
   {
    "duration": 254,
    "start_time": "2023-02-01T05:49:08.191Z"
   },
   {
    "duration": 304,
    "start_time": "2023-02-01T05:49:20.636Z"
   },
   {
    "duration": 291,
    "start_time": "2023-02-01T05:49:23.453Z"
   },
   {
    "duration": 449,
    "start_time": "2023-02-01T05:49:40.868Z"
   },
   {
    "duration": 227,
    "start_time": "2023-02-01T05:50:08.652Z"
   },
   {
    "duration": 319,
    "start_time": "2023-02-01T05:50:29.769Z"
   },
   {
    "duration": 338,
    "start_time": "2023-02-01T05:50:35.014Z"
   },
   {
    "duration": 298,
    "start_time": "2023-02-01T05:50:53.189Z"
   },
   {
    "duration": 305,
    "start_time": "2023-02-01T05:50:58.151Z"
   },
   {
    "duration": 338,
    "start_time": "2023-02-01T05:51:04.683Z"
   },
   {
    "duration": 325,
    "start_time": "2023-02-01T05:51:11.128Z"
   },
   {
    "duration": 71,
    "start_time": "2023-02-01T06:07:27.130Z"
   },
   {
    "duration": 305,
    "start_time": "2023-02-01T06:11:11.358Z"
   }
  ],
  "kernelspec": {
   "display_name": "Python 3 (ipykernel)",
   "language": "python",
   "name": "python3"
  },
  "language_info": {
   "codemirror_mode": {
    "name": "ipython",
    "version": 3
   },
   "file_extension": ".py",
   "mimetype": "text/x-python",
   "name": "python",
   "nbconvert_exporter": "python",
   "pygments_lexer": "ipython3",
   "version": "3.9.12"
  },
  "toc": {
   "base_numbering": 1,
   "nav_menu": {},
   "number_sections": true,
   "sideBar": true,
   "skip_h1_title": true,
   "title_cell": "Table of Contents",
   "title_sidebar": "Contents",
   "toc_cell": false,
   "toc_position": {},
   "toc_section_display": true,
   "toc_window_display": false
  }
 },
 "nbformat": 4,
 "nbformat_minor": 2
}
