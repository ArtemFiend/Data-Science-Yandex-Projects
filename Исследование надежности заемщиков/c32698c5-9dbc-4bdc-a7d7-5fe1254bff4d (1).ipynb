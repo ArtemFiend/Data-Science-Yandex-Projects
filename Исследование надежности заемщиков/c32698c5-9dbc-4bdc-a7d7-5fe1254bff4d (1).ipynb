{
 "cells": [
  {
   "cell_type": "markdown",
   "id": "c81daeeb",
   "metadata": {
    "deletable": false,
    "editable": false,
    "id": "c81daeeb"
   },
   "source": [
    "# Исследование надежности заемщиков"
   ]
  },
  {
   "cell_type": "markdown",
   "id": "-G3EJWzf62s6",
   "metadata": {
    "deletable": false,
    "editable": false,
    "id": "-G3EJWzf62s6"
   },
   "source": [
    "Это первая часть проекта, она будет проверена автоматически. Вторую часть проверит ревьюер. "
   ]
  },
  {
   "cell_type": "markdown",
   "id": "744d7639",
   "metadata": {
    "deletable": false,
    "editable": false,
    "id": "744d7639"
   },
   "source": [
    "## Откройте таблицу и изучите общую информацию о данных"
   ]
  },
  {
   "cell_type": "markdown",
   "id": "e7a14c31",
   "metadata": {
    "deletable": false,
    "editable": false,
    "id": "e7a14c31",
    "tags": [
     "start_task"
    ]
   },
   "source": [
    "**Задание 1. Импортируйте библиотеку pandas. Считайте данные из csv-файла в датафрейм и сохраните в переменную `data`. Путь к файлу:**\n",
    "\n",
    "`/datasets/data.csv`"
   ]
  },
  {
   "cell_type": "code",
   "execution_count": 26,
   "id": "7bcf75c9",
   "metadata": {
    "id": "7bcf75c9"
   },
   "outputs": [],
   "source": [
    "import pandas as pd"
   ]
  },
  {
   "cell_type": "code",
   "execution_count": 27,
   "id": "4d240ee2",
   "metadata": {
    "id": "4d240ee2"
   },
   "outputs": [],
   "source": [
    "import pandas as pd\n",
    "\n",
    "try:\n",
    "    data = pd.read_csv('/datasets/data.csv')\n",
    "except:\n",
    "    data = pd.read_csv('https://code.s3.yandex.net/datasets/data.csv')"
   ]
  },
  {
   "cell_type": "markdown",
   "id": "b8038fe3",
   "metadata": {
    "deletable": false,
    "editable": false,
    "id": "b8038fe3",
    "tags": [
     "start_task"
    ]
   },
   "source": [
    "**Задание 2. Выведите первые 20 строчек датафрейма `data` на экран.**"
   ]
  },
  {
   "cell_type": "code",
   "execution_count": 28,
   "id": "2a7cab99",
   "metadata": {
    "id": "2a7cab99"
   },
   "outputs": [
    {
     "data": {
      "text/html": [
       "<div>\n",
       "<style scoped>\n",
       "    .dataframe tbody tr th:only-of-type {\n",
       "        vertical-align: middle;\n",
       "    }\n",
       "\n",
       "    .dataframe tbody tr th {\n",
       "        vertical-align: top;\n",
       "    }\n",
       "\n",
       "    .dataframe thead th {\n",
       "        text-align: right;\n",
       "    }\n",
       "</style>\n",
       "<table border=\"1\" class=\"dataframe\">\n",
       "  <thead>\n",
       "    <tr style=\"text-align: right;\">\n",
       "      <th></th>\n",
       "      <th>children</th>\n",
       "      <th>days_employed</th>\n",
       "      <th>dob_years</th>\n",
       "      <th>education</th>\n",
       "      <th>education_id</th>\n",
       "      <th>family_status</th>\n",
       "      <th>family_status_id</th>\n",
       "      <th>gender</th>\n",
       "      <th>income_type</th>\n",
       "      <th>debt</th>\n",
       "      <th>total_income</th>\n",
       "      <th>purpose</th>\n",
       "    </tr>\n",
       "  </thead>\n",
       "  <tbody>\n",
       "    <tr>\n",
       "      <th>0</th>\n",
       "      <td>1</td>\n",
       "      <td>-8437.673028</td>\n",
       "      <td>42</td>\n",
       "      <td>высшее</td>\n",
       "      <td>0</td>\n",
       "      <td>женат / замужем</td>\n",
       "      <td>0</td>\n",
       "      <td>F</td>\n",
       "      <td>сотрудник</td>\n",
       "      <td>0</td>\n",
       "      <td>253875.639453</td>\n",
       "      <td>покупка жилья</td>\n",
       "    </tr>\n",
       "    <tr>\n",
       "      <th>1</th>\n",
       "      <td>1</td>\n",
       "      <td>-4024.803754</td>\n",
       "      <td>36</td>\n",
       "      <td>среднее</td>\n",
       "      <td>1</td>\n",
       "      <td>женат / замужем</td>\n",
       "      <td>0</td>\n",
       "      <td>F</td>\n",
       "      <td>сотрудник</td>\n",
       "      <td>0</td>\n",
       "      <td>112080.014102</td>\n",
       "      <td>приобретение автомобиля</td>\n",
       "    </tr>\n",
       "    <tr>\n",
       "      <th>2</th>\n",
       "      <td>0</td>\n",
       "      <td>-5623.422610</td>\n",
       "      <td>33</td>\n",
       "      <td>Среднее</td>\n",
       "      <td>1</td>\n",
       "      <td>женат / замужем</td>\n",
       "      <td>0</td>\n",
       "      <td>M</td>\n",
       "      <td>сотрудник</td>\n",
       "      <td>0</td>\n",
       "      <td>145885.952297</td>\n",
       "      <td>покупка жилья</td>\n",
       "    </tr>\n",
       "    <tr>\n",
       "      <th>3</th>\n",
       "      <td>3</td>\n",
       "      <td>-4124.747207</td>\n",
       "      <td>32</td>\n",
       "      <td>среднее</td>\n",
       "      <td>1</td>\n",
       "      <td>женат / замужем</td>\n",
       "      <td>0</td>\n",
       "      <td>M</td>\n",
       "      <td>сотрудник</td>\n",
       "      <td>0</td>\n",
       "      <td>267628.550329</td>\n",
       "      <td>дополнительное образование</td>\n",
       "    </tr>\n",
       "    <tr>\n",
       "      <th>4</th>\n",
       "      <td>0</td>\n",
       "      <td>340266.072047</td>\n",
       "      <td>53</td>\n",
       "      <td>среднее</td>\n",
       "      <td>1</td>\n",
       "      <td>гражданский брак</td>\n",
       "      <td>1</td>\n",
       "      <td>F</td>\n",
       "      <td>пенсионер</td>\n",
       "      <td>0</td>\n",
       "      <td>158616.077870</td>\n",
       "      <td>сыграть свадьбу</td>\n",
       "    </tr>\n",
       "    <tr>\n",
       "      <th>5</th>\n",
       "      <td>0</td>\n",
       "      <td>-926.185831</td>\n",
       "      <td>27</td>\n",
       "      <td>высшее</td>\n",
       "      <td>0</td>\n",
       "      <td>гражданский брак</td>\n",
       "      <td>1</td>\n",
       "      <td>M</td>\n",
       "      <td>компаньон</td>\n",
       "      <td>0</td>\n",
       "      <td>255763.565419</td>\n",
       "      <td>покупка жилья</td>\n",
       "    </tr>\n",
       "    <tr>\n",
       "      <th>6</th>\n",
       "      <td>0</td>\n",
       "      <td>-2879.202052</td>\n",
       "      <td>43</td>\n",
       "      <td>высшее</td>\n",
       "      <td>0</td>\n",
       "      <td>женат / замужем</td>\n",
       "      <td>0</td>\n",
       "      <td>F</td>\n",
       "      <td>компаньон</td>\n",
       "      <td>0</td>\n",
       "      <td>240525.971920</td>\n",
       "      <td>операции с жильем</td>\n",
       "    </tr>\n",
       "    <tr>\n",
       "      <th>7</th>\n",
       "      <td>0</td>\n",
       "      <td>-152.779569</td>\n",
       "      <td>50</td>\n",
       "      <td>СРЕДНЕЕ</td>\n",
       "      <td>1</td>\n",
       "      <td>женат / замужем</td>\n",
       "      <td>0</td>\n",
       "      <td>M</td>\n",
       "      <td>сотрудник</td>\n",
       "      <td>0</td>\n",
       "      <td>135823.934197</td>\n",
       "      <td>образование</td>\n",
       "    </tr>\n",
       "    <tr>\n",
       "      <th>8</th>\n",
       "      <td>2</td>\n",
       "      <td>-6929.865299</td>\n",
       "      <td>35</td>\n",
       "      <td>ВЫСШЕЕ</td>\n",
       "      <td>0</td>\n",
       "      <td>гражданский брак</td>\n",
       "      <td>1</td>\n",
       "      <td>F</td>\n",
       "      <td>сотрудник</td>\n",
       "      <td>0</td>\n",
       "      <td>95856.832424</td>\n",
       "      <td>на проведение свадьбы</td>\n",
       "    </tr>\n",
       "    <tr>\n",
       "      <th>9</th>\n",
       "      <td>0</td>\n",
       "      <td>-2188.756445</td>\n",
       "      <td>41</td>\n",
       "      <td>среднее</td>\n",
       "      <td>1</td>\n",
       "      <td>женат / замужем</td>\n",
       "      <td>0</td>\n",
       "      <td>M</td>\n",
       "      <td>сотрудник</td>\n",
       "      <td>0</td>\n",
       "      <td>144425.938277</td>\n",
       "      <td>покупка жилья для семьи</td>\n",
       "    </tr>\n",
       "    <tr>\n",
       "      <th>10</th>\n",
       "      <td>2</td>\n",
       "      <td>-4171.483647</td>\n",
       "      <td>36</td>\n",
       "      <td>высшее</td>\n",
       "      <td>0</td>\n",
       "      <td>женат / замужем</td>\n",
       "      <td>0</td>\n",
       "      <td>M</td>\n",
       "      <td>компаньон</td>\n",
       "      <td>0</td>\n",
       "      <td>113943.491460</td>\n",
       "      <td>покупка недвижимости</td>\n",
       "    </tr>\n",
       "    <tr>\n",
       "      <th>11</th>\n",
       "      <td>0</td>\n",
       "      <td>-792.701887</td>\n",
       "      <td>40</td>\n",
       "      <td>среднее</td>\n",
       "      <td>1</td>\n",
       "      <td>женат / замужем</td>\n",
       "      <td>0</td>\n",
       "      <td>F</td>\n",
       "      <td>сотрудник</td>\n",
       "      <td>0</td>\n",
       "      <td>77069.234271</td>\n",
       "      <td>покупка коммерческой недвижимости</td>\n",
       "    </tr>\n",
       "    <tr>\n",
       "      <th>12</th>\n",
       "      <td>0</td>\n",
       "      <td>NaN</td>\n",
       "      <td>65</td>\n",
       "      <td>среднее</td>\n",
       "      <td>1</td>\n",
       "      <td>гражданский брак</td>\n",
       "      <td>1</td>\n",
       "      <td>M</td>\n",
       "      <td>пенсионер</td>\n",
       "      <td>0</td>\n",
       "      <td>NaN</td>\n",
       "      <td>сыграть свадьбу</td>\n",
       "    </tr>\n",
       "    <tr>\n",
       "      <th>13</th>\n",
       "      <td>0</td>\n",
       "      <td>-1846.641941</td>\n",
       "      <td>54</td>\n",
       "      <td>неоконченное высшее</td>\n",
       "      <td>2</td>\n",
       "      <td>женат / замужем</td>\n",
       "      <td>0</td>\n",
       "      <td>F</td>\n",
       "      <td>сотрудник</td>\n",
       "      <td>0</td>\n",
       "      <td>130458.228857</td>\n",
       "      <td>приобретение автомобиля</td>\n",
       "    </tr>\n",
       "    <tr>\n",
       "      <th>14</th>\n",
       "      <td>0</td>\n",
       "      <td>-1844.956182</td>\n",
       "      <td>56</td>\n",
       "      <td>высшее</td>\n",
       "      <td>0</td>\n",
       "      <td>гражданский брак</td>\n",
       "      <td>1</td>\n",
       "      <td>F</td>\n",
       "      <td>компаньон</td>\n",
       "      <td>1</td>\n",
       "      <td>165127.911772</td>\n",
       "      <td>покупка жилой недвижимости</td>\n",
       "    </tr>\n",
       "    <tr>\n",
       "      <th>15</th>\n",
       "      <td>1</td>\n",
       "      <td>-972.364419</td>\n",
       "      <td>26</td>\n",
       "      <td>среднее</td>\n",
       "      <td>1</td>\n",
       "      <td>женат / замужем</td>\n",
       "      <td>0</td>\n",
       "      <td>F</td>\n",
       "      <td>сотрудник</td>\n",
       "      <td>0</td>\n",
       "      <td>116820.904450</td>\n",
       "      <td>строительство собственной недвижимости</td>\n",
       "    </tr>\n",
       "    <tr>\n",
       "      <th>16</th>\n",
       "      <td>0</td>\n",
       "      <td>-1719.934226</td>\n",
       "      <td>35</td>\n",
       "      <td>среднее</td>\n",
       "      <td>1</td>\n",
       "      <td>женат / замужем</td>\n",
       "      <td>0</td>\n",
       "      <td>F</td>\n",
       "      <td>сотрудник</td>\n",
       "      <td>0</td>\n",
       "      <td>289202.704229</td>\n",
       "      <td>недвижимость</td>\n",
       "    </tr>\n",
       "    <tr>\n",
       "      <th>17</th>\n",
       "      <td>0</td>\n",
       "      <td>-2369.999720</td>\n",
       "      <td>33</td>\n",
       "      <td>высшее</td>\n",
       "      <td>0</td>\n",
       "      <td>гражданский брак</td>\n",
       "      <td>1</td>\n",
       "      <td>M</td>\n",
       "      <td>сотрудник</td>\n",
       "      <td>0</td>\n",
       "      <td>90410.586745</td>\n",
       "      <td>строительство недвижимости</td>\n",
       "    </tr>\n",
       "    <tr>\n",
       "      <th>18</th>\n",
       "      <td>0</td>\n",
       "      <td>400281.136913</td>\n",
       "      <td>53</td>\n",
       "      <td>среднее</td>\n",
       "      <td>1</td>\n",
       "      <td>вдовец / вдова</td>\n",
       "      <td>2</td>\n",
       "      <td>F</td>\n",
       "      <td>пенсионер</td>\n",
       "      <td>0</td>\n",
       "      <td>56823.777243</td>\n",
       "      <td>на покупку подержанного автомобиля</td>\n",
       "    </tr>\n",
       "    <tr>\n",
       "      <th>19</th>\n",
       "      <td>0</td>\n",
       "      <td>-10038.818549</td>\n",
       "      <td>48</td>\n",
       "      <td>СРЕДНЕЕ</td>\n",
       "      <td>1</td>\n",
       "      <td>в разводе</td>\n",
       "      <td>3</td>\n",
       "      <td>F</td>\n",
       "      <td>сотрудник</td>\n",
       "      <td>0</td>\n",
       "      <td>242831.107982</td>\n",
       "      <td>на покупку своего автомобиля</td>\n",
       "    </tr>\n",
       "  </tbody>\n",
       "</table>\n",
       "</div>"
      ],
      "text/plain": [
       "    children  days_employed  dob_years            education  education_id  \\\n",
       "0          1   -8437.673028         42               высшее             0   \n",
       "1          1   -4024.803754         36              среднее             1   \n",
       "2          0   -5623.422610         33              Среднее             1   \n",
       "3          3   -4124.747207         32              среднее             1   \n",
       "4          0  340266.072047         53              среднее             1   \n",
       "5          0    -926.185831         27               высшее             0   \n",
       "6          0   -2879.202052         43               высшее             0   \n",
       "7          0    -152.779569         50              СРЕДНЕЕ             1   \n",
       "8          2   -6929.865299         35               ВЫСШЕЕ             0   \n",
       "9          0   -2188.756445         41              среднее             1   \n",
       "10         2   -4171.483647         36               высшее             0   \n",
       "11         0    -792.701887         40              среднее             1   \n",
       "12         0            NaN         65              среднее             1   \n",
       "13         0   -1846.641941         54  неоконченное высшее             2   \n",
       "14         0   -1844.956182         56               высшее             0   \n",
       "15         1    -972.364419         26              среднее             1   \n",
       "16         0   -1719.934226         35              среднее             1   \n",
       "17         0   -2369.999720         33               высшее             0   \n",
       "18         0  400281.136913         53              среднее             1   \n",
       "19         0  -10038.818549         48              СРЕДНЕЕ             1   \n",
       "\n",
       "       family_status  family_status_id gender income_type  debt  \\\n",
       "0    женат / замужем                 0      F   сотрудник     0   \n",
       "1    женат / замужем                 0      F   сотрудник     0   \n",
       "2    женат / замужем                 0      M   сотрудник     0   \n",
       "3    женат / замужем                 0      M   сотрудник     0   \n",
       "4   гражданский брак                 1      F   пенсионер     0   \n",
       "5   гражданский брак                 1      M   компаньон     0   \n",
       "6    женат / замужем                 0      F   компаньон     0   \n",
       "7    женат / замужем                 0      M   сотрудник     0   \n",
       "8   гражданский брак                 1      F   сотрудник     0   \n",
       "9    женат / замужем                 0      M   сотрудник     0   \n",
       "10   женат / замужем                 0      M   компаньон     0   \n",
       "11   женат / замужем                 0      F   сотрудник     0   \n",
       "12  гражданский брак                 1      M   пенсионер     0   \n",
       "13   женат / замужем                 0      F   сотрудник     0   \n",
       "14  гражданский брак                 1      F   компаньон     1   \n",
       "15   женат / замужем                 0      F   сотрудник     0   \n",
       "16   женат / замужем                 0      F   сотрудник     0   \n",
       "17  гражданский брак                 1      M   сотрудник     0   \n",
       "18    вдовец / вдова                 2      F   пенсионер     0   \n",
       "19         в разводе                 3      F   сотрудник     0   \n",
       "\n",
       "     total_income                                 purpose  \n",
       "0   253875.639453                           покупка жилья  \n",
       "1   112080.014102                 приобретение автомобиля  \n",
       "2   145885.952297                           покупка жилья  \n",
       "3   267628.550329              дополнительное образование  \n",
       "4   158616.077870                         сыграть свадьбу  \n",
       "5   255763.565419                           покупка жилья  \n",
       "6   240525.971920                       операции с жильем  \n",
       "7   135823.934197                             образование  \n",
       "8    95856.832424                   на проведение свадьбы  \n",
       "9   144425.938277                 покупка жилья для семьи  \n",
       "10  113943.491460                    покупка недвижимости  \n",
       "11   77069.234271       покупка коммерческой недвижимости  \n",
       "12            NaN                         сыграть свадьбу  \n",
       "13  130458.228857                 приобретение автомобиля  \n",
       "14  165127.911772              покупка жилой недвижимости  \n",
       "15  116820.904450  строительство собственной недвижимости  \n",
       "16  289202.704229                            недвижимость  \n",
       "17   90410.586745              строительство недвижимости  \n",
       "18   56823.777243      на покупку подержанного автомобиля  \n",
       "19  242831.107982            на покупку своего автомобиля  "
      ]
     },
     "execution_count": 28,
     "metadata": {},
     "output_type": "execute_result"
    }
   ],
   "source": [
    "data.head(20)"
   ]
  },
  {
   "cell_type": "markdown",
   "id": "1c12e233",
   "metadata": {
    "deletable": false,
    "editable": false,
    "id": "1c12e233",
    "tags": [
     "start_task"
    ]
   },
   "source": [
    "**Задание 3. Выведите основную информацию о датафрейме с помощью метода `info()`.**"
   ]
  },
  {
   "cell_type": "code",
   "execution_count": 29,
   "id": "2b757bca",
   "metadata": {
    "id": "2b757bca"
   },
   "outputs": [
    {
     "name": "stdout",
     "output_type": "stream",
     "text": [
      "<class 'pandas.core.frame.DataFrame'>\n",
      "RangeIndex: 21525 entries, 0 to 21524\n",
      "Data columns (total 12 columns):\n",
      " #   Column            Non-Null Count  Dtype  \n",
      "---  ------            --------------  -----  \n",
      " 0   children          21525 non-null  int64  \n",
      " 1   days_employed     19351 non-null  float64\n",
      " 2   dob_years         21525 non-null  int64  \n",
      " 3   education         21525 non-null  object \n",
      " 4   education_id      21525 non-null  int64  \n",
      " 5   family_status     21525 non-null  object \n",
      " 6   family_status_id  21525 non-null  int64  \n",
      " 7   gender            21525 non-null  object \n",
      " 8   income_type       21525 non-null  object \n",
      " 9   debt              21525 non-null  int64  \n",
      " 10  total_income      19351 non-null  float64\n",
      " 11  purpose           21525 non-null  object \n",
      "dtypes: float64(2), int64(5), object(5)\n",
      "memory usage: 2.0+ MB\n"
     ]
    }
   ],
   "source": [
    "data.info()"
   ]
  },
  {
   "cell_type": "markdown",
   "id": "333ec665",
   "metadata": {
    "deletable": false,
    "editable": false,
    "id": "333ec665"
   },
   "source": [
    "## Предобработка данных"
   ]
  },
  {
   "cell_type": "markdown",
   "id": "02d92d53",
   "metadata": {
    "deletable": false,
    "editable": false,
    "id": "02d92d53"
   },
   "source": [
    "### Удаление пропусков"
   ]
  },
  {
   "cell_type": "markdown",
   "id": "cd84967c",
   "metadata": {
    "deletable": false,
    "editable": false,
    "id": "cd84967c",
    "tags": [
     "start_task"
    ]
   },
   "source": [
    "**Задание 4. Выведите количество пропущенных значений для каждого столбца. Используйте комбинацию двух методов.**"
   ]
  },
  {
   "cell_type": "code",
   "execution_count": 30,
   "id": "7f9b2309",
   "metadata": {
    "id": "7f9b2309"
   },
   "outputs": [
    {
     "data": {
      "text/plain": [
       "children               0\n",
       "days_employed       2174\n",
       "dob_years              0\n",
       "education              0\n",
       "education_id           0\n",
       "family_status          0\n",
       "family_status_id       0\n",
       "gender                 0\n",
       "income_type            0\n",
       "debt                   0\n",
       "total_income        2174\n",
       "purpose                0\n",
       "dtype: int64"
      ]
     },
     "execution_count": 30,
     "metadata": {},
     "output_type": "execute_result"
    }
   ],
   "source": [
    "data.isna().sum()"
   ]
  },
  {
   "cell_type": "markdown",
   "id": "db86e27b",
   "metadata": {
    "deletable": false,
    "editable": false,
    "id": "db86e27b",
    "tags": [
     "start_task"
    ]
   },
   "source": [
    "**Задание 5. В двух столбцах есть пропущенные значения. Один из них — `days_employed`. Пропуски в этом столбце вы обработаете на следующем этапе. Другой столбец с пропущенными значениями — `total_income` — хранит данные о доходах. На сумму дохода сильнее всего влияет тип занятости, поэтому заполнить пропуски в этом столбце нужно медианным значением по каждому типу из столбца `income_type`. Например, у человека с типом занятости `сотрудник` пропуск в столбце `total_income` должен быть заполнен медианным доходом среди всех записей с тем же типом.**"
   ]
  },
  {
   "cell_type": "code",
   "execution_count": 31,
   "id": "42006a93",
   "metadata": {
    "id": "42006a93"
   },
   "outputs": [],
   "source": [
    "data['total_income'] = (\n",
    "  data.groupby('income_type')['total_income']\n",
    "    .transform(lambda g: g.fillna(g.median()))\n",
    ")"
   ]
  },
  {
   "cell_type": "markdown",
   "id": "89da5ece",
   "metadata": {
    "deletable": false,
    "editable": false,
    "id": "89da5ece"
   },
   "source": [
    "### Обработка аномальных значений"
   ]
  },
  {
   "cell_type": "markdown",
   "id": "57964554",
   "metadata": {
    "deletable": false,
    "editable": false,
    "id": "57964554",
    "tags": [
     "start_task"
    ]
   },
   "source": [
    "**Задание 6. В данных могут встречаться артефакты (аномалии) — значения, которые не отражают действительность и появились по какой-то ошибке. Таким артефактом будет отрицательное количество дней трудового стажа в столбце `days_employed`. Для реальных данных это нормально. Обработайте значения в этом столбце: замените все отрицательные значения положительными с помощью метода `abs()`.**"
   ]
  },
  {
   "cell_type": "code",
   "execution_count": 32,
   "id": "f6f055bf",
   "metadata": {
    "id": "f6f055bf"
   },
   "outputs": [],
   "source": [
    "data['days_employed'] = data['days_employed'].abs()"
   ]
  },
  {
   "cell_type": "markdown",
   "id": "6107dd2f",
   "metadata": {
    "deletable": false,
    "editable": false,
    "id": "6107dd2f",
    "tags": [
     "start_task"
    ]
   },
   "source": [
    "**Задание 7. Для каждого типа занятости выведите медианное значение трудового стажа `days_employed` в днях.**"
   ]
  },
  {
   "cell_type": "code",
   "execution_count": 33,
   "id": "85a5faf6",
   "metadata": {
    "id": "85a5faf6"
   },
   "outputs": [
    {
     "data": {
      "text/plain": [
       "income_type\n",
       "безработный        366413.652744\n",
       "в декрете            3296.759962\n",
       "госслужащий          2689.368353\n",
       "компаньон            1547.382223\n",
       "пенсионер          365213.306266\n",
       "предприниматель       520.848083\n",
       "сотрудник            1574.202821\n",
       "студент               578.751554\n",
       "Name: days_employed, dtype: float64"
      ]
     },
     "execution_count": 33,
     "metadata": {},
     "output_type": "execute_result"
    }
   ],
   "source": [
    "data.groupby('income_type')['days_employed'].median()"
   ]
  },
  {
   "cell_type": "markdown",
   "id": "38d1a030",
   "metadata": {
    "deletable": false,
    "editable": false,
    "id": "38d1a030"
   },
   "source": [
    "У двух типов (безработные и пенсионеры) получатся аномально большие значения. Исправить такие значения сложно, поэтому оставьте их как есть. Тем более этот столбец не понадобится вам для исследования."
   ]
  },
  {
   "cell_type": "markdown",
   "id": "d8a9f147",
   "metadata": {
    "deletable": false,
    "editable": false,
    "id": "d8a9f147",
    "tags": [
     "start_task"
    ]
   },
   "source": [
    "**Задание 8. Выведите перечень уникальных значений столбца `children`.**"
   ]
  },
  {
   "cell_type": "code",
   "execution_count": 34,
   "id": "ef5056eb",
   "metadata": {
    "id": "ef5056eb"
   },
   "outputs": [
    {
     "data": {
      "text/plain": [
       "array([ 1,  0,  3,  2, -1,  4, 20,  5])"
      ]
     },
     "execution_count": 34,
     "metadata": {},
     "output_type": "execute_result"
    }
   ],
   "source": [
    "data['children'].unique()"
   ]
  },
  {
   "cell_type": "markdown",
   "id": "40b9ebf2",
   "metadata": {
    "deletable": false,
    "editable": false,
    "id": "40b9ebf2",
    "tags": [
     "start_task"
    ]
   },
   "source": [
    "**Задание 9. В столбце `children` есть два аномальных значения. Удалите строки, в которых встречаются такие аномальные значения из датафрейма `data`.**"
   ]
  },
  {
   "cell_type": "code",
   "execution_count": 35,
   "id": "3ff9801d",
   "metadata": {
    "id": "3ff9801d"
   },
   "outputs": [],
   "source": [
    "data = data[~data['children'].isin((-1,20))]"
   ]
  },
  {
   "cell_type": "markdown",
   "id": "bbc4d0ce",
   "metadata": {
    "deletable": false,
    "editable": false,
    "id": "bbc4d0ce",
    "tags": [
     "start_task"
    ]
   },
   "source": [
    "**Задание 10. Ещё раз выведите перечень уникальных значений столбца `children`, чтобы убедиться, что артефакты удалены.**"
   ]
  },
  {
   "cell_type": "code",
   "execution_count": 36,
   "id": "ad4fa8b7",
   "metadata": {
    "id": "ad4fa8b7"
   },
   "outputs": [
    {
     "data": {
      "text/plain": [
       "array([1, 0, 3, 2, 4, 5])"
      ]
     },
     "execution_count": 36,
     "metadata": {},
     "output_type": "execute_result"
    }
   ],
   "source": [
    "data['children'].unique()"
   ]
  },
  {
   "cell_type": "markdown",
   "id": "75440b63",
   "metadata": {
    "deletable": false,
    "editable": false,
    "id": "75440b63"
   },
   "source": [
    "### Удаление пропусков (продолжение)"
   ]
  },
  {
   "cell_type": "markdown",
   "id": "f4ea573f",
   "metadata": {
    "deletable": false,
    "editable": false,
    "id": "f4ea573f",
    "tags": [
     "start_task"
    ]
   },
   "source": [
    "**Задание 11. Заполните пропуски в столбце `days_employed` медианными значениями по каждому типу занятости `income_type`.**"
   ]
  },
  {
   "cell_type": "code",
   "execution_count": 37,
   "id": "af6b1a7e",
   "metadata": {
    "id": "af6b1a7e"
   },
   "outputs": [],
   "source": [
    "data['days_employed'] = (\n",
    "  data.groupby('income_type')['days_employed']\n",
    "    .transform(lambda g: g.fillna(g.median()))\n",
    ")"
   ]
  },
  {
   "cell_type": "markdown",
   "id": "2753f40d",
   "metadata": {
    "deletable": false,
    "editable": false,
    "id": "2753f40d",
    "tags": [
     "start_task"
    ]
   },
   "source": [
    "**Задание 12. Убедитесь, что все пропуски заполнены. Проверьте себя и ещё раз выведите количество пропущенных значений для каждого столбца с помощью двух методов.**"
   ]
  },
  {
   "cell_type": "code",
   "execution_count": 38,
   "id": "55f78bc2",
   "metadata": {
    "id": "55f78bc2"
   },
   "outputs": [
    {
     "data": {
      "text/plain": [
       "children            0\n",
       "days_employed       0\n",
       "dob_years           0\n",
       "education           0\n",
       "education_id        0\n",
       "family_status       0\n",
       "family_status_id    0\n",
       "gender              0\n",
       "income_type         0\n",
       "debt                0\n",
       "total_income        0\n",
       "purpose             0\n",
       "dtype: int64"
      ]
     },
     "execution_count": 38,
     "metadata": {},
     "output_type": "execute_result"
    }
   ],
   "source": [
    "data.isna().sum()"
   ]
  },
  {
   "cell_type": "markdown",
   "id": "ddc81e43",
   "metadata": {
    "deletable": false,
    "editable": false,
    "id": "ddc81e43"
   },
   "source": [
    "### Изменение типов данных"
   ]
  },
  {
   "cell_type": "markdown",
   "id": "42d19d24",
   "metadata": {
    "deletable": false,
    "editable": false,
    "id": "42d19d24",
    "tags": [
     "start_task"
    ]
   },
   "source": [
    "**Задание 13. Замените вещественный тип данных в столбце `total_income` на целочисленный с помощью метода `astype()`.**"
   ]
  },
  {
   "cell_type": "code",
   "execution_count": 39,
   "id": "920b65ad",
   "metadata": {
    "id": "920b65ad"
   },
   "outputs": [],
   "source": [
    "data['total_income'] = data['total_income'].astype('int')"
   ]
  },
  {
   "cell_type": "markdown",
   "id": "80c420ba",
   "metadata": {
    "deletable": false,
    "editable": false,
    "id": "80c420ba"
   },
   "source": [
    "### Обработка дубликатов"
   ]
  },
  {
   "cell_type": "markdown",
   "id": "dc587695",
   "metadata": {
    "deletable": false,
    "editable": false,
    "id": "dc587695",
    "tags": [
     "start_task"
    ]
   },
   "source": [
    "**Задание 14. Обработайте неявные дубликаты в столбце `education`. В этом столбце есть одни и те же значения, но записанные по-разному: с использованием заглавных и строчных букв. Приведите их к нижнему регистру.**"
   ]
  },
  {
   "cell_type": "code",
   "execution_count": 40,
   "id": "a9f8e2bf",
   "metadata": {
    "id": "a9f8e2bf"
   },
   "outputs": [],
   "source": [
    "data['education'] = data['education'].str.lower()"
   ]
  },
  {
   "cell_type": "markdown",
   "id": "9771a76c",
   "metadata": {
    "deletable": false,
    "editable": false,
    "id": "9771a76c",
    "tags": [
     "start_task"
    ]
   },
   "source": [
    "**Задание 15. Выведите на экран количество строк-дубликатов в данных. Если такие строки присутствуют, удалите их. Сбрасывать индексы после удаления строк дубликатов с помощью `reset_index(drop=True)` здесь не требуется.**"
   ]
  },
  {
   "cell_type": "code",
   "execution_count": 41,
   "id": "3ee445e4",
   "metadata": {
    "id": "3ee445e4"
   },
   "outputs": [
    {
     "data": {
      "text/plain": [
       "71"
      ]
     },
     "execution_count": 41,
     "metadata": {},
     "output_type": "execute_result"
    }
   ],
   "source": [
    "data.duplicated().sum()"
   ]
  },
  {
   "cell_type": "code",
   "execution_count": 42,
   "id": "8575fe05",
   "metadata": {
    "id": "8575fe05",
    "scrolled": true
   },
   "outputs": [],
   "source": [
    "data = data.drop_duplicates()"
   ]
  },
  {
   "cell_type": "markdown",
   "id": "9904cf55",
   "metadata": {
    "deletable": false,
    "editable": false,
    "id": "9904cf55"
   },
   "source": [
    "### Категоризация данных"
   ]
  },
  {
   "cell_type": "markdown",
   "id": "72fcc8a2",
   "metadata": {
    "deletable": false,
    "editable": false,
    "id": "72fcc8a2",
    "tags": [
     "start_task"
    ]
   },
   "source": [
    "**Задание 16. На основании диапазонов, указанных ниже, создайте в датафрейме `data` столбец `total_income_category` с категориями:**\n",
    "\n",
    "- 0–30000 — `'E'`;\n",
    "- 30001–50000 — `'D'`;\n",
    "- 50001–200000 — `'C'`;\n",
    "- 200001–1000000 — `'B'`;\n",
    "- 1000001 и выше — `'A'`.\n",
    "\n",
    "\n",
    "**Например, кредитополучателю с доходом 25000 нужно назначить категорию `'E'`, а клиенту, получающему 235000, — `'B'`. Используйте собственную функцию с именем `categorize_income()` и метод `apply()`.**"
   ]
  },
  {
   "cell_type": "code",
   "execution_count": 43,
   "id": "e1771346",
   "metadata": {
    "id": "e1771346"
   },
   "outputs": [],
   "source": [
    "def categorize_income(row):\n",
    "    total_income = row['total_income']\n",
    "    if total_income <= 30000:\n",
    "        return 'E'\n",
    "    if 30001 <= total_income <= 50000:\n",
    "        return 'D'\n",
    "    if 50001 <= total_income <= 200000:\n",
    "        return 'C'\n",
    "    if 200001 <= total_income <= 1000000:\n",
    "        return 'B'\n",
    "    return 'A'"
   ]
  },
  {
   "cell_type": "code",
   "execution_count": 44,
   "id": "d5f3586d",
   "metadata": {
    "id": "d5f3586d"
   },
   "outputs": [],
   "source": [
    "data['total_income_category'] = data.apply(categorize_income, axis=1)"
   ]
  },
  {
   "cell_type": "markdown",
   "id": "dde49b5c",
   "metadata": {
    "deletable": false,
    "editable": false,
    "id": "dde49b5c",
    "tags": [
     "start_task"
    ]
   },
   "source": [
    "**Задание 17. Выведите на экран перечень уникальных целей взятия кредита из столбца `purpose`.**"
   ]
  },
  {
   "cell_type": "code",
   "execution_count": 45,
   "id": "f67ce9b3",
   "metadata": {
    "id": "f67ce9b3"
   },
   "outputs": [
    {
     "data": {
      "text/plain": [
       "array(['покупка жилья', 'приобретение автомобиля',\n",
       "       'дополнительное образование', 'сыграть свадьбу',\n",
       "       'операции с жильем', 'образование', 'на проведение свадьбы',\n",
       "       'покупка жилья для семьи', 'покупка недвижимости',\n",
       "       'покупка коммерческой недвижимости', 'покупка жилой недвижимости',\n",
       "       'строительство собственной недвижимости', 'недвижимость',\n",
       "       'строительство недвижимости', 'на покупку подержанного автомобиля',\n",
       "       'на покупку своего автомобиля',\n",
       "       'операции с коммерческой недвижимостью',\n",
       "       'строительство жилой недвижимости', 'жилье',\n",
       "       'операции со своей недвижимостью', 'автомобили',\n",
       "       'заняться образованием', 'сделка с подержанным автомобилем',\n",
       "       'получение образования', 'автомобиль', 'свадьба',\n",
       "       'получение дополнительного образования', 'покупка своего жилья',\n",
       "       'операции с недвижимостью', 'получение высшего образования',\n",
       "       'свой автомобиль', 'сделка с автомобилем',\n",
       "       'профильное образование', 'высшее образование',\n",
       "       'покупка жилья для сдачи', 'на покупку автомобиля', 'ремонт жилью',\n",
       "       'заняться высшим образованием'], dtype=object)"
      ]
     },
     "execution_count": 45,
     "metadata": {},
     "output_type": "execute_result"
    }
   ],
   "source": [
    "data['purpose'].unique()"
   ]
  },
  {
   "cell_type": "markdown",
   "id": "85d0aef0",
   "metadata": {
    "deletable": false,
    "editable": false,
    "id": "85d0aef0",
    "tags": [
     "start_task"
    ]
   },
   "source": [
    "**Задание 18. Создайте функцию, которая на основании данных из столбца `purpose` сформирует новый столбец `purpose_category`, в который войдут следующие категории:**\n",
    "\n",
    "- `'операции с автомобилем'`,\n",
    "- `'операции с недвижимостью'`,\n",
    "- `'проведение свадьбы'`,\n",
    "- `'получение образования'`.\n",
    "\n",
    "**Например, если в столбце `purpose` находится подстрока `'на покупку автомобиля'`, то в столбце `purpose_category` должна появиться строка `'операции с автомобилем'`.**\n",
    "\n",
    "**Используйте собственную функцию с именем `categorize_purpose()` и метод `apply()`. Изучите данные в столбце `purpose` и определите, какие подстроки помогут вам правильно определить категорию.**"
   ]
  },
  {
   "cell_type": "code",
   "execution_count": 46,
   "id": "e149fab4",
   "metadata": {
    "id": "e149fab4"
   },
   "outputs": [],
   "source": [
    "def categorize_purpose(row):\n",
    "    purpose = row['purpose']\n",
    "    if 'авто' in purpose:\n",
    "        return 'операции с автомобилем'\n",
    "    if 'недвижим' in purpose:\n",
    "        return 'операции с недвижимостью'\n",
    "    if 'жил' in purpose:\n",
    "        return 'операции с недвижимостью'\n",
    "    if 'свад' in purpose:\n",
    "        return 'проведение свадьбы'\n",
    "    if 'образ' in purpose:\n",
    "        return 'получение образования'"
   ]
  },
  {
   "cell_type": "code",
   "execution_count": 47,
   "id": "bf36e69b",
   "metadata": {
    "id": "bf36e69b"
   },
   "outputs": [],
   "source": [
    "data['purpose_category'] = data.apply(categorize_purpose, axis=1)"
   ]
  }
 ],
 "metadata": {
  "ExecuteTimeLog": [
   {
    "duration": 413,
    "start_time": "2023-01-07T13:15:28.877Z"
   },
   {
    "duration": 83,
    "start_time": "2023-01-07T13:16:34.031Z"
   },
   {
    "duration": 349,
    "start_time": "2023-01-07T13:16:39.422Z"
   },
   {
    "duration": 23,
    "start_time": "2023-01-07T13:16:40.895Z"
   },
   {
    "duration": 21,
    "start_time": "2023-01-07T13:17:07.521Z"
   },
   {
    "duration": 40,
    "start_time": "2023-01-07T13:18:24.385Z"
   },
   {
    "duration": 51,
    "start_time": "2023-01-07T13:18:33.377Z"
   },
   {
    "duration": 52,
    "start_time": "2023-01-07T13:18:39.528Z"
   },
   {
    "duration": 17,
    "start_time": "2023-01-07T13:21:45.953Z"
   },
   {
    "duration": 3,
    "start_time": "2023-01-07T13:22:24.771Z"
   },
   {
    "duration": 106,
    "start_time": "2023-01-07T13:22:24.948Z"
   },
   {
    "duration": 17,
    "start_time": "2023-01-07T13:22:25.271Z"
   },
   {
    "duration": 24,
    "start_time": "2023-01-07T13:22:25.632Z"
   },
   {
    "duration": 12,
    "start_time": "2023-01-07T13:22:27.927Z"
   },
   {
    "duration": 23,
    "start_time": "2023-01-07T13:26:09.163Z"
   },
   {
    "duration": 7,
    "start_time": "2023-01-07T13:30:40.856Z"
   },
   {
    "duration": 6,
    "start_time": "2023-01-07T13:31:35.181Z"
   },
   {
    "duration": 2,
    "start_time": "2023-01-07T13:31:40.989Z"
   },
   {
    "duration": 87,
    "start_time": "2023-01-07T13:31:41.137Z"
   },
   {
    "duration": 21,
    "start_time": "2023-01-07T13:31:41.435Z"
   },
   {
    "duration": 20,
    "start_time": "2023-01-07T13:31:41.641Z"
   },
   {
    "duration": 15,
    "start_time": "2023-01-07T13:31:42.193Z"
   },
   {
    "duration": 6,
    "start_time": "2023-01-07T13:31:43.048Z"
   },
   {
    "duration": 19,
    "start_time": "2023-01-07T13:34:26.404Z"
   },
   {
    "duration": 19,
    "start_time": "2023-01-07T13:34:46.441Z"
   },
   {
    "duration": 18,
    "start_time": "2023-01-07T13:35:36.633Z"
   },
   {
    "duration": 10,
    "start_time": "2023-01-07T13:41:36.400Z"
   },
   {
    "duration": 10,
    "start_time": "2023-01-07T13:41:38.087Z"
   },
   {
    "duration": 10,
    "start_time": "2023-01-07T13:41:39.521Z"
   },
   {
    "duration": 10,
    "start_time": "2023-01-07T13:41:41.674Z"
   },
   {
    "duration": 11,
    "start_time": "2023-01-07T13:41:43.153Z"
   },
   {
    "duration": 12,
    "start_time": "2023-01-07T13:42:07.019Z"
   },
   {
    "duration": 9,
    "start_time": "2023-01-07T13:43:10.554Z"
   },
   {
    "duration": 2,
    "start_time": "2023-01-07T13:43:13.400Z"
   },
   {
    "duration": 98,
    "start_time": "2023-01-07T13:43:13.535Z"
   },
   {
    "duration": 18,
    "start_time": "2023-01-07T13:43:13.793Z"
   },
   {
    "duration": 22,
    "start_time": "2023-01-07T13:43:14.033Z"
   },
   {
    "duration": 11,
    "start_time": "2023-01-07T13:43:14.521Z"
   },
   {
    "duration": 9,
    "start_time": "2023-01-07T13:43:14.749Z"
   },
   {
    "duration": 9,
    "start_time": "2023-01-07T13:44:50.783Z"
   },
   {
    "duration": 9,
    "start_time": "2023-01-07T13:44:52.196Z"
   },
   {
    "duration": 8,
    "start_time": "2023-01-07T13:45:47.786Z"
   },
   {
    "duration": 63,
    "start_time": "2023-01-07T13:47:31.824Z"
   },
   {
    "duration": 47,
    "start_time": "2023-01-07T13:48:59.961Z"
   },
   {
    "duration": 50,
    "start_time": "2023-01-07T13:49:01.718Z"
   },
   {
    "duration": 53,
    "start_time": "2023-01-07T13:49:07.527Z"
   },
   {
    "duration": 56,
    "start_time": "2023-01-07T13:49:09.798Z"
   },
   {
    "duration": 43,
    "start_time": "2023-01-07T13:49:13.151Z"
   },
   {
    "duration": 49,
    "start_time": "2023-01-07T13:49:23.560Z"
   },
   {
    "duration": 43,
    "start_time": "2023-01-07T13:49:26.072Z"
   },
   {
    "duration": 63,
    "start_time": "2023-01-07T13:49:30.118Z"
   },
   {
    "duration": 68,
    "start_time": "2023-01-07T13:49:35.394Z"
   },
   {
    "duration": 53,
    "start_time": "2023-01-07T13:49:43.955Z"
   },
   {
    "duration": 62,
    "start_time": "2023-01-07T13:50:28.721Z"
   },
   {
    "duration": 43,
    "start_time": "2023-01-07T13:50:32.253Z"
   },
   {
    "duration": 57,
    "start_time": "2023-01-07T13:50:33.301Z"
   },
   {
    "duration": 59,
    "start_time": "2023-01-07T13:50:55.227Z"
   },
   {
    "duration": 57,
    "start_time": "2023-01-07T13:51:03.812Z"
   },
   {
    "duration": 57,
    "start_time": "2023-01-07T13:51:13.997Z"
   },
   {
    "duration": 53,
    "start_time": "2023-01-07T13:51:21.280Z"
   },
   {
    "duration": 62,
    "start_time": "2023-01-07T13:51:27.814Z"
   },
   {
    "duration": 47,
    "start_time": "2023-01-07T13:51:49.873Z"
   },
   {
    "duration": 41,
    "start_time": "2023-01-07T13:51:55.865Z"
   },
   {
    "duration": 12,
    "start_time": "2023-01-07T13:52:14.973Z"
   },
   {
    "duration": 12,
    "start_time": "2023-01-07T13:52:17.021Z"
   },
   {
    "duration": 6,
    "start_time": "2023-01-07T13:53:58.953Z"
   },
   {
    "duration": 7,
    "start_time": "2023-01-07T13:54:20.194Z"
   },
   {
    "duration": 41,
    "start_time": "2023-01-07T13:54:40.854Z"
   },
   {
    "duration": 4,
    "start_time": "2023-01-07T13:54:44.820Z"
   },
   {
    "duration": 3,
    "start_time": "2023-01-07T13:54:46.606Z"
   },
   {
    "duration": 20,
    "start_time": "2023-01-07T14:15:01.010Z"
   },
   {
    "duration": 19,
    "start_time": "2023-01-07T14:15:23.522Z"
   },
   {
    "duration": 15,
    "start_time": "2023-01-07T14:15:35.214Z"
   },
   {
    "duration": 8,
    "start_time": "2023-01-07T14:16:00.205Z"
   },
   {
    "duration": 6,
    "start_time": "2023-01-07T14:18:30.782Z"
   },
   {
    "duration": 64,
    "start_time": "2023-01-07T14:23:15.752Z"
   },
   {
    "duration": 8,
    "start_time": "2023-01-07T14:23:49.201Z"
   },
   {
    "duration": 7,
    "start_time": "2023-01-07T14:23:50.729Z"
   },
   {
    "duration": 6,
    "start_time": "2023-01-07T14:23:57.250Z"
   },
   {
    "duration": 5,
    "start_time": "2023-01-07T14:24:04.163Z"
   },
   {
    "duration": 6,
    "start_time": "2023-01-07T14:25:02.906Z"
   },
   {
    "duration": 12,
    "start_time": "2023-01-07T14:25:10.351Z"
   },
   {
    "duration": 10,
    "start_time": "2023-01-07T14:25:32.735Z"
   },
   {
    "duration": 4,
    "start_time": "2023-01-07T14:25:36.099Z"
   },
   {
    "duration": 12,
    "start_time": "2023-01-07T14:27:39.394Z"
   },
   {
    "duration": 14,
    "start_time": "2023-01-07T14:28:25.661Z"
   },
   {
    "duration": 12,
    "start_time": "2023-01-07T14:29:38.977Z"
   },
   {
    "duration": 4,
    "start_time": "2023-01-07T14:31:11.125Z"
   },
   {
    "duration": 17,
    "start_time": "2023-01-07T14:31:46.731Z"
   },
   {
    "duration": 17,
    "start_time": "2023-01-07T14:32:39.022Z"
   },
   {
    "duration": 29,
    "start_time": "2023-01-07T14:34:04.034Z"
   },
   {
    "duration": 37,
    "start_time": "2023-01-07T14:34:29.002Z"
   },
   {
    "duration": 39,
    "start_time": "2023-01-07T14:34:51.617Z"
   },
   {
    "duration": 18,
    "start_time": "2023-01-07T14:35:06.097Z"
   },
   {
    "duration": 50,
    "start_time": "2023-01-07T14:35:55.181Z"
   },
   {
    "duration": 6,
    "start_time": "2023-01-07T14:36:22.750Z"
   },
   {
    "duration": 6,
    "start_time": "2023-01-07T14:36:24.426Z"
   },
   {
    "duration": 14,
    "start_time": "2023-01-07T14:36:35.250Z"
   },
   {
    "duration": 6,
    "start_time": "2023-01-07T14:36:36.496Z"
   },
   {
    "duration": 6,
    "start_time": "2023-01-07T14:36:37.917Z"
   },
   {
    "duration": 13,
    "start_time": "2023-01-07T14:36:48.325Z"
   },
   {
    "duration": 13,
    "start_time": "2023-01-07T14:36:50.954Z"
   },
   {
    "duration": 6,
    "start_time": "2023-01-07T14:36:51.564Z"
   },
   {
    "duration": 6,
    "start_time": "2023-01-07T14:36:52.365Z"
   },
   {
    "duration": 7,
    "start_time": "2023-01-07T14:37:45.276Z"
   },
   {
    "duration": 7,
    "start_time": "2023-01-07T14:37:48.248Z"
   },
   {
    "duration": 8,
    "start_time": "2023-01-07T14:37:48.546Z"
   },
   {
    "duration": 7,
    "start_time": "2023-01-07T14:37:58.880Z"
   },
   {
    "duration": 8,
    "start_time": "2023-01-07T14:37:59.697Z"
   },
   {
    "duration": 21,
    "start_time": "2023-01-07T14:38:28.103Z"
   },
   {
    "duration": 42,
    "start_time": "2023-01-07T14:38:31.967Z"
   },
   {
    "duration": 11,
    "start_time": "2023-01-07T14:38:45.682Z"
   },
   {
    "duration": 4,
    "start_time": "2023-01-07T14:38:47.273Z"
   },
   {
    "duration": 12,
    "start_time": "2023-01-07T14:38:48.558Z"
   },
   {
    "duration": 30,
    "start_time": "2023-01-07T14:38:49.624Z"
   },
   {
    "duration": 43,
    "start_time": "2023-01-07T14:38:50.337Z"
   },
   {
    "duration": 21,
    "start_time": "2023-01-07T14:38:57.297Z"
   },
   {
    "duration": 39,
    "start_time": "2023-01-07T14:38:57.854Z"
   },
   {
    "duration": 21,
    "start_time": "2023-01-07T14:39:00.365Z"
   },
   {
    "duration": 39,
    "start_time": "2023-01-07T14:39:00.901Z"
   },
   {
    "duration": 20,
    "start_time": "2023-01-07T14:39:15.196Z"
   },
   {
    "duration": 51,
    "start_time": "2023-01-07T14:39:18.733Z"
   },
   {
    "duration": 30,
    "start_time": "2023-01-07T14:39:33.758Z"
   },
   {
    "duration": 36,
    "start_time": "2023-01-07T14:39:34.669Z"
   },
   {
    "duration": 45,
    "start_time": "2023-01-07T14:41:06.772Z"
   },
   {
    "duration": 53,
    "start_time": "2023-01-07T14:41:12.478Z"
   },
   {
    "duration": 26,
    "start_time": "2023-01-07T14:41:29.624Z"
   },
   {
    "duration": 19,
    "start_time": "2023-01-07T14:41:39.521Z"
   },
   {
    "duration": 34,
    "start_time": "2023-01-07T14:41:39.759Z"
   },
   {
    "duration": 20,
    "start_time": "2023-01-07T14:41:48.887Z"
   },
   {
    "duration": 49,
    "start_time": "2023-01-07T14:41:50.004Z"
   },
   {
    "duration": 2,
    "start_time": "2023-01-07T14:42:25.350Z"
   },
   {
    "duration": 83,
    "start_time": "2023-01-07T14:42:25.496Z"
   },
   {
    "duration": 16,
    "start_time": "2023-01-07T14:42:25.715Z"
   },
   {
    "duration": 17,
    "start_time": "2023-01-07T14:42:26.101Z"
   },
   {
    "duration": 11,
    "start_time": "2023-01-07T14:42:26.659Z"
   },
   {
    "duration": 13,
    "start_time": "2023-01-07T14:42:26.954Z"
   },
   {
    "duration": 5,
    "start_time": "2023-01-07T14:42:27.603Z"
   },
   {
    "duration": 9,
    "start_time": "2023-01-07T14:42:28.603Z"
   },
   {
    "duration": 4,
    "start_time": "2023-01-07T14:42:29.845Z"
   },
   {
    "duration": 6,
    "start_time": "2023-01-07T14:42:30.833Z"
   },
   {
    "duration": 5,
    "start_time": "2023-01-07T14:42:35.271Z"
   },
   {
    "duration": 14,
    "start_time": "2023-01-07T14:42:40.329Z"
   },
   {
    "duration": 10,
    "start_time": "2023-01-07T14:42:41.299Z"
   },
   {
    "duration": 4,
    "start_time": "2023-01-07T14:42:42.907Z"
   },
   {
    "duration": 12,
    "start_time": "2023-01-07T14:42:44.358Z"
   },
   {
    "duration": 24,
    "start_time": "2023-01-07T14:42:45.422Z"
   },
   {
    "duration": 45,
    "start_time": "2023-01-07T14:42:46.933Z"
   },
   {
    "duration": 19,
    "start_time": "2023-01-07T14:43:27.799Z"
   },
   {
    "duration": 17,
    "start_time": "2023-01-07T14:43:34.904Z"
   },
   {
    "duration": 25,
    "start_time": "2023-01-07T14:43:42.466Z"
   },
   {
    "duration": 2,
    "start_time": "2023-01-07T14:43:46.258Z"
   },
   {
    "duration": 124,
    "start_time": "2023-01-07T14:43:46.362Z"
   },
   {
    "duration": 17,
    "start_time": "2023-01-07T14:43:46.608Z"
   },
   {
    "duration": 23,
    "start_time": "2023-01-07T14:43:46.858Z"
   },
   {
    "duration": 16,
    "start_time": "2023-01-07T14:43:47.314Z"
   },
   {
    "duration": 19,
    "start_time": "2023-01-07T14:43:47.559Z"
   },
   {
    "duration": 4,
    "start_time": "2023-01-07T14:43:48.077Z"
   },
   {
    "duration": 12,
    "start_time": "2023-01-07T14:43:48.350Z"
   },
   {
    "duration": 5,
    "start_time": "2023-01-07T14:43:48.760Z"
   },
   {
    "duration": 6,
    "start_time": "2023-01-07T14:43:49.182Z"
   },
   {
    "duration": 6,
    "start_time": "2023-01-07T14:43:49.530Z"
   },
   {
    "duration": 16,
    "start_time": "2023-01-07T14:43:50.014Z"
   },
   {
    "duration": 17,
    "start_time": "2023-01-07T14:43:50.279Z"
   },
   {
    "duration": 5,
    "start_time": "2023-01-07T14:43:51.468Z"
   },
   {
    "duration": 20,
    "start_time": "2023-01-07T14:43:52.832Z"
   },
   {
    "duration": 28,
    "start_time": "2023-01-07T14:43:53.464Z"
   },
   {
    "duration": 38,
    "start_time": "2023-01-07T14:43:54.520Z"
   },
   {
    "duration": 67,
    "start_time": "2023-01-07T14:44:49.264Z"
   },
   {
    "duration": 43,
    "start_time": "2023-01-07T14:44:55.316Z"
   },
   {
    "duration": 20,
    "start_time": "2023-01-07T14:45:09.096Z"
   },
   {
    "duration": 27,
    "start_time": "2023-01-07T14:45:16.235Z"
   },
   {
    "duration": 8,
    "start_time": "2023-01-07T14:45:33.050Z"
   },
   {
    "duration": 7,
    "start_time": "2023-01-07T14:45:39.198Z"
   },
   {
    "duration": 6,
    "start_time": "2023-01-07T14:45:41.307Z"
   },
   {
    "duration": 17,
    "start_time": "2023-01-07T14:45:45.249Z"
   },
   {
    "duration": 21,
    "start_time": "2023-01-07T14:47:15.618Z"
   },
   {
    "duration": 33,
    "start_time": "2023-01-07T14:47:17.168Z"
   },
   {
    "duration": 34,
    "start_time": "2023-01-07T14:47:37.618Z"
   },
   {
    "duration": 494,
    "start_time": "2023-01-07T14:55:20.348Z"
   },
   {
    "duration": 137,
    "start_time": "2023-01-07T14:55:20.844Z"
   },
   {
    "duration": 23,
    "start_time": "2023-01-07T14:55:20.983Z"
   },
   {
    "duration": 23,
    "start_time": "2023-01-07T14:55:21.121Z"
   },
   {
    "duration": 11,
    "start_time": "2023-01-07T14:55:21.698Z"
   },
   {
    "duration": 14,
    "start_time": "2023-01-07T14:55:22.102Z"
   },
   {
    "duration": 5,
    "start_time": "2023-01-07T14:55:22.503Z"
   },
   {
    "duration": 8,
    "start_time": "2023-01-07T14:55:23.066Z"
   },
   {
    "duration": 6,
    "start_time": "2023-01-07T14:55:23.566Z"
   },
   {
    "duration": 5,
    "start_time": "2023-01-07T14:55:23.903Z"
   },
   {
    "duration": 5,
    "start_time": "2023-01-07T14:55:24.498Z"
   },
   {
    "duration": 18,
    "start_time": "2023-01-07T14:55:25.044Z"
   },
   {
    "duration": 16,
    "start_time": "2023-01-07T14:55:25.669Z"
   },
   {
    "duration": 5,
    "start_time": "2023-01-07T14:55:26.642Z"
   },
   {
    "duration": 12,
    "start_time": "2023-01-07T14:55:27.923Z"
   },
   {
    "duration": 27,
    "start_time": "2023-01-07T14:55:28.541Z"
   },
   {
    "duration": 19,
    "start_time": "2023-01-07T14:55:29.065Z"
   },
   {
    "duration": 3,
    "start_time": "2023-01-07T15:00:52.544Z"
   },
   {
    "duration": 143,
    "start_time": "2023-01-07T15:02:17.411Z"
   },
   {
    "duration": 7,
    "start_time": "2023-01-07T15:02:50.513Z"
   },
   {
    "duration": 69,
    "start_time": "2023-01-07T15:17:40.244Z"
   },
   {
    "duration": 6,
    "start_time": "2023-01-07T15:17:52.441Z"
   },
   {
    "duration": 146,
    "start_time": "2023-01-07T15:17:52.934Z"
   },
   {
    "duration": 3,
    "start_time": "2023-01-07T15:19:04.137Z"
   },
   {
    "duration": 76,
    "start_time": "2023-01-07T15:19:04.268Z"
   },
   {
    "duration": 18,
    "start_time": "2023-01-07T15:19:04.666Z"
   },
   {
    "duration": 17,
    "start_time": "2023-01-07T15:19:04.968Z"
   },
   {
    "duration": 12,
    "start_time": "2023-01-07T15:19:05.618Z"
   },
   {
    "duration": 13,
    "start_time": "2023-01-07T15:19:06.266Z"
   },
   {
    "duration": 4,
    "start_time": "2023-01-07T15:19:06.965Z"
   },
   {
    "duration": 8,
    "start_time": "2023-01-07T15:19:07.316Z"
   },
   {
    "duration": 5,
    "start_time": "2023-01-07T15:19:07.824Z"
   },
   {
    "duration": 7,
    "start_time": "2023-01-07T15:19:09.973Z"
   },
   {
    "duration": 6,
    "start_time": "2023-01-07T15:19:10.863Z"
   },
   {
    "duration": 13,
    "start_time": "2023-01-07T15:19:11.709Z"
   },
   {
    "duration": 11,
    "start_time": "2023-01-07T15:19:12.008Z"
   },
   {
    "duration": 4,
    "start_time": "2023-01-07T15:19:12.474Z"
   },
   {
    "duration": 14,
    "start_time": "2023-01-07T15:19:13.170Z"
   },
   {
    "duration": 21,
    "start_time": "2023-01-07T15:19:13.272Z"
   },
   {
    "duration": 18,
    "start_time": "2023-01-07T15:19:13.434Z"
   },
   {
    "duration": 3,
    "start_time": "2023-01-07T15:19:13.977Z"
   },
   {
    "duration": 147,
    "start_time": "2023-01-07T15:19:14.174Z"
   },
   {
    "duration": 7,
    "start_time": "2023-01-07T15:19:14.476Z"
   },
   {
    "duration": 4,
    "start_time": "2023-01-07T15:19:14.835Z"
   },
   {
    "duration": 155,
    "start_time": "2023-01-07T15:19:14.996Z"
   },
   {
    "duration": 3,
    "start_time": "2023-01-07T15:20:31.751Z"
   },
   {
    "duration": 4,
    "start_time": "2023-01-07T15:20:37.216Z"
   },
   {
    "duration": 142,
    "start_time": "2023-01-07T15:20:37.620Z"
   },
   {
    "duration": 4,
    "start_time": "2023-01-07T15:25:31.060Z"
   },
   {
    "duration": 139,
    "start_time": "2023-01-07T15:25:31.563Z"
   },
   {
    "duration": 3,
    "start_time": "2023-01-07T15:26:25.385Z"
   },
   {
    "duration": 143,
    "start_time": "2023-01-07T15:26:26.412Z"
   },
   {
    "duration": 3,
    "start_time": "2023-01-07T15:27:51.958Z"
   },
   {
    "duration": 130,
    "start_time": "2023-01-07T15:27:52.316Z"
   },
   {
    "duration": 4,
    "start_time": "2023-01-07T15:29:02.233Z"
   },
   {
    "duration": 137,
    "start_time": "2023-01-07T15:29:02.376Z"
   }
  ],
  "colab": {
   "provenance": []
  },
  "kernelspec": {
   "display_name": "Python 3 (ipykernel)",
   "language": "python",
   "name": "python3"
  },
  "language_info": {
   "codemirror_mode": {
    "name": "ipython",
    "version": 3
   },
   "file_extension": ".py",
   "mimetype": "text/x-python",
   "name": "python",
   "nbconvert_exporter": "python",
   "pygments_lexer": "ipython3",
   "version": "3.9.12"
  },
  "toc": {
   "base_numbering": 1,
   "nav_menu": {},
   "number_sections": true,
   "sideBar": true,
   "skip_h1_title": true,
   "title_cell": "Table of Contents",
   "title_sidebar": "Contents",
   "toc_cell": false,
   "toc_position": {},
   "toc_section_display": true,
   "toc_window_display": false
  }
 },
 "nbformat": 4,
 "nbformat_minor": 5
}
