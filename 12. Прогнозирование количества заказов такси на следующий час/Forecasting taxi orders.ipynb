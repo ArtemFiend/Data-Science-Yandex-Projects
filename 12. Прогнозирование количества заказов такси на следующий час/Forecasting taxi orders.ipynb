{
 "cells": [
  {
   "cell_type": "markdown",
   "metadata": {
    "toc": true
   },
   "source": [
    "<h1>Содержание<span class=\"tocSkip\"></span></h1>\n",
    "<div class=\"toc\"><ul class=\"toc-item\"><li><span><a href=\"#Подготовка\" data-toc-modified-id=\"Подготовка-1\"><span class=\"toc-item-num\">1&nbsp;&nbsp;</span>Подготовка</a></span></li><li><span><a href=\"#Анализ\" data-toc-modified-id=\"Анализ-2\"><span class=\"toc-item-num\">2&nbsp;&nbsp;</span>Анализ</a></span></li><li><span><a href=\"#Обучение\" data-toc-modified-id=\"Обучение-3\"><span class=\"toc-item-num\">3&nbsp;&nbsp;</span>Обучение</a></span></li><li><span><a href=\"#Тестирование\" data-toc-modified-id=\"Тестирование-4\"><span class=\"toc-item-num\">4&nbsp;&nbsp;</span>Тестирование</a></span></li><li><span><a href=\"#Чек-лист-проверки\" data-toc-modified-id=\"Чек-лист-проверки-5\"><span class=\"toc-item-num\">5&nbsp;&nbsp;</span>Чек-лист проверки</a></span></li></ul></div>"
   ]
  },
  {
   "cell_type": "markdown",
   "metadata": {},
   "source": [
    "#  Прогнозирование заказов такси"
   ]
  },
  {
   "cell_type": "markdown",
   "metadata": {},
   "source": [
    "Компания «Чётенькое такси» собрала исторические данные о заказах такси в аэропортах. Чтобы привлекать больше водителей в период пиковой нагрузки, нужно спрогнозировать количество заказов такси на следующий час. Постройте модель для такого предсказания.\n",
    "\n",
    "Значение метрики *RMSE* на тестовой выборке должно быть не больше 48.\n",
    "\n",
    "Вам нужно:\n",
    "\n",
    "1. Загрузить данные и выполнить их ресемплирование по одному часу.\n",
    "2. Проанализировать данные.\n",
    "3. Обучить разные модели с различными гиперпараметрами. Сделать тестовую выборку размером 10% от исходных данных.\n",
    "4. Проверить данные на тестовой выборке и сделать выводы.\n",
    "\n",
    "\n",
    "Данные лежат в файле `taxi.csv`. Количество заказов находится в столбце `num_orders` (от англ. *number of orders*, «число заказов»)."
   ]
  },
  {
   "cell_type": "markdown",
   "metadata": {},
   "source": [
    "## Подготовка"
   ]
  },
  {
   "cell_type": "code",
   "execution_count": 1,
   "metadata": {},
   "outputs": [],
   "source": [
    "import pandas as pd\n",
    "import numpy as np\n",
    "from statsmodels.tsa.seasonal import seasonal_decompose\n",
    "import matplotlib.pyplot as plt\n",
    "from sklearn.model_selection import train_test_split, RandomizedSearchCV, TimeSeriesSplit, cross_val_score, GridSearchCV\n",
    "from sklearn.preprocessing import StandardScaler\n",
    "from sklearn.metrics import mean_squared_error\n",
    "from sklearn.linear_model import LinearRegression\n",
    "from catboost import CatBoostRegressor"
   ]
  },
  {
   "cell_type": "code",
   "execution_count": 2,
   "metadata": {},
   "outputs": [],
   "source": [
    "data = pd.read_csv('/datasets/taxi.csv', index_col=[0], parse_dates=[0])"
   ]
  },
  {
   "cell_type": "code",
   "execution_count": 3,
   "metadata": {},
   "outputs": [
    {
     "data": {
      "text/html": [
       "<div>\n",
       "<style scoped>\n",
       "    .dataframe tbody tr th:only-of-type {\n",
       "        vertical-align: middle;\n",
       "    }\n",
       "\n",
       "    .dataframe tbody tr th {\n",
       "        vertical-align: top;\n",
       "    }\n",
       "\n",
       "    .dataframe thead th {\n",
       "        text-align: right;\n",
       "    }\n",
       "</style>\n",
       "<table border=\"1\" class=\"dataframe\">\n",
       "  <thead>\n",
       "    <tr style=\"text-align: right;\">\n",
       "      <th></th>\n",
       "      <th>num_orders</th>\n",
       "    </tr>\n",
       "    <tr>\n",
       "      <th>datetime</th>\n",
       "      <th></th>\n",
       "    </tr>\n",
       "  </thead>\n",
       "  <tbody>\n",
       "    <tr>\n",
       "      <th>2018-03-01 00:00:00</th>\n",
       "      <td>9</td>\n",
       "    </tr>\n",
       "    <tr>\n",
       "      <th>2018-03-01 00:10:00</th>\n",
       "      <td>14</td>\n",
       "    </tr>\n",
       "    <tr>\n",
       "      <th>2018-03-01 00:20:00</th>\n",
       "      <td>28</td>\n",
       "    </tr>\n",
       "    <tr>\n",
       "      <th>2018-03-01 00:30:00</th>\n",
       "      <td>20</td>\n",
       "    </tr>\n",
       "    <tr>\n",
       "      <th>2018-03-01 00:40:00</th>\n",
       "      <td>32</td>\n",
       "    </tr>\n",
       "    <tr>\n",
       "      <th>...</th>\n",
       "      <td>...</td>\n",
       "    </tr>\n",
       "    <tr>\n",
       "      <th>2018-08-31 23:10:00</th>\n",
       "      <td>32</td>\n",
       "    </tr>\n",
       "    <tr>\n",
       "      <th>2018-08-31 23:20:00</th>\n",
       "      <td>24</td>\n",
       "    </tr>\n",
       "    <tr>\n",
       "      <th>2018-08-31 23:30:00</th>\n",
       "      <td>27</td>\n",
       "    </tr>\n",
       "    <tr>\n",
       "      <th>2018-08-31 23:40:00</th>\n",
       "      <td>39</td>\n",
       "    </tr>\n",
       "    <tr>\n",
       "      <th>2018-08-31 23:50:00</th>\n",
       "      <td>53</td>\n",
       "    </tr>\n",
       "  </tbody>\n",
       "</table>\n",
       "<p>26496 rows × 1 columns</p>\n",
       "</div>"
      ],
      "text/plain": [
       "                     num_orders\n",
       "datetime                       \n",
       "2018-03-01 00:00:00           9\n",
       "2018-03-01 00:10:00          14\n",
       "2018-03-01 00:20:00          28\n",
       "2018-03-01 00:30:00          20\n",
       "2018-03-01 00:40:00          32\n",
       "...                         ...\n",
       "2018-08-31 23:10:00          32\n",
       "2018-08-31 23:20:00          24\n",
       "2018-08-31 23:30:00          27\n",
       "2018-08-31 23:40:00          39\n",
       "2018-08-31 23:50:00          53\n",
       "\n",
       "[26496 rows x 1 columns]"
      ]
     },
     "execution_count": 3,
     "metadata": {},
     "output_type": "execute_result"
    }
   ],
   "source": [
    "data"
   ]
  },
  {
   "cell_type": "code",
   "execution_count": 4,
   "metadata": {},
   "outputs": [
    {
     "name": "stdout",
     "output_type": "stream",
     "text": [
      "<class 'pandas.core.frame.DataFrame'>\n",
      "DatetimeIndex: 26496 entries, 2018-03-01 00:00:00 to 2018-08-31 23:50:00\n",
      "Data columns (total 1 columns):\n",
      " #   Column      Non-Null Count  Dtype\n",
      "---  ------      --------------  -----\n",
      " 0   num_orders  26496 non-null  int64\n",
      "dtypes: int64(1)\n",
      "memory usage: 414.0 KB\n"
     ]
    }
   ],
   "source": [
    "data.info()"
   ]
  },
  {
   "cell_type": "code",
   "execution_count": 5,
   "metadata": {},
   "outputs": [
    {
     "data": {
      "text/plain": [
       "num_orders    0\n",
       "dtype: int64"
      ]
     },
     "execution_count": 5,
     "metadata": {},
     "output_type": "execute_result"
    }
   ],
   "source": [
    "data.isna().sum()"
   ]
  },
  {
   "cell_type": "code",
   "execution_count": 6,
   "metadata": {},
   "outputs": [
    {
     "data": {
      "text/plain": [
       "True"
      ]
     },
     "execution_count": 6,
     "metadata": {},
     "output_type": "execute_result"
    }
   ],
   "source": [
    "data.index.is_monotonic"
   ]
  },
  {
   "cell_type": "code",
   "execution_count": 7,
   "metadata": {},
   "outputs": [],
   "source": [
    "data = data.resample('1H').sum()"
   ]
  },
  {
   "cell_type": "code",
   "execution_count": 8,
   "metadata": {},
   "outputs": [
    {
     "data": {
      "text/html": [
       "<div>\n",
       "<style scoped>\n",
       "    .dataframe tbody tr th:only-of-type {\n",
       "        vertical-align: middle;\n",
       "    }\n",
       "\n",
       "    .dataframe tbody tr th {\n",
       "        vertical-align: top;\n",
       "    }\n",
       "\n",
       "    .dataframe thead th {\n",
       "        text-align: right;\n",
       "    }\n",
       "</style>\n",
       "<table border=\"1\" class=\"dataframe\">\n",
       "  <thead>\n",
       "    <tr style=\"text-align: right;\">\n",
       "      <th></th>\n",
       "      <th>num_orders</th>\n",
       "    </tr>\n",
       "    <tr>\n",
       "      <th>datetime</th>\n",
       "      <th></th>\n",
       "    </tr>\n",
       "  </thead>\n",
       "  <tbody>\n",
       "    <tr>\n",
       "      <th>2018-03-01 00:00:00</th>\n",
       "      <td>124</td>\n",
       "    </tr>\n",
       "    <tr>\n",
       "      <th>2018-03-01 01:00:00</th>\n",
       "      <td>85</td>\n",
       "    </tr>\n",
       "    <tr>\n",
       "      <th>2018-03-01 02:00:00</th>\n",
       "      <td>71</td>\n",
       "    </tr>\n",
       "    <tr>\n",
       "      <th>2018-03-01 03:00:00</th>\n",
       "      <td>66</td>\n",
       "    </tr>\n",
       "    <tr>\n",
       "      <th>2018-03-01 04:00:00</th>\n",
       "      <td>43</td>\n",
       "    </tr>\n",
       "    <tr>\n",
       "      <th>...</th>\n",
       "      <td>...</td>\n",
       "    </tr>\n",
       "    <tr>\n",
       "      <th>2018-08-31 19:00:00</th>\n",
       "      <td>136</td>\n",
       "    </tr>\n",
       "    <tr>\n",
       "      <th>2018-08-31 20:00:00</th>\n",
       "      <td>154</td>\n",
       "    </tr>\n",
       "    <tr>\n",
       "      <th>2018-08-31 21:00:00</th>\n",
       "      <td>159</td>\n",
       "    </tr>\n",
       "    <tr>\n",
       "      <th>2018-08-31 22:00:00</th>\n",
       "      <td>223</td>\n",
       "    </tr>\n",
       "    <tr>\n",
       "      <th>2018-08-31 23:00:00</th>\n",
       "      <td>205</td>\n",
       "    </tr>\n",
       "  </tbody>\n",
       "</table>\n",
       "<p>4416 rows × 1 columns</p>\n",
       "</div>"
      ],
      "text/plain": [
       "                     num_orders\n",
       "datetime                       \n",
       "2018-03-01 00:00:00         124\n",
       "2018-03-01 01:00:00          85\n",
       "2018-03-01 02:00:00          71\n",
       "2018-03-01 03:00:00          66\n",
       "2018-03-01 04:00:00          43\n",
       "...                         ...\n",
       "2018-08-31 19:00:00         136\n",
       "2018-08-31 20:00:00         154\n",
       "2018-08-31 21:00:00         159\n",
       "2018-08-31 22:00:00         223\n",
       "2018-08-31 23:00:00         205\n",
       "\n",
       "[4416 rows x 1 columns]"
      ]
     },
     "execution_count": 8,
     "metadata": {},
     "output_type": "execute_result"
    }
   ],
   "source": [
    "data"
   ]
  },
  {
   "cell_type": "code",
   "execution_count": 9,
   "metadata": {},
   "outputs": [],
   "source": [
    "decomposed = seasonal_decompose(data)"
   ]
  },
  {
   "cell_type": "markdown",
   "metadata": {},
   "source": [
    "## Анализ"
   ]
  },
  {
   "cell_type": "code",
   "execution_count": 10,
   "metadata": {},
   "outputs": [
    {
     "data": {
      "image/png": "[encoded data removed]",
      "text/plain": [
       "<Figure size 1152x1152 with 5 Axes>"
      ]
     },
     "metadata": {
      "needs_background": "light"
     },
     "output_type": "display_data"
    }
   ],
   "source": [
    "plt.figure(figsize=(16, 16))\n",
    "plt.subplot(511)\n",
    "decomposed.trend.plot(ax=plt.gca())\n",
    "plt.title('Trend')\n",
    "plt.subplot(512)\n",
    "decomposed.seasonal.plot(ax=plt.gca())\n",
    "plt.title('Seasonality')\n",
    "plt.subplot(513)\n",
    "decomposed.seasonal['2018-03-01':'2018-03-7'].plot(ax=plt.gca())\n",
    "plt.title('Seasonality week')\n",
    "plt.subplot(514)\n",
    "decomposed.seasonal['2018-04-01 00:00:00':'2018-04-1 23:00:00'].plot(ax=plt.gca())\n",
    "plt.title('Seasonality day')\n",
    "plt.subplot(515)\n",
    "decomposed.resid.plot(ax=plt.gca())\n",
    "plt.title('Residuals')\n",
    "plt.tight_layout()"
   ]
  },
  {
   "cell_type": "markdown",
   "metadata": {},
   "source": [
    "* Видим плавный восходящий тренд на протяжении полугода\n",
    "* Судя по ежедневной сезонности, минимальное колиество вызовов такси наблюдается в 6 утра, пик - 12 ночи. \n",
    "* Разницы по дням недели особо не наблюдается, на протяжении всей недели сохраняется ежедневная сезонность. "
   ]
  },
  {
   "cell_type": "markdown",
   "metadata": {},
   "source": [
    "Создадим признаки (час, день недели и выходные) для дальнейшего обучения моделей"
   ]
  },
  {
   "cell_type": "code",
   "execution_count": 11,
   "metadata": {},
   "outputs": [],
   "source": [
    "def make_features(data, max_lag, rolling_mean_size):\n",
    "    data['hours'] = data.index.hour\n",
    "    data['dayofweek'] = data.index.dayofweek\n",
    "    data['weekend'] = data.index.dayofweek.isin([5,6])\n",
    "    for lag in range(1, max_lag + 1):\n",
    "        data['lag_{}'.format(lag)] = data.iloc[:,0].shift(lag)\n",
    "\n",
    "    data['rolling_mean'] = data.iloc[:,0].shift().rolling(rolling_mean_size).mean()\n",
    "    return data"
   ]
  },
  {
   "cell_type": "code",
   "execution_count": 12,
   "metadata": {},
   "outputs": [
    {
     "data": {
      "text/html": [
       "<div>\n",
       "<style scoped>\n",
       "    .dataframe tbody tr th:only-of-type {\n",
       "        vertical-align: middle;\n",
       "    }\n",
       "\n",
       "    .dataframe tbody tr th {\n",
       "        vertical-align: top;\n",
       "    }\n",
       "\n",
       "    .dataframe thead th {\n",
       "        text-align: right;\n",
       "    }\n",
       "</style>\n",
       "<table border=\"1\" class=\"dataframe\">\n",
       "  <thead>\n",
       "    <tr style=\"text-align: right;\">\n",
       "      <th></th>\n",
       "      <th>num_orders</th>\n",
       "      <th>hours</th>\n",
       "      <th>dayofweek</th>\n",
       "      <th>weekend</th>\n",
       "      <th>lag_1</th>\n",
       "      <th>lag_2</th>\n",
       "      <th>lag_3</th>\n",
       "      <th>lag_4</th>\n",
       "      <th>lag_5</th>\n",
       "      <th>lag_6</th>\n",
       "      <th>...</th>\n",
       "      <th>lag_16</th>\n",
       "      <th>lag_17</th>\n",
       "      <th>lag_18</th>\n",
       "      <th>lag_19</th>\n",
       "      <th>lag_20</th>\n",
       "      <th>lag_21</th>\n",
       "      <th>lag_22</th>\n",
       "      <th>lag_23</th>\n",
       "      <th>lag_24</th>\n",
       "      <th>rolling_mean</th>\n",
       "    </tr>\n",
       "    <tr>\n",
       "      <th>datetime</th>\n",
       "      <th></th>\n",
       "      <th></th>\n",
       "      <th></th>\n",
       "      <th></th>\n",
       "      <th></th>\n",
       "      <th></th>\n",
       "      <th></th>\n",
       "      <th></th>\n",
       "      <th></th>\n",
       "      <th></th>\n",
       "      <th></th>\n",
       "      <th></th>\n",
       "      <th></th>\n",
       "      <th></th>\n",
       "      <th></th>\n",
       "      <th></th>\n",
       "      <th></th>\n",
       "      <th></th>\n",
       "      <th></th>\n",
       "      <th></th>\n",
       "      <th></th>\n",
       "    </tr>\n",
       "  </thead>\n",
       "  <tbody>\n",
       "    <tr>\n",
       "      <th>2018-03-01 00:00:00</th>\n",
       "      <td>124</td>\n",
       "      <td>0</td>\n",
       "      <td>3</td>\n",
       "      <td>False</td>\n",
       "      <td>NaN</td>\n",
       "      <td>NaN</td>\n",
       "      <td>NaN</td>\n",
       "      <td>NaN</td>\n",
       "      <td>NaN</td>\n",
       "      <td>NaN</td>\n",
       "      <td>...</td>\n",
       "      <td>NaN</td>\n",
       "      <td>NaN</td>\n",
       "      <td>NaN</td>\n",
       "      <td>NaN</td>\n",
       "      <td>NaN</td>\n",
       "      <td>NaN</td>\n",
       "      <td>NaN</td>\n",
       "      <td>NaN</td>\n",
       "      <td>NaN</td>\n",
       "      <td>NaN</td>\n",
       "    </tr>\n",
       "    <tr>\n",
       "      <th>2018-03-01 01:00:00</th>\n",
       "      <td>85</td>\n",
       "      <td>1</td>\n",
       "      <td>3</td>\n",
       "      <td>False</td>\n",
       "      <td>124.0</td>\n",
       "      <td>NaN</td>\n",
       "      <td>NaN</td>\n",
       "      <td>NaN</td>\n",
       "      <td>NaN</td>\n",
       "      <td>NaN</td>\n",
       "      <td>...</td>\n",
       "      <td>NaN</td>\n",
       "      <td>NaN</td>\n",
       "      <td>NaN</td>\n",
       "      <td>NaN</td>\n",
       "      <td>NaN</td>\n",
       "      <td>NaN</td>\n",
       "      <td>NaN</td>\n",
       "      <td>NaN</td>\n",
       "      <td>NaN</td>\n",
       "      <td>NaN</td>\n",
       "    </tr>\n",
       "    <tr>\n",
       "      <th>2018-03-01 02:00:00</th>\n",
       "      <td>71</td>\n",
       "      <td>2</td>\n",
       "      <td>3</td>\n",
       "      <td>False</td>\n",
       "      <td>85.0</td>\n",
       "      <td>124.0</td>\n",
       "      <td>NaN</td>\n",
       "      <td>NaN</td>\n",
       "      <td>NaN</td>\n",
       "      <td>NaN</td>\n",
       "      <td>...</td>\n",
       "      <td>NaN</td>\n",
       "      <td>NaN</td>\n",
       "      <td>NaN</td>\n",
       "      <td>NaN</td>\n",
       "      <td>NaN</td>\n",
       "      <td>NaN</td>\n",
       "      <td>NaN</td>\n",
       "      <td>NaN</td>\n",
       "      <td>NaN</td>\n",
       "      <td>NaN</td>\n",
       "    </tr>\n",
       "    <tr>\n",
       "      <th>2018-03-01 03:00:00</th>\n",
       "      <td>66</td>\n",
       "      <td>3</td>\n",
       "      <td>3</td>\n",
       "      <td>False</td>\n",
       "      <td>71.0</td>\n",
       "      <td>85.0</td>\n",
       "      <td>124.0</td>\n",
       "      <td>NaN</td>\n",
       "      <td>NaN</td>\n",
       "      <td>NaN</td>\n",
       "      <td>...</td>\n",
       "      <td>NaN</td>\n",
       "      <td>NaN</td>\n",
       "      <td>NaN</td>\n",
       "      <td>NaN</td>\n",
       "      <td>NaN</td>\n",
       "      <td>NaN</td>\n",
       "      <td>NaN</td>\n",
       "      <td>NaN</td>\n",
       "      <td>NaN</td>\n",
       "      <td>NaN</td>\n",
       "    </tr>\n",
       "    <tr>\n",
       "      <th>2018-03-01 04:00:00</th>\n",
       "      <td>43</td>\n",
       "      <td>4</td>\n",
       "      <td>3</td>\n",
       "      <td>False</td>\n",
       "      <td>66.0</td>\n",
       "      <td>71.0</td>\n",
       "      <td>85.0</td>\n",
       "      <td>124.0</td>\n",
       "      <td>NaN</td>\n",
       "      <td>NaN</td>\n",
       "      <td>...</td>\n",
       "      <td>NaN</td>\n",
       "      <td>NaN</td>\n",
       "      <td>NaN</td>\n",
       "      <td>NaN</td>\n",
       "      <td>NaN</td>\n",
       "      <td>NaN</td>\n",
       "      <td>NaN</td>\n",
       "      <td>NaN</td>\n",
       "      <td>NaN</td>\n",
       "      <td>NaN</td>\n",
       "    </tr>\n",
       "    <tr>\n",
       "      <th>...</th>\n",
       "      <td>...</td>\n",
       "      <td>...</td>\n",
       "      <td>...</td>\n",
       "      <td>...</td>\n",
       "      <td>...</td>\n",
       "      <td>...</td>\n",
       "      <td>...</td>\n",
       "      <td>...</td>\n",
       "      <td>...</td>\n",
       "      <td>...</td>\n",
       "      <td>...</td>\n",
       "      <td>...</td>\n",
       "      <td>...</td>\n",
       "      <td>...</td>\n",
       "      <td>...</td>\n",
       "      <td>...</td>\n",
       "      <td>...</td>\n",
       "      <td>...</td>\n",
       "      <td>...</td>\n",
       "      <td>...</td>\n",
       "      <td>...</td>\n",
       "    </tr>\n",
       "    <tr>\n",
       "      <th>2018-08-31 19:00:00</th>\n",
       "      <td>136</td>\n",
       "      <td>19</td>\n",
       "      <td>4</td>\n",
       "      <td>False</td>\n",
       "      <td>207.0</td>\n",
       "      <td>217.0</td>\n",
       "      <td>197.0</td>\n",
       "      <td>116.0</td>\n",
       "      <td>133.0</td>\n",
       "      <td>166.0</td>\n",
       "      <td>...</td>\n",
       "      <td>99.0</td>\n",
       "      <td>230.0</td>\n",
       "      <td>194.0</td>\n",
       "      <td>276.0</td>\n",
       "      <td>246.0</td>\n",
       "      <td>158.0</td>\n",
       "      <td>198.0</td>\n",
       "      <td>142.0</td>\n",
       "      <td>72.0</td>\n",
       "      <td>163.416667</td>\n",
       "    </tr>\n",
       "    <tr>\n",
       "      <th>2018-08-31 20:00:00</th>\n",
       "      <td>154</td>\n",
       "      <td>20</td>\n",
       "      <td>4</td>\n",
       "      <td>False</td>\n",
       "      <td>136.0</td>\n",
       "      <td>207.0</td>\n",
       "      <td>217.0</td>\n",
       "      <td>197.0</td>\n",
       "      <td>116.0</td>\n",
       "      <td>133.0</td>\n",
       "      <td>...</td>\n",
       "      <td>268.0</td>\n",
       "      <td>99.0</td>\n",
       "      <td>230.0</td>\n",
       "      <td>194.0</td>\n",
       "      <td>276.0</td>\n",
       "      <td>246.0</td>\n",
       "      <td>158.0</td>\n",
       "      <td>198.0</td>\n",
       "      <td>142.0</td>\n",
       "      <td>170.916667</td>\n",
       "    </tr>\n",
       "    <tr>\n",
       "      <th>2018-08-31 21:00:00</th>\n",
       "      <td>159</td>\n",
       "      <td>21</td>\n",
       "      <td>4</td>\n",
       "      <td>False</td>\n",
       "      <td>154.0</td>\n",
       "      <td>136.0</td>\n",
       "      <td>207.0</td>\n",
       "      <td>217.0</td>\n",
       "      <td>197.0</td>\n",
       "      <td>116.0</td>\n",
       "      <td>...</td>\n",
       "      <td>78.0</td>\n",
       "      <td>268.0</td>\n",
       "      <td>99.0</td>\n",
       "      <td>230.0</td>\n",
       "      <td>194.0</td>\n",
       "      <td>276.0</td>\n",
       "      <td>246.0</td>\n",
       "      <td>158.0</td>\n",
       "      <td>198.0</td>\n",
       "      <td>168.583333</td>\n",
       "    </tr>\n",
       "    <tr>\n",
       "      <th>2018-08-31 22:00:00</th>\n",
       "      <td>223</td>\n",
       "      <td>22</td>\n",
       "      <td>4</td>\n",
       "      <td>False</td>\n",
       "      <td>159.0</td>\n",
       "      <td>154.0</td>\n",
       "      <td>136.0</td>\n",
       "      <td>207.0</td>\n",
       "      <td>217.0</td>\n",
       "      <td>197.0</td>\n",
       "      <td>...</td>\n",
       "      <td>35.0</td>\n",
       "      <td>78.0</td>\n",
       "      <td>268.0</td>\n",
       "      <td>99.0</td>\n",
       "      <td>230.0</td>\n",
       "      <td>194.0</td>\n",
       "      <td>276.0</td>\n",
       "      <td>246.0</td>\n",
       "      <td>158.0</td>\n",
       "      <td>164.916667</td>\n",
       "    </tr>\n",
       "    <tr>\n",
       "      <th>2018-08-31 23:00:00</th>\n",
       "      <td>205</td>\n",
       "      <td>23</td>\n",
       "      <td>4</td>\n",
       "      <td>False</td>\n",
       "      <td>223.0</td>\n",
       "      <td>159.0</td>\n",
       "      <td>154.0</td>\n",
       "      <td>136.0</td>\n",
       "      <td>207.0</td>\n",
       "      <td>217.0</td>\n",
       "      <td>...</td>\n",
       "      <td>46.0</td>\n",
       "      <td>35.0</td>\n",
       "      <td>78.0</td>\n",
       "      <td>268.0</td>\n",
       "      <td>99.0</td>\n",
       "      <td>230.0</td>\n",
       "      <td>194.0</td>\n",
       "      <td>276.0</td>\n",
       "      <td>246.0</td>\n",
       "      <td>167.583333</td>\n",
       "    </tr>\n",
       "  </tbody>\n",
       "</table>\n",
       "<p>4416 rows × 29 columns</p>\n",
       "</div>"
      ],
      "text/plain": [
       "                     num_orders  hours  dayofweek  weekend  lag_1  lag_2  \\\n",
       "datetime                                                                   \n",
       "2018-03-01 00:00:00         124      0          3    False    NaN    NaN   \n",
       "2018-03-01 01:00:00          85      1          3    False  124.0    NaN   \n",
       "2018-03-01 02:00:00          71      2          3    False   85.0  124.0   \n",
       "2018-03-01 03:00:00          66      3          3    False   71.0   85.0   \n",
       "2018-03-01 04:00:00          43      4          3    False   66.0   71.0   \n",
       "...                         ...    ...        ...      ...    ...    ...   \n",
       "2018-08-31 19:00:00         136     19          4    False  207.0  217.0   \n",
       "2018-08-31 20:00:00         154     20          4    False  136.0  207.0   \n",
       "2018-08-31 21:00:00         159     21          4    False  154.0  136.0   \n",
       "2018-08-31 22:00:00         223     22          4    False  159.0  154.0   \n",
       "2018-08-31 23:00:00         205     23          4    False  223.0  159.0   \n",
       "\n",
       "                     lag_3  lag_4  lag_5  lag_6  ...  lag_16  lag_17  lag_18  \\\n",
       "datetime                                         ...                           \n",
       "2018-03-01 00:00:00    NaN    NaN    NaN    NaN  ...     NaN     NaN     NaN   \n",
       "2018-03-01 01:00:00    NaN    NaN    NaN    NaN  ...     NaN     NaN     NaN   \n",
       "2018-03-01 02:00:00    NaN    NaN    NaN    NaN  ...     NaN     NaN     NaN   \n",
       "2018-03-01 03:00:00  124.0    NaN    NaN    NaN  ...     NaN     NaN     NaN   \n",
       "2018-03-01 04:00:00   85.0  124.0    NaN    NaN  ...     NaN     NaN     NaN   \n",
       "...                    ...    ...    ...    ...  ...     ...     ...     ...   \n",
       "2018-08-31 19:00:00  197.0  116.0  133.0  166.0  ...    99.0   230.0   194.0   \n",
       "2018-08-31 20:00:00  217.0  197.0  116.0  133.0  ...   268.0    99.0   230.0   \n",
       "2018-08-31 21:00:00  207.0  217.0  197.0  116.0  ...    78.0   268.0    99.0   \n",
       "2018-08-31 22:00:00  136.0  207.0  217.0  197.0  ...    35.0    78.0   268.0   \n",
       "2018-08-31 23:00:00  154.0  136.0  207.0  217.0  ...    46.0    35.0    78.0   \n",
       "\n",
       "                     lag_19  lag_20  lag_21  lag_22  lag_23  lag_24  \\\n",
       "datetime                                                              \n",
       "2018-03-01 00:00:00     NaN     NaN     NaN     NaN     NaN     NaN   \n",
       "2018-03-01 01:00:00     NaN     NaN     NaN     NaN     NaN     NaN   \n",
       "2018-03-01 02:00:00     NaN     NaN     NaN     NaN     NaN     NaN   \n",
       "2018-03-01 03:00:00     NaN     NaN     NaN     NaN     NaN     NaN   \n",
       "2018-03-01 04:00:00     NaN     NaN     NaN     NaN     NaN     NaN   \n",
       "...                     ...     ...     ...     ...     ...     ...   \n",
       "2018-08-31 19:00:00   276.0   246.0   158.0   198.0   142.0    72.0   \n",
       "2018-08-31 20:00:00   194.0   276.0   246.0   158.0   198.0   142.0   \n",
       "2018-08-31 21:00:00   230.0   194.0   276.0   246.0   158.0   198.0   \n",
       "2018-08-31 22:00:00    99.0   230.0   194.0   276.0   246.0   158.0   \n",
       "2018-08-31 23:00:00   268.0    99.0   230.0   194.0   276.0   246.0   \n",
       "\n",
       "                     rolling_mean  \n",
       "datetime                           \n",
       "2018-03-01 00:00:00           NaN  \n",
       "2018-03-01 01:00:00           NaN  \n",
       "2018-03-01 02:00:00           NaN  \n",
       "2018-03-01 03:00:00           NaN  \n",
       "2018-03-01 04:00:00           NaN  \n",
       "...                           ...  \n",
       "2018-08-31 19:00:00    163.416667  \n",
       "2018-08-31 20:00:00    170.916667  \n",
       "2018-08-31 21:00:00    168.583333  \n",
       "2018-08-31 22:00:00    164.916667  \n",
       "2018-08-31 23:00:00    167.583333  \n",
       "\n",
       "[4416 rows x 29 columns]"
      ]
     },
     "execution_count": 12,
     "metadata": {},
     "output_type": "execute_result"
    }
   ],
   "source": [
    "make_features(data, 24, 12)"
   ]
  },
  {
   "cell_type": "code",
   "execution_count": 13,
   "metadata": {},
   "outputs": [
    {
     "name": "stdout",
     "output_type": "stream",
     "text": [
      "<class 'pandas.core.frame.DataFrame'>\n",
      "DatetimeIndex: 4416 entries, 2018-03-01 00:00:00 to 2018-08-31 23:00:00\n",
      "Freq: H\n",
      "Data columns (total 29 columns):\n",
      " #   Column        Non-Null Count  Dtype  \n",
      "---  ------        --------------  -----  \n",
      " 0   num_orders    4416 non-null   int64  \n",
      " 1   hours         4416 non-null   int64  \n",
      " 2   dayofweek     4416 non-null   int64  \n",
      " 3   weekend       4416 non-null   bool   \n",
      " 4   lag_1         4415 non-null   float64\n",
      " 5   lag_2         4414 non-null   float64\n",
      " 6   lag_3         4413 non-null   float64\n",
      " 7   lag_4         4412 non-null   float64\n",
      " 8   lag_5         4411 non-null   float64\n",
      " 9   lag_6         4410 non-null   float64\n",
      " 10  lag_7         4409 non-null   float64\n",
      " 11  lag_8         4408 non-null   float64\n",
      " 12  lag_9         4407 non-null   float64\n",
      " 13  lag_10        4406 non-null   float64\n",
      " 14  lag_11        4405 non-null   float64\n",
      " 15  lag_12        4404 non-null   float64\n",
      " 16  lag_13        4403 non-null   float64\n",
      " 17  lag_14        4402 non-null   float64\n",
      " 18  lag_15        4401 non-null   float64\n",
      " 19  lag_16        4400 non-null   float64\n",
      " 20  lag_17        4399 non-null   float64\n",
      " 21  lag_18        4398 non-null   float64\n",
      " 22  lag_19        4397 non-null   float64\n",
      " 23  lag_20        4396 non-null   float64\n",
      " 24  lag_21        4395 non-null   float64\n",
      " 25  lag_22        4394 non-null   float64\n",
      " 26  lag_23        4393 non-null   float64\n",
      " 27  lag_24        4392 non-null   float64\n",
      " 28  rolling_mean  4404 non-null   float64\n",
      "dtypes: bool(1), float64(25), int64(3)\n",
      "memory usage: 1004.8 KB\n"
     ]
    }
   ],
   "source": [
    "data.info()"
   ]
  },
  {
   "cell_type": "markdown",
   "metadata": {},
   "source": [
    "## Обучение"
   ]
  },
  {
   "cell_type": "markdown",
   "metadata": {},
   "source": [
    "Разделим выборки на обучающую и тестовую(10%)"
   ]
  },
  {
   "cell_type": "code",
   "execution_count": 14,
   "metadata": {},
   "outputs": [],
   "source": [
    "train, test = train_test_split(data, shuffle=False, test_size=0.1)\n",
    "train = train.dropna()"
   ]
  },
  {
   "cell_type": "code",
   "execution_count": 15,
   "metadata": {},
   "outputs": [],
   "source": [
    "features_train = train.drop(columns=['num_orders'])\n",
    "target_train = train['num_orders']\n",
    "features_test = test.drop(columns=['num_orders'])\n",
    "target_test = test['num_orders']"
   ]
  },
  {
   "cell_type": "code",
   "execution_count": 16,
   "metadata": {},
   "outputs": [],
   "source": [
    "models_score = pd.DataFrame(columns = ['MODEL', 'RMSE'])"
   ]
  },
  {
   "cell_type": "markdown",
   "metadata": {},
   "source": [
    "Обучим модели LinearRegression и CatBoostRegressor, подберём гиперпараметры и узнаем их RMSE на обучающей выборке"
   ]
  },
  {
   "cell_type": "code",
   "execution_count": 17,
   "metadata": {},
   "outputs": [
    {
     "name": "stdout",
     "output_type": "stream",
     "text": [
      "Средний RMSE по кросс-валидации на тестовых данных: 45.02696947437947\n",
      "Стандартное отклонение RMSE по кросс-валидации на тестовых данных: 5.310622315594794\n"
     ]
    }
   ],
   "source": [
    "model = LinearRegression()\n",
    "\n",
    "# Вычисление кросс-валидационного RMSE на тестовых данных\n",
    "rmse_scores = np.sqrt(-cross_val_score(model, features_test, target_test, scoring='neg_mean_squared_error', cv=5))\n",
    "\n",
    "# Вывод среднего и стандартного отклонения RMSE\n",
    "print('Средний RMSE по кросс-валидации на тестовых данных:', np.mean(rmse_scores))\n",
    "print('Стандартное отклонение RMSE по кросс-валидации на тестовых данных:', np.std(rmse_scores))\n",
    "models_score = models_score.append({'MODEL' : 'LinearRegression',\n",
    "                     'RMSE' : np.mean(rmse_scores)}, ignore_index=True)"
   ]
  },
  {
   "cell_type": "code",
   "execution_count": 18,
   "metadata": {},
   "outputs": [],
   "source": [
    "cat_features = ['hours', 'dayofweek', 'weekend']"
   ]
  },
  {
   "cell_type": "code",
   "execution_count": 19,
   "metadata": {},
   "outputs": [
    {
     "name": "stdout",
     "output_type": "stream",
     "text": [
      "Лучшие гиперпараметры: {'depth': 6, 'iterations': 360, 'learning_rate': 0.1}\n",
      "RMSE модели на тестовой выборке: 40.243857260775094\n",
      "Качество модели по кросс-валидации: -585.302032045473\n",
      "CPU times: user 2min 27s, sys: 49.9 s, total: 3min 17s\n",
      "Wall time: 3min 51s\n"
     ]
    }
   ],
   "source": [
    "%%time\n",
    "# Создание модели CatBoostRegressor\n",
    "model = CatBoostRegressor(verbose=False)\n",
    "\n",
    "# Задание пространства параметров для автоматического поиска\n",
    "param_search = {\n",
    "    'iterations': [100, 230, 360],\n",
    "    'learning_rate': [0.1],\n",
    "    'depth': [3, 6, 9]\n",
    "}\n",
    "\n",
    "# Создание объекта TimeSeriesSplit для кросс-валидации\n",
    "tscv = TimeSeriesSplit(n_splits=5)\n",
    "\n",
    "# Создание объекта GridSearchCV для автоматического поиска гиперпараметров с использованием TimeSeriesSplit\n",
    "grid_search = GridSearchCV(estimator=model, param_grid=param_search, cv=tscv,\n",
    "                           scoring='neg_mean_squared_error', n_jobs=-1)\n",
    "\n",
    "model.get_params().keys()\n",
    "\n",
    "grid_search.fit(features_train, target_train, cat_features=cat_features)\n",
    "\n",
    "# Получение лучших гиперпараметров и соответствующего качества модели по кросс-валидации\n",
    "best_params = grid_search.best_params_\n",
    "best_score = grid_search.best_score_\n",
    "\n",
    "# Обучение модели на тренировочных данных с лучшими гиперпараметрами\n",
    "best_model = grid_search.best_estimator_\n",
    "best_model.fit(features_train, target_train, cat_features=cat_features)\n",
    "\n",
    "# Предсказание на тестовой выборке\n",
    "predictions_test = best_model.predict(features_test)\n",
    "\n",
    "# Вычисление RMSE модели на тестовой выборке\n",
    "rmse_test = np.sqrt(mean_squared_error(target_test, predictions_test))\n",
    "\n",
    "# Вывод результатов\n",
    "print('Лучшие гиперпараметры:', best_params)\n",
    "print('RMSE модели на тестовой выборке:', rmse_test)\n",
    "print('Качество модели по кросс-валидации:', best_score)\n",
    "models_score = models_score.append({'MODEL': 'CatBoostRegressor',\n",
    "                                    'RMSE': rmse_test}, ignore_index=True)"
   ]
  },
  {
   "cell_type": "code",
   "execution_count": 20,
   "metadata": {},
   "outputs": [
    {
     "data": {
      "text/html": [
       "<div>\n",
       "<style scoped>\n",
       "    .dataframe tbody tr th:only-of-type {\n",
       "        vertical-align: middle;\n",
       "    }\n",
       "\n",
       "    .dataframe tbody tr th {\n",
       "        vertical-align: top;\n",
       "    }\n",
       "\n",
       "    .dataframe thead th {\n",
       "        text-align: right;\n",
       "    }\n",
       "</style>\n",
       "<table border=\"1\" class=\"dataframe\">\n",
       "  <thead>\n",
       "    <tr style=\"text-align: right;\">\n",
       "      <th></th>\n",
       "      <th>MODEL</th>\n",
       "      <th>RMSE</th>\n",
       "    </tr>\n",
       "  </thead>\n",
       "  <tbody>\n",
       "    <tr>\n",
       "      <th>0</th>\n",
       "      <td>LinearRegression</td>\n",
       "      <td>45.026969</td>\n",
       "    </tr>\n",
       "    <tr>\n",
       "      <th>1</th>\n",
       "      <td>CatBoostRegressor</td>\n",
       "      <td>40.243857</td>\n",
       "    </tr>\n",
       "  </tbody>\n",
       "</table>\n",
       "</div>"
      ],
      "text/plain": [
       "               MODEL       RMSE\n",
       "0   LinearRegression  45.026969\n",
       "1  CatBoostRegressor  40.243857"
      ]
     },
     "execution_count": 20,
     "metadata": {},
     "output_type": "execute_result"
    }
   ],
   "source": [
    "models_score"
   ]
  },
  {
   "cell_type": "markdown",
   "metadata": {},
   "source": [
    "Как видим, модель CatBoostRegressor справляется с задачей лучше "
   ]
  },
  {
   "cell_type": "markdown",
   "metadata": {},
   "source": [
    "## Тестирование"
   ]
  },
  {
   "cell_type": "markdown",
   "metadata": {},
   "source": [
    "Протестируем модели и узнаем их RMSE на тестовой выборке"
   ]
  },
  {
   "cell_type": "code",
   "execution_count": 21,
   "metadata": {},
   "outputs": [],
   "source": [
    "models_score_test = pd.DataFrame(columns = ['MODEL', 'RMSE'])"
   ]
  },
  {
   "cell_type": "code",
   "execution_count": 22,
   "metadata": {},
   "outputs": [
    {
     "name": "stdout",
     "output_type": "stream",
     "text": [
      "RMSE: 45.121377318787076\n"
     ]
    }
   ],
   "source": [
    "model = LinearRegression()\n",
    "model.fit(features_train, target_train)\n",
    "predictions = model.predict(features_test)\n",
    "print('RMSE:', np.sqrt(mean_squared_error(target_test, predictions)))\n",
    "models_score_test = models_score_test.append({'MODEL' : 'LinearRegression',\n",
    "                     'RMSE' : np.sqrt(mean_squared_error(target_test, predictions))}, \n",
    "                                   ignore_index=True)"
   ]
  },
  {
   "cell_type": "code",
   "execution_count": 23,
   "metadata": {},
   "outputs": [
    {
     "name": "stdout",
     "output_type": "stream",
     "text": [
      "0:\tlearn: 37.0521238\ttotal: 11.7ms\tremaining: 4.19s\n",
      "90:\tlearn: 20.0237011\ttotal: 710ms\tremaining: 2.1s\n",
      "180:\tlearn: 17.5694772\ttotal: 1.52s\tremaining: 1.5s\n",
      "270:\tlearn: 15.7944794\ttotal: 2.38s\tremaining: 781ms\n",
      "359:\tlearn: 14.2617014\ttotal: 3.25s\tremaining: 0us\n",
      "RMSE модели на тестовом наборе: 40.243857260775094\n",
      "CPU times: user 3.3 s, sys: 134 ms, total: 3.43 s\n",
      "Wall time: 4.27 s\n"
     ]
    }
   ],
   "source": [
    "%%time\n",
    "# Создание модели CatBoostRegressor\n",
    "model = CatBoostRegressor(learning_rate=0.1, iterations=360, depth=6, verbose=90)\n",
    "\n",
    "model.fit(features_train, target_train, cat_features=cat_features)\n",
    "\n",
    "# Предсказание на тестовом наборе\n",
    "predictions = model.predict(features_test)\n",
    "\n",
    "# Вычисление RMSE модели на тестовом наборе\n",
    "rmse_test = np.sqrt(mean_squared_error(target_test, predictions))\n",
    "\n",
    "# Вывод результатов\n",
    "print('RMSE модели на тестовом наборе:', rmse_test)\n",
    "models_score_test = models_score_test.append({'MODEL' : 'CatBoostRegressor',\n",
    "                     'RMSE' : np.sqrt(mean_squared_error(target_test, predictions))}, \n",
    "                                   ignore_index=True)"
   ]
  },
  {
   "cell_type": "code",
   "execution_count": 24,
   "metadata": {},
   "outputs": [
    {
     "data": {
      "text/html": [
       "<div>\n",
       "<style scoped>\n",
       "    .dataframe tbody tr th:only-of-type {\n",
       "        vertical-align: middle;\n",
       "    }\n",
       "\n",
       "    .dataframe tbody tr th {\n",
       "        vertical-align: top;\n",
       "    }\n",
       "\n",
       "    .dataframe thead th {\n",
       "        text-align: right;\n",
       "    }\n",
       "</style>\n",
       "<table border=\"1\" class=\"dataframe\">\n",
       "  <thead>\n",
       "    <tr style=\"text-align: right;\">\n",
       "      <th></th>\n",
       "      <th>MODEL</th>\n",
       "      <th>RMSE</th>\n",
       "    </tr>\n",
       "  </thead>\n",
       "  <tbody>\n",
       "    <tr>\n",
       "      <th>0</th>\n",
       "      <td>LinearRegression</td>\n",
       "      <td>45.121377</td>\n",
       "    </tr>\n",
       "    <tr>\n",
       "      <th>1</th>\n",
       "      <td>CatBoostRegressor</td>\n",
       "      <td>40.243857</td>\n",
       "    </tr>\n",
       "  </tbody>\n",
       "</table>\n",
       "</div>"
      ],
      "text/plain": [
       "               MODEL       RMSE\n",
       "0   LinearRegression  45.121377\n",
       "1  CatBoostRegressor  40.243857"
      ]
     },
     "execution_count": 24,
     "metadata": {},
     "output_type": "execute_result"
    }
   ],
   "source": [
    "models_score_test"
   ]
  },
  {
   "cell_type": "code",
   "execution_count": 25,
   "metadata": {},
   "outputs": [
    {
     "name": "stdout",
     "output_type": "stream",
     "text": [
      "RMSE базовой модели: 58.856486242815066\n",
      "Модель CatBoostRegressor прошла проверку на адекватность 🙌\n"
     ]
    }
   ],
   "source": [
    "# Создание базовой модели\n",
    "baseline_predictions = target_test.shift()\n",
    "baseline_predictions.iloc[0] = target_train.iloc[-1]\n",
    "\n",
    "# Вычисление RMSE базовой модели\n",
    "baseline_rmse = np.sqrt(mean_squared_error(target_test, baseline_predictions))\n",
    "\n",
    "# Вывод результатов\n",
    "print('RMSE базовой модели:', baseline_rmse)\n",
    "\n",
    "# Сравнение с моделью CatBoostRegressor\n",
    "if rmse_test < baseline_rmse:\n",
    "    print('Модель CatBoostRegressor прошла проверку на адекватность 🙌')\n",
    "else:\n",
    "    print('Модель CatBoostRegressor не прошла проверку на адекватность!')\n"
   ]
  },
  {
   "cell_type": "markdown",
   "metadata": {},
   "source": [
    "Делаем вывод, что оптимальной моделью для данной задачи является CatBoostRegressor"
   ]
  },
  {
   "cell_type": "markdown",
   "metadata": {},
   "source": [
    "Сравним целевые значения с предсказанными моделью CatBoostRegressor"
   ]
  },
  {
   "cell_type": "code",
   "execution_count": 26,
   "metadata": {},
   "outputs": [
    {
     "data": {
      "image/png": "[encoded data removed]",
      "text/plain": [
       "<Figure size 1152x576 with 1 Axes>"
      ]
     },
     "metadata": {
      "needs_background": "light"
     },
     "output_type": "display_data"
    }
   ],
   "source": [
    "plt.figure(figsize=(16, 8))\n",
    "\n",
    "plt.plot(target_test, label='target_test')\n",
    "plt.plot(target_test.index, predictions_test, label='predict_test')\n",
    "\n",
    "plt.title('Сравнение целевых значений с предсказанными')\n",
    "plt.legend()\n",
    "plt.show()"
   ]
  },
  {
   "cell_type": "markdown",
   "metadata": {},
   "source": [
    "По графику наблюдаем следующее: модель ошибается чаще на высоких значениях, нежели низких и средних"
   ]
  },
  {
   "cell_type": "markdown",
   "metadata": {},
   "source": [
    "# Вывод:\n",
    "Значение метрики RMSE модели CatBoostRegressor на тестовой выборке  составляет 40, что являтеся подходящим для данной задачи. "
   ]
  },
  {
   "cell_type": "markdown",
   "metadata": {},
   "source": [
    "## Чек-лист проверки"
   ]
  },
  {
   "cell_type": "markdown",
   "metadata": {},
   "source": [
    "- [x]  Jupyter Notebook открыт\n",
    "- [x]  Весь код выполняется без ошибок\n",
    "- [x]  Ячейки с кодом расположены в порядке исполнения\n",
    "- [x]  Данные загружены и подготовлены\n",
    "- [x]  Данные проанализированы\n",
    "- [x]  Модель обучена, гиперпараметры подобраны\n",
    "- [x]  Качество моделей проверено, выводы сделаны\n",
    "- [x]  Значение *RMSE* на тестовой выборке не больше 48"
   ]
  }
 ],
 "metadata": {
  "ExecuteTimeLog": [
   {
    "duration": 1730,
    "start_time": "2023-05-31T06:00:49.541Z"
   },
   {
    "duration": 153,
    "start_time": "2023-05-31T06:01:20.045Z"
   },
   {
    "duration": 18,
    "start_time": "2023-05-31T06:01:22.466Z"
   },
   {
    "duration": 116,
    "start_time": "2023-05-31T06:09:56.092Z"
   },
   {
    "duration": 4,
    "start_time": "2023-05-31T06:10:36.440Z"
   },
   {
    "duration": 14,
    "start_time": "2023-05-31T06:11:05.409Z"
   },
   {
    "duration": 13,
    "start_time": "2023-05-31T06:11:12.440Z"
   },
   {
    "duration": 49,
    "start_time": "2023-05-31T06:13:31.582Z"
   },
   {
    "duration": 9,
    "start_time": "2023-05-31T06:13:32.415Z"
   },
   {
    "duration": 11,
    "start_time": "2023-05-31T06:13:35.686Z"
   },
   {
    "duration": 5,
    "start_time": "2023-05-31T06:13:37.776Z"
   },
   {
    "duration": 4,
    "start_time": "2023-05-31T06:13:38.539Z"
   },
   {
    "duration": 14,
    "start_time": "2023-05-31T06:13:50.672Z"
   },
   {
    "duration": 8,
    "start_time": "2023-05-31T06:13:57.276Z"
   },
   {
    "duration": 6,
    "start_time": "2023-05-31T06:14:06.605Z"
   },
   {
    "duration": 9,
    "start_time": "2023-05-31T06:14:09.172Z"
   },
   {
    "duration": 3,
    "start_time": "2023-05-31T06:15:20.793Z"
   },
   {
    "duration": 8,
    "start_time": "2023-05-31T06:16:29.591Z"
   },
   {
    "duration": 7,
    "start_time": "2023-05-31T06:16:41.441Z"
   },
   {
    "duration": 335,
    "start_time": "2023-05-31T06:17:20.642Z"
   },
   {
    "duration": 1146,
    "start_time": "2023-05-31T06:17:41.243Z"
   },
   {
    "duration": 1477,
    "start_time": "2023-05-31T17:17:48.748Z"
   },
   {
    "duration": 179,
    "start_time": "2023-05-31T17:17:50.227Z"
   },
   {
    "duration": 14,
    "start_time": "2023-05-31T17:17:50.407Z"
   },
   {
    "duration": 14,
    "start_time": "2023-05-31T17:17:50.423Z"
   },
   {
    "duration": 4,
    "start_time": "2023-05-31T17:17:50.440Z"
   },
   {
    "duration": 15,
    "start_time": "2023-05-31T17:17:50.446Z"
   },
   {
    "duration": 10,
    "start_time": "2023-05-31T17:17:50.463Z"
   },
   {
    "duration": 29,
    "start_time": "2023-05-31T17:17:50.475Z"
   },
   {
    "duration": 1046,
    "start_time": "2023-05-31T17:17:50.506Z"
   },
   {
    "duration": 1334,
    "start_time": "2023-06-01T04:04:48.396Z"
   },
   {
    "duration": 169,
    "start_time": "2023-06-01T04:04:49.732Z"
   },
   {
    "duration": 12,
    "start_time": "2023-06-01T04:04:49.902Z"
   },
   {
    "duration": 30,
    "start_time": "2023-06-01T04:04:49.916Z"
   },
   {
    "duration": 21,
    "start_time": "2023-06-01T04:04:49.948Z"
   },
   {
    "duration": 28,
    "start_time": "2023-06-01T04:04:49.970Z"
   },
   {
    "duration": 40,
    "start_time": "2023-06-01T04:04:50.000Z"
   },
   {
    "duration": 18,
    "start_time": "2023-06-01T04:04:50.042Z"
   },
   {
    "duration": 1079,
    "start_time": "2023-06-01T04:04:50.062Z"
   },
   {
    "duration": 44,
    "start_time": "2023-06-01T04:12:55.660Z"
   },
   {
    "duration": 52,
    "start_time": "2023-06-01T04:13:13.773Z"
   },
   {
    "duration": 67,
    "start_time": "2023-06-01T04:13:23.012Z"
   },
   {
    "duration": 59,
    "start_time": "2023-06-01T04:14:15.451Z"
   },
   {
    "duration": 3,
    "start_time": "2023-06-01T04:14:30.295Z"
   },
   {
    "duration": 961,
    "start_time": "2023-06-01T04:15:50.264Z"
   },
   {
    "duration": 1062,
    "start_time": "2023-06-01T04:16:00.845Z"
   },
   {
    "duration": 1055,
    "start_time": "2023-06-01T04:16:09.611Z"
   },
   {
    "duration": 180,
    "start_time": "2023-06-01T04:16:29.382Z"
   },
   {
    "duration": 160,
    "start_time": "2023-06-01T04:16:34.817Z"
   },
   {
    "duration": 150,
    "start_time": "2023-06-01T04:16:45.515Z"
   },
   {
    "duration": 143,
    "start_time": "2023-06-01T04:16:54.028Z"
   },
   {
    "duration": 944,
    "start_time": "2023-06-01T04:17:07.853Z"
   },
   {
    "duration": 11,
    "start_time": "2023-06-01T04:18:00.084Z"
   },
   {
    "duration": 4,
    "start_time": "2023-06-01T04:18:05.593Z"
   },
   {
    "duration": 9,
    "start_time": "2023-06-01T04:18:07.463Z"
   },
   {
    "duration": 4,
    "start_time": "2023-06-01T04:18:12.795Z"
   },
   {
    "duration": 9,
    "start_time": "2023-06-01T04:18:13.207Z"
   },
   {
    "duration": 98,
    "start_time": "2023-06-01T04:18:47.609Z"
   },
   {
    "duration": 49,
    "start_time": "2023-06-01T04:18:51.374Z"
   },
   {
    "duration": 9,
    "start_time": "2023-06-01T04:20:16.222Z"
   },
   {
    "duration": 1156,
    "start_time": "2023-06-01T04:23:45.702Z"
   },
   {
    "duration": 46,
    "start_time": "2023-06-01T04:23:46.859Z"
   },
   {
    "duration": 11,
    "start_time": "2023-06-01T04:23:46.907Z"
   },
   {
    "duration": 9,
    "start_time": "2023-06-01T04:23:46.920Z"
   },
   {
    "duration": 5,
    "start_time": "2023-06-01T04:23:46.930Z"
   },
   {
    "duration": 8,
    "start_time": "2023-06-01T04:23:46.937Z"
   },
   {
    "duration": 8,
    "start_time": "2023-06-01T04:23:46.947Z"
   },
   {
    "duration": 7,
    "start_time": "2023-06-01T04:23:46.957Z"
   },
   {
    "duration": 7,
    "start_time": "2023-06-01T04:23:46.966Z"
   },
   {
    "duration": 959,
    "start_time": "2023-06-01T04:23:46.975Z"
   },
   {
    "duration": 4,
    "start_time": "2023-06-01T04:23:47.936Z"
   },
   {
    "duration": 54,
    "start_time": "2023-06-01T04:23:47.941Z"
   },
   {
    "duration": 29,
    "start_time": "2023-06-01T04:23:47.996Z"
   },
   {
    "duration": 385,
    "start_time": "2023-06-01T04:31:35.608Z"
   },
   {
    "duration": 9,
    "start_time": "2023-06-01T04:31:38.356Z"
   },
   {
    "duration": 11,
    "start_time": "2023-06-01T04:31:44.640Z"
   },
   {
    "duration": 17,
    "start_time": "2023-06-01T04:32:07.374Z"
   },
   {
    "duration": 4,
    "start_time": "2023-06-01T04:32:09.799Z"
   },
   {
    "duration": 13,
    "start_time": "2023-06-01T04:34:30.834Z"
   },
   {
    "duration": 9,
    "start_time": "2023-06-01T04:34:39.472Z"
   },
   {
    "duration": 5,
    "start_time": "2023-06-01T04:34:40.072Z"
   },
   {
    "duration": 29,
    "start_time": "2023-06-01T04:34:40.607Z"
   },
   {
    "duration": 6,
    "start_time": "2023-06-01T04:36:52.858Z"
   },
   {
    "duration": 35,
    "start_time": "2023-06-01T04:38:22.541Z"
   },
   {
    "duration": 206,
    "start_time": "2023-06-01T04:38:28.627Z"
   },
   {
    "duration": 4,
    "start_time": "2023-06-01T04:38:55.928Z"
   },
   {
    "duration": 184,
    "start_time": "2023-06-01T04:39:01.846Z"
   },
   {
    "duration": 224,
    "start_time": "2023-06-01T04:39:14.402Z"
   },
   {
    "duration": 218,
    "start_time": "2023-06-01T04:39:28.310Z"
   },
   {
    "duration": 170,
    "start_time": "2023-06-01T04:40:04.764Z"
   },
   {
    "duration": 3,
    "start_time": "2023-06-01T04:41:44.425Z"
   },
   {
    "duration": 19,
    "start_time": "2023-06-01T05:52:29.616Z"
   },
   {
    "duration": 5,
    "start_time": "2023-06-01T05:53:01.462Z"
   },
   {
    "duration": 8905,
    "start_time": "2023-06-01T05:53:04.541Z"
   },
   {
    "duration": 49581,
    "start_time": "2023-06-01T05:53:23.077Z"
   },
   {
    "duration": 54931,
    "start_time": "2023-06-01T06:00:05.516Z"
   },
   {
    "duration": 169,
    "start_time": "2023-06-01T06:01:16.274Z"
   },
   {
    "duration": 2,
    "start_time": "2023-06-01T06:01:17.873Z"
   },
   {
    "duration": 43723,
    "start_time": "2023-06-01T06:01:18.099Z"
   },
   {
    "duration": 100583,
    "start_time": "2023-06-01T06:02:24.248Z"
   },
   {
    "duration": 379295,
    "start_time": "2023-06-01T06:10:11.388Z"
   },
   {
    "duration": 158408,
    "start_time": "2023-06-01T06:19:25.011Z"
   },
   {
    "duration": 1465,
    "start_time": "2023-06-01T06:24:23.354Z"
   },
   {
    "duration": 61,
    "start_time": "2023-06-01T06:24:24.834Z"
   },
   {
    "duration": 17,
    "start_time": "2023-06-01T06:24:24.896Z"
   },
   {
    "duration": 33,
    "start_time": "2023-06-01T06:24:24.916Z"
   },
   {
    "duration": 7,
    "start_time": "2023-06-01T06:24:24.951Z"
   },
   {
    "duration": 7,
    "start_time": "2023-06-01T06:24:24.959Z"
   },
   {
    "duration": 12,
    "start_time": "2023-06-01T06:24:24.967Z"
   },
   {
    "duration": 8,
    "start_time": "2023-06-01T06:24:24.981Z"
   },
   {
    "duration": 15,
    "start_time": "2023-06-01T06:24:24.991Z"
   },
   {
    "duration": 1198,
    "start_time": "2023-06-01T06:24:25.009Z"
   },
   {
    "duration": 5,
    "start_time": "2023-06-01T06:24:26.210Z"
   },
   {
    "duration": 89,
    "start_time": "2023-06-01T06:24:26.218Z"
   },
   {
    "duration": 32,
    "start_time": "2023-06-01T06:24:26.308Z"
   },
   {
    "duration": 16,
    "start_time": "2023-06-01T06:24:26.342Z"
   },
   {
    "duration": 8,
    "start_time": "2023-06-01T06:24:26.360Z"
   },
   {
    "duration": 32,
    "start_time": "2023-06-01T06:24:26.370Z"
   },
   {
    "duration": 22,
    "start_time": "2023-06-01T06:24:26.404Z"
   },
   {
    "duration": 103,
    "start_time": "2023-06-01T06:24:26.429Z"
   },
   {
    "duration": 3,
    "start_time": "2023-06-01T06:24:26.537Z"
   },
   {
    "duration": 1524,
    "start_time": "2023-06-01T06:25:44.753Z"
   },
   {
    "duration": 46,
    "start_time": "2023-06-01T06:25:46.279Z"
   },
   {
    "duration": 17,
    "start_time": "2023-06-01T06:25:46.327Z"
   },
   {
    "duration": 16,
    "start_time": "2023-06-01T06:25:46.346Z"
   },
   {
    "duration": 5,
    "start_time": "2023-06-01T06:25:46.364Z"
   },
   {
    "duration": 19,
    "start_time": "2023-06-01T06:25:46.370Z"
   },
   {
    "duration": 19,
    "start_time": "2023-06-01T06:25:46.390Z"
   },
   {
    "duration": 9,
    "start_time": "2023-06-01T06:25:46.410Z"
   },
   {
    "duration": 14,
    "start_time": "2023-06-01T06:25:46.420Z"
   },
   {
    "duration": 1170,
    "start_time": "2023-06-01T06:25:46.437Z"
   },
   {
    "duration": 4,
    "start_time": "2023-06-01T06:25:47.608Z"
   },
   {
    "duration": 62,
    "start_time": "2023-06-01T06:25:47.614Z"
   },
   {
    "duration": 16,
    "start_time": "2023-06-01T06:25:47.678Z"
   },
   {
    "duration": 11,
    "start_time": "2023-06-01T06:25:47.695Z"
   },
   {
    "duration": 20,
    "start_time": "2023-06-01T06:25:47.708Z"
   },
   {
    "duration": 45,
    "start_time": "2023-06-01T06:25:47.730Z"
   },
   {
    "duration": 5,
    "start_time": "2023-06-01T06:25:47.776Z"
   },
   {
    "duration": 62,
    "start_time": "2023-06-01T06:25:47.782Z"
   },
   {
    "duration": 3,
    "start_time": "2023-06-01T06:25:47.846Z"
   },
   {
    "duration": 136974,
    "start_time": "2023-06-01T06:25:47.851Z"
   },
   {
    "duration": 144550,
    "start_time": "2023-06-01T06:29:03.482Z"
   },
   {
    "duration": 251113,
    "start_time": "2023-06-01T06:32:14.136Z"
   },
   {
    "duration": 1407,
    "start_time": "2023-06-01T06:37:07.387Z"
   },
   {
    "duration": 56,
    "start_time": "2023-06-01T06:37:08.797Z"
   },
   {
    "duration": 16,
    "start_time": "2023-06-01T06:37:08.855Z"
   },
   {
    "duration": 11,
    "start_time": "2023-06-01T06:37:08.873Z"
   },
   {
    "duration": 6,
    "start_time": "2023-06-01T06:37:08.886Z"
   },
   {
    "duration": 31,
    "start_time": "2023-06-01T06:37:08.895Z"
   },
   {
    "duration": 22,
    "start_time": "2023-06-01T06:37:08.928Z"
   },
   {
    "duration": 21,
    "start_time": "2023-06-01T06:37:08.952Z"
   },
   {
    "duration": 9,
    "start_time": "2023-06-01T06:37:08.974Z"
   },
   {
    "duration": 1133,
    "start_time": "2023-06-01T06:37:08.985Z"
   },
   {
    "duration": 4,
    "start_time": "2023-06-01T06:37:10.120Z"
   },
   {
    "duration": 72,
    "start_time": "2023-06-01T06:37:10.125Z"
   },
   {
    "duration": 20,
    "start_time": "2023-06-01T06:37:10.198Z"
   },
   {
    "duration": 42,
    "start_time": "2023-06-01T06:37:10.220Z"
   },
   {
    "duration": 79,
    "start_time": "2023-06-01T06:37:10.263Z"
   },
   {
    "duration": 195,
    "start_time": "2023-06-01T06:37:10.343Z"
   },
   {
    "duration": 0,
    "start_time": "2023-06-01T06:37:10.540Z"
   },
   {
    "duration": 0,
    "start_time": "2023-06-01T06:37:10.541Z"
   },
   {
    "duration": 0,
    "start_time": "2023-06-01T06:37:10.542Z"
   },
   {
    "duration": 0,
    "start_time": "2023-06-01T06:37:10.543Z"
   },
   {
    "duration": 27,
    "start_time": "2023-06-01T06:49:15.690Z"
   },
   {
    "duration": 5,
    "start_time": "2023-06-01T06:49:17.477Z"
   },
   {
    "duration": 147,
    "start_time": "2023-06-01T06:49:17.780Z"
   },
   {
    "duration": 3,
    "start_time": "2023-06-01T06:49:17.934Z"
   },
   {
    "duration": 256303,
    "start_time": "2023-06-01T06:49:18.351Z"
   },
   {
    "duration": 1861,
    "start_time": "2023-06-01T18:24:02.703Z"
   },
   {
    "duration": 121,
    "start_time": "2023-06-01T18:24:04.566Z"
   },
   {
    "duration": 13,
    "start_time": "2023-06-01T18:24:04.688Z"
   },
   {
    "duration": 24,
    "start_time": "2023-06-01T18:24:04.703Z"
   },
   {
    "duration": 8,
    "start_time": "2023-06-01T18:24:04.730Z"
   },
   {
    "duration": 13,
    "start_time": "2023-06-01T18:24:04.740Z"
   },
   {
    "duration": 19,
    "start_time": "2023-06-01T18:24:04.755Z"
   },
   {
    "duration": 29,
    "start_time": "2023-06-01T18:24:04.776Z"
   },
   {
    "duration": 12,
    "start_time": "2023-06-01T18:24:04.807Z"
   },
   {
    "duration": 1216,
    "start_time": "2023-06-01T18:24:04.821Z"
   },
   {
    "duration": 6,
    "start_time": "2023-06-01T18:24:06.038Z"
   },
   {
    "duration": 65,
    "start_time": "2023-06-01T18:24:06.045Z"
   },
   {
    "duration": 24,
    "start_time": "2023-06-01T18:24:06.112Z"
   },
   {
    "duration": 26,
    "start_time": "2023-06-01T18:24:06.140Z"
   },
   {
    "duration": 22,
    "start_time": "2023-06-01T18:24:06.168Z"
   },
   {
    "duration": 32,
    "start_time": "2023-06-01T18:24:06.192Z"
   },
   {
    "duration": 5,
    "start_time": "2023-06-01T18:24:06.225Z"
   },
   {
    "duration": 216,
    "start_time": "2023-06-01T18:24:06.232Z"
   },
   {
    "duration": 3,
    "start_time": "2023-06-01T18:24:06.450Z"
   },
   {
    "duration": 260569,
    "start_time": "2023-06-01T18:24:06.455Z"
   },
   {
    "duration": 146847,
    "start_time": "2023-06-01T18:34:37.969Z"
   },
   {
    "duration": 234,
    "start_time": "2023-06-01T18:41:49.846Z"
   },
   {
    "duration": 52,
    "start_time": "2023-06-01T18:42:07.280Z"
   },
   {
    "duration": 97,
    "start_time": "2023-06-01T18:42:11.001Z"
   },
   {
    "duration": 91,
    "start_time": "2023-06-01T18:42:23.245Z"
   },
   {
    "duration": 91,
    "start_time": "2023-06-01T18:42:30.517Z"
   },
   {
    "duration": 105,
    "start_time": "2023-06-01T18:42:35.884Z"
   },
   {
    "duration": 82,
    "start_time": "2023-06-01T18:42:43.882Z"
   },
   {
    "duration": 3202,
    "start_time": "2023-06-01T18:42:49.742Z"
   },
   {
    "duration": 3039,
    "start_time": "2023-06-01T18:43:16.201Z"
   },
   {
    "duration": 9,
    "start_time": "2023-06-01T18:43:32.573Z"
   },
   {
    "duration": 1528,
    "start_time": "2023-06-01T18:44:02.447Z"
   },
   {
    "duration": 50,
    "start_time": "2023-06-01T18:44:03.978Z"
   },
   {
    "duration": 18,
    "start_time": "2023-06-01T18:44:04.031Z"
   },
   {
    "duration": 29,
    "start_time": "2023-06-01T18:44:04.052Z"
   },
   {
    "duration": 11,
    "start_time": "2023-06-01T18:44:04.085Z"
   },
   {
    "duration": 18,
    "start_time": "2023-06-01T18:44:04.098Z"
   },
   {
    "duration": 43,
    "start_time": "2023-06-01T18:44:04.119Z"
   },
   {
    "duration": 57,
    "start_time": "2023-06-01T18:44:04.164Z"
   },
   {
    "duration": 17,
    "start_time": "2023-06-01T18:44:04.223Z"
   },
   {
    "duration": 1155,
    "start_time": "2023-06-01T18:44:04.242Z"
   },
   {
    "duration": 6,
    "start_time": "2023-06-01T18:44:05.399Z"
   },
   {
    "duration": 70,
    "start_time": "2023-06-01T18:44:05.407Z"
   },
   {
    "duration": 16,
    "start_time": "2023-06-01T18:44:05.479Z"
   },
   {
    "duration": 10,
    "start_time": "2023-06-01T18:44:05.498Z"
   },
   {
    "duration": 28,
    "start_time": "2023-06-01T18:44:05.510Z"
   },
   {
    "duration": 40,
    "start_time": "2023-06-01T18:44:05.540Z"
   },
   {
    "duration": 5,
    "start_time": "2023-06-01T18:44:05.581Z"
   },
   {
    "duration": 160,
    "start_time": "2023-06-01T18:44:05.588Z"
   },
   {
    "duration": 4,
    "start_time": "2023-06-01T18:44:05.750Z"
   },
   {
    "duration": 144526,
    "start_time": "2023-06-01T18:44:05.756Z"
   },
   {
    "duration": 8,
    "start_time": "2023-06-01T18:46:30.283Z"
   },
   {
    "duration": 2706,
    "start_time": "2023-06-01T18:46:30.292Z"
   },
   {
    "duration": 87,
    "start_time": "2023-06-01T18:48:03.257Z"
   },
   {
    "duration": 115,
    "start_time": "2023-06-01T18:49:36.780Z"
   },
   {
    "duration": 1595,
    "start_time": "2023-06-01T18:50:56.355Z"
   },
   {
    "duration": 50,
    "start_time": "2023-06-01T18:50:57.952Z"
   },
   {
    "duration": 17,
    "start_time": "2023-06-01T18:50:58.004Z"
   },
   {
    "duration": 19,
    "start_time": "2023-06-01T18:50:58.024Z"
   },
   {
    "duration": 12,
    "start_time": "2023-06-01T18:50:58.047Z"
   },
   {
    "duration": 9,
    "start_time": "2023-06-01T18:50:58.061Z"
   },
   {
    "duration": 20,
    "start_time": "2023-06-01T18:50:58.072Z"
   },
   {
    "duration": 16,
    "start_time": "2023-06-01T18:50:58.094Z"
   },
   {
    "duration": 30,
    "start_time": "2023-06-01T18:50:58.112Z"
   },
   {
    "duration": 1312,
    "start_time": "2023-06-01T18:50:58.145Z"
   },
   {
    "duration": 9,
    "start_time": "2023-06-01T18:50:59.460Z"
   },
   {
    "duration": 87,
    "start_time": "2023-06-01T18:50:59.476Z"
   },
   {
    "duration": 23,
    "start_time": "2023-06-01T18:50:59.565Z"
   },
   {
    "duration": 11,
    "start_time": "2023-06-01T18:50:59.592Z"
   },
   {
    "duration": 9,
    "start_time": "2023-06-01T18:50:59.605Z"
   },
   {
    "duration": 55,
    "start_time": "2023-06-01T18:50:59.616Z"
   },
   {
    "duration": 7,
    "start_time": "2023-06-01T18:50:59.673Z"
   },
   {
    "duration": 360,
    "start_time": "2023-06-01T18:50:59.683Z"
   },
   {
    "duration": 16,
    "start_time": "2023-06-01T18:51:00.046Z"
   },
   {
    "duration": 160681,
    "start_time": "2023-06-01T18:51:00.064Z"
   },
   {
    "duration": 9,
    "start_time": "2023-06-01T18:53:40.748Z"
   },
   {
    "duration": 705,
    "start_time": "2023-06-01T18:53:40.759Z"
   },
   {
    "duration": 0,
    "start_time": "2023-06-01T18:53:41.466Z"
   },
   {
    "duration": 7,
    "start_time": "2023-06-01T18:54:28.361Z"
   },
   {
    "duration": 152,
    "start_time": "2023-06-01T18:54:28.898Z"
   },
   {
    "duration": 4443,
    "start_time": "2023-06-01T18:54:29.455Z"
   },
   {
    "duration": 9,
    "start_time": "2023-06-01T18:54:41.202Z"
   },
   {
    "duration": 2020,
    "start_time": "2023-06-02T13:02:55.904Z"
   },
   {
    "duration": 192,
    "start_time": "2023-06-02T13:02:57.927Z"
   },
   {
    "duration": 19,
    "start_time": "2023-06-02T13:02:58.122Z"
   },
   {
    "duration": 33,
    "start_time": "2023-06-02T13:02:58.144Z"
   },
   {
    "duration": 15,
    "start_time": "2023-06-02T13:02:58.179Z"
   },
   {
    "duration": 5,
    "start_time": "2023-06-02T13:02:58.196Z"
   },
   {
    "duration": 15,
    "start_time": "2023-06-02T13:02:58.203Z"
   },
   {
    "duration": 26,
    "start_time": "2023-06-02T13:02:58.220Z"
   },
   {
    "duration": 14,
    "start_time": "2023-06-02T13:02:58.248Z"
   },
   {
    "duration": 1299,
    "start_time": "2023-06-02T13:02:58.265Z"
   },
   {
    "duration": 6,
    "start_time": "2023-06-02T13:02:59.567Z"
   },
   {
    "duration": 62,
    "start_time": "2023-06-02T13:02:59.575Z"
   },
   {
    "duration": 39,
    "start_time": "2023-06-02T13:02:59.639Z"
   },
   {
    "duration": 11,
    "start_time": "2023-06-02T13:02:59.680Z"
   },
   {
    "duration": 7,
    "start_time": "2023-06-02T13:02:59.693Z"
   },
   {
    "duration": 55,
    "start_time": "2023-06-02T13:02:59.702Z"
   },
   {
    "duration": 6,
    "start_time": "2023-06-02T13:02:59.760Z"
   },
   {
    "duration": 317,
    "start_time": "2023-06-02T13:02:59.769Z"
   },
   {
    "duration": 30,
    "start_time": "2023-06-02T13:03:00.147Z"
   },
   {
    "duration": 173120,
    "start_time": "2023-06-02T13:03:00.180Z"
   },
   {
    "duration": 7,
    "start_time": "2023-06-02T13:05:53.302Z"
   },
   {
    "duration": 9,
    "start_time": "2023-06-02T13:05:53.311Z"
   },
   {
    "duration": 444,
    "start_time": "2023-06-02T13:05:53.321Z"
   },
   {
    "duration": 0,
    "start_time": "2023-06-02T13:05:53.767Z"
   },
   {
    "duration": 0,
    "start_time": "2023-06-02T13:05:53.769Z"
   },
   {
    "duration": 231,
    "start_time": "2023-06-02T13:06:45.559Z"
   },
   {
    "duration": 3283,
    "start_time": "2023-06-02T13:06:48.060Z"
   },
   {
    "duration": 10,
    "start_time": "2023-06-02T13:07:23.190Z"
   },
   {
    "duration": 325,
    "start_time": "2023-06-02T13:08:07.366Z"
   },
   {
    "duration": 336,
    "start_time": "2023-06-02T13:08:12.281Z"
   },
   {
    "duration": 247,
    "start_time": "2023-06-02T13:08:19.704Z"
   },
   {
    "duration": 278,
    "start_time": "2023-06-02T13:08:24.603Z"
   },
   {
    "duration": 280,
    "start_time": "2023-06-02T13:08:28.772Z"
   },
   {
    "duration": 1938,
    "start_time": "2023-06-02T13:18:13.667Z"
   },
   {
    "duration": 1855,
    "start_time": "2023-06-02T13:18:46.968Z"
   },
   {
    "duration": 167,
    "start_time": "2023-06-02T13:18:56.068Z"
   },
   {
    "duration": 171,
    "start_time": "2023-06-02T13:19:09.753Z"
   },
   {
    "duration": 18,
    "start_time": "2023-06-02T13:19:14.595Z"
   },
   {
    "duration": 1693,
    "start_time": "2023-06-02T13:19:18.259Z"
   },
   {
    "duration": 1863,
    "start_time": "2023-06-02T13:19:22.520Z"
   },
   {
    "duration": 12,
    "start_time": "2023-06-02T13:19:39.198Z"
   },
   {
    "duration": 11,
    "start_time": "2023-06-02T13:19:49.342Z"
   },
   {
    "duration": 1870,
    "start_time": "2023-06-02T13:20:00.414Z"
   },
   {
    "duration": 1590,
    "start_time": "2023-06-02T13:20:06.611Z"
   },
   {
    "duration": 1787,
    "start_time": "2023-06-02T13:20:23.999Z"
   },
   {
    "duration": 124,
    "start_time": "2023-06-02T13:20:25.788Z"
   },
   {
    "duration": 15,
    "start_time": "2023-06-02T13:20:25.913Z"
   },
   {
    "duration": 16,
    "start_time": "2023-06-02T13:20:25.931Z"
   },
   {
    "duration": 7,
    "start_time": "2023-06-02T13:20:25.949Z"
   },
   {
    "duration": 26,
    "start_time": "2023-06-02T13:20:25.958Z"
   },
   {
    "duration": 11,
    "start_time": "2023-06-02T13:20:25.986Z"
   },
   {
    "duration": 10,
    "start_time": "2023-06-02T13:20:25.999Z"
   },
   {
    "duration": 13,
    "start_time": "2023-06-02T13:20:26.012Z"
   },
   {
    "duration": 534,
    "start_time": "2023-06-02T13:20:26.028Z"
   },
   {
    "duration": 0,
    "start_time": "2023-06-02T13:20:26.565Z"
   },
   {
    "duration": 0,
    "start_time": "2023-06-02T13:20:26.566Z"
   },
   {
    "duration": 0,
    "start_time": "2023-06-02T13:20:26.568Z"
   },
   {
    "duration": 0,
    "start_time": "2023-06-02T13:20:26.569Z"
   },
   {
    "duration": 0,
    "start_time": "2023-06-02T13:20:26.570Z"
   },
   {
    "duration": 0,
    "start_time": "2023-06-02T13:20:26.571Z"
   },
   {
    "duration": 0,
    "start_time": "2023-06-02T13:20:26.572Z"
   },
   {
    "duration": 0,
    "start_time": "2023-06-02T13:20:26.573Z"
   },
   {
    "duration": 0,
    "start_time": "2023-06-02T13:20:26.574Z"
   },
   {
    "duration": 0,
    "start_time": "2023-06-02T13:20:26.575Z"
   },
   {
    "duration": 0,
    "start_time": "2023-06-02T13:20:26.576Z"
   },
   {
    "duration": 0,
    "start_time": "2023-06-02T13:20:26.577Z"
   },
   {
    "duration": 0,
    "start_time": "2023-06-02T13:20:26.578Z"
   },
   {
    "duration": 0,
    "start_time": "2023-06-02T13:20:26.579Z"
   },
   {
    "duration": 0,
    "start_time": "2023-06-02T13:20:26.580Z"
   },
   {
    "duration": 0,
    "start_time": "2023-06-02T13:20:26.581Z"
   },
   {
    "duration": 0,
    "start_time": "2023-06-02T13:20:26.582Z"
   },
   {
    "duration": 442,
    "start_time": "2023-06-02T13:21:14.122Z"
   },
   {
    "duration": 420,
    "start_time": "2023-06-02T13:25:05.687Z"
   },
   {
    "duration": 392,
    "start_time": "2023-06-02T13:25:07.893Z"
   },
   {
    "duration": 414,
    "start_time": "2023-06-02T13:25:11.199Z"
   },
   {
    "duration": 334,
    "start_time": "2023-06-02T13:25:14.894Z"
   },
   {
    "duration": 339,
    "start_time": "2023-06-02T13:25:19.059Z"
   },
   {
    "duration": 402,
    "start_time": "2023-06-02T13:25:22.631Z"
   },
   {
    "duration": 426,
    "start_time": "2023-06-02T13:26:03.837Z"
   },
   {
    "duration": 336,
    "start_time": "2023-06-02T13:26:38.530Z"
   },
   {
    "duration": 8,
    "start_time": "2023-06-02T13:26:45.928Z"
   },
   {
    "duration": 311,
    "start_time": "2023-06-02T13:26:48.672Z"
   },
   {
    "duration": 437,
    "start_time": "2023-06-02T13:27:15.694Z"
   },
   {
    "duration": 319,
    "start_time": "2023-06-02T13:27:23.245Z"
   },
   {
    "duration": 1129,
    "start_time": "2023-06-02T13:28:48.279Z"
   },
   {
    "duration": 6,
    "start_time": "2023-06-02T13:35:05.456Z"
   },
   {
    "duration": 70,
    "start_time": "2023-06-02T13:35:05.897Z"
   },
   {
    "duration": 19,
    "start_time": "2023-06-02T13:35:06.510Z"
   },
   {
    "duration": 13,
    "start_time": "2023-06-02T13:35:17.666Z"
   },
   {
    "duration": 8,
    "start_time": "2023-06-02T13:35:17.800Z"
   },
   {
    "duration": 97,
    "start_time": "2023-06-02T13:35:17.968Z"
   },
   {
    "duration": 11,
    "start_time": "2023-06-02T13:35:18.951Z"
   },
   {
    "duration": 70,
    "start_time": "2023-06-02T13:35:19.092Z"
   },
   {
    "duration": 5,
    "start_time": "2023-06-02T13:35:24.867Z"
   },
   {
    "duration": 9838,
    "start_time": "2023-06-02T13:35:25.014Z"
   },
   {
    "duration": 11,
    "start_time": "2023-06-02T13:35:34.857Z"
   },
   {
    "duration": 8643,
    "start_time": "2023-06-02T13:35:41.281Z"
   },
   {
    "duration": 1599,
    "start_time": "2023-06-02T13:36:03.233Z"
   },
   {
    "duration": 59,
    "start_time": "2023-06-02T13:36:04.834Z"
   },
   {
    "duration": 15,
    "start_time": "2023-06-02T13:36:04.895Z"
   },
   {
    "duration": 14,
    "start_time": "2023-06-02T13:36:04.912Z"
   },
   {
    "duration": 8,
    "start_time": "2023-06-02T13:36:04.930Z"
   },
   {
    "duration": 28,
    "start_time": "2023-06-02T13:36:04.939Z"
   },
   {
    "duration": 23,
    "start_time": "2023-06-02T13:36:04.969Z"
   },
   {
    "duration": 33,
    "start_time": "2023-06-02T13:36:04.994Z"
   },
   {
    "duration": 22,
    "start_time": "2023-06-02T13:36:05.029Z"
   },
   {
    "duration": 1274,
    "start_time": "2023-06-02T13:36:05.057Z"
   },
   {
    "duration": 5,
    "start_time": "2023-06-02T13:36:06.334Z"
   },
   {
    "duration": 99,
    "start_time": "2023-06-02T13:36:06.341Z"
   },
   {
    "duration": 25,
    "start_time": "2023-06-02T13:36:06.442Z"
   },
   {
    "duration": 10,
    "start_time": "2023-06-02T13:36:06.471Z"
   },
   {
    "duration": 14,
    "start_time": "2023-06-02T13:36:06.483Z"
   },
   {
    "duration": 53,
    "start_time": "2023-06-02T13:36:06.499Z"
   },
   {
    "duration": 7,
    "start_time": "2023-06-02T13:36:06.555Z"
   },
   {
    "duration": 207,
    "start_time": "2023-06-02T13:36:06.565Z"
   },
   {
    "duration": 18,
    "start_time": "2023-06-02T13:36:06.774Z"
   },
   {
    "duration": 168458,
    "start_time": "2023-06-02T13:36:06.850Z"
   },
   {
    "duration": 7,
    "start_time": "2023-06-02T13:38:55.311Z"
   },
   {
    "duration": 59,
    "start_time": "2023-06-02T13:38:55.320Z"
   },
   {
    "duration": 175,
    "start_time": "2023-06-02T13:38:55.382Z"
   },
   {
    "duration": 3149,
    "start_time": "2023-06-02T13:38:55.559Z"
   },
   {
    "duration": 8,
    "start_time": "2023-06-02T13:38:58.710Z"
   },
   {
    "duration": 379,
    "start_time": "2023-06-02T13:38:58.720Z"
   },
   {
    "duration": 87,
    "start_time": "2023-06-02T13:46:39.980Z"
   },
   {
    "duration": 292,
    "start_time": "2023-06-02T13:47:53.469Z"
   },
   {
    "duration": 1737,
    "start_time": "2023-06-02T13:50:44.215Z"
   },
   {
    "duration": 53,
    "start_time": "2023-06-02T13:50:45.955Z"
   },
   {
    "duration": 14,
    "start_time": "2023-06-02T13:50:46.009Z"
   },
   {
    "duration": 18,
    "start_time": "2023-06-02T13:50:46.025Z"
   },
   {
    "duration": 11,
    "start_time": "2023-06-02T13:50:46.047Z"
   },
   {
    "duration": 24,
    "start_time": "2023-06-02T13:50:46.064Z"
   },
   {
    "duration": 29,
    "start_time": "2023-06-02T13:50:46.090Z"
   },
   {
    "duration": 22,
    "start_time": "2023-06-02T13:50:46.122Z"
   },
   {
    "duration": 24,
    "start_time": "2023-06-02T13:50:46.155Z"
   },
   {
    "duration": 1334,
    "start_time": "2023-06-02T13:50:46.182Z"
   },
   {
    "duration": 7,
    "start_time": "2023-06-02T13:50:47.519Z"
   },
   {
    "duration": 74,
    "start_time": "2023-06-02T13:50:47.528Z"
   },
   {
    "duration": 17,
    "start_time": "2023-06-02T13:50:47.604Z"
   },
   {
    "duration": 26,
    "start_time": "2023-06-02T13:50:47.624Z"
   },
   {
    "duration": 7,
    "start_time": "2023-06-02T13:50:47.653Z"
   },
   {
    "duration": 43,
    "start_time": "2023-06-02T13:50:47.663Z"
   },
   {
    "duration": 4,
    "start_time": "2023-06-02T13:50:47.708Z"
   },
   {
    "duration": 148,
    "start_time": "2023-06-02T13:50:47.714Z"
   },
   {
    "duration": 97,
    "start_time": "2023-06-02T13:50:47.866Z"
   },
   {
    "duration": 159517,
    "start_time": "2023-06-02T13:50:47.965Z"
   },
   {
    "duration": 8,
    "start_time": "2023-06-02T13:53:27.484Z"
   },
   {
    "duration": 31,
    "start_time": "2023-06-02T13:53:27.494Z"
   },
   {
    "duration": 228,
    "start_time": "2023-06-02T13:53:27.527Z"
   },
   {
    "duration": 3143,
    "start_time": "2023-06-02T13:53:27.758Z"
   },
   {
    "duration": 7,
    "start_time": "2023-06-02T13:53:30.903Z"
   },
   {
    "duration": 422,
    "start_time": "2023-06-02T13:53:30.912Z"
   },
   {
    "duration": 5426,
    "start_time": "2023-06-02T14:00:31.167Z"
   },
   {
    "duration": 164,
    "start_time": "2023-06-02T14:00:37.506Z"
   },
   {
    "duration": 14,
    "start_time": "2023-06-02T14:00:43.872Z"
   },
   {
    "duration": 2677,
    "start_time": "2023-06-02T14:00:54.835Z"
   },
   {
    "duration": 1673,
    "start_time": "2023-06-02T14:00:57.515Z"
   },
   {
    "duration": 52,
    "start_time": "2023-06-02T14:00:59.192Z"
   },
   {
    "duration": 25,
    "start_time": "2023-06-02T14:00:59.250Z"
   },
   {
    "duration": 27,
    "start_time": "2023-06-02T14:00:59.277Z"
   },
   {
    "duration": 19,
    "start_time": "2023-06-02T14:00:59.306Z"
   },
   {
    "duration": 27,
    "start_time": "2023-06-02T14:00:59.327Z"
   },
   {
    "duration": 42,
    "start_time": "2023-06-02T14:00:59.356Z"
   },
   {
    "duration": 17,
    "start_time": "2023-06-02T14:00:59.400Z"
   },
   {
    "duration": 10,
    "start_time": "2023-06-02T14:00:59.421Z"
   },
   {
    "duration": 1295,
    "start_time": "2023-06-02T14:00:59.433Z"
   },
   {
    "duration": 4,
    "start_time": "2023-06-02T14:01:00.730Z"
   },
   {
    "duration": 158,
    "start_time": "2023-06-02T14:01:00.736Z"
   },
   {
    "duration": 58,
    "start_time": "2023-06-02T14:01:00.896Z"
   },
   {
    "duration": 60,
    "start_time": "2023-06-02T14:01:00.959Z"
   },
   {
    "duration": 61,
    "start_time": "2023-06-02T14:01:01.021Z"
   },
   {
    "duration": 65,
    "start_time": "2023-06-02T14:01:01.086Z"
   },
   {
    "duration": 43,
    "start_time": "2023-06-02T14:01:01.153Z"
   },
   {
    "duration": 178,
    "start_time": "2023-06-02T14:01:01.198Z"
   },
   {
    "duration": 7,
    "start_time": "2023-06-02T14:01:01.472Z"
   },
   {
    "duration": 189559,
    "start_time": "2023-06-02T14:01:01.481Z"
   },
   {
    "duration": 14,
    "start_time": "2023-06-02T14:04:11.042Z"
   },
   {
    "duration": 76,
    "start_time": "2023-06-02T14:04:11.058Z"
   },
   {
    "duration": 258,
    "start_time": "2023-06-02T14:04:11.135Z"
   },
   {
    "duration": 4434,
    "start_time": "2023-06-02T14:04:11.395Z"
   },
   {
    "duration": 7,
    "start_time": "2023-06-02T14:04:15.831Z"
   },
   {
    "duration": 426,
    "start_time": "2023-06-02T14:04:15.840Z"
   },
   {
    "duration": 181,
    "start_time": "2023-06-02T14:04:16.278Z"
   },
   {
    "duration": 25,
    "start_time": "2023-06-02T14:04:32.865Z"
   },
   {
    "duration": 2486,
    "start_time": "2023-06-02T14:05:18.674Z"
   },
   {
    "duration": 1042,
    "start_time": "2023-06-02T14:05:24.598Z"
   },
   {
    "duration": 9,
    "start_time": "2023-06-02T14:05:43.899Z"
   },
   {
    "duration": 2275,
    "start_time": "2023-06-02T14:05:50.091Z"
   },
   {
    "duration": 100,
    "start_time": "2023-06-02T14:05:52.377Z"
   },
   {
    "duration": 21,
    "start_time": "2023-06-02T14:05:52.487Z"
   },
   {
    "duration": 76,
    "start_time": "2023-06-02T14:05:52.515Z"
   },
   {
    "duration": 59,
    "start_time": "2023-06-02T14:05:52.595Z"
   },
   {
    "duration": 62,
    "start_time": "2023-06-02T14:05:52.659Z"
   },
   {
    "duration": 39,
    "start_time": "2023-06-02T14:05:52.723Z"
   },
   {
    "duration": 71,
    "start_time": "2023-06-02T14:05:52.764Z"
   },
   {
    "duration": 84,
    "start_time": "2023-06-02T14:05:52.837Z"
   },
   {
    "duration": 1496,
    "start_time": "2023-06-02T14:05:52.924Z"
   },
   {
    "duration": 5,
    "start_time": "2023-06-02T14:05:54.422Z"
   },
   {
    "duration": 153,
    "start_time": "2023-06-02T14:05:54.429Z"
   },
   {
    "duration": 20,
    "start_time": "2023-06-02T14:05:54.590Z"
   },
   {
    "duration": 28,
    "start_time": "2023-06-02T14:05:54.614Z"
   },
   {
    "duration": 79,
    "start_time": "2023-06-02T14:05:54.644Z"
   },
   {
    "duration": 82,
    "start_time": "2023-06-02T14:05:54.725Z"
   },
   {
    "duration": 13,
    "start_time": "2023-06-02T14:05:54.809Z"
   },
   {
    "duration": 189,
    "start_time": "2023-06-02T14:05:54.823Z"
   },
   {
    "duration": 3,
    "start_time": "2023-06-02T14:05:55.014Z"
   },
   {
    "duration": 1676,
    "start_time": "2023-06-02T14:07:01.746Z"
   },
   {
    "duration": 74,
    "start_time": "2023-06-02T14:07:03.424Z"
   },
   {
    "duration": 13,
    "start_time": "2023-06-02T14:07:03.500Z"
   },
   {
    "duration": 10,
    "start_time": "2023-06-02T14:07:03.516Z"
   },
   {
    "duration": 7,
    "start_time": "2023-06-02T14:07:03.528Z"
   },
   {
    "duration": 13,
    "start_time": "2023-06-02T14:07:03.536Z"
   },
   {
    "duration": 40,
    "start_time": "2023-06-02T14:07:03.553Z"
   },
   {
    "duration": 12,
    "start_time": "2023-06-02T14:07:03.595Z"
   },
   {
    "duration": 13,
    "start_time": "2023-06-02T14:07:03.609Z"
   },
   {
    "duration": 1204,
    "start_time": "2023-06-02T14:07:03.624Z"
   },
   {
    "duration": 4,
    "start_time": "2023-06-02T14:07:04.830Z"
   },
   {
    "duration": 75,
    "start_time": "2023-06-02T14:07:04.836Z"
   },
   {
    "duration": 16,
    "start_time": "2023-06-02T14:07:04.912Z"
   },
   {
    "duration": 34,
    "start_time": "2023-06-02T14:07:04.930Z"
   },
   {
    "duration": 18,
    "start_time": "2023-06-02T14:07:04.966Z"
   },
   {
    "duration": 34,
    "start_time": "2023-06-02T14:07:04.987Z"
   },
   {
    "duration": 4,
    "start_time": "2023-06-02T14:07:05.023Z"
   },
   {
    "duration": 326,
    "start_time": "2023-06-02T14:07:05.028Z"
   },
   {
    "duration": 5,
    "start_time": "2023-06-02T14:07:05.366Z"
   },
   {
    "duration": 164220,
    "start_time": "2023-06-02T14:07:05.373Z"
   },
   {
    "duration": 7,
    "start_time": "2023-06-02T14:09:49.595Z"
   },
   {
    "duration": 11,
    "start_time": "2023-06-02T14:09:49.604Z"
   },
   {
    "duration": 174,
    "start_time": "2023-06-02T14:09:49.616Z"
   },
   {
    "duration": 3172,
    "start_time": "2023-06-02T14:09:49.791Z"
   },
   {
    "duration": 20,
    "start_time": "2023-06-02T14:09:52.968Z"
   },
   {
    "duration": 511,
    "start_time": "2023-06-02T14:09:52.992Z"
   },
   {
    "duration": 2196,
    "start_time": "2023-06-02T15:09:55.722Z"
   },
   {
    "duration": 48,
    "start_time": "2023-06-02T15:09:57.920Z"
   },
   {
    "duration": 13,
    "start_time": "2023-06-02T15:09:57.970Z"
   },
   {
    "duration": 11,
    "start_time": "2023-06-02T15:09:57.984Z"
   },
   {
    "duration": 8,
    "start_time": "2023-06-02T15:09:57.998Z"
   },
   {
    "duration": 17,
    "start_time": "2023-06-02T15:09:58.008Z"
   },
   {
    "duration": 14,
    "start_time": "2023-06-02T15:09:58.027Z"
   },
   {
    "duration": 25,
    "start_time": "2023-06-02T15:09:58.042Z"
   },
   {
    "duration": 11,
    "start_time": "2023-06-02T15:09:58.069Z"
   },
   {
    "duration": 1056,
    "start_time": "2023-06-02T15:09:58.082Z"
   },
   {
    "duration": 5,
    "start_time": "2023-06-02T15:09:59.140Z"
   },
   {
    "duration": 58,
    "start_time": "2023-06-02T15:09:59.157Z"
   },
   {
    "duration": 41,
    "start_time": "2023-06-02T15:09:59.217Z"
   },
   {
    "duration": 12,
    "start_time": "2023-06-02T15:09:59.262Z"
   },
   {
    "duration": 5,
    "start_time": "2023-06-02T15:09:59.277Z"
   },
   {
    "duration": 32,
    "start_time": "2023-06-02T15:09:59.284Z"
   },
   {
    "duration": 5,
    "start_time": "2023-06-02T15:09:59.317Z"
   },
   {
    "duration": 244,
    "start_time": "2023-06-02T15:09:59.324Z"
   },
   {
    "duration": 88,
    "start_time": "2023-06-02T15:09:59.570Z"
   },
   {
    "duration": 229407,
    "start_time": "2023-06-02T15:09:59.660Z"
   },
   {
    "duration": 12,
    "start_time": "2023-06-02T15:13:49.070Z"
   },
   {
    "duration": 10,
    "start_time": "2023-06-02T15:13:49.084Z"
   },
   {
    "duration": 162,
    "start_time": "2023-06-02T15:13:49.096Z"
   },
   {
    "duration": 4809,
    "start_time": "2023-06-02T15:13:49.260Z"
   },
   {
    "duration": 8,
    "start_time": "2023-06-02T15:13:54.071Z"
   },
   {
    "duration": 896,
    "start_time": "2023-06-02T15:13:54.080Z"
   },
   {
    "duration": 114,
    "start_time": "2023-06-02T15:22:24.128Z"
   },
   {
    "duration": 4,
    "start_time": "2023-06-02T16:08:53.960Z"
   },
   {
    "duration": 45,
    "start_time": "2023-06-02T16:08:55.303Z"
   },
   {
    "duration": 8,
    "start_time": "2023-06-02T16:08:55.469Z"
   },
   {
    "duration": 11,
    "start_time": "2023-06-02T16:08:55.554Z"
   },
   {
    "duration": 8,
    "start_time": "2023-06-02T16:08:55.640Z"
   },
   {
    "duration": 4,
    "start_time": "2023-06-02T16:08:55.720Z"
   },
   {
    "duration": 8,
    "start_time": "2023-06-02T16:08:55.805Z"
   },
   {
    "duration": 9,
    "start_time": "2023-06-02T16:08:55.972Z"
   },
   {
    "duration": 8,
    "start_time": "2023-06-02T16:08:56.058Z"
   },
   {
    "duration": 1135,
    "start_time": "2023-06-02T16:08:57.230Z"
   },
   {
    "duration": 5,
    "start_time": "2023-06-02T16:09:41.731Z"
   },
   {
    "duration": 58,
    "start_time": "2023-06-02T16:09:42.877Z"
   },
   {
    "duration": 15,
    "start_time": "2023-06-02T16:09:44.167Z"
   },
   {
    "duration": 9,
    "start_time": "2023-06-02T16:09:45.499Z"
   },
   {
    "duration": 6,
    "start_time": "2023-06-02T16:09:46.937Z"
   },
   {
    "duration": 32,
    "start_time": "2023-06-02T16:09:56.891Z"
   },
   {
    "duration": 5,
    "start_time": "2023-06-02T16:09:58.097Z"
   },
   {
    "duration": 357,
    "start_time": "2023-06-02T16:10:14.490Z"
   },
   {
    "duration": 3,
    "start_time": "2023-06-02T16:10:27.203Z"
   },
   {
    "duration": 212572,
    "start_time": "2023-06-02T16:13:45.302Z"
   },
   {
    "duration": 10,
    "start_time": "2023-06-02T16:26:18.256Z"
   },
   {
    "duration": 5,
    "start_time": "2023-06-02T16:27:57.964Z"
   },
   {
    "duration": 194,
    "start_time": "2023-06-02T16:27:58.459Z"
   },
   {
    "duration": 4254,
    "start_time": "2023-06-02T16:27:59.519Z"
   },
   {
    "duration": 8,
    "start_time": "2023-06-02T16:28:11.578Z"
   },
   {
    "duration": 6,
    "start_time": "2023-06-02T16:30:34.495Z"
   },
   {
    "duration": 6,
    "start_time": "2023-06-02T16:31:49.039Z"
   },
   {
    "duration": 6,
    "start_time": "2023-06-02T16:31:54.812Z"
   },
   {
    "duration": 6,
    "start_time": "2023-06-02T16:31:57.693Z"
   },
   {
    "duration": 7,
    "start_time": "2023-06-02T16:32:30.799Z"
   },
   {
    "duration": 6,
    "start_time": "2023-06-02T16:32:58.761Z"
   },
   {
    "duration": 269,
    "start_time": "2023-06-02T16:33:28.458Z"
   },
   {
    "duration": 102,
    "start_time": "2023-06-02T16:36:33.438Z"
   },
   {
    "duration": 127,
    "start_time": "2023-06-02T16:40:13.563Z"
   },
   {
    "duration": 1606,
    "start_time": "2023-06-02T16:41:32.892Z"
   },
   {
    "duration": 49,
    "start_time": "2023-06-02T16:41:34.500Z"
   },
   {
    "duration": 13,
    "start_time": "2023-06-02T16:41:34.551Z"
   },
   {
    "duration": 16,
    "start_time": "2023-06-02T16:41:34.566Z"
   },
   {
    "duration": 8,
    "start_time": "2023-06-02T16:41:34.585Z"
   },
   {
    "duration": 16,
    "start_time": "2023-06-02T16:41:34.594Z"
   },
   {
    "duration": 12,
    "start_time": "2023-06-02T16:41:34.612Z"
   },
   {
    "duration": 22,
    "start_time": "2023-06-02T16:41:34.625Z"
   },
   {
    "duration": 11,
    "start_time": "2023-06-02T16:41:34.648Z"
   },
   {
    "duration": 1204,
    "start_time": "2023-06-02T16:41:34.660Z"
   },
   {
    "duration": 6,
    "start_time": "2023-06-02T16:41:35.866Z"
   },
   {
    "duration": 148,
    "start_time": "2023-06-02T16:41:35.873Z"
   },
   {
    "duration": 24,
    "start_time": "2023-06-02T16:41:36.023Z"
   },
   {
    "duration": 11,
    "start_time": "2023-06-02T16:41:36.051Z"
   },
   {
    "duration": 25,
    "start_time": "2023-06-02T16:41:36.065Z"
   },
   {
    "duration": 21,
    "start_time": "2023-06-02T16:41:36.092Z"
   },
   {
    "duration": 36,
    "start_time": "2023-06-02T16:41:36.115Z"
   },
   {
    "duration": 605,
    "start_time": "2023-06-02T16:41:36.153Z"
   },
   {
    "duration": 0,
    "start_time": "2023-06-02T16:41:36.760Z"
   },
   {
    "duration": 0,
    "start_time": "2023-06-02T16:41:36.762Z"
   },
   {
    "duration": 0,
    "start_time": "2023-06-02T16:41:36.765Z"
   },
   {
    "duration": 0,
    "start_time": "2023-06-02T16:41:36.767Z"
   },
   {
    "duration": 0,
    "start_time": "2023-06-02T16:41:36.769Z"
   },
   {
    "duration": 0,
    "start_time": "2023-06-02T16:41:36.770Z"
   },
   {
    "duration": 0,
    "start_time": "2023-06-02T16:41:36.771Z"
   },
   {
    "duration": 0,
    "start_time": "2023-06-02T16:41:36.773Z"
   },
   {
    "duration": 0,
    "start_time": "2023-06-02T16:41:36.775Z"
   },
   {
    "duration": 573,
    "start_time": "2023-06-02T16:42:27.374Z"
   },
   {
    "duration": 5,
    "start_time": "2023-06-02T16:42:35.280Z"
   },
   {
    "duration": 612,
    "start_time": "2023-06-02T16:42:36.167Z"
   },
   {
    "duration": 4,
    "start_time": "2023-06-02T16:42:42.608Z"
   },
   {
    "duration": 168802,
    "start_time": "2023-06-02T16:42:43.189Z"
   },
   {
    "duration": 7,
    "start_time": "2023-06-02T16:45:31.993Z"
   },
   {
    "duration": 43,
    "start_time": "2023-06-02T16:45:32.002Z"
   },
   {
    "duration": 206,
    "start_time": "2023-06-02T16:45:32.047Z"
   },
   {
    "duration": 3813,
    "start_time": "2023-06-02T16:45:32.255Z"
   },
   {
    "duration": 7,
    "start_time": "2023-06-02T16:45:36.070Z"
   },
   {
    "duration": 15,
    "start_time": "2023-06-02T16:45:36.079Z"
   },
   {
    "duration": 367,
    "start_time": "2023-06-02T16:45:36.096Z"
   },
   {
    "duration": 132543,
    "start_time": "2023-06-02T16:45:46.413Z"
   },
   {
    "duration": 10,
    "start_time": "2023-06-02T16:52:26.046Z"
   },
   {
    "duration": 7,
    "start_time": "2023-06-02T16:52:27.843Z"
   },
   {
    "duration": 256,
    "start_time": "2023-06-02T16:52:28.009Z"
   },
   {
    "duration": 4634,
    "start_time": "2023-06-02T16:52:28.347Z"
   },
   {
    "duration": 22,
    "start_time": "2023-06-02T16:52:32.984Z"
   },
   {
    "duration": 11,
    "start_time": "2023-06-02T16:52:33.008Z"
   },
   {
    "duration": 289,
    "start_time": "2023-06-02T16:52:38.489Z"
   },
   {
    "duration": 100,
    "start_time": "2023-06-02T16:52:46.615Z"
   },
   {
    "duration": 4,
    "start_time": "2023-06-02T17:22:41.292Z"
   },
   {
    "duration": 194993,
    "start_time": "2023-06-02T17:26:00.327Z"
   },
   {
    "duration": 195978,
    "start_time": "2023-06-02T17:35:38.747Z"
   },
   {
    "duration": 1489,
    "start_time": "2023-06-02T17:44:00.641Z"
   },
   {
    "duration": 51,
    "start_time": "2023-06-02T17:44:02.133Z"
   },
   {
    "duration": 14,
    "start_time": "2023-06-02T17:44:02.185Z"
   },
   {
    "duration": 16,
    "start_time": "2023-06-02T17:44:02.200Z"
   },
   {
    "duration": 7,
    "start_time": "2023-06-02T17:44:02.218Z"
   },
   {
    "duration": 7,
    "start_time": "2023-06-02T17:44:02.226Z"
   },
   {
    "duration": 19,
    "start_time": "2023-06-02T17:44:02.235Z"
   },
   {
    "duration": 18,
    "start_time": "2023-06-02T17:44:02.256Z"
   },
   {
    "duration": 23,
    "start_time": "2023-06-02T17:44:02.276Z"
   },
   {
    "duration": 1223,
    "start_time": "2023-06-02T17:44:02.301Z"
   },
   {
    "duration": 5,
    "start_time": "2023-06-02T17:44:03.526Z"
   },
   {
    "duration": 142,
    "start_time": "2023-06-02T17:44:03.533Z"
   },
   {
    "duration": 40,
    "start_time": "2023-06-02T17:44:03.677Z"
   },
   {
    "duration": 8,
    "start_time": "2023-06-02T17:44:03.721Z"
   },
   {
    "duration": 26,
    "start_time": "2023-06-02T17:44:03.731Z"
   },
   {
    "duration": 55,
    "start_time": "2023-06-02T17:44:03.759Z"
   },
   {
    "duration": 39,
    "start_time": "2023-06-02T17:44:03.815Z"
   },
   {
    "duration": 390,
    "start_time": "2023-06-02T17:44:03.856Z"
   },
   {
    "duration": 96,
    "start_time": "2023-06-02T17:44:04.250Z"
   },
   {
    "duration": 207,
    "start_time": "2023-06-02T17:44:04.348Z"
   },
   {
    "duration": 7,
    "start_time": "2023-06-02T17:44:04.557Z"
   },
   {
    "duration": 10,
    "start_time": "2023-06-02T17:44:04.566Z"
   },
   {
    "duration": 176,
    "start_time": "2023-06-02T17:44:04.578Z"
   },
   {
    "duration": 3970,
    "start_time": "2023-06-02T17:44:04.756Z"
   },
   {
    "duration": 7,
    "start_time": "2023-06-02T17:44:08.727Z"
   },
   {
    "duration": 37,
    "start_time": "2023-06-02T17:44:08.735Z"
   },
   {
    "duration": 294,
    "start_time": "2023-06-02T17:44:08.774Z"
   },
   {
    "duration": 1361,
    "start_time": "2023-06-02T17:45:48.905Z"
   },
   {
    "duration": 49,
    "start_time": "2023-06-02T17:45:50.269Z"
   },
   {
    "duration": 13,
    "start_time": "2023-06-02T17:45:50.320Z"
   },
   {
    "duration": 27,
    "start_time": "2023-06-02T17:45:50.334Z"
   },
   {
    "duration": 19,
    "start_time": "2023-06-02T17:45:50.363Z"
   },
   {
    "duration": 45,
    "start_time": "2023-06-02T17:45:50.385Z"
   },
   {
    "duration": 35,
    "start_time": "2023-06-02T17:45:50.432Z"
   },
   {
    "duration": 29,
    "start_time": "2023-06-02T17:45:50.469Z"
   },
   {
    "duration": 37,
    "start_time": "2023-06-02T17:45:50.500Z"
   },
   {
    "duration": 1181,
    "start_time": "2023-06-02T17:45:50.539Z"
   },
   {
    "duration": 5,
    "start_time": "2023-06-02T17:45:51.721Z"
   },
   {
    "duration": 159,
    "start_time": "2023-06-02T17:45:51.727Z"
   },
   {
    "duration": 17,
    "start_time": "2023-06-02T17:45:51.888Z"
   },
   {
    "duration": 15,
    "start_time": "2023-06-02T17:45:51.908Z"
   },
   {
    "duration": 21,
    "start_time": "2023-06-02T17:45:51.925Z"
   },
   {
    "duration": 39,
    "start_time": "2023-06-02T17:45:51.948Z"
   },
   {
    "duration": 20,
    "start_time": "2023-06-02T17:45:51.988Z"
   },
   {
    "duration": 438,
    "start_time": "2023-06-02T17:45:52.010Z"
   },
   {
    "duration": 94,
    "start_time": "2023-06-02T17:45:52.452Z"
   },
   {
    "duration": 231,
    "start_time": "2023-06-02T17:45:52.548Z"
   },
   {
    "duration": 7,
    "start_time": "2023-06-02T17:45:52.781Z"
   },
   {
    "duration": 32,
    "start_time": "2023-06-02T17:45:52.790Z"
   },
   {
    "duration": 123,
    "start_time": "2023-06-02T17:45:52.824Z"
   },
   {
    "duration": 3899,
    "start_time": "2023-06-02T17:45:52.950Z"
   },
   {
    "duration": 7,
    "start_time": "2023-06-02T17:45:56.851Z"
   },
   {
    "duration": 10,
    "start_time": "2023-06-02T17:45:56.860Z"
   },
   {
    "duration": 312,
    "start_time": "2023-06-02T17:45:56.871Z"
   },
   {
    "duration": 360671,
    "start_time": "2023-06-02T17:49:33.266Z"
   },
   {
    "duration": 1472,
    "start_time": "2023-06-02T18:03:43.019Z"
   },
   {
    "duration": 47,
    "start_time": "2023-06-02T18:03:44.493Z"
   },
   {
    "duration": 12,
    "start_time": "2023-06-02T18:03:44.542Z"
   },
   {
    "duration": 12,
    "start_time": "2023-06-02T18:03:44.556Z"
   },
   {
    "duration": 8,
    "start_time": "2023-06-02T18:03:44.570Z"
   },
   {
    "duration": 14,
    "start_time": "2023-06-02T18:03:44.579Z"
   },
   {
    "duration": 11,
    "start_time": "2023-06-02T18:03:44.594Z"
   },
   {
    "duration": 8,
    "start_time": "2023-06-02T18:03:44.607Z"
   },
   {
    "duration": 14,
    "start_time": "2023-06-02T18:03:44.617Z"
   },
   {
    "duration": 1073,
    "start_time": "2023-06-02T18:03:44.646Z"
   },
   {
    "duration": 4,
    "start_time": "2023-06-02T18:03:45.721Z"
   },
   {
    "duration": 134,
    "start_time": "2023-06-02T18:03:45.727Z"
   },
   {
    "duration": 13,
    "start_time": "2023-06-02T18:03:45.863Z"
   },
   {
    "duration": 13,
    "start_time": "2023-06-02T18:03:45.877Z"
   },
   {
    "duration": 5,
    "start_time": "2023-06-02T18:03:45.891Z"
   },
   {
    "duration": 13,
    "start_time": "2023-06-02T18:03:45.898Z"
   },
   {
    "duration": 7,
    "start_time": "2023-06-02T18:03:45.913Z"
   },
   {
    "duration": 425,
    "start_time": "2023-06-02T18:03:45.921Z"
   },
   {
    "duration": 3,
    "start_time": "2023-06-02T18:03:46.349Z"
   },
   {
    "duration": 230375,
    "start_time": "2023-06-02T18:03:46.353Z"
   },
   {
    "duration": 7,
    "start_time": "2023-06-02T18:07:36.730Z"
   },
   {
    "duration": 8,
    "start_time": "2023-06-02T18:07:36.738Z"
   },
   {
    "duration": 198,
    "start_time": "2023-06-02T18:07:36.748Z"
   },
   {
    "duration": 3570,
    "start_time": "2023-06-02T18:07:36.948Z"
   },
   {
    "duration": 7,
    "start_time": "2023-06-02T18:07:40.520Z"
   },
   {
    "duration": 22,
    "start_time": "2023-06-02T18:07:40.528Z"
   },
   {
    "duration": 326,
    "start_time": "2023-06-02T18:07:40.551Z"
   },
   {
    "duration": 1534,
    "start_time": "2023-06-02T18:14:33.937Z"
   },
   {
    "duration": 50,
    "start_time": "2023-06-02T18:14:35.473Z"
   },
   {
    "duration": 16,
    "start_time": "2023-06-02T18:14:35.525Z"
   },
   {
    "duration": 37,
    "start_time": "2023-06-02T18:14:35.543Z"
   },
   {
    "duration": 16,
    "start_time": "2023-06-02T18:14:35.583Z"
   },
   {
    "duration": 52,
    "start_time": "2023-06-02T18:14:35.602Z"
   },
   {
    "duration": 57,
    "start_time": "2023-06-02T18:14:35.656Z"
   },
   {
    "duration": 50,
    "start_time": "2023-06-02T18:14:35.715Z"
   },
   {
    "duration": 27,
    "start_time": "2023-06-02T18:14:35.767Z"
   },
   {
    "duration": 1296,
    "start_time": "2023-06-02T18:14:35.796Z"
   },
   {
    "duration": 4,
    "start_time": "2023-06-02T18:14:37.094Z"
   },
   {
    "duration": 139,
    "start_time": "2023-06-02T18:14:37.100Z"
   },
   {
    "duration": 19,
    "start_time": "2023-06-02T18:14:37.241Z"
   },
   {
    "duration": 11,
    "start_time": "2023-06-02T18:14:37.263Z"
   },
   {
    "duration": 13,
    "start_time": "2023-06-02T18:14:37.275Z"
   },
   {
    "duration": 31,
    "start_time": "2023-06-02T18:14:37.290Z"
   },
   {
    "duration": 324,
    "start_time": "2023-06-02T18:14:37.323Z"
   },
   {
    "duration": 10,
    "start_time": "2023-06-02T18:14:37.650Z"
   },
   {
    "duration": 231615,
    "start_time": "2023-06-02T18:14:37.747Z"
   },
   {
    "duration": 8,
    "start_time": "2023-06-02T18:18:29.363Z"
   },
   {
    "duration": 9,
    "start_time": "2023-06-02T18:18:29.372Z"
   },
   {
    "duration": 72,
    "start_time": "2023-06-02T18:18:29.382Z"
   },
   {
    "duration": 4272,
    "start_time": "2023-06-02T18:18:29.457Z"
   },
   {
    "duration": 7,
    "start_time": "2023-06-02T18:18:33.731Z"
   },
   {
    "duration": 45,
    "start_time": "2023-06-02T18:18:33.739Z"
   },
   {
    "duration": 382,
    "start_time": "2023-06-02T18:18:33.785Z"
   },
   {
    "duration": 68,
    "start_time": "2023-06-02T18:18:34.169Z"
   }
  ],
  "kernelspec": {
   "display_name": "Python 3 (ipykernel)",
   "language": "python",
   "name": "python3"
  },
  "language_info": {
   "codemirror_mode": {
    "name": "ipython",
    "version": 3
   },
   "file_extension": ".py",
   "mimetype": "text/x-python",
   "name": "python",
   "nbconvert_exporter": "python",
   "pygments_lexer": "ipython3",
   "version": "3.9.12"
  },
  "toc": {
   "base_numbering": 1,
   "nav_menu": {},
   "number_sections": true,
   "sideBar": true,
   "skip_h1_title": true,
   "title_cell": "Содержание",
   "title_sidebar": "Contents",
   "toc_cell": true,
   "toc_position": {},
   "toc_section_display": true,
   "toc_window_display": false
  }
 },
 "nbformat": 4,
 "nbformat_minor": 2
}
